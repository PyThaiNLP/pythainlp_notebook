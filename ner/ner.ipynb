{
  "nbformat": 4,
  "nbformat_minor": 0,
  "metadata": {
    "colab": {
      "name": "ner.ipynb",
      "version": "0.3.2",
      "views": {},
      "default_view": {},
      "provenance": [],
      "collapsed_sections": []
    },
    "kernelspec": {
      "name": "python3",
      "display_name": "Python 3"
    }
  },
  "cells": [
    {
      "metadata": {
        "id": "2JDTCxy5AI1B",
        "colab_type": "text"
      },
      "cell_type": "markdown",
      "source": [
        "# NER ภาษาไทย\n",
        "\n",
        "เขียนโดย นาย วรรณพงษ์  ภัททิยไพบูลย์\n",
        "\n",
        "นักศึกษาชั้นปีที่ 1 สาขาวิทยาการคอมพิวเตอร์และสารสนเทศ คณะวิทยาศาสตร์ประยุกต์และวิศวกรรมศาสตร์\n",
        "มหาวิทยาลัยขอนแก่น วิทยาเขตหนองคาย\n",
        "\n",
        "ใช้ข้อมูล Nutcha's theses จาก http://pioneer.chula.ac.th/~awirote/Data-Nutcha.zip\n",
        "\n",
        "**ตัวอย่างข้อมูล**\n",
        "\n",
        "ทางด้าน<NEp>นายกมล เจริญเกษ</NEp> ปศุสัตว์<NEl>กำแพงเพชร</NEl> เผยว่า ขณะนี้ทางจังหวัดไม่ต้องประกาศเป็นพื้นที่สีแดง\n",
        "\n"
      ]
    },
    {
      "metadata": {
        "id": "6XPoWpZQAAd-",
        "colab_type": "code",
        "colab": {
          "autoexec": {
            "startup": false,
            "wait_interval": 0
          },
          "base_uri": "https://localhost:8080/",
          "height": 225
        },
        "outputId": "7b706ce6-6f44-467e-bdd9-8d59e59723b3",
        "executionInfo": {
          "status": "ok",
          "timestamp": 1527235004325,
          "user_tz": -420,
          "elapsed": 11119,
          "user": {
            "displayName": "WANNAPHONG PHATTHIYAPHAIBUN",
            "photoUrl": "//lh3.googleusercontent.com/-qu2kLQSWjS0/AAAAAAAAAAI/AAAAAAAAAAo/jIIcIduqDGQ/s50-c-k-no/photo.jpg",
            "userId": "116726292347441604670"
          }
        }
      },
      "cell_type": "code",
      "source": [
        "!wget http://pioneer.chula.ac.th/~awirote/Data-Nutcha.zip"
      ],
      "execution_count": 1,
      "outputs": [
        {
          "output_type": "stream",
          "text": [
            "--2018-05-25 07:56:33--  http://pioneer.chula.ac.th/~awirote/Data-Nutcha.zip\r\n",
            "Resolving pioneer.chula.ac.th (pioneer.chula.ac.th)... 161.200.192.25\n",
            "Connecting to pioneer.chula.ac.th (pioneer.chula.ac.th)|161.200.192.25|:80... connected.\n",
            "HTTP request sent, awaiting response... 200 OK\n",
            "Length: 1526832 (1.5M) [application/zip]\n",
            "Saving to: ‘Data-Nutcha.zip.3’\n",
            "\n",
            "Data-Nutcha.zip.3   100%[===================>]   1.46M   179KB/s    in 9.2s    \n",
            "\n",
            "2018-05-25 07:56:42 (163 KB/s) - ‘Data-Nutcha.zip.3’ saved [1526832/1526832]\n",
            "\n"
          ],
          "name": "stdout"
        }
      ]
    },
    {
      "metadata": {
        "id": "3sNfInJAAIbQ",
        "colab_type": "code",
        "colab": {
          "autoexec": {
            "startup": false,
            "wait_interval": 0
          }
        }
      },
      "cell_type": "code",
      "source": [
        "# แตกไฟล์\n",
        "import zipfile\n",
        "with zipfile.ZipFile(\"Data-Nutcha.zip\",\"r\") as zip_ref:\n",
        "    zip_ref.extractall()"
      ],
      "execution_count": 0,
      "outputs": []
    },
    {
      "metadata": {
        "id": "B-_L0Is8A3l5",
        "colab_type": "code",
        "colab": {
          "autoexec": {
            "startup": false,
            "wait_interval": 0
          },
          "base_uri": "https://localhost:8080/",
          "height": 55
        },
        "outputId": "08a15940-25b4-4d17-ad9a-108c274fdb8d",
        "executionInfo": {
          "status": "ok",
          "timestamp": 1527235007310,
          "user_tz": -420,
          "elapsed": 1706,
          "user": {
            "displayName": "WANNAPHONG PHATTHIYAPHAIBUN",
            "photoUrl": "//lh3.googleusercontent.com/-qu2kLQSWjS0/AAAAAAAAAAI/AAAAAAAAAAo/jIIcIduqDGQ/s50-c-k-no/photo.jpg",
            "userId": "116726292347441604670"
          }
        }
      },
      "cell_type": "code",
      "source": [
        "!ls"
      ],
      "execution_count": 3,
      "outputs": [
        {
          "output_type": "stream",
          "text": [
            "Data\t Data-Nutcha.zip    Data-Nutcha.zip.2  nltk_data\r\n",
            "datalab  Data-Nutcha.zip.1  Data-Nutcha.zip.3\r\n"
          ],
          "name": "stdout"
        }
      ]
    },
    {
      "metadata": {
        "id": "VYaPqOYrBDqz",
        "colab_type": "code",
        "colab": {
          "autoexec": {
            "startup": false,
            "wait_interval": 0
          },
          "base_uri": "https://localhost:8080/",
          "height": 565
        },
        "outputId": "2f262e7c-8075-4631-aa92-248fb4f1603f",
        "executionInfo": {
          "status": "ok",
          "timestamp": 1527235020062,
          "user_tz": -420,
          "elapsed": 12276,
          "user": {
            "displayName": "WANNAPHONG PHATTHIYAPHAIBUN",
            "photoUrl": "//lh3.googleusercontent.com/-qu2kLQSWjS0/AAAAAAAAAAI/AAAAAAAAAAo/jIIcIduqDGQ/s50-c-k-no/photo.jpg",
            "userId": "116726292347441604670"
          }
        }
      },
      "cell_type": "code",
      "source": [
        "!pip3 install  --ignore-installed https://github.com/PyThaiNLP/pythainlp/archive/dev.zip"
      ],
      "execution_count": 4,
      "outputs": [
        {
          "output_type": "stream",
          "text": [
            "Collecting https://github.com/PyThaiNLP/pythainlp/archive/dev.zip\n",
            "\u001b[?25l  Downloading https://github.com/PyThaiNLP/pythainlp/archive/dev.zip (10.6MB)\n",
            "\u001b[K    100% |████████████████████████████████| 10.6MB 4.9MB/s \n",
            "\u001b[?25hCollecting nltk>=3.2.2 (from pythainlp==1.6.0.4)\n",
            "Collecting future>=0.16.0 (from pythainlp==1.6.0.4)\n",
            "Collecting six (from pythainlp==1.6.0.4)\n",
            "  Using cached https://files.pythonhosted.org/packages/67/4b/141a581104b1f6397bfa78ac9d43d8ad29a7ca43ea90a2d863fe3056e86a/six-1.11.0-py2.py3-none-any.whl\n",
            "Collecting marisa_trie (from pythainlp==1.6.0.4)\n",
            "Collecting requests (from pythainlp==1.6.0.4)\n",
            "  Using cached https://files.pythonhosted.org/packages/49/df/50aa1999ab9bde74656c2919d9c0c085fd2b3775fd3eca826012bef76d8c/requests-2.18.4-py2.py3-none-any.whl\n",
            "Collecting dill (from pythainlp==1.6.0.4)\n",
            "Collecting pytz (from pythainlp==1.6.0.4)\n",
            "  Using cached https://files.pythonhosted.org/packages/dc/83/15f7833b70d3e067ca91467ca245bae0f6fe56ddc7451aa0dc5606b120f2/pytz-2018.4-py2.py3-none-any.whl\n",
            "Collecting conllu (from pythainlp==1.6.0.4)\n",
            "Collecting idna<2.7,>=2.5 (from requests->pythainlp==1.6.0.4)\n",
            "  Using cached https://files.pythonhosted.org/packages/27/cc/6dd9a3869f15c2edfab863b992838277279ce92663d334df9ecf5106f5c6/idna-2.6-py2.py3-none-any.whl\n",
            "Collecting certifi>=2017.4.17 (from requests->pythainlp==1.6.0.4)\n",
            "  Using cached https://files.pythonhosted.org/packages/7c/e6/92ad559b7192d846975fc916b65f667c7b8c3a32bea7372340bfe9a15fa5/certifi-2018.4.16-py2.py3-none-any.whl\n",
            "Collecting urllib3<1.23,>=1.21.1 (from requests->pythainlp==1.6.0.4)\n",
            "  Using cached https://files.pythonhosted.org/packages/63/cb/6965947c13a94236f6d4b8223e21beb4d576dc72e8130bd7880f600839b8/urllib3-1.22-py2.py3-none-any.whl\n",
            "Collecting chardet<3.1.0,>=3.0.2 (from requests->pythainlp==1.6.0.4)\n",
            "  Using cached https://files.pythonhosted.org/packages/bc/a9/01ffebfb562e4274b6487b4bb1ddec7ca55ec7510b22e4c51f14098443b8/chardet-3.0.4-py2.py3-none-any.whl\n",
            "Building wheels for collected packages: pythainlp\n",
            "  Running setup.py bdist_wheel for pythainlp ... \u001b[?25l-\b \b\\\b \b|\b \b/\b \b-\b \b\\\b \b|\b \b/\b \b-\b \bdone\n",
            "\u001b[?25h  Stored in directory: /tmp/pip-ephem-wheel-cache-0nqjhk2j/wheels/79/4e/1e/26f3198c6712ecfbee92928ed1dde923a078da3d222401cc78\n",
            "Successfully built pythainlp\n",
            "Installing collected packages: six, nltk, future, marisa-trie, idna, certifi, urllib3, chardet, requests, dill, pytz, conllu, pythainlp\n",
            "Successfully installed certifi-2018.4.16 chardet-3.0.4 conllu-0.9 dill-0.2.7.1 future-0.16.0 idna-2.6 marisa-trie-0.7.5 nltk-3.3 pythainlp-1.6.0.4 pytz-2018.4 requests-2.18.4 six-1.11.0 urllib3-1.22\n"
          ],
          "name": "stdout"
        }
      ]
    },
    {
      "metadata": {
        "id": "_5DVtt7aA6z1",
        "colab_type": "code",
        "colab": {
          "autoexec": {
            "startup": false,
            "wait_interval": 0
          }
        }
      },
      "cell_type": "code",
      "source": [
        "import codecs\n",
        "from pythainlp.tokenize import word_tokenize\n",
        "from pythainlp.tag import pos_tag\n",
        "from nltk.tokenize import RegexpTokenizer\n",
        "import glob\n",
        "import nltk\n",
        "import re"
      ],
      "execution_count": 0,
      "outputs": []
    },
    {
      "metadata": {
        "id": "ZZFyGlTtGFYH",
        "colab_type": "code",
        "colab": {
          "autoexec": {
            "startup": false,
            "wait_interval": 0
          }
        }
      },
      "cell_type": "code",
      "source": [
        "pattern = r'\\<(.*?)\\>(.*?)\\<\\/(.*?)\\>'\n",
        "tokenizer = RegexpTokenizer(pattern) # ใช้ nltk.tokenize.RegexpTokenizer เพื่อตัด <NEl>ไง</NEl> ให้เป็น ('NEl','ไง','NEl')"
      ],
      "execution_count": 0,
      "outputs": []
    },
    {
      "metadata": {
        "id": "jkTQZ1q0Gklj",
        "colab_type": "code",
        "colab": {
          "autoexec": {
            "startup": false,
            "wait_interval": 0
          }
        }
      },
      "cell_type": "code",
      "source": [
        "def toolner_to_tag(text):\n",
        "\ttext=re.sub(\"\\<[A-Z]+\\>\",'',text.strip())\n",
        "\ttext=re.sub(\"\\<\\/[A-Z]+\\>\",'',text)\n",
        "\ttext=re.sub(\"(\\<\\/NE(.*?)\\>)\",\"\\\\1***\",text).replace('<N','***<N')# text.replace('>','>***') # ตัดการกับพวกไม่มี tag word\n",
        "\ttext=text.split('***')\n",
        "\ttext2=[]\n",
        "\tfor i in text:\n",
        "\t\tif \"<NE\" in i:\n",
        "\t\t\ttext2.append(i)\n",
        "\t\telse:\n",
        "\t\t\ttext2.append(\"<word>\"+i+\"</word>\")\n",
        "\ttext=re.sub(\"<word></word>\",\"\",\"\".join(text2))\n",
        "\treturn text"
      ],
      "execution_count": 0,
      "outputs": []
    },
    {
      "metadata": {
        "id": "SmDuy231G93R",
        "colab_type": "code",
        "colab": {
          "autoexec": {
            "startup": false,
            "wait_interval": 0
          }
        }
      },
      "cell_type": "code",
      "source": [
        "def text2conll2002(text):\n",
        "    \"\"\"\n",
        "    ใช้แปลงข้อความให้กลายเป็น conll2002\n",
        "    \"\"\"\n",
        "    text=toolner_to_tag(text)\n",
        "    text=text.replace(\"''\",'\"')\n",
        "    text=text.replace(\"’\",'\"').replace(\"‘\",'\"')#.replace('\"',\"\")\n",
        "    tag=tokenizer.tokenize(text)\n",
        "    j=0\n",
        "    conll2002=\"\"\n",
        "    for tagopen,text,tagclose in tag:\n",
        "        word_cut=word_tokenize(text,engine='newmm')\n",
        "        i=0\n",
        "        txt5=\"\"\n",
        "        while i<len(word_cut):\n",
        "            if word_cut[i]==\"''\" or word_cut[i]=='\"':pass\n",
        "            elif i==0 and tagopen!='word':\n",
        "                txt5+=word_cut[i]\n",
        "                txt5+='\\t'+'B-'+tagopen\n",
        "            elif tagopen!='word':\n",
        "                txt5+=word_cut[i]\n",
        "                txt5+='\\t'+'I-'+tagopen\n",
        "            else:\n",
        "                txt5+=word_cut[i]\n",
        "                txt5+='\\t'+'O'\n",
        "            txt5+='\\n'\n",
        "            #j+=1\n",
        "            i+=1\n",
        "        conll2002+=txt5\n",
        "    return postag(conll2002)"
      ],
      "execution_count": 0,
      "outputs": []
    },
    {
      "metadata": {
        "id": "k2X44yp2HG1X",
        "colab_type": "code",
        "colab": {
          "autoexec": {
            "startup": false,
            "wait_interval": 0
          }
        }
      },
      "cell_type": "code",
      "source": [
        "# ใช้สำหรับกำกับ pos tag เพื่อใช้กับ NER\n",
        "def postag(text):\n",
        "    listtxt=[i for i in text.split('\\n') if i!='']\n",
        "    list_word=[]\n",
        "    for data in listtxt:\n",
        "        list_word.append(data.split('\\t')[0])\n",
        "    #print(text)\n",
        "    list_word=pos_tag(list_word,engine='perceptron')\n",
        "    text=\"\"\n",
        "    i=0\n",
        "    for data in listtxt:\n",
        "        text+=data.split('\\t')[0]+'\\t'+list_word[i][1]+'\\t'+data.split('\\t')[1]+'\\n'\n",
        "        i+=1\n",
        "    return text"
      ],
      "execution_count": 0,
      "outputs": []
    },
    {
      "metadata": {
        "id": "UE4XiKyKHwN-",
        "colab_type": "code",
        "colab": {
          "autoexec": {
            "startup": false,
            "wait_interval": 0
          }
        }
      },
      "cell_type": "code",
      "source": [
        "def get_data(fileopen):\n",
        "\t\"\"\"\n",
        "    สำหรับใช้อ่านทั้งหมดทั้งในไฟล์ทีละรรทัดออกมาเป็น list\n",
        "    \"\"\"\n",
        "\twith codecs.open(fileopen, 'r',encoding='utf8') as f:\n",
        "\t\tlines = f.read().splitlines()\n",
        "\treturn lines"
      ],
      "execution_count": 0,
      "outputs": []
    },
    {
      "metadata": {
        "id": "UcVL6awDH6rR",
        "colab_type": "code",
        "colab": {
          "autoexec": {
            "startup": false,
            "wait_interval": 0
          }
        }
      },
      "cell_type": "code",
      "source": [
        "def alldata(lists):\n",
        "    text=\"\"\n",
        "    for data in lists:\n",
        "        text+=text2conll2002(data)\n",
        "        text+='\\n'\n",
        "    return text"
      ],
      "execution_count": 0,
      "outputs": []
    },
    {
      "metadata": {
        "id": "zq5qxtNcH8SW",
        "colab_type": "code",
        "colab": {
          "autoexec": {
            "startup": false,
            "wait_interval": 0
          }
        }
      },
      "cell_type": "code",
      "source": [
        "def alldata_list(lists):\n",
        "    data_all=[]\n",
        "    for data in lists:\n",
        "        data_num=[]\n",
        "        txt=text2conll2002(data).split('\\n')\n",
        "        for d in txt:\n",
        "            tt=d.split('\\t')\n",
        "            if d!=\"\": data_num.append((tt[0],tt[1],tt[2]))\n",
        "        #print(data_num)\n",
        "        data_all.append(data_num)\n",
        "    #print(data_all)\n",
        "    return data_all"
      ],
      "execution_count": 0,
      "outputs": []
    },
    {
      "metadata": {
        "id": "S_P1Gq6iIA2S",
        "colab_type": "code",
        "colab": {
          "autoexec": {
            "startup": false,
            "wait_interval": 0
          }
        }
      },
      "cell_type": "code",
      "source": [
        "def alldata_list_str(lists):\n",
        "\tstring=\"\"\n",
        "\tfor data in lists:\n",
        "\t\tstring1=\"\"\n",
        "\t\tfor j in data:\n",
        "\t\t\tstring1+=j[0]+\"\t\"+j[1]+\"\t\"+j[2]+\"\\n\"\n",
        "\t\tstring1+=\"\\n\"\n",
        "\t\tstring+=string1\n",
        "\treturn string"
      ],
      "execution_count": 0,
      "outputs": []
    },
    {
      "metadata": {
        "id": "8wP8mKTXIEvu",
        "colab_type": "code",
        "colab": {
          "autoexec": {
            "startup": false,
            "wait_interval": 0
          }
        }
      },
      "cell_type": "code",
      "source": [
        "def write_conll2002(file_name,data):\n",
        "    \"\"\"\n",
        "    ใช้สำหรับเขียนไฟล์\n",
        "    \"\"\"\n",
        "    with codecs.open(file_name, \"w\", \"utf-8-sig\") as temp:\n",
        "        temp.write(data)\n",
        "    return True"
      ],
      "execution_count": 0,
      "outputs": []
    },
    {
      "metadata": {
        "id": "piVfDhF2IKlf",
        "colab_type": "code",
        "colab": {
          "autoexec": {
            "startup": false,
            "wait_interval": 0
          }
        }
      },
      "cell_type": "code",
      "source": [
        "class TrainChunker(nltk.ChunkParserI):\n",
        "    \"\"\"\n",
        "    ใช้ในการ Train และรัน\n",
        "    \"\"\"\n",
        "    def __init__(self, train_sents):\n",
        "        train_data = [[(t,c) for w,t,c in sent] for sent in train_sents]\n",
        "        self.tagger = nltk.UnigramTagger(train_data)#nltk.NaiveBayesClassifier.train(train_data)\n",
        "        self.tagger = nltk.tag.BigramTagger(train_data, backoff=self.tagger)\n",
        "        self.tagger = nltk.tag.TrigramTagger(train_data, backoff=self.tagger)\n",
        "        print(self.tagger.evaluate(train_data))\n",
        "    def parse(self, sentence):\n",
        "        pos_tags = [pos for (word,pos) in sentence]\n",
        "        tagged_pos_tags = self.tagger.tag(pos_tags)#classify(pos_tags)#\n",
        "        chunktags = [chunktag for (pos, chunktag) in tagged_pos_tags]\n",
        "        conlltags = [(word.replace('<space>',' '), pos, chunktag) for ((word,pos),chunktag) in zip(sentence, chunktags)]\n",
        "        #print(conlltags)\n",
        "        return conlltags"
      ],
      "execution_count": 0,
      "outputs": []
    },
    {
      "metadata": {
        "id": "sESpBpgPLg22",
        "colab_type": "code",
        "colab": {
          "autoexec": {
            "startup": false,
            "wait_interval": 0
          }
        }
      },
      "cell_type": "code",
      "source": [
        "def run(lists):\n",
        "    \"\"\"\n",
        "    ใช้ในการทดสอบ NER\n",
        "    \"\"\"\n",
        "    data=lists\n",
        "    tag=TrainChunker(data)\n",
        "    while True:\n",
        "        texts=input(\"Text : \")\n",
        "        toword=word_tokenize(texts,engine='newmm')\n",
        "        pos=pos_tag(toword,engine='perceptron')\n",
        "        ner=tag.parse(pos)\n",
        "        print([(word, chunktag) for (word,pos,chunktag) in ner])"
      ],
      "execution_count": 0,
      "outputs": []
    },
    {
      "metadata": {
        "id": "2mVxtfwTLj_E",
        "colab_type": "code",
        "colab": {
          "autoexec": {
            "startup": false,
            "wait_interval": 0
          }
        }
      },
      "cell_type": "code",
      "source": [
        "def get_data_tag(listd):\n",
        "\tlist_all=[]\n",
        "\tc=[]\n",
        "\tfor i in listd:\n",
        "\t\tif i !='':\n",
        "\t\t\tc.append((i.split(\"\t\")[0],i.split(\"\t\")[1],i.split(\"\t\")[2]))\n",
        "\t\telse:\n",
        "\t\t\tlist_all.append(c)\n",
        "\t\t\tc=[]\n",
        "\treturn list_all"
      ],
      "execution_count": 0,
      "outputs": []
    },
    {
      "metadata": {
        "id": "GH73VAzoLlP4",
        "colab_type": "code",
        "colab": {
          "autoexec": {
            "startup": false,
            "wait_interval": 0
          },
          "base_uri": "https://localhost:8080/",
          "height": 36
        },
        "outputId": "fa3bdd5b-018d-4cba-e009-c26b18560d0e",
        "executionInfo": {
          "status": "ok",
          "timestamp": 1527235043359,
          "user_tz": -420,
          "elapsed": 1860,
          "user": {
            "displayName": "WANNAPHONG PHATTHIYAPHAIBUN",
            "photoUrl": "//lh3.googleusercontent.com/-qu2kLQSWjS0/AAAAAAAAAAI/AAAAAAAAAAo/jIIcIduqDGQ/s50-c-k-no/photo.jpg",
            "userId": "116726292347441604670"
          }
        }
      },
      "cell_type": "code",
      "source": [
        "!ls Data\\"
      ],
      "execution_count": 18,
      "outputs": [
        {
          "output_type": "stream",
          "text": [
            "SSG  Tags Inserted  WSG\r\n"
          ],
          "name": "stdout"
        }
      ]
    },
    {
      "metadata": {
        "id": "RsFYuxK8MDoR",
        "colab_type": "code",
        "colab": {
          "autoexec": {
            "startup": false,
            "wait_interval": 0
          },
          "base_uri": "https://localhost:8080/",
          "height": 36
        },
        "outputId": "db7179dd-c4fd-498f-ca59-1104d0d426b7",
        "executionInfo": {
          "status": "ok",
          "timestamp": 1527235045240,
          "user_tz": -420,
          "elapsed": 1820,
          "user": {
            "displayName": "WANNAPHONG PHATTHIYAPHAIBUN",
            "photoUrl": "//lh3.googleusercontent.com/-qu2kLQSWjS0/AAAAAAAAAAI/AAAAAAAAAAo/jIIcIduqDGQ/s50-c-k-no/photo.jpg",
            "userId": "116726292347441604670"
          }
        }
      },
      "cell_type": "code",
      "source": [
        "!ls Data/"
      ],
      "execution_count": 19,
      "outputs": [
        {
          "output_type": "stream",
          "text": [
            "SSG  Tags Inserted  WSG\r\n"
          ],
          "name": "stdout"
        }
      ]
    },
    {
      "metadata": {
        "id": "UpGImxo_MF1u",
        "colab_type": "code",
        "colab": {
          "autoexec": {
            "startup": false,
            "wait_interval": 0
          },
          "base_uri": "https://localhost:8080/",
          "height": 36
        },
        "outputId": "731ca0a8-9adf-457e-d82b-bd4fd5a72552",
        "executionInfo": {
          "status": "ok",
          "timestamp": 1527235047178,
          "user_tz": -420,
          "elapsed": 1897,
          "user": {
            "displayName": "WANNAPHONG PHATTHIYAPHAIBUN",
            "photoUrl": "//lh3.googleusercontent.com/-qu2kLQSWjS0/AAAAAAAAAAI/AAAAAAAAAAo/jIIcIduqDGQ/s50-c-k-no/photo.jpg",
            "userId": "116726292347441604670"
          }
        }
      },
      "cell_type": "code",
      "source": [
        "!ls Data\\"
      ],
      "execution_count": 20,
      "outputs": [
        {
          "output_type": "stream",
          "text": [
            "SSG  Tags Inserted  WSG\r\n"
          ],
          "name": "stdout"
        }
      ]
    },
    {
      "metadata": {
        "id": "uPxgVGe3NTNN",
        "colab_type": "code",
        "colab": {
          "autoexec": {
            "startup": false,
            "wait_interval": 0
          },
          "base_uri": "https://localhost:8080/",
          "height": 168
        },
        "outputId": "0501f0af-21bd-4b43-8c0f-5beca985ea40",
        "executionInfo": {
          "status": "ok",
          "timestamp": 1527235717623,
          "user_tz": -420,
          "elapsed": 669245,
          "user": {
            "displayName": "WANNAPHONG PHATTHIYAPHAIBUN",
            "photoUrl": "//lh3.googleusercontent.com/-qu2kLQSWjS0/AAAAAAAAAAI/AAAAAAAAAAo/jIIcIduqDGQ/s50-c-k-no/photo.jpg",
            "userId": "116726292347441604670"
          }
        }
      },
      "cell_type": "code",
      "source": [
        "list_file=glob.glob('Data/Tags Inserted/*.txt')\n",
        "for i in list_file:\n",
        "  print(i)\n",
        "  listdata=get_data(i)\n",
        "  datatofile=alldata_list_str(alldata_list(listdata))\n",
        "  write_conll2002(i+\".tag\",datatofile)"
      ],
      "execution_count": 21,
      "outputs": [
        {
          "output_type": "stream",
          "text": [
            "Data/Tags Inserted/news_00002-dws.txt\n",
            "Data/Tags Inserted/news_00007-dws.txt\n",
            "Data/Tags Inserted/news_00004-dws.txt\n",
            "Data/Tags Inserted/news_00001-dws.txt\n",
            "Data/Tags Inserted/news_00005-dws.txt\n",
            "Data/Tags Inserted/news_00008-dws.txt\n",
            "Data/Tags Inserted/news_00003-dws.txt\n",
            "Data/Tags Inserted/news_00006-dws.txt\n"
          ],
          "name": "stdout"
        }
      ]
    },
    {
      "metadata": {
        "id": "yEG3SAexV_9h",
        "colab_type": "code",
        "colab": {
          "autoexec": {
            "startup": false,
            "wait_interval": 0
          },
          "base_uri": "https://localhost:8080/",
          "height": 168
        },
        "outputId": "63975b26-2949-4201-d159-4589b1c79c1a",
        "executionInfo": {
          "status": "ok",
          "timestamp": 1527235792216,
          "user_tz": -420,
          "elapsed": 758,
          "user": {
            "displayName": "WANNAPHONG PHATTHIYAPHAIBUN",
            "photoUrl": "//lh3.googleusercontent.com/-qu2kLQSWjS0/AAAAAAAAAAI/AAAAAAAAAAo/jIIcIduqDGQ/s50-c-k-no/photo.jpg",
            "userId": "116726292347441604670"
          }
        }
      },
      "cell_type": "code",
      "source": [
        "list_file=glob.glob('Data/Tags Inserted/*.tag')\n",
        "listalll=[]\n",
        "for i in list_file:\n",
        "  print(i)\n",
        "  listdata=get_data(i)\n",
        "  datatofile=get_data_tag(listdata)\n",
        "  listalll.extend(datatofile)"
      ],
      "execution_count": 22,
      "outputs": [
        {
          "output_type": "stream",
          "text": [
            "Data/Tags Inserted/news_00005-dws.txt.tag\n",
            "Data/Tags Inserted/news_00007-dws.txt.tag\n",
            "Data/Tags Inserted/news_00002-dws.txt.tag\n",
            "Data/Tags Inserted/news_00006-dws.txt.tag\n",
            "Data/Tags Inserted/news_00008-dws.txt.tag\n",
            "Data/Tags Inserted/news_00003-dws.txt.tag\n",
            "Data/Tags Inserted/news_00001-dws.txt.tag\n",
            "Data/Tags Inserted/news_00004-dws.txt.tag\n"
          ],
          "name": "stdout"
        }
      ]
    },
    {
      "metadata": {
        "id": "RwQV2FvcWOMY",
        "colab_type": "code",
        "colab": {
          "autoexec": {
            "startup": false,
            "wait_interval": 0
          },
          "base_uri": "https://localhost:8080/",
          "height": 36
        },
        "outputId": "128e96dd-b49f-419f-ef4e-23c5a6f61084",
        "executionInfo": {
          "status": "ok",
          "timestamp": 1527235919511,
          "user_tz": -420,
          "elapsed": 2321,
          "user": {
            "displayName": "WANNAPHONG PHATTHIYAPHAIBUN",
            "photoUrl": "//lh3.googleusercontent.com/-qu2kLQSWjS0/AAAAAAAAAAI/AAAAAAAAAAo/jIIcIduqDGQ/s50-c-k-no/photo.jpg",
            "userId": "116726292347441604670"
          }
        }
      },
      "cell_type": "code",
      "source": [
        "tag=TrainChunker(listalll) # Train"
      ],
      "execution_count": 25,
      "outputs": [
        {
          "output_type": "stream",
          "text": [
            "0.8886517326656473\n"
          ],
          "name": "stdout"
        }
      ]
    },
    {
      "metadata": {
        "id": "4zuu48_RW9kZ",
        "colab_type": "code",
        "colab": {
          "autoexec": {
            "startup": false,
            "wait_interval": 0
          }
        }
      },
      "cell_type": "code",
      "source": [
        "def run2(data,tag):\n",
        "    \"\"\"\n",
        "    ใช้ในการทดสอบ NER\n",
        "    \"\"\"\n",
        "    toword=word_tokenize(data,engine='newmm')\n",
        "    pos=pos_tag(toword,engine='perceptron')\n",
        "    ner=tag.parse(pos)\n",
        "    print([(word, chunktag) for (word,pos,chunktag) in ner])"
      ],
      "execution_count": 0,
      "outputs": []
    },
    {
      "metadata": {
        "id": "snBzQYoyW_BO",
        "colab_type": "code",
        "colab": {
          "autoexec": {
            "startup": false,
            "wait_interval": 0
          },
          "base_uri": "https://localhost:8080/",
          "height": 36
        },
        "outputId": "264fefe5-a913-409e-8715-8121b75a7a56",
        "executionInfo": {
          "status": "ok",
          "timestamp": 1527236026541,
          "user_tz": -420,
          "elapsed": 731,
          "user": {
            "displayName": "WANNAPHONG PHATTHIYAPHAIBUN",
            "photoUrl": "//lh3.googleusercontent.com/-qu2kLQSWjS0/AAAAAAAAAAI/AAAAAAAAAAo/jIIcIduqDGQ/s50-c-k-no/photo.jpg",
            "userId": "116726292347441604670"
          }
        }
      },
      "cell_type": "code",
      "source": [
        "run2(\"ผมเป็นนักศึกษามหาวิทยาลัยขอนแก่น\",tag)"
      ],
      "execution_count": 27,
      "outputs": [
        {
          "output_type": "stream",
          "text": [
            "[('ผม', 'O'), ('เป็น', 'O'), ('นักศึกษา', 'O'), ('มหาวิทยาลัยขอนแก่น', 'B-NEl')]\n"
          ],
          "name": "stdout"
        }
      ]
    },
    {
      "metadata": {
        "id": "qYq2xDGKXHeI",
        "colab_type": "code",
        "colab": {
          "autoexec": {
            "startup": false,
            "wait_interval": 0
          },
          "base_uri": "https://localhost:8080/",
          "height": 36
        },
        "outputId": "fcc1f57b-0594-40d1-d6fd-0a8f502db42d",
        "executionInfo": {
          "status": "ok",
          "timestamp": 1527236049406,
          "user_tz": -420,
          "elapsed": 713,
          "user": {
            "displayName": "WANNAPHONG PHATTHIYAPHAIBUN",
            "photoUrl": "//lh3.googleusercontent.com/-qu2kLQSWjS0/AAAAAAAAAAI/AAAAAAAAAAo/jIIcIduqDGQ/s50-c-k-no/photo.jpg",
            "userId": "116726292347441604670"
          }
        }
      },
      "cell_type": "code",
      "source": [
        "run2(\"ผมเรียนที่มหาวิทยาลัยขอนแก่นวิทยาเขตหนองคาย\",tag)"
      ],
      "execution_count": 28,
      "outputs": [
        {
          "output_type": "stream",
          "text": [
            "[('ผม', 'O'), ('เรียน', 'O'), ('ที่', 'O'), ('มหาวิทยาลัยขอนแก่น', 'B-NEl'), ('วิทยาเขต', 'I-NEl'), ('หนองคาย', 'I-NEl')]\n"
          ],
          "name": "stdout"
        }
      ]
    },
    {
      "metadata": {
        "id": "11Og4M3NXQxS",
        "colab_type": "code",
        "colab": {
          "autoexec": {
            "startup": false,
            "wait_interval": 0
          },
          "base_uri": "https://localhost:8080/",
          "height": 36
        },
        "outputId": "d64869df-77b6-4a35-898e-01ef4fb452f6",
        "executionInfo": {
          "status": "ok",
          "timestamp": 1527236138790,
          "user_tz": -420,
          "elapsed": 953,
          "user": {
            "displayName": "WANNAPHONG PHATTHIYAPHAIBUN",
            "photoUrl": "//lh3.googleusercontent.com/-qu2kLQSWjS0/AAAAAAAAAAI/AAAAAAAAAAo/jIIcIduqDGQ/s50-c-k-no/photo.jpg",
            "userId": "116726292347441604670"
          }
        }
      },
      "cell_type": "code",
      "source": [
        "run2(\"ผมเดินทางไปจังหวัดขอนแก่น\",tag)"
      ],
      "execution_count": 33,
      "outputs": [
        {
          "output_type": "stream",
          "text": [
            "[('ผม', 'O'), ('เดินทาง', 'O'), ('ไป', 'O'), ('จังหวัด', 'O'), ('ขอนแก่น', 'O')]\n"
          ],
          "name": "stdout"
        }
      ]
    },
    {
      "metadata": {
        "id": "Gh7vxKVHX1cQ",
        "colab_type": "code",
        "colab": {
          "autoexec": {
            "startup": false,
            "wait_interval": 0
          },
          "base_uri": "https://localhost:8080/",
          "height": 36
        },
        "outputId": "0f322e02-8c54-43c2-cc9a-fd4d25e43706",
        "executionInfo": {
          "status": "ok",
          "timestamp": 1527239485114,
          "user_tz": -420,
          "elapsed": 1401,
          "user": {
            "displayName": "WANNAPHONG PHATTHIYAPHAIBUN",
            "photoUrl": "//lh3.googleusercontent.com/-qu2kLQSWjS0/AAAAAAAAAAI/AAAAAAAAAAo/jIIcIduqDGQ/s50-c-k-no/photo.jpg",
            "userId": "116726292347441604670"
          }
        }
      },
      "cell_type": "code",
      "source": [
        "run2(\"ประเทศไทยมีนโยบายที่เรียกว่าไทยแลนด์ 4.0\",tag)"
      ],
      "execution_count": 39,
      "outputs": [
        {
          "output_type": "stream",
          "text": [
            "[('ประเทศไทย', 'B-NElo'), ('มี', 'O'), ('นโยบาย', 'O'), ('ที่', 'O'), ('เรียก', 'O'), ('ว่า', 'O'), ('ไทยแลนด์', 'O'), (' ', 'O'), ('4.0', 'O')]\n"
          ],
          "name": "stdout"
        }
      ]
    },
    {
      "metadata": {
        "id": "IN3iQHWFYDEW",
        "colab_type": "code",
        "colab": {
          "autoexec": {
            "startup": false,
            "wait_interval": 0
          },
          "base_uri": "https://localhost:8080/",
          "height": 36
        },
        "outputId": "5b9c5d70-4564-4342-900d-a9552a627f41",
        "executionInfo": {
          "status": "ok",
          "timestamp": 1527236301015,
          "user_tz": -420,
          "elapsed": 1338,
          "user": {
            "displayName": "WANNAPHONG PHATTHIYAPHAIBUN",
            "photoUrl": "//lh3.googleusercontent.com/-qu2kLQSWjS0/AAAAAAAAAAI/AAAAAAAAAAo/jIIcIduqDGQ/s50-c-k-no/photo.jpg",
            "userId": "116726292347441604670"
          }
        }
      },
      "cell_type": "code",
      "source": [
        "run2(\"ประเทศไทยมีประชาธิปไตยมาแล้วกี่ปี\",tag)"
      ],
      "execution_count": 35,
      "outputs": [
        {
          "output_type": "stream",
          "text": [
            "[('ประเทศไทย', 'B-NElo'), ('มี', 'O'), ('ประชาธิปไตย', 'O'), ('มา', 'O'), ('แล้ว', 'O'), ('กี่', 'O'), ('ปี', 'O')]\n"
          ],
          "name": "stdout"
        }
      ]
    },
    {
      "metadata": {
        "id": "T1PgdgNWYL_I",
        "colab_type": "code",
        "colab": {
          "autoexec": {
            "startup": false,
            "wait_interval": 0
          },
          "base_uri": "https://localhost:8080/",
          "height": 36
        },
        "outputId": "df2dae8b-0d6a-483b-830c-327ca05ab3c2",
        "executionInfo": {
          "status": "ok",
          "timestamp": 1527236364692,
          "user_tz": -420,
          "elapsed": 727,
          "user": {
            "displayName": "WANNAPHONG PHATTHIYAPHAIBUN",
            "photoUrl": "//lh3.googleusercontent.com/-qu2kLQSWjS0/AAAAAAAAAAI/AAAAAAAAAAo/jIIcIduqDGQ/s50-c-k-no/photo.jpg",
            "userId": "116726292347441604670"
          }
        }
      },
      "cell_type": "code",
      "source": [
        "run2(\"ประเทศมาเลเซียเพิ่งมีการเลือกตั้งไป\",tag)"
      ],
      "execution_count": 38,
      "outputs": [
        {
          "output_type": "stream",
          "text": [
            "[('ประเทศ', 'O'), ('มาเลเซีย', 'O'), ('เพิ่ง', 'O'), ('มี', 'O'), ('การเลือกตั้ง', 'O'), ('ไป', 'O')]\n"
          ],
          "name": "stdout"
        }
      ]
    },
    {
      "metadata": {
        "id": "KT0A0d2GIUQS",
        "colab_type": "code",
        "colab": {
          "autoexec": {
            "startup": false,
            "wait_interval": 0
          }
        }
      },
      "cell_type": "code",
      "source": [
        "run2(\"ทางด้านนายกมล เจริญเกษ ปศุสัตว์กำแพงเพชร เผยว่า ขณะนี้ทางจังหวัดไม่ต้องประกาศเป็นพื้นที่สีแดง\",tag)"
      ],
      "execution_count": 0,
      "outputs": []
    },
    {
      "metadata": {
        "id": "8KGITReVa1y7",
        "colab_type": "text"
      },
      "cell_type": "markdown",
      "source": [
        "# ทดลอง ?\n",
        "\n",
        "- ลองเปลี่ยนตัวตัดคำจาก newmm ของ PyThaiNLP เป็นตัวอื่น ๆ เช่น deepcut\n",
        "สำหรับ PyThaiNLP อ่านเอกสารได้ที่ https://github.com/PyThaiNLP/pythainlp/blob/dev/docs/pythainlp-1-6-thai.md#word_tokenize\n",
        "\n",
        "- ลอง build ฐานข้อมูล NER ขึ้นมา แล้วปรับแต่ง regex ให้เข้ากับฐานข้อมูล\n",
        "\n",
        "- โค้ดนี้รองรับการเปลี่ยนตัวตัดคำแต่ยังสามารถใช้ข้อมูลเดิมได้\n",
        "\n",
        "-  ปรับเป็น NaiveBayesClassifier"
      ]
    }
  ]
}