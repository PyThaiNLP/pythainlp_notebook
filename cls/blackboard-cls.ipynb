{
 "cells": [
  {
   "cell_type": "code",
   "execution_count": 1,
   "metadata": {},
   "outputs": [],
   "source": [
    "import pandas as pd\n",
    "from pathlib import Path\n",
    "import os\n",
    "from sklearn.model_selection import train_test_split"
   ]
  },
  {
   "cell_type": "code",
   "execution_count": 2,
   "metadata": {},
   "outputs": [],
   "source": [
    "train = Path(os.path.join('.','blackboard-treebank','thai10'))"
   ]
  },
  {
   "cell_type": "code",
   "execution_count": 3,
   "metadata": {},
   "outputs": [
    {
     "data": {
      "text/plain": [
       "25"
      ]
     },
     "execution_count": 3,
     "metadata": {},
     "output_type": "execute_result"
    }
   ],
   "source": [
    "# ใน train มี 7 พันไฟล์.  เอาที่เป็น \".xxx\" ออก # โค้ดจาก https://colab.research.google.com/drive/1Ur-p2yQBf5JsUJbJJlZsm2VqNPY8gIkL\n",
    "train_files = [f for f in sorted(train.iterdir()) if not f.name.startswith('.')]\n",
    "len(train_files)"
   ]
  },
  {
   "cell_type": "code",
   "execution_count": 4,
   "metadata": {},
   "outputs": [],
   "source": [
    "def readfile(path):\n",
    "    _data = []\n",
    "    with open(path,'r',encoding=\"utf-8-sig\") as f:\n",
    "        _temp = [i for i in f.read().split(\"\\n\\n\") if i != '']\n",
    "    for j in _temp:\n",
    "        _temp_data = []\n",
    "        for i in j.split(\"\\n\"):\n",
    "            if i.startswith(\"#\") == False:\n",
    "                _t = i.strip().split(\"\\t\")\n",
    "                _temp_data.append((_t[1],_t[3]))\n",
    "        _data.extend(_temp_data)\n",
    "    return _data"
   ]
  },
  {
   "cell_type": "code",
   "execution_count": 5,
   "metadata": {},
   "outputs": [],
   "source": [
    "train_data_temp = []"
   ]
  },
  {
   "cell_type": "code",
   "execution_count": 6,
   "metadata": {},
   "outputs": [],
   "source": [
    "for file in train_files:\n",
    "    train_data_temp.append(readfile(file))"
   ]
  },
  {
   "cell_type": "code",
   "execution_count": 7,
   "metadata": {},
   "outputs": [
    {
     "data": {
      "text/plain": [
       "25"
      ]
     },
     "execution_count": 7,
     "metadata": {},
     "output_type": "execute_result"
    }
   ],
   "source": [
    "len(train_data_temp)"
   ]
  },
  {
   "cell_type": "code",
   "execution_count": 8,
   "metadata": {},
   "outputs": [],
   "source": [
    "def make_cls(index):\n",
    "    _data=[]\n",
    "    tag=\"\"\n",
    "    j = len(index)\n",
    "    i=0\n",
    "    _temp=[]\n",
    "    pre=None\n",
    "    while i<j:\n",
    "        if _temp==[]:\n",
    "            pre=list(index[i])+[\"B_CLS\"]\n",
    "            _temp.append(pre)\n",
    "        elif index[i]==('$$', '$$'):\n",
    "            pre[-1]='E_CLS'\n",
    "            _temp[-1]=pre\n",
    "            _data.append(_temp)\n",
    "            _temp=[]\n",
    "        elif i+1==j:\n",
    "            pre[-1]='E_CLS'\n",
    "            _data.append(_temp)\n",
    "            _temp=[]\n",
    "        else:\n",
    "            pre=list(index[i])+[\"I_CLS\"]\n",
    "            _temp.append(pre)\n",
    "        i+=1\n",
    "    return _data"
   ]
  },
  {
   "cell_type": "code",
   "execution_count": 9,
   "metadata": {},
   "outputs": [],
   "source": [
    "train_data = []\n",
    "\n",
    "for file in train_data_temp:\n",
    "    train_data.extend(make_cls(file))"
   ]
  },
  {
   "cell_type": "code",
   "execution_count": 10,
   "metadata": {},
   "outputs": [
    {
     "data": {
      "text/plain": [
       "91700"
      ]
     },
     "execution_count": 10,
     "metadata": {},
     "output_type": "execute_result"
    }
   ],
   "source": [
    "len(train_data)"
   ]
  },
  {
   "cell_type": "code",
   "execution_count": 11,
   "metadata": {},
   "outputs": [],
   "source": [
    "def doc2features(doc, i):\n",
    "    word = doc[i][0]\n",
    "    postag = doc[i][1]\n",
    "    # Features from current word\n",
    "    features={\n",
    "        'word.curr_word': word,\n",
    "        'word.curr_isspace':word.isspace(),\n",
    "        'word.curr_postag':postag,\n",
    "        'word.curr_isdigit': word.isdigit()\n",
    "    }\n",
    "    if i > 0:\n",
    "        prevword = doc[i-1][0]\n",
    "        postag1 = doc[i-1][1]\n",
    "        features['word.prev_word'] = prevword\n",
    "        features['word.prev_isspace']=prevword.isspace()\n",
    "        features['word.prev_postag'] = postag1\n",
    "        features['word.prev_isdigit'] = prevword.isdigit()\n",
    "    else:\n",
    "        features['BOS'] = True # Special \"Beginning of Sequence\" tag\n",
    "    # Features from next word\n",
    "    if i < len(doc)-1:\n",
    "        nextword = doc[i+1][0]\n",
    "        postag1 = doc[i+1][1]\n",
    "        features['word.next_word'] = nextword\n",
    "        features['word.next_isspace']=nextword.isspace()\n",
    "        features['word.next_postag'] = postag1\n",
    "        features['word.next_isdigit'] = nextword.isdigit()\n",
    "    else:\n",
    "        features['EOS'] = True # Special \"End of Sequence\" tag\n",
    "    return features\n",
    "\n",
    "def extract_features(doc):\n",
    "    return [doc2features(doc, i) for i in range(len(doc))]\n",
    "\n",
    "def get_labels(doc):\n",
    "    return [tag for (token,postag,tag) in doc]"
   ]
  },
  {
   "cell_type": "code",
   "execution_count": 12,
   "metadata": {},
   "outputs": [
    {
     "name": "stderr",
     "output_type": "stream",
     "text": [
      "/home/wannaphong/.pyenv/versions/ai/lib/python3.12/site-packages/tqdm/auto.py:21: TqdmWarning: IProgress not found. Please update jupyter and ipywidgets. See https://ipywidgets.readthedocs.io/en/stable/user_install.html\n",
      "  from .autonotebook import tqdm as notebook_tqdm\n"
     ]
    }
   ],
   "source": [
    "from tqdm.auto import tqdm"
   ]
  },
  {
   "cell_type": "code",
   "execution_count": 13,
   "metadata": {},
   "outputs": [],
   "source": [
    "train_data,test_data=train_test_split(train_data,test_size=0.1,random_state=10)"
   ]
  },
  {
   "cell_type": "code",
   "execution_count": 14,
   "metadata": {},
   "outputs": [
    {
     "name": "stderr",
     "output_type": "stream",
     "text": [
      "100%|██████████| 82530/82530 [00:01<00:00, 68004.56it/s] \n",
      "100%|██████████| 82530/82530 [00:00<00:00, 510279.73it/s]\n"
     ]
    }
   ],
   "source": [
    "X_data = [extract_features(doc) for doc in tqdm(train_data)]\n",
    "y_data = [get_labels(doc) for doc in tqdm(train_data)]"
   ]
  },
  {
   "cell_type": "code",
   "execution_count": 15,
   "metadata": {},
   "outputs": [],
   "source": [
    "import pycrfsuite"
   ]
  },
  {
   "cell_type": "code",
   "execution_count": 16,
   "metadata": {},
   "outputs": [
    {
     "name": "stdout",
     "output_type": "stream",
     "text": [
      "CPU times: user 3.67 s, sys: 79.9 ms, total: 3.75 s\n",
      "Wall time: 3.75 s\n"
     ]
    }
   ],
   "source": [
    "%%time\n",
    "trainer = pycrfsuite.Trainer(verbose=False)\n",
    "\n",
    "for xseq, yseq in zip(X_data, y_data):\n",
    "    try:\n",
    "      trainer.append(xseq, yseq)\n",
    "    except:\n",
    "      print(xseq, yseq)"
   ]
  },
  {
   "cell_type": "code",
   "execution_count": 17,
   "metadata": {},
   "outputs": [],
   "source": [
    "trainer.set_params({\n",
    "    'c1': 0.1,   # coefficient for L1 penalty\n",
    "    'c2': 0.1,  # coefficient for L2 penalty\n",
    "    'max_iterations': 500,  # stop earlier\n",
    "\n",
    "    # include transitions that are possible, but not observed\n",
    "    'feature.possible_transitions': True\n",
    "})"
   ]
  },
  {
   "cell_type": "code",
   "execution_count": 18,
   "metadata": {},
   "outputs": [
    {
     "name": "stdout",
     "output_type": "stream",
     "text": [
      "CPU times: user 11.6 s, sys: 13.4 ms, total: 11.6 s\n",
      "Wall time: 11.6 s\n"
     ]
    }
   ],
   "source": [
    "%%time\n",
    "trainer.train('blackboard-cls-v1.1.crfsuite')"
   ]
  },
  {
   "cell_type": "code",
   "execution_count": 19,
   "metadata": {},
   "outputs": [],
   "source": [
    "from sklearn.preprocessing import LabelBinarizer\n",
    "from sklearn.metrics import classification_report\n",
    "from itertools import chain\n",
    "def bio_classification_report(y_true, y_pred):\n",
    "    \"\"\"\n",
    "    Classification report for a list of BIO-encoded sequences.\n",
    "    It computes token-level metrics and discards \"O\" labels.\n",
    "    \n",
    "    Note that it requires scikit-learn 0.15+ (or a version from github master)\n",
    "    to calculate averages properly!\n",
    "    \"\"\"\n",
    "    lb = LabelBinarizer()\n",
    "    y_true_combined = lb.fit_transform(list(chain.from_iterable(y_true)))\n",
    "    y_pred_combined = lb.transform(list(chain.from_iterable(y_pred)))\n",
    "        \n",
    "    tagset = set(lb.classes_) - {'O'}\n",
    "    tagset = sorted(tagset, key=lambda tag: tag.split('-', 1)[::-1])\n",
    "    class_indices = {cls: idx for idx, cls in enumerate(lb.classes_)}\n",
    "    \n",
    "    return classification_report(\n",
    "        y_true_combined,\n",
    "        y_pred_combined,\n",
    "        labels = [class_indices[cls] for cls in tagset],\n",
    "        target_names = tagset,\n",
    "    )"
   ]
  },
  {
   "cell_type": "code",
   "execution_count": 20,
   "metadata": {},
   "outputs": [
    {
     "name": "stderr",
     "output_type": "stream",
     "text": [
      "  0%|          | 0/9170 [00:00<?, ?it/s]"
     ]
    },
    {
     "name": "stderr",
     "output_type": "stream",
     "text": [
      "100%|██████████| 9170/9170 [00:00<00:00, 148802.08it/s]\n",
      "100%|██████████| 9170/9170 [00:00<00:00, 636310.16it/s]\n"
     ]
    }
   ],
   "source": [
    "X_test = [extract_features(doc) for doc in tqdm(test_data)]\n",
    "y_test = [get_labels(doc) for doc in tqdm(test_data)]"
   ]
  },
  {
   "cell_type": "code",
   "execution_count": 21,
   "metadata": {},
   "outputs": [
    {
     "data": {
      "text/plain": [
       "<contextlib.closing at 0x76447941ef90>"
      ]
     },
     "execution_count": 21,
     "metadata": {},
     "output_type": "execute_result"
    }
   ],
   "source": [
    "tagger = pycrfsuite.Tagger()\n",
    "tagger.open('blackboard-cls-v1.1.crfsuite')"
   ]
  },
  {
   "cell_type": "code",
   "execution_count": 22,
   "metadata": {},
   "outputs": [
    {
     "name": "stdout",
     "output_type": "stream",
     "text": [
      "CPU times: user 172 ms, sys: 938 μs, total: 172 ms\n",
      "Wall time: 172 ms\n"
     ]
    }
   ],
   "source": [
    "%%time\n",
    "y_pred = [tagger.tag(xseq) for xseq in X_test]"
   ]
  },
  {
   "cell_type": "code",
   "execution_count": 23,
   "metadata": {},
   "outputs": [
    {
     "data": {
      "text/plain": [
       "['แต่',\n",
       " 'บังเอิญ',\n",
       " 'ว่า',\n",
       " 'ช่วง',\n",
       " 'ที่',\n",
       " 'ใช้',\n",
       " 'หอก',\n",
       " 'ทมิฬ',\n",
       " 'แทง',\n",
       " 'ทมิฬ',\n",
       " 'และ',\n",
       " 'เชื่อ',\n",
       " 'ว่า',\n",
       " 'ปัจจุบัน',\n",
       " 'ฮิซโบเลาะห์',\n",
       " 'น่า',\n",
       " 'จะ',\n",
       " 'มี',\n",
       " 'ขีปนาวุธ']"
      ]
     },
     "execution_count": 23,
     "metadata": {},
     "output_type": "execute_result"
    }
   ],
   "source": [
    "[i['word.curr_word'] for i in X_test[-20]+X_test[-19]]"
   ]
  },
  {
   "cell_type": "code",
   "execution_count": 24,
   "metadata": {},
   "outputs": [
    {
     "data": {
      "text/plain": [
       "[{'word.curr_word': 'ว่า',\n",
       "  'word.curr_isspace': False,\n",
       "  'word.curr_postag': 'CC',\n",
       "  'word.curr_isdigit': False,\n",
       "  'BOS': True,\n",
       "  'word.next_word': 'ไม่',\n",
       "  'word.next_isspace': False,\n",
       "  'word.next_postag': 'NG',\n",
       "  'word.next_isdigit': False},\n",
       " {'word.curr_word': 'ไม่',\n",
       "  'word.curr_isspace': False,\n",
       "  'word.curr_postag': 'NG',\n",
       "  'word.curr_isdigit': False,\n",
       "  'word.prev_word': 'ว่า',\n",
       "  'word.prev_isspace': False,\n",
       "  'word.prev_postag': 'CC',\n",
       "  'word.prev_isdigit': False,\n",
       "  'word.next_word': 'ติดใจ',\n",
       "  'word.next_isspace': False,\n",
       "  'word.next_postag': 'VV',\n",
       "  'word.next_isdigit': False},\n",
       " {'word.curr_word': 'ติดใจ',\n",
       "  'word.curr_isspace': False,\n",
       "  'word.curr_postag': 'VV',\n",
       "  'word.curr_isdigit': False,\n",
       "  'word.prev_word': 'ไม่',\n",
       "  'word.prev_isspace': False,\n",
       "  'word.prev_postag': 'NG',\n",
       "  'word.prev_isdigit': False,\n",
       "  'EOS': True}]"
      ]
     },
     "execution_count": 24,
     "metadata": {},
     "output_type": "execute_result"
    }
   ],
   "source": [
    "X_test[0]"
   ]
  },
  {
   "cell_type": "code",
   "execution_count": 25,
   "metadata": {},
   "outputs": [
    {
     "data": {
      "text/plain": [
       "['B_CLS',\n",
       " 'I_CLS',\n",
       " 'I_CLS',\n",
       " 'I_CLS',\n",
       " 'I_CLS',\n",
       " 'I_CLS',\n",
       " 'I_CLS',\n",
       " 'I_CLS',\n",
       " 'I_CLS',\n",
       " 'E_CLS',\n",
       " 'B_CLS',\n",
       " 'I_CLS',\n",
       " 'I_CLS',\n",
       " 'I_CLS',\n",
       " 'I_CLS',\n",
       " 'I_CLS',\n",
       " 'I_CLS',\n",
       " 'I_CLS',\n",
       " 'E_CLS']"
      ]
     },
     "execution_count": 25,
     "metadata": {},
     "output_type": "execute_result"
    }
   ],
   "source": [
    "tagger.tag(X_test[-20]+X_test[-19])"
   ]
  },
  {
   "cell_type": "code",
   "execution_count": 26,
   "metadata": {},
   "outputs": [],
   "source": [
    "labels = list(tagger.info().labels.keys())"
   ]
  },
  {
   "cell_type": "code",
   "execution_count": 27,
   "metadata": {},
   "outputs": [],
   "source": [
    "from sklearn.metrics import f1_score"
   ]
  },
  {
   "cell_type": "code",
   "execution_count": 28,
   "metadata": {},
   "outputs": [
    {
     "name": "stdout",
     "output_type": "stream",
     "text": [
      "              precision    recall  f1-score   support\n",
      "\n",
      "       B_CLS       1.00      1.00      1.00      9170\n",
      "       E_CLS       1.00      1.00      1.00      9170\n",
      "       I_CLS       1.00      1.00      1.00     70427\n",
      "\n",
      "   micro avg       1.00      1.00      1.00     88767\n",
      "   macro avg       1.00      1.00      1.00     88767\n",
      "weighted avg       1.00      1.00      1.00     88767\n",
      " samples avg       1.00      1.00      1.00     88767\n",
      "\n"
     ]
    }
   ],
   "source": [
    "print(bio_classification_report(y_test, y_pred))"
   ]
  },
  {
   "cell_type": "code",
   "execution_count": null,
   "metadata": {},
   "outputs": [],
   "source": []
  }
 ],
 "metadata": {
  "kernelspec": {
   "display_name": "ai",
   "language": "python",
   "name": "python3"
  },
  "language_info": {
   "codemirror_mode": {
    "name": "ipython",
    "version": 3
   },
   "file_extension": ".py",
   "mimetype": "text/x-python",
   "name": "python",
   "nbconvert_exporter": "python",
   "pygments_lexer": "ipython3",
   "version": "3.12.3"
  }
 },
 "nbformat": 4,
 "nbformat_minor": 4
}
