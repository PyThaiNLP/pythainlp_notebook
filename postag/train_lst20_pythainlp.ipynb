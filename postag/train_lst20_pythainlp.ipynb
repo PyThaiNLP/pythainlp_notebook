{
 "cells": [
  {
   "cell_type": "code",
   "execution_count": 1,
   "metadata": {},
   "outputs": [],
   "source": [
    "import pandas as pd\n",
    "from pathlib import Path"
   ]
  },
  {
   "cell_type": "code",
   "execution_count": 2,
   "metadata": {},
   "outputs": [],
   "source": [
    "train = Path('train')"
   ]
  },
  {
   "cell_type": "code",
   "execution_count": 3,
   "metadata": {},
   "outputs": [],
   "source": [
    "test = Path('test')"
   ]
  },
  {
   "cell_type": "code",
   "execution_count": 4,
   "metadata": {},
   "outputs": [
    {
     "data": {
      "text/plain": [
       "3794"
      ]
     },
     "execution_count": 4,
     "metadata": {},
     "output_type": "execute_result"
    }
   ],
   "source": [
    "# ใน train มี 7 พันไฟล์.  เอาที่เป็น \".xxx\" ออก # โค้ดจาก https://colab.research.google.com/drive/1Ur-p2yQBf5JsUJbJJlZsm2VqNPY8gIkL\n",
    "train_files = [f for f in train.iterdir() if not f.name.startswith('.')]\n",
    "len(train_files)"
   ]
  },
  {
   "cell_type": "code",
   "execution_count": 5,
   "metadata": {},
   "outputs": [
    {
     "data": {
      "text/plain": [
       "483"
      ]
     },
     "execution_count": 5,
     "metadata": {},
     "output_type": "execute_result"
    }
   ],
   "source": [
    "# ใน train มี 7 พันไฟล์.  เอาที่เป็น \".xxx\" ออก\n",
    "test_files = [f for f in test.iterdir() if not f.name.startswith('.')]\n",
    "len(test_files)"
   ]
  },
  {
   "cell_type": "code",
   "execution_count": 6,
   "metadata": {},
   "outputs": [
    {
     "data": {
      "text/plain": [
       "[]"
      ]
     },
     "execution_count": 6,
     "metadata": {},
     "output_type": "execute_result"
    }
   ],
   "source": [
    "list(set(train_files) & set(test_files)) # หาไฟล์ซ้ำ"
   ]
  },
  {
   "cell_type": "code",
   "execution_count": 7,
   "metadata": {},
   "outputs": [],
   "source": [
    "def readfile(path):\n",
    "    _data = []\n",
    "    with open(path,'r',encoding=\"utf-8-sig\") as f:\n",
    "        _temp = [i for i in f.read().split(\"\\n\\n\") if i != '']\n",
    "    for j in _temp:\n",
    "        _temp_data = []\n",
    "        for i in j.split(\"\\n\"):\n",
    "            _t = i.strip().split(\"\\t\")\n",
    "            _temp_data.append((_t[0],_t[1]))\n",
    "        _data.append(_temp_data)\n",
    "    return _data"
   ]
  },
  {
   "cell_type": "code",
   "execution_count": 60,
   "metadata": {},
   "outputs": [],
   "source": [
    "#readfile(train_files[0])"
   ]
  },
  {
   "cell_type": "code",
   "execution_count": 61,
   "metadata": {},
   "outputs": [],
   "source": [
    "#readfile(test_files[0])"
   ]
  },
  {
   "cell_type": "code",
   "execution_count": 8,
   "metadata": {},
   "outputs": [],
   "source": [
    "train_data = []"
   ]
  },
  {
   "cell_type": "code",
   "execution_count": 9,
   "metadata": {},
   "outputs": [],
   "source": [
    "for file in train_files:\n",
    "    train_data.extend(readfile(file))"
   ]
  },
  {
   "cell_type": "code",
   "execution_count": 10,
   "metadata": {},
   "outputs": [
    {
     "data": {
      "text/plain": [
       "63310"
      ]
     },
     "execution_count": 10,
     "metadata": {},
     "output_type": "execute_result"
    }
   ],
   "source": [
    "len(train_data)"
   ]
  },
  {
   "cell_type": "code",
   "execution_count": 11,
   "metadata": {},
   "outputs": [
    {
     "data": {
      "text/plain": [
       "False"
      ]
     },
     "execution_count": 11,
     "metadata": {},
     "output_type": "execute_result"
    }
   ],
   "source": [
    "'' in train_data"
   ]
  },
  {
   "cell_type": "code",
   "execution_count": 12,
   "metadata": {},
   "outputs": [],
   "source": [
    "#train_data[1000]"
   ]
  },
  {
   "cell_type": "code",
   "execution_count": 13,
   "metadata": {},
   "outputs": [],
   "source": [
    "test_data = []"
   ]
  },
  {
   "cell_type": "code",
   "execution_count": 14,
   "metadata": {},
   "outputs": [],
   "source": [
    "for file in test_files:\n",
    "    test_data.extend(readfile(file))"
   ]
  },
  {
   "cell_type": "code",
   "execution_count": 15,
   "metadata": {},
   "outputs": [
    {
     "data": {
      "text/plain": [
       "5250"
      ]
     },
     "execution_count": 15,
     "metadata": {},
     "output_type": "execute_result"
    }
   ],
   "source": [
    "len(test_data)"
   ]
  },
  {
   "cell_type": "code",
   "execution_count": 16,
   "metadata": {},
   "outputs": [],
   "source": [
    "import nltk"
   ]
  },
  {
   "cell_type": "code",
   "execution_count": 17,
   "metadata": {},
   "outputs": [],
   "source": [
    "unigram_tagger = nltk.tag.UnigramTagger(train_data)"
   ]
  },
  {
   "cell_type": "code",
   "execution_count": 18,
   "metadata": {},
   "outputs": [
    {
     "name": "stdout",
     "output_type": "stream",
     "text": [
      "Accuracy :  0.9203002730632291\n"
     ]
    }
   ],
   "source": [
    "print(\"Accuracy : \", unigram_tagger.evaluate(test_data))"
   ]
  },
  {
   "cell_type": "code",
   "execution_count": 19,
   "metadata": {},
   "outputs": [
    {
     "name": "stderr",
     "output_type": "stream",
     "text": [
      "D:\\anaconda3\\lib\\site-packages\\sklearn\\metrics\\_classification.py:1272: UndefinedMetricWarning: Recall and F-score are ill-defined and being set to 0.0 in labels with no true samples. Use `zero_division` parameter to control this behavior.\n",
      "  _warn_prf(average, modifier, msg_start, len(result))\n"
     ]
    },
    {
     "name": "stdout",
     "output_type": "stream",
     "text": [
      "              precision    recall  f1-score   support\n",
      "\n",
      "          AJ       0.84      0.79      0.82      4403\n",
      "          AV       0.74      0.70      0.72      6722\n",
      "          AX       0.91      0.94      0.92      7556\n",
      "          CC       0.86      0.97      0.91     17613\n",
      "          CL       0.68      0.66      0.67      3739\n",
      "          FX       0.98      0.98      0.98      6918\n",
      "          IJ       1.00      0.50      0.67         4\n",
      "          NG       1.00      1.00      1.00      1694\n",
      "          NN       0.97      0.90      0.93     58568\n",
      "          NU       0.98      0.92      0.95      6256\n",
      "        None       0.00      0.00      0.00         0\n",
      "          PA       0.80      0.90      0.85       194\n",
      "          PR       0.81      0.88      0.84      2139\n",
      "          PS       0.89      0.87      0.88     10886\n",
      "          PU       1.00      1.00      1.00     37973\n",
      "          VV       0.95      0.93      0.94     42586\n",
      "          XX       0.00      0.00      0.00        27\n",
      "\n",
      "    accuracy                           0.92    207278\n",
      "   macro avg       0.79      0.76      0.77    207278\n",
      "weighted avg       0.94      0.92      0.93    207278\n",
      "\n"
     ]
    }
   ],
   "source": [
    "tagged_test_sentences = unigram_tagger.tag_sents([[token for token,tag in sent] for sent in test_data])\n",
    "gold = [str(tag) for sentence in test_data for token,tag in sentence]\n",
    "pred = [str(tag) for sentence in tagged_test_sentences for token,tag in sentence]\n",
    "from sklearn import metrics\n",
    "print(metrics.classification_report(gold, pred))"
   ]
  },
  {
   "cell_type": "code",
   "execution_count": 29,
   "metadata": {},
   "outputs": [],
   "source": [
    "pt_tagger = nltk.tag.PerceptronTagger(load=False)\n",
    "pt_tagger.train(train_data)"
   ]
  },
  {
   "cell_type": "code",
   "execution_count": 30,
   "metadata": {},
   "outputs": [
    {
     "name": "stdout",
     "output_type": "stream",
     "text": [
      "Accuracy :  0.9623404316907728\n"
     ]
    }
   ],
   "source": [
    "print(\"Accuracy : \", pt_tagger.evaluate(test_data))"
   ]
  },
  {
   "cell_type": "code",
   "execution_count": 58,
   "metadata": {},
   "outputs": [
    {
     "name": "stdout",
     "output_type": "stream",
     "text": [
      "              precision    recall  f1-score   support\n",
      "\n",
      "          AJ       0.90      0.86      0.88      4403\n",
      "          AV       0.88      0.79      0.83      6722\n",
      "          AX       0.95      0.94      0.95      7556\n",
      "          CC       0.94      0.97      0.95     17613\n",
      "          CL       0.87      0.85      0.86      3739\n",
      "          FX       0.99      0.99      0.99      6918\n",
      "          IJ       0.00      0.00      0.00         4\n",
      "          NG       1.00      1.00      1.00      1694\n",
      "          NN       0.97      0.98      0.97     58568\n",
      "          NU       0.98      0.98      0.98      6256\n",
      "          PA       0.84      0.87      0.86       194\n",
      "          PR       0.87      0.85      0.86      2139\n",
      "          PS       0.94      0.93      0.94     10886\n",
      "          PU       1.00      1.00      1.00     37973\n",
      "          VV       0.95      0.97      0.96     42586\n",
      "          XX       0.00      0.00      0.00        27\n",
      "\n",
      "    accuracy                           0.96    207278\n",
      "   macro avg       0.82      0.81      0.81    207278\n",
      "weighted avg       0.96      0.96      0.96    207278\n",
      "\n"
     ]
    }
   ],
   "source": [
    "tagged_test_sentences = pt_tagger.tag_sents([[token for token,tag in sent] for sent in test_data])\n",
    "gold = [str(tag) for sentence in test_data for token,tag in sentence]\n",
    "pred = [str(tag) for sentence in tagged_test_sentences for token,tag in sentence]\n",
    "from sklearn import metrics\n",
    "print(metrics.classification_report(gold, pred))"
   ]
  },
  {
   "cell_type": "code",
   "execution_count": 20,
   "metadata": {},
   "outputs": [],
   "source": [
    "import pickle"
   ]
  },
  {
   "cell_type": "code",
   "execution_count": 35,
   "metadata": {},
   "outputs": [],
   "source": [
    "# Store data (serialize)\n",
    "with open('lst20_pt_tagger.pkl', 'wb') as handle:\n",
    "    pickle.dump(pt_tagger, handle, protocol=pickle.HIGHEST_PROTOCOL)"
   ]
  },
  {
   "cell_type": "code",
   "execution_count": 21,
   "metadata": {},
   "outputs": [],
   "source": [
    "import json\n",
    "unigram_tagger_json= json.dumps(unigram_tagger._context_to_tag, ensure_ascii=False)"
   ]
  },
  {
   "cell_type": "code",
   "execution_count": 22,
   "metadata": {},
   "outputs": [],
   "source": [
    "# Store data (serialize)\n",
    "with open('lst20_unigram_tagger.json', 'w',encoding = \"utf-8-sig\") as f:\n",
    "    f.write(unigram_tagger_json)"
   ]
  },
  {
   "cell_type": "code",
   "execution_count": null,
   "metadata": {},
   "outputs": [],
   "source": []
  }
 ],
 "metadata": {
  "kernelspec": {
   "display_name": "Python 3",
   "language": "python",
   "name": "python3"
  },
  "language_info": {
   "codemirror_mode": {
    "name": "ipython",
    "version": 3
   },
   "file_extension": ".py",
   "mimetype": "text/x-python",
   "name": "python",
   "nbconvert_exporter": "python",
   "pygments_lexer": "ipython3",
   "version": "3.7.6"
  }
 },
 "nbformat": 4,
 "nbformat_minor": 4
}
