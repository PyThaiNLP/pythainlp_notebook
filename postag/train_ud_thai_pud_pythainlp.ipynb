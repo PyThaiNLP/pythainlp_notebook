{
  "nbformat": 4,
  "nbformat_minor": 0,
  "metadata": {
    "colab": {
      "name": "train_ud_thai-pud_pythainlp.ipynb",
      "version": "0.3.2",
      "views": {},
      "default_view": {},
      "provenance": [],
      "collapsed_sections": []
    },
    "kernelspec": {
      "name": "python3",
      "display_name": "Python 3"
    }
  },
  "cells": [
    {
      "metadata": {
        "id": "NwyMw59Ihnt-",
        "colab_type": "code",
        "colab": {
          "autoexec": {
            "startup": false,
            "wait_interval": 0
          },
          "base_uri": "https://localhost:8080/",
          "height": 394
        },
        "outputId": "63ec0270-5762-4ad5-fd56-bf7fd28a8c85",
        "executionInfo": {
          "status": "ok",
          "timestamp": 1523765938166,
          "user_tz": -420,
          "elapsed": 2838,
          "user": {
            "displayName": "WANNAPHONG PHATTHIYAPHAIBUN",
            "photoUrl": "//lh3.googleusercontent.com/-qu2kLQSWjS0/AAAAAAAAAAI/AAAAAAAAAAo/jIIcIduqDGQ/s50-c-k-no/photo.jpg",
            "userId": "116726292347441604670"
          }
        }
      },
      "cell_type": "code",
      "source": [
        "!wget https://github.com/UniversalDependencies/UD_Thai-PUD/blob/master/th_pud-ud-test.conllu?raw=true"
      ],
      "execution_count": 1,
      "outputs": [
        {
          "output_type": "stream",
          "text": [
            "--2018-04-15 04:18:57--  https://github.com/UniversalDependencies/UD_Thai-PUD/blob/master/th_pud-ud-test.conllu?raw=true\r\n",
            "Resolving github.com (github.com)... 192.30.253.113, 192.30.253.112\r\n",
            "Connecting to github.com (github.com)|192.30.253.113|:443... connected.\n",
            "HTTP request sent, awaiting response... 302 Found\n",
            "Location: https://github.com/UniversalDependencies/UD_Thai-PUD/raw/master/th_pud-ud-test.conllu [following]\n",
            "--2018-04-15 04:18:57--  https://github.com/UniversalDependencies/UD_Thai-PUD/raw/master/th_pud-ud-test.conllu\n",
            "Reusing existing connection to github.com:443.\n",
            "HTTP request sent, awaiting response... 302 Found\n",
            "Location: https://raw.githubusercontent.com/UniversalDependencies/UD_Thai-PUD/master/th_pud-ud-test.conllu [following]\n",
            "--2018-04-15 04:18:57--  https://raw.githubusercontent.com/UniversalDependencies/UD_Thai-PUD/master/th_pud-ud-test.conllu\n",
            "Resolving raw.githubusercontent.com (raw.githubusercontent.com)... 151.101.200.133\n",
            "Connecting to raw.githubusercontent.com (raw.githubusercontent.com)|151.101.200.133|:443... connected.\n",
            "HTTP request sent, awaiting response... 200 OK\n",
            "Length: 1611517 (1.5M) [text/plain]\n",
            "Saving to: ‘th_pud-ud-test.conllu?raw=true.1’\n",
            "\n",
            "th_pud-ud-test.conl 100%[===================>]   1.54M  6.17MB/s    in 0.2s    \n",
            "\n",
            "2018-04-15 04:18:57 (6.17 MB/s) - ‘th_pud-ud-test.conllu?raw=true.1’ saved [1611517/1611517]\n",
            "\n"
          ],
          "name": "stdout"
        }
      ]
    },
    {
      "metadata": {
        "id": "wZ4BpgHWiw7g",
        "colab_type": "code",
        "colab": {
          "autoexec": {
            "startup": false,
            "wait_interval": 0
          },
          "base_uri": "https://localhost:8080/",
          "height": 168
        },
        "outputId": "75bf6e1e-c479-44df-b6e5-2908e66ea3d9",
        "executionInfo": {
          "status": "ok",
          "timestamp": 1523766213988,
          "user_tz": -420,
          "elapsed": 5100,
          "user": {
            "displayName": "WANNAPHONG PHATTHIYAPHAIBUN",
            "photoUrl": "//lh3.googleusercontent.com/-qu2kLQSWjS0/AAAAAAAAAAI/AAAAAAAAAAo/jIIcIduqDGQ/s50-c-k-no/photo.jpg",
            "userId": "116726292347441604670"
          }
        }
      },
      "cell_type": "code",
      "source": [
        "!pip install conllu"
      ],
      "execution_count": 7,
      "outputs": [
        {
          "output_type": "stream",
          "text": [
            "Collecting conllu\n",
            "  Downloading conllu-0.9.tar.gz\n",
            "Building wheels for collected packages: conllu\n",
            "  Running setup.py bdist_wheel for conllu ... \u001b[?25l-\b \bdone\n",
            "\u001b[?25h  Stored in directory: /content/.cache/pip/wheels/f1/cc/00/6e76942c5ee38c3c1184f272d78ea1858d6b98ed36b0062e10\n",
            "Successfully built conllu\n",
            "Installing collected packages: conllu\n",
            "Successfully installed conllu-0.9\n"
          ],
          "name": "stdout"
        }
      ]
    },
    {
      "metadata": {
        "id": "zRLHt9uii082",
        "colab_type": "code",
        "colab": {
          "autoexec": {
            "startup": false,
            "wait_interval": 0
          }
        }
      },
      "cell_type": "code",
      "source": [
        "with open('th_pud-ud-test.conllu?raw=true.1', 'r') as f:\n",
        "  text=f.read()"
      ],
      "execution_count": 0,
      "outputs": []
    },
    {
      "metadata": {
        "id": "B_V09WRcjItw",
        "colab_type": "code",
        "colab": {
          "autoexec": {
            "startup": false,
            "wait_interval": 0
          }
        }
      },
      "cell_type": "code",
      "source": [
        "from conllu import parse, parse_tree\n",
        "t=parse(text)"
      ],
      "execution_count": 0,
      "outputs": []
    },
    {
      "metadata": {
        "id": "tOg91jOejUJo",
        "colab_type": "code",
        "colab": {
          "autoexec": {
            "startup": false,
            "wait_interval": 0
          },
          "base_uri": "https://localhost:8080/",
          "height": 36
        },
        "outputId": "7d55097b-1c6b-4965-f3cb-ae5c5f627529",
        "executionInfo": {
          "status": "ok",
          "timestamp": 1523766895872,
          "user_tz": -420,
          "elapsed": 1722,
          "user": {
            "displayName": "WANNAPHONG PHATTHIYAPHAIBUN",
            "photoUrl": "//lh3.googleusercontent.com/-qu2kLQSWjS0/AAAAAAAAAAI/AAAAAAAAAAo/jIIcIduqDGQ/s50-c-k-no/photo.jpg",
            "userId": "116726292347441604670"
          }
        }
      },
      "cell_type": "code",
      "source": [
        "print(t[1][0]['upostag'])"
      ],
      "execution_count": 19,
      "outputs": [
        {
          "output_type": "stream",
          "text": [
            "ADP\n"
          ],
          "name": "stdout"
        }
      ]
    },
    {
      "metadata": {
        "id": "jZ9vrYkQkNrQ",
        "colab_type": "code",
        "colab": {
          "autoexec": {
            "startup": false,
            "wait_interval": 0
          }
        }
      },
      "cell_type": "code",
      "source": [
        "data=[]"
      ],
      "execution_count": 0,
      "outputs": []
    },
    {
      "metadata": {
        "id": "_C3xB0FUkPl0",
        "colab_type": "code",
        "colab": {
          "autoexec": {
            "startup": false,
            "wait_interval": 0
          },
          "base_uri": "https://localhost:8080/",
          "height": 36
        },
        "outputId": "65786534-8d7f-48c2-c35e-b15d98d240cd",
        "executionInfo": {
          "status": "ok",
          "timestamp": 1523766597312,
          "user_tz": -420,
          "elapsed": 1190,
          "user": {
            "displayName": "WANNAPHONG PHATTHIYAPHAIBUN",
            "photoUrl": "//lh3.googleusercontent.com/-qu2kLQSWjS0/AAAAAAAAAAI/AAAAAAAAAAo/jIIcIduqDGQ/s50-c-k-no/photo.jpg",
            "userId": "116726292347441604670"
          }
        }
      },
      "cell_type": "code",
      "source": [
        "len(t)"
      ],
      "execution_count": 18,
      "outputs": [
        {
          "output_type": "execute_result",
          "data": {
            "text/plain": [
              "1000"
            ]
          },
          "metadata": {
            "tags": []
          },
          "execution_count": 18
        }
      ]
    },
    {
      "metadata": {
        "id": "15GQzdCXkSAE",
        "colab_type": "code",
        "colab": {
          "autoexec": {
            "startup": false,
            "wait_interval": 0
          }
        }
      },
      "cell_type": "code",
      "source": [
        "for i in t:\n",
        "  data_list=[]\n",
        "  for r in i:\n",
        "    data_list.append((r['form'],r['upostag']))\n",
        "  data.append(data_list)"
      ],
      "execution_count": 0,
      "outputs": []
    },
    {
      "metadata": {
        "id": "LMa6iBtFmE60",
        "colab_type": "code",
        "colab": {
          "autoexec": {
            "startup": false,
            "wait_interval": 0
          }
        }
      },
      "cell_type": "code",
      "source": [
        "import nltk"
      ],
      "execution_count": 0,
      "outputs": []
    },
    {
      "metadata": {
        "id": "zBRjkDjKmKaO",
        "colab_type": "code",
        "colab": {
          "autoexec": {
            "startup": false,
            "wait_interval": 0
          }
        }
      },
      "cell_type": "code",
      "source": [
        "unigram_tagger = nltk.tag.UnigramTagger(data)"
      ],
      "execution_count": 0,
      "outputs": []
    },
    {
      "metadata": {
        "id": "WIImLuegmPuw",
        "colab_type": "code",
        "colab": {
          "autoexec": {
            "startup": false,
            "wait_interval": 0
          }
        }
      },
      "cell_type": "code",
      "source": [
        "pt_tagger = nltk.tag.PerceptronTagger(load=False)\n",
        "pt_tagger.train(data)"
      ],
      "execution_count": 0,
      "outputs": []
    },
    {
      "metadata": {
        "id": "Uso34XevmY8o",
        "colab_type": "code",
        "colab": {
          "autoexec": {
            "startup": false,
            "wait_interval": 0
          },
          "base_uri": "https://localhost:8080/",
          "height": 111
        },
        "outputId": "4e265986-f1af-4d12-9830-8b0e250b28aa",
        "executionInfo": {
          "status": "ok",
          "timestamp": 1523767222656,
          "user_tz": -420,
          "elapsed": 2044,
          "user": {
            "displayName": "WANNAPHONG PHATTHIYAPHAIBUN",
            "photoUrl": "//lh3.googleusercontent.com/-qu2kLQSWjS0/AAAAAAAAAAI/AAAAAAAAAAo/jIIcIduqDGQ/s50-c-k-no/photo.jpg",
            "userId": "116726292347441604670"
          }
        }
      },
      "cell_type": "code",
      "source": [
        "pt_tagger.tag(['ผม','รัก','คุณ','นะ','ครับ'])"
      ],
      "execution_count": 26,
      "outputs": [
        {
          "output_type": "execute_result",
          "data": {
            "text/plain": [
              "[('ผม', 'PRON'),\n",
              " ('รัก', 'VERB'),\n",
              " ('คุณ', 'NOUN'),\n",
              " ('นะ', 'PART'),\n",
              " ('ครับ', 'VERB')]"
            ]
          },
          "metadata": {
            "tags": []
          },
          "execution_count": 26
        }
      ]
    },
    {
      "metadata": {
        "id": "mYlepobrmySE",
        "colab_type": "code",
        "colab": {
          "autoexec": {
            "startup": false,
            "wait_interval": 0
          }
        }
      },
      "cell_type": "code",
      "source": [
        "import dill"
      ],
      "execution_count": 0,
      "outputs": []
    },
    {
      "metadata": {
        "id": "dkSgJZd8B3Zu",
        "colab_type": "code",
        "colab": {
          "autoexec": {
            "startup": false,
            "wait_interval": 0
          }
        }
      },
      "cell_type": "code",
      "source": [
        "with open('ud_thai-pud_unigram_tagger.dill', 'wb') as f:\n",
        "    dill.dump(unigram_tagger, f)"
      ],
      "execution_count": 0,
      "outputs": []
    },
    {
      "metadata": {
        "id": "-e_aSspCnG3Y",
        "colab_type": "code",
        "colab": {
          "autoexec": {
            "startup": false,
            "wait_interval": 0
          }
        }
      },
      "cell_type": "code",
      "source": [
        "with open('ud_thai-pud_pt_tagger.dill', 'wb') as f:\n",
        "    dill.dump(pt_tagger, f)"
      ],
      "execution_count": 0,
      "outputs": []
    },
    {
      "metadata": {
        "id": "MZ65j1JQnO5c",
        "colab_type": "code",
        "colab": {
          "autoexec": {
            "startup": false,
            "wait_interval": 0
          },
          "base_uri": "https://localhost:8080/",
          "height": 56
        },
        "outputId": "9089afc3-c14e-4006-fa30-26df7b27d072",
        "executionInfo": {
          "status": "ok",
          "timestamp": 1523767530202,
          "user_tz": -420,
          "elapsed": 3880,
          "user": {
            "displayName": "WANNAPHONG PHATTHIYAPHAIBUN",
            "photoUrl": "//lh3.googleusercontent.com/-qu2kLQSWjS0/AAAAAAAAAAI/AAAAAAAAAAo/jIIcIduqDGQ/s50-c-k-no/photo.jpg",
            "userId": "116726292347441604670"
          }
        }
      },
      "cell_type": "code",
      "source": [
        "!pip install -U -q PyDrive\n",
        "from pydrive.auth import GoogleAuth\n",
        "from pydrive.drive import GoogleDrive\n",
        "from google.colab import auth\n",
        "from oauth2client.client import GoogleCredentials\n",
        "\n",
        "# Authenticate and create the PyDrive client.\n",
        "auth.authenticate_user()\n",
        "gauth = GoogleAuth()\n",
        "gauth.credentials = GoogleCredentials.get_application_default()\n",
        "drive = GoogleDrive(gauth)"
      ],
      "execution_count": 32,
      "outputs": [
        {
          "output_type": "stream",
          "text": [
            "WARNING:google.auth._default:No project ID could be determined. Consider running `gcloud config set project` or setting the GOOGLE_CLOUD_PROJECT environment variable\n"
          ],
          "name": "stderr"
        }
      ]
    },
    {
      "metadata": {
        "id": "4fgjBM5inpyY",
        "colab_type": "code",
        "colab": {
          "autoexec": {
            "startup": false,
            "wait_interval": 0
          },
          "base_uri": "https://localhost:8080/",
          "height": 545
        },
        "outputId": "8bde44d5-272c-4b75-dfaa-51a6bfa9ba23",
        "executionInfo": {
          "status": "ok",
          "timestamp": 1523767533380,
          "user_tz": -420,
          "elapsed": 1768,
          "user": {
            "displayName": "WANNAPHONG PHATTHIYAPHAIBUN",
            "photoUrl": "//lh3.googleusercontent.com/-qu2kLQSWjS0/AAAAAAAAAAI/AAAAAAAAAAo/jIIcIduqDGQ/s50-c-k-no/photo.jpg",
            "userId": "116726292347441604670"
          }
        }
      },
      "cell_type": "code",
      "source": [
        "f = drive.CreateFile({'title': 'ud_thai-pud_unigram_tagger.dill'})\n",
        "f.SetContentFile('ud_thai-pud_unigram_tagger.dill')\n",
        "f.Upload()"
      ],
      "execution_count": 33,
      "outputs": [
        {
          "output_type": "stream",
          "text": [
            "WARNING:googleapiclient.discovery_cache:file_cache is unavailable when using oauth2client >= 4.0.0\n",
            "Traceback (most recent call last):\n",
            "  File \"/usr/local/lib/python3.6/dist-packages/googleapiclient/discovery_cache/__init__.py\", line 36, in autodetect\n",
            "    from google.appengine.api import memcache\n",
            "ModuleNotFoundError: No module named 'google.appengine'\n",
            "\n",
            "During handling of the above exception, another exception occurred:\n",
            "\n",
            "Traceback (most recent call last):\n",
            "  File \"/usr/local/lib/python3.6/dist-packages/googleapiclient/discovery_cache/file_cache.py\", line 33, in <module>\n",
            "    from oauth2client.contrib.locked_file import LockedFile\n",
            "ModuleNotFoundError: No module named 'oauth2client.contrib.locked_file'\n",
            "\n",
            "During handling of the above exception, another exception occurred:\n",
            "\n",
            "Traceback (most recent call last):\n",
            "  File \"/usr/local/lib/python3.6/dist-packages/googleapiclient/discovery_cache/file_cache.py\", line 37, in <module>\n",
            "    from oauth2client.locked_file import LockedFile\n",
            "ModuleNotFoundError: No module named 'oauth2client.locked_file'\n",
            "\n",
            "During handling of the above exception, another exception occurred:\n",
            "\n",
            "Traceback (most recent call last):\n",
            "  File \"/usr/local/lib/python3.6/dist-packages/googleapiclient/discovery_cache/__init__.py\", line 41, in autodetect\n",
            "    from . import file_cache\n",
            "  File \"/usr/local/lib/python3.6/dist-packages/googleapiclient/discovery_cache/file_cache.py\", line 41, in <module>\n",
            "    'file_cache is unavailable when using oauth2client >= 4.0.0')\n",
            "ImportError: file_cache is unavailable when using oauth2client >= 4.0.0\n"
          ],
          "name": "stderr"
        }
      ]
    },
    {
      "metadata": {
        "id": "fycskaoeoFaG",
        "colab_type": "code",
        "colab": {
          "autoexec": {
            "startup": false,
            "wait_interval": 0
          }
        }
      },
      "cell_type": "code",
      "source": [
        "f = drive.CreateFile({'title': 'ud_thai-pud_pt_tagger.dill'})\n",
        "f.SetContentFile('ud_thai-pud_pt_tagger.dill')\n",
        "f.Upload()"
      ],
      "execution_count": 0,
      "outputs": []
    }
  ]
}