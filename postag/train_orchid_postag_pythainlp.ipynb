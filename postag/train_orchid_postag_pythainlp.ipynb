{
  "nbformat": 4,
  "nbformat_minor": 0,
  "metadata": {
    "colab": {
      "name": "train_orchid_postag_pythainlp.ipynb",
      "version": "0.3.2",
      "views": {},
      "default_view": {},
      "provenance": [],
      "collapsed_sections": []
    },
    "kernelspec": {
      "name": "python3",
      "display_name": "Python 3"
    }
  },
  "cells": [
    {
      "metadata": {
        "id": "_xt5j8KmARUY",
        "colab_type": "code",
        "colab": {
          "autoexec": {
            "startup": false,
            "wait_interval": 0
          },
          "base_uri": "https://localhost:8080/",
          "height": 225
        },
        "outputId": "8de9816b-6f54-4a8d-df9b-42d7180913c6",
        "executionInfo": {
          "status": "ok",
          "timestamp": 1523708289636,
          "user_tz": -420,
          "elapsed": 2890,
          "user": {
            "displayName": "WANNAPHONG PHATTHIYAPHAIBUN",
            "photoUrl": "//lh3.googleusercontent.com/-qu2kLQSWjS0/AAAAAAAAAAI/AAAAAAAAAAo/jIIcIduqDGQ/s50-c-k-no/photo.jpg",
            "userId": "116726292347441604670"
          }
        }
      },
      "cell_type": "code",
      "source": [
        "!wget https://raw.githubusercontent.com/wannaphongcom/thchid-crf-postag/master/data.pos"
      ],
      "execution_count": 14,
      "outputs": [
        {
          "output_type": "stream",
          "text": [
            "--2018-04-14 12:18:08--  https://raw.githubusercontent.com/wannaphongcom/thchid-crf-postag/master/data.pos\r\n",
            "Resolving raw.githubusercontent.com (raw.githubusercontent.com)... 151.101.0.133, 151.101.64.133, 151.101.128.133, ...\r\n",
            "Connecting to raw.githubusercontent.com (raw.githubusercontent.com)|151.101.0.133|:443... connected.\n",
            "HTTP request sent, awaiting response... 200 OK\n",
            "Length: 6679512 (6.4M) [text/plain]\n",
            "Saving to: ‘data.pos.1’\n",
            "\n",
            "data.pos.1          100%[===================>]   6.37M  34.3MB/s    in 0.2s    \n",
            "\n",
            "2018-04-14 12:18:08 (34.3 MB/s) - ‘data.pos.1’ saved [6679512/6679512]\n",
            "\n"
          ],
          "name": "stdout"
        }
      ]
    },
    {
      "metadata": {
        "id": "fPebGOy6AVQc",
        "colab_type": "code",
        "colab": {
          "autoexec": {
            "startup": false,
            "wait_interval": 0
          }
        }
      },
      "cell_type": "code",
      "source": [
        "import re\n",
        "import codecs\n",
        "def get_data():\n",
        "\twith codecs.open('data.pos', 'r',encoding='utf8') as f:\n",
        "\t\tlines = f.read()\n",
        "\treturn re.split(\"TTTT\",lines)\n",
        "data=get_data()\n",
        "i=0\n",
        "data_all=[]\n",
        "while i<len(data):\n",
        "\tdata_list=[]\n",
        "\tfor r in re.split('\\n',data[i]):\n",
        "\t\tt=[x for x in re.split(' ',r) if x!='']\n",
        "\t\tif t!=[]:\n",
        "\t\t\tdata_list.append((t[0],t[1]))\n",
        "\tdata_all.append(data_list)\n",
        "\ti+=1\n",
        "data_train=[x for x in data_all if x!=[]]\n",
        "def get_train():\n",
        "    return data_train"
      ],
      "execution_count": 0,
      "outputs": []
    },
    {
      "metadata": {
        "id": "J_GisfZyAcUG",
        "colab_type": "code",
        "colab": {
          "autoexec": {
            "startup": false,
            "wait_interval": 0
          }
        }
      },
      "cell_type": "code",
      "source": [
        "import nltk"
      ],
      "execution_count": 0,
      "outputs": []
    },
    {
      "metadata": {
        "id": "ZMu-kTT-AomG",
        "colab_type": "code",
        "colab": {
          "autoexec": {
            "startup": false,
            "wait_interval": 0
          }
        }
      },
      "cell_type": "code",
      "source": [
        "unigram_tagger = nltk.tag.UnigramTagger(get_train())"
      ],
      "execution_count": 0,
      "outputs": []
    },
    {
      "metadata": {
        "id": "rLzoeoefAuEm",
        "colab_type": "code",
        "colab": {
          "autoexec": {
            "startup": false,
            "wait_interval": 0
          }
        }
      },
      "cell_type": "code",
      "source": [
        "pt_tagger = nltk.tag.PerceptronTagger(load=False)\n",
        "pt_tagger.train(get_train())"
      ],
      "execution_count": 0,
      "outputs": []
    },
    {
      "metadata": {
        "id": "P1iroH7dBcI6",
        "colab_type": "code",
        "colab": {
          "autoexec": {
            "startup": false,
            "wait_interval": 0
          }
        }
      },
      "cell_type": "code",
      "source": [
        "from google.colab import files"
      ],
      "execution_count": 0,
      "outputs": []
    },
    {
      "metadata": {
        "id": "VDHXH7IbBe04",
        "colab_type": "code",
        "colab": {
          "autoexec": {
            "startup": false,
            "wait_interval": 0
          }
        }
      },
      "cell_type": "code",
      "source": [
        "import dill"
      ],
      "execution_count": 0,
      "outputs": []
    },
    {
      "metadata": {
        "id": "dkSgJZd8B3Zu",
        "colab_type": "code",
        "colab": {
          "autoexec": {
            "startup": false,
            "wait_interval": 0
          }
        }
      },
      "cell_type": "code",
      "source": [
        "with open('unigram_tagger.dill', 'wb') as f:\n",
        "    dill.dump(unigram_tagger, f)"
      ],
      "execution_count": 0,
      "outputs": []
    },
    {
      "metadata": {
        "id": "qUzBKJgTCItq",
        "colab_type": "code",
        "colab": {
          "autoexec": {
            "startup": false,
            "wait_interval": 0
          }
        }
      },
      "cell_type": "code",
      "source": [
        "with open('pt_tagger.dill', 'wb') as f:\n",
        "    dill.dump(pt_tagger, f)"
      ],
      "execution_count": 0,
      "outputs": []
    },
    {
      "metadata": {
        "id": "8UJl4aLhC0XI",
        "colab_type": "code",
        "colab": {
          "autoexec": {
            "startup": false,
            "wait_interval": 0
          }
        }
      },
      "cell_type": "code",
      "source": [
        "from google.colab import files\n",
        "files.download('unigram_tagger.dill')"
      ],
      "execution_count": 0,
      "outputs": []
    },
    {
      "metadata": {
        "id": "D797_7qzUrHu",
        "colab_type": "code",
        "colab": {
          "autoexec": {
            "startup": false,
            "wait_interval": 0
          }
        }
      },
      "cell_type": "code",
      "source": [
        "from google.colab import files\n",
        "files.download('pt_tagger.dill')"
      ],
      "execution_count": 0,
      "outputs": []
    },
    {
      "metadata": {
        "id": "D80_1-DnRLIW",
        "colab_type": "code",
        "colab": {
          "autoexec": {
            "startup": false,
            "wait_interval": 0
          },
          "base_uri": "https://localhost:8080/",
          "height": 36
        },
        "outputId": "a3564822-758d-4e52-cda7-1f6e02063002",
        "executionInfo": {
          "status": "ok",
          "timestamp": 1523711340848,
          "user_tz": -420,
          "elapsed": 2026,
          "user": {
            "displayName": "WANNAPHONG PHATTHIYAPHAIBUN",
            "photoUrl": "//lh3.googleusercontent.com/-qu2kLQSWjS0/AAAAAAAAAAI/AAAAAAAAAAo/jIIcIduqDGQ/s50-c-k-no/photo.jpg",
            "userId": "116726292347441604670"
          }
        }
      },
      "cell_type": "code",
      "source": [
        "!ls -l --b=M unigram_tagger.dill"
      ],
      "execution_count": 27,
      "outputs": [
        {
          "output_type": "stream",
          "text": [
            "-rw-r--r-- 1 root root 1M Apr 14 12:20 unigram_tagger.dill\r\n"
          ],
          "name": "stdout"
        }
      ]
    },
    {
      "metadata": {
        "id": "CI35qeFRSNgw",
        "colab_type": "code",
        "colab": {
          "autoexec": {
            "startup": false,
            "wait_interval": 0
          },
          "base_uri": "https://localhost:8080/",
          "height": 56
        },
        "outputId": "7d4e8a21-9b10-43b8-a6bb-768c696ba02b",
        "executionInfo": {
          "status": "ok",
          "timestamp": 1523711601630,
          "user_tz": -420,
          "elapsed": 466,
          "user": {
            "displayName": "WANNAPHONG PHATTHIYAPHAIBUN",
            "photoUrl": "//lh3.googleusercontent.com/-qu2kLQSWjS0/AAAAAAAAAAI/AAAAAAAAAAo/jIIcIduqDGQ/s50-c-k-no/photo.jpg",
            "userId": "116726292347441604670"
          }
        }
      },
      "cell_type": "code",
      "source": [
        "!pip install -U -q PyDrive\n",
        "from pydrive.auth import GoogleAuth\n",
        "from pydrive.drive import GoogleDrive\n",
        "from google.colab import auth\n",
        "from oauth2client.client import GoogleCredentials\n",
        "\n",
        "# Authenticate and create the PyDrive client.\n",
        "auth.authenticate_user()\n",
        "gauth = GoogleAuth()\n",
        "gauth.credentials = GoogleCredentials.get_application_default()\n",
        "drive = GoogleDrive(gauth)"
      ],
      "execution_count": 32,
      "outputs": [
        {
          "output_type": "stream",
          "text": [
            "WARNING:google.auth._default:No project ID could be determined. Consider running `gcloud config set project` or setting the GOOGLE_CLOUD_PROJECT environment variable\n"
          ],
          "name": "stderr"
        }
      ]
    },
    {
      "metadata": {
        "id": "feDM454SSfoA",
        "colab_type": "code",
        "colab": {
          "autoexec": {
            "startup": false,
            "wait_interval": 0
          }
        }
      },
      "cell_type": "code",
      "source": [
        "f = drive.CreateFile({'title': 'pt_tagger.dill'})\n",
        "f.SetContentFile('pt_tagger.dill')\n",
        "f.Upload()"
      ],
      "execution_count": 0,
      "outputs": []
    }
  ]
}