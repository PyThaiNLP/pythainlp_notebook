{
 "cells": [
  {
   "cell_type": "code",
   "execution_count": 1,
   "metadata": {
    "colab": {
     "autoexec": {
      "startup": false,
      "wait_interval": 0
     },
     "base_uri": "https://localhost:8080/",
     "height": 394
    },
    "colab_type": "code",
    "executionInfo": {
     "elapsed": 2838,
     "status": "ok",
     "timestamp": 1523765938166,
     "user": {
      "displayName": "WANNAPHONG PHATTHIYAPHAIBUN",
      "photoUrl": "//lh3.googleusercontent.com/-qu2kLQSWjS0/AAAAAAAAAAI/AAAAAAAAAAo/jIIcIduqDGQ/s50-c-k-no/photo.jpg",
      "userId": "116726292347441604670"
     },
     "user_tz": -420
    },
    "id": "NwyMw59Ihnt-",
    "outputId": "63ec0270-5762-4ad5-fd56-bf7fd28a8c85"
   },
   "outputs": [
    {
     "name": "stdout",
     "output_type": "stream",
     "text": [
      "--2018-04-15 04:18:57--  https://github.com/UniversalDependencies/UD_Thai-PUD/blob/master/th_pud-ud-test.conllu?raw=true\r\n",
      "Resolving github.com (github.com)... 192.30.253.113, 192.30.253.112\r\n",
      "Connecting to github.com (github.com)|192.30.253.113|:443... connected.\n",
      "HTTP request sent, awaiting response... 302 Found\n",
      "Location: https://github.com/UniversalDependencies/UD_Thai-PUD/raw/master/th_pud-ud-test.conllu [following]\n",
      "--2018-04-15 04:18:57--  https://github.com/UniversalDependencies/UD_Thai-PUD/raw/master/th_pud-ud-test.conllu\n",
      "Reusing existing connection to github.com:443.\n",
      "HTTP request sent, awaiting response... 302 Found\n",
      "Location: https://raw.githubusercontent.com/UniversalDependencies/UD_Thai-PUD/master/th_pud-ud-test.conllu [following]\n",
      "--2018-04-15 04:18:57--  https://raw.githubusercontent.com/UniversalDependencies/UD_Thai-PUD/master/th_pud-ud-test.conllu\n",
      "Resolving raw.githubusercontent.com (raw.githubusercontent.com)... 151.101.200.133\n",
      "Connecting to raw.githubusercontent.com (raw.githubusercontent.com)|151.101.200.133|:443... connected.\n",
      "HTTP request sent, awaiting response... 200 OK\n",
      "Length: 1611517 (1.5M) [text/plain]\n",
      "Saving to: ‘th_pud-ud-test.conllu?raw=true.1’\n",
      "\n",
      "th_pud-ud-test.conl 100%[===================>]   1.54M  6.17MB/s    in 0.2s    \n",
      "\n",
      "2018-04-15 04:18:57 (6.17 MB/s) - ‘th_pud-ud-test.conllu?raw=true.1’ saved [1611517/1611517]\n",
      "\n"
     ]
    }
   ],
   "source": [
    "!wget https://github.com/UniversalDependencies/UD_Thai-PUD/raw/01eec7a349876319f752cadfb9b81399d8d1d17c/th_pud-ud-test.conllu"
   ]
  },
  {
   "cell_type": "code",
   "execution_count": 7,
   "metadata": {
    "colab": {
     "autoexec": {
      "startup": false,
      "wait_interval": 0
     },
     "base_uri": "https://localhost:8080/",
     "height": 168
    },
    "colab_type": "code",
    "executionInfo": {
     "elapsed": 5100,
     "status": "ok",
     "timestamp": 1523766213988,
     "user": {
      "displayName": "WANNAPHONG PHATTHIYAPHAIBUN",
      "photoUrl": "//lh3.googleusercontent.com/-qu2kLQSWjS0/AAAAAAAAAAI/AAAAAAAAAAo/jIIcIduqDGQ/s50-c-k-no/photo.jpg",
      "userId": "116726292347441604670"
     },
     "user_tz": -420
    },
    "id": "wZ4BpgHWiw7g",
    "outputId": "75bf6e1e-c479-44df-b6e5-2908e66ea3d9"
   },
   "outputs": [
    {
     "name": "stdout",
     "output_type": "stream",
     "text": [
      "Collecting conllu\n",
      "  Downloading conllu-0.9.tar.gz\n",
      "Building wheels for collected packages: conllu\n",
      "  Running setup.py bdist_wheel for conllu ... \u001b[?25l-\b \bdone\n",
      "\u001b[?25h  Stored in directory: /content/.cache/pip/wheels/f1/cc/00/6e76942c5ee38c3c1184f272d78ea1858d6b98ed36b0062e10\n",
      "Successfully built conllu\n",
      "Installing collected packages: conllu\n",
      "Successfully installed conllu-0.9\n"
     ]
    }
   ],
   "source": [
    "!pip install conllu"
   ]
  },
  {
   "cell_type": "code",
   "execution_count": 2,
   "metadata": {
    "colab": {
     "autoexec": {
      "startup": false,
      "wait_interval": 0
     }
    },
    "colab_type": "code",
    "id": "zRLHt9uii082"
   },
   "outputs": [],
   "source": [
    "with open('th_pud-ud-test.conllu', 'r', encoding=\"utf-8-sig\") as f:\n",
    "  text=f.read()"
   ]
  },
  {
   "cell_type": "code",
   "execution_count": 3,
   "metadata": {
    "colab": {
     "autoexec": {
      "startup": false,
      "wait_interval": 0
     }
    },
    "colab_type": "code",
    "id": "B_V09WRcjItw"
   },
   "outputs": [],
   "source": [
    "from conllu import parse, parse_tree\n",
    "t=parse(text)"
   ]
  },
  {
   "cell_type": "code",
   "execution_count": 4,
   "metadata": {
    "colab": {
     "autoexec": {
      "startup": false,
      "wait_interval": 0
     },
     "base_uri": "https://localhost:8080/",
     "height": 36
    },
    "colab_type": "code",
    "executionInfo": {
     "elapsed": 1722,
     "status": "ok",
     "timestamp": 1523766895872,
     "user": {
      "displayName": "WANNAPHONG PHATTHIYAPHAIBUN",
      "photoUrl": "//lh3.googleusercontent.com/-qu2kLQSWjS0/AAAAAAAAAAI/AAAAAAAAAAo/jIIcIduqDGQ/s50-c-k-no/photo.jpg",
      "userId": "116726292347441604670"
     },
     "user_tz": -420
    },
    "id": "tOg91jOejUJo",
    "outputId": "7d55097b-1c6b-4965-f3cb-ae5c5f627529"
   },
   "outputs": [
    {
     "name": "stdout",
     "output_type": "stream",
     "text": [
      "ADP\n"
     ]
    }
   ],
   "source": [
    "print(t[1][0]['upostag'])"
   ]
  },
  {
   "cell_type": "code",
   "execution_count": 5,
   "metadata": {
    "colab": {
     "autoexec": {
      "startup": false,
      "wait_interval": 0
     }
    },
    "colab_type": "code",
    "id": "jZ9vrYkQkNrQ"
   },
   "outputs": [],
   "source": [
    "data=[]"
   ]
  },
  {
   "cell_type": "code",
   "execution_count": 6,
   "metadata": {
    "colab": {
     "autoexec": {
      "startup": false,
      "wait_interval": 0
     },
     "base_uri": "https://localhost:8080/",
     "height": 36
    },
    "colab_type": "code",
    "executionInfo": {
     "elapsed": 1190,
     "status": "ok",
     "timestamp": 1523766597312,
     "user": {
      "displayName": "WANNAPHONG PHATTHIYAPHAIBUN",
      "photoUrl": "//lh3.googleusercontent.com/-qu2kLQSWjS0/AAAAAAAAAAI/AAAAAAAAAAo/jIIcIduqDGQ/s50-c-k-no/photo.jpg",
      "userId": "116726292347441604670"
     },
     "user_tz": -420
    },
    "id": "_C3xB0FUkPl0",
    "outputId": "65786534-8d7f-48c2-c35e-b15d98d240cd"
   },
   "outputs": [
    {
     "data": {
      "text/plain": [
       "1000"
      ]
     },
     "execution_count": 6,
     "metadata": {},
     "output_type": "execute_result"
    }
   ],
   "source": [
    "len(t)"
   ]
  },
  {
   "cell_type": "code",
   "execution_count": 7,
   "metadata": {
    "colab": {
     "autoexec": {
      "startup": false,
      "wait_interval": 0
     }
    },
    "colab_type": "code",
    "id": "15GQzdCXkSAE"
   },
   "outputs": [],
   "source": [
    "for i in t:\n",
    "  data_list=[]\n",
    "  for r in i:\n",
    "    data_list.append((r['form'],r['upostag']))\n",
    "  data.append(data_list)"
   ]
  },
  {
   "cell_type": "code",
   "execution_count": 8,
   "metadata": {
    "colab": {
     "autoexec": {
      "startup": false,
      "wait_interval": 0
     }
    },
    "colab_type": "code",
    "id": "LMa6iBtFmE60"
   },
   "outputs": [],
   "source": [
    "import nltk"
   ]
  },
  {
   "cell_type": "code",
   "execution_count": 9,
   "metadata": {
    "colab": {
     "autoexec": {
      "startup": false,
      "wait_interval": 0
     }
    },
    "colab_type": "code",
    "id": "zBRjkDjKmKaO"
   },
   "outputs": [],
   "source": [
    "unigram_tagger = nltk.tag.UnigramTagger(data)"
   ]
  },
  {
   "cell_type": "code",
   "execution_count": 10,
   "metadata": {},
   "outputs": [],
   "source": [
    "from pythainlp.tag import PerceptronTagger"
   ]
  },
  {
   "cell_type": "code",
   "execution_count": 14,
   "metadata": {
    "colab": {
     "autoexec": {
      "startup": false,
      "wait_interval": 0
     }
    },
    "colab_type": "code",
    "id": "WIImLuegmPuw"
   },
   "outputs": [],
   "source": [
    "pt_tagger = PerceptronTagger()\n",
    "pt_tagger.train(data, save_loc=\"pos_ud_perceptron-v0.2.json\")"
   ]
  },
  {
   "cell_type": "code",
   "execution_count": 15,
   "metadata": {
    "colab": {
     "autoexec": {
      "startup": false,
      "wait_interval": 0
     },
     "base_uri": "https://localhost:8080/",
     "height": 111
    },
    "colab_type": "code",
    "executionInfo": {
     "elapsed": 2044,
     "status": "ok",
     "timestamp": 1523767222656,
     "user": {
      "displayName": "WANNAPHONG PHATTHIYAPHAIBUN",
      "photoUrl": "//lh3.googleusercontent.com/-qu2kLQSWjS0/AAAAAAAAAAI/AAAAAAAAAAo/jIIcIduqDGQ/s50-c-k-no/photo.jpg",
      "userId": "116726292347441604670"
     },
     "user_tz": -420
    },
    "id": "Uso34XevmY8o",
    "outputId": "4e265986-f1af-4d12-9830-8b0e250b28aa"
   },
   "outputs": [
    {
     "data": {
      "text/plain": [
       "[('ผม', 'PRON'),\n",
       " ('รัก', 'VERB'),\n",
       " ('คุณ', 'PRON'),\n",
       " ('นะ', 'PART'),\n",
       " ('ครับ', 'VERB')]"
      ]
     },
     "execution_count": 15,
     "metadata": {},
     "output_type": "execute_result"
    }
   ],
   "source": [
    "pt_tagger.tag(['ผม','รัก','คุณ','นะ','ครับ'])"
   ]
  },
  {
   "cell_type": "code",
   "execution_count": 32,
   "metadata": {},
   "outputs": [],
   "source": [
    "import json\n",
    "unigram_tagger_json= json.dumps(unigram_tagger._context_to_tag, ensure_ascii=False)"
   ]
  },
  {
   "cell_type": "code",
   "execution_count": 33,
   "metadata": {},
   "outputs": [],
   "source": [
    "with open('pos_ud_unigram-v0.2.json', 'w',encoding = \"utf-8-sig\") as f:\n",
    "    f.write(unigram_tagger_json)"
   ]
  },
  {
   "cell_type": "code",
   "execution_count": null,
   "metadata": {},
   "outputs": [],
   "source": []
  }
 ],
 "metadata": {
  "colab": {
   "collapsed_sections": [],
   "default_view": {},
   "name": "train_ud_thai-pud_pythainlp.ipynb",
   "provenance": [],
   "version": "0.3.2",
   "views": {}
  },
  "kernelspec": {
   "display_name": "Python 3",
   "language": "python",
   "name": "python3"
  },
  "language_info": {
   "codemirror_mode": {
    "name": "ipython",
    "version": 3
   },
   "file_extension": ".py",
   "mimetype": "text/x-python",
   "name": "python",
   "nbconvert_exporter": "python",
   "pygments_lexer": "ipython3",
   "version": "3.8.5"
  }
 },
 "nbformat": 4,
 "nbformat_minor": 1
}
