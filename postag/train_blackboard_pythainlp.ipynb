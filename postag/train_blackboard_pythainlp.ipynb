{
 "cells": [
  {
   "cell_type": "code",
   "execution_count": 1,
   "metadata": {},
   "outputs": [
    {
     "name": "stdout",
     "output_type": "stream",
     "text": [
      "Cloning into 'blackboard-treebank'...\n",
      "remote: Enumerating objects: 235, done.\u001b[K\n",
      "remote: Counting objects: 100% (235/235), done.\u001b[K\n",
      "remote: Compressing objects: 100% (234/234), done.\u001b[K\n",
      "remote: Total 235 (delta 191), reused 0 (delta 0), pack-reused 0\u001b[K\n",
      "Receiving objects: 100% (235/235), 68.27 MiB | 2.13 MiB/s, done.\n",
      "Resolving deltas: 100% (191/191), done.\n"
     ]
    }
   ],
   "source": [
    "!git clone https://bitbucket.org/kaamanita/blackboard-treebank.git"
   ]
  },
  {
   "cell_type": "code",
   "execution_count": 1,
   "metadata": {},
   "outputs": [],
   "source": [
    "import pandas as pd\n",
    "from pathlib import Path\n",
    "import os"
   ]
  },
  {
   "cell_type": "code",
   "execution_count": 2,
   "metadata": {},
   "outputs": [],
   "source": [
    "train = Path(os.path.join('.','blackboard-treebank','thai10'))"
   ]
  },
  {
   "cell_type": "code",
   "execution_count": 3,
   "metadata": {},
   "outputs": [
    {
     "data": {
      "text/plain": [
       "25"
      ]
     },
     "execution_count": 3,
     "metadata": {},
     "output_type": "execute_result"
    }
   ],
   "source": [
    "# ใน train มี 7 พันไฟล์.  เอาที่เป็น \".xxx\" ออก # โค้ดจาก https://colab.research.google.com/drive/1Ur-p2yQBf5JsUJbJJlZsm2VqNPY8gIkL\n",
    "train_files = [f for f in train.iterdir() if not f.name.startswith('.')]\n",
    "len(train_files)"
   ]
  },
  {
   "cell_type": "code",
   "execution_count": 4,
   "metadata": {},
   "outputs": [],
   "source": [
    "def readfile(path):\n",
    "    _data = []\n",
    "    with open(path,'r',encoding=\"utf-8-sig\") as f:\n",
    "        _temp = [i for i in f.read().split(\"\\n\\n\") if i != '']\n",
    "    for j in _temp:\n",
    "        _temp_data = []\n",
    "        for i in j.split(\"\\n\"):\n",
    "            if i.startswith('#') == False:\n",
    "                _t = i.strip().split(\"\\t\")\n",
    "                _temp_data.append((_t[1],_t[3]))\n",
    "        _data.append(_temp_data)\n",
    "    return _data"
   ]
  },
  {
   "cell_type": "code",
   "execution_count": 5,
   "metadata": {},
   "outputs": [],
   "source": [
    "#readfile(train_files[0])"
   ]
  },
  {
   "cell_type": "code",
   "execution_count": 6,
   "metadata": {},
   "outputs": [],
   "source": [
    "#readfile(test_files[0])"
   ]
  },
  {
   "cell_type": "code",
   "execution_count": 7,
   "metadata": {},
   "outputs": [],
   "source": [
    "train_data = []"
   ]
  },
  {
   "cell_type": "code",
   "execution_count": 8,
   "metadata": {},
   "outputs": [],
   "source": [
    "for file in train_files:\n",
    "    train_data.extend(readfile(file))"
   ]
  },
  {
   "cell_type": "code",
   "execution_count": 9,
   "metadata": {},
   "outputs": [
    {
     "data": {
      "text/plain": [
       "130561"
      ]
     },
     "execution_count": 9,
     "metadata": {},
     "output_type": "execute_result"
    }
   ],
   "source": [
    "len(train_data)"
   ]
  },
  {
   "cell_type": "code",
   "execution_count": 10,
   "metadata": {},
   "outputs": [
    {
     "data": {
      "text/plain": [
       "[('บัน', 'NN'),\n",
       " ('ถึง', 'VV'),\n",
       " ('พม่า', 'NN'),\n",
       " ('บีบ', 'VV'),\n",
       " ('ผู้นำ', 'NN'),\n",
       " ('ทหาร', 'NN'),\n",
       " ('ปล่อย', 'VV'),\n",
       " ('ซูจี', 'NN')]"
      ]
     },
     "execution_count": 10,
     "metadata": {},
     "output_type": "execute_result"
    }
   ],
   "source": [
    "train_data[0]"
   ]
  },
  {
   "cell_type": "code",
   "execution_count": 29,
   "metadata": {},
   "outputs": [
    {
     "data": {
      "text/plain": [
       "False"
      ]
     },
     "execution_count": 29,
     "metadata": {},
     "output_type": "execute_result"
    }
   ],
   "source": [
    "[] in train_data"
   ]
  },
  {
   "cell_type": "code",
   "execution_count": 11,
   "metadata": {},
   "outputs": [
    {
     "data": {
      "text/plain": [
       "False"
      ]
     },
     "execution_count": 11,
     "metadata": {},
     "output_type": "execute_result"
    }
   ],
   "source": [
    "'' in train_data"
   ]
  },
  {
   "cell_type": "code",
   "execution_count": 30,
   "metadata": {},
   "outputs": [],
   "source": [
    "#train_data[1000]"
   ]
  },
  {
   "cell_type": "code",
   "execution_count": 31,
   "metadata": {},
   "outputs": [],
   "source": [
    "import nltk"
   ]
  },
  {
   "cell_type": "code",
   "execution_count": 32,
   "metadata": {},
   "outputs": [],
   "source": [
    "unigram_tagger = nltk.tag.UnigramTagger(train_data)"
   ]
  },
  {
   "cell_type": "code",
   "execution_count": 33,
   "metadata": {},
   "outputs": [
    {
     "name": "stderr",
     "output_type": "stream",
     "text": [
      "/tmp/ipykernel_3510352/2348541019.py:1: DeprecationWarning: \n",
      "  Function evaluate() has been deprecated.  Use accuracy(gold)\n",
      "  instead.\n",
      "  print(\"Accuracy : \", unigram_tagger.evaluate(train_data))\n"
     ]
    },
    {
     "name": "stdout",
     "output_type": "stream",
     "text": [
      "Accuracy :  0.9445809462474553\n"
     ]
    }
   ],
   "source": [
    "print(\"Accuracy : \", unigram_tagger.evaluate(train_data))"
   ]
  },
  {
   "cell_type": "code",
   "execution_count": 35,
   "metadata": {},
   "outputs": [
    {
     "name": "stderr",
     "output_type": "stream",
     "text": [
      "/opt/conda/lib/python3.8/site-packages/sklearn/metrics/_classification.py:1308: UndefinedMetricWarning: Precision and F-score are ill-defined and being set to 0.0 in labels with no predicted samples. Use `zero_division` parameter to control this behavior.\n",
      "  _warn_prf(average, modifier, msg_start, len(result))\n",
      "/opt/conda/lib/python3.8/site-packages/sklearn/metrics/_classification.py:1308: UndefinedMetricWarning: Precision and F-score are ill-defined and being set to 0.0 in labels with no predicted samples. Use `zero_division` parameter to control this behavior.\n",
      "  _warn_prf(average, modifier, msg_start, len(result))\n"
     ]
    },
    {
     "name": "stdout",
     "output_type": "stream",
     "text": [
      "              precision    recall  f1-score   support\n",
      "\n",
      "          $$       1.00      1.00      1.00     91692\n",
      "          AJ       0.82      0.79      0.80     16031\n",
      "          AV       0.75      0.82      0.78     38078\n",
      "          AX       0.91      0.94      0.93     44720\n",
      "          CC       0.91      0.98      0.94    127801\n",
      "          CL       0.67      0.49      0.56      6738\n",
      "          FX       0.98      0.98      0.98     28991\n",
      "          IJ       0.80      0.33      0.47        12\n",
      "           N       0.00      0.00      0.00         2\n",
      "          NG       1.00      1.00      1.00     12121\n",
      "          NN       0.97      0.97      0.97    283971\n",
      "          NU       0.98      0.95      0.96     19220\n",
      "          PA       0.94      0.87      0.90      1916\n",
      "          PR       0.84      0.88      0.86     12869\n",
      "          PS       0.89      0.83      0.86     39318\n",
      "          PU       1.00      1.00      1.00      1576\n",
      "          VV       0.97      0.94      0.95    257833\n",
      "          XX       1.00      0.25      0.40         4\n",
      "\n",
      "    accuracy                           0.94    982893\n",
      "   macro avg       0.86      0.78      0.80    982893\n",
      "weighted avg       0.95      0.94      0.94    982893\n",
      "\n"
     ]
    },
    {
     "name": "stderr",
     "output_type": "stream",
     "text": [
      "/opt/conda/lib/python3.8/site-packages/sklearn/metrics/_classification.py:1308: UndefinedMetricWarning: Precision and F-score are ill-defined and being set to 0.0 in labels with no predicted samples. Use `zero_division` parameter to control this behavior.\n",
      "  _warn_prf(average, modifier, msg_start, len(result))\n"
     ]
    }
   ],
   "source": [
    "tagged_test_sentences = unigram_tagger.tag_sents([[token for token,tag in sent] for sent in train_data])\n",
    "gold = [str(tag) for sentence in train_data for token,tag in sentence]\n",
    "pred = [str(tag) for sentence in tagged_test_sentences for token,tag in sentence]\n",
    "from sklearn import metrics\n",
    "print(metrics.classification_report(gold, pred))"
   ]
  },
  {
   "cell_type": "code",
   "execution_count": 16,
   "metadata": {},
   "outputs": [],
   "source": [
    "import nltk"
   ]
  },
  {
   "cell_type": "code",
   "execution_count": 17,
   "metadata": {},
   "outputs": [],
   "source": [
    "pt_tagger = nltk.tag.PerceptronTagger(load=False)\n",
    "pt_tagger.train(train_data)"
   ]
  },
  {
   "cell_type": "code",
   "execution_count": 18,
   "metadata": {},
   "outputs": [
    {
     "name": "stderr",
     "output_type": "stream",
     "text": [
      "/tmp/ipykernel_3510505/1674661308.py:1: DeprecationWarning: \n",
      "  Function evaluate() has been deprecated.  Use accuracy(gold)\n",
      "  instead.\n",
      "  print(\"Accuracy : \", pt_tagger.evaluate(train_data))\n"
     ]
    },
    {
     "name": "stdout",
     "output_type": "stream",
     "text": [
      "Accuracy :  0.9795084510724972\n"
     ]
    }
   ],
   "source": [
    "print(\"Accuracy : \", pt_tagger.evaluate(train_data))"
   ]
  },
  {
   "cell_type": "code",
   "execution_count": 19,
   "metadata": {},
   "outputs": [
    {
     "name": "stderr",
     "output_type": "stream",
     "text": [
      "/opt/conda/lib/python3.8/site-packages/sklearn/metrics/_classification.py:1308: UndefinedMetricWarning: Precision and F-score are ill-defined and being set to 0.0 in labels with no predicted samples. Use `zero_division` parameter to control this behavior.\n",
      "  _warn_prf(average, modifier, msg_start, len(result))\n",
      "/opt/conda/lib/python3.8/site-packages/sklearn/metrics/_classification.py:1308: UndefinedMetricWarning: Precision and F-score are ill-defined and being set to 0.0 in labels with no predicted samples. Use `zero_division` parameter to control this behavior.\n",
      "  _warn_prf(average, modifier, msg_start, len(result))\n"
     ]
    },
    {
     "name": "stdout",
     "output_type": "stream",
     "text": [
      "              precision    recall  f1-score   support\n",
      "\n",
      "          $$       1.00      1.00      1.00     91692\n",
      "          AJ       0.90      0.90      0.90     16031\n",
      "          AV       0.92      0.91      0.92     38078\n",
      "          AX       0.97      0.96      0.97     44720\n",
      "          CC       0.98      0.99      0.99    127801\n",
      "          CL       0.92      0.87      0.90      6738\n",
      "          FX       1.00      1.00      1.00     28991\n",
      "          IJ       1.00      1.00      1.00        12\n",
      "           N       0.00      0.00      0.00         2\n",
      "          NG       1.00      1.00      1.00     12121\n",
      "          NN       0.99      0.99      0.99    283971\n",
      "          NU       0.98      0.97      0.98     19220\n",
      "          PA       0.98      0.88      0.93      1916\n",
      "          PR       0.93      0.90      0.91     12869\n",
      "          PS       0.96      0.96      0.96     39318\n",
      "          PU       1.00      1.00      1.00      1576\n",
      "          VV       0.98      0.98      0.98    257833\n",
      "          XX       1.00      0.75      0.86         4\n",
      "\n",
      "    accuracy                           0.98    982893\n",
      "   macro avg       0.92      0.89      0.90    982893\n",
      "weighted avg       0.98      0.98      0.98    982893\n",
      "\n"
     ]
    },
    {
     "name": "stderr",
     "output_type": "stream",
     "text": [
      "/opt/conda/lib/python3.8/site-packages/sklearn/metrics/_classification.py:1308: UndefinedMetricWarning: Precision and F-score are ill-defined and being set to 0.0 in labels with no predicted samples. Use `zero_division` parameter to control this behavior.\n",
      "  _warn_prf(average, modifier, msg_start, len(result))\n"
     ]
    }
   ],
   "source": [
    "tagged_test_sentences = pt_tagger.tag_sents([[token for token,tag in sent] for sent in train_data])\n",
    "gold = [str(tag) for sentence in train_data for token,tag in sentence]\n",
    "pred = [str(tag) for sentence in tagged_test_sentences for token,tag in sentence]\n",
    "from sklearn import metrics\n",
    "print(metrics.classification_report(gold, pred))"
   ]
  },
  {
   "cell_type": "code",
   "execution_count": 20,
   "metadata": {},
   "outputs": [],
   "source": [
    "import pickle"
   ]
  },
  {
   "cell_type": "code",
   "execution_count": 21,
   "metadata": {},
   "outputs": [],
   "source": [
    "# Store data (serialize)\n",
    "with open('blackboard_pt_tagger-v1.0.pkl', 'wb') as handle:\n",
    "    pickle.dump(pt_tagger, handle, protocol=pickle.HIGHEST_PROTOCOL)"
   ]
  },
  {
   "cell_type": "code",
   "execution_count": 41,
   "metadata": {},
   "outputs": [],
   "source": [
    "import json\n",
    "unigram_tagger_json= json.dumps(unigram_tagger._context_to_tag, ensure_ascii=False)"
   ]
  },
  {
   "cell_type": "code",
   "execution_count": 42,
   "metadata": {},
   "outputs": [],
   "source": [
    "# Store data (serialize)\n",
    "with open('blackboard_unigram_tagger-v1.0.json', 'w',encoding = \"utf-8-sig\") as f:\n",
    "    f.write(unigram_tagger_json)"
   ]
  },
  {
   "cell_type": "code",
   "execution_count": 30,
   "metadata": {},
   "outputs": [],
   "source": [
    "import json\n",
    "def convert_model(name):\n",
    "  with open(name+'.pkl','rb') as f:\n",
    "    data=pickle.load(f)\n",
    "  newdata = {}\n",
    "  newdata['weights']=data.model.weights\n",
    "  newdata['tagdict']=data.tagdict\n",
    "  newdata['classes']=list(data.classes)\n",
    "  with open(name+\"_pythainlp.json\",\"w\") as json_file:\n",
    "    json.dump(newdata, json_file, ensure_ascii=False)"
   ]
  },
  {
   "cell_type": "code",
   "execution_count": 31,
   "metadata": {},
   "outputs": [],
   "source": [
    "convert_model(\"blackboard_pt_tagger-v1.0\")"
   ]
  },
  {
   "cell_type": "code",
   "execution_count": null,
   "metadata": {},
   "outputs": [],
   "source": []
  }
 ],
 "metadata": {
  "kernelspec": {
   "display_name": "Python 3 (ipykernel)",
   "language": "python",
   "name": "python3"
  },
  "language_info": {
   "codemirror_mode": {
    "name": "ipython",
    "version": 3
   },
   "file_extension": ".py",
   "mimetype": "text/x-python",
   "name": "python",
   "nbconvert_exporter": "python",
   "pygments_lexer": "ipython3",
   "version": "3.8.12"
  }
 },
 "nbformat": 4,
 "nbformat_minor": 4
}
