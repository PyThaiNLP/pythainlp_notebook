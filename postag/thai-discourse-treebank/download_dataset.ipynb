{
 "cells": [
  {
   "cell_type": "code",
   "execution_count": 1,
   "metadata": {},
   "outputs": [
    {
     "name": "stdout",
     "output_type": "stream",
     "text": [
      "--2024-05-07 00:11:44--  https://github.com/nlp-chula/thai-discourse-treebank/raw/main/data/th-tdtb/dev.conllu\n",
      "Resolving github.com (github.com)... 20.205.243.166\n",
      "Connecting to github.com (github.com)|20.205.243.166|:443... connected.\n",
      "HTTP request sent, awaiting response... 302 Found\n",
      "Location: https://raw.githubusercontent.com/nlp-chula/thai-discourse-treebank/main/data/th-tdtb/dev.conllu [following]\n",
      "--2024-05-07 00:11:45--  https://raw.githubusercontent.com/nlp-chula/thai-discourse-treebank/main/data/th-tdtb/dev.conllu\n",
      "Resolving raw.githubusercontent.com (raw.githubusercontent.com)... 185.199.110.133, 185.199.109.133, 185.199.108.133, ...\n",
      "Connecting to raw.githubusercontent.com (raw.githubusercontent.com)|185.199.110.133|:443... connected.\n",
      "HTTP request sent, awaiting response... 200 OK\n",
      "Length: 1769176 (1.7M) [text/plain]\n",
      "Saving to: ‘dev.conllu’\n",
      "\n",
      "dev.conllu          100%[===================>]   1.69M  --.-KB/s    in 0.06s   \n",
      "\n",
      "2024-05-07 00:11:45 (27.2 MB/s) - ‘dev.conllu’ saved [1769176/1769176]\n",
      "\n",
      "--2024-05-07 00:11:46--  https://github.com/nlp-chula/thai-discourse-treebank/raw/main/data/th-tdtb/test.conllu\n",
      "Resolving github.com (github.com)... 20.205.243.166\n",
      "Connecting to github.com (github.com)|20.205.243.166|:443... connected.\n",
      "HTTP request sent, awaiting response... 302 Found\n",
      "Location: https://raw.githubusercontent.com/nlp-chula/thai-discourse-treebank/main/data/th-tdtb/test.conllu [following]\n",
      "--2024-05-07 00:11:46--  https://raw.githubusercontent.com/nlp-chula/thai-discourse-treebank/main/data/th-tdtb/test.conllu\n",
      "Resolving raw.githubusercontent.com (raw.githubusercontent.com)... 185.199.110.133, 185.199.109.133, 185.199.108.133, ...\n",
      "Connecting to raw.githubusercontent.com (raw.githubusercontent.com)|185.199.110.133|:443... connected.\n",
      "HTTP request sent, awaiting response... 200 OK\n",
      "Length: 1944780 (1.9M) [text/plain]\n",
      "Saving to: ‘test.conllu’\n",
      "\n",
      "test.conllu         100%[===================>]   1.85M  --.-KB/s    in 0.1s    \n",
      "\n",
      "2024-05-07 00:11:47 (13.3 MB/s) - ‘test.conllu’ saved [1944780/1944780]\n",
      "\n",
      "--2024-05-07 00:11:47--  https://github.com/nlp-chula/thai-discourse-treebank/raw/main/data/th-tdtb/train.conllu\n",
      "Resolving github.com (github.com)... 20.205.243.166\n",
      "Connecting to github.com (github.com)|20.205.243.166|:443... connected.\n",
      "HTTP request sent, awaiting response... 302 Found\n",
      "Location: https://raw.githubusercontent.com/nlp-chula/thai-discourse-treebank/main/data/th-tdtb/train.conllu [following]\n",
      "--2024-05-07 00:11:48--  https://raw.githubusercontent.com/nlp-chula/thai-discourse-treebank/main/data/th-tdtb/train.conllu\n",
      "Resolving raw.githubusercontent.com (raw.githubusercontent.com)... 185.199.110.133, 185.199.109.133, 185.199.108.133, ...\n",
      "Connecting to raw.githubusercontent.com (raw.githubusercontent.com)|185.199.110.133|:443... connected.\n",
      "HTTP request sent, awaiting response... 200 OK\n",
      "Length: 13158552 (13M) [text/plain]\n",
      "Saving to: ‘train.conllu’\n",
      "\n",
      "train.conllu        100%[===================>]  12.55M  25.3MB/s    in 0.5s    \n",
      "\n",
      "2024-05-07 00:11:50 (25.3 MB/s) - ‘train.conllu’ saved [13158552/13158552]\n",
      "\n"
     ]
    }
   ],
   "source": [
    "!wget https://github.com/nlp-chula/thai-discourse-treebank/raw/main/data/th-tdtb/dev.conllu\n",
    "!wget https://github.com/nlp-chula/thai-discourse-treebank/raw/main/data/th-tdtb/test.conllu\n",
    "!wget https://github.com/nlp-chula/thai-discourse-treebank/raw/main/data/th-tdtb/train.conllu"
   ]
  },
  {
   "cell_type": "code",
   "execution_count": null,
   "metadata": {},
   "outputs": [],
   "source": []
  }
 ],
 "metadata": {
  "kernelspec": {
   "display_name": "Python 3.9.6 64-bit",
   "language": "python",
   "name": "python3"
  },
  "language_info": {
   "codemirror_mode": {
    "name": "ipython",
    "version": 3
   },
   "file_extension": ".py",
   "mimetype": "text/x-python",
   "name": "python",
   "nbconvert_exporter": "python",
   "pygments_lexer": "ipython3",
   "version": "3.9.6"
  },
  "orig_nbformat": 4,
  "vscode": {
   "interpreter": {
    "hash": "31f2aee4e71d21fbe5cf8b01ff0e069b9275f58929596ceb00d14d90e3e16cd6"
   }
  }
 },
 "nbformat": 4,
 "nbformat_minor": 2
}
