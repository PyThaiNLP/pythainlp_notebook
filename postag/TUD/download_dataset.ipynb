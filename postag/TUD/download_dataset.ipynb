{
 "cells": [
  {
   "cell_type": "code",
   "execution_count": 1,
   "metadata": {},
   "outputs": [
    {
     "name": "stdout",
     "output_type": "stream",
     "text": [
      "--2024-05-27 22:48:12--  https://github.com/nlp-chula/TUD/raw/main/TUD/dev.conllu\n",
      "Resolving github.com (github.com)... 140.82.116.4\n",
      "Connecting to github.com (github.com)|140.82.116.4|:443... connected.\n",
      "HTTP request sent, awaiting response... 302 Found\n",
      "Location: https://raw.githubusercontent.com/nlp-chula/TUD/main/TUD/dev.conllu [following]\n",
      "--2024-05-27 22:48:13--  https://raw.githubusercontent.com/nlp-chula/TUD/main/TUD/dev.conllu\n",
      "Resolving raw.githubusercontent.com (raw.githubusercontent.com)... 185.199.111.133, 185.199.108.133, 185.199.109.133, ...\n",
      "Connecting to raw.githubusercontent.com (raw.githubusercontent.com)|185.199.111.133|:443... connected.\n",
      "HTTP request sent, awaiting response... 200 OK\n",
      "Length: 502412 (491K) [text/plain]\n",
      "Saving to: ‘dev.conllu’\n",
      "\n",
      "dev.conllu          100%[===================>] 490.64K  --.-KB/s    in 0.05s   \n",
      "\n",
      "2024-05-27 22:48:14 (9.85 MB/s) - ‘dev.conllu’ saved [502412/502412]\n",
      "\n",
      "--2024-05-27 22:48:14--  https://github.com/nlp-chula/TUD/raw/main/TUD/test.conllu\n",
      "Resolving github.com (github.com)... 140.82.116.4\n",
      "Connecting to github.com (github.com)|140.82.116.4|:443... connected.\n",
      "HTTP request sent, awaiting response... 302 Found\n",
      "Location: https://raw.githubusercontent.com/nlp-chula/TUD/main/TUD/test.conllu [following]\n",
      "--2024-05-27 22:48:16--  https://raw.githubusercontent.com/nlp-chula/TUD/main/TUD/test.conllu\n",
      "Resolving raw.githubusercontent.com (raw.githubusercontent.com)... 185.199.111.133, 185.199.108.133, 185.199.109.133, ...\n",
      "Connecting to raw.githubusercontent.com (raw.githubusercontent.com)|185.199.111.133|:443... connected.\n",
      "HTTP request sent, awaiting response... 200 OK\n",
      "Length: 511431 (499K) [text/plain]\n",
      "Saving to: ‘test.conllu’\n",
      "\n",
      "test.conllu         100%[===================>] 499.44K  --.-KB/s    in 0.04s   \n",
      "\n",
      "2024-05-27 22:48:16 (11.0 MB/s) - ‘test.conllu’ saved [511431/511431]\n",
      "\n",
      "--2024-05-27 22:48:16--  https://github.com/nlp-chula/TUD/raw/main/TUD/train.conllu\n",
      "Resolving github.com (github.com)... 140.82.116.4\n",
      "Connecting to github.com (github.com)|140.82.116.4|:443... connected.\n",
      "HTTP request sent, awaiting response... 302 Found\n",
      "Location: https://raw.githubusercontent.com/nlp-chula/TUD/main/TUD/train.conllu [following]\n",
      "--2024-05-27 22:48:18--  https://raw.githubusercontent.com/nlp-chula/TUD/main/TUD/train.conllu\n",
      "Resolving raw.githubusercontent.com (raw.githubusercontent.com)... 185.199.111.133, 185.199.108.133, 185.199.109.133, ...\n",
      "Connecting to raw.githubusercontent.com (raw.githubusercontent.com)|185.199.111.133|:443... connected.\n",
      "HTTP request sent, awaiting response... 200 OK\n",
      "Length: 4137272 (3.9M) [text/plain]\n",
      "Saving to: ‘train.conllu’\n",
      "\n",
      "train.conllu        100%[===================>]   3.95M  19.6MB/s    in 0.2s    \n",
      "\n",
      "2024-05-27 22:48:20 (19.6 MB/s) - ‘train.conllu’ saved [4137272/4137272]\n",
      "\n"
     ]
    }
   ],
   "source": [
    "!wget https://github.com/nlp-chula/TUD/raw/main/TUD/dev.conllu\n",
    "!wget https://github.com/nlp-chula/TUD/raw/main/TUD/test.conllu\n",
    "!wget https://github.com/nlp-chula/TUD/raw/main/TUD/train.conllu"
   ]
  },
  {
   "cell_type": "code",
   "execution_count": null,
   "metadata": {},
   "outputs": [],
   "source": []
  }
 ],
 "metadata": {
  "kernelspec": {
   "display_name": "Python 3.8.13 ('base')",
   "language": "python",
   "name": "python3"
  },
  "language_info": {
   "codemirror_mode": {
    "name": "ipython",
    "version": 3
   },
   "file_extension": ".py",
   "mimetype": "text/x-python",
   "name": "python",
   "nbconvert_exporter": "python",
   "pygments_lexer": "ipython3",
   "version": "3.8.13"
  },
  "orig_nbformat": 4,
  "vscode": {
   "interpreter": {
    "hash": "a1d6ff38954a1cdba4cf61ffa51e42f4658fc35985cd256cd89123cae8466a39"
   }
  }
 },
 "nbformat": 4,
 "nbformat_minor": 2
}
