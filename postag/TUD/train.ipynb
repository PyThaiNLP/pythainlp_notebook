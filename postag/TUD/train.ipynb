{
  "cells": [
    {
      "cell_type": "code",
      "execution_count": 1,
      "metadata": {
        "colab": {
          "autoexec": {
            "startup": false,
            "wait_interval": 0
          },
          "base_uri": "https://localhost:8080/",
          "height": 168
        },
        "colab_type": "code",
        "executionInfo": {
          "elapsed": 5100,
          "status": "ok",
          "timestamp": 1523766213988,
          "user": {
            "displayName": "WANNAPHONG PHATTHIYAPHAIBUN",
            "photoUrl": "//lh3.googleusercontent.com/-qu2kLQSWjS0/AAAAAAAAAAI/AAAAAAAAAAo/jIIcIduqDGQ/s50-c-k-no/photo.jpg",
            "userId": "116726292347441604670"
          },
          "user_tz": -420
        },
        "id": "wZ4BpgHWiw7g",
        "outputId": "75bf6e1e-c479-44df-b6e5-2908e66ea3d9"
      },
      "outputs": [
        {
          "name": "stdout",
          "output_type": "stream",
          "text": [
            "Requirement already satisfied: conllu in /Users/wannaphongphatthiyaphaibun/miniforge3/lib/python3.8/site-packages (4.5.3)\n",
            "\n",
            "\u001b[1m[\u001b[0m\u001b[34;49mnotice\u001b[0m\u001b[1;39;49m]\u001b[0m\u001b[39;49m A new release of pip is available: \u001b[0m\u001b[31;49m23.1.2\u001b[0m\u001b[39;49m -> \u001b[0m\u001b[32;49m24.0\u001b[0m\n",
            "\u001b[1m[\u001b[0m\u001b[34;49mnotice\u001b[0m\u001b[1;39;49m]\u001b[0m\u001b[39;49m To update, run: \u001b[0m\u001b[32;49mpip install --upgrade pip\u001b[0m\n"
          ]
        }
      ],
      "source": [
        "!pip install conllu"
      ]
    },
    {
      "cell_type": "code",
      "execution_count": 1,
      "metadata": {
        "colab": {
          "autoexec": {
            "startup": false,
            "wait_interval": 0
          }
        },
        "colab_type": "code",
        "id": "zRLHt9uii082"
      },
      "outputs": [],
      "source": [
        "with open('train.conllu', 'r') as f:\n",
        "  text=f.read()"
      ]
    },
    {
      "cell_type": "code",
      "execution_count": 2,
      "metadata": {
        "colab": {
          "autoexec": {
            "startup": false,
            "wait_interval": 0
          }
        },
        "colab_type": "code",
        "id": "B_V09WRcjItw"
      },
      "outputs": [],
      "source": [
        "from conllu import parse, parse_tree\n",
        "t=parse(text)"
      ]
    },
    {
      "cell_type": "code",
      "execution_count": 3,
      "metadata": {
        "colab": {
          "autoexec": {
            "startup": false,
            "wait_interval": 0
          },
          "base_uri": "https://localhost:8080/",
          "height": 36
        },
        "colab_type": "code",
        "executionInfo": {
          "elapsed": 1722,
          "status": "ok",
          "timestamp": 1523766895872,
          "user": {
            "displayName": "WANNAPHONG PHATTHIYAPHAIBUN",
            "photoUrl": "//lh3.googleusercontent.com/-qu2kLQSWjS0/AAAAAAAAAAI/AAAAAAAAAAo/jIIcIduqDGQ/s50-c-k-no/photo.jpg",
            "userId": "116726292347441604670"
          },
          "user_tz": -420
        },
        "id": "tOg91jOejUJo",
        "outputId": "7d55097b-1c6b-4965-f3cb-ae5c5f627529"
      },
      "outputs": [
        {
          "name": "stdout",
          "output_type": "stream",
          "text": [
            "ADV\n"
          ]
        }
      ],
      "source": [
        "print(t[1][0]['upostag'])"
      ]
    },
    {
      "cell_type": "code",
      "execution_count": 4,
      "metadata": {
        "colab": {
          "autoexec": {
            "startup": false,
            "wait_interval": 0
          }
        },
        "colab_type": "code",
        "id": "jZ9vrYkQkNrQ"
      },
      "outputs": [],
      "source": [
        "data=[]"
      ]
    },
    {
      "cell_type": "code",
      "execution_count": 5,
      "metadata": {
        "colab": {
          "autoexec": {
            "startup": false,
            "wait_interval": 0
          },
          "base_uri": "https://localhost:8080/",
          "height": 36
        },
        "colab_type": "code",
        "executionInfo": {
          "elapsed": 1190,
          "status": "ok",
          "timestamp": 1523766597312,
          "user": {
            "displayName": "WANNAPHONG PHATTHIYAPHAIBUN",
            "photoUrl": "//lh3.googleusercontent.com/-qu2kLQSWjS0/AAAAAAAAAAI/AAAAAAAAAAo/jIIcIduqDGQ/s50-c-k-no/photo.jpg",
            "userId": "116726292347441604670"
          },
          "user_tz": -420
        },
        "id": "_C3xB0FUkPl0",
        "outputId": "65786534-8d7f-48c2-c35e-b15d98d240cd"
      },
      "outputs": [
        {
          "data": {
            "text/plain": [
              "2902"
            ]
          },
          "execution_count": 5,
          "metadata": {},
          "output_type": "execute_result"
        }
      ],
      "source": [
        "len(t)"
      ]
    },
    {
      "cell_type": "code",
      "execution_count": 6,
      "metadata": {
        "colab": {
          "autoexec": {
            "startup": false,
            "wait_interval": 0
          }
        },
        "colab_type": "code",
        "id": "15GQzdCXkSAE"
      },
      "outputs": [],
      "source": [
        "for i in t:\n",
        "  data_list=[]\n",
        "  for r in i:\n",
        "    data_list.append((r['form'],r['upostag']))\n",
        "  data.append(data_list)"
      ]
    },
    {
      "cell_type": "code",
      "execution_count": 7,
      "metadata": {
        "colab": {
          "autoexec": {
            "startup": false,
            "wait_interval": 0
          }
        },
        "colab_type": "code",
        "id": "LMa6iBtFmE60"
      },
      "outputs": [],
      "source": [
        "import nltk"
      ]
    },
    {
      "cell_type": "code",
      "execution_count": 8,
      "metadata": {
        "colab": {
          "autoexec": {
            "startup": false,
            "wait_interval": 0
          }
        },
        "colab_type": "code",
        "id": "zBRjkDjKmKaO"
      },
      "outputs": [],
      "source": [
        "unigram_tagger = nltk.tag.UnigramTagger(data)"
      ]
    },
    {
      "cell_type": "code",
      "execution_count": 9,
      "metadata": {},
      "outputs": [],
      "source": [
        "from pythainlp.tag import PerceptronTagger"
      ]
    },
    {
      "cell_type": "code",
      "execution_count": 10,
      "metadata": {
        "colab": {
          "autoexec": {
            "startup": false,
            "wait_interval": 0
          }
        },
        "colab_type": "code",
        "id": "WIImLuegmPuw"
      },
      "outputs": [],
      "source": [
        "pt_tagger = nltk.tag.PerceptronTagger(load=False)\n",
        "pt_tagger.train(data)"
      ]
    },
    {
      "cell_type": "code",
      "execution_count": 11,
      "metadata": {
        "colab": {
          "autoexec": {
            "startup": false,
            "wait_interval": 0
          },
          "base_uri": "https://localhost:8080/",
          "height": 111
        },
        "colab_type": "code",
        "executionInfo": {
          "elapsed": 2044,
          "status": "ok",
          "timestamp": 1523767222656,
          "user": {
            "displayName": "WANNAPHONG PHATTHIYAPHAIBUN",
            "photoUrl": "//lh3.googleusercontent.com/-qu2kLQSWjS0/AAAAAAAAAAI/AAAAAAAAAAo/jIIcIduqDGQ/s50-c-k-no/photo.jpg",
            "userId": "116726292347441604670"
          },
          "user_tz": -420
        },
        "id": "Uso34XevmY8o",
        "outputId": "4e265986-f1af-4d12-9830-8b0e250b28aa"
      },
      "outputs": [
        {
          "data": {
            "text/plain": [
              "[('ผม', 'PRON'),\n",
              " ('รัก', 'VERB'),\n",
              " ('คุณ', 'PRON'),\n",
              " ('นะ', 'PART'),\n",
              " ('ครับ', 'PART')]"
            ]
          },
          "execution_count": 11,
          "metadata": {},
          "output_type": "execute_result"
        }
      ],
      "source": [
        "pt_tagger.tag(['ผม','รัก','คุณ','นะ','ครับ'])"
      ]
    },
    {
      "cell_type": "code",
      "execution_count": 12,
      "metadata": {},
      "outputs": [],
      "source": [
        "with open('test.conllu', 'r') as f:\n",
        "  test_text=f.read()\n",
        "test_t=parse(test_text)\n",
        "test_data=[]\n",
        "for i in test_t:\n",
        "  data_list=[]\n",
        "  for r in i:\n",
        "    data_list.append((r['form'],r['upostag']))\n",
        "  test_data.append(data_list)"
      ]
    },
    {
      "cell_type": "code",
      "execution_count": 13,
      "metadata": {},
      "outputs": [
        {
          "name": "stdout",
          "output_type": "stream",
          "text": [
            "              precision    recall  f1-score   support\n",
            "\n",
            "         ADJ       0.60      0.53      0.57       197\n",
            "         ADP       0.89      0.88      0.88       560\n",
            "         ADV       0.69      0.73      0.71       521\n",
            "         AUX       0.78      0.84      0.81       421\n",
            "       CCONJ       0.85      0.81      0.83       270\n",
            "         DET       0.82      0.94      0.87       144\n",
            "        NOUN       0.92      0.94      0.93      2310\n",
            "         NUM       0.97      0.94      0.95       118\n",
            "        PART       0.86      0.78      0.82       169\n",
            "        PRON       0.86      0.93      0.90       350\n",
            "       PROPN       0.86      0.75      0.80       295\n",
            "       PUNCT       1.00      1.00      1.00       125\n",
            "       SCONJ       0.84      0.73      0.78       335\n",
            "         SYM       1.00      1.00      1.00         1\n",
            "        VERB       0.88      0.87      0.88      1867\n",
            "\n",
            "    accuracy                           0.86      7683\n",
            "   macro avg       0.85      0.84      0.85      7683\n",
            "weighted avg       0.86      0.86      0.86      7683\n",
            "\n"
          ]
        }
      ],
      "source": [
        "tagged_test_sentences = pt_tagger.tag_sents([[token for token,tag in sent] for sent in test_data])\n",
        "gold = [str(tag) for sentence in test_data for token,tag in sentence]\n",
        "pred = [str(tag) for sentence in tagged_test_sentences for token,tag in sentence]\n",
        "from sklearn import metrics\n",
        "print(metrics.classification_report(gold, pred))"
      ]
    },
    {
      "cell_type": "code",
      "execution_count": 14,
      "metadata": {},
      "outputs": [],
      "source": [
        "import json\n",
        "def convert_model(name,data):\n",
        "  newdata = {}\n",
        "  newdata['weights']=data.model.weights\n",
        "  newdata['tagdict']=data.tagdict\n",
        "  newdata['classes']=list(data.classes)\n",
        "  with open(name+\".json\",\"w\") as json_file:\n",
        "    json.dump(newdata, json_file, ensure_ascii=False)"
      ]
    },
    {
      "cell_type": "code",
      "execution_count": 15,
      "metadata": {},
      "outputs": [],
      "source": [
        "convert_model(\"tud-pt_tagger\",pt_tagger)"
      ]
    },
    {
      "cell_type": "code",
      "execution_count": 16,
      "metadata": {},
      "outputs": [],
      "source": [
        "import json\n",
        "unigram_tagger_json= json.dumps(unigram_tagger._context_to_tag, ensure_ascii=False)\n",
        "# Store data (serialize)\n",
        "with open('tud-unigram_tagger.json', 'w',encoding = \"utf-8-sig\") as f:\n",
        "    f.write(unigram_tagger_json)"
      ]
    },
    {
      "cell_type": "code",
      "execution_count": null,
      "metadata": {},
      "outputs": [],
      "source": []
    }
  ],
  "metadata": {
    "colab": {
      "collapsed_sections": [],
      "default_view": {},
      "name": "train_ud_thai-pud_pythainlp.ipynb",
      "provenance": [],
      "version": "0.3.2",
      "views": {}
    },
    "kernelspec": {
      "display_name": "Python 3.8.13 ('base')",
      "language": "python",
      "name": "python3"
    },
    "language_info": {
      "codemirror_mode": {
        "name": "ipython",
        "version": 3
      },
      "file_extension": ".py",
      "mimetype": "text/x-python",
      "name": "python",
      "nbconvert_exporter": "python",
      "pygments_lexer": "ipython3",
      "version": "3.8.13"
    },
    "vscode": {
      "interpreter": {
        "hash": "a1d6ff38954a1cdba4cf61ffa51e42f4658fc35985cd256cd89123cae8466a39"
      }
    }
  },
  "nbformat": 4,
  "nbformat_minor": 0
}
