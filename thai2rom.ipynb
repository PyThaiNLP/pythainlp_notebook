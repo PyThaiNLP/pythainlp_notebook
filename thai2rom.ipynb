{
  "nbformat": 4,
  "nbformat_minor": 0,
  "metadata": {
    "colab": {
      "name": "thai2rom.ipynb",
      "version": "0.3.2",
      "provenance": [],
      "collapsed_sections": []
    },
    "kernelspec": {
      "name": "python3",
      "display_name": "Python 3"
    },
    "accelerator": "GPU"
  },
  "cells": [
    {
      "metadata": {
        "id": "zpCobBnXI9VI",
        "colab_type": "text"
      },
      "cell_type": "markdown",
      "source": [
        "# Thai2Rom\n",
        "\n",
        "จำกัดจำนวนการรับข้อมูลที่ 29 ตัวอักษร\n",
        "\n",
        "ความต้องการ\n",
        "\n",
        "- แรม 5.5GB ขึ้นไป\n",
        "\n",
        "คำแนะนำในการนำไปใช้\n",
        "\n",
        "- ตัดคำก่อนนำเข้า thai2rom โดยเอาทีละคำมาผ่าน thai2rom"
      ]
    },
    {
      "metadata": {
        "id": "wPeTGe5qCmgl",
        "colab_type": "code",
        "colab": {
          "base_uri": "https://localhost:8080/",
          "height": 660
        },
        "outputId": "472a7c75-8ba5-46ff-a657-957eb1c1f3c6"
      },
      "cell_type": "code",
      "source": [
        "!pip install https://github.com/PyThaiNLP/pythainlp/archive/dev.zip"
      ],
      "execution_count": 1,
      "outputs": [
        {
          "output_type": "stream",
          "text": [
            "Collecting https://github.com/PyThaiNLP/pythainlp/archive/romanization.zip\n",
            "  Downloading https://github.com/PyThaiNLP/pythainlp/archive/romanization.zip\n",
            "\u001b[K     / 16.7MB 65.1MB/s\n",
            "Requirement already satisfied: nltk>=3.2.2 in /usr/local/lib/python3.6/dist-packages (from pythainlp==1.7) (3.2.5)\n",
            "Requirement already satisfied: future>=0.16.0 in /usr/local/lib/python3.6/dist-packages (from pythainlp==1.7) (0.16.0)\n",
            "Requirement already satisfied: six in /usr/local/lib/python3.6/dist-packages (from pythainlp==1.7) (1.11.0)\n",
            "Collecting marisa_trie<=0.7.4 (from pythainlp==1.7)\n",
            "\u001b[?25l  Downloading https://files.pythonhosted.org/packages/1b/5f/21295ebb1feb1abde1e7652c0a4c182b4c25bdd5dda5a0f5b34d4e88bcc3/marisa_trie-0.7.4-cp36-cp36m-manylinux1_x86_64.whl (870kB)\n",
            "\u001b[K    100% |████████████████████████████████| 880kB 7.0MB/s \n",
            "\u001b[?25hRequirement already satisfied: requests in /usr/local/lib/python3.6/dist-packages (from pythainlp==1.7) (2.18.4)\n",
            "Collecting dill (from pythainlp==1.7)\n",
            "\u001b[?25l  Downloading https://files.pythonhosted.org/packages/6f/78/8b96476f4ae426db71c6e86a8e6a81407f015b34547e442291cd397b18f3/dill-0.2.8.2.tar.gz (150kB)\n",
            "\u001b[K    100% |████████████████████████████████| 153kB 8.7MB/s \n",
            "\u001b[?25hRequirement already satisfied: pytz in /usr/local/lib/python3.6/dist-packages (from pythainlp==1.7) (2018.5)\n",
            "Collecting conllu (from pythainlp==1.7)\n",
            "  Downloading https://files.pythonhosted.org/packages/2c/c4/87357f6f494948a012c66cc8b30b5a22e483b82a16f1780645650d98d0b0/conllu-1.0-py2.py3-none-any.whl\n",
            "Collecting tinydb (from pythainlp==1.7)\n",
            "  Downloading https://files.pythonhosted.org/packages/97/6c/fb150f2c09d8b6f23b8f080396673794f970fa7ca0d50900fbe5fe07b8b9/tinydb-3.10.0-py2.py3-none-any.whl\n",
            "Collecting tqdm (from pythainlp==1.7)\n",
            "\u001b[?25l  Downloading https://files.pythonhosted.org/packages/7d/e6/19dfaff08fcbee7f3453e5b537e65a8364f1945f921a36d08be1e2ff3475/tqdm-4.24.0-py2.py3-none-any.whl (43kB)\n",
            "\u001b[K    100% |████████████████████████████████| 51kB 13.6MB/s \n",
            "\u001b[?25hRequirement already satisfied: idna<2.7,>=2.5 in /usr/local/lib/python3.6/dist-packages (from requests->pythainlp==1.7) (2.6)\n",
            "Requirement already satisfied: chardet<3.1.0,>=3.0.2 in /usr/local/lib/python3.6/dist-packages (from requests->pythainlp==1.7) (3.0.4)\n",
            "Requirement already satisfied: urllib3<1.23,>=1.21.1 in /usr/local/lib/python3.6/dist-packages (from requests->pythainlp==1.7) (1.22)\n",
            "Requirement already satisfied: certifi>=2017.4.17 in /usr/local/lib/python3.6/dist-packages (from requests->pythainlp==1.7) (2018.8.13)\n",
            "Building wheels for collected packages: pythainlp, dill\n",
            "  Running setup.py bdist_wheel for pythainlp ... \u001b[?25l-\b \b\\\b \b|\b \b/\b \b-\b \b\\\b \b|\b \b/\b \b-\b \bdone\n",
            "\u001b[?25h  Stored in directory: /tmp/pip-ephem-wheel-cache-u0hjn6f7/wheels/dc/2a/9d/14f7af4f5e2cfd51923922bbbef0ad38a28f314e9bea87777c\n",
            "  Running setup.py bdist_wheel for dill ... \u001b[?25l-\b \b\\\b \bdone\n",
            "\u001b[?25h  Stored in directory: /content/.cache/pip/wheels/e2/5d/17/f87cb7751896ac629b435a8696f83ee75b11029f5d6f6bda72\n",
            "Successfully built pythainlp dill\n",
            "Installing collected packages: marisa-trie, dill, conllu, tinydb, tqdm, pythainlp\n",
            "Successfully installed conllu-1.0 dill-0.2.8.2 marisa-trie-0.7.4 pythainlp-1.7 tinydb-3.10.0 tqdm-4.24.0\n"
          ],
          "name": "stdout"
        }
      ]
    },
    {
      "metadata": {
        "id": "Q80XKdM9EXqZ",
        "colab_type": "code",
        "colab": {
          "base_uri": "https://localhost:8080/",
          "height": 36
        },
        "outputId": "5d4045f7-5771-436e-b4de-a385e54d173d"
      },
      "cell_type": "code",
      "source": [
        "from pythainlp.tools import get_path_db\n",
        "get_path_db()"
      ],
      "execution_count": 13,
      "outputs": [
        {
          "output_type": "execute_result",
          "data": {
            "text/plain": [
              "'/content/pythainlp-data/db.json'"
            ]
          },
          "metadata": {
            "tags": []
          },
          "execution_count": 13
        }
      ]
    },
    {
      "metadata": {
        "id": "DeaKw5OJCyTs",
        "colab_type": "code",
        "colab": {}
      },
      "cell_type": "code",
      "source": [
        "from pythainlp.romanization.thai2rom import thai2rom"
      ],
      "execution_count": 0,
      "outputs": []
    },
    {
      "metadata": {
        "id": "IuAsHRhCC_zH",
        "colab_type": "code",
        "colab": {
          "base_uri": "https://localhost:8080/",
          "height": 130
        },
        "outputId": "2d2555a5-9662-444a-a69f-9da1ec874edc"
      },
      "cell_type": "code",
      "source": [
        "t=thai2rom()"
      ],
      "execution_count": 15,
      "outputs": [
        {
          "output_type": "stream",
          "text": [
            "Download : thai2rom-dataset\n",
            "thai2rom-dataset 0.1\n"
          ],
          "name": "stdout"
        },
        {
          "output_type": "stream",
          "text": [
            "data.csv:  28%|██▊       | 10.9M/39.6M [00:07<00:20, 1.39MB/s]  \n"
          ],
          "name": "stderr"
        },
        {
          "output_type": "stream",
          "text": [
            "Download : thai2rom\n",
            "thai2rom 0.1\n"
          ],
          "name": "stdout"
        },
        {
          "output_type": "stream",
          "text": [
            "thai2rom.hdf5: 5.38MB [00:00, 6.37MB/s]                            \n"
          ],
          "name": "stderr"
        }
      ]
    },
    {
      "metadata": {
        "id": "ZJpyVcRZEp8f",
        "colab_type": "code",
        "colab": {
          "base_uri": "https://localhost:8080/",
          "height": 36
        },
        "outputId": "eca0713b-8481-4745-cd49-62d7ad5bda0f"
      },
      "cell_type": "code",
      "source": [
        "t.romanization(\"คนไทย\")"
      ],
      "execution_count": 16,
      "outputs": [
        {
          "output_type": "execute_result",
          "data": {
            "text/plain": [
              "'khonthai\\n'"
            ]
          },
          "metadata": {
            "tags": []
          },
          "execution_count": 16
        }
      ]
    },
    {
      "metadata": {
        "id": "V6zMGp9ME3ts",
        "colab_type": "code",
        "colab": {
          "base_uri": "https://localhost:8080/",
          "height": 36
        },
        "outputId": "1bb3a5f5-a02f-475f-c700-520306a92138"
      },
      "cell_type": "code",
      "source": [
        "t.romanization(\"ทดสอบระบบ\")"
      ],
      "execution_count": 17,
      "outputs": [
        {
          "output_type": "execute_result",
          "data": {
            "text/plain": [
              "'thotsoprabop\\n'"
            ]
          },
          "metadata": {
            "tags": []
          },
          "execution_count": 17
        }
      ]
    },
    {
      "metadata": {
        "id": "wCjeUA8_FFgf",
        "colab_type": "code",
        "colab": {
          "base_uri": "https://localhost:8080/",
          "height": 36
        },
        "outputId": "5a989a63-ddf6-4e9d-8abf-b21f7dacfff7"
      },
      "cell_type": "code",
      "source": [
        "t.romanization(\"คำแนะนำ\")"
      ],
      "execution_count": 22,
      "outputs": [
        {
          "output_type": "execute_result",
          "data": {
            "text/plain": [
              "'khamnaenam\\n'"
            ]
          },
          "metadata": {
            "tags": []
          },
          "execution_count": 22
        }
      ]
    },
    {
      "metadata": {
        "id": "RAtTwqFgFWwl",
        "colab_type": "code",
        "colab": {
          "base_uri": "https://localhost:8080/",
          "height": 36
        },
        "outputId": "884beb38-3254-4a6b-e2b8-3b9d411b2d9c"
      },
      "cell_type": "code",
      "source": [
        "t.romanization(\"วรรณพงษ์\")"
      ],
      "execution_count": 24,
      "outputs": [
        {
          "output_type": "execute_result",
          "data": {
            "text/plain": [
              "'wannaphong\\n'"
            ]
          },
          "metadata": {
            "tags": []
          },
          "execution_count": 24
        }
      ]
    },
    {
      "metadata": {
        "id": "wLnuEsMAFaR8",
        "colab_type": "code",
        "colab": {
          "base_uri": "https://localhost:8080/",
          "height": 36
        },
        "outputId": "24f63a2a-cc89-4a74-fc1d-a135a55554c4"
      },
      "cell_type": "code",
      "source": [
        "t.romanization(\"วิทยาศาสตร์\")"
      ],
      "execution_count": 25,
      "outputs": [
        {
          "output_type": "execute_result",
          "data": {
            "text/plain": [
              "'witthayasat\\n'"
            ]
          },
          "metadata": {
            "tags": []
          },
          "execution_count": 25
        }
      ]
    },
    {
      "metadata": {
        "id": "9ryPzAzkFPOH",
        "colab_type": "code",
        "colab": {
          "base_uri": "https://localhost:8080/",
          "height": 36
        },
        "outputId": "a9eab396-8985-4061-f0fa-6e1445e837c6"
      },
      "cell_type": "code",
      "source": [
        "t.romanization(\"โอเค\")"
      ],
      "execution_count": 23,
      "outputs": [
        {
          "output_type": "execute_result",
          "data": {
            "text/plain": [
              "'okhe\\n'"
            ]
          },
          "metadata": {
            "tags": []
          },
          "execution_count": 23
        }
      ]
    },
    {
      "metadata": {
        "id": "c0Ug02UNIFtY",
        "colab_type": "code",
        "colab": {
          "base_uri": "https://localhost:8080/",
          "height": 36
        },
        "outputId": "3bc40bfa-7127-4d42-dba4-207c34de4387"
      },
      "cell_type": "code",
      "source": [
        "t.romanization(\"สวัสดี\")"
      ],
      "execution_count": 27,
      "outputs": [
        {
          "output_type": "execute_result",
          "data": {
            "text/plain": [
              "'sawatdi\\n'"
            ]
          },
          "metadata": {
            "tags": []
          },
          "execution_count": 27
        }
      ]
    },
    {
      "metadata": {
        "id": "S9AQyEXYIJzu",
        "colab_type": "code",
        "colab": {
          "base_uri": "https://localhost:8080/",
          "height": 36
        },
        "outputId": "bdbb75c3-6624-4bdb-b288-37563ac69296"
      },
      "cell_type": "code",
      "source": [
        "t.romanization(\"น่ารัก\")"
      ],
      "execution_count": 28,
      "outputs": [
        {
          "output_type": "execute_result",
          "data": {
            "text/plain": [
              "'narak\\n'"
            ]
          },
          "metadata": {
            "tags": []
          },
          "execution_count": 28
        }
      ]
    },
    {
      "metadata": {
        "id": "qBpJLSGHIVHz",
        "colab_type": "code",
        "colab": {
          "base_uri": "https://localhost:8080/",
          "height": 36
        },
        "outputId": "d795b860-023b-4b84-938b-a52112585d53"
      },
      "cell_type": "code",
      "source": [
        "t.romanization(\"หน้ารัก\")"
      ],
      "execution_count": 29,
      "outputs": [
        {
          "output_type": "execute_result",
          "data": {
            "text/plain": [
              "'narak\\n'"
            ]
          },
          "metadata": {
            "tags": []
          },
          "execution_count": 29
        }
      ]
    },
    {
      "metadata": {
        "id": "7r58WXTnIziY",
        "colab_type": "code",
        "colab": {
          "base_uri": "https://localhost:8080/",
          "height": 36
        },
        "outputId": "57f2773e-6474-406b-eee2-d12b5d08ea77"
      },
      "cell_type": "code",
      "source": [
        "t.romanization(\"สวย\")"
      ],
      "execution_count": 30,
      "outputs": [
        {
          "output_type": "execute_result",
          "data": {
            "text/plain": [
              "'suai\\n'"
            ]
          },
          "metadata": {
            "tags": []
          },
          "execution_count": 30
        }
      ]
    },
    {
      "metadata": {
        "id": "AfvzBXotI2oj",
        "colab_type": "code",
        "colab": {
          "base_uri": "https://localhost:8080/",
          "height": 36
        },
        "outputId": "22b886ab-6d6d-46c8-c623-3ad1aa845686"
      },
      "cell_type": "code",
      "source": [
        "t.romanization(\"ขอยาดม\")"
      ],
      "execution_count": 31,
      "outputs": [
        {
          "output_type": "execute_result",
          "data": {
            "text/plain": [
              "'khoyadom\\n'"
            ]
          },
          "metadata": {
            "tags": []
          },
          "execution_count": 31
        }
      ]
    },
    {
      "metadata": {
        "id": "5apidW5-LDGO",
        "colab_type": "code",
        "colab": {
          "base_uri": "https://localhost:8080/",
          "height": 36
        },
        "outputId": "044e9386-9b57-472b-a670-443a20d013b1"
      },
      "cell_type": "code",
      "source": [
        "t.romanization(\"เงิน\")"
      ],
      "execution_count": 33,
      "outputs": [
        {
          "output_type": "execute_result",
          "data": {
            "text/plain": [
              "'ngoen\\n'"
            ]
          },
          "metadata": {
            "tags": []
          },
          "execution_count": 33
        }
      ]
    },
    {
      "metadata": {
        "id": "aj29dzirLl5Y",
        "colab_type": "code",
        "colab": {
          "base_uri": "https://localhost:8080/",
          "height": 36
        },
        "outputId": "84250d8b-7003-41bd-824e-33dcae2793e2"
      },
      "cell_type": "code",
      "source": [
        "t.romanization(\"ฝันดีตาล\")"
      ],
      "execution_count": 34,
      "outputs": [
        {
          "output_type": "execute_result",
          "data": {
            "text/plain": [
              "'fanditan\\n'"
            ]
          },
          "metadata": {
            "tags": []
          },
          "execution_count": 34
        }
      ]
    }
  ]
}