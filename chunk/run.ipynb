{
 "cells": [
  {
   "cell_type": "code",
   "execution_count": 1,
   "metadata": {},
   "outputs": [],
   "source": [
    "from pythainlp.tokenize import word_tokenize\n",
    "from pythainlp.tag import pos_tag\n",
    "from pythainlp.tag import chunk_parse\n",
    "from nltk.chunk import conlltags2tree"
   ]
  },
  {
   "cell_type": "code",
   "execution_count": 2,
   "metadata": {},
   "outputs": [],
   "source": [
    "def test(txt):\n",
    "    m = [(w,t) for w,t in pos_tag(word_tokenize(txt), engine= 'perceptron',corpus = 'orchid')]\n",
    "    tag = chunk_parse(m)\n",
    "    p = [(w,t,tag[i]) for i,(w,t) in enumerate(m)]\n",
    "    return p"
   ]
  },
  {
   "cell_type": "code",
   "execution_count": 3,
   "metadata": {},
   "outputs": [
    {
     "name": "stdout",
     "output_type": "stream",
     "text": [
      "(S (NP แมว/NCMN) (VP กิน/VACT ปลา/NCMN))\n"
     ]
    }
   ],
   "source": [
    "print(conlltags2tree(test(\"แมวกินปลา\")))"
   ]
  },
  {
   "cell_type": "code",
   "execution_count": 4,
   "metadata": {},
   "outputs": [
    {
     "name": "stdout",
     "output_type": "stream",
     "text": [
      "(S (NP เขา/PPRS) (VP ทำ/VACT มือถือ/NCMN หาย/NCMN))\n"
     ]
    }
   ],
   "source": [
    "print(conlltags2tree(test(\"เขาทำมือถือหาย\")))"
   ]
  },
  {
   "cell_type": "code",
   "execution_count": 5,
   "metadata": {},
   "outputs": [
    {
     "name": "stdout",
     "output_type": "stream",
     "text": [
      "(S (NP เขา/PPRS) (VP จะ/XVBM ดำเนินคดี/VACT ลุง/NCMN พล/NCMN))\n"
     ]
    }
   ],
   "source": [
    "print(conlltags2tree(test(\"เขาจะดำเนินคดีลุงพล\")))"
   ]
  },
  {
   "cell_type": "code",
   "execution_count": 16,
   "metadata": {},
   "outputs": [
    {
     "name": "stdout",
     "output_type": "stream",
     "text": [
      "(S\n",
      "  โดย/JSBR\n",
      "  (VP\n",
      "    ประกาศ/VACT\n",
      "    ให้โทษ/RPRE\n",
      "    คุณ/PPRS\n",
      "    ทอง/JSBR\n",
      "    ดี/VATT\n",
      "    เพราะ/JSBR\n",
      "    เขา/PPRS\n",
      "    ได้/XVAE\n",
      "    ทำผิด/ADVN))\n"
     ]
    }
   ],
   "source": [
    "print(conlltags2tree(test(\"โดยประกาศให้โทษคุณทองดีเพราะเขาได้ทำผิด\")))"
   ]
  },
  {
   "cell_type": "code",
   "execution_count": null,
   "metadata": {},
   "outputs": [],
   "source": []
  }
 ],
 "metadata": {
  "kernelspec": {
   "display_name": "Python 3",
   "language": "python",
   "name": "python3"
  },
  "language_info": {
   "codemirror_mode": {
    "name": "ipython",
    "version": 3
   },
   "file_extension": ".py",
   "mimetype": "text/x-python",
   "name": "python",
   "nbconvert_exporter": "python",
   "pygments_lexer": "ipython3",
   "version": "3.8.5"
  }
 },
 "nbformat": 4,
 "nbformat_minor": 4
}
