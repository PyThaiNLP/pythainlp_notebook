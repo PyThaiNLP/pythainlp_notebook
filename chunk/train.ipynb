{
 "cells": [
  {
   "cell_type": "code",
   "execution_count": 1,
   "metadata": {},
   "outputs": [],
   "source": [
    "with open(\"thtb_orchidpp.txt\",\"r\",encoding=\"utf-8-sig\") as f:\n",
    "    listfile = [i.strip() for i in f.readlines()]"
   ]
  },
  {
   "cell_type": "code",
   "execution_count": 2,
   "metadata": {},
   "outputs": [
    {
     "data": {
      "text/plain": [
       "'[S [NP [FIXN การ]] [VP [VACT ประชุม] [PP [RPRE ทาง] [NP [NCMN วิชาการ] [PUNC <space>] [NP [NCMN ครั้ง] [DONM ที่ 1]]]]]]'"
      ]
     },
     "execution_count": 2,
     "metadata": {},
     "output_type": "execute_result"
    }
   ],
   "source": [
    "listfile[0]"
   ]
  },
  {
   "cell_type": "code",
   "execution_count": 3,
   "metadata": {},
   "outputs": [],
   "source": [
    "t = \"\"\"(S\n",
    "(NP การ/FIXN)\n",
    "(VP ประชุม/VACT)\n",
    "(VP ประชุม/VACT)\n",
    ")\"\"\""
   ]
  },
  {
   "cell_type": "code",
   "execution_count": 4,
   "metadata": {},
   "outputs": [
    {
     "data": {
      "text/plain": [
       "['[S [PP [RPRE ใน] [NP [FIXN การ] [VP [VACT ดำเนินการ] [JSBR เพื่อให้] [VP [VSTA บรรลุ]]]]] [S [NP [NCMN วัตถุประสงค์] [DDAC ดังกล่าว]] [PUNC <space>] [VP [XVBM จะ] [VP [XVMM ต้อง] [VP [VACT อาศัย] [NP [NCMN ปัจจัยพื้นฐาน] [CLSP [DIBQ หลาย] [CNIT ประการ]]] [PP [RPRE ใน] [NP [FIXN การ] [VP [VSTA เป็น] [NP [NCMN ตัวเร่ง]]]]]]] [JCRG และ] [VP [VSTA เป็น] [NP [NP [NCMN ฐาน]] [PUNC <space>] [PP [RPRE เช่น] [PUNC <space>] [NP [FIXN การ] [VP [VACT พัฒนา] [NP [NCMN เทคโนโลยี] [ADJC [PREL ที่] [VP [VACT ใช้] [PP [RPRE ใน] [NP [FIXN การ] [VACT ผลิต]]]]]] [PP [RPRE ของ] [NP [NCMN ภาคอุตสาหกรรม]]]]]]]]]]]',\n",
       " '[S [PP [RPRE โดย] [VP [VSTA เป็น] [NP [NCMN ปัจจัยพื้นฐาน]]]] [S [NP [NCMN <space>] [JCRG หรือ] [NCMN ส่วนประกอบ]] [JSBR ที่] [VP [VSTA สำคัญ] [PP [RPRE ของ] [NP [NP [FIXN การ] [VP [VACT ผลิต] [NP [NCMN ผลิตภัณฑ์อุตสาหกรรม]] [AVBP [ADVN แทบ]]]] [CLSP [DIBQ ทุก] [CNIT สาขา]]]]]]]',\n",
       " '[S [PP [RPRE เพื่อ] [VP [VACT พัฒนา] [NP [NCMN เทคโนโลยี]]]] [S [NP [NP [NCMN อิเล็กทรอนิกส์] [PP [RPRE ใน] [NP [NCMN ประเทศ]]]] [PUNC <space>] [PP [RPRE และ] [NP [NCMN เทคโนโลยี]]]] [VP [VSTA ด้าน] [NP [NCMN คอมพิวเตอร์] [DDBQ ทั้ง] [NP [NCMN ซอฟต์แวร์] [JCRG และ] [NCMN ฮาร์ดแวร์]]]]]]',\n",
       " '[S [S [NP [NCMN ศูนย์ฯ]] [PUNC <space>] [VP [XVAM ได้] [VP [VACT ดำเนินงาน] [XVAE มา] [NP [NCMN <space>] [CLSP [DCNM 1] [PUNC <space>] [CMTR ปี]]]]]] [JSBR แล้ว] [S [NP [NCMN <space>] [NP [NCMN ผล] [NP [FIXN การ] [VACT ดำเนินงาน]]]] [VP [XVAM ได้] [VP [VACT ก่อให้เกิด] [NP [NCMN ผลงานวิจัยและพัฒนา] [ADJC [PREL ที่] [VP [VSTA มี] [NP [NCMN คุณค่า]]]]] [AVBP [ADVN มหาศาล]]]]]]',\n",
       " '[S [PP [RPRE โดย] [VP [VSTA มี] [NP [NCMN ภาค]]]] [S [NP [NCMN เอกชน]] [VP [VACT เข้าร่วม] [XVAE อยู่] [AVBP [ADVN ด้วย]]]]]',\n",
       " '[S [PP [RPRE ใน] [NP [NCMN โอกาส] [NP [FIXN การ] [VP [VACT เสนอ] [NP [NP [NCMN ผลงานวิจัยและพัฒนา] [PP [RPRE ใน] [CLSP [CFQC ครั้ง] [DDAC นี้]]]] [PUNC <space>] [NP [PPRS ผม]]] [VP [VSTA มี] [NP [FIXN ความ] [VP [VSTA เข้าใจ] [JCRG และ] [VACT ขอขอบคุณ]]] [AVBP [FIXV อย่าง] [VATT ยิ่ง]] [PP [RPRE ที่] [NP [NCMN นักวิจัย] [VP [XVAM ได้] [VP [VACT ทุ่มเท]]]]]]]] [PUNC <space>] [NP [NCMN กำลังกาย]] [PUNC <space>] [NP [NCMN กำลังใจ]]]] [S [NP [NCMN <space>] [JCRG และ] [NCMN กำลังสติปัญญา]] [VP [VACT ต่อ] [NP [NCMN งานวิจัยและพัฒนา] [DDAC นี้]]]]]',\n",
       " '[S [PP [RPRE และ] [NP [PPRS ผม] [VP [XVBB ขอ] [VP [VACT ยืนยัน] [PP [RPRE ใน] [NP [NCMN เจตนารมณ์]]] [PP [RPRE ของ] [NP [PPRS ผม]]] [JSBR ในอันที่จะ] [VP [VACT สนับสนุน] [NP [NCMN งานวิจัยและพัฒนา]]]]]]] [S [JSBR เพื่อ] [NP [FIXN การ] [VP [VACT พัฒนา] [NP [NCMN ประเทศ]]]] [PUNC <space>] [VP [VACT ไว้] [NP [NCMN <space>] [PP [RPRE ณ] [PUNC <space>] [NP [PDMN ที่นี้]]]]]]]',\n",
       " '[S [PP [PREL ซึ่ง] [VP [VSTA หมายถึง] [NP [FIXN การ] [VP [VACT พัฒนา] [NP [NCMN ด้าน]]]]]] [S [NP [NCMN อิเล็กทรอนิกส์] [JCRG และ] [NCMN คอมพิวเตอร์]] [PUNC <space>] [VP [VSTA เป็น] [XVAE ไป] [PP [RPRE ใน] [NP [NCMN ทิศทาง] [ADJC [PREL ที่] [VP [VSTA ถูกต้อง] [ADJP [VATT เหมาะสม]]]]]]]]]',\n",
       " '[S [PP [RPRE เพื่อ] [NP [VACT ทำหน้าที่] [VACT กำหนด]]] [S [NP [NCMN นโยบาย] [NP [NCMN และ]]] [VP [VACT วางแผน] [NP [NCMN งาน]]]]]',\n",
       " '[S [PP [RPRE บน] [NP [NCMN พื้นฐาน] [ADJC [PREL ที่] [VP [VACT ตอบสนอง] [PP [RPRE ต่อ] [NP [FIXN การ] [VP [VACT พัฒนา] [PP [RPRE ประเทศ] [PUNC <space>] [JCRG และ] [NP [FIXN การ] [VACT แก้ไข]]]]]]]]]] [S [NP [NCMN ปัญหา]] [VP [VSTA พื้นฐาน] [PP [RPRE ของ] [NP [NCMN ประเทศ]]]]]]',\n",
       " '[S [NP [NCMN ซึ่ง] [JCRG ทั้งนี้] [NCMN <space>]] [JSBR เนื่องจาก] [S [NP [NP [FIXN การ] [VACT ประสานงาน]] [PUNC <space>] [PP [RPRE และ] [NP [FIXN ความ] [VACT ร่วมมือ]]]] [VP [VSTA เป็น] [XVAE ไป] [AVBP [FIXV อย่าง] [ADJP [VATT ดี] [PP [RPRE ของ] [NP [NCMN นักวิจัย] [JCRG และ] [NCMN ผู้เกี่ยวข้อง]]]]]]]]',\n",
       " '[S [S [NP [PPRS ผม]] [VP [VSTA เชื่อ] [AVBP [ADVN แน่]]]] [JSBR ว่า] [S [NP [NCMN ผลงานวิจัยและพัฒนา] [DDAC นี้]] [PUNC <space>] [VP [VSTA มีประโยชน์] [AVBP [FIXV อย่าง] [VATT สูง]] [VP [VACT ต่อ] [NP [FIXN การ] [VP [VACT พัฒนา] [NP [NCMN ด้าน] [NP [NCMN อุตสาหกรรม] [NP [NCMN อิเล็กทรอนิกส์] [JCRG และ] [NCMN คอมพิวเตอร์]]]]]]]]]]',\n",
       " '[S [PP [RPRE โดย] [NP [VACT ดำเนินการ] [VACT สนับสนุน]]] [S [NP [NCMN งานวิจัยและพัฒนา]] [JSBR ให้] [VP [VSTA เป็น] [NP [NCMN รูปธรรม]]]]]',\n",
       " '[S [PP [RPRE เพื่อ] [VP [VACT นำไปสู่] [NP [FIXN การ] [VP [VACT ผลิต] [NP [NCMN เชิง]]]]]] [S [NP [NCMN อุตสาหกรรม]] [VP [VACT ให้] [AVBP [ADVN มาก] [ADVN ที่สุด]]]]]',\n",
       " '[S [PP [RPRE ดัง] [VP [VSTA ปรากฏ] [VP [VSTA เป็น] [NP [NCMN ผลงาน] [ADJC [PREL ที่] [ADJP [NCMN บรรดา] [NP [NP [NCMN นักวิจัย]] [PUNC <space>] [PP [RPRE และ] [NP [NCMN ผู้ประกอบการ]]]]]]]]]] [S [NP [NCMN ภาค] [NP [NCMN เอกชน]]] [VP [XVAM ได้] [VP [VACT นำ] [XVAE มา] [VP [VACT เสนอ] [PP [RPRE ใน] [NP [FIXN การ] [VP [VACT ประชุม] [PP [RPRE ทาง] [NP [NCMN วิชาการ] [CLSP [CFQC ครั้ง] [DDAC นี้]]]]]]]]]]]]',\n",
       " '[S [S [NP [NCMN ก็]] [VP [XVAM ได้] [VP [VSTA ปรากฏ] [NP [NCMN ผลงานวิจัยและพัฒนา] [CLSP [DIBQ หลาย] [CNIT โครงการ]] [ADJC [PREL ที่] [VP [XVAM สามารถ] [VP [VACT นำไปสู่] [NP [FIXN การ] [VACT ผลิต]]]]]]]]] [JSBR โดย] [S [NP [NP [NCMN ภาค] [NP [NP [NCMN เอกชน] [XVAE ได้] [AVBP [FIXV อย่าง] [VATT ชัดเจน]]] [PUNC <space>] [PP [RPRE อาทิ] [PUNC <space>] [NP [NCMN ไมโครคอมพิวเตอร์]]]] [PUNC <space>] [CLSP [DCNM 32] [PUNC <space>] [CMTR บิท]]] [PUNC <space>] [NP [NCMN วงจรรวม] [NP [NCMN ขนาด] [ADJP [VATT ใหญ่]]] [NP [NCMN มาก] [PUNC <space>] [PUNC <left_parenthesis>] [NCMN VLSI] [PUNC <right_parenthesis>] [PUNC <space>]]] [JCRG และ] [NP [NCMN มอเตอร์] [NP [NCMN ขนาด] [ADJP [VATT เล็ก]] [PP [RPRE ใน] [NP [NCMN ผลิตภัณฑ์] [NP [NCMN ไฟฟ้า]]]]]]] [VP [VSTA เป็น] [ADJP [VATT สำคัญ]]]]]',\n",
       " '[S [PP [RPRE โดย] [VP [VACT คำนึง] [PP [RPRE ถึง] [NP [NP [FIXN การ] [VP [VACT ประสานงาน] [PP [RPRE กับ] [NP [NCMN ภาค]]]]] [NP [NCMN เอกชน]] [PUNC <space>] [JSBR ซึ่ง] [VP [VSTA เป็น] [NP [NCMN กลไก] [ADJP [VATT หลัก]]]]]]]] [S [NP [NCMN ทาง]] [VP [VSTA ด้าน] [NP [NP [NCMN การตลาด]] [JCRG และ] [NP [FIXN การ] [VACT ผลิต]]]]]]',\n",
       " '[S [S [NP [PPRS ผม]] [VP [VACT ตระหนัก] [XVAE อยู่] [AVBP [ADVN เสมอ]]]] [JSBR ว่า] [S [NP [FIXN <space>] [VP [VSTA มี] [NP [DIBQ หลาย] [NP [NCMN ปัจจัย] [ADJC [PREL ที่] [VP [VACT ทำให้] [NP [NCMN ศูนย์ฯ]]]]]]]] [PUNC <space>] [VP [XVAM สามารถ] [VP [VACT ดำเนินงาน] [XVAE มา] [AVBP [FIXV โดย] [ADVN ตลอด]]]]]]',\n",
       " '[S [PP [RPRE โดย] [ADJP [VATT เฉพาะ]]] [S [NP [NP [NCMN นักวิจัย] [JCRG และ] [NCMN ผู้ประกอบการ]] [ADJC [PREL ที่] [VP [VACT เล็งเห็น] [NP [FIXN ความ] [VP [VSTA สำคัญ] [NP [NCMN <space>]]]]] [JCRG และ] [VP [XVAM ได้] [VP [VACT เข้า]]]]] [VP [VACT มาร่วม] [NP [NCMN โครงการวิจัยและพัฒนา] [DDAC ดังกล่าว]] [AVBP [ADVN มาแล้ว]]]]]',\n",
       " '[S [PP [RPRE เพื่อ] [VP [VACT ทำหน้าที่]]] [S [NP [NCMN <space>]] [VP [VACT สนับสนุน] [NP [FIXN การ] [VACT วิจัย]] [JCRG และ] [VP [VACT พัฒนา] [NP [NCMN เทคโนโลยี] [NP [NCMN อิเล็กทรอนิกส์] [JCRG และ] [NCMN คอมพิวเตอร์]]]]]]]',\n",
       " '[S [PP [RPRE เพื่อ] [VP [VACT นำไปสู่] [NP [FIXN การ] [VP [VACT ผลิต] [NP [NCMN ทาง]]]]]] [S [NP [NCMN อุตสาหกรรม] [ADJC [PREL ที่] [VP [XVAM สามารถ] [VP [VACT แข่งขัน] [PP [RPRE ใน] [NP [NCMN ตลาด]]]]]]] [VP [VSTA ได้]]]]',\n",
       " '[S [PP [RPRE โดย] [VP [VSTA มี] [NP [NCMN รัฐมนตรีว่าการ]]]] [S [NP [NCMN กระทรวงฯ]] [PUNC <space>] [VP [VSTA เป็น] [NP [NCMN ประธาน]] [AVBP [ADVN เช่นกัน]]]]]',\n",
       " '[S [PP [RPRE เพื่อ] [VP [VACT ทำ]]] [S [NP [FIXN การ] [VACT วิจัยและพัฒนา]] [JSBR ให้] [VP [VSTA ได้มา] [ADJC [PREL ซึ่ง] [NP [NCMN ต้นแบบ]]]]]]',\n",
       " '[S [PP [RPRE เพื่อ] [VP [XVBM จะ] [VACT นำไปสู่]]] [S [NP [FIXN การ] [VACT ผลิต]] [VP [VSTA เป็น] [ADJP [VATT สำคัญ]]]]]',\n",
       " '[S [PP [RPRE นอกเหนือจาก] [NP [FIXN การ] [VP [VACT สำรวจ] [JCRG และ] [VACT ศึกษา]]]] [S [NP [NCMN สถานภาพ] [NP [NCMN อุตสาหกรรม] [NP [NP [NCMN อิเล็กทรอนิกส์]] [PUNC <space>] [PP [RPRE และ] [NP [NCMN คอมพิวเตอร์]]]]]] [JSBR ดัง] [VP [VACT กล่าว] [AVBP [ADVN ข้างต้น] [ADVN แล้ว]]]]]',\n",
       " '[S [PP [RPRE โดย] [VP [VSTA ได้รับ]]] [S [NP [FIXN การ]] [VP [VACT สนับสนุน] [PP [RPRE จาก] [NP [NPRP ประเทศออสเตรเลีย]]]]]]',\n",
       " '[S [PP [RPRE เพื่อ] [VP [VACT ใช้] [NP [NCMN คอมพิวเตอร์] [PP [RPRE ใน] [NP [FIXN การ] [VP [VACT ออกแบบ] [NP [NCMN ไอซี]]]]]]]] [S [NP [NCMN ขนาด]] [VP [VATT ใหญ่] [AVBP [ADVN มาก]]]]]',\n",
       " '[S [PP [RPRE โดย] [NP [FIXN การ] [VACT ใช้]]] [S [NP [NCMN โครงการ] [ADJP [VATT หลัก]] [PP [RPRE ดัง] [VP [VACT กล่าว] [XVAE ไว้] [AVBP [ADVN ข้างต้น]]]]] [VP [VSTA เป็น] [NP [NCMN แผน]]]]]',\n",
       " '[S [PP [PP [PREL ซึ่ง] [VP [VSTA มี]]] [JCRG ทั้ง] [PP [RPRE ใน] [NP [NCMN ลักษณะ] [PP [RPRE ของ] [NP [NCMN ต้นแบบ]]]]]] [S [NP [NCMN จำนวน]] [VP [VSTA ประมาณ] [PUNC <space>] [CLSP [DCNM 20] [PUNC <space>] [CNIT รายการ]]]]]',\n",
       " '[S [PP [RPRE และ] [VP [VSTA อยู่] [PP [RPRE ในระหว่าง] [NP [NCMN ที่]]]]] [S [NP [NCMN นักวิจัย]] [VP [XVBM กำลัง] [VP [VACT ดำเนินการ] [XVAE อยู่] [NP [NCMN <space>]]]]] [JSBR ซึ่ง] [S [NP [NCMN ผลการวิจัย] [VP [XVBM จะ] [XVAM ได้] [VACT นำ] [XVAE มา]]] [VP [VACT แถลง] [PP [RPRE ใน] [NP [FIXN การ] [VP [VACT ประชุม] [NP [NCMN วิชาการ] [CLSP [CFQC ครั้ง] [DDAC ต่อไป]]]]]]]]]',\n",
       " '[S [PP [RPRE เพื่อ] [VP [VSTA เป็น] [NP [FIXN การ] [VP [VACT กระจาย] [NP [NCMN กิจกรรม]]]]]] [S [NP [NCMN ด้าน]] [VP [VACT วิจัยและบริการ] [PP [PREL ที่] [VP [XVBM จะ] [VP [VACT ให้] [PP [RPRE แก่] [NP [NCMN ภาครัฐบาล] [JCRG และ] [NCMN เอกชน]]]]]]]]]',\n",
       " '[S [PP [PREL ซึ่ง] [VP [XVBM จะ] [VSTA มี]]] [S [NP [NCMN ที่ตั้ง]] [VP [VSTA อยู่] [NP [NP [CNIT ชั้น] [PUNC <space>] [NCNM 7]] [PUNC <space>] [PP [RPRE ของ] [NP [NPRP สำนักงานปลัดกระทรวงวิทยาศาสตร์ เทคโนโลยีและการพลังงาน]]]]]]]',\n",
       " '[S [PP [RPRE เพื่อ] [VP [VACT ใช้] [PP [RPRE ใน] [NP [FIXN การ] [VACT แลกเปลี่ยน]]]]] [S [NP [NP [NCMN ข้อมูล]] [PUNC <space>] [NP [FIXN การ] [VP [VACT สื่อสาร] [PP [RPRE ระหว่าง] [NP [NCMN หน่วยงาน] [PP [RPRE ด้วย] [NP [NCMN ไปรษณีย์อิเล็กทรอนิกส์]]]]]]] [JCRG และ] [NP [FIXN การ] [VACT ร่วม]]] [VP [VACT ใช้] [NP [NCMN อุปกรณ์] [NP [NCMN คอมพิวเตอร์] [PP [RPRE ระหว่าง] [NP [NCMN มหาวิทยาลัย]]]]]]]]',\n",
       " '[S [PP [RPRE ใน] [NP [FIXN การ] [VP [VACT ผลิต] [NP [NCMN ตัว]]]]] [S [NP [NCMN วงจร] [DDAC นั้น]] [PUNC <space>] [VP [XVAM สามารถ] [VP [VACT แบ่ง] [PP [RPRE ออกเป็น] [CLSP [DCNM สอง] [CNIT ขั้นตอน] [ADJP [VATT ใหญ่ๆ]]]] [PUNC <space>] [VP [VSTA คือ] [PUNC <space>] [NP [NP [NCMN ขั้นตอน] [NP [FIXN การ] [VACT ออกแบบ]]] [JCRG และ] [NP [NCMN ขั้นตอน] [NP [FIXN การ] [VACT สื่อสาร]]]]]]]]]',\n",
       " '[S [PP [PREL ซึ่ง] [VP [VSTA มี] [NP [NCMN วัตถุประสงค์] [ADJP [VATT หลัก]]] [VP [VSTA คือ] [PUNC <space>] [NP [FIXN การ] [VACT ผลิต]]]]] [S [NP [NCMN อุปกรณ์]] [VP [VACT ช่วย] [NP [FIXN การ] [VP [VACT เรียนรู้] [PP [RPRE ถึง] [NP [NCMN เทคโนโลยี] [NP [FIXN การ] [VP [VACT ออกแบบ] [NP [NCMN วงจรรวม] [NP [NCMN ขนาด] [ADJP [VATT ใหญ่]]]] [AVBP [ADVN มาก]]]]]] [XVAE ออกไป]]] [JSBR ให้] [ADJP [VATT กว้างขวาง]]]]]',\n",
       " '[S [PP [RPRE ใน] [NP [NCMN ปัจจุบัน] [VP [VSTA เป็น] [ADJC [PREL ที่] [VP [VACT ยอมรับ] [PP [RPRE ว่า] [NP [NCMN เทคโนโลยี] [PP [RPRE ทาง] [NP [NCMN ด้าน]]]]]]]]]] [S [NP [NP [NCMN อิเล็กทรอนิกส์]] [PUNC <space>] [PP [RPRE และ] [NP [NCMN คอมพิวเตอร์]]]] [VP [VSTA มี] [NP [FIXN การ] [VP [VACT พัฒนา] [XVAE ไป] [AVBP [FIXV อย่าง] [VATT รวดเร็ว]]]] [AVBP [ADVN มาก]]]]]',\n",
       " '[S [PP [RPRE และ] [NP [NCMN สินค้า] [DIAC ต่างๆ]]] [S [NP [NCMN <space>] [DDAC นี้]] [JSBR เมื่อ] [VP [VSTA พิจารณา] [XVAE ให้] [AVBP [ADVN ดี]] [JSBR แล้ว] [VP [VSTA มี] [NP [NCMN ส่วนประกอบ] [ADJC [PREL ที่] [ADJP [VATT สำคัญ]]]]]]] [JSBR คือ] [S [NP [FIXN <space>] [VP [VSTA มี] [NP [NCMN วงจรรวม]]]] [PUNC <space>] [VP [VSTA เป็น] [NP [NCMN พื้นฐาน]] [AVBP [ADVN ทั้งสิ้น]]]]]',\n",
       " '[S [PP [RPRE ใน] [NP [NCMN วงการ]]] [S [NP [NP [NP [NCMN อุตสาหกรรม]] [NP [NPRP ประเทศไทย]] [PUNC <space>] [JSBR ถึงแม้ว่า] [VP [XVBM จะ] [VP [VSTA มี] [NP [FIXN การ] [VP [VACT ผลิต] [NP [NCMN สินค้า] [DIAC ต่างๆ]]]]]]] [PUNC <space>] [NP [DDAC เหล่านี้]]] [VP [VSTA ขึ้น]]]]',\n",
       " '[S [PP [RPRE ใน] [NP [NP [NCMN ส่วนประกอบ] [DDAC นี้]] [ADJC [PREL ที่] [ADJP [VATT สำคัญ]]]]] [S [JSBR คือ] [NP [NP [NCMN วงจรรวม]] [PUNC <space>] [PP [PREL ซึ่ง] [VP [XVBM ยัง] [XVMM ต้อง] [VP [VACT สั่งซื้อ] [PP [RPRE จาก] [NP [NCMN ต่างประเทศ]]] [PUNC <space>] [VP [VACT ทำให้] [VP [XVMM ต้อง] [VP [VSTA สูญเสีย] [NP [NCMN เงินตรา]] [VP [VACT ออก] [NP [NCMN ต่างประเทศ] [PUNC <space>] [NP [NCMN ปี] [DIAC หนึ่งๆ]]]]]]]]]]] [PUNC <space>] [VP [VSTA เป็น] [NP [NCMN จำนวน] [NP [NCMN เงิน] [ADJP [VATT หลาย]] [CLSP [DCNM พันล้าน] [CMTR บาท]]]]]]]',\n",
       " '[S [PP [RPRE ใน] [NP [NP [NCMN อดีต] [ADJC [PREL ที่] [VP [VSTA ผ่าน] [XVAE มา]]]] [PUNC <space>] [NP [FIXN การ] [VACT ออกแบบ]]]] [S [NP [NCMN วงจรรวม]] [VP [VP [VACT ทำให้] [ADJP [VATT เฉพาะ] [PP [RPRE ใน] [NP [NCMN บริษัทผู้ผลิต] [NP [NCMN วงจรรวม]]]]]] [AVBP [ADVN เท่านั้น]]]]]',\n",
       " '[S [S [NP [NCMN วิศวกร] [NP [PPRS ผู้]]] [VP [VACT ออกแบบ] [VP [XVMM ต้อง] [VP [VSTA มี] [NP [FIXN ความ] [VSTA รู้]]]] [PP [RPRE ทาง] [NP [NCMN ด้าน] [NP [NCMN วงจร] [NP [NCMN อิเล็กทรอนิกส์]]]]]]] [JCRG และ] [S [NP [NCMN ขบวนการ] [NP [NCMN วงจรรวม]]] [PUNC <space>] [VP [XVAE ออกมา] [VP [VACT กระจาย] [PP [RPRE สู่] [NP [NCMN ภายนอก] [NP [NCMN โรงงาน]]]]]]]]',\n",
       " '[S [S [NP [NCMN สิ่ง] [DCNM หนึ่ง] [PP [RPRE ที่] [NP [NPRP ประเทศไทย]]]] [VP [XVAM สามารถ] [VP [VACT ทำ] [XVAE ได้] [AVBP [ADVN ทันที]]]]] [JSBR ในขณะนี้] [S [PP [RPRE เกี่ยวกับ] [NP [NCMN ตัว] [VACT วาง]]] [S [NP [NCMN วงจรรวม] [DDAC นี้]] [VP [VSTA คือ] [PUNC <space>] [NP [NCMN ทาง] [PP [RPRE ด้าน] [NP [FIXN การ] [VP [VACT ออกแบบ] [NP [NCMN วงจรรวม]]]]]]]]]]',\n",
       " '[S [PP [RPRE และ] [NP [NCMN การ] [ADJC [PREL ที่] [VP [XVBM ่จะ] [VP [VACT เรียนรู้] [PP [RPRE ถึง] [NP [FIXN การ] [VACT ออกแบบ]]]]]]]] [S [NP [NCMN วงจรรวม] [DDAC นี้]] [JSBR ก็] [VP [VSTA จำเป็น] [ADJC [PREL ที่] [VP [XVBM จะ] [XVMM ต้อง] [VP [VSTA มี] [NP [NCMN อุปกรณ์] [ADJC [PREL ที่] [ADJP [VATT ดี]]]] [AVBP [ADVN พอ]]]]]]]]',\n",
       " '[S [PP [RPRE เพื่อ] [VP [VSTA เป็น] [NP [NCMN อุปกรณ์]]]] [S [NP [NCMN ที่]] [VP [VSTA มี] [NP [NCMN ราคา] [ADJP [VATT ถูก]]]]]]',\n",
       " '[S [S [NP [CLSP [DCNM <minus>] [PUNC <space>] [CNIT ขั้นตอน]] [ADJC [PREL ที่] [NP [NCNM 1]]]] [PUNC <space>] [VP [VSTA เป็น] [NP [FIXN การ] [VP [VACT ออกแบบ] [NP [NCMN หน้าที่] [ADJP [VATT รวม]]] [AVBP [ADVN ทั้งหมด]]]]]] [JSBR ว่า] [S [NP [NCMN วงจรรวม] [DDAC นี้]] [PUNC <space>] [VP [VACT ต้องการ] [JSBR ให้] [VP [VACT ทำหน้าที่] [NP [NCMN อะไร]]]]]]',\n",
       " '[S [PP [RPRE ดัง] [VP [VACT แสดง] [PP [RPRE ใน] [NP [CNIT รูป] [PUNC <space>] [NCNM 2.1]]]]] [S [NP [NCMN <space>] [PUNC <left_parenthesis>] [NP [NCMN d] [PUNC <right_parenthesis>] [NP [NCMN <space>]]]] [VP [JSBR ซึ่ง] [NP [FIXN การ] [VP [VACT ออกแบบ] [NP [NCMN ระดับ] [ADJP [VATT ต่ำ] [AVBP [ADVN สุด]]]] [PP [RPRE ของ] [NP [FIXN การ] [VP [VACT ประสานงาน] [PP [RPRE กับ] [NP [FIXN การ] [VACT เจือสาร]]]]]]]]]]]',\n",
       " '[S [PP [RPRE จาก] [NP [NCMN ขั้นตอน] [NP [FIXN การ] [VP [VACT ออกแบบ] [NP [NCMN ทั้ง]]]] [PUNC <space>] [CLSP [DCNM 4] [PUNC <space>] [CNIT ขั้นตอน]]]] [S [NP [DDAC นี้]] [PUNC <space>] [VP [XVBM จะ] [VP [VSTA เห็น] [XVAE ได้]]]] [JSBR ว่า] [S [NP [NP [NP [NCMN ขั้นตอน] [DONM ที่ 1]] [PUNC <space>] [PP [RPRE ถึง] [NP [NCMN ขั้นตอน] [DONM ที่ 3]]]] [PUNC <space>] [NP [DDAC นี้]]] [VP [VP [XVAM สามารถ] [VP [VACT กระทำ] [XVAE ได้] [AVBP [FIXV โดย] [ADVN ง่าย]]]] [PP [RPRE ด้วย] [NP [NCMN มือ]]]]]]',\n",
       " '[S [S [JSBR หลังจากนั้น] [NP [NCMN ผู้ประกอบการเจือสาร] [VP [JSBR ก็] [VP [XVBM จะ] [VP [XVAE ไป] [VP [VACT ทำ] [NP [FIXN การ] [VP [VACT ออกแบบ] [NP [NCMN ระดับ] [PUNC <space>] [NP [NCMN Layout]]]]]]]]]] [PUNC <space>] [VP [VACT ให้] [PUNC <space>] [AVBP [ADVN แล้ว]]]] [JSBR ถึงจะ] [S [NP [NCMN เจือสาร]] [VP [VSTA ได้]]]]',\n",
       " '[S [PP [RPRE หลังจาก] [VP [VACT ออกแบบ]]] [S [NP [NCMN วงจรรวม] [PP [RPRE ด้วย] [PUNC <space>] [NP [NCMN Textual]]]] [PUNC <space>] [VP [VSTA เสร็จ] [XVAE แล้ว]]]]',\n",
       " '[S [NP [NCMN และ]] [JSBR เนื่องจาก] [S [NP [NCMN <space>] [NP [NCMN CIF] [PUNC <space>] [NP [DDAC นี้]]]] [VP [VSTA มี] [NP [NP [NCMN รูปแบบ] [VP [VSTA เป็น]]] [NP [NCMN ข้อความ]] [PUNC <space>] [JSBR ในกรณีที่] [VP [VP [VACT ออกแบบ] [NP [NCMN วงจร]] [AVBP [ADVN ผิดพลาด] [ADVN เล็กน้อย]]] [NP [PPRS เรา] [VP [XVAM สามารถ] [VP [VSTA ใช้] [PUNC <space>] [NP [NCMN Text editor] [NP [FIXN <space>] [VP [XVAE มา] [VP [VACT ทำ] [NP [FIXN การ] [VACT แก้ไข]]]]] [PUNC <space>] [NP [NCMN CIF]] [PUNC <space>] [NP [DDAC นี้]]]]]] [XVAE ได้] [AVBP [FIXV โดย] [VATT ตรง]]]]]]]',\n",
       " '[S [PP [RPRE หลังจาก] [VP [XVAM ได้] [VP [VACT ทำ] [NP [FIXN การ] [VP [VACT วิเคราะห์] [NP [NCMN ซอฟต์แวร์]]]]]]] [S [NP [NCMN ทาง]] [VP [VSTA ด้าน] [NP [NCMN กราฟฟิก] [DDAC เหล่านี้]] [AVBP [ADVN แล้ว]]]]]',\n",
       " '[S [PP [RPRE จาก] [NP [NP [CNIT รูป] [PUNC <space>] [NCNM 4.1]] [PUNC <space>] [NP [NCMN ฟังก์ชั่น] [PP [RPRE ของ] [NP [NCMN รูปภาพ] [PP [RPRE ทาง] [NP [NCMN ด้าน]]]]]]]] [S [NP [NCMN ซ้ายมือ] [PP [RPRE ของ] [NP [NCMN จอภาพ]]]] [VP [VSTA ประกอบ] [XVAE ไป] [AVBP [ADVN ด้วย]]]]]',\n",
       " '[S [PP [RPRE กล่าวคือ] [VP [VACT นำมาใช้] [JSBR สำหรับ] [VP [VACT ออกแบบ] [NP [NCMN วงจรรวม] [ADJP [VATT เบื้องต้น]]] [PUNC <space>] [JSBR ซึ่ง] [VP [VSTA เป็น]]]]] [S [NP [FIXN การ]] [VP [VACT ออกแบบ] [NP [NCMN วงจรรวม] [NP [NCMN ระดับ] [PUNC <space>] [NP [NCMN Layout]]]]]]]',\n",
       " '[S [PP [RPRE ใน] [NP [NCMN ส่วน] [PP [RPRE ของ] [NP [NCMN เอาท์พุท]]]]] [S [NP [NCMN ไฟล์]] [JSBR ก็] [VP [VACT เลือก] [VP [VACT ใช้] [NP [NCMN รูปแบบ] [PP [RPRE ของ] [PUNC <space>] [NP [NCMN CIF]]]] [PUNC <space>] [JSBR ซึ่ง] [VP [VSTA เป็น] [NP [NCMN มาตรฐาน] [ADJC [PREL ที่] [VP [VSTA นิยม] [VP [VACT ใช้] [AVBP [ADVN กัน] [ADVN ทั่วไป]]]]]]]]]]]',\n",
       " '[S [PP [RPRE ยัง] [VP [VSTA มี] [AVBP [ADVN อีก]]]] [S [NP [DIBQ หลาย] [NCMN ส่วน]] [JSBR ซึ่ง] [VP [XVMM ต้อง] [VP [VACT ทำ] [NP [NP [FIXN การ] [VP [VP [VACT วิจัย] [JCRG และ] [VACT พัฒนา]] [AVBP [ADVN ต่อไป]]]] [PUNC <space>] [JSBR เช่น] [PUNC <space>] [NP [RPRE ใน] [NP [NP [NCMN ส่วน] [PP [PP [RPRE ของ] [NP [FIXN การ] [VP [VACT เชื่อมต่อ] [PP [RPRE กับ] [NP [NP [NCMN ซอฟต์แวร์] [DIAC อื่น]] [PUNC <space>] [PP [PREL ที่] [VP [XVAM สามารถ] [VP [VACT ทำ] [NP [NP [NP [FIXN การ] [VACT ตรวจสอบ]] [PUNC <space>] [NP [NCMN Design rule]]] [PUNC <space>] [PP [RPRE ของ] [NP [NCMN วงจรรวม]]]]]]]]] [XVAE ได้]]]] [JCRG และ] [PP [PP [PREL ที่] [VP [XVAM สามารถ] [VP [VACT ทดสอบ] [NP [FIXN การ] [VP [VACT ทำงาน] [PP [RPRE ของ] [NP [NCMN วงจรรวม] [PUNC <space>] [PUNC <left_parenthesis>] [NCMN Simulation] [PUNC <right_parenthesis>] [PUNC <space>]]]]] [VP [VSTA ได้] [NP [NCMN <space>]]]]]] [JCRG และ] [PP [RPRE ใน] [NP [NCMN ส่วน] [PP [RPRE ของ] [NP [NCMN ฟังก์ชั่น] [VACT สนับสนุน]]]]]]]] [DIAC ต่างๆ]]] [PUNC <space>] [PDMN เป็นต้น]]]]]]',\n",
       " '[S [PP [RPRE เพื่อ] [NP [VACT ช่วย] [VACT ให้]]] [S [NP [FIXN การ] [VP [VACT ดูแล] [NP [NCMN ผู้ป่วย] [PP [RPRE ใน] [NP [NCMN หอ] [NP [NCMN ผู้ป่วย] [ADJP [VATT หนัก]]]]]]]] [VP [VSTA มีประสิทธิภาพ] [AVBP [ADVN มาก] [ADVN ที่สุด]]]]]',\n",
       " '[S [PP [RPRE โดย] [VP [XVBM จะ] [VP [VACT นำ] [NP [NCMN สัญญาณ]]]]] [S [NP [NCMN ไฟฟ้า] [NP [NCMN หัวใจ] [PP [RPRE จาก] [NP [NCMN ผู้ป่วย] [ADJC [PREL ที่] [VP [VACT โมนิเตอร์] [PP [RPRE ข้าง] [NP [NCMN เตียง]]] [PUNC <space>] [VP [VACT มา] [VACT แสดง] [PP [RPRE ที่] [NP [NCMN ระบบ]]] [VP [VACT มอนิเตอร์] [NP [NCMN สถานีกลาง]] [AVBP [ADVN พร้อมกัน]] [NP [NCMN ทั้ง]]]]]]]]] [PUNC <space>] [CLSP [DCNM 4] [PUNC <space>] [CNIT เตียง]]] [VP [VACT บน] [NP [NCMN จอมอนิเตอร์]]]]]',\n",
       " '[S [PP [RPRE และ] [NP [NCMN ตัวเลข] [NP [NCMN อัตรา] [NP [FIXN การ] [VP [VACT เต้น] [PP [RPRE ของ] [NP [NCMN หัวใจ] [JCRG และ] [NCMN ค่า]]]]]]]] [S [NP [NCMN อัตรา] [NP [FIXN การ] [VP [VACT เต้น] [PP [RPRE ของ] [NP [NCMN หัวใจ] [ADJC [PREL ที่] [ADJP [VATT ดี]]]]]]]] [PUNC <space>] [VP [NEG ไม่] [VSTA เกิด] [NP [FIXN การ] [VACT กระพริบ]]]]]',\n",
       " '[S [S [NP [NCMN เครื่อง] [VP [VACT ตรวจ] [VP [VACT แสดง] [NP [NCMN คลื่นไฟฟ้า] [PP [RPRE ของ] [NP [NCMN หัวใจ]]]]]]] [PUNC <space>] [VP [VSTA เป็น] [NP [NCMN เครื่องมือ] [NP [NCMN ไฟฟ้า] [PP [RPRE ทาง] [NP [NCMN การแพทย์] [ADJC [PREL ที่] [ADJP [VATT สำคัญ]] [PP [RPRE ใน] [NP [FIXN การ] [VACT ตรวจ]]]]]]]] [VP [VACT วินิจฉัย] [NP [NCMN อาการ] [ADJP [VATT ผิดปกติ]]] [PP [RPRE ของ] [NP [NCMN หัวใจ] [PP [RPRE ใน] [NP [NCMN ผู้ป่วย] [NP [NCMN โรคหัวใจ] [NP [NCMN <space>] [JCRG หรือ] [NCMN ผู้ป่วยหนัก]]]]]]]]]] [JSBR ที่] [S [NP [FIXN การ] [VP [VSTA รู้] [NP [NCMN ลักษณะ] [NP [FIXN การ] [VP [VACT ทำงาน] [PP [RPRE ของ] [NP [NCMN หัวใจ]]]]]] [AVBP [ADVN ตลอดเวลา]]]] [PUNC <space>] [VP [XVBM จะ] [VP [VACT ทำให้] [NP [FIXN การ] [VACT ช่วยชีวิต]] [VP [VSTA เป็นไปได้] [AVBP [ADVN ทันท่วงที]]]]]]]',\n",
       " '[S [PP [RPRE และ] [NP [NCMN แรงดันไฟฟ้า]]] [S [NP [NCMN บ้าน]] [VP [XVAM สามารถ] [VP [VACT เหนี่ยวนำ] [XVAE เข้ามา] [VP [VACT รวม] [PP [RPRE กับ] [NP [NCMN สัญญาณ] [NP [NCMN หัวใจ]]]] [XVAE ได้]]]]]]',\n",
       " '[S [PP [RPRE ใน] [NP [FIXN การ] [VACT พล็อต]]] [S [NP [NCMN กราฟ] [PUNC <space>] [NP [NCMN ปากกา]]] [VP [XVBM จะ] [VP [VACT เปลี่ยนแปลง] [NP [NCMN ตำแหน่ง] [PP [RPRE ตาม] [NP [NCMN ใน] [NP [NCMN แนวตั้ง] [PP [RPRE ตาม] [NP [NCMN ศักดาไฟฟ้า] [ADJC [PREL ที่] [VP [VACT วัด] [XVAE ได้] [JSBR ขณะที่] [NP [NCMN กระดาษ] [VP [VACT เคลื่อนที่] [PP [RPRE ตาม] [NP [NCMN แนวนอน] [PP [RPRE ด้วย] [NP [FIXN ความ] [VATT เร็ว]]]]]]]]] [PP [RPRE ใน] [NP [FIXN การ] [VACT บันทึก]]]]]] [PUNC <space>] [CLSP [DCNM 25] [PUNC <space>] [CMTR มิลลิเมตร]]]]] [PP [RPRE ต่อ] [NP [NCMN วินาที]]]]]]]',\n",
       " '[S [PP [RPRE โดย] [NP [FIXN การ] [VACT นำ]]] [S [NP [NCMN สัญญาณ] [ADJC [PREL ที่] [VP [VACT วัด] [XVAE ได้] [VP [XVAE มา] [VP [VSTA ผ่าน] [NP [NCMN วงจร]]]]]]] [VP [VACT แปลง] [NP [NCMN สัญญาณ] [NP [NCMN อนาล็อก] [VP [VSTA เป็น] [NP [NCMN ดิจิตอล] [NP [NCMN <space>]]]]] [PUNC <left_parenthesis>] [NP [NCMN Analog] [PUNC <space>] [NCMN to] [PUNC <space>] [NCMN Digital] [PUNC <space>] [NCMN Converter]] [PUNC <right_parenthesis>] [NP [FIXN <space>] [VP [VACT บันทึก] [XVAE ลง] [PP [RPRE ใน] [NP [NCMN หน่วยความจำ] [PUNC <space>] [PUNC <left_parenthesis>] [NCMN Memory] [PUNC <right_parenthesis>] [PUNC <space>]]]]]] [PP [RPRE โดย] [NP [FIXN การ] [VP [VACT แซมปลิ้ง] [NP [NCMN สัญญาณ] [CLSP [DIBQ บาง] [CNIT ส่วน]]]]]]]]]',\n",
       " '[S [PP [PREL ซึ่ง] [VP [XVBM จะ] [VSTA เห็น]]] [S [NP [NCMN ภาพ] [VP [VACT เปลี่ยนแปลง] [AVBP [FIXV อย่าง] [ADVN ต่อเนื่อง]]]] [VP [VSTA เหมือน] [NP [NCMN ภาพ] [PP [RPRE จาก] [NP [NCMN กระดาษ] [NP [NCMN กราฟ]]]]]]]]',\n",
       " '[S [S [NP [NCMN และ]] [VP [XVAM สามารถ] [VP [VACT แสดง] [NP [NCMN รูป] [NP [NCMN คลื่น] [NP [NCMN สัญญาณ] [PP [RPRE บน] [NP [NCMN จอภาพ]]]]]] [XVAE ได้]]]] [JCRG พร้อมกับ] [S [NP [NP [NCMN ตัวอักษร] [JCRG หรือ] [NCMN ภาพ]] [DIAC อื่นๆ]] [PUNC <space>] [VP [VSTA ได้]]]]',\n",
       " '[S [PP [RPRE คือ] [PUNC <space>] [NP [NCMN เครื่อง] [NP [NP [NPRP สิรินธร 021]] [PUNC <space>] [PP [RPRE เป็น] [NP [NCMN มอนิเตอร์] [ADJP [VATT ข้างเคียง]]]]]]] [S [NP [NCMN <space>] [PUNC <left_parenthesis>] [NP [NP [NCMN Bed-side Monitor]] [PUNC <right_parenthesis>] [NP [NCMN <space>]] [JCRG และ] [NP [NPRP สิรินธร 081]]]] [PUNC <space>] [VP [VSTA เป็น] [NP [NCMN มอนิเตอร์] [NP [NCMN ศูนย์กลาง] [PUNC <space>] [PUNC <left_parenthesis>] [NCMN Central Monitor] [PUNC <right_parenthesis>] [PUNC <space>]]] [JSBR ซึ่ง] [VP [VSTA มี] [NP [FIXN การ] [VP [VACT แสดง] [NP [NCMN ตัวอักษร]] [VP [VACT บอก] [NP [NCMN อัตรา] [NP [FIXN การ] [VACT เต้น]]] [PP [RPRE ของ] [NP [NCMN หัวใจ]]] [AVBP [ADVN ด้วย]]]]]]]]]',\n",
       " '[S [PP [RPRE โดย] [NP [FIXN การ] [VACT แปลง]]] [S [NP [NCMN สัญญาณ] [ADJC [PREL ที่] [VP [VACT วัด] [XVAE ได้] [VP [VSTA เป็น] [NP [NCMN ดิจิตอล]]]]]] [VP [VACT เก็บ] [XVAE ไว้] [PP [RPRE ใน] [NP [NCMN หน่วยความจำ]]]]]]',\n",
       " '[S [PP [RPRE โดย] [VP [VACT ดัดแปลง] [NP [NCMN จอ]]]] [S [NP [NCMN มอนิเตอร์]] [JSBR ให้] [VP [VACT ทำงาน] [NP [NCMN แบบ] [NP [NCMN ออสซิลโลสโคป]]]]]]',\n",
       " '[S [PP [RPRE เพื่อ] [VP [VACT แสดง] [NP [NCMN สัญญาณ]]]] [S [NP [NCMN ไฟฟ้า] [PP [RPRE ของ] [NP [NCMN หัวใจ]]]] [VP [VACT สลับ] [PP [RPRE กับ] [NP [FIXN การ] [VP [VACT สร้าง] [NP [NCMN ภาพ] [NP [NCMN แบบ] [NP [NCMN โทรทัศน์]]]]]]]]]]',\n",
       " '[S [PP [RPRE โดย] [NP [VACT แสดง] [VACT สลับ]]] [S [NP [PPRS กัน]] [VP [AVBP [FIXV อย่าง] [VATT รวดเร็ว]] [VP [JSBR จน] [VP [VSTA เห็น] [VP [VSTA เป็น] [NP [NCMN ภาพ] [DIAC เดียว]]]]]]]]',\n",
       " '[S [PP [PREL ซึ่ง] [VP [VSTA หมายความ] [JSBR ว่า]]] [S [PP [RPRE ใน] [NP [FIXN การ] [VACT แสดง]]] [S [NP [NCMN ภาพ] [ADJC [PREL ที่] [VP [VSTA เห็น] [NP [NCMN บน] [NP [NCMN จอ]] [PUNC <space>] [CLSP [DCNM 1] [PUNC <space>] [CNIT ภาพ]]]]]] [VP [XVBM จะ] [XVMM ต้อง] [VP [VACT กวาดภาพ] [NP [NCMN <space>] [PUNC <left_parenthesis>] [NP [NCMN scan] [PUNC <right_parenthesis>] [NP [NCMN <space>] [PP [RPRE จาก] [NP [NCMN บน] [NP [NCMN ลง] [ADJP [VATT ล่าง]]] [PUNC <space>] [NP [NCNM 2]] [PUNC <space>] [NP [NCMN ครั้ง]]]]]]]]]]]]',\n",
       " '[S [NP [NCMN และ]] [JSBR เพื่อให้] [S [NP [NCMN สัญญาณ] [CLSP [DIBQ แต่ละ] [CNIT ช่อง]]] [VP [VP [VSTA ปรากฏ] [PP [RPRE บน] [NP [NCMN จอภาพ] [PP [RPRE ใน] [NP [NCMN ตำแหน่ง]]]]]] [AVBP [ADVN ต่างกัน]]]]]',\n",
       " '[S [PP [RPRE ใน] [NP [FIXN การ] [VACT แสดง]]] [S [NP [NCMN ภาพ] [CLSP [DCNM หนึ่ง] [CNIT ภาพ]]] [PUNC <space>] [VP [VSTA ประกอบ] [PP [RPRE ด้วย] [NP [NP [CNIT สัญญาณ] [PUNC <space>] [NCNM 4]] [PUNC <space>] [NP [NCMN ช่อง]]]]]]]',\n",
       " '[S [S [NP [NCMN ซึ่ง]] [VP [XVBM จะ] [XVMM ต้อง] [VP [VSTA ใช้เวลา] [AVBP [ADVN นาน] [ADVN พอ]]]]] [JSBR ที่จะ] [S [JSBR ทำให้] [NP [NP [FIXN การ] [VP [VACT วัด] [AVBP [ADVN ถูกต้อง]]]] [PUNC <space>] [PP [RPRE เช่น] [NP [NCMN <space>] [CLSP [DCNM ครึ่ง] [CMTR นาที]]]]] [PUNC <space>] [VP [VP [XVBM จึง] [VP [NEG ไม่] [VSTA เหมาะ]]] [JSBR ที่จะ] [VP [VACT ใช้] [PP [RPRE ใน] [NP [NCMN ห้อง] [NP [NCMN ผู้ป่วยหนัก]]]]]]]]',\n",
       " '[S [PP [RPRE ยัง] [NP [NCMN ลด]]] [S [NP [FIXN ความ] [VP [VSTA ผิดพลาด] [JSBR ที่]]] [VP [VSTA เกิด] [PP [RPRE จาก] [NP [NCMN สัญญาณรบกวน]]]]]]',\n",
       " '[S [PP [RPRE ด้วย] [NP [NCMN วิธี] [VP [VACT สร้าง] [NP [NCMN ภาพ]]]]] [S [NP [NCMN แบบ] [NP [NCMN โทรทัศน์]]] [PUNC <space>] [VP [VSTA คือ] [PUNC <space>] [NP [FIXN การ] [VP [VACT ควบคุม] [NP [FIXN ความ] [VATT สว่าง]] [PP [RPRE ใน] [NP [NCMN บริเวณ] [NP [NCMN ราสเตอร์]]]]]]]]]',\n",
       " '[S [S [NP [NCMN จะ]] [VP [VSTA เห็น]]] [JSBR ว่า] [S [NP [NCMN เส้นเทรซ] [PUNC <space>] [NCMN 1] [PUNC <space>] [NCMN เส้น] [PUNC <space>] [NCMN จะ]] [VP [VACT แสดง] [NP [NCMN สัญญาณภาพ] [ADJP [NP [NCMN <space>] [CLSP [DCNM 4] [PUNC <space>] [CMTR ไบท์]]] [NP [NCMN <space>] [JCRG หรือ] [NCMN <space>]]] [CLSP [DCNM 32] [PUNC <space>] [CMTR บิท]]] [PP [RPRE จาก] [NP [NCMN คาแรคเตอร์] [PUNC <space>] [NP [NCMN เจนเนอเรเตอร์]]]]]]]',\n",
       " '[S [PP [RPRE เมื่อ] [NP [NCMN แสดง]]] [S [NP [NCMN ค่า] [ADJC [PREL ที่] [ADJP [VATT น้อย]]]] [VP [VSTA กว่า] [PUNC <space>] [NP [NCNM 100]]]]]',\n",
       " '[S [PP [RPRE โดย] [VP [VACT ทำ] [NP [FIXN การ] [VACT ปรับปรุง]] [VP [VACT แก้ไข] [ADJP [VATT เฉพาะ]]]]] [S [NP [NCMN ส่วน]] [VP [VACT แสดง] [NP [NCMN ผล] [PP [RPRE ของ] [NP [NCMN สัญญาณ]]]]]]]',\n",
       " '[S [PP [RPRE เป็น] [NP [FIXN การ] [VP [VACT อธิบาย] [NP [FIXN การ] [VACT ทดลอง]] [JSBR ซึ่ง] [VP [VACT ใช้] [NP [NCMN เครื่อง]]]]]] [S [NP [NCMN รังสีเอ็กซ์]] [JSBR เท่าที่] [VP [VACT ทำ] [XVAE ได้] [PP [RPRE ใน] [NP [NPRP ประเทศไทย]]]]]]',\n",
       " '[S [PP [RPRE โดย] [VP [VACT ใช้] [NP [NCMN เทคโนโลยี]]]] [S [NP [NCMN ไมโครคอมพิวเตอร์]] [VP [VSTA เป็น] [NP [NCMN พื้นฐาน]]]]]',\n",
       " '[S [PP [RPRE โดย] [NP [RPRE ใน] [NP [FIXN การ] [VACT ทดลอง]]]] [S [NP [NCMN ครั้ง] [DONM แรก]] [VP [VACT ใช้] [NP [NCMN แหล่ง]] [VP [VSTA กำเนิด] [NP [NCMN รังสีเอ็กซ์] [ADJC [PREL ที่] [VP [VSTA มี] [NP [NCMN พลังงาน] [ADJP [VATT ต่ำ]]]]]]]]]]',\n",
       " '[S [PP [RPRE ใน] [NP [NCMN ปัจจุบัน]]] [S [NP [NCMN คอมพิวเตอร์]] [VP [VACT ถ่าย] [NP [NCMN ภาพตัดขวาง] [NP [NCMN ร่างกาย] [VP [XVAM ได้] [VP [VACT พัฒนา] [XVAE ไป] [PP [RPRE ถึง] [PUNC <space>] [NP [NP [NCNM 4]] [PUNC <space>] [NP [NCMN รุ่น] [PUNC <space>] [PUNC <left_parenthesis>] [NCMN Generation] [PUNC <right_parenthesis>] [PUNC <space>]]]]]]]] [PP [RPRE ตาม] [NP [NCMN หลัก] [NP [FIXN การ] [VP [VACT ทำงาน] [CLSP [DIBQ แต่ละ] [CLTV รุ่น]] [AVBP [ADVN ดังนี้]]]]]]]]]',\n",
       " '[S [PP [RPRE โดย] [VP [VP [VP [VACT กำหนด] [NP [NCMN ลำรังสีเอ็กซ์] [ADJP [VATT เล็ก]]]] [NP [NCMN ๆ] [PUNC <space>] [PUNC <left_parenthesis>] [NCMN pencil beam] [PUNC <right_parenthesis>] [PUNC <space>]]] [JCRG และ] [VP [VSTA มี] [NP [NCMN ตัวรับรังสี]]]]] [S [NP [NP [NCMN ตัว] [DIAC เดียว]] [JCRG หรือ] [NP [NCNM สอง]]] [VP [VACT ตัว]]]]',\n",
       " '[S [PP [RPRE โดย] [VP [VACT หมุน]]] [S [NP [NCMN ครั้ง]] [VP [VACT ละ] [NP [NCMN <space>] [CLSP [DCNM 1] [PUNC <space>] [CMTR องศา]]]]]]',\n",
       " '[S [S [NP [NCMN รุ่น] [ADJC [PREL ที่] [NP [NP [NCMN 4] [PUNC <space>] [PUNC <left_parenthesis>] [NCMN Fourth generation] [PUNC <right_parenthesis>] [PUNC <space>]] [PP [RPRE ใน] [NP [NCMN รุ่น] [DDAC นี้]]]] [VP [XVBM จะ] [VP [VSTA คล้าย] [PP [RPRE กับ] [NP [NCMN รุ่น] [DONM ที่ 3]]]]]]] [PUNC <space>] [VP [VSTA ต่างกัน] [ADJC [PREL ที่] [NP [NCMN จำนวน] [NP [NCMN ตัวรับรังสี] [ADJP [VATT มาก] [AVBP [ADVN กว่า] [JCRG และ] [VP [VACT ติดตั้ง] [VP [VSTA เป็น] [NP [NCMN วงกลม] [PP [RPRE รอบ] [NP [NCMN แกนทรี] [PUNC <space>] [PUNC <left_parenthesis>] [NCMN Gantry] [PUNC <right_parenthesis>] [PUNC <space>]]]]]]]]]] [VP [VACT กำหนด]]]]] [JSBR ให้] [S [NP [NCMN หลอดรังสีเอ็กซ์]] [VP [VACT หมุน] [AVBP [FIXV อย่าง] [VATT เดียว]]]]]',\n",
       " '[S [PP [RPRE โดย] [NP [FIXN ความ] [VP [VACT ร่วมมือ] [NP [NCMN ด้าน]]]]] [S [NP [NCMN เครื่องรังสีเอ็กซ์]] [VP [VACT จาก] [NP [NPRP โรงพยาบาลภูมิพลอดุลยเดช]]]]]',\n",
       " '[S [PP [PREL ซึ่ง] [VP [VACT ใช้] [NP [NCMN หลอด]] [VP [VACT ขยาย] [NP [FIXN ความ] [VATT สว่าง]] [PP [RPRE ของ] [NP [NCMN ภาพ]]]]]] [S [NP [NCMN รังสีเอ็กซ์]] [VP [VSTA เป็น] [NP [NCMN ตัวรับรังสี]]]]]',\n",
       " '[S [PP [RPRE ใน] [NP [FIXN การ] [VACT ทดลอง]]] [S [NP [NCMN วิจัย]] [VP [VACT ใช้] [NP [NCMN ศักดาไฟฟ้า] [NP [NCMN <space>] [CLSP [DCNM 60] [PUNC <space>] [CMTR kV]]] [PUNC <space>] [CLSP [DCNM 1] [PUNC <space>] [CMTR mA]]]]]]',\n",
       " '[S [PP [RPRE จาก] [NP [NP [NCMN รูป] [DONM ที่ 10]] [PUNC <space>] [NP [NCMN ภาพตัดขวาง] [ADJC [PREL ที่] [VP [VSTA ได้]]]]]] [S [NP [NCMN คุณภาพ] [PP [RPRE ยัง] [NP [NCMN ไม่]]]] [VP [VSTA ถูกต้อง] [PUNC <space>] [CLSP [DCNM 100] [PUNC <space>] [CMTR เปอร์เซ็นต์]]]]]',\n",
       " '[S [PP [RPRE พร้อมกับ] [VP [VACT แสดง] [NP [NCMN เส้นตัดขวาง]]]] [S [NP [NCMN ของ]] [VP [VACT ภาพตัดขวาง] [AVBP [ADVN ด้วย]]]]]',\n",
       " '[S [PP [RPRE เพื่อ] [VP [VACT พิสูจน์] [NP [NP [NCMN ปัญหา] [DIAC ต่างๆ]] [PUNC <space>] [PP [PREL ที่] [VP [VSTA ประสบ] [PP [RPRE ใน] [PUNC <space>] [NP [NCMN CT-SCANNER KMITL II]]]]]] [PUNC <space>] [JSBR ซึ่ง] [VP [JSBR ก็] [VP [VSTA เป็น] [XVAE ไป] [PP [RPRE ตาม] [NP [NCMN สมมุติฐาน]]]]]]] [S [NP [NCMN ที่]] [VP [VSTA ตั้ง] [XVAE ไว้]]]]',\n",
       " '[S [PP [RPRE ใน] [NP [FIXN การ] [VP [VACT ทดลอง] [AVBP [ADVN ต่อไป]]]] [VP [XVAM ได้] [VP [VACT ทำ] [NP [FIXN การ] [VACT สร้าง]]]]] [S [NP [NCMN ภาพตัดขวาง] [PP [RPRE ของ] [NP [NCMN สิ่งมีชีวิต]]]] [PUNC <space>] [VP [VSTA คือ] [PUNC <space>] [NP [NCMN หนู]]]]]',\n",
       " '[S [PP [RPRE ใน] [NP [FIXN การ] [VP [VACT สร้าง] [NP [NCMN ภาพตัดขวาง] [PP [RPRE จาก] [NP [NCMN ผล]]]]]]] [S [NP [FIXN การ] [VACT ทดลอง]] [VP [VSTA เป็น] [ADJC [PREL ที่] [ADJP [VATT น่าพอใจ]]]]]]',\n",
       " '[S [PP [RPRE เพื่อ] [NP [NCMN ลด]]] [S [NP [FIXN การ]] [VP [VSTA ผิดพลาด] [PP [RPRE ของ] [NP [NCMN ข้อมูล]]]]]]',\n",
       " '[S [PP [RPRE ใน] [NP [FIXN การ] [VACT พัฒนา]]] [S [NP [NP [NCMN พจนานุกรม] [PP [RPRE ใน] [NP [NCMN ระยะ] [DONM แรก]]]] [DDAC นี้]] [PUNC <space>] [VP [XVBM จะ] [VP [VSTA เป็น] [NP [NCMN พจนานุกรม]] [JSBR เพื่อ] [VP [VACT ใช้] [JSBR สำหรับ] [VP [VACT ถอด] [NP [NCMN ข้อความ] [PP [RPRE จาก] [NP [NCMN ภาษากลาง]]]] [VP [VSTA เป็น] [NP [NPRP ภาษาไทย]]]]]]]]]',\n",
       " '[S [PP [RPRE ใน] [NP [NCMN ปัจจุบัน] [PUNC <space>] [NP [FIXN การ] [VP [VACT ถ่ายทอด] [NP [FIXN ความ] [VSTA ก้าวหน้า]] [PP [RPRE ทาง] [NP [NCMN ด้าน]]]]]]] [S [NP [NCMN เทคโนโลยี]] [VP [VSTA ได้รับ] [NP [FIXN ความ] [VSTA สนใจ]] [AVBP [FIXV อย่าง] [VATT กว้างขวาง]] [PP [RPRE ใน] [CLSP [DIBQ ทุก] [CNIT ประเทศ]]]]]]',\n",
       " '[S [PP [RPRE ยัง] [VP [VSTA มี] [NP [NCMN ข้อจำกัด] [DIAC อื่นๆ]]]] [S [NP [NP [FIXN <space>] [AVBP [ADVN อีก] [ADVN มาก]]] [PUNC <space>] [PP [RPRE เช่น] [PUNC <space>] [NP [NCMN เนื้อหา] [PP [RPRE ของ] [NP [NCMN งาน] [CLSP [DIBQ แต่ละ] [CNIT ชิ้น]]]]]]] [VP [VSTA แตกต่าง] [AVBP [ADVN กัน]]]]]',\n",
       " '[S [PP [RPRE เพื่อ] [VP [VSTA เป็น]]] [S [NP [FIXN การ] [VACT ประหยัด]] [VP [VACT ทั้ง] [NP [NCMN เวลา] [JCRG และ] [NCMN แรงงาน]] [PP [RPRE ของ] [NP [NCMN มนุษย์]]]]]]',\n",
       " '[S [PP [RPRE ใน] [NP [FIXN การ] [VACT แปล]]] [S [NP [NP [NCMN ภาษา] [PP [RPRE ด้วย] [NP [NCMN คอมพิวเตอร์] [DDAC นี้]]]] [PUNC <space>] [NP [NCMN ส่วน] [ADJP [VATT สำคัญ] [AVBP [FIXV อย่าง] [ADVN ยิ่ง]]] [PP [RPRE ของ] [NP [NCMN ระบบ]]]]] [VP [VSTA คือ] [NP [NCMN พจนานุกรม]]]]]',\n",
       " '[S [PP [RPRE เพื่อ] [VP [VACT เอาชนะ] [NP [FIXN ความ] [VP [VSTA หลากหลาย] [PP [RPRE ของ] [NP [NCMN ภาษา] [DIAC ต่างๆ]]]]] [PUNC <space>] [JSBR ซึ่ง] [VP [VSTA เป็น]]]] [S [NP [NCMN อุปสรรค]] [VP [VSTA สำคัญ] [PP [RPRE ใน] [NP [FIXN การ] [VP [VACT สื่อสาร] [PP [RPRE ของ] [NP [NCMN มนุษย์]]]]]]]]]',\n",
       " '[S [PP [RPRE เพื่อ] [NP [VACT ช่วย] [VACT ลด]]] [S [NP [NCMN อุปสรรค] [PP [RPRE ทาง] [NP [NCMN ด้าน] [NP [NCMN ภาษา]]]]] [VP [VACT ลง]]]]',\n",
       " '[S [PP [RPRE เมื่อ] [NP [NCMN เทคโนโลยี]]] [S [NP [NCMN คอมพิวเตอร์]] [VP [VSTA ก้าวหน้า] [XVAE ขึ้น]]]]',\n",
       " '[S [PP [RPRE และ] [NP [NCMN ทฤษฎี]]] [S [NP [NCMN ภาษาศาสตร์] [ADJC [PREL ที่] [ADJP [VATT เหมาะสม]]]] [VP [VSTA ได้รับ] [NP [FIXN การ] [VACT พัฒนา]] [AVBP [ADVN ขึ้น]]]]]',\n",
       " '[S [PP [RPRE จนถึง] [NP [NCMN ช่วง] [NP [NP [NCMN ศตวรรษ] [PP [RPRE ที่] [PUNC <space>] [NP [NCNM 70]]]] [NP [NCMN <space>]]] [PUNC <left_parenthesis>] [NP [NCNM 1970-1980]] [PUNC <right_parenthesis>] [NP [NCMN <space>]]]] [S [NP [FIXN การ] [VP [VACT พัฒนา] [PP [RPRE ทาง] [NP [NCMN ด้าน] [NP [NCMN ปัญญาประดิษฐ์] [PUNC <space>] [PUNC <left_parenthesis>] [NCMN Artificial Intelligence] [PUNC <right_parenthesis>] [PUNC <space>]]]] [XVAE ได้]]] [VP [VSTA ก้าวหน้า] [XVAE ขึ้น]]]]',\n",
       " '[S [PP [RPRE โดย] [VP [VACT ใช้]]] [S [NP [NCMN เทคนิค] [PP [RPRE ของ] [NP [NCMN ปัญญาประดิษฐ์]]]] [VP [XVAE มา] [VP [VACT ใช้] [PP [RPRE ใน] [NP [FIXN การ] [VP [VACT แปล] [NP [NCMN ภาษา]]]]]]]]]',\n",
       " '[S [PP [PREL ซึ่ง] [VP [JSBR ถ้า] [VP [VSTA มี] [NP [NCMN ข้อมูล]]]]] [S [NP [CLTV คู่] [NP [NCMN ภาษา]] [ADJC [PREL ที่] [ADJP [VATT ละเอียด]]]] [VP [VSTA ขึ้น] [NP [FIXN การ] [VACT แปล]] [JSBR ก็] [VP [XVBM จะ] [VP [VATT มีคุณภาพ] [AVBP [ADVN มากขึ้น]]]]]]]',\n",
       " '[S [NP [NCMN ฉะนั้น]] [JSBR เมื่อ] [S [NP [FIXN การ] [VP [VACT แปล] [NP [NCMN ระบบ] [DDAC นี้]]]] [VP [VSTA ได้รับ] [NP [FIXN การ] [VACT ปรับปรุง]] [AVBP [ADVN มากขึ้น]]]]]',\n",
       " '[S [PP [PREL ที่] [VP [VACT ใช้] [XVAE อยู่] [PP [RPRE ใน] [NP [NP [NCMN ปัจจุบัน] [VP [VSTA เป็น]]] [NP [NCMN เครื่อง] [ADJP [VATT เล็กๆ]]] [PUNC <space>] [JSBR สำหรับ] [VP [VACT แปล] [NP [NCMN ประโยค]]]]]]] [S [NP [NCMN จำนวน]] [VP [VSTA จำกัด] [ADJC [PREL ที่] [VP [VSTA มี] [NP [NP [FIXN ความ] [VP [VSTA จำเป็น] [PP [RPRE ใน] [NP [FIXN การ] [VP [VACT ใช้] [NP [DIBQ แต่ละ] [NCMN สถานการณ์]]]]]]] [PUNC <space>] [JSBR เช่น] [PUNC <space>] [NP [NP [VACT ช่วย] [VACT ให้]] [NP [NCMN นักท่องเที่ยว] [VP [VACT สื่อสาร] [XVAE ได้] [PP [RPRE ใน] [NP [FIXN การ] [VP [VACT ท่องเที่ยว] [PP [RPRE ไปยัง] [NP [NCMN ประเทศ] [CLSP [DIBQ บาง] [CNIT ประเทศ]]]]]]]]]] [PUNC <space>] [PDMN เป็นต้น]]]]]]]',\n",
       " '[S [PP [RPRE โดย] [VP [VACT แบ่ง] [NP [NCMN วิธีการ] [VP [VSTA เป็น] [PUNC <space>] [CLSP [DCNM 3] [PUNC <space>] [CNIT ขั้นตอน]]]] [ADJP [VATT ใหญ่ๆ]]]] [S [NP [NCMN <space>]] [VP [VSTA คือ]]]]',\n",
       " '[S [PP [RPRE โดย] [NP [FIXN การ] [VP [VACT สังเคราะห์] [NP [NCMN รูปลักษณะ]]]]] [S [NP [NCMN โครงสร้าง] [PP [RPRE ของ] [NP [NCMN ภาษาเป้าหมาย]]]] [VP [VACT จาก] [NP [NCMN ภาษากลาง]]]]]',\n",
       " '[S [PP [RPRE คือ] [VP [VSTA เป็น] [NP [FIXN ความ] [VP [VSTA สัมพันธ์] [PP [RPRE ระหว่าง] [PUNC <space>] [NP [NCMN concept]]]]]]] [S [NP [NCMN <space>] [DIAC ต่างๆ]] [PUNC <space>] [VP [JSBR ซึ่ง] [VP [VP [NEG ไม่ได้] [VSTA ขึ้นกับ] [NP [NCMN ภาษา] [DIAC ใด]]] [AVBP [ADVN ทั้งสิ้น]]]]]]',\n",
       " '[S [PP [PREL ซึ่ง] [VP [XVBM จะ] [VSTA สะดวก]]] [S [NP [NP [DIBQ กว่า] [PUNC <space>] [NCMN MT]] [PUNC <space>] [NP [NCMN แบบ]]] [VP [VACT ถ่ายทอด] [AVBP [ADVN มาก]]]]]',\n",
       " '[S [PP [RPRE โดย] [VP [VACT ใช้] [NP [NCMN ระบบ]]]] [S [NP [NCMN ภาษากลาง]] [VP [VACT ขึ้น] [PP [RPRE ตั้งแต่] [NP [NCMN ปี] [PUNC <space>] [NP [NCMN คศ.] [PUNC <space>] [NP [NCNM 1980]]]]]]]]',\n",
       " '[S [PP [RPRE โดย] [VP [VSTA เป็น]]] [S [NP [NCMN โครงการวิจัย]] [VP [VACT ร่วม] [PP [RPRE ของ] [NP [NP [NPRP ทบวงมหาวิทยาลัย]] [PUNC <space>] [PP [RPRE กับ] [NP [NCMN มหาวิทยาลัย] [PUNC <space>] [NP [NP [NCMN Grenoble]] [PUNC <space>] [PP [RPRE ของ] [NP [NP [NPRP ฝรั่งเศส]] [PUNC <space>] [PP [RPRE และ] [NP [NP [NCMN มหาวิทยาลัย] [PUNC <space>] [NP [NCMN Sains]]] [PUNC <space>] [PP [RPRE ของ] [NP [NPRP มาเลเซีย]]]]]]]]]]]]]]]',\n",
       " '[S [PP [RPRE โดย] [VP [VSTA มี] [NP [NCMN วัตถุประสงค์]] [JSBR ที่จะ] [VP [VACT ทำ] [NP [FIXN การ] [VACT แปล]]]]] [S [NP [NPRP ภาษาอังกฤษ]] [PUNC <space>] [VP [VSTA เป็น] [NP [NPRP ภาษาไทย]]]]]',\n",
       " '[S [PP [RPRE โดย] [NP [NP [VACT ทำงาน] [VACT วิจัย]] [PUNC <space>] [NP [NP [NCMN MT]] [PUNC <space>] [PP [RPRE ใน] [NP [NCMN ระบบ]]]]]] [S [NP [NCMN ที่]] [VP [VSTA ชื่อ] [PP [RPRE ว่า] [PUNC <space>] [NP [NCMN ARIANE]]]]]]',\n",
       " '[S [PP [RPRE โดย] [NP [NCMN ประโยค] [DIAC ต่างๆ]]] [S [NP [NCMN <space>] [DDAC นั้น]] [VP [XVBM จะ] [VP [XVMM ต้อง] [VP [VSTA ขึ้นอยู่] [PP [RPRE กับ] [NP [NP [NCMN คำศัพท์] [VP [VSTA ประมาณ] [PUNC <space>] [CLSP [DCNM 2,000] [PUNC <space>] [CNIT คำ]]]] [ADJC [PREL ที่] [VP [VSTA ได้รับ] [NP [FIXN การ] [VACT วิเคราะห์]]]]]]]] [JCRG และ] [VP [VACT บรรจุ] [XVAE อยู่] [PP [RPRE ใน] [PUNC <space>] [NP [NP [NCMN Dictionary]] [PUNC <space>] [PP [RPRE ของ] [NP [NCMN ระบบ]]]]]]]]]',\n",
       " '[S [PP [RPRE โดย] [VP [VSTA เน้น] [JSBR ที่]]] [S [NP [FIXN การ]] [VP [VACT แปล] [NP [NP [NPRP ภาษาไทย]] [PUNC <minus>] [NP [NP [NPRP อังกฤษ]] [PUNC <space>] [PP [RPRE และ] [NP [NCMN อังกฤษ] [PUNC <minus>] [NP [NPRP ไทย]]]]]]]]]',\n",
       " '[S [PP [RPRE ใน] [NP [NCMN ปี] [NP [NCMN <space>] [NP [NCMN พ.ศ.] [PUNC <space>] [NP [NCNM 2531]]] [PUNC <space>] [NP [NP [PDMN เป็นต้น]] [VP [VACT มา]]] [PUNC <space>] [NP [NPRP ศูนย์เทคโนโลยีอิเล็กทรอนิกส์และคอมพิวเตอร์แห่งชาติ] [NCMN <space>]]] [PUNC <left_parenthesis>] [NP [NPRP NECTEC]] [PUNC <right_parenthesis>] [NP [NCMN <space>]]]] [S [NP [NPRP กระทรวงวิทยาศาสตร์เทคโนโลยีและการพลังงาน]] [PUNC <space>] [VP [XVAM ได้] [VP [VSTA มี] [NP [NP [NCMN สัญญา] [NP [FIXN การ] [VP [VACT ร่วมมือ] [PP [RPRE กับ] [NP [NPRP กระทรวง MITI] [NCMN <space>]]] [EITT หรือ]]]] [PUNC <space>] [NP [NPRP Ministry of International Trade and Industry] [PP [RPRE ของ] [NP [NCMN ประเทศ] [NP [NPRP ญี่ปุ่น]]]]]]]]]]',\n",
       " '[S [PP [RPRE โดย] [VP [VSTA มี]]] [S [NP [NCMN วัตถุประสงค์] [DONM แรก]] [VP [VSTA คือ] [PUNC <space>] [NP [FIXN การ] [VP [VACT แปล] [NP [NCMN ภาษา] [NP [RPRE จาก] [NP [NPRP ญี่ปุ่น]]] [PUNC <minus>] [NP [NP [NPRP ไทย]] [PUNC <space>] [PP [RPRE และ] [NP [NPRP ภาษาไทย]]]] [PUNC <minus>] [NP [NPRP ญี่ปุ่น]]]]]]]]',\n",
       " '[S [PP [RPRE เพื่อ] [ADJP [VATT แทน]]] [S [NP [NCMN คำอธิบาย]] [VP [VSTA เกี่ยวกับ] [NP [NP [NCMN ตัว] [NP [NCMN คำ]] [PUNC <space>] [NP [NCMN ความหมาย]] [PUNC <space>] [NP [NCMN โครงสร้าง]]] [PUNC <space>] [PP [RPRE และ] [NP [NCMN ข้อมูล] [DIAC อื่นๆ]]]]]]]',\n",
       " '[S [S [S [NP [NP [NCNM 2]] [PUNC <space>] [NP [NCMN ข้อมูล] [PP [RPRE ใน] [PUNC <space>] [NP [NCMN ED]]]]] [PUNC <space>] [VP [XVBM จะ] [VACT มุ่งเฉพาะ]]] [JSBR ให้] [S [NP [NCMN เครื่อง]] [VP [VSTA เข้าใจ] [NP [NCMN ภาษา] [PP [RPRE เพื่อ] [NP [FIXN การ] [VACT ประมวลผล]]]]]]] [JSBR โดยที่] [S [NP [NCMN ตัวเครื่อง] [NP [PDMN เอง]]] [VP [VSTA มี] [NP [NP [FIXN ความ] [XVAM สามารถ]] [PP [RPRE ใน] [NP [FIXN การ] [VACT คิด]]]] [AVBP [ADVN จำกัด]]]]]',\n",
       " '[S [PP [RPRE ใน] [NP [NCMN ระบบ]]] [S [NP [FIXN การ] [VP [VACT แปล] [NP [NCMN ภาษา] [CLSP [DIBQ แต่ละ] [CNIT ระบบ]]]]] [PUNC <space>] [VP [XVMM อาจ] [VP [VSTA มี] [PUNC <space>] [NP [NCMN ED] [PUNC <space>] [NP [NP [DIBQ หลาย] [NP [NCMN ชนิด] [PP [RPRE ตาม] [NP [FIXN ความ] [VP [VSTA จำเป็น] [PP [RPRE ใน] [NP [NCMN การงาน]]]]]]]] [NP [DIBQ แต่ละ] [NCMN ระบบ]] [PUNC <space>] [JSBR ซึ่ง] [VP [XVMM อาจ] [VP [VACT สรุป] [XVAE ได้] [AVBP [ADVN ดังนี้]]]]]]]]]]',\n",
       " '[S [PP [RPRE สำหรับ] [PUNC <space>] [NP [NP [NCMN ED]] [PUNC <space>] [PP [PREL ที่] [VP [VSTA เป็น] [NP [NCMN ศัพท์]]]]]] [S [NP [NP [NCMN เทคนิค] [DDAC นี้]] [PUNC <space>] [PP [RPRE ใน] [NP [NCMN ระบบ] [ADJP [VATT ใหญ่]]]]] [VP [XVMM อาจ] [VP [VSTA มี] [NP [NCMN คำศัพท์] [VP [VSTA ถึง] [PUNC <space>] [CLSP [DCNM 50,000] [PUNC <space>] [CNIT คำ]]]] [AVBP [ADVN ขึ้น] [XVAE ไป]]]]]]',\n",
       " '[S [PP [RPRE โดย] [NP [VACT ดึง] [VACT เอา]]] [S [NP [NCMN ข้อมูล] [NP [NCMN บางส่วน]]] [VP [VACT ออก] [PP [RPRE จาก] [NP [NCMN พจนานุกรม] [DIAC อื่นๆ]]]]]]',\n",
       " '[S [PP [RPRE ใน] [NP [NCMN ส่วน] [DDAC นี้]]] [S [NP [NCMN ข้อมูล]] [VP [XVBM จะ] [VP [VSTA ประกอบ] [PP [RPRE ด้วย] [NP [NP [NCMN คำ] [ADJP [VATT พื้นฐาน]]] [PUNC <space>] [PP [RPRE และ] [NP [NCMN ข้อมูล] [PP [RPRE เกี่ยวกับ] [NP [FIXN การ] [VSTA รวมตัว]]]]]]]] [PP [RPRE ของ] [NP [NCMN หน่วยคำ]]]]]]',\n",
       " '[S [PP [RPRE เพื่อ] [VP [VSTA รู้]]] [S [NP [NCMN ตำแหน่ง] [JCRG และ] [NCMN ความ]] [VP [VSTA สัมพันธ์] [PP [RPRE ของ] [NP [NCMN คำ] [PP [RPRE ใน] [NP [NCMN ระดับ] [NP [NCMN โครงสร้าง]]]]]]]]]',\n",
       " '[S [PP [RPRE สำหรับ] [PUNC <space>] [NP [NCMN Concept Dictionary]]] [S [NP [NCMN <space>] [DDAC นั้น]] [PUNC <space>] [VP [VSTA เป็น] [NP [NP [NCMN ตัวแทน] [NP [NCMN ความหมาย] [NP [NCMN รูป] [ADJP [VATT ลึก]]]]] [JCRG หรือ] [NP [NCMN ระดับ] [PUNC <space>] [NP [NCMN concept]]]]]]]',\n",
       " '[S [PP [RPRE โดย] [VP [VSTA มี]]] [S [NP [NCMN วัตถุประสงค์]] [JSBR เพื่อ] [VP [VACT พัฒนา] [NP [NP [NCMN พจนานุกรม] [NP [NCMN อิเล็กทรอนิกส์]]] [JCRG หรือ] [NP [FIXN <space>] [NCMN ED]]]]]]',\n",
       " '[S [PP [RPRE เพื่อ] [VP [VACT ช่วย] [PP [RPRE ใน] [NP [FIXN การ] [VACT แปล]]]]] [S [NP [NCMN ภาษา]] [JSBR โดย] [VP [VACT ใช้] [NP [NP [NCMN ระบบ] [ADJP [VATT กลาง]]] [JCRG หรือ] [NP [FIXN <space>] [NCMN Interlingua MT]]]]]]',\n",
       " '[S [PP [RPRE ยัง] [VP [XVAM ได้] [VP [VACT ทำการค้นคว้า] [PP [RPRE ใน] [NP [NCMN หมู่]]]]]] [S [NP [NP [NCMN ผู้ร่วมงาน]] [NP [PDMN เอง]] [PUNC <space>] [JSBR โดย] [VP [VACT ทั้ง] [PP [RPRE จาก] [NP [FIXN การ] [VP [VACT อ่าน] [NP [NCMN วารสาร] [JCRG และ] [NCMN หนังสือ]]]]]]] [JSBR ที่] [VP [VSTA เกี่ยวข้อง]]]]',\n",
       " '[S [PP [PREL ซึ่ง] [VP [VACT ทำให้เกิด] [NP [FIXN ความ] [VSTA เข้าใจ]]]] [S [NP [NCMN ระบบ] [PP [RPRE ของ] [PUNC <space>] [NP [NCMN Interligua MT]]]] [PUNC <space>] [VP [VATT ดี] [AVBP [ADVN ยิ่งขึ้น]]]]]',\n",
       " '[S [PP [RPRE โดย] [VP [VACT พิจารณา]]] [S [NP [FIXN ความ]] [VP [VSTA สัมพันธ์] [PP [RPRE ของ] [NP [NCMN ความหมาย] [PP [RPRE ของ] [NP [NCMN คำ] [PP [RPRE ใน] [NP [NCMN ประโยค]]]]]]]]]]',\n",
       " '[S [PP [RPRE โดย] [VP [VACT พิจารณา]]] [S [NP [FIXN ความ]] [VP [VSTA เกี่ยวเนื่อง] [PP [RPRE ของ] [NP [NCMN ใจความ]]]]]]',\n",
       " '[S [PP [RPRE เพื่อ] [NP [VACT ดึง] [VACT เอา]]] [S [NP [NCMN ภาษากลาง] [PUNC <space>] [PUNC <left_parenthesis>] [NCMN Interlingua] [PUNC <right_parenthesis>] [PUNC <space>]] [VP [VACT ออกมา]]]]',\n",
       " '[S [PP [RPRE โดย] [NP [VACT พิจารณา] [VACT ถึง]]] [S [NP [FIXN ความ]] [VP [VSTA กลมกลืน] [PP [RPRE ของ] [NP [NCMN เนื้อความ]]]]]]',\n",
       " '[S [PP [RPRE โดย] [VP [VACT เปลี่ยน]]] [S [NP [NCMN โครงสร้าง] [PP [RPRE ใน] [NP [NCMN ภาษากลาง]]]] [JSBR ให้] [VP [VSTA เป็น] [NP [NCMN ลักษณะ] [NP [NCMN โครงสร้าง] [PP [RPRE ใน] [NP [NCMN ภาษาเป้าหมาย]]]]]]]]',\n",
       " '[S [PP [RPRE จาก] [NP [FIXN การ] [VACT ศึกษา]]] [S [NP [NP [NCMN ระบบ] [ADJC [PREL ที่] [VP [VACT กล่าว] [XVAE มา] [AVBP [ADVN ข้างต้น]]]]] [PUNC <space>] [NP [FIXN การ] [VP [VACT เก็บ] [NP [NCMN ข้อมูล] [PP [RPRE ของ] [NP [NCMN คำ] [CLSP [DIBQ แต่ละ] [CNIT คำ]]]]] [VP [VACT แบ่ง] [VP [VSTA เป็น] [NP [NCMN ส่วน] [ADJP [VATT ใหญ่ๆ]]]]]]]] [PUNC <space>] [VP [VP [VSTA ได้] [PUNC <space>] [CLSP [DCNM 3] [PUNC <space>] [CNIT ส่วน]]] [AVBP [ADVN ดังนี้]]]]]',\n",
       " '[S [PP [RPRE เมื่อ] [VP [XVAM ได้] [VP [VACT ศึกษา] [JCRG และ] [VSTA เข้าใจ]]]] [S [NP [NCMN ระบบ] [NP [FIXN การ] [VP [VACT ทำงาน] [PP [RPRE ของ] [NP [NCMN คอมพิวเตอร์] [PP [RPRE ใน] [PUNC <space>] [NP [NCMN Interlingua MT] [PUNC <space>] [NP [NCMN และ]]]]]]]]] [VP [VSTA เข้าใจ] [NP [NCMN ส่วนประกอบ] [ADJP [VATT หลัก]] [PP [RPRE ของ] [PUNC <space>] [NP [NCMN ED] [NP [NCMN <space>]]]]] [AVBP [ADVN แล้ว]]]]]',\n",
       " '[S [PP [RPRE โดย] [NP [RPRE ใน] [NP [NCMN ระยะ] [DONM แรก]]]] [S [NP [DDAC นี้]] [VP [VSTA เน้น] [PP [RPRE สำหรับ] [PUNC <space>] [NP [NCMN ED]]]]]]',\n",
       " '[S [PP [RPRE ในที่นี้] [VP [XVAM ได้] [VP [VSTA มี] [NP [FIXN การ] [VACT วิเคราะห์]]]]] [S [NP [NCMN คำ] [NP [NCMN ประเภท] [DIAC ต่างๆ]] [PUNC <space>] [CLSP [DCNM 5] [PUNC <space>] [CNIT ประเภท]]] [PUNC <space>] [VP [VSTA คือ] [PUNC <space>] [NP [NCMN คำบ่งชี้] [PUNC <space>] [NP [NCMN คำลงท้าย] [PUNC <space>] [NCMN คำลักษณะนาม] [PUNC <space>] [NCMN คำสรรพนาม] [PUNC <space>] [NCMN คำสันธาน]]]]]]',\n",
       " '[S [S [NP [NCMN คำบ่งชี้]] [PUNC <space>] [VP [XVBM จะ] [VP [VSTA ปรากฏ] [PP [RPRE หลัง] [NP [NCMN คำ] [ADJC [PREL ที่] [VP [VSTA มี] [NP [NCMN ตัว] [NP [PPRS มัน]]] [VP [VACT ขยาย]]]]]]]]] [JSBR ซึ่ง] [S [NP [PDMN ส่วนใหญ่]] [VP [XVBM จะ] [VP [VSTA เป็น] [NP [NP [NCMN คำนาม] [JCRG หรือ] [NCMN คำกริยา]] [PUNC <space>] [PP [RPRE เช่น] [PUNC <space>] [NP [NCMN ปากกา] [DDAC นี้]]]] [VP [VSTA เป็น] [PP [RPRE ของ] [NP [PPRS ฉัน]]]]]]]]',\n",
       " '[S [S [NP [NCMN VEQU]] [PUNC <space>] [VP [VSTA คือ] [PUNC <space>] [NP [NCMN คำกริยา] [ADJC [PREL ที่] [VP [VACT แสดง] [NP [FIXN ความ] [VSTA เหมือน]]]]]]] [JCRG หรือ] [S [NP [NP [NCMN เท่า]] [PUNC <space>] [PP [RPRE เช่น] [NP [FIXN <space>] [VSTA เป็น]]]] [PUNC <space>] [VP [VSTA คือ] [NP [FIXN <space>] [VSTA ได้แก่]]]]]',\n",
       " '[S [PP [RPRE โดย] [VP [VACT ดู] [NP [NCMN แนวทาง]]]] [S [NP [NP [FIXN การ] [VACT วิเคราะห์]] [PUNC <space>] [NP [NP [NCMN Case]] [PUNC <space>] [PP [RPRE ของ] [NP [NCMN ทีม]]]]] [VP [VACT งาน] [NP [NPRP ญี่ปุ่น]]]]]',\n",
       " '[S [S [NP [NCMN AGT]] [PUNC <space>] [VP [VSTA คือ] [PUNC <space>] [NP [NCMN ผู้ทำอาการ] [ADJC [PREL ที่] [VP [VSTA มีชีวิต]]]]]] [JCRG ทั้ง] [S [NP [NCMN คน] [JCRG และ] [NCMN สัตว์]] [PUNC <space>] [VP [VSTA รวมถึง] [NP [NP [NP [NCMN กลุ่มบุคคล] [JCRG หรือ] [NCMN องค์กร]] [DIAC ต่างๆ]] [NP [NCMN <space>]]] [AVBP [ADVN ด้วย]]]]]',\n",
       " '[S [S [NP [PPRS ฉัน]] [VP [VACT บอก] [NP [PPRS เธอ]]]] [JSBR ว่า] [S [NP [NCMN รัฐบาล]] [VP [VACT ยุบ] [NP [NCMN สภา]] [AVBP [ADVN แล้ว]]]]]',\n",
       " '[S [S [NP [NCMN แบบ] [NP [NCMN โครงสร้าง] [DDAC นี้]]] [VP [XVBM จะ] [VACT แสดง]]] [JSBR ว่า] [S [NP [NCMN ประโยค] [CLSP [DIBQ แต่ละ] [CNIT แบบ]]] [VP [XVBM จะ] [VP [VP [VP [VP [VSTA ประกอบ] [PP [RPRE ด้วย] [NP [NCMN คำ] [JCRG หรือ] [NCMN กลุ่ม]]]] [NP [NCMN คำ] [NP [NCMN ประเภท] [DIAC ใด]]]] [AVBP [ADVN บ้าง]]] [NP [NCMN <space>]]] [JCRG และ] [VP [VSTA มี] [NP [NCMN ลำดับ] [PNTR อย่างไร]]]]]]',\n",
       " '[S [NP [NCMN และ]] [JSBR เนื่องจาก] [S [NP [NCMN คำกริยา]] [VP [VSTA เป็น] [NP [NCMN ตัวกำหนด] [NP [NP [NCMN องค์ประกอบ] [DIAC อื่น]] [DDAC นี้]]] [AVBP [ADVN เอง]]]]]',\n",
       " '[S [PP [RPRE หลังจาก] [NP [NCMN ขั้นตอน]]] [S [NP [FIXN การ] [VP [VACT ตัด] [NP [NCMN คำ]] [JCRG และ] [VP [VACT หา] [NP [NCMN คำกริยา]]]]] [JSBR ซึ่ง] [VP [VP [VSTA คือ] [PUNC <space>] [NP [NP [NCMN predicate]] [PUNC <space>] [PP [RPRE ของ] [NP [NCMN ประโยค]]]]] [AVBP [ADVN แล้ว]]]]]',\n",
       " '[S [PP [RPRE เมื่อ] [VP [VSTA รู้] [NP [NP [NCMN <space>]] [NP [NCMN VP]] [PUNC <space>] [JSBR ก็] [VP [VSTA คือ] [VP [VSTA รู้] [NP [CLTV แบบ] [NP [NCMN โครงสร้าง] [PP [RPRE ของ] [NP [NCMN ประโยค]]]] [ADJC [PREL ซึ่ง] [VP [XVBM จะ] [VP [VACT ทำให้] [NP [NCMN เครื่อง]] [VP [XVAM สามารถ] [VP [VACT เรียงลำดับ] [NP [NCMN คำ] [JCRG หรือ] [NCMN กลุ่ม]]]]]]]]]]]]] [S [NP [NCMN คำ] [ADJP [VATT หลักๆ]]] [PUNC <space>] [VP [VACT สร้าง] [XVAE ขึ้น] [VP [VSTA เป็น] [NP [NCMN ประโยค] [XVAE ได้] [AVBP [FIXV อย่าง] [VATT ถูกต้อง]]]]]]]',\n",
       " '[S [PP [RPRE โดย] [VP [VACT ใช้] [NP [NCMN ขั้นต้น]] [VP [VACT จัด] [NP [NCMN กลุ่ม]]]]] [S [NP [NCMN คำ]] [JSBR ว่า] [VP [VSTA เป็น] [NP [NP [NCMN คำกริยา] [NP [NCMN อกรรม]]] [PUNC <space>] [NP [NCMN สกรรม] [NP [NCMN <space>]]] [JCRG หรือ] [NP [NCMN ทวิกรรม]]]]]]',\n",
       " '[S [PP [RPRE ใน] [PUNC <space>] [NP [NP [NCMN VP] [PUNC <space>] [NP [DDAC นี้]]] [PUNC <space>] [NP [NCMN นามวลี]]]] [S [NP [NCMN ที่]] [VP [VSTA ตามหลัง] [NP [NCMN กริยา] [NP [NEG ไม่ใช่] [NCMN กรรมตรง]] [PP [RPRE ของ] [NP [NCMN กริยา]]]]]]]',\n",
       " '[S [PP [RPRE ใน] [PUNC <space>] [NP [NP [NCMN VP] [PUNC <space>] [NP [DDAC นี้]]] [PUNC <space>] [NP [NCMN นามวลี] [ADJC [PREL ที่] [VP [VSTA ตามหลัง]]]]]] [S [NP [NCMN คำกริยา]] [VP [VSTA เป็น] [NP [NCMN กรรมตรง] [PP [RPRE ของ] [NP [NCMN กริยา]]]]]]]',\n",
       " '[S [PP [RPRE ใน] [NP [NCMN ขั้น]]] [S [NP [NCMN คำ]] [PUNC <space>] [VP [XVMM ควร] [VP [VSTA มี] [PUNC <space>] [NP [NCMN ตัวสะกด]]]]]]',\n",
       " '[S [PP [RPRE รวมทั้ง] [VP [VSTA บ่ง]]] [S [NP [VACT ว่า] [VACT ขึ้นต้น]] [VP [JSBR ด้วย] [NP [NCMN สระ] [JCRG หรือ] [NCMN พยัญชนะ]]]]]',\n",
       " '[S [PP [RPRE เป็น] [NP [NCMN คำ]]] [S [NP [NCMN หลัก] [JCRG หรือ] [NCMN คำ]] [VP [VSTA ประกอบ]]]]',\n",
       " '[S [S [NP [NCNM 5]] [PUNC <space>] [VP [VSTA มี] [NP [NCMN ปัญหา] [NP [FIXN ความ] [VP [VACT ขัดแย้ง] [NP [NP [NCMN ด้าน] [NP [NCMN นโยบาย]]] [PUNC <space>] [PP [RPRE และ] [NP [FIXN การ] [VACT บริหาร]]]] [PP [RPRE ระหว่าง] [NP [NCMN ฝ่าย] [NP [NPRP ไทย]]]]]]]]] [JCRG และ] [S [NP [NCMN ฝ่าย] [NP [NPRP ญี่ปุ่น]]] [VP [VSTA เกิดขึ้น] [AVBP [ADVN ตลอดเวลา]]]]]',\n",
       " '[S [PP [RPRE เพื่อ] [VP [VACT ปรับปรุง] [VP [VACT แก้ไข] [JCRG และ] [VACT โค้ด]]]] [S [NP [NCMN คำ]] [VP [VSTA เพิ่ม] [XVAE ขึ้น]]]]',\n",
       " '[S [PP [RPRE เพื่อ] [VP [XVBM จะ] [XVAM ได้] [VP [VSTA มี]]]] [S [NP [FIXN การ]] [VP [VACT สาธิต] [NP [NCMN ผลงาน]]]]]',\n",
       " '[S [PP [RPRE สำหรับ] [NP [FIXN การ] [VP [VACT วิเคราะห์] [NP [NCMN โครงสร้าง]]]]] [S [NP [NP [NPRP ภาษาไทย]] [JCRG หรือ] [NP [NCMN <space>] [NP [NCMN Verb Pattern]] [PUNC <space>] [NP [DDAC นั้น]] [PUNC <space>] [NP [NCMN โครงการ]]]] [VP [XVBM ยัง] [XVAM ได้] [VP [VACT ดำเนินการ] [VP [VACT ต่อ] [PP [RPRE จาก] [NP [NCMN ปี] [ADJC [PREL ที่] [VP [VSTA ผ่าน] [XVAE มา]]]]]]]]]]',\n",
       " '[S [PP [RPRE โดย] [VP [VACT ใช้] [NP [NCMN วิธีการ] [PP [RPRE ทาง] [NP [NCMN ด้าน]]]]]] [S [NP [NCMN คอมพิวเตอร์]] [VP [XVAE มา] [VP [VACT ช่วย]]]]]',\n",
       " '[S [PP [RPRE เพื่อ] [VP [VACT ใช้] [VACT สอน] [PP [RPRE ให้] [NP [NCMN เครื่อง]]] [VP [VSTA เข้าใจ]]]] [S [NP [NCMN ภาษาธรรมชาติ]] [VP [VP [XVAM ได้] [VP [VSTA ใกล้เคียง] [PP [RPRE กับ] [NP [NCMN มนุษย์]]]]] [AVBP [ADVN มาก] [ADVN ที่สุด]]]]]',\n",
       " '[S [PP [RPRE เพื่อ] [VP [VACT กระตุ้น] [JSBR ให้] [VP [VSTA เกิด]]]] [S [NP [FIXN การ] [VACT วิเคราะห์]] [VP [VACT วิจัย] [AVBP [FIXV อย่าง] [VATT กว้างขวาง]]]]]',\n",
       " '[S [PP [RPRE โดย] [VP [VSTA มี] [NP [NCMN ตัวอย่าง]]]] [S [NP [NCMN ประโยค]] [VP [VSTA ประกอบ]]]]',\n",
       " '[S [PP [RPRE โดย] [NP [VACT พยายาม] [VACT ใช้]]] [S [NP [NCMN ภาษากลาง] [PUNC <space>] [PUNC <left_parenthesis>] [NCMN Interlingua] [PUNC <right_parenthesis>] [PUNC <space>]] [VP [VSTA เป็น] [NP [NCMN ตัวกลาง] [PP [RPRE ของ] [NP [FIXN การ] [VP [VACT แปล] [NP [NCMN ภาษา]]]]]]]]]',\n",
       " '[S [PP [RPRE จาก] [NP [NCMN นโยบาย] [DDAC นี้]]] [S [NP [NP [PDMN เอง]] [ADJC [PREL ที่] [VP [VSTA เป็น] [NP [NCMN จุดเริ่มต้น] [PP [RPRE ของ] [NP [FIXN การ] [VP [VACT วิจัย] [AVBP [ADVN ร่วมกัน]]]]]] [JSBR เพื่อ] [VP [VACT พัฒนา] [NP [NCMN ระบบ]]]]]] [VP [VACT แปล] [NP [NPRP ภาษาไทย] [PP [RPRE กับ] [NP [NPRP ภาษาญี่ปุ่น]]]] [PP [RPRE ด้วย] [NP [NCMN เครื่องคอมพิวเตอร์]]]]]]',\n",
       " '[S [PP [RPRE โดย] [VP [VSTA มี]]] [S [NP [NCMN ประเทศ] [ADJC [PREL ที่] [VP [VACT เข้าร่วม] [NP [NCMN โครงการ]]]]] [VP [VSTA ได้แก่] [PUNC <space>] [NP [NP [NPRP ญี่ปุ่น]] [PUNC <space>] [NP [NP [NP [NPRP จีน]] [PUNC <space>] [NP [NP [NPRP มาเลเซีย]] [PUNC <space>] [NP [NPRP อินโดนีเซีย]]]] [PUNC <space>] [PP [RPRE และ] [NP [NPRP ไทย]]]]]]]]',\n",
       " '[S [PP [RPRE ใน] [NP [NPRP ประเทศญี่ปุ่น]]] [S [NP [NCMN มี] [NP [NCMN บริษัทเอกชน] [VP [VACT เข้าร่วม] [NP [NCMN โครงการ] [DDAC นี้]] [VP [VSTA อยู่] [NP [PDMN ทั้งหมด]]]]] [PUNC <space>] [CLSP [DCNM 7] [PUNC <space>] [CNIT บริษัท]]] [PUNC <space>] [VP [VSTA ได้แก่] [PUNC <space>] [NP [NP [NP [NCMN บริษัท] [NP [NCMN <space>] [NP [NPRP NEC,]] [PUNC <space>] [NP [NPRP TOSHIBA,]] [PUNC <space>] [NP [NPRP FUJITSU,]]] [PUNC <space>] [NP [NPRP OKI,]] [PUNC <space>] [NP [NPRP SHARP,]]] [PUNC <space>] [NP [NPRP HITACHI]]] [PUNC <space>] [PP [RPRE และ] [PUNC <space>] [NP [NPRP MITSUBISHI]]]]]]]',\n",
       " '[S [PP [RPRE จาก] [NP [NP [FIXN การ] [VACT ประชุม]] [PUNC <space>] [NP [NP [NCMN MT Summit]] [PUNC <space>] [PP [RPRE ณ] [NP [NCMN <full_stop>] [PUNC <space>] [NCMN เมือง] [PUNC <space>] [NCMN Hakone] [PUNC <space>] [NCMN ประเทศ]]]]]] [S [NP [NPRP ญี่ปุ่น]] [PUNC <space>] [VP [JSBR เมื่อ] [NP [NCMN เดือน] [PUNC <space>] [NP [NP [NCMN กันยายน] [PUNC <space>] [NP [NCMN ค.ศ.] [PUNC <space>] [NP [NCNM 1987]]]] [PUNC <space>] [PP [RPRE จาก] [NP [NCMN รูป] [PUNC <space>] [NP [NCMN CHAI7]]]]]]]]]',\n",
       " '[S [PP [RPRE โดย] [VP [VSTA มี]]] [S [NP [NCMN ภาษากลาง]] [VP [VSTA เป็น] [NP [NCMN สื่อ] [PP [RPRE ระหว่าง] [NP [NCMN ภาษาต้นแบบ] [JCRG และ] [NCMN ภาษาเป้าหมาย]]]]]]]',\n",
       " '[S [PP [RPRE ในที่นี้] [VP [XVBM จะ] [VP [XVBB ขอ] [VP [VACT กล่าวถึง] [AVBP [ADVN เพียง]]]]]] [S [NP [NCMN โครงสร้าง]] [JSBR โดย] [VP [VACT ย่อ] [PP [RPRE ของ] [NP [NCMN ส่วน] [VP [VACT วิเคราะห์] [NP [NCMN ภาษา] [NP [NCMN ต้นแบบ] [ADJC [PREL ที่] [VP [VACT แบ่ง] [VP [VSTA ออกเป็น] [PUNC <space>] [CLSP [DCNM 3] [PUNC <space>] [CNIT ขั้นตอน]]]]]]]]]] [PUNC <space>] [VP [VSTA ได้แก่]]]]]',\n",
       " '[S [PP [RPRE พร้อมกับ] [VP [VACT กำหนด] [NP [NCMN ตำแหน่ง] [PP [RPRE ของ] [NP [NCMN กริยา]]]]]] [S [NP [NP [NCMN หลัก] [PUNC <space>] [PUNC <left_parenthesis>] [NCMN Main Predicate] [PUNC <right_parenthesis>] [PUNC <space>]] [JCRG หรือ] [NP [FIXN <space>] [NCMN entry node]]] [PUNC <space>] [VP [VACT บน] [NP [NCMN โครงสร้าง] [PUNC <space>] [NP [NCMN dependency tree]]]]]]',\n",
       " '[S [NP [RPRE ใน] [NP [NCMN งานวิจัย] [DDAC นี้]]] [VP [XVBM จะ] [VP [VACT ใช้] [NP [NP [NCMN ภาษาอังกฤษ] [NP [NCMN <space>]] [PUNC <left_parenthesis>] [NP [NCMN อักษร] [NP [NCMN ตัวพิมพ์] [ADJP [VATT ใหญ่]]]] [PUNC <right_parenthesis>] [NP [FIXN <space>] [VP [VSTA แทน] [PUNC <space>] [NP [NCMN CP]]]]] [PUNC <space>] [JSBR เช่น] [PUNC <space>] [NP [NCMN ตัวอย่าง] [NP [NCMN ในรูป] [ADJC [PREL ที่] [S [NP [NP [NCMN 3] [PUNC <space>] [PUNC <quotation>] [NCMN MOVE] [PUNC <quotation>] [PUNC <space>]] [VP [VSTA เป็น] [PUNC <space>] [NP [NCMN CP] [PUNC <space>] [NCMN ของ] [PUNC <space>] [NCMN move,] [PUNC <space>] [NCMN moving,]]]] [PUNC <space>] [VP [VACT เคลื่อน] [NP [NCMN <space>]]]]]] [PUNC <quotation>] [NP [NCMN ROOM]] [PUNC <quotation>] [NP [FIXN <space>] [VP [VSTA เป็น] [PUNC <space>] [NP [NCMN CP] [PUNC <space>] [NCMN ของ] [PUNC <space>] [NCMN room,] [PUNC <space>] [NCMN ห้อง]]]]] [PUNC <space>] [PDMN เป็นต้น]]]]]',\n",
       " '[S [PP [RPRE ใน] [NP [NP [NCMN โครงสร้าง] [PP [RPRE ของ] [NP [NCMN ภาษากลาง] [DDAC นี้]]]] [PUNC <space>] [NP [NCMN กริยา]]]] [S [NP [NCMN หลัก]] [VP [XVBM จะ] [VP [VSTA เป็น] [NP [NCMN จุด] [NP [NP [NCMN <space>]] [JCRG หรือ] [NP [NCMN โนด] [VP [VSTA เริ่มต้น] [NP [NCMN <space>]]]]] [PUNC <left_parenthesis>] [NP [NCMN entry node]] [PUNC <right_parenthesis>] [NP [NCMN <space>] [PP [RPRE ของ] [NP [FIXN การ] [VACT วิเคราะห์]]]]]] [JCRG และ] [VP [VACT สร้าง] [NP [NCMN ประโยค]]]]]]',\n",
       " '[S [PP [RPRE ดัง] [NP [NCMN ตัวอย่าง]]] [S [NP [NCMN รูป]] [VP [JSBR ที่] [NP [NCNM 3]]]]]',\n",
       " '[S [PP [RPRE โดย] [VP [VACT เลือก] [XVAE เอา] [PP [RPRE เฉพาะ] [NP [NCMN คำ]]]]] [S [NP [NCMN ที่]] [VP [VATT ถูกต้อง] [AVBP [ADVN ที่สุด]]]]]',\n",
       " '[S [PP [RPRE พร้อม] [VP [VSTA มี] [NP [FIXN การ] [VACT ตกแต่ง]]]] [S [NP [NCMN ประโยค]] [VP [VACT ให้] [AVBP [ADVN ถูกต้อง] [JCRG และ] [VP [VSTA สมบูรณ์] [PP [RPRE ตาม] [NP [NCMN หลัก] [NP [NCMN ไวยากรณ์] [NP [NPRP ภาษาไทย]]]]]]]]]]',\n",
       " '[S [PP [RPRE ดัง] [NP [NCMN ตัวอย่าง]]] [S [NP [NCMN ที่]] [VP [VACT แสดง] [PP [RPRE ใน] [NP [NCMN รูป] [DONM ที่ 4]]]]]]',\n",
       " '[S [PP [RPRE เพื่อ] [VP [VACT เตรียม] [NP [FIXN การ] [VP [VACT สร้าง] [NP [NPRP ภาษาไทย]] [JSBR โดย] [VP [VACT ยึด] [NP [NCMN กริยา]]]]]]] [S [NP [NCMN หลัก] [PUNC <space>] [PUNC <left_parenthesis>] [NCMN predicate CP] [PUNC <right_parenthesis>] [PUNC <space>]] [VP [VSTA เป็น] [NP [NP [NCMN หลักการ] [PP [RPRE ใน] [NP [FIXN การ] [VP [VACT ค้นหา] [NP [NCMN ข้อมูล] [ADJC [PREL ที่] [ADJP [VATT ถูกต้อง]]]]]]]] [PUNC <space>] [PP [RPRE ด้วย] [NP [NCMN การ] [PUNC <space>] [NCMN traversing] [PUNC <space>] [NCMN แบบ] [PUNC <space>] [NCMN depth-first algorithm]]]]]]]',\n",
       " '[S [PP [RPRE ใน] [NP [NCMN ส่วน] [DDAC นี้]] [VP [XVBM จะ] [VP [VACT ทำ] [NP [FIXN การ] [VACT สร้าง]]]]] [S [NP [NCMN โครงสร้าง] [PP [RPRE ทาง] [NP [NCMN ไวยากรณ์] [PP [RPRE ของ] [NP [NCMN ภาษาไทย] [PUNC <space>] [PUNC <left_parenthesis>] [NCMN Grammatical Structure] [PUNC <right_parenthesis>] [PUNC <space>]]]]]] [VP [VACT ใช้] [PP [RPRE กับ] [NP [NCMN ภาษากลาง]]]]]]',\n",
       " '[S [PP [RPRE โดย] [VP [VACT ทำ] [NP [FIXN การ] [VACT กำหนด]]]] [S [NP [NP [NCMN หน้าที่] [NP [NCMN ของ] [PUNC <space>] [NCMN GFUNC] [PUNC <space>] [NCMN ของ] [PUNC <space>] [NCMN CP]] [PUNC <space>] [CLSP [DIBQ แต่ละ] [CNIT ตัว]]] [ADJC [PREL ที่] [VP [VACT เชื่อมต่อ] [PP [RPRE จาก] [NP [NCMN กริยา]]]]]] [VP [VSTA หลัก] [PP [RPRE ตาม] [NP [NCMN หลัก] [NP [NCMN ไวยากรณ์] [NP [NPRP ไทย]]]]]]]]',\n",
       " '[S [PP [RPRE โดย] [VP [VACT ใช้] [NP [NCMN วิธี] [NP [FIXN การ] [VP [VACT เทียบ] [NP [NCMN <space>]]]] [PUNC <left_parenthesis>] [NP [NCMN mapping]] [PUNC <right_parenthesis>] [NP [NCMN <space>]]]]] [S [NP [NCMN Conceptual CP]] [PUNC <space>] [VP [VACT เข้าไป] [NP [FIXN <space>] [NCMN Grammatical Node]]]]]',\n",
       " '[S [PP [RPRE เพื่อ] [NP [NCMN กำหนด]]] [S [NP [NCMN ลำดับ] [PP [RPRE ของ] [NP [NCMN โนด] [ADJC [PREL ที่] [VP [VSTA อยู่] [ADJP [VATT ข้างเคียง] [AVBP [ADVN กัน]]]]]]]] [VP [VACT บน] [NP [NCMN โครงสร้างต้นไม้]]]]]',\n",
       " '[S [PP [RPRE จาก] [NP [NCMN โครงสร้าง] [PP [RPRE ของ] [NP [NCMN ภาษากลาง]]]]] [S [NP [NCMN ที่]] [VP [VACT กล่าว] [XVAE มา] [PP [RPRE ใน] [NP [NP [CNIT ข้อ] [PUNC <space>] [NCNM 2.2]] [PUNC <space>] [NP [DDAC นั้น]]]]]]]',\n",
       " '[S [PP [RPRE จาก] [NP [NCMN หนึ่ง]]] [S [NP [NCMN โนด] [PUNC <space>] [NP [NCMN CP]]] [PUNC <space>] [VP [XVAM สามารถ] [VP [VACT แตก] [XVAE ไป] [VP [VSTA ได้] [NP [DIBQ หลาย] [NP [NCMN กิ่ง] [PP [RPRE ตาม] [NP [NCMN โครงสร้าง] [PP [RPRE ของ] [NP [NCMN ประโยค]]]]]]]]]]]]',\n",
       " '[S [PP [RPRE โดย] [VP [VP [VSTA เริ่ม] [PP [RPRE จาก] [PUNC <space>] [NP [NCMN entry node] [NP [NCMN <space>] [ADJC [PREL ซึ่ง] [VP [VSTA เป็น] [PUNC <space>] [NP [NCMN root node]]]]] [PUNC <space>] [NP [CNIT ตัว] [DONM แรกสุด] [NP [NCMN ไป] [PP [RPRE ตาม] [NP [NCMN กิ่ง] [AVBP [ADVN จากบนลงล่าง]]]]]] [PUNC <space>] [NP [NCMN และ]]]]] [AVBP [ADVN จากซ้ายไปขวา]]]] [S [NP [NP [NCMN <space>]] [PUNC <left_parenthesis>] [PP [RPRE ตาม] [NP [NCMN หลักการ] [PUNC <space>] [NP [NCMN Depth-First Algorithm] [PUNC <right_parenthesis>] [NP [FIXN <space>] [AVBP [ADVN ตามลำดับ]]]]]]] [JSBR จนกระทั่ง] [VP [VACT ย้อนกลับ] [XVAE มา] [PP [RPRE ที่] [PUNC <space>] [NP [NCMN entry node] [NP [FIXN <space>] [AVBP [ADVN อีกครั้งหนึ่ง]]]]]]]]',\n",
       " '[S [PP [RPRE เมื่อ] [VP [VACT ใส่] [NP [NCMN ฐานข้อมูล] [PP [RPRE ของ] [NP [NCMN กฎ] [NP [NCMN ไวยากรณ์] [NP [FIXN การ] [VP [VACT เรียงลำดับ] [NP [NCMN คำ] [JCRG และ] [NCMN กลุ่ม]]]]]]]]]] [S [NP [NCMN คำ] [PP [RPRE ใน] [NP [NPRP ภาษาไทย]]]] [PUNC <space>] [VP [VACT เข้าไป] [PP [RPRE ใน] [NP [NCMN กฎ] [NP [NCMN ลอจิก] [CLSP [DDAN ดังกล่าว] [DDAC ข้างต้น]]]]]]]]',\n",
       " '[S [PP [RPRE จาก] [NP [FIXN ที่] [VP [VACT กล่าว] [XVAE มาแล้ว] [PP [RPRE ใน] [NP [NP [NCMN ข้อ] [NP [NCMN <space>] [DONM 3.2.2.1]]] [PUNC <space>] [PP [RPRE ว่า] [NP [FIXN การ] [VACT เปรียบเทียบ]]]]] [JSBR เพื่อ] [VP [VACT จัด] [NP [NCMN ลำดับ] [PP [RPRE ของ] [NP [NCMN คำ] [JCRG หรือ] [NCMN โนด]]]] [PP [RPRE ใน] [NP [NCMN โครงสร้าง] [NP [NCMN ไวยากรณ์] [DDAC นั้น]]]]]]]] [S [NP [PPRS เรา]] [VP [VSTA มี] [NP [NCMN โนด] [VP [VSTA อยู่] [PUNC <space>] [CLSP [DCNM 2] [PUNC <space>] [CNIT ประเภท]]]] [VP [VSTA คือ] [PUNC <space>] [NP [NP [NCMN CP]] [PUNC <space>] [PP [RPRE และ] [PUNC <space>] [NP [NCMN Case]]]]]]]]',\n",
       " '[S [PP [RPRE เพื่อ] [VP [VACT ใช้] [PP [RPRE ใน] [NP [FIXN การ] [VP [VACT แปล] [NP [NCMN ภาษา] [PP [RPRE ระหว่าง] [NP [NPRP ภาษาไทย]]]] [PP [RPRE กับ] [NP [NCMN คู่]]]]]]]] [S [NP [NP [NCMN ภาษา] [DIAC อื่น]] [PUNC <space>] [PP [RPRE และ] [VP [VACT พัฒนา] [NP [NCMN ซอฟต์แวร์]]]]] [VP [VACT ช่วย] [VP [VACT สนับสนุน] [NP [NCMN งานแปลภาษา]]]]]]',\n",
       " '[S [PP [RPRE เพื่อ] [VP [VACT นำไปสู่] [NP [FIXN การ] [VACT พัฒนา]]]] [S [NP [NCMN อิดิเตอร์] [PP [RPRE ของ] [NP [NCMN ดิกชั่นนารี] [ADJC [PREL ที่] [VP [VACT ช่วย]]]]]] [VP [VACT สนับสนุน] [NP [NCMN งานแปลภาษา]] [AVBP [ADVN ต่อไป]]]]]',\n",
       " '[S [PP [RPRE จาก] [NP [NCMN รากฐาน] [PP [RPRE ทาง] [NP [NCMN เทคโนโลยี]]]]] [S [NP [NCMN เดิม] [ADJC [PREL ที่] [VP [VSTA มี] [XVAE อยู่]]]] [PUNC <space>] [VP [VACT รวม] [PP [RPRE กับ] [NP [NCMN เทคโนโลยี] [ADJP [VATT ใหม่]]]] [PUNC <space>] [VP [VACT ทั้ง] [NP [CLTV ด้าน] [NP [NCMN ฮาร์ดแวร์] [JCRG และ] [NCMN ซอฟต์แวร์]] [ADJC [PREL ที่] [VP [VSTA รุดหน้า] [XVAE ไป] [AVBP [ADVN ทุกวัน]]]]]]]]]',\n",
       " '[S [PP [RPRE ใน] [NP [FIXN การ] [VP [VACT มอง] [NP [NCMN ภาษาไทย] [ADJC [PREL ที่] [VP [VACT ขยาย] [XVAE ออกมา] [VP [VSTA เป็น] [PUNC <space>] [CLSP [DCNM 2] [PUNC <space>] [CMTR ไบต์]]]]] [DDAC นั้น]] [VP [VSTA มี] [NP [NCMN ทางออก]] [EITT ได้]]]]] [S [NP [NP [DIBQ หลาย] [NCMN รูปแบบ]] [PUNC <space>] [PP [RPRE เช่น] [NP [FIXN <space>] [VP [XVMM อาจจะ] [VP [VACT มอง] [NP [NCMN คำ] [CLSP [DCNM หนึ่ง] [CNIT คำ]]] [VP [VSTA เป็น] [PUNC <space>] [CLSP [DCNM 2] [PUNC <space>] [CMTR ไบต์]]]]]]]] [PUNC <space>] [VP [VSTA เหมือน] [NP [NP [NCMN ภาษาญี่ปุ่น] [PUNC <space>] [PUNC <left_parenthesis>] [NCMN kanji] [PUNC <right_parenthesis>] [PUNC <space>]] [PP [RPRE เช่น] [PUNC <space>] [NP [NCMN กิน] [PUNC <space>] [NP [NCMN ข้าว]]]]]]]]',\n",
       " '[S [S [NP [NCMN จะ]] [VP [VSTA เห็น]]] [JSBR ว่า] [S [NP [NCMN เครื่องพิมพ์] [NP [NCMN ปัจจุบัน]]] [VP [XVAM สามารถ] [VP [VACT พิมพ์] [NP [NCMN แนวตั้ง]] [VP [XVAM ได้] [VP [VSTA ถึง] [PUNC <space>] [CLSP [DCNM 24] [PUNC <space>] [CNIT จุด]]]]]]]]',\n",
       " '[S [PP [RPRE โดย] [NP [NCMN พิมพ์]]] [S [NP [NP [NCMN วรรณยุกต์]] [PUNC <space>] [NP [NCMN พยัญชนะ]] [JCRG และ] [NP [NCMN สระ] [ADJP [VATT ล่าง] [AVBP [ADVN พร้อมกัน]]]]] [VP [VATT ใน] [AVBP [ADVN ทีเดียว]]]]]',\n",
       " '[S [PP [PREL ซึ่ง] [VP [VSTA ปรากฏ] [JSBR ว่า] [VP [XVBM ยัง] [VP [NEG ไม่] [VSTA มี]]]]] [S [NP [NCMN เครื่องพิมพ์] [DIAC ใด]] [VP [VACT ทำ] [AVBP [ADVN เช่นนี้]]]]]',\n",
       " '[S [PP [RPRE โดย] [VP [VACT ดึง]]] [S [NP [NCMN บิทแอตคริบิ้ว] [PP [RPRE ใน] [NP [NCMN ส่วน] [PP [RPRE ของ] [NP [NCMN ฮาร์ดแวร์]]]]]] [VP [XVAE มา] [VP [VACT ถอดรหัส] [AVBP [ADVN ร่วมกัน]]]]]]',\n",
       " '[S [PP [RPRE เพื่อ] [VP [VACT เลือก]]] [S [NP [NCMN ตัวอักษร] [PP [RPRE ใน] [NP [DIBQ แต่ละ] [NCMN บล๊อคโมเสด]]]] [VP [VSTA ได้]]]]',\n",
       " '[S [PP [RPRE โดย] [VP [JSBR ถ้า] [VP [VACT กำหนด] [NP [NCMN กลุ่ม]]]]] [S [NP [NP [FIXN การ] [VACT เลือก]] [PUNC <space>] [NP [NP [NCMN CD-ROM]] [NP [NCMN <space>] [ADJP [VATT ดีๆ]]] [PUNC <space>] [JSBR แล้ว] [VP [XVBM จะ] [VP [VACT ทำ] [JSBR ให้] [VP [VACT เขียน] [NP [NCMN ซอฟต์แวร์] [PP [RPRE ใน] [NP [FIXN การ] [VP [VACT ผสม] [NP [NCMN ไบท์]]]]]]]]]] [JCRG ทั้ง] [NP [NCNM สอง]]] [VP [VSTA ได้] [AVBP [ADVN ง่าย] [XVAE ขึ้น]]]]]',\n",
       " '[S [PP [RPRE โดย] [VP [VACT เขียน] [PP [RPRE ด้วย] [PUNC <space>] [NP [NCMN C language]]]]] [S [NP [NCMN <space>] [ADJC [PREL ที่] [VP [XVBM พร้อมจะ] [VACT ใส่]]]] [VP [VACT ลง] [PP [RPRE บน] [NP [NCMN เวอร์กสเตชั่น]]] [XVAE ได้] [AVBP [ADVN ทันที]]]]]',\n",
       " '[S [PP [RPRE โดย] [NP [NCMN โมเดล] [DDAC นี้]]] [S [NP [NCMN คณะ] [NP [NCMN ผู้วิจัย]]] [VP [VACT ตั้งชื่อ] [PP [RPRE ว่า] [PUNC <space>] [NP [NCMN TKS-Thai Kernel System]]]]]]',\n",
       " '[S [PP [RPRE โดย] [VP [VACT กำหนด] [NP [NCMN หน้าที่]]]] [S [NP [NCMN ที่]] [VP [VSTA แน่นอน]]]]',\n",
       " '[S [PP [RPRE เพื่อ] [VP [XVBM จะ] [XVAM ได้] [VP [VACT ทำให้] [VP [VSTA มี]]]]] [S [NP [FIXN ความ] [VSTA จำ]] [VP [VSTA เป็นอิสระ] [PP [RPRE ของ] [NP [NCMN ระดับ] [ADJC [PREL ที่] [VP [VSTA อยู่] [ADJP [VATT สูง] [AVBP [ADVN กว่า]]]]]]]]]]',\n",
       " '[S [PP [RPRE เพื่อ] [NP [NCMN ประโยชน์]]] [S [NP [FIXN การ]] [VP [VACT เรียกใช้]]]]',\n",
       " '[S [PP [RPRE กล่าวคือ] [VP [VSTA เป็น]]] [S [NP [NCMN ฟังก์ชั่น] [ADJC [PREL ที่] [VP [VACT เขียน] [AVBP [ADVN ขึ้น]]]]] [VP [VACT เก็บ] [XVAE ไว้] [PP [RPRE ใน] [NP [NCMN ไลบารี่]]]]]]',\n",
       " '[S [PP [RPRE โดย] [VP [VSTA อาศัย] [NP [NCMN วิธี]]]] [S [NP [FIXN การ] [VACT แปล]] [JSBR โดย] [VP [VACT ใช้] [NP [NCMN ภาษากลาง]]]]]',\n",
       " '[S [PP [RPRE เพื่อ] [VP [VACT ใช้] [PP [RPRE สำหรับ] [NP [FIXN การ] [VACT พัฒนา]]]]] [S [NP [NCMN ระบบ]] [VP [VACT ติดต่อ] [PP [RPRE ระหว่าง] [NP [NCMN หน่วยวิเคราะห์] [NP [NP [NCMN ภาษา] [PUNC <space>] [PUNC <left_parenthesis>] [NCMN Analysis Module] [PUNC <right_parenthesis>] [PUNC <space>]] [JCRG และ] [NP [NCMN พจนานุกรม]]]]]]]]',\n",
       " '[S [PP [RPRE เพื่อ] [VP [VACT ใช้] [PP [RPRE สำหรับ] [NP [FIXN การ] [VACT พัฒนา]]]]] [S [NP [NCMN ระบบ]] [VP [VACT ติดต่อ] [PP [RPRE ระหว่าง] [NP [NCMN หน่วยสร้างภาษา] [JCRG และ] [NCMN พจนานุกรม]]]]]]',\n",
       " '[S [PP [RPRE เป็น] [NP [FIXN การ] [VACT ศึกษา]]] [S [NP [NCMN เบื้องต้น] [PP [RPRE เกี่ยวกับ] [NP [NCMN ระบบปฏิบัติการ] [PUNC <space>] [PUNC <left_parenthesis>] [NCMN Operating System:OS] [PUNC <right_parenthesis>] [PUNC <space>]]]] [JSBR ซึ่ง] [VP [VSTA เป็น] [NP [NCMN ระบบ] [NP [NCMN พื้นฐาน] [PP [RPRE ของ] [NP [FIXN การ] [VP [VACT ใช้งาน] [NP [NCMN คอมพิวเตอร์]]]]]]]]]]',\n",
       " '[S [PP [RPRE โดย] [NP [FIXN การ] [VACT ใส่]]] [S [NP [NCMN ภาษาต้นฉบับ] [PUNC <space>] [PUNC <left_parenthesis>] [NCMN Source Language:SL] [PUNC <right_parenthesis>] [PUNC <space>]] [VP [VACT เข้า] [NP [NCMN เครื่องคอมพิวเตอร์]]]]]',\n",
       " '[S [PP [RPRE ในที่นี้] [VP [XVBM จะ] [VACT กล่าวถึง]]] [S [NP [NP [NCMN ทฤษฎี] [PUNC <space>] [NCMN หลัก] [JCRG และ] [NCMN กลวิธี]] [DIAC ต่างๆ]] [PUNC <space>] [VP [JSBR ที่] [VP [VACT ใช้] [PP [RPRE ใน] [NP [FIXN การ] [VP [VACT แปล] [NP [NCMN ภาษา] [PP [RPRE ด้วย] [NP [NCMN เครื่องคอมพิวเตอร์]]]]]]]]]]]',\n",
       " '[S [PP [RPRE โดย] [VP [VP [VSTA เน้น] [PP [RPRE ที่] [NP [NCMN งานวิจัย]]]] [JCRG และ] [VP [VACT พัฒนา]]]] [S [NP [NCMN โครงการ]] [VP [VACT แปล] [NP [NCMN ภาษา]]]]]',\n",
       " '[S [PP [RPRE ยัง] [VP [XVMM ต้อง] [VACT ศึกษา]]] [S [NP [NCMN งานวิจัย] [ADJP [VATT สำคัญๆ]]] [PUNC <space>] [VP [JSBR ที่] [VP [VSTA ผ่าน] [XVAE มา] [AVBP [ADVN อีกด้วย]]]]]]',\n",
       " '[S [PP [RPRE และ] [NP [NCMN โครงการวิจัย] [ADJC [PREL ที่] [VP [VACT ใช้] [NP [NCMN กลวิธี]]]]]] [S [NP [FIXN การ] [VACT แปล]] [JSBR โดย] [VP [VACT ใช้] [NP [NP [NCMN ภาษากลาง]] [PUNC <space>] [PP [RPRE เช่น] [PUNC <space>] [NP [NCMN DLT] [PUNC <space>] [NCMN VENUS] [PUNC <space>] [NCMN และ] [PUNC <space>] [NCMN Translator]]]]]]]',\n",
       " '[S [PP [RPRE โดย] [VP [VSTA เป็น]]] [S [NP [FIXN การ]] [VP [VACT วิเคราะห์] [NP [NCMN ภาษาต้นฉบับ] [ADJC [PREL ที่] [VP [NEG ไม่] [VSTA ลึกซึ้ง]]]] [AVBP [ADVN นัก]]]]]',\n",
       " '[S [PP [RPRE โดย] [VP [VACT ใช้] [NP [NCMN พจนานุกรม]]]] [S [NP [NCMN ที่]] [VP [VSTA มี] [NP [NP [NP [NCMN ไวยากรณ์] [PUNC <space>] [PUNC <left_parenthesis>] [NCMN Syntactic] [PUNC <right_parenthesis>] [PUNC <space>]] [JCRG และ] [NP [NCMN ความหมาย] [PUNC <space>] [PUNC <left_parenthesis>] [NCMN Semantic] [PUNC <right_parenthesis>] [PUNC <space>]]] [PP [RPRE ของ] [NP [NCMN ภาษา]]]]]]]',\n",
       " '[S [PP [RPRE เพื่อ] [VP [VACT นำ] [VP [VACT เอา] [NP [NP [NCMN ลักษณะ] [DIAC ต่างๆ]] [PUNC <space>] [NP [DDAC เหล่านี้]]] [VP [XVAE มา] [VP [VACT สังเคราะห์] [NP [NCMN ความหมาย] [JCRG และ] [NCMN โครงสร้าง]] [PP [RPRE ของ] [NP [NCMN ประโยคต้นฉบับ]]]]]]]] [S [NP [NCMN <space>]] [PUNC <left_parenthesis>] [VP [NEG ไม่] [VSTA รวม] [NP [NCMN คำศัพท์] [PUNC <right_parenthesis>] [NP [NCMN <space>] [ADJC [PREL ที่] [VP [VSTA ได้] [XVAE มา] [PP [RPRE จาก] [NP [NCMN ขั้นตอน] [NP [FIXN การ] [VP [VACT ตัด] [NP [NCMN คำ] [PP [RPRE ของ] [NP [FIXN การ] [VP [VACT วิเคราะห์] [NP [NCMN ภาษาต้นฉบับ]]]]]]]]]]]]]]]]]',\n",
       " '[S [PP [RPRE จาก] [NP [FIXN ที่] [VP [VACT กล่าว] [XVAE มาแล้ว] [VP [XVBM จะ] [VP [VSTA เห็น] [XVAE ได้] [PP [RPRE ว่า] [PUNC <space>] [NP [FIXN ความ] [VSTA ลึกซึ้ง]]]] [PP [RPRE ของ] [NP [NP [NCMN ความหมาย] [PP [RPRE ของ] [NP [NCMN คำ]]]] [PUNC <space>] [PP [RPRE และ] [NP [NCMN โครงสร้าง] [PP [RPRE ทาง] [NP [NCMN ภาษา] [ADJC [PREL ที่] [VP [VACT ใช้] [VP [VACT พิจารณา] [PP [RPRE ใน] [NP [FIXN การ] [VP [VACT ตัด] [NP [NCMN คำ]]]]] [PUNC <space>] [VP [VACT ทำให้เกิด] [NP [FIXN ความ] [VSTA แตกต่าง]] [PP [RPRE ของ] [NP [NCMN ระบบ]]]]]]]]]]]]]]]]] [S [NP [FIXN การ] [VP [VACT แปล] [NP [NCMN แบบ]]]] [VP [VACT ถ่ายทอด]]]]',\n",
       " '[S [S [NP [NCMN ก็]] [VP [XVAM สามารถ] [JSBR ที่จะ] [VP [VACT ทำ] [NP [FIXN การ] [VACT แปล]] [VP [VSTA เป็น] [NP [NCMN ภาษา] [PNTR อะไร]] [AVBP [ADVN ก็ได้]]]]]] [JSBR โดยที่] [S [NP [NCMN ไม่]] [VP [XVMM ต้อง] [VP [VACT ทำ] [NP [FIXN การ] [VACT วิเคราะห์]] [AVBP [ADVN ใหม่]]]]]]',\n",
       " '[S [PP [RPRE สำหรับ] [NP [NCMN ส่วน] [PP [RPRE ของ] [NP [NCMN งาน] [ADJC [PREL ที่] [VP [VP [VSTA เกี่ยวข้อง] [AVBP [ADVN กัน]]] [NP [NCMN แบบ] [NP [NCMN ภาษากลาง]]] [VP [XVBM จะ] [VP [VATT ดี] [AVBP [ADVN กว่า]]]]]]]]]] [S [NP [NCMN แบบ] [VACT ถ่ายทอด]] [PUNC <space>] [VP [VSTA คือ] [PUNC <space>] [NP [NCMN ภาษากลาง] [VP [VACT อาศัย] [NP [NCMN พจนานุกรม] [CLSP [DDBQ เพียง] [CNIT ชุด] [DCNM เดียว]]] [PP [RPRE ต่อ] [NP [NCMN ภาษา]]]]]]]]',\n",
       " '[S [PP [RPRE กล่าว] [NP [PPRS กัน]]] [S [JSBR ว่า] [NP [FIXN การ] [VP [VP [VACT สร้าง] [NP [NPRP เอ็มที]]] [NP [NCMN แบบ] [NP [NCMN ภาษากลาง] [DDAC นั้น]]]]] [PUNC <space>] [VP [VSTA เป็น] [NP [NCMN เรื่อง] [ADJC [PREL ที่] [ADVN ยัง]]] [AVBP [ADVN ห่างไกล]] [PP [RPRE จาก] [NP [FIXN ความ] [VSTA เป็นจริง]]]]]]',\n",
       " '[S [PP [RPRE จาก] [NP [NP [NCMN เอกสาร] [VP [VSTA ประกอบ] [NP [FIXN การ] [VACT ประชุม]]]] [PUNC <space>] [NP [NCMN บริษัท] [PP [RPRE ใน] [NP [NPRP ญี่ปุ่น]]]]]] [S [NP [CLSP [DIBQ หลาย] [CNIT บริษัท]] [ADJC [PREL ซึ่ง] [VP [VSTA รวมถึง] [NP [NCMN บริษัท] [PP [RPRE ใน] [NP [NPRP อเมริกา]]]] [AVBP [ADVN ด้วย]]]]] [PUNC <space>] [VP [XVAM ได้] [VP [VACT กล่าวถึง] [NP [FIXN ความ] [VP [VSTA สำเร็จ] [PP [RPRE ของ] [NP [PPRS ตนเอง]]]]] [PP [RPRE ใน] [NP [FIXN การ] [VP [VACT พัฒนา] [NP [NPRP เอ็มที]] [JSBR โดย] [VP [VACT ใช้] [NP [NCMN ภาษากลาง]]]]]]]]]]',\n",
       " '[S [PP [PREL ซึ่ง] [VP [XVMM อาจจะ] [VP [VSTA เป็น] [NP [NCMN เครื่องชี้]]]]] [S [NP [NCMN อย่าง] [DCNM หนึ่ง] [PP [RPRE ว่า] [PUNC <space>] [NP [FIXN การ] [VP [VACT ใช้] [NP [NCMN ภาษากลาง] [PP [RPRE ใน] [NP [NPRP เอ็มที]]]] [VP [VSTA คง] [NP [NEG มิใช่] [NCMN เรื่อง]] [AVBP [ADVN ไกล] [ADVN เกิน]]]]]]] [VP [VSTA ฝัน] [AVBP [ADVN นัก]]]]]',\n",
       " '[S [PP [RPRE ยัง] [VP [VSTA มี] [NP [NP [CLSP [DDBQ อีก] [CNIT สิ่ง] [DCNM หนึ่ง]] [ADJC [PREL ที่] [VP [XVMM ควร] [VACT กล่าวถึง]]]] [PUNC <space>] [PP [RPRE คือ] [NP [NCMN งานวิจัย] [PP [RPRE ทาง] [NP [NCMN ด้าน]]]]]]]] [S [NP [FIXN การ] [VP [VACT ป้อน] [NP [FIXN ความ] [VSTA รู้]] [PP [RPRE แก่] [NP [NCMN ระบบ]]]]] [VP [VACT แปล] [NP [NCMN ภาษา]] [JSBR ซึ่ง] [VP [VSTA เกี่ยวข้อง] [PP [RPRE กับ] [NP [FIXN การ] [VP [VACT วิเคราะห์] [NP [NCMN <space>]] [JCRG และ] [VP [VACT สังเคราะห์] [NP [NCMN ภาษา]]]]]]] [JSBR เพื่อ] [VP [VACT สร้าง] [NP [NCMN กฎเกณฑ์]] [XVAE ขึ้น]]]]]',\n",
       " '[S [PP [RPRE ใน] [NP [NCMN ปัจจุบัน]]] [S [NP [FIXN การ] [VP [VACT วิจัย] [PP [RPRE ทาง] [NP [NCMN ด้าน] [PUNC <space>] [NP [NCMN lexicon]]]]]] [PUNC <space>] [VP [XVBM ยัง] [VP [VSTA มี] [NP [NP [NCMN อุปสรรค] [ADJP [VATT ใหญ่]]] [ADJC [PREL ที่] [VP [VSTA ขวาง] [NP [NCMN หน้า] [XVAE อยู่] [AVBP [FIXV อย่าง] [ADJP [NCMN หนึ่ง]]]]]]]]]]]',\n",
       " '[S [PP [RPRE เป็น] [NP [NCMN งานวิจัย] [PP [RPRE ทาง] [NP [NCMN ด้าน] [NP [NCMN ลักษณะ]]]]]] [S [NP [FIXN ความ]] [VP [VSTA สัมพันธ์] [PP [RPRE ของ] [NP [NCMN โครงสร้าง] [PP [RPRE ของ] [NP [NCMN ประโยค]]]]]]]]',\n",
       " '[S [PP [PREL ซึ่ง] [VP [XVBM จะ] [VSTA เป็น]]] [S [NP [NCMN ส่วน] [ADJC [PREL ที่] [VP [XVAM สามารถ] [VP [VACT นำมาใช้] [PP [RPRE ใน] [NP [NP [FIXN การ] [VACT แก้ปัญหา]] [PUNC <space>] [PP [RPRE เรื่อง] [NP [NCMN ความหมาย] [PP [RPRE ของ] [NP [NCMN ประโยค] [ADJC [PREL ที่] [ADJP [NEG ไม่] [VATT ถูกต้อง]]]]]]]]] [XVAE ได้]]]]] [VP [VSTA เป็น] [AVBP [FIXV อย่าง] [ADVN ดี]]]]]',\n",
       " '[S [PP [RPRE เป็น] [NP [NCMN งานวิจัย] [ADJC [PREL ที่] [VP [VSTA เกี่ยวกับ] [NP [FIXN การ] [VP [VACT ใช้] [NP [NCMN ระบบ]]]]]]]] [S [NP [NPRP เอ็มที]] [VP [VACT เรียนรู้] [NP [NCMN กฎเกณฑ์] [DIAC ต่างๆ]] [PUNC <space>] [JSBR ที่] [VP [VSTA เกี่ยวกับ] [NP [NCMN ภาษา]]]]]]',\n",
       " '[S [PP [RPRE จาก] [NP [NCMN ข้อ] [VP [VACT เปรียบเทียบ] [AVBP [ADVN ข้างต้น]]]]] [S [NP [NP [FIXN <space>] [VP [XVMM อาจ] [VP [VACT กล่าว] [XVAE ได้] [PP [RPRE ว่า] [PUNC <space>] [NP [NCMN กลวิธี] [NP [FIXN การ] [VP [VACT แปล] [AVBP [FIXV โดย] [VATT ตรง]]]]]]]]] [DDAC นั้น]] [PUNC <space>] [VP [VSTA มี] [NP [NCMN ขั้นตอน] [NP [FIXN การ] [VACT ทำงาน]]] [AVBP [ADVN น้อย] [ADVN ที่สุด]]]]]',\n",
       " '[S [PP [RPRE โดยเฉพาะอย่างยิ่ง] [PUNC <space>] [NP [NCMN กลวิธี]]] [S [NP [NCMN แบบ] [ADJP [VATT หลัง]]] [VP [XVBM จะ] [VP [VSTA มี] [NP [NCMN ขั้นตอน] [PP [RPRE ของ] [NP [FIXN การ] [VACT วิเคราะห์]]]] [JSBR เพื่อให้] [VP [VSTA เป็น] [NP [NCMN ภาษากลาง]] [AVBP [ADVN เพิ่มขึ้น]]]]]]]',\n",
       " '[S [S [NP [NCMN กลวิธี] [DDAC นี้]] [VP [XVMM ต้อง] [VP [VSTA ใช้] [PUNC <space>] [NP [NCMN กำลัง] [NP [NCMN คน] [PUNC <space>] [NP [NCMN เวลา] [NP [NCMN <space>]]]]]]]] [JCRG และ] [S [NP [NCMN ค่าใช้จ่าย]] [PUNC <space>] [VP [AVBP [ADVN ค่อนข้าง]] [VP [VATT มาก] [AVBP [ADVN ทีเดียว]]]]]]',\n",
       " '[S [PP [RPRE ใน] [NP [FIXN การ] [VACT แปล]]] [S [NP [NCMN ภาษา] [PP [RPRE ด้วย] [NP [NCMN คอมพิวเตอร์] [PUNC <space>] [NP [FIXN การ] [VP [VACT วิเคราะห์] [NP [NCMN ภาษาต้นฉบับ]]]]]]] [VP [XVBM จะ] [VP [VSTA เป็น] [NP [NCMN ขบวนการ] [DCNM หนึ่ง] [PP [RPRE ของ] [NP [FIXN การ] [VACT แปล]]]]]]]]',\n",
       " '[S [PP [RPRE โดย] [VP [VSTA อาศัย]]] [S [NP [NPRP ภาษาญี่ปุ่น]] [VP [VSTA เป็น] [NP [NCMN ตัวอย่าง] [PP [RPRE ใน] [NP [FIXN การ] [VACT วิเคราะห์]]]]]]]',\n",
       " '[S [PP [RPRE ใน] [NP [NCMN ภาษา] [NP [NPRP เกาหลี]]]] [S [NP [NCMN ขบวนการ] [PUNC <space>] [NP [NCMN parsing]]] [PUNC <space>] [VP [VSTA อาศัย] [NP [NCMN วิธีการ] [PUNC <space>] [NP [NCMN Tabular parsing]]]]]]',\n",
       " '[S [PP [RPRE โดย] [VP [VSTA อาศัย] [NP [FIXN การ] [VACT ดึง]]]] [S [NP [NCMN ข้อมูล] [PUNC <space>] [NP [NP [NCMN syntax]] [PUNC <space>] [PP [RPRE จาก] [PUNC <space>] [NP [NCMN dictionary] [PUNC <space>] [NP [NCMN ลักษณะ] [NP [NCMN เบื้องต้น] [ADJC [PREL ที่] [VP [XVAM ได้] [VP [VSTA เป็น]]]]] [PUNC <space>] [NP [NCMN morpheme]] [PUNC <space>] [NP [DIBQ หลายๆ] [PUNC <space>] [NCMN morphemes]]]]]]] [PUNC <space>] [VP [VSTA รวมกัน] [VP [VSTA เป็น] [PUNC <space>] [NP [NCMN semi-phrases]]]]]]',\n",
       " '[S [PP [RPRE ใน] [NP [FIXN การ] [VACT รวม]]] [S [NP [NP [PPRS กัน]] [PP [RPRE ของ] [PUNC <space>] [NP [NCMN morphemes] [PUNC <space>] [NP [DDAC เหล่านี้]]]]] [VP [VP [XVBM จะ] [XVAM ช่วย] [VACT พิจารณา] [XVAE ได้]] [PP [RPRE จาก] [NP [NP [NCMN ลักษณะ] [PP [RPRE ของ] [PUNC <space>] [NP [NCMN connectivity]]]] [PUNC <space>] [PP [RPRE ของ] [PUNC <space>] [NP [NCMN morpheme]]]]]]]]',\n",
       " '[S [PP [RPRE โดย] [VP [VSTA อาศัย] [PUNC <space>] [NP [NP [NCMN B-tree index]] [PUNC <space>] [PP [RPRE จาก] [NP [NCMN พจนานุกรม] [PUNC <space>] [NCMN ตาราง] [PUNC <space>] [NCMN connectivity] [PUNC <space>] [NCMN และ]]]]]] [S [NP [RPRE จาก] [NP [NCMN ข้อมูล]]] [VP [VSTA เกี่ยวกับ] [NP [NCMN ชนิด] [PP [RPRE ของ] [PUNC <space>] [NP [NCMN character]]]]]]]',\n",
       " '[S [PP [RPRE โดย] [VP [VACT ค้นหา] [NP [NCMN <space>]]]] [S [NP [NCMN keywords]] [PUNC <space>] [VP [VACT จาก] [NP [NCMN พจนานุกรม]]]]]',\n",
       " '[S [PP [RPRE เพื่อ] [VP [VACT ช่วย] [PP [RPRE ใน] [NP [FIXN การ]]]]] [S [NP [NP [DDAC นี้]] [PUNC <space>] [NP [NP [NCMN predicate stems]] [PUNC <space>] [PP [RPRE ของ] [NP [DIBQ แต่ละ] [PUNC <space>] [NCMN morpheme]]]]] [PUNC <space>] [VP [XVBM จะ] [XVAM ถูก] [VP [VACT รวม] [PP [RPRE กับ] [PUNC <space>] [NP [NP [NCMN inflection]] [PUNC <space>] [PP [RPRE ของ] [NP [PPRS มัน]]]]]]]]]',\n",
       " '[S [PP [RPRE จาก] [NP [NCMN ขั้นตอน] [DDAC นี้]]] [S [NP [NCMN ประโยค] [NP [NCMN อินพุต]]] [VP [XVAM ถูก] [VP [VACT เปลี่ยน] [XVAE อยู่] [PP [RPRE ในรูป] [PUNC <space>] [NP [NCMN chart]]]]]]]',\n",
       " '[S [PP [RPRE หลังจาก] [VP [VSTA ผ่าน] [NP [NCMN ขบวนการ] [DIAC ต่างๆ]]]] [S [NP [NP [FIXN <space>] [AVBP [ADVN แล้ว]]] [PUNC <space>] [NP [NCMN Semi-phrase]]] [PUNC <space>] [VP [XVBM จะ] [VP [VSTA ปรากฎ] [XVAE ออกมา] [AVBP [ADVN ดังนี้]]]]]]',\n",
       " '[S [PP [RPRE จาก] [PUNC <space>] [NP [NP [NCMN list]] [PUNC <space>] [PP [RPRE ของ] [PUNC <space>] [NP [NP [NCMN semi-phrase]] [PUNC <space>] [PP [PREL ที่] [VP [VSTA ได้] [XVAE มา] [PP [RPRE จาก] [PUNC <space>] [NP [NCMN morphological analysis semantic structure]]]]]]]]] [S [NP [NCMN <space>] [DDAC นี้]] [VP [VSTA เป็น] [PUNC <space>] [NP [NP [NCMN tree] [PUNC <space>] [NP [NP [NCMN structure]] [PUNC <space>] [PP [PREL ที่] [VP [VSTA ประกอบ] [PP [RPRE ด้วย] [PUNC <space>] [NP [NCMN node]]]]]]] [PUNC <space>] [PP [RPRE และ] [PUNC <space>] [NP [NCMN arc]]]]]]]',\n",
       " '[S [PP [RPRE ใน] [ADJP [VATT บาง]]] [S [NP [NCMN กรณี] [PUNC <space>] [NP [NCMN arc]]] [PUNC <space>] [VP [XVMM อาจจะ] [VP [VSTA มี] [PUNC <space>] [NP [NP [NCMN dummy relations]] [PUNC <space>] [PP [PREL ที่] [VP [VACT ซ่อน] [XVAE อยู่] [PP [RPRE ใน] [PUNC <space>] [NP [NCMN source language] [NP [FIXN <space>] [XVAM ก็ได้]]]]]]]]]]]',\n",
       " '[S [PP [RPRE และ] [PUNC <space>] [NP [NCMN chart] [PUNC <space>] [NP [DDAC นี้]]]] [S [JSBR จะ] [NP [NP [NCMN แสดง] [PUNC <space>] [NCMN list] [PUNC <space>] [NCMN ของ] [PUNC <space>] [NCMN semi-phases]] [PUNC <space>] [PP [PREL ที่] [VP [VSTA มี] [PUNC <space>] [NP [NCMN edge]]]]] [PUNC <space>] [VP [VACT ทำหน้าที่] [PP [RPRE ใน] [NP [NP [FIXN การ]] [PUNC <space>] [NP [NP [NCMN link]] [PUNC <space>] [PP [RPRE กับ] [PUNC <space>] [NP [NP [NCMN partial dependency structure] [PUNC <space>] [PUNC <left_parenthesis>] [NCMN PDS] [PUNC <right_parenthesis>] [PUNC <space>]] [PP [RPRE ของ] [NP [PPRS มัน]]]]]]]]]]]',\n",
       " '[S [PP [RPRE ในที่นี้] [PUNC <space>] [NP [NCMN PDS]]] [S [NP [FIXN <space>] [VP [XVBM จะ] [VP [VSTA เป็น] [PUNC <space>] [NP [NP [NCMN tree structure]] [PUNC <space>] [PP [PREL ที่] [VP [VSTA มี] [PUNC <space>] [NP [NCMN node]]]]]]]] [PUNC <space>] [VP [VSTA เป็น] [PUNC <space>] [NP [NP [NCMN set]] [PUNC <space>] [PP [RPRE ของ] [PUNC <space>] [NP [NP [NCMN feature value pairs]] [PUNC <space>] [PP [PREL ที่] [VP [VSTA ได้] [PP [RPRE จาก] [NP [NCMN พจนานุกรม]]]]]]]]]]]',\n",
       " '[S [PP [RPRE ใน] [NP [FIXN การ] [VACT เปลี่ยน]]] [S [NP [NCMN โครงสร้าง] [PP [RPRE ทาง] [NP [NCMN อินพุต]]]] [VP [XVAE มา] [VP [VSTA เป็น] [NP [NCMN เอาท์พุต] [DDAC นี้]] [VP [XVBM จะ] [VP [VSTA อาศัย] [NP [NP [NCMN ฐานความรู้] [PUNC <space>] [PUNC <left_parenthesis>] [NCMN Knowledge base] [PUNC <right_parenthesis>] [PUNC <space>]] [JCRG และ] [NP [NCMN กฎ] [PP [RPRE ใน] [NP [FIXN การ] [VP [VACT เปลี่ยน] [NP [NCMN โครงสร้าง] [PUNC <space>] [PUNC <left_parenthesis>] [NCMN Knowledge-base] [PUNC <right_parenthesis>] [PUNC <space>]] [AVBP [ADVN ดังนี้]]]]]]]]]]]]]',\n",
       " '[S [S [JSBR ในกรณีที่] [NP [NCMN <space>] [NP [NCMN entry] [NP [FIXN <space>] [VP [VSTA ต่างกัน] [AVBP [ADVN แต่]]]] [PUNC <space>] [NP [NCMN concept] [NP [FIXN <space>] [VP [VSTA เหมือนกัน] [NP [NCMN <space>]] [EITT หรือ]]]] [PUNC <space>] [NP [NCMN concept]]]] [PUNC <space>] [VP [VSTA ต่างกัน] [NP [NCMN <space>]]]] [JCRG แต่] [S [NP [FIXN <space>] [NCMN entry]] [PUNC <space>] [VP [VSTA เหมือนกัน]]]]',\n",
       " '[S [PP [RPRE ใน] [NP [NCMN ส่วน] [PP [RPRE ของ] [PUNC <space>] [NP [NCMN Information]]]]] [S [NP [NCMN <space>] [ADJC [PREL ที่] [ADVN เพิ่มขึ้น]]] [VP [XVBM จะ] [VP [VSTA มี] [NP [NCMN โครงสร้าง] [NP [NCMN ข้อมูล]]] [AVBP [ADVN ดังนี้]]]]]]',\n",
       " '[S [NP [NP [NCMN Portability]] [PUNC <space>] [PP [RPRE ภายใต้] [NP [NCMN ระบบ] [PUNC <space>] [NCMN UNIX] [PUNC <space>] [NCMN Software] [PUNC <space>] [NCMN ซึ่ง]]]] [JSBR ทำให้] [S [NP [FIXN การ] [VP [VACT ทำงาน] [PP [RPRE บน] [NP [NCMN เครื่องคอมพิวเตอร์] [NP [NCMN เครื่อง] [DIAC หนึ่ง]]]] [PUNC <space>] [VP [XVAM สามารถ] [VP [VACT นำไปใช้] [NP [NCMN งาน] [PP [RPRE บน] [NP [NCMN เครื่องคอมพิวเตอร์] [CLSP [DDBQ อีก] [CNIT เครื่อง] [DCNM หนึ่ง]] [ADJC [PREL ที่] [VP [VACT ใช้] [NP [NCMN ระบบ] [PUNC <space>] [NP [NCMN UNIX]]]]]]]]]]]] [PUNC <space>] [VP [VSTA ได้]]]]',\n",
       " '[S [PP [RPRE โดย] [VP [XVAM สามารถ] [VP [VACT กำหนด] [NP [FIXN ความ] [VATT สำคัญ]] [PP [RPRE ของ] [NP [NCMN ผู้ใช้งาน] [CLSP [DIBQ แต่ละ] [CNIT คน]] [ADJC [PREL ที่] [VP [VSTA มี] [PP [RPRE ต่อ] [NP [NCMN ข้อมูล]]]]]]]]]] [S [NP [NCMN ชุด] [DDAC นั้น]] [VP [VSTA ได้]]]]',\n",
       " '[S [S [NP [NP [NCMN Multitasking Capability]] [PUNC <space>] [PP [RPRE ภายใต้] [NP [NCMN ระบบ] [PUNC <space>] [NP [NCMN UNIX] [PUNC <space>] [NP [NCMN ผู้ใช้] [VP [XVAM สามารถ] [VP [VACT ทำงาน] [AVBP [ADVN มาก]]]]]]] [VP [VSTA กว่า] [PUNC <space>] [CLSP [DCNM 1] [PUNC <space>] [CNIT งาน]]]]] [PUNC <space>] [VP [AVBP [ADVN ในเวลาเดียวกัน]] [VP [VSTA ได้] [PUNC <space>] [NP [RPRE เช่น] [NP [NCMN <space>]]]]]] [JSBR ในขณะที่] [S [NP [NCMN ผู้ใช้] [NP [NCMN กำลัง] [VP [VACT เตรียม] [NP [NCMN ข้อมูล] [PP [RPRE ใน] [NP [NCMN งาน] [DONM ที่ 1]]]]]] [PUNC <space>] [NP [NCMN เครื่องคอมพิวเตอร์] [VP [XVMM อาจ] [VP [XVBM กำลัง] [VP [VACT คำนวน] [PP [RPRE ตาม] [NP [NCMN โปรแกรม] [ADJC [PREL ที่] [VP [VACT สั่ง] [XVAE ไว้] [PP [RPRE ใน] [NP [NCMN งาน] [DONM ที่ 2]]]]]]]]]]] [PUNC <space>] [NP [NCMN และ]]] [VP [XVBM กำลัง] [VP [VACT พิมพ์] [NP [NCMN รายงาน] [PP [RPRE ของ] [NP [CNIT งาน] [DONM ที่ 3] [NP [PDMN ฯลฯ]]]]]]]]]',\n",
       " '[S [PP [RPRE ใน] [NP [FIXN การ] [VP [VACT พัฒนา] [NP [NCMN ซอฟต์แวร์]]]]] [S [NP [NCMN ต้นแบบ] [PP [RPRE สำหรับ] [NP [FIXN การ] [VP [VACT ประมวลผล] [NP [NCMN ภาษาธรรมชาติ] [PUNC <space>] [NP [NCMN โครงการ] [DDAC นี้]]]]]]] [VP [XVBM จะ] [VP [VSTA อาศัย] [NP [NCMN หลักการ] [PP [RPRE ทาง] [NP [NCMN ด้าน] [NP [NCMN ปัญญาประดิษฐ์] [PP [RPRE ใน] [NP [FIXN การ] [VACT ออกแบบ]]]]]]]]]]]',\n",
       " '[S [PP [RPRE โดย] [NP [FIXN การ] [VP [VACT แยก] [NP [NCMN ส่วน] [ADJC [PREL ที่] [VP [VSTA เป็น] [NP [FIXN ความ] [VP [VSTA รู้] [NP [NCMN <space>] [PUNC <left_parenthesis>] [NP [NCMN Knowledge] [PUNC <right_parenthesis>] [NP [NCMN <space>]]]]]]]]]]]] [S [NP [NP [NCMN พจนานุกรม]] [PUNC <space>] [PP [RPRE และ] [NP [NCMN เครื่อง]]]] [VP [VACT อนุมาน] [NP [NCMN <space>] [PUNC <left_parenthesis>] [NCMN Inference] [PUNC <space>] [NCMN Engine] [PUNC <right_parenthesis>] [NCMN <space>]] [VP [VACT ออก] [PP [RPRE จาก] [NP [PPRS กัน]]]]]]]',\n",
       " '[S [S [NP [NCMN ข้อมูล] [ADJC [PREL ที่] [VP [VACT พิมพ์] [JCRG หรือ] [VACT เขียน]]]] [VP [VSTA อยู่] [PP [RPRE บน] [NP [NP [NCMN กระดาษ] [ADJP [VATT ธรรมดา]]] [ADJC [PREL ที่] [VP [VSTA เป็น] [NP [NCMN ตัวอักษร] [NP [NPRP ภาษาไทย]]]]]]]]] [JCRG หรือ] [S [NP [NCMN ตัว] [NP [NPRP ภาษาอังกฤษ]]] [PUNC <space>] [VP [XVBM จะ] [XVAM ถูก] [VP [VACT ป้อน] [VP [VSTA ผ่าน] [NP [NCMN เครื่อง] [PUNC <space>] [NP [NCMN Image Scanner]]]]]]]]',\n",
       " '[S [S [JSBR จากนั้น] [NP [NCMN ก็] [VP [XVBM จะ] [VP [VACT ถึง] [NP [NCMN กระบวนการรู้จำ] [PUNC <space>] [PUNC <left_parenthesis>] [NCMN Recogntion] [PUNC <right_parenthesis>] [PUNC <space>]] [VP [VSTA เป็น] [NP [FIXN การ] [VP [VACT นำ] [NP [NCMN ข้อมูล] [PP [RPRE ใน] [NP [CLSP [DIBQ แต่ละ] [CNIT ไฟล์]] [ADJC [PREL ที่] [VP [VSTA เป็น] [NP [NCMN ข้อมูล] [PP [RPRE ของ] [CLSP [DIBQ แต่ละ] [CNIT ตัวอักษร]]]]]]]]]]]]]]] [PUNC <space>] [VP [XVAE มา] [VP [VACT ทำ] [NP [FIXN การ] [VACT วิเคราะห์]]]]] [JSBR ว่า] [S [NP [NCMN ข้อมูล] [DDAC นั้น]] [VP [VSTA เป็น] [NP [NCMN ตัวอักษร] [PNTR อะไร]]]]]',\n",
       " '[S [PP [RPRE สำหรับ] [NP [FIXN การ] [VP [VACT รู้จำ] [NP [NCMN อักษร]]]]] [S [NP [NCMN ลายมือเขียน]] [VP [XVBM จะ] [VP [VSTA เป็น] [NP [NCMN งานวิจัย] [PP [RPRE ใน] [NP [NCMN ช่วง] [NP [NCMN ปี] [DONM ที่สอง]]]]]] [PP [RPRE ของ] [NP [NCMN โครงการวิจัย] [DDAC นี้]]]]]]',\n",
       " '[S [PP [RPRE ใน] [NP [NCMN ปัจจุบัน]]] [S [NP [FIXN การ] [VP [VACT ป้อน] [NP [NCMN ข้อมูล] [NP [NP [NPRP ภาษาไทย]] [PUNC <space>] [PP [RPRE และ] [NP [NPRP ภาษาอังกฤษ]]]]]]] [VP [VACT เข้า] [NP [NCMN เครื่อง] [NP [NCMN คอมพิวเตอร์] [XVAE ได้] [AVBP [ADVN เพิ่มขึ้น]]]] [AVBP [FIXV อย่าง] [ADVN มากมาย]]]]]',\n",
       " '[S [S [PP [RPRE และ] [NP [FIXN การ] [VACT ป้อน]]] [S [NP [NCMN ข้อมูล] [ADJC [PREL ที่] [VP [VACT ใช้] [VP [VSTA อยู่] [JSBR ในขณะนี้]]]]] [PUNC <space>] [VP [XVBM จะ] [XVMM ต้อง] [VP [VACT เคาะ] [NP [NCMN แป้นพิมพ์ดีด]] [PUNC <space>] [JSBR ทำให้] [VP [VSTA ใช้เวลา]]]]]] [JCRG และ] [S [NP [NCMN แรงงาน]] [VP [VATT สูง] [AVBP [ADVN มาก]]]]]',\n",
       " '[S [PP [PREL ที่] [VP [VSTA เป็น] [AVBP [ADVN เช่นนี้]] [VP [XVMM อาจ] [VP [VSTA เป็น] [JSBR เพราะ]]]]] [S [NP [NCMN กรรมวิธี] [NP [RPRE ใน] [NP [FIXN การ] [VP [VSTA รู้จักจำ] [NP [NCMN <space>]]]]] [PUNC <left_parenthesis>] [NP [NCMN recognition]] [PUNC <right_parenthesis>] [NP [FIXN <space>] [NCMN เครื่อง]]] [VP [XVBM ยัง] [VP [VSTA มี] [NP [NP [NCMN ประสิทธิภาพ]] [JCRG และ] [NP [FIXN ความ] [VP [VATT รวดเร็ว] [AVBP [NEG ไม่] [ADVN เพียงพอ]]]]]]]]]',\n",
       " '[S [PP [RPRE ยัง] [VP [VACT เทียบ] [PP [RPRE กับ] [NP [FIXN การ] [VACT ป้อน]]]]] [S [NP [NCMN ข้อมูล]] [VP [VSTA ผ่าน] [NP [NP [NCMN แป้นพิมพ์ดีด] [PP [RPRE ยัง] [NP [NEG ไม่ได้] [NCMN ประการ]]]] [DIAC หนึ่ง]]]]]',\n",
       " '[S [PP [PREL ที่] [VP [VSTA นิยม] [VP [VACT ใช้] [AVBP [ADVN กัน] [ADVN มาก]]]]] [S [NP [NCMN ก็] [ADJP [VATT เฉพาะ]]] [VP [VSTA เกี่ยวกับ] [NP [FIXN การ] [VP [VACT อ่าน] [NP [NP [NCMN ตัวเลข]] [PUNC <space>] [PP [RPRE เช่น] [PUNC <space>] [NP [NCMN เครื่องคัดจดหมาย] [PUNC <space>] [NP [NCMN เครื่องอ่านเช็คตั๋วเงินธนาคาร]]]]]]]]]]',\n",
       " '[S [PP [RPRE สำหรับ] [NP [RPRE ใน] [NP [NPRP ประเทศญี่ปุ่น]]]] [S [NP [DDAC นั้น]] [VP [VSTA มี] [NP [PPRS ผู้]] [VP [VSTA นิยม] [VP [VACT ใช้] [NP [NCMN เครื่อง] [PUNC <space>] [NP [NCMN OCR] [NP [NCMN <space>]]]] [AVBP [ADVN มาก]]]]]]]',\n",
       " '[S [PP [RPRE สำหรับ] [NP [RPRE ใน] [NP [NPRP ประเทศไทย]]]] [S [NP [DDAC นั้น]] [VP [XVBM ยัง] [VP [NEG ไม่] [VSTA มี] [NP [NCMN เครื่อง] [PUNC <space>] [NP [NCMN OCR] [PUNC <space>] [NP [NPRP ภาษาไทย]]]]]]]]',\n",
       " '[S [PP [RPRE ยัง] [VP [VSTA เหลือ] [ADJP [VATT เฉพาะ]]]] [S [NP [NCMN ขั้นตอน]] [JSBR ที่] [VP [XVBM จะ] [VP [VACT ทำ] [NP [FIXN การ] [VACT วิจัย]]]]]]',\n",
       " '[S [S [NP [NCMN จะ]] [VP [VSTA ได้] [NP [NP [NCMN แผ่นวงจร]] [NP [NCMN ต้นแบบ]] [PUNC <space>] [JSBR ที่] [VP [XVAM สามารถ] [VP [VSTA ประกอบ] [VACT เข้าไป] [VACT ใช้]]]] [AVBP [ADVN ร่วม]] [PP [RPRE กับ] [NP [NP [NCMN แผ่นวงจร]] [NP [NCMN เดิม] [PP [RPRE ของ] [NP [NCMN ไมโครคอมพิวเตอร์]]]] [PUNC <space>] [JSBR ที่จะ] [VP [VACT ทำให้] [NP [NCMN ไมโครคอมพิวเตอร์]] [VP [XVAM สามารถ] [VP [VACT รับ] [NP [NCMN ข้อมูล] [NP [NPRP ภาษาไทย]]]]]]]]]] [JCRG และ] [S [NP [NPRP ภาษาอังกฤษ]] [VP [VSTA ผ่าน] [XVAE มา] [PP [RPRE ทาง] [NP [NCMN เครื่อง] [PUNC <space>] [NP [NP [NCMN Image Scanner]] [PUNC <space>] [PP [RPRE โดย] [ADJP [VATT อัตโนมัติ]]]]]]]]]',\n",
       " '[S [PP [RPRE โดย] [VP [VACT ตรวจ] [PP [RPRE จาก] [NP [NCMN ข้อมูล]]]]] [S [NP [NCMN ที่]] [VP [VACT พิมพ์] [XVAE อยู่] [PP [RPRE บน] [NP [NCMN แผ่นกระดาษ]]]]]]',\n",
       " '[S [PP [RPRE เป็น] [NP [FIXN การ] [VACT พิจารณา]]] [S [NP [NCMN โครงร่าง] [PP [RPRE ของ] [NP [NCMN ตัวอักษร]]]] [PUNC <space>] [VP [JSBR โดย] [VP [VACT ใช้] [NP [NP [NCMN รหัส] [PUNC <space>] [NCMN P] [PUNC <space>] [NCMN และ] [PUNC <space>] [NCMN Q]] [PUNC <space>] [PP [RPRE สำหรับ] [NP [FIXN การ] [VP [VACT บรรยาย] [NP [NCMN โครงสร้าง] [PP [RPRE ของ] [NP [NCMN ตัวอักษร]]]]]]]]]]]]',\n",
       " '[S [PP [RPRE เมื่อ] [VP [VACT พิจารณา] [NP [NCMN เนื้อ]]]] [S [NP [NCMN ตัวอักษร] [CLSP [DCNM หนึ่ง] [CNIT จุด]]] [VP [VSTA เสมือน] [PP [RPRE กับ] [NP [NCMN น้ำหนัก] [CLSP [DCNM หนึ่ง] [CNIT หน่วย]]]]]]]',\n",
       " '[S [PP [RPRE เพื่อ] [ADJP [VATT เพิ่ม]]] [S [NP [FIXN ความ] [VP [VSTA แตกต่าง] [PP [RPRE ของ] [NP [NCMN จุดศูนย์ถ่วง]]]]] [JSBR ให้] [VP [VSTA เห็นชัด] [XVAE ขึ้น]]]]',\n",
       " '[S [NP [NCMN มี] [NP [NCMN จุดตัด]]] [VP [VSTA อยู่] [ADJC [PREL ที่] [S [NP [NCMN จุดศูนย์ถ่วง] [PP [RPRE ของ] [NP [NCMN เนื้อ] [NP [NCMN ตัวอักษร] [NP [PDMN ทั้งหมด]]]]]] [PUNC <space>] [VP [VSTA ได้แก่] [PUNC <space>] [NP [NP [NCMN ส่วนล่าง] [PUNC <space>] [NCMN ส่วนบน] [PUNC <space>] [NCMN ส่วนซ้าย] [PUNC <space>] [NCMN ส่วนขวา]] [PUNC <space>] [PP [RPRE ดัง] [NP [NCMN รูปประกอบ]]]]]]]]]',\n",
       " '[S [PP [RPRE ด้วย] [NP [NCMN วิธีการ]]] [S [NP [PDMN เช่นนี้]] [VP [XVBM จะ] [VP [VACT ทำให้] [XVAE ได้] [NP [NP [NP [NCMN ตัวอักษร] [VP [VACT ออกมา] [CLSP [DIBQ ทีละ] [CNIT ตัว]] [AVBP [ADVN ตามลำดับ]]]] [PUNC <space>] [PP [RPRE และ] [NP [VACT เรียง] [VACT ลงมา]]]] [CLSP [DIBQ ทีละ] [CNIT บรรทัด]]]]]]]',\n",
       " '[S [S [NP [NCMN เครื่อง] [NP [NCMN สแกนเนอร์]]] [JSBR เพื่อ] [VP [VACT แปลง] [NP [NP [FIXN ความ] [VATT เข้ม]] [PP [RPRE ของ] [NP [NCMN สี]]]] [PUNC <space>] [JSBR ที่] [VP [VSTA เป็น] [NP [NCMN เนื้อ] [PP [RPRE ของ] [NP [NCMN ตัวอักษร]]]]]]] [JCRG และ] [S [NP [NCMN กระดาษ] [ADJC [PREL ที่] [VP [VSTA เป็น] [NP [NCMN ภาพ] [NP [NCMN พื้น]]]]]] [PUNC <space>] [VP [VSTA เป็น] [NP [NCMN รหัส]] [AVBP [FIXV ความ] [VATT เข้ม]] [PP [RPRE ของ] [NP [NCMN ตัวอักษร]]]]]]',\n",
       " '[S [PP [RPRE และ] [VP [JSBR ถ้า] [VP [VACT พิมพ์] [PP [RPRE บน] [NP [NP [NCMN กระดาษ] [JCRG หรือ] [NCMN สิ่ง]] [DIAC อื่น]]]]]] [S [NP [NCMN ผลลัพธ์] [PP [RPRE ของ] [NP [FIXN การ] [VACT พิมพ์]]]] [VP [XVBM ย่อม] [VP [VSTA ต่างกัน] [XVAE ไป] [PP [RPRE ตาม] [NP [NCMN ชนิด]]]]]]]',\n",
       " '[S [PP [RPRE ใน] [NP [FIXN การ] [VACT ทดลอง]]] [S [NP [PPRS เรา]] [VP [XVAM ได้] [VP [VACT อ่าน] [NP [NP [NCMN ข้อมูล]] [PUNC <space>] [PP [RPRE โดย] [NP [FIXN การ] [VP [VACT กำหนด] [NP [NCMN สภาพ]]]]]] [JSBR ให้] [VP [VSTA ครบ] [NP [CLSP [DIBQ ทุก] [CLTV ประเภท]] [ADJC [PREL ที่] [VP [VSTA เป็นไปได้]]]]]]]]]',\n",
       " '[S [PP [RPRE เพื่อ] [VP [VACT หา]]] [S [NP [FIXN ความ]] [VP [VSTA เหมาะสม] [AVBP [ADVN ด้วย]]]]]',\n",
       " '[S [PP [RPRE เมื่อ] [VP [XVAM ได้] [VP [VACT ทำ]]]] [S [NP [FIXN การ]] [VP [VACT ทดสอบ] [NP [NP [NCMN ผล] [DIAC ต่างๆ]] [NP [NCMN <space>]]] [AVBP [ADVN แล้ว]]]]]',\n",
       " '[S [PP [RPRE ใน] [NP [FIXN การ] [VACT ทดลอง]]] [S [NP [DDAC นี้]] [VP [XVAM ได้] [VP [VACT สร้าง] [NP [NCMN การ์ด]] [XVAE ขึ้นมา]]]]]',\n",
       " '[S [PP [RPRE และ] [NP [FIXN การ] [VACT พัฒนา]]] [S [NP [NCMN ซอฟต์แวร์]] [JSBR ก็] [VP [NEG ไม่] [VSTA สะดวก]]]]',\n",
       " '[S [S [NP [NCMN และ]] [VP [VACT หา] [NP [NCMN ประสบการณ์]]]] [JSBR สำหรับ] [S [NP [FIXN การ] [VP [VACT สร้าง] [NP [NCMN การ์ด]]]] [VP [VACT เพิ่ม] [NP [FIXN ความ] [VP [VATT เร็ว] [AVBP [FIXV เป็น] [VATT เบื้องต้น]]]] [AVBP [ADVN ก่อน]]]]]',\n",
       " '[S [PP [RPRE โดย] [NP [FIXN การ] [VACT ปรึกษา]]] [S [NP [FIXN การ] [VACT ทำงาน]] [VP [VACT ร่วม] [PP [RPRE กับ] [NP [FIXN การ] [VP [VACT ทำ] [NP [NCMN ซอฟต์แวร์] [PP [RPRE สำหรับ] [NP [FIXN การ] [VP [VACT แยกแยะ] [NP [NCMN ตัวอักษร]]]]]]]]]]]]',\n",
       " '[S [PP [RPRE ใน] [NP [CNIT ขั้น] [DONM ที่สอง] [NP [VACT เลือก] [VACT สร้าง]]]] [S [NP [NCMN การ์ด]] [JSBR โดย] [VP [VACT ใช้] [NP [NCMN ไมโครโปรเซสเซอร์] [PUNC <space>] [NP [NCMN 8088]]] [PUNC <space>] [JSBR ซึ่ง] [VP [VSTA เป็น] [NP [NCMN ไมโครโปรเซสเซอร์] [NP [NCMN ขนาด] [PUNC <space>] [NCMN 16] [PUNC <space>] [NCMN บิท] [PUNC <space>] [NCMN จำนวน]] [PUNC <space>] [CLSP [DCNM 2] [PUNC <space>] [CNIT ตัว]]]]]]]',\n",
       " '[S [PP [RPRE และ] [VP [VACT นำ] [NP [NCMN ซอฟต์แวร์]]]] [S [NP [NCMN ส่วน] [DIAC ต่างๆ]] [PUNC <space>] [VP [VACT มา] [VP [VACT ทำงาน] [AVBP [ADVN ประสานกัน]]] [JSBR เพื่อให้] [VP [VSTA ได้] [NP [NCMN ผลลัพธ์] [ADJC [PREL ที่] [ADJP [VATT ดี]]]] [AVBP [ADVN ที่สุด]]]]]]',\n",
       " '[S [S [NP [VACT นำ] [VACT ไป]] [VP [VSTA ผ่าน] [NP [NCMN กระบวนการ]]]] [JSBR ให้] [S [NP [NCMN คอมพิวเตอร์] [VP [VSTA รู้จักจำ] [JSBR ซึ่ง] [VP [VSTA เป็น] [NP [NCMN โปรแกรม] [ADJC [PREL ที่] [VP [VSTA อยู่] [PP [RPRE บน] [PUNC <space>] [NP [NCMN Card] [PUNC <space>] [NP [NCMN ฮาร์ดแวร์] [ADJC [PREL ที่] [VP [VACT สร้าง] [AVBP [ADVN ขึ้น]]]]]]]]]]]]] [PUNC <space>] [VP [VACT ใช้] [VP [VACT ร่วม] [PP [RPRE กับ] [NP [NCMN ไมโครคอมพิวเตอร์]]]]]]]',\n",
       " '[S [S [NP [NCMN ซึ่ง]] [VP [XVBM จะ] [VSTA เห็น]]] [JSBR ว่า] [S [NP [NP [NCMN มี] [ADJP [VATT ผิด]] [CLSP [DDBQ เพียง] [CNIT ตัว] [DCNM เดียว]]] [PUNC <space>] [JSBR คือ] [PUNC <space>] [NP [NP [NCMN หมายเลข] [NP [NCMN อักษร] [CLSP [CNIT ตัว] [DONM ที่ 65]]]] [PUNC <space>] [PP [RPRE ซึ่ง] [NP [NCMN คอมพิวเตอร์] [VP [VACT บอก] [XVAE ออกมา] [VP [VSTA เป็น] [NP [NCMN ตัวอักษร] [DONM ที่ 14]]]]]]] [PUNC <space>] [PDMN นอกนั้น]] [VP [VATT ถูกต้อง] [AVBP [ADVN หมด]]]]]',\n",
       " '[S [PP [RPRE จาก] [NP [NCMN ผล]]] [S [NP [FIXN การ] [VP [VACT ทดลอง] [PP [RPRE ใน] [NP [NCMN ตาราง] [DONM ที่ 2]]]]] [PUNC <space>] [VP [XVBM จะ] [VSTA เห็น]]] [JSBR ว่า] [S [NP [PPRS เรา]] [VP [VP [VSTA มี] [NP [NCMN ข้อมูล] [NP [VACT ป้อน] [VACT เข้าไป]] [PUNC <space>] [CLSP [DCNM 95] [PUNC <space>] [CNIT ตัวอักษร]]]] [NP [NCMN <space>] [ADJP [VATT ผิด]] [CLSP [DDBQ เพียง] [CNIT ตัวอักษร] [DCNM เดียว]]]]]]',\n",
       " '[S [PP [RPRE เพื่อ] [NP [NCMN พัฒนา]]] [S [NP [NP [NCMN งานแปล]] [NP [NCMN สหภาษา]] [PUNC <space>] [JSBR ซึ่ง] [VP [XVBM จะ] [XVAM สามารถ] [VACT แปล] [XVAE ได้]]] [VP [VACT ทั้ง] [PP [RPRE จาก] [NP [NCMN ภาษา] [NP [NPRP ญี่ปุ่น]] [PUNC <space>] [NP [NCMN อังกฤษ] [NP [NCMN <space>] [NP [NPRP จีน]]] [PUNC <space>] [NP [NPRP เกาหลี]] [PUNC <space>] [NP [NPRP มาเลย์]]] [PUNC <space>] [NP [NP [NPRP อินโดนีเซีย]] [PUNC <space>] [PP [RPRE และ] [NP [NPRP ไทย]]]]]]]]]',\n",
       " '[S [PP [RPRE เพื่อ] [VP [VACT ตีความหมาย] [AVBP [ADVN แล้ว]]]] [S [NP [NCMN แสดง]] [VP [VACT ออกมา] [NP [NCMN ในรูป] [PP [RPRE ของ] [NP [NCMN โครงสร้าง] [PP [RPRE ใน] [NP [NCMN อันตรภาษา]]]]]]]]]',\n",
       " '[S [PP [RPRE ใน] [NP [FIXN การ] [VACT ทำงาน]]] [S [NP [DDAC นี้]] [VP [VSTA มี] [NP [NCMN คณะ] [NP [NCMN นักวิจัย] [VP [VACT ร่วม] [VP [VACT ทำงาน] [AVBP [ADVN ทั้งสิ้น]]]]] [PUNC <space>] [CLSP [DCNM 5] [PUNC <space>] [CNIT คน]]]]]]',\n",
       " '[S [PP [RPRE เป็น] [NP [FIXN การ] [VACT สร้าง]]] [S [NP [NCMN ระบบ]] [VP [VACT จำแนก] [VP [VACT แยกแยะ] [NP [NCMN ภาษาไทย] [ADJP [VATT เอนกประสงค์]]]]]]]',\n",
       " '[S [S [NP [NCMN ประโยชน์]] [VP [VACT ใช้สอย]]] [JCRG หรือ] [S [NP [NP [NP [FIXN การ] [VACT ประยุกต์ใช้]] [ADJC [PREL ที่] [VP [VACT คาดว่า] [VP [XVBM จะ] [VP [VSTA เกิดขึ้น] [XVAE ได้]]]]]] [PUNC <space>] [PP [RPRE เมื่อ] [NP [NCMN ระบบ]]]] [VP [VSTA ได้รับ] [NP [FIXN การ] [VACT พัฒนา]] [AVBP [ADVN สมบูรณ์] [ADVN แล้ว]]]]]',\n",
       " '[S [PP [RPRE โดย] [VP [VACT นำไปใช้] [PP [RPRE เพื่อ] [NP [NCMN งาน] [VP [VACT ตรวจสอบ] [NP [FIXN ความ] [VP [VSTA ถูกต้อง] [NP [NCMN ทาง]]]]]]]]] [S [NP [NP [NCMN ไวยากรณ์] [PUNC <space>] [PUNC <left_parenthesis>] [NCMN Syntax check] [PUNC <right_parenthesis>] [PUNC <space>]] [JCRG และ] [NP [NCMN งาน]]] [VP [VACT ตรวจสอบ] [NP [FIXN การ] [VP [VACT ใช้] [NP [NCMN ภาษา] [PP [RPRE ใน] [NP [NCMN ระดับ] [NP [NCMN โครงสร้าง] [NP [NCMN ประโยค]]]]]]]]]]]',\n",
       " '[S [PP [RPRE ยัง] [VP [XVAM สามารถ] [VP [VACT นำไปใช้] [PP [RPRE ใน] [NP [FIXN การ] [VACT เรียน]]]]]] [S [NP [NP [FIXN การ] [VP [VACT สอน] [NP [NCMN เรียงความ]]]] [JCRG หรือ] [NP [FIXN การ] [VP [VACT แปล] [NP [NCMN ระดับ] [ADJP [VATT สูง]]]]]] [VP [VSTA ได้]]]]',\n",
       " '[S [S [NP [NP [NCMN แนว] [NP [NCMN ทฤษฎี] [PP [RPRE ทาง] [NP [NCMN ภาษาศาสตร์] [ADJC [PREL ที่] [VP [VACT ใช้] [PP [RPRE ใน] [NP [FIXN การ] [VP [VACT ออกแบบ] [NP [NCMN ระบบ]]]]] [PUNC <space>] [VP [VSTA คือ] [PUNC <space>] [NP [NCMN ทฤษฎีพึ่งพิง] [PUNC <space>] [PUNC <left_parenthesis>] [NCMN dependency grammar] [PUNC <right_parenthesis>] [PUNC <space>]]]]]]]]] [ADJC [PREL ซึ่ง] [VP [VACT จำแนก] [NP [NCMN หน่วย] [NP [NCMN ภาษา] [ADJC [PREL ที่] [ADJP [VATT รวม] [AVBP [ADVN เข้าด้วยกัน]]]]]] [VP [VSTA เป็น] [NP [NP [NCMN โครงสร้าง] [NP [NCMN ระดับ] [DIAC ต่างๆ]]] [PUNC <space>] [PP [RPRE ใน] [NP [NCMN ภาษา]]]] [VP [VSTA เป็น] [PUNC <space>] [CLSP [DCNM 4] [PUNC <space>] [CNIT ประเภท]]]]]]] [PUNC <space>] [VP [VSTA คือ] [PUNC <space>] [NP [NCMN หน่วยหลัก] [PUNC <space>] [PUNC <left_parenthesis>] [NCMN Head] [PUNC <right_parenthesis>] [PUNC <space>]]]] [JCRG และ] [S [NP [NP [NCMN หน่วยพึ่งพิง] [PUNC <space>] [PUNC <left_parenthesis>] [NCMN Depender] [PUNC <right_parenthesis>] [PUNC <space>]] [NP [NCMN หน่วย]]] [VP [VACT แสดง] [NP [NCMN ประเภท] [NP [FIXN ความ] [NP [NP [NCMN สัมพันธ์] [PUNC <space>] [PUNC <left_parenthesis>] [NCMN Relators] [PUNC <right_parenthesis>] [PUNC <space>]] [JCRG และ] [NP [NCMN หน่วย] [VP [VACT ขยายความ] [NP [NCMN <space>]]]]]] [PUNC <left_parenthesis>] [NP [NCMN Attributes]] [PUNC <right_parenthesis>] [NP [NCMN <space>]]] [JSBR ซึ่ง] [VP [VSTA เป็น] [NP [NCMN แนว] [NP [NCMN ทฤษฎี] [ADJC [PREL ที่] [VP [VSTA นิยม] [VACT ใช้]]]]] [AVBP [ADVN กัน] [ADVN มาก]] [PP [RPRE ใน] [NP [FIXN การ] [VP [VACT พัฒนา] [NP [NCMN ระบบ] [NP [FIXN การ] [VP [VACT แปล] [NP [NCMN แบบ] [NP [NCMN อันตรภาษา]]]]]]]]]]]]]',\n",
       " '[S [S [NP [PDMN นั่น]] [VP [VSTA คือ] [NP [FIXN การ] [VACT ออกแบบ]]]] [JSBR สำหรับ] [S [NP [NCMN ระบบ]] [VP [VACT จำแนก] [VP [VACT แยกแยะ] [NP [DDAC นี้]] [PUNC <space>] [JSBR ก็] [VP [VSTA จำเป็น] [VP [XVMM จะต้อง] [VP [VSTA ได้ผล] [NP [FIXN การ] [VP [VACT ศึกษา] [VP [VACT วิเคราะห์] [NP [NCMN ลักษณะ]]] [JSBR โดย] [VP [VP [VACT รวม] [PP [RPRE ของ] [NP [NPRP ภาษาไทย] [PP [RPRE ใน] [PUNC <space>] [NP [NCNM 3.1.3]]]]]] [NP [NCMN <space>]]]]] [AVBP [ADVN เสียก่อน]]]]]]]]]',\n",
       " '[S [PP [RPRE โดย] [NP [NCMN สรุป] [PUNC <space>] [NP [NCMN งานวิจัย] [ADJC [PREL ที่] [VP [VACT กล่าว] [XVAE มา] [NP [FIXN ทั้งหมด] [VSTA เป็น]]]]]]] [S [NP [NCMN งาน]] [VP [VACT ศึกษา] [NP [NP [NCMN ส่วนประกอบ] [DIAC ต่างๆ]] [PUNC <space>] [PP [RPRE ของ] [NP [NCMN วากยสัมพันธ์] [NP [NCMN ไทย] [JCRG และ] [NCMN ปรากฎการณ์]]]]] [PP [RPRE ทาง] [NP [NCMN วากยสัมพันธ์] [CLSP [DIBQ บาง] [CLTV ชนิด]]]]]]]',\n",
       " '[S [PP [RPRE เพื่อ] [VP [VACT ใช้] [PP [RPRE ใน] [NP [NCMN ประโยชน์]]]]] [S [NP [RPRE ใน] [NP [NCMN โครงการ]]] [VP [VSTA ได้]]]]',\n",
       " '[S [PP [RPRE ใน] [NP [NCMN ปัจจุบัน]]] [S [NP [NCMN คลัง] [NP [NCMN คำ] [DDAC นี้]]] [VP [VSTA มี] [NP [NCMN คำ] [NP [NCMN จำนวน]] [PUNC <space>] [CLSP [DCNM 14,665] [PUNC <space>] [CNIT คำ]]]]]]',\n",
       " '[S [PP [RPRE ดัง] [VP [XVAM ได้] [VP [VACT กล่าว] [XVAE มาแล้ว] [PP [RPRE ใน] [NP [NP [CNIT ข้อ] [PUNC <space>] [NCNM 4.1]] [PUNC <space>] [PP [RPRE ว่า] [PUNC <space>] [NP [FIXN การ] [VP [VACT ศึกษา] [NP [NCMN วากยสัมพันธ์]]]]]]]]]] [S [NP [NCMN ไทย] [ADJC [PREL ที่] [VP [XVAM ได้] [VP [VSTA มี] [NP [PPRS ผู้]] [VP [VACT ทำ] [XVAE ไว้] [AVBP [ADVN แล้ว]]]]]]] [VP [VSTA เป็น] [NP [NCMN งาน] [ADJC [PREL ที่] [VP [VACT มุ่ง] [NP [FIXN การ] [VP [VACT นำ] [NP [NCMN แนว] [NP [NCMN ทฤษฎี] [NP [DIBQ หลายๆ] [PUNC <space>] [NCMN แนว]]]] [XVAE มา]]] [VP [VACT ประยุกต์ใช้] [PP [RPRE ใน] [NP [FIXN การ] [VP [VP [VACT วิเคราะห์] [NP [NCMN ปรากฎการณ์] [PP [RPRE ใน] [NP [NCMN ภาษาไทย] [NP [NCMN ปรากฎการณ์] [DIAC ใด]]]]]] [NP [NP [NCMN ปรากฎการณ์] [DIAC หนึ่ง]] [PUNC <space>] [PP [RPRE โดย] [ADJP [VATT เฉพาะ]]]]]]]]]]]]]]',\n",
       " '[S [S [NP [NCMN ขณะนี้] [NP [NCMN ข้อมูล] [DDAC เหล่านี้]]] [VP [VSTA ได้รับ] [NP [NP [FIXN การ] [VP [VACT จำแนก] [NP [NCMN ประโยค]] [AVBP [ADVN แล้ว]]]] [PUNC <space>] [PP [RPRE โดย] [NP [NCMN วิธี]]]] [VP [VACT กำหนด] [NP [NCMN ขอบเขต] [NP [NCMN ประโยค] [PUNC <space>] [PUNC <left_parenthesis>] [NCMN sentence boundary] [PUNC <right_parenthesis>] [PUNC <space>]]]]]] [JSBR โดย] [S [NP [FIXN การ] [VP [VACT ใช้] [NP [NCMN มือ]]]] [VP [VSTA เติม]]]]',\n",
       " '[S [S [NP [NCMN งาน] [ADJC [PREL ที่] [VP [XVBM กำลัง] [VACT ทำ]]]] [VP [VSTA อยู่] [VP [VSTA คือ] [PUNC <space>] [NP [FIXN การ] [VP [VACT เติม] [NP [NCMN ขอบเขต] [NP [NCMN คำ] [PUNC <space>] [PUNC <left_parenthesis>] [NCMN word boundary] [PUNC <right_parenthesis>] [PUNC <space>]]]]]]]] [JSBR เพื่อให้] [S [NP [NCMN ข้อมูล]] [VP [VSTA พร้อม] [ADJC [PREL ที่] [VP [XVBM จะ] [VP [VACT ใช้] [PP [RPRE กับ] [PUNC <space>] [NP [NP [NCMN Utility programs]] [PUNC <space>] [PP [RPRE ใน] [NP [FIXN การ] [VP [VACT วิเคราะห์] [NP [NCMN โครงสร้าง] [NP [NCMN ประโยค]]] [AVBP [ADVN ต่อไป]]]]]]]]]]]]]',\n",
       " '[S [PP [RPRE ใน] [NP [FIXN การ] [VP [VACT ศึกษา] [JSBR เพื่อให้] [VP [VSTA ได้] [NP [NCMN ลักษณะ]] [AVBP [FIXV โดย] [VATT รวม]] [PP [RPRE ของ] [NP [NCMN วากยสัมพันธ์]]]]]]] [S [NP [NP [NPRP ไทย]] [PUNC <space>] [NP [NCMN คณะ] [NP [NCMN ผู้วิจัย] [VP [XVAM ได้] [VP [VACT ใช้] [NP [NCMN ข้อมูล] [PP [RPRE จาก] [NP [NCMN บทความ]]]]]]] [PUNC <space>] [CLSP [DCNM 2] [PUNC <space>] [CNIT เรื่อง]]]] [VP [VSTA คือ] [PUNC <space>] [NP [NP [NCMN เรื่อง] [NP [NCMN นิเวศน์วิทยา] [NP [NPRP สุนทรภู่]]]] [PUNC <space>] [PP [RPRE และ] [NP [NCMN เรื่อง] [NP [NP [NCMN บ้านเชียง]] [PUNC <space>] [PP [RPRE จาก] [NP [NCMN หนังสือ] [NP [NCMN เรื่อง] [PUNC <space>] [NCMN คู่มือ] [PUNC <space>] [NCMN WORDSTAR] [PUNC <space>] [NCMN และ]] [PP [RPRE เรื่อง] [NP [NCMN โครงสร้าง] [NP [NCMN ข้อมูล]]]]]]]]]]]]]',\n",
       " '[S [PP [RPRE โดย] [VP [VACT ดึง] [XVAE มา] [PP [RPRE เฉพาะ] [NP [NCMN บท] [DONM ที่ 1]]]]] [S [NP [NCMN <space>] [JCRG และ] [NCMN บท]] [VP [JSBR ที่] [NP [NCNM 2]]]]]',\n",
       " '[S [PP [RPRE กล่าว] [VP [AVBP [ADVN อีกอย่างหนึ่ง]] [VP [JSBR ก็] [VP [VSTA คือ] [PUNC <space>] [NP [FIXN การ] [VP [XVBM จะ] [VP [VSTA รู้] [XVAE ได้] [PP [RPRE ว่า] [NP [NP [NCMN หน่วย]] [NP [NCMN ภาษา] [DIAC หนึ่งๆ]] [PUNC <space>] [JSBR ไม่ว่า] [VP [XVBM จะ] [VP [VSTA เป็น] [NP [NCMN ระดับ]]]]]]]]]]]]] [S [NP [NCMN คำ] [NP [NCMN วลี] [NP [NP [NCMN <space>] [JCRG หรือ] [NCMN อนุพากย์]] [DDAC นั้น]]]] [VP [VSTA มี] [NP [FIXN ความ] [VP [VSTA สัมพันธ์] [PP [RPRE ทาง] [NP [NP [NCMN ไวยากรณ์] [PNTR อย่างใด]] [PP [RPRE กับ] [NP [NCMN หน่วย] [NP [NCMN หลัก] [DIAC ต่างๆ]] [PUNC <space>] [NP [NCMN ข้อมูล] [ADJC [PREL ที่] [VP [XVBM จะ] [VP [VACT ใช้] [PP [RPRE ใน] [NP [NCMN ระบบ] [NP [FIXN การ] [VP [VSTA เข้าใจ] [NP [NCMN ประโยค]]]]]] [PP [RPRE ของ] [NP [NCMN เครื่อง]]] [JSBR ก็] [VP [VSTA คือ]]]]]] [PUNC <space>] [NP [NCMN ชนิด] [PP [RPRE ของ] [NP [NP [NCMN หน่วย] [DDAC นั้น]] [PUNC <space>] [PP [RPRE และ] [NP [FIXN ความ] [VP [VSTA สัมพันธ์] [PP [RPRE ใน] [NP [NCMN แนว] [NP [NCMN เรียง] [PUNC <space>] [PUNC <left_parenthesis>] [NCMN sequential relationship] [PUNC <right_parenthesis>] [PUNC <space>]] [PP [RPRE ของ] [NP [NCMN หน่วย] [DDAC นั้น]]]]]]]]]]]]] [PP [RPRE กับ] [NP [NCMN หน่วย] [ADJC [PREL ที่] [VP [VSTA เกี่ยวข้อง]]]]]]]]]]]]',\n",
       " '[S [PP [RPRE ตัวอย่างเช่น] [PUNC <space>] [NP [FIXN ความ] [VP [VSTA สัมพันธ์] [NP [NCMN ทาง]]]]] [S [NP [NCMN ไวยากรณ์] [NP [NCMN แบบ] [ADJC [PREL ที่] [VP [VSTA เรียก] [JSBR ว่า]]]] [PUNC <space>] [NP [NCMN Subject-of]] [PUNC <space>] [NP [DDAC นั้น]]] [VP [VSTA คือ] [PUNC <space>] [NP [FIXN ความ] [VP [VSTA สัมพันธ์] [ADJC [PREL ที่] [VP [XVBM จะ] [VP [VSTA เกิดขึ้น] [XVAE ได้] [PP [RPRE ระหว่าง] [NP [NCMN หน่วย] [ADJC [PREL ที่] [VP [VSTA มี] [NP [NCMN คุณสมบัติ]] [VP [VSTA เป็น] [NP [NCMN นาม]]]]]]]]]]]]]]]',\n",
       " '[S [PP [RPRE โดย] [NP [NCMN หน่วย] [ADJC [PREL ที่] [VP [VSTA มี] [NP [NCMN คุณสมบัติ]] [VP [VSTA เป็น] [NP [NCMN นาม]] [VP [XVBM จะ] [VSTA อยู่]]]]]]] [S [NP [NCMN ทางซ้าย] [PP [RPRE ของ] [NP [NCMN หน่วย] [ADJC [PREL ที่] [VP [VSTA มี] [NP [NCMN คุณสมบัติ]]]]]]] [VP [VSTA เป็น] [NP [NCMN กริยา] [ADJP [VATT สำคัญ]]]]]]',\n",
       " '[S [PP [RPRE ใน] [NP [NCMN ระดับ]]] [S [NP [NCMN ประโยค] [PUNC <space>] [NP [FIXN การ] [VP [VACT เรียง] [VP [XVBM จะ] [VP [VACT ไป] [PP [RPRE ใน] [CLSP [DCNM สอง] [CNIT ทิศทาง]]]] [PP [PP [RPRE คือ] [PUNC <space>] [JCRG ทั้ง] [NP [NCMN หน้า]]] [JCRG และ] [PP [RPRE หลัง] [NP [NCMN หน่วย] [ADJP [VATT หลัก]]]]]]]]] [VP [VSTA คือ] [NP [NCMN หน่วย] [NP [NCMN กริยา]]]]]]',\n",
       " '[S [NP [NP [NCMN ประการ] [DONM ที่สอง]] [PUNC <space>] [NP [NCMN การ] [ADJC [PREL ที่] [S [S [NP [NCMN คำๆ] [PUNC <space>] [NP [DIBQ หนึ่งๆ] [NP [FIXN <space>] [VP [XVMM อาจจะ] [VP [VACT จัด] [XVAE อยู่] [PP [RPRE ใน] [PUNC <space>] [NP [NCMN SYNTACTIC CATEGORY]]]]]]]] [PUNC <space>] [VP [VSTA ได้] [AVBP [ADVN มาก]]]] [JSBR กว่า] [S [NP [NCMN หนึ่ง] [DDAC นั้น]] [VP [VSTA คือ] [PUNC <space>] [NP [NCMN Polysemy]]]]]]]] [PUNC <space>] [VP [VSTA เป็น] [NP [NCMN ลักษณะ] [PP [RPRE ตาม] [NP [NCMN ธรรมชาติ] [PP [RPRE ของ] [NP [NPRP ภาษาไทย]]]]]]]]',\n",
       " '[S [S [NP [NCMN จะ]] [VP [VSTA เห็น] [XVAE ได้] [AVBP [ADVN ชัด]]]] [JSBR ว่า] [S [NP [NPRP ภาษาไทย]] [VP [VSTA เป็น] [NP [NCMN ภาษา] [ADJC [PREL ที่] [VP [VSTA มี] [NP [FIXN ความ] [VP [VSTA กำกวม] [NP [NCMN เรื่อง] [NP [NCMN ชนิด] [PP [RPRE ของ] [NP [NCMN คำ] [ADJP [VATT สูง]]]]]]]]]]]]]]',\n",
       " '[S [S [JSBR ดังนั้น] [NP [NCMN กฎ] [NP [NCMN ส่วน] [DCNM หนึ่ง] [PP [RPRE ใน] [NP [NCMN ระดับ] [NP [FIXN การ] [VP [VACT วิเคราะห์] [NP [NCMN โครงสร้าง] [NP [NCMN วากยสัมพันธ์]]]]]]]]] [PUNC <space>] [VP [XVBM จะ] [VP [VSTA เป็น] [NP [NCMN กฎ] [PP [RPRE สำหรับ] [NP [FIXN การ] [VACT ตัดสิน]]]]]]] [JSBR ว่า] [S [NP [NCMN คำ] [DDAC นั้นๆ]] [PUNC <space>] [VP [VSTA เป็น] [NP [NCMN คำ] [NP [NCMN ประเภท] [DIAC ใด]]]]]]',\n",
       " '[S [PP [RPRE ใน] [NP [NCMN พจนานุกรม] [NP [NCMN คำ]]]] [S [NP [DIBQ หลาย] [NCMN หน้าที่]] [VP [XVBM จะ] [VP [VSTA มี] [NP [NCMN หน่วย] [NP [NCMN อรรถ]]] [AVBP [ADVN ร่วมกัน]]]]]]',\n",
       " '[S [S [NP [NCMN งานวิจัย] [PP [RPRE เรื่อง] [NP [NCMN การก] [ADJC [PREL ที่] [VP [VACT ทำ] [PP [RPRE ใน] [NP [NCMN อดีต]]]]]]]] [VP [XVBM มัก] [VP [VSTA เป็น] [NP [FIXN การ] [VACT ศึกษา]]]]] [JSBR ว่า] [S [NP [NCMN คำ] [NP [NCMN กริยา] [NP [NCMN ประเภท] [CLSP [DCNM หนึ่งๆ] [PUNC <space>] [CNIT เช่น]]] [PUNC <space>] [NP [NCMN คำกริยา] [VP [VACT บอก] [NP [FIXN การ] [VACT เคลื่อนที่]]]] [PUNC <space>] [NP [NCMN กริยา] [NP [NCMN อกรรม] [NP [PDMN ฯลฯ]]]]]] [PUNC <space>] [VP [XVAM สามารถ] [VP [VSTA เกิด] [PP [RPRE กับ] [NP [NCMN คำนาม] [PP [RPRE ใน] [NP [NCMN การก] [PNTR อะไรบ้าง]]]]]]]]]',\n",
       " '[S [PP [RPRE ใน] [NP [FIXN การ] [VP [VACT ค้นคว้า] [NP [NCMN เรื่อง]]]]] [S [NP [NP [NCMN การก] [PP [RPRE ใน] [NP [NCMN งานวิจัย] [DDAC เหล่านี้]]]] [PUNC <space>] [NP [PPRS ผู้]]] [VP [VACT วิจัย] [VP [VACT ทำ] [NP [FIXN การ] [VACT วิเคราะห์]]] [JSBR โดย] [VP [VACT ศึกษา] [NP [NCMN ข้อมูล] [NP [NCMN ภาษาไทย] [ADJC [PREL ที่] [VP [VSTA เป็น] [NP [NCMN ระดับ] [PUNC <space>] [PUNC <quotation>] [NCMN ผิว] [PUNC <quotation>] [PUNC <space>]]]]] [PUNC <left_parenthesis>] [NP [NCMN Surface Form]] [PUNC <right_parenthesis>] [NP [FIXN <space>] [VP [VSTA คือ] [NP [NCMN ข้อมูล] [ADJC [PREL ที่] [VP [VSTA ปรากฏ] [JSBR ให้] [VP [VSTA เห็น]]]]]]]]]]]]',\n",
       " '[S [PP [RPRE คือ] [PUNC <space>] [NP [NCMN คำเชื่อม] [PUNC <space>] [PUNC <left_parenthesis>] [NCMN Prepositon] [PUNC <right_parenthesis>] [PUNC <space>]]] [S [NP [NCMN คำ] [DIAC หนึ่ง]] [VP [VACT แสดง] [NP [DIBQ หลาย] [NCMN การก]]]]]',\n",
       " '[S [PP [RPRE และ] [NP [NCMN การก]]] [S [NP [NCMN หนึ่ง]] [VP [XVMM อาจ] [VP [VACT แสดง] [XVAE ได้] [PP [RPRE ด้วย] [NP [NCMN คำเชื่อม] [CLSP [DIBQ หลาย] [CNIT คำ]]]]]]]]',\n",
       " '[S [PP [RPRE ใน] [NP [NCMN งานวิจัย]]] [S [NP [NP [NCMN ชิ้น] [DDAC นี้]] [PUNC <space>] [NP [PPRS ผู้]]] [VP [VACT วิจัย] [VP [VACT เปลี่ยน] [NP [NCMN แนว] [NP [FIXN การ] [VACT วิเคราะห์]]] [PP [RPRE เรื่อง] [NP [NCMN การก]]]]]]]',\n",
       " '[S [S [NP [PDMN นั่น]] [VP [VSTA หมายความ] [PP [RPRE ว่า] [CLSP [DIBQ แต่ละ] [CNIT ตำแหน่ง]]]]] [JCRG และ] [S [NP [DIBQ แต่ละ] [NCMN คำเชื่อม]] [VP [XVBM จะ] [VP [VSTA มี] [NP [NCMN การก] [PP [RPRE ของ] [NP [PPRS ตนเอง]]]] [JSBR ซึ่ง] [VP [VSTA แตกต่าง] [AVBP [ADVN กัน] [XVAE ไป]]]]]]]',\n",
       " '[S [S [NP [FIXN การ] [VP [VACT เสนอ] [NP [NCMN การก] [NP [NCMN ระดับ] [NP [NCMN ผิว] [ADJC [PREL ที่] [VP [VSTA มี] [NP [NCMN คุณสมบัติ]]]]]]] [AVBP [ADVN เช่นนี้]]]] [VP [VACT ตั้ง] [XVAE อยู่] [PP [RPRE บน] [NP [NCMN ข้อตกลง] [NP [NCMN เบื้องต้น] [PUNC <space>] [PUNC <left_parenthesis>] [NCMN Assumption] [PUNC <right_parenthesis>] [PUNC <space>]]]]]] [JSBR ที่ว่า] [S [NP [NCMN มนุษย์] [ADJC [PREL ที่] [VP [VACT ใช้] [NP [NCMN ภาษา] [DIAC ต่างๆ]]]]] [PUNC <space>] [VP [XVBM จะ] [VP [VACT สร้าง] [NP [NCMN มโนภาพ] [PUNC <space>] [PUNC <left_parenthesis>] [NCMN Conceptualize] [PUNC <right_parenthesis>] [PUNC <space>]] [PP [RPRE ของ] [NP [NP [NP [NCMN โลก] [JCRG หรือ] [NCMN เหตุการณ์]] [DDAC เดียวกัน]] [PP [RPRE ใน] [NP [NCMN โลก]]]]] [AVBP [NEG ไม่] [ADVN เหมือนกัน]]]]]]',\n",
       " '[S [PP [RPRE ตัวอย่างเช่น] [PUNC <space>] [NP [NP [NCMN คำเชื่อม]] [PUNC <space>] [PP [RPRE โดย] [NP [FIXN <space>] [VACT แสดง]]]]] [S [NP [NP [NCMN ลักษณะ] [JCRG หรือ] [NCMN วิถีทาง]] [ADJC [PREL ที่] [NP [FIXN การ] [VACT กระทำ]]]] [VP [VSTA เกิดขึ้น]]]]',\n",
       " '[S [PP [RPRE และ] [NP [NCMN การก] [NP [NCMN ระดับ] [ADJP [VATT ลึก]]]]] [S [NP [NCMN การก] [DIAC หนึ่ง]] [PUNC <space>] [VP [XVMM อาจ] [VP [VSTA ตรง] [PP [RPRE กับ] [NP [NCMN การก] [NP [NCMN ระดับ] [NP [NCMN ผิว] [ADJP [VATT มาก] [AVBP [ADVN กว่า]]]]] [PUNC <space>] [CLSP [DCNM 1] [PUNC <space>] [CNIT การก]]] [VP [VSTA ได้]]]]]]]',\n",
       " '[S [PP [RPRE เพื่อ] [NP [NCMN สรุป]]] [S [NP [NCMN กฎ] [PP [RPRE ใน] [NP [NCMN ระบบ] [ADJC [PREL ที่] [VP [VSTA ได้]]]]]] [VP [VP [VACT ออกแบบ] [XVAE ขึ้น] [PP [RPRE รวมทั้ง] [NP [NCMN ระบบ] [PP [RPRE ของ] [PUNC <space>] [NP [NPRP CICC] [NCMN <space>]]]]]] [AVBP [ADVN ด้วย]]]]]',\n",
       " '[S [PP [RPRE เพื่อ] [NP [FIXN การ] [VP [VACT บริการ] [NP [NCMN ข้อมูล] [JCRG หรือ] [NCMN ข้อสนเทศ]] [PP [RPRE แก่] [NP [PPRS ผู้]]]]]] [S [NP [NCMN ที่]] [VP [VACT ต้องการ] [NP [NP [FIXN ความ] [VSTA รู้]] [JCRG และ] [NP [NCMN คำตอบ]]]]]]',\n",
       " '[S [PP [RPRE เพื่อ] [VP [VACT ใช้] [PP [RPRE ใน] [NP [FIXN การ] [VP [VACT วางแผน] [VP [VACT บริหาร] [NP [NCMN งาน]]]]]]]] [S [NP [FIXN การ] [VP [VACT ศึกษา] [NP [NCMN ตลอดจน]]]] [VP [VACT ใช้] [PP [RPRE ใน] [NP [NCMN ชีวิตประจำวัน]]]]]]',\n",
       " '[S [PP [RPRE ให้] [VP [VSTA มี]]] [S [NP [NCMN ศูนย์]] [VP [VACT ประสาน] [NP [NCMN งาน]] [VP [VSTA อยู่] [PP [RPRE ที่] [PUNC <space>] [NP [NPRP ศูนย์เทคโนโลยีอิเล็กทรอนิกส์ และคอมพิวเตอร์แห่งชาติ]]]]]]]',\n",
       " '[S [NP [NCMN ฐานข้อมูล] [ADJC [PREL ที่] [VP [VACT กล่าวถึง]]] [DDAC นี้]] [PUNC <space>] [VP [VSTA หมายถึง] [PUNC <space>] [NP [NCMN ฐานข้อมูล] [ADJC [PREL ที่] [S [NP [NCMN ห้องสมุด] [NP [NCMN สถาบัน] [NP [NCMN อุดมศึกษา] [PP [RPRE ใน] [NP [NCMN โครงการฯ]]]]]] [PUNC <space>] [VP [XVAM ได้] [VP [VACT พัฒนา] [XVAE ขึ้น] [AVBP [ADVN เอง]]]]]]]]]',\n",
       " '[S [PP [RPRE โดย] [VP [VACT ยึด]]] [S [NP [NCMN แนว]] [VP [VACT ปฏิบัติ] [PP [RPRE ตาม] [NP [NCMN แผน] [ADJC [PREL ที่] [VP [VACT กำหนด] [AVBP [ADVN รวมกัน]]]]]]]]]',\n",
       " '[S [PP [RPRE เพื่อ] [VP [VACT รวบรวม] [NP [NCMN ข้อมูล] [PP [RPRE เกี่ยวกับ] [NP [NCMN ฐานข้อมูล] [NP [NCMN บรรณานุกรม] [NP [NCMN สาขา] [NP [NCMN วิชา] [PP [RPRE วิทยาศาสตร์] [PUNC <space>] [JCRG และ] [NP [NCMN เทคโนโลยี] [JCRG ตลอดจน] [NCMN สาขา]]]]]]]]]]] [S [NP [NP [NCMN วิชา] [ADJC [PREL ที่] [VP [VSTA เกี่ยวข้อง] [PUNC <space>] [NP [NCMN ประเภท]]]]] [JCRG และ] [NP [NCMN ปริมาณ] [NP [NCMN ข้อมูล] [ADJC [PREL ที่] [VP [XVAM ได้] [VP [VACT บันทึก] [XVAE ไว้] [AVBP [ADVN แล้ว]]]]]] [PUNC <space>] [NP [NCMN อุปกรณ์]] [PUNC <space>] [NP [NCMN โปรแกรม] [PUNC <space>] [NCMN วิธีดำเนินการ] [JCRG และ] [NCMN การ]]]] [VP [VACT ให้บริการ]]]]',\n",
       " '[S [PP [RPRE เพื่อ] [VP [VACT จัด]]] [S [NP [NCMN ระบบ]] [JSBR ให้] [VP [VSTA มี] [NP [NCMN มาตรฐาน]]]]]',\n",
       " '[S [PP [RPRE จาก] [NP [FIXN การ] [VP [VACT สำรวจ] [VACT พบ]]]] [S [JSBR ว่า] [NP [NCMN ฐานข้อมูล] [NP [NCMN บรรณานุกรม]] [PUNC <space>] [CLSP [DCNM 78] [PUNC <space>] [CNIT ฐานข้อมูล]]] [PUNC <space>] [VP [VSTA ประกอบ] [PP [RPRE ด้วย] [NP [NCMN ฐานข้อมูล] [NP [RPRE เฉพาะ] [NP [NCMN วิชา]]] [PUNC <space>] [CLSP [DCNM 48] [PUNC <space>] [CNIT ฐานข้อมูล]]]]]]]',\n",
       " '[S [PP [PREL ซึ่ง] [VP [JSBR ถ้า] [VP [VACT รวม] [PP [RPRE กับ] [NP [NCMN วิทยานิพนธ์] [PUNC <space>] [NP [NCMN งานวิจัย]]]]]]] [S [NP [NCMN สิ่งพิมพ์]] [VP [VSTA มี] [NP [NCMN ปริมาณ] [PP [RPRE ถึง] [NP [NCMN ร้อยละ] [PUNC <space>] [NP [NCNM 49.7]]]]]]]]',\n",
       " '[S [PP [RPRE กล่าว] [VP [VSTA ได้]]] [S [JSBR ว่า] [NP [FIXN <space>] [VP [VSTA มี] [NP [NCMN ข้อมูล] [PP [RPRE เกี่ยวกับ] [NP [NCMN หนังสือ]]]]]] [PUNC <space>] [VP [VACT บันทึก] [XVAE ไว้] [PP [RPRE ใน] [NP [NCMN ฐานข้อมูล] [ADJP [VATT มาก]] [PP [RPRE กว่า] [NP [NCNM ครึ่งหนึ่ง] [PP [RPRE ของ] [NP [NCMN ข้อมูล] [ADJC [PREL ที่] [VP [VACT บันทึก] [XVAE ไว้] [AVBP [ADVN ทั้งหมด]]]]]]]]]]]]]',\n",
       " '[S [PP [RPRE เกี่ยวกับ] [NP [NCMN ฐานข้อมูล]]] [S [NP [NCMN ห้องสมุด] [NP [NCMN สถาบัน] [NP [NCMN อุดมศึกษา] [ADJC [PREL ที่] [VP [XVAM ได้] [VP [VACT พัฒนา] [XVAE มา] [VP [VSTA เป็น] [NP [NCMN เวลา]] [AVBP [ADVN นาน]]]]]]]]] [PUNC <space>] [VP [VSTA มี] [NP [NCMN จำนวน] [NP [NP [NCMN ข้อมูล] [ADJP [VATT มาก]]] [PUNC <space>] [PP [RPRE และ] [VP [XVAM สามารถ] [VP [VACT ให้บริการ] [AVBP [FIXV อย่าง] [VSTA มีประสิทธิภาพ]]]]]] [PP [RPRE ด้วย] [NP [NCMN ระบบ] [PP [RPRE ของ] [NP [PPRS ตนเอง]]]]]]]]]',\n",
       " '[S [NP [NCMN โปรแกรม]] [JSBR สำหรับ] [VP [VACT บันทึก] [NP [NCMN ข้อมูล] [ADJC [PREL ที่] [S [NP [NCMN ห้องสมุด] [PP [RPRE ใน] [NP [NCMN โครงการฯ]]]] [PUNC <space>] [VP [VACT ตกลง] [VP [VACT ใช้] [PP [RPRE ได้แก่] [PUNC <space>] [NP [NCMN CDS]]] [PUNC <space>] [VP [JSBR ซึ่ง] [NP [NPRP ยูเนสโก]]]]]]]] [VP [XVAM ได้] [VP [VACT พัฒนา] [XVAE ขึ้น] [PP [RPRE สำหรับ] [VP [VACT ใช้] [PP [RPRE ใน] [NP [FIXN การ] [VP [VACT จัด] [NP [NCMN ระบบ] [NP [NCMN ข้อมูล] [NP [NCMN สารนิเทศ]]]]]]]]]]]]]',\n",
       " '[S [PP [RPRE โดย] [VP [VACT ให้] [NP [NCMN ห้องสมุด] [CLSP [DIBQ แต่ละ] [CNIT แห่ง]]] [VP [VACT กำหนด]]]] [S [NP [NCMN แบบ]] [VP [VACT บันทึก] [NP [NCMN ข้อมูล]] [AVBP [ADVN เอง]]]]]',\n",
       " '[S [PP [RPRE โดย] [VP [VACT ใช้] [NP [NCMN มาตรฐาน] [NP [NCMN โครงสร้าง]]]]] [S [NP [NCMN ระเบียน] [NP [NCMN ข้อมูล] [ADJC [PREL ที่] [NP [NPRP ทบวงมหาวิทยาลัย]]]]] [VP [XVAM ได้] [VP [VACT พัฒนา] [AVBP [ADVN ขึ้น]]]]]]',\n",
       " '[S [S [NP [VACT อธิบาย] [VACT ได้]] [VP [JSBR ว่า] [NP [NCMN <space>]]]] [JSBR เนื่องจาก] [S [NP [NCMN วิธี] [NP [FIXN การ] [VP [VACT จัดการ] [NP [NCMN ข้อมูล]]]]] [VP [VSTA มี] [NP [NCMN ลักษณะ] [ADJP [VATT แตกต่าง] [AVBP [ADVN กัน]]]] [AVBP [FIXV อย่าง] [VSTA สิ้นเชิง]]]]]',\n",
       " '[S [S [NP [NCMN ปริมาณ] [NP [NCMN ข้อมูล] [ADJC [PREL ที่] [ADJP [VATT แตกต่าง]]]]] [VP [NEG มิได้] [VSTA หมายความ]]] [JSBR ว่า] [S [NP [NCMN คุณภาพ] [PP [RPRE ของ] [NP [NCMN ข้อมูล]]]] [VP [VSTA แตกต่าง] [AVBP [ADVN กัน] [ADVN ตามไปด้วย]]]]]',\n",
       " '[S [S [NP [NCMN ปัญหา] [NP [NCMN โปรแกรม]] [PUNC <space>] [NP [NCMN mini]] [PUNC <space>] [NP [NPRP ภาษาไทย]]] [PUNC <space>] [VP [VSTA เป็น]]] [JSBR เพราะ] [S [NP [NCMN โปรแกรม]] [VP [XVBM ยัง] [VP [VACT ทำงาน] [XVAE ได้] [AVBP [NEG ไม่] [ADVN สมบูรณ์]]]]]]',\n",
       " '[S [PP [RPRE และ] [NP [FIXN การ] [VP [VACT สนับสนุน] [PP [RPRE จาก] [NP [NPRP ศูนย์เทคโนโลยีอิเล็กทรอนิกส์และคอมพิวเตอร์แห่งชาติ]]] [PUNC <space>] [VP [VP [NEG ไม่] [VSTA เพียงพอ]] [JSBR ที่จะ] [VP [VACT จัดการ] [NP [NCMN ฐานข้อมูล] [NP [NCMN ด้าน]]]]]]]] [S [NP [NCMN วิทยาศาสตร์] [JCRG และ] [NCMN เทคโนโลยี]] [VP [XVAM ได้] [VP [VATT รวดเร็ว] [AVBP [ADVN เท่าที่ควร]]]]]]',\n",
       " '[S [S [NP [VACT ประสานงาน] [JCRG และ] [VACT แจ้ง]] [VP [VACT ให้] [NP [NCMN คณะทำงาน] [NP [NCMN โครงการ] [NP [NCMN เครือข่ายคอมพิวเตอร์]]]] [VP [VSTA ทราบ] [NP [FIXN ความ] [VP [VSTA คืบหน้า] [PUNC <space>] [NP [NCMN ด้าน] [NP [NCMN เทคโนโลยี] [ADJC [PREL ที่] [VP [XVAM ได้] [VP [VACT ดำเนินการ]]]]]]]]]]] [JSBR เพื่อให้] [S [NP [FIXN การ] [VP [VACT เชื่อมโยง] [NP [NCMN ฐานข้อมูล]]]] [VP [VSTA เป็น] [NP [NCMN ผลสำเร็จ]]]]]',\n",
       " '[S [PP [RPRE ใน] [NP [NCMN รายงาน]]] [S [NP [NCMN ฉบับ] [DDAC นี้]] [VP [XVBM จะ] [VP [XVAM ได้] [VP [VACT กล่าวถึง] [NP [NP [NCMN เทคโนโลยี]] [PUNC <space>] [PP [RPRE ของ] [NP [NCMN กระบวน] [NP [FIXN การ] [VACT ออกแบบ]]]]]]] [JCRG และ] [VP [VACT สร้าง] [NP [NCMN วงจรรวม] [NP [NCMN แบบ] [PUNC <space>] [NP [NCMN CMOS]]]]]]]]',\n",
       " '[S [S [S [NP [NCMN ผล] [NP [FIXN การ] [VACT ทดลอง]]] [VP [VSTA ปรากฏ] [PP [RPRE ว่า] [PUNC <space>] [JCRG ทั้ง] [NP [NCMN ทรานซิสเตอร์]]]]] [JCRG และ] [S [NP [NCMN วงจร] [NP [NCMN อินเวอร์เตอร์]]] [VP [VSTA ต่าง] [JSBR ก็]]]] [JSBR ให้] [S [NP [NCMN คุณสมบัติ] [PP [RPRE ทาง] [NP [NCMN ไฟฟ้า]]]] [VP [VSTA เป็น] [ADJC [PREL ที่] [ADJP [VATT น่าพอใจ]]]]]]',\n",
       " '[S [NP [NCMN ขนาด] [NP [FIXN ความ] [VP [VP [VATT ถี่] [AVBP [FIXV ความ] [VATT ยาว]]] [NP [NCMN แชนแนล] [ADJC [PREL ที่] [ADJP [VATT เล็ก] [AVBP [ADVN สุด]]]]]]]] [JSBR ซึ่ง] [S [NP [NCMN ทรานซิสเตอร์] [VP [XVAM สามารถ] [VP [VACT ทำงาน] [XVMM ได้]]]] [PUNC <space>] [VP [VSTA คือ] [PUNC <space>] [CLSP [DCNM 10] [PUNC <space>] [CMTR ไมโครเมตร]]]]]',\n",
       " '[S [PP [RPRE โดย] [VP [VACT ใช้]]] [S [NP [NCMN อุปกรณ์] [ADJC [PREL ที่] [VP [VSTA มี] [XVAE อยู่]]]] [VP [VSTA เป็น] [NP [NCMN ลำดับ] [DONM แรก]]]]]',\n",
       " '[S [PP [RPRE โดย] [VP [VACT ใช้] [NP [NCMN อุปกรณ์]]]] [S [NP [NCMN คอมพิวเตอร์]] [VP [VACT ช่วย] [PP [RPRE ใน] [NP [FIXN การ] [VP [VACT ออกแบบ] [NP [NCMN วงจรรวม] [NP [NCMN <space>]]] [JCRG และ] [VP [XVAM สามารถ] [VP [VACT สร้าง] [XVAE ได้] [PP [RPRE ภายใน] [NP [NCMN ประเทศ]]]]]]]]]]]',\n",
       " '[S [PP [RPRE จาก] [NP [FIXN การ] [VACT ศึกษา]]] [S [NP [NP [NCMN ข้อมูล] [DIAC ต่างๆ]] [PUNC <space>] [PP [RPRE และ] [VP [VACT ดำเนิน] [NP [NP [FIXN การ] [VACT ทดลอง]] [PUNC <space>] [NP [NCMN กระบวนการ]]] [VP [VACT สร้าง] [NP [NCMN วงจรรวม] [NP [NCMN แบบ] [PUNC <space>] [NP [NCMN CMOS]]]] [PUNC <space>] [JSBR ทำให้] [VP [VSTA ได้] [NP [NCMN ผลสรุป] [PP [RPRE เกี่ยวกับ] [NP [NCMN กระบวนการ]]]]]]]]] [VP [VACT สร้าง] [PP [PREL ที่] [VP [VSTA เหมาะสม] [PP [RPRE กับ] [NP [NP [NCMN ห้องวิจัย]] [PUNC <space>] [PP [RPRE ของ] [NP [NCMN ศูนย์วิจัยฯ]]]]]]]]]]',\n",
       " '[S [PP [RPRE เพื่อ] [VP [VACT สร้าง] [NP [NCMN ส่วน] [NP [NCMN ซอส] [JCRG และ] [NCMN เดรน]]]]] [S [NP [NCMN ของ]] [VP [VACT ทรานซิสเตอร์]]]]',\n",
       " '[S [PP [RPRE ใน] [NP [FIXN การ] [VACT วิจัย]]] [S [NP [DDAC นี้]] [PUNC <space>] [VP [VP [VP [VSTA ได้] [VACT ทดลอง] [VACT ออกแบบ]] [JSBR เพื่อ] [VP [VACT สร้าง] [NP [NCMN มอสทรานซิสเตอร์] [NP [NCMN <space>] [ADJC [PREL ที่] [VP [VSTA มี] [NP [NCMN ขนาด] [ADJP [VATT กว้าง]] [PP [RPRE ของ] [NP [NCMN แซนแนล]]]]]]] [PUNC <space>] [CLSP [DCNM 40] [PUNC <space>] [CMTR ไมครอน]]] [JCRG และ] [VP [VSTA มี] [NP [FIXN ความ] [VATT ยาว]]]] [PP [RPRE ของ] [NP [NCMN แซนแนล] [NP [NCMN ค่า] [DIAC ต่างๆ]] [PUNC <space>] [NP [NP [PPRS กัน]] [PUNC <space>] [PP [RPRE คือ] [PUNC <space>] [NP [NCMN L=] [PUNC <space>] [NP [NCNM 5]]]]] [PUNC <comma>] [NP [NCMN <space>] [NP [NP [NCMN 10] [PUNC <comma>] [PUNC <space>] [NCMN 15] [PUNC <comma>] [PUNC <space>]] [NP [NCNM 20]]] [PUNC <comma>] [NP [NCMN <space>] [DONM 30]] [PUNC <comma>] [NP [NCMN <space>] [NP [NP [NCNM 30]] [PUNC <space>] [NP [NCMN และ]]] [PUNC <space>] [CLSP [DCNM 40] [PUNC <space>] [CMTR ไมครอน]]]]]]] [NP [NP [FIXN <space>] [AVBP [ADVN ตามลำดับ]]] [PUNC <space>] [PP [RPRE ทั้ง] [NP [NCMN ชุด] [NP [NCMN ของ] [PUNC <space>] [NCMN NMOS] [PUNC <space>] [NCMN และ] [PUNC <space>] [NCMN PMOS]]]]]]]]',\n",
       " '[S [PP [RPRE กล่าวคือ] [PUNC <space>] [NP [NCMN กระจก] [NP [NCMN ต้นแบบ] [NP [NCMN <space>] [JCRG หรือ] [NCMN <space>]]]]] [S [NP [NP [NCMN Mask]] [PUNC <space>] [PP [RPRE ที่] [PUNC <space>] [NP [NCMN I-VI]]]] [PUNC <space>] [VP [VSTA คือ] [PUNC <space>] [NP [NCMN ลวดลาย] [NP [NCMN ต้นแบบ] [PUNC <space>] [NCMN P-well,] [PUNC <space>] [NCMN P+-] [PUNC <space>] [NCMN Source-drain,]] [PUNC <space>] [NP [NCMN n+-] [PUNC <space>] [NP [NCMN Source-drain,] [PUNC <space>] [NP [NCMN Gate] [PUNC <space>] [NP [NCMN oxide,] [PUNC <space>] [NCMN Connection] [PUNC <space>] [NCMN contact] [PUNC <space>] [JCRG และ] [PUNC <space>] [NCMN Metal]]]]] [PUNC <space>] [NP [NCMN wire] [NP [FIXN <space>] [AVBP [ADVN ตามลำดับ]]]]]]]]',\n",
       " '[S [PP [RPRE เมื่อ] [VP [VSTA ได้]]] [S [NP [NCMN กระจก]] [VP [VSTA ต้นแบบ] [XVAE แล้ว]]]]',\n",
       " '[S [PP [RPRE โดย] [VP [VACT ใช้]]] [S [NP [NCMN กระบวนการ]] [VP [VACT สร้าง] [PP [PREL ที่] [VP [VACT กำหนด] [XVAE ไว้] [AVBP [ADVN แล้ว]]]]]]]',\n",
       " '[S [PP [RPRE เพื่อ] [VP [VSTA แสดงให้เห็น] [JSBR ว่า]]] [S [NP [NCMN รอยต่อ] [PUNC <space>] [NP [NCMN พี] [PUNC <minus>] [NP [NCMN เอ็น] [PUNC <space>] [NP [DIBQ ทุก] [NP [NCMN รอยต่อ] [PP [RPRE ใน] [NP [NCMN ชิพ] [PP [RPRE ของ] [NP [NCMN วงจรรวม] [ADJC [PREL ที่] [VP [VACT สร้าง] [AVBP [ADVN ขึ้น]]]]]]]]]]]]] [VP [VSTA เป็น] [NP [NCMN รอยต่อ] [ADJC [PREL ที่] [ADJP [VATT สมบูรณ์]]]]]]]',\n",
       " '[S [S [NP [NCMN คุณสมบัติ] [PP [RPRE ของ] [NP [NCMN ทรานซิสเตอร์] [NP [NCMN แบบ] [PUNC <space>] [NP [NP [NCMN nMOS]] [PUNC <space>] [PP [PREL ที่] [VP [VACT สร้าง] [PP [RPRE บน] [PUNC <space>] [NP [NCMN p-well]]]]]]] [PUNC <space>] [CLSP [DIBQ ทุก] [CNIT ตัว]]]]] [VP [VSTA ต่าง]]] [JSBR ให้] [S [NP [NP [NCMN คุณสมบัติ]] [PUNC <space>] [NP [FIXN ความ] [VP [VSTA สัมพันธ์] [PP [RPRE ระหว่าง] [NP [NCMN กระแส]]]]] [JCRG และ] [NP [NCMN แรงดัน]]] [VP [VSTA เป็น] [ADJC [PREL ที่] [ADJP [VATT น่าพอใจ]]]]]]',\n",
       " '[S [NP [NCMN และ]] [JSBR เมื่อ] [S [NP [NCMN อัตราส่วน] [DDAC นี้]] [VP [VSTA เป็น] [PUNC <space>] [NP [NP [NCNM 2]] [PUNC <space>] [NP [NCMN <colon>] [PUNC <space>] [NP [NCMN 1] [NP [FIXN <space>] [VP [XVBM จะ] [VACT ทำให้]]] [PUNC <space>] [NP [NCMN tr] [NP [NCMN <space>]]] [PUNC <equal>] [NP [FIXN <space>] [NCMN tf]]]]]]]]',\n",
       " '[S [PP [PREL ซึ่ง] [VP [XVBM จะ] [VP [VACT ทำให้] [XVAE ได้] [NP [NCMN รูป]]]]] [S [NP [NCMN คลื่น] [ADJC [PREL ที่] [NP [NCMN เอาท์พุท]]]] [VP [VSTA มี] [NP [NP [NCMN ลักษณะ] [ADJP [VATT สมมาตร]]] [ADJC [PREL ที่] [ADJP [VATT ดี]]]]]]]',\n",
       " '[S [PP [RPRE จาก] [NP [NP [NCMN ผลการวิจัย]] [PUNC <space>] [PP [RPRE ทั้ง] [NP [NCMN ทรานซิสเตอร์] [PUNC <space>] [NP [NCMN แบบ]]]]]] [S [NP [NCMN เอ็น] [PUNC <space>] [NCMN และ] [PUNC <space>] [NCMN พี] [PUNC -แซนแนล] [NCMN <space>]] [VP [VACT ให้] [NP [NCMN คุณสมบัติ] [PP [RPRE ทาง] [NP [NCMN ไฟฟ้า]]]] [VP [XVAM ได้] [VP [VSTA เป็น] [ADJC [PREL ที่] [ADJP [VATT น่าพอใจ]]]]]]]]',\n",
       " '[S [PP [RPRE และ] [NP [NCMN ทรานซิสเตอร์] [ADJC [PREL ที่] [VP [VACT สร้าง] [PP [RPRE ด้วย] [NP [NCMN กระบวนการ] [VACT แพร่]]]]]]] [S [NP [NCMN สารเจือ] [DDAC นี้]] [PUNC <space>] [VP [XVBM จะ] [VP [VSTA มี] [NP [NCMN ขนาด] [NP [NCMN แซนแนล] [VP [VP [VATT เล็ก] [AVBP [ADVN สุด] [XVAE ได้]]] [AVBP [ADVN เพียง]]]] [PUNC <space>] [CLSP [DCNM 10] [PUNC <space>] [CMTR ไมครอน]]]]]]]',\n",
       " '[S [S [NP [NCMN ส่วน] [NP [NCMN ผล] [NP [FIXN การ] [VP [VACT ทดลอง] [VP [VACT สร้าง] [NP [NCMN วงจรรวม] [NP [NCMN อินเวอร์เตอร์] [ADJP [VATT ง่ายๆ]]]]]]]] [PUNC <space>] [NP [NCMN แบบ]] [PUNC <space>] [NP [NCMN CMOS]]] [PUNC <space>] [VP [VSTA ปรากฏ]]] [JSBR ว่า] [S [NP [NP [NCMN อินเวอร์เตอร์]] [PUNC <space>] [PP [PREL ที่] [VP [VACT สร้าง] [XVAE ได้] [VP [VACT แสดง] [NP [NCMN คุณสมบัติ] [PP [RPRE ของ] [NP [NCMN อินเวอร์เตอร์] [XVAE ได้] [AVBP [ADVN ดี]]]]]]]]] [PUNC <space>] [VP [VSTA มี] [NP [NP [NCMN ช่วง] [PP [RPRE ของ] [NP [FIXN การ] [NCMN ทรานซิสเตอร์]]]] [PP [RPRE ระหว่าง] [PUNC <space>] [NP [NP [NCNM 2.0]] [NP [NCMN <space>] [PUNC <minus>] [NP [NCMN <space>] [CLSP [DCNM 4.0] [PUNC <space>] [CMTR โวลต์]]]] [PUNC <space>] [JSBR ในกรณีที่] [VP [VSTA ค่า] [PUNC <space>] [NP [NCMN r] [PUNC <space>] [PUNC <equal>] [NCMN <space>] [PUNC 2] [PUNC <space>]]]]] [PP [RPRE และ] [PUNC <space>] [NP [NCMN VDD] [NP [NCMN <space>] [PUNC <equal>] [NP [NCMN <space>] [CLSP [DCNM 6.0] [PUNC <space>] [CMTR โวล์ต]]]]]]]]]]',\n",
       " '[S [PP [RPRE กล่าวคือ] [NP [FIXN <space>] [VSTA ได้]]] [S [NP [NCMN กระบวนการ]] [VP [VACT สร้าง] [NP [NCMN วงจรรวม] [ADJP [VATT พื้นฐาน]]]]]]',\n",
       " '[S [PP [RPRE โดย] [VP [VACT ใช้]]] [S [NP [NCMN เทคนิค] [PP [RPRE ของ] [NP [FIXN การ]]]] [VP [VACT แพร่] [NP [NCMN สารเจือ]]]]]',\n",
       " '[S [PP [RPRE จาก] [NP [FIXN การ] [VP [VACT ศึกษา] [NP [NCMN วิจัย] [DDAC ดังกล่าว]] [PUNC <space>] [JSBR ทำให้] [VP [XVAM ได้] [VP [VSTA ทราบ] [NP [NCMN รายละเอียด] [PP [RPRE ของ] [NP [NCMN กระบวน]]]]]]]]] [S [NP [FIXN การ] [VP [VACT สร้าง] [NP [NCMN วงจรรวม] [NP [NCMN แบบ] [NP [NCMN ซีมอส]]]]]] [PUNC <space>] [VP [VACT ทั้ง] [NP [NP [NCMN เทคนิค] [JCRG และ] [NCMN ขั้นตอน]] [DIAC ต่างๆ]]]]]',\n",
       " '[S [PP [RPRE ใน] [NP [NP [NP [NCMN กระบวนการ] [DDAC นี้]] [VP [VSTA ได้รับ] [NP [FIXN การ] [VP [VACT ปรับปรุง] [JCRG และ] [VACT พัฒนา]]] [JSBR ให้] [VP [VATT ดี] [AVBP [ADVN ยิ่งขึ้น]]]]] [PUNC <space>] [PP [RPRE เช่น] [PUNC <space>] [NP [FIXN การ] [VP [VACT เพิ่ม] [NP [NCMN กระจก]]]]]]] [S [NP [NP [NCMN ต้นแบบ] [CLSP [CNIT ชิ้น] [DONM ที่ 7]]] [PUNC <space>] [PP [RPRE สำหรับ] [NP [NCMN ชั้น]]]] [VP [VACT ป้องกัน] [NP [NCMN ผิวหน้า] [PP [RPRE ของ] [NP [NCMN ชิพ] [NP [NCMN วงจรรวม]]]]] [PUNC <space>] [JSBR เพื่อ] [VP [VACT เพิ่ม] [NP [NCMN อายุ] [NP [FIXN การ] [VACT ใช้งาน]]]]]]]',\n",
       " '[S [NP [NCMN ซึ่ง]] [JSBR ถ้า] [S [NP [NCMN ลูกค้า] [VP [VSTA มี] [NP [NCMN จำนวน]] [AVBP [ADVN มาก]]]] [VP [XVMM อาจ] [VP [VP [VACT คิด] [NP [NCMN เงิน]] [VP [NEG ไม่] [VSTA ทัน] [NP [NCMN <space>]]]] [JCRG หรือ] [VP [VACT คิด] [AVBP [ADVN ผิด] [XVAE ได้]]]]]]]',\n",
       " '[S [PP [RPRE ใน] [NP [NCMN ปัจจุบัน]]] [S [NP [NCMN คอมพิวเตอร์]] [VP [XVAM ได้] [VP [VACT เข้ามา] [VP [VSTA มี] [NP [NCMN บทบาท] [PP [RPRE ใน] [NP [NCMN ชีวิตประจำวัน] [PP [RPRE ของ] [NP [NP [NCMN มนุษย์]] [NP [FIXN เป็น] [AVBP [FIXV อย่าง] [ADVN มาก]]] [PUNC <space>] [JSBR ไม่ว่า] [VP [VP [XVBM จะ] [VP [VSTA เป็น] [NP [NCMN ด้าน] [NP [NCMN ธุรกิจ]] [PUNC <space>] [NP [NCMN ด้าน] [NP [NCMN อุตสาหกรรม]]] [PUNC <space>] [NP [NCMN ด้าน] [NP [NCMN การแพทย์] [NP [NCMN <space>] [JCRG หรือ] [NCMN ด้าน]]]]]]] [NP [NCMN วิทยาศาสตร์]]]]]]]]]]]]]',\n",
       " '[S [PP [RPRE และ] [CLSP [DIBQ บาง] [CNIT ร้าน]]] [S [NP [NCMN ก็] [VP [VACT ทำ] [PP [RPRE เป็น] [NP [NCMN ธุรกิจ] [NP [NCMN ขนาด] [ADJP [VATT ใหญ่]]]]] [PUNC <space>] [VP [VACT ลงทุน] [AVBP [ADVN มาก]]]]] [PUNC <space>] [VP [VP [VSTA มี] [NP [NCMN ลูกค้า] [DDBQ ทีละ] [NP [NCMN ร้อย] [NP [NCMN <space>]]]]] [JCRG หรือ] [VP [VSTA เป็น] [VP [VACT พัน] [NP [NCMN คน]]]]]]]',\n",
       " '[S [PP [RPRE รวมทั้ง] [NP [NCMN พิมพ์]]] [S [NP [NCMN เมนูอาหาร] [PP [RPRE ทาง] [NP [NCMN เครื่องพิมพ์]]]] [VP [VSTA ได้]]]]',\n",
       " '[S [PP [RPRE รวมทั้ง] [VP [VACT แสดง] [NP [NCMN จำนวน]]]] [S [NP [NCMN หน่วย] [PP [RPRE ของ] [NP [NCMN อาหาร] [ADJC [PREL ที่] [VP [VACT ขาย]]]]]] [VP [VSTA ได้] [PP [RPRE ใน] [NP [DIBQ แต่ละ] [NCMN วัน]]]]]]',\n",
       " '[S [PP [RPRE เพื่อ] [NP [NCMN ประโยชน์] [PP [RPRE ใน] [NP [FIXN การ] [VACT วางแผน]]]]] [S [NP [NCMN และ]] [VP [VACT เปลี่ยนแปลง] [NP [NCMN รายการอาหาร]]]]]',\n",
       " '[S [NP [NCMN และ]] [JSBR ถ้า] [S [NP [NCMN ลูกค้า] [NP [NCMN ไม่]]] [VP [VACT จ่ายเงิน]]]]',\n",
       " '[S [PP [RPRE โดย] [VP [XVBM จะ] [VACT สรุป]]] [S [NP [NCMN รายการอาหาร] [ADJC [PREL ที่] [VP [VSTA ขาย] [XVAE ได้]]]] [PUNC <space>] [VP [VACT รวมทั้ง] [NP [NCMN จำนวน] [ADJC [PREL ที่] [VP [VACT ขาย] [XVAE ได้] [PP [RPRE ใน] [CLSP [DIBQ แต่ละ] [CNIT รายการ]]]]]] [AVBP [ADVN ด้วย]]]]]',\n",
       " '[S [PP [RPRE รวมทั้ง] [VP [XVAM สามารถ] [VP [VACT พิมพ์] [NP [NCMN รายละเอียด] [PP [RPRE เกี่ยวกับ] [NP [NCMN ลูกหนี้]]]]]]] [S [NP [PDMN ทั้งหมด]] [VP [VACT ออก] [PP [RPRE ทาง] [NP [NCMN เครื่องพิมพ์]]]]]]',\n",
       " '[S [PP [RPRE โดย] [VP [VACT ระบุ] [NP [NCMN รหัส]]]] [S [NP [NCMN สินค้า] [ADJC [PREL ที่] [VP [VACT ต้องการ]]]] [VP [VP [VACT ค้นหา] [PUNC <space>] [NP [NCMN และ]] [PP [RPRE ใน] [NP [FIXN การ] [VP [VACT ค้นหา] [NP [NCMN ข้อมูล]]]]] [JSBR ทั้ง] [NP [NCNM สอง]]] [NP [NCMN ประเภท]]]]]',\n",
       " '[S [PP [RPRE ใน] [NP [FIXN การ] [VP [VACT สร้าง] [JCRG และ] [VACT จัดการ]]]] [S [NP [NCMN แฟ้มข้อมูล] [VP [XVAM ได้] [VP [VACT นำ] [NP [FIXN <space>] [NCMN Btrieve]] [PUNC <space>] [JSBR ซึ่ง] [VP [VSTA เป็น] [PUNC <space>] [NP [NCMN record management system]]]]]] [PUNC <space>] [VP [XVAE มา] [VP [VACT ใช้] [JSBR ซึ่ง] [VP [VACT ช่วย] [JSBR ให้] [VP [VACT เขียน] [NP [NCMN โปรแกรม] [ADJP [VATT สะดวก]]] [AVBP [ADVN รวดเร็ว] [XVAE ขึ้น]]]]]]]]',\n",
       " '[S [S [NP [NCMN ORDER.BTR]] [PUNC <space>] [VP [JSBR สำหรับ] [VP [VACT เก็บ] [NP [NCMN ข้อมูล] [NP [NCMN รายการอาหาร] [CLSP [DIBQ ทุก] [CNIT โต๊ะ]]]]]]] [JSBR ตามที่] [S [NP [NCMN ลูกค้า]] [VP [VACT สั่ง]]]]',\n",
       " '[S [NP [NP [NCMN Field]] [NP [NCMN <space>] [DONM ที่ 3]] [PUNC <space>] [JSBR สำหรับ] [VP [VACT เก็บ] [NP [NCMN ชื่อ] [NP [NCMN อาหาร]]]]] [VP [VSTA เป็น] [NP [NPRP ภาษาไทย] [PP [RPRE ตาม] [NP [NCMN รหัส] [NP [NCMN อาหาร] [ADJC [PREL ที่] [S [NP [NCMN ลูกค้า] [NP [DIBQ แต่ละ] [NP [NCMN โต๊ะ] [VACT สั่ง]]]] [PUNC <space>] [VP [VSTA เป็น] [NP [NCMN ตัวแปร] [NP [NCMN ชนิด]] [PUNC <space>] [NP [NCMN string]] [PUNC <space>] [NP [NCMN ขนาด]]]]]]] [PUNC <space>] [CLSP [DCNM 30] [PUNC <space>] [CNIT ตัวอักษร]]]]]]]',\n",
       " '[S [S [NP [NP [NCMN Field]] [NP [NCMN <space>] [DONM ที่ 4]] [PUNC <space>] [JSBR สำหรับ] [VP [VACT เก็บ] [NP [NCMN ระยะเวลา] [ADJC [PREL ที่] [VP [XVBM จะ] [VP [VSTA ได้รับ] [NP [NCMN สินค้า]]]]]]]] [PUNC <space>] [VP [JSBR นับตั้งแต่] [NP [NCMN วัน] [VP [VACT สั่ง] [NP [NCMN สินค้า]]]]]] [JSBR จนกระทั่ง] [S [NP [NCMN วัน] [ADJC [PREL ที่] [VP [VSTA ได้รับ] [NP [NCMN สินค้า]]]]] [PUNC <space>] [VP [VSTA เป็น] [NP [NCMN ตัวแปร] [NP [NCMN ชนิด] [PUNC <space>] [NP [NCMN integer]]]]]]]',\n",
       " '[S [S [NP [NCMN โปรแกรม] [DDAC เหล่านี้]] [VP [XVAM ได้] [VP [VSTA มี] [NP [FIXN การ] [VACT แจกจ่าย]]]]] [JSBR ให้] [S [NP [NCMN หน่วยงาน] [CLSP [DIBQ บาง] [CNIT หน่วย]]] [VP [VACT ทดลอง] [VP [VACT ใช้] [NP [NCMN <space>]] [JCRG และ] [VP [VACT ประเมินผล] [NP [FIXN การ] [VACT ใช้]]]]]]]',\n",
       " '[S [PP [RPRE เมื่อ] [VP [VSTA เกิด] [NP [FIXN ความ] [VP [VSTA ยุ่งยาก] [PP [RPRE ใน] [NP [FIXN การ] [VACT ดำเนินการ]]]]] [VP [VACT เบิกจ่าย] [NP [NCMN เงิน]]]]] [S [NP [NCMN งบประมาณ]] [PUNC <space>] [VP [XVBM จะ] [VP [VACT ทำให้] [NP [FIXN การ] [VACT ดำเนินการ]] [VP [VACT ไป] [XVAE ได้] [AVBP [FIXV อย่าง] [ADJP [NEG ไม่] [VATT มีประสิทธิภาพ]]]]]]]]',\n",
       " '[S [PP [RPRE เมื่อ] [VP [VSTA มี] [NP [NCMN ปัญหา]]]] [S [NP [PPRS เรา] [VP [XVBM จึง] [VP [VACT แก้] [AVBP [ADVN กัน] [XVAE ไป]]]]] [VP [VSTA เป็น] [NP [NCMN ส่วน] [CLSP [DIBQ บาง] [CNIT ส่วน]]]]]]',\n",
       " '[S [PP [RPRE ใน] [NP [NCMN ระยะ]]] [S [NP [DDAC นั้น]] [VP [VSTA เป็น] [NP [FIXN การ] [VACT นำไปใช้]]]] [JSBR เพื่อ] [S [NP [FIXN การ] [VACT ให้]] [VP [VSTA ได้] [NP [NCMN ข้อมูล] [PP [RPRE เพื่อ] [NP [FIXN การ] [VACT บริหาร]]]]]]]',\n",
       " '[S [PP [RPRE เพื่อ] [VP [VACT ศึกษา]]] [S [NP [FIXN การ] [VACT ดำเนินการ]] [PUNC <space>] [VP [VACT วิเคราะห์] [JCRG และ] [VP [VACT แก้ปัญหา] [NP [DIBQ ทีละ] [NCMN ขั้นตอน]]]]]]',\n",
       " '[S [PP [RPRE จาก] [NP [NCMN ระบบ]]] [S [NP [NP [FIXN การ] [VACT ดำเนินการ]] [DDAC ดังกล่าว]] [PUNC <space>] [VP [XVAM สามารถ] [VP [VACT สรุป] [NP [FIXN การ] [VP [VACT ดำเนินการ] [PP [RPRE ภายใน] [NP [NCMN หน่วยงาน] [JCRG หรือ] [NCMN กรม]]] [PUNC <space>] [VP [VSTA ได้] [JSBR ดังนี้]]]]]]]]',\n",
       " '[S [PP [RPRE เมื่อ] [VP [VACT ดำเนินการ] [AVBP [ADVN เรียบร้อย]]]] [S [NP [NCMN ข้อมูล] [ADJC [PREL ที่] [VP [VSTA เปิดเผย] [XVAE ได้]]]] [PUNC <space>] [VP [XVBM จะ] [VP [VACT ใช้] [NP [NCMN วิธี]] [VP [VACT ส่ง] [PP [RPRE ไปยัง] [NP [NCMN คอมพิวเตอร์] [ADJP [VATT กลาง]]]]]]]]]',\n",
       " '[S [PP [RPRE จาก] [NP [FIXN การ] [NCMN ที่]]] [S [NP [PPRS ผู้]] [VP [VACT ดำเนินการ] [XVAE ได้] [VP [XVAE เข้าไป] [VP [VACT ศึกษา] [NP [NCMN งาน] [PP [RPRE ใน] [NP [DIBQ แต่ละ] [NP [NCMN ระบบ] [NP [NCMN งาน] [ADJP [VATT ย่อย]]]]]]]]]]]]',\n",
       " '[S [S [NP [NCMN และ]] [VP [VACT พัฒนา] [NP [NCMN ระบบ]]]] [JSBR เพื่อ] [S [NP [FIXN การ] [VP [VACT นำ] [NP [NCMN คอมพิวเตอร์]] [XVAE ไป]]] [VP [VACT ช่วย] [PP [RPRE ใน] [NP [FIXN การ] [VP [VACT เบิกจ่าย] [NP [NCMN เงินงบประมาณแผ่นดิน] [DDAC นั้น]]]]]]]]',\n",
       " '[S [S [NP [NCMN 5] [NP [NCMN <full_stop>]]] [PUNC <space>] [VP [VACT ทดลอง]]] [JSBR ให้] [S [NP [NCMN โรงพยาบาล] [PP [RPRE ของ] [NP [NCMN รัฐ] [CLSP [DIBQ บาง] [CNIT แห่ง]]]]] [VP [VSTA ได้] [VACT ทดลอง] [VACT ใช้]]]]',\n",
       " '[S [PP [RPRE เพื่อ] [NP [NCMN ที่]]] [S [NP [NCMN ผู้ใช้]] [VP [XVAM สามารถ] [VP [VACT นำเข้า] [XVAE มา] [VP [VACT ใช้] [VP [VACT ปฎิบัติ] [XVAE ได้] [AVBP [FIXV โดย] [ADVN ง่าย]]]]]]]]',\n",
       " '[S [PP [RPRE โดย] [ADJP [VATT เฉพาะ] [AVBP [FIXV อย่าง] [ADVN ยิ่ง]]]] [S [NP [NCMN หน่วยงาน] [ADJC [PREL ที่] [NP [NCMN ผู้บริหาร]] [VP [VSTA มี] [NP [FIXN การ] [VP [VACT เปลี่ยน] [NP [NCMN ตัวบุคคล]] [AVBP [ADVN กัน] [XVAE อยู่]]]] [AVBP [FIXV เป็น] [VATT ประจำ]]]]] [PUNC <space>] [VP [XVBM จะ] [VP [VACT ทำให้] [NP [FIXN การ] [VP [VACT ดำเนินการ] [PP [RPRE ของ] [NP [NCMN หน่วยงาน] [DDAC นั้น]]]]] [VP [VSTA ประสบ] [NP [NCMN ปัญหา]] [AVBP [ADVN มาก] [ADVN ยิ่งขึ้น]]]]]]]',\n",
       " '[S [PP [RPRE และ] [NP [PPRS ผู้] [VP [VACT จัด] [VP [VACT ดำเนินการ] [VP [VACT พัฒนา] [NP [NCMN ซอฟต์แวร์]]]]]]] [S [NP [NCMN เรื่อง] [DDAC นี้]] [PUNC <space>] [VP [XVAM ได้] [VP [VACT พยายาม] [VP [VSTA เน้น] [NP [FIXN การ] [VACT ดำเนินการ]]]]]]]',\n",
       " '[S [PP [RPRE โดย] [VP [VACT ใช้] [NP [NP [NCMN ไมโครคอมพิวเตอร์] [VP [VSTA เป็น] [ADJP [VATT กลาง]]]] [PUNC <space>] [PP [RPRE ใน] [NP [FIXN การ] [VACT ดำเนินการ]]]] [JSBR ที่จะ] [VP [VACT ทำให้]]]] [S [NP [DIBQ ทุก] [NCMN หน่วยงาน]] [VP [XVAM สามารถ] [VP [VACT จัด] [VP [VACT หา] [XVAE มา] [VP [VACT ใช้] [XVAE ได้] [AVBP [FIXV โดย] [ADVN ง่าย]]]]]]]]',\n",
       " '[S [PP [RPRE พร้อมทั้ง] [VP [XVAM สามารถ] [VP [VACT ควบคุม] [VACT รักษา]]]] [S [NP [FIXN ความ] [VP [VSTA ปลอดภัย] [PP [RPRE ของ] [NP [PPRS ตนเอง]]]]] [VP [VSTA ได้]]]]',\n",
       " '[S [NP [NCMN และ]] [JSBR ถ้า] [S [NP [NCMN หน่วยงาน] [DDAC นั้น]] [VP [VSTA มี] [NP [NP [NCMN เครื่อง] [VATT มินิ] [NCMN <space>]] [JCRG หรือ] [NP [FIXN <space>] [NCMN เมนเฟรม]]]]]]',\n",
       " '[S [PP [PREL ซึ่ง] [VP [VSTA สามารถ] [PUNC <space>] [NP [NP [NCMN interface]] [PUNC <space>] [PP [RPRE เข้ากับ] [PUNC <space>] [NP [NCMN Diskette]]]]]] [S [NP [NCMN <space>] [NP [NCMN ชนิด]] [PUNC <space>] [CLSP [DCNM 3] [PUNC <space>] [CMTR <quotation>]]] [PUNC <space>] [VP [VSTA ได้]]]]',\n",
       " '[S [PP [RPRE ใน] [NP [CLSP [DIBQ แต่ละ] [CNIT ด้าน]] [ADJC [PREL ที่] [VP [VACT นำไปใช้] [NP [NP [DDAC นั้น]] [PUNC <space>] [NP [NCMN เครื่องคอมพิวเตอร์]]] [VP [XVBM จะ] [VP [VSTA มี] [NP [FIXN ความ] [VP [VSTA แตกต่าง] [NP [NCMN ทาง]]]]]]]]]] [S [NP [NP [NCMN ด้าน]] [NP [FIXN ความ] [XVAM สามารถ]] [PUNC <space>] [JSBR เพื่อให้] [VP [VSTA เหมาะสม] [PP [RPRE แก่] [NP [NP [NCMN งาน] [DDAC นั้นๆ]] [PUNC <space>] [PP [RPRE เช่น] [PUNC <space>] [NP [NCMN เครื่อง] [ADJC [PREL ที่] [VP [VACT ใช้] [PP [RPRE ใน] [NP [NCMN งานวิจัย]]]]]]]]]]] [VP [XVMM จำเป็นจะต้อง] [VP [VACT ทำงาน] [PP [RPRE ด้วย] [NP [FIXN ความ] [VP [VATT เร็ว] [AVBP [ADVN สูง]]]]] [PUNC <space>] [VP [VP [VSTA มี] [NP [FIXN ความ] [VP [XVAM สามารถ] [VP [VACT แสดง] [NP [NCMN ผล] [PP [RPRE ทาง] [NP [NCMN จอภาพ] [PP [RPRE ใน] [NP [NCMN แบบ]]]]]]]]]] [NP [NCMN กราฟฟิก]] [XVAE ได้] [AVBP [ADVN ดี]]]]]]]',\n",
       " '[S [NP [NP [VACT ทำงาน] [VACT ใช้]] [NP [NCMN ข้อมูล] [AVBP [ADVN ร่วมกัน]]]] [JSBR เพื่อให้] [S [NP [NCMN งาน]] [VP [VACT ดำเนิน] [VP [VACT ไป] [XVAE ได้] [AVBP [FIXV อย่าง] [VSTA มีประสิทธิภาพ]]]]]]',\n",
       " '[S [PP [RPRE โดย] [ADJP [VATT ทั่วไป]]] [S [NP [NCMN เครื่อง] [NP [NCMN ระดับ] [DDAC นี้]]] [VP [XVAM สามารถ] [VP [XVBM จะ] [VP [VACT ต่อ] [NP [NCMN ภาพ]] [VP [VSTA ได้] [NP [DIBQ ประมาณ] [NP [NCMN <space>] [NP [NCNM 10]] [PUNC <minus>] [CLSP [DCNM 20] [PUNC <space>] [CNIT จอภาพ]]]]]]]]]]',\n",
       " '[S [PP [RPRE ภายใน] [NP [NPRP ประเทศไทย]] [VP [XVBM จะ] [VP [VSTA มี] [NP [NP [NCMN ธุรกิจ] [NP [NCMN ขนาด] [ADJP [VATT เล็ก]]]] [JCRG และ] [NP [NP [NCMN ขนาด] [ADJP [VATT กลาง]]] [ADJC [PREL ที่] [VP [VSTA เริ่ม] [VP [VACT นำ] [NP [NCMN เครื่อง] [NP [NCMN ระดับ]] [PUNC <space>] [NP [NCMN PC]] [PUNC <space>] [NP [VACT มา] [VACT ใช้]]]]]]]]]]] [S [NP [NCMN งาน]] [VP [VACT เก็บ] [NP [NCMN ข้อมูล]] [JCRG และ] [VP [VACT ช่วย] [VP [VACT ประมวลผล] [AVBP [ADVN กัน] [ADVN มาก]]]]]]]',\n",
       " '[S [S [NP [NCMN และ]] [VP [VSTA มี] [NP [FIXN การ] [VACT ใช้]] [AVBP [ADVN เพิ่มขึ้น] [ADVN มาก]]]] [JSBR จน] [S [NP [NCMN เครื่อง] [NP [NCMN ขนาด]] [PUNC <space>] [NP [NCNM 16]] [PUNC <space>] [NP [NP [NCMN บิท] [PUNC <space>] [PUNC <left_parenthesis>] [NCMN IBM PC] [PUNC <right_parenthesis>] [PUNC <space>]] [VP [NEG ไม่] [VSTA สามารถ]]]] [VP [VP [VACT ตอบสนอง] [NP [FIXN ความ] [VACT ต้องการ]]] [NP [NCMN ผู้ใช้]] [XVAE ได้] [AVBP [ADVN เพียงพอ]]]]]',\n",
       " '[S [NP [NCMN และ]] [JSBR เพื่อให้] [S [NP [NP [FIXN การ] [VACT พัฒนา]] [DDAC นี้]] [VP [VSTA เป็น] [NP [NP [NCMN เทคโนโลยี] [PP [RPRE ของ] [NP [NCMN ประเทศ] [NP [PPRS เรา]]]]] [NP [PDMN เอง]] [PUNC <space>] [JSBR แทนที่จะ] [VP [VACT นำเข้า] [PP [RPRE จาก] [NP [NCMN ต่างประเทศ]]]]] [AVBP [ADVN ทั้งหมด]]]]]',\n",
       " '[S [NP [NP [NP [NPRP โครงการพัฒนาและออกแบบคอมพิวเตอร์ 32 บิท]] [DDAC นี้]] [NP [FIXN <space>] [VP [XVBM จึง] [VP [VACT มุ่ง] [VP [VACT สร้าง] [NP [NCMN เครื่องต้นแบบ]] [XVAE ขึ้นมา]]]]] [PUNC <space>] [JSBR เพื่อ] [VP [VACT นำ] [XVAE ไป] [VP [VACT ทำ] [NP [FIXN การ] [VACT ผลิต]]]]] [JSBR เพื่อให้] [S [NP [NCMN ประโยชน์]] [VP [VP [VP [VACT ตก] [XVAE อยู่] [PP [RPRE กับ] [NP [NCMN ประเทศ] [NP [PPRS เรา]]]]] [AVBP [ADVN เอง]]] [AVBP [FIXV โดย] [VATT ตรง]]]]]',\n",
       " '[S [PP [RPRE ใน] [NP [FIXN การ] [VP [VACT ออกแบบ] [NP [DDAC นี้]] [VP [XVAM ได้] [VP [VSTA ใช้] [PUNC <space>] [NP [NCMN IC]]]]]]] [S [NP [NP [NCMN <space>] [ADJP [VATT พิเศษ]]] [ADJC [PREL ซึ่ง] [VP [VACT รวม] [NP [FIXN การ] [VP [VACT ทำงาน] [NP [NCMN พื้นฐาน] [DIAC ต่างๆ]]]]]]] [PUNC <space>] [VP [VACT เข้า] [AVBP [ADVN ด้วยกัน]]]]]',\n",
       " '[S [PP [RPRE เป็น] [NP [FIXN การ] [VACT ลด]]] [S [NP [NCMN อุปกรณ์] [ADJC [PREL ที่] [VP [VACT ใช้] [PP [RPRE ใน] [PUNC <space>] [NP [NCMN mainboard]]]]]] [PUNC <space>] [VP [VACT ลง]]]]',\n",
       " '[S [S [NP [NCMN วิธี] [DDAC นี้]] [VP [VACT ดู]]] [JSBR แล้ว] [S [NP [NCMN ไม่]] [VP [XVAM ค่อย] [VP [XVBM จะ] [VSTA มีประสิทธิภาพ]]]]]',\n",
       " '[S [PP [RPRE โดย] [VP [VACT รับ]]] [S [NP [NCMN คำสั่ง]] [PUNC <space>] [VP [VACT จาก] [NP [FIXN <space>] [NCMN CPU]]]]]',\n",
       " '[S [S [JSBR เพื่อให้] [NP [FIXN <space>] [NCMN interface device]] [PUNC <space>] [VP [XVAM สามารถ] [VP [VACT ถ่ายเท] [NP [NCMN ข้อมูล]]]]] [JSBR จาก] [S [NP [NCMN ระบบ] [PP [RPRE ไปสู่] [PUNC <space>] [NP [NCMN interface device extension slot]]]] [PUNC <space>] [VP [VSTA ได้]]]]',\n",
       " '[S [PP [RPRE และ] [VP [XVAM สามารถ] [VP [VP [VSTA ใช้] [PUNC <space>] [NP [NCMN CPU] [PUNC <space>] [NP [DDAC นี้]]]] [NP [VACT ทำงาน] [VACT ควบคุม]]]]] [S [NP [NCMN อุปกรณ์] [DIAC ต่างๆ]] [PUNC <space>] [VP [VP [VSTA แทน] [PUNC <space>] [NP [NCMN CPU] [PUNC <space>] [NCMN 80386SX] [PUNC <space>] [NCMN บน] [PUNC <space>] [NCMN mainboard]]] [NP [NCMN <space>]] [XVAE ได้] [AVBP [ADVN ด้วย]]]]]',\n",
       " '[S [S [JSBR นอกจากนี้] [NP [FIXN การ] [VP [VACT เขียน] [NP [NCMN โปรแกรม]] [VP [VSTA ผ่าน] [PUNC <space>] [NP [NCMN ROM BIOS]]]]] [PUNC <space>] [VP [XVBM จะ] [VACT ช่วย]]] [JSBR ทำให้] [S [NP [NCMN โปรแกรม] [ADJC [PREL ที่] [VP [VACT เขียน] [AVBP [ADVN ขึ้น]]]]] [PUNC <space>] [VP [XVAM สามารถ] [VP [VACT ทำงาน] [XVMM ได้]]]]]',\n",
       " '[S [PP [PREL ซึ่ง] [VP [VSTA ประกอบ] [AVBP [ADVN ด้วย]]]] [S [NP [NCMN ส่วน] [ADJP [VATT สำคัญ]]] [VP [VSTA คือ] [PUNC <space>] [NP [NCMN Mainboard] [PUNC <comma>] [NP [NP [FIXN <space>] [NCMN VGA]] [PUNC <space>] [PP [RPRE และ] [NP [NCMN มี] [PUNC <space>] [NCMN Floppydisk controller] [PUNC <space>] [NCMN บน] [PUNC <space>] [NCMN Mainboard]]]]]]]]',\n",
       " '[S [PP [PREL ซึ่ง] [VP [VSTA มี] [NP [FIXN ความ] [VP [VATT เร็ว] [AVBP [ADVN สูง]]]]]] [S [NP [NP [NCMN ขนาด] [DDAC นี้]] [PUNC <space>] [NP [NCMN วิธีการ]]] [VP [VACT เชื่อมต่อ] [PP [RPRE เข้ากับ] [PUNC <space>] [NP [NCMN memory]]] [PUNC <space>] [VP [XVMM จำเป็นจะต้อง] [VP [VACT ใช้] [NP [NCMN วิธี] [ADJC [PREL ที่] [ADJP [VATT ซับซ้อน]]]]]]]]]',\n",
       " '[S [NP [NCMN ฉะนั้น]] [JSBR เนื่องจาก] [S [NP [FIXN <space>] [NCMN 82335]] [PUNC <space>] [VP [XVBM จะ] [XVMM ต้อง] [VP [VACT ทำงาน] [VP [VSTA สัมพันธ์] [PP [RPRE กับ] [PUNC <space>] [NP [NCMN CPU] [PUNC <space>] [NP [NCMN อย่าง] [ADJP [VATT ใกล้ชิด]]]]]]]]]]',\n",
       " '[S [PP [RPRE และ] [PUNC <space>] [NP [NCMN SBHE] [NP [FIXN <space>] [VP [XVBM จะ] [VP [VSTA เป็น] [NP [NCMN ตัวกำหนด]]]]] [PUNC <space>] [NP [FIXN การ] [VACT ใช้]] [PUNC <space>] [NP [NP [NCMN system data bus]] [PUNC <space>] [PP [RPRE เช่น] [PUNC <space>] [NP [RPRE ใน] [NP [FIXN การ] [VP [VACT ถ่ายเท] [NP [NCMN ข้อมูล] [DDBQ ทีละ] [NP [NCMN <space>]]]]]]]]]] [S [NP [NCMN 1] [PUNC <space>] [NCMN word] [PUNC <space>] [NCMN SAO] [PUNC <space>] [JCRG และ] [PUNC <space>] [NCMN SBHE]] [PUNC <space>] [VP [VACT ทั้ง] [NP [NCMN คู่]]]]]',\n",
       " '[S [S [NP [NCMN ส่วน] [PUNC <space>] [NP [NCMN extend memory]]] [PUNC <space>] [VP [XVBM จะ] [VP [VSTA เริ่ม] [NP [FIXN การ] [VACT ใช้]]]]] [JSBR ก็ต่อเมื่อ] [S [NP [FIXN <space>] [VP [VSTA มี] [PUNC <space>] [NP [NCMN memory]]]] [PUNC <space>] [VP [VACT เกิน] [NP [NCMN กว่า] [PUNC <space>] [NCMN 82335] [PUNC <space>] [NCMN บน] [PUNC <space>] [NCMN Local bus]] [PUNC <space>] [JSBR จะ] [VP [VACT รับ] [XVAE ได้] [AVBP [ADVN เท่านั้น]]]]]]',\n",
       " '[S [S [JSBR ฉะนั้น] [NP [NCMN สัญญาณเลือก ROM] [PUNC <space>] [NP [NCMN จะ] [ADJP [VATT ถูก]]]] [PUNC <space>] [VP [VACT disafile] [NP [NCMN <space>]]]] [JSBR ทันทีที่] [S [NP [FIXN <space>] [NCMN 82335]] [PUNC <space>] [VP [XVAM ถูก] [VP [VACT โปรแกรม] [JSBR ให้] [VP [VACT ทำงาน] [NP [NCMN แบบ] [PUNC <space>] [NP [NCMN Shadow-ROM]]]]]]]]',\n",
       " '[S [NP [NCMN ก็]] [JSBR เพื่อให้] [S [NP [NP [NCMN <space>] [NP [NCMN master] [NP [FIXN <space>] [VP [XVAM สามารถ] [VP [VACT อ่าน]]]]]] [PUNC <space>] [NP [NCMN ROM]]] [PUNC <space>] [VP [VSTA ได้]]]]',\n",
       " '[S [PP [RPRE และ] [VP [VSTA เป็น] [PUNC <space>] [NP [NP [NCMN latch]] [PUNC <space>] [PP [RPRE จาก] [PUNC <space>] [NP [NCMN ALE] [PUNC <space>] [PUNC <left_parenthesis>] [NCMN Address latch enable] [PUNC <right_parenthesis>] [PUNC <space>]]]]]] [S [NP [NCMN SA0-SA19]] [PUNC <space>] [VP [XVBM จะ] [VP [VSTA มี] [NP [NCMN ค่า]] [AVBP [ADVN คงที่] [ADVN ตลอด]] [PP [RPRE ทั้ง] [PUNC <space>] [NP [NCMN cycle]]]]]]]',\n",
       " '[S [S [NP [NCMN ALE]] [PUNC <space>] [VP [VP [XVBM จะ] [XVAM ถูก] [VACT ส่งออก] [XVAE มา]] [PP [RPRE จาก] [NP [NCMN ระบบ]]]]] [JSBR ในขณะที่] [S [NP [FIXN <space>] [NCMN address]] [PUNC <space>] [VP [VSTA มี] [NP [NCMN ค่า] [ADJP [VATT คงที่]]] [AVBP [ADVN แล้ว]]]]]',\n",
       " '[S [S [NP [NP [FIXN ความ] [VP [VSTA สำคัญ] [VP [XVBM จะ] [VP [VACT เรียง] [AVBP [ADVN ตามลำดับ]]]]]] [PUNC <space>] [PP [RPRE จาก] [PUNC <space>] [NP [NCMN IRQ3]]]] [PUNC <space>] [VP [XVBM จะ] [VP [VATT สูง] [AVBP [ADVN สุด]]]]] [JCRG และ] [S [NP [FIXN <space>] [NCMN IRQ9]] [PUNC <space>] [VP [XVBM จะ] [VP [VATT ต่ำ] [AVBP [ADVN ที่สุด]]]]]]',\n",
       " '[S [S [NP [NCMN AEN]] [PUNC <space>] [VP [VSTA เป็น] [NP [NCMN สัญญาณ] [ADJC [PREL ที่] [VP [VACT บอก]]]]]] [JSBR ให้] [S [NP [NCMN อุปกรณ์] [DIAC อื่น]] [VP [VSTA ทราบ] [PP [RPRE ว่า] [PUNC <space>] [NP [NCMN ขณะนี้] [NP [NCMN ระบบ] [VP [XVBM กำลัง] [VACT ทำงาน]]] [PUNC <space>] [NP [NCMN DMA]] [PUNC <space>] [NP [NCMN อยู่]]]]]]]',\n",
       " '[S [S [JSBR เมื่อ] [NP [NP [VACT เริ่มต้น] [VACT ทำงาน]] [NP [NCMN <space>]]] [PUNC <left_parenthesis>] [VP [VSTA เริ่ม] [VP [VP [VACT เปิด] [NP [NCMN สวิทช์ไฟ] [PUNC <right_parenthesis>] [NP [NCMN <space>] [NP [NCMN สัญญาณ] [PUNC <space>] [NCMN RESET] [PUNC <space>] [NCMN จะ] [PUNC <space>] [NCMN active]]]]] [NP [NCMN <space>]]]]] [JSBR เพื่อให้] [S [NP [NCMN อุปกรณ์] [DIAC ต่างๆ]] [PUNC <space>] [VP [VSTA เริ่มต้น] [VP [VACT ทำงาน] [AVBP [ADVN พร้อมกัน] [XVAE ได้]]]]]]',\n",
       " '[S [S [NP [NCMN SMEMR, SMEMW]] [PUNC <space>] [VP [JSBR ก็] [VP [VSTA คือ] [NP [NCMN สัญญาณ] [DDAC เหล่านี้]]]]] [JSBR จะ] [S [NP [NCMN <space>]] [VP [VACT active] [PUNC <space>] [AVBP [ADVN ตลอด] [JCRG ไม่ว่า] [VP [XVBM จะ] [VP [VSTA อยู่] [PP [RPRE ใน] [PUNC <space>] [NP [NCMN address space] [NP [NCMN <space>] [DIAC ใด]]]]] [PP [RPRE ของ] [PUNC <space>] [NP [NCMN CPU]]]]]]]]',\n",
       " '[S [PP [RPRE ใน] [NP [NP [NCMN ปัจจุบัน]] [PUNC <space>] [NP [FIXN การ] [VP [VACT นำ] [NP [NCMN คอมพิวเตอร์]] [VP [XVAE มา] [VP [VACT ใช้งาน] [PP [RPRE เกี่ยวกับ] [NP [NCMN ภาพสี] [NP [NCMN <space>]]]]]]]] [JCRG หรือ] [NP [NCMN สีเทา] [ADJC [PREL ที่] [VP [VSTA มี] [NP [FIXN ความ] [VATT เข้ม]]]]]]] [S [NP [DIBQ หลาย] [NCMN ระดับ]] [VP [VSTA เริ่ม] [VP [VSTA มี] [AVBP [ADVN มากขึ้น]]]]]]',\n",
       " '[S [PP [RPRE เพื่อ] [VP [VACT ใช้]]] [S [NP [NCMN ใน]] [VP [VACT งาน] [NP [NCMN ระดับ] [NP [NCMN อาชีพ]]] [AVBP [FIXV โดย] [VATT เฉพาะ]]]]]',\n",
       " '[S [S [NP [NCMN ส่วน] [PP [RPRE ใน] [NP [NP [NCMN ระดับ] [ADJP [VATT ล่าง]]] [ADJC [PREL ที่] [VP [VACT ต้องการ] [NP [NCMN ราคา]]]]]]] [VP [XVAM ถูก] [JSBR โดย] [VP [NEG ไม่] [VSTA ต้องการ] [NP [NP [NCMN คุณภาพ] [ADJP [VATT สูง] [AVBP [ADVN นัก]]]] [PUNC <space>] [PP [RPRE เช่น] [PUNC <space>] [NP [RPRE ใน] [NP [NCMN โรงงานอุตสาหกรรม]]]]]]]] [JCRG หรือ] [S [NP [NCMN ธุรกิจ] [ADJP [VATT ทั่วไป]]] [PUNC <space>] [VP [XVBM ยัง] [VP [VSTA ขาด] [NP [NP [NP [FIXN การ] [VACT พัฒนา]] [JCRG ทั้ง] [NP [NP [NP [NCMN ฮาร์ดแวร์] [JCRG และ] [NCMN ซอฟต์แวร์]] [PUNC <space>] [PP [RPRE ใน] [NP [NCMN ราคา]]]] [JCRG และ] [NP [FIXN ความ] [XVAM สามารถ]]]] [ADJC [PREL ที่] [ADJP [VATT เหมาะสม]]]] [AVBP [FIXV อย่าง] [VP [VSTA เต็ม] [NP [NCMN ระบบ]]]]]]]]',\n",
       " '[S [PP [RPRE เพื่อ] [VP [VACT นำมาใช้] [VP [VSTA เป็น] [NP [NCMN ระบบ]]]]] [S [NP [NP [NCMN ฐานข้อมูล]] [NP [NCMN ภาพนิ่ง] [PP [RPRE สำหรับ] [NP [NCMN เครื่องคอมพิวเตอร์ส่วนบุคคล]]]] [PUNC <space>] [JSBR ซึ่ง] [VP [VACT ใช้] [AVBP [ADVN กัน] [XVAE อยู่]]]] [VP [VSTA แพร่หลาย] [PP [RPRE ใน] [NP [NCMN ปัจจุบัน]]]]]]',\n",
       " '[S [PP [RPRE โดย] [VP [VSTA เป็น] [NP [NCMN แผ่น]]]] [S [NP [NCMN วงจร]] [JSBR สำหรับ] [VP [VACT เสียบ] [PP [RPRE บน] [NP [NCMN เครื่องคอมพิวเตอร์ส่วนบุคคล] [PUNC <space>] [NP [NCMN IBM PC Compatible]]]] [PUNC <space>] [VP [VP [VSTA ทั่วไป] [JCRG และ] [VACT ใช้]] [NP [NCMN งาน]] [XVAE ได้] [AVBP [ADVN ทันที]]]]]]',\n",
       " '[S [PP [RPRE เพื่อ] [NP [NCMN แสดง]]] [S [NP [NCMN ภาพ]] [VP [VACT บน] [NP [NCMN จอมอนิเตอร์] [NP [NCMN โทรทัศน์]]]]]]',\n",
       " '[S [PP [RPRE คือ] [PUNC <space>] [NP [NCMN ด้านรับ]]] [S [NP [NP [NCMN มี]] [NP [NCMN วงจร] [PUNC <space>] [NP [NCMN A]]] [PUNC <space>] [JSBR สำหรับ] [VP [VACT แปลง] [NP [NCMN สัญญาณคอมโพลิท] [PP [RPRE จาก] [NP [NCMN กล้องโทรทัศน์]]]] [XVAE มา]]] [VP [VSTA เป็น] [NP [NCMN ข้อมูล] [PP [RPRE เชิง] [NP [NCMN เลข]]]]]]]',\n",
       " '[S [PP [RPRE โดย] [VP [XVBM จะ] [XVMM ต้อง] [VP [VACT แยก]]]] [S [NP [NCMN สัญญาณเวลา]] [VP [VACT ออกมา] [PP [RPRE จาก] [NP [NCMN สัญญาณคอมโพลิท]]]]]]',\n",
       " '[S [PP [RPRE เพื่อ] [VP [XVBM จะ] [VP [VACT จับ] [NP [NCMN ระดับ]]]]] [S [NP [NCMN สัญญาณซิงก์] [ADJC [PREL ซึ่ง] [VP [VSTA มี] [NP [NCMN ค่า]]]]] [VP [VATT ต่ำ] [AVBP [ADVN สุด] [XVAE ไว้]]]] [JSBR ที่] [S [NP [NCMN ระดับ]] [VP [VSTA คงที่] [NP [NCMN ค่า] [DIAC หนึ่ง]]]]]',\n",
       " '[S [PP [RPRE เพื่อ] [VP [VACT ป้องกัน]]] [S [NP [FIXN การ] [VP [VSTA เกิด] [PUNC <space>] [NP [NCMN Alias]]]] [PUNC <space>] [VP [VSTA ได้] [NP [DIBQ บาง] [NCMN ส่วน]]]]]',\n",
       " '[S [PP [RPRE เพื่อ] [NP [NCMN จ่าย]]] [S [NP [NCMN สัญญาณ]] [VP [VACT ให้] [NP [NCMN วงจร] [NP [NCMN <space>] [NP [NCMN A] [PUNC <space>] [NCMN แบบ] [PUNC <space>] [NCMN Flash] [PUNC <space>] [NCMN ขนาด]] [PUNC <space>] [CLSP [DCNM 6] [PUNC <space>] [CMTR บิท]]]]]]]',\n",
       " '[S [PP [RPRE เพื่อ] [VP [VACT แยก] [XVAE เอา] [PP [RPRE เฉพาะ] [NP [NCMN ระดับ]]]]] [S [NP [NCMN สัญญาณซิงก์]] [VP [VACT ออกมา]]]]',\n",
       " '[S [PP [RPRE โดย] [VP [VACT ให้] [NP [NCMN <space>] [CLSP [DCNM 2] [PUNC <space>] [CMTR บิท]]]]] [S [NP [NCMN ล่าง]] [VP [VSTA มี] [NP [NCMN ค่า] [VP [VP [VSTA เป็น] [PUNC <space>] [NP [NCNM 0]]] [NP [NCMN <space>]]]] [AVBP [ADVN ตลอดเวลา]]]]]',\n",
       " '[S [PP [PREL ซึ่ง] [VP [XVBM จะ] [VACT ทำให้]]] [S [NP [NCMN ข้อมูล] [ADJP [VATT เดิม]]] [VP [VSTA มี] [NP [NCMN นัยสำคัญ] [VP [VSTA เพิ่มขึ้น] [VP [VSTA เป็น] [PUNC <space>] [CLSP [DCNM 8] [PUNC <space>] [CMTR บิท]]]]] [AVBP [ADVN ด้วย]]]]]',\n",
       " '[S [PP [RPRE เพื่อ] [NP [VACT ใช้] [VACT ทำ]]] [S [NP [NCMN ภาพกราฟิก]] [VP [VP [VSTA ซ้อน] [XVAE ลง] [PP [RPRE บน] [NP [NCMN ภาพ] [NP [NCMN สีเทา]]]]] [AVBP [ADVN อีกที]]]]]',\n",
       " '[S [PP [RPRE คือ] [PUNC <space>] [NP [NCMN ภาพ] [NP [NCMN มี] [NP [NCMN ขนาด]] [PUNC <space>] [CLSP [DCNM 256] [PUNC <space>] [CNIT จุด]]]]] [S [NP [NCMN สีเทา] [PUNC <slash>] [NP [NCMN เส้น]]] [PUNC <space>] [VP [VP [XVBM จะ] [VP [VSTA มี] [PUNC <space>] [CLSP [DCNM 512] [PUNC <space>] [CNIT จุด]]]] [NP [NCMN Overlay] [PUNC <full_stop>] [NP [NCMN เส้น]]]]]]',\n",
       " '[S [PP [RPRE โดย] [VP [VSTA ยกเว้น]]] [S [NP [NCMN มุม]] [VP [VACT บน] [NP [NP [NCMN ขวา] [NP [CNIT ขนาด] [PUNC <space>] [NCNM 64]] [PUNC x] [CLSP [DCNM 64] [PUNC <space>] [CNIT จุด]]] [PUNC <comma>] [NP [NCMN <space>] [NP [NCNM 3]] [PUNC <slash>] [CLSP [DCNM 4] [PUNC <space>] [CNIT รูป]]]]]]]',\n",
       " '[S [PP [RPRE เพื่อ] [ADJP [VATT สะดวก] [PP [RPRE ใน] [NP [FIXN การ] [VACT ทำ]]]]] [S [NP [NP [NCMN แบบฟอร์ม] [ADJC [PREL ที่] [VP [VSTA มี]]]] [JCRG ทั้ง] [NP [NCMN ภาพ] [JCRG และ] [NCMN ตัวอักษร]]] [VP [VSTA ปน] [NP [NP [PPRS กัน]] [PUNC <space>] [PP [RPRE ใน] [NP [FIXN การ] [VACT ใช้]]]] [VP [VACT แสดงผล] [PP [RPRE ใน] [NP [NCMN ระบบ] [NP [NCMN ฐานข้อมูล] [NP [NCMN ภาพนิ่ง]]]]]]]]]',\n",
       " '[S [PP [RPRE เป็น] [NP [NCMN วงจร]]] [S [NP [NCMN ส่วน]] [JSBR ที่] [VP [VSTA กำเนิด] [NP [NP [NCMN สัญญาณนาฬิกา] [DIAC ต่างๆ]] [PUNC <comma>] [NP [FIXN <space>] [NCMN Video Address Bus]]]]]]',\n",
       " '[S [PP [RPRE โดย] [VP [VSTA มี] [NP [NCMN หัวใจ]]]] [S [NP [NCMN หลัก]] [VP [VSTA อยู่] [PP [RPRE ที่] [PUNC <space>] [NP [NP [NCMN CRT Controller]] [PUNC <space>] [PP [PREL ซึ่ง] [VP [XVBM จะ] [XVAM ถูก] [VP [VACT โปรแกรม] [PP [RPRE โดย] [NP [NCMN วงจรไมโครคอนโทรลเลอร์] [CLSP [DDBQ อีก] [CNIT ที] [DCNM หนึ่ง]]]]]]]]]]]]',\n",
       " '[S [PP [RPRE เพื่อ] [VP [VACT ชี้]]] [S [NP [NCMN หน่วยความจำ] [VP [VSTA ได้] [PUNC <space>] [CLSP [DCNM 64] [PUNC <space>] [CMTR KB]]]] [PUNC <space>] [VP [AVBP [ADVN พอดี]] [VP [JSBR สำหรับ] [NP [NCMN <space>] [CLSP [DCNM 1] [PUNC <space>] [CNIT ภาพ]]]]]]]',\n",
       " '[S [PP [RPRE รวมทั้ง] [VP [VACT หน่วง]]] [S [NP [NCMN เวลา]] [JSBR เพื่อ] [VP [VACT รักษา] [NP [NCMN ระยะห่าง] [NP [RPRE ระหว่าง] [NP [NCMN ซิงก์] [PP [RPRE จาก] [NP [NCMN ทั้ง]]]]] [PUNC <space>] [CLSP [DCNM 2] [PUNC <space>] [CNIT ระบบ]]] [JSBR ให้] [ADJP [VATT เหมาะสม]]]]]',\n",
       " '[S [PP [RPRE ดัง] [NP [NCMN ใน]]] [S [NP [NCMN รูป]] [VP [JSBR ที่] [NP [NCNM 4]]]]]',\n",
       " '[S [PP [RPRE และ] [VP [VACT รับ] [NP [NCMN คำสั่ง] [PP [RPRE กับ] [PUNC <space>] [NP [NCMN PC]]]]]] [S [NP [FIXN <space>] [VP [VSTA ได้] [NP [NCMN พอร์ท P1]]]] [PUNC <space>] [VP [VACT ใช้] [VP [VACT กำหนด] [NP [FIXN การ] [VACT ทำงาน]] [AVBP [ADVN ปกติ]]] [PP [RPRE โดย] [PUNC <space>] [NP [NCMN Dip Switch]]]]]]',\n",
       " '[S [PP [RPRE เพื่อ] [VP [VACT ตรวจสอบ] [NP [NCMN สถานะ] [PP [RPRE ของ] [NP [NCMN ซิงก์] [JCRG และ] [NCMN นับ]]]]]] [S [NP [NCMN เส้น]] [VP [VSTA ได้]]]]',\n",
       " '[S [PP [RPRE ใน] [NP [NCMN ส่วน] [PP [RPRE ของ] [NP [FIXN การ] [VACT รับ]]]]] [S [NP [NCMN คำสั่ง] [PP [RPRE กับ] [PUNC <space>] [NP [NCMN PC] [PUNC <space>] [NP [DDAC นั้น]]]]] [PUNC <space>] [VP [XVBM จะ] [VP [VSTA มี] [NP [NCMN รีจิสเตอร์] [PUNC <space>] [NP [NP [NCNM 2]] [PUNC <space>] [NP [NCMN ชุด]]]] [JSBR สำหรับ] [VP [VACT เก็บ] [NP [NCMN คำสั่ง] [ADJC [PREL ที่] [VP [VACT ส่ง] [XVAE มา] [PP [RPRE จาก] [PUNC <space>] [NP [NCMN PC] [PUNC <space>] [NP [NCMN ชุด] [DIAC หนึ่ง]]]]]]]]] [JCRG และ] [VP [VACT เก็บ] [NP [NCMN สถานะ] [ADJC [PREL ที่] [VP [VACT ส่ง] [XVAE ไป] [JSBR ให้] [NP [NCMN <space>] [NP [NCMN PC]] [PUNC <space>] [CLSP [DDBQ อีก] [CNIT ชุด] [DCNM หนึ่ง]]]]]]]]]]',\n",
       " '[S [PP [RPRE โดย] [VP [XVBM จะ] [VP [VACT ใช้] [NP [NCMN เครื่อง]]]]] [S [NP [NCMN ไมโครคอมพิวเตอร์]] [VP [VACT ทำหน้าที่แทน]]]]',\n",
       " '[S [PP [RPRE โดย] [NP [NCMN โปรแกรม] [DDBQ ทั้ง] [NP [NCNM สอง]]]] [S [NP [NCMN ส่วน] [DDAC นี้]] [VP [XVBM จะ] [XVMM ต้อง] [VP [VACT ทำงาน] [VP [VSTA สอดคล้อง] [AVBP [ADVN กัน]]]]]]]',\n",
       " '[S [PP [RPRE จาก] [NP [FIXN การ] [VACT พัฒนา]]] [S [NP [NCMN เทคโนโลยี] [NP [NCMN ระบบคอมพิวเตอร์] [PP [RPRE ใน] [NP [NCMN ปัจจุบัน]]]] [PUNC <space>] [NP [NPRP ศูนย์เทคโนโลยีอิเล็กทรอนิกส์และคอมพิวเตอร์แห่งชาติ]] [PUNC <space>] [NP [NPRP กระทรวงวิทยาศาสตร์เทคโนโลยีและการพลังงาน]]] [PUNC <space>] [VP [XVBM จึง] [XVAM ได้] [VP [VACT ให้] [NP [NP [FIXN การ] [VP [VACT สนับสนุน] [NP [NCMN โครงการ]] [VP [VACT วิจัย] [JCRG และ] [VACT พัฒนา]]]] [DIAC ต่างๆ]] [PUNC <space>] [JSBR ที่] [VP [VSTA เกี่ยวข้อง] [VP [VSTA เป็น] [NP [NCMN จำนวน]] [AVBP [ADVN มาก]]]]]]]]',\n",
       " '[S [S [NP [NP [NCMN โครงการ] [ADJP [VATT หลัก]]] [NP [NCMN อัน] [DIAC หนึ่ง]] [PUNC <space>] [JSBR ที่] [VP [VSTA มี] [NP [FIXN ความ] [VP [VSTA สำคัญ] [PP [RPRE ต่อ] [NP [FIXN การ] [VP [VACT พัฒนา] [NP [NCMN ประเทศ]]]]]]]]] [PUNC <space>] [VP [VSTA มี] [NP [NCMN ผลกระทบ] [PP [RPRE ต่อ] [NP [FIXN การ] [VP [VACT พัฒนา] [NP [NCMN อุตสาหกรรม] [NP [NCMN อิเล็กทรอนิกส์]]]]]]]]] [JCRG และ] [S [NP [NCMN คอมพิวเตอร์]] [PUNC <space>] [VP [VSTA คือ] [PUNC <space>] [NP [NP [NCMN โครงการ]] [NP [NCMN เทคโนโลยี] [NP [NCMN ระบบคอมพิวเตอร์]]] [PUNC <space>] [JSBR ซึ่ง] [VP [VSTA เป็น] [NP [NP [NCMN โครงการ] [ADJC [PREL ที่] [VP [VSTA เน้น] [NP [FIXN การ] [VP [VACT พัฒนา] [NP [NCMN ขีดความสามารถ] [PP [RPRE ของ] [NP [NCMN บุคลากร]]]]]]]]] [PUNC <space>] [PP [RPRE และ] [NP [FIXN การ] [VP [VACT พัฒนา] [NP [NCMN เทคโนโลยี] [PP [RPRE ใน] [NP [NCMN ด้าน] [DDAC นี้]]]]]]]]]]]]]',\n",
       " '[S [PP [RPRE โดย] [NP [NP [NCMN มี]] [NP [NCMN วัตถุประสงค์]] [PUNC <space>] [JSBR เพื่อ] [VP [VACT ทำ] [NP [FIXN การ] [VP [VACT ออกแบบ] [JCRG และ] [VACT สร้าง]]]]]] [S [NP [NCMN ต้นแบบ] [NP [NCMN ชุดสอน] [PUNC <space>] [NP [NCMN และ]]]] [VP [VACT พัฒนา] [NP [NCMN ระบบ] [NP [NCMN ไมโครคอมพิวเตอร์] [NP [NCMN ฮาร์ดแวร์]]]]]]]',\n",
       " '[S [PP [RPRE โดย] [VP [VSTA เน้น]]] [S [NP [FIXN การ]] [VP [VACT พัฒนา] [NP [NCMN ที่] [NP [NCMN ระบบ] [ADJC [PREL ที่] [VP [VSTA อยู่] [PP [RPRE ใน] [NP [NCMN ระดับ]]]]]] [PUNC <space>] [CLSP [DCNM 32] [PUNC <space>] [CMTR บิท]]]]]]',\n",
       " '[S [PP [RPRE เพื่อ] [VP [VSTA เป็น]]] [S [NP [NCMN ฐาน] [PP [RPRE ใน] [NP [FIXN การ]]]] [VP [VACT พัฒนา] [NP [NCMN อุตสาหกรรม] [PP [RPRE ของ] [NP [NCMN ประเทศ]]]] [AVBP [ADVN ต่อไป]]]]]',\n",
       " '[S [PP [RPRE และ] [NP [FIXN การ] [VP [VACT ผลิต] [PP [RPRE เพื่อ] [NP [NCMN งาน]]]]]] [S [NP [FIXN การ] [VP [VACT เรียน] [NP [FIXN การ] [VACT สอน]]]] [VP [XVAM สามารถ] [VP [VACT ทำ] [XVAE ได้] [PP [RPRE ด้วย] [NP [NCMN ราคา] [ADJP [VATT ถูก]]]]]]]]',\n",
       " '[S [S [JSBR จาก] [NP [NCMN ข้อมูล] [ADJC [PREL ที่] [VP [XVAM ได้] [VP [VACT ทำ] [NP [FIXN การ] [VACT ศึกษา]] [XVAE มา]]]]] [PUNC <space>] [VP [XVBM จะ] [VP [VSTA เห็น] [XVAE ได้]]]] [JSBR ว่า] [S [NP [NCMN ไมโครโปรเซสเซอร์] [PUNC <space>] [NP [NCMN MC68000]]] [PUNC <space>] [VP [VSTA เป็น] [NP [NCMN ไมโครโปรเซสเซอร์] [ADJC [PREL ที่] [VP [VSTA เหมาะสม] [PP [RPRE กับ] [NP [FIXN การ] [VP [VACT นำ] [XVAE มา] [VP [VACT ผลิต] [VP [VSTA เป็น] [NP [NCMN ชุดสอน]]]]]]]] [JCRG และ] [VP [VACT พัฒนา] [NP [NCMN ระบบไมโครคอมพิวเตอร์ฮาร์ดแวร์]]]]]]]]',\n",
       " '[S [PP [RPRE เพื่อ] [VP [VACT ส่ง] [NP [NCMN สัญญาณ]]]] [S [NP [VACT ต่อ] [VACT ออกไป]] [VP [VACT ควบคุม] [NP [NCMN หน่วย] [DIAC อื่นๆ]] [PUNC <space>] [JSBR ให้] [VP [VACT ทำงาน] [VP [VSTA สอดคล้อง] [PP [RPRE กับ] [NP [FIXN การ] [VP [VACT ส่ง] [NP [NCMN สัญญาณ] [PP [RPRE ของ] [NP [NCMN ไมโครโปรเซสเซอร์]]]]]]]]]]]]',\n",
       " '[S [PP [RPRE และ] [NP [NP [NCMN สัญญาณ] [NP [NCMN นาฬิกา]] [PUNC <space>] [CLSP [DCNM 153.33] [PUNC <space>] [CMTR kHz]]] [PUNC <space>] [PP [RPRE เป็น] [NP [NCMN ตัวกำหนด]]]]] [S [NP [NCMN อัตรา] [NP [FIXN การ] [NP [FIXN <space>] [VACT รับ]]]] [PUNC <slash>] [VP [VACT ส่ง] [NP [NCMN <space>] [NP [NCMN ข้อมูล] [NP [NCMN แบบ] [NP [NCMN อนุกรม]]]]]]]]',\n",
       " '[S [PP [RPRE โดย] [VP [XVBM จะ] [VSTA เป็น]]] [S [NP [NCMN หัวต่อ] [ADJC [PREL ที่] [VP [VSTA มี] [NP [NCMN สัญญาณ] [DIAC ต่างๆ]]]]] [PUNC <space>] [VP [VSTA ครบ] [NP [DIBQ ทุก] [NP [NCMN สัญญาณ] [PP [RPRE ของ] [NP [NCMN ไมโครโปรเซสเซอร์]]]]]]]]',\n",
       " '[S [PP [RPRE โดย] [VP [XVBM จะ] [XVAM สามารถ] [VP [VACT ถ่ายทอด] [NP [NCMN ข้อมูล] [ADJC [PREL ที่] [VP [VSTA เป็น] [NP [NCMN โปรแกรม]]]]]]]] [S [JSBR สำหรับ] [NP [NCMN ไมโครโปรเซสเซอร์]] [PUNC <space>] [VP [XVAE ไป] [VP [VACT ประมวลผล] [PP [RPRE บน] [NP [NCMN ชุดสอน]]]]]]]',\n",
       " '[S [PP [RPRE คือ] [PUNC <space>] [NP [NCMN ส่วน] [ADJC [PREL ที่] [VP [VSTA เป็น] [NP [NCMN แฟ้มข้อมูล]]]]]] [S [NP [NP [NCMN รูปแบบ] [DIAC ต่างๆ]] [PUNC <space>] [NP [NCMN ข้อมูล] [CLSP [DIBQ แต่ละ] [CNIT รูปแบบ]]]] [JSBR ก็] [VP [XVBM จะ] [VP [VSTA เหมาะสม] [PP [RPRE กับ] [NP [FIXN การ] [VP [VACT พัฒนา] [NP [NCMN ระบบ] [PP [RPRE ใน] [CLSP [DIBQ แต่ละ] [CNIT ส่วน]]]]]]]]]]]',\n",
       " '[S [PP [RPRE เพื่อ] [VP [VACT ช่วย] [PP [RPRE ใน] [NP [FIXN การ] [VACT ทดสอบ]]]]] [S [NP [FIXN การ] [VP [VACT ทำงาน] [PP [RPRE ของ] [NP [NCMN โปรแกรม] [PUNC <space>] [NP [NCMN และ]]]]]] [VP [VACT ทดสอบ] [NP [FIXN การ] [VACT ทำงาน]] [PP [RPRE ของ] [NP [NCMN ไมโครโปรเซสเซอร์]]]]]]',\n",
       " '[S [PP [RPRE เพื่อ] [NP [VACT ใช้] [VACT ประกอบ]]] [S [NP [FIXN การ] [VACT ตรวจสอบ]] [VP [VACT แก้ไข] [NP [NCMN <space>] [PP [RPRE ใน] [NP [FIXN การ] [VP [VACT พัฒนา] [NP [NCMN โปรแกรม]]]]]]]]]',\n",
       " '[S [S [NP [NCMN และ]] [VP [XVBM จะ] [XVAM ถูก] [VP [VACT ใช้] [VP [VSTA เป็น] [NP [NCMN ข้อมูล] [ADJP [VATT เริ่มต้น]]]]]]] [JSBR สำหรับ] [S [NP [FIXN การ] [VACT แปล]] [VP [VSTA เป็น] [NP [NCMN รหัส] [NP [NCMN ภาษาเครื่อง]]] [AVBP [ADVN ต่อไป]]]]]',\n",
       " '[S [PP [RPRE และ] [NP [VACT ทำหน้าที่] [VACT รับ]]] [S [NP [NCMN ข้อมูล] [ADJC [PREL ที่] [VP [VACT ส่ง] [XVAE เข้ามา] [PP [RPRE จาก] [NP [NCMN ชุดสอน]]]]]] [PUNC <space>] [VP [XVAE ไป] [VP [VACT แสดงออก] [PP [RPRE ทาง] [NP [NCMN จอภาพ]]]]]]]',\n",
       " '[S [PP [RPRE ใน] [NP [NCMN ส่วน] [ADJC [PREL ที่] [VP [VSTA เป็น]]]]] [S [NP [NCMN โปรแกรมโมนิเตอร์]] [PUNC <space>] [VP [VSTA ประกอบ] [XVAE ไป] [PP [RPRE ด้วย] [PUNC <space>] [NP [NCMN ส่วน] [PP [RPRE ของ] [NP [NCMN โปรแกรม] [ADJC [PREL ที่] [VP [VACT ทำหน้าที่] [VP [VACT สั่ง] [NP [FIXN การ] [VP [VACT ทำงาน] [PP [RPRE ของ] [NP [NCMN ระบบ] [PP [RPRE ทาง] [NP [NP [NCMN ด้าน]] [NP [NCMN ฮาร์ดแวร์] [PP [RPRE ของ] [NP [NCMN ชุดสอน]]]] [PUNC <space>] [JSBR ให้] [VP [XVAM สามารถ] [VP [VACT ทำงาน] [JSBR ตามที่] [VP [XVAM ได้] [VP [VACT ออกแบบ] [JCRG และ] [VP [VACT วาง] [NP [NCMN ระบบ]]]]]]]]]]] [XVAE ไว้]]]]]]]]]]]]]',\n",
       " '[S [PP [PREL ซึ่ง] [VP [XVBM จะ] [VP [VSTA มี] [NP [FIXN การ] [VACT ตรวจสอบ]]]]] [S [NP [NP [NCMN สัญญาณแสดงสถานะ] [DIAC ต่างๆ]] [PUNC <space>] [PP [RPRE ของ] [NP [FIXN การ] [NP [FIXN <space>] [VACT รับ]]]]] [PUNC <slash>] [VP [VACT ส่ง] [NP [FIXN <space>] [NCMN ข้อมูล]] [PP [RPRE ทาง] [NP [NCMN ด้าน] [NP [NCMN ฮาร์ดแวร์]]]]]]]',\n",
       " '[S [PP [RPRE และ] [VP [XVBM ยัง] [XVAM สามารถ] [VP [VACT โปรแกรม] [NP [NCMN อัตรา]]]]] [S [NP [FIXN การ] [NP [FIXN <space>] [VACT รับ]]] [PUNC <slash>] [VP [VP [VACT ส่ง] [NP [NCMN <space>] [NP [NCMN ข้อมูล] [NP [FIXN <space>] [VSTA เป็น]]] [PUNC <space>] [CLSP [DCNM 2,400] [PUNC <space>] [CMTR baud]]]] [NP [NCMN <space>]] [XVAE ได้] [AVBP [ADVN อีกด้วย]]]]]',\n",
       " '[S [PP [RPRE และ] [NP [NCMN บางส่วน] [VP [XVAM ได้] [VP [VSTA ผ่าน] [NP [NP [FIXN การ] [VACT ทดสอบ]] [PUNC <space>] [PP [RPRE โดย] [NP [FIXN การ] [VP [VACT ใช้] [NP [NCMN วิธี] [NP [FIXN การ] [VP [VACT จำลอง] [NP [NP [NCMN ระบบ]] [PUNC <space>] [PP [RPRE เช่น] [PUNC <space>] [NP [FIXN การ] [VACT สั่งงาน]]]]]]]]]]]]]]] [S [JSBR ให้] [NP [FIXN <space>] [VACT รับ]] [PUNC <slash>] [VP [VACT ส่ง] [PUNC <space>] [NP [NCMN ข้อมูล]] [PP [RPRE กับ] [NP [NP [NCMN อุปกรณ์]] [NP [NCMN ภายนอก]] [PUNC <space>] [JSBR ก็] [VP [XVBM จะ] [VP [VACT ใช้] [NP [NCMN วิธี] [NP [FIXN การ] [VACT ติดต่อ]]] [VP [VACT ผ่าน] [PP [RPRE ทาง] [NP [NCMN ตำแหน่ง] [NP [NCMN ที่อยู่] [PP [RPRE ของ] [NP [NP [NCMN หน่วยความจำ]] [NP [NCMN แบบ] [ADJP [VATT ชั่วคราว]]] [PUNC <space>] [JSBR ที่] [VP [VACT ติดตั้ง] [XVAE อยู่] [PP [RPRE กับ] [NP [NCMN ระบบ]]]]]]]]] [PUNC <space>] [VP [VSTA แทน] [NP [FIXN การ] [VACT ติดต่อ]]]]]]]] [JSBR กับ] [NP [NCMN อุปกรณ์] [ADJP [VATT ภายนอก] [AVBP [ADVN จริง]]]]]]]',\n",
       " '[S [PP [RPRE และ] [NP [NCMN ระบบ] [VP [XVAM สามารถ] [VP [VACT ทำงาน] [XVAE ได้] [AVBP [ADVN ด้วย]]]]]] [S [NP [NCMN สัญญาณนาฬิกา] [ADJC [PREL ที่] [VP [VSTA มี] [NP [FIXN ความ] [VP [VATT ถี่] [AVBP [ADVN สูง]]]]]]] [VP [VSTA กว่า] [PUNC <space>] [CLSP [DCNM 10] [PUNC <space>] [CMTR MHZ]]]]]',\n",
       " '[S [PP [RPRE คือ] [PUNC <space>] [NP [NCMN เทคนิค]]] [S [NP [FIXN การ] [VP [VACT ลด] [NP [FIXN ความ] [VATT ถี่]] [JSBR โดย] [VP [VACT ใช้] [NP [NCMN มิกเซอร์]]]]] [VP [VACT ร่วม] [PP [RPRE กับ] [NP [NCMN พรีเสกลเลอร์]]]]]]',\n",
       " '[S [PP [RPRE และ] [NP [NCMN เทคนิค]]] [S [NP [FIXN การ] [VP [VACT ลด] [NP [FIXN ความ] [VATT ถี่]]]] [JSBR โดย] [VP [VACT ใช้] [NP [NCMN พรีเสกลเลอร์] [NP [NCMN แบบ] [CLSP [DCNM สอง] [CNIT โมดูลัส]]]]]]]',\n",
       " '[S [PP [RPRE หลังจาก] [VP [XVAM ได้] [VP [VACT สร้าง]]]] [S [NP [NCMN เครื่องต้นแบบ]] [VP [VSTA เสร็จ] [XVAE เรียบร้อย] [AVBP [ADVN แล้ว]]]]]',\n",
       " '[S [PP [RPRE เมื่อ] [VP [XVAM ได้] [VP [VACT ทำ]]]] [S [NP [FIXN การ]] [VP [VACT แก้ไข] [NP [NCMN ข้อบกพร่อง] [PP [RPRE ใน] [NP [NCMN วงจร]]]] [AVBP [ADVN แล้ว]]]]]',\n",
       " '[S [PP [RPRE คือ] [NP [FIXN <space>] [VSTA มี]]] [S [NP [NCMN สัญญาณ]] [VP [VACT แปลกปลอม] [XVAE ออกมา] [AVBP [ADVN มาก]]]]]',\n",
       " '[S [PP [RPRE เนื่องมาจาก] [NP [NP [FIXN การ] [VACT ใช้]] [PUNC <space>] [NP [NCMN mixer] [NP [NCMN <space>]]] [JCRG และ] [NP [FIXN การ]]]] [S [NP [NCMN ฟิลเตอร์] [ADJP [NEG ไม่] [VATT ดี]]] [VP [VSTA พอ]]]]',\n",
       " '[S [PP [RPRE จาก] [PUNC <space>] [NP [NCMN Block diagram] [PUNC <space>] [NP [NP [FIXN ทั้งหมด] [VP [XVBM จะ] [VP [VSTA เห็น] [JSBR ว่า]]]] [PUNC <space>] [PP [RPRE ใน] [NP [NCMN บล๊อค] [ADJC [PREL ที่] [NP [NCMN <space>] [PUNC <left_parenthesis>] [NCMN <space>] [JCRG และ] [NCMN <space>]]]]]]]] [S [NP [NCMN บล๊อค] [ADJC [PREL ที่] [NP [NCMN <space>] [PUNC <left_parenthesis>] [NP [FIXN <space>] [VP [XVBM จะ] [VP [VSTA เป็น] [NP [NCMN ตัวกำเนิด] [NP [FIXN ความ] [VP [VATT ถี่] [AVBP [ADVN อ้างอิง]]]] [PUNC <space>] [NP [NCMN หมายเลข] [NP [NCMN <space>]]] [PUNC <left_parenthesis>] [NP [NCMN และ]]]]]]]]] [PUNC <left_parenthesis>] [VP [VP [JSBR ดังนั้น] [NP [NP [NCMN <space>] [NP [FIXN ความ] [VATT ถี่]] [PP [RPRE จาก] [PUNC <left_parenthesis>] [NP [NCMN <space>] [JCRG และ] [NCMN <space>]]]] [PUNC <left_parenthesis>] [NP [NCMN <space>]]]] [JSBR ก็] [VP [XVBM จะ] [VP [VSTA เป็น] [NP [NCMN ส่วนหนึ่ง]]]] [PP [RPRE ของ] [PUNC <space>] [NP [NCMN Spurious]]]]]]',\n",
       " '[S [PP [RPRE เมื่อ] [NP [FIXN ความ] [VATT ถี่]]] [S [NP [DDAC นี้]] [VP [VACT ผสม] [PP [RPRE กับ] [NP [FIXN ความ] [VP [VATT ถี่] [AVBP [ADVN อ้างอิง]]]]] [PP [RPRE จาก] [NP [NCMN <space>] [PUNC <left_parenthesis>] [NP [NCMN <space>]]]] [JSBR ก็] [VP [XVBM จะ] [VP [VP [VSTA ได้] [PUNC <space>] [NP [FIXN ความ] [VATT ถี่]]] [NP [NCMN ผลต่าง] [PUNC <comma>] [NP [NCMN <space>] [NP [FIXN ความ] [VP [VSTA ถี่] [NP [NCMN ผลบวก]]]] [PUNC <comma>] [NP [NCMN <space>] [NP [NCMN ฮาร์โมนิคส์] [DONM ที่สอง]] [PUNC <comma>] [NP [NCMN <space>] [DONM สาม]] [PUNC ...] [NP [NCMN <space>] [PP [RPRE ของ] [NP [NCMN อินพุท] [DDAN ทั้งสอง] [NP [FIXN <space>] [VSTA คือ]]]]]] [PUNC <space>] [NP [RPRE จาก] [NP [NCMN <space>] [PUNC <left_parenthesis>] [PUNC <space>] [NCMN และ] [PUNC <space>] [PUNC <left_parenthesis>]]]]]]]]]]',\n",
       " '[S [PP [RPRE โดย] [VP [VSTA มี] [NP [NCMN เทคนิค]]]] [S [NP [FIXN การ] [VP [VACT สังเคราะห์] [NP [FIXN ความ] [VATT ถี่]]]] [JSBR โดย] [VP [VACT ใช้] [NP [NCMN พรีเสกลเลอร์] [NP [NCMN แบบ]] [PUNC <space>] [CLSP [DCNM สอง] [CNIT มอดูลัส]]]]]]',\n",
       " '[S [PP [RPRE โดย] [VP [VSTA มี] [NP [NCMN ค่า] [NP [NCMN ช่วง] [ADJP [VATT ห่าง]]]]]] [S [NP [NP [FIXN ความ] [VATT ถี่]] [PP [RPRE ของ] [NP [NCMN สัญญาณ] [CLSP [DIBQ แต่ละ] [CNIT ช่อง]]]]] [VP [VP [XVBM จะ] [VP [VSTA เท่า] [PP [RPRE กับ] [PUNC <space>] [NP [NCMN สัญญาณ]]]]] [AVBP [ADVN อ้างอิง]]]]]',\n",
       " '[S [PP [RPRE จาก] [NP [NCMN บล๊อค]]] [S [NP [NP [NCMN ไดอะแกรม] [VP [XVBM จะ] [VP [VSTA มี] [NP [NCMN ส่วน] [ADJP [VATT แตกต่าง] [PP [RPRE ระหว่าง] [PUNC <space>] [NP [NCMN เครื่องต้นแบบ]]]] [CLSP [CNIT เครื่อง] [DONM ที่ 1]]]]]] [PUNC <space>] [PP [RPRE และ] [PUNC <space>] [NP [NCNM 2]]]] [PUNC <space>] [VP [VSTA คือ]]]]',\n",
       " '[S [PP [RPRE ในที่นี้] [VP [JSBR เนื่องจาก] [NP [NCMN วงจร] [PP [RPRE ใน] [NP [NCMN บล๊อค] [NP [NCMN หมายเลข]] [PUNC <space>] [NP [NCNM 7]] [PUNC <space>] [NP [DDAC นั้น]]]]]]] [S [JSBR ให้] [NP [NCMN เอาท์พุท] [VP [VACT ออกมา] [NP [NCMN <space>] [CLSP [DCNM 2] [PUNC <space>] [CNIT สัญญาณ]]]]] [PUNC <space>] [VP [VSTA คือ] [NP [NCMN <space>] [PUNC <left_parenthesis>] [NP [NP [NCMN R]] [PUNC <space>] [PP [RPRE และ] [NP [NCMN <space>] [PUNC <left_parenthesis>] [NP [NCMN V]]]]]]]]]',\n",
       " '[S [PP [RPRE โดย] [VP [VSTA ผ่าน] [PP [RPRE ทาง] [NP [NCMN พอร์ท]]]]] [S [NP [NP [NCMN อนุกรม]] [PUNC <space>] [NP [NCMN RS-232c] [NP [NCMN <space>]]] [JCRG หรือ] [NP [NP [FIXN <space>] [NCMN RS-422]] [PUNC <space>] [PP [RPRE ด้วย] [NP [FIXN ความ] [VP [VATT เร็ว] [AVBP [NEG ไม่] [ADVN น้อย]]]]]]] [VP [VSTA กว่า] [PUNC <space>] [CLSP [DCNM 9,600] [PUNC <space>] [CMTR BPS]]]]]',\n",
       " '[S [PP [RPRE โดย] [VP [VSTA คลอบคลุม] [NP [NCMN แรงดัน]]]] [S [JSBR ตั้งแต่] [NP [NCMN <space>] [CLSP [DCNM -10] [CMTR v]]] [PUNC <space>] [VP [VSTA ถึง] [PUNC <space>] [CLSP [DCNM +10] [CMTR v]]]]]',\n",
       " '[S [PP [RPRE ใน] [NP [NP [NCMN ปัจจุบัน] [NP [NCMN ระบบเก็บข้อมูล] [VATT อัตโนมัติ] [NCMN <space>]] [PUNC <left_parenthesis>] [NP [NCMN Data Logger]] [PUNC <right_parenthesis>] [NP [FIXN <space>] [VP [XVAM ถูก] [VP [VACT นำมาใช้] [AVBP [ADVN มากขึ้น]]]]]] [PP [RPRE ใน] [NP [NCMN โรงงานอุตสาหกรรม]]]]] [S [NP [NCMN <space>] [JCRG และ] [NCMN ห้องปฎิบัติการวิจัย]] [JSBR เพื่อ] [VP [VACT เก็บ] [NP [NP [NCMN ข้อมูล] [PP [RPRE ทาง] [NP [NCMN กายภาพ] [DIAC ต่างๆ]]]] [PUNC <space>] [JSBR เช่น] [PUNC <space>] [NP [NP [NCMN อุณหภูมิ] [PUNC <space>] [NP [FIXN ความ] [VACT ดัน]]] [PUNC <space>] [NP [NP [NCMN ระยะทาง]] [PUNC <space>] [NP [NCMN อัตรา] [NP [FIXN การ] [VP [VACT ไหล] [NP [NCMN <space>]]]]] [JCRG และ] [NP [FIXN ความ] [VP [VSTA เป็น] [NP [NCMN กรด]]]]] [JCRG และ] [NP [NCMN ด่าง]]] [PUNC <space>] [PDMN เป็นต้น]]]]]',\n",
       " '[S [PP [RPRE เพื่อ] [VP [VACT นำ]]] [S [NP [NCMN ข้อมูล]] [VP [XVAE ไป] [VP [VACT ปรับปรุง] [NP [NCMN ขบวนการผลิต] [PP [RPRE ของ] [NP [NCMN โรงงาน]]]]]]]]',\n",
       " '[S [PP [RPRE โดย] [VP [VSTA ผ่าน] [NP [NCMN ทาง]]]] [S [NP [NCMN ระบบ]] [VP [VACT สื่อสาร] [NP [NCMN แบบ] [NP [NP [NCMN อนุกรม]] [PUNC <space>] [NP [NCMN RS-232C] [NP [NCMN <space>]]] [JCRG หรือ] [NP [FIXN <space>] [NCMN RS-422]]]]]]]',\n",
       " '[S [S [NP [NCMN จะ]] [VP [VSTA เห็น]]] [JSBR ว่า] [S [NP [NCMN ระบบ] [NP [NCMN แบบ] [DDAC นี้]]] [PUNC <space>] [VP [XVAM สามารถ] [VP [VACT ใช้] [PP [RPRE ใน] [NP [NCMN โรงงาน] [ADJC [PREL ที่] [VP [VSTA มี] [NP [NCMN จำนวน] [NP [NCMN จุดวัด] [ADJP [NEG ไม่] [VATT มาก]]]] [AVBP [ADVN นัก]] [PP [RPRE จนถึง] [NP [NCMN จำนวน] [NP [NCMN จุดวัด] [PP [RPRE เป็น] [CLSP [DCNM พันๆ] [PUNC <space>] [CNIT จุด]]]]]]]]]]]]]]',\n",
       " '[S [S [NP [NCMN และ]] [VP [JSBR เนื่องจาก] [NP [FIXN การ] [VP [VACT เชื่อมโยง] [AVBP [ADVN กัน]]]]]] [JSBR โดย] [S [NP [NCMN ระบบ]] [VP [VACT สื่อสาร] [NP [NP [NCMN อนุกรม]] [PUNC <space>] [NP [NCMN RS-232C] [NP [NCMN <space>]]] [JCRG หรือ] [NP [FIXN <space>] [NCMN RS-422]]] [PUNC <space>] [JSBR ทำให้] [VP [VSTA สะดวก] [PP [RPRE ใน] [NP [FIXN การ] [VACT เดินสาย]]]]]]]',\n",
       " '[S [PP [RPRE โดย] [PUNC <space>] [NP [NP [NCNM 1]] [PUNC <space>] [NP [NCMN ระบบ] [VP [XVBM จะ] [VP [VSTA ต่อ] [XVAE ได้]]]]]] [S [NP [NCMN ไม่]] [VP [VSTA เกิน] [PUNC <space>] [CLSP [DCNM 256] [PUNC <space>] [CNIT เครื่อง]]]]]',\n",
       " '[S [PP [RPRE เพื่อ] [VP [VACT แสดง] [NP [NP [NCMN ค่า] [ADJC [PREL ที่] [VP [VACT วัด] [XVMM ได้]]]] [JCRG หรือ] [NP [NCMN หมายเลข] [PP [RPRE ของ] [NP [NCMN จุด]]]]]]] [S [NP [NCMN ที่]] [VP [VACT วัด] [NP [PDMN เป็นต้น]]]]]',\n",
       " '[S [PP [RPRE เพื่อ] [VP [VACT ใช้] [PP [RPRE ใน] [NP [FIXN การ] [VACT บันทึก]]]]] [S [NP [NCMN เวลา] [JCRG และ] [NCMN ไม่]] [VP [VACT ให้] [NP [NCMN ข้อมูล]] [VP [VSTA หายไป] [JSBR เมื่อ] [VP [VSTA ไฟดับ]]]]]]',\n",
       " '[S [PP [RPRE โดย] [VP [VACT ใช้] [NP [FIXN การ] [VACT สื่อสาร]]]] [S [NP [NCMN แบบ] [NP [NP [NCMN อนุกรม] [PUNC <space>] [NCMN RS-232] [PUNC <space>] [NCMN C] [PUNC <space>] [JCRG หรือ] [PUNC <space>] [NCMN RS-422]] [PUNC <space>] [PP [RPRE ด้วย] [NP [FIXN ความ] [VP [VP [VATT เร็ว] [AVBP [NEG ไม่] [ADVN น้อย]]] [AVBP [ADVN กว่า]]]]]] [PUNC <space>] [CLSP [DCNM 9600] [PUNC <space>] [CMTR บิท]]] [VP [VACT ต่อ] [NP [NCMN วินาที]]]]]',\n",
       " '[S [PP [RPRE โดย] [VP [VACT ใช้]]] [S [NP [FIXN การ]] [VP [VACT สื่อสาร] [NP [NCMN แบบ] [NP [NCMN อนุกรม]] [PUNC <space>] [NP [NCMN RS-232C] [NP [NP [NCMN <space>]] [JCRG หรือ] [NP [NP [FIXN <space>] [NCMN RS-422]] [PUNC <space>] [PP [RPRE ด้วย] [NP [FIXN ความ] [VP [VP [VATT เร็ว] [AVBP [NEG ไม่] [ADVN น้อย]]] [AVBP [ADVN กว่า]]]]]]] [PUNC <space>] [CLSP [DCNM 9600] [PUNC <space>] [CMTR บิท]]] [PUNC <slash>] [NP [NCMN วินาที]]]]]]',\n",
       " '[S [PP [RPRE โดย] [VP [VACT แสดง] [AVBP [NEG ไม่] [ADVN เกิน]]]] [S [NP [NCMN ครั้ง]] [VP [VACT ละ] [NP [NCMN <space>] [CLSP [DCNM 1] [PUNC <space>] [CNIT จุด]]]]]]',\n",
       " '[S [PP [RPRE รวมทั้ง] [VP [VACT ควบคุม] [NP [FIXN การ] [VACT ติดต่อ]] [PP [RPRE กับ] [NP [NCMN หน่วยควบคุม]]]]] [S [NP [NCMN หลัก] [PP [RPRE ใน] [NP [FIXN การ]]]] [VP [VACT อ่าน] [NP [NCMN ข้อมูล]]]]]',\n",
       " '[S [NP [NCMN และ]] [JSBR ถ้า] [S [NP [NCMN หน่วยควบคุม] [ADJP [VATT หลัก]]] [VP [XVMM ต้องการ] [VP [VACT ติดต่อ] [PP [RPRE กับ] [NP [NCMN เครื่องเก็บข้อมูล]]]]]]]',\n",
       " '[S [PP [RPRE เพื่อ] [VP [VACT เก็บ] [NP [NCMN ข้อมูล]] [XVAE ลง]]] [S [NP [NCMN แผ่นดิสก์] [JCRG หรือ] [NCMN พิมพ์]] [VP [VACT รายงาน] [NP [NCMN ข้อมูล]]]]]',\n",
       " '[S [PP [RPRE บน] [NP [NCMN ซีพียู]]] [S [NP [NCMN บอร์ด]] [VP [XVBM จะ] [VP [VSTA มี] [NP [NCMN หน่วยความจำ] [NP [NCMN ชนิด] [NP [NCMN สเตติคแรม] [PUNC <space>] [PUNC <left_parenthesis>] [NCMN static RAM] [PUNC <right_parenthesis>] [PUNC <space>]] [NP [NCMN ขนาด]]] [PUNC <space>] [CLSP [DCNM 128] [PUNC <space>] [CMTR KB]]]]]]]',\n",
       " '[S [PP [RPRE ใน] [NP [NCMN ส่วน] [PP [RPRE ของ] [NP [NCMN ซีพียูบอร์ด] [DDAC นี้]]]]] [S [NP [FIXN <space>] [VP [XVAM สามารถ] [VP [VACT ทำงาน] [XVAE ได้] [PP [RPRE โดย] [NP [NCMN อิสระ]]] [JSBR ซึ่ง] [VP [XVMM อาจจะ] [VP [NEG ไม่] [VACT ใช้] [NP [NCMN อุปกรณ์] [DIAC ใดๆ]]]]]]] [PUNC <space>] [VP [VSTA ประกอบ] [VP [XVBM ก็] [XVAM สามารถ] [VACT ทำงาน] [XVAE ได้]]]]]',\n",
       " '[S [PP [RPRE โดย] [VP [XVBM จะ] [VSTA เป็น]]] [S [NP [NCMN การ์ด] [ADJC [PREL ที่] [VP [VACT เสียบ] [XVAE ลง] [PP [RPRE ใน] [NP [NCMN สล๊อต] [ADJC [PREL ที่] [VP [VACT ต่อ] [XVAE อยู่] [PP [RPRE กับ] [NP [NCMN ซีพียูบอร์ด]]]]]]]]]] [PUNC <space>] [VP [JSBR ซึ่ง] [VP [VSTA เป็น] [NP [NCMN บัส] [ADJC [PREL ที่] [ADJP [VATT เหมือน]] [PP [RPRE กับ] [NP [NCMN บัส] [PP [RPRE ของ] [NP [NCMN เครื่อง] [PUNC <space>] [NP [NCMN IBM PC]]]]]]]]]]]]',\n",
       " '[S [PP [RPRE โดย] [VP [XVAM สามารถ] [VP [VACT ให้]]]] [S [NP [NCMN ข้อมูล] [PUNC <space>] [NP [NCMN วัน] [PUNC <space>] [NCMN เดือน] [PUNC <space>] [NCMN ปี] [PUNC <space>] [NCMN และ]]] [VP [VACT เวลา] [NP [NP [NCMN <space>] [NP [NCMN ชั่วโมง] [PUNC <space>] [NCMN นาที] [PUNC <space>] [NCMN วินาที] [PUNC <space>] [JCRG และ] [PUNC <space>] [NCMN 1]] [PUNC <slash>] [CLSP [DCNM 100] [PUNC <space>] [CMTR วินาที]]] [PUNC <space>] [PP [RPRE แก่] [NP [NCMN ซีพียู]]]]]]]',\n",
       " '[S [PP [RPRE เพื่อ] [VP [VACT แปลง] [NP [NCMN สัญญาณ]]]] [S [NP [NCMN แบบ] [NP [NCMN อนาล็อก]]] [VP [VSTA เป็น] [NP [NCMN สัญญาณ] [NP [NCMN ดิจิตอล]]]]]]',\n",
       " '[S [PP [RPRE ใน] [NP [FIXN การ] [VACT ออกแบบ]]] [S [NP [DDAC นี้]] [VP [XVAM ได้] [VP [VACT ใช้] [NP [NCMN ไอซี] [NP [NCMN เบอร์]] [PUNC <space>] [NP [NP [NCMN SDM 862 H]] [PUNC <space>] [PP [RPRE ของ] [NP [NCMN บริษัท]]]] [PUNC <space>] [NP [NPRP Burr-Brown]]] [PUNC <space>] [JSBR ซึ่ง] [VP [VSTA เป็น] [NP [NCMN ไอซี] [NP [NCMN ขนาด] [ADJP [VATT ใหญ่]]]]]]]]]',\n",
       " '[S [PP [RPRE และ] [NP [NCMN แรงดัน]]] [S [NP [NCMN อินพุท] [ADJC [PREL ที่] [VP [VACT ป้อน] [PP [RPRE เข้า] [PUNC <space>] [NP [NCMN A]]]]]] [PUNC <space>] [VP [XVMM อาจจะ] [VP [VSTA เป็น] [PUNC <space>] [NP [NCMN 5] [NP [NP [NCMN V] [PUNC <comma>] [PUNC <space>] [NCMN 10] [PUNC V] [PUNC <space>]] [JCRG หรือ] [NP [NCMN <space>] [NP [NCNM 0]]]] [PUNC <minus>] [CLSP [DCNM 10] [CMTR V]]]]]]]',\n",
       " '[S [PP [RPRE ใน] [NP [FIXN การ] [VP [VACT แปลง] [NP [NCMN สัญญาณ] [NP [NCMN อนาล็อก]]] [VP [VSTA เป็น] [NP [NCMN สัญญาณ]]]]]] [S [NP [NCMN ดิจิตอล]] [VP [XVMM อาจจะ] [VP [VACT แปลง] [NP [DIBQ ทีละ] [NP [NCMN <space>] [CLSP [DCNM 8] [PUNC <space>] [CMTR บิท]]]]]]]]',\n",
       " '[S [PP [RPRE ใน] [NP [NP [FIXN การ] [VP [VACT เลือก] [NP [NCMN อัตรา] [NP [FIXN การ] [VACT ขยาย]]]]] [JCRG และ] [NP [NCMN ขนาด] [PP [RPRE ของ] [NP [NCMN แรงดัน]]]]]] [S [NP [NCMN อินพุท] [DDAC นั้น]] [PUNC <space>] [VP [XVAM สามารถ] [VP [VACT ทำ] [XVAE ได้] [JSBR โดย] [NP [FIXN การ] [VP [VACT ต่อ] [NP [NCMN ขา] [NP [NCMN ไอซี]]] [AVBP [ADVN เข้าด้วยกัน]]]]]]]]',\n",
       " '[S [PP [RPRE โดย] [VP [XVMM เพียงแต่] [VP [VACT ปรับ] [NP [NCMN อัตรา]]]]] [S [NP [FIXN การ] [VP [VACT ขยาย] [PP [RPRE ของ] [PUNC <space>] [NP [NCMN Instrument Amplifier]]]]] [PUNC <space>] [VP [VP [XVAM ให้] [VP [VSTA เหมาะสม] [PP [RPRE กับ] [NP [NCMN เทอร์โมคับเปิ้ล] [CLSP [DIBQ แต่ละ] [CLTV ชนิด]]]]]] [AVBP [ADVN เท่านั้น]]]]]',\n",
       " '[S [PP [RPRE ใน] [NP [FIXN การ] [VACT ทดลอง]]] [S [NP [DIBQ แต่ละ] [NCMN วงจร]] [PUNC <space>] [VP [VSTA ปรากฎ] [JSBR ว่า] [VP [VACT ทำงาน] [XVAE ได้] [JSBR ตามที่] [NP [VACT ออกแบบ] [VACT ไว้]]]]]]',\n",
       " '[S [S [NP [NCMN และ]] [VP [VACT แบ่ง] [NP [NCMN แรงดัน]] [VP [VACT ป้อน] [PP [RPRE เข้า] [NP [NCMN อินพุท] [NP [NCMN ทั้ง]] [PUNC <space>] [CLSP [DCNM 16] [PUNC <space>] [CNIT จุด]]]] [PUNC <space>] [VP [VSTA ปรากฎ]]]]] [JSBR ว่า] [S [NP [NCMN เครื่อง]] [VP [XVAM สามารถ] [VP [VACT ทำงาน] [XVAE ได้] [PP [RPRE ตาม] [NP [NCMN ข้อกำหนด]]]]]]]',\n",
       " '[S [S [NP [NCMN โครงการพัฒนาเทคโนโลยีเพื่อผลิตมอเตอร์ในอุตสาหกรรมเครื่องใช้ไฟฟ้า] [PUNC <space>] [PUNC <left_parenthesis>] [NCMN โครงการมอเตอร์] [PUNC <right_parenthesis>] [PUNC <space>]] [VP [VSTA เริ่มต้น] [PP [RPRE จาก] [NP [FIXN การ]]]]] [JSBR ที่] [S [NP [NCMN รัฐบาล]] [VP [VACT เร่ง] [VP [VACT ดำเนิน] [NP [NCMN นโยบาย] [NP [FIXN การ] [VACT เติบโต]]] [PP [RPRE ทาง] [NP [NCMN เศรษฐกิจ]]]] [JSBR ให้] [VP [VSTA เป็นไป] [PP [RPRE ตาม] [NP [NCMN จุดมุ่งหมาย]]]]]]]',\n",
       " '[S [PP [RPRE โดย] [VP [XVMM ต้อง] [VACT เสนอ]]] [S [NP [NCMN รายละเอียด] [PP [RPRE ของ] [NP [NCMN โครงการ]]]] [VP [VACT ต่อ] [NP [NCMN หน่วยงาน]] [PUNC <space>] [JSBR ที่] [VP [VSTA เกี่ยวข้อง] [PP [RPRE ตาม] [NP [NCMN ลำดับขั้น]]]]]]]',\n",
       " '[S [PP [RPRE โดย] [NP [NP [VACT พิจาณา] [VACT คัดเลือก]] [PP [RPRE จาก] [NP [FIXN ความ] [VSTA พร้อม]]]]] [S [NP [NCMN <space>] [JCRG และ] [NCMN ความ]] [VP [VSTA รู้] [NP [FIXN ความ] [XVAM สามารถ]] [AVBP [FIXV โดย] [VATT เฉพาะ]] [PP [RPRE ทาง] [NP [NCMN ด้าน] [NP [NCMN มอเตอร์ไฟฟ้า]]]]]]]',\n",
       " '[S [PP [RPRE และ] [NP [NCMN คณะ]]] [S [NP [NCMN กรรมการ] [NP [NCMN ทั้ง]] [PUNC <space>] [NP [NCNM 2]] [PUNC <space>] [NP [NCMN คณะ] [DDAC นี้]]] [PUNC <space>] [VP [VSTA มี] [NP [NCMN หน้าที่]] [VP [VACT กำหนด] [NP [NCMN นโยบาย] [PP [RPRE ให้กับ] [NP [NCMN โครงการพัฒนามอเตอร์ไฟฟ้า]]]] [AVBP [ADVN ด้วย]]]]]]',\n",
       " '[S [S [NP [NCMN และ]] [VP [VACT รายงาน] [NP [NCMN ผล] [NP [FIXN การ] [VACT ปฏิบัติงาน]]]]] [JSBR ให้] [S [NP [NCMN คณะ] [NP [NCMN อนุกรรมการที่ปรึกษา]]] [VP [VSTA ทราบ]]]]',\n",
       " '[S [PP [RPRE เพื่อ] [VP [VSTA เป็น]]] [S [NP [NCMN แนวทาง] [PP [RPRE ใน] [NP [FIXN การ]]]] [VP [VACT ดำเนินงาน]]]]',\n",
       " '[S [PP [RPRE รวมทั้ง] [VP [VACT แสดง] [NP [NCMN สมรรถนะ] [PP [RPRE ของ] [NP [NCMN มอเตอร์]]]]]] [S [NP [NCMN ไฟฟ้า] [PUNC <space>] [NP [NCMN และ]]] [VP [JSBR เพื่อ] [NP [FIXN ความ] [VP [VSTA สมบูรณ์] [PP [RPRE ของ] [NP [NCMN โปรแกรม]]]]]]]]',\n",
       " '[S [PP [PREL ซึ่ง] [VP [XVAM สามารถ] [VP [VACT นำ] [XVAE ออก] [VP [VACT เผยแพร่] [NP [NCMN ผู้สนใจ]] [VP [XVAM ได้] [VP [VSTA เป็น] [NP [NCMN จำนวน]]]]]]]] [S [NP [NCMN <space>] [CLSP [DCNM 3] [PUNC <space>] [CNIT รุ่น]]] [PUNC <space>] [VP [VSTA คือ]]]]',\n",
       " '[S [PP [RPRE โดย] [VP [VSTA เพิ่มขึ้น]]] [S [NP [NCMN ทั้ง] [PP [RPRE ใน] [NP [NCMN ภาคอุตสาหกรรม]]]] [VP [VACT บริการ] [NP [PDMN และอื่นๆ]]]]]',\n",
       " '[S [PP [RPRE โดย] [ADJP [VATT เฉพาะ]]] [S [NP [NP [NCMN อย่าง] [ADJP [VATT ยิ่ง]]] [PUNC <space>] [NP [NCMN อุตสาหกรรม]]] [VP [VACT ผลิต] [NP [NP [NCMN มอเตอร์]] [NP [NCMN ไฟฟ้า] [VP [VSTA เป็น] [NP [NCMN อุตสาหกรรม] [ADJC [PREL ที่] [VP [VACT ใช้] [NP [NCMN แรงงาน]] [AVBP [ADVN มาก]]]]]]] [PUNC <space>] [JSBR ซึ่ง] [VP [VSTA เหมาะสม] [PP [RPRE กับ] [NP [NPRP ประเทศไทย]]]]] [VP [VSTA เป็น] [AVBP [FIXV อย่าง] [ADVN ยิ่ง]]]]]]',\n",
       " '[S [PP [RPRE เพื่อ] [VP [VSTA เป็น] [NP [NCMN พื้นฐาน]] [JSBR ก่อนที่จะ] [VP [VSTA เริ่ม] [NP [NCMN งาน] [PP [RPRE ใน] [NP [NCMN อุตสาหกรรม]]]]]]] [S [NP [NCMN ขนาด]] [VP [VATT ใหญ่] [AVBP [ADVN ต่อไป]]]]]',\n",
       " '[S [PP [RPRE เพื่อ] [ADJP [VATT เพิ่ม]]] [S [NP [NCMN กำลัง]] [VP [VACT ซื้อ] [PP [RPRE ให้กับ] [NP [NCMN ประชาชน]]]]]]',\n",
       " '[S [PP [RPRE โดย] [VP [VSTA มี] [NP [NCMN ไมโครโปรเซสเซอร์]]]] [S [NP [CNIT เบอร์] [PUNC <space>] [NCNM 8085]] [PUNC <space>] [VP [VSTA เป็น] [NP [NCMN หน่วยประมวลผลกลาง]]]]]',\n",
       " '[S [PP [RPRE ใน] [NP [NCMN ปัจจุบัน]]] [S [NP [NCMN อุปกรณ์] [ADJC [PREL ที่] [VP [VACT ใช้] [VACT ควบคุม]]] [DDAC เหล่านี้]] [PUNC <space>] [VP [XVBM จะ] [XVAM ถูก] [VP [VACT แทนที่] [PP [RPRE ด้วย] [PUNC <space>] [NP [NCMN PC]]] [PUNC <space>] [VP [JSBR ซึ่ง] [VP [VSTA มี] [NP [NP [NCMN ขนาด] [ADJP [VATT เล็ก] [AVBP [ADVN กว่า] [ADVN หลาย]]] [CLSP [DCNM สิบ] [CMTR เท่า]]] [PUNC <space>] [PP [RPRE และ] [VP [NEG ไม่] [VSTA มี] [NP [NCMN สายระโยงระยาง]]]]] [VP [VSTA เหมือน] [NP [NCMN ระบบ] [ADJP [VATT เก่า]]]]]]]]]]',\n",
       " '[S [PP [RPRE ใน] [NP [FIXN การ] [VACT ป้อน]]] [S [NP [NCMN โปรแกรมคำสั่ง] [VP [VACT ทำ] [XVAE ได้] [JSBR โดย] [NP [NP [FIXN การ] [VACT แปลง]] [PUNC <space>] [NP [NCMN Ledder Diagram]]]]] [PUNC <space>] [VP [VACT ให้] [XVAE อยู่] [PP [RPRE ในรูป] [NP [NCMN โปรแกรม] [NP [NCMN ที่]] [PUNC <space>] [NP [NCMN PC]] [PUNC <space>] [NP [NCMN เข้าใจ]]]]]]]',\n",
       " '[S [PP [RPRE คือ] [PUNC <space>] [NP [NCMN ส่วน] [DONM แรก]]] [S [NP [NP [NCMN หน่วยควบคุม] [PUNC <space>] [PUNC <left_parenthesis>] [NCMN Control Unit] [PUNC <right_parenthesis>] [PUNC <space>]] [JCRG หรือ] [NP [NCMN ที่]]] [VP [VACT เรียก] [PP [RPRE ว่า] [PUNC <space>] [NP [NCMN BASIC UNIT]]] [PUNC <space>] [VP [XVBM จะ] [VP [VACT ทำหน้าที่] [PP [RPRE ใน] [NP [FIXN การ] [VP [VACT อ่าน] [NP [NCMN อินพุท]]]]]]]]]]',\n",
       " '[S [PP [RPRE เพื่อ] [VP [VACT ควบคุม]]] [S [NP [NCMN ระบบ] [ADJC [PREL ที่] [VP [VACT ต้องการ] [AVBP [ADVN อีก]]]]] [VP [JSBR ที่] [NP [NCMN หนึ่ง]]]]]',\n",
       " '[S [PP [RPRE เพื่อ] [VP [VACT ควบคุม] [NP [NCMN อุปกรณ์]]]] [S [NP [NCMN กำลัง]] [VP [VP [VATT ภายนอก] [AVBP [ADVN อีก]]] [NP [NCMN ที] [DIAC หนึ่ง]]]]]',\n",
       " '[S [NP [NCMN เหตุผล] [PP [RPRE ใน] [NP [FIXN การ] [VACT เลือก]]]] [JSBR เนื่องจาก] [S [NP [NCMN <space>] [NP [NCNM 8085]]] [PUNC <space>] [VP [VSTA เป็น] [NP [NP [NCMN ไมโครโปรเซสเซอร์]] [PUNC <space>] [PP [PREL ที่] [VP [VACT ออกแบบ] [XVAE มา] [VP [JSBR เพื่อ] [VP [VACT ใช้] [PP [RPRE ใน] [NP [FIXN การ] [VP [VACT ควบคุม] [AVBP [FIXV โดย] [VATT เฉพาะ]]]]] [PUNC <space>] [VP [VP [VSTA มี] [NP [NCMN ระบบ] [NP [NCMN บัส]]] [VP [VSTA เป็น] [NP [NCMN มัลติเพล็ก] [NP [NCMN <space>]]]]] [JCRG และ] [VP [VSTA มี] [NP [NCMN อุปกรณ์สนับสนุน] [ADJC [PREL ที่] [ADJP [VATT ดี]]]] [VP [XVAM สามารถ] [VP [VACT ทำให้] [NP [NCMN ระบบ] [ADJC [PREL ที่] [VP [VACT ออกแบบ] [VP [VSTA มี] [NP [NCMN ขนาด] [ADJP [VATT เล็ก]]]]]]] [AVBP [ADVN ลง] [XVAE ได้]]]]]]]]]]]]]]',\n",
       " '[S [PP [RPRE เพื่อ] [VP [VACT ส่ง] [XVAE ไป] [VP [VACT ให้] [NP [NCMN ซีพียู]] [PUNC <space>] [JSBR ซึ่ง] [VP [XVBM จะ] [VP [VACT ทำหน้าที่] [VP [VACT ประมวลผล] [JCRG และ] [VACT ส่ง]]]]]]] [S [NP [NCMN สัญญาณ]] [VP [VP [XVAE ไป] [VP [VACT ควบคุม] [NP [NCMN ระบบ]] [JSBR ให้] [VP [VACT ทำงาน] [AVBP [ADVN ตามลำดับขั้น]]]]] [NP [NCMN <space>] [PUNC <left_parenthesis>] [NP [NCMN Sequence] [PUNC <right_parenthesis>] [NP [NCMN <space>] [ADJC [PREL ที่] [VP [VACT ต้องการ]]]]]]]]]',\n",
       " '[S [S [NP [NCMN วอท์ชดอก ไทเมอร์]] [VP [XVBM จะ] [VP [VACT ทำ] [NP [FIXN การ] [VACT รีเซท]]]]] [JSBR ให้] [S [NP [NCMN ซีพียู]] [VP [VP [VACT กลับ] [PP [RPRE เข้าสู่] [NP [NCMN ระบบ]]]] [JCRG และ] [VP [VACT เริ่มต้น] [NP [FIXN การ] [VACT ทำงาน]] [AVBP [ADVN ใหม่] [ADVN อีก]] [NP [NCMN ครั้ง] [DIAC หนึ่ง]]]]]]',\n",
       " '[S [PP [RPRE เพื่อ] [VP [VSTA เป็น] [NP [FIXN การ] [VACT บอก]] [VP [VACT ให้] [NP [NCMN วอท์ชดอก ไทเมอร์]] [VP [VSTA รู้] [JSBR ว่า]]]]] [S [NP [NCMN ซีพียู]] [VP [XVBM ยัง] [VP [VACT ทำงาน] [AVBP [ADVN ตามปกติ] [XVAE อยู่]]]]]]',\n",
       " '[S [PP [PREL ซึ่ง] [VP [XVBM จะ] [VP [VSTA ทำให้] [PUNC <space>] [NP [NP [NCMN IC]] [PUNC <space>] [PP [RPRE ใน] [NP [NCMN ระบบ]]]]]]] [S [NP [NCMN ไม่]] [VP [XVAM สามารถ] [VP [VACT ทำงาน] [XVAE ได้] [AVBP [ADVN ถูกต้อง]]]]]]',\n",
       " '[S [PP [RPRE โดย] [VP [VACT ทำงาน] [VP [VACT ร่วม] [PP [RPRE กับ] [NP [NCMN แบตเตอรี]]]] [JSBR เพื่อ] [VP [VACT จ่าย]]]] [S [NP [NP [NCMN ไฟสำรอง] [PUNC <space>] [PUNC <left_parenthesis>] [NCMN Back up] [PUNC <right_parenthesis>] [PUNC <space>]] [PP [RPRE ให้กับ] [NP [NCMN ข้อมูล] [ADJC [PREL ที่] [VP [VSTA อยู่] [NP [RPRE ใน] [NP [NCMN หน่วยความจำ]]] [NEG ไม่] [XVAE ให้]]]]]] [VP [VSTA หาย] [XVAE ไป]]]]',\n",
       " '[S [PP [RPRE ใน] [NP [FIXN การ] [VACT ออกแบบ]]] [S [NP [NCMN วงจร]] [VP [VACT เลือก] [NP [NCMN ใช้] [PUNC <space>] [NP [NCMN Lithium]]] [PUNC <space>] [JSBR ซึ่ง] [VP [VSTA มี] [NP [NCMN อายุ] [NP [NP [FIXN การ] [VP [VACT ใช้งาน] [AVBP [ADVN นาน]]]] [PP [RPRE ถึง] [PUNC <space>] [NP [NCNM 2]]]] [PUNC <minus>] [CLSP [DCNM 3] [PUNC <space>] [CMTR ปี]]]]]]]',\n",
       " '[S [PP [RPRE โดย] [VP [XVBM จะ] [VP [VACT แปลง] [NP [NCMN ระดับ]]]]] [S [NP [NCMN สัญญาณ] [ADJC [PREL ที่] [VP [VSTA ได้รับ] [XVAE มา]]]] [JSBR ให้] [VP [VSTA เหมาะสม]]]]',\n",
       " '[S [PP [RPRE โดย] [VP [VACT ใช้] [NP [NCMN วงจรกรอง]] [VP [VSTA เป็น]]]] [S [NP [NCMN ตัวกรองสัญญาณรบกวน]] [VP [VACT ออก]]]]',\n",
       " '[S [PP [RPRE เพื่อ] [VP [VACT ป้องกัน]]] [S [NP [NCMN สัญญาณรบกวน] [ADJC [PREL ที่] [VP [XVMM อาจ] [VP [VSTA ปะปน] [VACT ผ่าน] [VACT เข้ามา]]]]] [VP [VSTA ได้]]]]',\n",
       " '[S [PP [RPRE โดย] [VP [VACT ใช้] [NP [NCMN วงจรกรองผ่านต่ำ] [PUNC <space>] [PUNC <left_parenthesis>] [NCMN Low Pass Filter] [PUNC <right_parenthesis>] [PUNC <space>]]]] [S [NP [NCMN RC]] [PUNC <space>] [VP [VSTA เป็น] [NP [NCMN ตัวป้องกัน]]]]]',\n",
       " '[S [PP [RPRE เพื่อ] [VP [VACT ป้องกัน] [NP [NCMN ระดับ]]]] [S [NP [NCMN แรงดันไฟ]] [VP [VSTA เกิน] [PP [RPRE จาก] [NP [NCMN ภายนอก]]]]]]',\n",
       " '[S [PP [RPRE ใน] [NP [FIXN การ] [VACT ควบคุม]]] [S [NP [DDAC นี้]] [VP [XVAM ได้] [VP [VACT ใช้] [NP [NCMN ฮาร์ดแวร์]] [VP [VACT ช่วย] [PP [RPRE ใน] [NP [FIXN การ] [VP [VACT สแกน] [NP [NP [NCMN คีย์บอร์ด]] [PUNC <space>] [PP [RPRE และ] [NP [NCMN หน่วยแสดงผล]]]] [VP [VSTA แทน] [NP [FIXN การ] [VP [VACT สแกน] [PP [RPRE ด้วย] [NP [NCMN ซอฟท์แวร์]]]]]]]]]]]]]]',\n",
       " '[S [PP [RPRE ในที่นี้] [VP [XVBM จะ] [VP [VACT กล่าว] [PP [RPRE ถึง] [ADJP [VATT เฉพาะ]]]]]] [S [NP [NCMN โปรแกรมหลัก] [AVBP [ADVN เท่านั้น]]] [VP [JSBR เพื่อ] [NP [NCMN ง่าย] [PP [RPRE แก่] [NP [FIXN การ] [VP [VACT ทำ] [NP [FIXN ความ] [VSTA เข้าใจ]]]]]]]]]',\n",
       " '[S [PP [RPRE โดย] [NP [NCMN จะ]]] [S [NP [VACT วน] [VACT ทำ]] [VP [VSTA เป็น] [NP [NCMN ลูป] [PUNC <space>] [PUNC <left_parenthesis>] [NCMN Loop] [PUNC <right_parenthesis>] [PUNC <space>]] [AVBP [ADVN ตลอดเวลา]]]]]',\n",
       " '[S [PP [RPRE จาก] [NP [NCMN โฟล์วชาร์ท] [PP [RPRE ของ] [NP [NCMN โปรแกรม]]]]] [S [NP [NCMN หลัก]] [PUNC <space>] [VP [VSTA ประกอบ] [PP [RPRE ด้วย] [NP [NCMN องค์ประกอบ] [PP [RPRE ดัง] [NP [DDAC นี้]]]]]]]]',\n",
       " '[S [PP [RPRE เมื่อ] [NP [NCMN โปรแกรม] [VP [VSTA มี]]]] [S [NP [NCMN แบบฟอร์ม] [PP [RPRE ของ] [NP [NCMN คำสั่ง]]]] [VP [VSTA ถูกต้อง] [XVAE แล้ว] [AVBP [ADVN เท่านั้น]]]]]',\n",
       " '[S [PP [RPRE เพื่อ] [NP [VACT แจ้ง] [VACT ให้]]] [S [NP [NCMN ผู้ใช้]] [VP [VSTA ทราบ]]]]',\n",
       " '[S [PP [RPRE ใน] [NP [FIXN การ] [VACT ทำวิจัย]]] [S [NP [DDAC นี้]] [PUNC <space>] [VP [XVBM จะ] [VP [VACT เขียน] [NP [NCMN โปรแกรมบริการเฉพาะตัว]] [VP [VACT ป้อน] [NP [NCMN โปรแกรม]] [AVBP [ADVN เท่านั้น]]]]]]]',\n",
       " '[S [PP [RPRE โดย] [VP [VACT แบ่ง] [NP [NCMN โหมด]]]] [S [NP [FIXN การ] [VACT ทำงาน]] [VP [VSTA เป็น] [PUNC <space>] [CLSP [DCNM 2] [PUNC <space>] [CNIT โหมด]]]] [JSBR คือ] [S [NP [NCMN โหมด] [NP [NP [NCMN โปรแกรม]] [PUNC <space>] [PP [RPRE และ] [NP [NCMN โหมด]]]]] [VP [VACT ทำงาน]]]]',\n",
       " '[S [PP [RPRE ใน] [NP [NCMN โหมด]]] [S [NP [NP [NP [NCMN โปรแกรม] [PUNC <space>] [PUNC <left_parenthesis>] [NCMN Program Mode] [PUNC <right_parenthesis>] [PUNC <space>]] [DDAC นี้]] [PUNC <space>] [NP [NCMN ผู้ใช้]]] [VP [XVAM สามารถ] [VP [VACT ป้อน] [NP [NCMN โปรแกรมขั้นบันได]] [VP [VACT ลง] [XVAE ไป] [PP [RPRE ใน] [NP [NCMN หน่วยความจำ] [PP [RPRE ของ] [PUNC <space>] [NP [NCMN PC]]]]]]]]]]',\n",
       " '[S [PP [RPRE พร้อมทั้ง] [VP [VACT ส่ง]]] [S [NP [NCMN สัญญาณ]] [VP [XVAE ไป] [VP [VACT รีเซท] [NP [FIXN <space>] [NCMN WATCHDOG TIMER]]]]]]',\n",
       " '[S [PP [RPRE เมื่อ] [NP [NP [VACT ตรวจ] [VACT พบ]] [PP [RPRE ว่า] [PUNC <space>] [NP [NCMN ระดับไฟ] [PP [RPRE ของ] [NP [NCMN แหล่งจ่ายไฟสำรอง] [ADJP [VATT ต่ำ] [AVBP [ADVN กว่า]]]]]]]]] [S [NP [NCMN ระดับ] [ADJC [PREL ที่] [VP [XVBM จะ] [VP [VACT ทำให้] [NP [NCMN วงจร]]]]]] [VP [XVAM สามารถ] [VP [VACT ทำงาน] [XVAE ได้] [AVBP [ADVN ถูกต้อง]]]]]]',\n",
       " '[S [S [NP [NCMN ซีพียู] [VP [XVBM จะ] [VP [VACT ส่ง] [NP [NCMN สัญญาณ] [PUNC <space>] [NP [NCMN ERROR]]]]]] [PUNC <space>] [VP [VACT บอก]]] [JSBR ให้] [S [NP [NCMN ผู้ใช้]] [VP [VSTA ทราบ]]]]',\n",
       " '[S [PP [RPRE เพื่อ] [VP [VACT ทดสอบ]]] [S [NP [FIXN การ] [VP [VACT ทำงาน] [PP [RPRE ของ] [NP [NCMN เครื่องจักร] [ADJC [PREL ที่] [VP [VACT ต้องการ]]]]]]] [VP [VACT ควบคุม] [XVAE ได้] [AVBP [ADVN อีกด้วย]]]]]',\n",
       " '[S [PP [RPRE ใน] [NP [NCMN โหมดทำงาน] [PUNC <space>] [PUNC <left_parenthesis>] [NCMN Run Mode] [PUNC <right_parenthesis>] [PUNC <space>]]] [S [NP [NCMN ซีพียู]] [VP [XVBM จะ] [VP [VACT ทำ] [NP [NCMN โปรแกรมขั้นบันได]]]]]]',\n",
       " '[S [PP [PREL ซึ่ง] [VP [VACT ทำให้] [NP [FIXN การ] [VACT ตรวจ]] [VP [VACT ซ่อม] [JCRG และ] [VACT แก้ไข]]]] [S [NP [NCMN โปรแกรม]] [VP [VACT ทำ] [XVAE ได้] [AVBP [ADVN ง่าย]]]]]',\n",
       " '[S [NP [NCMN เครื่อง]] [JSBR จะ] [S [NP [NCMN ไม่]] [VP [VACT ทำงาน]]]]',\n",
       " '[S [S [NP [NCMN และ]] [VP [VACT แสดง] [NP [NCMN ผล]]]] [JSBR ให้] [S [NP [NCMN ผู้ใช้]] [VP [VSTA ทราบ]]]]',\n",
       " '[S [PP [RPRE เพื่อ] [NP [VACT ใช้] [VACT ควบคุม]]] [S [NP [FIXN การ] [VP [VACT ทำงาน] [PP [RPRE ของ] [NP [NCMN เครื่องจักร]]]]] [VP [VACT ภายนอก] [NP [NCMN อินพุท]]]]]',\n",
       " \"[S [PP [RPRE เช่น] [PUNC <space>] [NP [NCMN รีเลย์]]] [S [NP [NCMN เบอร์] [NP [NCMN <space>] [PUNC '000'] [NP [NCMN <space>]]]] [VP [VSTA มี] [NP [NCMN สภาวะ] [NP [FIXN การ] [VACT ทำงาน]]] [AVBP [ADVN จริง] [XVAE อยู่]]]]]\",\n",
       " '[S [S [NP [NCMN โปรแกรม]] [VP [XVBM จะ] [VP [VACT ทำ] [NP [FIXN การ] [VACT เช็ค]]]]] [JSBR ว่า] [S [NP [NCMN ตัวตั้งเวลา] [NP [NCMN ตัว] [DIAC ใด]]] [VP [VACT ทำงาน] [VP [VSTA อยู่]]]]]',\n",
       " '[S [PP [RPRE เมื่อ] [NP [RPRE ถึง] [NP [NCMN เวลา] [VP [XVBM จะ] [VP [VACT ทำ] [NP [FIXN การ] [VACT ลด]]]]]]] [S [NP [NCMN ค่า] [PP [RPRE ของ] [NP [NCMN ตัวตั้งเวลา] [DDAC นั้น]]]] [VP [VACT ลง] [NP [DIBQ ทีละ] [PUNC <space>] [NCMN 1]]]]]',\n",
       " '[S [PP [RPRE ใน] [NP [FIXN การ] [VACT ประมวลผล]]] [S [NP [NCMN คำสั่ง]] [VP [XVBM จะ] [XVMM ต้อง] [VP [VACT นำ] [NP [NP [NCMN โค๊ด]] [PUNC <space>] [PP [RPRE ใน] [NP [NP [DIBQ แต่ละ] [NP [NCMN ขั้นโปรแกรม] [PUNC <space>] [PUNC <left_parenthesis>] [NCMN Step] [PUNC <right_parenthesis>] [PUNC <space>]]] [ADJC [PREL ที่] [VP [VACT เก็บ] [PP [RPRE ใน] [NP [NCMN โปรแกรมผู้ใช้] [PUNC <space>] [PUNC <left_parenthesis>] [NCMN User Memory] [PUNC <right_parenthesis>] [PUNC <space>]]]]]]]] [JSBR ซึ่ง] [VP [VSTA เป็น] [NP [NCMN โค๊ด] [PP [RPRE ของ] [NP [NCMN คำสั่ง] [PP [RPRE เช่น] [PUNC <space>] [NP [NCMN LD] [NP [NCMN <space>]] [PUNC <equal>] [NP [NCMN <space>] [NP [NCNM 01]] [PUNC <comma>] [NP [NCMN <space>] [NP [NCMN OUT] [NP [NCMN <space>]]]] [PUNC <equal>] [NP [NCMN <space>] [NP [NCNM 07]]]] [PUNC <space>] [NP [PDMN เป็นต้น]]]]]]]]]]]]',\n",
       " '[S [PP [RPRE เพื่อ] [VP [VACT หา]]] [S [NP [NCMN แอดเดรส] [PP [RPRE ของ] [PUNC <space>] [NP [NCMN ACTION ROUTINE]]]] [PUNC <space>] [VP [XVBM ที่] [VACT ต้องการ]]]]',\n",
       " '[S [PP [RPRE เมื่อ] [VP [VACT พบ] [JCRG แล้วก็] [NP [NCMN จะ]]]] [S [NP [NCMN ประมวลผล]] [VP [VSTA ตาม] [PUNC <space>] [NP [NCMN ACTION ROUTLINE] [PUNC <space>] [NP [NCMN นั้นๆ]]]]]]',\n",
       " '[S [PP [RPRE เพื่อ] [VP [VACT หา] [NP [NCMN สภาวะ]]]] [S [NP [FIXN การ]] [VP [VACT ทำงาน] [PP [RPRE ของ] [NP [NCMN รีเลย์] [ADJP [VATT ภายใน]]]]]]]',\n",
       " '[S [PP [RPRE โดย] [NP [NCMN ไม่] [VP [XVMM ต้อง] [VP [VSTA เสียเวลา] [PP [RPRE ใน] [NP [FIXN การ] [VACT เปิด]]]]]]] [S [NP [NCMN ตาราง]] [VP [VSTA เหมือน] [NP [NCMN วิธี] [DONM แรก]]]]]',\n",
       " '[S [PP [RPRE เพื่อ] [NP [NCMN โหลด]]] [S [NP [NCMN แอดเดรส] [DDAC นั้น]] [VP [VACT เข้าไป] [PP [RPRE ใน] [PUNC <space>] [NP [NCMN PROGRAM COUNTER]]]]]]',\n",
       " '[S [PP [RPRE โดย] [VP [VSTA มี] [NP [NCMN ลักษณะ] [ADJP [VATT ทั่วไป] [PP [RPRE ของ] [NP [NP [NCMN ระบบ]] [PUNC <space>] [PP [PREL ซึ่ง] [VP [VSTA ประกอบ] [PP [RPRE ด้วย] [NP [NCMN สายพาน] [VP [VACT ลำเลียง] [NP [NCMN แนวนอน] [PUNC <space>] [PUNC <left_parenthesis>] [NCMN Horizontal] [PUNC <right_parenthesis>] [PUNC <space>]]]]]]]]]] [CLSP [DCNM 5] [PUNC <space>] [CNIT ชุด]]]]] [S [NP [NCMN <space>] [JCRG และ] [NCMN สายพาน]] [VP [VACT ลำเลียง] [NP [NP [NCMN แนวดิ่ง] [PUNC <space>] [PUNC <left_parenthesis>] [NCMN Vertical] [PUNC <right_parenthesis>] [PUNC <space>]] [CLSP [DCNM 1] [PUNC <space>] [CNIT ชุด]]]]]]',\n",
       " '[S [PP [RPRE โดย] [NP [DIBQ แต่ละ] [NCMN วัน]]] [S [NP [NCMN ระบบ] [VP [XVBM จะ] [VP [VACT ทำงาน] [AVBP [ADVN ติดต่อกัน] [ADVN นาน]]]]] [VP [VSTA ถึง] [PUNC <space>] [CLSP [DCNM 8] [PUNC <space>] [CMTR ชั่วโมง]]]]]',\n",
       " '[S [PP [RPRE โดย] [VP [VSTA มี] [NP [NCMN ปุ่ม]]]] [S [NP [NCMN คำสั่ง] [JCRG และ] [NCMN การ]] [VP [VACT แสดง] [NP [NCMN ผล] [ADJC [PREL ที่] [VP [VSTA สำคัญ] [JSBR ดังต่อไปนี้]]]]]]]',\n",
       " '[S [PP [PREL ซึ่ง] [VP [VACT ทำให้] [NP [NCMN ราคา]]]] [S [NP [NP [NCMN ชิ้นส่วน] [NP [NCMN ไมโครอิเล็กทรอนิกส์]]] [PUNC <space>] [PP [RPRE และ] [NP [NCMN อิเล็กทรอนิกส์กำลัง]]]] [VP [VP [VSTA ลดลง] [AVBP [FIXV อย่าง] [ADVN มาก]]] [AVBP [ADVN นั่นเอง]]]]]',\n",
       " '[S [PP [RPRE โดย] [VP [VSTA มี] [NP [NCMN ไมโครคอมพิวเตอร์]]]] [S [NP [NCMN ชิพ] [DIAC เดียว]] [VP [VSTA เป็น] [NP [NCMN ตัว]] [VP [VACT ควบคุม] [NP [FIXN การ] [VP [VACT ทำงาน] [PP [RPRE ของ] [NP [NCMN อินเวอร์เตอร์]]]]] [PUNC <space>] [JSBR ซึ่ง] [VP [VSTA เป็น] [NP [NCMN แบบ] [PUNC <space>] [NP [NCMN pulse width modulated] [PUNC <space>] [PUNC <left_parenthesis>] [NCMN PWM] [PUNC <right_parenthesis>] [PUNC <space>]]] [JSBR ดัง] [VP [VSTA เช่น] [ADJC [PREL ที่] [VP [VACT รายงาน] [PP [RPRE โดย] [PUNC <space>] [NP [NCMN Morimoto]]]]]]]]]]]',\n",
       " '[S [PP [RPRE โดย] [VP [VACT แยก] [NP [NCMN สัญญาณ]]]] [S [NP [NCMN ทีทีแอล] [ADJC [PREL ที่] [VP [VSTA ได้] [PP [RPRE จาก] [NP [NP [NCMN ตัวไอซี] [PUNC <space>] [NP [NCMN PWM]]] [PUNC <space>] [PP [RPRE จาก] [NP [NCMN วงจร]]]]]]]] [VP [VACT ขับ] [NP [NCMN เบส] [PP [RPRE ของ] [NP [NCMN ทรานซิสเตอร์]]]] [PUNC <space>] [JSBR ซึ่ง] [VP [VSTA มี] [NP [NCMN แหล่งจ่ายไฟ] [NP [NCMN กระแสตรง] [ADJC [PREL ที่] [VP [VACT แยก] [PP [RPRE จาก] [NP [PPRS กัน]]]]]]] [AVBP [ADVN ด้วย]]]]]]',\n",
       " '[S [PP [RPRE โดย] [VP [XVAM สามารถ] [VP [VACT ตั้ง] [NP [NP [FIXN ความ] [VATT ถี่]] [JCRG หรือ] [NP [FIXN ความ] [VATT เร็ว]]]]]] [S [JSBR โดย] [NP [FIXN การ] [VP [VACT กด] [NP [NCMN ปุ่ม] [PUNC <space>] [NP [NCMN INC]]]]] [PUNC <space>] [VP [JSBR ที่] [NP [NCMN แผงควบคุม]]]]]',\n",
       " '[S [PP [RPRE เพื่อ] [NP [VACT เพิ่ม] [JCRG หรือ] [VACT ลด]]] [S [NP [FIXN ความ] [VATT ถี่]] [JSBR ที่] [VP [VACT ตั้ง]]]]',\n",
       " '[S [PP [RPRE โดย] [VP [VACT ใช้] [NP [NCMN หลอดไฟ] [NP [NCMN แอลอีดี]]]]] [S [NP [NCMN ชุด]] [VP [VSTA เดียวกัน]]]]',\n",
       " '[S [S [NP [NCMN รูปแบบ] [PP [RPRE ของ] [NP [NCMN สัญญาณพัลล์]]]] [VP [VSTA ได้] [PP [RPRE จาก] [NP [NP [FIXN การ] [VACT คำนวณ]] [ADJC [PREL ที่] [VP [VSTA มี] [NP [NCMN ขนาด]]]]]]]] [JCRG และ] [S [NP [NP [FIXN ความ] [VATT ถี่]] [PP [RPRE ของ] [NP [NCMN แรงดัน]]]] [VP [VSTA เป็น] [NP [NCMN ตัวแปร]]]]]',\n",
       " '[S [PP [RPRE เพื่อ] [VP [VACT หา]]] [S [NP [NCMN รูปคลื่น] [ADJC [PREL ซึ่ง] [VP [VACT ส่ง]]]] [VP [VACT ออก] [XVAE มา] [VP [VSTA เป็น] [NP [NCMN สัญญาณ] [NP [NCMN ทีทีแอล]]]]]]]',\n",
       " '[S [PP [RPRE โดย] [VP [VSTA มี] [PUNC <space>] [NP [NCMN t] [NP [NCMN <space>]] [PUNC <equal>] [NP [NCMN <space>] [CLSP [DCNM 6] [PUNC <space>] [CMTR US]]] [PUNC <comma>] [NP [NCMN <space>]]]]] [S [NP [NCMN t] [NP [NCMN <space>]] [PUNC <equal>] [NP [NCMN <space>] [CLSP [DCNM 10] [PUNC <space>] [CMTR us]]] [PUNC <space>] [NP [NCMN และ] [PUNC <space>] [NP [NCMN t]]]] [PUNC <space>] [VP [VP [JSBR อย่าง] [NP [NPRP น้อย]]] [NP [NCMN <space>] [CLSP [DCNM 25] [PUNC <space>] [CMTR us]]]]]]',\n",
       " '[S [PP [RPRE รวมทั้ง] [VP [XVAM สามารถ] [VP [VACT เลือก] [NP [NCMN <space>]]]]] [S [NP [NCMN V] [PUNC <space>] [NP [NCMN โหมด]]] [PUNC <space>] [VP [VSTA ได้] [PUNC <space>] [CLSP [DCNM 6] [PUNC <space>] [CNIT แบบ]]]]]',\n",
       " '[S [PP [RPRE เมื่อ] [VP [VACT เปรียบเทียบ] [PP [RPRE กับ] [NP [FIXN การ] [VP [VACT สร้าง] [JSBR โดย] [VP [VACT ใช้] [NP [NCMN ไมโครโพรเซสเซอร์] [NP [NCMN <space>] [CLSP [DCNM 16] [PUNC <space>] [CMTR บิท]]] [PUNC <space>] [NP [NP [CNIT เบอร์] [PUNC <space>] [NCNM 8086]] [PUNC <space>] [PP [RPRE ของ] [NP [NP [NPRP บริษัท INTEL]] [PUNC <space>] [PP [RPRE และ] [NP [NCMN วงจร] [NP [NCMN ฮาร์ดแวร์]]]]]]] [PUNC <space>] [NP [NCMN PWM] [PUNC <space>] [PUNC <left_parenthesis>] [NCMN 8] [PUNC <right_parenthesis>] [PUNC <space>]]] [VP [VSTA พบ] [JSBR ว่า]]]]]]]] [S [NP [FIXN การ] [VP [VACT ออกแบบ] [PP [RPRE ด้วย] [NP [NP [NCMN วิธี] [ADJP [VATT ใหม่]]] [DDAC นี้]]] [PUNC <space>] [VP [XVAM สามารถ] [VP [VACT ลด] [NP [NCMN ขนาด] [PP [RPRE ของ] [NP [NCMN แผ่นพิมพ์วงจร]]]] [XVAE ลง]]]]] [VP [XVAM ได้] [VP [VSTA กว่า] [PUNC <space>] [NP [NCNM 50]]]]]]',\n",
       " '[S [PP [RPRE โดย] [NP [NCMN จุดประสงค์] [ADJC [PREL ที่] [VP [XVBM จะ] [VP [VACT ทำ] [NP [FIXN การ] [VP [VACT ควบคุม] [NP [NCMN ปริมาณ] [NP [NCMN วัตถุดิบ]]]]] [JSBR ให้] [VP [XVAM ได้] [VP [VSTA ถูกต้อง] [PP [RPRE ตาม] [NP [NCMN สูตร]]]]]]]]]] [S [NP [NCMN อาหาร]] [VP [VATT มาก] [AVBP [ADVN ที่สุด]]]]]',\n",
       " '[S [PP [RPRE รวมทั้ง] [VP [VSTA มี]]] [S [NP [FIXN ความ]] [VP [VSTA สะดวก] [PP [RPRE ใน] [NP [FIXN การ] [VACT ใช้งาน]]]]]]',\n",
       " '[S [PP [PREL ที่] [VP [VATT สำคัญ] [AVBP [ADVN ที่สุด]]]] [S [NP [NCMN ส่วน] [DIAC หนึ่ง]] [PUNC <space>] [VP [VSTA คือ] [VP [XVAM สามารถ] [VP [VACT เก็บ] [NP [NP [NCMN ข้อมูล] [ADJC [PREL ที่] [VP [VSTA ได้] [PP [RPRE จาก] [NP [NP [FIXN การ] [VACT ผลิต]] [PUNC <space>] [PP [RPRE เช่น] [PUNC <space>] [NP [NCMN ปริมาณ] [NP [NCMN วัตถุดิบ] [ADJC [PREL ที่] [VP [VACT ใช้] [XVAE ไป] [AVBP [ADVN จริง]]]]]]]]]]]] [PUNC <space>] [NP [NCMN เวลา] [PP [RPRE ใน] [NP [FIXN การ] [VACT ผลิต]]]]]]]]]]',\n",
       " '[S [PP [RPRE ซึ่ง] [NP [NCMN ข้อมูล] [DDAC นี้]]] [S [NP [PPRS เรา]] [VP [XVAM สามารถ] [VP [VACT นำไปใช้] [PP [RPRE เพื่อ] [NP [FIXN การ] [VACT วิเคราะห์]]] [XVAE ได้] [AVBP [ADVN อีก]]]]]]',\n",
       " '[S [PP [RPRE ใน] [NP [NCMN ระบบ]]] [S [NP [NCMN อุตสาหกรรม] [NP [NCMN ปัจจุบัน]]] [PUNC <space>] [VP [XVAM ได้] [VP [VSTA มี] [NP [FIXN การ] [VP [VACT พัฒนา] [XVAE ขึ้น] [AVBP [FIXV อย่าง] [VATT รวดเร็ว]]]]]]]]',\n",
       " '[S [PP [RPRE โดย] [VP [VACT นำ]]] [S [NP [NCMN เทคโนโลยี] [PP [RPRE ทางด้าน] [NP [NCMN อิเล็กทรอนิกส์] [JCRG และ] [NCMN คอมพิวเตอร์]]]] [VP [VACT เข้า] [XVAE มา] [VP [VACT ช่วย]]]]]',\n",
       " '[S [PP [RPRE ใน] [NP [NCMN โรงงาน]]] [S [NP [NCMN อาหารสัตว์] [NP [NCMN ส่วนมาก]] [PUNC <space>] [NP [NCMN ส่วน] [ADJC [PREL ที่] [VP [VACT ทำหน้าที่] [NP [NCMN ส่วน] [DDAC นี้]] [JSBR ก็] [VP [VSTA คือ]]]]] [PUNC <space>] [NP [NCMN เครื่อง]]] [VP [VACT ควบคุม] [NP [FIXN การ] [VP [VACT ผสม] [NP [NCMN อาหารสัตว์]]]]]]]',\n",
       " '[S [PP [RPRE เมื่อ] [NP [NCMN ปล่อย]]] [S [NP [NP [NCMN วัตถุดิบ] [CLSP [DIBQ แต่ละ] [CNIT ตัว]]] [PUNC <space>] [NP [NCMN คน]]] [VP [XVBM จะ] [VP [VACT ทำหน้าที่] [NP [DDAC นี้]] [AVBP [ADVN ทั้งหมด]]]]]]',\n",
       " '[S [PP [RPRE ใน] [NP [NCMN ปัจจุบัน] [PUNC <space>] [NP [NCMN เทคโนโลยี] [PP [RPRE ทาง] [NP [NCMN ด้าน]]]]]] [S [NP [NCMN ไมโครคอมพิวเตอร์]] [VP [XVAM ได้] [VP [VSTA มี] [NP [FIXN การ] [VP [VACT พัฒนา] [XVAE ขึ้น] [AVBP [FIXV อย่าง] [VATT รวดเร็ว]]]]]]]]',\n",
       " '[S [PP [RPRE รวมทั้ง] [VP [VSTA มี]]] [S [NP [FIXN ความ]] [VP [VSTA สะดวก] [PP [RPRE ใน] [NP [FIXN การ] [VACT ใช้งาน]]]]]]',\n",
       " '[S [PP [PREL ที่] [VP [VATT สำคัญ] [AVBP [ADVN ที่สุด]]]] [S [NP [NCMN ส่วน] [DIAC หนึ่ง]] [PUNC <space>] [VP [VSTA คือ] [VP [XVAM สามารถ] [VP [VACT เก็บ] [NP [NP [NCMN ข้อมูล] [ADJC [PREL ที่] [VP [VSTA ได้] [PP [RPRE จาก] [NP [NP [FIXN การ] [VACT ผลิต]] [PUNC <space>] [PP [RPRE เช่น] [PUNC <space>] [NP [NCMN ปริมาณ] [NP [NCMN วัตถุดิบ] [ADJC [PREL ที่] [VP [VACT ใช้] [XVAE ไป] [AVBP [ADVN จริง]]]]]]]]]]]] [PUNC <space>] [NP [NCMN เวลา] [PP [RPRE ใน] [NP [FIXN การ] [VACT ผลิต]]]]]]]]]]',\n",
       " '[S [PP [RPRE ซึ่ง] [NP [NCMN ข้อมูล] [DDAC นี้]]] [S [NP [PPRS เรา]] [VP [XVAM สามารถ] [VP [VACT นำไปใช้] [PP [RPRE เพื่อ] [NP [FIXN การ] [VACT วิเคราะห์]]] [XVAE ได้] [AVBP [ADVN อีก]]]]]]',\n",
       " '[S [PP [RPRE โดย] [ADJP [VATT ปกติ]]] [S [NP [NCMN จะ]] [VP [VACT เลือก] [NP [NCMN วัตถุดิบ] [ADJC [PREL ที่] [VP [VSTA มี] [NP [NCMN ราคา]] [AVBP [ADVN ถูก] [ADVN ที่สุด]] [PP [RPRE ใน] [NP [NCMN ฤดูกาล] [DDAC นั้น]]]]]] [PUNC <space>] [JSBR โดย] [VP [XVBM ยัง] [VP [VSTA คง] [NP [NCMN คุณค่า] [PP [RPRE ทาง] [NP [NCMN อาหาร]]]] [AVBP [ADVN เหมือนเดิม]]]]]]]',\n",
       " '[S [NP [NCMN และ]] [JSBR เมื่อ] [S [NP [NCMN สูตร] [NP [NCMN อาหาร] [DDAC นี้]]] [VP [XVAM ได้] [VP [XVAM ถูก] [VP [VACT ทดลอง] [PP [RPRE โดย] [NP [NCMN ห้องทดลอง] [ADJC [PREL ที่] [ADJP [VATT ทันสมัย]]]]] [XVAE แล้ว]]]]]]',\n",
       " '[S [PP [RPRE จาก] [NP [NP [NCMN รูป] [DONM ที่ 1]] [PUNC <space>] [NP [NCMN กรรมวิธี]]]] [S [NP [FIXN การ] [VP [VACT ผลิต] [NP [NCMN อาหารสัตว์] [DDAC นั้น]]]] [PUNC <space>] [VP [VACT เริ่ม] [PP [RPRE จาก] [NP [FIXN การ] [VP [VACT รับ] [NP [NCMN วัตถุดิบ] [DIAC ต่างๆ]]]]] [PUNC <space>] [VP [VACT เข้า] [VACT มา]]]]]',\n",
       " '[S [S [JSBR ซึ่ง] [NP [NCMN วัตถุดิบ] [ADJC [PREL ที่] [VP [VSTA มี] [NP [FIXN ความ] [VP [VSTA ชื้น] [XVAE อยู่] [PP [RPRE ใน] [NP [NCMN ระดับ] [ADJC [PREL ที่] [VP [NEG ไม่] [VSTA ได้มาตรฐาน]]] [DDAC นั้น]]]]]]]] [PUNC <space>] [VP [XVBM จะ] [XVMM ต้อง] [VP [VACT ผ่าน] [NP [FIXN การ] [VACT อบ]] [VP [VACT ไล่] [NP [FIXN ความ] [VSTA ชื้น]] [JSBR ให้] [ADJP [VATT แห้ง]]]]]] [JSBR โดย] [S [NP [NCMN เครื่อง]] [VP [VACT ไล่] [NP [FIXN ความ] [VSTA ชื้น]]]]]',\n",
       " '[S [PP [RPRE เพื่อ] [VP [VACT เตรียม] [XVAE ไป] [VP [VACT เท] [VP [VACT ผสม] [PP [RPRE กับ] [NP [NCMN วัตถุดิบ]]]]]]] [S [NP [NP [NCMN ชนิด] [DIAC อื่นๆ]] [PUNC <space>] [PP [RPRE ใน] [NP [NCMN เครื่อง]]]] [VP [VACT ผสม] [NP [NCMN อาหาร]]]]]',\n",
       " '[S [S [NP [RPRE เมื่อ] [NP [NCMN วัตถุดิบ] [JCRG และ] [NCMN พรีมิกซ์]]] [VP [XVAM ถูก] [VP [VACT ผสม]]]] [JSBR โดย] [S [NP [NCMN เครื่อง]] [VP [VACT ผสม] [NP [NCMN อาหาร]] [AVBP [ADVN เรียบร้อยแล้ว]]]]]',\n",
       " '[S [S [NP [NCMN ซึ่ง]] [JSBR ถ้า] [VP [VSTA เป็น] [NP [NCMN อาหารผง]]]] [JSBR ก็] [S [NP [NCMN ไม่]] [VP [XVMM ต้อง] [VP [VSTA ผ่าน] [NP [NCMN เครื่องอัดเม็ด]]]]]]',\n",
       " '[S [PP [RPRE โดย] [VP [XVBM จะ] [XVAM ถูก] [VP [VACT บรรจุ]]]] [S [NP [NCMN ถุง] [JCRG หรือ] [NCMN กระสอบ]] [VP [VSTA ได้] [XVAE เลย]]]]',\n",
       " '[S [PP [RPRE ใน] [NP [NCMN ยุค] [DONM แรก]]] [S [NP [FIXN การ] [VP [VACT ผสม] [NP [NCMN อาหารสัตว์] [DDAC นั้น]]]] [PUNC <space>] [VP [VACT ใช้] [NP [NP [NCMN พนักงาน] [PP [RPRE ประจำ] [NP [NCMN ห้องควบคุม] [NP [FIXN การ] [VACT ผลิต]]]]] [PUNC <space>] [PP [RPRE เป็น] [NP [PPRS ผู้]]]] [VP [VACT กด] [NP [NCMN สวิทช์]] [PUNC <space>] [JSBR เพื่อ] [VP [VACT เปิด] [VP [VACT ให้] [NP [NCMN มอเตอร์]] [JSBR สำหรับ] [VP [VACT ลำเลียง] [NP [NCMN อาหาร] [PP [RPRE จาก] [NP [NCMN ถังเก็บวัตถุดิบ]]]]] [XVAE ลง] [PP [RPRE สู่] [NP [NCMN ถังผสมอาหารสัตว์]]]]]]]]]',\n",
       " '[S [S [NP [NCMN เครื่องควบคุม] [NP [NP [NCMN ชนิด] [DDAC นี้]] [VP [VP [VSTA มี] [NP [NP [NCMN จุดอ่อน]] [PUNC <space>] [PP [RPRE คือ] [PUNC <space>] [NP [FIXN ความ] [VP [VSTA แม่นยำ] [ADJP [NEG ไม่] [VATT ดี]]]]]] [AVBP [ADVN พอ]]] [NP [NCMN <space>]]]] [PUNC <left_parenthesis>] [NP [NCMN มี] [NP [FIXN ความ] [VATT ละเอียด]] [PUNC <space>] [CLSP [DCNM 5] [PUNC <space>] [CMTR กิโลกรัม]]] [PUNC <right_parenthesis>] [NP [NCMN <space>] [NP [FIXN การ] [VP [VACT บำรุงรักษา] [AVBP [ADVN ลำบาก]]]]]] [PUNC <space>] [VP [NEG ไม่] [VSTA มี] [NP [FIXN การ] [VP [VACT รายงาน] [NP [NCMN ผล] [NP [FIXN การ] [VP [VACT ชั่ง] [NP [NCMN <space>]]]]]]]]] [JCRG อีกทั้ง] [S [NP [FIXN การ] [VP [VACT เตรียม] [NP [NCMN ข้อมูล] [NP [NCMN สูตร] [NP [NCMN อาหาร] [VATT ยุ่งยาก] [NCMN <space>]]]]]] [PUNC <left_parenthesis>] [VP [XVMM ต้อง] [VP [VACT เตรียม] [VP [VACT เจาะ] [NP [NCMN บัตร] [PUNC <right_parenthesis>] [NP [NCMN <space>]]] [JCRG และ] [VP [NEG ไม่] [VSTA ได้] [NP [NCMN ข้อมูล]]]] [JSBR เพื่อ] [VP [VACT นำ] [XVAE มา] [VP [VACT วิเคราะห์] [NP [PDMN เป็นต้น]]]]]]]]',\n",
       " '[S [S [NP [NP [NCMN ระบบควบคุมการผสมอาหารสัตว์] [PUNC <space>] [PUNC <left_parenthesis>] [NCMN Feed Mix control System] [PUNC <right_parenthesis>] [PUNC <space>]] [ADJC [PREL ที่] [NP [NCMN ทาง] [NP [NCMN บริษัท]]] [VP [VACT พัฒนา] [NP [NCMN ขึ้น] [DDAC นี้]] [VP [VSTA เป็น] [NP [NCMN ระบบ] [PUNC <space>] [NP [NCMN Stand Alone]]]]]]] [PUNC <space>] [VP [VSTA คือ] [PUNC <space>] [NP [FIXN การ] [VACT ทำงาน]]]] [JSBR โดย] [S [NP [NP [NP [PPRS ตัวเอง]] [PUNC <space>] [PP [RPRE ตั้งแต่] [NP [FIXN การ] [VP [VACT ป้อน] [NP [NCMN สูตร] [NP [NCMN อาหาร]] [PUNC <space>] [NP [NP [NP [FIXN การ] [VP [VACT แก้ไข] [NP [NCMN สูตร] [JCRG และ] [NCMN กระบวนการ]]]] [DIAC อื่นๆ]] [PUNC <space>] [PP [RPRE เกี่ยวกับ] [NP [NCMN สูตร] [NP [NCMN อาหารสัตว์]] [PUNC <space>] [NP [FIXN การ] [VP [VACT ทดสอบ] [NP [FIXN การ] [VACT ทำงาน]]]] [PUNC <space>] [NP [NCMN ตลอดจน] [NP [FIXN การ] [NP [FIXN <space>] [VACT Setup]]]]]]] [PUNC <space>] [NP [NCMN ค่า] [DIAC ต่างๆ]]]]]]] [PUNC <space>] [PP [RPRE ของ] [NP [NCMN อุปกรณ์]]]] [PUNC <space>] [VP [VSTA รวมถึง] [NP [FIXN การ] [VP [VACT ชั่ง] [NP [NCMN อาหาร] [PP [RPRE ตาม] [NP [NCMN สูตร] [ADJC [PREL ที่] [VP [VACT จัดการ] [XVAE ไว้] [NP [DDAC นั้น]]]]]]]]]]]]',\n",
       " '[S [S [NP [NCMN และ] [VP [JSBR เมื่อ] [VP [VACT ผสม] [NP [NCMN อาหาร]] [AVBP [ADVN เรียบร้อยแล้ว]]]]] [PUNC <space>] [VP [XVBM จะ] [VP [VACT ทำ] [NP [FIXN การ] [VP [VACT รายงาน] [NP [NCMN ผล] [NP [FIXN การ] [VP [VACT ผสม] [NP [NCMN อาหาร] [PP [RPRE ทาง] [NP [NCMN เครื่องพิมพ์] [NP [NCMN ขนาด] [VATT เล็ก] [NCMN <space>]]]]]]]]]]]]] [JCRG และ] [S [NP [NCMN จอภาพ] [PP [RPRE ของ] [NP [NCMN ระบบ]]]] [PUNC <space>] [VP [JSBR อีกทั้ง] [NP [FIXN การ] [VP [VACT เก็บ] [NP [NCMN ข้อมูล] [ADJC [PREL ที่] [VP [VSTA ได้] [XVAE ลง] [PP [RPRE ใน] [NP [NCMN แผ่นข้อมูล]]]]]]]]]]]',\n",
       " '[S [PP [RPRE เช่น] [NP [NCMN <space>]]] [S [NP [NCMN Serial Interface] [PUNC <space>] [PUNC <left_parenthesis>] [NCMN RS232C] [PUNC <right_parenthesis>] [PUNC <space>]] [VP [VACT ใช้] [JSBR สำหรับ] [VP [VACT รับ] [NP [NCMN น้ำหนัก] [PP [RPRE จาก] [NP [NCMN เครื่องชั่ง] [NP [NCMN ระบบดิจิตอล] [PUNC <space>] [NP [NCMN Parallel Interface]]]]]] [PUNC <space>] [JSBR สำหรับ] [VP [VACT ต่อ] [NP [NCMN เครื่องพิมพ์]] [JSBR เพื่อ] [VP [VACT รายงาน] [NP [NCMN ผล]]]]]]]]',\n",
       " '[S [S [NP [NCMN 4] [NP [NCMN <full_stop>] [PUNC <space>] [NP [NCMN Extension Serial Interface Card]]]] [PUNC <space>] [VP [VSTA เป็น] [NP [NCMN บอร์ด]]]] [JSBR ซึ่ง] [S [NP [NCMN ทีมงาน]] [VP [VACT ออกแบบ] [AVBP [ADVN ขึ้น]]]]]',\n",
       " '[S [PP [RPRE เมื่อ] [ADJP [VATT ครบ] [AVBP [ADVN แล้ว]]]] [S [NP [FIXN <space>] [NCMN เครื่อง]] [VP [XVBM จะ] [VP [VACT คำนวณ] [NP [NCMN น้ำหนักรวม] [PUNC <space>] [PUNC <left_parenthesis>] [NCMN Total Weight] [PUNC <right_parenthesis>] [PUNC <space>]] [PP [RPRE ของ] [NP [NCMN วัตถุดิบ]]] [AVBP [ADVN ทั้งหมด]]]]]]',\n",
       " '[S [PP [RPRE เมื่อ] [VP [VACT ป้อน] [NP [NCMN ข้อมูล] [NP [NCMN สูตร]]]]] [S [NP [NCMN อาหารสัตว์] [VP [JSBR จน] [VP [VP [VSTA ครบ] [NP [NCMN <space>]]] [JCRG และ] [VP [NEG ไม่] [VSTA ต้องการ]]]]] [VP [VACT แก้ไข] [AVBP [ADVN แล้ว]]]]]',\n",
       " '[S [PP [RPRE โดย] [VP [VSTA เพิ่ม] [PUNC <space>] [NP [NCMN Digit] [PUNC <space>] [NP [NCMN ที่]]]]] [S [NP [NCMN ตัวอักษร]] [VP [VACT เข้าไป] [AVBP [ADVN ด้วย]]]]]',\n",
       " '[S [PP [RPRE และ] [NP [NCMN รูปแบบ] [PP [RPRE ของ] [NP [NCMN ฮาร์ดแวร์]]]]] [S [NP [NCMN <space>] [JCRG และ] [NCMN ซอฟท์แวร์]] [VP [VSTA อยู่] [PP [RPRE ใน] [NP [NCMN ลักษณะ] [PP [RPRE ของ] [PUNC <space>] [NP [NP [NCMN Packaged System]] [PUNC <space>] [PP [RPRE ที่] [ADJP [VATT เป็นมาตรฐาน]]]]]]]]]]',\n",
       " '[S [PP [RPRE คือ] [PUNC <space>] [NP [NCMN ลด]]] [S [NP [NCMN เวลา] [ADJC [PREL ที่] [VP [VACT ใช้] [PP [RPRE ใน] [NP [FIXN การ] [VP [VACT ฝึกอบรม] [NP [NCMN พนักงาน] [ADJC [PREL ที่] [VP [XVBM จะ] [VACT มา]]]]]]]]]] [VP [VSTA เป็น] [NP [NCMN โอเปอเรเตอร์] [ADJP [VATT ลง]]]]]]',\n",
       " '[S [PP [RPRE เพื่อ] [VP [NEG ไม่ให้] [VSTA เป็น]]] [S [NP [NCMN ภาระ] [PP [RPRE ของ] [NP [NCMN โอเปอเรเตอร์]]]] [VP [VATT มาก] [AVBP [ADVN เกินไป]]]]]',\n",
       " '[S [PP [RPRE คือ] [VP [XVBM จะ] [VP [VACT ดูแล] [NP [NCMN อุปกรณ์] [PP [RPRE ใน] [NP [NCMN ขอบเขต]]]]]]] [S [NP [FIXN ความ]] [VP [VSTA รับผิดชอบ] [PP [RPRE ของ] [NP [PPRS ตน]]]]]]',\n",
       " '[S [PP [RPRE โดย] [VP [VSTA ถือเอา]]] [S [NP [NCMN น้ำหนัก] [PP [RPRE ของ] [NP [NCMN วัตถุดิบ] [CLSP [DIBQ แต่ละ] [CLTV ชนิด]]]]] [VP [VSTA เป็น] [NP [NCMN เกณฑ์]]]]]',\n",
       " '[S [PP [RPRE โดย] [VP [VACT ใช้]]] [S [NP [NCMN วิธี]] [VP [VACT ปลูก] [NP [NCMN ผลึก] [PP [RPRE ด้วย] [NP [NCMN เตาเอพิแทกซี] [NP [NCMN สถานะ] [NP [NCMN ของเหลว] [NP [NCMN แบบ] [NP [NCMN แนวนอน]]]]]]]]]]]',\n",
       " '[S [S [NP [NCMN และ]] [VP [VACT กักกัน] [NP [NCMN แสง]]]] [JSBR เพื่อให้] [S [NP [NCMN แสง]] [VP [VSTA มี] [NP [NCMN ทิศทาง] [ADJC [PREL ที่] [ADJP [VATT แน่นอน]]]]]]]',\n",
       " '[S [S [JSBR นอกจากนี้] [NP [RPRE ใน] [NP [NCMN กลุ่ม] [PP [RPRE ของ] [NP [NCMN ไดโอดเปล่งแสง] [AVBP [ADVN ด้วยกัน]]]]]] [PUNC <space>] [VP [VSTA ถือ] [XVAE ได้]]] [JSBR ว่า] [S [NP [NCMN ไดโอดเปล่งแสง] [NP [NCMN ตระกูล]] [PUNC <space>] [NP [NCMN GaAlAs]] [PUNC <space>] [NP [NCMN มีประสิทธิภาพ] [PP [RPRE ใน] [NP [FIXN การ] [VP [VACT ทำงาน] [NP [NCMN <space>]] [JCRG หรือ] [VP [VSTA เปล่งแสง] [XVAE ให้] [AVBP [ADVN สูง]]]]]]]] [VP [VSTA กว่า] [NP [NP [NCMN ไดโอด] [ADJC [PREL ที่] [VP [VACT ผลิต] [PP [RPRE จาก] [NP [NCMN สารประกอบกึ่งตัวนำ] [NP [NCMN กลุ่ม] [DIAC อื่นๆ]]]]]]] [PUNC <space>] [JSBR อาทิ] [PUNC <space>] [NP [NCMN GaAsP GaP]] [PUNC <space>] [PDMN เป็นต้น]]]]]',\n",
       " '[S [PP [RPRE ใน] [NP [PDMN ที่นี้]]] [S [NP [PPRS เรา] [VP [VSTA ใช้] [PUNC <space>] [NP [NCMN LPE]]]] [PUNC <space>] [VP [VSTA เป็น] [NP [NCMN เทคโนโลยี] [PP [RPRE ใน] [NP [FIXN การ] [VP [VACT ผลิต] [NP [NCMN โครงสร้าง] [NP [NCMN หลายๆ] [PUNC <space>] [NP [NCMN ชั้น] [PUNC <space>] [PUNC <left_parenthesis>] [NCMN multilayer Structure] [PUNC <right_parenthesis>] [PUNC <space>]]]] [PP [RPRE ของ] [PUNC <space>] [NP [NCMN LEDS]]]]]]]]]]',\n",
       " '[S [S [JSBR กล่าวคือ] [NP [NP [FIXN <space>] [VP [VP [VACT ทำให้] [NP [FIXN ความ] [VATT เข้มข้น]] [PP [RPRE ของ] [NP [NCMN ตัวถูกละลาย] [PUNC <space>] [PUNC <left_parenthesis>] [NCMN Solute] [PUNC <right_parenthesis>] [PUNC <space>]]]] [NP [NCMN ซึ่ง] [PP [RPRE ในกรณีของ] [PUNC <space>] [NP [NCMN GaAs]]]]]] [PUNC <space>] [PP [RPRE ได้แก่] [PUNC <space>] [NP [NCMN As]]]] [PUNC <space>] [VP [VSTA มี] [NP [NCMN ค่า]] [AVBP [ADVN มาก] [NP [NCMN กว่า] [NP [NP [FIXN ความ] [XVAM สามารถ]] [PP [RPRE ใน] [NP [FIXN การ] [VP [XVAM ถูก] [VP [VACT ละลาย] [NP [NCMN <space>]]]]]]] [PUNC <left_parenthesis>] [NP [NCMN Soluility]] [PUNC <right_parenthesis>] [NP [NCMN <space>]]] [PP [RPRE โดย] [NP [NCMN ตัวทำละลาย] [PUNC <space>] [PUNC <left_parenthesis>] [NCMN Solvent] [PUNC <right_parenthesis>] [PUNC <space>]]]]]] [JSBR ซึ่ง] [S [NP [RPRE ใน] [NP [PDMN ที่นี้]]] [JSBR ก็] [VP [VSTA คือ] [PUNC <space>] [NP [NCMN Ga]]]]]',\n",
       " '[S [PP [RPRE เมื่อ] [NP [NCMN ใน]]] [S [NP [NCMN สารละลาย]] [VP [VSTA มี] [NP [NCMN ผิวหน้าแว่นผลึก]] [VP [VACT เคลื่อนที่] [XVAE เข้าไป] [VP [VACT สัมผัส]]]]]]',\n",
       " '[S [PP [RPRE เพื่อ] [VP [VSTA กลับคืน] [PP [RPRE สู่] [NP [NCMN สภาวะอิ่มตัว]]]]] [S [NP [NCMN ซึ่ง]] [VP [VSTA เสถียร] [AVBP [ADVN กว่า]]]]]',\n",
       " '[S [PP [RPRE ใน] [NP [NP [NCMN ทาง] [VP [VACT ปฎิบัติ] [NP [NP [DDAC นั้น]] [PUNC <space>] [NP [NCMN สภาพอิ่มตัวยิ่งยวด]]] [VP [XVAM สามารถ] [VP [VSTA ทำให้เกิด] [XVAE ได้]]]]] [PUNC <space>] [PP [RPRE โดย] [NP [FIXN การ] [VACT ทำให้]]]]] [S [NP [NCMN สารละลาย]] [VP [VP [VSTA อยู่] [PP [RPRE ใน] [NP [NP [NCMN สภาวะอิ่มตัว] [AVBP [ADVN ก่อน]]] [PUNC <space>] [PP [RPRE ที่] [NP [NCMN อุณหภูมิ] [DIAC ใด]]]]]] [NP [NCMN อุณหภูมิ] [NP [NCMN หนึ่ง] [PUNC <space>] [PUNC <left_parenthesis>] [NCMN Ts] [PUNC <space>] [PUNC <right_parenthesis>]]]]]]',\n",
       " '[S [PP [RPRE โดย] [VP [VSTA มี] [NP [NCMN แว่นผลึก]]]] [S [NP [NCMN ของ] [PUNC <space>] [NCMN GaAs] [PUNC <left_parenthesis>] [NCMN n+] [PUNC <right_parenthesis>] [NCMN <space>]] [VP [VSTA เป็น] [NP [NCMN ชิ้นวัสดุเริ่มต้น]]]]]',\n",
       " '[S [PP [RPRE กล่าวคือ] [PUNC <space>] [NP [NCMN ND]]] [S [NP [NCMN <space>] [PUNC <greater_than>] [NP [NCMN <space>] [NP [NCMN NA]] [PUNC <space>] [NP [NCMN และ]] [PUNC <space>] [NP [NCMN y] [PUNC <space>] [PUNC <greater_than>] [NCMN <space>] [PUNC x] [PUNC <space>]]]] [VP [VSTA เสมอ]]]]',\n",
       " '[S [PP [RPRE เพื่อ] [VP [VACT หลีกเลี่ยง]]] [S [NP [NCMN ปัญหา] [PP [RPRE ของ] [NP [NCMN ผิวสัมผัสโอท์มมิก] [PUNC <space>] [PUNC <left_parenthesis>] [NCMN Ohmic Contact] [PUNC <right_parenthesis>] [PUNC <space>]]]] [VP [JSBR ที่] [NP [NCMN ชั้นผิว]]]]]',\n",
       " '[S [PP [RPRE ในทำนองเดียวกับ] [NP [NP [NCMN กรณี] [DONM แรก]] [PUNC <space>] [NP [NCMN ND>>NA] [NP [NCMN <space>]]] [JCRG แต่] [NP [NCMN <space>]]]] [S [NP [NCMN x]] [PUNC <space>] [VP [XVMM ต้อง] [VP [AVBP [ADVN น้อย]] [VP [VSTA กว่า] [PUNC <space>] [NP [NCMN y] [PUNC <space>] [NP [PDMN เท่านั้น]]]]]]]]',\n",
       " '[S [PP [RPRE ใน] [NP [NP [NCMN กรณี] [DDAC นี้]] [PUNC <space>] [PP [RPRE สำหรับ] [NP [NCMN วิธีการ] [DONM แรก]]]]] [S [NP [PPRS เรา]] [VP [VACT ใช้] [NP [NCMN ชั้น] [NP [NCMN ซิลิกอนโมนอกไซด์] [PUNC <space>] [PUNC <left_parenthesis>] [NCMN Sio] [PUNC <right_parenthesis>] [PUNC <space>]]] [VP [VACT ปิดกั้น] [NP [FIXN การ] [VACT ไหล]] [PP [RPRE ของ] [NP [NCMN กระแส]]]]]]]',\n",
       " '[S [PP [RPRE ใน] [NP [NCMN ช่วง]]] [S [NP [NP [NCMN กระแส] [ADJP [VATT ต่ำๆ]]] [PUNC <space>] [NP [NCMN กระแส] [NP [PDMN ส่วนใหญ่]]]] [VP [VACT มา] [PP [RPRE จาก] [NP [NCMN กระแสรวมตัว]]] [PUNC <space>] [VP [JSBR ซึ่ง] [VP [VSTA เกิด] [PP [RPRE จาก] [NP [FIXN ความ] [VP [VSTA คลาดเคลื่อน] [PP [RPRE ของ] [NP [NCMN ขนาด] [NP [NCMN โครงสร้าง] [NP [NCMN ผลึก] [PUNC <space>] [PUNC <left_parenthesis>] [NCMN Lattice Mismatches] [PUNC <right_parenthesis>] [PUNC <space>]] [PP [RPRE ระหว่าง] [PUNC <space>] [NP [NCMN GaAlyAs]]]] [PUNC <space>] [NP [NCMN และ]] [PUNC <space>] [NP [NCMN GaAlxAs]]]]]]]]]]]]',\n",
       " '[S [PP [RPRE เมื่อ] [NP [FIXN การ] [VP [VACT ไบแอส] [AVBP [ADVN เดินหน้า]]]] [VP [VSTA มี] [NP [NCMN ค่า]] [AVBP [ADVN สูง] [XVAE ขึ้น]]]] [S [NP [NCMN กระแสแพร่ซึม]] [VP [VSTA มี] [NP [NCMN ค่า] [ADJP [VATT สูง]]] [AVBP [ADVN ตาม]]]]]',\n",
       " '[S [PP [PREL ซึ่ง] [VP [VACT ชี้] [JSBR ให้] [VP [VSTA เห็น] [JSBR ว่า]]]] [S [NP [NCMN ปรากฎการณ์] [NP [NCMN แบบ]]] [VP [XVAM ถูก] [VP [VSTA เร้า] [VP [VSTA มี] [NP [NCMN แนวโน้ม]] [VP [VSTA เกิดขึ้น]]]]]]]',\n",
       " '[S [PP [RPRE เพื่อ] [VP [VACT หลีกเลี่ยง]]] [S [NP [NCMN ผลกระทบ] [PP [RPRE จาก] [NP [NCMN อุณหภูมิ]]]] [VP [VACT ต่อ] [NP [NCMN ประสิทธิภาพ] [PP [RPRE ของ] [NP [NCMN สิ่งประดิษฐ์]]]]]]]',\n",
       " '[S [PP [RPRE โดย] [VP [VSTA มี]]] [S [NP [NCMN ค่าพารามิเตอร์] [PP [RPRE ของ] [NP [NCMN หน่วยเซล]]]] [VP [VSTA คือ] [PUNC <space>] [NP [NCMN a = 3.880 A] [PUNC <comma>] [NP [NCMN <space>] [NP [NCMN b = 3.816]] [PUNC <space>] [NP [NCMN และ]] [PUNC <space>] [NP [NCMN c = 11.680]]]]]]]',\n",
       " '[S [PP [RPRE เพื่อ] [VP [VACT ใช้] [PP [RPRE ใน] [NP [FIXN การ] [VACT เคลือบ]]]]] [S [NP [NCMN ฟิล์ม]] [VP [VSTA บาง] [PP [RPRE ของ] [NP [NCMN สารตัวนำยิ่งยวด] [DDAC ต่อไป]]]]]]',\n",
       " '[S [PP [RPRE ใน] [NP [NCMN กรณี] [PP [RPRE ของ] [NP [FIXN การ] [VACT เคลือบ]]]]] [S [NP [NCMN ฟิล์ม] [ADJP [VATT บาง]] [PP [RPRE ด้วย] [NP [CLTV วิธี] [NP [NCMN สปัตเตอริง] [PUNC <space>] [NP [NCMN เป้า] [PUNC <space>] [PUNC <left_parenthesis>] [NCMN terget] [PUNC <right_parenthesis>] [PUNC <space>]]] [ADJC [PREL ที่] [VP [XVMM อาจ] [VACT ใช้]]]]]] [VP [VSTA เป็น] [NP [NCMN แผ่น] [DCNM เดียว] [PP [RPRE ของ] [NP [NCMN ออกไซด์] [PP [RPRE ของ] [NP [NCMN สารตัวนำยิ่งยวด]]]]]]]]]',\n",
       " '[S [PP [RPRE คือ] [PUNC <space>] [NP [CNIT ประการ] [DONM แรก] [NP [NCMN <space>]]]] [S [NP [NCMN ศักยภาพ] [PP [RPRE ของ] [NP [FIXN การ] [VACT ประยุกต์ใช้]]]] [VP [VSTA เป็น] [NP [NCMN ชิ้นส่วน] [NP [NCMN อิเล็กทรอนิกส์]]]]]]',\n",
       " '[S [PP [RPRE พร้อมทั้ง] [VP [VACT ศึกษา] [NP [NCMN สมบัติ] [PP [RPRE ของ] [PUNC <space>] [NP [NCMN Junction]]]] [PUNC <space>] [JSBR ที่] [VP [VACT เตรียม] [XVAE ได้] [NP [NP [NCMN <space>]] [JCRG ตลอดทั้ง] [NP [FIXN ความ] [VSTA เป็นไปได้]]]]]] [S [NP [NCMN ของ] [NP [FIXN การ] [VACT พัฒนา]] [PUNC <space>] [NP [NCMN junction]] [PUNC <space>] [NP [NCMN ที่]]] [VP [XVAM ได้] [VP [VSTA เป็น] [NP [NP [NCMN ชิ้นส่วน] [NP [NCMN อิเล็กทรอนิกส์] [PP [RPRE สำหรับ] [NP [NCMN วงจร] [NP [NCMN ชนิด] [DIAC ต่างๆ]]]]]] [PUNC <space>] [NP [DDAC ต่อไป]]]]]]]',\n",
       " '[S [PP [RPRE ใน] [NP [FIXN การ] [VACT ทดลอง]]] [S [NP [NCMN ขั้นต้น]] [VP [XVBM จะ] [VP [VSTA เป็น] [NP [FIXN การ] [VP [VACT เตรียม] [NP [NCMN สารตัวนำยิ่งยวดอุณหภูมิสูง]] [PUNC <space>] [JSBR ซึ่ง] [VP [VSTA เป็น] [NP [NCMN สารประกอบ] [PP [RPRE ใน] [NP [NCMN กลุ่ม] [PUNC <space>] [NP [NCMN Y-Ba-Cu-O]]]]]]]]]]]]',\n",
       " '[S [PP [RPRE พร้อมกับ] [VP [VSTA มี] [NP [FIXN การ] [VACT ปล่อย]]]] [S [NP [NP [NCMN กาซ] [NP [NCMN ออกซิเจน] [VP [VP [VSTA ผ่าน] [VP [VACT เข้า] [XVAE ไป] [PP [RPRE ใน] [NP [NCMN เตาเผา]]]]] [AVBP [ADVN นาน] [ADVN ประมาณ]]]] [PUNC <space>] [CLSP [DCNM 12] [PUNC <space>] [CMTR ชั่วโมง]]] [PUNC <space>] [PP [RPRE ด้วย] [NP [NCMN อัตรา] [NP [FIXN การ] [VP [VACT ไหล] [PP [RPRE ของ] [NP [NCMN กาซ]]] [AVBP [ADVN ประมาณ]]]] [PUNC <space>] [CLSP [DCNM 200] [PUNC <space>] [CMTR ทอร์-ลิตร]]]]] [VP [VACT ต่อ] [NP [NCMN วินาที]]]]]',\n",
       " '[S [S [NP [NCMN และ]] [VP [VACT ปล่อย]]] [JSBR ให้] [S [NP [NCMN อุณหภูมิ] [PP [RPRE ของ] [NP [NCMN เตา]]]] [VP [VSTA ลดลง] [PP [RPRE จนถึง] [NP [NCMN อุณหภูมิห้อง]]]]]]',\n",
       " '[S [PP [RPRE โดย] [VP [VACT วาง]]] [S [NP [NCMN เม็ดสาร]] [VP [VACT ลง] [PP [RPRE บน] [NP [NCMN แผ่น] [NP [NCMN ทองแดง] [ADJC [PREL ที่] [VP [VACT แช่] [XVAE อยู่] [PP [RPRE ใน] [NP [NCMN ไนโตรเจนเหลว]]]]]]]]]]]',\n",
       " '[S [PP [RPRE เพื่อ] [VP [VACT ใช้] [PP [RPRE ใน] [NP [FIXN การ] [VACT เคลือบ]]]]] [S [NP [NCMN ฟิล์ม]] [VP [VSTA บาง] [PP [RPRE ของ] [NP [NCMN สารตัวนำยิ่งยวด]]]]]]',\n",
       " '[S [PP [RPRE ใน] [NP [NCMN รายงาน]]] [S [NP [NCMN ฉบับ] [DDAC นี้]] [VP [XVBM จะ] [XVAM ได้] [VP [VACT กล่าวถึง] [NP [FIXN <space>] [NCMN เทคโนโลยี]] [PP [RPRE ใน] [NP [NP [FIXN การ] [VP [VACT ออกแบบ] [NP [NCMN กระบวน] [NP [FIXN การ] [VACT สร้าง]]]]] [PUNC <space>] [PP [RPRE และ] [NP [FIXN การ] [VP [VACT พัฒนา] [NP [NCMN มอสเฟสกำลัง] [NP [NCMN ชนิด] [NP [NCMN ดีมอส] [NP [NCMN แบบ] [NP [NCMN เอ็น] [NP [NCMN แชนแนล]]]]]]]]]]]]]]]]',\n",
       " '[S [PP [RPRE ใน] [NP [NCMN รายงาน]]] [S [NP [NCMN ฉบับ] [DDAC นี้]] [PUNC <space>] [VP [XVBM จะ] [XVAM ได้] [VP [VACT กล่าวถึง] [NP [NCMN เทคโนโลยี] [NP [FIXN การ] [VACT ออกแบบ]] [PUNC <comma>] [NP [NCMN <space>] [NP [NCMN กระบวน] [NP [FIXN การ] [VACT สร้าง]]]] [PUNC <space>] [NP [NCMN และ] [NP [FIXN การ] [VP [VACT พัฒนา] [NP [NCMN มอสเฟทกำลัง] [NP [NCMN ชนิด] [NP [NCMN ดีมอส] [NP [NCMN แบบ] [NP [NCMN เอ็นแชนแนล]]]]]]]]]]]]]]',\n",
       " '[S [PP [RPRE โดย] [VP [XVBM จะ] [VP [VSTA อยู่] [NP [NCMN ด้านล่าง] [PP [RPRE ของ] [NP [NCMN ส่วน] [PUNC <space>] [NP [NCMN n] [NP [NCMN <space>] [ADJP [VATT ปกติ]]]]]]]]]] [S [NP [NCMN <space>]] [PUNC <left_parenthesis>] [VP [XVBM จะ] [VP [VACT เรียก] [VP [VSTA เป็น] [NP [NCMN ส่วน] [PUNC <space>] [NP [NCMN n] [NP [NP [NCMN <space>] [PUNC <right_parenthesis>] [NP [FIXN <space>] [VP [VATT หนา] [AVBP [ADVN ประมาณ]]]]] [PUNC <space>] [NP [NCNM 300]]] [PUNC <minus>] [CLSP [DCNM 400] [PUNC <space>] [CMTR ไมครอน]]]]]]]]]',\n",
       " '[S [NP [NCMN ปริมาณ] [NP [FIXN ความ] [VP [VSTA เข้มข้น] [PP [RPRE ของ] [NP [NCMN ส่วนเจือ] [PP [RPRE ใน] [NP [NP [NCMN ส่วน] [ADJP [VATT พี]]] [PUNC <space>] [PP [RPRE และ] [NP [FIXN ความ] [VATT หนา]]]]]]]]] [PP [RPRE ของ] [NP [NCMN ชั้น] [NP [NCMN ออกไซด์] [ADJC [PREL ที่] [S [NP [NCMN ส่วน] [NP [NCMN เกท]]] [PUNC <space>] [VP [XVBM จะ] [VP [VSTA เป็น] [NP [NCMN พารามิเตอร์] [ADJP [VATT สำคัญ]]]] [PP [RPRE ใน] [NP [FIXN การ] [VP [VACT กำหนด] [NP [NP [NCMN แรงดัน] [ADJP [VATT วิกฤติ]]] [PUNC <space>] [NP [NCMN VTH] [PUNC <space>] [PUNC <left_parenthesis>] [NCMN Threshold voltage] [PUNC <right_parenthesis>] [PUNC <space>]]] [JSBR ซึ่ง] [VP [VSTA เป็น] [NP [NCMN แรงดัน]]]]]]]]]]]]] [VP [VACT ไบอัส] [NP [CLTV ส่วน] [NP [NCMN เกท] [PUNC <space>] [PUNC <left_parenthesis>] [NCMN VG] [PUNC <right_parenthesis>] [PUNC <space>]] [ADJC [PREL ที่] [VP [VSTA เริ่ม] [VP [VACT ทำให้เกิด] [NP [NCMN ช่องทาง]]]]]] [VP [VACT นำ] [NP [NCMN กระแสชิ้น] [PP [RPRE จาก] [NP [NCMN เครน] [PP [RPRE ไปยัง] [NP [NCMN ซอส]]]]]]]]]',\n",
       " '[S [PP [RPRE จาก] [NP [NCMN ลักษณะ]]] [S [NP [NCMN โครงสร้าง] [PP [RPRE ของ] [NP [NCMN ดีมอส] [ADJC [PREL ที่] [VP [XVAM สามารถ] [VP [VACT ใช้] [NP [NCMN แรงดันไฟฟ้า] [ADJC [PREL ที่] [S [NP [NCMN ส่วน] [NP [NCMN เกท] [ADJP [VATT ต่ำๆ]]]] [PUNC <space>] [VP [XVAE ไป] [VP [VACT ควบคุม] [NP [NCMN กระแส] [NP [NCMN เครน] [NP [NCMN จำนวน]]]] [AVBP [ADVN มากๆ]]]]]]]]]]]]] [PUNC <space>] [VP [VSTA ได้]]]]',\n",
       " '[S [PP [RPRE จาก] [NP [NCMN ลักษณะ]]] [S [NP [NCMN คุณสมบัติ] [NP [FIXN ความ]]] [VP [VSTA สัมพันธ์] [PP [RPRE ของ] [NP [NCMN กระแส] [NP [NP [NCMN เครน]] [PUNC <space>] [PP [RPRE และ] [NP [NCMN แรงดัน] [NP [NCMN เครน] [PP [RPRE ของ] [NP [NCMN ดีมอส] [ADJC [PREL ที่] [ADJP [NCMN แรงดัน] [NP [NP [NCMN เกท]] [NP [NCMN ค่า] [DIAC ต่างๆ]] [PUNC <space>] [JSBR ดัง] [VP [VACT แสดง] [NP [NCMN ในรูป] [DONM ที่ 4]]]]]]]]]]]]]]]]]',\n",
       " '[S [PP [RPRE จาก] [NP [NCMN ลักษณะ]]] [S [NP [NP [FIXN การ] [VACT ทำงาน]] [JCRG และ] [NP [NCMN กราฟ]]] [VP [VACT แสดง] [NP [NCMN คุณสมบัติ] [NP [FIXN ความ] [VP [VACT สัมพันธ์] [PP [RPRE ของ] [NP [NP [NCMN กระแสเครน]] [PUNC <space>] [PP [RPRE และ] [NP [NCMN แรงดัน] [NP [NCMN เครน] [PP [RPRE ของ] [NP [NCMN ดีมอส] [NP [NCMN แบบ] [NP [NCMN เอ็นแชนแนล]]]]]]]]]] [PUNC <space>] [VP [XVBM จะ] [VP [VSTA แสดงให้เห็น] [PP [RPRE ถึง] [NP [NCMN สมการ] [ADJP [VATT ทั่วไป]]]]] [PP [RPRE ของ] [NP [NCMN มอสเฟท]]]]]]] [PUNC <space>] [JSBR ที่] [VP [VACT นำมาใช้] [XVAE ได้] [PP [RPRE กับ] [NP [NCMN ดีมอส]]]]]]]',\n",
       " '[S [PP [RPRE โดย] [VP [XVBM จะ] [VP [VACT แสดง] [NP [FIXN ความ] [VSTA สัมพันธ์]] [PP [RPRE ของ] [NP [NCMN พารามิเตอร์] [DIAC ต่างๆ]]]]]] [S [NP [NP [NCMN <space>] [ADJC [PREL ที่] [ADJP [VATT สำคัญ]]]] [PUNC <space>] [PP [PREL ที่] [VP [VACT เปลี่ยนแปลง]]]] [VP [VACT ไป] [XVAE ได้] [PP [RPRE ตาม] [NP [NCMN ลักษณะ] [NP [NP [NCMN โครงสร้าง]] [JCRG และ] [NP [FIXN การ] [VP [VACT ไบอัส] [NP [NP [NCMN ที่] [PP [RPRE ให้กับ] [NP [NCMN ดีมอส]]]] [PUNC <space>] [NP [NCMN ทั้ง] [PP [RPRE ใน] [NP [NCMN ช่วง] [PP [RPRE เชิง] [NP [NCMN เส้น]]]]]] [JCRG และ] [NP [NCMN ช่วง]]] [VP [VSTA อิ่มตัว] [NP [NCMN <space>]] [AVBP [ADVN ดังนี้]]]]]] [PUNC <space>] [NP [NCNM 2]] [PUNC <comma>] [NP [NCMN <space>] [DONM 3]]]]]]]',\n",
       " '[S [S [NP [RPRE ใน] [NP [FIXN การ] [VACT สร้าง]]] [VP [XVAM ได้] [VP [VACT ออกแบบ]]]] [JSBR ให้] [S [NP [NCMN ดีมอส]] [VP [VSTA มี] [NP [NCMN ลักษณะ] [NP [NCMN ลวดลาย] [NP [NP [NCMN ด้านบน]] [PUNC <space>] [PP [RPRE ดัง] [NP [NCMN รูป] [DONM ที่ 5]]]]]]]]]',\n",
       " '[S [PP [RPRE เพื่อ] [VP [VACT ศึกษา] [NP [NCMN ผล] [PP [RPRE ของ] [NP [FIXN ความ] [VSTA ก้าวหน้า]]]] [PP [RPRE ของ] [NP [NCMN แชนแนล] [PP [RPRE ใน] [NP [FIXN การ] [VACT ใช้]]]]]]] [S [NP [NCMN ดีมอส]] [VP [VSTA เป็น] [NP [NCMN มอสเฟตกำลัง]]]]]',\n",
       " '[S [PP [RPRE โดย] [VP [VACT แพร่]]] [S [NP [NCMN ซอส]] [VP [VACT ลง] [PP [RPRE บน] [NP [NCMN สารเจือโบรอน]]]]]]',\n",
       " '[S [PP [RPRE สำหรับ] [NP [NCMN ส่วน]]] [S [NP [NCMN เครน]] [VP [XVBM จะ] [VP [VSTA อยู่] [NP [NCMN ด้านหลัง] [PP [RPRE ของ] [NP [NCMN แผ่น] [NP [NCMN ซิลิกอน]]]]]]]]]',\n",
       " '[S [PP [PREL ซึ่ง] [VP [XVMM อาจ] [VP [VSTA เกิด] [NP [FIXN ความ] [VP [VSTA เข้มข้น] [PP [RPRE ของ] [NP [NP [NCMN สารเจือสี] [NP [NCMN ชนิด] [ADJP [VATT พี]]]] [PUNC ฺBR] [PP [RPRE ที่] [NP [NCMN บริเวณ] [NP [NCMN ผิวหน้า] [PP [RPRE ใน] [NP [NCMN ส่วน]]]]]]]]]]]]] [S [NP [NCMN แชนแนล]] [VP [VSTA มี] [NP [NCMN ค่า] [ADJP [VATT น้อย]]] [AVBP [ADVN เกินไป]]]]]',\n",
       " '[S [PP [RPRE จาก] [NP [NCMN ค่า]]] [S [NP [NCMN แรงดัน] [ADJP [VATT วิกฤติ]] [PP [RPRE ใน] [NP [NP [NCMN ตาราง] [DONM ที่ 1]] [PUNC <space>] [NP [NCMN ผล] [PP [RPRE ของ] [NP [NCMN กระแส] [VP [VSTA รั่วไหล] [NP [DDAC นี้]]]]]]]]] [PUNC <space>] [VP [VP [XVBM คง] [VP [VSTA เกิด] [PP [RPRE จาก] [NP [NCMN บริเวณ] [NP [NCMN ผิวสัมผัส] [PP [RPRE ระหว่าง] [NP [NCMN <space>] [ADJP [NEG ไม่] [VATT สะอาด]]]]]]]]] [AVBP [ADVN พอ]]]]]',\n",
       " '[S [PP [PREL ซึ่ง] [VP [XVMM อาจ] [VP [VSTA เกิด] [PP [RPRE จาก] [NP [FIXN ความ] [VP [VSTA เข้มข้น] [PP [RPRE ของ] [NP [NCMN สารเจือ] [PP [RPRE ภายใน] [NP [NCMN ส่วน]]]]]]]]]]] [S [NP [NCMN พี]] [VP [XVBM ยัง] [VP [VSTA สูง] [XVAE ไป]]]]]',\n",
       " '[S [PP [PREL ซึ่ง] [VP [XVBM จะ] [VP [VACT แก้ไข] [VP [VSTA ได้] [PUNC <space>] [NP [RPRE โดย] [NP [FIXN การ] [VP [VACT เปลี่ยน] [XVAE ไป] [VP [VACT ใช้] [NP [NCMN แผ่น]]]]]]]]]] [S [NP [NCMN ซิลิกอน] [NP [NCMN แบบ] [NP [NP [NCMN อิพิทาซี]] [PUNC <space>] [PP [RPRE ที่] [NP [NCMN ชั้น] [NP [NCMN ฐานรอง]]]]]]] [VP [VSTA มี] [NP [NCMN พิกัด] [NP [FIXN ความ] [VACT ต้านทาน]]] [AVBP [ADVN ต่ำ] [ADVN กว่า]] [PP [PREL ที่] [VP [VACT ใช้] [XVAE อยู่] [PP [RPRE ใน] [NP [NCMN ปัจจุบัน]]]]]]]]',\n",
       " '[S [PP [RPRE จาก] [NP [NCMN กราฟ]]] [S [NP [NP [NP [NCMN ผล]] [NP [FIXN การ] [VP [VACT ทดลอง] [PP [RPRE ใน] [NP [NP [NCMN รูป] [DONM ที่ 11]] [PUNC <space>] [PP [RPRE และ] [PUNC <space>] [NP [NCNM 12]]]]] [PUNC <space>] [VP [XVBM จะ] [VP [VSTA เห็น] [XVAE ได้] [PP [RPRE ว่า] [PUNC <space>] [NP [NCMN ค่า]]]]]]] [PUNC <space>] [JSBR จะ] [VP [VATT สูง] [AVBP [ADVN ขึ้น]]]] [PUNC <space>] [PP [RPRE เมื่อ] [NP [NP [FIXN ความ] [VATT กว้าง]] [PP [RPRE ของ] [NP [NCMN แชนแนล] [PUNC <space>] [PUNC <left_parenthesis>] [NCMN W] [PUNC <right_parenthesis>] [PUNC <space>]]]]]] [VP [VSTA มี] [NP [NCMN ค่า]] [AVBP [ADVN สูง] [XVAE ขึ้น]]]]]',\n",
       " '[S [PP [RPRE จาก] [NP [NCMN ผล] [NP [NP [FIXN การ] [VACT ทดลอง]] [ADJC [PREL ที่] [VP [VACT ผ่าน] [XVAE มา] [VP [VACT สรุป] [VP [VSTA ได้] [JSBR ว่า]]]]]] [PUNC <space>] [NP [NCMN มอสเฟสกำลัง] [ADJC [PREL ที่] [VP [VSTA มี] [NP [NCMN คุณสมบัติ] [ADJP [VATT ดี]]] [VP [XVBM จะ] [XVMM ต้อง] [VP [VSTA มี] [NP [NCMN แรงดัน] [ADJP [VATT วิกฤติ]]] [AVBP [ADVN ต่ำ]]]]]]] [PUNC <comma>] [NP [NCMN <space>] [NP [NCMN กระแส] [VP [VSTA รั่วไหล] [ADJP [VATT ต่ำ]]]] [PUNC <comma>] [NP [NCMN <space>] [ADJP [VATT ต่ำ]]] [PUNC <comma>] [NP [NCMN <space>]]]]] [S [NP [NCMN แรงดัน] [VP [VSTA พังทะลาย] [NP [NCMN และ]]]] [PUNC <space>] [VP [VSTA มี] [NP [NCMN ค่า] [ADJP [VATT สูง]]]]]]',\n",
       " '[S [PP [RPRE จาก] [NP [FIXN การ]]] [S [JSBR ที่] [NP [NPRP กระทรวงวิทยาศาสตร์ เทคโนโลยีและการพลังงาน]] [PUNC <space>] [VP [VSTA เป็น] [NP [NP [NCMN แกนนำ] [PP [RPRE ใน] [NP [FIXN การ] [VP [VACT ดำเนินงาน] [PP [RPRE ตาม] [NP [NCMN แผนพัฒนาวิทยาศาสตร์และเทคโนโลยี]]]]]]] [PUNC <space>] [PP [RPRE ของ] [NP [NCMN แผนพัฒนาเศรษฐกิจและสังคมแห่งชาติ]]]]]]]',\n",
       " '[S [S [NP [NCMN และ]] [VP [VACT ขอขอบคุณ] [NP [NCMN นักวิจัย] [CLSP [DIBQ ทุก] [CNIT ท่าน]] [ADJC [PREL ที่] [VP [XVAM ได้] [VP [VACT เสียสละ] [JCRG ทั้ง] [NP [NCMN แรงกาย] [NP [NCMN แรงใจ] [JCRG และ] [NCMN สติปัญญา]]]]]]] [PUNC <space>] [JSBR เพื่อที่จะให้] [VP [VSTA ได้] [XVAE มา]]]] [JSBR ซึ่ง] [S [NP [NCMN ผลงานวิจัย] [ADJC [PREL ที่] [ADJP [VATT มีคุณภาพ]]]] [VP [VACT เผยแพร่] [PP [RPRE สู่] [NP [NCMN สาธารณชน]]]]]]',\n",
       " '[S [S [NP [NCMN ซึ่ง]] [VP [VACT นำไปสู่] [NP [FIXN การ] [VACT ผลิต]]]] [JCRG และ] [S [NP [FIXN การ] [VP [VACT ใช้งาน] [PP [RPRE ใน] [NP [NCMN เชิง] [NP [NCMN พาณิชย์] [JCRG และ] [NCMN อุตสาหกรรม]]]] [XVAE ได้] [AVBP [FIXV อย่าง] [VATT กว้างขวาง]]]] [PUNC <space>] [VP [VACT ทั้ง] [PP [RPRE ใน] [NP [NCMN ประเทศ] [JCRG และ] [NCMN ต่างประเทศ]]]]]]',\n",
       " '[S [S [NP [FIXN ความ] [VP [VSTA สำเร็จ] [PP [RPRE ของ] [NP [NP [NCMN โครงการวิจัย] [DIAC ต่างๆ]] [PUNC <space>] [PP [RPRE ที่] [NP [NPRP ศูนย์เทคโนโลยีอิเล็กทรอนิกส์ และคอมพิวเตอร์แห่งชาติ]]]]]]] [PUNC <space>] [VP [VSTA ได้]]] [JSBR ให้] [S [NP [FIXN การ] [VACT สนับสนุน]] [PUNC <space>] [VP [XVBM จึง] [VP [VSTA ถือ] [VP [VSTA เป็น] [NP [FIXN ความ] [VP [VSTA ก้าวหน้า] [PP [RPRE ของ] [NP [FIXN การ] [VP [VACT วิจัย] [NP [NCMN <space>]]]]]]]]] [JCRG และ] [VP [VACT พัฒนา] [NP [CLTV ด้าน] [NP [NCMN อิเล็กทรอนิกส์] [JCRG และ] [NCMN คอมพิวเตอร์]] [ADJC [PREL ที่] [VP [VSTA อยู่] [PP [RPRE ใน] [NP [NCMN ระดับ]]]]]] [AVBP [ADVN น่าพอใจ]]]]]]',\n",
       " '[S [PP [RPRE โดย] [ADJP [VATT เฉพาะ]]] [S [NP [NCMN งานวิจัย] [ADJC [PREL ที่] [VP [VSTA มี] [NP [FIXN การ] [VACT ประสาน]]]]] [VP [VACT ร่วมมือ] [PP [RPRE ใน] [NP [NP [NCMN ลักษณะ]] [NP [NCMN ไตรภาคี]] [PUNC <space>] [JSBR ที่] [VP [VSTA มี] [NP [NCMN ภาคเอกชน]] [VP [VACT ร่วมงาน] [VP [VACT วิจัย] [AVBP [FIXV อย่าง] [ADJP [VATT จริงจัง] [JCRG และ] [VATT จริงใจ]]]]]]]]]]]',\n",
       " '[S [PP [RPRE โดย] [VP [XVAM ได้] [VP [VACT ส่งเสริม] [JCRG และ] [VACT สนับสนุน]]]] [S [NP [NCMN งานวิจัย] [PUNC <space>] [NP [NCMN และ]]] [VP [VACT พัฒนา] [NP [NP [NCMN ด้าน]] [NP [NCMN อิเล็กทรอนิกส์] [JCRG และ] [NCMN คอมพิวเตอร์]] [PUNC <space>] [JSBR ที่] [VP [VACT มุ่ง] [PP [RPRE ไปสู่] [NP [FIXN การ] [VP [VACT ผลิต] [PP [RPRE ทาง] [NP [NCMN อุตสาหกรรม]]]]]] [AVBP [FIXV อย่าง] [ADVN เต็มที่]]]] [PUNC <space>] [JSBR เพื่อให้] [VP [VACT แข่งขัน] [PP [RPRE กับ] [NP [NCMN ต่างประเทศ]]] [XVAE ได้]]]]]',\n",
       " '[S [PP [PREL ซึ่ง] [VP [VSTA มี] [XVAE อยู่]]] [S [NP [CLSP [DIBQ หลาย] [CNIT โครงการ]] [ADJC [PREL ที่] [VP [VSTA ประสบ] [NP [NCMN ผลสำเร็จ]]]]] [VP [VSTA เป็น] [ADJC [PREL ที่] [ADJP [VATT น่าพอใจ]]]]]]',\n",
       " '[S [PP [RPRE โดย] [VP [VSTA มี]]] [S [NP [NCMN เอกชน]] [VP [VACT เข้าร่วม] [VP [VACT ดำเนินการ] [AVBP [ADVN ด้วย]]]]]]',\n",
       " '[S [PP [RPRE ดัง] [VP [VSTA ปรากฏ] [VP [VSTA เป็น] [NP [NCMN ผลงาน] [ADJC [PREL ที่] [ADJP [NCMN บรรดา] [NP [NCMN นักวิจัย] [JCRG และ] [NCMN ผู้ประกอบการ]]]]]]]] [S [NP [NCMN ภาคเอกชน]] [PUNC <space>] [VP [XVAM ได้] [VP [VACT นำมา] [VP [VACT เสนอ] [PP [RPRE ใน] [NP [FIXN การ] [VP [VACT ประชุม] [PP [RPRE ทาง] [NP [NCMN วิชาการ] [CLSP [CFQC ครั้ง] [DDAC นี้]]]]]]]]]]]]',\n",
       " '[S [PP [RPRE โดย] [VP [XVAM ได้] [VP [VACT ฝึกอบรม] [JCRG และ] [VACT บริการ]]]] [S [NP [NP [NP [NP [NCMN เทคโนโลยี] [NP [FIXN การ] [VP [VACT ออกแบบ] [PP [RPRE ด้วย] [NP [NCMN คอมพิวเตอร์] [PP [RPRE ใน] [NP [NCMN ระดับ] [ADJP [VATT พื้นฐาน]]]]]]]] [PUNC <space>] [NP [NCMN ระดับ] [PP [RPRE กลาง] [PUNC <space>] [JCRG และ] [NP [NCMN ระดับ] [ADJP [VATT สูง]] [PP [RPRE แก่] [NP [NCMN บุคลากร] [PP [RPRE ของ] [NP [NCMN มหาวิทยาลัย]]]]]]]] [PUNC <space>] [NP [NPRP กระทรวงวิทยาศาสตร์ฯ]]] [PUNC <space>] [PP [RPRE และ] [NP [NCMN หน่วยงาน]]]] [DIAC อื่น] [ADJC [PREL ที่] [VP [VSTA เกี่ยวข้อง]]]] [JCRG ทั้ง] [NP [NCMN ภาครัฐ] [JCRG และ] [NCMN ภาคเอกชน]]] [VP [VACT ไป] [XVAE แล้ว] [NP [NCMN จำนวน] [CLSP [DIBQ หลาย] [CLTV รุ่น]]]]]]',\n",
       " '[S [PP [RPRE เพื่อ] [NP [NCMN พัฒนา]]] [S [NP [NCMN บุคลากร]] [JSBR ให้] [VP [VSTA สอดคล้อง] [PP [RPRE กับ] [NP [NCMN เทคโนโลยี]]]]]]',\n",
       " '[S [PP [RPRE โดย] [VP [XVBM จะ] [VACT ทำการ]]] [S [NP [NCMN จะ]] [VP [VP [VACT ฝึกอบรม] [JCRG และ] [VACT บริการ]] [AVBP [FIXV อย่าง] [VSTA ต่อเนื่อง] [ADVN ต่อไป]]]]]',\n",
       " '[S [PP [RPRE ใน] [NP [NCMN โอกาส] [DDAC นี้]]] [S [NP [PPRS ผม]] [VP [VACT ขอแสดงความขอบคุณ] [NP [NCMN ต่อ] [NP [NCMN นักวิจัย]] [PUNC <space>] [NP [NCMN ภาคเอกชน]] [PUNC <space>] [NP [NCMN ตลอดจน] [NP [NP [PPRS ผู้]] [ADJC [PREL ที่] [VP [VSTA เกี่ยวข้อง] [NP [CLSP [DIBQ ทุก] [CLTV ฝ่าย]] [ADJC [PREL ที่] [VP [XVAM ได้] [VP [VACT ให้] [NP [FIXN ความ] [VACT ร่วมมือ]] [PP [RPRE กับ] [NP [NCMN ศูนย์ฯ] [NP [NCMN <space>]]]]]]]]]]]]] [AVBP [ADVP ด้วยดี] [ADVN ตลอดมา]]]]]',\n",
       " '[S [PP [RPRE เพื่อ] [VP [VACT นำไปสู่] [NP [FIXN การ] [VP [VACT ผลิต] [NP [NCMN เชิง]]]]]] [S [NP [NCMN อุตสาหกรรม]] [VP [VSTA เป็น] [ADJP [VATT สำคัญ]]]]]',\n",
       " '[S [PP [RPRE โดย] [VP [VSTA มี] [NP [NCMN รัฐมนตรีว่าการ]]]] [S [NP [NCMN กระทรวงฯ]] [PUNC <space>] [VP [VSTA เป็น] [NP [NCMN ประธาน]] [AVBP [ADVN เช่นกัน]]]]]',\n",
       " '[S [PP [RPRE เพื่อ] [VP [VACT ทำ] [NP [NP [FIXN การ] [VP [VP [VACT วิจัย] [JCRG และ] [VACT พัฒนา]] [JSBR ให้] [VP [VSTA ได้มา] [JSBR ซึ่ง]]]] [NP [NCMN ต้นแบบ]] [PUNC <space>] [JSBR เพื่อ] [VP [XVBM จะ] [VACT นำไปสู่]]]]] [S [NP [FIXN การ] [VACT ผลิต]] [VP [VSTA เป็น] [ADJP [VATT สำคัญ]]]]]',\n",
       " '[S [PP [RPRE กล่าวคือ] [NP [FIXN <space>] [VP [VSTA มี] [NP [NCMN คณะ]]]]] [S [NP [NCMN กรรมการนโยบาย] [JCRG และ] [NCMN คณะ]] [VP [VACT กรรมการบริหาร]]]]',\n",
       " '[S [PP [RPRE จาก] [NP [FIXN การ] [VACT สนับสนุน]]] [S [NP [NCMN โครงการวิจัย] [NP [DIBQ ประมาณ] [NP [NCMN <space>] [NP [NCNM 50]] [PUNC <minus>] [NP [NCNM 60]] [PUNC <space>] [NP [NCMN โครงการ] [ADJP [VATT ย่อย]] [PP [RPRE ภายใต้] [PUNC <space>] [NP [NCNM 12]]]]]] [PUNC <space>] [NP [NP [NCMN โครงการ] [ADJP [VATT หลัก]]] [PUNC <space>] [PP [RPRE ตั้งแต่] [NP [NCMN ปีงบประมาณ]]]] [PUNC <space>] [NP [NCNM 2529]]] [PUNC <space>] [VP [VACT มา] [PP [RPRE จนถึง] [NP [NCMN งบประมาณ] [PUNC <space>] [NP [NCNM 2532]]]] [PUNC <space>] [VP [VSTA มี] [NP [NCMN ผลงาน]] [VP [XVAE ออกมา] [VP [VSTA ปรากฎ] [NP [DIBQ หลาย] [NCMN โครงการ]]]]]]]]',\n",
       " '[S [PP [RPRE โดย] [VP [VACT คาดว่า] [PP [RPRE ก่อน] [NP [NCMN สิ้น] [NP [NCMN ปีงบประมาณ]] [PUNC <space>] [NP [NCNM 2533]] [PUNC <space>] [NP [DDAC นี้]]]] [PUNC <space>] [VP [XVBM จะ] [VSTA มี]]]] [S [NP [NCMN ไมโครคอมพิวเตอร์] [NP [NCMN <space>] [CLSP [DCNM 32] [PUNC <space>] [CMTR บิต]]] [PUNC <space>] [CLSP [DCNM 20] [PUNC <space>] [CMTR Mhz]]] [PUNC <space>] [VP [VACT ออกมา] [PP [RPRE สู่] [NP [FIXN การ] [VACT ผลิต]]]]]]',\n",
       " '[S [NP [NCMN และ]] [JSBR หาก] [S [NP [PDMN ทุกอย่าง]] [VP [VSTA เป็นไป] [AVBP [ADVN ด้วยดี]]]]]',\n",
       " '[S [S [NP [NP [FIXN เป็น]] [ADJC [PREL ที่] [VP [VP [VSTA คาดคะเน] [JSBR ว่า]] [AVBP [FIXV อย่าง] [ADVN ช้า]]]]] [VP [VSTA ประมาณ] [VP [VP [VSTA สิ้น] [NP [CNIT ปี] [PUNC <space>] [NCNM 2533]]] [NP [NCMN <space>]]]]] [JCRG หรือ] [S [NP [NCMN ต้น] [NP [CNIT ปี] [PUNC <space>] [NCNM 2534]] [PUNC <space>] [NP [PPRS เรา] [VP [XVBM คงจะ] [XVAM สามารถ] [VP [VACT ทำ]]]] [PUNC <space>] [NP [NCMN VLSI]]] [PUNC <space>] [VP [VACT ให้] [NP [NCMN เอกชน] [VP [VACT ผลิต] [XVAE ออก] [PP [RPRE สู่] [NP [NCMN ตลาด]]]]] [XVAE ได้]]]]',\n",
       " '[S [PP [RPRE ใน] [NP [NCMN ด้าน]]] [S [NP [NCMN โทรคมนาคม]] [PUNC <space>] [VP [XVAM ได้] [VP [VSTA มี] [NP [FIXN การ] [VACT สนับสนุน]]]]] [JSBR ให้] [S [NP [NP [VACT วิจัย] [JCRG และ] [VACT พัฒนา]] [PUNC <space>] [NP [NCMN อุปกรณ์โทรศัพท์] [NP [NCMN ประเภท] [DIAC ต่างๆ]]]] [PUNC <space>] [VP [VP [VSTA คือ] [PUNC <space>] [NP [NCMN Feature Phone] [PUNC <comma>] [PUNC <space>] [NCMN Handfree Phone] [PUNC <comma>] [PUNC <space>]]] [NP [NP [NCMN Cordless Phone]] [PUNC <space>] [PP [RPRE รวมทั้ง] [NP [NCMN ชุมสาย] [NP [NP [NCMN ขนาด] [ADJP [VATT เล็ก]]] [ADJC [PREL ที่] [VP [VACT เรียก] [PP [RPRE ว่า] [PUNC <space>] [NP [NCMN PABX]]]]]]]]]]]]',\n",
       " '[S [S [NP [NCMN โครงการ] [NP [NP [NCMN <space>]] [NP [NCMN CT - Scanner]] [PUNC <space>] [JSBR หลังจากที่] [VP [XVAM สามารถ] [VP [VACT ถ่าย] [NP [NCMN ภาพตัดขวาง] [NP [NP [NCMN หนู]] [PUNC <space>] [PP [RPRE และ] [NP [NCMN สมอง] [PP [RPRE ของ] [NP [NCMN กระต่าย] [VP [VSTA ได้] [NP [NCMN <space>]]]]]]]] [PUNC <left_parenthesis>] [NP [DIBQ ประมาณ] [PUNC <space>] [NCMN มีนาคม]] [PUNC <space>] [NP [NCNM 2533]]]]]] [PUNC <right_parenthesis>] [NP [FIXN <space>] [VP [JSBR ก็] [VP [VACT คาดว่า] [VP [XVBM คงจะ] [XVAM สามารถ] [VP [VACT ถ่าย] [NP [NCMN ภาพตัดขวาง] [PP [RPRE ของ] [NP [NCMN มนุษย์]]]] [XVAE ได้]]]]]] [PUNC <space>] [NP [NCMN ราว]]] [VP [VP [VSTA สิ้น] [NP [CNIT ปี] [PUNC <space>] [NCNM 2533]]] [NP [NCMN <space>]]]] [JCRG หรือ] [S [NP [NCMN ต้น] [NP [CNIT ปี] [PUNC <space>] [NCNM 2534]]] [PUNC <space>] [VP [VSTA เป็น] [AVBP [FIXV อย่าง] [ADVN ช้า]]]]]',\n",
       " '[S [PP [RPRE กล่าวคือ] [VP [XVAM ได้] [VP [VACT ปรับปรุง]]]] [S [NP [NP [CNIT ชั้น] [PUNC <space>] [NCNM 7]] [PUNC <space>] [PP [RPRE ของ] [NP [NPRP อาคารสำนักปลัดกระทรวงวิทยาศาสตร์ฯ]]]] [PUNC <space>] [VP [XVAM ให้] [VP [VSTA เป็น] [PUNC <space>] [NP [NCMN Training] [PUNC <space>] [NCMN และ] [PUNC <space>] [NCMN Design] [PUNC <space>] [NCMN Center]]]]]]',\n",
       " '[S [PP [RPRE เพื่อ] [VP [VACT รองรับ] [NP [NCMN จำนวน]]]] [S [NP [NCMN นักศึกษา] [ADJC [PREL ที่] [VP [VACT ส่ง]]]] [VP [XVAE ไป] [VP [VACT เรียน] [NP [NCMN ต่างประเทศ] [NP [NCMN ทั้ง]] [PUNC <space>] [CLSP [DCNM 800] [PUNC <space>] [CNIT คน]]]]]]]',\n",
       " '[S [PP [RPRE โดย] [NP [VACT ดำเนินการ] [VACT สนับสนุน]]] [S [NP [NP [FIXN การ] [VACT วิจัย]] [PUNC <space>] [NP [NCMN และ]]] [VP [VACT พัฒนา] [PP [PREL ที่] [VP [VACT นำไปสู่] [NP [FIXN การ] [VACT ผลิต]] [PP [RPRE ทาง] [NP [NCMN อุตสาหกรรม]]] [AVBP [FIXV อย่าง] [ADVN เต็มที่]]]]]]]',\n",
       " '[S [PP [RPRE เพื่อ] [NP [FIXN การ] [VP [VACT บริการ] [NP [NCMN ข้อมูล] [JCRG หรือ] [NCMN ข้อสนเทศ]] [PP [RPRE แก่] [NP [PPRS ผู้]]]]]] [S [NP [NCMN ที่]] [VP [VACT ต้องการ] [NP [NP [FIXN ความ] [VSTA รู้]] [JCRG และ] [NP [NCMN คำตอบ]]]]]]',\n",
       " '[S [PP [RPRE ให้] [VP [VSTA มี]]] [S [NP [NCMN ศูนย์ประสานงาน]] [VP [VSTA อยู่] [PP [RPRE ที่] [PUNC <space>] [NP [NPRP ศูนย์เทคโนโลยีอิเล็กทรอนิกส์และคอมพิวเตอร์แห่งชาติ]]]]]]',\n",
       " '[S [NP [NCMN ฐานข้อมูลห้องสมุดสถาบันอุดมศึกษา]] [PUNC <space>] [VP [VSTA หมายถึง] [PUNC <space>] [NP [NCMN ฐานข้อมูล] [ADJC [PREL ที่] [S [NP [NCMN ห้องสมุดสถาบันอุดมศึกษา] [PP [RPRE ใน] [NP [NCMN โครงการฯ]]]] [PUNC <space>] [VP [XVAM ได้] [VP [VACT พัฒนา] [XVAE ขึ้น] [AVBP [ADVN เอง]]]]]]]]]',\n",
       " '[S [PP [RPRE ใน] [NP [NCMN ปีงบประมาณ] [PUNC <space>] [NP [NP [NCNM 2532]] [NP [NCMN <space>] [NP [NCMN ห้องสมุดสถาบันอุดมศึกษา]] [PUNC <space>] [CLSP [DCNM 11] [PUNC <space>] [CNIT แห่ง]]] [PUNC <space>] [JSBR ที่] [VP [VACT ร่วม] [NP [NCMN โครงการฯ]]]]]] [S [NP [FIXN <space>] [VP [VSTA ได้] [AVBP [ADVN ร่วมกัน]] [VP [VACT วางแผน] [VP [VACT กำหนด] [NP [NCMN นโยบาย]]]]]] [PUNC <space>] [VP [VACT กำหนด] [NP [NCMN มาตรฐาน] [NP [NP [NCMN โครงสร้างระเบียนข้อมูล]] [PUNC <space>] [PP [RPRE และ] [NP [NCMN โปรแกรม] [ADJC [PREL ที่] [VP [XVBM จะ] [VP [VACT ใช้] [PP [RPRE ใน] [NP [FIXN การ] [VP [VACT บันทึก] [NP [NP [NCMN ข้อมูล]] [PUNC <space>] [PP [RPRE และ] [NP [FIXN การ] [VP [VACT จัดการ] [NP [NCMN ฐานข้อมูล]] [AVBP [ADVN ร่วมกัน]]]]]]]]]]]]]]]]]]]',\n",
       " '[S [PP [RPRE และ] [NP [NCMN ฐานข้อมูล] [PP [RPRE ของ] [NP [NCMN ห้องสมุด] [CLSP [DIBQ บาง] [CNIT แห่ง]]]]] [VP [XVAM ได้] [VP [VACT จัด] [VP [VSTA เป็น] [NP [NCMN เครือข่าย]]]]]] [S [NP [NCMN ระดับชาติ]] [PUNC <space>] [VP [VACT ดำเนินการ] [NP [VACT ร่วมมือ] [JCRG และ] [VACT เชื่อมโยง]] [PP [RPRE กับ] [NP [NCMN ฐานข้อมูล] [NP [NCMN สาขาวิชา] [DDAC เดียวกัน]]]] [AVBP [FIXV อย่าง] [VP [VSTA เป็น] [NP [NP [NCMN ทางการ]] [PUNC <space>] [NP [NCMN ทั้ง] [PP [RPRE ใน] [NP [NCMN ระดับ] [NP [NCMN ภูมิภาค]]]]] [JCRG และ] [NP [NCMN ระดับ] [NP [NCMN นานาชาติ]]]]]]]]]',\n",
       " '[S [S [NP [VACT อธิบาย] [VACT ได้]] [VP [JSBR ว่า] [NP [NCMN <space>]]]] [JSBR เนื่องจาก] [S [NP [NCMN วิธี] [NP [FIXN การ] [VP [VACT จัดการ] [NP [NCMN ข้อมูล]]]]] [VP [VSTA มี] [NP [NCMN ลักษณะ] [ADJP [VATT แตกต่าง]]] [AVBP [ADVN กัน]]]]]',\n",
       " '[S [S [NP [NCMN ปริมาณ] [NP [NCMN ข้อมูล] [ADJC [PREL ที่] [ADJP [VATT แตกต่าง] [AVBP [ADVN กัน]]]]]] [PUNC <space>] [VP [NEG มิได้] [VSTA หมายความ]]] [JSBR ว่า] [S [NP [NCMN คุณภาพ] [PP [RPRE ของ] [NP [NCMN ข้อมูล] [ADJP [VATT แตกต่าง] [AVBP [ADVN กัน]]]]]] [VP [VSTA ตาม] [XVAE ไป] [AVBP [ADVN ด้วย]]]]]',\n",
       " '[S [PP [RPRE จนกระทั่ง] [VP [XVAM ได้] [VP [VACT นำ] [NP [NCMN โลก] [NP [NP [NCMN ปัจจุบัน] [VP [VACT ก้าว] [PP [RPRE สู่] [NP [NP [NP [NCMN ยุค]] [NP [NCMN สารสนเทศ]] [PUNC <space>] [JSBR ซึ่ง] [VP [VSTA เป็น] [NP [FIXN การ] [VACT รวม]] [VP [VACT เอา] [NP [FIXN ความ] [VP [VSTA ก้าวหน้า] [NP [NCMN ระดับ] [ADJP [VATT สูง]]]]] [PP [RPRE ของ] [NP [NP [NCMN วิทยาการคอมพิวเตอร์]] [PUNC <space>] [NP [NCMN วิทยาการซอฟท์แวร์] [PP [RPRE ของ] [NP [FIXN การ] [VACT จัดการ]]]] [JCRG และ] [NP [FIXN การ] [VP [VACT บริหาร] [NP [NCMN ข้อมูล]]]]]]]]] [PUNC <space>] [PP [RPRE และ] [NP [NCMN วิทยาการ] [PP [RPRE ของ] [NP [FIXN การ] [VP [VACT สื่อสาร] [NP [NCMN โทรคมนาคม] [PP [RPRE ด้วย] [NP [NCMN ระบบ] [NP [NCMN ดิจิตอล]]]]]]]]]]]] [PUNC <space>] [VP [XVAE มา] [VP [VSTA ประกอบ] [AVBP [ADVN กัน]] [VP [VP [VSTA เป็น] [NP [NCMN โครงสร้าง] [NP [NCMN เทคโนโลยี] [NP [NCMN พื้นฐาน] [ADJC [PREL ที่] [ADJP [VATT สำคัญ]] [PP [RPRE ของ] [NP [NCMN แหล่งข้อมูล]]]]]] [PUNC <space>] [NP [NP [NCMN แหล่งความรู้]] [PUNC <space>] [PP [RPRE เพื่อ] [NP [FIXN การ] [VACT เข้าถึง]]]] [PUNC <space>] [NP [VACT ค้นหา] [JCRG และ] [VACT แลกเปลี่ยน]]]] [NP [NCMN ข้อสนเทศ] [ADJC [PREL ที่] [ADJP [VATT ทันสมัย]]]] [VP [VSTA สะดวก] [ADJP [VATT รวดเร็ว] [JCRG และ] [VATT ประหยัด]]]]]]]] [PUNC <space>] [PP [RPRE สำหรับ] [NP [FIXN การ] [VACT ลงทุน]]]] [PUNC <space>] [NP [FIXN การ] [VACT ตัดสินใจ]] [PUNC <space>] [NP [FIXN การ] [VP [VACT ค้นคว้า] [JCRG และ] [VACT วิจัย]]]] [PP [RPRE ทาง] [NP [NP [NCMN วิทยาศาสตร์] [JCRG และ] [NCMN เทคโนโลยี]] [PUNC <space>] [NP [NCMN ตลอดจน]]]]]]] [S [NP [FIXN การ] [VACT แบ่ง]] [VP [VACT ใช้] [NP [NCMN ทรัพยากร] [ADJC [PREL ที่] [VP [VSTA มี] [NP [NCMN ราคา] [ADJP [VATT สูง]]]]]] [AVBP [ADVN ร่วมกัน]]]]]',\n",
       " '[S [PP [RPRE เพื่อ] [VP [VACT ตอบสนอง]]] [S [NP [FIXN การ] [VACT ค้นหา]] [VP [VACT แลกเปลี่ยน] [VP [VP [VACT สื่อสาร] [NP [NCMN ข้อมูล] [PUNC <space>] [NP [NP [NCMN ข้อสนเทศ] [DIAC ต่างๆ]] [PUNC <space>] [PP [RPRE ด้วย] [NP [NCMN ระบบ] [PUNC <space>] [NP [NCMN Computer on line]]]]]] [PUNC <space>] [JSBR ที่] [VP [VATT ทันสมัย] [AVBP [ADVN สะดวก] [ADVN รวดเร็ว]]]] [JCRG และ] [VP [VSTA ครอบคลุม] [NP [NCMN พื้นที่] [XVAE ได้] [AVBP [FIXV อย่าง] [VATT กว้างขวาง]]]]] [PP [RPRE ทั่ว] [NP [DIBQ ทุก] [NCMN มุมโลก]]]]]]',\n",
       " '[S [PP [RPRE ใน] [NP [NCMN ปัจจุบัน] [NP [NCMN ข้อมูล]]]] [S [NP [NCMN สารสนเทศ] [DIAC ต่างๆ]] [PUNC <space>] [VP [VSTA มี] [VP [VSTA อยู่] [AVBP [FIXV อย่าง] [ADVN มากมาย]] [VP [VACT กระจาย] [XVAE อยู่] [PP [RPRE ตาม] [NP [NP [NP [NCMN มหาวิทยาลัย] [PUNC <space>] [NCMN ศูนย์วิจัยและปฎิบัติการ] [JCRG และ] [NCMN หน่วยงาน]] [DIAC ต่างๆ]] [PUNC <space>] [PP [RPRE ของ] [NP [NCMN รัฐบาล]]]]]]]]]]',\n",
       " '[S [PP [RPRE โดย] [VP [VACT เลือก] [NP [NP [FIXN การ] [VP [VACT พัฒนา] [NP [NCMN ระบบ] [NP [NCMN เครือข่าย] [DDAC นี้]]] [JSBR ให้] [VP [VSTA เป็น] [NP [NCMN ระบบ] [PUNC <space>] [NP [NCMN X.25 Packet Swithching]]]]]] [PUNC <space>] [PP [RPRE ตาม] [NP [NCMN มาตรฐาน] [PP [RPRE ของ] [PUNC <space>] [NP [NCMN CCITT]]]]]] [PUNC <space>] [JSBR ซึ่ง] [VP [VACT ใช้]]]] [S [NP [PPRS กัน]] [VP [VSTA แพร่หลาย] [NP [NCMN ทั่วโลก]]]]]',\n",
       " '[S [PP [RPRE เพื่อ] [VP [VACT รองรับ]]] [S [NP [FIXN การ]] [VP [VACT ต่อเชื่อม] [PP [RPRE กับ] [NP [NP [NP [NCMN หน่วยงาน] [JCRG และ] [NCMN สถาบันการศึกษา]] [DIAC ต่างๆ]] [PUNC <space>] [NP [NCMN อย่าง] [NP [NPRP น้อย]] [PUNC <space>] [CLSP [DCNM 8] [PUNC <space>] [CNIT แห่ง]]]]]]]]',\n",
       " '[S [PP [RPRE และ] [VP [VSTA อยู่] [PP [RPRE ใน] [NP [NCMN ขั้นตอน] [PP [RPRE ของ] [NP [FIXN การ] [VP [VACT ดำเนินงาน] [VP [VACT จัดหา] [NP [NP [NCMN อุปกรณ์] [DIAC ต่างๆ]] [PUNC <space>] [PP [RPRE ของ] [NP [NCMN ระบบ]]]]]]]]]]]] [S [NP [NCMN เครือข่ายคอมพิวเตอร์]] [PUNC <space>] [VP [VACT คาดว่า] [VP [XVBM จะ] [VP [VACT ติดตั้ง] [NP [VACT ทดสอบ] [VACT ใช้งาน]] [XVAE ได้] [JSBR ก่อน] [VP [VSTA สิ้น] [NP [NCMN ปี] [DDAC นี้]]]]]]]]',\n",
       " '[S [PP [RPRE จาก] [NP [NP [NCMN จำนวน] [NP [NCMN อุปกรณ์] [PUNC <space>] [NP [NCNM 2]]] [PUNC <minus>] [CLSP [DCNM 3] [PUNC <space>] [CNIT ตัว]]] [PP [RPRE ใน] [NP [NCMN หนึ่ง]]]]] [S [NP [NP [NCMN วงจร] [JSBR จนกระทั่ง] [PP [RPRE เป็น] [CLSP [DCNM แสน] [CNIT ตัว]]]] [PP [RPRE และ] [ADJP [VATT เกิน]]]] [VP [VP [VSTA กว่า] [PUNC <space>] [CLSP [DCNM 1 ล้าน] [CNIT ตัว]]] [PP [RPRE ต่อ] [NP [NCMN วงจร] [PP [RPRE ใน] [NP [NCMN ปัจจุบัน]]]]]]]]',\n",
       " '[S [PP [RPRE ใน] [NP [NCMN ต่างประเทศ] [NP [FIXN การ] [VP [VACT พัฒนา] [NP [NCMN วงจร] [NP [NP [NCMN ขนาด] [ADJP [VATT ใหญ่]]] [PUNC <space>] [PP [RPRE ใน] [NP [NCMN เชิง] [NP [NCMN พาณิชย์]]]]]] [VP [XVAM ถูก] [VP [VACT ริเริ่ม] [AVBP [FIXV อย่าง] [VATT จริงจัง]]]]]]]] [S [NP [DIBQ ราว] [PUNC <space>] [NCMN 10]] [PUNC <space>] [VP [VSTA กว่า] [NP [NCMN ปี]]]]]',\n",
       " '[S [S [NP [NCMN องค์กร] [ADJP [VATT หลัก]]] [JSBR ให้] [VP [VSTA ได้มา]]] [JSBR ซึ่ง] [S [NP [NCMN วงจรรวม] [NP [NCMN ขนาด] [ADJP [VATT ใหญ่] [AVBP [ADVN มาก]]]] [PUNC <space>] [NP [NCMN มี] [PUNC <space>] [NP [NCNM 3]]] [PUNC <space>] [NP [NCMN องค์กร] [ADJP [VATT หลักๆ]]]] [PUNC <space>] [VP [VSTA คือ] [PUNC <space>] [NP [NCMN ผู้ผลิต] [NP [NCMN ผลิตภัณฑ์]] [PUNC <space>] [NP [NCMN ผู้ออกแบบ] [NP [NCMN วงจรรวม]]] [PUNC <space>] [NP [NCMN และ] [NP [NCMN ผู้ผลิต] [NP [NCMN วงจรรวม]]]]]]]]',\n",
       " '[S [PP [RPRE เช่น] [PUNC <space>] [NP [NCMN ผู้ผลิต]]] [S [NP [NCMN ผลิตภัณฑ์]] [PUNC <space>] [VP [XVMM อาจจะ] [VP [VSTA เป็น] [NP [NP [NCMN ผู้ออกแบบ] [NP [NCMN วงจรรวม]]] [NP [PDMN เอง]] [PUNC <space>] [JSBR แล้ว] [VP [VACT ว่าจ้าง] [NP [NCMN ผู้ผลิต] [NP [NCMN วงจรรวม]]] [JSBR ให้] [VP [VACT ผลิต] [AVBP [ADVN ก็ได้]]]]]]]]]',\n",
       " '[S [PP [RPRE ใน] [NP [FIXN การ] [VP [VACT ออกแบบ] [NP [NCMN วงจรรวม]]]]] [S [NP [NP [NCMN ขนาด] [ADJP [VATT ใหญ่] [AVBP [ADVN มาก]]]] [PUNC <space>] [NP [FIXN ความ] [VP [VSTA สลับซับซ้อน] [PP [RPRE ของ] [NP [NCMN วงจร]]]]]] [VP [VSTA มี] [XVAE มาก] [AVBP [ADVN เกิน] [ADVN กว่า]] [JSBR ที่จะ] [VP [VACT กระทำ] [JSBR ให้] [VP [VSTA เสร็จ] [PP [RPRE ใน] [NP [NP [NCMN ระยะเวลา] [ADJP [VATT สั้นๆ]]] [PUNC <space>] [PP [RPRE ด้วย] [NP [NCMN แรงงาน] [NP [NCMN วิศวกร]]]]]]]]]]]',\n",
       " '[S [PP [RPRE เพื่อ] [VP [VACT เพิ่ม] [NP [NCMN ขีดความสามารถ] [PP [RPRE ใน] [NP [NCMN ด้าน] [NP [FIXN การ] [VP [VACT วิจัย] [JCRG และ] [VACT พัฒนา]]]]]]]] [S [NP [NCMN วงจรรวม] [NP [NCMN ขนาด]]] [VP [VATT ใหญ่] [AVBP [ADVN มาก]]]]]',\n",
       " '[S [PP [PREL ซึ่ง] [VP [VSTA ประกอบ] [XVAE ไป] [PP [RPRE ด้วย] [NP [NCMN โปรแกรม]]]]] [S [NP [NCMN ชุด] [ADJC [PREL ที่] [VP [VACT ใช้] [PP [RPRE ใน] [NP [FIXN การ] [VP [VACT ออกแบบ] [NP [NCMN วงจรพิมพ์] [PUNC <space>] [PUNC <left_parenthesis>] [NCMN Printed Circuit Board] [PUNC <right_parenthesis>] [PUNC <space>]]]]]]]] [VP [VACT โปรแกรม] [PP [RPRE ใน] [NP [FIXN การ] [VP [VACT ออกแบบ] [NP [NCMN วงจรรวม] [NP [NCMN ขนาด] [ADJP [VATT ใหญ่]] [PP [RPRE ใน] [NP [NCMN ระดับ] [DIAC ต่างๆ]]]] [PUNC <space>] [NP [NCMN โปรแกรม] [VP [VACT ทดสอบ] [NP [NCMN วงจร] [NP [NCMN ต้นแบบ]]]]] [PUNC <space>] [NP [PDMN เป็นต้น]]]]]]]]]',\n",
       " '[S [PP [RPRE เมื่อ] [NP [NCMN วงจร]]] [S [NP [DIBQ แต่ละ] [NCMN ส่วน]] [VP [XVAM ถูก] [VP [VACT ออกแบบ] [AVBP [ADVN เสร็จ]]]]]]',\n",
       " '[S [PP [RPRE ใน] [NP [NPRP ประเทศไทย]]] [S [NP [NCMN อุตสาหกรรม] [ADJP [VATT พื้นฐาน]]] [JSBR ที่จะ] [VP [XVAE มา] [VP [VACT สนับสนุน] [NP [NCMN อุตสาหกรรม] [PUNC <space>] [NP [NCMN อิเล็กทรอนิกส์]]] [VP [XVBM ยัง] [VP [VSTA มี] [XVAE อยู่] [AVBP [ADVN น้อย] [ADVN มาก]]]]]]]]',\n",
       " '[S [PP [RPRE เมื่อ] [VP [VSTA ขาด]]] [S [NP [NCMN อุตสาหกรรม]] [VP [VACT สนับสนุน] [PUNC <space>] [NP [NCMN โอกาส] [ADJC [PREL ที่] [NP [NP [NCMN อุตสาหกรรม] [NP [NCMN อิเล็กทรอนิกส์] [VP [XVBM จะ] [VP [VACT พัฒนา] [NP [PPRS ตัวเอง]] [AVBP [FIXV อย่าง] [VATT รวดเร็ว]]]]]] [PUNC <space>] [PP [RPRE จนถึง] [NP [NCMN ขั้น]]]] [VP [VP [VACT ทำ] [NP [NP [FIXN การ] [VACT วิจัย]] [JCRG และ] [NP [NCMN พัฒนา] [PUNC <space>] [PUNC <left_parenthesis>] [NCMN Research and Development] [PUNC <right_parenthesis>] [PUNC <space>]]]] [NP [NCMN ผลิตภัณฑ์]]]]] [PP [RPRE ของ] [NP [PPRS ตนเอง]]] [JSBR ก็] [NP [NPRP น้อย]]]]]',\n",
       " '[S [S [NP [FIXN การ] [VACT วิจัย]] [VP [VSTA จำเป็น] [VP [XVMM จะต้อง] [VACT กระทำ]]]] [JCRG ทั้ง] [S [NP [FIXN การ] [VACT ออกแบบ]] [VP [VACT พัฒนา] [NP [NCMN วงจร] [PUNC <space>] [NP [NP [FIXN การ] [VP [VACT พัฒนา] [NP [NCMN เครื่องคอมพิวเตอร์]]]] [PUNC <space>] [PP [RPRE และ] [NP [NCMN โปรแกรม] [ADJC [PREL ที่] [VP [VACT ใช้] [PP [RPRE ใน] [NP [FIXN การ] [VACT ออกแบบ]]] [XVAE ขึ้น]]]]]]] [VP [VACT ใช้] [NP [PDMN เอง]]]]]]',\n",
       " '[S [PP [RPRE เพื่อ] [VP [VACT ทำให้] [VP [XVAM สามารถ] [VP [VSTA พึ่ง]]]]] [S [NP [PPRS ตนเอง]] [VP [VSTA ได้] [PP [RPRE ใน] [NP [FIXN การ] [VACT วิจัย]]]]]]',\n",
       " '[S [PP [RPRE ดัง] [VP [XVBM จะ] [VP [VSTA เห็น] [XVAE ได้] [PP [RPRE จาก] [NP [NCMN สินค้า] [ADJC [PREL ที่] [VP [VSTA มี] [NP [NCMN ส่วนประกอบ] [PP [RPRE ของ] [NP [NCMN วงจร]]]]]]]]]]] [S [NP [NCMN อิเล็กทรอนิกส์]] [PUNC <space>] [VP [XVAM ได้] [VP [VSTA มี] [NP [FIXN การ] [VP [VACT ใช้] [NP [NCMN เทคโนโลยี] [NP [FIXN การ] [VP [VACT ออกแบบ] [NP [NCMN วงจรรวม] [NP [NCMN ขนาด] [ADJP [VATT ใหญ่]]]] [AVBP [ADVN มาก]] [NP [NCMN <space>]]]]] [AVBP [ADVN มากขึ้น]]]]]]]]',\n",
       " '[S [PP [RPRE เป็น] [NP [FIXN การ] [VACT ออกแบบ]]] [S [NP [NCMN วงจรรวม]] [JSBR เพื่อ] [VP [VACT สร้าง] [NP [NCMN เสียง] [NP [NCMN ดนตรี]]]]]]',\n",
       " '[S [PP [RPRE โดย] [VP [VACT ใช้] [NP [NCMN เทคโนโลยี] [NP [FIXN การ] [VP [VACT ออกแบบ] [NP [NCMN วงจรรวม] [NP [NCMN ขนาด] [ADJP [VATT ใหญ่]]]]]]] [AVBP [ADVN มาก]]]] [S [NP [NCMN แบบ] [NP [NCMN ซีมอส] [PUNC <space>] [NP [NCMN และ]]]] [VP [VACT ใช้] [NP [NCMN หลักการ] [PP [RPRE เชิง] [NP [NCMN เลข] [PP [RPRE ใน] [NP [FIXN การ] [VACT ออกแบบ]]]]]]]]]',\n",
       " '[S [S [NP [NCMN วงจร] [NP [NCMN อิเล็กทรอนิกส์]]] [JSBR สำหรับ] [VP [VACT สร้าง] [NP [NCMN เสียง] [DDBQ ทั้ง] [NP [NCMN เสียง] [NP [NCMN ดนตรี]] [PUNC <space>] [NP [NCMN เสียง] [NP [NCMN รถตำรวจ]]] [PUNC <space>] [NP [NCMN เสียง] [NP [NCMN รถพยาบาล]]]]]]] [JCRG หรือ] [S [NP [PDMN อื่นๆ]] [PUNC <space>] [VP [XVAM ได้] [VP [VACT เข้ามา] [VP [VSTA เป็น] [NP [NCMN ส่วนประกอบ] [PP [RPRE สำหรับ] [NP [NCMN สินค้า] [NP [NP [DIBQ หลายๆ] [PUNC <space>] [NCMN ประเภท]] [PP [RPRE เช่น] [PUNC <space>] [NP [NCMN บัตรอวยพร]]]] [PUNC <space>] [NP [NP [NCMN ของเล่นเด็ก]] [PUNC <space>] [PP [RPRE และ] [NP [NCMN เครื่องเล่นเกมอิเล็กทรอนิกส์]]]] [PUNC <space>] [NP [PDMN เป็นต้น]]]]]]]]]]',\n",
       " '[S [PP [RPRE ใน] [NP [FIXN การ] [VP [VACT สร้าง] [NP [NCMN วงจร]] [VP [VACT สร้าง] [NP [NCMN เสียง] [DDAC เหล่านี้]] [VP [XVAM สามารถ] [VP [VACT ทำ] [XVAE ได้] [JSBR โดย] [NP [NCMN ใช้] [NP [NCMN อุปกรณ์] [VATT ย่อยๆ] [NCMN <space>]] [PUNC <left_parenthesis>] [NP [NCMN discrete component]] [PUNC <right_parenthesis>] [NP [NCMN <space>] [PP [RPRE เช่น] [PUNC <space>] [NP [NCMN เกท] [DIAC ต่างๆ]]]]]]]]]]] [S [NP [NCMN <space>] [JCRG หรือ] [NCMN ทรานซิสเตอร์]] [VP [VSTA ประกอบ] [AVBP [ADVN กัน] [XVAE ขึ้น]]]]]',\n",
       " '[S [S [NP [NCMN เทคโนโลยี] [PP [RPRE ใน] [NP [FIXN การ] [VP [VACT ออกแบบ] [NP [NCMN วงจรรวม] [NP [NCMN ขนาด] [ADJP [VATT ใหญ่]]]] [AVBP [ADVN มาก]]]]]] [PUNC <space>] [VP [XVBM จึง] [XVMM ต้อง] [VP [XVAM ถูก] [VP [VACT นำมาใช้]]]]] [JSBR เพื่อ] [S [NP [FIXN การ] [VP [VACT ย่อส่วน] [NP [NCMN วงจร]] [AVBP [ADVN ทั้งหมด]]]] [VP [VACT ให้] [XVAE อยู่] [PP [RPRE บน] [NP [NCMN แผ่น] [NP [NCMN ซิลิคอน] [ADJC [PREL ที่] [VP [VSTA มี] [NP [NCMN ขนาด] [ADJP [VATT เล็ก]]] [AVBP [ADVN มาก]]]]]]]]]]',\n",
       " '[S [PP [RPRE ภายใต้] [NP [NP [NCMN โครงการ] [ADJP [VATT หลัก]]] [PUNC <space>] [NP [FIXN การ] [VP [VACT ออกแบบ] [NP [NCMN วงจรรวม]]]]]] [S [NP [NCMN ขนาด]] [VP [VATT ใหญ่] [AVBP [ADVN มาก]]]]]',\n",
       " '[S [PP [RPRE โดย] [VP [VSTA ได้รับ]]] [S [NP [FIXN การ]] [VP [VACT สนับสนุน] [PP [RPRE จาก] [NP [NP [NPRP ศูนย์เทคโนโลยีอิเล็กทรอนิกส์ และคอมพิวเตอร์แห่งชาติ]] [PUNC <space>] [NP [NPRP กระทรวงวิทยาศาสตร์และการพลังงาน]]]]]]]',\n",
       " '[S [PP [RPRE และ] [NP [FIXN ความ] [VP [VSTA แตกต่าง] [PP [RPRE ของ] [NP [FIXN ความ] [VATT ถี่]]]]]] [S [NP [DIBQ แต่ละ] [NCMN ครึ่งเสียง]] [VP [XVBM จะ] [XVAM สามารถ] [VP [VACT คำนวณ] [XVAE ได้] [JSBR โดย] [NP [CNIT สมการ] [PUNC <space>] [NCNM 4]]]]]]',\n",
       " '[S [PP [RPRE สำหรับ] [NP [NCMN ค่า]]] [S [NP [NP [NP [FIXN ความ] [VATT ถี่]] [PP [RPRE ของ] [NP [NCMN ตัวโน๊ต] [CLSP [DIBQ แต่ละ] [CNIT ตัว]]]]] [DDAC นั้น]] [VP [XVAM สามารถ] [VP [VACT หา] [XVAE ได้] [PP [RPRE จาก] [NP [NCMN สมการ] [DDAC นี้]]]]]]]',\n",
       " '[S [PP [PREL ซึ่ง] [VP [JSBR ถ้า] [VP [VACT กำหนดให้] [NP [FIXN ความ] [VATT ถี่]] [VP [VSTA เริ่มต้น] [VP [VSTA คือ] [NP [NP [FIXN ความ] [VATT ถี่]] [PP [RPRE ของ] [NP [NCMN โน๊ต]]]]]]]]] [S [NP [NCMN เสียง] [NP [NCMN โด]]] [PUNC <space>] [VP [VSTA มี] [VP [VSTA ค่า] [PUNC <space>] [CLSP [DCNM 256] [PUNC <space>] [CMTR Hz]]]]]]',\n",
       " '[S [PP [RPRE ใน] [NP [NCMN ตาราง] [DONM ที่ 1]]] [S [NP [NCMN <space>] [DDAC นั้น]] [PUNC <space>] [VP [XVAM ได้] [VP [VACT แสดง] [NP [FIXN ความ] [VATT ถี่]] [PP [RPRE ของ] [NP [NCMN ตัวโน๊ต] [NP [NCMN ใน]] [PUNC <space>] [CLSP [DCNM 1] [PUNC <space>] [CNIT ช่วงเสียง]]]] [AVBP [ADVN เท่านั้น]]]]]]',\n",
       " '[S [PP [RPRE โดย] [VP [XVBM จะ] [VSTA มี]]] [S [NP [NCMN สวิทซ์]] [VP [VSTA เป็น] [NP [NCMN อุปกรณ์สั่งงาน]]]]]',\n",
       " '[S [PP [RPRE ใน] [NP [FIXN การ] [VACT ทดลอง]]] [S [NP [NP [NCMN ขั้นแรก] [DDAC นี้]] [PUNC <space>] [NP [FIXN ความ] [VATT ถี่]] [JCRG ทั้ง] [NP [NCNM สอง]]] [VP [VP [VP [VSTA เป็น] [PUNC <space>] [CLSP [DCNM 1] [PUNC <space>] [CMTR MHz]]] [NP [NCMN <space>] [NP [NCMN และ]] [PUNC <space>] [CLSP [DCNM 10] [PUNC <space>] [CMTR Hz]]]] [NP [FIXN <space>] [AVBP [ADVN ตามลำดับ]]]]]]',\n",
       " '[S [PP [RPRE เพื่อ] [VP [VACT นำไปใช้] [PP [RPRE ใน] [NP [FIXN การ] [VP [VACT กำหนด] [NP [NCMN ช่วงเวลา]]]]]]] [S [NP [FIXN การ]] [VP [VACT บรรเลง] [PP [RPRE ของ] [NP [DIBQ แต่ละ] [NP [NCMN โน๊ต] [NP [NCMN เพลง]]]]]]]]',\n",
       " '[S [PP [RPRE โดย] [VP [VACT ส่ง]]] [S [NP [NCMN สัญญาณ] [PP [RPRE ของ] [NP [NCMN บิท]]]] [VP [JSBR นี้] [NP [RPRE ไปยัง] [NP [NCMN ภาคควบคุมการทำงาน]]]]]]',\n",
       " '[S [PP [RPRE โดย] [VP [VACT ส่ง]]] [S [NP [NCMN บิท]] [VP [JSBR นี้] [NP [RPRE ไปยัง] [NP [NCMN ภาคสร้างความถี่ตัวโน๊ต] [JCRG และ] [NCMN ภาคควบคุมการทำงาน]]]]]]',\n",
       " '[S [PP [PREL ซึ่ง] [VP [XVBM จะ] [VACT ทำให้]]] [S [NP [FIXN การ] [VP [VACT ทำงาน] [PP [RPRE ของ] [NP [NCMN วงจร] [DDAC นี้]]]]] [VP [VP [VSTA ขึ้นอยู่] [PP [RPRE กับ] [NP [NCMN คำสั่งควบคุมการเปิดปิดเสียง]]]] [AVBP [ADVN ด้วย]]]]]',\n",
       " '[S [PP [RPRE กล่าวคือ] [NP [FIXN <space>] [VACT ทำ]]] [S [NP [FIXN การ] [VP [VACT ปรับ] [NP [NCMN วงจร] [ADJC [PREL ที่] [VP [VACT ออกแบบ]]]] [XVAE ไว้] [JSBR ให้] [VP [VSTA เหมาะสม] [PP [RPRE กับ] [NP [FIXN การ] [VACT สร้าง]]]]]] [VP [VSTA เป็น] [NP [NCMN วงจรรวม]] [AVBP [ADVN มากขึ้น]]]]]',\n",
       " '[S [PP [RPRE เพื่อ] [NP [VACT ประกอบ] [VACT เข้า]]] [S [NP [NCMN วงจรรวม]] [VP [VSTA หลัก]]]]',\n",
       " '[S [PP [RPRE ใน] [NP [FIXN การ] [VP [VACT ทดลอง] [VACT ออกแบบ]]]] [S [NP [NCMN วงจรรวม] [DDAC นี้]] [PUNC <space>] [VP [XVBM จะ] [VP [VACT ทำให้เกิด] [NP [FIXN ความ] [VSTA เข้าใจ]] [PP [RPRE ใน] [NP [NP [NCMN หลักการ] [NP [FIXN การ] [VP [VACT สร้าง] [NP [NCMN เสียง]]]]] [JCRG และ] [NP [FIXN การ] [VP [VACT ปรับแต่ง] [NP [NCMN เสียง]]]]]]]]]]',\n",
       " '[S [PP [PREL ซึ่ง] [VP [VSTA ได้รับ] [NP [FIXN การ] [VACT สนับสนุน]]]] [S [NP [FIXN การ] [VACT ดำเนินการ]] [VP [VACT วิจัย] [PP [RPRE โดย] [NP [NP [NPRP ศูนยเ์ทคโนโลยีอิเล็กทรอนิกส์ และคอมพิวเตอร์แห่งชาติ]] [PUNC <space>] [NP [NPRP กระทรวงวิทยาศาสตร์เทคโนโลยีและการพลังงาน]]]]]]]',\n",
       " '[S [PP [RPRE เมื่อ] [VP [VACT เปิด] [NP [NCMN เครื่อง]] [XVAE แล้ว] [JSBR ให้] [VP [VACT เลือก] [VACT เล่น]]]] [S [NP [NCMN เกม] [VP [VSTA ได้] [PUNC <space>] [CLSP [DCNM 2] [PUNC <space>] [CNIT ชนิด]]]] [PUNC <space>] [VP [VSTA คือ] [PUNC <space>] [NP [NCMN เกมลูกเต๋า] [NP [NCMN <space>] [JCRG หรือ] [NCMN เกมทายเลข]]]]]]',\n",
       " '[S [PP [RPRE โดย] [VP [VACT ใช้]]] [S [NP [NCMN หลักการ] [ADJC [PREL ที่ว่า] [NP [NCMN ค่า] [PP [RPRE ของ] [NP [NCMN ลูกเต๋า]]]]] [CLSP [DIBQ แต่ละ] [CNIT ลูก]]] [VP [VACT มา] [PP [RPRE จาก] [NP [NCMN วงจรนับ] [PUNC <space>] [NP [NP [NCNM 1]] [PUNC <space>] [PP [RPRE ถึง] [PUNC <space>] [NP [NCNM 6]]]]]]]]]',\n",
       " '[S [PP [RPRE โดย] [VP [VACT ใช้] [NP [NCMN สัญญาณนาฬิกา]]]] [S [NP [NCMN ที่]] [VP [VSTA แตกต่าง] [AVBP [ADVN กัน]]]]]',\n",
       " '[S [PP [RPRE โดย] [VP [VACT ใช้] [NP [NCMN สัญญาณนาฬิกา]]]] [S [NP [NCMN ที่]] [VP [VSTA แตกต่าง] [AVBP [ADVN กัน]]]]]',\n",
       " '[S [S [NP [NCMN มี] [NP [NCMN ปุ่ม]]] [VP [VACT ให้] [VACT กด]]] [JSBR เพื่อให้] [S [NP [NCMN เครื่อง]] [VP [VACT เฉลย] [NP [NCMN ตัวเลข]] [XVAE ได้]]]]',\n",
       " '[S [PP [RPRE โดย] [VP [VSTA ได้รับ]]] [S [NP [FIXN การ]] [VP [VACT สนับสนุน] [PP [RPRE จาก] [NP [NPRP ศูนย์เทคโนโลยีอิเล็กทรอนิกส์ และคอมพิวเตอร์แห่งชาติ]]]]]]',\n",
       " '[S [PP [RPRE จาก] [NP [FIXN การ] [VACT พิจารณา]]] [S [NP [NP [NCMN ศักยภาพ] [PP [RPRE ของ] [NP [NCMN ฮาร์ดแวร์] [JCRG และ] [NCMN ซอฟต์แวร์]]]] [ADJC [PREL ที่] [VP [VSTA มี] [VP [VSTA อยู่] [PUNC <space>] [NP [NCMN คณะผู้วิจัย]]]]]] [VP [XVAM ได้] [VP [VACT เลือก] [JSBR ที่จะ] [VP [VACT ออกแบบ] [NP [NP [NCMN วงจรวีแอลเอสไอ]] [PUNC <space>] [PP [RPRE เรื่อง] [NP [NCMN เกมลูกเต๋า] [JCRG และ] [NCMN ทายเลข]]]]]]]]]',\n",
       " '[S [PP [RPRE โดย] [VP [VACT ป้อน]]] [S [NP [NP [NCMN <space>] [CLSP [DCNM 100] [PUNC <space>] [CMTR Hz]]] [PUNC <space>] [NP [NCMN ที่] [NP [NCNM หลักหน่วย]] [PUNC <space>] [NP [NP [NCMN Hz]] [PUNC <space>] [PP [RPRE ที่] [NP [NCNM หลักสิบ]]]] [PUNC <space>] [NP [NCMN Hz]]]] [PUNC <space>] [VP [JSBR ที่] [NP [NCMN หลักร้อย]]]]]',\n",
       " '[S [PP [RPRE เพื่อ] [VP [VSTA ได้] [NP [NCMN ค่า]]]] [S [NP [NCMN จำนวน]] [VP [VSTA หลัก] [ADJC [PREL ที่] [VP [VACT ทาย] [AVBP [ADVN ถูก]]]]]]]',\n",
       " '[S [PP [RPRE เพื่อ] [VP [VACT เลือก]]] [S [NP [NP [NCMN ค่า] [DIAC ต่างๆ]] [PUNC <space>] [PP [RPRE สู่] [NP [NCMN วงจร]]]] [VP [VACT แสดง] [NP [NCMN ผล]]]]]',\n",
       " '[S [PP [RPRE เมื่อ] [VP [VACT ทดสอบ]]] [S [JSBR ว่า] [NP [DIBQ แต่ละ] [PUNC <space>] [NCMN leaf-cell]] [PUNC <space>] [VP [VACT ทำงาน] [XVAE ได้] [AVBP [ADVN ถูกต้อง] [ADVN แล้ว]]]]]',\n",
       " '[S [PP [RPRE ใน] [ADJP [VATT บาง]]] [S [NP [NP [NP [NCMN กรณี] [VP [XVMM อาจจะ] [VP [XVMM ต้อง] [VP [VSTA มี]]]]] [NP [NP [FIXN การ] [VACT สร้าง]] [PUNC <space>] [NP [NCMN Route Cell]]] [PUNC <space>] [JSBR เพื่อ] [VP [VACT เชื่อม]]] [PUNC <space>] [NP [NCMN leaf-cell]]] [PUNC <space>] [VP [VACT เข้า] [AVBP [ADVN ด้วยกัน]]]]]',\n",
       " '[S [PP [RPRE เมื่อ] [NP [NCMN ต่อ]]] [S [NP [NCMN วงจร]] [VP [VATT สมบรูณ์] [AVBP [ADVN แล้ว]]]]]',\n",
       " '[S [PP [RPRE ใน] [NP [NCMN ปัจจุบัน]]] [S [NP [PPRS เรา]] [VP [XVAM สามารถ] [VP [VACT ใช้] [NP [NCMN เทคโนโลยี] [PUNC <space>] [NP [NCMN LSI] [PUNC <space>] [PUNC <left_parenthesis>] [NCMN Large Scale Integration] [PUNC <right_parenthesis>] [PUNC <space>]]] [PP [RPRE ใน] [NP [NP [FIXN การ] [VP [VACT รวม] [NP [NCMN วงจรอิเล็กทรอนิกส์] [NP [NCMN ขนาด] [ADJP [VATT ใหญ่] [AVBP [ADVN เข้าด้วยกัน]]] [PP [RPRE เป็น] [PUNC <space>] [NP [NCMN application specific integrated circuit]]]] [PUNC <space>] [CLSP [CNIT ตัว] [DONM เดียว]]] [PUNC <space>] [JSBR ซึ่ง] [VP [VSTA ตรง] [PP [RPRE กับ] [NP [FIXN ความ] [VP [VACT ต้องการ] [AVBP [ADVN ข้างต้น]]]]]]]] [PUNC <space>] [NP [NCNM 1]]]]]]]]',\n",
       " '[S [PP [RPRE ด้วย] [NP [NCMN เหตุ] [CLSP [DDAN ดังกล่าว] [DDAC นี้]]]] [S [NP [FIXN <space>] [VP [VACT ทำให้] [NP [FIXN การ] [NCMN กระบวนการพัฒนา]] [AVBP [ADVN แทบ] [ADVN ทั้งหมด]]]] [PUNC <space>] [VP [VSTA ขึ้นอยู่] [PP [RPRE กับ] [NP [NCMN กระบวนการ] [VP [VACT ทำ] [NP [NCMN ผิวสัมผัส]]]]]]]]',\n",
       " '[S [PP [RPRE เมื่อ] [VP [VSTA มี] [NP [NCMN ปริมาณ]]]] [S [NP [FIXN การ] [VP [VACT ผลิต] [PP [RPRE ตั้งแต่] [NP [NCMN <space>] [CLSP [DCNM 100,000] [PUNC <space>] [CNIT ตัว]]]]]] [VP [VSTA ขึ้น] [XVAE ไป]]]]',\n",
       " '[S [PP [RPRE เพื่อ] [VP [VACT ตรวจสอบ] [NP [NCMN วงจรลอจิก]]]] [S [NP [NCMN ที่]] [VP [VACT ออกแบบ]]]]',\n",
       " '[S [PP [RPRE ยกเว้น] [VP [JSBR ในกรณีที่] [VP [VACT ต้องการ]]]] [S [NP [NCMN คำยืนยัน]] [VP [VACT จาก] [NP [NCMN ผู้ใช้งาน]] [AVBP [ADVN เท่านั้น]]]]]',\n",
       " '[S [S [NP [NP [NCNM 1]] [PUNC <full_stop>] [NP [FIXN <space>] [VP [VACT พิจารณา] [PP [RPRE ถึง] [NP [NCMN ราคา] [ADJC [PREL ที่] [VP [VSTA เป็นไปได้]]]]] [PP [RPRE กับ] [NP [NCMN งบประมาณ]]] [JSBR ที่จะ] [VP [VACT ทำ]]]] [JCRG และ] [NP [NCMN เวลา] [PP [RPRE ใน] [NP [FIXN การ] [VACT ทำวิจัย]]]]] [PUNC <space>] [VP [VSTA เห็น]]] [JSBR ว่า] [S [NP [NCMN เทคโนโลยี] [PUNC <space>] [NP [NCMN Gate Array]]] [PUNC <space>] [VP [XVAM สามารถ] [VP [VACT ทำ] [XVAE ได้] [PP [RPRE ใน] [NP [NCMN วงเงิน] [NP [NCMN งบ] [ADJC [PREL ที่] [VP [VSTA มี]]]]]]]]]]',\n",
       " '[S [PP [RPRE ตาม] [NP [NP [NCMN เงื่อนไข] [PP [RPRE ของ] [NP [NCMN เทคโนโลยี] [PP [RPRE ของ] [PUNC <space>] [NP [NCMN Gate Array]]]]]] [PUNC <space>] [NP [PDMN เอง]] [JCRG และ] [NP [NCMN เงื่อนไข]]]] [S [NP [NCMN ด้าน]] [VP [VSTA ราคา]]]]',\n",
       " '[S [PP [RPRE โดย] [VP [VACT เลือก]]] [S [NP [NPRP บริษัท Hitachi]] [PUNC <space>] [VP [VSTA เป็น] [NP [PPRS ผู้]] [VP [VACT ทำ] [NP [NP [NCMN ชิพ] [PUNC <space>] [NP [NCMN ASIC]]] [PUNC <space>] [PP [RPRE ใน] [NP [NCMN ขั้นตอน] [DONM สุดท้าย]]]]]]]]',\n",
       " '[S [PP [RPRE ใน] [NP [FIXN การ] [VACT ออกแบบ]]] [S [NP [NP [NP [NCMN วงจรลอจิก] [PP [RPRE ใน] [CLSP [DIBQ ทุก] [CNIT ส่วน]]]] [PP [RPRE ของ] [NP [NCMN วงจร] [ADJC [PREL ที่] [VP [VACT คาดว่า] [VP [XVBM จะ] [VP [VSTA มี] [PUNC <space>] [NP [NCMN delay time]]]]]]]]] [PUNC <space>] [PP [RPRE ใน] [PUNC <space>] [NP [NCMN gate array]]]] [PUNC <space>] [VP [XVBM จะ] [XVMM ต้อง] [VP [VSTA มี] [NP [NCMN การ] [NP [DIBQ ประมาณ] [NCMN ค่า]] [PUNC <space>] [NP [NCMN deley time]] [PUNC <space>] [NP [NCMN อย่าง] [ADJP [VATT คร่าวๆ]]]]]]]]',\n",
       " '[S [S [NP [NCMN และ] [PP [RPRE สำหรับ] [NP [NCMN ส่วน] [ADJC [PREL ที่] [VP [VACT คาดว่า] [VP [XVBM จะ] [VP [VACT มีผล] [VP [VACT ทำให้] [NP [FIXN การ] [VACT ทำงาน]] [AVBP [ADVN ผิดพลาด] [XVAE ได้]]]]]]]]]] [PUNC <space>] [VP [XVBM จะ] [XVMM ต้อง] [VP [VACT ระบุ]]]] [JSBR ให้] [S [NP [NCMN ผู้ผลิต]] [VP [VSTA ทราบ] [JSBR ว่า] [VP [VSTA เป็น] [PUNC <space>] [NP [NCMN critical path]]]]]]',\n",
       " '[S [PP [RPRE เพื่อ] [NP [NCMN ลด]]] [S [NP [NCMN สัญญาณรบกวน]] [VP [VACT จาก] [NP [FIXN <space>] [NCMN ground]]]]]',\n",
       " '[S [PP [PP [RPRE ดัง] [NP [CNIT รูป] [DONM ที่ 7] [NP [NCMN <space>]]]] [JCRG แต่] [PP [RPRE สำหรับ] [PUNC <space>] [NP [NCNM 3]]]] [S [NP [NCMN <space>] [PUNC <minus>] [NP [FIXN <space>] [NCMN state]]] [PUNC <space>] [VP [XVAM สามารถ] [VP [VACT ต่อ] [AVBP [ADVN เข้าด้วยกัน]]]]]]',\n",
       " '[S [PP [RPRE โดย] [VP [VACT ควบคุม] [NP [NCMN ไม่] [PP [RPRE ให้] [PUNC <space>] [NP [NCMN enable]]]]]] [S [NP [FIXN <space>] [AVBP [ADVN พร้อมกัน]]] [PUNC <space>] [VP [JSBR ดัง] [NP [RPRE ใน] [NP [NCMN รูป] [DONM ที่ 8]]]]]]',\n",
       " '[S [PP [RPRE จาก] [NP [NCMN วงจร]]] [S [JSBR ดัง] [NP [NCMN รูป] [DONM ที่ 10]] [PUNC <space>] [VP [VP [JSBR เนื่องจาก] [NP [NP [FIXN การ]] [PUNC <space>] [NP [NCMN layout] [NP [FIXN <space>] [VP [VP [VACT ทำ] [AVBP [FIXV อย่าง] [VATT automatic]]] [NP [FIXN <space>] [VP [XVBM จึง] [VP [NEG ไม่] [VSTA สามารถ]]]] [VP [VACT คำนวณ]]]] [PUNC <space>] [NP [NCMN delay time]] [PUNC <space>] [NP [NCMN ก่อน]]]]] [AVBP [ADVN ล่วงหน้า] [XVAE ได้]]]]]',\n",
       " '[S [PP [RPRE เมื่อ] [VP [VSTA เริ่ม] [VP [VACT จ่าย] [NP [NCMN ไฟ]]]]] [S [JSBR ให้] [NP [NCMN วงจร] [PUNC <space>] [NP [NCMN สภาวะ] [PUNC <space>] [NP [NCMN logic] [PUNC <space>] [NCMN ของ] [PUNC <space>] [NCMN latch] [PUNC <space>] [JCRG และ] [PUNC <space>] [NCMN F]]]] [PUNC <space>] [VP [XVBM จะ] [VP [NEG ไม่] [VSTA ทราบ]]]]]',\n",
       " '[S [PP [RPRE ให้] [VP [VACT ใช้] [NP [NCMN ขา] [ADJP [VATT ปกติ]]]]] [S [NP [NCMN ของ] [PUNC <space>] [NCMN Input] [PUNC <space>] [NCMN และ] [PUNC <space>] [NCMN Out Put]] [PUNC <space>] [VP [XVAE มา] [VP [VACT แบ่ง] [NP [FIXN การ] [VP [VACT ทำงาน] [PP [RPRE สำหรับ] [NP [FIXN การ] [VACT ทดสอบ]]] [XVAE ได้]]]]]]]',\n",
       " '[S [PP [RPRE ให้] [PUNC <space>] [NP [NP [NCMN pulse width] [PUNC <comma>] [PUNC <space>] [NCMN set-up time] [PUNC <comma>] [PUNC <space>]] [JCRG และ] [NP [NCMN <space>]]]] [S [NP [NCMN hold time]] [PUNC <space>] [VP [VSTA อยู่] [PP [RPRE ใน] [NP [NCMN ช่วง] [ADJC [PREL ที่] [ADJP [VATT เหมาะสม]]]]]]]]',\n",
       " '[S [PP [RPRE และ] [JCRG นอกจากนั้น] [NP [NCMN <space>]]] [S [NP [NP [NCMN test patterns]] [PUNC <space>] [PP [RPRE สำหรับ] [PUNC <space>] [NP [NCMN F]]]] [PUNC <space>] [VP [XVBM จะ] [XVMM ต้อง] [VP [VACT ให้] [NP [FIXN ความ] [VP [VACT ระมัดระวัง] [AVBP [FIXV อย่าง] [ADVN ดี]]]] [AVBP [ADVN ด้วย]]]]]]',\n",
       " '[S [PP [RPRE ยกเว้น] [NP [NCMN ขา]]] [S [NP [NCMN ที่]] [VP [VSTA เป็น] [PUNC <space>] [NP [NCMN power] [PUNC <space>] [NP [NCMN supply]]]]]]',\n",
       " '[S [S [NP [NCMN delay] [PUNC <space>] [NP [NCMN time]]] [PUNC <space>] [VP [VSTA ที่จะ] [XVAE ได้] [AVBP [ADVN จริง]]]] [JSBR สำหรับ] [S [NP [NCMN เส้นทาง] [PP [RPRE ของ] [PUNC <space>] [NP [NCMN logic] [PUNC <space>] [NCMN ใน] [PUNC <space>] [NCMN gate] [PUNC <space>] [NCMN array]]]] [PUNC <space>] [VP [XVBM จะ] [VP [VACT ทำ] [XVAE ได้] [JSBR หลังจาก] [NP [NCMN ระบบ] [ADJP [VATT อัตโนมัติ]]]] [PP [RPRE ของ] [NP [NCMN บริษัท] [VP [XVAM ได้] [VP [VACT ทำ] [NP [FIXN การ] [NP [NCMN <space>] [NP [NCMN autoroute]] [PUNC <space>] [NP [FIXN การ] [VP [VACT เดินสาย] [PP [RPRE ภายใน] [NP [NCMN ตัว]]]]] [PUNC <space>] [NP [NCMN ASIC] [NP [NCMN <space>]]]]] [AVBP [ADVN แล้ว]]]]]]]]]',\n",
       " '[S [PP [RPRE โดย] [VP [VSTA ใช้] [PUNC <space>] [NP [NP [NCMN software]] [PUNC <space>] [PP [RPRE ที่] [NP [NCMN ทาง]]]]]] [S [NP [NCMN บริษัทผู้ผลิต]] [VP [XVBM จะ] [VP [VSTA เป็น] [NP [PPRS ผู้]] [VP [VACT มอบให้]]]]]]',\n",
       " '[S [PP [RPRE เมื่อ] [VP [VSTA ผ่าน]]] [S [NP [NCMN ขั้นตอน] [DDAC เหล่านี้]] [VP [VSTA เป็น] [ADJC [PREL ที่] [AVBP [ADVN เรียบร้อย] [ADVN แล้ว]]]]]]',\n",
       " '[S [PP [RPRE พร้อมกับ] [VP [VSTA ได้]]] [S [NP [NCMN ตาราง] [PUNC <space>] [NCMN net] [PUNC <space>] [NCMN delay] [PUNC <space>] [NCMN ที่]] [VP [VSTA ขึ้นอยู่] [PP [RPRE กับ] [NP [NP [FIXN การ]] [PUNC <space>] [NP [NCMN route] [NP [NCMN <space>] [ADJP [VATT จริง]]]] [JCRG และ] [NP [NCMN ตาราง] [PUNC <space>] [NP [NP [NCMN fan-out]] [PUNC <space>] [PP [RPRE สำหรับ] [NP [FIXN การ] [VP [VACT ตรวจสอบ] [PP [RPRE กับ] [NP [PPRS ผู้] [VP [VACT ออก] [NP [NCMN วงจร]] [AVBP [ADVN อีกครั้ง]]]]]]]]]]]]]]]',\n",
       " '[S [PP [RPRE โดย] [VP [VACT พิจารณา] [PP [RPRE ถึง] [NP [NCMN ข้อจำกัด] [PP [RPRE ใน] [NP [NCMN เรื่อง] [PUNC <space>] [NCMN input] [PUNC <slash>] [NCMN output] [PUNC <space>] [NCMN pins]]]]]]] [S [NP [NP [NCMN <space>] [JCRG และ] [NCMN จำนวน]] [PUNC <space>] [NP [NCMN gate]]] [PUNC <space>] [VP [JSBR ที่] [VP [VSTA เหมาะสม] [PP [RPRE กับ] [NP [NCMN ราคา]]]]]]]',\n",
       " '[S [PP [RPRE ใน] [NP [NCMN ส่วน] [PP [RPRE ของ] [NP [NCMN วงจร] [NP [NP [NCMN โทรศัพท์]] [NP [NCMN ขนาด] [ADJP [VATT เล็ก]]] [PUNC <space>] [JSBR ซึ่ง] [VP [VACT นำ] [XVAE มา] [VP [VACT ทำ] [VP [VSTA เป็น] [NP [NCMN ต้นแบบ] [PP [RPRE ใน] [NP [FIXN การ] [VP [VACT ออกแบบ] [NP [NCMN วงจร]] [VP [VSTA เป็น] [NP [NCMN วิทยานิพนธ์] [PP [RPRE ของ] [PUNC <space>] [NP [NCMN อ.]]]]]]]]]]]]] [PUNC <space>] [NP [NCMN ณัฐ] [NP [NCMN วุฒิ]]] [PUNC <space>] [NP [NCMN ขวัญ]]]]]] [S [NP [NCMN แก้ว]] [PUNC <space>] [VP [XVBM จึง] [VP [VACT ขอ] [NP [NP [VACT ขอบคุณ] [VACT มา]] [PUNC <space>] [PP [RPRE ณ] [NP [NP [NCMN <full_stop>]] [PUNC <space>] [PP [RPRE ที่] [NP [DDAC นี้]]]]]]]]]]',\n",
       " '[S [PP [RPRE ใน] [NP [NP [NCMN อดีต] [ADJC [PREL ที่] [VP [VSTA ผ่าน] [XVAE มา]]]] [PUNC <space>] [NP [FIXN การ] [VACT ออกแบบ]]]] [S [NP [NCMN วงจรรวม]] [VP [VP [VP [VACT ทำ] [XVAE ได้] [AVBP [ADVN เฉพาะ]]] [PP [RPRE ใน] [NP [NCMN บริษัทผู้ผลิต] [NP [NCMN วงจรรวม]]]]] [AVBP [ADVN เท่านั้น]]]]]',\n",
       " '[S [S [NP [NCMN สิ่ง] [DCNM หนึ่ง] [PP [RPRE ที่] [NP [NPRP ประเทศไทย]]]] [VP [XVAM สามารถ] [VP [VACT ทำ] [XVAE ได้] [AVBP [ADVN ทันที]]]]] [JSBR ในขณะนี้] [S [NP [RPRE เกี่ยวกับ] [NP [NCMN วงจรรวม] [DDAC นี้]]] [PUNC <space>] [VP [VSTA คือ] [PP [RPRE ทาง] [NP [NCMN ด้าน] [NP [FIXN การ] [VP [VACT ออกแบบ] [NP [NCMN วงจรรวม]]]]]]]]]',\n",
       " '[S [PP [PREL ซึ่ง] [VP [VSTA มี] [NP [NCMN วัตถุประสงค์]]]] [S [NP [NCMN หลัก]] [VP [VP [VSTA คือ] [PUNC <space>] [NP [VACT มุ่ง] [VACT วิจัย]]] [JCRG และ] [VP [VACT พัฒนา] [NP [NCMN ซอฟท์แวร์ช่วยออกแบบวงจรรวม] [PP [RPRE สำหรับ] [NP [NCMN ไมโครคอมพิวเตอร์]]]]]]]]',\n",
       " '[S [PP [RPRE เพื่อ] [VP [VSTA เป็น] [NP [NCMN อุปกรณ์]]]] [S [NP [NCMN ที่]] [VP [VSTA มี] [NP [NCMN ราคา] [ADJP [VATT ถูก]]]]]]',\n",
       " '[S [S [NP [CLSP [DCNM <minus>] [PUNC <space>] [CNIT ขั้นตอน]] [ADJC [PREL ที่] [NP [NCNM 1]]]] [PUNC <space>] [VP [VSTA เป็น] [NP [FIXN การ] [VP [VACT ออกแบบ] [NP [NCMN หน้าที่] [ADJP [VATT รวม]]] [AVBP [ADVN ทั้งหมด]]]]]] [JSBR ว่า] [S [NP [NCMN วงจรรวม] [DDAC นี้]] [VP [VACT ต้องการ] [JSBR ให้] [VP [VACT ทำหน้าที่] [NP [NCMN อะไร]]]]]]',\n",
       " '[S [NP [CLSP [DCNM <minus>] [PUNC <space>] [CNIT ขั้นตอน]] [ADJC [PREL ที่] [S [NP [NCNM 2]] [PUNC <space>] [VP [VSTA เป็น] [NP [FIXN การ] [VACT ออกแบบ]]]]]] [VP [VACT ย่อย] [XVAE ลง] [VP [VACT ไป] [NP [NCMN ระดับ] [PUNC <space>] [NP [NCMN Block]]] [PUNC <space>] [JSBR ว่า] [VP [VSTA ประกอบ] [XVAE ไป] [PP [RPRE ด้วย] [CLSP [DIBQ กี่] [CNIT ส่วน]]]]]]]',\n",
       " '[S [NP [CLSP [DCNM <minus>] [PUNC <space>] [CNIT ขั้นตอน]] [ADJC [PREL ที่] [S [NP [NCNM 4]] [PUNC <space>] [VP [VSTA เป็น] [NP [FIXN การ] [VP [VACT ออกแบบ] [ADJP [VATT ลึก]]]]]]]] [VP [VACT ลง] [XVAE ไป] [PP [RPRE ถึง] [NP [NCMN ระดับ] [PUNC <space>] [NP [NP [NCMN Layout]] [PUNC <space>] [PP [RPRE ของ] [NP [NCMN วงจร] [NP [NCMN ลอจิก]]]]]]]]]',\n",
       " '[S [PP [RPRE จาก] [NP [NCMN ขั้นตอน] [NP [FIXN การ] [VP [VACT ออกแบบ] [NP [NCMN ทั้ง]]]] [PUNC <space>] [CLSP [DCNM 4] [PUNC <space>] [CNIT ขั้นตอน]]]] [S [NP [DDAC นี้]] [PUNC <space>] [VP [XVBM จะ] [VP [VSTA เห็น] [XVAE ได้]]]] [JSBR ว่า] [S [NP [NP [NP [NCMN ขั้นตอน] [DONM ที่ 1]] [PUNC <space>] [PP [RPRE ถึง] [NP [NCMN ขั้นตอน] [DONM ที่ 3]]]] [PUNC <space>] [NP [DDAC นี้]]] [VP [VP [XVAM สามารถ] [VP [VACT กระทำ] [XVAE ได้] [AVBP [FIXV โดย] [ADVN ง่าย]]]] [PP [RPRE ด้วย] [NP [NCMN มือ]]]]]]',\n",
       " '[S [PP [RPRE กล่าวคือ] [PUNC <space>] [NP [NCMN ผู้ออกแบบ] [VP [XVMM เพียงแต่] [VP [VACT ออกแบบ] [NP [NCMN วงจร]]]]]] [S [NP [NP [NCMN ระดับ]] [NP [NCMN ลอจิก]] [PUNC <space>] [JSBR แล้ว] [VP [VACT ส่ง]]] [VP [VACT ให้] [NP [NCMN ผู้ประกอบการเจือสาร]]]]]',\n",
       " '[S [NP [NCMN ซึ่ง] [ADJP [VATT แน่นอน]]] [JSBR ว่า] [S [PP [RPRE ใน] [NP [NCMN กรณี]]] [S [NP [NCMN หลัง] [DDAC นี้]] [PUNC <space>] [VP [XVBM จะ] [VP [VSTA สิ้น] [VP [VSTA เสีย] [NP [NCMN ค่าใช้จ่าย] [PP [RPRE ให้กับ] [NP [NCMN ผู้ประกอบการเจือสาร] [ADJP [VATT น้อย] [JCMP กว่า] [CLSP [CNIT กรณี] [DONM แรก]]]]]] [AVBP [ADVN มาก]]]]]]]]',\n",
       " '[S [PP [RPRE หลังจาก] [VP [XVAM ได้] [VP [VACT ทำการ] [VP [VACT วิเคราะห์] [NP [NCMN ซอฟท์แวร์]]]]]] [S [NP [NCMN ทาง]] [VP [VSTA ด้าน] [NP [NCMN กราฟฟิก] [DDAC เหล่านี้]] [AVBP [ADVN แล้ว]]]]]',\n",
       " '[S [PP [RPRE จาก] [NP [NP [FIXN การ] [VACT ศึกษา]] [JCRG และ] [NP [VACT ทดลอง] [VACT ใช้]]]] [S [NP [NCMN งาน] [NP [NCMN ซอฟท์แวร์]] [PUNC <space>] [NP [NCMN L-Edit]] [PUNC <space>] [NP [DDAC นี้]]] [PUNC <space>] [VP [XVAM สามารถ] [VP [VACT สรุป] [PP [RPRE เป็น] [NP [NCMN ข้อๆ]]] [PUNC <space>] [VP [VSTA ได้] [JSBR ดังนี้]]]]]]',\n",
       " '[S [S [JSBR ซึ่ง] [NP [NP [NCMN ข้อดี] [PP [RPRE ของ] [NP [NCMN ซอฟท์แวร์] [DDAC นี้]] [VP [VSTA คือ] [NP [FIXN <space>] [VP [XVBM จะ] [VSTA มี]]]]]] [NP [NCMN คำสั่ง] [DCNM หนึ่ง] [PP [RPRE ใน] [PUNC <space>] [NP [NCMN menu]]]] [PUNC <space>] [JSBR ให้] [VP [VACT เลือก] [VP [VACT ดู] [NP [NCMN สภาวะ] [PP [RPRE ของ] [PUNC <space>] [NP [NCMN memory]]]]]]] [PUNC <space>] [VP [VSTA ได้]]] [JSBR ว่า] [S [NP [NCMN ขณะนี้] [VP [VACT ใช้งาน] [XVAE ไป] [NP [DIBQ กี่] [PUNC <space>] [NCMN <space>]]]] [VP [VSTA เหลือ] [NP [NCMN เนื้อที่]] [JSBR ให้] [VP [VACT ใช้งาน] [XVAE ได้] [NP [DIBQ กี่] [NCMN <space>]]]]]]',\n",
       " '[S [PP [RPRE กล่าวคือ] [VP [XVAM สามารถ] [VP [VACT เซต] [NP [NP [NCMN หน่วย] [PP [RPRE ของ] [PUNC <space>] [NP [NCMN Internal]]]] [PUNC <space>] [NP [NP [NP [NP [NCMN Unit]] [NP [FIXN <space>] [VSTA ได้]] [PUNC <space>] [JSBR ว่า] [VP [XVBM จะ] [XVAM ให้] [VP [VSTA เป็น] [NP [NP [DIBQ กี่] [PUNC <space>] [NCMN Microns]] [NP [NCMN <space>]]] [EITT หรือ]]]] [PUNC <space>] [NP [NP [DIBQ กี่] [PUNC <space>] [NCMN Millimeters]] [NP [NCMN <space>]]] [JCRG หรือ] [NP [DIBQ กี่] [PUNC <space>] [NCMN Centimeters]]] [NP [NCMN <space>]]] [JCRG หรือ] [NP [DIBQ กี่] [PUNC <space>] [NCMN Inched]]]]]] [S [NP [NP [NCMN <space>]] [JCRG หรือ] [NP [FIXN <space>] [NCMN Lambda]]] [PUNC <space>] [VP [VSTA ได้]]]]',\n",
       " '[S [PP [RPRE และ] [NP [NCMN ปัจจุบัน] [ADJC [PREL ที่] [VP [XVBM กำลัง] [VP [VACT พัฒนา] [NP [NCMN อยู่] [DDAC นี้]] [VP [VSTA คือ] [JSBR ให้] [VP [XVAM สามารถ] [VP [VACT ทำการ] [NP [NCMN เซต]]]]]]]]]] [S [NP [NCMN สี] [PP [RPRE ของ] [NP [DIBQ แต่ละ] [PUNC <space>] [NCMN Layer]]]] [PUNC <space>] [VP [VSTA ได้]]]]',\n",
       " '[S [PP [RPRE และ] [VP [XVAM สามารถ] [VP [VACT ทำการ] [NP [NCMN เซต]]]]] [S [NP [NCMN ชื่อ] [PP [RPRE ของ] [NP [DIBQ แต่ละ] [PUNC <space>] [NCMN Layer]]]] [PUNC <space>] [VP [VSTA ได้]]]]',\n",
       " '[S [PP [RPRE คือ] [NP [FIXN <space>] [XVAM สามารถ]]] [S [NP [NCMN เซต] [PUNC <space>] [NCMN Design] [PUNC <space>] [NCMN Rule] [PUNC <space>] [NCMN ลง]] [VP [VACT ไป]]]]',\n",
       " '[S [PP [RPRE ดัง] [NP [NCMN ตัวอย่าง] [ADJC [PREL ที่] [VP [VACT รายงาน] [PP [RPRE ใน] [NP [NCMN หัวข้อ] [DONM ที่ 4]]] [PUNC <space>] [VP [JSBR ซึ่ง] [NP [NCMN สิ่ง] [DIAC ต่างๆ]]]]]]] [S [NP [NCMN <space>] [DDAC เหล่านี้]] [VP [VSTA เป็น] [NP [NP [NCMN ส่วน] [ADJC [PREL ที่] [VP [XVMM ต้อง] [VP [VACT ทำการ] [VP [VACT พัฒนา] [AVBP [ADVN ต่อไป]]]]]]] [PUNC <space>] [PP [RPRE และ] [NP [NCMN คณะวิจัย]]]] [VP [XVAM ได้] [VP [VACT บรรจุ] [XVAE อยู่] [PP [RPRE ใน] [NP [NCMN โครงการวิจัย] [NP [NCMN ระยะ] [DONM ที่ 3]]]]]]]]]',\n",
       " '[S [PP [RPRE โดย] [VP [VSTA มี] [NP [FIXN การ] [VP [VACT ดำเนิน] [NP [NCMN โครงการ]] [VP [VSTA เป็น] [PUNC <space>] [CLSP [DCNM 2] [PUNC <space>] [CNIT ระยะ]]]]]]] [S [NP [NP [FIXN <space>] [VSTA คือ]] [PUNC <space>] [PP [RPRE ใน] [NP [NCMN ระยะ] [DONM ที่ 1]]]] [PUNC <space>] [VP [VACT ศึกษา] [NP [NP [NCMN เทคโนโลยี] [PUNC <space>] [NP [FIXN การ] [VACT ออกแบบ]]] [PUNC <space>] [NP [NCMN ขั้นตอนการผลิต] [NP [NCMN <space>]]] [JCRG และ] [NP [CLTV ระบบ] [NP [NCMN คอมพิวเตอร์ช่วยออกแบบวงจรรวม] [NP [NCMN ขนาด] [ADJP [VATT ใหญ่] [AVBP [ADVN มาก]]]]] [ADJC [PREL ที่] [VP [VSTA มี] [XVAE อยู่] [AVBP [ADVN แล้ว]]]]]]]]]',\n",
       " '[S [PP [RPRE เพื่อ] [VP [VACT หา] [NP [NCMN รูปแบบ]]]] [S [NP [NCMN ที่]] [VP [VSTA เหมาะสม] [PP [RPRE ของ] [NP [NCMN ซอฟท์แวร์ช่วยออกแบบ] [PUNC <space>] [NP [NCMN NECTEC II]]]]]]]',\n",
       " '[S [PP [RPRE ใน] [NP [NCMN ขณะนี้]]] [S [NP [NCMN กำลัง]] [VP [VSTA อยู่] [PP [RPRE ใน] [NP [NCMN ระยะ] [PP [RPRE ของ] [NP [FIXN การ] [VP [VACT พัฒนา] [NP [NCMN ซอฟท์แวร์] [PP [RPRE ตาม] [NP [NCMN โครงการ] [NP [NCMN ระยะ] [DONM ที่ 2]]]]]]]]]]]]]',\n",
       " '[S [S [NP [NCMN โครงการ] [NP [NCMN ซอฟท์แวร์ช่วยออกแบบวงจรรวม] [PUNC <space>] [NP [NCMN NECTEC II]]]] [PUNC <space>] [VP [VSTA เป็น] [NP [NCMN โครงการ] [ADJC [PREL ที่] [VP [VSTA เกิด]]]]]] [JSBR เนื่องมาจาก] [S [NP [NCMN แนวโน้ม] [PP [RPRE ของ] [NP [FIXN การ] [VP [VACT ใช้] [NP [NCMN อุปกรณ์วงจรรวมเฉพาะกิจ] [PUNC <space>] [PUNC <left_parenthesis>] [NCMN Application Specific Integrated Circuit, ASIA] [PUNC <right_parenthesis>] [PUNC <space>]] [PP [RPRE ใน] [NP [NCMN อุตสาหกรรมผลิตเครื่องมือเครื่องใช้อิเล็กทรอนิกส์]]]]]]] [VP [VP [VSTA มี] [AVBP [ADVN มากขึ้น]]] [PP [RPRE ใน] [NP [NP [CNIT ช่วง] [PUNC <space>] [NCNM 4]] [PUNC <minus>] [NP [CLSP [DCNM 5] [PUNC <space>] [CMTR ปี]] [ADJC [PREL ที่] [VP [VACT ผ่าน] [XVAE มา] [JSBR จนกระทั่ง] [NP [RPRE ถึง] [NP [NCMN ปัจจุบัน]]]]]]]]]]]',\n",
       " '[S [PP [RPRE ใน] [NP [NCMN อนาคต] [ADJC [PREL อัน] [ADJP [NEG ไม่] [VATT ไกล]]]]] [S [NP [DDAC นี้]] [PUNC <space>] [VP [XVMM อาจ] [VP [VSTA เป็นไปได้] [JSBR ว่า]]]] [JSBR ถ้า] [S [NP [NCMN ลอง]] [VP [VACT เปิดดู] [PP [RPRE ภายใน] [NP [NCMN เครื่องมือเครื่องใช้อิเล็กทรอนิกส์]]] [XVAE แล้ว]]]]',\n",
       " '[S [S [NP [NCMN จะ]] [VP [VSTA เห็น]]] [JCRG แต่] [S [NP [NCMN อุปกรณ์วงจรรวม] [ADJC [PREL ที่] [VP [VSTA มี] [VACT ขาย]]]] [VP [VP [VSTA อยู่] [NP [NP [NP [NCMN จำนวน] [ADJP [VATT มาก]]] [JCRG และ] [NP [NCMN อุปกรณ์] [DIAC อื่นๆ]]] [NP [NCMN <space>]]] [AVBP [ADVN อีก] [ADVN เพียง]]] [NP [NCMN ไม่] [CLSP [DIBQ กี่] [CNIT ชิ้น]]]]]]',\n",
       " '[S [PP [RPRE เพื่อ] [VP [VACT ตอบสนอง] [NP [FIXN ความ] [VACT ต้องการ]] [PP [RPRE ของ] [NP [FIXN การ] [VACT พัฒนา]]]]] [S [NP [NCMN อุตสาหกรรมอิเล็กทรอนิกส์]] [VP [VACT ทั้ง] [PP [RPRE ใน] [NP [NCMN ประเทศ] [DDAC นั้น]]] [AVBP [ADVN เอง]]]]]',\n",
       " '[S [PP [RPRE จาก] [NP [FIXN การ] [VP [VACT ศึกษา] [NP [FIXN ความ] [VSTA เป็นไปได้]] [PP [RPRE ใน] [NP [FIXN การ] [VP [VACT เข้าสู่] [NP [NCMN ธุรกิจ] [NP [NCMN <space>] [JCRG หรือ] [NCMN อุตสาหกรรม]]]]]]]]] [S [NP [FIXN การ]] [VP [VACT ออกแบบ] [JCRG และ] [VP [VACT ผลิต] [NP [NCMN วงจรรวมเฉพาะกิจ] [PP [RPRE ของ] [NP [NPRP ประเทศไทย]]]]]]]]',\n",
       " '[S [PP [RPRE โดย] [NP [NCMN คณะ]]] [S [NP [NCMN ผู้ดำเนินการวิจัย]] [VP [XVAM ได้] [VP [VACT แบ่ง] [NP [NCMN ขั้นตอน]] [VP [VSTA เป็น] [NP [NP [FIXN การ] [VACT ออกแบบ]] [PUNC <space>] [PP [RPRE และ] [NP [FIXN การ] [VACT ผลิต]]]]]]]]]',\n",
       " '[S [PP [RPRE รวมทั้ง] [VP [XVBM ยัง] [VACT ทำให้]]] [S [NP [NCMN สถานศึกษา] [DIAC ต่างๆ]] [PUNC <space>] [VP [XVAM สามารถ] [VP [VACT จัด] [VP [VACT หา] [NP [NCMN เครื่องมือช่วยสอนการออกแบบวงจรรวม]] [XVAE ได้]]]]]]',\n",
       " '[S [PP [RPRE เพื่อ] [VP [VACT กำหนด] [NP [NCMN รูปแบบ] [PP [RPRE ของ] [NP [NCMN ซอฟท์แวร์]]]]]] [S [NP [NCMN ที่]] [VP [XVBM จะ] [VP [VACT พัฒนา] [XVAE ขึ้น] [AVBP [ADVN ใหม่]]]]]]',\n",
       " '[S [PP [RPRE ใน] [NP [DIBQ ทุก] [NP [NCMN ลักษณะ] [PP [RPRE ของ] [NP [FIXN การ] [VACT ออกแบบ]]]]]] [S [NP [DDAC นั้น]] [PUNC <space>] [VP [XVAM สามารถ] [VP [VACT สร้าง] [VP [VSTA เป็น] [NP [NCMN แผนผัง] [PP [RPRE ของ] [NP [FIXN การ] [VP [VACT ใช้] [NP [NCMN ซอฟท์แวร์ช่วยออกแบบวงจรรวม]] [XVAE ได้]]]]]]]]]]',\n",
       " '[S [PP [PREL ซึ่ง] [VP [XVBM จะ] [VP [VACT ให้] [NP [NCMN ผล]]]]] [S [NP [FIXN การ] [VACT ทำงาน]] [VP [XVAE ออกมา] [VP [VSTA เป็น] [NP [NCMN รูป] [NP [NCMN คลื่นสัญญาณ] [PP [RPRE บน] [NP [NCMN จอภาพ] [JCRG หรือ] [NCMN กระดาษพิมพ์]]]]]]]]]',\n",
       " '[S [PP [RPRE เมื่อ] [VP [XVAM ได้] [VP [VACT ออกแบบ] [VP [VACT ตรวจสอบ] [JCRG และ] [VACT ทดลอง]]]]] [S [NP [FIXN การ] [VACT ทำงาน]] [VP [VSTA ได้ผล] [ADJP [VATT ถูกต้อง] [AVBP [ADVN แล้ว]]]]]]',\n",
       " '[S [PP [RPRE ใน] [NP [NCMN แผนผัง] [PP [RPRE ของ] [NP [NCMN ซอฟท์แวร์ช่วยออกแบบวงจรรวม]]]]] [S [NP [DIBQ แต่ละ] [NP [NCMN ส่วน] [DDAC นั้น]]] [PUNC <space>] [VP [XVBM จะ] [VP [VSTA มี] [NP [NCMN รายละเอียด] [ADJC [PREL ที่] [ADJP [VATT แตกต่าง] [AVBP [ADVN กัน] [XVAE ไป]]]]] [VP [VSTA ขึ้นกับ] [NP [NCMN ชนิด] [PP [RPRE ของ] [NP [NCMN วงจรรวม] [ADJC [PREL ที่] [VP [VACT ส่งไป] [NP [NCMN เจือสาร]]]]]]]]]]]]',\n",
       " '[S [PP [RPRE จาก] [NP [FIXN การ] [VP [VACT ศึกษา] [AVBP [FIXV โดย] [ADJP [VATT ละเอียด] [PP [RPRE ใน] [NP [NCMN เรื่อง] [PP [RPRE ของ] [NP [FIXN การ] [VACT ออกแบบ]]]]]]]]]] [S [NP [NCMN วงจรรวม] [PUNC <space>] [NCMN Full custom] [PUNC <space>] [NCMN Gate array] [PUNC <space>] [JCRG และ] [PUNC <space>] [NCMN Standard cell]] [PUNC <space>] [VP [XVBM จึงCSBR] [XVAM ได้] [VP [VACT สรุป] [NP [NCMN ผัง] [PP [RPRE ของ] [NP [NCMN ซอฟท์แวร์ช่วยออกแบบวงจรรวม] [NP [NCMN ทั้ง]] [PUNC <space>] [CLSP [DCNM 2] [PUNC <space>] [CNIT แบบ]]]]] [PP [RPRE ดัง] [NP [NP [NCMN รูป] [DONM ที่ 2]] [PUNC <space>] [PP [RPRE และ] [NP [NCNM 3]]]]]]]]]',\n",
       " '[S [PP [RPRE จาก] [NP [NCMN รูป] [DONM ที่ 2]]] [S [NP [NCMN <space>] [NP [NCMN ผัง] [PP [RPRE ของ] [NP [NCMN ซอฟท์แวร์ช่วยออกแบบวงจรรวม]]]] [PUNC <space>] [NP [NCMN Full]] [PUNC <space>] [NP [NCMN custom]]] [PUNC <space>] [VP [VACT ประกอบ] [PP [RPRE ด้วย] [NP [NCMN โปรแกรม] [DIAC ต่างๆ]]] [PUNC <space>] [VP [VSTA คือ]]]]]',\n",
       " '[S [PP [RPRE เพื่อ] [VP [VACT นำ] [NP [NCMN คุณสมบัติ] [PP [RPRE ของ] [NP [NCMN วงจรรวม] [DDAC นี้]]]]]] [S [NP [VACT ไป] [VACT ทำการ]] [VP [VACT ตรวจสอบ] [JCRG หรือ] [VP [VACT จำลอง] [NP [FIXN การ] [VACT ทำงาน]] [AVBP [ADVN ต่อไป]]]]]]',\n",
       " '[S [S [JSBR ซึ่ง] [NP [NCMN ราคา] [PP [RPRE ใน] [NP [FIXN การ] [VP [VACT ผลิต] [NP [NCMN วงจรรวม] [PUNC <space>] [NP [NCMN Full custom]]]]]]] [PUNC <space>] [VP [VSTA มี] [NP [NCMN ราคา] [ADJP [VATT ต่ำ]]]]] [JSBR กว่า] [S [NP [NCMN วงจรรวม] [NP [NCMN แบบ] [DIAC อื่น]]] [PUNC <space>] [VP [JSBR เนื่องจาก] [NP [NCMN ค่าใช้จ่าย] [PP [RPRE ใน] [NP [FIXN การ] [VP [VACT ดำเนินการ] [PP [RPRE ของ] [NP [NCMN โรงงาน] [ADJC [PREL ที่] [VP [VP [VACT เรียก] [PP [RPRE ว่า] [PUNC <space>] [NP [NCMN NRE.] [PUNC <space>] [PUNC <left_parenthesis>] [NCMN Non Return Engineering] [PUNC <right_parenthesis>] [PUNC <space>]]]] [NP [NCMN charge]]]]]] [PUNC <space>] [VP [VSTA มี] [NP [NCMN ราคา] [ADJP [VATT ต่ำ]]]]]]]]]]]',\n",
       " '[S [PP [RPRE คือ] [NP [NCMN ต่อ]]] [S [NP [NCMN วงจร]] [VP [XVAE ขึ้น] [VP [VSTA เป็น] [NP [NCMN บล๊อก] [PP [RPRE ของ] [NP [NCMN วงจรรวม]]]] [AVBP [ADVN ทั้งหมด] [XVAE ก็ได้]]]]]]',\n",
       " '[S [PP [RPRE โดย] [VP [VACT นำ] [NP [NCMN วงจร] [ADJC [PREL ที่] [VP [VSTA อยู่] [NP [NCMN ในรูป] [PUNC <space>] [NCMN net] [PUNC <space>] [NCMN list] [PUNC <space>] [JCRG หรือ] [PUNC <space>] [NCMN HDL]]]]]]] [S [NP [NP [NCMN <space>] [JCRG และ] [NCMN ข้อมูล]] [PP [RPRE ของ] [NP [NCMN อุปกรณ์] [ADJC [PREL ที่] [VP [VSTA ประกอบ] [VP [VSTA เป็น] [NP [NCMN วงจร] [PP [RPRE จาก] [PUNC <space>] [NP [NCMN library]]]]]]]]]] [PUNC <space>] [VP [XVAE มา] [VP [VACT วิเคราะห์] [JCRG และ] [VP [VACT แสดง] [NP [NCMN ผล] [PP [RPRE ของ] [NP [FIXN การ] [VACT ทำงาน]]]]]]]]]',\n",
       " '[S [S [NP [NCMN 2] [NP [NCMN <full_stop>]]] [PUNC <space>] [VP [VACT พัฒนา]]] [JSBR ให้] [S [NP [NCMN ซอฟท์แวร์]] [VP [XVAM สามารถ] [VP [VACT ผลิต] [NP [NCMN ไฟล์วงจร]] [VP [VSTA เหมือนกับ] [NP [NP [NCMN ซอฟท์แวร์ช่วยออกแบบ] [ADJC [PREL ที่] [VP [VSTA มี] [XVAE อยู่] [AVBP [ADVN แล้ว]]]]] [PUNC <space>] [PP [RPRE และ] [VP [VSTA เป็น] [ADJC [PREL ที่] [VP [VACT ยอมรับ] [PP [RPRE ของ] [NP [NCMN โรงงาน] [CLSP [DCNM หลายๆ] [PUNC <space>] [CNIT แห่ง]]]]]]]]]]]]]]',\n",
       " '[S [PP [RPRE จาก] [NP [NP [NCMN ผล] [NP [FIXN การ] [VP [VACT ศึกษา] [NP [NCMN ข้อมูล]] [JSBR ดังที่] [VP [VACT กล่าว] [NP [NCMN ไป] [CLSP [DDAN ทั้งหมด] [DDAC นั้น]]]]]]] [PUNC <space>] [NP [NCMN คณะ]]]] [S [NP [NCMN ผู้วิจัย]] [VP [XVAM ได้] [VP [VACT นำไปใช้] [VP [VACT กำหนด] [NP [NP [NCMN รูปแบบ] [PP [RPRE ของ] [NP [NCMN ซอฟท์แวร์] [ADJC [PREL ที่] [VP [XVBM จะ] [VP [VACT พัฒนา] [PP [RPRE ใน] [NP [NCMN ระยะ] [DONM ที่ 2]]]]]]]]] [PUNC <space>] [PP [RPRE ของ] [NP [NCMN โครงการ]]]]] [JSBR ดัง] [VP [XVBM จะ] [XVAM ได้] [VP [VACT กล่าว] [AVBP [ADVN ต่อไป]]]]]]]]',\n",
       " '[S [PP [RPRE ใน] [NP [NCMN โครงการ] [NP [NP [NCMN พัฒนา]] [NP [NCMN ระยะ] [DONM ที่ 2]] [PUNC <space>] [JSBR ซึ่ง] [VP [VSTA เริ่ม] [VP [VACT ดำเนินการ] [PP [RPRE ตั้งแต่] [NP [NCMN ปลายปี] [PUNC <space>] [NP [NCMN พ.ศ.] [PUNC <space>] [NP [NCNM 2532]]]]]]]] [PUNC <space>] [NP [DDAC นั้น]] [PUNC <space>] [NP [NCMN คณะ]]]] [S [NP [NCMN ผู้วิจัย] [VP [XVAM ได้] [VP [VACT กำหนด] [NP [NCMN โครงสร้าง] [PP [RPRE ของ] [NP [NCMN ซอฟท์แวร์ช่วยออกแบบวงจรรวม] [PUNC <space>] [NP [NCMN NECTEC II]]]]] [PUNC <space>] [JSBR ให้] [VP [VSTA มี] [PUNC <space>] [CLSP [DCNM 2] [PUNC <space>] [CNIT ระบบ]]]]]] [VP [VSTA คือ]]]]',\n",
       " '[S [PP [RPRE ให้] [VP [XVAM สามารถ] [VP [VACT ทำงาน] [NP [NP [CLTV แบบ] [NP [NCMN เครื่องไมโครคอมพิวเตอร์] [ADJP [VATT ส่วนบุคคล]]] [ADJC [PREL ที่] [VP [VACT ใช้] [NP [NP [NCMN ซีพียู]] [PUNC <space>] [NP [NCMN 80286] [NP [NCMN <space>]]] [JCRG หรือ] [NP [NCMN <space>] [NP [NCNM 80386]]]]]]] [PUNC <space>] [PP [RPRE ภายใต้] [NP [NCMN ระบบปฏิบัติการ]]]]]]] [S [NP [NP [NCMN เอ็มเอสดอส]] [PUNC <space>] [PP [RPRE ดัง] [NP [NCMN ในรูป] [DONM ที่ 4]]]] [PUNC <space>] [VP [JSBR ซึ่ง] [VP [VACT แสดง] [NP [NCMN สภาพแวดล้อม] [PP [RPRE ของ] [NP [NCMN ระบบคอมพิวเตอร์] [ADJC [PREL ที่] [VP [XVBM จะ] [VP [VACT ใช้] [PP [RPRE กับ] [NP [NCMN โปรแกรม] [PUNC <space>] [NP [NCMN NECTEC II]]]]]]]]]]]]]]',\n",
       " '[S [PP [RPRE โดย] [VP [XVAM สามารถ] [VP [VACT ผลิต] [NP [NCMN <space>]]]]] [S [NP [NCMN CIF] [PUNC <space>] [NP [NCMN File]]] [PUNC <space>] [VP [VACT ออกมา] [JCRG และ] [VP [XVAM ได้] [VP [VACT ทดลอง] [VP [VACT ใช้] [PP [RPRE กับ] [NP [NCMN โปรแกรม] [PUNC <space>] [NP [NCMN NECTEC II]]]]]]]]]]',\n",
       " '[S [PP [RPRE รวมทั้ง] [VP [VACT คำนึง] [PP [RPRE ถึง] [NP [NCMN รูปแบบ]]]]] [S [NP [FIXN การ] [VP [VACT ใช้งาน] [NP [NCMN โปรแกรม] [PP [RPRE ทาง] [NP [NCMN กราฟฟิก] [ADJC [PREL ที่] [ADJP [NEG ไม่] [VATT ยาก]]]]]]]] [VP [VACT ต่อ] [NP [FIXN การ] [VACT เรียนรู้]]]]]',\n",
       " '[S [PP [PREL ซึ่ง] [VP [VACT คาดว่า] [VP [XVBM จะ] [VACT พัฒนา]]]] [S [NP [NCMN ซอฟท์แวร์] [DDAC ดังกล่าว]] [VP [VSTA เสร็จสิ้น] [NP [NCMN โครงการ] [DDAC นี้]]]]]',\n",
       " '[S [PP [RPRE โดย] [VP [VACT ใช้] [NP [NCMN เทคโนโลยี]]]] [S [NP [NCMN ไมโครคอมพิวเตอร์]] [VP [VSTA เป็น] [NP [NCMN พื้นฐาน]]]]]',\n",
       " '[S [PP [RPRE โดย] [NP [RPRE ใน] [NP [FIXN การ] [VACT ทดลอง]]]] [S [NP [NCMN ครั้ง] [DONM แรก]] [VP [VACT ใช้] [NP [NCMN แหล่งกำเนิด] [NP [NCMN รังสีเอ็กซ์] [ADJC [PREL ที่] [VP [VSTA มี] [NP [NCMN พลังงาน] [ADJP [VATT ต่ำ]]]]]]]]]]',\n",
       " '[S [PP [RPRE ใน] [NP [NCMN ปัจจุบัน]]] [S [NP [NCMN คอมพิวเตอร์] [NP [NCMN ถ่ายภาพตัด]]] [VP [VACT ขวาง] [NP [NCMN ร่างกาย] [VP [XVAM ได้] [VP [VACT พัฒนา] [XVAE ไป] [PP [RPRE ถึง] [PUNC <space>] [NP [NP [NCNM 4]] [PUNC <space>] [NP [NCMN รุ่น] [PUNC <space>] [PUNC <left_parenthesis>] [NCMN Generation] [PUNC <right_parenthesis>] [PUNC <space>]]]]]]] [PP [RPRE ตาม] [NP [NCMN หลัก] [NP [FIXN การ] [VP [VACT ทำงาน] [CLSP [DIBQ แต่ละ] [CLTV รุ่น]] [AVBP [ADVN ดังนี้]]]]]]]]]',\n",
       " '[S [PP [RPRE โดย] [VP [VACT กำหนด] [NP [NCMN ลำ] [NP [NCMN รังสีเอ็กซ์] [VATT เล็กๆ] [NCMN <space>]] [PUNC <left_parenthesis>] [NP [NCMN pencil beam]] [PUNC <right_parenthesis>] [NP [NCMN <space>]]] [JCRG และ] [VP [VSTA มี] [NP [NCMN ตัวรับ] [NP [NCMN รังสี]]]]]] [S [NP [NP [NCMN ตัว] [DIAC เดียว]] [JCRG หรือ] [NP [NCNM สอง]]] [VP [VACT ตัว]]]]',\n",
       " '[S [PP [RPRE โดย] [VP [VACT หมุน]]] [S [NP [NCMN ครั้ง]] [VP [VACT ละ] [NP [NP [NCMN <space>] [CLSP [DCNM 1] [PUNC <space>] [CMTR องศา]]] [PUNC <space>] [PP [RPRE ดัง] [NP [NCMN รูป] [DONM ที่ 1]]]]]]]',\n",
       " '[S [PP [RPRE โดย] [VP [VACT ใช้] [NP [NCMN รังสีเอ็กซ์]]]] [S [NP [NCMN ที่]] [VP [VACT ใช้] [PP [RPRE ใน] [NP [FIXN การ] [VP [VACT วินิจฉัย] [NP [NCMN กระดูก]]]]]]]]',\n",
       " '[S [PP [RPRE เพื่อ] [VP [VACT แก้ไข] [NP [NCMN ปัญหา]]]] [S [NP [NCMN ทาง] [NP [NCMN ด้าน]]] [VP [VACT รับ] [NP [NCMN รังสีเอ็กซ์]]]]]']"
      ]
     },
     "execution_count": 4,
     "metadata": {},
     "output_type": "execute_result"
    }
   ],
   "source": [
    "[i for i in listfile if i.count('[S ')>1]"
   ]
  },
  {
   "cell_type": "code",
   "execution_count": 5,
   "metadata": {},
   "outputs": [],
   "source": [
    "from nltk.chunk import conlltags2tree, tree2conlltags"
   ]
  },
  {
   "cell_type": "code",
   "execution_count": 6,
   "metadata": {},
   "outputs": [],
   "source": [
    "from nltk.tree import Tree"
   ]
  },
  {
   "cell_type": "code",
   "execution_count": 7,
   "metadata": {},
   "outputs": [],
   "source": [
    "#tree2conlltags(t)"
   ]
  },
  {
   "cell_type": "code",
   "execution_count": 8,
   "metadata": {},
   "outputs": [
    {
     "data": {
      "text/plain": [
       "'[S [NP [FIXN การ]] [VP [VACT ประชุม] [PP [RPRE ทาง] [NP [NCMN วิชาการ] [PUNC <space>] [NP [NCMN ครั้ง] [DONM ที่ 1]]]]]]'"
      ]
     },
     "execution_count": 8,
     "metadata": {},
     "output_type": "execute_result"
    }
   ],
   "source": [
    "listfile[0]"
   ]
  },
  {
   "cell_type": "code",
   "execution_count": 9,
   "metadata": {},
   "outputs": [],
   "source": [
    "#from nltk.treetransforms import  *"
   ]
  },
  {
   "cell_type": "code",
   "execution_count": 10,
   "metadata": {},
   "outputs": [],
   "source": [
    "tt = listfile[0]#'[S [NP [FIXN การ]] [VP [VACT ประชุม]] [PP [RPRE ทาง]] [NP [NCMN วิชาการ] [PUNC <space>] [NP [NCMN ครั้ง] [DONM ที่ 1]]]]'"
   ]
  },
  {
   "cell_type": "code",
   "execution_count": 11,
   "metadata": {},
   "outputs": [],
   "source": [
    "t = Tree.fromstring(tt.replace(\"[\",\"(\").replace(\"]\",\")\"))"
   ]
  },
  {
   "cell_type": "code",
   "execution_count": 12,
   "metadata": {},
   "outputs": [
    {
     "name": "stdout",
     "output_type": "stream",
     "text": [
      "(S\n",
      "  (NP (FIXN การ))\n",
      "  (VP\n",
      "    (VACT ประชุม)\n",
      "    (PP\n",
      "      (RPRE ทาง)\n",
      "      (NP\n",
      "        (NCMN วิชาการ)\n",
      "        (PUNC <space>)\n",
      "        (NP (NCMN ครั้ง) (DONM ที่ 1))))))\n"
     ]
    }
   ],
   "source": [
    "print(t)"
   ]
  },
  {
   "cell_type": "code",
   "execution_count": 13,
   "metadata": {},
   "outputs": [],
   "source": [
    "t2= t.productions()"
   ]
  },
  {
   "cell_type": "code",
   "execution_count": 14,
   "metadata": {},
   "outputs": [
    {
     "name": "stderr",
     "output_type": "stream",
     "text": [
      "The Ghostscript executable isn't found.\n",
      "See http://web.mit.edu/ghostscript/www/Install.htm\n",
      "If you're using a Mac, you can try installing\n",
      "https://docs.brew.sh/Installation then `brew install ghostscript`\n"
     ]
    },
    {
     "ename": "LookupError",
     "evalue": "",
     "output_type": "error",
     "traceback": [
      "\u001b[1;31m---------------------------------------------------------------------------\u001b[0m",
      "\u001b[1;31mLookupError\u001b[0m                               Traceback (most recent call last)",
      "\u001b[1;32mc:\\python\\python38\\lib\\site-packages\\nltk\\tree.py\u001b[0m in \u001b[0;36m_repr_png_\u001b[1;34m(self)\u001b[0m\n\u001b[0;32m    797\u001b[0m                     [\n\u001b[1;32m--> 798\u001b[1;33m                         find_binary(\n\u001b[0m\u001b[0;32m    799\u001b[0m                             \u001b[1;34m\"gs\"\u001b[0m\u001b[1;33m,\u001b[0m\u001b[1;33m\u001b[0m\u001b[1;33m\u001b[0m\u001b[0m\n",
      "\u001b[1;32mc:\\python\\python38\\lib\\site-packages\\nltk\\internals.py\u001b[0m in \u001b[0;36mfind_binary\u001b[1;34m(name, path_to_bin, env_vars, searchpath, binary_names, url, verbose)\u001b[0m\n\u001b[0;32m    687\u001b[0m ):\n\u001b[1;32m--> 688\u001b[1;33m     return next(\n\u001b[0m\u001b[0;32m    689\u001b[0m         find_binary_iter(\n",
      "\u001b[1;32mc:\\python\\python38\\lib\\site-packages\\nltk\\internals.py\u001b[0m in \u001b[0;36mfind_binary_iter\u001b[1;34m(name, path_to_bin, env_vars, searchpath, binary_names, url, verbose)\u001b[0m\n\u001b[0;32m    672\u001b[0m     \"\"\"\n\u001b[1;32m--> 673\u001b[1;33m     for file in find_file_iter(\n\u001b[0m\u001b[0;32m    674\u001b[0m         \u001b[0mpath_to_bin\u001b[0m \u001b[1;32mor\u001b[0m \u001b[0mname\u001b[0m\u001b[1;33m,\u001b[0m \u001b[0menv_vars\u001b[0m\u001b[1;33m,\u001b[0m \u001b[0msearchpath\u001b[0m\u001b[1;33m,\u001b[0m \u001b[0mbinary_names\u001b[0m\u001b[1;33m,\u001b[0m \u001b[0murl\u001b[0m\u001b[1;33m,\u001b[0m \u001b[0mverbose\u001b[0m\u001b[1;33m\u001b[0m\u001b[1;33m\u001b[0m\u001b[0m\n",
      "\u001b[1;32mc:\\python\\python38\\lib\\site-packages\\nltk\\internals.py\u001b[0m in \u001b[0;36mfind_file_iter\u001b[1;34m(filename, env_vars, searchpath, file_names, url, verbose, finding_dir)\u001b[0m\n\u001b[0;32m    631\u001b[0m         \u001b[0mdiv\u001b[0m \u001b[1;33m=\u001b[0m \u001b[1;34m\"=\"\u001b[0m \u001b[1;33m*\u001b[0m \u001b[1;36m75\u001b[0m\u001b[1;33m\u001b[0m\u001b[1;33m\u001b[0m\u001b[0m\n\u001b[1;32m--> 632\u001b[1;33m         \u001b[1;32mraise\u001b[0m \u001b[0mLookupError\u001b[0m\u001b[1;33m(\u001b[0m\u001b[1;34m\"\\n\\n%s\\n%s\\n%s\"\u001b[0m \u001b[1;33m%\u001b[0m \u001b[1;33m(\u001b[0m\u001b[0mdiv\u001b[0m\u001b[1;33m,\u001b[0m \u001b[0mmsg\u001b[0m\u001b[1;33m,\u001b[0m \u001b[0mdiv\u001b[0m\u001b[1;33m)\u001b[0m\u001b[1;33m)\u001b[0m\u001b[1;33m\u001b[0m\u001b[1;33m\u001b[0m\u001b[0m\n\u001b[0m\u001b[0;32m    633\u001b[0m \u001b[1;33m\u001b[0m\u001b[0m\n",
      "\u001b[1;31mLookupError\u001b[0m: \n\n===========================================================================\nNLTK was unable to find the gs file!\nUse software specific configuration paramaters or set the PATH environment variable.\n===========================================================================",
      "\nDuring handling of the above exception, another exception occurred:\n",
      "\u001b[1;31mLookupError\u001b[0m                               Traceback (most recent call last)",
      "\u001b[1;32mc:\\python\\python38\\lib\\site-packages\\IPython\\core\\formatters.py\u001b[0m in \u001b[0;36m__call__\u001b[1;34m(self, obj)\u001b[0m\n\u001b[0;32m    343\u001b[0m             \u001b[0mmethod\u001b[0m \u001b[1;33m=\u001b[0m \u001b[0mget_real_method\u001b[0m\u001b[1;33m(\u001b[0m\u001b[0mobj\u001b[0m\u001b[1;33m,\u001b[0m \u001b[0mself\u001b[0m\u001b[1;33m.\u001b[0m\u001b[0mprint_method\u001b[0m\u001b[1;33m)\u001b[0m\u001b[1;33m\u001b[0m\u001b[1;33m\u001b[0m\u001b[0m\n\u001b[0;32m    344\u001b[0m             \u001b[1;32mif\u001b[0m \u001b[0mmethod\u001b[0m \u001b[1;32mis\u001b[0m \u001b[1;32mnot\u001b[0m \u001b[1;32mNone\u001b[0m\u001b[1;33m:\u001b[0m\u001b[1;33m\u001b[0m\u001b[1;33m\u001b[0m\u001b[0m\n\u001b[1;32m--> 345\u001b[1;33m                 \u001b[1;32mreturn\u001b[0m \u001b[0mmethod\u001b[0m\u001b[1;33m(\u001b[0m\u001b[1;33m)\u001b[0m\u001b[1;33m\u001b[0m\u001b[1;33m\u001b[0m\u001b[0m\n\u001b[0m\u001b[0;32m    346\u001b[0m             \u001b[1;32mreturn\u001b[0m \u001b[1;32mNone\u001b[0m\u001b[1;33m\u001b[0m\u001b[1;33m\u001b[0m\u001b[0m\n\u001b[0;32m    347\u001b[0m         \u001b[1;32melse\u001b[0m\u001b[1;33m:\u001b[0m\u001b[1;33m\u001b[0m\u001b[1;33m\u001b[0m\u001b[0m\n",
      "\u001b[1;32mc:\\python\\python38\\lib\\site-packages\\nltk\\tree.py\u001b[0m in \u001b[0;36m_repr_png_\u001b[1;34m(self)\u001b[0m\n\u001b[0;32m    815\u001b[0m                 )\n\u001b[0;32m    816\u001b[0m                 \u001b[0mprint\u001b[0m\u001b[1;33m(\u001b[0m\u001b[0mpre_error_message\u001b[0m\u001b[1;33m,\u001b[0m \u001b[0mfile\u001b[0m\u001b[1;33m=\u001b[0m\u001b[0msys\u001b[0m\u001b[1;33m.\u001b[0m\u001b[0mstderr\u001b[0m\u001b[1;33m)\u001b[0m\u001b[1;33m\u001b[0m\u001b[1;33m\u001b[0m\u001b[0m\n\u001b[1;32m--> 817\u001b[1;33m                 \u001b[1;32mraise\u001b[0m \u001b[0mLookupError\u001b[0m\u001b[1;33m\u001b[0m\u001b[1;33m\u001b[0m\u001b[0m\n\u001b[0m\u001b[0;32m    818\u001b[0m \u001b[1;33m\u001b[0m\u001b[0m\n\u001b[0;32m    819\u001b[0m             \u001b[1;32mwith\u001b[0m \u001b[0mopen\u001b[0m\u001b[1;33m(\u001b[0m\u001b[0mout_path\u001b[0m\u001b[1;33m,\u001b[0m \u001b[1;34m\"rb\"\u001b[0m\u001b[1;33m)\u001b[0m \u001b[1;32mas\u001b[0m \u001b[0msr\u001b[0m\u001b[1;33m:\u001b[0m\u001b[1;33m\u001b[0m\u001b[1;33m\u001b[0m\u001b[0m\n",
      "\u001b[1;31mLookupError\u001b[0m: "
     ]
    },
    {
     "data": {
      "text/plain": [
       "Tree('S', ['การ', 'ประชุม', 'ทาง', 'วิชาการ', '<space>', 'ครั้ง', 'ที่', '1'])"
      ]
     },
     "execution_count": 14,
     "metadata": {},
     "output_type": "execute_result"
    }
   ],
   "source": [
    "t.flatten()"
   ]
  },
  {
   "cell_type": "code",
   "execution_count": null,
   "metadata": {},
   "outputs": [],
   "source": []
  },
  {
   "cell_type": "code",
   "execution_count": 7,
   "metadata": {},
   "outputs": [],
   "source": [
    "from nltk import treetransforms"
   ]
  },
  {
   "cell_type": "code",
   "execution_count": 8,
   "metadata": {},
   "outputs": [],
   "source": [
    "from copy import deepcopy"
   ]
  },
  {
   "cell_type": "code",
   "execution_count": 17,
   "metadata": {},
   "outputs": [],
   "source": [
    "collapsedTree = deepcopy(t)"
   ]
  },
  {
   "cell_type": "code",
   "execution_count": 9,
   "metadata": {},
   "outputs": [],
   "source": [
    "from transforms import flatten_deeptree"
   ]
  },
  {
   "cell_type": "code",
   "execution_count": 19,
   "metadata": {},
   "outputs": [],
   "source": [
    "t3=flatten_deeptree(collapsedTree)"
   ]
  },
  {
   "cell_type": "code",
   "execution_count": 20,
   "metadata": {},
   "outputs": [
    {
     "data": {
      "text/plain": [
       "3"
      ]
     },
     "execution_count": 20,
     "metadata": {},
     "output_type": "execute_result"
    }
   ],
   "source": [
    "t3.height()"
   ]
  },
  {
   "cell_type": "code",
   "execution_count": 21,
   "metadata": {},
   "outputs": [
    {
     "name": "stdout",
     "output_type": "stream",
     "text": [
      "(S\n",
      "  (NP การ/FIXN)\n",
      "  ประชุม/VACT\n",
      "  ทาง/RPRE\n",
      "  วิชาการ/NCMN\n",
      "  <space>/PUNC\n",
      "  (NP ครั้ง/NCMN ที่/DONM 1/DONM))\n"
     ]
    }
   ],
   "source": [
    "print(t3) # flattening the deep tree "
   ]
  },
  {
   "cell_type": "code",
   "execution_count": 22,
   "metadata": {},
   "outputs": [
    {
     "data": {
      "text/plain": [
       "[('การ', 'FIXN', 'B-NP'),\n",
       " ('ประชุม', 'VACT', 'O'),\n",
       " ('ทาง', 'RPRE', 'O'),\n",
       " ('วิชาการ', 'NCMN', 'O'),\n",
       " ('<space>', 'PUNC', 'O'),\n",
       " ('ครั้ง', 'NCMN', 'B-NP'),\n",
       " ('ที่', 'DONM', 'I-NP'),\n",
       " ('1', 'DONM', 'I-NP')]"
      ]
     },
     "execution_count": 22,
     "metadata": {},
     "output_type": "execute_result"
    }
   ],
   "source": [
    "tree2conlltags(t3)"
   ]
  },
  {
   "cell_type": "code",
   "execution_count": 23,
   "metadata": {},
   "outputs": [],
   "source": [
    "from transforms import shallow_tree"
   ]
  },
  {
   "cell_type": "code",
   "execution_count": 24,
   "metadata": {},
   "outputs": [],
   "source": [
    "t4=shallow_tree(collapsedTree)"
   ]
  },
  {
   "cell_type": "code",
   "execution_count": 25,
   "metadata": {},
   "outputs": [
    {
     "data": {
      "text/plain": [
       "[('การ', 'FIXN', 'B-NP'),\n",
       " ('ประชุม', 'VACT', 'B-VP'),\n",
       " ('ทาง', 'RPRE', 'I-VP'),\n",
       " ('วิชาการ', 'NCMN', 'I-VP'),\n",
       " ('<space>', 'PUNC', 'I-VP'),\n",
       " ('ครั้ง', 'NCMN', 'I-VP'),\n",
       " ('ที่', 'DONM', 'I-VP'),\n",
       " ('1', 'DONM', 'I-VP')]"
      ]
     },
     "execution_count": 25,
     "metadata": {},
     "output_type": "execute_result"
    }
   ],
   "source": [
    "tree2conlltags(t4)"
   ]
  },
  {
   "cell_type": "code",
   "execution_count": 26,
   "metadata": {},
   "outputs": [
    {
     "name": "stdout",
     "output_type": "stream",
     "text": [
      "(S\n",
      "  (NP การ/FIXN)\n",
      "  (VP\n",
      "    ประชุม/VACT\n",
      "    ทาง/RPRE\n",
      "    วิชาการ/NCMN\n",
      "    <space>/PUNC\n",
      "    ครั้ง/NCMN\n",
      "    ที่/DONM\n",
      "    1/DONM))\n"
     ]
    }
   ],
   "source": [
    "print(t4) # shallow tree"
   ]
  },
  {
   "cell_type": "code",
   "execution_count": 27,
   "metadata": {},
   "outputs": [],
   "source": [
    "def thtb2conll(t):\n",
    "    tt = Tree.fromstring(t.replace(\"[\",\"(\").replace(\"]\",\")\"))\n",
    "    tt = shallow_tree(tt) #flatten_deeptree(tt)\n",
    "    return tt#tree2conlltags(tt)"
   ]
  },
  {
   "cell_type": "code",
   "execution_count": 28,
   "metadata": {},
   "outputs": [
    {
     "name": "stderr",
     "output_type": "stream",
     "text": [
      "The Ghostscript executable isn't found.\n",
      "See http://web.mit.edu/ghostscript/www/Install.htm\n",
      "If you're using a Mac, you can try installing\n",
      "https://docs.brew.sh/Installation then `brew install ghostscript`\n"
     ]
    },
    {
     "ename": "LookupError",
     "evalue": "",
     "output_type": "error",
     "traceback": [
      "\u001b[1;31m---------------------------------------------------------------------------\u001b[0m",
      "\u001b[1;31mLookupError\u001b[0m                               Traceback (most recent call last)",
      "\u001b[1;32mc:\\python\\python38\\lib\\site-packages\\nltk\\tree.py\u001b[0m in \u001b[0;36m_repr_png_\u001b[1;34m(self)\u001b[0m\n\u001b[0;32m    797\u001b[0m                     [\n\u001b[1;32m--> 798\u001b[1;33m                         find_binary(\n\u001b[0m\u001b[0;32m    799\u001b[0m                             \u001b[1;34m\"gs\"\u001b[0m\u001b[1;33m,\u001b[0m\u001b[1;33m\u001b[0m\u001b[1;33m\u001b[0m\u001b[0m\n",
      "\u001b[1;32mc:\\python\\python38\\lib\\site-packages\\nltk\\internals.py\u001b[0m in \u001b[0;36mfind_binary\u001b[1;34m(name, path_to_bin, env_vars, searchpath, binary_names, url, verbose)\u001b[0m\n\u001b[0;32m    687\u001b[0m ):\n\u001b[1;32m--> 688\u001b[1;33m     return next(\n\u001b[0m\u001b[0;32m    689\u001b[0m         find_binary_iter(\n",
      "\u001b[1;32mc:\\python\\python38\\lib\\site-packages\\nltk\\internals.py\u001b[0m in \u001b[0;36mfind_binary_iter\u001b[1;34m(name, path_to_bin, env_vars, searchpath, binary_names, url, verbose)\u001b[0m\n\u001b[0;32m    672\u001b[0m     \"\"\"\n\u001b[1;32m--> 673\u001b[1;33m     for file in find_file_iter(\n\u001b[0m\u001b[0;32m    674\u001b[0m         \u001b[0mpath_to_bin\u001b[0m \u001b[1;32mor\u001b[0m \u001b[0mname\u001b[0m\u001b[1;33m,\u001b[0m \u001b[0menv_vars\u001b[0m\u001b[1;33m,\u001b[0m \u001b[0msearchpath\u001b[0m\u001b[1;33m,\u001b[0m \u001b[0mbinary_names\u001b[0m\u001b[1;33m,\u001b[0m \u001b[0murl\u001b[0m\u001b[1;33m,\u001b[0m \u001b[0mverbose\u001b[0m\u001b[1;33m\u001b[0m\u001b[1;33m\u001b[0m\u001b[0m\n",
      "\u001b[1;32mc:\\python\\python38\\lib\\site-packages\\nltk\\internals.py\u001b[0m in \u001b[0;36mfind_file_iter\u001b[1;34m(filename, env_vars, searchpath, file_names, url, verbose, finding_dir)\u001b[0m\n\u001b[0;32m    631\u001b[0m         \u001b[0mdiv\u001b[0m \u001b[1;33m=\u001b[0m \u001b[1;34m\"=\"\u001b[0m \u001b[1;33m*\u001b[0m \u001b[1;36m75\u001b[0m\u001b[1;33m\u001b[0m\u001b[1;33m\u001b[0m\u001b[0m\n\u001b[1;32m--> 632\u001b[1;33m         \u001b[1;32mraise\u001b[0m \u001b[0mLookupError\u001b[0m\u001b[1;33m(\u001b[0m\u001b[1;34m\"\\n\\n%s\\n%s\\n%s\"\u001b[0m \u001b[1;33m%\u001b[0m \u001b[1;33m(\u001b[0m\u001b[0mdiv\u001b[0m\u001b[1;33m,\u001b[0m \u001b[0mmsg\u001b[0m\u001b[1;33m,\u001b[0m \u001b[0mdiv\u001b[0m\u001b[1;33m)\u001b[0m\u001b[1;33m)\u001b[0m\u001b[1;33m\u001b[0m\u001b[1;33m\u001b[0m\u001b[0m\n\u001b[0m\u001b[0;32m    633\u001b[0m \u001b[1;33m\u001b[0m\u001b[0m\n",
      "\u001b[1;31mLookupError\u001b[0m: \n\n===========================================================================\nNLTK was unable to find the gs file!\nUse software specific configuration paramaters or set the PATH environment variable.\n===========================================================================",
      "\nDuring handling of the above exception, another exception occurred:\n",
      "\u001b[1;31mLookupError\u001b[0m                               Traceback (most recent call last)",
      "\u001b[1;32mc:\\python\\python38\\lib\\site-packages\\IPython\\core\\formatters.py\u001b[0m in \u001b[0;36m__call__\u001b[1;34m(self, obj)\u001b[0m\n\u001b[0;32m    343\u001b[0m             \u001b[0mmethod\u001b[0m \u001b[1;33m=\u001b[0m \u001b[0mget_real_method\u001b[0m\u001b[1;33m(\u001b[0m\u001b[0mobj\u001b[0m\u001b[1;33m,\u001b[0m \u001b[0mself\u001b[0m\u001b[1;33m.\u001b[0m\u001b[0mprint_method\u001b[0m\u001b[1;33m)\u001b[0m\u001b[1;33m\u001b[0m\u001b[1;33m\u001b[0m\u001b[0m\n\u001b[0;32m    344\u001b[0m             \u001b[1;32mif\u001b[0m \u001b[0mmethod\u001b[0m \u001b[1;32mis\u001b[0m \u001b[1;32mnot\u001b[0m \u001b[1;32mNone\u001b[0m\u001b[1;33m:\u001b[0m\u001b[1;33m\u001b[0m\u001b[1;33m\u001b[0m\u001b[0m\n\u001b[1;32m--> 345\u001b[1;33m                 \u001b[1;32mreturn\u001b[0m \u001b[0mmethod\u001b[0m\u001b[1;33m(\u001b[0m\u001b[1;33m)\u001b[0m\u001b[1;33m\u001b[0m\u001b[1;33m\u001b[0m\u001b[0m\n\u001b[0m\u001b[0;32m    346\u001b[0m             \u001b[1;32mreturn\u001b[0m \u001b[1;32mNone\u001b[0m\u001b[1;33m\u001b[0m\u001b[1;33m\u001b[0m\u001b[0m\n\u001b[0;32m    347\u001b[0m         \u001b[1;32melse\u001b[0m\u001b[1;33m:\u001b[0m\u001b[1;33m\u001b[0m\u001b[1;33m\u001b[0m\u001b[0m\n",
      "\u001b[1;32mc:\\python\\python38\\lib\\site-packages\\nltk\\tree.py\u001b[0m in \u001b[0;36m_repr_png_\u001b[1;34m(self)\u001b[0m\n\u001b[0;32m    815\u001b[0m                 )\n\u001b[0;32m    816\u001b[0m                 \u001b[0mprint\u001b[0m\u001b[1;33m(\u001b[0m\u001b[0mpre_error_message\u001b[0m\u001b[1;33m,\u001b[0m \u001b[0mfile\u001b[0m\u001b[1;33m=\u001b[0m\u001b[0msys\u001b[0m\u001b[1;33m.\u001b[0m\u001b[0mstderr\u001b[0m\u001b[1;33m)\u001b[0m\u001b[1;33m\u001b[0m\u001b[1;33m\u001b[0m\u001b[0m\n\u001b[1;32m--> 817\u001b[1;33m                 \u001b[1;32mraise\u001b[0m \u001b[0mLookupError\u001b[0m\u001b[1;33m\u001b[0m\u001b[1;33m\u001b[0m\u001b[0m\n\u001b[0m\u001b[0;32m    818\u001b[0m \u001b[1;33m\u001b[0m\u001b[0m\n\u001b[0;32m    819\u001b[0m             \u001b[1;32mwith\u001b[0m \u001b[0mopen\u001b[0m\u001b[1;33m(\u001b[0m\u001b[0mout_path\u001b[0m\u001b[1;33m,\u001b[0m \u001b[1;34m\"rb\"\u001b[0m\u001b[1;33m)\u001b[0m \u001b[1;32mas\u001b[0m \u001b[0msr\u001b[0m\u001b[1;33m:\u001b[0m\u001b[1;33m\u001b[0m\u001b[1;33m\u001b[0m\u001b[0m\n",
      "\u001b[1;31mLookupError\u001b[0m: "
     ]
    },
    {
     "data": {
      "text/plain": [
       "Tree('S', [Tree('NP', [('และ', 'NCMN')]), Tree('VP', [('สามารถ', 'XVAM'), ('นำไปใช้', 'VACT'), ('ประโยชน์', 'NCMN'), ('มี', 'VSTA'), ('มูลค่าเพิ่ม', 'NCMN')])])"
      ]
     },
     "execution_count": 28,
     "metadata": {},
     "output_type": "execute_result"
    }
   ],
   "source": [
    "thtb2conll(listfile[15])"
   ]
  },
  {
   "cell_type": "code",
   "execution_count": 29,
   "metadata": {},
   "outputs": [],
   "source": [
    "l = [thtb2conll(i) for i in listfile]"
   ]
  },
  {
   "cell_type": "code",
   "execution_count": 30,
   "metadata": {},
   "outputs": [
    {
     "name": "stderr",
     "output_type": "stream",
     "text": [
      "The Ghostscript executable isn't found.\n",
      "See http://web.mit.edu/ghostscript/www/Install.htm\n",
      "If you're using a Mac, you can try installing\n",
      "https://docs.brew.sh/Installation then `brew install ghostscript`\n"
     ]
    },
    {
     "ename": "LookupError",
     "evalue": "",
     "output_type": "error",
     "traceback": [
      "\u001b[1;31m---------------------------------------------------------------------------\u001b[0m",
      "\u001b[1;31mLookupError\u001b[0m                               Traceback (most recent call last)",
      "\u001b[1;32mc:\\python\\python38\\lib\\site-packages\\nltk\\tree.py\u001b[0m in \u001b[0;36m_repr_png_\u001b[1;34m(self)\u001b[0m\n\u001b[0;32m    797\u001b[0m                     [\n\u001b[1;32m--> 798\u001b[1;33m                         find_binary(\n\u001b[0m\u001b[0;32m    799\u001b[0m                             \u001b[1;34m\"gs\"\u001b[0m\u001b[1;33m,\u001b[0m\u001b[1;33m\u001b[0m\u001b[1;33m\u001b[0m\u001b[0m\n",
      "\u001b[1;32mc:\\python\\python38\\lib\\site-packages\\nltk\\internals.py\u001b[0m in \u001b[0;36mfind_binary\u001b[1;34m(name, path_to_bin, env_vars, searchpath, binary_names, url, verbose)\u001b[0m\n\u001b[0;32m    687\u001b[0m ):\n\u001b[1;32m--> 688\u001b[1;33m     return next(\n\u001b[0m\u001b[0;32m    689\u001b[0m         find_binary_iter(\n",
      "\u001b[1;32mc:\\python\\python38\\lib\\site-packages\\nltk\\internals.py\u001b[0m in \u001b[0;36mfind_binary_iter\u001b[1;34m(name, path_to_bin, env_vars, searchpath, binary_names, url, verbose)\u001b[0m\n\u001b[0;32m    672\u001b[0m     \"\"\"\n\u001b[1;32m--> 673\u001b[1;33m     for file in find_file_iter(\n\u001b[0m\u001b[0;32m    674\u001b[0m         \u001b[0mpath_to_bin\u001b[0m \u001b[1;32mor\u001b[0m \u001b[0mname\u001b[0m\u001b[1;33m,\u001b[0m \u001b[0menv_vars\u001b[0m\u001b[1;33m,\u001b[0m \u001b[0msearchpath\u001b[0m\u001b[1;33m,\u001b[0m \u001b[0mbinary_names\u001b[0m\u001b[1;33m,\u001b[0m \u001b[0murl\u001b[0m\u001b[1;33m,\u001b[0m \u001b[0mverbose\u001b[0m\u001b[1;33m\u001b[0m\u001b[1;33m\u001b[0m\u001b[0m\n",
      "\u001b[1;32mc:\\python\\python38\\lib\\site-packages\\nltk\\internals.py\u001b[0m in \u001b[0;36mfind_file_iter\u001b[1;34m(filename, env_vars, searchpath, file_names, url, verbose, finding_dir)\u001b[0m\n\u001b[0;32m    631\u001b[0m         \u001b[0mdiv\u001b[0m \u001b[1;33m=\u001b[0m \u001b[1;34m\"=\"\u001b[0m \u001b[1;33m*\u001b[0m \u001b[1;36m75\u001b[0m\u001b[1;33m\u001b[0m\u001b[1;33m\u001b[0m\u001b[0m\n\u001b[1;32m--> 632\u001b[1;33m         \u001b[1;32mraise\u001b[0m \u001b[0mLookupError\u001b[0m\u001b[1;33m(\u001b[0m\u001b[1;34m\"\\n\\n%s\\n%s\\n%s\"\u001b[0m \u001b[1;33m%\u001b[0m \u001b[1;33m(\u001b[0m\u001b[0mdiv\u001b[0m\u001b[1;33m,\u001b[0m \u001b[0mmsg\u001b[0m\u001b[1;33m,\u001b[0m \u001b[0mdiv\u001b[0m\u001b[1;33m)\u001b[0m\u001b[1;33m)\u001b[0m\u001b[1;33m\u001b[0m\u001b[1;33m\u001b[0m\u001b[0m\n\u001b[0m\u001b[0;32m    633\u001b[0m \u001b[1;33m\u001b[0m\u001b[0m\n",
      "\u001b[1;31mLookupError\u001b[0m: \n\n===========================================================================\nNLTK was unable to find the gs file!\nUse software specific configuration paramaters or set the PATH environment variable.\n===========================================================================",
      "\nDuring handling of the above exception, another exception occurred:\n",
      "\u001b[1;31mLookupError\u001b[0m                               Traceback (most recent call last)",
      "\u001b[1;32mc:\\python\\python38\\lib\\site-packages\\IPython\\core\\formatters.py\u001b[0m in \u001b[0;36m__call__\u001b[1;34m(self, obj)\u001b[0m\n\u001b[0;32m    343\u001b[0m             \u001b[0mmethod\u001b[0m \u001b[1;33m=\u001b[0m \u001b[0mget_real_method\u001b[0m\u001b[1;33m(\u001b[0m\u001b[0mobj\u001b[0m\u001b[1;33m,\u001b[0m \u001b[0mself\u001b[0m\u001b[1;33m.\u001b[0m\u001b[0mprint_method\u001b[0m\u001b[1;33m)\u001b[0m\u001b[1;33m\u001b[0m\u001b[1;33m\u001b[0m\u001b[0m\n\u001b[0;32m    344\u001b[0m             \u001b[1;32mif\u001b[0m \u001b[0mmethod\u001b[0m \u001b[1;32mis\u001b[0m \u001b[1;32mnot\u001b[0m \u001b[1;32mNone\u001b[0m\u001b[1;33m:\u001b[0m\u001b[1;33m\u001b[0m\u001b[1;33m\u001b[0m\u001b[0m\n\u001b[1;32m--> 345\u001b[1;33m                 \u001b[1;32mreturn\u001b[0m \u001b[0mmethod\u001b[0m\u001b[1;33m(\u001b[0m\u001b[1;33m)\u001b[0m\u001b[1;33m\u001b[0m\u001b[1;33m\u001b[0m\u001b[0m\n\u001b[0m\u001b[0;32m    346\u001b[0m             \u001b[1;32mreturn\u001b[0m \u001b[1;32mNone\u001b[0m\u001b[1;33m\u001b[0m\u001b[1;33m\u001b[0m\u001b[0m\n\u001b[0;32m    347\u001b[0m         \u001b[1;32melse\u001b[0m\u001b[1;33m:\u001b[0m\u001b[1;33m\u001b[0m\u001b[1;33m\u001b[0m\u001b[0m\n",
      "\u001b[1;32mc:\\python\\python38\\lib\\site-packages\\nltk\\tree.py\u001b[0m in \u001b[0;36m_repr_png_\u001b[1;34m(self)\u001b[0m\n\u001b[0;32m    815\u001b[0m                 )\n\u001b[0;32m    816\u001b[0m                 \u001b[0mprint\u001b[0m\u001b[1;33m(\u001b[0m\u001b[0mpre_error_message\u001b[0m\u001b[1;33m,\u001b[0m \u001b[0mfile\u001b[0m\u001b[1;33m=\u001b[0m\u001b[0msys\u001b[0m\u001b[1;33m.\u001b[0m\u001b[0mstderr\u001b[0m\u001b[1;33m)\u001b[0m\u001b[1;33m\u001b[0m\u001b[1;33m\u001b[0m\u001b[0m\n\u001b[1;32m--> 817\u001b[1;33m                 \u001b[1;32mraise\u001b[0m \u001b[0mLookupError\u001b[0m\u001b[1;33m\u001b[0m\u001b[1;33m\u001b[0m\u001b[0m\n\u001b[0m\u001b[0;32m    818\u001b[0m \u001b[1;33m\u001b[0m\u001b[0m\n\u001b[0;32m    819\u001b[0m             \u001b[1;32mwith\u001b[0m \u001b[0mopen\u001b[0m\u001b[1;33m(\u001b[0m\u001b[0mout_path\u001b[0m\u001b[1;33m,\u001b[0m \u001b[1;34m\"rb\"\u001b[0m\u001b[1;33m)\u001b[0m \u001b[1;32mas\u001b[0m \u001b[0msr\u001b[0m\u001b[1;33m:\u001b[0m\u001b[1;33m\u001b[0m\u001b[1;33m\u001b[0m\u001b[0m\n",
      "\u001b[1;31mLookupError\u001b[0m: "
     ]
    },
    {
     "data": {
      "text/plain": [
       "Tree('S', [('นอกจากนั้น', 'JSBR'), Tree('NP', [('<space>', 'FIXN'), ('บุคลากร', 'NCMN'), ('ผู้', 'PREL'), ('มี', 'VSTA'), ('ความ', 'FIXN'), ('เชี่ยวชาญ', 'VSTA'), ('ทาง', 'RPRE'), ('ด้าน', 'NCMN'), ('ภาษาศาสตร์', 'NCMN'), ('และ', 'JCRG'), ('ด้าน', 'NCMN'), ('คอมพิวเตอร์', 'NCMN')]), ('<space>', 'PUNC'), Tree('VP', [('จึง', 'XVBM'), ('เกิด', 'VSTA'), ('ความ', 'FIXN'), ('คิด', 'VACT'), ('ที่จะ', 'JSBR'), ('นำ', 'VACT'), ('คอมพิวเตอร์', 'NCMN'), ('มา', 'XVAE'), ('ช่วย', 'VACT'), ('ใน', 'RPRE'), ('การ', 'FIXN'), ('แปล', 'VACT'), ('ภาษา', 'NCMN'), ('ขึ้น', 'XVAE')])])"
      ]
     },
     "execution_count": 30,
     "metadata": {},
     "output_type": "execute_result"
    }
   ],
   "source": [
    "l[545]"
   ]
  },
  {
   "cell_type": "code",
   "execution_count": 31,
   "metadata": {},
   "outputs": [],
   "source": [
    "import random\n",
    "from nltk.chunk import conlltags2tree, tree2conlltags"
   ]
  },
  {
   "cell_type": "code",
   "execution_count": 32,
   "metadata": {},
   "outputs": [],
   "source": [
    "shuffled_conll_sents = l\n",
    "random.shuffle(shuffled_conll_sents)\n",
    "train_sents = shuffled_conll_sents[:int(len(shuffled_conll_sents) * 0.9)]\n",
    "test_sents = shuffled_conll_sents[int(len(shuffled_conll_sents) * 0.9 + 1):]"
   ]
  },
  {
   "cell_type": "code",
   "execution_count": 33,
   "metadata": {},
   "outputs": [],
   "source": [
    "from nltk import ChunkParserI, TrigramTagger\n",
    " \n",
    " \n",
    "class TrigramChunkParser(ChunkParserI):\n",
    "    def __init__(self, train_sents):\n",
    "        # Extract only the (POS-TAG, IOB-CHUNK-TAG) pairs\n",
    "        train_data = [[(pos_tag, chunk_tag) for word, pos_tag, chunk_tag in tree2conlltags(sent)] \n",
    "                      for sent in train_sents]\n",
    " \n",
    "        # Train a TrigramTagger\n",
    "        self.tagger = TrigramTagger(train_data)\n",
    " \n",
    "    def parse(self, sentence):\n",
    "        pos_tags = [pos for word, pos in sentence]\n",
    " \n",
    "        # Get the Chunk tags\n",
    "        tagged_pos_tags = self.tagger.tag(pos_tags)\n",
    " \n",
    "        # Assemble the (word, pos, chunk) triplets\n",
    "        conlltags = [(word, pos_tag, chunk_tag) \n",
    "                     for ((word, pos_tag), (pos_tag, chunk_tag)) in zip(sentence, tagged_pos_tags)]\n",
    " \n",
    "        # Transform to tree\n",
    "        return conlltags2tree(conlltags)\n",
    " "
   ]
  },
  {
   "cell_type": "code",
   "execution_count": 34,
   "metadata": {},
   "outputs": [],
   "source": [
    "trigram_chunker = TrigramChunkParser(train_sents)"
   ]
  },
  {
   "cell_type": "code",
   "execution_count": 35,
   "metadata": {},
   "outputs": [
    {
     "data": {
      "text/plain": [
       "[Tree('S', [Tree('NP', [('ปัจจุบัน', 'NCMN'), ('นี้', 'DDAC'), ('<space>', 'PUNC'), ('ระบบ', 'NCMN'), ('การ', 'FIXN'), ('แปล', 'VACT'), ('ภาษา', 'NCMN'), ('ด้วย', 'RPRE'), ('เครื่องคอมพิวเตอร์', 'NCMN')]), Tree('VP', [('ยัง', 'XVBM'), ('ไม่', 'NEG'), ('สมบูรณ์', 'VSTA'), ('นัก', 'ADVN')])]),\n",
       " Tree('S', [Tree('NP', [('และ', 'NCMN')]), Tree('VP', [('แสดง', 'VACT'), ('ภาพ', 'NCMN'), ('หนึ่ง', 'DIAC'), ('ในขณะที่', 'JSBR'), ('รับส่ง', 'VACT'), ('ภาพ', 'NCMN'), ('อีก', 'DDBQ'), ('ภาพ', 'CNIT'), ('หนึ่ง', 'DCNM'), ('กับ', 'RPRE'), ('คอมพิวเตอร์ส่วนบุคคล', 'NCMN'), ('ได้', 'XVAE')])]),\n",
       " Tree('S', [Tree('PP', [('และ', 'RPRE'), ('ผู้', 'PPRS'), ('จัด', 'VACT'), ('ดำเนินการ', 'VACT'), ('พัฒนา', 'VACT'), ('ซอฟต์แวร์', 'NCMN')]), Tree('S', [('เรื่อง', 'NCMN'), ('นี้', 'DDAC'), ('<space>', 'PUNC'), ('ได้', 'XVAM'), ('พยายาม', 'VACT'), ('เน้น', 'VSTA'), ('การ', 'FIXN'), ('ดำเนินการ', 'VACT')])]),\n",
       " Tree('S', [Tree('NP', [('การ', 'FIXN'), ('แปล', 'VACT'), ('ภาษา', 'NCMN'), ('ด้วย', 'RPRE'), ('คอมพิวเตอร์', 'NCMN'), ('นั้น', 'DDAC'), ('เป็น', 'VSTA'), ('การ', 'FIXN'), ('นำ', 'VACT'), ('ทฤษฎี', 'NCMN'), ('ทาง', 'RPRE'), ('ด้าน', 'NCMN'), ('การ', 'FIXN'), ('ประมวลผล', 'VACT'), ('ภาษาธรรมชาติ', 'NCMN'), ('<space>', 'PUNC'), ('<left_parenthesis>', 'PUNC'), ('Natural', 'NCMN'), ('Language', 'NCMN'), ('Processing', 'NCMN'), ('<right_parenthesis>', 'PUNC'), ('<space>', 'PUNC'), ('มา', 'XVAE')]), Tree('VP', [('เป็น', 'VSTA'), ('พื้นฐาน', 'NCMN'), ('ใน', 'RPRE'), ('การ', 'FIXN'), ('วิเคราะห์', 'VACT'), ('<space>', 'NCMN'), ('และ', 'JCRG'), ('สังเคราะห์', 'VACT'), ('ประโยค', 'NCMN')])]),\n",
       " Tree('S', [Tree('NP', [('ดัง', 'RPRE'), ('แสดง', 'NCMN'), ('ใน', 'RPRE'), ('รูป', 'NCMN')]), Tree('VP', [('ที่', 'JSBR'), ('4', 'NCNM')])]),\n",
       " Tree('S', [Tree('PP', [('คือ', 'RPRE'), ('<space>', 'PUNC'), ('เทคนิค', 'NCMN')]), Tree('S', [('การ', 'FIXN'), ('ลด', 'VACT'), ('ความ', 'FIXN'), ('ถี่', 'VATT'), ('โดย', 'JSBR'), ('ใช้', 'VACT'), ('มิกเซอร์', 'NCMN'), ('ร่วม', 'VACT'), ('กับ', 'RPRE'), ('พรีเสกลเลอร์', 'NCMN')])]),\n",
       " Tree('S', [Tree('NP', [('แรงดัน', 'NCMN'), ('ใช้งาน', 'NCMN'), ('<space>', 'PUNC'), ('12.5', 'DCNM'), ('<space>', 'PUNC'), ('VDC', 'CMTR')]), ('<space>', 'PUNC'), Tree('VP', [('ที่', 'VSTA'), ('<space>', 'PUNC'), ('250', 'DCNM'), ('<space>', 'PUNC'), ('mA', 'CMTR')])]),\n",
       " Tree('S', [Tree('NP', [('2', 'NCNM'), ('<space>', 'PUNC'), ('ข้อมูล', 'NCMN')]), ('สำหรับ', 'JSBR'), Tree('VP', [('วิเคราะห์', 'VACT'), ('ประโยค', 'NCMN')])]),\n",
       " Tree('S', [Tree('NP', [('ใน', 'RPRE'), ('การ', 'FIXN'), ('ทดลอง', 'VACT'), ('ครั้ง', 'CFQC'), ('นี้', 'DDAC')]), ('<space>', 'PUNC'), Tree('VP', [('ได้', 'XVAM'), ('ออกแบบ', 'VACT'), ('ให้', 'RPRE'), ('อินเวอร์เตอร์', 'NCMN'), ('ทุก', 'DIBQ'), ('ตัว', 'NCMN'), ('มี', 'VSTA'), ('<space>', 'PUNC'), ('nMOS', 'NCMN'), ('<space>', 'PUNC'), ('ซึ่ง', 'JSBR'), ('มี', 'VSTA'), ('อัตราส่วน', 'NCMN'), ('<space>', 'NCMN'), ('<left_parenthesis>', 'PUNC'), ('W', 'NCMN'), ('<right_parenthesis>', 'PUNC'), ('n', 'NCMN'), ('<space>', 'PUNC'), ('เท่ากับ', 'VSTA'), ('<space>', 'PUNC'), ('20', 'NCNM'), ('<slash>', 'PUNC'), ('10', 'NCNM')])]),\n",
       " Tree('S', [Tree('NP', [('และ', 'NCMN')]), Tree('VP', [('ทำ', 'VACT'), ('การ', 'FIXN'), ('เก็บ', 'VACT'), ('ข้อมูล', 'NCMN'), ('การ', 'FIXN'), ('ใช้', 'VACT'), ('มอเตอร์', 'NCMN'), ('ที่', 'PREL'), ('พัฒนา', 'VACT'), ('ขึ้น', 'XVAE'), ('ใน', 'RPRE'), ('ภาคสนาม', 'NCMN')])]),\n",
       " Tree('S', [Tree('PP', [('ตัวอย่างเช่น', 'RPRE'), ('<space>', 'PUNC'), ('คำเชื่อม', 'NCMN'), ('<space>', 'PUNC'), ('โดย', 'RPRE'), ('<space>', 'FIXN'), ('แสดง', 'VACT')]), Tree('S', [('ลักษณะ', 'NCMN'), ('หรือ', 'JCRG'), ('วิถีทาง', 'NCMN'), ('ที่', 'PREL'), ('การ', 'FIXN'), ('กระทำ', 'VACT'), ('เกิดขึ้น', 'VSTA')])]),\n",
       " Tree('S', [Tree('NP', [('คำสั่ง', 'NCMN'), ('ทั้ง', 'DDBQ'), ('สอง', 'NCNM')]), Tree('VP', [('จะ', 'XVBM'), ('ใช้', 'VACT'), ('บิท', 'NCMN'), ('ข้อมูล', 'NCMN'), ('ที่', 'PREL'), ('เหลือ', 'VSTA'), ('อยู่', 'XVAE'), ('ใน', 'RPRE'), ('ภาค', 'NCMN'), ('นี้', 'DDAC'), ('เป็น', 'VSTA'), ('ตัวกำหนด', 'NCMN')])]),\n",
       " Tree('S', [Tree('NP', [('6', 'NCNM'), ('<full_stop>', 'PUNC'), ('<space>', 'FIXN'), ('แผนผัง', 'NCMN')]), Tree('VP', [('แสดง', 'VACT'), ('ระบบ', 'NCMN'), ('เครื่อง', 'NCMN')])]),\n",
       " Tree('S', [Tree('NP', [('ซึ่ง', 'NCMN')]), Tree('VP', [('เป็นเหตุให้', 'VSTA'), ('นักวิจัย', 'NCMN'), ('ขาด', 'VSTA'), ('แรงจูงใจ', 'NCMN'), ('และ', 'JCRG'), ('สิ่ง', 'NCMN'), ('เร้า', 'VSTA'), ('ให้', 'JSBR'), ('เร่ง', 'VACT'), ('ทำงาน', 'VACT')])]),\n",
       " Tree('S', [Tree('PP', [('ใน', 'RPRE'), ('ประเทศญี่ปุ่น', 'NPRP')]), Tree('S', [('มี', 'NCMN'), ('บริษัทเอกชน', 'NCMN'), ('เข้าร่วม', 'VACT'), ('โครงการ', 'NCMN'), ('นี้', 'DDAC'), ('อยู่', 'VSTA'), ('ทั้งหมด', 'PDMN'), ('<space>', 'PUNC'), ('7', 'DCNM'), ('<space>', 'PUNC'), ('บริษัท', 'CNIT'), ('<space>', 'PUNC'), ('ได้แก่', 'VSTA'), ('<space>', 'PUNC'), ('บริษัท', 'NCMN'), ('<space>', 'NCMN'), ('NEC,', 'NPRP'), ('<space>', 'PUNC'), ('TOSHIBA,', 'NPRP'), ('<space>', 'PUNC'), ('FUJITSU,', 'NPRP'), ('<space>', 'PUNC'), ('OKI,', 'NPRP'), ('<space>', 'PUNC'), ('SHARP,', 'NPRP'), ('<space>', 'PUNC'), ('HITACHI', 'NPRP'), ('<space>', 'PUNC'), ('และ', 'RPRE'), ('<space>', 'PUNC'), ('MITSUBISHI', 'NPRP')])]),\n",
       " Tree('S', [Tree('NP', [('รูป', 'NCMN'), ('ที่', 'DONM'), ('8', 'DONM')]), ('<space>', 'PUNC'), Tree('VP', [('แสดง', 'VACT'), ('การ', 'FIXN'), ('กำหนด', 'VSTA'), ('<space>', 'PUNC'), ('Grammatical', 'NCMN'), ('Structure', 'NCMN'), ('<space>', 'PUNC'), ('ให้กับ', 'RPRE'), ('ประโยค', 'NCMN'), ('ตัวอย่าง', 'NCMN')])]),\n",
       " Tree('S', [Tree('NP', [('5', 'NCMN'), ('<full_stop>', 'NCMN')]), ('<space>', 'PUNC'), Tree('VP', [('สรุป', 'VACT')])]),\n",
       " Tree('S', [Tree('PP', [('และ', 'RPRE'), ('ความ', 'FIXN'), ('แตกต่าง', 'VSTA'), ('ของ', 'RPRE'), ('ความ', 'FIXN'), ('ถี่', 'VATT')]), Tree('S', [('แต่ละ', 'DIBQ'), ('ครึ่งเสียง', 'NCMN'), ('จะ', 'XVBM'), ('สามารถ', 'XVAM'), ('คำนวณ', 'VACT'), ('ได้', 'XVAE'), ('โดย', 'JSBR'), ('สมการ', 'CNIT'), ('<space>', 'PUNC'), ('4', 'NCNM')])]),\n",
       " Tree('S', [Tree('NP', [('สัญญาณ', 'NCMN'), ('<space>', 'PUNC'), ('T', 'NCMN')]), ('<space>', 'PUNC'), Tree('VP', [('เกิด', 'VSTA'), ('จาก', 'RPRE'), ('การ', 'FIXN'), ('คลายตัว', 'VACT'), ('ของ', 'RPRE'), ('กล้ามเนื้อหัวใจ', 'NCMN'), ('ส่วนล่าง', 'NCMN')])]),\n",
       " Tree('S', [Tree('NP', [('DRQ1', 'NCMN'), ('<comma>', 'PUNC'), ('<space>', 'PUNC'), ('DRQ2', 'NCMN'), ('<comma>', 'PUNC'), ('<space>', 'PUNC'), ('DRQ3', 'NCMN')]), ('<space>', 'PUNC'), Tree('VP', [('เป็น', 'VSTA'), ('สัญญาณ', 'NCMN'), ('ขอใช้', 'VACT'), ('<space>', 'PUNC'), ('DMA', 'NCMN'), ('controller', 'NCMN'), ('<space>', 'PUNC'), ('ของ', 'RPRE'), ('ระบบ', 'NCMN')])]),\n",
       " Tree('S', [Tree('NP', [('MAPS', 'NCMN')]), ('<space>', 'PUNC'), Tree('VP', [('คือ', 'VSTA'), ('การ', 'FIXN'), ('บอก', 'VACT'), ('ความ', 'FIXN'), ('สัมพันธ์', 'VSTA'), ('ของ', 'RPRE'), ('คำกริยา', 'NCMN'), ('กับ', 'RPRE'), ('คำ', 'NCMN'), ('ที่', 'PREL'), ('อยู่', 'VSTA'), ('หน้า', 'VATT'), ('และ', 'JCRG'), ('หลัง', 'RPRE'), ('คำกริยา', 'NCMN'), ('นั้นๆ', 'DDAN'), ('<space>', 'NCMN'), ('ทั้ง', 'JCRG'), ('ใน', 'RPRE'), ('ด้าน', 'NCMN'), ('โครงการ', 'NCMN'), ('สร้าง', 'VACT'), ('ผิว', 'NCMN'), ('<space>', 'PUNC'), ('syntax', 'NCMN'), ('<space>', 'PUNC'), ('และ', 'RPRE'), ('โครงสร้าง', 'NCMN'), ('ลึก', 'VATT'), ('<space>', 'PUNC'), ('semantic', 'NCMN')])]),\n",
       " Tree('S', [Tree('PP', [('เพื่อ', 'RPRE'), ('ประโยชน์', 'NCMN'), ('ใน', 'RPRE'), ('การ', 'FIXN'), ('วางแผน', 'VACT')]), Tree('S', [('และ', 'NCMN'), ('เปลี่ยนแปลง', 'VACT'), ('รายการอาหาร', 'NCMN')])]),\n",
       " Tree('S', [Tree('PP', [('รวมทั้ง', 'RPRE'), ('คำนึง', 'VACT'), ('ถึง', 'RPRE'), ('รูปแบบ', 'NCMN')]), Tree('S', [('การ', 'FIXN'), ('ใช้งาน', 'VACT'), ('โปรแกรม', 'NCMN'), ('ทาง', 'RPRE'), ('กราฟฟิก', 'NCMN'), ('ที่', 'PREL'), ('ไม่', 'NEG'), ('ยาก', 'VATT'), ('ต่อ', 'VACT'), ('การ', 'FIXN'), ('เรียนรู้', 'VACT')])]),\n",
       " Tree('S', [Tree('NP', [('ขณะนี้', 'NCMN'), ('<space>', 'PUNC'), ('โครงการ', 'NCMN'), ('นี้', 'DDAC')]), Tree('VP', [('อยู่', 'VSTA'), ('ระหว่าง', 'RPRE'), ('การ', 'FIXN'), ('พัฒนา', 'VACT'), ('เครื่องสปัตเตอริง', 'NCMN'), ('แบบ', 'NCMN'), ('<space>', 'PUNC'), ('ดี.ซี.พลานาร์แมกนิตรอย', 'NCMN')])]),\n",
       " Tree('S', [Tree('NP', [('ความ', 'FIXN'), ('เห็น', 'VSTA'), ('สำหรับ', 'RPRE'), ('เรื่อง', 'NCMN'), ('นี้', 'DDAC'), ('ใน', 'RPRE'), ('ปัจจุบัน', 'NCMN')]), ('<space>', 'PUNC'), Tree('VP', [('ยังคง', 'XVBM'), ('เป็น', 'VSTA'), ('เรื่อง', 'NCMN'), ('ยาก', 'VATT'), ('ที่จะ', 'JSBR'), ('ตอบ', 'VACT'), ('ได้', 'XVAM'), ('ว่า', 'JSBR'), ('เป็น', 'VSTA'), ('ความ', 'FIXN'), ('จริง', 'VATT'), ('หรือไม่', 'EITT')])]),\n",
       " Tree('S', [('เพื่อให้', 'JSBR'), Tree('NP', [('ได้', 'VACT'), ('มา', 'VACT'), ('ซึ่ง', 'JSBR'), ('ผลงานวิจัย', 'NCMN')]), ('<space>', 'PUNC'), Tree('VP', [('ที่', 'JSBR'), ('สามารถ', 'XVAM'), ('ถ่ายทอด', 'VACT'), ('เทคโนโลยี', 'NCMN'), ('สู่', 'RPRE'), ('ภาคเอกชน', 'NCMN'), ('ได้', 'XVAE'), ('อย่าง', 'FIXV'), ('มีประสิทธิภาพ', 'VATT'), ('และ', 'JCRG'), ('ต่อเนื่อง', 'VATT')])]),\n",
       " Tree('S', [Tree('NP', [('Field', 'NCMN'), ('<space>', 'PUNC'), ('ที่', 'NCMN'), ('7', 'NCMN')]), ('<space>', 'PUNC'), Tree('VP', [('สำหรับ', 'JSBR'), ('เก็บ', 'VACT'), ('ชนิด', 'NCMN'), ('การ', 'FIXN'), ('ติดต่อ', 'VACT'), ('ครั้ง', 'NCMN'), ('สุดท้าย', 'DONM'), ('กับ', 'RPRE'), ('คลังสินค้า', 'NCMN'), ('<space>', 'PUNC'), ('เป็น', 'RPRE'), ('ตัวแปร', 'NCMN'), ('ชนิด', 'NCMN'), ('<space>', 'PUNC'), ('string', 'NCMN'), ('<space>', 'PUNC'), ('ขนาด', 'NCMN'), ('<space>', 'PUNC'), ('1', 'DCNM'), ('<space>', 'PUNC'), ('ตัวอักษร', 'CNIT')])]),\n",
       " Tree('S', [Tree('NP', [('ปล่อย', 'NCMN'), ('มือ', 'NCMN')]), Tree('VP', [('ออก', 'VACT')])]),\n",
       " Tree('S', [Tree('NP', [('ภาษาไทย', 'NCMN'), ('นั้น', 'DDAC')]), Tree('VP', [('เป็น', 'VSTA'), ('ภาษา', 'NCMN'), ('คำโดด', 'NCMN'), ('<space>', 'PUNC'), ('ซึ่ง', 'JSBR'), ('มีผล', 'VACT'), ('ตาม', 'RPRE'), ('มา', 'VACT'), ('ที่', 'RPRE'), ('สำคัญ', 'VATT'), ('ใน', 'RPRE'), ('การ', 'FIXN'), ('จัดทำ', 'VACT'), ('ระบบ', 'NCMN'), ('เข้าใจ', 'NCMN'), ('ภาษา', 'NCMN'), ('ด้วย', 'RPRE'), ('เครื่อง', 'NCMN'), ('<space>', 'PUNC'), ('2', 'DCNM'), ('<space>', 'PUNC'), ('ประการ', 'CNIT'), ('<space>', 'PUNC'), ('คือ', 'VSTA'), ('<space>', 'PUNC'), ('ประการ', 'CNIT'), ('แรก', 'DONM'), ('การ', 'FIXN'), ('ขาด', 'VSTA'), ('ข้อมูล', 'NCMN'), ('ใน', 'RPRE'), ('เรื่อง', 'NCMN'), ('รูป', 'NCMN'), ('ของ', 'RPRE'), ('คำ', 'NCMN'), ('ที่จะ', 'JSBR'), ('ใช้', 'VACT'), ('เป็น', 'VSTA'), ('เครื่อง', 'NCMN'), ('ตัดสิน', 'VACT'), ('ชนิด', 'NCMN'), ('<space>', 'NCMN'), ('<left_parenthesis>', 'PUNC'), ('SYNTACTIC', 'NCMN'), ('<space>', 'PUNC'), ('CATEGORY', 'NCMN'), ('<right_parenthesis>', 'PUNC'), ('<space>', 'NCMN'), ('ของ', 'RPRE'), ('คำ', 'NCMN')])]),\n",
       " Tree('S', [Tree('NP', [('ส่วน', 'NCMN'), ('ใน', 'RPRE'), ('กริยาวลี', 'NCMN'), ('นั้น', 'DDAC'), ('<space>', 'PUNC'), ('องค์ประกอบ', 'NCMN'), ('ที่', 'PREL'), ('กำหนด', 'VACT'), ('ขอบเขต', 'NCMN'), ('ของ', 'RPRE'), ('การ', 'FIXN'), ('อ้างถึง', 'VACT'), ('ของ', 'RPRE'), ('กริยา', 'NCMN'), ('ที่', 'PREL'), ('เรียก', 'VACT'), ('ว่า', 'RPRE'), ('<space>', 'PUNC'), ('AUXILIARY', 'NCMN'), ('<space>', 'PUNC'), ('<left_parenthesis>', 'PUNC'), ('Ax', 'NCMN'), ('<right_parenthesis>', 'PUNC'), ('<space>', 'PUNC'), ('นั้น', 'DDAC'), ('ก็', 'JSBR'), ('มี', 'VSTA'), ('ตำแหน่ง', 'NCMN')]), Tree('VP', [('คงที่', 'VSTA'), ('เช่นกัน', 'ADVN')])]),\n",
       " Tree('S', [('สำหรับ', 'JSBR'), Tree('NP', [('ความ', 'FIXN'), ('เร็ว', 'VATT'), ('ใน', 'RPRE'), ('การ', 'FIXN'), ('รู้จักจำ', 'VSTA'), ('เฉลี่ย', 'VACT'), ('แล้ว', 'XVAE'), ('ประมาณ', 'VSTA'), ('<space>', 'PUNC'), ('6', 'DCNM'), ('<space>', 'PUNC'), ('วินาที', 'CMTR'), ('<space>', 'PUNC'), ('ต่อ', 'RPRE'), ('หนึ่ง', 'DCNM'), ('ตัวอักษร', 'CNIT')]), ('<space>', 'PUNC'), Tree('VP', [('ซึ่ง', 'JSBR'), ('เป็น', 'VSTA'), ('ความ', 'FIXN'), ('เร็ว', 'VATT'), ('ที่', 'PREL'), ('พอจะ', 'XVBM'), ('นำไปใช้', 'VACT'), ('งาน', 'NCMN'), ('ได้', 'XVAE')])]),\n",
       " Tree('S', [Tree('NP', [('Portability', 'NCMN'), ('<space>', 'PUNC'), ('ภายใต้', 'RPRE'), ('ระบบ', 'NCMN'), ('<space>', 'PUNC'), ('UNIX', 'NCMN'), ('<space>', 'PUNC'), ('Software', 'NCMN'), ('<space>', 'PUNC'), ('ซึ่ง', 'NCMN')]), ('ทำให้', 'JSBR'), Tree('S', [('การ', 'FIXN'), ('ทำงาน', 'VACT'), ('บน', 'RPRE'), ('เครื่องคอมพิวเตอร์', 'NCMN'), ('เครื่อง', 'NCMN'), ('หนึ่ง', 'DIAC'), ('<space>', 'PUNC'), ('สามารถ', 'XVAM'), ('นำไปใช้', 'VACT'), ('งาน', 'NCMN'), ('บน', 'RPRE'), ('เครื่องคอมพิวเตอร์', 'NCMN'), ('อีก', 'DDBQ'), ('เครื่อง', 'CNIT'), ('หนึ่ง', 'DCNM'), ('ที่', 'PREL'), ('ใช้', 'VACT'), ('ระบบ', 'NCMN'), ('<space>', 'PUNC'), ('UNIX', 'NCMN'), ('<space>', 'PUNC'), ('ได้', 'VSTA')])]),\n",
       " Tree('S', [Tree('NP', [('จาก', 'RPRE'), ('ปัญหา', 'NCMN'), ('ดังกล่าว', 'DDAC')]), Tree('VP', [('จึง', 'XVBM'), ('นำไปสู่', 'VACT'), ('การ', 'FIXN'), ('พัฒนา', 'VACT'), ('อุปกรณ์', 'NCMN'), ('ดังกล่าว', 'DDAC')])]),\n",
       " Tree('S', [Tree('NP', [('ซึ่ง', 'NCMN'), ('แน่นอน', 'VSTA'), ('ว่า', 'JSBR'), ('<space>', 'PUNC'), ('ใน', 'RPRE'), ('กรณี', 'NCMN'), ('หลัง', 'RPRE'), ('นี้', 'DDAC')]), Tree('VP', [('จะ', 'XVBM'), ('สิ้น', 'VSTA'), ('เสีย', 'VSTA'), ('ค่าใช้จ่าย', 'NCMN'), ('ให้กับ', 'RPRE'), ('ผู้ประกอบการเจือสาร', 'NCMN'), ('น้อย', 'VATT'), ('กว่า', 'JCMP'), ('กรณี', 'CNIT'), ('แรก', 'DONM'), ('มาก', 'ADVN')])]),\n",
       " Tree('S', [Tree('NP', [('ปัญหา', 'NCMN'), ('การ', 'FIXN'), ('ขาด', 'VSTA'), ('อุปกรณ์', 'NCMN'), ('และ', 'JCRG'), ('อุปกรณ์', 'NCMN'), ('ไม่', 'NEG'), ('เพียงพอ', 'ADVN'), ('เพื่อ', 'JSBR'), ('ใช้', 'VACT'), ('งาน', 'NCMN')]), ('<space>', 'PUNC'), Tree('VP', [('ทำให้', 'VACT'), ('การ', 'FIXN'), ('บันทึก', 'VACT'), ('ข้อมูล', 'NCMN'), ('ไม่', 'NEG'), ('สะดวก', 'VATT'), ('รวดเร็ว', 'ADVN'), ('เท่าที่ควร', 'ADVN')])]),\n",
       " Tree('S', [Tree('PP', [('โดย', 'RPRE'), ('มี', 'VSTA'), ('ปุ่ม', 'NCMN')]), Tree('S', [('คำสั่ง', 'NCMN'), ('และ', 'JCRG'), ('การ', 'NCMN'), ('แสดง', 'VACT'), ('ผล', 'NCMN'), ('ที่', 'PREL'), ('สำคัญ', 'VSTA'), ('ดังต่อไปนี้', 'JSBR')])]),\n",
       " Tree('S', [Tree('NP', [('และ', 'NCMN'), ('รหัส', 'NCMN'), ('<space>', 'PUNC'), ('Q', 'NCMN')]), ('<space>', 'PUNC'), Tree('VP', [('เป็น', 'VSTA'), ('การ', 'FIXN'), ('พิจารณา', 'VACT'), ('โครงสร้าง', 'NCMN'), ('ของ', 'RPRE'), ('ช่องว่าง', 'NCMN'), ('ที่', 'PREL'), ('ล้อมรอบ', 'VSTA'), ('ตัวอักษร', 'NCMN'), ('อยู่', 'XVAE')])]),\n",
       " Tree('S', [Tree('NP', [('และ', 'NCMN')]), Tree('VP', [('จะ', 'XVBM'), ('ส่ง', 'VACT'), ('ผ่าน', 'VSTA'), ('ไป', 'VACT'), ('ภาคแสดงผล', 'NCMN'), ('ด้วย', 'ADVN'), ('ในขณะเดียวกัน', 'ADVN'), ('ตลอดเวลา', 'ADVN')])]),\n",
       " Tree('S', [Tree('NP', [('8', 'NCMN'), ('<full_stop>', 'NCMN'), ('<space>', 'PUNC'), ('ศึกษาศาสตร์', 'NCMN')]), ('<space>', 'PUNC'), Tree('VP', [('หมายถึง', 'VSTA'), ('<space>', 'PUNC'), ('วิชา', 'NCMN'), ('การ', 'FIXN'), ('ศึกษา', 'VACT'), ('<space>', 'PUNC'), ('พลศึกษา', 'NCMN'), ('<space>', 'PUNC'), ('และ', 'NCMN'), ('วิชา', 'NCMN'), ('อื่น', 'DIAC'), ('ที่', 'PREL'), ('คล้ายคลึง', 'VSTA'), ('กัน', 'ADVN')])]),\n",
       " Tree('S', [('โดย', 'JSBR'), Tree('NP', [('มี', 'NCMN'), ('การ', 'FIXN'), ('จัด', 'VACT'), ('กลุ่ม', 'NCMN'), ('คำ', 'NCMN'), ('เหล่านั้น', 'DDAC'), ('ไว้', 'XVAE'), ('ใน', 'RPRE'), ('<space>', 'PUNC'), ('concept', 'NCMN')]), ('<space>', 'PUNC'), Tree('VP', [('เดียวกัน', 'VSTA')])]),\n",
       " Tree('S', [Tree('NP', [('และ', 'NCMN')]), Tree('VP', [('ทำ', 'VACT'), ('การ', 'FIXN'), ('วางแผน', 'VACT'), ('จัด', 'VACT'), ('สร้าง', 'VACT'), ('แต่ละ', 'DIBQ'), ('ส่วน', 'NCMN')])]),\n",
       " Tree('S', [('หลังจากนั้น', 'JSBR'), Tree('NP', [('เครื่องคอมพิวเตอร์', 'NCMN'), ('จะ', 'XVBM'), ('ทำ', 'VACT'), ('การ', 'FIXN'), ('ออกแบบ', 'VACT'), ('วงจร', 'NCMN'), ('ระดับ', 'NCMN'), ('ลอจิก', 'NCMN'), ('และ', 'JCRG'), ('ระดับ', 'NCMN'), ('<space>', 'PUNC'), ('Layout', 'NCMN')]), ('<space>', 'PUNC'), Tree('VP', [('ให้', 'VACT'), ('เอง', 'PDMN')])]),\n",
       " Tree('S', [Tree('NP', [('ความ', 'FIXN'), ('ถี่', 'VATT'), ('ของ', 'RPRE'), ('ตัวโน๊ต', 'NCMN'), ('ใน', 'RPRE'), ('ช่วงเสียง', 'NCMN')]), Tree('VP', [('ถัดไป', 'VSTA'), ('<space>', 'NCMN'), ('<equal>', 'PUNC'), ('<space>', 'NCMN'), ('ความ', 'FIXN'), ('ถี่', 'VATT'), ('ของ', 'RPRE'), ('ตัวโน๊ต', 'NCMN'), ('ใน', 'RPRE'), ('ช่วงเสียง', 'NCMN'), ('เดิม', 'VATT'), ('<space>', 'PUNC'), ('x', 'NCMN'), ('<space>', 'PUNC'), ('2', 'NCMN'), ('<space>', 'PUNC'), ('<left_parenthesis>', 'PUNC'), ('2', 'NCMN'), ('<space>', 'PUNC'), ('<right_parenthesis>', 'PUNC')])]),\n",
       " Tree('S', [Tree('NP', [('ใน', 'RPRE'), ('ประโยคความเดียว', 'NCMN'), ('<space>', 'PUNC'), ('AGT', 'NCMN')]), ('<space>', 'PUNC'), Tree('VP', [('จะ', 'XVBM'), ('ปรากฎ', 'VSTA'), ('ใน', 'RPRE'), ('ตำแหน่ง', 'NCMN'), ('ประธาน', 'NCMN'), ('ของ', 'RPRE'), ('ประโยค', 'NCMN'), ('เสมอ', 'ADVN')])]),\n",
       " Tree('S', [('ซึ่ง', 'JSBR'), Tree('NP', [('โปรแกรม', 'NCMN'), ('นี้', 'DDAC')]), ('<space>', 'PUNC'), Tree('VP', [('จะ', 'XVBM'), ('ทำหน้าที่', 'VACT'), ('รับ', 'VACT'), ('ข้อมูล', 'NCMN'), ('ที่', 'PREL'), ('กด', 'VACT'), ('ป้อน', 'VACT'), ('เข้ามา', 'XVAE'), ('ทาง', 'RPRE'), ('แป้นกดป้อนข้อมูล', 'NCMN')])]),\n",
       " Tree('S', [Tree('NP', [('Software', 'NCMN')]), ('<space>', 'PUNC'), Tree('VP', [('สามารถ', 'XVAM'), ('มอง', 'VSTA'), ('<space>', 'PUNC'), ('IO', 'NCMN'), ('<space>', 'FIXN'), ('เป็น', 'VSTA'), ('<space>', 'PUNC'), ('address', 'NCMN'), ('space', 'NCMN'), ('<space>', 'PUNC'), ('แบบ', 'NCMN'), ('<space>', 'PUNC'), ('16', 'DCNM'), ('<space>', 'PUNC'), ('บิท', 'CMTR')])]),\n",
       " Tree('S', [Tree('NP', [('ก', 'NCMN'), ('<full_stop>', 'NCMN'), ('<space>', 'PUNC'), ('เพื่อให้', 'JSBR'), ('ได้', 'VSTA'), ('ข้อมูล', 'NCMN'), ('คำไทย', 'NCMN'), ('ที่', 'PREL'), ('ใช้', 'VACT'), ('กัน', 'ADVN'), ('อยู่', 'XVAE'), ('ใน', 'RPRE'), ('ปัจจุบัน', 'NCMN'), ('นี้', 'DDAC'), ('ใน', 'RPRE'), ('สิ่งพิมพ์', 'NCMN'), ('ลักษณะ', 'NCMN'), ('ต่างๆ', 'DIAC'), ('<space>', 'PUNC'), ('โดย', 'JSBR'), ('คร่าวๆ', 'VSTA'), ('<space>', 'PUNC'), ('ว่า', 'JSBR'), ('มี', 'VSTA'), ('อยู่', 'XVAE')]), Tree('VP', [('เป็น', 'VSTA'), ('จำนวน', 'NCMN'), ('เท่าไร', 'PNTR')])]),\n",
       " Tree('S', [Tree('NP', [('การ', 'FIXN'), ('พิจารณา', 'VACT'), ('<space>', 'PUNC'), ('VP', 'NCMN'), ('<space>', 'PUNC'), ('ของ', 'RPRE'), ('คำกริยา', 'NCMN'), ('นั้น', 'DDAC')]), ('ก็', 'JSBR'), Tree('VP', [('เพื่อ', 'JSBR'), ('มา', 'XVAE'), ('เปรียบเทียบ', 'VACT'), ('กับ', 'RPRE'), ('ประโยค', 'NCMN'), ('<space>', 'PUNC'), ('input', 'NCMN')])]),\n",
       " Tree('S', [Tree('NP', [('ใน', 'RPRE'), ('ส่วน', 'NCMN'), ('งบประมาณ', 'NCMN'), ('<space>', 'PUNC'), ('2531', 'NCNM'), ('<space>', 'PUNC'), ('นี้', 'DDAC'), ('<space>', 'PUNC'), ('ศูนย์ฯ', 'NCMN')]), ('<space>', 'PUNC'), Tree('VP', [('ได้', 'XVAM'), ('พิจารณา', 'VACT'), ('อนุมัติ', 'VACT'), ('โครงการวิจัย', 'NCMN'), ('ทั้งสิ้น', 'DDAN'), ('<space>', 'NCMN'), ('10', 'NCNM'), ('<space>', 'PUNC'), ('โครงการ', 'NCMN'), ('หลัก', 'VATT'), ('<space>', 'PUNC'), ('และ', 'RPRE'), ('<space>', 'PUNC'), ('55', 'NCNM'), ('<space>', 'PUNC'), ('โครงการ', 'NCMN'), ('ย่อย', 'VATT')])]),\n",
       " Tree('S', [Tree('NP', [('โครงการ', 'NCMN'), ('ดังกล่าว', 'DDAC')]), Tree('VP', [('สามารถ', 'XVAM'), ('บรรลุ', 'VSTA'), ('วัตถุประสงค์', 'NCMN'), ('ที่', 'PREL'), ('ตั้ง', 'VSTA'), ('ไว้', 'XVAE'), ('ทุก', 'DIBQ'), ('ประการ', 'CNIT')])]),\n",
       " Tree('S', [Tree('NP', [('สำหรับ', 'RPRE'), ('ประเทศไทย', 'NPRP')]), Tree('VP', [('ได้', 'XVAM'), ('มี', 'VSTA'), ('การ', 'FIXN'), ('สั่งซื้อ', 'VACT'), ('เข้า', 'ADVN'), ('มา', 'XVAE')])]),\n",
       " Tree('S', [Tree('NP', [('หลัก', 'NCMN'), ('การ', 'FIXN'), ('ทำงาน', 'VACT'), ('ของ', 'RPRE'), ('วอท์ชดอก', 'NCMN'), ('ไทเมอร์', 'NCMN'), ('คือ', 'VSTA'), ('<space>', 'PUNC'), ('ซีพียู', 'NCMN')]), Tree('VP', [('จะ', 'XVBM'), ('ต้อง', 'XVMM'), ('ส่ง', 'VACT'), ('สัญญาณ', 'NCMN'), ('มา', 'VACT'), ('รีเซทวอร์ทชดอก', 'NCMN'), ('ไทเมอร์', 'NCMN'), ('อย่าง', 'FIXV'), ('สม่ำเสมอ', 'ADVN')])]),\n",
       " Tree('S', [Tree('PP', [('เพื่อ', 'RPRE'), ('นำ', 'VACT'), ('คุณสมบัติ', 'NCMN'), ('ของ', 'RPRE'), ('วงจรรวม', 'NCMN'), ('นี้', 'DDAC')]), Tree('S', [('ไป', 'VACT'), ('ทำการ', 'VACT'), ('ตรวจสอบ', 'VACT'), ('หรือ', 'JCRG'), ('จำลอง', 'VACT'), ('การ', 'FIXN'), ('ทำงาน', 'VACT'), ('ต่อไป', 'ADVN')])]),\n",
       " Tree('S', [Tree('NP', [('โปรแกรม', 'NCMN')]), ('สำหรับ', 'JSBR'), Tree('VP', [('บันทึก', 'VACT'), ('ข้อมูล', 'NCMN'), ('ที่', 'PREL'), ('ห้องสมุด', 'NCMN'), ('ใน', 'RPRE'), ('โครงการฯ', 'NCMN'), ('<space>', 'PUNC'), ('ตกลง', 'VACT'), ('ใช้', 'VACT'), ('ได้แก่', 'RPRE'), ('<space>', 'PUNC'), ('CDS', 'NCMN'), ('<space>', 'PUNC'), ('ซึ่ง', 'JSBR'), ('ยูเนสโก', 'NPRP'), ('ได้', 'XVAM'), ('พัฒนา', 'VACT'), ('ขึ้น', 'XVAE'), ('สำหรับ', 'RPRE'), ('ใช้', 'VACT'), ('ใน', 'RPRE'), ('การ', 'FIXN'), ('จัด', 'VACT'), ('ระบบ', 'NCMN'), ('ข้อมูล', 'NCMN'), ('สารนิเทศ', 'NCMN')])]),\n",
       " Tree('S', [Tree('NP', [('ส่วนประกอบ', 'NCMN'), ('ทั้ง', 'NCMN'), ('<space>', 'PUNC'), ('6', 'DCNM'), ('<space>', 'PUNC'), ('ภาค', 'CNIT'), ('นี้', 'DDAC')]), ('<space>', 'PUNC'), Tree('VP', [('มี', 'VSTA'), ('ความ', 'FIXN'), ('สัมพันธ์', 'VSTA'), ('กัน', 'PPRS'), ('<space>', 'PUNC'), ('ดัง', 'JSBR'), ('แสดง', 'VACT'), ('ใน', 'RPRE'), ('บล็อกไดอาแกรม', 'NCMN'), ('<space>', 'PUNC'), ('รูป', 'NCMN'), ('ที่', 'DONM'), ('1', 'DONM')])]),\n",
       " Tree('S', [Tree('NP', [('8', 'NCNM'), ('<space>', 'PUNC'), ('frequency', 'NCMN'), ('count,', 'NCMN'), ('<space>', 'PUNC'), ('degree', 'NCMN'), ('of', 'NCMN'), ('importance', 'NCMN'), ('<space>', 'NCMN'), ('<minus>', 'PUNC'), ('<space>', 'NCMN'), ('ความ', 'FIXN'), ('ถี่', 'VATT'), ('ใน', 'RPRE'), ('การ', 'FIXN'), ('ใช้', 'VSTA'), ('คำ', 'NCMN'), ('<space>', 'NCMN'), ('หรือ', 'EITT')]), Tree('VP', [('อาจ', 'XVMM'), ('เป็น', 'VSTA'), ('ความ', 'FIXN'), ('สำคัญ', 'VSTA'), ('ของ', 'RPRE'), ('คำ', 'NCMN'), ('ใน', 'RPRE'), ('โครงสร้าง', 'NCMN')])]),\n",
       " Tree('S', [Tree('NP', [('อัตรา', 'NCMN'), ('การ', 'FIXN'), ('เต้น', 'VACT'), ('ของ', 'RPRE'), ('หัวใจ', 'NCMN'), ('<space>', 'PUNC'), ('<left_parenthesis>', 'PUNC'), ('Heart', 'NCMN'), ('Rate', 'NCMN'), ('<right_parenthesis>', 'PUNC'), ('<space>', 'PUNC')]), Tree('VP', [('นิยม', 'VSTA'), ('แสดง', 'VACT'), ('ใน', 'RPRE'), ('หน่วย', 'NCMN'), ('ครั้ง', 'NCMN'), ('ต่อ', 'RPRE'), ('นาที', 'NCMN')])]),\n",
       " Tree('S', [Tree('NP', [('ทำให้', 'VACT'), ('เวลา', 'VACT'), ('ใน', 'RPRE'), ('การ', 'FIXN'), ('เก็บ', 'VACT'), ('ข้อมูล', 'NCMN'), ('ใน', 'RPRE'), ('ช่วง', 'NCMN')]), Tree('VP', [('เคลื่อนที่', 'VACT'), ('แนว', 'NCMN'), ('ตรง', 'VATT'), ('ลด', 'VSTA'), ('ลง', 'XVAE')])]),\n",
       " Tree('S', [Tree('PP', [('ซึ่ง', 'PREL'), ('อาจ', 'XVMM'), ('เกิด', 'VSTA'), ('ความ', 'FIXN'), ('เข้มข้น', 'VSTA'), ('ของ', 'RPRE'), ('สารเจือสี', 'NCMN'), ('ชนิด', 'NCMN'), ('พี', 'VATT'), ('ฺBR', 'PUNC'), ('ที่', 'RPRE'), ('บริเวณ', 'NCMN'), ('ผิวหน้า', 'NCMN'), ('ใน', 'RPRE'), ('ส่วน', 'NCMN')]), Tree('S', [('แชนแนล', 'NCMN'), ('มี', 'VSTA'), ('ค่า', 'NCMN'), ('น้อย', 'VATT'), ('เกินไป', 'ADVN')])]),\n",
       " Tree('S', [Tree('NP', [('ตาราง', 'NCMN'), ('ที่', 'DONM'), ('4.2', 'DONM')]), ('<space>', 'PUNC'), Tree('VP', [('แสดง', 'VACT'), ('การ', 'FIXN'), ('กำหนด', 'VACT'), ('สี', 'NCMN'), ('ที่', 'PREL'), ('ใช้', 'VACT'), ('ใน', 'RPRE'), ('การ', 'FIXN'), ('ออกแบบ', 'VACT'), ('วงจรรวม', 'NCMN')])]),\n",
       " Tree('S', [('โดย', 'JSBR'), Tree('NP', [('รูป', 'NCMN'), ('ที่', 'PREL'), ('10', 'NCMN'), ('<space>', 'PUNC'), ('ก', 'NCMN'), ('<space>', 'PUNC'), ('และ', 'NCMN'), ('<space>', 'PUNC'), ('ข', 'NCMN')]), ('<space>', 'PUNC'), Tree('VP', [('เป็น', 'VSTA'), ('ของ', 'RPRE'), ('ไดโอด', 'NCMN'), ('ชนิด', 'NCMN'), ('เปล่งแสงด้านหน้า', 'NCMN'), ('<space>', 'PUNC'), ('โครงสร้าง', 'NCMN'), ('ที่', 'DONM'), ('1', 'DONM'), ('<space>', 'PUNC'), ('และ', 'NCMN'), ('ที่', 'DONM'), ('2', 'DONM'), ('<space>', 'PUNC'), ('ตาม', 'RPRE'), ('ตาราง', 'NCMN'), ('ที่', 'DONM'), ('1', 'DONM'), ('<space>', 'FIXN'), ('ตามลำดับ', 'ADVN')])]),\n",
       " Tree('S', [Tree('S', [('ส่วน', 'NCMN'), ('ผล', 'NCMN'), ('การ', 'FIXN'), ('ทดลอง', 'VACT'), ('สร้าง', 'VACT'), ('วงจรรวม', 'NCMN'), ('อินเวอร์เตอร์', 'NCMN'), ('ง่ายๆ', 'VATT'), ('<space>', 'PUNC'), ('แบบ', 'NCMN'), ('<space>', 'PUNC'), ('CMOS', 'NCMN'), ('<space>', 'PUNC'), ('ปรากฏ', 'VSTA')]), ('ว่า', 'JSBR'), Tree('S', [('อินเวอร์เตอร์', 'NCMN'), ('<space>', 'PUNC'), ('ที่', 'PREL'), ('สร้าง', 'VACT'), ('ได้', 'XVAE'), ('แสดง', 'VACT'), ('คุณสมบัติ', 'NCMN'), ('ของ', 'RPRE'), ('อินเวอร์เตอร์', 'NCMN'), ('ได้', 'XVAE'), ('ดี', 'ADVN'), ('<space>', 'PUNC'), ('มี', 'VSTA'), ('ช่วง', 'NCMN'), ('ของ', 'RPRE'), ('การ', 'FIXN'), ('ทรานซิสเตอร์', 'NCMN'), ('ระหว่าง', 'RPRE'), ('<space>', 'PUNC'), ('2.0', 'NCNM'), ('<space>', 'NCMN'), ('<minus>', 'PUNC'), ('<space>', 'NCMN'), ('4.0', 'DCNM'), ('<space>', 'PUNC'), ('โวลต์', 'CMTR'), ('<space>', 'PUNC'), ('ในกรณีที่', 'JSBR'), ('ค่า', 'VSTA'), ('<space>', 'PUNC'), ('r', 'NCMN'), ('<space>', 'PUNC'), ('<equal>', 'PUNC'), ('<space>', 'NCMN'), ('2', 'PUNC'), ('<space>', 'PUNC'), ('และ', 'RPRE'), ('<space>', 'PUNC'), ('VDD', 'NCMN'), ('<space>', 'NCMN'), ('<equal>', 'PUNC'), ('<space>', 'NCMN'), ('6.0', 'DCNM'), ('<space>', 'PUNC'), ('โวล์ต', 'CMTR')])]),\n",
       " Tree('S', [Tree('PP', [('หลังจาก', 'RPRE'), ('ออกแบบ', 'VACT')]), Tree('S', [('วงจรรวม', 'NCMN'), ('ด้วย', 'RPRE'), ('<space>', 'PUNC'), ('Textual', 'NCMN'), ('<space>', 'PUNC'), ('เสร็จ', 'VSTA'), ('แล้ว', 'XVAE')])]),\n",
       " Tree('S', [Tree('NP', [('ปัจจุบัน', 'NCMN'), ('เทคโนโลยี', 'NCMN'), ('ทาง', 'RPRE'), ('ด้าน', 'NCMN'), ('ไมโครคอมพิวเตอร์', 'NCMN')]), Tree('VP', [('ได้', 'XVAM'), ('มี', 'VSTA'), ('การ', 'FIXN'), ('พัฒนา', 'VACT'), ('ขึ้น', 'XVAE'), ('อย่าง', 'FIXV'), ('รวดเร็ว', 'VATT')])]),\n",
       " Tree('S', [Tree('NP', [('คณะ', 'NCMN'), ('อนุกรรมการ', 'NCMN'), ('ชุด', 'NCMN'), ('นี้', 'DDAC')]), ('<space>', 'PUNC'), Tree('VP', [('มี', 'VSTA'), ('อนุกรรมการ', 'NCMN'), ('รวม', 'VSTA'), ('<space>', 'PUNC'), ('4', 'DCNM'), ('<space>', 'PUNC'), ('ท่าน', 'CNIT')])]),\n",
       " Tree('S', [Tree('NP', [('รูป', 'NCMN'), ('ที่', 'DONM'), ('8', 'DONM')]), ('<space>', 'PUNC'), Tree('VP', [('แสดง', 'VACT'), ('การ', 'FIXN'), ('ต่อ', 'VSTA'), ('<space>', 'PUNC'), ('tri', 'NCMN'), ('state', 'NCMN'), ('<space>', 'PUNC'), ('เข้ากับ', 'RPRE'), ('<space>', 'PUNC'), ('driver', 'NCMN'), ('<space>', 'PUNC'), ('หลักหน่วย', 'NCNM')])]),\n",
       " Tree('S', [Tree('NP', [('ซึ่ง', 'NCMN'), ('เทคโนโลยี', 'NCMN'), ('ปัจจุบัน', 'NCMN')]), Tree('VP', [('ได้', 'XVAM'), ('ปรับปรุง', 'VACT'), ('เทคนิค', 'NCMN'), ('การ', 'FIXN'), ('ทำงาน', 'VACT'), ('ของ', 'RPRE'), ('ระบบ', 'NCMN'), ('ให้', 'XVAE'), ('ดี', 'ADVN'), ('ขึ้น', 'XVAE')])]),\n",
       " Tree('S', [('อย่างไรก็ดี', 'JSBR'), Tree('NP', [('งานวิจัย', 'NCMN'), ('และ', 'JCRG'), ('พัฒนา', 'NCMN'), ('เทคโนโลยี', 'NCMN'), ('ของ', 'RPRE'), ('วงจรรวม', 'NCMN')]), ('<space>', 'PUNC'), Tree('VP', [('จำเป็นต้อง', 'XVMM'), ('อาศัย', 'VSTA'), ('บุคคลากร', 'NCMN'), ('ที่', 'PREL'), ('มี', 'VSTA'), ('ประสบการณ์', 'NCMN'), ('สูง', 'VATT'), ('<comma>', 'PUNC'), ('<space>', 'FIXN'), ('อุปกรณ์', 'NCMN'), ('และ', 'JCRG'), ('เครื่องมือ', 'NCMN'), ('ที่', 'PREL'), ('มีประสิทธิภาพ', 'VATT'), ('<space>', 'PUNC'), ('รวมทั้ง', 'RPRE'), ('งบประมาณ', 'NCMN'), ('และ', 'JCRG'), ('เวลา', 'NCMN'), ('ที่', 'PREL'), ('ใช้', 'VACT'), ('ใน', 'RPRE'), ('การ', 'FIXN'), ('วิจัย', 'VACT')])]),\n",
       " Tree('S', [Tree('NP', [('ขั้นตอน', 'NCMN'), ('ใน', 'RPRE'), ('การ', 'FIXN'), ('ออกแบบ', 'VACT'), ('วงจรรวม', 'NCMN'), ('นั้น', 'DDAC')]), ('<space>', 'PUNC'), Tree('VP', [('สามารถ', 'XVAM'), ('แสดง', 'VACT'), ('ได้', 'XVAE'), ('ดัง', 'RPRE'), ('ใน', 'RPRE'), ('รูป', 'NCMN'), ('ที่', 'DONM'), ('2.1', 'DONM')])]),\n",
       " Tree('S', [('จึง', 'JSBR'), Tree('NP', [('ต้อง', 'VACT'), ('เพิ่ม', 'VACT'), ('แอดเดรส', 'NCMN'), ('จาก', 'RPRE'), ('ที่', 'FIXN'), ('ต้องการ', 'VACT'), ('สำหรับ', 'RPRE'), ('วงจรนับ', 'NCMN'), ('<space>', 'NCMN'), ('12', 'NCNM'), ('<space>', 'PUNC'), ('เส้น', 'NCMN'), ('อีก', 'ADVN'), ('<space>', 'PUNC'), ('1', 'DCNM'), ('<space>', 'PUNC'), ('เส้น', 'CNIT'), ('สำหรับ', 'RPRE'), ('เพิ่ม', 'VACT'), ('อีก', 'ADVN'), ('<space>', 'PUNC'), ('4', 'DCNM'), ('<space>', 'PUNC'), ('บิท', 'CMTR'), ('ใน', 'RPRE'), ('การ', 'FIXN'), ('แสดง', 'VACT'), ('ผล', 'NCMN'), ('ให้', 'JSBR'), ('ได้', 'VSTA'), ('<space>', 'PUNC'), ('3', 'DCNM'), ('<space>', 'PUNC'), ('หลัก', 'CNIT')]), ('<space>', 'PUNC'), Tree('VP', [('ดังนี้', 'JSBR'), ('<space>', 'NCMN'), ('แอดเดรส', 'NCMN'), ('เลือก', 'VACT'), ('หลัก', 'NCMN'), ('แสดง', 'VACT'), ('ผล', 'NCMN'), ('<space>', 'NCMN'), ('<equal>', 'PUNC'), ('<space>', 'NCMN'), ('0', 'DCNM'), ('<space>', 'PUNC'), ('บิท', 'CMTR'), ('<space>', 'PUNC'), ('7', 'NCNM'), ('<comma>', 'PUNC'), ('<space>', 'NCMN'), ('6', 'DONM'), ('<comma>', 'PUNC'), ('<space>', 'NCMN'), ('5', 'DONM'), ('<comma>', 'PUNC'), ('<space>', 'NCMN'), ('4', 'NCMN'), ('<comma>', 'PUNC'), ('<space>', 'PUNC'), ('3', 'NCMN'), ('<comma>', 'PUNC'), ('<space>', 'PUNC'), ('2', 'NCMN'), ('<comma>', 'PUNC'), ('<space>', 'PUNC'), ('1', 'NCMN'), ('<comma>', 'PUNC'), ('<space>', 'PUNC'), ('0', 'NCNM')])]),\n",
       " Tree('S', [('นอกจากนั้น', 'JSBR'), Tree('NP', [('<space>', 'NCMN'), ('กรณี', 'NCMN'), ('ของ', 'NCMN'), ('<space>', 'PUNC'), ('AND', 'NCMN'), ('<space>', 'PUNC'), ('ขา', 'NCMN'), ('<space>', 'PUNC'), ('input', 'NCMN'), ('<space>', 'PUNC'), ('ที่', 'JSBR'), ('ไม่ได้', 'NEG'), ('ระบุ', 'VSTA'), ('ใน', 'RPRE'), ('<space>', 'PUNC'), ('macro', 'NCMN'), ('cell', 'NCMN'), ('libary', 'NCMN')]), ('<space>', 'PUNC'), Tree('VP', [('จะ', 'XVBM'), ('ต้อง', 'XVMM'), ('ต่อ', 'VACT'), ('เข้ากับ', 'RPRE'), ('<space>', 'PUNC'), ('VCC', 'NCMN')])]),\n",
       " Tree('S', [Tree('NP', [('การ', 'FIXN')]), Tree('VP', [('กำหนด', 'VACT'), ('หมายเลข', 'NCMN'), ('<space>', 'NCMN'), ('หรือ', 'JCRG'), ('ชื่อ', 'NCMN'), ('ให้กับ', 'RPRE'), ('อุปกรณ์', 'NCMN'), ('ทาง', 'RPRE'), ('ด้าน', 'NCMN'), ('ลอจิก', 'NCMN'), ('นี้', 'DDAC')])]),\n",
       " Tree('S', [Tree('PP', [('เพื่อ', 'RPRE'), ('เตรียม', 'VACT'), ('ไป', 'XVAE'), ('เท', 'VACT'), ('ผสม', 'VACT'), ('กับ', 'RPRE'), ('วัตถุดิบ', 'NCMN')]), Tree('S', [('ชนิด', 'NCMN'), ('อื่นๆ', 'DIAC'), ('<space>', 'PUNC'), ('ใน', 'RPRE'), ('เครื่อง', 'NCMN'), ('ผสม', 'VACT'), ('อาหาร', 'NCMN')])]),\n",
       " Tree('S', [Tree('NP', [('รูป', 'NCMN')]), Tree('VP', [('ที่', 'JSBR'), ('11', 'NCMN'), ('<space>', 'PUNC'), ('สเปคตรัม', 'NCMN'), ('ของ', 'RPRE'), ('ไดโอดเปล่งแสงด้านข้าง', 'NCMN')])]),\n",
       " Tree('S', [Tree('NP', [('7', 'NCNM'), ('<right_parenthesis>', 'PUNC'), ('<space>', 'NCMN')]), Tree('VP', [('ตัด', 'VACT'), ('ส่วน', 'NCMN'), ('กำกวม', 'VATT'), ('ของ', 'RPRE'), ('ประโยค', 'NCMN')])]),\n",
       " Tree('S', [('เพื่อ', 'JSBR'), Tree('NP', [('จะ', 'NCMN'), ('ได้', 'XVAM'), ('สนับสนุน', 'VACT'), ('<space>', 'FIXN'), ('Verb', 'NCMN'), ('Pattern', 'NCMN'), ('<space>', 'PUNC'), ('ซึ่ง', 'JSBR'), ('กำหนด', 'VACT'), ('ไว้', 'XVAE'), ('<space>', 'NCMN'), ('และ', 'JCRG'), ('ขยาย', 'VSTA'), ('<space>', 'PUNC'), ('Verb', 'NCMN'), ('<space>', 'PUNC'), ('Pattern', 'NCMN')]), ('<space>', 'PUNC'), Tree('VP', [('ให้', 'VACT'), ('ละเอียด', 'ADVN'), ('ยิ่งขึ้น', 'ADVN')])]),\n",
       " Tree('S', [Tree('NP', [('และ', 'NCMN')]), Tree('VP', [('ดำเนิน', 'VACT'), ('ให้', 'JSBR'), ('เกิดขึ้น', 'VSTA'), ('ได้', 'XVAE'), ('เร็ว', 'ADVN'), ('กว่า', 'ADVN'), ('ขั้นตอน', 'NCMN'), ('การ', 'FIXN'), ('ผลิต', 'VACT')])]),\n",
       " Tree('S', [Tree('NP', [('งานวิจัย', 'NCMN'), ('นี้', 'DDAC')]), ('<space>', 'PUNC'), Tree('VP', [('จะ', 'XVBM'), ('สำเร็จ', 'VSTA'), ('ไม่', 'NEG'), ('ได้', 'VSTA'), ('ถ้า', 'JSBR'), ('ไม่', 'NEG'), ('ได้รับ', 'VSTA'), ('ความ', 'FIXN'), ('ช่วยเหลือ', 'VACT'), ('ด้าน', 'RPRE'), ('การ', 'FIXN'), ('แปล', 'VACT'), ('เอกสาร', 'NCMN'), ('ภาษาเยอรมัน', 'NPRP'), ('<space>', 'PUNC'), ('โดย', 'RPRE'), ('อาจารย์', 'NCMN'), ('จิรศักดิ์', 'NPRP'), ('<space>', 'PUNC'), ('วิลาสเดชานนท์', 'NPRP')])]),\n",
       " Tree('S', [Tree('NP', [('หลัก', 'NCMN'), ('การ', 'FIXN'), ('ทำงาน', 'VACT')]), Tree('VP', [('แสดง', 'VACT'), ('ดัง', 'RPRE'), ('ใน', 'RPRE'), ('รูป', 'CNIT'), ('<space>', 'PUNC'), ('2', 'NCNM')])]),\n",
       " Tree('S', [Tree('NP', [('เวลา', 'NCMN'), ('ที่', 'PREL'), ('ใช้', 'VACT'), ('ใน', 'RPRE'), ('การ', 'FIXN'), ('เปลี่ยนแปลง', 'VACT'), ('อัตรา', 'NCMN'), ('การ', 'FIXN'), ('ขยาย', 'VACT'), ('และ', 'JCRG'), ('ขนาด', 'NCMN'), ('ของ', 'RPRE'), ('อินพุท', 'NCMN')]), ('<space>', 'PUNC'), Tree('VP', [('ขึ้นอยู่', 'VSTA'), ('กับ', 'RPRE'), ('เวลา', 'NCMN'), ('ต่อ', 'RPRE'), ('สวิทช์', 'NCMN'), ('ของ', 'RPRE'), ('รีเลย์', 'NCMN')])]),\n",
       " Tree('S', [Tree('S', [('หลังจากนั้น', 'JSBR'), ('ผู้ประกอบการเจือสาร', 'NCMN'), ('ก็', 'JSBR'), ('จะ', 'XVBM'), ('ไป', 'XVAE'), ('ทำ', 'VACT'), ('การ', 'FIXN'), ('ออกแบบ', 'VACT'), ('ระดับ', 'NCMN'), ('<space>', 'PUNC'), ('Layout', 'NCMN'), ('<space>', 'PUNC'), ('ให้', 'VACT'), ('<space>', 'PUNC'), ('แล้ว', 'ADVN')]), ('ถึงจะ', 'JSBR'), Tree('S', [('เจือสาร', 'NCMN'), ('ได้', 'VSTA')])]),\n",
       " Tree('S', [Tree('NP', [('ใน', 'RPRE'), ('ลักษณะ', 'NCMN'), ('ของ', 'RPRE'), ('อุปกรณ์', 'NCMN'), ('อื่นๆ', 'DIAC')]), ('<space>', 'PUNC'), Tree('VP', [('เช่น', 'VSTA'), ('<space>', 'PUNC'), ('คียบอร์ด', 'NCMN'), ('<space>', 'PUNC'), ('เครื่องพิมพ์', 'NCMN'), ('ก็', 'NCMN'), ('เช่นเดียวกัน', 'ADVN')])]),\n",
       " Tree('S', [Tree('S', [('จากนั้น', 'JSBR'), ('ก็', 'NCMN'), ('จะ', 'XVBM'), ('ถึง', 'VACT'), ('กระบวนการรู้จำ', 'NCMN'), ('<space>', 'PUNC'), ('<left_parenthesis>', 'PUNC'), ('Recogntion', 'NCMN'), ('<right_parenthesis>', 'PUNC'), ('<space>', 'PUNC'), ('เป็น', 'VSTA'), ('การ', 'FIXN'), ('นำ', 'VACT'), ('ข้อมูล', 'NCMN'), ('ใน', 'RPRE'), ('แต่ละ', 'DIBQ'), ('ไฟล์', 'CNIT'), ('ที่', 'PREL'), ('เป็น', 'VSTA'), ('ข้อมูล', 'NCMN'), ('ของ', 'RPRE'), ('แต่ละ', 'DIBQ'), ('ตัวอักษร', 'CNIT'), ('<space>', 'PUNC'), ('มา', 'XVAE'), ('ทำ', 'VACT'), ('การ', 'FIXN'), ('วิเคราะห์', 'VACT')]), ('ว่า', 'JSBR'), Tree('S', [('ข้อมูล', 'NCMN'), ('นั้น', 'DDAC'), ('เป็น', 'VSTA'), ('ตัวอักษร', 'NCMN'), ('อะไร', 'PNTR')])]),\n",
       " Tree('S', [Tree('PP', [('ใน', 'RPRE'), ('ระบบ', 'NCMN')]), Tree('S', [('การ', 'FIXN'), ('แปล', 'VACT'), ('ภาษา', 'NCMN'), ('แต่ละ', 'DIBQ'), ('ระบบ', 'CNIT'), ('<space>', 'PUNC'), ('อาจ', 'XVMM'), ('มี', 'VSTA'), ('<space>', 'PUNC'), ('ED', 'NCMN'), ('<space>', 'PUNC'), ('หลาย', 'DIBQ'), ('ชนิด', 'NCMN'), ('ตาม', 'RPRE'), ('ความ', 'FIXN'), ('จำเป็น', 'VSTA'), ('ใน', 'RPRE'), ('การงาน', 'NCMN'), ('แต่ละ', 'DIBQ'), ('ระบบ', 'NCMN'), ('<space>', 'PUNC'), ('ซึ่ง', 'JSBR'), ('อาจ', 'XVMM'), ('สรุป', 'VACT'), ('ได้', 'XVAE'), ('ดังนี้', 'ADVN')])]),\n",
       " Tree('S', [Tree('NP', [('ผลลัพธ์', 'NCMN'), ('ที่', 'PREL'), ('ได้', 'XVAM'), ('ย่อม', 'XVBM'), ('ไม่', 'NEG'), ('เหมือนกัน', 'VSTA'), ('<space>', 'PUNC'), ('เนื่องมาจาก', 'RPRE'), ('ความ', 'FIXN'), ('คลาดเคลื่อน', 'VSTA'), ('ตำแหน่ง', 'NCMN'), ('ของ', 'RPRE'), ('มือ', 'NCMN'), ('ผู้', 'PPRS')]), Tree('VP', [('จัด', 'VACT'), ('กระดาษ', 'NCMN')])]),\n",
       " Tree('S', [Tree('NP', [('ซึ่ง', 'NCMN'), ('งานวิจัย', 'NCMN'), ('ทาง', 'RPRE'), ('ด้าน', 'NCMN'), ('นี้', 'DDAC')]), Tree('VP', [('มี', 'VSTA'), ('ปัญหา', 'NCMN'), ('มาก', 'VATT'), ('กว่า', 'ADVN'), ('ระบบ', 'NCMN'), ('อื่นๆ', 'DIAC'), ('<space>', 'PUNC'), ('ที่', 'JSBR'), ('กล่าว', 'VACT'), ('มา', 'XVAE'), ('ข้างต้น', 'ADVN')])]),\n",
       " Tree('S', [Tree('NP', [('ลักษณะ', 'NCMN'), ('โครงสร้าง', 'NCMN'), ('ที่', 'PREL'), ('เหมือน', 'VSTA'), ('มอสเฟท', 'NCMN'), ('ก็', 'JSBR'), ('คือ', 'VSTA')]), ('<space>', 'PUNC'), Tree('VP', [('ต้อง', 'XVMM'), ('มีส่วน', 'VSTA'), ('ซอส', 'NCMN'), ('<space>', 'NCMN'), ('<comma>', 'PUNC'), ('<space>', 'NCMN'), ('ส่วน', 'JCRG'), ('เครน', 'NCMN'), ('<space>', 'PUNC'), ('และ', 'NCMN'), ('มี', 'VSTA'), ('ส่วน', 'CLTV'), ('เกท', 'NCMN'), ('ที่', 'PREL'), ('ใช้', 'VACT'), ('ควบคุม', 'VACT'), ('การ', 'FIXN'), ('ทำงาน', 'VACT'), ('มอสเฟท', 'NCMN')])]),\n",
       " Tree('S', [Tree('NP', [('หมายเลข', 'NCMN'), ('ที่', 'PREL'), ('กำหนด', 'VSTA'), ('ไว้', 'XVAE')]), Tree('VP', [('จะ', 'XVBM'), ('เป็น', 'VSTA'), ('ดังนี้', 'JSBR')])]),\n",
       " Tree('S', [Tree('NP', [('การ', 'FIXN'), ('จ่าย', 'VACT'), ('ค่า', 'NCMN'), ('วัสดุ', 'NCMN'), ('<space>', 'PUNC'), ('ค่า', 'NCMN'), ('ใช้สอย', 'VACT'), ('<space>', 'PUNC'), ('ค่า', 'NCMN'), ('สาธารณูปโภค', 'NCMN'), ('<space>', 'PUNC'), ('ค่า', 'NCMN'), ('ครุภัณฑ์', 'NCMN'), ('<space>', 'PUNC'), ('และ', 'NCMN')]), Tree('VP', [('ค่า', 'VSTA'), ('ที่ดิน', 'NCMN'), ('สิ่งก่อสร้าง', 'NCMN')])]),\n",
       " Tree('S', [Tree('NP', [('6', 'NCNM'), ('<full_stop>', 'NCMN')]), ('<space>', 'PUNC'), Tree('VP', [('มี', 'VSTA'), ('ความ', 'FIXN'), ('สามารถ', 'XVAM'), ('ทาง', 'RPRE'), ('ด้าน', 'NCMN'), ('<space>', 'PUNC'), ('Hardcopy', 'NCMN')])]),\n",
       " Tree('S', [Tree('NP', [('ระบบ', 'NCMN'), ('การ', 'FIXN'), ('ใช้จ่าย', 'VACT'), ('เงิน', 'NCMN'), ('งบประมาณแผ่นดิน', 'NCMN')]), ('<space>', 'PUNC'), Tree('VP', [('เป็น', 'VSTA'), ('ระบบ', 'NCMN'), ('ที่', 'PREL'), ('ยุ่งยาก', 'VATT'), ('ในทาง', 'RPRE'), ('ปฎิบัติ', 'VACT'), ('อยู่', 'XVAE'), ('มาก', 'ADVN')])]),\n",
       " Tree('S', [Tree('NP', [('แผนผัง', 'NCMN'), ('ของ', 'RPRE'), ('ระบบ', 'NCMN'), ('ควบคุม', 'VACT'), ('ด้วย', 'RPRE'), ('ไมโครคอมพิวเตอร์', 'NCMN'), ('ชิพ', 'NCMN'), ('เดี่ยว', 'VATT')]), Tree('VP', [('แสดง', 'VACT'), ('ไว้', 'XVAE'), ('ใน', 'RPRE'), ('รูป', 'NCMN'), ('ที่', 'DONM'), ('6', 'DONM')])]),\n",
       " Tree('S', [Tree('NP', [('คณะ', 'NCMN')]), Tree('VP', [('กรรมการบริหาร', 'VACT'), ('ศูนย์เทคโนโลยีอิเล็กทรอนิกส์และคอมพิวเตอร์แห่งชาติ', 'NPRP')])]),\n",
       " Tree('S', [Tree('NP', [('2', 'NCNM')]), Tree('VP', [('<full_stop>', 'VACT'), ('<space>', 'FIXN'), ('หลักการ', 'NCMN'), ('ของ', 'RPRE'), ('การ', 'FIXN'), ('วัด', 'VACT'), ('คลื่นไฟฟ้า', 'NCMN'), ('หัวใจ', 'NCMN')])]),\n",
       " Tree('S', [Tree('NP', [('ไม่', 'NCMN')]), Tree('VP', [('เกี่ยวข้อง', 'VSTA'), ('โดย', 'FIXV'), ('ตรง', 'VATT'), ('กับ', 'RPRE'), ('งาน', 'NCMN'), ('บริการ', 'VACT'), ('สารนิเทศ', 'NCMN'), ('ทาง', 'RPRE'), ('วิชาการ', 'NCMN')])]),\n",
       " Tree('S', [Tree('NP', [('โครงการ', 'NCMN'), ('เครือข่ายคอมพิวเตอร์', 'NCMN'), ('เพื่อ', 'RPRE'), ('เชื่อมโยง', 'VACT'), ('มหาวิทยาลัย', 'NCMN'), ('<space>', 'PUNC'), ('กระทรวงวิทยาศาสตร์', 'NPRP'), ('<space>', 'PUNC'), ('และ', 'NCMN'), ('ทบวงมหาวิทยาลัย', 'NPRP')]), ('<space>', 'PUNC'), Tree('VP', [('คงจะ', 'XVBM'), ('ปรากฏ', 'VSTA'), ('เป็น', 'VSTA'), ('<space>', 'PUNC'), ('Phase', 'NCMN'), ('<space>', 'NCMN'), ('แรก', 'DONM'), ('<space>', 'PUNC'), ('ประมาณ', 'DIBQ'), ('ปลาย', 'NCMN'), ('ปี', 'NCMN'), ('<space>', 'PUNC'), ('พ.ศ.', 'NCMN'), ('<space>', 'PUNC'), ('2534', 'NCNM')])]),\n",
       " Tree('S', [Tree('NP', [('ส่วน', 'NCMN'), ('มอเตอร์ไฟฟ้า', 'NCMN'), ('รุ่น', 'CNIT'), ('ที่', 'DONM'), ('5', 'DONM'), ('<space>', 'PUNC'), ('และ', 'RPRE'), ('รุ่น', 'NCMN'), ('ที่', 'DONM'), ('6', 'DONM')]), ('<space>', 'PUNC'), Tree('VP', [('คือ', 'VSTA'), ('<space>', 'PUNC'), ('มอเตอร์ไฟฟ้า', 'NCMN'), ('<space>', 'PUNC'), ('สำหรับ', 'RPRE'), ('เครื่องซักผ้า', 'NCMN'), ('ชนิด', 'NCMN'), ('อัตโนมัติ', 'VATT'), ('<space>', 'NCMN'), ('<left_parenthesis>', 'PUNC'), ('ชนิด', 'NCMN'), ('เปิด', 'VACT'), ('ด้านหน้า', 'NCMN'), ('<right_parenthesis>', 'PUNC'), ('<space>', 'FIXN'), ('มี', 'VSTA'), ('ขนาด', 'NCMN'), ('<space>', 'PUNC'), ('POWER', 'NCMN'), ('OUTPUT', 'NCMN'), ('20-600', 'NCMN'), ('WATT', 'NCMN')])]),\n",
       " Tree('S', [Tree('NP', [('ซึ่ง', 'DIBQ'), ('ศูนย์วิจัยอิเล็กทรอนิกส์', 'NCMN')]), Tree('VP', [('มี', 'VSTA'), ('อุปกรณ์', 'NCMN'), ('และ', 'JCRG'), ('เครื่อง', 'NCMN'), ('เหล่านี้', 'DDAC'), ('อยู่', 'XVAE'), ('แล้ว', 'ADVN')])]),\n",
       " Tree('S', [Tree('PP', [('เพื่อ', 'RPRE'), ('เตรียม', 'VACT'), ('การ', 'FIXN'), ('สร้าง', 'VACT'), ('ภาษาไทย', 'NPRP'), ('โดย', 'JSBR'), ('ยึด', 'VACT'), ('กริยา', 'NCMN')]), Tree('S', [('หลัก', 'NCMN'), ('<space>', 'PUNC'), ('<left_parenthesis>', 'PUNC'), ('predicate', 'NCMN'), ('CP', 'NCMN'), ('<right_parenthesis>', 'PUNC'), ('<space>', 'PUNC'), ('เป็น', 'VSTA'), ('หลักการ', 'NCMN'), ('ใน', 'RPRE'), ('การ', 'FIXN'), ('ค้นหา', 'VACT'), ('ข้อมูล', 'NCMN'), ('ที่', 'PREL'), ('ถูกต้อง', 'VATT'), ('<space>', 'PUNC'), ('ด้วย', 'RPRE'), ('การ', 'NCMN'), ('<space>', 'PUNC'), ('traversing', 'NCMN'), ('<space>', 'PUNC'), ('แบบ', 'NCMN'), ('<space>', 'PUNC'), ('depth-first', 'NCMN'), ('algorithm', 'NCMN')])]),\n",
       " Tree('S', [Tree('NP', [('ดัง', 'RPRE'), ('รูป', 'NCMN')]), Tree('VP', [('ที่', 'JSBR'), ('6', 'NCNM')])]),\n",
       " Tree('S', [Tree('NP', [('การ', 'FIXN'), ('นำ', 'VACT')]), Tree('VP', [('เอา', 'VACT'), ('ไอซี', 'NCMN'), ('เฉพาะงาน', 'VATT'), ('มา', 'XVAE'), ('ใช้', 'VACT'), ('ร่วม', 'VACT'), ('กับ', 'RPRE'), ('ไมโครคอมพิวเตอร์', 'NCMN'), ('ชิพ', 'NCMN'), ('เดี่ยว', 'VATT'), ('<space>', 'PUNC'), ('ทำให้', 'VACT'), ('จำนวน', 'NCMN'), ('ไอซี', 'NCMN'), ('ของ', 'RPRE'), ('วงจรควบคุม', 'NCMN'), ('ลดลง', 'ADVN')])]),\n",
       " Tree('S', [Tree('NP', [('ตลอดจน', 'NCMN')]), Tree('VP', [('สร้าง', 'VACT'), ('บุคลากร', 'NCMN'), ('ด้าน', 'NCMN'), ('วิจัยและพัฒนา', 'VACT'), ('ไป', 'XVAE'), ('ด้วย', 'ADVN')])]),\n",
       " Tree('S', [Tree('NP', [('จะ', 'NCMN')]), Tree('VP', [('ถูก', 'XVAM'), ('ส่ง', 'VACT'), ('ไป', 'XVAE'), ('เก็บ', 'VACT'), ('ใน', 'RPRE'), ('ถังเก็บวัตถุดิบ', 'NCMN'), ('ต่างๆ', 'DIAC'), ('กัน', 'ADVN'), ('ไป', 'XVAE')])]),\n",
       " Tree('S', [Tree('NP', [('รูป', 'NCMN'), ('ที่', 'DONM'), ('12', 'DONM'), ('<space>', 'PUNC'), ('ความ', 'FIXN'), ('สัมพันธ์', 'VSTA'), ('ของ', 'RPRE'), ('ความ', 'FIXN')]), Tree('VP', [('กว้าง', 'VSTA'), ('สเปคตรัม', 'NCMN'), ('กับ', 'RPRE'), ('กระแสไบแอส', 'NCMN')])]),\n",
       " Tree('S', [Tree('NP', [('งานวิจัย', 'NCMN'), ('ภาษาไทย', 'NPRP'), ('แบบ', 'NCMN')]), Tree('VP', [('ทั่วไป', 'VSTA')])]),\n",
       " Tree('S', [Tree('NP', [('และ', 'NCMN'), ('อยู่', 'VSTA'), ('ในระหว่าง', 'RPRE'), ('การ', 'FIXN'), ('วิจัย', 'VACT')]), Tree('VP', [('อยู่', 'VSTA')])]),\n",
       " Tree('S', [Tree('NP', [('รูป', 'NCMN'), ('ที่', 'DONM'), ('10', 'DONM')]), ('<space>', 'PUNC'), Tree('VP', [('แสดง', 'VACT'), ('จำนวน', 'NCMN'), ('ขา', 'NCMN'), ('ของ', 'RPRE'), ('วงจรแอลเอสไอ', 'NCMN')])]),\n",
       " Tree('S', [Tree('PP', [('โดย', 'RPRE'), ('มี', 'VSTA'), ('ค่า', 'NCMN'), ('ช่วง', 'NCMN'), ('ห่าง', 'VATT')]), Tree('S', [('ความ', 'FIXN'), ('ถี่', 'VATT'), ('ของ', 'RPRE'), ('สัญญาณ', 'NCMN'), ('แต่ละ', 'DIBQ'), ('ช่อง', 'CNIT'), ('จะ', 'XVBM'), ('เท่า', 'VSTA'), ('กับ', 'RPRE'), ('<space>', 'PUNC'), ('สัญญาณ', 'NCMN'), ('อ้างอิง', 'ADVN')])]),\n",
       " Tree('S', [Tree('NP', [('และ', 'NCMN')]), Tree('VP', [('หวัง', 'VSTA'), ('เป็น', 'VSTA'), ('อย่าง', 'FIXV'), ('ยิ่ง', 'ADVN'), ('ว่า', 'JSBR'), ('จะ', 'XVBM'), ('ได้รับ', 'VSTA'), ('ความ', 'FIXN'), ('ร่วมมือ', 'VACT'), ('<space>', 'NCMN'), ('และ', 'JCRG'), ('สนับสนุน', 'VACT'), ('จาก', 'RPRE'), ('ฝ่าย', 'NCMN'), ('ที่', 'PREL'), ('เกี่ยวข้อง', 'VSTA'), ('ต่อไป', 'ADVN'), ('ใน', 'RPRE'), ('อนาคต', 'NCMN')])]),\n",
       " Tree('S', [Tree('NP', [('แต่ละ', 'DIBQ'), ('ช่อง', 'NCMN')]), Tree('VP', [('ประกอบ', 'VSTA'), ('ด้วย', 'ADVN')])]),\n",
       " Tree('S', [Tree('NP', [('บท', 'NCMN')]), Tree('VP', [('ที่', 'JSBR'), ('2', 'NCNM')])]),\n",
       " Tree('S', [Tree('NP', [('ห้องสมุด', 'NCMN'), ('<space>', 'NCMN'), ('7', 'DCNM'), ('<space>', 'PUNC'), ('แห่ง', 'CNIT')]), ('<space>', 'PUNC'), Tree('VP', [('ประสบความสำเร็จ', 'VSTA'), ('ใน', 'RPRE'), ('การ', 'FIXN'), ('ทดลอง', 'VACT'), ('บันทึก', 'VACT'), ('ข้อมูล', 'NCMN')])]),\n",
       " Tree('S', [Tree('PP', [('เพื่อ', 'RPRE'), ('รองรับ', 'VACT')]), Tree('S', [('การ', 'FIXN'), ('ต่อเชื่อม', 'VACT'), ('กับ', 'RPRE'), ('หน่วยงาน', 'NCMN'), ('และ', 'JCRG'), ('สถาบันการศึกษา', 'NCMN'), ('ต่างๆ', 'DIAC'), ('<space>', 'PUNC'), ('อย่าง', 'NCMN'), ('น้อย', 'NPRP'), ('<space>', 'PUNC'), ('8', 'DCNM'), ('<space>', 'PUNC'), ('แห่ง', 'CNIT')])]),\n",
       " Tree('S', [('ในอันที่จะ', 'JSBR'), Tree('NP', [('ช่วยกัน', 'VACT'), ('พัฒนา', 'VACT'), ('เทคโนโลยี', 'NCMN'), ('อิเล็กทรอนิกส์', 'NCMN'), ('และ', 'JCRG'), ('คอมพิวเตอร์', 'NCMN'), ('แห่งชาติ', 'NCMN'), ('<space>', 'PUNC'), ('ให้', 'JSBR'), ('ก้าวหน้า', 'VSTA')]), ('<space>', 'PUNC'), Tree('VP', [('สามารถ', 'XVAM'), ('แข่งขัน', 'VACT'), ('กับ', 'RPRE'), ('นานา', 'DIBQ'), ('ประเทศ', 'NCMN'), ('ได้', 'VACT'), ('<space>', 'PUNC'), ('ต่อไป', 'ADVN')])]),\n",
       " Tree('S', [Tree('NP', [('และ', 'NCMN')]), Tree('VP', [('ได้', 'XVAM'), ('กำหนด', 'VACT'), ('งบประมาณ', 'NCMN'), ('เฉพาะ', 'RPRE'), ('โครงการ', 'NCMN'), ('นี้', 'DDAC'), ('เป็น', 'VSTA'), ('เงิน', 'NCMN'), ('จำนวน', 'NCMN'), ('<space>', 'PUNC'), ('1,500', 'DCNM'), ('ล้าน', 'DCNM'), ('บาท', 'CMTR')])]),\n",
       " Tree('S', [Tree('PP', [('หลังจาก', 'RPRE'), ('ได้', 'XVAM'), ('ทำ', 'VACT'), ('การ', 'FIXN'), ('วิเคราะห์', 'VACT'), ('ซอฟต์แวร์', 'NCMN')]), Tree('S', [('ทาง', 'NCMN'), ('ด้าน', 'VSTA'), ('กราฟฟิก', 'NCMN'), ('เหล่านี้', 'DDAC'), ('แล้ว', 'ADVN')])]),\n",
       " Tree('S', [('โดย', 'JSBR'), Tree('NP', [('มี', 'NCMN'), ('จุดประสงค์', 'NCMN')]), ('<space>', 'PUNC'), Tree('VP', [('ที่', 'JSBR'), ('จะ', 'XVBM'), ('ทำ', 'VACT'), ('การ', 'FIXN'), ('ควบคุม', 'VACT'), ('ปริมาณ', 'NCMN'), ('วัตถุดิบ', 'NCMN'), ('ให้', 'JSBR'), ('ได้', 'XVAM'), ('ถูกต้อง', 'VSTA'), ('ตาม', 'RPRE'), ('สูตร', 'NCMN'), ('อาหาร', 'NCMN'), ('มาก', 'ADVN'), ('ที่สุด', 'ADVN')])]),\n",
       " Tree('S', [Tree('NP', [('รูป', 'NCMN'), ('ที่', 'DONM'), ('4', 'DONM')]), ('<space>', 'PUNC'), Tree('VP', [('วิธี', 'VSTA'), ('การ', 'FIXN'), ('มอดูเลท', 'VACT'), ('แรงดัน', 'NCMN'), ('เฟส', 'NCMN')])]),\n",
       " Tree('S', [Tree('NP', [('ซึ่ง', 'NCMN')]), Tree('VP', [('ก่อให้เกิด', 'VACT'), ('การ', 'FIXN'), ('พัฒนา', 'VACT'), ('ทาง', 'RPRE'), ('ด้าน', 'NCMN'), ('อุตสาหกรรม', 'NCMN'), ('ให้', 'JSBR'), ('เจริญก้าวหน้า', 'VSTA'), ('ยิ่งขึ้น', 'ADVN')])]),\n",
       " Tree('S', [Tree('NP', [('2', 'NCNM')]), Tree('VP', [('<full_stop>', 'VACT'), ('<space>', 'FIXN'), ('วัตถุประสงค์', 'NCMN'), ('ของ', 'RPRE'), ('โครงการ', 'NCMN')])]),\n",
       " Tree('S', [Tree('NP', [('เอ็มที', 'NPRP'), ('ใน', 'RPRE'), ('ยุค', 'NCMN'), ('แรกๆ', 'DONM')]), ('<space>', 'PUNC'), Tree('VP', [('มักจะ', 'XVBM'), ('มุ่ง', 'VACT'), ('ความ', 'FIXN'), ('สนใจ', 'VSTA'), ('โดย', 'JSBR'), ('ส่วนใหญ่', 'VSTA'), ('มา', 'XVAE'), ('ทาง', 'RPRE'), ('ด้าน', 'NCMN'), ('<space>', 'PUNC'), ('Lexicon', 'NCMN'), ('<space>', 'PUNC'), ('ซึ่ง', 'JSBR'), ('เป็น', 'VSTA'), ('การ', 'FIXN'), ('วิจัย', 'VACT'), ('ทาง', 'RPRE'), ('ด้าน', 'NCMN'), ('คำ', 'NCMN'), ('ของ', 'RPRE'), ('แต่ละ', 'DIBQ'), ('ภาษา', 'CNIT')])]),\n",
       " Tree('S', [Tree('NP', [('ชิพรีจิสเตอร์', 'NCMN')]), Tree('VP', [('จะ', 'XVBM'), ('ให้', 'VACT'), ('สัญญาณ', 'NCMN'), ('มืด', 'VATT'), ('ใน', 'RPRE'), ('ช่วงสะบัดกลับ', 'NCMN'), ('เอง', 'ADVN')])]),\n",
       " Tree('S', [Tree('NP', [('โดย', 'RPRE'), ('แต่ละ', 'DIBQ'), ('คน', 'NCMN')]), Tree('VP', [('จะ', 'XVBM'), ('มี', 'VSTA'), ('จอภาพ', 'NCMN'), ('และ', 'JCRG'), ('คีย์บอร์ด', 'NCMN'), ('แยก', 'VACT'), ('ต่างหาก', 'ADVN'), ('จาก', 'RPRE'), ('กัน', 'PPRS')])]),\n",
       " Tree('S', [Tree('NP', [('ขอบข่าย', 'NCMN'), ('การ', 'FIXN')]), Tree('VP', [('ดำเนินงาน', 'VACT'), ('ของ', 'RPRE'), ('โครงการ', 'NCMN')])]),\n",
       " Tree('S', [Tree('PP', [('เพื่อ', 'RPRE'), ('ใช้', 'VACT'), ('ใน', 'RPRE'), ('ประโยชน์', 'NCMN')]), Tree('S', [('ใน', 'RPRE'), ('โครงการ', 'NCMN'), ('ได้', 'VSTA')])]),\n",
       " Tree('S', [Tree('NP', [('โครงการ', 'NCMN'), ('สารนิเทศห้องสมุดสถาบันอุดมศึกษา', 'NCMN')]), ('<space>', 'PUNC'), Tree('VP', [('มี', 'VSTA'), ('วัตถุประสงค์', 'NCMN'), ('ที่จะ', 'JSBR'), ('สร้าง', 'VACT'), ('และ', 'JCRG'), ('เชื่อมโยง', 'VACT'), ('ฐานข้อมูล', 'NCMN'), ('ด้าน', 'NCMN'), ('วิทยาศาสตร์', 'RPRE'), ('<space>', 'PUNC'), ('และ', 'JCRG'), ('เทคโนโลยี', 'NCMN'), ('<space>', 'PUNC'), ('ของ', 'RPRE'), ('ห้องสมุดสถาบันอุดมศึกษา', 'NCMN'), ('<space>', 'PUNC'), ('11', 'DCNM'), ('<space>', 'PUNC'), ('แห่ง', 'CNIT'), ('<space>', 'PUNC'), ('เข้า', 'RPRE'), ('เป็น', 'VSTA'), ('ระบบ', 'NCMN'), ('เครือข่ายคอมพิวเตอร์', 'NCMN')])]),\n",
       " Tree('S', [Tree('NP', [('การ', 'FIXN'), ('เพิ่ม', 'VACT'), ('ประสิทธิภาพ', 'NCMN'), ('<space>', 'PUNC'), ('และ', 'RPRE'), ('การ', 'FIXN'), ('เพิ่ม', 'VACT'), ('ความ', 'FIXN'), ('เร็ว', 'VATT'), ('ใน', 'RPRE'), ('การ', 'FIXN'), ('รู้จำ', 'VACT')]), Tree('VP', [('จะ', 'XVBM'), ('เป็น', 'VSTA'), ('โครงการวิจัย', 'NCMN'), ('ใน', 'RPRE'), ('ช่วง', 'NCMN'), ('ปี', 'NCMN'), ('ที่สาม', 'DONM')])]),\n",
       " Tree('S', [Tree('NP', [('4', 'NCMN'), ('<full_stop>', 'NCMN')]), ('<space>', 'PUNC'), Tree('VP', [('กำหนด', 'VACT'), ('ลำดับ', 'NCMN'), ('ความ', 'FIXN'), ('ต้องการ', 'VACT'), ('มอเตอร์ไฟฟ้า', 'NCMN'), ('ใน', 'RPRE'), ('แต่ละ', 'DIBQ'), ('รุ่น', 'CLTV')])]),\n",
       " Tree('S', [Tree('NP', [('ระบบ', 'NCMN'), ('ซอฟท์แวร์ช่วยออกแบบวงจรรวม', 'NCMN'), ('<space>', 'PUNC'), ('Standard', 'NCMN'), ('Cell', 'NCMN'), ('<space>', 'PUNC'), ('และ', 'NCMN'), ('<space>', 'PUNC'), ('Gate', 'NCMN'), ('array', 'NCMN'), ('<space>', 'PUNC'), ('ตาม', 'RPRE'), ('แผนผัง', 'NCMN'), ('รูป', 'NCMN'), ('ที่', 'DONM'), ('3', 'DONM')]), ('<space>', 'PUNC'), Tree('VP', [('กำลัง', 'XVBM'), ('อยู่', 'VSTA'), ('ใน', 'RPRE'), ('ขั้น', 'NCMN'), ('ของ', 'RPRE'), ('การ', 'FIXN'), ('พัฒนา', 'VACT')])]),\n",
       " Tree('S', [('ทำให้', 'JSBR'), Tree('NP', [('ผู้ใช้', 'NCMN'), ('สามารถ', 'XVAM'), ('กำหนด', 'VACT'), ('ขนาด', 'NCMN'), ('และ', 'JCRG'), ('ชนิด', 'NCMN'), ('ของ', 'RPRE'), ('<space>', 'PUNC'), ('I', 'NCMN')]), ('<space>', 'PUNC'), Tree('VP', [('ได้', 'VSTA'), ('ตาม', 'RPRE'), ('ความ', 'FIXN'), ('เหมาะสม', 'VSTA'), ('ของ', 'RPRE'), ('งาน', 'NCMN')])]),\n",
       " Tree('S', [Tree('NP', [('<minus>', 'DCNM'), ('<space>', 'PUNC'), ('ขั้นตอน', 'CNIT'), ('ที่', 'PREL'), ('2', 'NCNM'), ('<space>', 'PUNC'), ('เป็น', 'VSTA'), ('การ', 'FIXN'), ('ออกแบบ', 'VACT')]), Tree('VP', [('ย่อย', 'VACT'), ('ลง', 'XVAE'), ('ไป', 'VACT'), ('ระดับ', 'NCMN'), ('<space>', 'PUNC'), ('Block', 'NCMN'), ('<space>', 'PUNC'), ('ว่า', 'JSBR'), ('ประกอบ', 'VSTA'), ('ไป', 'XVAE'), ('ด้วย', 'RPRE'), ('กี่', 'DIBQ'), ('ส่วน', 'CNIT')])]),\n",
       " Tree('S', [Tree('NP', [('วัน', 'NCMN')]), Tree('VP', [('ที่', 'JSBR'), ('16', 'NCNM'), ('<space>', 'PUNC'), ('สิงหาคม', 'NCMN'), ('<space>', 'PUNC'), ('2532', 'NCNM')])]),\n",
       " Tree('S', [Tree('PP', [('ใน', 'RPRE'), ('ขั้น', 'NCMN')]), Tree('S', [('คำ', 'NCMN'), ('<space>', 'PUNC'), ('ควร', 'XVMM'), ('มี', 'VSTA'), ('<space>', 'PUNC'), ('ตัวสะกด', 'NCMN')])]),\n",
       " Tree('S', [Tree('NP', [('Field', 'NCMN'), ('<space>', 'NCMN'), ('ที่', 'DONM'), ('3', 'DONM'), ('<space>', 'PUNC'), ('สำหรับ', 'JSBR'), ('เก็บ', 'VACT'), ('จำนวน', 'NCMN'), ('หน่วย', 'NCMN'), ('ของ', 'RPRE'), ('สินค้า', 'NCMN'), ('แต่ละ', 'DIBQ'), ('ชนิด', 'CLTV'), ('ที่', 'PREL'), ('มี', 'VSTA'), ('การ', 'FIXN'), ('สั่งซื้อ', 'VACT')]), ('<space>', 'PUNC'), Tree('VP', [('เป็น', 'VSTA'), ('ตัวแปร', 'NCMN'), ('ชนิด', 'NCMN'), ('<space>', 'PUNC'), ('integer', 'NCMN')])]),\n",
       " Tree('S', [Tree('NP', [('จะ', 'NCMN')]), Tree('VP', [('ทำวิจัย', 'VACT'), ('ส่วน', 'NCMN'), ('ซอฟต์แวร์', 'NCMN'), ('ก่อนที่จะ', 'JSBR'), ('ทำให้', 'VACT'), ('ไมโครคอมพิวเตอร์', 'NCMN'), ('สามารถ', 'XVAM'), ('รับ', 'VACT'), ('ข้อมูล', 'NCMN'), ('ภาษาไทย', 'NCMN'), ('<space>', 'PUNC'), ('และ', 'NCMN'), ('หรือ', 'JCRG'), ('ภาษาอังกฤษ', 'NCMN'), ('ได้', 'XVAE')])]),\n",
       " Tree('S', [Tree('NP', [('การ', 'FIXN'), ('ศึกษา', 'VACT'), ('ระบบ', 'NCMN'), ('<space>', 'PUNC'), ('UNIX', 'NCMN'), ('<space>', 'PUNC'), ('ใน', 'RPRE'), ('เบื้องต้น', 'NCMN'), ('นี้', 'DDAC')]), ('<space>', 'PUNC'), Tree('VP', [('ได้', 'XVAM'), ('ศึกษา', 'VACT'), ('วิธีการ', 'NCMN'), ('ต่างๆ', 'DIAC'), ('<space>', 'PUNC'), ('ใน', 'RPRE'), ('การ', 'FIXN'), ('เตรียมตัว', 'VACT'), ('เป็น', 'VSTA'), ('<space>', 'PUNC'), ('System', 'NCMN'), ('Administrator', 'NCMN')])]),\n",
       " Tree('S', [Tree('NP', [('โปรแกรม', 'NCMN'), ('นี้', 'DDAC')]), ('<space>', 'PUNC'), Tree('VP', [('จะ', 'XVBM'), ('ทำงาน', 'VACT'), ('เฉพาะ', 'VATT'), ('ใน', 'RPRE'), ('โหมด', 'NCMN'), ('การ', 'FIXN'), ('ทำงาน', 'VACT'), ('เท่านั้น', 'ADVN')])]),\n",
       " Tree('S', [Tree('NP', [('ผลงานวิจัย', 'NCMN'), ('<space>', 'PUNC'), ('1', 'NCMN'), ('<space>', 'NCMN'), ('<quotation>', 'PUNC'), ('สารนิเทศ', 'NCMN'), ('ห้องสมุด', 'NCMN'), ('ของ', 'RPRE'), ('มหาวิทยาลัย', 'NCMN'), ('<space>', 'PUNC'), ('11', 'DCNM'), ('<space>', 'PUNC'), ('แห่ง', 'CNIT'), ('<quotation>', 'PUNC'), ('<space>', 'FIXN'), ('รายงาน', 'VACT')]), Tree('VP', [('ร่วมกับ', 'VACT'), ('ห้องสมุด', 'NCMN'), ('มหาวิทยาลัย', 'NCMN'), ('<space>', 'PUNC'), ('11', 'DCNM'), ('<space>', 'PUNC'), ('แห่ง', 'CNIT')])]),\n",
       " Tree('S', [Tree('PP', [('เพื่อ', 'RPRE'), ('ทำ', 'VACT')]), Tree('S', [('การ', 'FIXN'), ('วิจัยและพัฒนา', 'VACT'), ('ให้', 'JSBR'), ('ได้มา', 'VSTA'), ('ซึ่ง', 'PREL'), ('ต้นแบบ', 'NCMN')])]),\n",
       " Tree('S', [Tree('NP', [('และ', 'NCMN'), ('สามารถ', 'XVAM'), ('ตรวจจับ', 'VACT'), ('<space>', 'PUNC'), ('fault', 'NCMN')]), ('<space>', 'PUNC'), Tree('VP', [('ได้', 'XVAM'), ('ครอบคลุม', 'VSTA'), ('ทั้งหมด', 'PDMN'), ('ที่', 'PREL'), ('อาจ', 'XVMM'), ('เกิดขึ้น', 'VSTA')])]),\n",
       " Tree('S', [Tree('NP', [('7', 'NCNM')]), Tree('VP', [('<full_stop>', 'VACT'), ('<space>', 'FIXN'), ('เอกสารอ้างอิง', 'NCMN')])]),\n",
       " Tree('S', [Tree('NP', [('ส่วน', 'NCMN'), ('แรงดัน', 'NCMN'), ('<space>', 'PUNC'), ('5', 'DCNM'), ('V', 'CMTR')]), ('<space>', 'PUNC'), Tree('VP', [('จะ', 'XVBM'), ('ใช้', 'VACT'), ('กับ', 'RPRE'), ('ซีพียูบอร์ด', 'NCMN'), ('<space>', 'PUNC'), ('การ์ดฟังก์ชั่น', 'NCMN'), ('อเนกประสงค์', 'VATT'), ('<space>', 'PUNC'), ('และ', 'RPRE'), ('หน่วย', 'NCMN'), ('แปลง', 'VACT'), ('สัญญาณ', 'NCMN'), ('อนาล็อก', 'NCMN'), ('เป็น', 'VSTA'), ('ดิจิตอล', 'NCMN')])]),\n",
       " Tree('S', [Tree('NP', [('การ', 'FIXN'), ('ใช้', 'VACT'), ('คอมพิวเตอร์', 'NCMN'), ('ส่วนใหญ่', 'ADVN')]), Tree('VP', [('ใช้', 'VACT'), ('ไมโครคอมพิวเตอร์', 'NCMN'), ('ใน', 'RPRE'), ('การ', 'FIXN'), ('บันทึก', 'VACT'), ('ข้อมูล', 'NCMN')])]),\n",
       " Tree('S', [('นอกจาก', 'JSBR'), Tree('NP', [('สำนัก', 'NCMN'), ('หอสมุด', 'NCMN'), ('<space>', 'PUNC'), ('มหาวิทยาลัยเชียงใหม่', 'NPRP'), ('แล้ว', 'JSBR'), ('<space>', 'NCMN'), ('สำนัก', 'NCMN'), ('บรรณสารสนเทศ', 'NCMN'), ('<space>', 'PUNC'), ('มหาวิทยาลัยสุโขทัยธรรมาธิราช', 'NPRP'), ('<space>', 'PUNC'), ('และ', 'NCMN'), ('สำนักวิทยบริการ', 'NCMN'), ('<space>', 'PUNC'), ('มหาวิทยาลัยขอนแก่น', 'NPRP')]), ('<space>', 'PUNC'), Tree('VP', [('ได้', 'XVAM'), ('เริ่ม', 'VSTA'), ('งาน', 'NCMN'), ('สร้าง', 'VACT'), ('ฐานข้อมูล', 'NCMN'), ('ใน', 'RPRE'), ('แนว', 'NCMN'), ('เดียวกัน', 'DDAC'), ('ใน', 'RPRE'), ('ปี', 'CNIT'), ('<space>', 'PUNC'), ('2531', 'NCNM')])]),\n",
       " Tree('S', [Tree('NP', [('ก็', 'NCMN'), ('สามารถ', 'XVAM'), ('ทำ', 'VACT'), ('ได้', 'XVAE'), ('โดย', 'FIXV'), ('นำ', 'VACT'), ('อุปกรณ์', 'NCMN'), ('<space>', 'PUNC'), ('interface', 'NCMN')]), ('<space>', 'PUNC'), Tree('VP', [('มา', 'VACT'), ('ต่อ', 'RPRE'), ('ทาง', 'NCMN'), ('<space>', 'PUNC'), ('slot', 'NCMN'), ('<space>', 'PUNC'), ('แทน', 'VSTA')])]),\n",
       " Tree('S', [Tree('NP', [('3.2.1', 'NCNM'), ('<space>', 'PUNC'), ('การ', 'FIXN')]), Tree('VP', [('ออกแบบ', 'VACT'), ('ระบบ', 'NCMN')])]),\n",
       " Tree('S', [Tree('NP', [('Field', 'NCMN'), ('<space>', 'NCMN'), ('ที่', 'DONM'), ('3', 'DONM'), ('<space>', 'PUNC'), ('สำหรับ', 'JSBR'), ('เก็บ', 'VACT'), ('ที่อยู่', 'NCMN'), ('ของ', 'RPRE'), ('ลูกหนี้', 'NCMN')]), ('<space>', 'PUNC'), Tree('VP', [('เป็น', 'VSTA'), ('ตัวแปร', 'NCMN'), ('ชนิด', 'NCMN'), ('<space>', 'PUNC'), ('string', 'NCMN'), ('<space>', 'PUNC'), ('ขนาด', 'NCMN'), ('<space>', 'PUNC'), ('40', 'DCNM'), ('<space>', 'PUNC'), ('ตัวอักษร', 'CNIT')])]),\n",
       " Tree('S', [Tree('NP', [('วัน', 'NCMN')]), Tree('VP', [('ที่', 'JSBR'), ('15', 'NCMN'), ('<space>', 'NCMN'), ('<minus>', 'PUNC'), ('<space>', 'NCMN'), ('16', 'DONM'), ('<space>', 'PUNC'), ('สิงหาคม', 'NPRP'), ('<space>', 'PUNC'), ('2532', 'NCNM')])]),\n",
       " Tree('S', [Tree('NP', [('การ', 'FIXN'), ('หา', 'VACT'), ('<space>', 'PUNC'), ('Syntactic', 'NCMN'), ('role', 'NCMN')]), ('<space>', 'PUNC'), Tree('VP', [('ต้อง', 'XVMM'), ('อาศัย', 'VSTA'), ('ข้อมูล', 'NCMN'), ('ต่อไปนี้', 'DDAC')])]),\n",
       " Tree('S', [Tree('PP', [('กล่าวคือ', 'RPRE'), ('<space>', 'PUNC'), ('ND', 'NCMN')]), Tree('S', [('<space>', 'NCMN'), ('<greater_than>', 'PUNC'), ('<space>', 'NCMN'), ('NA', 'NCMN'), ('<space>', 'PUNC'), ('และ', 'NCMN'), ('<space>', 'PUNC'), ('y', 'NCMN'), ('<space>', 'PUNC'), ('<greater_than>', 'PUNC'), ('<space>', 'NCMN'), ('x', 'PUNC'), ('<space>', 'PUNC'), ('เสมอ', 'VSTA')])]),\n",
       " Tree('S', [Tree('NP', [('กระแส', 'NCMN')]), Tree('VP', [('รั่วไหล', 'VSTA'), ('ระหว่าง', 'RPRE'), ('เคร-ซอฟ', 'NCMN'), ('ใน', 'RPRE'), ('ช่วง', 'NCMN'), ('ที่', 'PREL'), ('ไม่', 'NEG'), ('มี', 'VSTA'), ('แรงดัน', 'NCMN'), ('เกท', 'NCMN'), ('ยัง', 'XVBM'), ('มี', 'VSTA'), ('ค่า', 'NCMN'), ('ค่อนข้าง', 'ADVN'), ('สูง', 'ADVN')])]),\n",
       " Tree('S', [Tree('PP', [('โดย', 'RPRE'), ('พิจาณา', 'VACT'), ('คัดเลือก', 'VACT'), ('จาก', 'RPRE'), ('ความ', 'FIXN'), ('พร้อม', 'VSTA')]), Tree('S', [('<space>', 'NCMN'), ('และ', 'JCRG'), ('ความ', 'NCMN'), ('รู้', 'VSTA'), ('ความ', 'FIXN'), ('สามารถ', 'XVAM'), ('โดย', 'FIXV'), ('เฉพาะ', 'VATT'), ('ทาง', 'RPRE'), ('ด้าน', 'NCMN'), ('มอเตอร์ไฟฟ้า', 'NCMN')])]),\n",
       " Tree('S', [Tree('NP', [('SBHE', 'NCMN')]), ('<space>', 'PUNC'), Tree('VP', [('เป็น', 'VSTA'), ('สัญญาณ', 'NCMN'), ('ที่', 'PREL'), ('บอก', 'VACT'), ('ระบบ', 'NCMN'), ('ว่า', 'JSBR'), ('ได้', 'XVAM'), ('ใช้', 'VSTA'), ('<space>', 'PUNC'), ('SD8-SD15', 'NCMN'), ('<space>', 'PUNC'), ('ใน', 'RPRE'), ('การ', 'FIXN'), ('ถ่ายเท', 'VACT'), ('ข้อมูล', 'NCMN')])]),\n",
       " Tree('S', [Tree('NP', [('การ', 'FIXN'), ('คำนวณ', 'VACT')]), Tree('VP', [('ค่า', 'VSTA'), ('ความ', 'FIXN'), ('ต้านทาน', 'VACT'), ('และ', 'JCRG'), ('รีแอคแตนช์', 'NCMN'), ('ของ', 'RPRE'), ('มอเตอร์', 'NCMN')])]),\n",
       " Tree('S', [Tree('NP', [('8042', 'NCNM')]), ('<space>', 'PUNC'), Tree('VP', [('จะ', 'XVBM'), ('ควบคุม', 'VACT'), ('การ', 'FIXN'), ('รับส่ง', 'VACT'), ('ข้อมูล', 'NCMN'), ('จาก', 'RPRE'), ('<space>', 'PUNC'), ('Keyboard', 'NCMN')])]),\n",
       " Tree('S', [Tree('NP', [('แต่ละ', 'DIBQ'), ('<space>', 'PUNC'), ('Block', 'NCMN')]), ('<space>', 'PUNC'), Tree('VP', [('มี', 'VSTA'), ('หน้าที่', 'NCMN'), ('อะไร', 'PNTR')])]),\n",
       " Tree('S', [Tree('NP', [('6', 'NCNM')]), Tree('VP', [('<full_stop>', 'VACT'), ('<space>', 'FIXN'), ('สรุป', 'VACT')])]),\n",
       " Tree('S', [Tree('NP', [('ลักษณะการ', 'NCMN'), ('ของ', 'RPRE'), ('คำกริยา', 'NCMN'), ('<space>', 'PUNC'), ('ใน', 'RPRE'), ('<space>', 'PUNC'), ('STATIVE', 'NCMN'), ('VERB', 'NCMN'), ('<space>', 'PUNC'), ('เช่น', 'RPRE'), ('<space>', 'PUNC'), ('สวย', 'NCMN'), ('<space>', 'NCMN'), ('หรือ', 'JCRG'), ('<space>', 'FIXN'), ('ACTION', 'NCMN'), ('VERB', 'NCMN'), ('<space>', 'PUNC'), ('เช่น', 'RPRE'), ('<space>', 'PUNC'), ('เดิน', 'NCMN')]), ('<space>', 'PUNC'), Tree('VP', [('พูด', 'VACT')])]),\n",
       " Tree('S', [('โดย', 'JSBR'), Tree('NP', [('การ', 'FIXN'), ('ดึง', 'VACT'), ('เอา', 'VACT'), ('ภาพ', 'NCMN'), ('หน้ากาก', 'NCMN'), ('ที่', 'PREL'), ('สร้าง', 'VACT'), ('จาก', 'RPRE'), ('<space>', 'PUNC'), ('mask', 'NCMN'), ('entry', 'NCMN'), ('<space>', 'NCMN'), ('หรือ', 'JCRG'), ('โมดุล', 'NCMN'), ('ที่', 'PREL'), ('ได้', 'VSTA'), ('จาก', 'RPRE'), ('<space>', 'PUNC'), ('module', 'NCMN'), ('entry', 'NCMN'), ('<space>', 'PUNC'), ('นี้', 'DDAN'), ('เอง', 'DDAC'), ('มา', 'XVAE'), ('ประกอบ', 'VSTA'), ('เป็น', 'VSTA'), ('วงจร', 'NCMN'), ('ใน', 'RPRE'), ('ระดับ', 'NCMN'), ('บล็อก', 'NCMN'), ('ที่', 'PREL'), ('ใหญ่', 'VATT'), ('ขึ้น', 'ADVN'), ('จาก', 'RPRE'), ('เดิม', 'NCMN'), ('<space>', 'NCMN')]), ('<left_parenthesis>', 'PUNC'), Tree('VP', [('เป็น', 'VSTA'), ('ลักษณะ', 'NCMN'), ('ของ', 'RPRE'), ('การ', 'FIXN'), ('ออกแบบ', 'VACT'), ('เป็นลำดับขั้น', 'ADVN'), ('<comma>', 'PUNC'), ('<space>', 'FIXN'), ('hierarchical', 'NCMN'), ('design', 'NCMN'), ('<right_parenthesis>', 'PUNC'), ('<space>', 'NCMN'), ('จนกระทั่ง', 'JSBR'), ('ถึง', 'RPRE'), ('ระดับ', 'NCMN'), ('ได้', 'XVAM'), ('เป็น', 'VSTA'), ('วงจร', 'NCMN'), ('ทั้งหมด', 'ADVN')])]),\n",
       " Tree('S', [Tree('NP', [('ด้วย', 'RPRE'), ('การ', 'FIXN'), ('มุ่ง', 'VACT')]), Tree('VP', [('พัฒนา', 'VACT'), ('ด้าน', 'NCMN'), ('การ', 'FIXN'), ('วิเคราะห์', 'VACT'), ('ภาษา', 'NCMN'), ('ทั้ง', 'JCRG'), ('ทาง', 'NCMN'), ('ด้าน', 'RPRE'), ('ไวยากรณ์', 'NCMN'), ('และ', 'JCRG'), ('ด้าน', 'NCMN'), ('ความหมาย', 'NCMN')])]),\n",
       " Tree('S', [Tree('PP', [('คือ', 'RPRE'), ('<space>', 'FIXN'), ('สามารถ', 'XVAM')]), Tree('S', [('เซต', 'NCMN'), ('<space>', 'PUNC'), ('Design', 'NCMN'), ('<space>', 'PUNC'), ('Rule', 'NCMN'), ('<space>', 'PUNC'), ('ลง', 'NCMN'), ('ไป', 'VACT')])]),\n",
       " Tree('S', [Tree('NP', [('ซึ่ง', 'NCMN'), ('งานวิจัย', 'NCMN'), ('ทาง', 'RPRE'), ('ด้าน', 'NCMN'), ('นี้', 'DDAC')]), Tree('VP', [('ทำให้', 'VACT'), ('มี', 'VSTA'), ('กฎ', 'NCMN'), ('เฉพาะ', 'VATT'), ('ที่', 'PREL'), ('มีผล', 'VACT'), ('ค่อนข้าง', 'ADVN'), ('สูง', 'ADVN'), ('ใน', 'RPRE'), ('เรื่อง', 'NCMN'), ('ของ', 'RPRE'), ('ความ', 'FIXN'), ('ถูกต้อง', 'VSTA')])]),\n",
       " Tree('S', [Tree('NP', [('ผล', 'NCMN'), ('การ', 'FIXN'), ('ทดลอง', 'VACT')]), Tree('VP', [('แสดง', 'VACT'), ('ใน', 'RPRE'), ('รูป', 'NCMN'), ('ที่', 'DONM'), ('10', 'DONM'), ('<space>', 'PUNC'), ('และ', 'RPRE'), ('ตาราง', 'NCMN'), ('ที่', 'DONM'), ('1', 'DONM')])]),\n",
       " Tree('S', [Tree('NP', [('สำนักวิจัยและบริการคอมพิวเตอร์', 'NPRP'), ('<space>', 'PUNC'), ('สถาบันเทคโนโลยีพระจอมเกล้าเจ้าคุณทหาร', 'NPRP'), ('ลาดกระบัง', 'NPRP')]), ('<space>', 'PUNC'), Tree('VP', [('ได้', 'XVAM'), ('ศึกษา', 'VACT'), ('ค้นคว้า', 'VACT'), ('และ', 'JCRG'), ('สร้าง', 'VACT'), ('เครื่อง', 'NCMN'), ('ดังกล่าว', 'DDAC'), ('ขึ้น', 'XVAE'), ('ใน', 'RPRE'), ('ปี', 'CNIT'), ('<space>', 'PUNC'), ('2530', 'NCNM')])]),\n",
       " Tree('S', [Tree('NP', [('Cc', 'NCMN'), ('<space>', 'NCMN'), ('<equal>', 'PUNC'), ('<space>', 'FIXN'), ('สัมประสิทธิ์', 'NCMN')]), ('<space>', 'PUNC'), Tree('VP', [('เอาท์พุท', 'VACT')])]),\n",
       " Tree('S', [Tree('NP', [('อัน', 'NCMN')]), Tree('VP', [('เป็น', 'VSTA'), ('จุดประสงค์', 'NCMN'), ('ของ', 'RPRE'), ('โครงการวิจัย', 'NCMN'), ('นี้', 'DDAC')])]),\n",
       " Tree('S', [('จึง', 'JSBR'), Tree('NP', [('มี', 'NCMN'), ('การ', 'FIXN'), ('ใช้', 'VACT'), ('วิธีควบคุม', 'NCMN'), ('<space>', 'PUNC'), ('DRAM', 'NCMN'), ('<space>', 'PUNC'), ('วิธี', 'NCMN'), ('อื่น', 'DIAC'), ('แทน', 'VSTA')]), ('<space>', 'PUNC'), Tree('VP', [('เช่น', 'VSTA'), ('<space>', 'PUNC'), ('การ', 'FIXN'), ('ใช้', 'VACT'), ('<space>', 'PUNC'), ('page', 'NCMN'), ('mode', 'NCMN'), ('<space>', 'PUNC'), ('และ', 'RPRE'), ('<space>', 'PUNC'), ('Interleave', 'NCMN')])]),\n",
       " Tree('S', [Tree('PP', [('ที่', 'PREL'), ('ใช้', 'VACT'), ('อยู่', 'XVAE'), ('ใน', 'RPRE'), ('ปัจจุบัน', 'NCMN'), ('เป็น', 'VSTA'), ('เครื่อง', 'NCMN'), ('เล็กๆ', 'VATT'), ('<space>', 'PUNC'), ('สำหรับ', 'JSBR'), ('แปล', 'VACT'), ('ประโยค', 'NCMN')]), Tree('S', [('จำนวน', 'NCMN'), ('จำกัด', 'VSTA'), ('ที่', 'PREL'), ('มี', 'VSTA'), ('ความ', 'FIXN'), ('จำเป็น', 'VSTA'), ('ใน', 'RPRE'), ('การ', 'FIXN'), ('ใช้', 'VACT'), ('แต่ละ', 'DIBQ'), ('สถานการณ์', 'NCMN'), ('<space>', 'PUNC'), ('เช่น', 'JSBR'), ('<space>', 'PUNC'), ('ช่วย', 'VACT'), ('ให้', 'VACT'), ('นักท่องเที่ยว', 'NCMN'), ('สื่อสาร', 'VACT'), ('ได้', 'XVAE'), ('ใน', 'RPRE'), ('การ', 'FIXN'), ('ท่องเที่ยว', 'VACT'), ('ไปยัง', 'RPRE'), ('ประเทศ', 'NCMN'), ('บาง', 'DIBQ'), ('ประเทศ', 'CNIT'), ('<space>', 'PUNC'), ('เป็นต้น', 'PDMN')])]),\n",
       " Tree('S', [Tree('NP', [('และ', 'NCMN')]), Tree('VP', [('สามารถ', 'XVAM'), ('เซต', 'VACT'), ('ชื่อ', 'NCMN'), ('ของ', 'RPRE'), ('แต่ละ', 'DIBQ'), ('<space>', 'PUNC'), ('Layer', 'NCMN'), ('<space>', 'PUNC'), ('เอง', 'PDMN'), ('ได้', 'XVAE')])]),\n",
       " Tree('S', [Tree('NP', [('ซึ่ง', 'NCMN'), ('ใน', 'RPRE'), ('พจนานุกรม', 'NCMN'), ('ธรรมดา', 'VATT')]), Tree('VP', [('จะ', 'XVBM'), ('ใช้', 'VACT'), ('ภาษาธรรมชาติ', 'NCMN'), ('ใน', 'RPRE'), ('การ', 'FIXN'), ('อธิบาย', 'VACT'), ('รายละเอียด', 'NCMN'), ('เหล่านี้', 'DDAC')])]),\n",
       " Tree('S', [('จากนั้น', 'JSBR'), Tree('NP', [('แปล', 'FIXN'), ('โดย', 'FIXV'), ('ตรง', 'VATT'), ('นี้', 'DDAC'), ('จึง', 'XVBM'), ('ขึ้นกับ', 'VSTA'), ('ขนาด', 'NCMN'), ('ของ', 'RPRE'), ('พจนานุกรม', 'NCMN')]), ('<space>', 'PUNC'), Tree('VP', [('และ', 'RPRE'), ('วิธี', 'VSTA'), ('การ', 'VACT'), ('วิเคราะห์', 'VACT'), ('รูปลักษณะ', 'NCMN'), ('ของ', 'RPRE'), ('คำ', 'NCMN'), ('ใน', 'RPRE'), ('ภาษา', 'NCMN')])]),\n",
       " Tree('S', [('เพราะ', 'JSBR'), Tree('NP', [('การ', 'FIXN'), ('ควบคุม', 'VACT'), ('อุปกรณ์', 'NCMN'), ('โดย', 'FIXV'), ('ตรง', 'VATT'), ('<space>', 'PUNC'), ('ผู้ใช้', 'NCMN'), ('จำเป็นต้อง', 'XVMM'), ('มี', 'VSTA'), ('ความ', 'FIXN'), ('รู้', 'VSTA'), ('ทาง', 'RPRE'), ('ด้าน', 'NCMN'), ('ฮาร์ดแวร์', 'NCMN')]), ('<space>', 'PUNC'), Tree('VP', [('อย่าง', 'JSBR'), ('มาก', 'NCMN')])]),\n",
       " Tree('S', [Tree('NP', [('4', 'NCNM'), ('<full_stop>', 'PUNC'), ('<space>', 'FIXN'), ('ศึกษา', 'VACT'), ('โครงสร้าง', 'NCMN'), ('ของ', 'RPRE'), ('พจนานุกรม', 'NCMN')]), ('<space>', 'PUNC'), Tree('VP', [('เป็น', 'VSTA'), ('การ', 'FIXN'), ('ศึกษา', 'VACT'), ('เบื้องต้น', 'NCMN'), ('ถึง', 'RPRE'), ('โครงสร้าง', 'NCMN'), ('และ', 'JCRG'), ('ขบวนการ', 'NCMN'), ('ใน', 'RPRE'), ('การ', 'FIXN'), ('ติดต่อ', 'VACT'), ('กับ', 'RPRE'), ('หน่วยวิเคราะห์', 'NCMN'), ('<space>', 'PUNC'), ('และ', 'RPRE'), ('หน่วยสร้างภาษา', 'NCMN')])]),\n",
       " Tree('S', [Tree('NP', [('ค่า', 'NCMN'), ('คำนวณ', 'VACT'), ('ได้', 'XVAE'), ('นี้', 'DDAC')]), Tree('VP', [('จะ', 'XVBM'), ('เป็น', 'VSTA'), ('ค่าประมาณ', 'NCMN'), ('ของ', 'RPRE'), ('ตัวโน๊ต', 'NCMN'), ('ตัว', 'NCMN'), ('นั้น', 'DDAC'), ('<space>', 'PUNC'), ('ซึ่ง', 'JSBR'), ('ถือ', 'VSTA'), ('ว่า', 'JSBR'), ('ใช้ได้', 'VSTA')])]),\n",
       " Tree('S', [Tree('PP', [('ที่', 'PREL'), ('เป็น', 'VSTA'), ('เช่นนี้', 'ADVN'), ('อาจ', 'XVMM'), ('เป็น', 'VSTA'), ('เพราะ', 'JSBR')]), Tree('S', [('กรรมวิธี', 'NCMN'), ('ใน', 'RPRE'), ('การ', 'FIXN'), ('รู้จักจำ', 'VSTA'), ('<space>', 'NCMN'), ('<left_parenthesis>', 'PUNC'), ('recognition', 'NCMN'), ('<right_parenthesis>', 'PUNC'), ('<space>', 'FIXN'), ('เครื่อง', 'NCMN'), ('ยัง', 'XVBM'), ('มี', 'VSTA'), ('ประสิทธิภาพ', 'NCMN'), ('และ', 'JCRG'), ('ความ', 'FIXN'), ('รวดเร็ว', 'VATT'), ('ไม่', 'NEG'), ('เพียงพอ', 'ADVN')])]),\n",
       " Tree('S', [Tree('NP', [('ก็', 'NCMN')]), Tree('VP', [('จะ', 'XVBM'), ('ทำให้', 'VACT'), ('เป็น', 'RPRE'), ('การ', 'FIXN'), ('ประหยัด', 'VACT'), ('<space>', 'PUNC'), ('ลด', 'VACT'), ('อัตรา', 'NCMN'), ('สูญเสีย', 'VSTA'), ('เงินตรา', 'NCMN'), ('ออก', 'VACT'), ('ต่างประเทศ', 'NCMN'), ('ได้', 'XVAM'), ('เป็น', 'VSTA'), ('จำนวน', 'NCMN'), ('มาก', 'ADVN')])]),\n",
       " Tree('S', [Tree('PP', [('ใน', 'RPRE'), ('ปัจจุบัน', 'NCMN'), ('<space>', 'PUNC'), ('เทคโนโลยี', 'NCMN'), ('ทาง', 'RPRE'), ('ด้าน', 'NCMN')]), Tree('S', [('ไมโครคอมพิวเตอร์', 'NCMN'), ('ได้', 'XVAM'), ('มี', 'VSTA'), ('การ', 'FIXN'), ('พัฒนา', 'VACT'), ('ขึ้น', 'XVAE'), ('อย่าง', 'FIXV'), ('รวดเร็ว', 'VATT')])]),\n",
       " Tree('S', [Tree('NP', [('ซึ่ง', 'NCMN')]), Tree('VP', [('เริ่ม', 'VSTA'), ('ตั้งแต่', 'RPRE'), ('การ', 'FIXN'), ('ศึกษา', 'VACT'), ('<space>', 'PUNC'), ('INTERLINGUA', 'NCMN'), ('MT', 'NCMN'), ('<space>', 'PUNC'), ('การ', 'FIXN'), ('ศึกษา', 'VACT'), ('ส่วนประกอบ', 'NCMN'), ('ข้อมูล', 'NCMN'), ('หลัก', 'NCMN'), ('<space>', 'PUNC'), ('3', 'DCNM'), ('<space>', 'PUNC'), ('ส่วน', 'CNIT'), ('ใน', 'RPRE'), ('<space>', 'PUNC'), ('ED', 'NCMN'), ('<space>', 'PUNC'), ('รายงาน', 'NCMN'), ('การ', 'FIXN'), ('วิเคราะห์', 'VACT'), ('และ', 'JCRG'), ('กำหนด', 'VACT'), ('ระบบ', 'NCMN'), ('ภาษาไทย', 'NPRP'), ('ใน', 'RPRE'), ('แง่', 'NCMN'), ('ต่างๆ', 'DIAC'), ('<space>', 'PUNC'), ('เช่น', 'RPRE'), ('<space>', 'PUNC'), ('การ', 'FIXN'), ('วิเคราะห์', 'VACT'), ('โครงสร้าง', 'NCMN'), ('คำ', 'NCMN'), ('<space>', 'PUNC'), ('เพื่อ', 'JSBR'), ('หา', 'VACT'), ('ตำแหน่ง', 'NCMN'), ('ที่', 'PREL'), ('เกิด', 'VSTA'), ('ของ', 'RPRE'), ('คำ', 'NCMN'), ('ประเภท', 'NCMN'), ('ต่างๆ', 'DIAC'), ('<space>', 'PUNC'), ('การ', 'FIXN'), ('แยก', 'VACT'), ('ประเภท', 'NCMN'), ('คำ', 'NCMN'), ('ทั้ง', 'JCRG'), ('ประเภท', 'NCMN'), ('ใหญ่', 'VATT'), ('และ', 'JCRG'), ('ประเภท', 'NCMN'), ('ย่อย', 'VATT'), ('<space>', 'PUNC'), ('การ', 'FIXN'), ('ศึกษา', 'VACT'), ('หา', 'VACT'), ('ความ', 'FIXN'), ('สัมพันธ์', 'VSTA'), ('ของ', 'RPRE'), ('คำ', 'NCMN'), ('ใน', 'RPRE'), ('ประโยค', 'NCMN'), ('การ', 'FIXN'), ('วิเคราะห์', 'VACT'), ('โครงสร้าง', 'NCMN'), ('ของ', 'RPRE'), ('ประโยค', 'NCMN'), ('ใน', 'RPRE'), ('ภาษาไทย', 'NPRP'), ('<space>', 'PUNC'), ('พร้อมทั้ง', 'RPRE'), ('การ', 'FIXN'), ('กำหนด', 'VACT'), ('ข้อมูล', 'NCMN'), ('ใน', 'RPRE'), ('<space>', 'PUNC'), ('ED', 'NCMN'), ('<space>', 'PUNC'), ('การ', 'FIXN'), ('โค้ด', 'VACT'), ('คำ', 'NCMN'), ('และ', 'JCRG'), ('ตัวอย่าง', 'NCMN')])]),\n",
       " Tree('S', [Tree('PP', [('เพื่อ', 'RPRE'), ('เพิ่ม', 'VACT'), ('หรือ', 'JCRG'), ('ลด', 'VACT')]), Tree('S', [('ความ', 'FIXN'), ('ถี่', 'VATT'), ('ที่', 'JSBR'), ('ตั้ง', 'VACT')])]),\n",
       " Tree('S', [Tree('NP', [('ไป', 'VACT'), ('ดำเนินการ', 'VACT')]), ('ให้', 'JSBR'), Tree('VP', [('บรรลุ', 'VSTA'), ('ตาม', 'RPRE'), ('วัตถุประสงค์', 'NCMN')])]),\n",
       " Tree('S', [Tree('PP', [('เพื่อ', 'RPRE'), ('ช่วย', 'VACT'), ('ให้', 'VACT')]), Tree('S', [('การ', 'FIXN'), ('ดูแล', 'VACT'), ('ผู้ป่วย', 'NCMN'), ('ใน', 'RPRE'), ('หอ', 'NCMN'), ('ผู้ป่วย', 'NCMN'), ('หนัก', 'VATT'), ('มีประสิทธิภาพ', 'VSTA'), ('มาก', 'ADVN'), ('ที่สุด', 'ADVN')])]),\n",
       " Tree('S', [Tree('NP', [('1', 'NCNM'), ('<space>', 'PUNC'), ('รายละเอียด', 'NCMN'), ('ของ', 'RPRE'), ('คำ', 'NCMN'), ('ใน', 'RPRE'), ('<space>', 'PUNC'), ('ED', 'NCMN')]), ('<space>', 'PUNC'), Tree('VP', [('จะ', 'XVBM'), ('อยู่', 'VSTA'), ('ในรูป', 'NCMN'), ('ของ', 'RPRE'), ('<space>', 'PUNC'), ('code', 'NCMN'), ('<space>', 'PUNC'), ('และ', 'NCMN'), ('<space>', 'PUNC'), ('symbols', 'NCMN'), ('<space>', 'PUNC'), ('ต่างๆ', 'NCMN')])]),\n",
       " Tree('S', [Tree('PP', [('โดย', 'RPRE'), ('เฉพาะ', 'VATT')]), Tree('S', [('นักวิจัย', 'NCMN'), ('และ', 'JCRG'), ('ผู้ประกอบการ', 'NCMN'), ('ที่', 'PREL'), ('เล็งเห็น', 'VACT'), ('ความ', 'FIXN'), ('สำคัญ', 'VSTA'), ('<space>', 'NCMN'), ('และ', 'JCRG'), ('ได้', 'XVAM'), ('เข้า', 'VACT'), ('มาร่วม', 'VACT'), ('โครงการวิจัยและพัฒนา', 'NCMN'), ('ดังกล่าว', 'DDAC'), ('มาแล้ว', 'ADVN')])]),\n",
       " Tree('S', [Tree('NP', [('และ', 'NCMN')]), Tree('VP', [('สร้าง', 'VACT'), ('โมดูล', 'NCMN'), ('สำหรับ', 'RPRE'), ('การ', 'FIXN'), ('ถ่ายทอด', 'VACT'), ('<space>', 'PUNC'), ('n', 'NCMN'), ('<left_parenthesis>', 'PUNC'), ('n-1', 'NCMN'), ('<right_parenthesis>', 'PUNC'), ('<space>', 'FIXN'), ('โมดูล', 'NCMN')])]),\n",
       " Tree('S', [Tree('NP', [('19', 'NCNM')]), Tree('VP', [('<full_stop>', 'VACT'), ('<space>', 'NCMN'), ('นาย', 'NCMN'), ('อมร', 'NPRP'), ('<space>', 'PUNC'), ('ถาวรมาศ', 'NPRP')])]),\n",
       " Tree('S', [Tree('PP', [('โดย', 'RPRE'), ('ทั่วไป', 'VATT')]), Tree('S', [('เครื่อง', 'NCMN'), ('ระดับ', 'NCMN'), ('นี้', 'DDAC'), ('สามารถ', 'XVAM'), ('จะ', 'XVBM'), ('ต่อ', 'VACT'), ('ภาพ', 'NCMN'), ('ได้', 'VSTA'), ('ประมาณ', 'DIBQ'), ('<space>', 'NCMN'), ('10', 'NCNM'), ('<minus>', 'PUNC'), ('20', 'DCNM'), ('<space>', 'PUNC'), ('จอภาพ', 'CNIT')])]),\n",
       " Tree('S', [Tree('NP', [('สัญญาณ', 'NCMN'), ('ไฟฟ้า', 'NCMN'), ('หัวใจ', 'NCMN'), ('วัด', 'VACT'), ('ได้', 'XVAE'), ('มี', 'VSTA'), ('ศักดาไฟฟ้า', 'NCMN'), ('ในช่วง', 'RPRE'), ('<space>', 'PUNC'), ('0.5', 'NCNM')]), ('<space>', 'PUNC'), Tree('VP', [('ถึง', 'VSTA'), ('<space>', 'PUNC'), ('5', 'DCNM'), ('<space>', 'PUNC'), ('มิลลิโวลท์', 'CMTR')])]),\n",
       " Tree('S', [('ดัง', 'JSBR'), Tree('NP', [('ใน', 'RPRE'), ('ตาราง', 'NCMN'), ('ที่', 'DONM'), ('3.1', 'DONM')]), ('<space>', 'PUNC'), Tree('VP', [('แสดง', 'VACT'), ('การ', 'FIXN'), ('เปรียบเทียบ', 'VACT'), ('โปรแกรม', 'NCMN'), ('ควบคุม', 'VACT'), ('การ', 'FIXN'), ('แปล', 'VACT'), ('คำสั่ง', 'NCMN'), ('<space>', 'PUNC'), ('<left_parenthesis>', 'PUNC'), ('Ladder', 'NCMN'), ('Interpreter', 'NCMN'), ('<right_parenthesis>', 'PUNC'), ('<space>', 'PUNC'), ('ต่างๆ', 'DIAC'), ('<space>', 'PUNC'), ('ที่', 'JSBR'), ('ได้', 'XVAM'), ('กล่าว', 'VACT'), ('มา', 'XVAE'), ('แล้ว', 'ADVN')])]),\n",
       " Tree('S', [Tree('PP', [('ใน', 'RPRE'), ('การ', 'FIXN'), ('เลือก', 'VACT'), ('อัตรา', 'NCMN'), ('การ', 'FIXN'), ('ขยาย', 'VACT'), ('และ', 'JCRG'), ('ขนาด', 'NCMN'), ('ของ', 'RPRE'), ('แรงดัน', 'NCMN')]), Tree('S', [('อินพุท', 'NCMN'), ('นั้น', 'DDAC'), ('<space>', 'PUNC'), ('สามารถ', 'XVAM'), ('ทำ', 'VACT'), ('ได้', 'XVAE'), ('โดย', 'JSBR'), ('การ', 'FIXN'), ('ต่อ', 'VACT'), ('ขา', 'NCMN'), ('ไอซี', 'NCMN'), ('เข้าด้วยกัน', 'ADVN')])]),\n",
       " Tree('S', [Tree('NP', [('งานวิจัย', 'NCMN'), ('เกี่ยวกับ', 'RPRE'), ('ภาษาไทย', 'NCMN'), ('ที่', 'PREL'), ('ทำ', 'VACT'), ('จาก', 'RPRE'), ('แง่มุม', 'NCMN'), ('ของ', 'RPRE'), ('ภาษาศาสตร์', 'NCMN'), ('นั้น', 'DDAC')]), Tree('VP', [('มี', 'VSTA'), ('จำนวน', 'NCMN'), ('มากมาย', 'ADVN')])]),\n",
       " Tree('S', [Tree('NP', [('5', 'NCMN'), ('<full_stop>', 'NCMN')]), ('<space>', 'PUNC'), Tree('VP', [('สรุป', 'VACT')])]),\n",
       " Tree('S', [Tree('NP', [('ให้', 'VACT'), ('ถึง', 'VACT')]), Tree('VP', [('เป็น', 'VSTA'), ('<space>', 'PUNC'), ('Intelligent', 'NCMN'), ('Machine', 'NCMN')])]),\n",
       " Tree('S', [Tree('NP', [('ขณะนี้', 'NCMN'), ('เรา', 'PPRS')]), Tree('VP', [('ทำการ', 'VACT'), ('วิจัย', 'VACT'), ('ใน', 'RPRE'), ('แบบ', 'NCMN'), ('ที่', 'DONM'), ('2', 'DONM')])]),\n",
       " Tree('S', [('เพื่อให้', 'JSBR'), Tree('NP', [('บรรดา', 'NCMN'), ('นักวิจัย', 'NCMN'), ('และ', 'JCRG'), ('นักศึกษา', 'NCMN'), ('สามารถ', 'XVAM'), ('ใช้', 'VACT'), ('เครือข่าย', 'NCMN'), ('<space>', 'PUNC'), ('<left_parenthesis>', 'PUNC'), ('NECTEC', 'NCMN'), ('NETWORK', 'NCMN'), ('-', 'NCMN'), ('NECNET', 'NCMN'), ('<right_parenthesis>', 'PUNC'), ('<space>', 'PUNC'), ('เพื่อ', 'RPRE'), ('การ', 'FIXN'), ('สื่อสาร', 'VACT'), ('ข้าม', 'RPRE'), ('มหาวิทยาลัย', 'NCMN'), ('<space>', 'PUNC'), ('ข้าม', 'VACT'), ('จังหวัด', 'NCMN')]), ('<space>', 'PUNC'), Tree('VP', [('ข้าม', 'VACT'), ('ประเทศ', 'NCMN'), ('ได้', 'XVAE')])]),\n",
       " Tree('S', [Tree('PP', [('โดย', 'RPRE'), ('ใช้', 'VACT')]), Tree('S', [('การ', 'FIXN'), ('สื่อสาร', 'VACT'), ('แบบ', 'NCMN'), ('อนุกรม', 'NCMN'), ('<space>', 'PUNC'), ('RS-232C', 'NCMN'), ('<space>', 'NCMN'), ('หรือ', 'JCRG'), ('<space>', 'FIXN'), ('RS-422', 'NCMN'), ('<space>', 'PUNC'), ('ด้วย', 'RPRE'), ('ความ', 'FIXN'), ('เร็ว', 'VATT'), ('ไม่', 'NEG'), ('น้อย', 'ADVN'), ('กว่า', 'ADVN'), ('<space>', 'PUNC'), ('9600', 'DCNM'), ('<space>', 'PUNC'), ('บิท', 'CMTR'), ('<slash>', 'PUNC'), ('วินาที', 'NCMN')])]),\n",
       " Tree('S', [Tree('NP', [('รูป', 'NCMN'), ('ที่', 'DONM'), ('4', 'DONM')]), ('<space>', 'PUNC'), Tree('VP', [('ภาพตัดขวาง', 'VACT'), ('เตาเอพิแทกซี', 'NCMN'), ('<space>', 'PUNC'), ('และ', 'RPRE'), ('เบ้ารองรับสารละลาย', 'NCMN')])]),\n",
       " Tree('S', [Tree('NP', [('การ์ด', 'NCMN'), ('นี้', 'DDAC')]), ('<space>', 'PUNC'), Tree('VP', [('จะ', 'XVBM'), ('ทำหน้าที่', 'VACT'), ('เชื่อมต่อ', 'VACT'), ('เทอร์โมคับเปิ้ล', 'NCMN'), ('เข้า', 'VACT'), ('กับ', 'RPRE'), ('หน่วย', 'NCMN'), ('แปลง', 'VACT'), ('สัญญาณ', 'NCMN'), ('อนาล็อก', 'NCMN'), ('เป็น', 'VSTA'), ('ดิจิตอล', 'NCMN')])]),\n",
       " Tree('S', [Tree('NP', [('ซึ่ง', 'NCMN'), ('การ', 'FIXN'), ('บดละเอียด', 'VACT'), ('นี้', 'DDAC')]), Tree('VP', [('จะ', 'XVBM'), ('รวม', 'VACT'), ('ถึง', 'RPRE'), ('วัตถุดิบ', 'NCMN'), ('ที่', 'PREL'), ('เป็น', 'VSTA'), ('ลักษณะ', 'NCMN'), ('ผง', 'NCMN'), ('หยาบ', 'VATT'), ('ด้วย', 'ADVN')])]),\n",
       " Tree('S', [Tree('NP', [('เวลา', 'NCMN'), ('ที่', 'PREL'), ('ใช้', 'VACT'), ('ใน', 'RPRE'), ('การ', 'FIXN'), ('แปลง', 'NCMN'), ('<space>', 'PUNC'), ('<left_parenthesis>', 'PUNC'), ('corversion', 'NCMN'), ('time', 'NCMN'), ('<right_parenthesis>', 'PUNC'), ('<space>', 'PUNC'), ('สำหรับ', 'RPRE'), ('<space>', 'NCMN'), ('12', 'DCNM'), ('<space>', 'PUNC'), ('บิท', 'CMTR')]), ('<space>', 'PUNC'), Tree('VP', [('จะ', 'XVBM'), ('ใช้', 'VACT'), ('เวลา', 'NCMN'), ('สูงสุด', 'ADVN'), ('<space>', 'NCMN'), ('25', 'DCNM'), ('<space>', 'PUNC'), ('S', 'CMTR')])]),\n",
       " Tree('S', [Tree('NP', [('9', 'NCNM')]), Tree('VP', [('<full_stop>', 'VACT'), ('<space>', 'NCMN'), ('อธิบดี', 'NCMN'), ('กรมวิเทศสหการ', 'NPRP')])]),\n",
       " Tree('S', [('หลังจากที่', 'JSBR'), Tree('NP', [('ได้', 'VACT'), ('ทำ', 'VACT'), ('การ', 'FIXN'), ('พัฒนา', 'VACT')]), ('<space>', 'PUNC'), Tree('VP', [('และ', 'RPRE'), ('ได้', 'VSTA'), ('ทำ', 'VACT'), ('การ', 'FIXN'), ('ติดตั้ง', 'VACT'), ('ใช้งาน', 'VACT')])]),\n",
       " Tree('S', [Tree('NP', [('โดย', 'RPRE'), ('มุ่ง', 'VACT'), ('ไป', 'VACT')]), Tree('VP', [('ที่', 'JSBR'), ('ไดโอดเปล่งแสง', 'NCMN'), ('คุณภาพสูง', 'VATT'), ('<space>', 'PUNC'), ('โครงสร้าง', 'NCMN'), ('ที่', 'DONM'), ('3', 'DONM'), ('<space>', 'PUNC'), ('ของ', 'RPRE'), ('ไดโอดเปล่งแสงด้านข้าง', 'NCMN')])]),\n",
       " Tree('S', [Tree('NP', [('จำนวน', 'NCMN'), ('น้อย', 'VATT'), ('ที่สุด', 'ADVN')]), Tree('VP', [('เท่ากับ', 'VSTA'), ('<space>', 'PUNC'), ('668', 'DCNM'), ('<space>', 'PUNC'), ('ระเบียน', 'CNIT')])]),\n",
       " Tree('S', [Tree('NP', [('แรงดัน', 'NCMN'), ('ที่', 'PREL'), ('ป้อน', 'VACT'), ('เข้า', 'RPRE'), ('แต่ละ', 'DIBQ'), ('จุด', 'CNIT')]), Tree('VP', [('สามารถ', 'XVAM'), ('เลือก', 'VACT'), ('ได้', 'VSTA'), ('<space>', 'PUNC'), ('3', 'DCNM'), ('<space>', 'PUNC'), ('ขนาด', 'CMTR')])]),\n",
       " Tree('S', [Tree('S', [('เครื่องควบคุม', 'NCMN'), ('ชนิด', 'NCMN'), ('นี้', 'DDAC'), ('มี', 'VSTA'), ('จุดอ่อน', 'NCMN'), ('<space>', 'PUNC'), ('คือ', 'RPRE'), ('<space>', 'PUNC'), ('ความ', 'FIXN'), ('แม่นยำ', 'VSTA'), ('ไม่', 'NEG'), ('ดี', 'VATT'), ('พอ', 'ADVN'), ('<space>', 'NCMN'), ('<left_parenthesis>', 'PUNC'), ('มี', 'NCMN'), ('ความ', 'FIXN'), ('ละเอียด', 'VATT'), ('<space>', 'PUNC'), ('5', 'DCNM'), ('<space>', 'PUNC'), ('กิโลกรัม', 'CMTR'), ('<right_parenthesis>', 'PUNC'), ('<space>', 'NCMN'), ('การ', 'FIXN'), ('บำรุงรักษา', 'VACT'), ('ลำบาก', 'ADVN'), ('<space>', 'PUNC'), ('ไม่', 'NEG'), ('มี', 'VSTA'), ('การ', 'FIXN'), ('รายงาน', 'VACT'), ('ผล', 'NCMN'), ('การ', 'FIXN'), ('ชั่ง', 'VACT'), ('<space>', 'NCMN')]), ('อีกทั้ง', 'JCRG'), Tree('S', [('การ', 'FIXN'), ('เตรียม', 'VACT'), ('ข้อมูล', 'NCMN'), ('สูตร', 'NCMN'), ('อาหาร', 'NCMN'), ('ยุ่งยาก', 'VATT'), ('<space>', 'NCMN'), ('<left_parenthesis>', 'PUNC'), ('ต้อง', 'XVMM'), ('เตรียม', 'VACT'), ('เจาะ', 'VACT'), ('บัตร', 'NCMN'), ('<right_parenthesis>', 'PUNC'), ('<space>', 'NCMN'), ('และ', 'JCRG'), ('ไม่', 'NEG'), ('ได้', 'VSTA'), ('ข้อมูล', 'NCMN'), ('เพื่อ', 'JSBR'), ('นำ', 'VACT'), ('มา', 'XVAE'), ('วิเคราะห์', 'VACT'), ('เป็นต้น', 'PDMN')])]),\n",
       " Tree('S', [Tree('NP', [('เรา', 'PPRS')]), Tree('VP', [('จะ', 'XVBM'), ('สามารถ', 'XVAM'), ('หา', 'VACT'), ('จุดศูนย์ถ่วง', 'NCMN'), ('ของ', 'RPRE'), ('ตัวอักษร', 'NCMN'), ('ตัว', 'NCMN'), ('หนึ่ง', 'DIAC'), ('ได้', 'XVAE')])]),\n",
       " Tree('S', [Tree('NP', [('กำหนด', 'NCMN'), ('การ', 'FIXN')]), Tree('VP', [('ประชุม', 'VACT'), ('ทาง', 'RPRE'), ('วิชาการ', 'NCMN'), ('<space>', 'PUNC'), ('โครงการวิจัย', 'NCMN'), ('และ', 'JCRG'), ('พัฒนา', 'VACT'), ('อิเล็กทรอนิกส์', 'NCMN'), ('และ', 'JCRG'), ('คอมพิวเตอร์', 'NCMN'), ('<space>', 'PUNC'), ('ปี', 'CNIT'), ('<space>', 'PUNC'), ('2532', 'NCNM')])]),\n",
       " Tree('S', [Tree('NP', [('วิธี', 'NCMN'), ('นี้', 'DDAC')]), Tree('VP', [('ใช้', 'VACT'), ('เนื้อที่', 'NCMN'), ('ใน', 'RPRE'), ('การ', 'FIXN'), ('เก็บ', 'VACT'), ('คำสั่ง', 'NCMN'), ('<space>', 'PUNC'), ('4', 'DCNM'), ('<space>', 'PUNC'), ('Byte', 'CMTR')])]),\n",
       " Tree('S', [Tree('PP', [('โดย', 'RPRE'), ('จะ', 'XVBM'), ('แสดง', 'VACT'), ('ความ', 'FIXN'), ('สัมพันธ์', 'VSTA'), ('ของ', 'RPRE'), ('พารามิเตอร์', 'NCMN'), ('ต่างๆ', 'DIAC')]), Tree('S', [('<space>', 'NCMN'), ('ที่', 'PREL'), ('สำคัญ', 'VATT'), ('<space>', 'PUNC'), ('ที่', 'PREL'), ('เปลี่ยนแปลง', 'VACT'), ('ไป', 'VACT'), ('ได้', 'XVAE'), ('ตาม', 'RPRE'), ('ลักษณะ', 'NCMN'), ('โครงสร้าง', 'NCMN'), ('และ', 'JCRG'), ('การ', 'FIXN'), ('ไบอัส', 'VACT'), ('ที่', 'NCMN'), ('ให้กับ', 'RPRE'), ('ดีมอส', 'NCMN'), ('<space>', 'PUNC'), ('ทั้ง', 'NCMN'), ('ใน', 'RPRE'), ('ช่วง', 'NCMN'), ('เชิง', 'RPRE'), ('เส้น', 'NCMN'), ('และ', 'JCRG'), ('ช่วง', 'NCMN'), ('อิ่มตัว', 'VSTA'), ('<space>', 'NCMN'), ('ดังนี้', 'ADVN'), ('<space>', 'PUNC'), ('2', 'NCNM'), ('<comma>', 'PUNC'), ('<space>', 'NCMN'), ('3', 'DONM')])]),\n",
       " Tree('S', [Tree('NP', [('คณะ', 'NCMN'), ('ผู้วิจัย', 'NCMN')]), Tree('VP', [('ได้', 'XVAM'), ('ทำ', 'VACT'), ('การ', 'FIXN'), ('กำหนด', 'VACT'), ('ฟอร์แมต', 'NCMN'), ('มาตรฐาน', 'NCMN'), ('สำหรับ', 'RPRE'), ('การ', 'FIXN'), ('แสดง', 'VACT'), ('ผล', 'NCMN'), ('ภาษาไทย', 'NPRP')])]),\n",
       " Tree('S', [Tree('NP', [('และ', 'NCMN'), ('ได้', 'XVAM'), ('พยายาม', 'VACT'), ('กำหนด', 'VSTA'), ('<space>', 'PUNC'), ('CASE', 'NCMN'), ('<space>', 'PUNC'), ('แต่ละ', 'DIBQ'), ('<space>', 'PUNC'), ('Case', 'NCMN'), ('<space>', 'PUNC'), ('ให้', 'RPRE'), ('ละเอียด', 'VATT')]), ('<space>', 'PUNC'), Tree('VP', [('แยก', 'VACT'), ('ออก', 'VACT'), ('จาก', 'RPRE'), ('กัน', 'PPRS'), ('ได้', 'XVAE'), ('อย่าง', 'FIXV'), ('ชัดเจน', 'VATT'), ('ยิ่งขึ้น', 'ADVN')])]),\n",
       " Tree('S', [Tree('NP', [('จะ', 'NCMN')]), Tree('VP', [('รอ', 'VSTA'), ('รับ', 'VACT'), ('คำสั่ง', 'NCMN'), ('ให้', 'JSBR'), ('เริ่ม', 'VSTA'), ('ชั่ง', 'VACT')])]),\n",
       " Tree('S', [('โดย', 'JSBR'), Tree('NP', [('ผ่าน', 'RPRE'), ('ทาง', 'NCMN'), ('<space>', 'PUNC'), ('CICC', 'NPRP'), ('<space>', 'NCMN'), ('หรือ', 'JCRG'), ('<space>', 'NCMN'), ('Center', 'NPRP'), ('of', 'NPRP'), ('International', 'NPRP'), ('Cooperation', 'NPRP'), ('of', 'NPRP'), ('Computerization', 'NPRP')]), ('<space>', 'PUNC'), Tree('VP', [('ทำ', 'VACT'), ('การ', 'FIXN'), ('วิจัย', 'VACT'), ('<space>', 'PUNC'), ('MT', 'NCMN'), ('<space>', 'PUNC'), ('ขึ้น', 'NCMN')])]),\n",
       " Tree('S', [Tree('PP', [('โดย', 'RPRE'), ('ใช้', 'VACT'), ('เทคโนโลยี', 'NCMN'), ('การ', 'FIXN'), ('ออกแบบ', 'VACT'), ('วงจรรวม', 'NCMN'), ('ขนาด', 'NCMN'), ('ใหญ่', 'VATT'), ('มาก', 'ADVN')]), Tree('S', [('แบบ', 'NCMN'), ('ซีมอส', 'NCMN'), ('<space>', 'PUNC'), ('และ', 'NCMN'), ('ใช้', 'VACT'), ('หลักการ', 'NCMN'), ('เชิง', 'RPRE'), ('เลข', 'NCMN'), ('ใน', 'RPRE'), ('การ', 'FIXN'), ('ออกแบบ', 'VACT')])]),\n",
       " Tree('S', [('สำหรับ', 'JSBR'), Tree('NP', [('ต้นแบบ', 'NCMN'), ('ดังกล่าว', 'DDAC')]), ('<space>', 'PUNC'), Tree('VP', [('ได้แก่', 'VSTA')])]),\n",
       " Tree('S', [Tree('NP', [('ส่วน', 'NCMN'), ('การ', 'FIXN'), ('ขับ', 'VACT'), ('แอลอีดี', 'NCMN')]), ('<space>', 'PUNC'), Tree('VP', [('ใช้', 'VACT'), ('สัญญาณขับ', 'NCMN'), ('จาก', 'RPRE'), ('พอร์ท', 'NCMN'), ('ขาออก', 'NCMN'), ('โดย', 'FIXV'), ('ตรง', 'VATT')])]),\n",
       " Tree('S', [Tree('NP', [('สัญญาณ', 'NCMN'), ('<space>', 'PUNC'), ('P', 'NCMN')]), ('<space>', 'PUNC'), Tree('VP', [('เกิด', 'VSTA'), ('จาก', 'RPRE'), ('การ', 'FIXN'), ('หดตัว', 'VACT'), ('ของ', 'RPRE'), ('กล้ามเนื้อหัวใจ', 'NCMN'), ('ส่วนบน', 'NCMN')])]),\n",
       " Tree('S', [Tree('NP', [('1', 'NCNM')]), Tree('VP', [('<full_stop>', 'VACT'), ('<space>', 'FIXN'), ('ภาคควบคุมการทำงาน', 'NCMN')])]),\n",
       " Tree('S', [Tree('NP', [('ระบบ', 'NCMN'), ('<space>', 'PUNC'), ('MU', 'NPRP')]), ('<space>', 'PUNC'), Tree('VP', [('พัฒนา', 'VACT'), ('ด้วย', 'RPRE'), ('ภาษา', 'NCMN'), ('<space>', 'PUNC'), ('LISP', 'NPRP')])]),\n",
       " Tree('S', [Tree('NP', [('การ', 'FIXN'), ('สัมมนา', 'VACT'), ('เกี่ยวกับ', 'RPRE'), ('<space>', 'NCMN'), ('MT', 'NCMN'), ('<space>', 'PUNC'), ('ใน', 'RPRE'), ('ครั้งแรก', 'NCMN'), ('ซึ่ง', 'PREL'), ('จัด', 'VACT'), ('ขึ้น', 'XVAE'), ('ใน', 'RPRE'), ('เดือนกรกฎาคม', 'NPRP'), ('<space>', 'PUNC'), ('2531', 'NCNM'), ('<space>', 'PUNC'), ('นั้น', 'DDAC'), ('<space>', 'PUNC'), ('มี', 'VSTA'), ('ผู้เข้าร่วม', 'NCMN')]), Tree('VP', [('กว่า', 'VSTA'), ('<space>', 'PUNC'), ('50', 'DCNM'), ('<space>', 'PUNC'), ('คน', 'CNIT')])]),\n",
       " Tree('S', [Tree('NP', [('ใน', 'RPRE'), ('ปี', 'CNIT'), ('<space>', 'PUNC'), ('1971', 'NCNM')]), ('<space>', 'PUNC'), Tree('VP', [('ใช้', 'VACT'), ('คอมพิวเตอร์', 'NCMN'), ('ของ', 'RPRE'), ('ไอซีแอ็ล', 'NCMN'), ('1905', 'NCMN'), ('<space>', 'PUNC'), ('<left_parenthesis>', 'PUNC'), ('ICL', 'NCMN'), ('1905', 'NCMN'), ('<right_parenthesis>', 'PUNC'), ('<space>', 'PUNC'), ('สามารถ', 'XVAM'), ('สร้าง', 'VACT'), ('ภาพ', 'NCMN'), ('ได้', 'VSTA'), ('ใน', 'RPRE'), ('เวลา', 'NCMN'), ('ประมาณ', 'VSTA'), ('<space>', 'PUNC'), ('20', 'DCNM'), ('<space>', 'PUNC'), ('นาที', 'CMTR'), ('ต่อ', 'RPRE'), ('ภาพ', 'NCMN')])]),\n",
       " Tree('S', [('หาก', 'JSBR'), Tree('NP', [('จะ', 'NCMN'), ('แบ่ง', 'VACT'), ('คอมพิวเตอร์', 'NCMN'), ('ออก', 'VACT'), ('ตาม', 'RPRE'), ('ขนาด', 'NCMN'), ('และ', 'JCRG'), ('ความ', 'FIXN'), ('สามารถ', 'XVAM'), ('จะ', 'XVBM'), ('พอ', 'XVAM'), ('แบ่ง', 'VACT'), ('ออก', 'XVAE'), ('ได้', 'XVAE'), ('เป็น', 'VSTA'), ('<space>', 'PUNC'), ('3', 'DCNM'), ('<space>', 'PUNC'), ('ระดับ', 'CNIT')]), ('<space>', 'PUNC'), Tree('VP', [('ก็', 'JSBR'), ('คือ', 'VSTA'), ('<space>', 'PUNC'), ('Personal', 'NCMN'), ('Computer', 'NCMN'), ('<space>', 'PUNC'), ('<left_parenthesis>', 'PUNC'), ('PC', 'NCMN'), ('<right_parenthesis>', 'PUNC'), ('<comma>', 'PUNC'), ('<space>', 'PUNC'), ('Mini', 'NCMN'), ('Computer', 'NCMN'), ('<space>', 'PUNC'), ('และ', 'RPRE'), ('<space>', 'PUNC'), ('Mainfram', 'NCMN')])]),\n",
       " Tree('S', [Tree('NP', [('ส่วน', 'NCMN'), ('<space>', 'PUNC'), ('n', 'NCMN')]), ('<space>', 'PUNC'), Tree('VP', [('จะ', 'XVBM'), ('มี', 'VSTA'), ('ประโยชน์', 'NCMN'), ('ใน', 'RPRE'), ('การ', 'FIXN'), ('ช่วย', 'VACT'), ('ลด', 'VACT'), ('ความ', 'FIXN'), ('ต้านทาน', 'VACT'), ('ภายใน', 'NCMN'), ('ของ', 'RPRE'), ('ดีมอส', 'NCMN'), ('ได้', 'XVAE')])]),\n",
       " Tree('S', [Tree('NP', [('ก็', 'NCMN'), ('มี', 'VSTA'), ('อยู่', 'XVAE'), ('ดังนี้', 'ADVN')]), Tree('VP', [('คือ', 'VSTA')])]),\n",
       " Tree('S', [Tree('NP', [('3', 'NCMN'), ('<full_stop>', 'NCMN'), ('<space>', 'PUNC'), ('เขา', 'PPRS'), ('นอน', 'NCMN'), ('<space>', 'PUNC'), ('แบบ', 'NCMN')]), ('<space>', 'PUNC'), Tree('VP', [('อยู่', 'VSTA')])]),\n",
       " Tree('S', [Tree('NP', [('4', 'NCMN'), ('<full_stop>', 'NCMN')]), ('<space>', 'PUNC'), Tree('VP', [('ประเมินผล', 'VACT'), ('การ', 'FIXN'), ('ดำเนินการ', 'VACT'), ('โครงการฯ', 'NCMN')])]),\n",
       " Tree('S', [Tree('NP', [('ซึ่ง', 'NCMN')]), ('เมื่อ', 'JSBR'), Tree('VP', [('นำมาใช้', 'VACT'), ('ใน', 'RPRE'), ('ระบบ', 'NCMN'), ('จะ', 'XVBM'), ('ทำให้', 'VACT'), ('<space>', 'PUNC'), ('CPU', 'NCMN'), ('<space>', 'PUNC'), ('ทำงาน', 'VACT'), ('ด้อยประสิทธิภาพ', 'ADVN'), ('ลง', 'XVAE')])]),\n",
       " Tree('S', [Tree('NP', [('ดัง', 'RPRE'), ('แสดง', 'NCMN'), ('ใน', 'RPRE'), ('รูป', 'NCMN')]), Tree('VP', [('ที่', 'JSBR'), ('10', 'NCNM')])]),\n",
       " Tree('S', [('สำหรับ', 'JSBR'), Tree('NP', [('ใน', 'NCMN'), ('ประเทศญี่ปุ่น', 'NPRP'), ('การ', 'FIXN'), ('แปล', 'VACT'), ('จาก', 'RPRE'), ('ภาษาอังกฤษ', 'NPRP'), ('<minus>', 'PUNC'), ('ญี่ปุ่น', 'NPRP'), ('<space>', 'PUNC'), ('และ', 'RPRE'), ('ญี่ปุ่น', 'NPRP'), ('<minus>', 'PUNC'), ('อังกฤษ', 'NPRP')]), ('<space>', 'PUNC'), Tree('VP', [('ก็', 'JSBR'), ('ประสบ', 'VSTA'), ('ผลสำเร็จ', 'NCMN'), ('มาก', 'ADVN'), ('แล้ว', 'ADVN')])]),\n",
       " Tree('S', [Tree('NP', [('TVP5', 'NCMN'), ('<space>', 'NCMN'), ('<minus>', 'PUNC'), ('<space>', 'NCMN'), ('TVP6', 'NCMN'), ('<space>', 'FIXN'), ('เป็น', 'VSTA'), ('<space>', 'PUNC'), ('VP', 'NCMN'), ('<space>', 'PUNC'), ('ของ', 'RPRE'), ('คำกริยา', 'NCMN'), ('ประเภท', 'NCMN'), ('สกรรมกริยา', 'NCMN'), ('<space>', 'PUNC'), ('เช่น', 'RPRE'), ('<space>', 'PUNC'), ('TVP5', 'NCMN'), ('A', 'NCMN'), ('<space>', 'PUNC'), ('มี', 'NCMN'), ('<space>', 'PUNC'), ('syntax', 'NCMN')]), ('<space>', 'PUNC'), Tree('VP', [('คือ', 'VSTA'), ('<space>', 'PUNC'), ('S+V+N', 'NCMN')])]),\n",
       " Tree('S', [Tree('NP', [('ผู้', 'PPRS'), ('ที่', 'PREL'), ('จะ', 'XVBM'), ('นำ', 'VACT'), ('ผลงานวิจัย', 'NCMN'), ('ไป', 'XVAE'), ('ใช้', 'VACT'), ('คือ', 'VSTA'), ('ผู้', 'PPRS')]), Tree('VP', [('ใช้', 'VACT'), ('พิมพ์ดีด', 'NCMN'), ('เป็น', 'VSTA'), ('เครื่องมือ', 'NCMN'), ('ของ', 'RPRE'), ('การ', 'FIXN'), ('เก็บ', 'VACT'), ('ข้อมูล', 'NCMN'), ('<space>', 'PUNC'), ('ผู้', 'PPRS'), ('ที่', 'PREL'), ('ใช้', 'VACT'), ('เครื่อง', 'NCMN'), ('คอมพิวเตอร์', 'NCMN'), ('เป็น', 'VSTA'), ('เครื่องมือ', 'NCMN'), ('ใน', 'RPRE'), ('การ', 'FIXN'), ('ประมวลผล', 'VACT'), ('ทุก', 'DIBQ'), ('วงการ', 'NCMN')])]),\n",
       " Tree('S', [Tree('NP', [('4.1', 'NCNM'), ('<space>', 'PUNC'), ('ข้อมูล', 'NCMN')]), ('ที่', 'JSBR'), Tree('VP', [('ใช้', 'VACT'), ('ใน', 'RPRE'), ('การ', 'FIXN'), ('ทดลอง', 'VACT')])]),\n",
       " Tree('S', [Tree('NP', [('2', 'NCMN'), ('<full_stop>', 'NCMN'), ('<space>', 'PUNC'), ('คณะ', 'NCMN'), ('กรรมการบริหาร', 'NCMN')]), ('<space>', 'PUNC'), Tree('VP', [('ประกอบ', 'VSTA'), ('ด้วย', 'RPRE'), ('กรรมการ', 'NCMN'), ('<space>', 'PUNC'), ('15', 'NCMN'), ('<space>', 'PUNC'), ('ท่าน', 'PPRS')])]),\n",
       " Tree('S', [Tree('PP', [('เมื่อ', 'RPRE'), ('ได้', 'XVAM'), ('ทำ', 'VACT')]), Tree('S', [('การ', 'FIXN'), ('แก้ไข', 'VACT'), ('ข้อบกพร่อง', 'NCMN'), ('ใน', 'RPRE'), ('วงจร', 'NCMN'), ('แล้ว', 'ADVN')])]),\n",
       " Tree('S', [Tree('NP', [('เทคโนโลยี', 'NCMN'), ('ที่', 'PREL'), ('เหมาะสม', 'VATT')]), Tree('VP', [('คือ', 'VSTA'), ('<space>', 'PUNC'), ('เอพิแทกซี', 'NCMN'), ('ใน', 'RPRE'), ('สถานะ', 'NCMN'), ('ของเหลว', 'NCMN'), ('<space>', 'PUNC'), ('<left_parenthesis>', 'PUNC'), ('Liquid', 'NCMN'), ('Phase', 'NCMN'), ('Epitaxy,', 'NCMN'), ('LPE', 'NCMN'), ('<right_parenthesis>', 'PUNC'), ('<space>', 'PUNC'), ('2', 'NCNM')])]),\n",
       " Tree('S', [Tree('NP', [('อ.', 'NCMN'), ('<space>', 'NCMN'), ('บุญเจริญ', 'NPRP'), ('<space>', 'PUNC'), ('ศิริเนาวกุล', 'NPRP'), ('<space>', 'PUNC'), ('อาจารย์', 'NCMN'), ('คณะ', 'NCMN'), ('วิศวกรรมศาสตร์', 'NCMN'), ('<space>', 'PUNC'), ('สถาบันเทคโนโลยีพระจอมเกล้าธนบุรี', 'NPRP')]), ('<space>', 'PUNC'), Tree('VP', [('เป็น', 'VSTA'), ('หัวหน้า', 'NCMN'), ('โครงการ', 'NCMN')])]),\n",
       " Tree('S', [Tree('PP', [('เพื่อ', 'RPRE'), ('ทดสอบ', 'VACT')]), Tree('S', [('การ', 'FIXN'), ('ทำงาน', 'VACT'), ('ของ', 'RPRE'), ('เครื่องจักร', 'NCMN'), ('ที่', 'PREL'), ('ต้องการ', 'VACT'), ('ควบคุม', 'VACT'), ('ได้', 'XVAE'), ('อีกด้วย', 'ADVN')])]),\n",
       " Tree('S', [Tree('NP', [('2.3', 'NCNM'), ('<space>', 'PUNC'), ('ขั้นตอน', 'NCMN'), ('การ', 'FIXN')]), Tree('VP', [('พัฒนา', 'VSTA'), ('<space>', 'PUNC'), ('Gate', 'NCMN'), ('Array', 'NCMN')])]),\n",
       " Tree('S', [('เพื่อ', 'JSBR'), Tree('NP', [('ผลักดัน', 'VACT'), ('ให้', 'VACT'), ('เงินทุน', 'NCMN'), ('จาก', 'RPRE'), ('รัฐบาล', 'NCMN'), ('ที่จะ', 'JSBR'), ('ให้แก่', 'RPRE'), ('โครงการ', 'NCMN'), ('ต่างๆ', 'DIAC')]), ('<space>', 'PUNC'), Tree('VP', [('มีผล', 'VACT'), ('ตอบสนอง', 'VACT'), ('ทาง', 'RPRE'), ('เศรษฐกิจ', 'NCMN'), ('ที่', 'PREL'), ('สูงขึ้น', 'VATT')])]),\n",
       " Tree('S', [Tree('NP', [('ระบบ', 'NCMN'), ('การ', 'FIXN'), ('ดำเนินการ', 'VACT')]), Tree('VP', [('จะ', 'XVBM'), ('กระทำ', 'VACT'), ('ทั้งหมด', 'PDMN'), ('ด้วย', 'RPRE'), ('<space>', 'PUNC'), ('dBASE', 'NCMN')])]),\n",
       " Tree('S', [Tree('NP', [('เทคนิค', 'NCMN'), ('ของ', 'RPRE'), ('โปรแกรมควบคุม', 'NCMN'), ('การ', 'FIXN'), ('แปล', 'VACT'), ('คำสั่ง', 'NCMN'), ('แต่ละ', 'DIBQ'), ('แบบ', 'CNIT'), ('มี', 'VSTA'), ('หลักการ', 'NCMN')]), Tree('VP', [('สำคัญ', 'VSTA'), ('ดังต่อไปนี้', 'JSBR')])]),\n",
       " Tree('S', [Tree('NP', [('และ', 'NCMN')]), Tree('VP', [('ยังคง', 'XVBM'), ('บันทึก', 'VACT'), ('ข้อมูล', 'NCMN'), ('ด้วย', 'RPRE'), ('ระบบ', 'NCMN'), ('เดิม', 'VATT')])]),\n",
       " Tree('S', [Tree('PP', [('จาก', 'RPRE'), ('การ', 'FIXN'), ('ที่', 'NCMN')]), Tree('S', [('ผู้', 'PPRS'), ('ดำเนินการ', 'VACT'), ('ได้', 'XVAE'), ('เข้าไป', 'XVAE'), ('ศึกษา', 'VACT'), ('งาน', 'NCMN'), ('ใน', 'RPRE'), ('แต่ละ', 'DIBQ'), ('ระบบ', 'NCMN'), ('งาน', 'NCMN'), ('ย่อย', 'VATT')])]),\n",
       " Tree('S', [('โดย', 'JSBR'), Tree('NP', [('ใช้', 'NCMN'), ('<space>', 'PUNC'), ('root', 'NCMN'), ('<space>', 'PUNC'), ('CP', 'NCMN'), ('<space>', 'PUNC'), ('ของ', 'NCMN'), ('<space>', 'PUNC'), ('Case', 'NCMN'), ('<space>', 'NCMN'), ('ทั้งสอง', 'DDAN'), ('เป็น', 'FIXN'), ('หลัก', 'VATT')]), ('<space>', 'PUNC'), Tree('VP', [('ซึ่ง', 'JSBR'), ('จะ', 'XVBM'), ('มี', 'VSTA'), ('ทั้งหมด', 'PDMN'), ('<space>', 'PUNC'), ('6', 'NCNM'), ('<space>', 'PUNC'), ('กฎ', 'NCMN')])]),\n",
       " Tree('S', [Tree('NP', [('คำจำกัดความ', 'NCMN'), ('<space>', 'PUNC'), ('<quotation>', 'PUNC'), ('ฐานข้อมูลบรรณานุกรม', 'NCMN'), ('<quotation>', 'PUNC'), ('<space>', 'PUNC'), ('สำหรับ', 'RPRE'), ('งาน', 'NCMN')]), Tree('VP', [('บริการ', 'VACT'), ('สารสนเทศ', 'NCMN'), ('ได้แก่', 'VSTA'), ('<space>', 'PUNC'), ('ฐานข้อมูล', 'CNIT'), ('<space>', 'PUNC'), ('4', 'NCNM'), ('<space>', 'PUNC'), ('ประเภท', 'NCMN')])]),\n",
       " Tree('S', [Tree('NP', [('รุ่น', 'NCMN')]), Tree('VP', [('ที่', 'JSBR'), ('4', 'NCMN'), ('<colon>', 'NCMN'), ('<space>', 'PUNC'), ('Stationary', 'NCMN'), ('detector', 'NCMN'), ('array', 'NCMN'), ('with', 'NCMN'), ('rotary', 'NCMN'), ('fan', 'NCMN'), ('beam', 'NCMN')])]),\n",
       " Tree('S', [Tree('NP', [('รูป', 'NCMN'), ('ที่', 'DONM'), ('6', 'DONM')]), ('<space>', 'PUNC'), Tree('VP', [('แสดง', 'VACT'), ('รูป', 'NCMN'), ('สัญญาณ', 'NCMN'), ('คลื่นไฟฟ้า', 'NCMN'), ('กับ', 'RPRE'), ('ตัวเลข', 'NCMN'), ('แสดง', 'VACT'), ('อัตรา', 'NCMN'), ('การ', 'FIXN'), ('เต้น', 'VACT'), ('ของ', 'RPRE'), ('หัวใจ', 'NCMN')])]),\n",
       " Tree('S', [Tree('NP', [('ดัง', 'RPRE'), ('รูป', 'NCMN')]), Tree('VP', [('ที่', 'JSBR'), ('1', 'NCNM')])]),\n",
       " Tree('S', [Tree('NP', [('เพื่อ', 'RPRE'), ('จะ', 'NCMN')]), Tree('VP', [('นำ', 'VACT'), ('ไป', 'XVAE'), ('เจือสาร', 'NCMN')])]),\n",
       " Tree('S', [Tree('NP', [('ระบบคอมพิวเตอร์', 'NCMN'), ('ที่', 'PREL'), ('สามารถ', 'XVAM'), ('ใช้', 'VSTA'), ('<space>', 'PUNC'), ('UNIX', 'NCMN')]), ('<space>', 'PUNC'), Tree('VP', [('ได้', 'XVAM'), ('ต้อง', 'XVMM'), ('ประกอบ', 'VSTA'), ('ด้วย', 'ADVN'), ('อย่าง', 'FIXV'), ('น้อย', 'VATT'), ('ที่สุด', 'ADVN'), ('คือ', 'VSTA')])]),\n",
       " Tree('S', [Tree('NP', [('1', 'NCNM')]), Tree('VP', [('<full_stop>', 'VACT'), ('<space>', 'FIXN'), ('บทนำ', 'NCMN')])]),\n",
       " Tree('S', [Tree('NP', [('ขอ', 'NCMN'), ('กราบ', 'NCMN'), ('ขอบพระคุณ', 'VACT'), ('<space>', 'PUNC'), ('ศูนย์เทคโนโลยีอิเล็กทรอนิกส์และคอมพิวเตอร์แห่งชาติ', 'NPRP'), ('<space>', 'PUNC'), ('กระทรวงวิทยาศาสตร์', 'NPRP'), ('และ', 'JCRG'), ('การพลังงาน', 'NCMN'), ('<space>', 'PUNC'), ('ที่', 'NCMN')]), Tree('VP', [('ได้', 'XVAM'), ('สนับสนุน', 'VACT'), ('ให้', 'RPRE'), ('เงินทุน', 'NCMN'), ('ต่อ', 'RPRE'), ('งานวิจัย', 'NCMN'), ('นี้', 'DDAC')])]),\n",
       " Tree('S', [Tree('NP', [('NECTEC', 'NPRP'), ('<space>', 'PUNC'), ('นั้น', 'DDAC')]), Tree('VP', [('อยู่', 'VSTA'), ('ภายใต้', 'RPRE'), ('การ', 'FIXN'), ('กำกับ', 'VACT'), ('ดูแล', 'VACT'), ('ของ', 'RPRE'), ('คณะ', 'NCMN'), ('กรรมการ', 'NCMN'), ('<space>', 'PUNC'), ('2', 'NCNM'), ('<space>', 'PUNC'), ('คณะ', 'NCMN')])]),\n",
       " Tree('S', [Tree('NP', [('ส่วน', 'NCMN'), ('ใน', 'RPRE'), ('รูป', 'NCMN'), ('ที่', 'DONM'), ('13', 'DONM')]), ('<space>', 'PUNC'), Tree('VP', [('แสดง', 'VACT'), ('ภาพ', 'NCMN'), ('ภายใน', 'VATT'), ('ของ', 'RPRE'), ('หนู', 'NCMN'), ('บริเวณ', 'NCMN'), ('ลำตัว', 'NCMN'), ('และ', 'JCRG'), ('ส่วน', 'NCMN'), ('หาง', 'NCMN')])]),\n",
       " Tree('S', [Tree('NP', [('Verb', 'NCMN'), ('Pattern', 'NCMN'), ('<space>', 'PUNC'), ('<left_parenthesis>', 'PUNC'), ('VP', 'NCMN'), ('<right_parenthesis>', 'PUNC'), ('<space>', 'PUNC')]), Tree('VP', [('คือ', 'VSTA'), ('<space>', 'PUNC'), ('แบบ', 'CLTV'), ('โครงสร้าง', 'NCMN'), ('ของ', 'RPRE'), ('ประโยค', 'NCMN'), ('ที่', 'PREL'), ('เกิด', 'VSTA'), ('ขึ้น', 'VSTA'), ('ได้', 'XVAE'), ('ใน', 'RPRE'), ('ภาษา', 'NCMN')])]),\n",
       " Tree('S', [Tree('NP', [('ผล', 'NCMN'), ('ความ', 'FIXN'), ('ก้าวหน้า', 'VSTA'), ('ของ', 'RPRE'), ('ฐานข้อมูล', 'NCMN'), ('ของ', 'RPRE'), ('สถาบัน', 'NCMN'), ('ดังกล่าว', 'DDAC')]), ('<space>', 'PUNC'), Tree('VP', [('ได้แก่', 'VSTA'), ('<space>', 'PUNC'), ('ปริมาณ', 'NCMN'), ('ข้อมูล', 'NCMN'), ('ที่', 'PREL'), ('เพิ่ม', 'VATT'), ('<space>', 'PUNC'), ('และ', 'RPRE'), ('การ', 'FIXN'), ('พัฒนา', 'VACT'), ('ฐานข้อมูล', 'NCMN'), ('ใหม่', 'ADVN')])]),\n",
       " Tree('S', [Tree('NP', [('และ', 'NCMN')]), Tree('VP', [('ยัง', 'XVBM'), ('เป็น', 'VSTA'), ('หน่วย', 'NCMN'), ('ที่', 'PREL'), ('สามารถ', 'XVAM'), ('ทำหน้าที่', 'VACT'), ('เป็น', 'VSTA'), ('อุปกรณ์', 'NCMN'), ('ช่วย', 'VACT'), ('ใน', 'RPRE'), ('การ', 'FIXN'), ('ทำงาน', 'VACT'), ('แบบ', 'NCMN'), ('ระบบเวลา', 'NCMN'), ('จริง', 'ADVN')])]),\n",
       " Tree('S', [Tree('PP', [('ซึ่ง', 'PREL'), ('จะ', 'XVBM'), ('ให้', 'VACT'), ('ผล', 'NCMN')]), Tree('S', [('การ', 'FIXN'), ('ทำงาน', 'VACT'), ('ออกมา', 'XVAE'), ('เป็น', 'VSTA'), ('รูป', 'NCMN'), ('คลื่นสัญญาณ', 'NCMN'), ('บน', 'RPRE'), ('จอภาพ', 'NCMN'), ('หรือ', 'JCRG'), ('กระดาษพิมพ์', 'NCMN')])]),\n",
       " Tree('S', [Tree('NP', [('วิธี', 'NCMN'), ('การ', 'FIXN'), ('เก็บ', 'VACT'), ('คำสั่ง', 'NCMN'), ('<space>', 'PUNC'), ('และ', 'NCMN'), ('<space>', 'PUNC'), ('OPERAND', 'NCMN')]), ('<space>', 'PUNC'), Tree('VP', [('ทำ', 'VACT'), ('ได้', 'XVAE'), ('โดย', 'JSBR'), ('การ', 'FIXN'), ('เก็บ', 'VACT'), ('โค๊ด', 'NCMN'), ('ของ', 'RPRE'), ('คำสั่ง', 'NCMN'), ('ใน', 'RPRE'), ('<space>', 'PUNC'), ('Byte', 'NCMN'), ('<space>', 'NCMN'), ('แรก', 'DONM')])]),\n",
       " Tree('S', [Tree('PP', [('ใน', 'RPRE'), ('ปัจจุบัน', 'NCMN')]), Tree('S', [('คลัง', 'NCMN'), ('คำ', 'NCMN'), ('นี้', 'DDAC'), ('มี', 'VSTA'), ('คำ', 'NCMN'), ('จำนวน', 'NCMN'), ('<space>', 'PUNC'), ('14,665', 'DCNM'), ('<space>', 'PUNC'), ('คำ', 'CNIT')])]),\n",
       " Tree('S', [Tree('NP', [('3', 'NCMN'), ('<full_stop>', 'NCMN')]), ('<space>', 'PUNC'), Tree('VP', [('เลือก', 'VACT'), ('บริษัทผู้ผลิต', 'NCMN')])]),\n",
       " Tree('S', [Tree('NP', [('การ', 'FIXN'), ('สร้าง', 'VACT'), ('ฐานข้อมูล', 'NCMN')]), Tree('VP', [('ด้าน', 'VSTA'), ('วิทยาศาสตร์', 'RPRE'), ('<space>', 'PUNC'), ('และ', 'JCRG'), ('เทคโนโลยี', 'NCMN')])]),\n",
       " Tree('S', [Tree('NP', [('ซึ่ง', 'NCMN')]), Tree('VP', [('ใช้', 'VACT'), ('กระจก', 'NCMN'), ('ต้นแบบ', 'NCMN'), ('<space>', 'PUNC'), ('6', 'DCNM'), ('<space>', 'PUNC'), ('ชิ้น', 'CNIT')])]),\n",
       " Tree('S', [Tree('PP', [('ซึ่ง', 'PREL'), ('หมายถึง', 'VSTA'), ('การ', 'FIXN'), ('พัฒนา', 'VACT'), ('ด้าน', 'NCMN')]), Tree('S', [('อิเล็กทรอนิกส์', 'NCMN'), ('และ', 'JCRG'), ('คอมพิวเตอร์', 'NCMN'), ('<space>', 'PUNC'), ('เป็น', 'VSTA'), ('ไป', 'XVAE'), ('ใน', 'RPRE'), ('ทิศทาง', 'NCMN'), ('ที่', 'PREL'), ('ถูกต้อง', 'VSTA'), ('เหมาะสม', 'VATT')])]),\n",
       " Tree('S', [Tree('NP', [('และ', 'NCMN')]), Tree('VP', [('ใช้', 'VACT'), ('ผลึกควอร์ทช์', 'NCMN'), ('เป็น', 'VSTA'), ('โมโนโครเมเตอร์', 'NCMN'), ('เพื่อ', 'JSBR'), ('โฟกัส', 'VACT'), ('ลำ', 'NCMN'), ('รังสีเอ็กซ์', 'NCMN')])]),\n",
       " Tree('S', [Tree('NP', [('สิ่ง', 'NCMN'), ('เหล่านี้', 'DDAC')]), Tree('VP', [('ทำให้เกิด', 'VACT'), ('ความ', 'FIXN'), ('ซับซ้อน', 'VSTA'), ('ทาง', 'RPRE'), ('ด้าน', 'NCMN'), ('การ', 'FIXN'), ('สร้าง', 'VACT'), ('โปรแกรม', 'NCMN'), ('ให้กับ', 'RPRE'), ('คอมพิวเตอร์', 'NCMN'), ('ด้วย', 'ADVN')])]),\n",
       " Tree('S', [Tree('PP', [('โดย', 'RPRE'), ('โมเดล', 'NCMN'), ('นี้', 'DDAC')]), Tree('S', [('คณะ', 'NCMN'), ('ผู้วิจัย', 'NCMN'), ('ตั้งชื่อ', 'VACT'), ('ว่า', 'RPRE'), ('<space>', 'PUNC'), ('TKS-Thai', 'NCMN'), ('Kernel', 'NCMN'), ('System', 'NCMN')])]),\n",
       " Tree('S', [Tree('NP', [('7', 'NCMN'), ('<full_stop>', 'NCMN')]), ('<space>', 'PUNC'), Tree('VP', [('เป็น', 'VSTA'), ('แนวทาง', 'NCMN'), ('ใน', 'RPRE'), ('การ', 'FIXN'), ('พัฒนา', 'VACT'), ('มอเตอร์ไฟฟ้า', 'NCMN'), ('ขนาด', 'NCMN'), ('ใหญ่', 'VATT'), ('ต่อไป', 'ADVN')])]),\n",
       " Tree('S', [Tree('NP', [('บทความ', 'NCMN'), ('นี้', 'DDAC')]), Tree('VP', [('กล่าวถึง', 'VACT'), ('การ', 'FIXN'), ('นำ', 'VACT'), ('วงจร', 'NCMN'), ('ชุมสายโทรศัพท์', 'NCMN'), ('บาง', 'DIBQ'), ('ส่วน', 'CNIT'), ('ที่', 'PREL'), ('เป็น', 'VSTA'), ('<space>', 'PUNC'), ('TTL', 'NCMN'), ('-', 'NCMN'), ('logic', 'NCMN'), ('<space>', 'PUNC'), ('มา', 'VACT'), ('ยุบ', 'VACT'), ('รวมอยู่', 'VSTA'), ('ใน', 'RPRE'), ('ไอซี', 'NCMN'), ('เพียง', 'DDBQ'), ('ตัว', 'CNIT'), ('เดียว', 'DCNM')])]),\n",
       " Tree('S', [Tree('NP', [('Field', 'NCMN'), ('<space>', 'NCMN'), ('ที่', 'DONM'), ('4', 'DONM'), ('<space>', 'PUNC'), ('สำหรับ', 'JSBR'), ('เก็บ', 'VACT'), ('ชื่อ', 'NCMN'), ('ของ', 'RPRE'), ('ผู้', 'PPRS'), ('เบิก', 'VACT'), ('สินค้า', 'NCMN'), ('แต่ละ', 'DIBQ'), ('ชนิด', 'CLTV')]), ('<space>', 'PUNC'), Tree('VP', [('เป็น', 'VSTA'), ('ตัวแปร', 'NCMN'), ('ชนิด', 'NCMN'), ('<space>', 'PUNC'), ('string', 'NCMN'), ('<space>', 'PUNC'), ('ขนาด', 'NCMN'), ('<space>', 'PUNC'), ('30', 'DCNM'), ('<space>', 'PUNC'), ('ตัวอักษร', 'CNIT')])]),\n",
       " Tree('S', [Tree('NP', [('ทำหน้าที่', 'VACT'), ('อ่าน', 'VACT'), ('ข้อมูล', 'NCMN')]), Tree('VP', [('จาก', 'VACT'), ('อินพุท', 'NCMN')])]),\n",
       " Tree('S', [Tree('NP', [('โดยเฉพาะอย่างยิ่ง', 'RPRE'), ('การ', 'FIXN'), ('แปล', 'VACT')]), ('โดย', 'JSBR'), Tree('VP', [('อาศัย', 'VACT'), ('วิธีการ', 'NCMN'), ('แบบ', 'NCMN'), ('<space>', 'PUNC'), ('Transfer', 'NCMN'), ('<space>', 'PUNC'), ('และ', 'NCMN'), ('<space>', 'PUNC'), ('Interlingua', 'NCMN'), ('<space>', 'NCMN'), ('แล้ว', 'ADVN')])]),\n",
       " Tree('S', [Tree('NP', [('SERVICE', 'NCMN')]), ('<space>', 'PUNC'), Tree('VP', [('มี', 'VSTA'), ('หน้าที่', 'NCMN'), ('เช่นเดียวกับ', 'RPRE'), ('โหมด', 'NCMN'), ('โปรแกรม', 'NCMN')])]),\n",
       " Tree('S', [Tree('NP', [('ส่วน', 'NCMN'), ('<space>', 'PUNC'), ('data', 'NCMN'), ('MD0-MD15', 'NCMN')]), ('<space>', 'PUNC'), Tree('VP', [('ผ่าน', 'VSTA'), ('<space>', 'PUNC'), ('buffer', 'NCMN'), ('<space>', 'PUNC'), ('ก่อน', 'RPRE'), ('จะ', 'XVBM'), ('เข้า', 'VACT'), ('สู่', 'RPRE'), ('<space>', 'PUNC'), ('CPU', 'NCMN'), ('local', 'NCMN'), ('data', 'NCMN'), ('bus', 'NCMN')])]),\n",
       " Tree('S', [Tree('NP', [('รูป', 'NCMN'), ('ที่', 'DONM'), ('1', 'DONM'), ('<space>', 'PUNC'), ('คอมพิวเตอร์', 'NCMN')]), Tree('VP', [('ถ่าย', 'VACT'), ('ภาพตัดขวาง', 'NCMN'), ('ร่างกาย', 'NCMN'), ('รุ่น', 'CNIT'), ('ที่', 'DONM'), ('1', 'DONM')])]),\n",
       " Tree('S', [('เนื่องจาก', 'JSBR'), Tree('NP', [('มี', 'NCMN')]), ('<space>', 'PUNC'), Tree('VP', [('สูง', 'VSTA'), ('<space>', 'NCMN'), ('และ', 'JCRG'), ('มี', 'VSTA'), ('แรงดัน', 'NCMN'), ('ตก', 'VACT'), ('คร่อม', 'VSTA'), ('ตัวมอทเฟส', 'NCMN'), ('ใน', 'RPRE'), ('ภาวะ', 'NCMN'), ('นำกระแส', 'VSTA'), ('ต่ำ', 'VATT'), ('<space>', 'PUNC'), ('เนื่องจาก', 'JSBR'), ('มี', 'VSTA'), ('ค่า', 'VACT'), ('<space>', 'PUNC'), ('ต่ำ', 'ADVN')])]),\n",
       " Tree('S', [('ถ้า', 'JSBR'), Tree('NP', [('<space>', 'FIXN'), ('PC', 'NCMN')]), ('<space>', 'PUNC'), Tree('VP', [('เขียน', 'VACT'), ('หรือ', 'JCRG'), ('อ่าน', 'VACT'), ('หน่วยความจำภาพ', 'NCMN')])]),\n",
       " Tree('S', [Tree('NP', [('คณะ', 'NCMN'), ('ผู้วิจัย', 'NCMN')]), ('<space>', 'PUNC'), Tree('VP', [('ขอ', 'XVBB'), ('ขอบคุณ', 'VACT'), ('บริษัท', 'NCMN'), ('และ', 'JCRG'), ('เจ้าหน้าที่', 'NCMN'), ('บริษัท', 'NCMN'), ('ทุก', 'DIBQ'), ('ท่าน', 'CNIT'), ('ที่', 'PREL'), ('มีส่วน', 'VSTA'), ('ช่วยเหลือ', 'VACT'), ('ให้', 'RPRE'), ('โครงการวิจัย', 'NCMN'), ('นี้', 'DDAC'), ('<space>', 'PUNC'), ('สำเร็จ', 'VSTA'), ('ลุล่วง', 'ADVN'), ('ได้', 'XVAE'), ('ด้วยดี', 'ADVN')])]),\n",
       " Tree('S', [Tree('NP', [('ใน', 'RPRE'), ('ขั้นตอน', 'NCMN'), ('สุดท้าย', 'DONM')]), Tree('VP', [('จะ', 'XVBM'), ('ต้อง', 'XVMM'), ('ทำ', 'VACT'), ('การ', 'FIXN'), ('เรียง', 'VACT'), ('คำ', 'NCMN'), ('ให้', 'JSBR'), ('อยู่', 'VSTA'), ('ใน', 'RPRE'), ('ตำแหน่ง', 'NCMN'), ('ที่', 'PREL'), ('ถูกต้อง', 'VATT')])]),\n",
       " Tree('S', [Tree('NP', [('รีจิสเตอร์', 'NCMN'), ('ทั้ง', 'DDBQ'), ('สี่', 'NCMN'), ('ตัว', 'NCMN'), ('นี้', 'DDAC')]), ('<space>', 'PUNC'), Tree('VP', [('ทำหน้าที่', 'VACT'), ('เหมือน', 'VSTA'), ('เป็น', 'VSTA'), ('ตัวเชื่อม', 'NCMN'), ('ใน', 'RPRE'), ('การ', 'FIXN'), ('ติดต่อ', 'VACT'), ('ระหว่าง', 'RPRE'), ('ซีพียู', 'NCMN'), ('กับ', 'RPRE'), ('รีจิสเตอร์', 'NCMN'), ('ภายใน', 'RPRE'), ('ไอซี', 'NCMN'), ('<space>', 'PUNC'), ('PWM', 'NCMN')])]),\n",
       " Tree('S', [Tree('NP', [('ขอ', 'NCMN')]), Tree('VP', [('ขอบพระคุณ', 'VACT'), ('ต่อ', 'RPRE'), ('คณาจารย์', 'NCMN'), ('ที่', 'PREL'), ('ห้องปฎิบัติการ', 'NCMN'), ('วิจัย', 'VACT'), ('อิเล็กทรอนิกส์', 'NCMN'), ('และ', 'JCRG'), ('สื่อสาร', 'VACT'), ('<space>', 'PUNC'), ('คณะ', 'NCMN'), ('วิศวกรรมศาสตร์', 'NCMN'), ('<space>', 'PUNC'), ('มหาวิทยาลัยเกษตรศาสตร์', 'NPRP'), ('<space>', 'PUNC'), ('ที่', 'FIXN'), ('ให้คำปรึกษา', 'VACT'), ('และ', 'JCRG'), ('ข้อมูล', 'NCMN'), ('ทาง', 'RPRE'), ('วิชาการ', 'NCMN')])]),\n",
       " Tree('S', [Tree('NP', [('ดัง', 'RPRE'), ('แสดง', 'NCMN'), ('ใน', 'RPRE'), ('รูป', 'NCMN')]), Tree('VP', [('ที่', 'JSBR'), ('4.1', 'NCNM')])]),\n",
       " Tree('S', [Tree('PP', [('โดย', 'RPRE'), ('เปลี่ยน', 'VACT')]), Tree('S', [('โครงสร้าง', 'NCMN'), ('ใน', 'RPRE'), ('ภาษากลาง', 'NCMN'), ('ให้', 'JSBR'), ('เป็น', 'VSTA'), ('ลักษณะ', 'NCMN'), ('โครงสร้าง', 'NCMN'), ('ใน', 'RPRE'), ('ภาษาเป้าหมาย', 'NCMN')])]),\n",
       " Tree('S', [Tree('NP', [('ขนาด', 'NCMN'), ('ของ', 'RPRE'), ('<space>', 'PUNC'), ('data', 'NCMN'), ('bus', 'NCMN')]), ('<space>', 'PUNC'), Tree('VP', [('จะ', 'XVBM'), ('เป็น', 'VSTA'), ('ขนาด', 'NCMN'), ('<space>', 'NCMN'), ('8', 'DCNM'), ('<space>', 'PUNC'), ('บิท', 'CMTR')])]),\n",
       " Tree('S', [Tree('PP', [('ยัง', 'RPRE'), ('สามารถ', 'XVAM'), ('นำไปใช้', 'VACT'), ('ใน', 'RPRE'), ('การ', 'FIXN'), ('เรียน', 'VACT')]), Tree('S', [('การ', 'FIXN'), ('สอน', 'VACT'), ('เรียงความ', 'NCMN'), ('หรือ', 'JCRG'), ('การ', 'FIXN'), ('แปล', 'VACT'), ('ระดับ', 'NCMN'), ('สูง', 'VATT'), ('ได้', 'VSTA')])]),\n",
       " Tree('S', [Tree('NP', [('รูป', 'NCMN'), ('ที่', 'DONM'), ('5', 'DONM'), ('<space>', 'PUNC'), ('ลักษณะ', 'NCMN'), ('ลวดลาย', 'NCMN'), ('ต้นแบบ', 'NCMN'), ('ของ', 'RPRE'), ('ดีมอส', 'NCMN'), ('แบบ', 'NCMN'), ('ต่างๆ', 'DIAC'), ('<space>', 'PUNC'), ('ที่', 'JSBR'), ('ทดลอง', 'VACT')]), Tree('VP', [('สร้าง', 'VACT'), ('ขึ้น', 'ADVN')])]),\n",
       " Tree('S', [Tree('NP', [('1.2', 'NCNM'), ('<space>', 'PUNC'), ('กรรมวิธี', 'NCMN'), ('ใน', 'RPRE'), ('การ', 'FIXN')]), Tree('VP', [('วิจัย', 'VACT')])]),\n",
       " Tree('S', [Tree('NP', [('การ', 'FIXN'), ('ใช้', 'VACT'), ('<space>', 'PUNC'), ('LSI', 'NCMN')]), ('<space>', 'PUNC'), Tree('VP', [('ทำให้', 'VACT'), ('สามารถ', 'XVAM'), ('แข่งขัน', 'VACT'), ('ใน', 'RPRE'), ('ตลาด', 'NCMN'), ('ได้', 'XVAE')])]),\n",
       " Tree('S', [Tree('NP', [('6', 'NCNM')]), Tree('VP', [('<full_stop>', 'VACT'), ('<space>', 'FIXN'), ('ภาคขยายเสียง', 'NCMN')])]),\n",
       " Tree('S', [Tree('NP', [('การ', 'FIXN'), ('พัฒนา', 'VACT'), ('ซอฟต์แวร์', 'NCMN'), ('สำหรับ', 'RPRE'), ('ระบบ', 'NCMN'), ('การ', 'FIXN'), ('จัดการ', 'VACT')]), Tree('VP', [('ใช้', 'VACT'), ('เงิน', 'NCMN'), ('งบประมาณแผ่นดิน', 'NCMN')])]),\n",
       " Tree('S', [Tree('NP', [('09.45', 'NCNM'), ('<minus>', 'PUNC'), ('10.45', 'NCNM'), ('<space>', 'PUNC'), ('ความ', 'FIXN')]), Tree('VP', [('ร่วมมือ', 'VACT'), ('ของ', 'RPRE'), ('ภาคเอกชน', 'NCMN'), ('กับ', 'RPRE'), ('โครงการวิจัยฯ', 'NCMN')])]),\n",
       " Tree('S', [Tree('NP', [('โดยเฉพาะอย่างยิ่ง', 'RPRE'), ('กรณี', 'NCMN'), ('ของ', 'RPRE'), ('ประโยค', 'NCMN'), ('ที่', 'PREL'), ('มี', 'VSTA'), ('ความหมาย', 'NCMN'), ('ค่อนข้าง', 'ADVN')]), Tree('VP', [('ลึกซึ้ง', 'VSTA')])]),\n",
       " Tree('S', [Tree('NP', [('โครงการฯ', 'NCMN'), ('<space>', 'PUNC'), ('นี้', 'DDAC')]), ('<space>', 'PUNC'), Tree('VP', [('ตั้งเป้าหมาย', 'VACT'), ('ไว้', 'XVAE'), ('ว่า', 'JSBR'), ('<space>', 'NCMN'), ('จะ', 'NCMN'), ('สามารถ', 'XVAM'), ('พัฒนา', 'VACT'), ('มอเตอร์ไฟฟ้า', 'NCMN'), ('ได้', 'XVAE'), ('อย่าง', 'FIXV'), ('น้อย', 'VATT'), ('<space>', 'PUNC'), ('6', 'DCNM'), ('<space>', 'PUNC'), ('รุ่น', 'CNIT')])]),\n",
       " Tree('S', [Tree('PP', [('ตัวอย่างเช่น', 'RPRE'), ('<space>', 'PUNC'), ('ความ', 'FIXN'), ('สัมพันธ์', 'VSTA'), ('ทาง', 'NCMN')]), Tree('S', [('ไวยากรณ์', 'NCMN'), ('แบบ', 'NCMN'), ('ที่', 'PREL'), ('เรียก', 'VSTA'), ('ว่า', 'JSBR'), ('<space>', 'PUNC'), ('Subject-of', 'NCMN'), ('<space>', 'PUNC'), ('นั้น', 'DDAC'), ('คือ', 'VSTA'), ('<space>', 'PUNC'), ('ความ', 'FIXN'), ('สัมพันธ์', 'VSTA'), ('ที่', 'PREL'), ('จะ', 'XVBM'), ('เกิดขึ้น', 'VSTA'), ('ได้', 'XVAE'), ('ระหว่าง', 'RPRE'), ('หน่วย', 'NCMN'), ('ที่', 'PREL'), ('มี', 'VSTA'), ('คุณสมบัติ', 'NCMN'), ('เป็น', 'VSTA'), ('นาม', 'NCMN')])]),\n",
       " Tree('S', [Tree('NP', [('ส่วน', 'NCMN'), ('<space>', 'PUNC'), ('data', 'NCMN'), ('bus', 'NCMN'), ('<space>', 'PUNC'), ('ของ', 'NCMN'), ('<space>', 'PUNC'), ('ROM', 'NCMN')]), ('<space>', 'PUNC'), Tree('VP', [('จะ', 'XVBM'), ('ต่อ', 'VACT'), ('ผ่าน', 'VSTA'), ('<space>', 'PUNC'), ('buffer', 'NCMN'), ('<space>', 'PUNC'), ('ก่อน', 'RPRE'), ('ต่อ', 'VACT'), ('เข้า', 'VACT'), ('กับ', 'RPRE'), ('<space>', 'PUNC'), ('System', 'NCMN'), ('data', 'NCMN'), ('bus', 'NCMN')])]),\n",
       " Tree('S', [Tree('NP', [('รูป', 'NCMN'), ('ที่', 'DONM'), ('10', 'DONM')]), ('<space>', 'PUNC'), Tree('VP', [('ภาพตัดขวาง', 'VACT'), ('ของ', 'RPRE'), ('น้ำ', 'NCMN'), ('และ', 'JCRG'), ('กระดูกหมู', 'NCMN'), ('ของ', 'RPRE'), ('อุปกรณ์', 'NCMN'), ('รังสีเอ็กซ์', 'NCMN'), ('แบบ', 'NCMN'), ('แกนทรี', 'NCMN'), ('<space>', 'PUNC'), ('C-arm', 'NCMN')])]),\n",
       " Tree('S', [Tree('NP', [('การ', 'FIXN'), ('ทำงาน', 'VACT'), ('ของ', 'RPRE'), ('วงจรสลับบัส', 'NCMN')]), Tree('VP', [('จะ', 'XVBM'), ('ถูก', 'XVAM'), ('ควบคุม', 'VACT'), ('ด้วย', 'RPRE'), ('ไมโครคอนโทรลเลอร์', 'NCMN'), ('ชนิด', 'NCMN'), ('ชิป', 'NCMN'), ('เดี่ยว', 'VATT'), ('<space>', 'PUNC'), ('ซึ่ง', 'JSBR'), ('จะ', 'XVBM'), ('รับ', 'VACT'), ('คำสั่ง', 'NCMN'), ('มา', 'XVAE'), ('จาก', 'RPRE'), ('<space>', 'PUNC'), ('IBM', 'NCMN'), ('PC', 'NCMN'), ('<space>', 'PUNC'), ('อีกที', 'ADVN'), ('หนึ่ง', 'NCMN'), ('ตามที่', 'RPRE'), ('ผู้ใช้', 'NCMN'), ('ต้องการ', 'VACT')])]),\n",
       " Tree('S', [('เพื่อให้', 'JSBR'), Tree('NP', [('ผู้ใช้สารนิเทศด้านวิทยาศาสตร์และเทคโนโลยี', 'RPRE'), ('<space>', 'FIXN'), ('หมายถึง', 'VSTA'), ('<space>', 'PUNC'), ('ผู้บริหาร', 'NCMN'), ('ระดับสูง', 'NCMN'), ('<space>', 'PUNC'), ('นักวิทยาศาสตร์', 'NCMN'), ('<space>', 'PUNC'), ('และ', 'RPRE'), ('ผู้ประกอบการอุตสาหกรรม', 'NCMN'), ('<space>', 'PUNC'), ('นักศึกษา', 'NCMN'), ('และ', 'JCRG'), ('บุคคล', 'NCMN'), ('ทั่วไป', 'VSTA'), ('สามารถ', 'XVAM'), ('ค้นคว้า', 'VACT'), ('<space>', 'NCMN'), ('และ', 'JCRG'), ('ใช้บริการ', 'VACT'), ('สารนิเทศ', 'NCMN'), ('<space>', 'PUNC'), ('จาก', 'RPRE'), ('ทรัพยากรห้องสมุด', 'NCMN'), ('ของ', 'RPRE'), ('สถาบันอุดมศึกษา', 'NCMN'), ('ร่วม', 'VACT'), ('โครงการ', 'NCMN')]), ('<space>', 'PUNC'), Tree('VP', [('ได้', 'VSTA'), ('อย่าง', 'FIXV'), ('สะดวก', 'ADVN'), ('ตรง', 'VSTA'), ('ตาม', 'RPRE'), ('ความ', 'FIXN'), ('ต้องการ', 'VACT'), ('ได้', 'XVAE'), ('ใน', 'RPRE'), ('เวลา', 'NCMN'), ('อัน', 'PREL'), ('รวดเร็ว', 'VATT')])]),\n",
       " Tree('S', [Tree('NP', [('3', 'NCNM'), ('<right_parenthesis>', 'PUNC'), ('<space>', 'NCMN'), ('การ', 'FIXN')]), Tree('VP', [('ออกแบบ', 'VACT'), ('และ', 'JCRG'), ('พัฒนา', 'VACT'), ('ซอฟท์แวร์ช่วยออกแบบวงจรรวม', 'NCMN'), ('<space>', 'PUNC'), ('NECTEC', 'NPRP'), ('<space>', 'PUNC'), ('I', 'NCMN')])]),\n",
       " Tree('S', [Tree('NP', [('ฉะนั้น', 'NCMN'), ('เวลา', 'NCMN'), ('ใน', 'RPRE'), ('การ', 'FIXN'), ('สแกน', 'VACT'), ('รอบ', 'RPRE'), ('คนไข้', 'NCMN')]), Tree('VP', [('จะ', 'XVBM'), ('ลด', 'VACT'), ('ลง', 'VACT'), ('ไป', 'XVAE'), ('ด้วย', 'ADVN')])]),\n",
       " Tree('S', [Tree('NP', [('2', 'NCMN'), ('<full_stop>', 'NCMN')]), ('<space>', 'PUNC'), Tree('VP', [('ต้อง', 'XVMM'), ('สามารถ', 'XVAM'), ('ป้องกัน', 'VACT'), ('แรงดันเสอร์จ', 'NCMN'), ('<space>', 'PUNC'), ('<left_parenthesis>', 'PUNC'), ('Surge', 'NCMN'), ('Voltage', 'NCMN'), ('<right_parenthesis>', 'PUNC'), ('<space>', 'PUNC'), ('ที่', 'PREL'), ('เกิด', 'VSTA'), ('ได้', 'XVAE')])]),\n",
       " Tree('S', [Tree('NP', [('CLK', 'NCMN'), ('<space>', 'FIXN'), ('เป็น', 'VSTA'), ('สัญญาณนาฬิกา', 'NCMN'), ('จาก', 'RPRE'), ('ระบบ', 'NCMN'), ('<space>', 'PUNC'), ('ซึ่ง', 'JSBR'), ('มี', 'VSTA'), ('ค่า', 'NCMN'), ('<space>', 'PUNC'), ('8', 'DCNM'), ('<space>', 'PUNC'), ('MHZ', 'CMTR')]), ('<space>', 'PUNC'), Tree('VP', [('ให้', 'VACT'), ('สำหรับ', 'RPRE'), ('อุปกรณ์', 'NCMN'), ('<space>', 'PUNC'), ('IO', 'NCMN'), ('<space>', 'PUNC'), ('ที่', 'PREL'), ('ต้องการ', 'XVMM'), ('ทำงาน', 'VACT'), ('<space>', 'FIXN'), ('Sychronize', 'VACT'), ('<space>', 'PUNC'), ('กับ', 'RPRE'), ('สัญญาณนาฬิกา', 'NCMN'), ('ของ', 'RPRE'), ('ระบบ', 'NCMN')])]),\n",
       " Tree('S', [Tree('NP', [('มี', 'NCMN'), ('ซอฟท์แวร์', 'NCMN')]), ('<space>', 'PUNC'), Tree('VP', [('ทั้ง', 'VACT'), ('<space>', 'NCMN'), ('ME', 'NCMN'), ('<space>', 'PUNC'), ('และ', 'NCMN'), ('<space>', 'PUNC'), ('EE', 'NCMN')])]),\n",
       " Tree('S', [Tree('NP', [('ข้อมูล', 'NCMN'), ('ที่', 'PREL'), ('จะ', 'XVBM'), ('ช่วย', 'VACT'), ('ได้', 'XVAE'), ('มาก', 'ADVN'), ('ใน', 'RPRE'), ('การ', 'FIXN'), ('วิเคราะห์', 'VACT'), ('ความ', 'FIXN'), ('สัมพันธ์', 'VSTA'), ('ทาง', 'NCMN'), ('ไวยากรณ์', 'NCMN'), ('<space>', 'PUNC'), ('เช่น', 'RPRE'), ('<space>', 'PUNC'), ('รูป', 'NCMN'), ('ของ', 'RPRE'), ('นาม', 'NCMN'), ('<space>', 'PUNC'), ('และ', 'RPRE'), ('รูป', 'NCMN'), ('ของ', 'RPRE'), ('กริยา', 'NCMN'), ('ตลอดจน', 'JCRG'), ('ความ', 'FIXN'), ('รับกัน', 'VSTA'), ('<space>', 'NCMN'), ('<left_parenthesis>', 'PUNC'), ('agreement', 'NCMN'), ('<right_parenthesis>', 'PUNC'), ('<space>', 'NCMN'), ('ของ', 'RPRE'), ('นาม', 'NCMN'), ('และ', 'JCRG'), ('กริยา', 'NCMN'), ('อย่าง', 'FIXV'), ('ใน', 'VATT'), ('ภาษาอังกฤษ', 'RPRE'), ('<space>', 'PUNC'), ('หรือ', 'JCRG'), ('ญี่ปุ่น', 'NPRP'), ('นั้น', 'DDAC')]), Tree('VP', [('ไม่', 'NEG'), ('มี', 'VSTA')])]),\n",
       " Tree('S', [Tree('NP', [('Card', 'NCMN'), ('<space>', 'NCMN'), ('พิเศษ', 'VATT'), ('ที่', 'PREL'), ('สร้าง', 'VACT'), ('ขึ้นมา', 'XVAE'), ('ทดลอง', 'VACT'), ('มี', 'VSTA'), ('อยู่', 'XVAE'), ('ด้วยกัน', 'ADVN'), ('<space>', 'PUNC'), ('4', 'DCNM'), ('<space>', 'PUNC'), ('cards', 'CNIT')]), ('<space>', 'PUNC'), Tree('VP', [('คือ', 'VSTA'), ('<space>', 'PUNC'), ('Card', 'NCMN'), ('<space>', 'PUNC'), ('สำหรับ', 'RPRE'), ('กระบวนการ', 'NCMN'), ('<space>', 'PUNC'), ('Segmentation', 'NCMN'), ('<comma>', 'PUNC'), ('<space>', 'FIXN'), ('Card', 'NCMN'), ('<space>', 'PUNC'), ('สำหรับ', 'RPRE'), ('การ', 'FIXN'), ('รู้จำ', 'VACT'), ('ตัวอักษร', 'NCMN'), ('ตัวพิมพ์', 'NCMN'), ('ภาษาไทย', 'NPRP'), ('<space>', 'PUNC'), ('Card', 'NCMN'), ('<space>', 'PUNC'), ('สำหรับ', 'RPRE'), ('การ', 'FIXN'), ('รู้จัก', 'VSTA'), ('ตัวอักษร', 'NCMN'), ('ตัวพิมพ์', 'NCMN'), ('ใหญ่', 'VATT'), ('ภาษาอังกฤษ', 'NCMN'), ('<space>', 'PUNC'), ('และ', 'NCMN'), ('<space>', 'PUNC'), ('Card', 'NCMN'), ('<space>', 'PUNC'), ('สำหรับ', 'RPRE'), ('การ', 'FIXN'), ('รู้จำ', 'VACT'), ('อักษร', 'NCMN'), ('ตัวพิมพ์', 'NCMN'), ('ภาษาไทย', 'NCMN'), ('อังกฤษ', 'NPRP')])]),\n",
       " Tree('S', [('เพราะ', 'JSBR'), Tree('NP', [('เมื่อ', 'RPRE'), ('ทำ', 'NCMN'), ('การ', 'FIXN'), ('ต่อเชื่อม', 'VACT'), ('เข้ากับ', 'RPRE'), ('สัญญาณนาฬิการะบบ', 'NCMN'), ('<space>', 'PUNC'), ('<left_parenthesis>', 'PUNC'), ('System', 'NCMN'), ('Clock', 'NCMN'), ('<right_parenthesis>', 'PUNC'), ('<space>', 'PUNC'), ('อุปกรณ์', 'NCMN'), ('หน่วยความจำ', 'NCMN'), ('และ', 'JCRG'), ('อุปกรณ์', 'NCMN'), ('<space>', 'PUNC'), ('I', 'NCMN')]), ('<space>', 'PUNC'), Tree('VP', [('ก็', 'JSBR'), ('สามารถ', 'XVAM'), ('ทำงาน', 'VACT'), ('เป็น', 'RPRE'), ('ระบบ', 'NCMN'), ('ได้', 'XVAE'), ('ทันที', 'ADVN')])]),\n",
       " Tree('S', [Tree('NP', [('3', 'NCNM')]), Tree('VP', [('<full_stop>', 'VACT'), ('<space>', 'PUNC'), ('หลัก', 'ADVN'), ('การ', 'FIXN'), ('ทำงาน', 'VACT'), ('และ', 'JCRG'), ('โครงสร้าง', 'NCMN'), ('ภายใน', 'VATT'), ('ของ', 'RPRE'), ('<space>', 'PUNC'), ('Data', 'NCMN'), ('Logger', 'NCMN')])]),\n",
       " Tree('S', [Tree('NP', [('ข้อมูล', 'NCMN'), ('ดังกล่าว', 'DDAN'), ('ทั้งหมด', 'PDMN')]), Tree('VP', [('จะ', 'XVBM'), ('ถูก', 'XVAM'), ('เก็บ', 'VACT'), ('อยู่', 'XVAE'), ('ใน', 'RPRE'), ('<space>', 'PUNC'), ('Semantic', 'NCMN'), ('Block', 'NCMN'), ('<space>', 'PUNC'), ('ของ', 'RPRE'), ('พจนานุกรม', 'NCMN')])]),\n",
       " Tree('S', [Tree('NP', [('ซึ่ง', 'NCMN')]), Tree('VP', [('สามารถ', 'XVAM'), ('สร้าง', 'VACT'), ('ได้', 'XVAE'), ('บรรลุ', 'VSTA'), ('เป้าหมาย', 'NCMN')])]),\n",
       " Tree('S', [Tree('NP', [('มี', 'NCMN'), ('<space>', 'PUNC'), ('นาย', 'NCMN'), ('ไพรัช', 'NPRP'), ('<space>', 'PUNC'), ('ธัชยพงษ์', 'NPRP'), ('<space>', 'PUNC'), ('ผู้อำนวยการ', 'NCMN'), ('ศูนย์เทคโนโลยีอิเล็กทรอนิกส์และคอมพิวเตอร์แห่งชาติ', 'NPRP')]), Tree('VP', [('เป็น', 'VSTA'), ('ประธาน', 'NCMN'), ('อนุกรรมการ', 'NCMN')])]),\n",
       " Tree('S', [Tree('NP', [('วิธี', 'NCMN')]), Tree('VP', [('ทดลอง', 'VACT')])]),\n",
       " Tree('S', [Tree('NP', [('1', 'NCNM')]), Tree('VP', [('<full_stop>', 'VACT'), ('<space>', 'FIXN'), ('บทนำ', 'NCMN')])]),\n",
       " Tree('S', [Tree('NP', [('4', 'NCNM'), ('<right_parenthesis>', 'PUNC'), ('<space>', 'FIXN'), ('Display', 'NCMN'), ('Management', 'NCMN')]), ('<space>', 'PUNC'), Tree('VP', [('เป็น', 'VSTA'), ('โปรแกรม', 'NCMN'), ('จัดการ', 'VACT'), ('เกี่ยวกับ', 'RPRE'), ('การ', 'FIXN'), ('แสดง', 'VACT'), ('ผล', 'NCMN'), ('<space>', 'PUNC'), ('ที่', 'JSBR'), ('ได้', 'XVAM'), ('ทำ', 'VACT'), ('การ', 'FIXN'), ('ประมวล', 'VACT'), ('เรียบร้อยแล้ว', 'ADVN')])]),\n",
       " Tree('S', [Tree('NP', [('และ', 'NCMN'), ('การ', 'FIXN'), ('สนับสนุน', 'VACT'), ('จาก', 'RPRE'), ('ศูนย์เทคโนโลยีอิเล็กทรอนิกส์และคอมพิวเตอร์', 'NPRP')]), Tree('VP', [('ยัง', 'XVBM'), ('อยู่', 'VSTA'), ('ใน', 'RPRE'), ('ขอบเขต', 'NCMN'), ('จำกัด', 'VACT'), ('<space>', 'PUNC'), ('ไม่', 'NEG'), ('พอเพียง', 'ADVN'), ('ใน', 'RPRE'), ('การ', 'FIXN'), ('จัด', 'VACT'), ('ฐานข้อมูล', 'NCMN'), ('ได้', 'XVAE'), ('รวดเร็ว', 'ADVN'), ('ตามที่', 'JSBR'), ('ต้องการ', 'VACT')])]),\n",
       " Tree('S', [Tree('NP', [('SAO-SA19', 'NCMN'), ('<space>', 'PUNC'), ('เป็น', 'RPRE'), ('<space>', 'PUNC'), ('system', 'NCMN'), ('address', 'NCMN')]), ('<space>', 'PUNC'), Tree('VP', [('ส่งออก', 'VACT'), ('จาก', 'RPRE'), ('ระบบ', 'NCMN')])]),\n",
       " Tree('S', [Tree('NP', [('รูป', 'NCMN'), ('ที่', 'DONM'), ('2', 'DONM')]), ('<space>', 'PUNC'), Tree('VP', [('แสดง', 'VACT'), ('ภาพ', 'NCMN'), ('ตัดขวาง', 'NCMN'), ('ของ', 'RPRE'), ('ผลึก', 'NCMN'), ('ซิลิกอน', 'NCMN'), ('<space>', 'NCMN'), ('ตามลำดับ', 'ADVN'), ('ขั้นตอน', 'NCMN'), ('ของ', 'RPRE'), ('การ', 'FIXN'), ('สร้าง', 'VACT')])]),\n",
       " Tree('S', [Tree('PP', [('ใน', 'RPRE'), ('การ', 'FIXN'), ('ทดลอง', 'VACT')]), Tree('S', [('วิจัย', 'NCMN'), ('ใช้', 'VACT'), ('ศักดาไฟฟ้า', 'NCMN'), ('<space>', 'NCMN'), ('60', 'DCNM'), ('<space>', 'PUNC'), ('kV', 'CMTR'), ('<space>', 'PUNC'), ('1', 'DCNM'), ('<space>', 'PUNC'), ('mA', 'CMTR')])]),\n",
       " Tree('S', [Tree('NP', [('2', 'NCMN'), ('<full_stop>', 'NCMN')]), ('<space>', 'PUNC'), Tree('VP', [('เลือก', 'VACT'), ('ส่วน', 'NCMN'), ('ของ', 'RPRE'), ('วงจร', 'NCMN'), ('ที่', 'PREL'), ('จะ', 'XVBM'), ('ทำ', 'VACT'), ('เป็น', 'VSTA'), ('<space>', 'PUNC'), ('ASCD', 'NCMN'), ('<space>', 'PUNC'), ('โดย', 'JSBR'), ('สรุป', 'VACT'), ('ได้', 'XVAE'), ('ว่า', 'RPRE'), ('เหมาะสม', 'VATT'), ('ที่จะ', 'JSBR'), ('รวม', 'VACT'), ('วงจรตู้ชุมสาย', 'NCMN'), ('ขนาด', 'NCMN'), ('เล็ก', 'VATT'), ('<space>', 'PUNC'), ('ใน', 'RPRE'), ('ส่วน', 'NCMN'), ('ของ', 'RPRE'), ('<space>', 'PUNC'), ('TTL', 'NCMN'), ('Logic', 'NCMN'), ('<space>', 'PUNC'), ('ทั้งหมด', 'PDMN'), ('หรือ', 'JCRG'), ('ให้', 'VACT'), ('มาก', 'ADVN'), ('ที่สุด', 'ADVN'), ('ที่', 'PREL'), ('เป็นไปได้', 'VSTA')])]),\n",
       " Tree('S', [Tree('NP', [('อุปกรณ์', 'NCMN'), ('ที่', 'PREL'), ('นำ', 'VACT'), ('มา', 'XVAE'), ('ต่อ', 'RPRE'), ('ทาง', 'NCMN'), ('<space>', 'PUNC'), ('extension', 'NCMN'), ('slot', 'NCMN')]), ('<space>', 'PUNC'), Tree('VP', [('ยัง', 'XVBM'), ('สามารถ', 'XVAM'), ('ทำงาน', 'VACT'), ('ใน', 'RPRE'), ('ลักษณะ', 'NCMN'), ('<space>', 'PUNC'), ('multimaster', 'NCMN')])]),\n",
       " Tree('S', [Tree('NP', [('โครงการ', 'NCMN'), ('นี้', 'DDAC')]), Tree('VP', [('อยู่', 'VSTA'), ('ใน', 'RPRE'), ('ขั้นตอน', 'NCMN'), ('ระหว่าง', 'RPRE'), ('การ', 'FIXN'), ('พัฒนา', 'VACT')])]),\n",
       " Tree('S', [Tree('NP', [('และ', 'NCMN')]), Tree('VP', [('มี', 'VSTA'), ('เอาท์พุท', 'NCMN'), ('อย่างไร', 'PNTR')])]),\n",
       " Tree('S', [Tree('NP', [('และ', 'NCMN')]), Tree('VP', [('ได้', 'XVAM'), ('ทดลอง', 'VACT'), ('กับ', 'RPRE'), ('อินพุท', 'NCMN'), ('ที่', 'PREL'), ('เป็น', 'VSTA'), ('แรงดัน', 'NCMN'), ('ซึ่ง', 'PREL'), ('ได้', 'VSTA'), ('จาก', 'RPRE'), ('แหล่ง', 'NCMN'), ('กำเนิด', 'VSTA'), ('แรงดัน', 'NCMN')])]),\n",
       " Tree('S', [Tree('NP', [('3', 'NCMN'), ('<full_stop>', 'NCMN'), ('<space>', 'PUNC'), ('การ', 'FIXN'), ('พิจารณา', 'VACT'), ('<space>', 'PUNC'), ('part', 'NCMN'), ('of', 'NCMN'), ('speech', 'NCMN'), ('<space>', 'PUNC'), ('จาก', 'RPRE'), ('<space>', 'PUNC'), ('ลักษณะ', 'NCMN'), ('ของ', 'RPRE'), ('<space>', 'PUNC'), ('morphological', 'NCMN')]), ('<space>', 'PUNC'), Tree('VP', [('เช่น', 'VSTA'), ('<space>', 'PUNC'), ('กริยา', 'NCMN'), ('<space>', 'PUNC'), ('คุณศัพท์', 'NCMN')])]),\n",
       " Tree('S', [Tree('NP', [('และ', 'NCMN'), ('ด้านส่ง', 'NCMN'), ('มี', 'VSTA'), ('วงจร', 'NCMN'), ('<space>', 'PUNC'), ('D', 'NCMN'), ('<space>', 'PUNC'), ('สำหรับ', 'JSBR'), ('แปลง', 'VACT'), ('ข้อมูลภาพ', 'NCMN'), ('กลับไป', 'XVAE'), ('เป็น', 'VSTA'), ('สัญญาณคอมโพลิท', 'NCMN')]), ('<space>', 'PUNC'), Tree('VP', [('ส่งออก', 'VACT'), ('ไป', 'XVAE'), ('แสดง', 'VACT'), ('ที่', 'RPRE'), ('จอมอนิเตอร์', 'NCMN')])]),\n",
       " Tree('S', [Tree('NP', [('ตาราง', 'NCMN')]), Tree('VP', [('ที่', 'JSBR'), ('1', 'NCNM'), ('<space>', 'PUNC'), ('จำนวน', 'NCMN'), ('บุคลากร', 'NCMN')])]),\n",
       " Tree('S', [Tree('NP', [('การ', 'FIXN')]), Tree('VP', [('ออกแบบ', 'VACT'), ('สเตอร์', 'NCMN')])]),\n",
       " Tree('S', [Tree('NP', [('นั่น', 'PDMN'), ('คือ', 'VSTA'), ('<space>', 'PUNC'), ('Case', 'NCMN')]), ('<space>', 'PUNC'), Tree('VP', [('จะ', 'XVBM'), ('เป็น', 'VSTA'), ('โนด', 'NCMN'), ('ลูก', 'NCMN'), ('<space>', 'PUNC'), ('<left_parenthesis>', 'PUNC'), ('Daughter', 'NCMN'), ('or', 'NCMN'), ('Sister', 'NCMN'), ('Node', 'NCMN'), ('<right_parenthesis>', 'PUNC'), ('<space>', 'PUNC'), ('ที่', 'PREL'), ('แตกกิ่ง', 'VACT'), ('มา', 'XVAE'), ('จาก', 'RPRE'), ('<space>', 'PUNC'), ('CP', 'NCMN'), ('<space>', 'PUNC'), ('ที่', 'JSBR'), ('เป็น', 'VSTA'), ('โนด', 'NCMN'), ('แม่', 'NCMN'), ('เสมอ', 'ADVN')])]),\n",
       " Tree('S', [Tree('NP', [('คอมพิวเตอร์', 'NCMN')]), Tree('VP', [('ถ่าย', 'VACT'), ('ภาพตัดขวาง', 'NCMN'), ('ร่างกาย', 'NCMN'), ('ได้', 'XVAM'), ('พัฒนา', 'VACT'), ('ตลอดเวลา', 'ADVN')])]),\n",
       " Tree('S', [('นอกจากนี้', 'JSBR'), Tree('NP', [('บน', 'NCMN'), ('<space>', 'PUNC'), ('mainboard', 'NCMN'), ('<space>', 'PUNC'), ('ยัง', 'RPRE'), ('มี', 'VSTA'), ('<space>', 'PUNC'), ('IC', 'NCMN')]), ('<space>', 'PUNC'), Tree('VP', [('พิเศษ', 'ADVN'), ('ทำ', 'VACT'), ('หน้าที่', 'NCMN'), ('ต่างๆ', 'DIAC')])]),\n",
       " Tree('S', [Tree('NP', [('และ', 'NCMN')]), Tree('VP', [('หายไป', 'VSTA'), ('เมื่อ', 'JSBR'), ('ได้', 'XVAM'), ('อ่าน', 'VACT'), ('คำสั่ง', 'NCMN'), ('มา', 'XVAE'), ('เรียบร้อยแล้ว', 'ADVN')])]),\n",
       " Tree('S', [Tree('NP', [('งานวิจัย', 'NCMN'), ('หลาย', 'DIBQ'), ('ชิ้น', 'CNIT'), ('ที่', 'PREL'), ('ศึกษา', 'VACT'), ('เกี่ยวกับ', 'RPRE'), ('กริยา', 'NCMN'), ('ทำ', 'VACT'), ('<space>', 'PUNC'), ('ภายใต้', 'RPRE'), ('กรอบ', 'NCMN'), ('ไวยากรณ์การก', 'NCMN'), ('<space>', 'PUNC'), ('<left_parenthesis>', 'PUNC'), ('Case', 'NCMN'), ('Grammar', 'NCMN'), ('<right_parenthesis>', 'PUNC'), ('<space>', 'PUNC'), ('แต่', 'JCRG'), ('ปัญหา', 'NCMN')]), Tree('VP', [('คือ', 'VSTA'), ('ผู้วิจัย', 'NCMN'), ('ได้', 'XVAM'), ('เสนอ', 'VACT'), ('ชุด', 'NCMN'), ('ของ', 'RPRE'), ('การกสัมพันธ์', 'NCMN'), ('<space>', 'PUNC'), ('<left_parenthesis>', 'PUNC'), ('Case', 'NCMN'), ('Relations', 'NCMN'), ('<right_parenthesis>', 'PUNC'), ('<space>', 'PUNC'), ('ที่', 'PREL'), ('มี', 'VSTA'), ('จำนวน', 'NCMN'), ('และ', 'JCRG'), ('ชนิด', 'NCMN'), ('แตกต่าง', 'VSTA'), ('กัน', 'ADVN')])]),\n",
       " Tree('S', [Tree('NP', [('PC', 'NCMN'), ('<space>', 'PUNC'), ('ที่', 'PREL'), ('ได้', 'XVAM'), ('ออกแบบ', 'VACT'), ('และ', 'JCRG'), ('พัฒนา', 'VACT'), ('ขึ้น', 'ADVN')]), ('<space>', 'PUNC'), Tree('VP', [('มี', 'VSTA'), ('ความ', 'FIXN'), ('สามารถ', 'XVAM'), ('ควบคุม', 'VACT'), ('ระบบ', 'NCMN'), ('การ', 'FIXN'), ('ควบคุม', 'VACT'), ('แบบ', 'NCMN'), ('ลำดับ', 'NCMN'), ('<space>', 'PUNC'), ('<left_parenthesis>', 'PUNC'), ('Sequence', 'NCMN'), ('Control', 'NCMN'), ('<right_parenthesis>', 'PUNC'), ('<space>', 'PUNC'), ('ได้', 'XVAE'), ('ตามที่', 'JSBR'), ('กำหนด', 'VACT'), ('ทุก', 'DIBQ'), ('ประการ', 'CNIT')])]),\n",
       " Tree('S', [Tree('NP', [('และ', 'NCMN')]), Tree('VP', [('ตาม', 'VACT'), ('ด้วย', 'RPRE'), ('<space>', 'PUNC'), ('OPERAND', 'NCMN'), ('ADDNESS', 'NCMN'), ('<space>', 'FIXN'), ('ใน', 'VATT'), ('อีก', 'ADVN'), ('<space>', 'PUNC'), ('2', 'DCNM'), ('<space>', 'PUNC'), ('Byte', 'CMTR'), ('<space>', 'PUNC'), ('ถัดไป', 'VSTA')])]),\n",
       " Tree('S', [('สำหรับ', 'JSBR'), Tree('NP', [('ระบบ', 'NCMN'), ('ที่', 'DONM'), ('2', 'DONM')]), ('<space>', 'PUNC'), Tree('VP', [('ใช้', 'VACT'), ('ซอฟท์แวร์', 'NCMN'), ('ออกแบบ', 'VACT'), ('<space>', 'PUNC'), ('ISD', 'NCMN'), ('3', 'NCMN'), ('<space>', 'NCMN'), ('และ', 'JCRG'), ('ส่ง', 'VACT'), ('เจือสาร', 'VACT'), ('ที่', 'RPRE'), ('<space>', 'PUNC'), ('ORBIT', 'NCMN'), ('<space>', 'PUNC'), ('ใน', 'RPRE'), ('ประเทศ', 'NCMN'), ('สหรัฐอเมริกา', 'NPRP')])]),\n",
       " Tree('S', [Tree('NP', [('การ', 'FIXN'), ('แปล', 'VACT'), ('ภาษา', 'NCMN'), ('โดย', 'RPRE'), ('มนุษย์', 'NCMN'), ('นอกจาก', 'JSBR'), ('จะ', 'XVBM'), ('ล่าช้า', 'VSTA')]), ('<space>', 'PUNC'), Tree('VP', [('ไม่', 'NEG'), ('ทัน', 'VSTA'), ('ต่อ', 'RPRE'), ('ความ', 'FIXN'), ('ต้องการ', 'VACT'), ('ใน', 'RPRE'), ('การ', 'FIXN'), ('พัฒนา', 'VACT'), ('ด้าน', 'NCMN'), ('เทคโนโลยี', 'NCMN'), ('แล้ว', 'ADVN')])]),\n",
       " Tree('S', [Tree('NP', [('2', 'NCNM')]), Tree('VP', [('<full_stop>', 'VACT'), ('<space>', 'NCMN'), ('Passivization', 'NPRP'), ('in', 'NPRP'), ('Thai', 'NPRP'), ('<space>', 'PUNC'), ('โดย', 'RPRE'), ('<space>', 'PUNC'), ('Chinda', 'NPRP'), ('Ngamsutdi', 'NPRP'), ('<space>', 'PUNC'), ('พ.ศ.', 'NCMN'), ('<space>', 'PUNC'), ('2510', 'NCNM')])]),\n",
       " Tree('S', [Tree('NP', [('รูป', 'NCMN'), ('ที่', 'DONM'), ('2', 'DONM'), ('<space>', 'PUNC'), ('คอมพิวเตอร์', 'NCMN')]), Tree('VP', [('ถ่าย', 'VACT'), ('ภาพตัดขวาง', 'NCMN'), ('ร่างกาย', 'NCMN'), ('รุ่น', 'CNIT'), ('ที่', 'DONM'), ('2', 'DONM')])]),\n",
       " Tree('S', [('ฉะนั้น', 'JSBR'), Tree('NP', [('โอกาส', 'NCMN'), ('ที่', 'PREL'), ('จะ', 'XVBM'), ('ใช้', 'VSTA'), ('<space>', 'PUNC'), ('extend', 'NCMN'), ('memory', 'NCMN')]), ('<space>', 'PUNC'), Tree('VP', [('จึง', 'XVBM'), ('น้อย', 'VATT'), ('มาก', 'ADVN')])]),\n",
       " Tree('S', [Tree('NP', [('ฐานข้อมูล', 'NCMN')]), Tree('VP', [('อาจ', 'XVMM'), ('หมายถึง', 'VSTA'), ('<space>', 'PUNC'), ('เอกสาร', 'NCMN'), ('<space>', 'PUNC'), ('สิ่งพิมพ์', 'NCMN'), ('<space>', 'PUNC'), ('หนังสือ', 'NCMN'), ('และ', 'JCRG'), ('วารสาร', 'NCMN'), ('ทั้งหมด', 'ADVN'), ('ที่', 'PREL'), ('มี', 'VACT'), ('ใน', 'RPRE'), ('ห้องสมุด', 'NCMN'), ('<space>', 'PUNC'), ('บัตรรายการ', 'NCMN'), ('ตลอดจน', 'JCRG'), ('ดรรชนี', 'NCMN'), ('วารสาร', 'NCMN'), ('ได้', 'XVAE')])]),\n",
       " Tree('S', [Tree('NP', [('ไมโครคอนโทรลเลอร์', 'NCMN'), ('จะ', 'XVBM'), ('รับ', 'VACT'), ('คำสั่ง', 'NCMN'), ('และ', 'JCRG'), ('รายงาน', 'VACT'), ('สถานะ', 'NCMN'), ('กับ', 'RPRE'), ('<space>', 'PUNC'), ('IBM', 'NCMN'), ('PC', 'NCMN'), ('<space>', 'PUNC'), ('โดย', 'JSBR'), ('ตรง', 'VSTA')]), ('<space>', 'PUNC'), Tree('VP', [('ผ่าน', 'VSTA'), ('ทาง', 'RPRE'), ('พอร์ท', 'NCMN'), ('300', 'NCMN')])]),\n",
       " Tree('S', [Tree('NP', [('และ', 'NCMN')]), Tree('VP', [('มุ่ง', 'VACT'), ('พัฒนา', 'VACT'), ('ให้', 'JSBR'), ('เข้าสู่', 'VACT'), ('เทคโนโลยี', 'NCMN'), ('มาตรฐาน', 'NCMN'), ('ต่อไป', 'ADVN')])]),\n",
       " Tree('S', [Tree('NP', [('17', 'NCNM'), ('<space>', 'PUNC'), ('collocations', 'NCMN'), ('<space>', 'NCMN'), ('<minus>', 'PUNC'), ('<space>', 'NCMN'), ('การ', 'FIXN'), ('เกิด', 'VSTA'), ('ร่วม', 'ADVN'), ('ของ', 'RPRE'), ('คำ', 'NCMN'), ('ใน', 'RPRE'), ('ประโยค', 'NCMN'), ('<space>', 'PUNC'), ('คำ', 'NCMN'), ('บาง', 'DIBQ'), ('คำ', 'CNIT')]), Tree('VP', [('ไม่', 'NEG'), ('เกิด', 'VSTA'), ('ร่วม', 'ADVN'), ('กับ', 'RPRE'), ('คำ', 'NCMN'), ('ทั่วไป', 'VATT')])]),\n",
       " Tree('S', [Tree('PP', [('โดย', 'RPRE'), ('การ', 'FIXN'), ('ปรึกษา', 'VACT')]), Tree('S', [('การ', 'FIXN'), ('ทำงาน', 'VACT'), ('ร่วม', 'VACT'), ('กับ', 'RPRE'), ('การ', 'FIXN'), ('ทำ', 'VACT'), ('ซอฟต์แวร์', 'NCMN'), ('สำหรับ', 'RPRE'), ('การ', 'FIXN'), ('แยกแยะ', 'VACT'), ('ตัวอักษร', 'NCMN')])]),\n",
       " Tree('S', [('เนื่องจากว่า', 'JSBR'), Tree('NP', [('หลักการ', 'NCMN'), ('สำหรับ', 'RPRE'), ('แยกแยะ', 'VACT'), ('ตัวอักษร', 'NCMN'), ('ที่', 'PREL'), ('อ่าน', 'VACT'), ('เข้ามา', 'VACT')]), ('<space>', 'PUNC'), Tree('VP', [('คือ', 'VSTA'), ('<space>', 'PUNC'), ('ตัวอักษร', 'NCMN'), ('ใด', 'DIAC'), ('นั้น', 'DDAC')])]),\n",
       " Tree('S', [Tree('NP', [('ไอซี', 'NCMN'), ('<space>', 'PUNC'), ('PWM', 'NCMN')]), ('<space>', 'PUNC'), Tree('VP', [('กำเนิด', 'VSTA'), ('สัญญาณ', 'NCMN'), ('ที่', 'PREL'), ('ความ', 'FIXN'), ('ถี่', 'VATT'), ('สวิตช์', 'VACT'), ('<space>', 'NCMN'), ('4.88', 'DCNM'), ('<space>', 'PUNC'), ('Mhz', 'CMTR')])]),\n",
       " Tree('S', [Tree('NP', [('มี', 'NCMN'), ('เมนู', 'NCMN')]), Tree('VP', [('ให้', 'VACT'), ('เลือก', 'VACT')])]),\n",
       " Tree('S', [('หาก', 'JSBR'), Tree('NP', [('ต้องการ', 'VACT'), ('ให้', 'VACT'), ('เก็บ', 'VACT'), ('ข้อมูล', 'NCMN'), ('นานๆ', 'ADVS'), ('<space>', 'FIXN'), ('จำเป็นจะต้อง', 'XVMM'), ('ทำ', 'VACT'), ('การ', 'FIXN')]), ('<space>', 'PUNC'), Tree('VP', [('Refresh', 'VACT'), ('<space>', 'FIXN'), ('ข้อมูล', 'NCMN'), ('ตลอดเวลา', 'ADVN')])]),\n",
       " Tree('S', [('ตาม', 'JSBR'), Tree('NP', [('วัตถุประสงค์', 'NCMN'), ('ของ', 'RPRE'), ('โครงการวิจัย', 'NCMN'), ('นี้', 'DDAC')]), ('<space>', 'PUNC'), Tree('VP', [('มุ่ง', 'VACT'), ('ใช้', 'VACT'), ('กับ', 'RPRE'), ('ไมโครคอมพิวเตอร์', 'NCMN'), ('ที่', 'PREL'), ('มี', 'VSTA'), ('ราคา', 'NCMN'), ('ไม่', 'NEG'), ('แพง', 'VATT'), ('นัก', 'ADVN')])]),\n",
       " Tree('S', [Tree('S', [('องค์กร', 'NCMN'), ('หลัก', 'VATT'), ('ให้', 'JSBR'), ('ได้มา', 'VSTA')]), ('ซึ่ง', 'JSBR'), Tree('S', [('วงจรรวม', 'NCMN'), ('ขนาด', 'NCMN'), ('ใหญ่', 'VATT'), ('มาก', 'ADVN'), ('<space>', 'PUNC'), ('มี', 'NCMN'), ('<space>', 'PUNC'), ('3', 'NCNM'), ('<space>', 'PUNC'), ('องค์กร', 'NCMN'), ('หลักๆ', 'VATT'), ('<space>', 'PUNC'), ('คือ', 'VSTA'), ('<space>', 'PUNC'), ('ผู้ผลิต', 'NCMN'), ('ผลิตภัณฑ์', 'NCMN'), ('<space>', 'PUNC'), ('ผู้ออกแบบ', 'NCMN'), ('วงจรรวม', 'NCMN'), ('<space>', 'PUNC'), ('และ', 'NCMN'), ('ผู้ผลิต', 'NCMN'), ('วงจรรวม', 'NCMN')])]),\n",
       " Tree('S', [Tree('NP', [('ลักษณะ', 'NCMN'), ('ลายเส้น', 'NCMN'), ('ของ', 'RPRE'), ('ตัวอักษร', 'NCMN')]), Tree('VP', [('จะ', 'XVBM'), ('ถูก', 'XVAM'), ('แทน', 'VSTA'), ('ด้วย', 'RPRE'), ('รหัส', 'NCMN'), ('<space>', 'PUNC'), ('1', 'NCNM')])]),\n",
       " Tree('S', [Tree('NP', [('ข', 'NCMN'), ('<right_parenthesis>', 'PUNC'), ('<space>', 'FIXN'), ('คำคุณศัพท์', 'NCMN'), ('ที่', 'PREL'), ('ทำหน้าที่', 'VACT'), ('คล้าย', 'VSTA'), ('คำกริยา', 'NCMN'), ('<space>', 'PUNC'), ('เช่น', 'RPRE'), ('<space>', 'PUNC'), ('สวย', 'NCMN'), ('<space>', 'NCMN'), ('หอม', 'VATT'), ('<space>', 'NCMN'), ('ใหญ่', 'VATT')]), ('<space>', 'PUNC'), Tree('VP', [('สูง', 'VSTA')])]),\n",
       " Tree('S', [Tree('S', [('สิ่ง', 'NCMN'), ('หนึ่ง', 'DCNM'), ('ที่', 'RPRE'), ('ประเทศไทย', 'NPRP'), ('สามารถ', 'XVAM'), ('ทำ', 'VACT'), ('ได้', 'XVAE'), ('ทันที', 'ADVN')]), ('ในขณะนี้', 'JSBR'), Tree('S', [('เกี่ยวกับ', 'RPRE'), ('ตัว', 'NCMN'), ('วาง', 'VACT'), ('วงจรรวม', 'NCMN'), ('นี้', 'DDAC'), ('คือ', 'VSTA'), ('<space>', 'PUNC'), ('ทาง', 'NCMN'), ('ด้าน', 'RPRE'), ('การ', 'FIXN'), ('ออกแบบ', 'VACT'), ('วงจรรวม', 'NCMN')])]),\n",
       " Tree('S', [Tree('NP', [('3', 'NCNM'), ('<full_stop>', 'PUNC'), ('<space>', 'FIXN'), ('ทดลอง', 'VACT')]), Tree('VP', [('ปฏิบัติการ', 'VACT'), ('บันทึก', 'VACT'), ('และ', 'JCRG'), ('เรียก', 'VACT'), ('ใช้', 'VACT'), ('ตลอดจน', 'JCRG'), ('ปรับปรุง', 'VACT'), ('ข้อมูล', 'NCMN')])]),\n",
       " Tree('S', [('ซึ่ง', 'JSBR'), Tree('NP', [('ขอบเขต', 'NCMN'), ('ของ', 'RPRE'), ('<space>', 'PUNC'), ('morpheme', 'NCMN')]), ('<space>', 'PUNC'), Tree('VP', [('นี้', 'JSBR'), ('กำหนด', 'VACT'), ('ด้วย', 'RPRE'), ('<space>', 'PUNC'), ('nodes', 'NCMN')])]),\n",
       " Tree('S', [Tree('NP', [('และ', 'NCMN')]), Tree('VP', [('พิมพ์', 'VACT'), ('รายงาน', 'NCMN'), ('การ', 'FIXN'), ('วัด', 'VACT'), ('ออก', 'XVAE'), ('ที่', 'RPRE'), ('เครื่องพิมพ์', 'NCMN'), ('หรือ', 'JCRG'), ('หน่วยแสดงผล', 'NCMN'), ('ตัวเลข', 'NCMN')])]),\n",
       " Tree('S', [Tree('PP', [('โดย', 'RPRE'), ('ป้อน', 'VACT')]), Tree('S', [('<space>', 'NCMN'), ('100', 'DCNM'), ('<space>', 'PUNC'), ('Hz', 'CMTR'), ('<space>', 'PUNC'), ('ที่', 'NCMN'), ('หลักหน่วย', 'NCNM'), ('<space>', 'PUNC'), ('Hz', 'NCMN'), ('<space>', 'PUNC'), ('ที่', 'RPRE'), ('หลักสิบ', 'NCNM'), ('<space>', 'PUNC'), ('Hz', 'NCMN'), ('<space>', 'PUNC'), ('ที่', 'JSBR'), ('หลักร้อย', 'NCMN')])]),\n",
       " Tree('S', [Tree('NP', [('Wta', 'NCMN'), ('<space>', 'PUNC'), ('ความ', 'FIXN')]), Tree('VP', [('กว้าง', 'VSTA'), ('ของ', 'RPRE'), ('พีชทิสเตเตอร์', 'NCMN')])]),\n",
       " Tree('S', [Tree('NP', [('ผล', 'NCMN'), ('การ', 'FIXN'), ('วัด', 'VACT'), ('ปรากฏ', 'VSTA'), ('ว่า', 'JSBR'), ('<space>', 'PUNC'), ('ทุก', 'DIBQ'), ('รอยต่อ', 'NCMN'), ('<space>', 'PUNC'), ('พี', 'NCMN'), ('<minus>', 'PUNC'), ('เอ็น', 'NCMN')]), ('<space>', 'PUNC'), Tree('VP', [('ให้', 'VACT'), ('คุณสมบัติ', 'NCMN'), ('เรคติไฟร์', 'NCMN'), ('ที่', 'PREL'), ('สมบูรณ์', 'VATT')])]),\n",
       " Tree('S', [Tree('NP', [('4', 'NCNM')]), Tree('VP', [('<full_stop>', 'VACT'), ('<space>', 'NCMN'), ('Quatification', 'NPRP'), ('in', 'NPRP'), ('Thai', 'NPRP'), ('<space>', 'PUNC'), ('โดย', 'RPRE'), ('<space>', 'PUNC'), ('Mark', 'NPRP'), ('Jeffrey', 'NPRP'), ('Stein', 'NPRP')])]),\n",
       " Tree('S', [Tree('NP', [('S->C', 'NCMN'), ('<space>', 'PUNC'), ('Pt.:', 'NCMN')]), ('<space>', 'PUNC'), Tree('VP', [('เป็น', 'VSTA'), ('<space>', 'PUNC'), ('Pointer', 'NCMN'), ('<space>', 'PUNC'), ('ที่', 'PREL'), ('ชี้', 'VACT'), ('ไปยัง', 'RPRE'), ('<space>', 'PUNC'), ('C-Block', 'NCMN')])]),\n",
       " Tree('S', [Tree('NP', [('2', 'NCNM')]), Tree('VP', [('<full_stop>', 'VACT'), ('<space>', 'PUNC'), ('การ', 'FIXN'), ('สร้าง', 'VACT'), ('ฐานข้อมูลสารนิเทศ', 'NCMN'), ('ด้าน', 'NCMN'), ('วิทยาศาสตร์', 'RPRE'), ('<space>', 'PUNC'), ('และ', 'JCRG'), ('เทคโนโลยี', 'NCMN'), ('ด้วย', 'JSBR'), ('มาตรฐาน', 'NCMN'), ('ที่', 'PREL'), ('สามารถ', 'XVAM'), ('เชื่อมโยง', 'VACT'), ('<space>', 'NCMN'), ('และ', 'JCRG'), ('แลกเปลี่ยน', 'VACT'), ('ข้อมูล', 'NCMN'), ('ภายใน', 'RPRE'), ('<space>', 'PUNC'), ('และ', 'JCRG'), ('ระหว่าง', 'RPRE'), ('เครือข่าย', 'NCMN'), ('ต่างๆ', 'DIAC'), ('<space>', 'PUNC'), ('ภายใน', 'RPRE'), ('ประเทศ', 'NCMN')])]),\n",
       " Tree('S', [Tree('NP', [('มี', 'NCMN'), ('กรอบ', 'NCMN'), ('ของ', 'RPRE'), ('ความหมาย', 'NCMN'), ('รูป', 'NCMN'), ('ลึก', 'VATT'), ('ของ', 'RPRE'), ('คำ', 'NCMN'), ('ซึ่ง', 'PREL'), ('ดึง', 'VACT'), ('ออกมา', 'XVAE'), ('เป็น', 'RPRE'), ('ภาษากลาง', 'NCMN'), ('<space>', 'PUNC'), ('<left_parenthesis>', 'PUNC'), ('Interlingua', 'NCMN'), ('<right_parenthesis>', 'PUNC'), ('<space>', 'PUNC'), ('ซึ่ง', 'JSBR'), ('อาจ', 'XVMM'), ('ใช้', 'VACT'), ('โค้ด', 'NCMN'), ('ใด', 'DIAC')]), Tree('VP', [('เป็น', 'VSTA'), ('ตัวแทน', 'NCMN'), ('ก็ได้', 'ADVN')])]),\n",
       " Tree('S', [('สำหรับ', 'JSBR'), Tree('NP', [('<space>', 'FIXN'), ('arcs', 'NCMN')]), ('<space>', 'PUNC'), Tree('VP', [('เป็น', 'VSTA'), ('การ', 'FIXN'), ('แสดง', 'VACT'), ('<space>', 'PUNC'), ('Semantic', 'NCMN'), ('Dependencies', 'NCMN'), ('<space>', 'PUNC'), ('ระหว่าง', 'RPRE'), ('<space>', 'PUNC'), ('nodes', 'NCMN'), ('semantic', 'NCMN'), ('structure', 'NCMN'), ('<space>', 'PUNC'), ('เหล่านี้', 'DDAC')])]),\n",
       " Tree('S', [Tree('NP', [('นิด', 'NPRP')]), Tree('VP', [('สาน', 'VACT'), ('กระบุง', 'NCMN')])]),\n",
       " Tree('S', [Tree('NP', [('ซึ่ง', 'NCMN')]), Tree('VP', [('สามารถ', 'XVAM'), ('นำ', 'VACT'), ('ไป', 'XVAE'), ('ปรับปรุง', 'VACT'), ('เมนูอาหาร', 'NCMN'), ('ได้', 'XVAE')])]),\n",
       " Tree('S', [Tree('NP', [('การ', 'FIXN'), ('สร้าง', 'VACT'), ('<space>', 'PUNC'), ('Grammatical', 'NCMN'), ('Structure', 'NCMN'), ('<space>', 'PUNC'), ('นี้', 'DDAC')]), Tree('VP', [('จะ', 'XVBM'), ('มี', 'VSTA'), ('การ', 'FIXN'), ('ดึง', 'VACT'), ('ข้อมูล', 'NCMN'), ('เกี่ยวกับ', 'RPRE'), ('<space>', 'PUNC'), ('part', 'NCMN'), ('of', 'NCMN'), ('speech,', 'NCMN'), ('<space>', 'PUNC'), ('number,', 'NCMN'), ('<space>', 'PUNC'), ('surface', 'NCMN'), ('case', 'NCMN'), ('ฯลฯ', 'PUNC'), ('<space>', 'NCMN'), ('จาก', 'RPRE'), ('พจนานุกรม', 'NCMN')])]),\n",
       " Tree('S', [Tree('NP', [('รูป', 'NCMN'), ('ที่', 'DONM'), ('2', 'DONM'), ('<space>', 'PUNC'), ('กลวิธี', 'NCMN'), ('การ', 'FIXN'), ('แปล', 'VACT'), ('แบบ', 'NCMN')]), Tree('VP', [('ถ่ายทอด', 'VACT')])]),\n",
       " Tree('S', [Tree('NP', [('3', 'NCMN'), ('<full_stop>', 'NCMN'), ('<space>', 'PUNC'), ('การ', 'FIXN'), ('สร้าง', 'VACT'), ('ข้อมูล', 'NCMN')]), Tree('VP', [('ควบคุม', 'VACT'), ('รายจ่าย', 'NCMN')])]),\n",
       " Tree('S', [('โดย', 'JSBR'), Tree('NP', [('ไอซี', 'NCMN'), ('ตระกูล', 'NCMN'), ('<space>', 'PUNC'), ('80xxx', 'NCMN')]), ('<space>', 'PUNC'), Tree('VP', [('ถูก', 'XVAM'), ('เลือก', 'VACT'), ('ใช้', 'VACT'), ('เป็น', 'VSTA'), ('ตัวควบคุม', 'NCMN'), ('การ', 'FIXN'), ('ทำงาน', 'VACT'), ('ของ', 'RPRE'), ('ระบบ', 'NCMN'), ('ไมโครคอมพิวเตอร์', 'NCMN'), ('<space>', 'PUNC'), ('ของ', 'RPRE'), ('บริษัท', 'NPRP'), ('IBM', 'NPRP')])]),\n",
       " Tree('S', [Tree('NP', [('2', 'NCNM')]), Tree('VP', [('<full_stop>', 'VACT'), ('<space>', 'FIXN'), ('มอเตอร์ไฟฟ้า', 'NCMN'), ('<space>', 'PUNC'), ('สำหรับ', 'RPRE'), ('เครื่องปรับอากาศ', 'NCMN'), ('ชนิด', 'NCMN'), ('หน้าต่าง', 'NCMN')])]),\n",
       " Tree('S', [Tree('NP', [('13', 'NCNM')]), Tree('VP', [('<full_stop>', 'VACT'), ('<space>', 'NCMN'), ('A', 'NPRP'), ('Contrastive', 'NPRP'), ('Analysis', 'NPRP'), ('of', 'NPRP'), ('Relative', 'NPRP'), ('Clauses', 'NPRP'), ('in', 'NPRP'), ('Thai-English', 'NPRP'), ('<space>', 'PUNC'), ('โดย', 'RPRE'), ('<space>', 'PUNC'), ('Suthinee', 'NCMN'), ('Suktrakul', 'NCMN'), ('<space>', 'PUNC'), ('พ.ศ.', 'NCMN'), ('<space>', 'PUNC'), ('2528', 'NCNM')])]),\n",
       " Tree('S', [Tree('NP', [('ซึ่ง', 'NCMN')]), Tree('VP', [('จะ', 'XVBM'), ('แสดง', 'VACT'), ('คำเตือน', 'NCMN'), ('เมื่อ', 'JSBR'), ('พบ', 'VACT'), ('จุด', 'NCMN'), ('ที่', 'PREL'), ('อาจ', 'XVMM'), ('ทำให้เกิด', 'VACT'), ('ความ', 'FIXN'), ('ผิดพลาด', 'VSTA'), ('<space>', 'PUNC'), ('เช่น', 'JSBR'), ('<space>', 'PUNC'), ('มี', 'NCMN'), ('จุด', 'NCMN'), ('<space>', 'PUNC'), ('node', 'NCMN'), ('<space>', 'PUNC'), ('ใดๆ', 'PDMN'), ('<space>', 'PUNC'), ('ใน', 'RPRE'), ('วงจร', 'NCMN'), ('ถูก', 'XVAM'), ('ปล่อย', 'VACT'), ('ลอย', 'ADVN')])]),\n",
       " Tree('S', [Tree('NP', [('ข.', 'NCMN'), ('<space>', 'PUNC'), ('สัญญาณ', 'NCMN'), ('<space>', 'PUNC'), ('glitches', 'NCMN'), ('<space>', 'PUNC'), ('และ', 'JCRG'), ('<space>', 'PUNC'), ('spikes', 'NCMN'), ('<space>', 'PUNC'), ('ที่', 'PREL'), ('ให้', 'XVAM'), ('มี', 'VSTA'), ('ได้', 'XVAE'), ('ใน', 'RPRE'), ('<space>', 'PUNC'), ('simulation', 'NCMN')]), ('<space>', 'PUNC'), Tree('VP', [('ไม่ว่า', 'JSBR'), ('จะ', 'XVBM'), ('ต้อง', 'XVMM'), ('เกิดขึ้น', 'VSTA'), ('ใน', 'RPRE'), ('อุปกรณ์', 'NCMN'), ('จริง', 'VATT')])]),\n",
       " Tree('S', [Tree('NP', [('ซึ่ง', 'NCMN'), ('ต่าง', 'VSTA'), ('จาก', 'RPRE'), ('ระบบ', 'NCMN')]), Tree('VP', [('ถ่ายทอด', 'VACT'), ('ที่', 'PREL'), ('ต้อง', 'XVMM'), ('มี', 'VSTA'), ('<space>', 'PUNC'), ('n', 'NCMN'), ('<left_parenthesis>', 'PUNC'), ('n-1', 'NCMN'), ('<right_parenthesis>', 'PUNC'), ('<space>', 'NCMN'), ('โมดูล', 'NCMN'), ('การ', 'FIXN'), ('ถ่ายทอด', 'VACT'), ('<space>', 'PUNC'), ('ซึ่ง', 'JSBR'), ('จะ', 'XVBM'), ('ต้อง', 'XVMM'), ('มี', 'VSTA'), ('การ', 'FIXN'), ('วิเคราะห์', 'VACT'), ('ภาษาต้นฉบับ', 'NCMN'), ('<space>', 'PUNC'), ('n', 'NCMN'), ('<space>', 'PUNC'), ('ครั้ง', 'NCMN'), ('<space>', 'NCMN'), ('<left_parenthesis>', 'PUNC'), ('ต่อ', 'NCMN'), ('<space>', 'PUNC'), ('n', 'NCMN'), ('<space>', 'PUNC'), ('ภาษา', 'NCMN'), ('<right_parenthesis>', 'PUNC'), ('<space>', 'NCMN'), ('การ', 'FIXN'), ('สังเคราะห์', 'VACT'), ('ภาษาเป้าหมาย', 'NCMN'), ('<space>', 'PUNC'), ('n', 'NCMN'), ('<space>', 'PUNC'), ('ครั้ง', 'NCMN'), ('<space>', 'PUNC'), ('และ', 'NCMN'), ('มี', 'VSTA'), ('พจนานุกรม', 'NCMN'), ('<space>', 'PUNC'), ('n', 'NCMN'), ('<space>', 'PUNC'), ('ชุด', 'NCMN')])]),\n",
       " Tree('S', [Tree('NP', [('4.1', 'NCNM'), ('<space>', 'PUNC'), ('การ', 'FIXN')]), Tree('VP', [('วัดผล', 'VACT'), ('และ', 'JCRG'), ('ตรวจสอบ', 'VACT'), ('คุณสมบัติ', 'NCMN'), ('ของ', 'RPRE'), ('รอยต่อ', 'NCMN'), ('<space>', 'PUNC'), ('พี', 'NCMN'), ('<minus>', 'PUNC'), ('เอ็น', 'NCMN'), ('<space>', 'PUNC'), ('ใน', 'NCMN'), ('ชิพ', 'NCMN'), ('วงจรรวม', 'NCMN')])]),\n",
       " Tree('S', [Tree('NP', [('ซึ่ง', 'NCMN')]), Tree('VP', [('แสดง', 'VACT'), ('พร้อม', 'VSTA'), ('เส้นตัดขวาง', 'NCMN'), ('<space>', 'PUNC'), ('<left_parenthesis>', 'PUNC'), ('Prafile', 'NCMN'), ('<right_parenthesis>', 'PUNC'), ('<space>', 'PUNC'), ('ของ', 'RPRE'), ('ภาพตัดขวาง', 'NCMN')])]),\n",
       " Tree('S', [('หากว่า', 'JSBR'), Tree('NP', [('จำนวน', 'NCMN'), ('ขา', 'NCMN'), ('สัญญาณ', 'NCMN'), ('ที่', 'RPRE'), ('<space>', 'PUNC'), ('output', 'NCMN'), ('<space>', 'PUNC'), ('จำนวนมาก', 'NCMN'), ('ที่', 'PREL'), ('ทำ', 'VACT'), ('<space>', 'PUNC'), ('switching', 'NCMN'), ('<space>', 'FIXN'), ('พร้อมกัน', 'ADVN'), ('<space>', 'NCMN'), ('หรือ', 'JCRG'), ('กรณี', 'NCMN'), ('ที่', 'PREL'), ('มี', 'VSTA'), ('กระแส', 'NCMN'), ('<space>', 'PUNC'), ('output', 'NCMN'), ('<space>', 'PUNC'), ('สูง', 'NCMN')]), ('<space>', 'PUNC'), Tree('VP', [('อาจ', 'XVMM'), ('ต้อง', 'XVMM'), ('เพิ่ม', 'VACT'), ('จำนวน', 'NCMN'), ('ขา', 'NCMN'), ('<space>', 'PUNC'), ('GND', 'NCMN')])]),\n",
       " Tree('S', [Tree('PP', [('ใน', 'RPRE'), ('<space>', 'PUNC'), ('VP', 'NCMN'), ('<space>', 'PUNC'), ('นี้', 'DDAC'), ('<space>', 'PUNC'), ('นามวลี', 'NCMN'), ('ที่', 'PREL'), ('ตามหลัง', 'VSTA')]), Tree('S', [('คำกริยา', 'NCMN'), ('เป็น', 'VSTA'), ('กรรมตรง', 'NCMN'), ('ของ', 'RPRE'), ('กริยา', 'NCMN')])]),\n",
       " Tree('S', [Tree('PP', [('โดย', 'RPRE'), ('กำหนด', 'VACT'), ('ลำรังสีเอ็กซ์', 'NCMN'), ('เล็ก', 'VATT'), ('ๆ', 'NCMN'), ('<space>', 'PUNC'), ('<left_parenthesis>', 'PUNC'), ('pencil', 'NCMN'), ('beam', 'NCMN'), ('<right_parenthesis>', 'PUNC'), ('<space>', 'PUNC'), ('และ', 'JCRG'), ('มี', 'VSTA'), ('ตัวรับรังสี', 'NCMN')]), Tree('S', [('ตัว', 'NCMN'), ('เดียว', 'DIAC'), ('หรือ', 'JCRG'), ('สอง', 'NCNM'), ('ตัว', 'VACT')])]),\n",
       " Tree('S', [Tree('NP', [('System', 'NCMN'), ('bus', 'NCMN')]), ('<space>', 'PUNC'), Tree('VP', [('จะ', 'XVBM'), ('ทำงาน', 'VACT'), ('ด้วย', 'RPRE'), ('ประสิทธิภาพ', 'NCMN'), ('เท่ากับ', 'VSTA'), ('<space>', 'PUNC'), ('IBM', 'NCMN'), ('PC', 'NCMN'), ('<space>', 'PUNC'), ('ที่', 'NCMN'), ('ความ', 'FIXN'), ('ถี่', 'VSTA'), ('สัญญาณนาฬิกา', 'NCMN'), ('<space>', 'PUNC'), ('8', 'DCNM'), ('<space>', 'PUNC'), ('MHZ', 'CMTR')])]),\n",
       " Tree('S', [Tree('NP', [('6', 'NCNM'), ('<full_stop>', 'PUNC'), ('<space>', 'NCMN'), ('เพื่อ', 'RPRE'), ('การ', 'FIXN'), ('วิจัย', 'VACT')]), Tree('VP', [('พัฒนา', 'VACT'), ('และ', 'JCRG'), ('การ', 'FIXN'), ('ศึกษา', 'VACT'), ('ระบบ', 'NCMN'), ('เครือข่ายคอมพิวเตอร์', 'NCMN')])]),\n",
       " Tree('S', [Tree('NP', [('และ', 'NCMN')]), Tree('VP', [('ถ่ายทอด', 'VACT'), ('ไปยัง', 'RPRE'), ('ลักษณะ', 'NCMN'), ('โครงสร้าง', 'NCMN'), ('ของ', 'RPRE'), ('อีก', 'DDBQ'), ('ภาษา', 'CNIT'), ('หนึ่ง', 'DCNM')])]),\n",
       " Tree('S', [Tree('NP', [('3', 'NCNM')]), Tree('VP', [('<full_stop>', 'VACT'), ('<space>', 'NCMN'), ('คำ', 'NCMN'), ('กริยา', 'NCMN'), ('สกรรม', 'NCMN'), ('ใน', 'RPRE'), ('ภาษาไทย', 'NPRP'), ('<space>', 'PUNC'), ('โดย', 'RPRE'), ('<space>', 'PUNC'), ('นิตยา', 'NPRP'), ('<space>', 'PUNC'), ('กาญจนวรรณ', 'NPRP'), ('<space>', 'PUNC'), ('พ.ศ.', 'NCMN'), ('<space>', 'PUNC'), ('2512', 'NCNM')])]),\n",
       " Tree('S', [Tree('PP', [('และ', 'RPRE'), ('ทฤษฎี', 'NCMN')]), Tree('S', [('ภาษาศาสตร์', 'NCMN'), ('ที่', 'PREL'), ('เหมาะสม', 'VATT'), ('ได้รับ', 'VSTA'), ('การ', 'FIXN'), ('พัฒนา', 'VACT'), ('ขึ้น', 'ADVN')])]),\n",
       " Tree('S', [Tree('NP', [('โปรแกรม', 'NCMN')]), ('ก็', 'JSBR'), Tree('VP', [('จะ', 'XVBM'), ('บังคับ', 'VACT'), ('ให้', 'RPRE'), ('<space>', 'PUNC'), ('Data', 'NCMN'), ('Logger', 'NCMN'), ('<space>', 'PUNC'), ('รอ', 'VSTA'), ('รับ', 'VACT'), ('คำสั่ง', 'NCMN'), ('หรือ', 'JCRG'), ('ข้อมูล', 'NCMN'), ('จาก', 'RPRE'), ('หน่วยควบคุม', 'NCMN'), ('หลัก', 'VATT')])]),\n",
       " Tree('S', [Tree('NP', [('มี', 'NCMN'), ('ความ', 'FIXN')]), Tree('VP', [('จุ', 'VSTA'), ('ข้อมูล', 'NCMN'), ('สูง', 'VATT')])]),\n",
       " Tree('S', [('ซึ่ง', 'JSBR'), Tree('NP', [('<space>', 'NCMN'), ('file', 'NCMN'), ('<space>', 'NCMN'), ('หรือ', 'JCRG'), ('สิ่ง', 'NCMN'), ('ที่', 'PREL'), ('อยู่', 'VSTA'), ('<space>', 'PUNC'), ('disk', 'NCMN'), ('<space>', 'PUNC'), ('เรา', 'PPRS'), ('อาจจะ', 'XVMM'), ('<space>', 'NCMN'), ('load', 'NCMN'), ('<space>', 'PUNC'), ('หลายๆ', 'DIBQ'), ('<space>', 'PUNC'), ('files', 'NCMN'), ('<space>', 'PUNC'), ('จาก', 'RPRE'), ('<space>', 'PUNC'), ('disk', 'NCMN')]), ('<space>', 'PUNC'), Tree('VP', [('มา', 'XVAE'), ('ไว้', 'VACT'), ('ที่', 'RPRE'), ('หน่วยความจำ', 'NCMN'), ('ได้', 'XVAE')])]),\n",
       " Tree('S', [Tree('NP', [('ค.', 'NCMN'), ('<space>', 'PUNC'), ('สัญญาณ', 'NCMN'), ('<space>', 'PUNC'), ('glitchese', 'NCMN')]), ('<space>', 'PUNC'), Tree('VP', [('อาจ', 'XVMM'), ('เกิด', 'VACT'), ('ใน', 'RPRE'), ('<space>', 'PUNC'), ('silicon', 'NCMN'), ('<space>', 'PUNC'), ('เนื่องจาก', 'JSBR'), ('การ', 'FIXN'), ('<space>', 'PUNC'), ('layout', 'NCMN'), ('<space>', 'NCMN'), ('หรือ', 'JCRG'), ('ความ', 'FIXN'), ('ไม่', 'NEG'), ('แน่นอน', 'VSTA'), ('ใน', 'RPRE'), ('กระบวน', 'NCMN'), ('<space>', 'PUNC'), ('fabricate', 'NCMN')])]),\n",
       " Tree('S', [Tree('PP', [('โดย', 'RPRE'), ('เลือก', 'VACT')]), Tree('S', [('บริษัท', 'NPRP'), ('Hitachi', 'NPRP'), ('<space>', 'PUNC'), ('เป็น', 'VSTA'), ('ผู้', 'PPRS'), ('ทำ', 'VACT'), ('ชิพ', 'NCMN'), ('<space>', 'PUNC'), ('ASIC', 'NCMN'), ('<space>', 'PUNC'), ('ใน', 'RPRE'), ('ขั้นตอน', 'NCMN'), ('สุดท้าย', 'DONM')])]),\n",
       " Tree('S', [Tree('NP', [('ตัวอย่าง', 'NCMN'), ('ของ', 'RPRE'), ('<space>', 'PUNC'), ('syntactic', 'NCMN'), ('role', 'NCMN')]), ('<space>', 'PUNC'), Tree('VP', [('เช่น', 'VSTA'), ('<space>', 'PUNC'), ('การ', 'FIXN'), ('หา', 'VACT'), ('<space>', 'NCMN'), ('subject', 'NCMN'), ('<space>', 'PUNC'), ('<left_parenthesis>', 'PUNC'), ('SUB', 'NCMN'), ('<right_parenthesis>', 'PUNC'), ('<comma>', 'PUNC'), ('<space>', 'PUNC'), ('direct', 'NCMN'), ('object', 'NCMN'), ('<space>', 'PUNC'), ('<left_parenthesis>', 'PUNC'), ('DOB', 'NCMN'), ('<right_parenthesis>', 'PUNC'), ('<comma>', 'PUNC'), ('<space>', 'PUNC'), ('indirect', 'NCMN'), ('object', 'NCMN'), ('<space>', 'PUNC'), ('<left_parenthesis>', 'PUNC'), ('IOB', 'NCMN'), ('<right_parenthesis>', 'PUNC'), ('<comma>', 'PUNC'), ('<space>', 'PUNC'), ('comlement', 'NCMN'), ('<space>', 'PUNC'), ('<left_parenthesis>', 'PUNC'), ('COM', 'NCMN'), ('<right_parenthesis>', 'PUNC'), ('<space>', 'PUNC'), ('และอื่นๆ', 'PDMN')])]),\n",
       " Tree('S', [Tree('PP', [('ใน', 'RPRE'), ('งานวิจัย', 'NCMN')]), Tree('S', [('ชิ้น', 'NCMN'), ('นี้', 'DDAC'), ('<space>', 'PUNC'), ('ผู้', 'PPRS'), ('วิจัย', 'VACT'), ('เปลี่ยน', 'VACT'), ('แนว', 'NCMN'), ('การ', 'FIXN'), ('วิเคราะห์', 'VACT'), ('เรื่อง', 'RPRE'), ('การก', 'NCMN')])]),\n",
       " Tree('S', [Tree('NP', [('ขั้น', 'NCMN'), ('ที่', 'DONM'), ('3', 'DONM')]), ('<space>', 'PUNC'), Tree('VP', [('หลังจากที่', 'JSBR'), ('ตรวจสอบ', 'VACT'), ('<space>', 'FIXN'), ('connectability', 'NCMN'), ('<space>', 'PUNC'), ('ระหว่าง', 'RPRE'), ('<space>', 'PUNC'), ('morphemes', 'NCMN'), ('<space>', 'PUNC'), ('ที่อยู่', 'NCMN'), ('ข้างเคียง', 'VATT'), ('<space>', 'PUNC'), ('โดย', 'RPRE'), ('ใช้', 'NCMN'), ('<space>', 'PUNC'), (\"'word-ending\", 'NCMN'), ('<space>', 'PUNC'), ('พจนานุกรม', 'NCMN'), ('<apostrophe>', 'PUNC'), ('<space>', 'NCMN'), ('และ', 'JCRG'), ('<space>', 'NCMN'), (\"'connectivity\", 'NCMN'), (\"table'\", 'NCMN'), ('<space>', 'NCMN'), ('แล้ว', 'ADVN')])]),\n",
       " Tree('S', [Tree('PP', [('และ', 'RPRE'), ('การ', 'FIXN'), ('ผลิต', 'VACT'), ('เพื่อ', 'RPRE'), ('งาน', 'NCMN')]), Tree('S', [('การ', 'FIXN'), ('เรียน', 'VACT'), ('การ', 'FIXN'), ('สอน', 'VACT'), ('สามารถ', 'XVAM'), ('ทำ', 'VACT'), ('ได้', 'XVAE'), ('ด้วย', 'RPRE'), ('ราคา', 'NCMN'), ('ถูก', 'VATT')])]),\n",
       " Tree('S', [Tree('NP', [('รูปร่าง', 'NCMN'), ('ตัวอักษร', 'NCMN'), ('ทั้ง', 'JCRG'), ('ภาษาไทย', 'NCMN'), ('และ', 'JCRG'), ('ภาษาอังกฤษ', 'NPRP'), ('<space>', 'PUNC'), ('ที่', 'JSBR'), ('ใช้', 'VACT'), ('ใน', 'RPRE'), ('การ', 'FIXN'), ('ทดลอง', 'VACT'), ('ตัวอย่าง', 'NCMN'), ('<space>', 'PUNC'), ('ดัง', 'RPRE'), ('ใน', 'RPRE'), ('ตาราง', 'NCMN'), ('ที่', 'DONM'), ('1', 'DONM'), ('<space>', 'PUNC'), ('ถูก', 'XVAM'), ('ป้อน', 'VACT'), ('ผ่าน', 'VSTA'), ('เครื่อง', 'NCMN'), ('<space>', 'PUNC'), ('Image', 'NCMN'), ('Scaner', 'NCMN')]), ('<space>', 'PUNC'), Tree('VP', [('ได้', 'VSTA'), ('ข้อมูล', 'NCMN'), ('ใน', 'RPRE'), ('ลักษณะ', 'NCMN'), ('ดิจิตอล', 'NCMN')])]),\n",
       " Tree('S', [Tree('NP', [('การ', 'FIXN'), ('ออกแบบ', 'VACT'), ('วงจร', 'NCMN'), ('ที่', 'PREL'), ('จะ', 'XVBM'), ('นำ', 'VACT'), ('ไป', 'XVAE'), ('สร้าง', 'VACT')]), Tree('VP', [('เป็น', 'VSTA'), ('วงจรวีแอลเอสไอ', 'NCMN')])]),\n",
       " Tree('S', [Tree('NP', [('ฐานข้อมูล', 'NCMN'), ('ที่', 'PREL'), ('รวม', 'VACT'), ('สาขา', 'NCMN'), ('วิชา', 'NCMN'), ('ทั้งหมด', 'PDMN'), ('<space>', 'PUNC'), ('9', 'DCNM'), ('<space>', 'PUNC'), ('สาขา', 'CNIT')]), ('<space>', 'PUNC'), Tree('VP', [('มี', 'VSTA'), ('จำนวน', 'NCMN'), ('<space>', 'PUNC'), ('26', 'NCNM'), ('<space>', 'PUNC'), ('ฐานข้อมูล', 'NCMN')])]),\n",
       " Tree('S', [Tree('NP', [('ส่วน', 'NCMN'), ('ทาง', 'RPRE'), ('ด้านขวา', 'NCMN')]), Tree('VP', [('จะ', 'XVBM'), ('แสดง', 'VACT'), ('ตัวเลข', 'NCMN'), ('อัตรา', 'NCMN'), ('การ', 'FIXN'), ('เต้น', 'VACT'), ('ของ', 'RPRE'), ('หัวใจ', 'NCMN')])]),\n",
       " Tree('S', [Tree('PP', [('และ', 'RPRE'), ('ผม', 'PPRS'), ('ขอ', 'XVBB'), ('ยืนยัน', 'VACT'), ('ใน', 'RPRE'), ('เจตนารมณ์', 'NCMN'), ('ของ', 'RPRE'), ('ผม', 'PPRS'), ('ในอันที่จะ', 'JSBR'), ('สนับสนุน', 'VACT'), ('งานวิจัยและพัฒนา', 'NCMN')]), Tree('S', [('เพื่อ', 'JSBR'), ('การ', 'FIXN'), ('พัฒนา', 'VACT'), ('ประเทศ', 'NCMN'), ('<space>', 'PUNC'), ('ไว้', 'VACT'), ('<space>', 'NCMN'), ('ณ', 'RPRE'), ('<space>', 'PUNC'), ('ที่นี้', 'PDMN')])]),\n",
       " Tree('S', [Tree('NP', [('3', 'NCMN'), ('<full_stop>', 'NCMN')]), ('<space>', 'PUNC'), Tree('VP', [('ต้อง', 'XVMM'), ('สามารถ', 'XVAM'), ('แยก', 'VACT'), ('ระบบ', 'NCMN'), ('ออก', 'VACT'), ('จาก', 'RPRE'), ('เอาท์พุท', 'NCMN')])]),\n",
       " Tree('S', [Tree('NP', [('3', 'NCNM'), ('<full_stop>', 'PUNC'), ('<space>', 'FIXN'), ('เพิ่ม', 'VACT'), ('ความ', 'FIXN'), ('มั่นคง', 'VSTA'), ('ใน', 'RPRE'), ('ระบบ', 'NCMN')]), ('<space>', 'PUNC'), Tree('VP', [('เนื่องจาก', 'JSBR'), ('การ', 'FIXN'), ('ลด', 'VACT'), ('จุดเชื่อมต่อ', 'NCMN'), ('ต่างๆ', 'DIAC')])]),\n",
       " Tree('S', [Tree('PP', [('คือ', 'RPRE'), ('<space>', 'PUNC'), ('ประการ', 'CNIT'), ('แรก', 'DONM'), ('<space>', 'NCMN')]), Tree('S', [('ศักยภาพ', 'NCMN'), ('ของ', 'RPRE'), ('การ', 'FIXN'), ('ประยุกต์ใช้', 'VACT'), ('เป็น', 'VSTA'), ('ชิ้นส่วน', 'NCMN'), ('อิเล็กทรอนิกส์', 'NCMN')])]),\n",
       " Tree('S', [Tree('S', [('จะ', 'NCMN'), ('เห็น', 'VSTA'), ('ได้', 'XVAE'), ('ชัด', 'ADVN')]), ('ว่า', 'JSBR'), Tree('S', [('ภาษาไทย', 'NPRP'), ('เป็น', 'VSTA'), ('ภาษา', 'NCMN'), ('ที่', 'PREL'), ('มี', 'VSTA'), ('ความ', 'FIXN'), ('กำกวม', 'VSTA'), ('เรื่อง', 'NCMN'), ('ชนิด', 'NCMN'), ('ของ', 'RPRE'), ('คำ', 'NCMN'), ('สูง', 'VATT')])]),\n",
       " Tree('S', [Tree('NP', [('ซึ่ง', 'NCMN'), ('ทั้งหมด', 'DDAN'), ('นั้น', 'DDAC')]), Tree('VP', [('เป็น', 'VSTA'), ('ซอฟท์แวร์', 'NCMN'), ('ที่', 'PREL'), ('มา', 'VACT'), ('จาก', 'RPRE'), ('ต่างประเทศ', 'NCMN')])]),\n",
       " Tree('S', [Tree('NP', [('การ', 'FIXN'), ('เปลี่ยน', 'VACT'), ('วงจรลอจิก', 'NCMN'), ('มา', 'XVAE'), ('ใช้', 'VSTA'), ('<space>', 'PUNC'), ('LSI', 'NCMN')]), ('<space>', 'PUNC'), Tree('VP', [('มี', 'VSTA'), ('ความ', 'FIXN'), ('จำเป็น', 'VSTA'), ('เมื่อ', 'JSBR'), ('ต้องการ', 'XVMM'), ('พัฒนา', 'VACT'), ('ผลิตภัณฑ์', 'NCMN'), ('ใหม่', 'VATT'), ('<space>', 'NCMN'), ('หรือ', 'JCRG'), ('ปรับปรุง', 'VACT'), ('ผลิตภัณฑ์', 'NCMN'), ('เดิม', 'VATT')])]),\n",
       " Tree('S', [Tree('NP', [('2', 'NCMN'), ('<full_stop>', 'NCMN')]), ('<space>', 'PUNC'), Tree('VP', [('กำหนด', 'VACT'), ('สาขา', 'NCMN'), ('วิชา', 'NCMN'), ('และ', 'JCRG'), ('ประเภท', 'NCMN'), ('ของ', 'RPRE'), ('ทรัพยากร', 'NCMN'), ('สารนิเทศ', 'NCMN'), ('<space>', 'PUNC'), ('มาตรฐาน', 'NCMN'), ('โครงสร้าง', 'NCMN'), ('<space>', 'PUNC'), ('ระเบียน', 'NCMN'), ('ข้อมูล', 'NCMN'), ('<space>', 'PUNC'), ('และ', 'RPRE'), ('โปรแกรม', 'NCMN'), ('ที่', 'PREL'), ('ใช้', 'VACT'), ('บันทึก', 'VACT'), ('ข้อมูล', 'NCMN')])]),\n",
       " Tree('S', [Tree('PP', [('เมื่อ', 'RPRE'), ('ผ่าน', 'VSTA')]), Tree('S', [('ขั้นตอน', 'NCMN'), ('เหล่านี้', 'DDAC'), ('เป็น', 'VSTA'), ('ที่', 'PREL'), ('เรียบร้อย', 'ADVN'), ('แล้ว', 'ADVN')])]),\n",
       " Tree('S', [('นอกจากนี้', 'JSBR'), Tree('NP', [('ยัง', 'RPRE'), ('มี', 'NCMN'), ('<space>', 'PUNC'), ('logic', 'NCMN'), ('<space>', 'PUNC'), ('อื่นๆ', 'PDMN')]), ('<space>', 'PUNC'), Tree('VP', [('เช่น', 'VSTA'), ('<space>', 'PUNC'), ('co-processor', 'NCMN'), ('<space>', 'PUNC'), ('interfacelogic', 'NCMN')])]),\n",
       " Tree('S', [Tree('NP', [('1', 'NCNM'), ('<full_stop>', 'PUNC'), ('<space>', 'FIXN'), ('สำรวจหา', 'VACT'), ('ข้อมูล', 'NCMN')]), ('<space>', 'PUNC'), Tree('VP', [('วิเคราะห์', 'VACT'), ('ความ', 'FIXN'), ('ต้องการ', 'VACT'), ('ทั้ง', 'JCRG'), ('ตลาด', 'NCMN'), ('ใน', 'RPRE'), ('ประเทศ', 'NCMN'), ('<space>', 'PUNC'), ('และ', 'RPRE'), ('ตลาด', 'NCMN'), ('ต่างประเทศ', 'NCMN')])]),\n",
       " Tree('S', [Tree('NP', [('18', 'NCMN')]), Tree('VP', [('<full_stop>', 'VACT'), ('<space>', 'NCMN'), ('นาย', 'NCMN'), ('ธีระ', 'NPRP'), ('<space>', 'PUNC'), ('พันธุมวนิช', 'NPRP')])]),\n",
       " Tree('S', [Tree('NP', [('หลักการ', 'NCMN')]), Tree('VP', [('คือ', 'VSTA'), ('<space>', 'PUNC'), ('การ', 'FIXN'), ('ควบคุม', 'VACT'), ('ให้', 'JSBR'), ('เกิด', 'VSTA'), ('สภาวะอิ่มตัวยิ่งยวด', 'NCMN'), ('<space>', 'PUNC'), ('<left_parenthesis>', 'PUNC'), ('Supersaturation', 'NCMN'), ('<right_parenthesis>', 'PUNC'), ('<space>', 'PUNC'), ('ใน', 'RPRE'), ('สารละลาย', 'NCMN'), ('ที่', 'PREL'), ('อุณหภูมิ', 'NCMN'), ('หนึ่งๆ', 'DIAC')])]),\n",
       " Tree('S', [Tree('NP', [('บทบาท', 'NCMN'), ('ที่', 'PREL'), ('สำคัญ', 'VATT'), ('ของ', 'RPRE'), ('ศูนย์ฯ', 'NCMN')]), ('<space>', 'PUNC'), Tree('VP', [('คือ', 'VSTA'), ('หน้าที่', 'NCMN'), ('ประสานงาน', 'VACT'), ('ใน', 'RPRE'), ('ลักษณะ', 'NCMN'), ('ไตรภาคี', 'NCMN')])]),\n",
       " Tree('S', [Tree('NP', [('แสดง', 'VACT'), ('ให้', 'VACT')]), Tree('VP', [('เห็น', 'VSTA'), ('ถึง', 'RPRE'), ('ขั้นตอน', 'NCMN'), ('การ', 'FIXN'), ('ทำงาน', 'VACT'), ('ทั้งหมด', 'PDMN'), ('<space>', 'PUNC'), ('ของ', 'RPRE'), ('ระบบ', 'NCMN'), ('การ', 'FIXN'), ('แปล', 'VACT'), ('ภาษา', 'NCMN'), ('ด้วย', 'RPRE'), ('คอมพิวเตอร์', 'NCMN'), ('ของ', 'RPRE'), ('งานวิจัย', 'NCMN'), ('นี้', 'DDAC')])]),\n",
       " Tree('S', [Tree('PP', [('โดย', 'RPRE'), ('ส่ง', 'VACT')]), Tree('S', [('บิท', 'NCMN'), ('นี้', 'JSBR'), ('ไปยัง', 'RPRE'), ('ภาคสร้างความถี่ตัวโน๊ต', 'NCMN'), ('และ', 'JCRG'), ('ภาคควบคุมการทำงาน', 'NCMN')])]),\n",
       " Tree('S', [Tree('NP', [('NALN', 'NCMN')]), ('<space>', 'PUNC'), Tree('VP', [('คือ', 'VSTA'), ('<space>', 'PUNC'), ('คำนาม', 'NCMN'), ('ทำหน้าที่', 'VACT'), ('วิเศษณ์', 'NPRP'), ('<space>', 'PUNC'), ('เช่น', 'RPRE'), ('<space>', 'PUNC'), ('วันอาทิตย์', 'NCMN'), ('<space>', 'PUNC'), ('วันนี้', 'NCMN'), ('<space>', 'PUNC'), ('เมื่อก่อน', 'NCMN')])]),\n",
       " Tree('S', [Tree('NP', [('ดัง', 'RPRE'), ('แสดง', 'NCMN'), ('ใน', 'RPRE'), ('รูป', 'NCMN')]), Tree('VP', [('ที่', 'JSBR'), ('2', 'NCNM')])]),\n",
       " Tree('S', [('จาก', 'JSBR'), Tree('NP', [('รูป', 'NCMN'), ('ที่', 'DONM'), ('4', 'DONM')]), ('<space>', 'PUNC'), Tree('VP', [('เป็น', 'VSTA'), ('ตาราง', 'NCMN'), ('ที่', 'PREL'), ('ปรากฏ', 'VSTA'), ('หน้า', 'NCMN'), ('จอภาพ', 'NCMN'), ('เมื่อ', 'JSBR'), ('เลือก', 'VACT'), ('เมนู', 'NCMN'), ('<space>', 'PUNC'), ('การ', 'FIXN'), ('เพิ่มเติม', 'VACT'), ('สูตร', 'NCMN'), ('อาหาร', 'NCMN'), ('ใหม่', 'VATT'), ('ซึ่ง', 'JSBR'), ('ประกอบ', 'VSTA'), ('ด้วย', 'RPRE'), ('<space>', 'PUNC'), ('เบอร์', 'NCMN'), ('อาหาร', 'NCMN'), ('ตาม', 'RPRE'), ('ที่', 'FIXN'), ('ได้', 'XVAM'), ('จดทะเบียนการค้า', 'VACT'), ('ไว้', 'XVAE'), ('<space>', 'NCMN'), ('<left_parenthesis>', 'PUNC'), ('Feed', 'NCMN'), ('Number', 'NCMN'), ('<right_parenthesis>', 'PUNC'), ('<space>', 'NCMN'), ('รหัส', 'NCMN'), ('สูตร', 'NCMN'), ('อาหาร', 'NCMN'), ('<space>', 'PUNC'), ('<left_parenthesis>', 'PUNC'), ('FMF', 'NCMN'), ('Number', 'NCMN'), ('<right_parenthesis>', 'PUNC'), ('<comma>', 'PUNC'), ('<space>', 'PUNC'), ('วัน', 'NCMN'), ('<slash>', 'PUNC'), ('เดือน', 'NCMN'), ('<slash>', 'PUNC'), ('ปี', 'NCMN'), ('<space>', 'PUNC'), ('ของ', 'RPRE'), ('การ', 'FIXN'), ('คิดค้น', 'VACT'), ('สูตร', 'NCMN'), ('อาหาร', 'NCMN'), ('<space>', 'PUNC'), ('และ', 'NCMN'), ('ใน', 'RPRE'), ('ส่วน', 'NCMN'), ('วัตถุดิบ', 'NCMN'), ('ประกอบ', 'VSTA'), ('ด้วย', 'RPRE'), ('<space>', 'PUNC'), ('เบอร์', 'NCMN'), ('ถังวัตถุดิบ', 'NCMN')])]),\n",
       " Tree('S', [Tree('NP', [('ซึ่ง', 'NCMN')]), ('ก็', 'JSBR'), Tree('VP', [('ประสบความสำเร็จ', 'VSTA'), ('ใน', 'RPRE'), ('การ', 'FIXN'), ('ทดสอบ', 'VACT'), ('โปรแกรม', 'NCMN'), ('ที่', 'PREL'), ('พัฒนา', 'VACT'), ('กับ', 'RPRE'), ('ข้อมูล', 'NCMN'), ('จริง', 'VATT'), ('<space>', 'PUNC'), ('ที่', 'JSBR'), ('ได้', 'VSTA'), ('จาก', 'RPRE'), ('การ', 'FIXN'), ('ฉาย', 'VACT'), ('รังสีเอ็กซ์', 'NCMN'), ('ผ่าน', 'VSTA'), ('วัตถุ', 'NCMN'), ('ต่างๆ', 'DIAC')])]),\n",
       " Tree('S', [Tree('NP', [('23', 'NCNM'), ('<space>', 'PUNC'), ('derivation', 'NCMN'), ('<space>', 'NCMN'), ('<minus>', 'PUNC'), ('<space>', 'NCMN'), ('การ', 'FIXN')]), Tree('VP', [('สืบเนื่อง', 'VSTA'), ('ของ', 'RPRE'), ('คำ', 'NCMN')])]),\n",
       " Tree('S', [Tree('PP', [('ดัง', 'RPRE'), ('ปรากฏ', 'VSTA'), ('เป็น', 'VSTA'), ('ผลงาน', 'NCMN'), ('ที่', 'PREL'), ('บรรดา', 'NCMN'), ('นักวิจัย', 'NCMN'), ('และ', 'JCRG'), ('ผู้ประกอบการ', 'NCMN')]), Tree('S', [('ภาคเอกชน', 'NCMN'), ('<space>', 'PUNC'), ('ได้', 'XVAM'), ('นำมา', 'VACT'), ('เสนอ', 'VACT'), ('ใน', 'RPRE'), ('การ', 'FIXN'), ('ประชุม', 'VACT'), ('ทาง', 'RPRE'), ('วิชาการ', 'NCMN'), ('ครั้ง', 'CFQC'), ('นี้', 'DDAC')])]),\n",
       " Tree('S', [Tree('NP', [('1', 'NCNM'), ('<full_stop>', 'PUNC'), ('<space>', 'NCMN'), ('ส่วน', 'JCRG'), ('คีย์บอร์ด', 'NCMN'), ('<space>', 'PUNC'), ('<left_parenthesis>', 'PUNC'), ('Keyboard', 'NCMN'), ('Section', 'NCMN'), ('<right_parenthesis>', 'PUNC'), ('<space>', 'PUNC')]), Tree('VP', [('เป็น', 'VSTA'), ('ส่วน', 'NCMN'), ('ที่', 'PREL'), ('ใช้', 'VACT'), ('ใน', 'RPRE'), ('การ', 'FIXN'), ('รับ', 'VACT'), ('คำสั่ง', 'NCMN'), ('จาก', 'RPRE'), ('ผู้ใช้', 'NCMN')])]),\n",
       " Tree('S', [Tree('NP', [('รุ่น', 'NCMN'), ('ที่', 'PREL'), ('4', 'NCMN'), ('<space>', 'NCMN'), ('<left_parenthesis>', 'PUNC'), ('Fourth', 'NCNM'), ('Generation', 'NCNM'), ('<right_parenthesis>', 'PUNC'), ('<space>', 'NCMN'), ('ใน', 'RPRE'), ('รุ่น', 'NCMN'), ('นี้', 'DDAC'), ('จุ', 'VSTA'), ('คล้าย', 'VSTA'), ('กับ', 'RPRE'), ('รุ่น', 'NCMN'), ('ที่', 'DONM'), ('3', 'DONM')]), ('<space>', 'PUNC'), Tree('VP', [('ต่างกัน', 'VSTA'), ('ที่', 'RPRE'), ('จำนวน', 'NCMN'), ('ตัวรับ', 'NCMN'), ('รังสี', 'NCMN'), ('มาก', 'ADVN'), ('กว่า', 'ADVN')])]),\n",
       " Tree('S', [Tree('PP', [('โดย', 'RPRE'), ('สามารถ', 'XVAM'), ('ให้', 'VACT')]), Tree('S', [('ข้อมูล', 'NCMN'), ('<space>', 'PUNC'), ('วัน', 'NCMN'), ('<space>', 'PUNC'), ('เดือน', 'NCMN'), ('<space>', 'PUNC'), ('ปี', 'NCMN'), ('<space>', 'PUNC'), ('และ', 'NCMN'), ('เวลา', 'VACT'), ('<space>', 'NCMN'), ('ชั่วโมง', 'NCMN'), ('<space>', 'PUNC'), ('นาที', 'NCMN'), ('<space>', 'PUNC'), ('วินาที', 'NCMN'), ('<space>', 'PUNC'), ('และ', 'JCRG'), ('<space>', 'PUNC'), ('1', 'NCMN'), ('<slash>', 'PUNC'), ('100', 'DCNM'), ('<space>', 'PUNC'), ('วินาที', 'CMTR'), ('<space>', 'PUNC'), ('แก่', 'RPRE'), ('ซีพียู', 'NCMN')])]),\n",
       " Tree('S', [Tree('NP', [('การ', 'FIXN'), ('พัฒนา', 'VACT'), ('ระบบ', 'NCMN'), ('อินพุต', 'NCMN')]), ('<space>', 'PUNC'), Tree('VP', [('เอาท์พุต', 'VACT'), ('<space>', 'NCMN'), ('และ', 'JCRG'), ('ระบบสนับสนุน', 'NCMN'), ('งานแปลภาษา', 'NCMN')])]),\n",
       " Tree('S', [Tree('NP', [('6', 'NCNM')]), Tree('VP', [('<full_stop>', 'VACT'), ('<space>', 'FIXN'), ('ติดตั้ง', 'VACT'), ('<space>', 'PUNC'), ('และ', 'RPRE'), ('ทดสอบ', 'VACT'), ('ใช้งาน', 'VACT')])]),\n",
       " Tree('S', [Tree('PP', [('ดัง', 'RPRE'), ('รูป', 'CNIT'), ('ที่', 'DONM'), ('7', 'DONM'), ('<space>', 'NCMN'), ('แต่', 'JCRG'), ('สำหรับ', 'RPRE'), ('<space>', 'PUNC'), ('3', 'NCNM')]), Tree('S', [('<space>', 'NCMN'), ('<minus>', 'PUNC'), ('<space>', 'FIXN'), ('state', 'NCMN'), ('<space>', 'PUNC'), ('สามารถ', 'XVAM'), ('ต่อ', 'VACT'), ('เข้าด้วยกัน', 'ADVN')])]),\n",
       " Tree('S', [Tree('NP', [('คำ', 'NCMN'), ('ภาษากลาง', 'NCMN'), ('ซึ่ง', 'PREL'), ('จะ', 'XVBM'), ('มี', 'VSTA'), ('ความ', 'FIXN'), ('สัมพันธ์', 'VSTA')]), Tree('VP', [('ติด', 'VSTA'), ('อยู่', 'XVAE'), ('ด้วย', 'ADVN')])]),\n",
       " Tree('S', [Tree('NP', [('ทำให้', 'VACT'), ('ลด', 'VACT'), ('ต้นทุน', 'NCMN'), ('ใน', 'RPRE'), ('การ', 'FIXN')]), Tree('VP', [('ผลิต', 'VACT'), ('และ', 'JCRG'), ('สะดวก', 'VSTA'), ('ใน', 'RPRE'), ('การ', 'FIXN'), ('ใช้งาน', 'VACT'), ('มากขึ้น', 'ADVN')])]),\n",
       " Tree('S', [('ซึ่ง', 'JSBR'), Tree('NP', [('แต่ละ', 'DIBQ'), ('<space>', 'PUNC'), ('symbol', 'NCMN'), ('<space>', 'PUNC'), ('และ', 'RPRE'), ('<space>', 'PUNC'), ('code', 'NCMN')]), ('<space>', 'PUNC'), Tree('VP', [('นี้', 'JSBR'), ('จะ', 'XVBM'), ('ต้อง', 'XVMM'), ('มี', 'VSTA'), ('ความหมาย', 'NCMN'), ('อย่าง', 'FIXV'), ('เดียว', 'VATT')])]),\n",
       " Tree('S', [Tree('PP', [('เช่น', 'RPRE'), ('<space>', 'NCMN')]), Tree('S', [('Serial', 'NCMN'), ('Interface', 'NCMN'), ('<space>', 'PUNC'), ('<left_parenthesis>', 'PUNC'), ('RS232C', 'NCMN'), ('<right_parenthesis>', 'PUNC'), ('<space>', 'PUNC'), ('ใช้', 'VACT'), ('สำหรับ', 'JSBR'), ('รับ', 'VACT'), ('น้ำหนัก', 'NCMN'), ('จาก', 'RPRE'), ('เครื่องชั่ง', 'NCMN'), ('ระบบดิจิตอล', 'NCMN'), ('<space>', 'PUNC'), ('Parallel', 'NCMN'), ('Interface', 'NCMN'), ('<space>', 'PUNC'), ('สำหรับ', 'JSBR'), ('ต่อ', 'VACT'), ('เครื่องพิมพ์', 'NCMN'), ('เพื่อ', 'JSBR'), ('รายงาน', 'VACT'), ('ผล', 'NCMN')])]),\n",
       " Tree('S', [Tree('PP', [('ซึ่ง', 'PREL'), ('อาจ', 'XVMM'), ('เกิด', 'VSTA'), ('จาก', 'RPRE'), ('ความ', 'FIXN'), ('เข้มข้น', 'VSTA'), ('ของ', 'RPRE'), ('สารเจือ', 'NCMN'), ('ภายใน', 'RPRE'), ('ส่วน', 'NCMN')]), Tree('S', [('พี', 'NCMN'), ('ยัง', 'XVBM'), ('สูง', 'VSTA'), ('ไป', 'XVAE')])]),\n",
       " Tree('S', [Tree('NP', [('รูป', 'NCMN'), ('ที่', 'DONM'), ('4', 'DONM')]), ('<space>', 'PUNC'), Tree('VP', [('แสดง', 'VACT'), ('ภาพตัดขวาง', 'NCMN'), ('ของ', 'RPRE'), ('เตาเอพิแทกซี', 'NCMN'), ('<space>', 'PUNC'), ('เบ้ารองรับสารละลาย', 'NCMN'), ('<space>', 'PUNC'), ('<left_parenthesis>', 'PUNC'), ('Graphite', 'NCMN'), ('Bost', 'NCMN'), ('<right_parenthesis>', 'PUNC'), ('<space>', 'PUNC'), ('ตำแหน่ง', 'NCMN'), ('ของ', 'RPRE'), ('แว่นผลึก', 'NCMN'), ('ใน', 'RPRE'), ('สารละลาย', 'NCMN'), ('<space>', 'PUNC'), ('ณ', 'RPRE'), ('<space>', 'PUNC'), ('อุณหภูมิ', 'NCMN'), ('ต่างๆ', 'DIAC')])]),\n",
       " Tree('S', [Tree('NP', [('3', 'NCNM')]), Tree('VP', [('<full_stop>', 'VACT'), ('<space>', 'PUNC'), ('ขอบเขต', 'NCMN'), ('ของ', 'RPRE'), ('งาน', 'NCMN'), ('ใน', 'RPRE'), ('การ', 'FIXN'), ('ให้', 'JSBR'), ('ความ', 'FIXN'), ('รู้', 'VSTA'), ('เบื้องต้น', 'VATT'), ('กับ', 'RPRE'), ('ระบบ', 'NCMN'), ('เอ็มที', 'NPRP')])]),\n",
       " Tree('S', [Tree('PP', [('และ', 'RPRE'), ('ตัวเลข', 'NCMN'), ('อัตรา', 'NCMN'), ('การ', 'FIXN'), ('เต้น', 'VACT'), ('ของ', 'RPRE'), ('หัวใจ', 'NCMN'), ('และ', 'JCRG'), ('ค่า', 'NCMN')]), Tree('S', [('อัตรา', 'NCMN'), ('การ', 'FIXN'), ('เต้น', 'VACT'), ('ของ', 'RPRE'), ('หัวใจ', 'NCMN'), ('ที่', 'PREL'), ('ดี', 'VATT'), ('<space>', 'PUNC'), ('ไม่', 'NEG'), ('เกิด', 'VSTA'), ('การ', 'FIXN'), ('กระพริบ', 'VACT')])]),\n",
       " Tree('S', [Tree('NP', [('10', 'NCMN'), ('<full_stop>', 'NCMN')]), ('<space>', 'PUNC'), Tree('VP', [('นำ', 'VACT'), ('เม็ดสาร', 'NCMN'), ('ที่', 'PREL'), ('ได้', 'VSTA'), ('จาก', 'RPRE'), ('การ', 'FIXN'), ('เผา', 'VACT'), ('มา', 'XVAE'), ('ทดสอบ', 'VACT'), ('การ', 'FIXN'), ('เกิดปรากฎการณ์', 'VSTA'), ('ไมซ์เนอร์', 'NCMN')])]),\n",
       " Tree('S', [Tree('NP', [('ไมโครคอมพิวเตอร์', 'NCMN'), ('ชิพ', 'NCMN'), ('เดียว', 'DCNM'), ('เบอร์', 'CNIT'), ('<space>', 'PUNC'), ('8749', 'NCNM'), ('<space>', 'PUNC'), ('ของ', 'RPRE'), ('บริษัท', 'NPRP'), ('Intel', 'NPRP'), ('<space>', 'PUNC'), ('เป็น', 'RPRE'), ('ไมโครคอมพิวเตอร์', 'NCMN'), ('ชิพ', 'NCMN'), ('เดียว', 'DCNM'), ('<space>', 'PUNC'), ('ขนาด', 'CMTR'), ('<space>', 'PUNC'), ('8', 'DCNM'), ('<space>', 'PUNC'), ('บิท', 'CMTR'), ('<space>', 'PUNC'), ('รุ่น', 'NCMN')]), Tree('VP', [('บุกเบิก', 'VACT'), ('ของ', 'RPRE'), ('ตระกูล', 'NCMN'), ('เดียวกัน', 'DDAC')])]),\n",
       " Tree('S', [Tree('PP', [('โดย', 'RPRE'), ('เฉพาะ', 'VATT'), ('อย่าง', 'FIXV'), ('ยิ่ง', 'ADVN')]), Tree('S', [('หน่วยงาน', 'NCMN'), ('ที่', 'PREL'), ('ผู้บริหาร', 'NCMN'), ('มี', 'VSTA'), ('การ', 'FIXN'), ('เปลี่ยน', 'VACT'), ('ตัวบุคคล', 'NCMN'), ('กัน', 'ADVN'), ('อยู่', 'XVAE'), ('เป็น', 'FIXV'), ('ประจำ', 'VATT'), ('<space>', 'PUNC'), ('จะ', 'XVBM'), ('ทำให้', 'VACT'), ('การ', 'FIXN'), ('ดำเนินการ', 'VACT'), ('ของ', 'RPRE'), ('หน่วยงาน', 'NCMN'), ('นั้น', 'DDAC'), ('ประสบ', 'VSTA'), ('ปัญหา', 'NCMN'), ('มาก', 'ADVN'), ('ยิ่งขึ้น', 'ADVN')])]),\n",
       " Tree('S', [Tree('NP', [('นั้น', 'DDAC')]), Tree('VP', [('คือ', 'VSTA'), ('จะ', 'XVBM'), ('ต้อง', 'XVMM'), ('มี', 'VSTA'), ('การ', 'FIXN'), ('อ่าน', 'VACT'), ('ประโยค', 'NCMN'), ('ของ', 'RPRE'), ('ภาษา', 'NCMN'), ('<space>', 'PUNC'), ('<left_parenthesis>', 'PUNC'), ('Source', 'NCMN'), ('Language', 'NCMN'), ('<right_parenthesis>', 'PUNC'), ('<space>', 'PUNC'), ('ที่จะ', 'JSBR'), ('แปล', 'VACT')])]),\n",
       " Tree('S', [Tree('NP', [('5', 'NCMN'), ('<full_stop>', 'NCMN'), ('<space>', 'PUNC'), ('การ', 'FIXN'), ('ใช้', 'VACT'), ('รูปแทน', 'NCMN'), ('คำนาม', 'NCMN')]), ('เพื่อ', 'JSBR'), Tree('VP', [('บอก', 'VACT'), ('ความ', 'FIXN'), ('ต่อเนื่อง', 'VSTA'), ('ใน', 'RPRE'), ('ข้อเขียน', 'NCMN'), ('ภาษาไทย', 'NPRP'), ('<space>', 'PUNC'), ('โดย', 'RPRE'), ('<space>', 'PUNC'), ('ประภาพร', 'NPRP'), ('<space>', 'PUNC'), ('มณีโรจน์', 'NPRP'), ('<space>', 'PUNC'), ('พ.ศ.', 'NCMN'), ('<space>', 'PUNC'), ('2528', 'NCNM')])]),\n",
       " Tree('S', [('โดย', 'JSBR'), Tree('NP', [('นักวิจัย', 'NCMN'), ('จาก', 'RPRE'), ('สถาบันการศึกษา', 'NCMN'), ('<space>', 'NCMN'), ('4', 'DCNM'), ('<space>', 'PUNC'), ('แห่ง', 'CNIT'), ('<space>', 'PUNC'), ('คือ', 'RPRE'), ('<space>', 'PUNC'), ('จุฬาลงกรณ์มหาวิทยาลัย', 'NPRP'), ('<space>', 'PUNC'), ('มหาวิทยาลัยเกษตรศาสตร์', 'NPRP'), ('<space>', 'PUNC'), ('สถาบันเทคโนโลยีพระจอมเกล้า', 'NPRP'), ('ธนบุรี', 'NPRP'), ('<space>', 'PUNC'), ('และ', 'RPRE'), ('สถาบันเทคโนโลยีพระจอมเกล้า', 'NPRP'), ('ลาดกระบัง', 'NPRP')]), ('<space>', 'PUNC'), Tree('VP', [('ร่วมกัน', 'ADVN'), ('ดำเนิน', 'VACT'), ('งานวิจัยและพัฒนา', 'NCMN')])]),\n",
       " Tree('S', [Tree('NP', [('และ', 'NCMN')]), ('เพื่อ', 'JSBR'), Tree('VP', [('มี', 'VSTA'), ('การ', 'FIXN'), ('ทำ', 'VACT'), ('<space>', 'PUNC'), ('similation', 'NCMN'), ('<space>', 'PUNC'), ('และ', 'NCMN'), ('<space>', 'PUNC'), ('autorouting', 'NCMN'), ('<space>', 'PUNC'), ('จะ', 'NCMN'), ('ได้', 'VSTA'), ('ค่า', 'NCMN'), ('ที่', 'PREL'), ('แน่นอน', 'VATT'), ('ของ', 'RPRE'), ('<space>', 'PUNC'), ('delay', 'NCMN'), ('time', 'NCMN'), ('<space>', 'PUNC'), ('ใน', 'RPRE'), ('<space>', 'PUNC'), ('gate', 'NCMN'), ('array', 'NCMN')])]),\n",
       " Tree('S', [Tree('NP', [('เทคนิค', 'NCMN'), ('ของ', 'RPRE'), ('<space>', 'PUNC'), ('Ion', 'NCMN'), ('<space>', 'PUNC'), ('inlantation', 'NCMN')]), ('<space>', 'PUNC'), Tree('VP', [('ควร', 'XVMM'), ('ถูก', 'XVAM'), ('นำมาใช้', 'VACT'), ('แทน', 'VSTA'), ('เทคนิค', 'NCMN'), ('ของ', 'RPRE'), ('การ', 'FIXN'), ('แพร่', 'VACT'), ('สารเจือ', 'NCMN')])]),\n",
       " Tree('S', [Tree('NP', [('4', 'NCNM'), ('<full_stop>', 'PUNC'), ('<space>', 'FIXN'), ('พิจารณา', 'VACT')]), Tree('VP', [('จัดทำ', 'VACT'), ('ข้อกำหนด', 'NCMN'), ('และ', 'JCRG'), ('รายละเอียด', 'NCMN'), ('ของ', 'RPRE'), ('ระบบ', 'NCMN'), ('เครือข่ายคอมพิวเตอร์', 'NCMN')])]),\n",
       " Tree('S', [Tree('NP', [('09.30', 'NCNM'), ('<minus>', 'PUNC'), ('10.00', 'NCNM'), ('<space>', 'PUNC'), ('ผู้อำนวยการ', 'NCMN'), ('ศูนย์ฯ', 'NCMN'), ('<space>', 'PUNC'), ('ประธาน', 'NCMN'), ('และ', 'JCRG'), ('รองประธาน', 'NCMN'), ('โครงการ', 'NCMN'), ('หลัก', 'VATT'), ('<space>', 'PUNC'), ('พบ', 'VACT'), ('และ', 'JCRG'), ('แถลงข่าว', 'VACT')]), Tree('VP', [('ร่วมกับ', 'VACT'), ('นักข่าว', 'NCMN')])]),\n",
       " Tree('S', [Tree('NP', [('โปรแกรม', 'NCMN'), ('เหล่านี้', 'DDAC')]), ('<space>', 'PUNC'), Tree('VP', [('อาจ', 'XVMM'), ('เปลี่ยนแปลง', 'VACT'), ('ได้', 'XVAE'), ('ขณะ', 'JSBR'), ('ใช้งาน', 'NCMN')])]),\n",
       " Tree('S', [Tree('NP', [('10', 'NCMN'), ('<full_stop>', 'NCMN'), ('<space>', 'PUNC'), ('โครงการ', 'NCMN'), ('<space>', 'PUNC'), ('การ', 'FIXN')]), Tree('VP', [('พัฒนา', 'VACT'), ('อุปกรณ์', 'NCMN'), ('โทรคมนาคม', 'NCMN')])]),\n",
       " Tree('S', [Tree('NP', [('และ', 'NCMN')]), Tree('VP', [('ยัง', 'XVBM'), ('ต้อง', 'XVMM'), ('พัฒนา', 'VACT'), ('โปรแกรม', 'NCMN'), ('ใน', 'RPRE'), ('ระบบ', 'NCMN'), ('เดิม', 'VATT'), ('อีก', 'ADVN'), ('ประมาณ', 'VSTA'), ('<space>', 'PUNC'), ('30', 'NCNM'), ('<space>', 'NCMN'), ('<minus>', 'PUNC'), ('<space>', 'NCMN'), ('40', 'DCNM'), ('<space>', 'PUNC'), ('โปรแกรม', 'CNIT')])]),\n",
       " Tree('S', [Tree('NP', [('4', 'NCMN'), ('<full_stop>', 'NCMN'), ('<space>', 'PUNC'), ('วิทยาศาสตร์', 'NCMN')]), ('<space>', 'PUNC'), Tree('VP', [('หมายถึง', 'VSTA'), ('<space>', 'PUNC'), ('วิชา', 'NCMN'), ('ดาราศาสตร์', 'NCMN'), ('<space>', 'PUNC'), ('บักเตรีวิทยา', 'NCMN'), ('<space>', 'PUNC'), ('ชีวเคมี', 'NCMN'), ('<space>', 'PUNC'), ('ชีววิทยา', 'NCMN'), ('<space>', 'PUNC'), ('พฤกษศาสตร์', 'NCMN'), ('<space>', 'PUNC'), ('เคมี', 'NCMN'), ('<space>', 'PUNC'), ('กีฏวิทยา', 'NCMN'), ('<space>', 'PUNC'), ('ธรณีวิทยา', 'NCMN'), ('<space>', 'PUNC'), ('คณิตศาสตร์', 'NCMN'), ('<space>', 'PUNC'), ('อุตุนิยมวิทยา', 'NCMN'), ('<space>', 'PUNC'), ('ฟิสิกส์', 'NCMN'), ('<space>', 'PUNC'), ('สัตววิทยา', 'NCMN'), ('และ', 'JCRG'), ('วิชา', 'NCMN'), ('ที่', 'PREL'), ('คล้ายคลึง', 'VSTA'), ('กัน', 'ADVN')])]),\n",
       " Tree('S', [Tree('NP', [('ส่วน', 'NCMN'), ('ของ', 'RPRE'), ('ฮาร์ดแวร์', 'NCMN'), ('มี', 'VSTA'), ('วัตถุประสงค์', 'NCMN'), ('สำคัญ', 'VATT'), ('คือ', 'VSTA')]), ('<space>', 'PUNC'), Tree('VP', [('เพื่อ', 'JSBR'), ('ช่วย', 'VACT'), ('ให้', 'RPRE'), ('การ', 'FIXN'), ('ทำงาน', 'VACT'), ('ของ', 'RPRE'), ('ระบบ', 'NCMN'), ('รวดเร็ว', 'VATT'), ('ขึ้น', 'XVAE')])]),\n",
       " Tree('S', [Tree('NP', [('6', 'NCNM'), ('<full_stop>', 'PUNC'), ('<space>', 'NCMN'), ('เพื่อ', 'RPRE'), ('ความ', 'FIXN'), ('สมบูรณ์', 'VSTA'), ('และ', 'JCRG'), ('ถูกต้อง', 'VSTA'), ('ของ', 'RPRE'), ('โปรแกรม', 'NCMN'), ('<space>', 'PUNC'), ('ทาง', 'RPRE'), ('ฝ่ายวิจัยและพัฒนา', 'NCMN')]), Tree('VP', [('ได้', 'XVAM'), ('เลือก', 'VACT'), ('มอเตอร์ไฟฟ้า', 'NCMN'), ('จาก', 'RPRE'), ('ผู้ผลิต', 'NCMN'), ('<space>', 'PUNC'), ('ทั้ง', 'NCMN'), ('ภายใน', 'RPRE'), ('ประเทศ', 'NCMN'), ('และ', 'JCRG'), ('ต่างประเทศ', 'NCMN')])]),\n",
       " Tree('S', [Tree('NP', [('ซึ่ง', 'NCMN')]), Tree('VP', [('จะ', 'XVBM'), ('ได้', 'VSTA'), ('ผลลัพท์', 'NCMN'), ('สำหรับ', 'RPRE'), ('ตัวอย่าง', 'NCMN'), ('นี้', 'DDAC'), ('ในรูป', 'NCMN'), ('ที่', 'DONM'), ('9', 'DONM')])]),\n",
       " Tree('S', [Tree('NP', [('4.2', 'NCNM')]), ('<space>', 'PUNC'), Tree('VP', [('ศึกษา', 'VACT'), ('ส่วนประกอบ', 'NCMN'), ('ของ', 'RPRE'), ('ข้อมูล', 'NCMN'), ('หลัก', 'VATT'), ('ของ', 'RPRE'), ('คำ', 'NCMN'), ('ใน', 'RPRE'), ('<space>', 'PUNC'), ('ED', 'NCMN')])]),\n",
       " Tree('S', [('ดังนั้น', 'JSBR'), Tree('NP', [('ใน', 'RPRE'), ('การ', 'FIXN'), ('วิจัย', 'VACT'), ('ครั้ง', 'CFQC'), ('นี้', 'DDAC')]), ('<space>', 'PUNC'), Tree('VP', [('จึง', 'XVBM'), ('ต้อง', 'XVMM'), ('พยายาม', 'VACT'), ('หา', 'VACT'), ('ลักษณะร่วม', 'NCMN'), ('ของ', 'RPRE'), ('ตัวอักษร', 'NCMN'), ('<space>', 'PUNC'), ('ที่', 'JSBR'), ('เป็น', 'VSTA'), ('กรณี', 'NCMN'), ('ทั่วไป', 'VATT')])]),\n",
       " Tree('S', [Tree('NP', [('08.00', 'NCNM'), ('<minus>', 'PUNC'), ('08.45', 'NCNM')]), ('<space>', 'PUNC'), Tree('VP', [('ลงทะเบียน', 'VACT')])]),\n",
       " Tree('S', [('ซึ่ง', 'JSBR'), Tree('NP', [('ทั้งหมด', 'PDMN'), ('นี้', 'DDAC'), ('<space>', 'PUNC'), ('ถ้าหาก', 'JSBR'), ('มี', 'VSTA'), ('สัญญาณรบกวน', 'NCMN'), ('ใด', 'DIAC'), ('ไป', 'XVAE'), ('เข้า', 'VACT'), ('ที่', 'RPRE'), ('อินพุท', 'NCMN'), ('ของ', 'RPRE'), ('<space>', 'PUNC'), ('VCO', 'NCMN')]), ('<space>', 'PUNC'), Tree('VP', [('ได้', 'VSTA')])]),\n",
       " Tree('S', [Tree('NP', [('คณะ', 'NCMN'), ('อนุกรรมการดำเนินงาน', 'NCMN'), ('ชุด', 'NCMN'), ('นี้', 'DDAC')]), ('<space>', 'PUNC'), Tree('VP', [('มี', 'VSTA'), ('<space>', 'PUNC'), ('7', 'DCNM'), ('<space>', 'PUNC'), ('ท่าน', 'CNIT')])]),\n",
       " Tree('S', [Tree('NP', [('4', 'NCNM'), ('<space>', 'PUNC'), ('geographical', 'NCMN'), ('regions', 'NCMN'), ('used', 'NCMN'), ('<space>', 'PUNC'), ('<minus>', 'DCNM'), ('<space>', 'PUNC'), ('คำ', 'CNIT'), ('ที่', 'PREL'), ('ใช้', 'VACT'), ('เฉพาะ', 'RPRE'), ('ท้องถิ่น', 'NCMN')]), ('<space>', 'PUNC'), Tree('VP', [('เช่น', 'VSTA'), ('<space>', 'PUNC'), ('เสื่อ', 'NCMN'), ('<minus>', 'PUNC'), ('สาด', 'NCMN')])]),\n",
       " Tree('S', [Tree('NP', [('โดย', 'RPRE'), ('แปลง', 'NCMN')]), Tree('VP', [('จาก', 'VACT'), ('สัญญาณไฟบ้าน', 'NCMN'), ('<space>', 'NCMN'), ('50', 'DCNM'), ('<space>', 'PUNC'), ('Hz', 'CMTR')])]),\n",
       " Tree('S', [Tree('NP', [('มี', 'NCMN'), ('รูปแบบ', 'NCMN')]), Tree('VP', [('เป็น', 'VSTA'), ('ไป', 'XVAE'), ('ตาม', 'RPRE'), ('มาตรฐาน', 'NCMN'), ('ของ', 'RPRE'), ('การ', 'FIXN'), ('จัดเรียง', 'VACT'), ('ข้อมูล', 'NCMN'), ('<space>', 'PUNC'), ('ของ', 'RPRE'), ('ไมโครโปรเซสเซอร์', 'NCMN')])]),\n",
       " Tree('S', [Tree('NP', [('ดัง', 'RPRE'), ('รูป', 'NCMN')]), Tree('VP', [('ที่', 'JSBR'), ('5', 'NCNM')])]),\n",
       " Tree('S', [Tree('NP', [('Field', 'NCMN'), ('<space>', 'NCMN'), ('ที่', 'DONM'), ('5', 'DONM'), ('<space>', 'PUNC'), ('สำหรับ', 'JSBR'), ('เก็บ', 'VACT'), ('จำนวน', 'NCMN'), ('เงิน', 'NCMN'), ('ที่', 'PREL'), ('เบิก', 'VACT'), ('ล่วงหน้า', 'ADVN')]), ('<space>', 'PUNC'), Tree('VP', [('เป็น', 'VSTA'), ('ตัวแปร', 'NCMN'), ('ชนิด', 'NCMN'), ('<space>', 'PUNC'), ('integer', 'NCMN')])]),\n",
       " Tree('S', [Tree('NP', [('รูป', 'NCMN'), ('ที่', 'DONM'), ('4.8', 'DONM')]), ('<space>', 'PUNC'), Tree('VP', [('แสดง', 'VACT'), ('การ', 'FIXN'), ('แปล', 'VACT'), ('คำสั่ง', 'NCMN'), ('ด้วย', 'RPRE'), ('วิธี', 'NCMN'), ('<space>', 'PUNC'), ('COMPILER', 'NCMN')])]),\n",
       " Tree('S', [Tree('NP', [('ตาราง', 'NCMN'), ('ที่', 'DONM'), ('2', 'DONM')]), ('<space>', 'PUNC'), Tree('VP', [('ผล', 'VACT'), ('การ', 'FIXN'), ('รู้จักจำ', 'VSTA'), ('ตัวอักษร', 'NCMN'), ('ใน', 'RPRE'), ('ตาราง', 'NCMN'), ('ที่', 'DONM'), ('1', 'DONM'), ('<space>', 'PUNC'), ('ของ', 'RPRE'), ('คอมพิวเตอร์', 'NCMN')])]),\n",
       " Tree('S', [Tree('NP', [('จะ', 'NCMN')]), Tree('VP', [('ประกอบ', 'VACT'), ('ด้วย', 'RPRE'), ('<space>', 'PUNC'), ('คณะ', 'NCMN'), ('อนุกรรมการ', 'NCMN'), ('อีก', 'ADVN'), ('<space>', 'PUNC'), ('2', 'DCNM'), ('<space>', 'PUNC'), ('ชุด', 'CNIT'), ('<space>', 'PUNC'), ('คือ', 'VSTA')])]),\n",
       " Tree('S', [Tree('NP', [('ส่วน', 'NCMN'), ('โครงสร้าง', 'NCMN'), ('แบบ', 'NCMN'), ('ไดโอดเปล่งแสง', 'NCMN'), ('จาก', 'RPRE'), ('ทาง', 'NCMN'), ('ด้านข้าง', 'NCMN'), ('นั้น', 'DDAC'), ('<space>', 'PUNC'), ('โครงสร้าง', 'NCMN'), ('แบบ', 'NCMN'), ('หัวต่อต่างชนิด', 'NCMN'), ('<space>', 'PUNC'), ('2', 'DCNM'), ('<space>', 'PUNC'), ('หัวต่อ', 'CNIT')]), ('<space>', 'PUNC'), Tree('VP', [('จะ', 'XVBM'), ('มี', 'VSTA'), ('ความ', 'FIXN'), ('เหมาะสม', 'VSTA'), ('กว่า', 'ADVN')])]),\n",
       " Tree('S', [('นอกจากนี้', 'JSBR'), Tree('NP', [('<space>', 'NCMN'), ('ห้องสมุด', 'NCMN'), ('ยัง', 'XVBM'), ('ขาด', 'VSTA'), ('เจ้าหน้าที่', 'NCMN'), ('บันทึก', 'VACT'), ('ข้อมูล', 'NCMN'), ('ที่', 'PREL'), ('มี', 'VSTA'), ('ประสบการณ์', 'NCMN'), ('ด้าน', 'RPRE'), ('การ', 'FIXN'), ('พิมพ์', 'VACT'), ('ด้วย', 'RPRE'), ('คอมพิวเตอร์', 'NCMN'), ('<space>', 'PUNC'), ('บันทึก', 'VACT'), ('ข้อมูล', 'NCMN'), ('ผิดพลาด', 'ADVN'), ('บ่อยครั้ง', 'ADVN')]), ('<space>', 'PUNC'), Tree('VP', [('มีผล', 'VACT'), ('ต่อ', 'RPRE'), ('การ', 'FIXN'), ('ทำงาน', 'VACT'), ('ระบบ', 'NCMN')])]),\n",
       " Tree('S', [Tree('NP', [('SCANNING', 'NCMN'), ('I', 'NCMN')]), ('<space>', 'PUNC'), Tree('VP', [('เป็น', 'VSTA'), ('โปรแกรม', 'NCMN'), ('ที่', 'PREL'), ('ใช้', 'VACT'), ('อ่าน', 'VACT'), ('อินพุท', 'NCMN'), ('เข้ามา', 'VACT'), ('เก็บ', 'VACT'), ('ไว้', 'XVAE'), ('ใน', 'RPRE'), ('หน่วยความจำข้อมูล', 'NCMN'), ('<space>', 'PUNC'), ('<left_parenthesis>', 'PUNC'), ('Data', 'NCMN'), ('Memory', 'NCMN'), ('<right_parenthesis>', 'PUNC'), ('<space>', 'PUNC'), ('ใน', 'RPRE'), ('ส่วน', 'NCMN'), ('พื้นที่', 'NCMN'), ('ของ', 'RPRE'), ('อินพุท', 'NCMN')])]),\n",
       " Tree('S', [Tree('NP', [('ใบไม้', 'NCMN')]), Tree('VP', [('กลาย', 'VSTA'), ('สี', 'NCMN')])]),\n",
       " Tree('S', [Tree('NP', [('ส่วน', 'NCMN'), ('ที่', 'PREL'), ('สำคัญ', 'VATT'), ('ที่สุด', 'ADVN'), ('<space>', 'PUNC'), ('ภายใน', 'RPRE'), ('โครงสร้าง', 'NCMN'), ('นี้', 'DDAC')]), ('ก็', 'JSBR'), Tree('VP', [('คือ', 'VSTA'), ('ส่วน', 'NCMN'), ('<space>', 'PUNC'), ('mainboard', 'NCMN')])]),\n",
       " Tree('S', [Tree('NP', [('ก็', 'NCMN')]), Tree('VP', [('จะ', 'XVBM'), ('เก็บ', 'VACT'), ('เงิน', 'NCMN'), ('และ', 'JCRG'), ('ชื่อ', 'NCMN'), ('ที่อยู่', 'NCMN'), ('ผู้ค้างจ่าย', 'NCMN'), ('ไว้', 'XVAE'), ('ใน', 'RPRE'), ('บัญชีลูกหนี้', 'NCMN')])]),\n",
       " Tree('S', [Tree('NP', [('ซอฟท์แวร์ควบคุมเครื่อง', 'NCMN'), ('<space>', 'PUNC'), ('Data', 'NCMN'), ('Logger', 'NCMN')]), ('<space>', 'PUNC'), Tree('VP', [('สามารถ', 'XVAM'), ('รับ', 'VACT'), ('การ', 'FIXN'), ('สั่งงาน', 'VACT'), ('ได้', 'XVAE'), ('จาก', 'RPRE'), ('<space>', 'NCMN'), ('2', 'DCNM'), ('<space>', 'PUNC'), ('หน่วย', 'CNIT'), ('<space>', 'PUNC'), ('คือ', 'JSBR'), ('รับ', 'VACT'), ('การ', 'FIXN'), ('สั่งงาน', 'VACT'), ('จาก', 'RPRE'), ('คีย์บอร์ด', 'NCMN'), ('ที่', 'PREL'), ('ติด', 'VSTA'), ('อยู่', 'XVAE'), ('กับ', 'RPRE'), ('ตัวเครื่อง', 'NCMN'), ('<space>', 'NCMN'), ('หรือ', 'JCRG'), ('รับ', 'VACT'), ('การ', 'FIXN'), ('สั่งงาน', 'VACT'), ('จาก', 'RPRE'), ('หน่วยควบคุม', 'NCMN'), ('หลัก', 'VATT'), ('<space>', 'PUNC'), ('โดย', 'RPRE'), ('ทาง', 'NCMN'), ('ช่องสื่อสาร', 'NCMN'), ('แบบ', 'NCMN'), ('อนุกรม', 'NCMN')])]),\n",
       " Tree('S', [Tree('NP', [('ฉะนั้น', 'NCMN'), ('ปัจจุบัน', 'NCMN')]), Tree('VP', [('มี', 'VSTA'), ('เครื่อง', 'NCMN'), ('ดังกล่าว', 'DDAC'), ('<space>', 'PUNC'), ('3', 'DCNM'), ('<space>', 'PUNC'), ('เครื่อง', 'CNIT')])]),\n",
       " Tree('S', [Tree('PP', [('จาก', 'RPRE'), ('รากฐาน', 'NCMN'), ('ทาง', 'RPRE'), ('เทคโนโลยี', 'NCMN')]), Tree('S', [('เดิม', 'NCMN'), ('ที่', 'PREL'), ('มี', 'VSTA'), ('อยู่', 'XVAE'), ('<space>', 'PUNC'), ('รวม', 'VACT'), ('กับ', 'RPRE'), ('เทคโนโลยี', 'NCMN'), ('ใหม่', 'VATT'), ('<space>', 'PUNC'), ('ทั้ง', 'VACT'), ('ด้าน', 'CLTV'), ('ฮาร์ดแวร์', 'NCMN'), ('และ', 'JCRG'), ('ซอฟต์แวร์', 'NCMN'), ('ที่', 'PREL'), ('รุดหน้า', 'VSTA'), ('ไป', 'XVAE'), ('ทุกวัน', 'ADVN')])]),\n",
       " Tree('S', [Tree('PP', [('เพื่อ', 'RPRE'), ('นำ', 'VACT')]), Tree('S', [('ข้อมูล', 'NCMN'), ('ไป', 'XVAE'), ('ปรับปรุง', 'VACT'), ('ขบวนการผลิต', 'NCMN'), ('ของ', 'RPRE'), ('โรงงาน', 'NCMN')])]),\n",
       " Tree('S', [Tree('NP', [('ห้องสมุด', 'NCMN'), ('ใน', 'RPRE'), ('โครงการ', 'NCMN')]), Tree('VP', [('เห็น', 'VSTA'), ('ว่า', 'RPRE'), ('<space>', 'PUNC'), ('การ', 'FIXN'), ('เข้าร่วม', 'VACT'), ('โครงการ', 'NCMN'), ('เครือข่ายคอมพิวเตอร์', 'NCMN'), ('ช่วย', 'VACT'), ('เพิ่ม', 'VACT'), ('สมรรถนะ', 'NCMN'), ('<space>', 'PUNC'), ('ใน', 'RPRE'), ('การ', 'FIXN'), ('สร้าง', 'VACT'), ('ฐานข้อมูล', 'NCMN'), ('สารนิเทศ', 'NCMN'), ('ด้าน', 'NCMN'), ('วิทยาศาสตร์', 'RPRE'), ('<space>', 'PUNC'), ('และ', 'JCRG'), ('เทคโนโลยี', 'NCMN')])]),\n",
       " Tree('S', [Tree('PP', [('เพื่อ', 'RPRE'), ('เป็น', 'VSTA'), ('อุปกรณ์', 'NCMN')]), Tree('S', [('ที่', 'NCMN'), ('มี', 'VSTA'), ('ราคา', 'NCMN'), ('ถูก', 'VATT')])]),\n",
       " Tree('S', [Tree('NP', [('Syntactic', 'NCMN'), ('Generation', 'NCMN')]), ('<space>', 'PUNC'), Tree('VP', [('เป็น', 'VSTA'), ('การ', 'FIXN'), ('สร้าง', 'VACT'), ('<space>', 'PUNC'), ('Grammatical', 'NCMN'), ('Structure', 'NCMN'), ('<space>', 'PUNC'), ('จาก', 'RPRE'), ('<space>', 'PUNC'), ('Semantic', 'NCMN'), ('<space>', 'PUNC'), ('ของ', 'RPRE'), ('ภาษาเป้าหมาย', 'NCMN')])]),\n",
       " Tree('S', [Tree('NP', [('อัตราส่วน', 'NCMN'), ('<space>', 'PUNC'), ('V', 'NCMN'), ('<space>', 'PUNC'), ('ของ', 'RPRE'), ('แรงดัน', 'NCMN'), ('ขาออก', 'NCMN'), ('ของ', 'RPRE'), ('อินเวอร์เตอร์', 'NCMN')]), ('<space>', 'PUNC'), Tree('VP', [('สามารถ', 'XVAM'), ('เลือก', 'VACT'), ('ได้', 'XVAE'), ('โดย', 'JSBR'), ('การ', 'FIXN'), ('กด', 'VACT'), ('ปุ่ม', 'NCMN'), ('คำสั่ง', 'NCMN'), ('เช่นกัน', 'ADVN')])]),\n",
       " Tree('S', [Tree('NP', [('ส่วน', 'NCMN'), ('ประการ', 'CNIT'), ('ที่สอง', 'DONM')]), ('<space>', 'PUNC'), Tree('VP', [('คือ', 'VSTA'), ('<space>', 'FIXN'), ('สามารถ', 'XVAM'), ('ที่จะ', 'JSBR'), ('รับ', 'VACT'), ('และ', 'JCRG'), ('เสนอแนะ', 'VACT'), ('นโยบาย', 'NCMN'), ('ด้าน', 'RPRE'), ('อิเล็กทรอนิกส์', 'NCMN'), ('และ', 'JCRG'), ('คอมพิวเตอร์', 'NCMN'), ('ต่อ', 'RPRE'), ('คณะ', 'NCMN'), ('รัฐมนตรี', 'NCMN'), ('ได้', 'XVAE'), ('โดย', 'FIXV'), ('ตรง', 'VATT')])]),\n",
       " Tree('S', [Tree('S', [('โครงการ', 'NCMN'), ('<space>', 'NCMN'), ('CT', 'NCMN'), ('-', 'NCMN'), ('Scanner', 'NCMN'), ('<space>', 'PUNC'), ('หลังจากที่', 'JSBR'), ('สามารถ', 'XVAM'), ('ถ่าย', 'VACT'), ('ภาพตัดขวาง', 'NCMN'), ('หนู', 'NCMN'), ('<space>', 'PUNC'), ('และ', 'RPRE'), ('สมอง', 'NCMN'), ('ของ', 'RPRE'), ('กระต่าย', 'NCMN'), ('ได้', 'VSTA'), ('<space>', 'NCMN'), ('<left_parenthesis>', 'PUNC'), ('ประมาณ', 'DIBQ'), ('<space>', 'PUNC'), ('มีนาคม', 'NCMN'), ('<space>', 'PUNC'), ('2533', 'NCNM'), ('<right_parenthesis>', 'PUNC'), ('<space>', 'FIXN'), ('ก็', 'JSBR'), ('คาดว่า', 'VACT'), ('คงจะ', 'XVBM'), ('สามารถ', 'XVAM'), ('ถ่าย', 'VACT'), ('ภาพตัดขวาง', 'NCMN'), ('ของ', 'RPRE'), ('มนุษย์', 'NCMN'), ('ได้', 'XVAE'), ('<space>', 'PUNC'), ('ราว', 'NCMN'), ('สิ้น', 'VSTA'), ('ปี', 'CNIT'), ('<space>', 'PUNC'), ('2533', 'NCNM'), ('<space>', 'NCMN')]), ('หรือ', 'JCRG'), Tree('S', [('ต้น', 'NCMN'), ('ปี', 'CNIT'), ('<space>', 'PUNC'), ('2534', 'NCNM'), ('<space>', 'PUNC'), ('เป็น', 'VSTA'), ('อย่าง', 'FIXV'), ('ช้า', 'ADVN')])]),\n",
       " Tree('S', [Tree('PP', [('โดย', 'RPRE'), ('เขียน', 'VACT'), ('ด้วย', 'RPRE'), ('<space>', 'PUNC'), ('C', 'NCMN'), ('language', 'NCMN')]), Tree('S', [('<space>', 'NCMN'), ('ที่', 'PREL'), ('พร้อมจะ', 'XVBM'), ('ใส่', 'VACT'), ('ลง', 'VACT'), ('บน', 'RPRE'), ('เวอร์กสเตชั่น', 'NCMN'), ('ได้', 'XVAE'), ('ทันที', 'ADVN')])]),\n",
       " Tree('S', [Tree('NP', [('การ', 'FIXN'), ('ทำงาน', 'VACT'), ('แบบ', 'NCMN'), ('<space>', 'PUNC'), ('A', 'NCMN'), ('mode', 'NCMN'), ('XA0-XA16', 'NCMN')]), ('<space>', 'PUNC'), Tree('VP', [('จะ', 'XVBM'), ('ถูก', 'XVAM'), ('สร้าง', 'VACT'), ('โดย', 'RPRE'), ('<space>', 'PUNC'), ('DMA', 'NCMN'), ('Controller', 'NCMN')])]),\n",
       " Tree('S', [Tree('NP', [('Conceptual', 'NCMN'), ('Wording', 'NCMN')]), ('<space>', 'PUNC'), Tree('VP', [('เป็น', 'VSTA'), ('ขั้นตอน', 'NCMN'), ('ของ', 'RPRE'), ('การ', 'FIXN'), ('สร้าง', 'VACT'), ('<space>', 'PUNC'), ('semantic', 'NCMN'), ('structure', 'NCMN'), ('<space>', 'PUNC'), ('ใน', 'RPRE'), ('ภาษาเป้าหมาย', 'NCMN')])]),\n",
       " Tree('S', [Tree('NP', [('ส่วน', 'NCMN'), ('สัญญาณ', 'NCMN'), ('Interupt', 'NCMN'), ('<space>', 'PUNC'), ('จะ', 'JSBR'), ('ทำงาน', 'VACT'), ('เมื่อ', 'JSBR'), ('มี', 'VSTA'), ('คำสั่ง', 'NCMN'), ('จาก', 'RPRE'), ('<space>', 'PUNC'), ('PC', 'NCMN')]), ('<space>', 'PUNC'), Tree('VP', [('เข้ามา', 'VACT')])]),\n",
       " Tree('S', [Tree('NP', [('เป็น', 'FIXN'), ('ที่', 'PREL'), ('ยอมรับ', 'VACT'), ('และ', 'JCRG'), ('นำ', 'VACT')]), Tree('VP', [('ไป', 'XVAE'), ('ประยุกต์ใช้', 'VACT'), ('ผลงาน', 'NCMN'), ('ดังกล่าว', 'DDAC'), ('ได้แก่', 'VSTA'), ('<space>', 'PUNC'), ('โปรแกรมเวิร์ดโปรเซสเซอร์', 'NCMN'), ('ภาษาไทย', 'NPRP'), ('<space>', 'PUNC'), ('1', 'NCNM'), ('<comma>', 'PUNC'), ('<space>', 'NCMN'), ('อัลกอริทึม', 'NCMN'), ('คำไทย', 'NCMN'), ('และ', 'JCRG'), ('การ', 'FIXN'), ('ประมวลผล', 'VACT'), ('ภาษาไทย', 'NPRP'), ('<space>', 'PUNC'), ('2', 'NCNM'), ('<comma>', 'PUNC'), ('<space>', 'NCMN'), ('ระบบ', 'NCMN'), ('การ', 'FIXN'), ('แปล', 'VACT'), ('ภาษาอังกฤษ', 'NPRP'), ('เป็น', 'VSTA'), ('ไทย', 'NPRP'), ('โดย', 'JSBR'), ('ใช้', 'VACT'), ('เทคนิค', 'NCMN'), ('<space>', 'PUNC'), ('semantic', 'NCMN'), ('preference', 'NCMN'), ('<space>', 'PUNC'), ('3', 'NCNM'), ('<comma>', 'PUNC'), ('<space>', 'NCMN'), ('การ', 'FIXN'), ('แบ่งแยก', 'VACT'), ('คำไทย', 'NCMN'), ('ใน', 'RPRE'), ('ระบบ', 'NCMN'), ('ประมวลผล', 'VACT'), ('ภาษาธรรมชาติ', 'NCMN'), ('<space>', 'PUNC'), ('4', 'NCNM'), ('<comma>', 'PUNC'), ('การ', 'FIXN'), ('แทน', 'VSTA'), ('ฐานความรอบรู้', 'NCMN'), ('สำหรับ', 'RPRE'), ('การ', 'FIXN'), ('ประมวลผล', 'VACT'), ('ด้วย', 'RPRE'), ('คอมพิวเตอร์', 'NCMN'), ('<space>', 'PUNC'), ('5', 'NCNM'), ('<comma>', 'PUNC'), ('<space>', 'FIXN'), ('อิเล็กทรอดิกชันนารี', 'NCMN'), ('และ', 'JCRG'), ('การ', 'FIXN'), ('จัด', 'VACT'), ('โครงสร้าง', 'NCMN'), ('ข้อมูล', 'NCMN'), ('ดิกชันนารี', 'NCMN'), ('<space>', 'PUNC'), ('6', 'NCNM'), ('<comma>', 'PUNC'), ('<space>', 'NCMN'), ('ข้อมูล', 'NCMN'), ('สถิติ', 'NCMN'), ('ที่', 'PREL'), ('สำคัญ', 'VATT'), ('ของ', 'RPRE'), ('การ', 'FIXN'), ('ใช้', 'VACT'), ('ตัวอักษร', 'NCMN'), ('<space>', 'PUNC'), ('และ', 'RPRE'), ('คำไทย', 'NCMN'), ('<space>', 'PUNC'), ('7', 'NCNM'), ('<comma>', 'PUNC'), ('<space>', 'NCMN'), ('และ', 'JCRG'), ('อื่นๆ', 'PDMN')])]),\n",
       " Tree('S', [Tree('NP', [('3', 'NCNM'), ('<right_parenthesis>', 'PUNC'), ('<space>', 'NCMN'), ('การ', 'FIXN'), ('ดำเนินงาน', 'VACT'), ('และ', 'JCRG'), ('วิจัย', 'VACT')]), Tree('VP', [('ทดลอง', 'VACT')])]),\n",
       " Tree('S', [Tree('NP', [('ภาษา', 'NCMN'), ('ที่', 'PREL'), ('ไม่', 'NEG'), ('มี', 'VSTA'), ('การ', 'FIXN'), ('แบ่ง', 'VACT'), ('คำ', 'NCMN'), ('ใน', 'RPRE'), ('ตัวเอง', 'PPRS'), ('<space>', 'PUNC'), ('เช่น', 'JSBR'), ('<space>', 'PUNC'), ('ภาษาไทย', 'NPRP'), ('<space>', 'PUNC'), ('ญี่ปุ่น', 'NPRP'), ('<space>', 'PUNC'), ('เกาหลี', 'NPRP'), ('<space>', 'PUNC'), ('เป็นต้น', 'PDMN')]), ('<space>', 'PUNC'), Tree('VP', [('จำเป็นต้อง', 'XVMM'), ('อาศัย', 'VSTA'), ('ขบวนการ', 'NCMN'), ('ของ', 'RPRE'), ('<space>', 'PUNC'), ('parsing', 'NCMN')])]),\n",
       " Tree('S', [Tree('NP', [('ไม่', 'NCMN')]), Tree('VP', [('รวม', 'VACT'), ('ชุด', 'NCMN'), ('ไมโครคอมพิวเตอร์', 'NCMN')])]),\n",
       " Tree('S', [Tree('NP', [('และ', 'NCMN'), ('รับ', 'VACT'), ('สัญญาณ', 'NCMN'), ('นาฬิกา', 'NCMN'), ('<space>', 'PUNC'), ('1', 'DCNM'), ('<space>', 'PUNC'), ('MHz', 'CMTR'), ('<space>', 'PUNC'), ('จาก', 'RPRE'), ('ภาคสร้างความถี่มาตรฐาน', 'NCMN')]), ('<space>', 'PUNC'), Tree('VP', [('มา', 'XVAE'), ('ทำ', 'VACT'), ('การ', 'FIXN'), ('ลด', 'VACT'), ('ข้อมูล', 'NCMN'), ('ตัวโน๊ต', 'NCMN'), ('ที่', 'PREL'), ('รับ', 'VACT'), ('มา', 'XVAE'), ('จนกระทั่ง', 'JSBR'), ('ข้อมูล', 'NCMN'), ('เป็น', 'VSTA'), ('ศูนย์', 'NCMN')])]),\n",
       " Tree('S', [Tree('PP', [('เพื่อ', 'RPRE'), ('สะดวก', 'VATT'), ('ใน', 'RPRE'), ('การ', 'FIXN'), ('ทำ', 'VACT')]), Tree('S', [('แบบฟอร์ม', 'NCMN'), ('ที่', 'PREL'), ('มี', 'VSTA'), ('ทั้ง', 'JCRG'), ('ภาพ', 'NCMN'), ('และ', 'JCRG'), ('ตัวอักษร', 'NCMN'), ('ปน', 'VSTA'), ('กัน', 'PPRS'), ('<space>', 'PUNC'), ('ใน', 'RPRE'), ('การ', 'FIXN'), ('ใช้', 'VACT'), ('แสดงผล', 'VACT'), ('ใน', 'RPRE'), ('ระบบ', 'NCMN'), ('ฐานข้อมูล', 'NCMN'), ('ภาพนิ่ง', 'NCMN')])]),\n",
       " Tree('S', [Tree('NP', [('แนวทาง', 'NCMN'), ('ใน', 'RPRE'), ('การ', 'FIXN'), ('พัฒนา', 'VACT'), ('เครื่อง', 'NCMN'), ('สังเคราะห์', 'VACT'), ('ความ', 'FIXN'), ('ถี่', 'VATT'), ('<space>', 'PUNC'), ('ซึ่ง', 'JSBR'), ('ควบคุม', 'VACT'), ('ด้วย', 'RPRE'), ('ไมโครโปรเซสเซอร์', 'NCMN'), ('ใน', 'RPRE'), ('ขั้นตอน', 'NCMN'), ('นี้', 'DDAC'), ('<space>', 'PUNC'), ('ได้', 'XVAM'), ('สรุป', 'VACT'), ('ผล', 'NCMN'), ('ออกมา', 'VACT'), ('ว่า', 'RPRE'), ('<space>', 'PUNC'), ('แนวทาง', 'NCMN'), ('ใน', 'RPRE'), ('การ', 'FIXN'), ('พัฒนา', 'VACT'), ('ต่อไป', 'ADVN'), ('<space>', 'PUNC'), ('จะ', 'XVBM'), ('นำ', 'VACT'), ('เทคนิค', 'NCMN'), ('ของ', 'RPRE'), ('เครื่องต้นแบบ', 'NCMN'), ('เครื่อง', 'CNIT'), ('ที่', 'DONM'), ('2', 'DONM')]), ('<space>', 'PUNC'), Tree('VP', [('มา', 'XVAE'), ('ทำ', 'VACT'), ('การ', 'FIXN'), ('พัฒนา', 'VACT'), ('ให้', 'JSBR'), ('เชื่อมต่อ', 'VACT'), ('การ', 'FIXN'), ('ควบคุม', 'VACT'), ('ด้วย', 'RPRE'), ('ไมโครโปรเซสเซอร์', 'NCMN'), ('ต่อไป', 'ADVN')])]),\n",
       " Tree('S', [Tree('NP', [('1', 'NCNM')]), Tree('VP', [('<full_stop>', 'VACT'), ('<space>', 'FIXN'), ('บทนำ', 'NCMN')])]),\n",
       " Tree('S', [Tree('S', [('ซึ่ง', 'JSBR'), ('ราคา', 'NCMN'), ('ใน', 'RPRE'), ('การ', 'FIXN'), ('ผลิต', 'VACT'), ('วงจรรวม', 'NCMN'), ('<space>', 'PUNC'), ('Full', 'NCMN'), ('custom', 'NCMN'), ('<space>', 'PUNC'), ('มี', 'VSTA'), ('ราคา', 'NCMN'), ('ต่ำ', 'VATT')]), ('กว่า', 'JSBR'), Tree('S', [('วงจรรวม', 'NCMN'), ('แบบ', 'NCMN'), ('อื่น', 'DIAC'), ('<space>', 'PUNC'), ('เนื่องจาก', 'JSBR'), ('ค่าใช้จ่าย', 'NCMN'), ('ใน', 'RPRE'), ('การ', 'FIXN'), ('ดำเนินการ', 'VACT'), ('ของ', 'RPRE'), ('โรงงาน', 'NCMN'), ('ที่', 'PREL'), ('เรียก', 'VACT'), ('ว่า', 'RPRE'), ('<space>', 'PUNC'), ('NRE.', 'NCMN'), ('<space>', 'PUNC'), ('<left_parenthesis>', 'PUNC'), ('Non', 'NCMN'), ('Return', 'NCMN'), ('Engineering', 'NCMN'), ('<right_parenthesis>', 'PUNC'), ('<space>', 'PUNC'), ('charge', 'NCMN'), ('<space>', 'PUNC'), ('มี', 'VSTA'), ('ราคา', 'NCMN'), ('ต่ำ', 'VATT')])]),\n",
       " Tree('S', [Tree('NP', [('15', 'NCMN'), ('<full_stop>', 'NCMN'), ('<space>', 'PUNC'), ('รูป', 'NCMN'), ('คำถาม', 'NCMN'), ('แบบ', 'NCMN'), ('ตอบ', 'VACT'), ('รับ', 'VACT')]), ('<minus>', 'PUNC'), Tree('VP', [('ปฏิเสธ', 'VACT'), ('ใน', 'RPRE'), ('งานแปล', 'NCMN'), ('ภาษาอังกฤษ', 'NCMN'), ('เป็น', 'VSTA'), ('ภาษาไทย', 'NPRP'), ('<space>', 'PUNC'), ('โดย', 'RPRE'), ('<space>', 'PUNC'), ('เฉลียว', 'NPRP'), ('<space>', 'PUNC'), ('เอกนิยม', 'NPRP'), ('<space>', 'PUNC'), ('พ.ศ.', 'NCMN'), ('<space>', 'PUNC'), ('2528', 'NCNM')])]),\n",
       " Tree('S', [Tree('NP', [('ซึ่ง', 'NCMN')]), Tree('VP', [('แบ่ง', 'VACT'), ('ตาม', 'RPRE'), ('ชนิด', 'NCMN'), ('ของ', 'RPRE'), ('มอเตอร์', 'NCMN'), ('<space>', 'NCMN'), ('ดังนี้', 'ADVN')])]),\n",
       " Tree('S', [Tree('NP', [('10', 'NCNM'), ('<right_parenthesis>', 'PUNC'), ('<space>', 'NCMN'), ('เครื่อง', 'NCMN'), ('คอมพิวเตอร์', 'NCMN'), ('<space>', 'PUNC'), ('<left_parenthesis>', 'PUNC'), ('IBM-PC', 'NCMN'), ('Computer', 'NCMN'), ('<right_parenthesis>', 'PUNC'), ('<space>', 'PUNC'), ('เป็น', 'RPRE'), ('เครื่อง', 'NCMN'), ('ไมโครคอมพิวเตอร์', 'NCMN')]), ('<space>', 'PUNC'), Tree('VP', [('ทำหน้าที่', 'VACT'), ('เป็น', 'VSTA'), ('หน่วยรับข้อมูลเข้า', 'NCMN'), ('<space>', 'NCMN'), ('และ', 'JCRG'), ('เป็น', 'VSTA'), ('หน่วยแสดงผล', 'NCMN')])]),\n",
       " Tree('S', [Tree('NP', [('ส่วนใหญ่', 'PDMN'), ('คือ', 'RPRE'), ('คำสันธาน', 'NCMN')]), ('<space>', 'PUNC'), Tree('VP', [('เช่น', 'VSTA')])]),\n",
       " Tree('S', [Tree('PP', [('โดย', 'RPRE'), ('ได้', 'XVAM'), ('ฝึกอบรม', 'VACT'), ('และ', 'JCRG'), ('บริการ', 'VACT')]), Tree('S', [('เทคโนโลยี', 'NCMN'), ('การ', 'FIXN'), ('ออกแบบ', 'VACT'), ('ด้วย', 'RPRE'), ('คอมพิวเตอร์', 'NCMN'), ('ใน', 'RPRE'), ('ระดับ', 'NCMN'), ('พื้นฐาน', 'VATT'), ('<space>', 'PUNC'), ('ระดับ', 'NCMN'), ('กลาง', 'RPRE'), ('<space>', 'PUNC'), ('และ', 'JCRG'), ('ระดับ', 'NCMN'), ('สูง', 'VATT'), ('แก่', 'RPRE'), ('บุคลากร', 'NCMN'), ('ของ', 'RPRE'), ('มหาวิทยาลัย', 'NCMN'), ('<space>', 'PUNC'), ('กระทรวงวิทยาศาสตร์ฯ', 'NPRP'), ('<space>', 'PUNC'), ('และ', 'RPRE'), ('หน่วยงาน', 'NCMN'), ('อื่น', 'DIAC'), ('ที่', 'PREL'), ('เกี่ยวข้อง', 'VSTA'), ('ทั้ง', 'JCRG'), ('ภาครัฐ', 'NCMN'), ('และ', 'JCRG'), ('ภาคเอกชน', 'NCMN'), ('ไป', 'VACT'), ('แล้ว', 'XVAE'), ('จำนวน', 'NCMN'), ('หลาย', 'DIBQ'), ('รุ่น', 'CLTV')])]),\n",
       " Tree('S', [Tree('NP', [('การ', 'FIXN'), ('วิเคราะห์', 'VACT'), ('ทาง', 'RPRE'), ('<space>', 'PUNC'), ('morpheme', 'NCMN'), ('<space>', 'FIXN'), ('มี', 'VSTA'), ('ขบวนการ', 'NCMN'), ('<space>', 'PUNC'), ('9', 'DCNM'), ('<space>', 'PUNC'), ('ขั้นตอน', 'CNIT')]), ('<space>', 'PUNC'), Tree('VP', [('คือ', 'VSTA')])]),\n",
       " Tree('S', [Tree('NP', [('ตัวอย่าง', 'NCMN'), ('ที่', 'PREL'), ('สำคัญ', 'VATT')]), ('<space>', 'PUNC'), Tree('VP', [('คือ', 'VSTA'), ('<space>', 'FIXN'), ('จะ', 'XVBM'), ('ได้', 'XVAM'), ('จัดตั้ง', 'VACT'), ('หน่วยฝึกอบรม', 'NCMN'), ('การ', 'FIXN'), ('ใช้', 'VACT'), ('อุปกรณ์', 'NCMN'), ('<space>', 'PUNC'), ('CAD', 'NCMN'), ('<space>', 'PUNC'), ('แก่', 'RPRE'), ('ภาค', 'NCMN'), ('เอกชน', 'NCMN'), ('<space>', 'PUNC'), ('หน่วยเครือข่ายคอมพิวเตอร์เชื่อมโยง', 'NPRP'), ('ศูนย์คอมพิวเตอร์', 'NCMN'), ('ของ', 'RPRE'), ('มหาวิทยาลัย', 'NCMN'), ('ต่างๆ', 'DIAC')])])]"
      ]
     },
     "execution_count": 35,
     "metadata": {},
     "output_type": "execute_result"
    }
   ],
   "source": [
    "test_sents"
   ]
  },
  {
   "cell_type": "code",
   "execution_count": 36,
   "metadata": {},
   "outputs": [],
   "source": [
    "#a1=[[(word,pos_tag) for word, pos_tag, chunk_tag in sent]  for sent in test_sents]"
   ]
  },
  {
   "cell_type": "code",
   "execution_count": 37,
   "metadata": {},
   "outputs": [],
   "source": [
    "#print(trigram_chunker.parse(a1[0]))"
   ]
  },
  {
   "cell_type": "code",
   "execution_count": 84,
   "metadata": {},
   "outputs": [
    {
     "name": "stdout",
     "output_type": "stream",
     "text": [
      "ChunkParse score:\n",
      "    IOB Accuracy:  50.6%%\n",
      "    Precision:     30.8%%\n",
      "    Recall:        21.3%%\n",
      "    F-Measure:     25.2%%\n"
     ]
    }
   ],
   "source": [
    "print(trigram_chunker.evaluate(test_sents))"
   ]
  },
  {
   "cell_type": "code",
   "execution_count": 39,
   "metadata": {},
   "outputs": [
    {
     "name": "stderr",
     "output_type": "stream",
     "text": [
      "<ipython-input-39-b8c68ec5a004>:2: DeprecationWarning: Using or importing the ABCs from 'collections' instead of from 'collections.abc' is deprecated since Python 3.3, and in 3.9 it will stop working\n",
      "  from collections import Iterable\n"
     ]
    }
   ],
   "source": [
    "import pickle\n",
    "from collections import Iterable\n",
    "from nltk import ChunkParserI, ClassifierBasedTagger"
   ]
  },
  {
   "cell_type": "code",
   "execution_count": 40,
   "metadata": {},
   "outputs": [],
   "source": [
    "from pythainlp.corpus import thai_stopwords\n",
    "ts = list(thai_stopwords())"
   ]
  },
  {
   "cell_type": "code",
   "execution_count": 41,
   "metadata": {},
   "outputs": [],
   "source": [
    "def features(tokens, index, history):\n",
    "    \"\"\"\n",
    "    `tokens`  = a POS-tagged sentence [(w1, t1), ...]\n",
    "    `index`   = the index of the token we want to extract features for\n",
    "    `history` = the previous predicted IOB tags\n",
    "    \"\"\"\n",
    " \n",
    "    # init the stemmer\n",
    " \n",
    "    # Pad the sequence with placeholders\n",
    "    tokens = [('__START2__', '__START2__'), ('__START1__', '__START1__')] + list(tokens) + [('__END1__', '__END1__'), ('__END2__', '__END2__')]\n",
    "    history = ['__START2__', '__START1__'] + list(history)\n",
    " \n",
    "    # shift the index with 2, to accommodate the padding\n",
    "    index += 2\n",
    " \n",
    "    word, pos = tokens[index]\n",
    "    prevword, prevpos = tokens[index - 1]\n",
    "    prevprevword, prevprevpos = tokens[index - 2]\n",
    "    nextword, nextpos = tokens[index + 1]\n",
    "    nextnextword, nextnextpos = tokens[index + 2]\n",
    " \n",
    "    return {\n",
    "        'word': word,\n",
    "        'word_is_stopword': word in ts,\n",
    "        'pos': pos,\n",
    " \n",
    "        'next-word': nextword,\n",
    "        'next-word_is_stopword': nextword in ts,\n",
    "        'next-pos': nextpos,\n",
    " \n",
    "        'next-next-word': nextnextword,\n",
    "        'nextnextpos': nextnextpos,\n",
    " \n",
    "        'prev-word': prevword,\n",
    "        'prev-pos': prevpos,\n",
    " \n",
    "        'prev-prev-word': prevprevword,\n",
    "        'prev-word_is_stopword': prevprevword in ts,\n",
    "        'prev-prev-pos': prevprevpos,\n",
    "    }\n",
    " "
   ]
  },
  {
   "cell_type": "code",
   "execution_count": 42,
   "metadata": {},
   "outputs": [],
   "source": [
    "class ClassifierChunkParser(ChunkParserI):\n",
    "    def __init__(self, chunked_sents, **kwargs):\n",
    "        assert isinstance(chunked_sents, Iterable)\n",
    " \n",
    "        # Transform the trees in IOB annotated sentences [(word, pos, chunk), ...]\n",
    "        chunked_sents = [tree2conlltags(sent) for sent in chunked_sents]\n",
    " \n",
    "        # Transform the triplets in pairs, make it compatible with the tagger interface [((word, pos), chunk), ...]\n",
    "        def triplets2tagged_pairs(iob_sent):\n",
    "            return [((word, pos), chunk) for word, pos, chunk in iob_sent]\n",
    "        chunked_sents = [triplets2tagged_pairs(sent) for sent in chunked_sents]\n",
    " \n",
    "        self.feature_detector = features\n",
    "        self.tagger = ClassifierBasedTagger(\n",
    "            train=chunked_sents,\n",
    "            feature_detector=features,\n",
    "            **kwargs)\n",
    " \n",
    "    def parse(self, tagged_sent):\n",
    "        chunks = self.tagger.tag(tagged_sent)\n",
    " \n",
    "        # Transform the result from [((w1, t1), iob1), ...] \n",
    "        # to the preferred list of triplets format [(w1, t1, iob1), ...]\n",
    "        iob_triplets = [(w, t, c) for ((w, t), c) in chunks]\n",
    " \n",
    "        # Transform the list of triplets to nltk.Tree format\n",
    "        return conlltags2tree(iob_triplets)"
   ]
  },
  {
   "cell_type": "code",
   "execution_count": 43,
   "metadata": {},
   "outputs": [],
   "source": [
    "classifier_chunker = ClassifierChunkParser(train_sents)"
   ]
  },
  {
   "cell_type": "code",
   "execution_count": 44,
   "metadata": {},
   "outputs": [
    {
     "name": "stdout",
     "output_type": "stream",
     "text": [
      "ChunkParse score:\n",
      "    IOB Accuracy:  48.3%%\n",
      "    Precision:     11.6%%\n",
      "    Recall:        35.6%%\n",
      "    F-Measure:     17.5%%\n"
     ]
    }
   ],
   "source": [
    "print(classifier_chunker.evaluate(test_sents))"
   ]
  },
  {
   "cell_type": "code",
   "execution_count": 45,
   "metadata": {},
   "outputs": [],
   "source": [
    "from sklearn.metrics import make_scorer\n",
    "from sklearn.model_selection import cross_validate,train_test_split\n",
    "import pycrfsuite"
   ]
  },
  {
   "cell_type": "code",
   "execution_count": 46,
   "metadata": {},
   "outputs": [],
   "source": [
    "model_name = \"crf\" "
   ]
  },
  {
   "cell_type": "code",
   "execution_count": 47,
   "metadata": {},
   "outputs": [],
   "source": [
    "def features2(tokens, index):\n",
    "    \"\"\"\n",
    "    `tokens`  = a POS-tagged sentence [(w1, t1), ...]\n",
    "    `index`   = the index of the token we want to extract features for\n",
    "    \"\"\"\n",
    " \n",
    "    # init the stemmer\n",
    " \n",
    "    # Pad the sequence with placeholders\n",
    "    #tokens = [('__START2__', '__START2__'), ('__START1__', '__START1__')] + list(tokens) + [('__END1__', '__END1__'), ('__END2__', '__END2__')]\n",
    " \n",
    "    # shift the index with 2, to accommodate the padding\n",
    "   \n",
    " \n",
    "    word, pos,_ = tokens[index]\n",
    "    f =  {\n",
    "        'word': word,\n",
    "        'word_is_stopword': word in ts,\n",
    "        'pos': pos,\n",
    "    }\n",
    "    if index > 0 and index>1:\n",
    "        prevprevword, prevprevpos,_ = tokens[index - 2]\n",
    "        f['prev-prev-word']= prevprevword\n",
    "        f['prev-prevz-word_is_stopword']= prevprevword in ts\n",
    "        f['prev-prevz-pos']= prevprevpos\n",
    "    if index > 0:\n",
    "        prevword, prevpos,_ = tokens[index-1]\n",
    "        f['prev-word']= prevword\n",
    "        f['prev-word_is_stopword']= prevword in ts\n",
    "        f['prev-pos']= prevpos\n",
    "    else:\n",
    "        f['BOS'] = True\n",
    "    if index< len(tokens)-2:\n",
    "        nextnextword, nextnextpos,_ = tokens[index + 2]\n",
    "        f['nextnext-word']= nextnextword\n",
    "        f['nextnext-word_is_stopword']= nextnextword in ts\n",
    "        f['nextnext-pos']= nextnextpos\n",
    "    if index< len(tokens)-1:\n",
    "        nextword, nextpos,_ = tokens[index+1]\n",
    "        f['next-word']= nextword\n",
    "        f['next-word_is_stopword']= nextword in ts\n",
    "        f['next-pos']= nextpos\n",
    "    else:\n",
    "        f['EOS'] = True\n",
    " \n",
    " \n",
    "    return f"
   ]
  },
  {
   "cell_type": "code",
   "execution_count": 48,
   "metadata": {},
   "outputs": [],
   "source": [
    "#tagger = pycrfsuite.Tagger()"
   ]
  },
  {
   "cell_type": "code",
   "execution_count": 49,
   "metadata": {},
   "outputs": [],
   "source": [
    "def thtb2conll2(t):\n",
    "    tt = Tree.fromstring(t.replace(\"[\",\"(\").replace(\"]\",\")\"))\n",
    "    tt = shallow_tree(tt) #flatten_deeptree(tt)\n",
    "    return tree2conlltags(tt)"
   ]
  },
  {
   "cell_type": "code",
   "execution_count": 50,
   "metadata": {},
   "outputs": [],
   "source": [
    "def extract_features(doc):\n",
    "    return [features2(doc, i) for i in range(0,len(doc))]\n",
    "\n",
    "def get_labels(doc):\n",
    "    return [tag for (token,postag,tag) in doc]"
   ]
  },
  {
   "cell_type": "code",
   "execution_count": 51,
   "metadata": {},
   "outputs": [],
   "source": [
    "from tqdm import tqdm"
   ]
  },
  {
   "cell_type": "code",
   "execution_count": 52,
   "metadata": {},
   "outputs": [],
   "source": [
    "train_sents2 = [tree2conlltags(i) for i in train_sents]"
   ]
  },
  {
   "cell_type": "code",
   "execution_count": 53,
   "metadata": {},
   "outputs": [
    {
     "name": "stderr",
     "output_type": "stream",
     "text": [
      "100%|████████████████████████████████████████████████████████████████████████████| 4500/4500 [00:03<00:00, 1383.25it/s]\n",
      "100%|██████████████████████████████████████████████████████████████████████████████████████| 4500/4500 [00:00<?, ?it/s]\n"
     ]
    }
   ],
   "source": [
    "X_data = [extract_features(doc) for doc in tqdm(train_sents2)]\n",
    "y_data = [get_labels(doc) for doc in tqdm(train_sents2)]"
   ]
  },
  {
   "cell_type": "code",
   "execution_count": 54,
   "metadata": {},
   "outputs": [
    {
     "name": "stdout",
     "output_type": "stream",
     "text": [
      "Wall time: 786 ms\n"
     ]
    }
   ],
   "source": [
    "%%time\n",
    "trainer = pycrfsuite.Trainer(verbose=False)\n",
    "i=0\n",
    "for xseq, yseq in zip(X_data, y_data):\n",
    "    try:\n",
    "      trainer.append(xseq, yseq)\n",
    "      i+=1\n",
    "    except:\n",
    "      pass"
   ]
  },
  {
   "cell_type": "code",
   "execution_count": 55,
   "metadata": {},
   "outputs": [],
   "source": [
    "trainer.set_params({\n",
    "    'c1': 0.1,   # coefficient for L1 penalty\n",
    "    'c2': 0.1,  # coefficient for L2 penalty\n",
    "    'max_iterations': 500,  # stop earlier\n",
    "\n",
    "    # include transitions that are possible, but not observed\n",
    "    'feature.possible_transitions': True\n",
    "})"
   ]
  },
  {
   "cell_type": "code",
   "execution_count": 56,
   "metadata": {},
   "outputs": [
    {
     "name": "stdout",
     "output_type": "stream",
     "text": [
      "Wall time: 35.3 s\n"
     ]
    }
   ],
   "source": [
    "%%time\n",
    "trainer.train(model_name+'.model')"
   ]
  },
  {
   "cell_type": "code",
   "execution_count": 57,
   "metadata": {},
   "outputs": [],
   "source": [
    "test_sents2 = [tree2conlltags(i) for i in test_sents]"
   ]
  },
  {
   "cell_type": "code",
   "execution_count": 58,
   "metadata": {},
   "outputs": [
    {
     "name": "stderr",
     "output_type": "stream",
     "text": [
      "100%|██████████████████████████████████████████████████████████████████████████████| 499/499 [00:00<00:00, 1425.30it/s]\n",
      "100%|████████████████████████████████████████████████████████████████████████████████████████| 499/499 [00:00<?, ?it/s]\n"
     ]
    }
   ],
   "source": [
    "X_val = [extract_features(doc) for doc in tqdm(test_sents2)]\n",
    "y_val = [get_labels(doc) for doc in tqdm(test_sents2)]"
   ]
  },
  {
   "cell_type": "code",
   "execution_count": 78,
   "metadata": {},
   "outputs": [],
   "source": [
    "from sklearn.preprocessing import LabelBinarizer\n",
    "from itertools import chain\n",
    "from sklearn.metrics import classification_report\n",
    "def bio_classification_report(y_true, y_pred):\n",
    "    \"\"\"\n",
    "    Classification report for a list of BIO-encoded sequences.\n",
    "    It computes token-level metrics and discards \"O\" labels.\n",
    "    \n",
    "    Note that it requires scikit-learn 0.15+ (or a version from github master)\n",
    "    to calculate averages properly!\n",
    "    \"\"\"\n",
    "    lb = LabelBinarizer()\n",
    "    y_true_combined = lb.fit_transform(list(chain.from_iterable(y_true)))\n",
    "    y_pred_combined = lb.transform(list(chain.from_iterable(y_pred)))\n",
    "        \n",
    "    tagset = set(lb.classes_) #- {'O'}\n",
    "    tagset = sorted(tagset, key=lambda tag: tag.split('-', 1)[::-1])\n",
    "    class_indices = {cls: idx for idx, cls in enumerate(lb.classes_)}\n",
    "    \n",
    "    return classification_report(\n",
    "        y_true_combined,\n",
    "        y_pred_combined,\n",
    "        labels = [class_indices[cls] for cls in tagset],\n",
    "        target_names = tagset,\n",
    "    )"
   ]
  },
  {
   "cell_type": "code",
   "execution_count": 79,
   "metadata": {},
   "outputs": [
    {
     "data": {
      "text/plain": [
       "<contextlib.closing at 0x1e543d8b820>"
      ]
     },
     "execution_count": 79,
     "metadata": {},
     "output_type": "execute_result"
    }
   ],
   "source": [
    "tagger = pycrfsuite.Tagger()\n",
    "tagger.open(model_name+'.model')"
   ]
  },
  {
   "cell_type": "code",
   "execution_count": 80,
   "metadata": {},
   "outputs": [
    {
     "name": "stdout",
     "output_type": "stream",
     "text": [
      "Wall time: 100 ms\n"
     ]
    }
   ],
   "source": [
    "%%time\n",
    "y_pred = [tagger.tag(xseq) for xseq in X_val]"
   ]
  },
  {
   "cell_type": "code",
   "execution_count": 81,
   "metadata": {},
   "outputs": [],
   "source": [
    "labels = list(tagger.info().labels.keys())"
   ]
  },
  {
   "cell_type": "code",
   "execution_count": 82,
   "metadata": {},
   "outputs": [],
   "source": [
    "from sklearn.metrics import f1_score"
   ]
  },
  {
   "cell_type": "code",
   "execution_count": 83,
   "metadata": {},
   "outputs": [
    {
     "name": "stdout",
     "output_type": "stream",
     "text": [
      "              precision    recall  f1-score   support\n",
      "\n",
      "        B-NP       0.95      0.96      0.96       420\n",
      "        I-NP       0.81      0.85      0.83      2093\n",
      "           O       0.86      0.87      0.86       269\n",
      "        B-PP       0.92      0.84      0.88        70\n",
      "        I-PP       0.74      0.72      0.73       271\n",
      "         B-S       0.53      0.45      0.48        89\n",
      "         I-S       0.68      0.56      0.62      1105\n",
      "        B-VP       0.84      0.86      0.85       419\n",
      "        I-VP       0.88      0.90      0.89      3760\n",
      "\n",
      "   micro avg       0.83      0.83      0.83      8496\n",
      "   macro avg       0.80      0.78      0.79      8496\n",
      "weighted avg       0.83      0.83      0.83      8496\n",
      " samples avg       0.83      0.83      0.83      8496\n",
      "\n"
     ]
    }
   ],
   "source": [
    "print(bio_classification_report(y_val, y_pred))"
   ]
  },
  {
   "cell_type": "code",
   "execution_count": 65,
   "metadata": {},
   "outputs": [],
   "source": [
    "from pythainlp.tokenize import word_tokenize\n",
    "from pythainlp.tag import pos_tag\n",
    "def test(txt):\n",
    "    m = [(w,t,None) for w,t in pos_tag(word_tokenize(txt), engine= 'perceptron',corpus = 'orchid')]\n",
    "    x = extract_features(m)\n",
    "    tag = tagger.tag(x)\n",
    "    p = [(w,t,tag[i]) for i,(w,t,_) in enumerate(m)]\n",
    "    return p"
   ]
  },
  {
   "cell_type": "code",
   "execution_count": 66,
   "metadata": {},
   "outputs": [
    {
     "data": {
      "text/plain": [
       "[('ได้', 'XVAM', 'B-NP'),\n",
       " ('เวลานอน', 'ADVN', 'I-NP'),\n",
       " ('แล้ว', 'XVAE', 'B-VP')]"
      ]
     },
     "execution_count": 66,
     "metadata": {},
     "output_type": "execute_result"
    }
   ],
   "source": [
    "test(\"ได้เวลานอนแล้ว\")"
   ]
  },
  {
   "cell_type": "code",
   "execution_count": 67,
   "metadata": {},
   "outputs": [
    {
     "data": {
      "text/plain": [
       "[('ตา', 'NCMN', 'B-NP'),\n",
       " ('และ', 'JCRG', 'I-NP'),\n",
       " ('ยาย', 'VACT', 'I-NP'),\n",
       " ('ไป', 'XVAE', 'B-VP'),\n",
       " ('โรงเรียน', 'NCMN', 'I-VP')]"
      ]
     },
     "execution_count": 67,
     "metadata": {},
     "output_type": "execute_result"
    }
   ],
   "source": [
    "test(\"ตาและยายไปโรงเรียน\")"
   ]
  },
  {
   "cell_type": "code",
   "execution_count": 68,
   "metadata": {},
   "outputs": [],
   "source": [
    "u=conlltags2tree(test(\"ตาและยายไปโรงเรียน\"))"
   ]
  },
  {
   "cell_type": "code",
   "execution_count": 69,
   "metadata": {},
   "outputs": [
    {
     "name": "stdout",
     "output_type": "stream",
     "text": [
      "(S (NP ตา/NCMN และ/JCRG ยาย/VACT) (VP ไป/XVAE โรงเรียน/NCMN))\n"
     ]
    }
   ],
   "source": [
    "print(u)"
   ]
  },
  {
   "cell_type": "code",
   "execution_count": 70,
   "metadata": {},
   "outputs": [],
   "source": [
    "u=conlltags2tree(test(\"การประชุมอบรมครั้งที่ 1\"))"
   ]
  },
  {
   "cell_type": "code",
   "execution_count": 71,
   "metadata": {},
   "outputs": [
    {
     "name": "stdout",
     "output_type": "stream",
     "text": [
      "(S\n",
      "  (NP การประชุม/NCMN)\n",
      "  (VP อบรม/VACT ครั้ง/CFQC ที่/PREL  /PUNC 1/DCNM))\n"
     ]
    }
   ],
   "source": [
    "print(u)"
   ]
  },
  {
   "cell_type": "code",
   "execution_count": 72,
   "metadata": {},
   "outputs": [],
   "source": [
    "u=conlltags2tree(test(\"แมวกินปลาทู\"))"
   ]
  },
  {
   "cell_type": "code",
   "execution_count": 73,
   "metadata": {},
   "outputs": [
    {
     "name": "stdout",
     "output_type": "stream",
     "text": [
      "(S (NP แมว/NCMN) (VP กิน/VACT ปลาทู/NCMN))\n"
     ]
    }
   ],
   "source": [
    "print(u)"
   ]
  },
  {
   "cell_type": "code",
   "execution_count": 74,
   "metadata": {},
   "outputs": [
    {
     "name": "stdout",
     "output_type": "stream",
     "text": [
      "(S (NP แมว/NCMN เขียว/NCMN) (VP กิน/VACT ปลาแดง/NCMN))\n"
     ]
    }
   ],
   "source": [
    "u=conlltags2tree(test(\"แมวเขียวกินปลาแดง\"))\n",
    "print(u)"
   ]
  },
  {
   "cell_type": "code",
   "execution_count": 10,
   "metadata": {},
   "outputs": [],
   "source": [
    "import dill"
   ]
  },
  {
   "cell_type": "code",
   "execution_count": 86,
   "metadata": {},
   "outputs": [],
   "source": [
    "#with open(\"test_sents.data\", \"wb\") as dill_file:\n",
    "#    dill.dump(test_sents2, dill_file)"
   ]
  },
  {
   "cell_type": "code",
   "execution_count": 87,
   "metadata": {},
   "outputs": [],
   "source": [
    "#with open(\"train_sents.data\", \"wb\") as dill_file:\n",
    "#    dill.dump(train_sents2, dill_file)"
   ]
  },
  {
   "cell_type": "code",
   "execution_count": 11,
   "metadata": {},
   "outputs": [],
   "source": [
    "with open(\"test_sents.data\", 'rb') as in_strm:\n",
    "    test_sents = dill.load(in_strm)"
   ]
  },
  {
   "cell_type": "code",
   "execution_count": 12,
   "metadata": {},
   "outputs": [],
   "source": [
    "with open(\"train_sents.data\", 'rb') as in_strm:\n",
    "    train_sents = dill.load(in_strm)"
   ]
  },
  {
   "cell_type": "code",
   "execution_count": 13,
   "metadata": {},
   "outputs": [],
   "source": [
    "import nltk\n",
    "\n",
    "class UnigramChunker(nltk.ChunkParserI):\n",
    "    def __init__(self, train_sents):\n",
    "        train_data = [[(t,c) for w,t,c in nltk.chunk.tree2conlltags(sent)] for sent in train_sents]\n",
    "        self.tagger = nltk.UnigramTagger(train_data)\n",
    "\n",
    "    def parse(self, sentence):\n",
    "        pos_tags = [pos for (word, pos) in sentence]\n",
    "        tagged_pos_tags = self.tagger.tag(pos_tags)\n",
    "        chunktags = [chunktag for (pos, chunktag) in tagged_pos_tags]\n",
    "        conlltags = [(word, pos, chunktag) for ((word, pos), chunktag) in zip(sentence, chunktags)]\n",
    "        return nltk.chunk.util.conlltags2tree(conlltags)\n",
    "\n",
    "def npchunk_features(sentence, i, history):\n",
    "    word, pos = sentence[i]\n",
    "    if i == 0:\n",
    "       prevword, prevpos = \"<START>\", \"<START>\"\n",
    "    else:\n",
    "       prevword, prevpos = sentence[i-1]\n",
    "    return {\"pos\": pos, \"prevpos\": prevpos}\n",
    "\n",
    "class ConsecutiveNPChunkTagger(nltk.TaggerI):\n",
    "\n",
    "    def __init__(self, train_sents):\n",
    "        train_set = []\n",
    "        for tagged_sent in train_sents:\n",
    "            untagged_sent = nltk.tag.untag(tagged_sent)\n",
    "            history = []\n",
    "            for i, (word, tag) in enumerate(tagged_sent):\n",
    "                featureset = npchunk_features(untagged_sent, i, history)\n",
    "                train_set.append( (featureset, tag) )\n",
    "                history.append(tag)\n",
    "        self.classifier = nltk.MaxentClassifier.train(\n",
    "            train_set, algorithm='IIS', trace=0)\n",
    "\n",
    "    def tag(self, sentence):\n",
    "        history = []\n",
    "        for i, word in enumerate(sentence):\n",
    "            featureset = npchunk_features(sentence, i, history)\n",
    "            tag = self.classifier.classify(featureset)\n",
    "            history.append(tag)\n",
    "        return zip(sentence, history)\n",
    "\n",
    "class ConsecutiveNPChunker(nltk.ChunkParserI):\n",
    "    def __init__(self, train_sents):\n",
    "        tagged_sents = [[((w,t),c) for (w,t,c) in\n",
    "                         nltk.chunk.tree2conlltags(sent)]\n",
    "                        for sent in train_sents]\n",
    "        self.tagger = ConsecutiveNPChunkTagger(tagged_sents)\n",
    "\n",
    "    def parse(self, sentence):\n",
    "        tagged_sents = self.tagger.tag(sentence)\n",
    "        conlltags = [(w,t,c) for ((w,t),c) in tagged_sents]\n",
    "        return nltk.chunk.conlltags2tree(conlltags)"
   ]
  },
  {
   "cell_type": "code",
   "execution_count": 14,
   "metadata": {},
   "outputs": [],
   "source": [
    "chunker = ConsecutiveNPChunker(train_sents)"
   ]
  },
  {
   "cell_type": "code",
   "execution_count": 21,
   "metadata": {},
   "outputs": [],
   "source": [
    "p=[(i,j) for i, j,_ in test_sents[0]]"
   ]
  },
  {
   "cell_type": "code",
   "execution_count": 23,
   "metadata": {},
   "outputs": [
    {
     "name": "stderr",
     "output_type": "stream",
     "text": [
      "The Ghostscript executable isn't found.\n",
      "See http://web.mit.edu/ghostscript/www/Install.htm\n",
      "If you're using a Mac, you can try installing\n",
      "https://docs.brew.sh/Installation then `brew install ghostscript`\n"
     ]
    },
    {
     "ename": "LookupError",
     "evalue": "",
     "output_type": "error",
     "traceback": [
      "\u001b[1;31m---------------------------------------------------------------------------\u001b[0m",
      "\u001b[1;31mLookupError\u001b[0m                               Traceback (most recent call last)",
      "\u001b[1;32mc:\\python\\python38\\lib\\site-packages\\nltk\\tree.py\u001b[0m in \u001b[0;36m_repr_png_\u001b[1;34m(self)\u001b[0m\n\u001b[0;32m    797\u001b[0m                     [\n\u001b[1;32m--> 798\u001b[1;33m                         find_binary(\n\u001b[0m\u001b[0;32m    799\u001b[0m                             \u001b[1;34m\"gs\"\u001b[0m\u001b[1;33m,\u001b[0m\u001b[1;33m\u001b[0m\u001b[1;33m\u001b[0m\u001b[0m\n",
      "\u001b[1;32mc:\\python\\python38\\lib\\site-packages\\nltk\\internals.py\u001b[0m in \u001b[0;36mfind_binary\u001b[1;34m(name, path_to_bin, env_vars, searchpath, binary_names, url, verbose)\u001b[0m\n\u001b[0;32m    687\u001b[0m ):\n\u001b[1;32m--> 688\u001b[1;33m     return next(\n\u001b[0m\u001b[0;32m    689\u001b[0m         find_binary_iter(\n",
      "\u001b[1;32mc:\\python\\python38\\lib\\site-packages\\nltk\\internals.py\u001b[0m in \u001b[0;36mfind_binary_iter\u001b[1;34m(name, path_to_bin, env_vars, searchpath, binary_names, url, verbose)\u001b[0m\n\u001b[0;32m    672\u001b[0m     \"\"\"\n\u001b[1;32m--> 673\u001b[1;33m     for file in find_file_iter(\n\u001b[0m\u001b[0;32m    674\u001b[0m         \u001b[0mpath_to_bin\u001b[0m \u001b[1;32mor\u001b[0m \u001b[0mname\u001b[0m\u001b[1;33m,\u001b[0m \u001b[0menv_vars\u001b[0m\u001b[1;33m,\u001b[0m \u001b[0msearchpath\u001b[0m\u001b[1;33m,\u001b[0m \u001b[0mbinary_names\u001b[0m\u001b[1;33m,\u001b[0m \u001b[0murl\u001b[0m\u001b[1;33m,\u001b[0m \u001b[0mverbose\u001b[0m\u001b[1;33m\u001b[0m\u001b[1;33m\u001b[0m\u001b[0m\n",
      "\u001b[1;32mc:\\python\\python38\\lib\\site-packages\\nltk\\internals.py\u001b[0m in \u001b[0;36mfind_file_iter\u001b[1;34m(filename, env_vars, searchpath, file_names, url, verbose, finding_dir)\u001b[0m\n\u001b[0;32m    631\u001b[0m         \u001b[0mdiv\u001b[0m \u001b[1;33m=\u001b[0m \u001b[1;34m\"=\"\u001b[0m \u001b[1;33m*\u001b[0m \u001b[1;36m75\u001b[0m\u001b[1;33m\u001b[0m\u001b[1;33m\u001b[0m\u001b[0m\n\u001b[1;32m--> 632\u001b[1;33m         \u001b[1;32mraise\u001b[0m \u001b[0mLookupError\u001b[0m\u001b[1;33m(\u001b[0m\u001b[1;34m\"\\n\\n%s\\n%s\\n%s\"\u001b[0m \u001b[1;33m%\u001b[0m \u001b[1;33m(\u001b[0m\u001b[0mdiv\u001b[0m\u001b[1;33m,\u001b[0m \u001b[0mmsg\u001b[0m\u001b[1;33m,\u001b[0m \u001b[0mdiv\u001b[0m\u001b[1;33m)\u001b[0m\u001b[1;33m)\u001b[0m\u001b[1;33m\u001b[0m\u001b[1;33m\u001b[0m\u001b[0m\n\u001b[0m\u001b[0;32m    633\u001b[0m \u001b[1;33m\u001b[0m\u001b[0m\n",
      "\u001b[1;31mLookupError\u001b[0m: \n\n===========================================================================\nNLTK was unable to find the gs file!\nUse software specific configuration paramaters or set the PATH environment variable.\n===========================================================================",
      "\nDuring handling of the above exception, another exception occurred:\n",
      "\u001b[1;31mLookupError\u001b[0m                               Traceback (most recent call last)",
      "\u001b[1;32mc:\\python\\python38\\lib\\site-packages\\IPython\\core\\formatters.py\u001b[0m in \u001b[0;36m__call__\u001b[1;34m(self, obj)\u001b[0m\n\u001b[0;32m    343\u001b[0m             \u001b[0mmethod\u001b[0m \u001b[1;33m=\u001b[0m \u001b[0mget_real_method\u001b[0m\u001b[1;33m(\u001b[0m\u001b[0mobj\u001b[0m\u001b[1;33m,\u001b[0m \u001b[0mself\u001b[0m\u001b[1;33m.\u001b[0m\u001b[0mprint_method\u001b[0m\u001b[1;33m)\u001b[0m\u001b[1;33m\u001b[0m\u001b[1;33m\u001b[0m\u001b[0m\n\u001b[0;32m    344\u001b[0m             \u001b[1;32mif\u001b[0m \u001b[0mmethod\u001b[0m \u001b[1;32mis\u001b[0m \u001b[1;32mnot\u001b[0m \u001b[1;32mNone\u001b[0m\u001b[1;33m:\u001b[0m\u001b[1;33m\u001b[0m\u001b[1;33m\u001b[0m\u001b[0m\n\u001b[1;32m--> 345\u001b[1;33m                 \u001b[1;32mreturn\u001b[0m \u001b[0mmethod\u001b[0m\u001b[1;33m(\u001b[0m\u001b[1;33m)\u001b[0m\u001b[1;33m\u001b[0m\u001b[1;33m\u001b[0m\u001b[0m\n\u001b[0m\u001b[0;32m    346\u001b[0m             \u001b[1;32mreturn\u001b[0m \u001b[1;32mNone\u001b[0m\u001b[1;33m\u001b[0m\u001b[1;33m\u001b[0m\u001b[0m\n\u001b[0;32m    347\u001b[0m         \u001b[1;32melse\u001b[0m\u001b[1;33m:\u001b[0m\u001b[1;33m\u001b[0m\u001b[1;33m\u001b[0m\u001b[0m\n",
      "\u001b[1;32mc:\\python\\python38\\lib\\site-packages\\nltk\\tree.py\u001b[0m in \u001b[0;36m_repr_png_\u001b[1;34m(self)\u001b[0m\n\u001b[0;32m    815\u001b[0m                 )\n\u001b[0;32m    816\u001b[0m                 \u001b[0mprint\u001b[0m\u001b[1;33m(\u001b[0m\u001b[0mpre_error_message\u001b[0m\u001b[1;33m,\u001b[0m \u001b[0mfile\u001b[0m\u001b[1;33m=\u001b[0m\u001b[0msys\u001b[0m\u001b[1;33m.\u001b[0m\u001b[0mstderr\u001b[0m\u001b[1;33m)\u001b[0m\u001b[1;33m\u001b[0m\u001b[1;33m\u001b[0m\u001b[0m\n\u001b[1;32m--> 817\u001b[1;33m                 \u001b[1;32mraise\u001b[0m \u001b[0mLookupError\u001b[0m\u001b[1;33m\u001b[0m\u001b[1;33m\u001b[0m\u001b[0m\n\u001b[0m\u001b[0;32m    818\u001b[0m \u001b[1;33m\u001b[0m\u001b[0m\n\u001b[0;32m    819\u001b[0m             \u001b[1;32mwith\u001b[0m \u001b[0mopen\u001b[0m\u001b[1;33m(\u001b[0m\u001b[0mout_path\u001b[0m\u001b[1;33m,\u001b[0m \u001b[1;34m\"rb\"\u001b[0m\u001b[1;33m)\u001b[0m \u001b[1;32mas\u001b[0m \u001b[0msr\u001b[0m\u001b[1;33m:\u001b[0m\u001b[1;33m\u001b[0m\u001b[1;33m\u001b[0m\u001b[0m\n",
      "\u001b[1;31mLookupError\u001b[0m: "
     ]
    },
    {
     "data": {
      "text/plain": [
       "Tree('S', [('ปัจจุบัน', 'NCMN'), ('นี้', 'DDAC'), ('<space>', 'PUNC'), ('ระบบ', 'NCMN'), ('การ', 'FIXN'), ('แปล', 'VACT'), ('ภาษา', 'NCMN'), ('ด้วย', 'RPRE'), ('เครื่องคอมพิวเตอร์', 'NCMN'), ('ยัง', 'XVBM'), ('ไม่', 'NEG'), ('สมบูรณ์', 'VSTA'), ('นัก', 'ADVN')])"
      ]
     },
     "execution_count": 23,
     "metadata": {},
     "output_type": "execute_result"
    }
   ],
   "source": [
    "chunker.parse(p)"
   ]
  },
  {
   "cell_type": "code",
   "execution_count": 24,
   "metadata": {},
   "outputs": [
    {
     "data": {
      "text/plain": [
       "[('ปัจจุบัน', 'NCMN', 'B-NP'),\n",
       " ('นี้', 'DDAC', 'I-NP'),\n",
       " ('<space>', 'PUNC', 'I-NP'),\n",
       " ('ระบบ', 'NCMN', 'I-NP'),\n",
       " ('การ', 'FIXN', 'I-NP'),\n",
       " ('แปล', 'VACT', 'I-NP'),\n",
       " ('ภาษา', 'NCMN', 'I-NP'),\n",
       " ('ด้วย', 'RPRE', 'I-NP'),\n",
       " ('เครื่องคอมพิวเตอร์', 'NCMN', 'I-NP'),\n",
       " ('ยัง', 'XVBM', 'B-VP'),\n",
       " ('ไม่', 'NEG', 'I-VP'),\n",
       " ('สมบูรณ์', 'VSTA', 'I-VP'),\n",
       " ('นัก', 'ADVN', 'I-VP')]"
      ]
     },
     "execution_count": 24,
     "metadata": {},
     "output_type": "execute_result"
    }
   ],
   "source": [
    "test_sents[0]"
   ]
  },
  {
   "cell_type": "code",
   "execution_count": 16,
   "metadata": {},
   "outputs": [
    {
     "ename": "AttributeError",
     "evalue": "'list' object has no attribute 'leaves'",
     "output_type": "error",
     "traceback": [
      "\u001b[1;31m---------------------------------------------------------------------------\u001b[0m",
      "\u001b[1;31mAttributeError\u001b[0m                            Traceback (most recent call last)",
      "\u001b[1;32m<ipython-input-16-ab119bd1dc0f>\u001b[0m in \u001b[0;36m<module>\u001b[1;34m\u001b[0m\n\u001b[1;32m----> 1\u001b[1;33m \u001b[0mprint\u001b[0m\u001b[1;33m(\u001b[0m\u001b[0mchunker\u001b[0m\u001b[1;33m.\u001b[0m\u001b[0mevaluate\u001b[0m\u001b[1;33m(\u001b[0m\u001b[0mtest_sents\u001b[0m\u001b[1;33m)\u001b[0m\u001b[1;33m)\u001b[0m\u001b[1;33m\u001b[0m\u001b[1;33m\u001b[0m\u001b[0m\n\u001b[0m",
      "\u001b[1;32mc:\\python\\python38\\lib\\site-packages\\nltk\\chunk\\api.py\u001b[0m in \u001b[0;36mevaluate\u001b[1;34m(self, gold)\u001b[0m\n\u001b[0;32m     49\u001b[0m         \u001b[0mchunkscore\u001b[0m \u001b[1;33m=\u001b[0m \u001b[0mChunkScore\u001b[0m\u001b[1;33m(\u001b[0m\u001b[1;33m)\u001b[0m\u001b[1;33m\u001b[0m\u001b[1;33m\u001b[0m\u001b[0m\n\u001b[0;32m     50\u001b[0m         \u001b[1;32mfor\u001b[0m \u001b[0mcorrect\u001b[0m \u001b[1;32min\u001b[0m \u001b[0mgold\u001b[0m\u001b[1;33m:\u001b[0m\u001b[1;33m\u001b[0m\u001b[1;33m\u001b[0m\u001b[0m\n\u001b[1;32m---> 51\u001b[1;33m             \u001b[0mchunkscore\u001b[0m\u001b[1;33m.\u001b[0m\u001b[0mscore\u001b[0m\u001b[1;33m(\u001b[0m\u001b[0mcorrect\u001b[0m\u001b[1;33m,\u001b[0m \u001b[0mself\u001b[0m\u001b[1;33m.\u001b[0m\u001b[0mparse\u001b[0m\u001b[1;33m(\u001b[0m\u001b[0mcorrect\u001b[0m\u001b[1;33m.\u001b[0m\u001b[0mleaves\u001b[0m\u001b[1;33m(\u001b[0m\u001b[1;33m)\u001b[0m\u001b[1;33m)\u001b[0m\u001b[1;33m)\u001b[0m\u001b[1;33m\u001b[0m\u001b[1;33m\u001b[0m\u001b[0m\n\u001b[0m\u001b[0;32m     52\u001b[0m         \u001b[1;32mreturn\u001b[0m \u001b[0mchunkscore\u001b[0m\u001b[1;33m\u001b[0m\u001b[1;33m\u001b[0m\u001b[0m\n",
      "\u001b[1;31mAttributeError\u001b[0m: 'list' object has no attribute 'leaves'"
     ]
    }
   ],
   "source": [
    "print(chunker.evaluate(test_sents))"
   ]
  },
  {
   "cell_type": "code",
   "execution_count": null,
   "metadata": {},
   "outputs": [],
   "source": []
  }
 ],
 "metadata": {
  "kernelspec": {
   "display_name": "Python 3",
   "language": "python",
   "name": "python3"
  },
  "language_info": {
   "codemirror_mode": {
    "name": "ipython",
    "version": 3
   },
   "file_extension": ".py",
   "mimetype": "text/x-python",
   "name": "python",
   "nbconvert_exporter": "python",
   "pygments_lexer": "ipython3",
   "version": "3.8.5"
  }
 },
 "nbformat": 4,
 "nbformat_minor": 4
}
