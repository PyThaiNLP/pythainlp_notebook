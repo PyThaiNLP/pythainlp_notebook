{
 "cells": [
  {
   "cell_type": "code",
   "execution_count": 1,
   "metadata": {},
   "outputs": [],
   "source": [
    "with open(\"thtb_orchidpp.txt\",\"r\",encoding=\"utf-8-sig\") as f:\n",
    "    listfile = [i.strip() for i in f.readlines()]"
   ]
  },
  {
   "cell_type": "code",
   "execution_count": 2,
   "metadata": {},
   "outputs": [
    {
     "data": {
      "text/plain": [
       "'[S [NP [FIXN การ]] [VP [VACT ประชุม] [PP [RPRE ทาง] [NP [NCMN วิชาการ] [PUNC <space>] [NP [NCMN ครั้ง] [DONM ที่ 1]]]]]]'"
      ]
     },
     "execution_count": 2,
     "metadata": {},
     "output_type": "execute_result"
    }
   ],
   "source": [
    "listfile[0]"
   ]
  },
  {
   "cell_type": "code",
   "execution_count": 3,
   "metadata": {},
   "outputs": [],
   "source": [
    "t = \"\"\"(S\n",
    "(NP การ/FIXN)\n",
    "(VP ประชุม/VACT)\n",
    "(VP ประชุม/VACT)\n",
    ")\"\"\""
   ]
  },
  {
   "cell_type": "code",
   "execution_count": 4,
   "metadata": {},
   "outputs": [],
   "source": [
    "#[i for i in listfile if i.count('[S ')>1]"
   ]
  },
  {
   "cell_type": "code",
   "execution_count": 5,
   "metadata": {},
   "outputs": [],
   "source": [
    "from nltk.chunk import conlltags2tree, tree2conlltags"
   ]
  },
  {
   "cell_type": "code",
   "execution_count": 6,
   "metadata": {},
   "outputs": [],
   "source": [
    "from nltk.tree import Tree"
   ]
  },
  {
   "cell_type": "code",
   "execution_count": 7,
   "metadata": {},
   "outputs": [],
   "source": [
    "#tree2conlltags(t)"
   ]
  },
  {
   "cell_type": "code",
   "execution_count": 8,
   "metadata": {},
   "outputs": [
    {
     "data": {
      "text/plain": [
       "'[S [NP [FIXN การ]] [VP [VACT ประชุม] [PP [RPRE ทาง] [NP [NCMN วิชาการ] [PUNC <space>] [NP [NCMN ครั้ง] [DONM ที่ 1]]]]]]'"
      ]
     },
     "execution_count": 8,
     "metadata": {},
     "output_type": "execute_result"
    }
   ],
   "source": [
    "listfile[0]"
   ]
  },
  {
   "cell_type": "code",
   "execution_count": 9,
   "metadata": {},
   "outputs": [],
   "source": [
    "#from nltk.treetransforms import  *"
   ]
  },
  {
   "cell_type": "code",
   "execution_count": 10,
   "metadata": {},
   "outputs": [],
   "source": [
    "tt = listfile[135]#'[S [NP [FIXN การ]] [VP [VACT ประชุม]] [PP [RPRE ทาง]] [NP [NCMN วิชาการ] [PUNC <space>] [NP [NCMN ครั้ง] [DONM ที่ 1]]]]'"
   ]
  },
  {
   "cell_type": "code",
   "execution_count": 11,
   "metadata": {},
   "outputs": [],
   "source": [
    "def traverse_tree(tree): # from https://stackoverflow.com/a/31727984\n",
    "    # print(\"tree:\", tree)\n",
    "    for subtree in tree:\n",
    "        if type(subtree) == Tree and subtree.label() == \"S\":\n",
    "            print(subtree)"
   ]
  },
  {
   "cell_type": "code",
   "execution_count": 12,
   "metadata": {},
   "outputs": [],
   "source": [
    "t = Tree.fromstring(tt.replace(\"[\",\"(\").replace(\"]\",\")\"))"
   ]
  },
  {
   "cell_type": "code",
   "execution_count": 13,
   "metadata": {},
   "outputs": [
    {
     "name": "stdout",
     "output_type": "stream",
     "text": [
      "(S\n",
      "  (PP (PREL ซึ่ง) (VP (XVBM จะ) (VSTA มี)))\n",
      "  (S\n",
      "    (NP (NCMN ที่ตั้ง))\n",
      "    (VP\n",
      "      (VSTA อยู่)\n",
      "      (NP\n",
      "        (NP (CNIT ชั้น) (PUNC <space>) (NCNM 7))\n",
      "        (PUNC <space>)\n",
      "        (PP\n",
      "          (RPRE ของ)\n",
      "          (NP\n",
      "            (NPRP\n",
      "              สำนักงานปลัดกระทรวงวิทยาศาสตร์\n",
      "              เทคโนโลยีและการพลังงาน)))))))\n"
     ]
    }
   ],
   "source": [
    "print(t)"
   ]
  },
  {
   "cell_type": "code",
   "execution_count": 14,
   "metadata": {},
   "outputs": [
    {
     "name": "stdout",
     "output_type": "stream",
     "text": [
      "(S\n",
      "  (NP (NCMN ที่ตั้ง))\n",
      "  (VP\n",
      "    (VSTA อยู่)\n",
      "    (NP\n",
      "      (NP (CNIT ชั้น) (PUNC <space>) (NCNM 7))\n",
      "      (PUNC <space>)\n",
      "      (PP\n",
      "        (RPRE ของ)\n",
      "        (NP\n",
      "          (NPRP\n",
      "            สำนักงานปลัดกระทรวงวิทยาศาสตร์\n",
      "            เทคโนโลยีและการพลังงาน))))))\n"
     ]
    }
   ],
   "source": [
    "traverse_tree(t)"
   ]
  },
  {
   "cell_type": "code",
   "execution_count": 15,
   "metadata": {},
   "outputs": [
    {
     "name": "stdout",
     "output_type": "stream",
     "text": [
      "(S\n",
      "  (PP (PREL ซึ่ง) (VP (XVBM จะ) (VSTA มี)))\n",
      "  (S\n",
      "    (NP (NCMN ที่ตั้ง))\n",
      "    (VP\n",
      "      (VSTA อยู่)\n",
      "      (NP\n",
      "        (NP (CNIT ชั้น) (PUNC <space>) (NCNM 7))\n",
      "        (PUNC <space>)\n",
      "        (PP\n",
      "          (RPRE ของ)\n",
      "          (NP\n",
      "            (NPRP\n",
      "              สำนักงานปลัดกระทรวงวิทยาศาสตร์\n",
      "              เทคโนโลยีและการพลังงาน)))))))\n"
     ]
    }
   ],
   "source": [
    "print(t)"
   ]
  },
  {
   "cell_type": "code",
   "execution_count": 16,
   "metadata": {},
   "outputs": [
    {
     "data": {
      "text/plain": [
       "'S'"
      ]
     },
     "execution_count": 16,
     "metadata": {},
     "output_type": "execute_result"
    }
   ],
   "source": [
    "t[1].label()"
   ]
  },
  {
   "cell_type": "code",
   "execution_count": 17,
   "metadata": {},
   "outputs": [],
   "source": [
    "t2= t.productions()"
   ]
  },
  {
   "cell_type": "code",
   "execution_count": 18,
   "metadata": {},
   "outputs": [
    {
     "name": "stderr",
     "output_type": "stream",
     "text": [
      "The Ghostscript executable isn't found.\n",
      "See http://web.mit.edu/ghostscript/www/Install.htm\n",
      "If you're using a Mac, you can try installing\n",
      "https://docs.brew.sh/Installation then `brew install ghostscript`\n"
     ]
    },
    {
     "ename": "LookupError",
     "evalue": "",
     "output_type": "error",
     "traceback": [
      "\u001b[1;31m---------------------------------------------------------------------------\u001b[0m",
      "\u001b[1;31mLookupError\u001b[0m                               Traceback (most recent call last)",
      "\u001b[1;32mc:\\python\\python38\\lib\\site-packages\\nltk\\tree.py\u001b[0m in \u001b[0;36m_repr_png_\u001b[1;34m(self)\u001b[0m\n\u001b[0;32m    797\u001b[0m                     [\n\u001b[1;32m--> 798\u001b[1;33m                         find_binary(\n\u001b[0m\u001b[0;32m    799\u001b[0m                             \u001b[1;34m\"gs\"\u001b[0m\u001b[1;33m,\u001b[0m\u001b[1;33m\u001b[0m\u001b[1;33m\u001b[0m\u001b[0m\n",
      "\u001b[1;32mc:\\python\\python38\\lib\\site-packages\\nltk\\internals.py\u001b[0m in \u001b[0;36mfind_binary\u001b[1;34m(name, path_to_bin, env_vars, searchpath, binary_names, url, verbose)\u001b[0m\n\u001b[0;32m    687\u001b[0m ):\n\u001b[1;32m--> 688\u001b[1;33m     return next(\n\u001b[0m\u001b[0;32m    689\u001b[0m         find_binary_iter(\n",
      "\u001b[1;32mc:\\python\\python38\\lib\\site-packages\\nltk\\internals.py\u001b[0m in \u001b[0;36mfind_binary_iter\u001b[1;34m(name, path_to_bin, env_vars, searchpath, binary_names, url, verbose)\u001b[0m\n\u001b[0;32m    672\u001b[0m     \"\"\"\n\u001b[1;32m--> 673\u001b[1;33m     for file in find_file_iter(\n\u001b[0m\u001b[0;32m    674\u001b[0m         \u001b[0mpath_to_bin\u001b[0m \u001b[1;32mor\u001b[0m \u001b[0mname\u001b[0m\u001b[1;33m,\u001b[0m \u001b[0menv_vars\u001b[0m\u001b[1;33m,\u001b[0m \u001b[0msearchpath\u001b[0m\u001b[1;33m,\u001b[0m \u001b[0mbinary_names\u001b[0m\u001b[1;33m,\u001b[0m \u001b[0murl\u001b[0m\u001b[1;33m,\u001b[0m \u001b[0mverbose\u001b[0m\u001b[1;33m\u001b[0m\u001b[1;33m\u001b[0m\u001b[0m\n",
      "\u001b[1;32mc:\\python\\python38\\lib\\site-packages\\nltk\\internals.py\u001b[0m in \u001b[0;36mfind_file_iter\u001b[1;34m(filename, env_vars, searchpath, file_names, url, verbose, finding_dir)\u001b[0m\n\u001b[0;32m    631\u001b[0m         \u001b[0mdiv\u001b[0m \u001b[1;33m=\u001b[0m \u001b[1;34m\"=\"\u001b[0m \u001b[1;33m*\u001b[0m \u001b[1;36m75\u001b[0m\u001b[1;33m\u001b[0m\u001b[1;33m\u001b[0m\u001b[0m\n\u001b[1;32m--> 632\u001b[1;33m         \u001b[1;32mraise\u001b[0m \u001b[0mLookupError\u001b[0m\u001b[1;33m(\u001b[0m\u001b[1;34m\"\\n\\n%s\\n%s\\n%s\"\u001b[0m \u001b[1;33m%\u001b[0m \u001b[1;33m(\u001b[0m\u001b[0mdiv\u001b[0m\u001b[1;33m,\u001b[0m \u001b[0mmsg\u001b[0m\u001b[1;33m,\u001b[0m \u001b[0mdiv\u001b[0m\u001b[1;33m)\u001b[0m\u001b[1;33m)\u001b[0m\u001b[1;33m\u001b[0m\u001b[1;33m\u001b[0m\u001b[0m\n\u001b[0m\u001b[0;32m    633\u001b[0m \u001b[1;33m\u001b[0m\u001b[0m\n",
      "\u001b[1;31mLookupError\u001b[0m: \n\n===========================================================================\nNLTK was unable to find the gs file!\nUse software specific configuration paramaters or set the PATH environment variable.\n===========================================================================",
      "\nDuring handling of the above exception, another exception occurred:\n",
      "\u001b[1;31mLookupError\u001b[0m                               Traceback (most recent call last)",
      "\u001b[1;32mc:\\python\\python38\\lib\\site-packages\\IPython\\core\\formatters.py\u001b[0m in \u001b[0;36m__call__\u001b[1;34m(self, obj)\u001b[0m\n\u001b[0;32m    343\u001b[0m             \u001b[0mmethod\u001b[0m \u001b[1;33m=\u001b[0m \u001b[0mget_real_method\u001b[0m\u001b[1;33m(\u001b[0m\u001b[0mobj\u001b[0m\u001b[1;33m,\u001b[0m \u001b[0mself\u001b[0m\u001b[1;33m.\u001b[0m\u001b[0mprint_method\u001b[0m\u001b[1;33m)\u001b[0m\u001b[1;33m\u001b[0m\u001b[1;33m\u001b[0m\u001b[0m\n\u001b[0;32m    344\u001b[0m             \u001b[1;32mif\u001b[0m \u001b[0mmethod\u001b[0m \u001b[1;32mis\u001b[0m \u001b[1;32mnot\u001b[0m \u001b[1;32mNone\u001b[0m\u001b[1;33m:\u001b[0m\u001b[1;33m\u001b[0m\u001b[1;33m\u001b[0m\u001b[0m\n\u001b[1;32m--> 345\u001b[1;33m                 \u001b[1;32mreturn\u001b[0m \u001b[0mmethod\u001b[0m\u001b[1;33m(\u001b[0m\u001b[1;33m)\u001b[0m\u001b[1;33m\u001b[0m\u001b[1;33m\u001b[0m\u001b[0m\n\u001b[0m\u001b[0;32m    346\u001b[0m             \u001b[1;32mreturn\u001b[0m \u001b[1;32mNone\u001b[0m\u001b[1;33m\u001b[0m\u001b[1;33m\u001b[0m\u001b[0m\n\u001b[0;32m    347\u001b[0m         \u001b[1;32melse\u001b[0m\u001b[1;33m:\u001b[0m\u001b[1;33m\u001b[0m\u001b[1;33m\u001b[0m\u001b[0m\n",
      "\u001b[1;32mc:\\python\\python38\\lib\\site-packages\\nltk\\tree.py\u001b[0m in \u001b[0;36m_repr_png_\u001b[1;34m(self)\u001b[0m\n\u001b[0;32m    815\u001b[0m                 )\n\u001b[0;32m    816\u001b[0m                 \u001b[0mprint\u001b[0m\u001b[1;33m(\u001b[0m\u001b[0mpre_error_message\u001b[0m\u001b[1;33m,\u001b[0m \u001b[0mfile\u001b[0m\u001b[1;33m=\u001b[0m\u001b[0msys\u001b[0m\u001b[1;33m.\u001b[0m\u001b[0mstderr\u001b[0m\u001b[1;33m)\u001b[0m\u001b[1;33m\u001b[0m\u001b[1;33m\u001b[0m\u001b[0m\n\u001b[1;32m--> 817\u001b[1;33m                 \u001b[1;32mraise\u001b[0m \u001b[0mLookupError\u001b[0m\u001b[1;33m\u001b[0m\u001b[1;33m\u001b[0m\u001b[0m\n\u001b[0m\u001b[0;32m    818\u001b[0m \u001b[1;33m\u001b[0m\u001b[0m\n\u001b[0;32m    819\u001b[0m             \u001b[1;32mwith\u001b[0m \u001b[0mopen\u001b[0m\u001b[1;33m(\u001b[0m\u001b[0mout_path\u001b[0m\u001b[1;33m,\u001b[0m \u001b[1;34m\"rb\"\u001b[0m\u001b[1;33m)\u001b[0m \u001b[1;32mas\u001b[0m \u001b[0msr\u001b[0m\u001b[1;33m:\u001b[0m\u001b[1;33m\u001b[0m\u001b[1;33m\u001b[0m\u001b[0m\n",
      "\u001b[1;31mLookupError\u001b[0m: "
     ]
    },
    {
     "data": {
      "text/plain": [
       "Tree('S', ['ซึ่ง', 'จะ', 'มี', 'ที่ตั้ง', 'อยู่', 'ชั้น', '<space>', '7', '<space>', 'ของ', 'สำนักงานปลัดกระทรวงวิทยาศาสตร์', 'เทคโนโลยีและการพลังงาน'])"
      ]
     },
     "execution_count": 18,
     "metadata": {},
     "output_type": "execute_result"
    }
   ],
   "source": [
    "t.flatten()"
   ]
  },
  {
   "cell_type": "code",
   "execution_count": null,
   "metadata": {},
   "outputs": [],
   "source": []
  },
  {
   "cell_type": "code",
   "execution_count": 19,
   "metadata": {},
   "outputs": [],
   "source": [
    "from nltk import treetransforms"
   ]
  },
  {
   "cell_type": "code",
   "execution_count": 20,
   "metadata": {},
   "outputs": [],
   "source": [
    "from copy import deepcopy"
   ]
  },
  {
   "cell_type": "code",
   "execution_count": 21,
   "metadata": {},
   "outputs": [],
   "source": [
    "collapsedTree = deepcopy(t)"
   ]
  },
  {
   "cell_type": "code",
   "execution_count": 22,
   "metadata": {},
   "outputs": [],
   "source": [
    "from transforms import flatten_deeptree"
   ]
  },
  {
   "cell_type": "code",
   "execution_count": 23,
   "metadata": {},
   "outputs": [],
   "source": [
    "t3=flatten_deeptree(collapsedTree)"
   ]
  },
  {
   "cell_type": "code",
   "execution_count": 24,
   "metadata": {},
   "outputs": [
    {
     "data": {
      "text/plain": [
       "3"
      ]
     },
     "execution_count": 24,
     "metadata": {},
     "output_type": "execute_result"
    }
   ],
   "source": [
    "t3.height()"
   ]
  },
  {
   "cell_type": "code",
   "execution_count": 25,
   "metadata": {},
   "outputs": [
    {
     "name": "stdout",
     "output_type": "stream",
     "text": [
      "(S\n",
      "  ซึ่ง/PREL\n",
      "  (VP จะ/XVBM มี/VSTA)\n",
      "  (NP ที่ตั้ง/NCMN)\n",
      "  อยู่/VSTA\n",
      "  (NP ชั้น/CNIT <space>/PUNC 7/NCNM)\n",
      "  <space>/PUNC\n",
      "  ของ/RPRE\n",
      "  (NP\n",
      "    สำนักงานปลัดกระทรวงวิทยาศาสตร์/NPRP\n",
      "    เทคโนโลยีและการพลังงาน/NPRP))\n"
     ]
    }
   ],
   "source": [
    "print(t3) # flattening the deep tree "
   ]
  },
  {
   "cell_type": "code",
   "execution_count": 26,
   "metadata": {},
   "outputs": [
    {
     "data": {
      "text/plain": [
       "[('ซึ่ง', 'PREL', 'O'),\n",
       " ('จะ', 'XVBM', 'B-VP'),\n",
       " ('มี', 'VSTA', 'I-VP'),\n",
       " ('ที่ตั้ง', 'NCMN', 'B-NP'),\n",
       " ('อยู่', 'VSTA', 'O'),\n",
       " ('ชั้น', 'CNIT', 'B-NP'),\n",
       " ('<space>', 'PUNC', 'I-NP'),\n",
       " ('7', 'NCNM', 'I-NP'),\n",
       " ('<space>', 'PUNC', 'O'),\n",
       " ('ของ', 'RPRE', 'O'),\n",
       " ('สำนักงานปลัดกระทรวงวิทยาศาสตร์', 'NPRP', 'B-NP'),\n",
       " ('เทคโนโลยีและการพลังงาน', 'NPRP', 'I-NP')]"
      ]
     },
     "execution_count": 26,
     "metadata": {},
     "output_type": "execute_result"
    }
   ],
   "source": [
    "tree2conlltags(t3)"
   ]
  },
  {
   "cell_type": "code",
   "execution_count": 27,
   "metadata": {},
   "outputs": [],
   "source": [
    "from transforms import shallow_tree"
   ]
  },
  {
   "cell_type": "code",
   "execution_count": 28,
   "metadata": {},
   "outputs": [],
   "source": [
    "t4=shallow_tree(collapsedTree)"
   ]
  },
  {
   "cell_type": "code",
   "execution_count": 29,
   "metadata": {},
   "outputs": [
    {
     "data": {
      "text/plain": [
       "[('ซึ่ง', 'PREL', 'B-PP'),\n",
       " ('จะ', 'XVBM', 'I-PP'),\n",
       " ('มี', 'VSTA', 'I-PP'),\n",
       " ('ที่ตั้ง', 'NCMN', 'B-S'),\n",
       " ('อยู่', 'VSTA', 'I-S'),\n",
       " ('ชั้น', 'CNIT', 'I-S'),\n",
       " ('<space>', 'PUNC', 'I-S'),\n",
       " ('7', 'NCNM', 'I-S'),\n",
       " ('<space>', 'PUNC', 'I-S'),\n",
       " ('ของ', 'RPRE', 'I-S'),\n",
       " ('สำนักงานปลัดกระทรวงวิทยาศาสตร์', 'NPRP', 'I-S'),\n",
       " ('เทคโนโลยีและการพลังงาน', 'NPRP', 'I-S')]"
      ]
     },
     "execution_count": 29,
     "metadata": {},
     "output_type": "execute_result"
    }
   ],
   "source": [
    "tree2conlltags(t4)"
   ]
  },
  {
   "cell_type": "code",
   "execution_count": 30,
   "metadata": {},
   "outputs": [
    {
     "name": "stdout",
     "output_type": "stream",
     "text": [
      "(S\n",
      "  (PP ซึ่ง/PREL จะ/XVBM มี/VSTA)\n",
      "  (S\n",
      "    ที่ตั้ง/NCMN\n",
      "    อยู่/VSTA\n",
      "    ชั้น/CNIT\n",
      "    <space>/PUNC\n",
      "    7/NCNM\n",
      "    <space>/PUNC\n",
      "    ของ/RPRE\n",
      "    สำนักงานปลัดกระทรวงวิทยาศาสตร์/NPRP\n",
      "    เทคโนโลยีและการพลังงาน/NPRP))\n"
     ]
    }
   ],
   "source": [
    "print(t4) # shallow tree"
   ]
  },
  {
   "cell_type": "code",
   "execution_count": 31,
   "metadata": {},
   "outputs": [],
   "source": [
    "def thtb2conll(t):\n",
    "    list_tree = []\n",
    "    tt = Tree.fromstring(t.replace(\"[\",\"(\").replace(\"]\",\")\"))\n",
    "    for subtree in tt:\n",
    "        if type(subtree) == Tree and subtree.label() == \"S\":\n",
    "            list_tree.append(shallow_tree(subtree))\n",
    "    list_tree.append(shallow_tree(tt)) #flatten_deeptree(tt)\n",
    "    return list_tree #tree2conlltags(tt)"
   ]
  },
  {
   "cell_type": "code",
   "execution_count": 32,
   "metadata": {},
   "outputs": [
    {
     "data": {
      "text/plain": [
       "[Tree('S', [Tree('NP', [('ที่ตั้ง', 'NCMN')]), Tree('VP', [('อยู่', 'VSTA'), ('ชั้น', 'CNIT'), ('<space>', 'PUNC'), ('7', 'NCNM'), ('<space>', 'PUNC'), ('ของ', 'RPRE'), ('สำนักงานปลัดกระทรวงวิทยาศาสตร์', 'NPRP'), ('เทคโนโลยีและการพลังงาน', 'NPRP')])]),\n",
       " Tree('S', [Tree('PP', [('ซึ่ง', 'PREL'), ('จะ', 'XVBM'), ('มี', 'VSTA')]), Tree('S', [('ที่ตั้ง', 'NCMN'), ('อยู่', 'VSTA'), ('ชั้น', 'CNIT'), ('<space>', 'PUNC'), ('7', 'NCNM'), ('<space>', 'PUNC'), ('ของ', 'RPRE'), ('สำนักงานปลัดกระทรวงวิทยาศาสตร์', 'NPRP'), ('เทคโนโลยีและการพลังงาน', 'NPRP')])])]"
      ]
     },
     "execution_count": 32,
     "metadata": {},
     "output_type": "execute_result"
    }
   ],
   "source": [
    "thtb2conll(tt)"
   ]
  },
  {
   "cell_type": "code",
   "execution_count": 33,
   "metadata": {},
   "outputs": [
    {
     "data": {
      "text/plain": [
       "[Tree('S', [Tree('NP', [('และ', 'NCMN')]), Tree('VP', [('สามารถ', 'XVAM'), ('นำไปใช้', 'VACT'), ('ประโยชน์', 'NCMN'), ('มี', 'VSTA'), ('มูลค่าเพิ่ม', 'NCMN')])])]"
      ]
     },
     "execution_count": 33,
     "metadata": {},
     "output_type": "execute_result"
    }
   ],
   "source": [
    "thtb2conll(listfile[15])"
   ]
  },
  {
   "cell_type": "code",
   "execution_count": 34,
   "metadata": {},
   "outputs": [],
   "source": [
    "l_tree = []\n",
    "for i in listfile:\n",
    "    l_tree.extend(thtb2conll(i))"
   ]
  },
  {
   "cell_type": "code",
   "execution_count": 35,
   "metadata": {},
   "outputs": [],
   "source": [
    "#l_tree"
   ]
  },
  {
   "cell_type": "code",
   "execution_count": 36,
   "metadata": {},
   "outputs": [],
   "source": [
    "l = l_tree#[tree2conlltags(i) for i in l_tree]"
   ]
  },
  {
   "cell_type": "code",
   "execution_count": 37,
   "metadata": {},
   "outputs": [
    {
     "name": "stderr",
     "output_type": "stream",
     "text": [
      "The Ghostscript executable isn't found.\n",
      "See http://web.mit.edu/ghostscript/www/Install.htm\n",
      "If you're using a Mac, you can try installing\n",
      "https://docs.brew.sh/Installation then `brew install ghostscript`\n"
     ]
    },
    {
     "ename": "LookupError",
     "evalue": "",
     "output_type": "error",
     "traceback": [
      "\u001b[1;31m---------------------------------------------------------------------------\u001b[0m",
      "\u001b[1;31mLookupError\u001b[0m                               Traceback (most recent call last)",
      "\u001b[1;32mc:\\python\\python38\\lib\\site-packages\\nltk\\tree.py\u001b[0m in \u001b[0;36m_repr_png_\u001b[1;34m(self)\u001b[0m\n\u001b[0;32m    797\u001b[0m                     [\n\u001b[1;32m--> 798\u001b[1;33m                         find_binary(\n\u001b[0m\u001b[0;32m    799\u001b[0m                             \u001b[1;34m\"gs\"\u001b[0m\u001b[1;33m,\u001b[0m\u001b[1;33m\u001b[0m\u001b[1;33m\u001b[0m\u001b[0m\n",
      "\u001b[1;32mc:\\python\\python38\\lib\\site-packages\\nltk\\internals.py\u001b[0m in \u001b[0;36mfind_binary\u001b[1;34m(name, path_to_bin, env_vars, searchpath, binary_names, url, verbose)\u001b[0m\n\u001b[0;32m    687\u001b[0m ):\n\u001b[1;32m--> 688\u001b[1;33m     return next(\n\u001b[0m\u001b[0;32m    689\u001b[0m         find_binary_iter(\n",
      "\u001b[1;32mc:\\python\\python38\\lib\\site-packages\\nltk\\internals.py\u001b[0m in \u001b[0;36mfind_binary_iter\u001b[1;34m(name, path_to_bin, env_vars, searchpath, binary_names, url, verbose)\u001b[0m\n\u001b[0;32m    672\u001b[0m     \"\"\"\n\u001b[1;32m--> 673\u001b[1;33m     for file in find_file_iter(\n\u001b[0m\u001b[0;32m    674\u001b[0m         \u001b[0mpath_to_bin\u001b[0m \u001b[1;32mor\u001b[0m \u001b[0mname\u001b[0m\u001b[1;33m,\u001b[0m \u001b[0menv_vars\u001b[0m\u001b[1;33m,\u001b[0m \u001b[0msearchpath\u001b[0m\u001b[1;33m,\u001b[0m \u001b[0mbinary_names\u001b[0m\u001b[1;33m,\u001b[0m \u001b[0murl\u001b[0m\u001b[1;33m,\u001b[0m \u001b[0mverbose\u001b[0m\u001b[1;33m\u001b[0m\u001b[1;33m\u001b[0m\u001b[0m\n",
      "\u001b[1;32mc:\\python\\python38\\lib\\site-packages\\nltk\\internals.py\u001b[0m in \u001b[0;36mfind_file_iter\u001b[1;34m(filename, env_vars, searchpath, file_names, url, verbose, finding_dir)\u001b[0m\n\u001b[0;32m    631\u001b[0m         \u001b[0mdiv\u001b[0m \u001b[1;33m=\u001b[0m \u001b[1;34m\"=\"\u001b[0m \u001b[1;33m*\u001b[0m \u001b[1;36m75\u001b[0m\u001b[1;33m\u001b[0m\u001b[1;33m\u001b[0m\u001b[0m\n\u001b[1;32m--> 632\u001b[1;33m         \u001b[1;32mraise\u001b[0m \u001b[0mLookupError\u001b[0m\u001b[1;33m(\u001b[0m\u001b[1;34m\"\\n\\n%s\\n%s\\n%s\"\u001b[0m \u001b[1;33m%\u001b[0m \u001b[1;33m(\u001b[0m\u001b[0mdiv\u001b[0m\u001b[1;33m,\u001b[0m \u001b[0mmsg\u001b[0m\u001b[1;33m,\u001b[0m \u001b[0mdiv\u001b[0m\u001b[1;33m)\u001b[0m\u001b[1;33m)\u001b[0m\u001b[1;33m\u001b[0m\u001b[1;33m\u001b[0m\u001b[0m\n\u001b[0m\u001b[0;32m    633\u001b[0m \u001b[1;33m\u001b[0m\u001b[0m\n",
      "\u001b[1;31mLookupError\u001b[0m: \n\n===========================================================================\nNLTK was unable to find the gs file!\nUse software specific configuration paramaters or set the PATH environment variable.\n===========================================================================",
      "\nDuring handling of the above exception, another exception occurred:\n",
      "\u001b[1;31mLookupError\u001b[0m                               Traceback (most recent call last)",
      "\u001b[1;32mc:\\python\\python38\\lib\\site-packages\\IPython\\core\\formatters.py\u001b[0m in \u001b[0;36m__call__\u001b[1;34m(self, obj)\u001b[0m\n\u001b[0;32m    343\u001b[0m             \u001b[0mmethod\u001b[0m \u001b[1;33m=\u001b[0m \u001b[0mget_real_method\u001b[0m\u001b[1;33m(\u001b[0m\u001b[0mobj\u001b[0m\u001b[1;33m,\u001b[0m \u001b[0mself\u001b[0m\u001b[1;33m.\u001b[0m\u001b[0mprint_method\u001b[0m\u001b[1;33m)\u001b[0m\u001b[1;33m\u001b[0m\u001b[1;33m\u001b[0m\u001b[0m\n\u001b[0;32m    344\u001b[0m             \u001b[1;32mif\u001b[0m \u001b[0mmethod\u001b[0m \u001b[1;32mis\u001b[0m \u001b[1;32mnot\u001b[0m \u001b[1;32mNone\u001b[0m\u001b[1;33m:\u001b[0m\u001b[1;33m\u001b[0m\u001b[1;33m\u001b[0m\u001b[0m\n\u001b[1;32m--> 345\u001b[1;33m                 \u001b[1;32mreturn\u001b[0m \u001b[0mmethod\u001b[0m\u001b[1;33m(\u001b[0m\u001b[1;33m)\u001b[0m\u001b[1;33m\u001b[0m\u001b[1;33m\u001b[0m\u001b[0m\n\u001b[0m\u001b[0;32m    346\u001b[0m             \u001b[1;32mreturn\u001b[0m \u001b[1;32mNone\u001b[0m\u001b[1;33m\u001b[0m\u001b[1;33m\u001b[0m\u001b[0m\n\u001b[0;32m    347\u001b[0m         \u001b[1;32melse\u001b[0m\u001b[1;33m:\u001b[0m\u001b[1;33m\u001b[0m\u001b[1;33m\u001b[0m\u001b[0m\n",
      "\u001b[1;32mc:\\python\\python38\\lib\\site-packages\\nltk\\tree.py\u001b[0m in \u001b[0;36m_repr_png_\u001b[1;34m(self)\u001b[0m\n\u001b[0;32m    815\u001b[0m                 )\n\u001b[0;32m    816\u001b[0m                 \u001b[0mprint\u001b[0m\u001b[1;33m(\u001b[0m\u001b[0mpre_error_message\u001b[0m\u001b[1;33m,\u001b[0m \u001b[0mfile\u001b[0m\u001b[1;33m=\u001b[0m\u001b[0msys\u001b[0m\u001b[1;33m.\u001b[0m\u001b[0mstderr\u001b[0m\u001b[1;33m)\u001b[0m\u001b[1;33m\u001b[0m\u001b[1;33m\u001b[0m\u001b[0m\n\u001b[1;32m--> 817\u001b[1;33m                 \u001b[1;32mraise\u001b[0m \u001b[0mLookupError\u001b[0m\u001b[1;33m\u001b[0m\u001b[1;33m\u001b[0m\u001b[0m\n\u001b[0m\u001b[0;32m    818\u001b[0m \u001b[1;33m\u001b[0m\u001b[0m\n\u001b[0;32m    819\u001b[0m             \u001b[1;32mwith\u001b[0m \u001b[0mopen\u001b[0m\u001b[1;33m(\u001b[0m\u001b[0mout_path\u001b[0m\u001b[1;33m,\u001b[0m \u001b[1;34m\"rb\"\u001b[0m\u001b[1;33m)\u001b[0m \u001b[1;32mas\u001b[0m \u001b[0msr\u001b[0m\u001b[1;33m:\u001b[0m\u001b[1;33m\u001b[0m\u001b[1;33m\u001b[0m\u001b[0m\n",
      "\u001b[1;31mLookupError\u001b[0m: "
     ]
    },
    {
     "data": {
      "text/plain": [
       "Tree('S', [Tree('S', [('รุ่น', 'NCMN'), ('ที่', 'PREL'), ('4', 'NCMN'), ('<space>', 'PUNC'), ('<left_parenthesis>', 'PUNC'), ('Fourth', 'NCMN'), ('generation', 'NCMN'), ('<right_parenthesis>', 'PUNC'), ('<space>', 'PUNC'), ('ใน', 'RPRE'), ('รุ่น', 'NCMN'), ('นี้', 'DDAC'), ('จะ', 'XVBM'), ('คล้าย', 'VSTA'), ('กับ', 'RPRE'), ('รุ่น', 'NCMN'), ('ที่', 'DONM'), ('3', 'DONM'), ('<space>', 'PUNC'), ('ต่างกัน', 'VSTA'), ('ที่', 'PREL'), ('จำนวน', 'NCMN'), ('ตัวรับรังสี', 'NCMN'), ('มาก', 'VATT'), ('กว่า', 'ADVN'), ('และ', 'JCRG'), ('ติดตั้ง', 'VACT'), ('เป็น', 'VSTA'), ('วงกลม', 'NCMN'), ('รอบ', 'RPRE'), ('แกนทรี', 'NCMN'), ('<space>', 'PUNC'), ('<left_parenthesis>', 'PUNC'), ('Gantry', 'NCMN'), ('<right_parenthesis>', 'PUNC'), ('<space>', 'PUNC'), ('กำหนด', 'VACT')]), ('ให้', 'JSBR'), Tree('S', [('หลอดรังสีเอ็กซ์', 'NCMN'), ('หมุน', 'VACT'), ('อย่าง', 'FIXV'), ('เดียว', 'VATT')])])"
      ]
     },
     "execution_count": 37,
     "metadata": {},
     "output_type": "execute_result"
    }
   ],
   "source": [
    "l[545]"
   ]
  },
  {
   "cell_type": "code",
   "execution_count": 38,
   "metadata": {},
   "outputs": [
    {
     "data": {
      "text/plain": [
       "5935"
      ]
     },
     "execution_count": 38,
     "metadata": {},
     "output_type": "execute_result"
    }
   ],
   "source": [
    "len(l)"
   ]
  },
  {
   "cell_type": "code",
   "execution_count": 39,
   "metadata": {},
   "outputs": [],
   "source": [
    "import random\n",
    "from nltk.chunk import conlltags2tree, tree2conlltags"
   ]
  },
  {
   "cell_type": "code",
   "execution_count": 40,
   "metadata": {},
   "outputs": [],
   "source": [
    "shuffled_conll_sents = l\n",
    "random.shuffle(shuffled_conll_sents)\n",
    "train_sents = shuffled_conll_sents[:int(len(shuffled_conll_sents) * 0.9)]\n",
    "test_sents = shuffled_conll_sents[int(len(shuffled_conll_sents) * 0.9 + 1):]"
   ]
  },
  {
   "cell_type": "code",
   "execution_count": 41,
   "metadata": {},
   "outputs": [],
   "source": [
    "from nltk import ChunkParserI, TrigramTagger\n",
    " \n",
    " \n",
    "class TrigramChunkParser(ChunkParserI):\n",
    "    def __init__(self, train_sents):\n",
    "        # Extract only the (POS-TAG, IOB-CHUNK-TAG) pairs\n",
    "        train_data = [[(pos_tag, chunk_tag) for word, pos_tag, chunk_tag in tree2conlltags(sent)] \n",
    "                      for sent in train_sents]\n",
    " \n",
    "        # Train a TrigramTagger\n",
    "        self.tagger = TrigramTagger(train_data)\n",
    " \n",
    "    def parse(self, sentence):\n",
    "        pos_tags = [pos for word, pos in sentence]\n",
    " \n",
    "        # Get the Chunk tags\n",
    "        tagged_pos_tags = self.tagger.tag(pos_tags)\n",
    " \n",
    "        # Assemble the (word, pos, chunk) triplets\n",
    "        conlltags = [(word, pos_tag, chunk_tag) \n",
    "                     for ((word, pos_tag), (pos_tag, chunk_tag)) in zip(sentence, tagged_pos_tags)]\n",
    " \n",
    "        # Transform to tree\n",
    "        return conlltags2tree(conlltags)\n",
    " "
   ]
  },
  {
   "cell_type": "code",
   "execution_count": 42,
   "metadata": {},
   "outputs": [],
   "source": [
    "trigram_chunker = TrigramChunkParser(train_sents)"
   ]
  },
  {
   "cell_type": "code",
   "execution_count": 43,
   "metadata": {},
   "outputs": [
    {
     "data": {
      "text/plain": [
       "[Tree('S', [Tree('NP', [('4', 'NCMN'), ('<full_stop>', 'NCMN')]), ('<space>', 'PUNC'), Tree('VP', [('ลด', 'VACT'), ('ขั้นตอน', 'NCMN'), ('การ', 'FIXN'), ('ผลิต', 'VACT'), ('<space>', 'PUNC'), ('gate', 'NCMN'), ('array', 'NCMN')])]),\n",
       " Tree('S', [Tree('NP', [('<space>', 'NCMN'), ('พิเศษ', 'VATT'), ('ซึ่ง', 'PREL'), ('รวม', 'VACT'), ('การ', 'FIXN'), ('ทำงาน', 'VACT'), ('พื้นฐาน', 'NCMN'), ('ต่างๆ', 'DIAC')]), ('<space>', 'PUNC'), Tree('VP', [('เข้า', 'VACT'), ('ด้วยกัน', 'ADVN')])]),\n",
       " Tree('S', [Tree('NP', [('ใน', 'NCMN'), ('การ', 'FIXN'), ('ทดลอง', 'VACT'), ('และ', 'JCRG'), ('วิจัย', 'VACT'), ('ใน', 'RPRE'), ('ปี', 'NCMN'), ('<space>', 'PUNC'), ('พ.ศ.', 'NCMN'), ('<space>', 'PUNC'), ('2529', 'NCNM')]), ('<space>', 'PUNC'), Tree('VP', [('ได้', 'XVAM'), ('ทดลอง', 'VACT'), ('สร้าง', 'VACT'), ('ภาพตัดขวาง', 'NCMN'), ('ร่างกาย', 'NCMN'), ('จาก', 'RPRE'), ('รังสีเอ็กซ์', 'NCMN')])]),\n",
       " Tree('S', [Tree('NP', [('ใน', 'RPRE'), ('ส่วน', 'NCMN'), ('นี้', 'DDAC')]), Tree('VP', [('จะ', 'XVBM'), ('ทำ', 'VACT'), ('การ', 'FIXN'), ('ดึง', 'VACT'), ('ข้อมูล', 'NCMN'), ('จาก', 'RPRE'), ('พจนานุกรม', 'NCMN'), ('ภาษาไทย', 'NPRP')])]),\n",
       " Tree('S', [Tree('PP', [('โดย', 'RPRE'), ('การ', 'FIXN'), ('ปรึกษา', 'VACT')]), Tree('S', [('การ', 'FIXN'), ('ทำงาน', 'VACT'), ('ร่วม', 'VACT'), ('กับ', 'RPRE'), ('การ', 'FIXN'), ('ทำ', 'VACT'), ('ซอฟต์แวร์', 'NCMN'), ('สำหรับ', 'RPRE'), ('การ', 'FIXN'), ('แยกแยะ', 'VACT'), ('ตัวอักษร', 'NCMN')])]),\n",
       " Tree('S', [Tree('PP', [('เพื่อ', 'RPRE'), ('ปรับปรุง', 'VACT'), ('แก้ไข', 'VACT'), ('และ', 'JCRG'), ('โค้ด', 'VACT')]), Tree('S', [('คำ', 'NCMN'), ('เพิ่ม', 'VSTA'), ('ขึ้น', 'XVAE')])]),\n",
       " Tree('S', [Tree('NP', [('มี', 'NCMN'), ('การ', 'FIXN')]), Tree('VP', [('ควบคุม', 'VACT'), ('คุณภาพ', 'NCMN'), ('ที่', 'PREL'), ('มีประสิทธิภาพ', 'VSTA'), ('มากขึ้น', 'ADVN')])]),\n",
       " Tree('S', [('โดย', 'JSBR'), Tree('NP', [('ใช้', 'NCMN'), ('เทคนิค', 'NCMN'), ('ของ', 'RPRE'), ('<space>', 'PUNC'), ('Stick', 'NCMN'), ('Diagram', 'NCMN')]), ('<space>', 'PUNC'), Tree('VP', [('วาง', 'VACT'), ('ตำแหน่ง', 'NCMN'), ('ของ', 'RPRE'), ('ทรานซิสเตอร์', 'NCMN'), ('<space>', 'PUNC'), ('และ', 'RPRE'), ('เส้น', 'NCMN'), ('ที่', 'PREL'), ('ใช้', 'VACT'), ('เชื่อมโยง', 'NCMN'), ('ต่างๆ', 'DIAC'), ('<space>', 'PUNC'), ('ก่อน', 'JSBR'), ('ล่วงหน้า', 'VSTA'), ('<space>', 'PUNC'), ('แล้ว', 'JSBR'), ('ใช้', 'VSTA'), ('<space>', 'PUNC'), ('tool', 'NCMN'), ('sets', 'NCMN'), ('<space>', 'NCMN'), ('หลักๆ', 'VATT'), ('<space>', 'PUNC'), ('ของ', 'RPRE'), ('<space>', 'PUNC'), ('CIRCAD', 'NCMN'), ('II', 'NCMN'), ('<space>', 'FIXN'), ('ดังนี้', 'ADVN')])]),\n",
       " Tree('S', [Tree('NP', [('หลัก', 'NCMN'), ('<space>', 'PUNC'), ('<left_parenthesis>', 'PUNC'), ('predicate', 'NCMN'), ('CP', 'NCMN'), ('<right_parenthesis>', 'PUNC'), ('<space>', 'PUNC')]), Tree('VP', [('เป็น', 'VSTA'), ('หลักการ', 'NCMN'), ('ใน', 'RPRE'), ('การ', 'FIXN'), ('ค้นหา', 'VACT'), ('ข้อมูล', 'NCMN'), ('ที่', 'PREL'), ('ถูกต้อง', 'VATT'), ('<space>', 'PUNC'), ('ด้วย', 'RPRE'), ('การ', 'NCMN'), ('<space>', 'PUNC'), ('traversing', 'NCMN'), ('<space>', 'PUNC'), ('แบบ', 'NCMN'), ('<space>', 'PUNC'), ('depth-first', 'NCMN'), ('algorithm', 'NCMN')])]),\n",
       " Tree('S', [Tree('PP', [('โดย', 'RPRE'), ('พยายาม', 'VACT'), ('ใช้', 'VACT')]), Tree('S', [('ภาษากลาง', 'NCMN'), ('<space>', 'PUNC'), ('<left_parenthesis>', 'PUNC'), ('Interlingua', 'NCMN'), ('<right_parenthesis>', 'PUNC'), ('<space>', 'PUNC'), ('เป็น', 'VSTA'), ('ตัวกลาง', 'NCMN'), ('ของ', 'RPRE'), ('การ', 'FIXN'), ('แปล', 'VACT'), ('ภาษา', 'NCMN')])]),\n",
       " Tree('S', [Tree('NP', [('บทความ', 'NCMN'), ('นี้', 'DDAC')]), Tree('VP', [('กล่าวถึง', 'VACT'), ('การ', 'FIXN'), ('นำ', 'VACT'), ('วงจร', 'NCMN'), ('ชุมสายโทรศัพท์', 'NCMN'), ('บาง', 'DIBQ'), ('ส่วน', 'CNIT'), ('ที่', 'PREL'), ('เป็น', 'VSTA'), ('<space>', 'PUNC'), ('TTL', 'NCMN'), ('-', 'NCMN'), ('logic', 'NCMN'), ('<space>', 'PUNC'), ('มา', 'VACT'), ('ยุบ', 'VACT'), ('รวมอยู่', 'VSTA'), ('ใน', 'RPRE'), ('ไอซี', 'NCMN'), ('เพียง', 'DDBQ'), ('ตัว', 'CNIT'), ('เดียว', 'DCNM')])]),\n",
       " Tree('S', [Tree('PP', [('ซึ่ง', 'PREL'), ('ทำให้', 'VACT'), ('ราคา', 'NCMN')]), Tree('S', [('ชิ้นส่วน', 'NCMN'), ('ไมโครอิเล็กทรอนิกส์', 'NCMN'), ('<space>', 'PUNC'), ('และ', 'RPRE'), ('อิเล็กทรอนิกส์กำลัง', 'NCMN'), ('ลดลง', 'VSTA'), ('อย่าง', 'FIXV'), ('มาก', 'ADVN'), ('นั่นเอง', 'ADVN')])]),\n",
       " Tree('S', [Tree('NP', [('ส่วน', 'NCMN'), ('<space>', 'PUNC'), ('extend', 'NCMN'), ('memory', 'NCMN')]), ('<space>', 'PUNC'), Tree('VP', [('จะ', 'XVBM'), ('เริ่ม', 'VSTA'), ('การ', 'FIXN'), ('ใช้', 'VACT')])]),\n",
       " Tree('S', [Tree('NP', [('3', 'NCMN'), ('<full_stop>', 'NCMN'), ('<space>', 'PUNC'), ('ความ', 'FIXN'), ('ร่วมมือ', 'VACT'), ('และ', 'JCRG'), ('ประสานงาน', 'VACT')]), Tree('VP', [('บริการ', 'VACT'), ('สารนิเทศ', 'NCMN'), ('ระหว่าง', 'RPRE'), ('หน่วยงาน', 'NCMN'), ('<space>', 'PUNC'), ('ใน', 'RPRE'), ('การ', 'FIXN'), ('ใช้', 'VACT'), ('ทรัพยากรสารนิเทศ', 'NCMN'), ('ร่วมกัน', 'ADVN'), ('ระดับ', 'NCMN'), ('สถาบันอุดมศึกษา', 'NCMN'), ('<space>', 'PUNC'), ('ระดับ', 'NCMN'), ('ชาติ', 'NCMN'), ('<space>', 'PUNC'), ('และ', 'NCMN'), ('ระดับ', 'NCMN'), ('นานาชาติ', 'NCMN')])]),\n",
       " Tree('S', [Tree('NP', [('การ', 'FIXN'), ('สำรวจ', 'VACT'), ('และ', 'JCRG'), ('ศึกษา', 'VACT'), ('สถานภาพ', 'NCMN'), ('ครอบคลุม', 'VSTA'), ('อุตสาหกรรม', 'NCMN'), ('ต่างๆ', 'DIAC')]), ('<space>', 'PUNC'), Tree('VP', [('คือ', 'VSTA'), ('<space>', 'PUNC'), ('อุตสาหกรรม', 'NCMN'), ('ไอซี', 'NCMN'), ('<space>', 'PUNC'), ('อุตสาหกรรม', 'NCMN'), ('คอมพิวเตอร์', 'NCMN'), ('ฮาร์ดแวร์', 'NCMN'), ('<space>', 'PUNC'), ('อุตสาหกรรม', 'NCMN'), ('คอมพิวเตอร์', 'NCMN'), ('ซอฟต์แวร์', 'NCMN'), ('<space>', 'PUNC'), ('อุตสาหกรรม', 'NCMN'), ('อุปกรณ์สื่อสาร', 'NCMN'), ('และ', 'JCRG'), ('โทรคมนาคม', 'NCMN'), ('<space>', 'PUNC'), ('อุตสาหกรรม', 'NCMN'), ('เครื่องใช้ไฟฟ้า', 'NCMN'), ('และ', 'JCRG'), ('อิเล็กทรอนิกส์', 'NCMN'), ('ใน', 'RPRE'), ('บ้าน', 'NCMN'), ('<space>', 'PUNC'), ('และ', 'RPRE'), ('อุตสาหกรรม', 'NCMN'), ('มอเตอร์', 'NCMN')])]),\n",
       " Tree('S', [Tree('NP', [('และ', 'NCMN')]), Tree('VP', [('ส่งผล', 'VACT'), ('กลับ', 'VACT'), ('ไป', 'XVAE'), ('แสดง', 'VACT'), ('ออก', 'VACT'), ('บน', 'RPRE'), ('เครื่อง', 'NCMN'), ('ไมโครคอมพิวเตอร์', 'NCMN'), ('ได้', 'XVAE')])]),\n",
       " Tree('S', [Tree('NP', [('ขอบข่าย', 'NCMN'), ('การ', 'FIXN')]), Tree('VP', [('ดำเนินงาน', 'VACT'), ('ของ', 'RPRE'), ('โครงการ', 'NCMN')])]),\n",
       " Tree('S', [Tree('NP', [('โครงการ', 'NCMN')]), Tree('VP', [('แปล', 'VACT'), ('ภาษา', 'NCMN'), ('ด้วย', 'RPRE'), ('เครื่องคอมพิวเตอร์', 'NCMN'), ('<space>', 'FIXN'), ('แบ่ง', 'VACT'), ('ออกเป็น', 'RPRE'), ('โครงการ', 'NCMN'), ('ย่อย', 'VATT'), ('<space>', 'PUNC'), ('5', 'DCNM'), ('<space>', 'PUNC'), ('โครงการ', 'CNIT'), ('<space>', 'PUNC'), ('ตาม', 'RPRE'), ('หน้าที่', 'NCMN'), ('ของ', 'RPRE'), ('การ', 'FIXN'), ('ทำงาน', 'VACT'), ('ของ', 'RPRE'), ('ระบบ', 'NCMN'), ('คือ', 'VSTA'), ('<space>', 'PUNC'), ('การ', 'FIXN'), ('วิเคราะห์', 'VACT'), ('ต้นฉบับ', 'NCMN'), ('<space>', 'PUNC'), ('การ', 'FIXN'), ('สร้าง', 'VACT'), ('ภาษาเป้าหมาย', 'NCMN'), ('<space>', 'PUNC'), ('การ', 'FIXN'), ('พัฒนา', 'VACT'), ('พจนานุกรม', 'NCMN'), ('<space>', 'PUNC'), ('การ', 'FIXN'), ('พัฒนา', 'VACT'), ('ระบบ', 'NCMN'), ('สนับสนุน', 'VACT'), ('และ', 'JCRG'), ('อินพุต', 'NCMN'), ('เอาท์พุต', 'NCMN'), ('<space>', 'PUNC'), ('และ', 'RPRE'), ('การ', 'FIXN'), ('พัฒนา', 'VACT'), ('ระบบ', 'NCMN'), ('รวม', 'VATT')])]),\n",
       " Tree('S', [Tree('NP', [('5', 'NCMN'), ('<full_stop>', 'NCMN'), ('<space>', 'PUNC'), ('เอาท์พุต', 'NCMN'), ('<space>', 'PUNC'), ('Format', 'NCMN')]), ('<space>', 'PUNC'), Tree('VP', [('มี', 'VSTA'), ('ให้', 'JSBR'), ('เลือก', 'VACT'), ('ถึง', 'VSTA'), ('<space>', 'PUNC'), ('3', 'DCNM'), ('<space>', 'PUNC'), ('รูปแบบ', 'CNIT'), ('คือ', 'RPRE'), ('<space>', 'PUNC'), ('CIF', 'NCMN'), ('<comma>', 'PUNC'), ('<space>', 'FIXN'), ('GDSII', 'NCMN')])]),\n",
       " Tree('S', [Tree('NP', [('การ', 'FIXN'), ('วิเคราะห์', 'VACT'), ('แบบ', 'NCMN'), ('นี้', 'DDAC')]), Tree('VP', [('จะ', 'XVBM'), ('ซับซ้อน', 'VATT'), ('กว่า', 'ADVN'), ('การ', 'FIXN'), ('วิเคราะห์', 'VACT'), ('ใน', 'RPRE'), ('การ', 'FIXN'), ('แปล', 'VACT'), ('โดย', 'FIXV'), ('ตรง', 'VATT')])]),\n",
       " Tree('S', [Tree('NP', [('รูป', 'NCMN'), ('ที่', 'DONM'), ('2', 'DONM')]), ('<space>', 'PUNC'), Tree('VP', [('แสดง', 'VACT'), ('ส่วน', 'NCMN'), ('ต่างๆ', 'DIAC'), ('<space>', 'PUNC'), ('ของ', 'RPRE'), ('เตา', 'NCMN'), ('Horizontal', 'NCMN'), ('Liquid', 'NCMN'), ('Phase', 'NCMN'), ('Epitaxy', 'NCMN'), ('<space>', 'PUNC'), ('ซึ่ง', 'JSBR'), ('ติดตั้ง', 'VACT'), ('ที่', 'RPRE'), ('ห้องวิจัยสิ่งประดิษฐ์สารกึ่งตัวนำ', 'NCMN'), ('<space>', 'PUNC'), ('ภาควิชา', 'NCMN'), ('วิศวกรรมไฟฟ้า', 'NCMN'), ('<space>', 'PUNC'), ('คณะ', 'NCMN'), ('วิศวกรรมศาสตร์', 'NCMN'), ('<space>', 'PUNC'), ('จุฬาลงกรณ์มหาวิทยาลัย', 'NPRP')])]),\n",
       " Tree('S', [Tree('NP', [('การ', 'FIXN'), ('ผสม', 'VACT'), ('อาหารสัตว์', 'NCMN'), ('นั้น', 'DDAC')]), ('<space>', 'PUNC'), Tree('VP', [('ใช้', 'VACT'), ('พนักงาน', 'NCMN'), ('ประจำ', 'RPRE'), ('ห้องควบคุม', 'NCMN'), ('การ', 'FIXN'), ('ผลิต', 'VACT'), ('<space>', 'PUNC'), ('เป็น', 'RPRE'), ('ผู้', 'PPRS'), ('กด', 'VACT'), ('สวิทช์', 'NCMN'), ('<space>', 'PUNC'), ('เพื่อ', 'JSBR'), ('เปิด', 'VACT'), ('ให้', 'VACT'), ('มอเตอร์', 'NCMN'), ('สำหรับ', 'JSBR'), ('ลำเลียง', 'VACT'), ('อาหาร', 'NCMN'), ('จาก', 'RPRE'), ('ถังเก็บวัตถุดิบ', 'NCMN'), ('ลง', 'XVAE'), ('สู่', 'RPRE'), ('ถังผสมอาหารสัตว์', 'NCMN')])]),\n",
       " Tree('S', [Tree('NP', [('4', 'NCMN'), ('<full_stop>', 'NCMN'), ('<space>', 'PUNC'), ('หน่วยความจำข้อมูล', 'NCMN'), ('<space>', 'PUNC'), ('<left_parenthesis>', 'PUNC'), ('Data', 'NCMN'), ('Memory', 'NCMN'), ('<right_parenthesis>', 'PUNC'), ('<space>', 'PUNC')]), Tree('VP', [('เป็น', 'VSTA'), ('หน่วยความจำ', 'NCMN'), ('ที่', 'PREL'), ('ใช้', 'VACT'), ('เก็บ', 'VACT'), ('ค่า', 'NCMN'), ('ประมวล', 'VACT'), ('แล้ว', 'ADVN'), ('<space>', 'PUNC'), ('เช่น', 'JSBR'), ('<space>', 'PUNC'), ('ค่าเวลา', 'NCMN'), ('ของ', 'RPRE'), ('ตัวตั้งเวลา', 'NCMN'), ('<space>', 'PUNC'), ('ค่านับ', 'NCMN'), ('ของ', 'RPRE'), ('ตัวนับ', 'NCMN'), ('<space>', 'PUNC'), ('และ', 'RPRE'), ('ค่า', 'NCMN'), ('สภาวะ', 'NCMN'), ('การ', 'FIXN'), ('ทำงาน', 'VACT'), ('ของ', 'RPRE'), ('รีเลย์', 'NCMN'), ('ภายใน', 'VATT'), ('<space>', 'PUNC'), ('เป็นต้น', 'PDMN')])]),\n",
       " Tree('S', [Tree('NP', [('ไม่', 'NCMN'), ('เกิน', 'VATT'), ('หนึ่งหมื่น', 'DCNM'), ('บาท', 'CMTR')]), Tree('VP', [('ต่อ', 'VACT'), ('หนึ่ง', 'NCMN'), ('<space>', 'PUNC'), ('Card', 'NCMN')])]),\n",
       " Tree('S', [Tree('NP', [('รูป', 'NCMN'), ('ที่', 'DONM'), ('14', 'DONM'), ('<space>', 'PUNC'), ('ภาพตัดขวาง', 'NCMN'), ('ส่วน', 'JCRG'), ('ปอด', 'NCMN'), ('และ', 'JCRG'), ('เชิงกราน', 'NCMN'), ('ของ', 'RPRE'), ('หนู', 'NCMN'), ('ตาม', 'RPRE'), ('<space>', 'PUNC'), ('Slice', 'NCMN')]), ('<space>', 'PUNC'), Tree('VP', [('ที่', 'XVBM'), ('ตัด', 'VACT')])]),\n",
       " Tree('S', [Tree('NP', [('ภาษา', 'NCMN'), ('ที่', 'PREL'), ('ไม่', 'NEG'), ('มี', 'VSTA'), ('การ', 'FIXN'), ('แบ่ง', 'VACT'), ('คำ', 'NCMN'), ('ใน', 'RPRE'), ('ตัวเอง', 'PPRS'), ('<space>', 'PUNC'), ('เช่น', 'JSBR'), ('<space>', 'PUNC'), ('ภาษาไทย', 'NPRP'), ('<space>', 'PUNC'), ('ญี่ปุ่น', 'NPRP'), ('<space>', 'PUNC'), ('เกาหลี', 'NPRP'), ('<space>', 'PUNC'), ('เป็นต้น', 'PDMN')]), ('<space>', 'PUNC'), Tree('VP', [('จำเป็นต้อง', 'XVMM'), ('อาศัย', 'VSTA'), ('ขบวนการ', 'NCMN'), ('ของ', 'RPRE'), ('<space>', 'PUNC'), ('parsing', 'NCMN')])]),\n",
       " Tree('S', [Tree('NP', [('การ', 'FIXN'), ('ทำงาน', 'VACT'), ('และ', 'JCRG'), ('กราฟ', 'NCMN')]), Tree('VP', [('แสดง', 'VACT'), ('คุณสมบัติ', 'NCMN'), ('ความ', 'FIXN'), ('สัมพันธ์', 'VACT'), ('ของ', 'RPRE'), ('กระแสเครน', 'NCMN'), ('<space>', 'PUNC'), ('และ', 'RPRE'), ('แรงดัน', 'NCMN'), ('เครน', 'NCMN'), ('ของ', 'RPRE'), ('ดีมอส', 'NCMN'), ('แบบ', 'NCMN'), ('เอ็นแชนแนล', 'NCMN'), ('<space>', 'PUNC'), ('จะ', 'XVBM'), ('แสดงให้เห็น', 'VSTA'), ('ถึง', 'RPRE'), ('สมการ', 'NCMN'), ('ทั่วไป', 'VATT'), ('ของ', 'RPRE'), ('มอสเฟท', 'NCMN'), ('<space>', 'PUNC'), ('ที่', 'JSBR'), ('นำมาใช้', 'VACT'), ('ได้', 'XVAE'), ('กับ', 'RPRE'), ('ดีมอส', 'NCMN')])]),\n",
       " Tree('S', [('โดยที่', 'JSBR'), Tree('NP', [('โนด', 'NCMN'), ('แม่', 'NCMN'), ('<space>', 'PUNC'), ('<left_parenthesis>', 'PUNC'), ('Parent', 'NCMN'), ('or', 'NCMN'), ('Root', 'NCMN'), ('Node', 'NCMN'), ('<right_parenthesis>', 'PUNC'), ('<space>', 'PUNC'), ('ของ', 'RPRE'), ('แต่ละ', 'DIBQ'), ('กิ่ง', 'CNIT'), ('จะ', 'XVBM'), ('เป็น', 'VSTA'), ('<space>', 'PUNC'), ('CP', 'NCMN')]), ('<space>', 'PUNC'), Tree('VP', [('เสมอ', 'VSTA')])]),\n",
       " Tree('S', [Tree('NP', [('และ', 'NCMN')]), ('ถ้า', 'JSBR'), Tree('S', [('หน่วยงาน', 'NCMN'), ('นั้น', 'DDAC'), ('มี', 'VSTA'), ('เครื่อง', 'NCMN'), ('มินิ', 'VATT'), ('<space>', 'NCMN'), ('หรือ', 'JCRG'), ('<space>', 'FIXN'), ('เมนเฟรม', 'NCMN')])]),\n",
       " Tree('S', [Tree('NP', [('ข้อมูล', 'NCMN')]), Tree('VP', [('จะ', 'XVBM'), ('ประกอบ', 'VACT'), ('ด้วย', 'RPRE'), ('คำ', 'NCMN'), ('ใน', 'RPRE'), ('ภาษาไทย', 'NPRP'), ('<space>', 'PUNC'), ('และ', 'RPRE'), ('คุณสมบัติ', 'NCMN'), ('ทาง', 'RPRE'), ('ด้าน', 'NCMN'), ('ไวยากรณ์', 'NCMN'), ('ของ', 'RPRE'), ('คำ', 'NCMN'), ('นั้นๆ', 'DDAC'), ('<space>', 'PUNC'), ('ได้แก่', 'VSTA')])]),\n",
       " Tree('S', [Tree('NP', [('ได้', 'VACT'), ('มี', 'VACT'), ('การ', 'FIXN'), ('ประยุกต์', 'VACT')]), Tree('VP', [('นำเอา', 'VACT'), ('เครื่องคอมพิวเตอร์', 'NCMN'), ('มา', 'XVAE'), ('เป็น', 'VSTA'), ('อุปกรณ์', 'NCMN'), ('ช่วย', 'VACT'), ('ใน', 'RPRE'), ('การ', 'FIXN'), ('ออกแบบ', 'VACT'), ('บาง', 'DIBQ'), ('วงจรรวม', 'NCMN')])]),\n",
       " Tree('S', [('ทำให้', 'JSBR'), Tree('NP', [('<space>', 'FIXN'), ('PC', 'NCMN')]), ('<space>', 'PUNC'), Tree('VP', [('มี', 'VSTA'), ('อายุ', 'NCMN'), ('การ', 'FIXN'), ('ใช้งาน', 'VACT'), ('ที่', 'PREL'), ('นาน', 'VATT'), ('กว่า', 'ADVN')])]),\n",
       " Tree('S', [Tree('NP', [('7', 'NCNM'), ('<full_stop>', 'PUNC'), ('<space>', 'FIXN'), ('วิจัย', 'VACT')]), ('<space>', 'PUNC'), Tree('VP', [('พัฒนา', 'VACT'), ('<space>', 'NCMN'), ('และ', 'JCRG'), ('ดำเนินการ', 'VACT'), ('ปรับปรุง', 'VACT'), ('ระบบ', 'NCMN'), ('ให้', 'JSBR'), ('มี', 'VSTA'), ('ประสิทธิภาพ', 'NCMN'), ('สูงสุด', 'VATT')])]),\n",
       " Tree('S', [Tree('NP', [('6', 'NCNM'), ('<full_stop>', 'NCMN')]), ('<space>', 'PUNC'), Tree('VP', [('ทำ', 'VACT'), ('การ', 'FIXN'), ('บด', 'VACT'), ('ส่วนผสม', 'NCMN'), ('ใน', 'RPRE'), ('ครก', 'NCMN'), ('agate', 'NCMN'), ('<space>', 'PUNC'), ('ให้', 'JSBR'), ('ละเอียด', 'VATT'), ('อีกครั้งหนึ่ง', 'ADVN'), ('ก่อน', 'RPRE'), ('การ', 'FIXN'), ('อัดขึ้นรูป', 'VACT')])]),\n",
       " Tree('S', [Tree('NP', [('คำ', 'NCMN'), ('หนึ่ง', 'DIAC')]), Tree('VP', [('แสดง', 'VACT'), ('หลาย', 'DIBQ'), ('การก', 'NCMN')])]),\n",
       " Tree('S', [('จาก', 'JSBR'), Tree('NP', [('รูป', 'NCMN'), ('ที่', 'DONM'), ('2.1', 'DONM')]), ('<space>', 'PUNC'), Tree('VP', [('จะ', 'XVBM'), ('เห็น', 'VSTA'), ('ได้', 'XVAE'), ('ว่า', 'RPRE'), ('<space>', 'FIXN'), ('เป็น', 'VSTA'), ('การ', 'FIXN'), ('แสดง', 'VACT'), ('โครงสร้าง', 'NCMN'), ('อย่าง', 'FIXV'), ('ง่าย', 'ADVN')])]),\n",
       " Tree('S', [Tree('NP', [('1', 'NCMN'), ('<full_stop>', 'NCMN'), ('<space>', 'PUNC'), ('คณะ', 'NCMN'), ('กรรมการนโยบาย', 'NCMN')]), ('<space>', 'PUNC'), Tree('VP', [('ประกอบ', 'VSTA'), ('ด้วย', 'RPRE'), ('กรรมการ', 'NCMN'), ('รวม', 'VSTA'), ('<space>', 'PUNC'), ('21', 'DCNM'), ('<space>', 'PUNC'), ('ท่าน', 'CNIT')])]),\n",
       " Tree('S', [Tree('NP', [('เรื่อง', 'NCMN'), ('นี้', 'DDAC')]), ('<space>', 'PUNC'), Tree('VP', [('ได้', 'XVAM'), ('พยายาม', 'VACT'), ('เน้น', 'VSTA'), ('การ', 'FIXN'), ('ดำเนินการ', 'VACT')])]),\n",
       " Tree('S', [Tree('NP', [('สัญญาณ', 'NCMN'), ('ไฟฟ้า', 'NCMN'), ('หัวใจ', 'NCMN'), ('วัด', 'VACT'), ('ได้', 'XVAE'), ('มี', 'VSTA'), ('ศักดาไฟฟ้า', 'NCMN'), ('ในช่วง', 'RPRE'), ('<space>', 'PUNC'), ('0.5', 'NCNM')]), ('<space>', 'PUNC'), Tree('VP', [('ถึง', 'VSTA'), ('<space>', 'PUNC'), ('5', 'DCNM'), ('<space>', 'PUNC'), ('มิลลิโวลท์', 'CMTR')])]),\n",
       " Tree('S', [Tree('NP', [('นั้น', 'DDAC')]), ('<space>', 'PUNC'), Tree('VP', [('สามารถ', 'XVAM'), ('สร้าง', 'VACT'), ('เป็น', 'VSTA'), ('แผนผัง', 'NCMN'), ('ของ', 'RPRE'), ('การ', 'FIXN'), ('ใช้', 'VACT'), ('ซอฟท์แวร์ช่วยออกแบบวงจรรวม', 'NCMN'), ('ได้', 'XVAE')])]),\n",
       " Tree('S', [Tree('NP', [('การ', 'FIXN'), ('ต่อ', 'VSTA'), ('<space>', 'PUNC'), ('Local', 'NCMN'), ('bus', 'NCMN')]), ('<space>', 'PUNC'), Tree('VP', [('จะ', 'XVBM'), ('ไม่', 'NEG'), ('มี', 'VSTA'), ('การ', 'FIXN'), ('ผ่าน', 'VSTA'), ('<space>', 'PUNC'), ('buffer', 'NCMN')])]),\n",
       " Tree('S', [Tree('PP', [('เพื่อ', 'RPRE'), ('รวบรวม', 'VACT'), ('ข้อมูล', 'NCMN'), ('เกี่ยวกับ', 'RPRE'), ('ฐานข้อมูล', 'NCMN'), ('บรรณานุกรม', 'NCMN'), ('สาขา', 'NCMN'), ('วิชา', 'NCMN'), ('วิทยาศาสตร์', 'RPRE'), ('<space>', 'PUNC'), ('และ', 'JCRG'), ('เทคโนโลยี', 'NCMN'), ('ตลอดจน', 'JCRG'), ('สาขา', 'NCMN')]), Tree('S', [('วิชา', 'NCMN'), ('ที่', 'PREL'), ('เกี่ยวข้อง', 'VSTA'), ('<space>', 'PUNC'), ('ประเภท', 'NCMN'), ('และ', 'JCRG'), ('ปริมาณ', 'NCMN'), ('ข้อมูล', 'NCMN'), ('ที่', 'PREL'), ('ได้', 'XVAM'), ('บันทึก', 'VACT'), ('ไว้', 'XVAE'), ('แล้ว', 'ADVN'), ('<space>', 'PUNC'), ('อุปกรณ์', 'NCMN'), ('<space>', 'PUNC'), ('โปรแกรม', 'NCMN'), ('<space>', 'PUNC'), ('วิธีดำเนินการ', 'NCMN'), ('และ', 'JCRG'), ('การ', 'NCMN'), ('ให้บริการ', 'VACT')])]),\n",
       " Tree('S', [Tree('NP', [('สัญญาณ', 'NCMN'), ('แต่ละ', 'DIBQ'), ('ช่อง', 'CNIT')]), Tree('VP', [('ปรากฏ', 'VSTA'), ('บน', 'RPRE'), ('จอภาพ', 'NCMN'), ('ใน', 'RPRE'), ('ตำแหน่ง', 'NCMN'), ('ต่างกัน', 'ADVN')])]),\n",
       " Tree('S', [Tree('NP', [('เทคโนโลยี', 'NCMN'), ('<space>', 'PUNC'), ('Gate', 'NCMN'), ('Array', 'NCMN')]), ('<space>', 'PUNC'), Tree('VP', [('สามารถ', 'XVAM'), ('ทำ', 'VACT'), ('ได้', 'XVAE'), ('ใน', 'RPRE'), ('วงเงิน', 'NCMN'), ('งบ', 'NCMN'), ('ที่', 'PREL'), ('มี', 'VSTA')])]),\n",
       " Tree('S', [Tree('NP', [('สัญญาณนาฬิกา', 'NCMN'), ('ที่', 'PREL'), ('มี', 'VSTA'), ('ความ', 'FIXN'), ('ถี่', 'VATT'), ('สูง', 'ADVN')]), Tree('VP', [('กว่า', 'VSTA'), ('<space>', 'PUNC'), ('10', 'DCNM'), ('<space>', 'PUNC'), ('MHZ', 'CMTR')])]),\n",
       " Tree('S', [Tree('NP', [('ความ', 'FIXN'), ('ตื่นตัว', 'VACT'), ('ใน', 'RPRE'), ('การ', 'FIXN'), ('ใช้', 'VACT'), ('คอมพิวเตอร์', 'NCMN'), ('ใน', 'RPRE'), ('การ', 'FIXN'), ('แปล', 'VACT'), ('ภาษา', 'NCMN'), ('<space>', 'PUNC'), ('ทำให้', 'VACT'), ('งาน', 'NCMN')]), Tree('VP', [('ประมวลผล', 'VACT'), ('ธรรมชาติ', 'NCMN'), ('<space>', 'PUNC'), ('<left_parenthesis>', 'PUNC'), ('Natural', 'NCMN'), ('Language', 'NCMN'), ('Processing', 'NCMN'), ('<right_parenthesis>', 'PUNC'), ('<space>', 'PUNC'), ('ได้รับ', 'VSTA'), ('ความ', 'FIXN'), ('สนใจ', 'VSTA'), ('กว้างขวาง', 'ADVN'), ('ขึ้น', 'XVAE')])]),\n",
       " Tree('S', [Tree('PP', [('โดย', 'RPRE'), ('แสดง', 'VACT'), ('ไม่', 'NEG'), ('เกิน', 'ADVN')]), Tree('S', [('ครั้ง', 'NCMN'), ('ละ', 'VACT'), ('<space>', 'NCMN'), ('1', 'DCNM'), ('<space>', 'PUNC'), ('จุด', 'CNIT')])]),\n",
       " Tree('S', [Tree('NP', [('เกมลูกเต๋า', 'NCMN'), ('และ', 'NCMN')]), Tree('VP', [('ทายเลข', 'VACT')])]),\n",
       " Tree('S', [Tree('NP', [('ปัญหา', 'NCMN'), ('ของ', 'RPRE'), ('การ', 'FIXN'), ('แปล', 'VACT'), ('ภาษา', 'NCMN'), ('ด้วย', 'RPRE'), ('เครื่องคอมพิวเตอร์', 'NCMN'), ('จึง', 'XVBM'), ('อยู่', 'VSTA'), ('ที่', 'PREL'), ('ว่า', 'VACT')]), ('<space>', 'PUNC'), Tree('VP', [('จะ', 'XVBM'), ('สามารถ', 'XVAM'), ('ทำให้', 'VACT'), ('ระบบคอมพิวเตอร์', 'NCMN'), ('เข้าใจ', 'VSTA'), ('ประโยค', 'NCMN'), ('หรือ', 'JCRG'), ('ข้อความ', 'NCMN'), ('ที่', 'PREL'), ('จะ', 'XVBM'), ('แปล', 'VACT'), ('ได้', 'XVAE'), ('เหมือน', 'VSTA'), ('มนุษย์', 'NCMN'), ('<space>', 'NCMN'), ('<left_parenthesis>', 'PUNC'), ('ผู้แปล', 'NCMN'), ('<right_parenthesis>', 'PUNC'), ('<space>', 'NCMN'), ('อย่างไร', 'PNTR')])]),\n",
       " Tree('S', [Tree('NP', [('คณะ', 'NCMN'), ('ผู้วิจัย', 'NCMN')]), Tree('VP', [('ได้', 'XVAM'), ('ทำ', 'VACT'), ('การ', 'FIXN'), ('กำหนด', 'VACT'), ('ฟอร์แมต', 'NCMN'), ('มาตรฐาน', 'NCMN'), ('สำหรับ', 'RPRE'), ('การ', 'FIXN'), ('แสดง', 'VACT'), ('ผล', 'NCMN'), ('ภาษาไทย', 'NPRP')])]),\n",
       " Tree('S', [Tree('PP', [('ใน', 'RPRE'), ('ระดับ', 'NCMN')]), Tree('S', [('ประโยค', 'NCMN'), ('<space>', 'PUNC'), ('การ', 'FIXN'), ('เรียง', 'VACT'), ('จะ', 'XVBM'), ('ไป', 'VACT'), ('ใน', 'RPRE'), ('สอง', 'DCNM'), ('ทิศทาง', 'CNIT'), ('คือ', 'RPRE'), ('<space>', 'PUNC'), ('ทั้ง', 'JCRG'), ('หน้า', 'NCMN'), ('และ', 'JCRG'), ('หลัง', 'RPRE'), ('หน่วย', 'NCMN'), ('หลัก', 'VATT'), ('คือ', 'VSTA'), ('หน่วย', 'NCMN'), ('กริยา', 'NCMN')])]),\n",
       " Tree('S', [Tree('NP', [('RC', 'NCMN')]), ('<space>', 'PUNC'), Tree('VP', [('เป็น', 'VSTA'), ('ตัวป้องกัน', 'NCMN')])]),\n",
       " Tree('S', [Tree('NP', [('และ', 'NCMN')]), ('<space>', 'PUNC'), Tree('VP', [('interface', 'VACT'), ('<space>', 'PUNC'), ('โดย', 'FIXV'), ('ตรง', 'VATT'), ('เข้า', 'ADVN'), ('กับ', 'RPRE'), ('<space>', 'PUNC'), ('82335', 'NCMN')])]),\n",
       " Tree('S', [Tree('NP', [('พบ', 'VACT'), ('ว่า', 'VACT'), ('ค่า', 'NCMN'), ('<space>', 'PUNC'), ('FWHM', 'NCMN')]), ('<space>', 'PUNC'), Tree('VP', [('มี', 'VSTA'), ('แนวโน้ม', 'NCMN'), ('ลด', 'VACT'), ('ลง', 'XVAE'), ('ตาม', 'RPRE'), ('รูป', 'NCMN'), ('ที่', 'DONM'), ('12', 'DONM')])]),\n",
       " Tree('S', [Tree('NP', [('และ', 'NCMN')]), Tree('VP', [('คาดว่า', 'VACT'), ('ในที่สุด', 'JSBR'), ('จะ', 'XVBM'), ('พัฒนา', 'VACT'), ('ออกมา', 'XVAE'), ('เป็น', 'VSTA'), ('ชนิด', 'NCMN'), ('<space>', 'PUNC'), ('Laptop', 'NCMN'), ('<space>', 'NCMN'), ('ในที่สุด', 'ADVN')])]),\n",
       " Tree('S', [Tree('NP', [('ซึ่ง', 'NCMN')]), Tree('VP', [('แบ่ง', 'VACT'), ('ตาม', 'RPRE'), ('ชนิด', 'NCMN'), ('ของ', 'RPRE'), ('มอเตอร์', 'NCMN'), ('<space>', 'NCMN'), ('ดังนี้', 'ADVN')])]),\n",
       " Tree('S', [Tree('PP', [('เพื่อ', 'RPRE'), ('รองรับ', 'VACT'), ('จำนวน', 'NCMN')]), Tree('S', [('นักศึกษา', 'NCMN'), ('ที่', 'PREL'), ('ส่ง', 'VACT'), ('ไป', 'XVAE'), ('เรียน', 'VACT'), ('ต่างประเทศ', 'NCMN'), ('ทั้ง', 'NCMN'), ('<space>', 'PUNC'), ('800', 'DCNM'), ('<space>', 'PUNC'), ('คน', 'CNIT')])]),\n",
       " Tree('S', [('ดังนั้น', 'JSBR'), Tree('NP', [('ใน', 'RPRE'), ('การ', 'FIXN'), ('ออกแบบ', 'VACT'), ('จริงๆ', 'ADVN')]), ('<space>', 'PUNC'), Tree('VP', [('แลัว', 'JSBR'), ('นักวิจัย', 'NCMN'), ('ไม่', 'NCMN'), ('สามารถ', 'XVAM'), ('ใช้', 'VACT'), ('เครื่องมือ', 'NCMN'), ('พร้อมๆ', 'VACT'), ('<space>', 'PUNC'), ('กัน', 'ADVN'), ('ได้', 'XVAE')])]),\n",
       " Tree('S', [Tree('NP', [('วงจร', 'NCMN'), ('test', 'NCMN'), ('circuit', 'NCMN'), ('<space>', 'PUNC'), ('ที่', 'RPRE'), ('สร้าง', 'VACT'), ('เพิ่ม', 'VACT')]), Tree('VP', [('จะ', 'XVBM'), ('เพิ่ม', 'VACT'), ('ความ', 'FIXN'), ('สามารถ', 'XVAM'), ('ใน', 'RPRE'), ('การ', 'FIXN'), ('ทดสอบ', 'VACT'), ('<space>', 'NCMN'), ('<left_parenthesis>', 'PUNC'), ('tesability', 'NCMN'), ('<right_parenthesis>', 'PUNC'), ('<space>', 'NCMN'), ('ของ', 'RPRE'), ('วงจร', 'NCMN')])]),\n",
       " Tree('S', [Tree('NP', [('นักวิจัย', 'NCMN'), ('และ', 'JCRG'), ('ผู้ประกอบการ', 'NCMN'), ('ที่', 'PREL'), ('เล็งเห็น', 'VACT'), ('ความ', 'FIXN'), ('สำคัญ', 'VSTA'), ('<space>', 'NCMN'), ('และ', 'JCRG'), ('ได้', 'XVAM'), ('เข้า', 'VACT')]), Tree('VP', [('มาร่วม', 'VACT'), ('โครงการวิจัยและพัฒนา', 'NCMN'), ('ดังกล่าว', 'DDAC'), ('มาแล้ว', 'ADVN')])]),\n",
       " Tree('S', [Tree('NP', [('การ', 'FIXN'), ('ดำเนินการ', 'VACT')]), Tree('VP', [('วิจัย', 'VACT'), ('โดย', 'RPRE'), ('ศูนยเ์ทคโนโลยีอิเล็กทรอนิกส์', 'NPRP'), ('และคอมพิวเตอร์แห่งชาติ', 'NPRP'), ('<space>', 'PUNC'), ('กระทรวงวิทยาศาสตร์เทคโนโลยีและการพลังงาน', 'NPRP')])]),\n",
       " Tree('S', [Tree('NP', [('Multiuser', 'NCMN'), ('Capability', 'NCMN'), ('<space>', 'PUNC'), ('ภายใต้', 'RPRE'), ('ระบบ', 'NCMN'), ('<space>', 'PUNC'), ('UNIX', 'NCMN'), ('<space>', 'PUNC'), ('ผู้ใช้', 'NCMN'), ('หลายๆ', 'DCNM'), ('<space>', 'PUNC'), ('คน', 'CNIT')]), ('<space>', 'PUNC'), Tree('VP', [('สามารถ', 'XVAM'), ('เรียก', 'VACT'), ('ใช้', 'VACT'), ('ข้อมูล', 'NCMN'), ('ชุด', 'NCMN'), ('เดียวกัน', 'DDAC'), ('<space>', 'PUNC'), ('และ', 'NCMN'), ('ในเวลาเดียวกัน', 'ADVN'), ('ได้', 'XVAE')])]),\n",
       " Tree('S', [Tree('NP', [('ตัวป้อนโปรแกรม', 'NCMN')]), Tree('VP', [('มี', 'VSTA'), ('ปุ่มกด', 'NCMN'), ('<space>', 'NCMN'), ('35', 'DCNM'), ('<space>', 'PUNC'), ('ปุ่ม', 'CNIT')])]),\n",
       " Tree('S', [Tree('NP', [('การ', 'FIXN'), ('ดำเนินการ', 'VACT'), ('บาง', 'DIBQ'), ('ประเภท', 'CLTV')]), Tree('VP', [('ได้แก่', 'VSTA'), ('<space>', 'PUNC'), ('เงินเดือน', 'NCMN'), ('<space>', 'PUNC'), ('การ', 'FIXN'), ('คิด', 'VACT'), ('ภาษี', 'NCMN'), ('เงินเดือน', 'NCMN'), ('<space>', 'PUNC'), ('เงิน', 'NCMN'), ('ค่า', 'NCMN'), ('สาธารณูปโภค', 'NCMN'), ('<space>', 'PUNC'), ('จะ', 'JSBR'), ('กระทำ', 'VACT'), ('ปี', 'NCMN'), ('ละ', 'RPRE'), ('<space>', 'PUNC'), ('12', 'NCNM'), ('<space>', 'PUNC'), ('ครั้ง', 'NCMN')])]),\n",
       " Tree('S', [Tree('NP', [('1', 'NCNM')]), Tree('VP', [('<full_stop>', 'VACT'), ('<space>', 'FIXN'), ('บทนำ', 'NCMN')])]),\n",
       " Tree('S', [Tree('NP', [('CIF', 'NCMN'), ('<space>', 'PUNC'), ('File', 'NCMN')]), ('<space>', 'PUNC'), Tree('VP', [('ออกมา', 'VACT'), ('และ', 'JCRG'), ('ได้', 'XVAM'), ('ทดลอง', 'VACT'), ('ใช้', 'VACT'), ('กับ', 'RPRE'), ('โปรแกรม', 'NCMN'), ('<space>', 'PUNC'), ('NECTEC', 'NCMN'), ('II', 'NCMN')])]),\n",
       " Tree('S', [Tree('NP', [('ผิวหน้าแว่นผลึก', 'NCMN'), ('นั้น', 'DDAC')]), Tree('VP', [('จะ', 'XVBM'), ('เป็น', 'VSTA'), ('ที่', 'PREL'), ('รองรับ', 'VACT'), ('ตัวถูกละลาย', 'NCMN'), ('ส่วนเกิน', 'VATT')])]),\n",
       " Tree('S', [Tree('NP', [('จะ', 'NCMN')]), Tree('VP', [('เห็น', 'VSTA'), ('ว่า', 'RPRE'), ('รูปร่าง', 'NCMN'), ('ไป', 'NCMN'), ('เหมือน', 'VATT'), ('กับ', 'RPRE'), ('<space>', 'NCMN'), ('<minus>', 'PUNC'), ('<space>', 'NCMN'), ('<left_parenthesis>', 'PUNC'), ('หมายเลข', 'NCMN'), ('<space>', 'PUNC'), ('14', 'NCNM'), ('<right_parenthesis>', 'PUNC'), ('<space>', 'FIXN'), ('ต่างกัน', 'VSTA'), ('เฉพาะ', 'RPRE'), ('ความ', 'FIXN'), ('ยาว', 'VATT'), ('เท่านั้น', 'ADVN')])]),\n",
       " Tree('S', [Tree('NP', [('มี', 'NCMN'), ('จำนวน', 'NCMN'), ('นักวิจัย', 'NCMN'), ('<space>', 'FIXN'), ('ทั้งสิ้น', 'ADVN'), ('<space>', 'PUNC'), ('215', 'DCNM'), ('<space>', 'PUNC'), ('คน', 'CNIT')]), ('<space>', 'PUNC'), Tree('VP', [('จาก', 'VACT'), ('มหาวิทยาลัย', 'NCMN'), ('<space>', 'NCMN'), ('11', 'DCNM'), ('<space>', 'PUNC'), ('แห่ง', 'CNIT'), ('<space>', 'PUNC'), ('และ', 'RPRE'), ('เอกชน', 'NCMN'), ('<space>', 'PUNC'), ('7', 'DCNM'), ('<space>', 'PUNC'), ('แห่ง', 'CNIT')])]),\n",
       " Tree('S', [Tree('PP', [('เป็น', 'RPRE'), ('คำ', 'NCMN')]), Tree('S', [('หลัก', 'NCMN'), ('หรือ', 'JCRG'), ('คำ', 'NCMN'), ('ประกอบ', 'VSTA')])]),\n",
       " Tree('S', [Tree('NP', [('ศูนย์ฯ', 'NCMN'), ('<space>', 'FIXN'), ('ได้', 'XVAM'), ('เริ่ม', 'VSTA'), ('งานวิจัยและพัฒนา', 'NCMN'), ('ที่', 'PREL'), ('สำคัญ', 'VATT'), ('<space>', 'PUNC'), ('3', 'DCNM'), ('<space>', 'PUNC'), ('โครงการ', 'CNIT')]), ('<space>', 'PUNC'), Tree('VP', [('คือ', 'VSTA')])]),\n",
       " Tree('S', [('ว่า', 'JSBR'), Tree('NP', [('<space>', 'FIXN'), ('มี', 'VSTA'), ('ข้อมูล', 'NCMN'), ('เกี่ยวกับ', 'RPRE'), ('หนังสือ', 'NCMN')]), ('<space>', 'PUNC'), Tree('VP', [('บันทึก', 'VACT'), ('ไว้', 'XVAE'), ('ใน', 'RPRE'), ('ฐานข้อมูล', 'NCMN'), ('มาก', 'VATT'), ('กว่า', 'RPRE'), ('ครึ่งหนึ่ง', 'NCNM'), ('ของ', 'RPRE'), ('ข้อมูล', 'NCMN'), ('ที่', 'PREL'), ('บันทึก', 'VACT'), ('ไว้', 'XVAE'), ('ทั้งหมด', 'ADVN')])]),\n",
       " Tree('S', [Tree('NP', [('Field', 'NCMN'), ('<space>', 'NCMN'), ('ที่', 'DONM'), ('3', 'DONM'), ('<space>', 'PUNC'), ('สำหรับ', 'JSBR'), ('เก็บ', 'VACT'), ('ชื่อ', 'NCMN'), ('อาหาร', 'NCMN')]), Tree('VP', [('เป็น', 'VSTA'), ('ภาษาไทย', 'NPRP'), ('ตาม', 'RPRE'), ('รหัส', 'NCMN'), ('อาหาร', 'NCMN'), ('ที่', 'PREL'), ('ลูกค้า', 'NCMN'), ('แต่ละ', 'DIBQ'), ('โต๊ะ', 'NCMN'), ('สั่ง', 'VACT'), ('<space>', 'PUNC'), ('เป็น', 'VSTA'), ('ตัวแปร', 'NCMN'), ('ชนิด', 'NCMN'), ('<space>', 'PUNC'), ('string', 'NCMN'), ('<space>', 'PUNC'), ('ขนาด', 'NCMN'), ('<space>', 'PUNC'), ('30', 'DCNM'), ('<space>', 'PUNC'), ('ตัวอักษร', 'CNIT')])]),\n",
       " Tree('S', [Tree('NP', [('และ', 'NCMN')]), Tree('VP', [('มีค่า', 'VSTA'), ('ทรานส์คอนดัคแคนซ์', 'NCMN'), ('<space>', 'PUNC'), ('<left_parenthesis>', 'PUNC'), ('Gmsat', 'NCMN'), ('<right_parenthesis>', 'PUNC'), ('<space>', 'PUNC'), ('ระหว่าง', 'RPRE'), ('<space>', 'PUNC'), ('18', 'NCMN'), ('<space>', 'NCMN'), ('<minus>', 'PUNC'), ('<space>', 'NCMN'), ('75', 'DCNM'), ('<space>', 'PUNC'), ('V', 'CMTR'), ('<space>', 'PUNC'), ('ที่', 'RPRE'), ('แรงดัน', 'NCMN'), ('<space>', 'PUNC'), ('VD', 'NCMN'), ('<space>', 'NCMN'), ('<equal>', 'PUNC'), ('<space>', 'NCMN'), ('25', 'DCNM'), ('<space>', 'PUNC'), ('V', 'CMTR'), ('<space>', 'PUNC'), ('และ', 'RPRE'), ('<space>', 'PUNC'), ('VG', 'NCMN'), ('<space>', 'NCMN'), ('<equal>', 'PUNC'), ('<space>', 'NCMN'), ('10', 'DCNM'), ('V', 'CMTR')])]),\n",
       " Tree('S', [Tree('NP', [('ซึ่ง', 'NCMN'), ('ส่วนใหญ่', 'PDMN')]), Tree('VP', [('จะ', 'XVBM'), ('เป็น', 'VSTA'), ('การ', 'FIXN'), ('แปล', 'VACT'), ('ระหว่าง', 'RPRE'), ('ภาษาญี่ปุ่น', 'NPRP'), ('กับ', 'RPRE'), ('ภาษาอังกฤษ', 'NPRP')])]),\n",
       " Tree('S', [Tree('NP', [('Sentence', 'NCMN'), ('style', 'NCMN'), ('selection', 'NCMN'), ('<space>', 'PUNC'), ('<colon>', 'NCMN')]), ('<space>', 'PUNC'), Tree('VP', [('เลือก', 'VACT'), ('รูปแบบ', 'NCMN'), ('ของ', 'RPRE'), ('ประโยค', 'NCMN'), ('ใน', 'RPRE'), ('ภาษาเป้าหมาย', 'NCMN')])]),\n",
       " Tree('S', [Tree('NP', [('แรงดัน', 'NCMN'), ('วิกฤติ', 'VATT'), ('ใน', 'RPRE'), ('ตาราง', 'NCMN'), ('ที่', 'DONM'), ('1', 'DONM'), ('<space>', 'PUNC'), ('ผล', 'NCMN'), ('ของ', 'RPRE'), ('กระแส', 'NCMN'), ('รั่วไหล', 'VSTA'), ('นี้', 'DDAC')]), ('<space>', 'PUNC'), Tree('VP', [('คง', 'XVBM'), ('เกิด', 'VSTA'), ('จาก', 'RPRE'), ('บริเวณ', 'NCMN'), ('ผิวสัมผัส', 'NCMN'), ('ระหว่าง', 'RPRE'), ('<space>', 'NCMN'), ('ไม่', 'NEG'), ('สะอาด', 'VATT'), ('พอ', 'ADVN')])]),\n",
       " Tree('S', [Tree('PP', [('ซึ่ง', 'PREL'), ('จะ', 'XVBM'), ('เป็น', 'VSTA')]), Tree('S', [('ส่วน', 'NCMN'), ('ที่', 'PREL'), ('สามารถ', 'XVAM'), ('นำมาใช้', 'VACT'), ('ใน', 'RPRE'), ('การ', 'FIXN'), ('แก้ปัญหา', 'VACT'), ('<space>', 'PUNC'), ('เรื่อง', 'RPRE'), ('ความหมาย', 'NCMN'), ('ของ', 'RPRE'), ('ประโยค', 'NCMN'), ('ที่', 'PREL'), ('ไม่', 'NEG'), ('ถูกต้อง', 'VATT'), ('ได้', 'XVAE'), ('เป็น', 'VSTA'), ('อย่าง', 'FIXV'), ('ดี', 'ADVN')])]),\n",
       " Tree('S', [('โดย', 'JSBR'), Tree('NP', [('รูป', 'NCMN'), ('ที่', 'DONM'), ('8', 'DONM')]), ('<space>', 'PUNC'), Tree('VP', [('แสดง', 'VACT'), ('ภาพถ่าย', 'NCMN'), ('ของ', 'RPRE'), ('ส่วน', 'NCMN'), ('ของ', 'RPRE'), ('ทรานซิสเตอร์', 'NCMN'), ('<space>', 'PUNC'), ('และ', 'RPRE'), ('วงจร', 'NCMN'), ('อินเวอร์เตอร์', 'NCMN'), ('<space>', 'PUNC'), ('ที่', 'JSBR'), ('สร้าง', 'VACT'), ('เสร็จ', 'ADVN')])]),\n",
       " Tree('S', [Tree('NP', [('อุปกรณ์', 'NCMN'), ('เหล่านี้', 'DDAC')]), Tree('VP', [('เป็น', 'VSTA'), ('อุปกรณ์', 'NCMN'), ('ทาง', 'RPRE'), ('กล', 'NCMN'), ('ที่', 'PREL'), ('มี', 'VSTA'), ('การ', 'FIXN'), ('เคลื่อนที่', 'VACT')])]),\n",
       " Tree('S', [Tree('NP', [('และ', 'NCMN')]), ('ให้', 'JSBR'), Tree('VP', [('มี', 'VSTA'), ('การ', 'FIXN'), ('ใช้', 'VACT'), ('ทรัพยากร', 'NCMN'), ('สารนิเทศ', 'NCMN'), ('ภายใน', 'RPRE'), ('ประเทศ', 'NCMN'), ('ได้', 'XVAE'), ('อย่าง', 'FIXV'), ('คุ้มค่า', 'VATT')])]),\n",
       " Tree('S', [('โดย', 'JSBR'), Tree('NP', [('เฉพาะ', 'RPRE'), ('ด้าน', 'NCMN'), ('บุคลากร', 'NCMN'), ('และ', 'JCRG'), ('กลไก', 'NCMN'), ('ทาง', 'NCMN'), ('ราชการ', 'NCMN'), ('<space>', 'PUNC'), ('ที่', 'JSBR'), ('ไม่', 'NEG'), ('เอื้ออำนวย', 'VSTA'), ('ให้แก่', 'RPRE'), ('ความ', 'FIXN'), ('คล่องตัว', 'VSTA')]), ('<space>', 'PUNC'), Tree('VP', [('เช่นเดียวกับ', 'VSTA'), ('ประเทศมหาอำนาจ', 'NCMN'), ('ทาง', 'RPRE'), ('อุตสาหกรรม', 'NCMN'), ('<space>', 'NCMN'), ('หรือ', 'JCRG'), ('ประเทศ', 'NCMN'), ('อุตสาหกรรม', 'NCMN'), ('ใหม่', 'VATT')])]),\n",
       " Tree('S', [Tree('NP', [('วงจรรวม', 'NCMN')]), Tree('VP', [('สำหรับ', 'JSBR'), ('ตู้ชุมสายโทรศัพท์', 'NCMN'), ('ขนาด', 'NCMN'), ('เล็ก', 'VATT')])]),\n",
       " Tree('S', [Tree('NP', [('วิธี', 'NCMN')]), Tree('VP', [('ทดลอง', 'VACT')])]),\n",
       " Tree('S', [Tree('NP', [('ฉะนั้น', 'NCMN'), ('<space>', 'PUNC'), ('โปรแกรม', 'NCMN'), ('ที่', 'PREL'), ('จะ', 'XVBM'), ('ใช้', 'VACT'), ('สำหรับ', 'RPRE'), ('<space>', 'PUNC'), ('FM', 'NCMN'), ('<space>', 'PUNC'), ('นั้น', 'DDAC')]), ('<space>', 'PUNC'), Tree('VP', [('สามารถ', 'XVAM'), ('ใช้', 'VACT'), ('ภาษาสูง', 'NCMN'), ('ได้', 'XVAE'), ('ง่าย', 'ADVN'), ('กว่า', 'ADVN'), ('การ', 'FIXN'), ('เขียน', 'VACT'), ('ด้วย', 'RPRE'), ('ภาษา', 'NCMN'), ('แอสเซมบลี้', 'NPRP')])]),\n",
       " Tree('S', [Tree('NP', [('หน่วยควบคุม', 'NCMN'), ('<space>', 'PUNC'), ('<left_parenthesis>', 'PUNC'), ('Control', 'NCMN'), ('Unit', 'NCMN'), ('<right_parenthesis>', 'PUNC'), ('<space>', 'PUNC'), ('หรือ', 'JCRG'), ('ที่', 'NCMN')]), Tree('VP', [('เรียก', 'VACT'), ('ว่า', 'RPRE'), ('<space>', 'PUNC'), ('BASIC', 'NCMN'), ('UNIT', 'NCMN'), ('<space>', 'PUNC'), ('จะ', 'XVBM'), ('ทำหน้าที่', 'VACT'), ('ใน', 'RPRE'), ('การ', 'FIXN'), ('อ่าน', 'VACT'), ('อินพุท', 'NCMN')])]),\n",
       " Tree('S', [Tree('PP', [('กล่าวคือ', 'RPRE'), ('ได้', 'XVAM'), ('ปรับปรุง', 'VACT')]), Tree('S', [('ชั้น', 'CNIT'), ('<space>', 'PUNC'), ('7', 'NCNM'), ('<space>', 'PUNC'), ('ของ', 'RPRE'), ('อาคารสำนักปลัดกระทรวงวิทยาศาสตร์ฯ', 'NPRP'), ('<space>', 'PUNC'), ('ให้', 'XVAM'), ('เป็น', 'VSTA'), ('<space>', 'PUNC'), ('Training', 'NCMN'), ('<space>', 'PUNC'), ('และ', 'NCMN'), ('<space>', 'PUNC'), ('Design', 'NCMN'), ('<space>', 'PUNC'), ('Center', 'NCMN')])]),\n",
       " Tree('S', [('โดย', 'JSBR'), Tree('NP', [('ให้', 'RPRE'), ('<space>', 'FIXN'), ('STACK', 'NCMN'), ('POINTER', 'NCMN')]), ('<space>', 'PUNC'), Tree('VP', [('ชี้', 'VACT'), ('ไปยัง', 'RPRE'), ('โปรแกรมผู้ใช้', 'NCMN')])]),\n",
       " Tree('S', [Tree('NP', [('ก็', 'NCMN')]), Tree('VP', [('ย่อม', 'XVBM'), ('มี', 'VSTA'), ('ปัญหา', 'NCMN'), ('และ', 'JCRG'), ('อุปสรรค', 'NCMN'), ('ที่', 'PREL'), ('ต้อง', 'XVMM'), ('แก้ไข', 'VACT'), ('กัน', 'ADVN'), ('ต่อไป', 'ADVN')])]),\n",
       " Tree('S', [Tree('NP', [('ซึ่ง', 'NCMN'), ('ทำให้', 'VACT'), ('ล่าช้า', 'ADVN')]), ('<space>', 'PUNC'), Tree('VP', [('ไม่', 'NEG'), ('ทันใจ', 'VSTA'), ('ลูกค้า', 'NCMN'), ('<space>', 'NCMN'), ('และ', 'JCRG'), ('ยัง', 'XVBM'), ('อาจ', 'XVMM'), ('มี', 'VSTA'), ('ข้อผิดพลาด', 'NCMN'), ('ใน', 'RPRE'), ('การ', 'FIXN'), ('คำนวณ', 'VACT')])]),\n",
       " Tree('S', [Tree('NP', [('ทำให้', 'VACT'), ('ลด', 'VACT'), ('ต้นทุน', 'NCMN'), ('ใน', 'RPRE'), ('การ', 'FIXN'), ('ผลิต', 'VACT'), ('<space>', 'PUNC'), ('และ', 'NCMN')]), Tree('VP', [('สะดวก', 'VSTA'), ('ใน', 'RPRE'), ('การ', 'FIXN'), ('ใช้งาน', 'VACT'), ('มากขึ้น', 'ADVN')])]),\n",
       " Tree('S', [Tree('NP', [('6', 'NCNM')]), Tree('VP', [('<full_stop>', 'VACT'), ('<space>', 'NCMN'), ('Thai', 'NPRP'), ('Syntax', 'NPRP'), (':', 'NPRP'), ('An', 'NPRP'), ('Outline', 'NPRP'), ('<space>', 'PUNC'), ('โดย', 'RPRE'), ('<space>', 'PUNC'), ('Udom', 'NPRP'), ('Warottamasikkhadit', 'NPRP')])]),\n",
       " Tree('S', [Tree('NP', [('ซึ่ง', 'NCMN')]), Tree('VP', [('อาจ', 'XVMM'), ('เป็น', 'VSTA'), ('คอมพิวเตอร์', 'NCMN'), ('ใน', 'RPRE'), ('ระดับ', 'NCMN'), ('ไมโครคอมพิวเตอร์', 'NCMN'), ('เอ็นจิเนียริ่งเวอร์คสเตชั่น', 'NCMN'), ('<space>', 'PUNC'), ('มินิ', 'NCMN'), ('<space>', 'NCMN'), ('หรือ', 'JCRG'), ('เมนเฟรม', 'NCMN'), ('คอมพิวเตอร์', 'NCMN'), ('ก็ได้', 'ADVN')])]),\n",
       " Tree('S', [Tree('NP', [('1', 'NCNM')]), Tree('VP', [('<full_stop>', 'VACT'), ('<space>', 'FIXN'), ('บทนำ', 'NCMN')])]),\n",
       " Tree('S', [Tree('NP', [('และ', 'NCMN'), ('ใส่', 'VACT'), ('คำ', 'NCMN'), ('นั้นๆ', 'DDAC')]), ('<space>', 'PUNC'), Tree('VP', [('ไว้', 'VACT'), ('ที่', 'RPRE'), ('<space>', 'PUNC'), ('CASE', 'NCMN'), ('<space>', 'PUNC'), ('ที่', 'PREL'), ('แสดง', 'VACT'), ('ความ', 'FIXN'), ('สัมพันธ์', 'VSTA'), ('ระหว่าง', 'RPRE'), ('กริยา', 'NCMN'), ('หลัก', 'VATT'), ('กับ', 'RPRE'), ('<space>', 'PUNC'), ('CP', 'NCMN'), ('<space>', 'PUNC'), ('ตัว', 'NCMN'), ('นั้นๆ', 'DDAC'), ('<space>', 'PUNC'), ('ได้แก่', 'VSTA')])]),\n",
       " Tree('S', [Tree('NP', [('การ', 'FIXN'), ('ติดต่อสื่อสาร', 'VACT')]), Tree('VP', [('จะ', 'XVBM'), ('มี', 'VSTA'), ('โปรแกรมควบคุม', 'NCMN'), ('การ', 'FIXN'), ('ทำงาน', 'VACT'), ('ของ', 'RPRE'), ('ระบบ', 'NCMN'), ('แยก', 'VACT'), ('ออกเป็น', 'VSTA'), ('<space>', 'PUNC'), ('2', 'DCNM'), ('<space>', 'PUNC'), ('ส่วน', 'CNIT')])]),\n",
       " Tree('S', [('นอกจากนั้น', 'JSBR'), Tree('NP', [('<space>', 'NCMN'), ('การ', 'FIXN'), ('เคลือบ', 'VACT'), ('ฟิล์ม', 'NCMN'), ('บาง', 'VATT'), ('ด้วย', 'RPRE'), ('วิธี', 'NCMN'), ('สปัตเตอริง', 'NCMN'), ('ที่', 'PREL'), ('นิยม', 'VSTA'), ('ใช้', 'VACT'), ('ยัง', 'XVBM'), ('ใช้', 'VACT'), ('หลาย', 'DIBQ'), ('วิธี', 'CNIT'), ('ด้วยกัน', 'ADVN')]), ('<space>', 'PUNC'), Tree('VP', [('เช่น', 'VSTA'), ('<space>', 'PUNC'), ('D.C.', 'NCMN'), ('magnetron', 'NCMN'), ('sputtering', 'NCMN'), ('<space>', 'PUNC'), ('และ', 'RPRE'), ('<space>', 'PUNC'), ('R.F.', 'NCMN'), ('magnetron', 'NCMN'), ('sputtering', 'NCMN')])]),\n",
       " Tree('S', [Tree('NP', [('3', 'NCNM')]), Tree('VP', [('<full_stop>', 'VACT'), ('<space>', 'NCMN'), ('รัฐมนตรีช่วยว่าการ', 'NCMN'), ('กระทรวงคมนาคม', 'NPRP')])]),\n",
       " Tree('S', [Tree('NP', [('และ', 'NCMN'), ('ยัง', 'XVBM'), ('สามารถ', 'XVAM'), ('พิมพ์', 'VACT'), ('รายงาน', 'NCMN'), ('ต่างๆ', 'DIAC')]), ('<space>', 'PUNC'), Tree('VP', [('ได้', 'VSTA'), ('ตาม', 'RPRE'), ('ต้องการ', 'VACT'), ('อีกด้วย', 'ADVN')])]),\n",
       " Tree('S', [Tree('NP', [('โดย', 'RPRE'), ('ออกแบบ', 'VACT'), ('ให้', 'VACT')]), Tree('VP', [('ใช้', 'VACT'), ('ง่าย', 'ADVN')])]),\n",
       " Tree('S', [Tree('NP', [('เครื่องหมาย', 'NCMN'), ('<space>', 'PUNC'), ('A', 'NCMN'), ('<space>', 'NCMN'), ('=>', 'PUNC'), ('<space>', 'NCMN'), ('B', 'NCMN'), ('<space>', 'FIXN'), ('หมายถึง', 'VSTA'), ('<space>', 'PUNC'), ('A', 'NCMN')]), ('<space>', 'PUNC'), Tree('VP', [('มี', 'VSTA'), ('ลำดับ', 'NCMN'), ('อยู่', 'VSTA'), ('หน้า', 'NCMN'), ('<space>', 'PUNC'), ('B', 'NCMN')])]),\n",
       " Tree('S', [Tree('NP', [('งาน', 'NCMN'), ('ใน', 'RPRE'), ('องค์ประกอบ', 'NCMN'), ('<space>', 'PUNC'), ('3.1', 'NCNM'), ('<space>', 'PUNC'), ('และ', 'RPRE'), ('<space>', 'PUNC'), ('3.2', 'NCNM')]), ('<space>', 'PUNC'), Tree('VP', [('จะ', 'XVBM'), ('ต้อง', 'XVMM'), ('เสร็จสิ้น', 'VSTA'), ('ลง', 'XVAE'), ('ก่อน', 'ADVN')])]),\n",
       " Tree('S', [Tree('PP', [('คือ', 'RPRE'), ('<space>', 'PUNC'), ('ด้านรับ', 'NCMN')]), Tree('S', [('มี', 'NCMN'), ('วงจร', 'NCMN'), ('<space>', 'PUNC'), ('A', 'NCMN'), ('<space>', 'PUNC'), ('สำหรับ', 'JSBR'), ('แปลง', 'VACT'), ('สัญญาณคอมโพลิท', 'NCMN'), ('จาก', 'RPRE'), ('กล้องโทรทัศน์', 'NCMN'), ('มา', 'XVAE'), ('เป็น', 'VSTA'), ('ข้อมูล', 'NCMN'), ('เชิง', 'RPRE'), ('เลข', 'NCMN')])]),\n",
       " Tree('S', [Tree('NP', [('และ', 'NCMN'), ('สำหรับ', 'RPRE'), ('ส่วน', 'NCMN'), ('ที่', 'PREL'), ('คาดว่า', 'VACT'), ('จะ', 'XVBM'), ('มีผล', 'VACT'), ('ทำให้', 'VACT'), ('การ', 'FIXN'), ('ทำงาน', 'VACT'), ('ผิดพลาด', 'ADVN'), ('ได้', 'XVAE')]), ('<space>', 'PUNC'), Tree('VP', [('จะ', 'XVBM'), ('ต้อง', 'XVMM'), ('ระบุ', 'VACT')])]),\n",
       " Tree('S', [Tree('NP', [('3', 'NCMN'), ('<full_stop>', 'NCMN')]), ('<space>', 'PUNC'), Tree('VP', [('วิเคราะห์', 'VACT'), ('และ', 'JCRG'), ('ออกแบบ', 'VACT'), ('ระบบ', 'NCMN'), ('เครือข่ายคอมพิวเตอร์', 'NCMN'), ('<space>', 'PUNC'), ('ที่', 'JSBR'), ('เหมาะสม', 'VSTA'), ('กับ', 'RPRE'), ('การ', 'FIXN'), ('ประยุกต์', 'VACT'), ('ใช้งาน', 'VACT'), ('ภายใต้', 'RPRE'), ('ระบบ', 'NCMN'), ('เป็น', 'VSTA'), ('มาตรฐาน', 'NCMN'), ('<space>', 'PUNC'), ('และ', 'RPRE'), ('การ', 'FIXN'), ('ต่อเชื่อม', 'VACT'), ('ระบบ', 'NCMN'), ('เครือข่าย', 'NCMN'), ('คอมพิวเตอร์', 'NCMN'), ('ที่', 'PREL'), ('ต่าง', 'VSTA'), ('ชนิด', 'NCMN'), ('กัน', 'ADVN')])]),\n",
       " Tree('S', [Tree('NP', [('0MS', 'NCMN'), ('<space>', 'NCMN'), ('<equal>', 'PUNC'), ('<space>', 'NCMN'), ('ความ', 'FIXN')]), Tree('VP', [('แตกต่าง', 'VSTA'), ('ของ', 'RPRE'), ('ค่า', 'NCMN'), ('<space>', 'PUNC'), ('Work', 'NCMN'), ('function', 'NCMN'), ('<space>', 'PUNC'), ('ระหว่าง', 'RPRE'), ('โลหะ', 'NCMN'), ('<space>', 'PUNC'), ('และ', 'RPRE'), ('สารกึ่งตัวนำ', 'NCMN')])]),\n",
       " Tree('S', [Tree('NP', [('และ', 'NCMN'), ('ผล', 'NCMN'), ('ที่', 'PREL'), ('ตามมา', 'VACT')]), Tree('VP', [('จะ', 'XVBM'), ('ทำให้', 'VACT'), ('ไป', 'XVAE'), ('ลด', 'VACT'), ('ขอบ', 'NCMN'), ('ระดับ', 'NCMN'), ('ของ', 'RPRE'), ('<space>', 'PUNC'), ('V1H', 'NCMN')])]),\n",
       " Tree('S', [Tree('NP', [('3', 'NCNM'), ('<full_stop>', 'PUNC'), ('<space>', 'FIXN'), ('ช่วย', 'VACT')]), Tree('VP', [('สร้าง', 'VACT'), ('งาน', 'NCMN'), ('ให้แก่', 'RPRE'), ('ประชาชน', 'NCMN'), ('เพิ่มขึ้น', 'ADVN')])]),\n",
       " Tree('S', [Tree('PP', [('ใน', 'RPRE'), ('ระยะ', 'NCMN')]), Tree('S', [('นั้น', 'DDAC'), ('เป็น', 'VSTA'), ('การ', 'FIXN'), ('นำไปใช้', 'VACT')]), ('เพื่อ', 'JSBR'), Tree('S', [('การ', 'FIXN'), ('ให้', 'VACT'), ('ได้', 'VSTA'), ('ข้อมูล', 'NCMN'), ('เพื่อ', 'RPRE'), ('การ', 'FIXN'), ('บริหาร', 'VACT')])]),\n",
       " Tree('S', [Tree('PP', [('จาก', 'RPRE'), ('การ', 'FIXN'), ('สำรวจ', 'VACT'), ('พบ', 'VACT')]), Tree('S', [('ว่า', 'JSBR'), ('ฐานข้อมูล', 'NCMN'), ('บรรณานุกรม', 'NCMN'), ('<space>', 'PUNC'), ('78', 'DCNM'), ('<space>', 'PUNC'), ('ฐานข้อมูล', 'CNIT'), ('<space>', 'PUNC'), ('ประกอบ', 'VSTA'), ('ด้วย', 'RPRE'), ('ฐานข้อมูล', 'NCMN'), ('เฉพาะ', 'RPRE'), ('วิชา', 'NCMN'), ('<space>', 'PUNC'), ('48', 'DCNM'), ('<space>', 'PUNC'), ('ฐานข้อมูล', 'CNIT')])]),\n",
       " Tree('S', [Tree('NP', [('การ', 'FIXN'), ('แก้ไข', 'VACT'), ('และ', 'JCRG'), ('ตรวจ', 'VACT')]), Tree('VP', [('ซ่อม', 'VACT'), ('เมื่อ', 'JSBR'), ('เกิด', 'VSTA'), ('ปัญหา', 'NCMN'), ('ทำ', 'VACT'), ('ได้', 'XVAE'), ('ง่าย', 'ADVN'), ('<space>', 'NCMN'), ('สะดวก', 'VATT'), ('และ', 'JCRG'), ('รวดเร็ว', 'VATT'), ('<space>', 'PUNC'), ('ง่าย', 'NCMN'), ('ต่อ', 'RPRE'), ('การ', 'FIXN'), ('บำรุงรักษา', 'VACT'), ('และ', 'JCRG'), ('มีประสิทธิภาพ', 'VSTA'), ('การ', 'FIXN'), ('ทำงาน', 'VACT'), ('ที่', 'PREL'), ('เหนือ', 'VATT'), ('กว่า', 'ADVN')])]),\n",
       " Tree('S', [Tree('NP', [('Field', 'NCMN'), ('<space>', 'NCMN'), ('ที่', 'DONM'), ('5', 'DONM'), ('<space>', 'PUNC'), ('สำหรับ', 'JSBR'), ('เก็บ', 'VACT'), ('ที่อยู่', 'NCMN'), ('ของ', 'RPRE'), ('พนักงาน', 'NCMN')]), ('<space>', 'PUNC'), Tree('VP', [('เป็น', 'VSTA'), ('ตัวแปร', 'NCMN'), ('ชนิด', 'NCMN'), ('<space>', 'PUNC'), ('string', 'NCMN'), ('<space>', 'PUNC'), ('ขนาด', 'NCMN'), ('<space>', 'PUNC'), ('40', 'DCNM'), ('<space>', 'PUNC'), ('ตัวอักษร', 'CNIT')])]),\n",
       " Tree('S', [Tree('NP', [('Field', 'NCMN'), ('<space>', 'NCMN'), ('ที่', 'DONM'), ('5', 'DONM'), ('<space>', 'PUNC'), ('สำหรับ', 'JSBR'), ('ใช้', 'VACT'), ('เช็ค', 'VACT'), ('รายการอาหาร', 'NCMN'), ('ที่', 'PREL'), ('ต้องการ', 'XVMM'), ('ยกเลิก', 'VACT')]), ('<space>', 'PUNC'), Tree('VP', [('เป็น', 'VSTA'), ('ตัวแปร', 'NCMN'), ('ชนิด', 'NCMN'), ('<space>', 'PUNC'), ('string', 'NCMN'), ('<space>', 'PUNC'), ('ขนาด', 'NCMN'), ('<space>', 'PUNC'), ('1', 'DCNM'), ('<space>', 'PUNC'), ('ตัวอักษร', 'CNIT')])]),\n",
       " Tree('S', [Tree('NP', [('ระบบ', 'NCMN'), ('ซอฟต์แวร์', 'NCMN'), ('นี้', 'DDAC')]), Tree('VP', [('อาจจะ', 'XVMM'), ('จำเป็นต้อง', 'XVMM'), ('ปรับปรุง', 'VACT'), ('บาง', 'DIBQ'), ('โปรแกรม', 'NCMN'), ('<space>', 'PUNC'), ('เพื่อให้', 'JSBR'), ('เหมาะ', 'VSTA'), ('กับ', 'RPRE'), ('ลักษณะ', 'NCMN'), ('งาน', 'NCMN')])]),\n",
       " Tree('S', [Tree('NP', [('โครงร่าง', 'NCMN'), ('ของ', 'RPRE'), ('ตัวอักษร', 'NCMN')]), ('<space>', 'PUNC'), Tree('VP', [('โดย', 'JSBR'), ('ใช้', 'VACT'), ('รหัส', 'NCMN'), ('<space>', 'PUNC'), ('P', 'NCMN'), ('<space>', 'PUNC'), ('และ', 'NCMN'), ('<space>', 'PUNC'), ('Q', 'NCMN'), ('<space>', 'PUNC'), ('สำหรับ', 'RPRE'), ('การ', 'FIXN'), ('บรรยาย', 'VACT'), ('โครงสร้าง', 'NCMN'), ('ของ', 'RPRE'), ('ตัวอักษร', 'NCMN')])]),\n",
       " Tree('S', [Tree('NP', [('5', 'NCNM'), ('<right_parenthesis>', 'PUNC'), ('<space>', 'NCMN')]), Tree('VP', [('สรุป', 'VACT')])]),\n",
       " Tree('S', [Tree('S', [('คำบ่งชี้', 'NCMN'), ('<space>', 'PUNC'), ('จะ', 'XVBM'), ('ปรากฏ', 'VSTA'), ('หลัง', 'RPRE'), ('คำ', 'NCMN'), ('ที่', 'PREL'), ('มี', 'VSTA'), ('ตัว', 'NCMN'), ('มัน', 'PPRS'), ('ขยาย', 'VACT')]), ('ซึ่ง', 'JSBR'), Tree('S', [('ส่วนใหญ่', 'PDMN'), ('จะ', 'XVBM'), ('เป็น', 'VSTA'), ('คำนาม', 'NCMN'), ('หรือ', 'JCRG'), ('คำกริยา', 'NCMN'), ('<space>', 'PUNC'), ('เช่น', 'RPRE'), ('<space>', 'PUNC'), ('ปากกา', 'NCMN'), ('นี้', 'DDAC'), ('เป็น', 'VSTA'), ('ของ', 'RPRE'), ('ฉัน', 'PPRS')])]),\n",
       " Tree('S', [Tree('NP', [('นี้', 'DDAC')]), Tree('VP', [('มี', 'VSTA'), ('คณะ', 'NCMN'), ('นักวิจัย', 'NCMN'), ('ร่วม', 'VACT'), ('ทำงาน', 'VACT'), ('ทั้งสิ้น', 'ADVN'), ('<space>', 'PUNC'), ('5', 'DCNM'), ('<space>', 'PUNC'), ('คน', 'CNIT')])]),\n",
       " Tree('S', [Tree('NP', [('และ', 'NCMN')]), Tree('VP', [('จะ', 'XVBM'), ('ต้อง', 'XVMM'), ('ตัด', 'VACT'), ('คำ', 'NCMN'), ('กำกวม', 'VATT')])]),\n",
       " Tree('S', [Tree('NP', [('ลอง', 'NCMN')]), Tree('VP', [('เปิดดู', 'VACT'), ('ภายใน', 'RPRE'), ('เครื่องมือเครื่องใช้อิเล็กทรอนิกส์', 'NCMN'), ('แล้ว', 'XVAE')])]),\n",
       " Tree('S', [Tree('NP', [('ผลลัพธ์', 'NCMN'), ('ที่', 'PREL'), ('ได้', 'VSTA')]), Tree('VP', [('จะ', 'XVBM'), ('ถูก', 'XVAM'), ('ส่ง', 'VACT'), ('ไปยัง', 'RPRE'), ('เอาท์พุท', 'NCMN')])]),\n",
       " Tree('S', [('ซึ่ง', 'JSBR'), Tree('NP', [('ใน', 'RPRE'), ('รายงาน', 'NCMN'), ('นี้', 'DDAC')]), ('<space>', 'PUNC'), Tree('VP', [('จะ', 'XVBM'), ('กล่าว', 'VACT'), ('ตั้งแต่', 'RPRE'), ('หลัก', 'NCMN'), ('การ', 'FIXN'), ('วัด', 'VACT'), ('สัญญาณ', 'NCMN'), ('ไฟฟ้า', 'NCMN'), ('หัวใจ', 'NCMN'), ('จาก', 'RPRE'), ('ร่างกาย', 'NCMN'), ('จนกระทั่ง', 'JSBR'), ('ได้', 'XVAM'), ('นำ', 'VACT'), ('สัญญาณ', 'NCMN'), ('นี้', 'DDAC'), ('มา', 'XVAE'), ('แสดง', 'VACT'), ('บน', 'RPRE'), ('จอมอนิเตอร์', 'NCMN')])]),\n",
       " Tree('S', [Tree('NP', [('ประการ', 'CNIT'), ('แรก', 'DONM'), ('<space>', 'FIXN'), ('คือ', 'VSTA')]), ('<space>', 'PUNC'), Tree('VP', [('เป็น', 'VSTA'), ('กลไก', 'NCMN'), ('การ', 'FIXN'), ('ประสานงาน', 'VACT'), ('ระหว่าง', 'RPRE'), ('ภาครัฐบาล', 'NCMN'), ('และ', 'JCRG'), ('เอกชน', 'NCMN')])]),\n",
       " Tree('S', [Tree('NP', [('3.1.3', 'NCNM'), ('<space>', 'PUNC'), ('การ', 'FIXN'), ('ศึกษา', 'VACT'), ('ลักษณะ', 'NCMN')]), ('โดย', 'JSBR'), Tree('VP', [('รวม', 'VACT'), ('ของ', 'RPRE'), ('ภาษาไทย', 'NPRP')])]),\n",
       " Tree('S', [Tree('NP', [('Field', 'NCMN'), ('<space>', 'NCMN'), ('ที่', 'DONM'), ('4', 'DONM'), ('<space>', 'PUNC'), ('สำหรับ', 'JSBR'), ('เก็บ', 'VACT'), ('ราคา', 'NCMN'), ('ต่อ', 'RPRE'), ('หน่วย', 'NCMN'), ('ของ', 'RPRE'), ('อาหาร', 'NCMN'), ('ทั้งหมด', 'DDAN'), ('เมนูอาหาร', 'NCMN')]), Tree('VP', [('เป็น', 'VSTA'), ('ตัวแปร', 'NCMN'), ('ชนิด', 'NCMN'), ('<space>', 'PUNC'), ('real', 'NCMN')])]),\n",
       " Tree('S', [Tree('NP', [('รูป', 'NCMN')]), Tree('VP', [('ที่', 'JSBR'), ('2', 'NCNM'), ('<space>', 'PUNC'), ('ระบบควบคุมการผสมอาหารสัตว์', 'NCMN')])]),\n",
       " Tree('S', [Tree('NP', [('รุ่น', 'NCMN')]), Tree('VP', [('ที่', 'JSBR'), ('1', 'NCNM'), ('<space>', 'PUNC'), ('<colon>', 'NCMN'), ('<space>', 'PUNC'), ('Single', 'NCMN'), ('X-ray', 'NCMN'), ('beam', 'NCMN'), ('-', 'NCMN'), ('translate', 'NCMN')])]),\n",
       " Tree('S', [Tree('PP', [('เพื่อ', 'RPRE'), ('ใช้', 'VACT'), ('ควบคุม', 'VACT')]), Tree('S', [('การ', 'FIXN'), ('ทำงาน', 'VACT'), ('ของ', 'RPRE'), ('เครื่องจักร', 'NCMN'), ('ภายนอก', 'VACT'), ('อินพุท', 'NCMN')])]),\n",
       " Tree('S', [Tree('NP', [('การ', 'FIXN'), ('สลับ', 'VACT'), ('จะ', 'XVBM'), ('ต้อง', 'XVMM'), ('สลับ', 'VACT'), ('บัส', 'NCMN'), ('พร้อมๆ', 'NCMN'), ('<space>', 'PUNC'), ('กัน', 'PPRS'), ('<space>', 'PUNC'), ('3', 'DCNM'), ('<space>', 'PUNC'), ('ประเภท', 'CNIT')]), ('<space>', 'PUNC'), Tree('VP', [('คือ', 'VSTA'), ('<space>', 'PUNC'), ('บัสข้อมูล', 'NCMN'), ('ขนาด', 'NCMN'), ('<space>', 'PUNC'), ('8', 'DCNM'), ('<space>', 'PUNC'), ('บิท', 'CMTR'), ('<comma>', 'PUNC'), ('<space>', 'NCMN'), ('บัสแอดเดรส', 'NCMN'), ('ขนาด', 'NCMN'), ('<space>', 'PUNC'), ('16', 'DCNM'), ('<space>', 'PUNC'), ('บิท', 'CMTR'), ('<space>', 'PUNC'), ('และ', 'RPRE'), ('บัสควบคุม', 'NCMN'), ('<space>', 'PUNC'), ('2', 'DCNM'), ('<space>', 'PUNC'), ('เส้น', 'CNIT')])]),\n",
       " Tree('S', [Tree('PP', [('โดย', 'RPRE'), ('ป้อน', 'VACT')]), Tree('S', [('<space>', 'NCMN'), ('100', 'DCNM'), ('<space>', 'PUNC'), ('Hz', 'CMTR'), ('<space>', 'PUNC'), ('ที่', 'NCMN'), ('หลักหน่วย', 'NCNM'), ('<space>', 'PUNC'), ('Hz', 'NCMN'), ('<space>', 'PUNC'), ('ที่', 'RPRE'), ('หลักสิบ', 'NCNM'), ('<space>', 'PUNC'), ('Hz', 'NCMN'), ('<space>', 'PUNC'), ('ที่', 'JSBR'), ('หลักร้อย', 'NCMN')])]),\n",
       " Tree('S', [Tree('NP', [('มี', 'NCMN'), ('<space>', 'PUNC'), ('TIMER', 'NCMN'), ('<space>', 'PUNC'), ('และ', 'NCMN'), ('<space>', 'PUNC'), ('COUNTER', 'NCMN'), ('<space>', 'PUNC'), ('จำนวน', 'NCMN'), ('<space>', 'PUNC'), ('30', 'NCNM')]), ('<space>', 'PUNC'), Tree('VP', [('ตัว', 'VACT')])]),\n",
       " Tree('S', [Tree('NP', [('และ', 'NCMN')]), Tree('VP', [('ต้อง', 'XVMM'), ('เสีย', 'VSTA'), ('ค่าลิขสิทธิ์', 'NCMN'), ('ทาง', 'RPRE'), ('เทคโนโลยี', 'NCMN'), ('เป็น', 'VSTA'), ('เงิน', 'NCMN'), ('หลาย', 'VATT'), ('ร้อยล้าน', 'DCNM'), ('บาท', 'CMTR'), ('<space>', 'PUNC'), ('สำหรับ', 'RPRE'), ('การ', 'FIXN'), ('ผลิต', 'VACT'), ('มอเตอร์ไฟฟ้า', 'NCMN')])]),\n",
       " Tree('S', [('สำหรับ', 'JSBR'), Tree('NP', [('การ', 'FIXN'), ('คำนวณ', 'VACT'), ('ค่า', 'NCMN'), ('ข้อมูล', 'NCMN'), ('สำหรับ', 'RPRE'), ('ตัวโน๊ต', 'NCMN'), ('แต่ละ', 'DIBQ'), ('ตัว', 'CNIT'), ('<space>', 'PUNC'), ('เพื่อ', 'JSBR'), ('ใช้', 'VACT'), ('ใน', 'RPRE'), ('วงจร', 'NCMN'), ('สร้าง', 'VACT'), ('เสียง', 'NCMN'), ('ดนตรี', 'NCMN'), ('นี้', 'DDAC')]), ('<space>', 'PUNC'), Tree('VP', [('จะ', 'XVBM'), ('สามารถ', 'XVAM'), ('คำนวณ', 'VACT'), ('ได้', 'XVAE'), ('จาก', 'RPRE'), ('ความ', 'FIXN'), ('สัมพันธ์', 'VSTA'), ('ดัง', 'RPRE'), ('สมการ', 'NCMN')])]),\n",
       " Tree('S', [Tree('NP', [('1', 'NCNM')]), Tree('VP', [('<full_stop>', 'VACT'), ('<space>', 'NCMN'), ('คำ', 'NCMN'), ('กริยา', 'NCMN'), ('กรรม', 'NCMN'), ('ใน', 'RPRE'), ('ภาษาไทย', 'NPRP'), ('<space>', 'PUNC'), ('โดย', 'RPRE'), ('<space>', 'PUNC'), ('สุรีย์', 'NPRP'), ('<space>', 'PUNC'), ('พันเจริญ', 'NPRP'), ('<space>', 'PUNC'), ('พ.ศ.', 'NCMN'), ('<space>', 'PUNC'), ('2509', 'NCNM')])]),\n",
       " Tree('S', [('ฉะนั้น', 'JSBR'), Tree('NP', [('เวลา', 'NCMN'), ('ใน', 'RPRE'), ('การ', 'FIXN'), ('สแกน', 'VACT'), ('รอบ', 'RPRE'), ('คนไข้', 'NCMN'), ('จะ', 'XVBM'), ('ลดลง', 'VSTA'), ('ไป', 'XVAE'), ('ด้วย', 'ADVN')]), ('<space>', 'PUNC'), Tree('VP', [('ดัง', 'JSBR'), ('รูป', 'NCMN'), ('ที่', 'DONM'), ('2', 'DONM')])]),\n",
       " Tree('S', [Tree('NP', [('โครงสร้าง', 'NCMN')]), Tree('VP', [('ย่อย', 'VACT')])]),\n",
       " Tree('S', [Tree('NP', [('การ', 'FIXN'), ('ออกเสียง', 'VACT')]), Tree('VP', [('แทน', 'VSTA'), ('ด้วย', 'RPRE'), ('<space>', 'PUNC'), ('IPA', 'NCMN')])]),\n",
       " Tree('S', [Tree('NP', [('คอมพิวเตอร์', 'NCMN')]), Tree('VP', [('สามารถ', 'XVAM'), ('ให้', 'VACT'), ('ค่า', 'NCMN'), ('ที่', 'PREL'), ('ใกล้เคียง', 'VATT'), ('มาก', 'ADVN')])]),\n",
       " Tree('S', [Tree('NP', [('รูป', 'NCMN'), ('ที่', 'DONM'), ('3', 'DONM'), ('<space>', 'PUNC'), ('โครงสร้าง', 'NCMN'), ('<space>', 'PUNC'), ('LDD', 'NCMN')]), ('<space>', 'PUNC'), Tree('VP', [('เมื่อ', 'JSBR'), ('กำหนด', 'VACT'), ('ทิศทาง', 'NCMN'), ('เข้าสู่', 'RPRE'), ('<space>', 'PUNC'), ('PDD', 'NCMN')])]),\n",
       " Tree('S', [Tree('NP', [('ได้', 'VACT'), ('มี', 'VACT'), ('การ', 'FIXN'), ('ดำเนิน', 'VACT'), ('การ', 'FIXN'), ('ทดลอง', 'VACT')]), Tree('VP', [('ใช้งาน', 'VACT'), ('<space>', 'PUNC'), ('ดังนี้', 'ADVN')])]),\n",
       " Tree('S', [Tree('NP', [('วน', 'VACT'), ('ทำ', 'VACT')]), Tree('VP', [('เป็น', 'VSTA'), ('ลูป', 'NCMN'), ('<space>', 'PUNC'), ('<left_parenthesis>', 'PUNC'), ('Loop', 'NCMN'), ('<right_parenthesis>', 'PUNC'), ('<space>', 'PUNC'), ('ตลอดเวลา', 'ADVN')])]),\n",
       " Tree('S', [Tree('NP', [('รูป', 'NCMN'), ('ที่', 'DONM'), ('11', 'DONM')]), ('<space>', 'PUNC'), Tree('VP', [('แสดง', 'VACT'), ('การ', 'FIXN'), ('ออกแบบ', 'VACT'), ('<space>', 'PUNC'), ('bus', 'NCMN'), ('line', 'NCMN')])]),\n",
       " Tree('S', [Tree('NP', [('ก็', 'NCMN')]), Tree('VP', [('จะ', 'XVBM'), ('ทำ', 'VACT'), ('การ', 'FIXN'), ('บันทึก', 'VACT'), ('สูตร', 'NCMN'), ('ลง', 'XVAE'), ('ใน', 'RPRE'), ('แผ่นสูตร', 'NCMN'), ('ซึ่ง', 'PREL'), ('อยู่', 'VSTA'), ('ใน', 'RPRE'), ('แผ่น', 'NCMN'), ('เดียวกับ', 'RPRE'), ('แผ่นโปรแกรม', 'NCMN')])]),\n",
       " Tree('S', [Tree('NP', [('2', 'NCNM'), ('<right_parenthesis>', 'PUNC'), ('<space>', 'NCMN'), ('Geometry', 'NCMN'), ('Layout', 'NCMN'), ('<space>', 'FIXN'), ('คือ', 'VSTA'), ('<space>', 'PUNC'), ('ผู้ออกแบบ', 'NCMN'), ('สามารถ', 'XVAM'), ('ใช้', 'VACT'), ('ซอฟต์แวร์', 'NCMN'), ('นี้', 'DDAC'), ('ช่วย', 'VACT'), ('ออกแบบ', 'VACT'), ('ระดับ', 'NCMN'), ('<space>', 'PUNC'), ('Layout', 'NCMN')]), ('<space>', 'PUNC'), Tree('VP', [('ได้', 'VSTA')])]),\n",
       " Tree('S', [Tree('NP', [('ซึ่ง', 'NCMN')]), Tree('VP', [('เป็นเหตุให้', 'VSTA'), ('นักวิจัย', 'NCMN'), ('ขาด', 'VSTA'), ('แรงจูงใจ', 'NCMN'), ('และ', 'JCRG'), ('สิ่ง', 'NCMN'), ('เร้า', 'VSTA'), ('ให้', 'JSBR'), ('เร่ง', 'VACT'), ('ทำงาน', 'VACT')])]),\n",
       " Tree('S', [Tree('NP', [('5', 'NCMN'), ('<full_stop>', 'NCMN'), ('<space>', 'PUNC'), ('ตัวอย่าง', 'NCMN'), ('การ', 'FIXN'), ('นำไป', 'VACT')]), Tree('VP', [('ใช้งาน', 'VACT')])]),\n",
       " Tree('S', [Tree('NP', [('ซึ่ง', 'NCMN'), ('บาง', 'DIBQ'), ('รายการ', 'CNIT')]), ('ก็', 'JSBR'), Tree('VP', [('หา', 'VACT'), ('ใบสำคัญซื้อของ', 'NCMN'), ('มา', 'XVAE'), ('เบิก', 'VACT'), ('ไม่', 'NEG'), ('ได้', 'VSTA')])]),\n",
       " Tree('S', [Tree('NP', [('การ', 'FIXN')]), Tree('VP', [('กำหนด', 'VACT'), ('หมายเลข', 'NCMN'), ('<space>', 'NCMN'), ('หรือ', 'JCRG'), ('ชื่อ', 'NCMN'), ('ให้กับ', 'RPRE'), ('อุปกรณ์', 'NCMN'), ('ทาง', 'RPRE'), ('ด้าน', 'NCMN'), ('ลอจิก', 'NCMN'), ('นี้', 'DDAC')])]),\n",
       " Tree('S', [('จึง', 'JSBR'), Tree('NP', [('สรุป', 'NCMN'), ('ได้', 'VSTA'), ('ว่า', 'RPRE'), ('การ', 'FIXN'), ('สร้าง', 'VACT'), ('เครื่องควบคุม', 'NCMN'), ('ด้วย', 'RPRE'), ('วิธี', 'NCMN'), ('ดังกล่าว', 'DDAC'), ('ใน', 'RPRE'), ('บทความ', 'NCMN'), ('นี้', 'DDAC')]), ('<space>', 'PUNC'), Tree('VP', [('มี', 'VSTA'), ('ข้อได้เปรียบ', 'NCMN'), ('ใน', 'RPRE'), ('ทุกๆ', 'DIBQ'), ('<space>', 'PUNC'), ('ด้าน', 'NCMN')])]),\n",
       " Tree('S', [Tree('NP', [('7', 'NCMN'), ('<full_stop>', 'NCMN'), ('<space>', 'PUNC'), ('ยืน', 'NPRP'), ('<space>', 'PUNC'), ('ภู่วรวรรณ', 'NPRP'), ('<space>', 'NCMN'), ('<quotation>', 'PUNC'), ('การ', 'FIXN'), ('วิเคราะห์', 'VACT'), ('คำ', 'NCMN'), ('ไทย', 'NPRP'), ('<quotation>', 'PUNC'), ('<space>', 'FIXN'), ('รายงานวิจัย', 'NCMN')]), Tree('VP', [('เสนอ', 'VACT'), ('ใน', 'RPRE'), ('การ', 'FIXN'), ('ประชุม', 'VACT'), ('วิชาการ', 'NCMN'), ('วิศวกรรมไฟฟ้า', 'NCMN'), ('<space>', 'PUNC'), ('ครั้ง', 'NCMN'), ('ที่', 'NCMN'), ('7', 'NCMN'), ('<space>', 'PUNC'), ('สถาบันเทคโนโลยีพระจอมเกล้าธนบุรี', 'NPRP'), ('<comma>', 'PUNC'), ('<space>', 'FIXN'), ('พฤศจิกายน', 'NCMN'), ('<space>', 'PUNC'), ('2527', 'NCNM')])]),\n",
       " Tree('S', [Tree('NP', [('3', 'NCNM'), ('<full_stop>', 'PUNC'), ('<space>', 'FIXN'), ('เพิ่ม', 'VACT'), ('ความ', 'FIXN'), ('มั่นคง', 'VSTA'), ('ใน', 'RPRE'), ('ระบบ', 'NCMN')]), ('<space>', 'PUNC'), Tree('VP', [('เนื่องจาก', 'JSBR'), ('การ', 'FIXN'), ('ลด', 'VACT'), ('จุดเชื่อมต่อ', 'NCMN'), ('ต่างๆ', 'DIAC')])]),\n",
       " Tree('S', [Tree('NP', [('ใน', 'NCMN'), ('ด้าน', 'NCMN'), ('<space>', 'PUNC'), ('generation', 'NCMN'), ('<space>', 'PUNC'), ('ก็', 'JSBR'), ('มี', 'VSTA'), ('การ', 'FIXN'), ('ทำงาน', 'VACT'), ('ใน', 'RPRE'), ('ลักษณะ', 'NCMN'), ('ที่', 'PREL'), ('ย้อนกลับ', 'VACT'), ('ด้าน', 'NCMN'), ('<space>', 'PUNC'), ('analysis', 'NCMN'), ('<space>', 'PUNC'), ('คือ', 'VSTA')]), ('<space>', 'PUNC'), Tree('VP', [('เมื่อ', 'JSBR'), ('รู้', 'VSTA'), ('<space>', 'PUNC'), ('MAPS', 'NCMN'), ('<space>', 'PUNC'), ('ของ', 'RPRE'), ('คำกริยา', 'NCMN'), ('ที่', 'PREL'), ('เป็น', 'VSTA'), ('<space>', 'PUNC'), ('predicate', 'NCMN')])]),\n",
       " Tree('S', [Tree('PP', [('กล่าว', 'RPRE'), ('ได้', 'VSTA')]), Tree('S', [('ว่า', 'JSBR'), ('<space>', 'FIXN'), ('มี', 'VSTA'), ('ข้อมูล', 'NCMN'), ('เกี่ยวกับ', 'RPRE'), ('หนังสือ', 'NCMN'), ('<space>', 'PUNC'), ('บันทึก', 'VACT'), ('ไว้', 'XVAE'), ('ใน', 'RPRE'), ('ฐานข้อมูล', 'NCMN'), ('มาก', 'VATT'), ('กว่า', 'RPRE'), ('ครึ่งหนึ่ง', 'NCNM'), ('ของ', 'RPRE'), ('ข้อมูล', 'NCMN'), ('ที่', 'PREL'), ('บันทึก', 'VACT'), ('ไว้', 'XVAE'), ('ทั้งหมด', 'ADVN')])]),\n",
       " Tree('S', [('เนื่องจาก', 'JSBR'), Tree('NP', [('การ', 'FIXN'), ('ติดต่อ', 'VACT'), ('กับ', 'RPRE'), ('หน่วยความจำ', 'NCMN'), ('ผ่าน', 'RPRE'), ('ทาง', 'NCMN'), ('<space>', 'PUNC'), ('system', 'NCMN'), ('bus', 'NCMN')]), ('<space>', 'PUNC'), Tree('VP', [('จะ', 'XVBM'), ('เป็น', 'VSTA'), ('การ', 'FIXN'), ('ติดต่อ', 'VACT'), ('กับ', 'NCMN'), ('<space>', 'PUNC'), ('RAM', 'NCMN'), ('<space>', 'PUNC'), ('และ', 'NCMN'), ('<space>', 'PUNC'), ('extend', 'NCMN'), ('memory', 'NCMN'), ('<space>', 'PUNC'), ('เท่านั้น', 'PDMN')])]),\n",
       " Tree('S', [Tree('NP', [('3', 'NCNM')]), Tree('VP', [('<full_stop>', 'VACT'), ('<space>', 'NCMN'), ('การ', 'FIXN'), ('ทำงาน', 'VACT'), ('ของ', 'RPRE'), ('วงจร', 'NCMN'), ('ต่างๆ', 'DIAC')])]),\n",
       " Tree('S', [Tree('NP', [('ซึ่ง', 'NCMN'), ('ใน', 'RPRE'), ('บางครั้ง', 'NCMN'), ('<space>', 'PUNC'), ('ผล', 'NCMN'), ('ของ', 'RPRE'), ('งานวิจัย', 'NCMN'), ('ไม่', 'NEG'), ('สามารถ', 'VSTA')]), Tree('VP', [('ประเมินผล', 'VACT'), ('สำเร็จ', 'VSTA'), ('ใน', 'RPRE'), ('เชิง', 'NCMN'), ('พาณิชย์', 'NCMN'), ('ออกมา', 'VACT'), ('ได้', 'XVAE'), ('ใน', 'RPRE'), ('ระยะ', 'NCMN'), ('สั้น', 'VATT')])]),\n",
       " Tree('S', [Tree('NP', [('Context', 'NCMN'), ('analysis', 'NCMN'), ('<space>', 'PUNC'), ('<colon>', 'NCMN')]), ('<space>', 'PUNC'), Tree('VP', [('วิเคราะห์', 'VACT'), ('ข้อความ', 'NCMN')])]),\n",
       " Tree('S', [Tree('NP', [('และ', 'NCMN')]), Tree('VP', [('ถูก', 'XVAM'), ('ส่ง', 'VACT'), ('ไป', 'XVAE'), ('บรรจุ', 'VACT'), ('ถุง', 'NCMN'), ('หรือ', 'JCRG'), ('กระสอบ', 'NCMN'), ('ต่อไป', 'ADVN')])]),\n",
       " Tree('S', [Tree('NP', [('วงจรรวม', 'NCMN'), ('นี้', 'DDAC')]), ('<space>', 'PUNC'), Tree('VP', [('ต้องการ', 'VACT'), ('ให้', 'JSBR'), ('ทำหน้าที่', 'VACT'), ('อะไร', 'NCMN')])]),\n",
       " Tree('S', [Tree('NP', [('สัญญาณ', 'NCMN')]), Tree('VP', [('แปลกปลอม', 'VACT'), ('ออกมา', 'XVAE'), ('มาก', 'ADVN')])]),\n",
       " Tree('S', [Tree('PP', [('โดย', 'RPRE'), ('ใช้', 'VACT'), ('วงจรกรองผ่านต่ำ', 'NCMN'), ('<space>', 'PUNC'), ('<left_parenthesis>', 'PUNC'), ('Low', 'NCMN'), ('Pass', 'NCMN'), ('Filter', 'NCMN'), ('<right_parenthesis>', 'PUNC'), ('<space>', 'PUNC')]), Tree('S', [('RC', 'NCMN'), ('<space>', 'PUNC'), ('เป็น', 'VSTA'), ('ตัวป้องกัน', 'NCMN')])]),\n",
       " Tree('S', [Tree('NP', [('การ', 'FIXN'), ('ผลิต', 'VACT'), ('อาหารสัตว์', 'NCMN')]), ('<space>', 'PUNC'), Tree('VP', [('จะ', 'XVBM'), ('เริ่มต้น', 'VSTA'), ('จาก', 'RPRE'), ('การ', 'FIXN'), ('คำนวณหา', 'VACT'), ('สูตร', 'NCMN'), ('ใน', 'RPRE'), ('การ', 'FIXN'), ('ผสม', 'VACT'), ('อาหาร', 'NCMN'), ('<space>', 'PUNC'), ('ให้', 'JSBR'), ('เหมาะ', 'VSTA'), ('กับ', 'RPRE'), ('ชนิด', 'NCMN'), ('ของ', 'RPRE'), ('สัตว์', 'NCMN'), ('<space>', 'PUNC'), ('อายุ', 'NCMN'), ('ของ', 'RPRE'), ('สัตว์', 'NCMN'), ('ที่', 'PREL'), ('จะ', 'XVBM'), ('นำ', 'VACT'), ('ไป', 'XVAE'), ('เลี้ยง', 'VACT'), ('<space>', 'PUNC'), ('ว่า', 'JSBR'), ('จะ', 'XVBM'), ('ต้อง', 'XVMM'), ('ได้', 'VSTA'), ('คุณค่า', 'NCMN'), ('ทาง', 'RPRE'), ('อาหาร', 'NCMN'), ('ที่', 'PREL'), ('ครบถ้วน', 'ADVN'), ('ตาม', 'RPRE'), ('ความ', 'FIXN'), ('ต้องการ', 'VACT'), ('ของ', 'RPRE'), ('สัตว์', 'NCMN'), ('ที่', 'PREL'), ('จะ', 'XVBM'), ('เลี้ยง', 'VACT')])]),\n",
       " Tree('S', [('โดย', 'JSBR'), Tree('NP', [('ทั่วไป', 'NCMN'), ('<space>', 'PUNC'), ('AEN', 'NCMN')]), ('<space>', 'PUNC'), Tree('VP', [('จะ', 'XVBM'), ('เป็น', 'VSTA'), ('อินพุท', 'NCMN'), ('สำหรับ', 'RPRE'), ('ควบคุม', 'VACT'), ('<space>', 'PUNC'), ('tri-state', 'NCMN'), ('buffer', 'NCMN')])]),\n",
       " Tree('S', [Tree('NP', [('รูป', 'NCMN'), ('ที่', 'DONM'), ('4.1', 'DONM')]), ('<space>', 'PUNC'), Tree('VP', [('แสดง', 'VACT'), ('โฟล์วชาร์ท', 'NCMN'), ('ของ', 'RPRE'), ('โปรแกรม', 'NCMN'), ('หลัก', 'VATT')])]),\n",
       " Tree('S', [('จึง', 'JSBR'), Tree('NP', [('ทำให้', 'VACT'), ('มี', 'VACT'), ('ความ', 'FIXN'), ('พร้อม', 'VSTA')]), ('<space>', 'PUNC'), Tree('VP', [('ที่จะ', 'JSBR'), ('เริ่ม', 'VSTA'), ('งานวิจัย', 'NCMN'), ('และ', 'JCRG'), ('พัฒนา', 'NCMN'), ('<space>', 'PUNC'), ('การ', 'FIXN'), ('ออกแบบ', 'VACT'), ('และ', 'JCRG'), ('การ', 'FIXN'), ('สร้าง', 'VACT'), ('วงจรรวม', 'NCMN'), ('ใน', 'RPRE'), ('ประเทศ', 'NCMN')])]),\n",
       " Tree('S', [Tree('PP', [('โดย', 'RPRE'), ('ใน', 'RPRE'), ('ระยะ', 'NCMN'), ('แรก', 'DONM')]), Tree('S', [('นี้', 'DDAC'), ('เน้น', 'VSTA'), ('สำหรับ', 'RPRE'), ('<space>', 'PUNC'), ('ED', 'NCMN')])]),\n",
       " Tree('S', [Tree('NP', [('และ', 'NCMN')]), Tree('VP', [('ขอขอบคุณ', 'VACT'), ('นักวิจัย', 'NCMN'), ('ทุก', 'DIBQ'), ('ท่าน', 'CNIT'), ('ที่', 'PREL'), ('ได้', 'XVAM'), ('เสียสละ', 'VACT'), ('ทั้ง', 'JCRG'), ('แรงกาย', 'NCMN'), ('แรงใจ', 'NCMN'), ('และ', 'JCRG'), ('สติปัญญา', 'NCMN'), ('<space>', 'PUNC'), ('เพื่อที่จะให้', 'JSBR'), ('ได้', 'VSTA'), ('มา', 'XVAE')])]),\n",
       " Tree('S', [('อย่างไรก็ตาม', 'JSBR'), Tree('NP', [('พฤติกรรม', 'NCMN'), ('นี้', 'DDAC')]), ('<space>', 'PUNC'), Tree('VP', [('จะ', 'XVBM'), ('มี', 'VSTA'), ('ความ', 'FIXN'), ('แตกต่าง', 'VSTA'), ('กัน', 'ADVN'), ('อย่าง', 'FIXV'), ('มาก', 'ADVN'), ('ระหว่าง', 'RPRE'), ('ไดโอด', 'NCMN'), ('ชนิด', 'NCMN'), ('เปล่งแสงด้านหน้า', 'NCMN'), ('กับ', 'RPRE'), ('ชนิด', 'NCMN'), ('เปล่งแสงด้านข้าง', 'NCMN'), ('<space>', 'PUNC'), ('ซึ่ง', 'JSBR'), ('จะ', 'XVBM'), ('เห็น', 'VSTA'), ('จาก', 'RPRE'), ('รูป', 'NCMN'), ('ที่', 'DONM'), ('9', 'DONM')])]),\n",
       " Tree('S', [Tree('NP', [('และ', 'NCMN')]), Tree('VP', [('แสดง', 'VACT'), ('บน', 'RPRE'), ('จอ', 'NCMN'), ('ออสซิลโลสโคป', 'NCMN'), ('ธรรมดา', 'VATT')])]),\n",
       " Tree('S', [Tree('NP', [('และ', 'NCMN')]), Tree('VP', [('ยัง', 'XVBM'), ('มี', 'VSTA'), ('ผล', 'NCMN'), ('ของ', 'RPRE'), ('ความ', 'FIXN'), ('ต้านทาน', 'VACT'), ('ใน', 'RPRE'), ('ส่วน', 'CLTV'), ('ฐานรอง', 'NCMN'), ('ที่', 'PREL'), ('ใช้', 'VACT'), ('เป็น', 'VSTA'), ('ส่วน', 'NCMN'), ('เครน', 'NCMN'), ('ด้วย', 'ADVN')])]),\n",
       " Tree('S', [Tree('NP', [('และ', 'NCMN'), ('ก่อน', 'RPRE'), ('จะ', 'XVBM'), ('เริ่ม', 'VSTA'), ('งาน', 'NCMN'), ('<space>', 'PUNC'), ('ใน', 'RPRE'), ('<space>', 'PUNC'), ('3.2', 'NCNM')]), ('<space>', 'PUNC'), Tree('VP', [('ได้', 'VSTA')])]),\n",
       " Tree('S', [Tree('NP', [('กรรมการ', 'NCMN'), ('ทั้ง', 'NCMN'), ('<space>', 'PUNC'), ('2', 'NCNM'), ('<space>', 'PUNC'), ('คณะ', 'NCMN'), ('นี้', 'DDAC')]), ('<space>', 'PUNC'), Tree('VP', [('มี', 'VSTA'), ('หน้าที่', 'NCMN'), ('กำหนด', 'VACT'), ('นโยบาย', 'NCMN'), ('ให้กับ', 'RPRE'), ('โครงการพัฒนามอเตอร์ไฟฟ้า', 'NCMN'), ('ด้วย', 'ADVN')])]),\n",
       " Tree('S', [Tree('NP', [('แต่ละ', 'DIBQ'), ('เทคนิค', 'NCMN')]), Tree('VP', [('มี', 'VSTA'), ('ความ', 'FIXN'), ('เร็ว', 'VATT'), ('ใน', 'RPRE'), ('การ', 'FIXN'), ('ประมวลผล', 'VACT')])]),\n",
       " Tree('S', [Tree('NP', [('โปรแกรมสำเร็จรูป', 'NCMN'), ('สำหรับ', 'RPRE'), ('ร้านอาหาร', 'NCMN'), ('นี้', 'DDAC')]), ('<space>', 'PUNC'), Tree('VP', [('สามารถ', 'XVAM'), ('ใช้', 'VACT'), ('กับ', 'RPRE'), ('เครื่องไมโครคอมพิวเตอร์', 'NCMN'), ('ขนาด', 'NCMN'), ('<space>', 'PUNC'), ('18', 'DCNM'), ('<space>', 'PUNC'), ('bit', 'CMTR'), ('<space>', 'PUNC'), ('ที่', 'PREL'), ('ใช้', 'VACT'), ('<space>', 'NCMN'), ('CPU', 'NCMN'), ('<space>', 'PUNC'), ('เบอร์', 'CNIT'), ('<space>', 'PUNC'), ('8088', 'NCNM'), ('<space>', 'PUNC'), ('และ', 'RPRE'), ('มี', 'VSTA'), ('<space>', 'PUNC'), ('card', 'NCMN'), ('<space>', 'PUNC'), ('ภาษาไทย', 'NPRP'), ('ของ', 'RPRE'), ('บริษัท', 'NCMN'), ('<space>', 'PUNC'), ('สหวิริยา', 'NPRP'), ('โอเอ', 'NPRP'), ('กรุ๊ป', 'NPRP'), ('จำกัด', 'ADVN'), ('<space>', 'PUNC'), ('ได้', 'VSTA')])]),\n",
       " Tree('S', [('อย่างไรก็ดี', 'JSBR'), Tree('NP', [('งานวิจัย', 'NCMN'), ('และ', 'JCRG'), ('พัฒนา', 'NCMN'), ('เทคโนโลยี', 'NCMN'), ('ของ', 'RPRE'), ('วงจรรวม', 'NCMN')]), ('<space>', 'PUNC'), Tree('VP', [('จำเป็นต้อง', 'XVMM'), ('อาศัย', 'VSTA'), ('บุคคลากร', 'NCMN'), ('ที่', 'PREL'), ('มี', 'VSTA'), ('ประสบการณ์', 'NCMN'), ('สูง', 'VATT'), ('<comma>', 'PUNC'), ('<space>', 'FIXN'), ('อุปกรณ์', 'NCMN'), ('และ', 'JCRG'), ('เครื่องมือ', 'NCMN'), ('ที่', 'PREL'), ('มีประสิทธิภาพ', 'VATT'), ('<space>', 'PUNC'), ('รวมทั้ง', 'RPRE'), ('งบประมาณ', 'NCMN'), ('และ', 'JCRG'), ('เวลา', 'NCMN'), ('ที่', 'PREL'), ('ใช้', 'VACT'), ('ใน', 'RPRE'), ('การ', 'FIXN'), ('วิจัย', 'VACT')])]),\n",
       " Tree('S', [Tree('NP', [('ภาษาไทย', 'NPRP')]), Tree('VP', [('เป็น', 'VSTA'), ('ภาษา', 'NCMN'), ('ที่', 'PREL'), ('มี', 'VSTA'), ('ความ', 'FIXN'), ('กำกวม', 'VSTA'), ('เรื่อง', 'NCMN'), ('ชนิด', 'NCMN'), ('ของ', 'RPRE'), ('คำ', 'NCMN'), ('สูง', 'VATT')])]),\n",
       " Tree('S', [Tree('NP', [('system', 'NCMN'), ('bus', 'NCMN')]), ('<space>', 'PUNC'), Tree('VP', [('จะ', 'XVBM'), ('ถูก', 'XVAM'), ('สร้าง', 'VACT'), ('จาก', 'RPRE'), ('อุปกรณ์', 'NCMN'), ('อื่น', 'DIAC'), ('ที่', 'PREL'), ('เข้ามา', 'VACT'), ('เป็น', 'VSTA'), ('<space>', 'PUNC'), ('master', 'NCMN'), ('<space>', 'PUNC'), ('แทน', 'VSTA'), ('<space>', 'PUNC'), ('CPU', 'NCMN')])]),\n",
       " Tree('S', [Tree('NP', [('และ', 'NCMN'), ('ลักษณะ', 'NCMN')]), Tree('VP', [('แสดง', 'VACT'), ('รายงานความก้าวหน้า', 'NCMN'), ('ของ', 'RPRE'), ('โครงการ', 'NCMN'), ('ย่อย', 'VACT'), ('ทั้ง', 'VACT'), ('<space>', 'PUNC'), ('55', 'DCNM'), ('<space>', 'PUNC'), ('โครงการ', 'CNIT')])]),\n",
       " Tree('S', [Tree('NP', [('ระบบ', 'NCMN'), ('การ', 'FIXN'), ('สร้าง', 'VACT'), ('ภาษาเป้าหมาย', 'NCMN')]), Tree('VP', [('เพื่อ', 'JSBR'), ('การ', 'FIXN'), ('แปล', 'VACT'), ('ภาษา', 'NCMN'), ('ด้วย', 'RPRE'), ('คอมพิวเตอร์', 'NCMN')])]),\n",
       " Tree('S', [Tree('NP', [('ข้อเสีย', 'NCMN'), ('ของ', 'RPRE'), ('ระบบ', 'NCMN'), ('นี้', 'DDAC'), ('คือ', 'VSTA'), ('<space>', 'PUNC'), ('Data', 'NCMN'), ('Logger', 'NCMN')]), ('<space>', 'PUNC'), Tree('VP', [('จะ', 'XVBM'), ('ถูก', 'XVAM'), ('วาง', 'VSTA'), ('<space>', 'PUNC'), ('ณ', 'NCMN'), ('<space>', 'PUNC'), ('ตำแหน่ง', 'NCMN'), ('ใด', 'DIAC'), ('ตำแหน่ง', 'NCMN'), ('หนึ่ง', 'DIAC')])]),\n",
       " Tree('S', [Tree('NP', [('โครงการ', 'NCMN'), ('<space>', 'PUNC'), ('การ', 'FIXN'), ('ออกแบบ', 'VACT'), ('วงจรรวม', 'NCMN'), ('ขนาด', 'NCMN')]), Tree('VP', [('ใหญ่', 'VATT'), ('มาก', 'ADVN')])]),\n",
       " Tree('S', [Tree('NP', [('ขั้นตอน', 'NCMN'), ('ที่', 'DONM'), ('4', 'DONM')]), ('<space>', 'PUNC'), Tree('VP', [('เป็น', 'VSTA'), ('การ', 'FIXN'), ('ออกแบบ', 'VACT'), ('ลึก', 'VATT'), ('ลง', 'VACT'), ('ไป', 'XVAE'), ('ถึง', 'RPRE'), ('ระดับ', 'NCMN'), ('<space>', 'PUNC'), ('Layout', 'NCMN'), ('<space>', 'PUNC'), ('ของ', 'RPRE'), ('วงจร', 'NCMN'), ('ลอจิก', 'NCMN')])]),\n",
       " Tree('S', [Tree('NP', [('คำ', 'NCMN')]), Tree('VP', [('เพิ่ม', 'VSTA'), ('ขึ้น', 'XVAE')])]),\n",
       " Tree('S', [Tree('NP', [('การ', 'FIXN')]), Tree('VP', [('พัฒนา', 'VACT'), ('โครงสร้าง', 'NCMN'), ('ภาษาไทย', 'NPRP'), ('ระดับแก่น', 'NCMN')])]),\n",
       " Tree('S', [Tree('NP', [('ซึ่ง', 'NCMN')]), Tree('VP', [('เริ่ม', 'VSTA'), ('ตั้งแต่', 'RPRE'), ('การ', 'FIXN'), ('ศึกษา', 'VACT'), ('<space>', 'PUNC'), ('INTERLINGUA', 'NCMN'), ('MT', 'NCMN'), ('<space>', 'PUNC'), ('การ', 'FIXN'), ('ศึกษา', 'VACT'), ('ส่วนประกอบ', 'NCMN'), ('ข้อมูล', 'NCMN'), ('หลัก', 'NCMN'), ('<space>', 'PUNC'), ('3', 'DCNM'), ('<space>', 'PUNC'), ('ส่วน', 'CNIT'), ('ใน', 'RPRE'), ('<space>', 'PUNC'), ('ED', 'NCMN'), ('<space>', 'PUNC'), ('รายงาน', 'NCMN'), ('การ', 'FIXN'), ('วิเคราะห์', 'VACT'), ('และ', 'JCRG'), ('กำหนด', 'VACT'), ('ระบบ', 'NCMN'), ('ภาษาไทย', 'NPRP'), ('ใน', 'RPRE'), ('แง่', 'NCMN'), ('ต่างๆ', 'DIAC'), ('<space>', 'PUNC'), ('เช่น', 'RPRE'), ('<space>', 'PUNC'), ('การ', 'FIXN'), ('วิเคราะห์', 'VACT'), ('โครงสร้าง', 'NCMN'), ('คำ', 'NCMN'), ('<space>', 'PUNC'), ('เพื่อ', 'JSBR'), ('หา', 'VACT'), ('ตำแหน่ง', 'NCMN'), ('ที่', 'PREL'), ('เกิด', 'VSTA'), ('ของ', 'RPRE'), ('คำ', 'NCMN'), ('ประเภท', 'NCMN'), ('ต่างๆ', 'DIAC'), ('<space>', 'PUNC'), ('การ', 'FIXN'), ('แยก', 'VACT'), ('ประเภท', 'NCMN'), ('คำ', 'NCMN'), ('ทั้ง', 'JCRG'), ('ประเภท', 'NCMN'), ('ใหญ่', 'VATT'), ('และ', 'JCRG'), ('ประเภท', 'NCMN'), ('ย่อย', 'VATT'), ('<space>', 'PUNC'), ('การ', 'FIXN'), ('ศึกษา', 'VACT'), ('หา', 'VACT'), ('ความ', 'FIXN'), ('สัมพันธ์', 'VSTA'), ('ของ', 'RPRE'), ('คำ', 'NCMN'), ('ใน', 'RPRE'), ('ประโยค', 'NCMN'), ('การ', 'FIXN'), ('วิเคราะห์', 'VACT'), ('โครงสร้าง', 'NCMN'), ('ของ', 'RPRE'), ('ประโยค', 'NCMN'), ('ใน', 'RPRE'), ('ภาษาไทย', 'NPRP'), ('<space>', 'PUNC'), ('พร้อมทั้ง', 'RPRE'), ('การ', 'FIXN'), ('กำหนด', 'VACT'), ('ข้อมูล', 'NCMN'), ('ใน', 'RPRE'), ('<space>', 'PUNC'), ('ED', 'NCMN'), ('<space>', 'PUNC'), ('การ', 'FIXN'), ('โค้ด', 'VACT'), ('คำ', 'NCMN'), ('และ', 'JCRG'), ('ตัวอย่าง', 'NCMN')])]),\n",
       " Tree('S', [Tree('NP', [('นักวิจัย', 'NCMN')]), Tree('VP', [('ต้อง', 'XVMM'), ('ใช้เวลา', 'VSTA'), ('ศึกษา', 'VACT'), ('วิเคราะห์', 'VACT'), ('โดย', 'FIXV'), ('ละเอียด', 'VATT')])]),\n",
       " Tree('S', [Tree('NP', [('ผลเปรียบเทียบ', 'NCMN'), ('ประสิทธิภาพ', 'NCMN'), ('ระหว่าง', 'RPRE'), ('มอเตอร์', 'NCMN'), ('เป้าหมาย', 'NCMN'), ('และ', 'JCRG'), ('มอเตอร์', 'NCMN')]), Tree('VP', [('ที่', 'JSBR'), ('วิจัย', 'VACT'), ('และ', 'JCRG'), ('พัฒนา', 'VACT'), ('<space>', 'PUNC'), ('2', 'NCNM')])]),\n",
       " Tree('S', [Tree('NP', [('โครงการ', 'NCMN')]), Tree('VP', [('พัฒนา', 'VACT'), ('พจนานุกรม', 'NCMN'), ('เพื่อ', 'RPRE'), ('การ', 'FIXN'), ('แปล', 'VACT'), ('ภาษา', 'NCMN'), ('ด้วย', 'RPRE'), ('คอมพิวเตอร์', 'NCMN'), ('<space>', 'PUNC'), ('ปี', 'CNIT'), ('<space>', 'PUNC'), ('2531', 'NCNM')])]),\n",
       " Tree('S', [Tree('NP', [('ตัวอย่าง', 'NCMN'), ('ของ', 'RPRE'), ('ระบบ', 'NCMN'), ('นี้', 'DDAC')]), Tree('VP', [('เช่น', 'VSTA'), ('<space>', 'PUNC'), ('ระบบ', 'NCMN'), ('<space>', 'PUNC'), ('GETA', 'NCMN'), ('<space>', 'PUNC'), ('ของ', 'RPRE'), ('มหาวิทยาลัย', 'NCMN'), ('<space>', 'PUNC'), ('Grenoble', 'NCMN'), ('<space>', 'PUNC'), ('ใน', 'RPRE'), ('ประเทศ', 'NCMN'), ('ฝรั่งเศส', 'NPRP'), ('<space>', 'PUNC'), ('เป็นต้น', 'PDMN')])]),\n",
       " Tree('S', [('สำหรับ', 'JSBR'), Tree('NP', [('ท่าน', 'PPRS'), ('ที่', 'PREL'), ('สนใจ', 'VSTA'), ('จะ', 'XVBM'), ('เข้าร่วม', 'VACT'), ('โครงการ', 'NCMN')]), ('<space>', 'PUNC'), Tree('VP', [('สามารถ', 'XVAM'), ('ติดต่อ', 'VACT'), ('ศูนย์ฯ', 'NCMN'), ('<space>', 'NCMN'), ('ได้', 'XVAE'), ('ตลอดเวลา', 'ADVN')])]),\n",
       " Tree('S', [Tree('NP', [('รีจิสเตอร์', 'NCMN'), ('ทั้ง', 'DDBQ'), ('สี่', 'NCMN'), ('ตัว', 'NCMN'), ('นี้', 'DDAC')]), ('<space>', 'PUNC'), Tree('VP', [('ทำหน้าที่', 'VACT'), ('เหมือน', 'VSTA'), ('เป็น', 'VSTA'), ('ตัวเชื่อม', 'NCMN'), ('ใน', 'RPRE'), ('การ', 'FIXN'), ('ติดต่อ', 'VACT'), ('ระหว่าง', 'RPRE'), ('ซีพียู', 'NCMN'), ('กับ', 'RPRE'), ('รีจิสเตอร์', 'NCMN'), ('ภายใน', 'RPRE'), ('ไอซี', 'NCMN'), ('<space>', 'PUNC'), ('PWM', 'NCMN')])]),\n",
       " Tree('S', [Tree('NP', [('และ', 'NCMN')]), Tree('VP', [('สามารถ', 'XVAM'), ('รับ', 'VACT'), ('สัญญาณ', 'NCMN'), ('ได้', 'VSTA'), ('<space>', 'PUNC'), ('4', 'DCNM'), ('<space>', 'PUNC'), ('ช่อง', 'CNIT'), ('พร้อมๆ', 'ADVN'), ('กัน', 'ADVN')])]),\n",
       " Tree('S', [Tree('NP', [('แบบ', 'NCMN'), ('<space>', 'NCMN'), ('8', 'DCNM'), ('<space>', 'PUNC'), ('บิท', 'CMTR')]), Tree('VP', [('จะ', 'XVBM'), ('เป็น', 'VSTA'), ('<space>', 'PUNC'), ('slot', 'NCMN'), ('<space>', 'PUNC'), ('ขนาด', 'CNIT'), ('<space>', 'PUNC'), ('62', 'NCNM'), ('<space>', 'PUNC'), ('ขา', 'NCMN')])]),\n",
       " Tree('S', [Tree('PP', [('เพื่อ', 'RPRE'), ('พัฒนา', 'NCMN')]), Tree('S', [('บุคลากร', 'NCMN'), ('ให้', 'JSBR'), ('สอดคล้อง', 'VSTA'), ('กับ', 'RPRE'), ('เทคโนโลยี', 'NCMN')])]),\n",
       " Tree('S', [Tree('NP', [('ผล', 'NCMN'), ('ของ', 'RPRE'), ('การ', 'FIXN'), ('วิเคราะห์', 'VACT')]), Tree('VP', [('จะ', 'XVBM'), ('ใช้', 'VACT'), ('รหัส', 'NCMN'), ('<space>', 'PUNC'), ('ASCII', 'NCMN'), ('<space>', 'PUNC'), ('สำหรับ', 'RPRE'), ('แต่ละ', 'DIBQ'), ('ตัวอักษร', 'CNIT')])]),\n",
       " Tree('S', [Tree('NP', [('ความ', 'FIXN'), ('ต้านทาน', 'VACT'), ('ใน', 'RPRE'), ('ภาวะ', 'NCMN'), ('<space>', 'PUNC'), ('<quotation>', 'PUNC'), ('ON', 'NCMN'), ('<quotation>', 'PUNC'), ('<space>', 'PUNC'), ('ของ', 'RPRE'), ('ดีมอส', 'NCMN'), ('ยัง', 'XVBM'), ('มี', 'VSTA'), ('ค่า', 'NCMN'), ('สูง', 'VATT'), ('เกินไป', 'ADVN'), ('<space>', 'PUNC'), ('ซึ่ง', 'JSBR'), ('จะ', 'XVBM'), ('มี', 'VSTA'), ('ผล', 'NCMN'), ('ทำให้', 'VACT'), ('<space>', 'PUNC'), ('มี', 'VSTA'), ('ค่า', 'NCMN')]), Tree('VP', [('ลดต่ำ', 'VSTA'), ('ลง', 'XVAE'), ('ด้วย', 'ADVN')])]),\n",
       " Tree('S', [Tree('NP', [('ส่วน', 'NCMN'), ('ที่', 'PREL'), ('เก็บ', 'VACT'), ('ข้อมูล', 'NCMN'), ('ทาง', 'NCMN')]), Tree('VP', [('ด้าน', 'VSTA'), ('<space>', 'PUNC'), ('Syntax', 'NCMN')])]),\n",
       " Tree('S', [Tree('NP', [('คู่', 'CLTV'), ('ภาษา', 'NCMN'), ('ที่', 'PREL'), ('ละเอียด', 'VATT')]), Tree('VP', [('ขึ้น', 'VSTA'), ('การ', 'FIXN'), ('แปล', 'VACT'), ('ก็', 'JSBR'), ('จะ', 'XVBM'), ('มีคุณภาพ', 'VATT'), ('มากขึ้น', 'ADVN')])]),\n",
       " Tree('S', [Tree('PP', [('จาก', 'RPRE'), ('ผล', 'NCMN')]), Tree('S', [('การ', 'FIXN'), ('ทดลอง', 'VACT'), ('ใน', 'RPRE'), ('ตาราง', 'NCMN'), ('ที่', 'DONM'), ('2', 'DONM'), ('<space>', 'PUNC'), ('จะ', 'XVBM'), ('เห็น', 'VSTA')]), ('ว่า', 'JSBR'), Tree('S', [('เรา', 'PPRS'), ('มี', 'VSTA'), ('ข้อมูล', 'NCMN'), ('ป้อน', 'VACT'), ('เข้าไป', 'VACT'), ('<space>', 'PUNC'), ('95', 'DCNM'), ('<space>', 'PUNC'), ('ตัวอักษร', 'CNIT'), ('<space>', 'NCMN'), ('ผิด', 'VATT'), ('เพียง', 'DDBQ'), ('ตัวอักษร', 'CNIT'), ('เดียว', 'DCNM')])]),\n",
       " Tree('S', [Tree('NP', [('มหาวิทยาลัย', 'CNIT'), ('<space>', 'PUNC'), ('7', 'NCNM'), ('<space>', 'PUNC'), ('แห่ง', 'RPRE'), ('ใน', 'RPRE'), ('ประเทศไทย', 'NPRP')]), Tree('VP', [('ได้', 'XVAM'), ('เข้าร่วม', 'VACT'), ('การ', 'FIXN'), ('ทำงาน', 'VACT'), ('ใน', 'RPRE'), ('นาม', 'NCMN'), ('ของ', 'RPRE'), ('ทบวงมหาวิทยาลัย', 'NPRP')])]),\n",
       " Tree('S', [Tree('NP', [('วงจร', 'NCMN'), ('ที่', 'PREL'), ('ออกแบบ', 'VACT')]), Tree('VP', [('ได้', 'XVAM'), ('ทำการ', 'VACT'), ('<space>', 'FIXN'), ('simulate', 'VACT'), ('<space>', 'PUNC'), ('ใน', 'RPRE'), ('หัวข้อ', 'NCMN'), ('ที่', 'DONM'), ('4', 'DONM')])]),\n",
       " Tree('S', [Tree('NP', [('โหมด', 'NCMN'), ('โปรแกรม', 'NCMN'), ('<space>', 'PUNC'), ('และ', 'RPRE'), ('โหมด', 'NCMN')]), Tree('VP', [('ทำงาน', 'VACT')])]),\n",
       " Tree('S', [Tree('NP', [('ความ', 'FIXN'), ('ต้องการ', 'VACT'), ('ที่จะ', 'JSBR'), ('ลด', 'VACT'), ('ช่วงเวลา', 'NCMN'), ('ใน', 'RPRE'), ('การ', 'FIXN'), ('พัฒนา', 'VACT'), ('ผลิตภัณฑ์', 'NCMN'), ('ใหม่', 'VATT'), ('<space>', 'PUNC'), ('และ', 'NCMN'), ('ให้', 'JSBR'), ('สามารถ', 'XVAM'), ('ผลิต', 'VACT'), ('ผลิตภัณฑ์', 'NCMN'), ('ได้', 'VSTA'), ('หลาย', 'DIBQ'), ('แบบ', 'NCMN'), ('มากขึ้น', 'ADVN')]), ('<space>', 'PUNC'), Tree('VP', [('จึง', 'XVBM'), ('นับเป็น', 'VSTA'), ('ความ', 'FIXN'), ('ต้องการ', 'VACT'), ('ของ', 'RPRE'), ('ผู้ผลิต', 'NCMN'), ('เป็น', 'VSTA'), ('อย่าง', 'FIXV'), ('มาก', 'ADVN')])]),\n",
       " Tree('S', [Tree('PP', [('เพื่อ', 'RPRE'), ('ประโยชน์', 'NCMN'), ('ใน', 'RPRE'), ('การ', 'FIXN'), ('วางแผน', 'VACT')]), Tree('S', [('และ', 'NCMN'), ('เปลี่ยนแปลง', 'VACT'), ('รายการอาหาร', 'NCMN')])]),\n",
       " Tree('S', [Tree('NP', [('10', 'NCMN'), ('<full_stop>', 'NCMN'), ('<space>', 'PUNC'), ('ระบบ', 'NCMN'), ('FMCS', 'NCMN')]), ('<space>', 'PUNC'), Tree('VP', [('จะ', 'XVBM'), ('ควบคุม', 'VACT'), ('การ', 'FIXN'), ('ปล่อย', 'VACT'), ('น้ำหนัก', 'NCMN'), ('ของ', 'RPRE'), ('วัตถุดิบ', 'NCMN'), ('แต่ละ', 'DIBQ'), ('ชนิด', 'CLTV'), ('ตาม', 'RPRE'), ('สูตร', 'NCMN')])]),\n",
       " Tree('S', [Tree('NP', [('โทรคมนาคม', 'NCMN')]), ('<space>', 'PUNC'), Tree('VP', [('ได้', 'XVAM'), ('มี', 'VSTA'), ('การ', 'FIXN'), ('สนับสนุน', 'VACT')])]),\n",
       " Tree('S', [Tree('NP', [('ซึ่ง', 'NCMN')]), Tree('VP', [('อาจจะ', 'XVMM'), ('สามารถ', 'XVAM'), ('นำไปใช้', 'VACT'), ('กับ', 'RPRE'), ('อุปกรณ์', 'NCMN'), ('อิเล็กทรอนิกส์', 'NCMN'), ('หรือ', 'JCRG'), ('สินค้า', 'NCMN'), ('ของเด็กเล่น', 'NCMN')])]),\n",
       " Tree('S', [Tree('NP', [('LDD', 'NCMN'), ('<space>', 'NCMN'), ('<minus>', 'PUNC'), ('<space>', 'FIXN'), ('Logical', 'NCMN'), ('Device', 'NCMN'), ('Driver', 'NCMN')]), ('<space>', 'PUNC'), Tree('VP', [('มี', 'VSTA'), ('ลักษณะ', 'NCMN'), ('เป็น', 'VSTA'), ('การ', 'FIXN'), ('กำหนด', 'VACT'), ('เลข', 'NCMN'), ('หรือ', 'JCRG'), ('ชื่อ', 'NCMN'), ('ให้', 'RPRE'), ('อุปกรณ์', 'NCMN')])]),\n",
       " Tree('S', [Tree('NP', [('ก็', 'NCMN')]), Tree('VP', [('สามารถ', 'XVAM'), ('ทำ', 'VACT'), ('ได้', 'XVAE'), ('ด้วย', 'RPRE'), ('แผ่นวงจรพิมพ์', 'NCMN'), ('แบบ', 'NCMN'), ('<space>', 'PUNC'), ('2', 'DCNM'), ('<space>', 'PUNC'), ('หน้า', 'CNIT')])]),\n",
       " Tree('S', [Tree('PP', [('โดย', 'RPRE'), ('มี', 'VSTA'), ('ตัวอย่าง', 'NCMN')]), Tree('S', [('ประโยค', 'NCMN'), ('ประกอบ', 'VSTA')])]),\n",
       " Tree('S', [Tree('PP', [('กล่าวคือ', 'RPRE'), ('สามารถ', 'XVAM'), ('เซต', 'VACT'), ('หน่วย', 'NCMN'), ('ของ', 'RPRE'), ('<space>', 'PUNC'), ('Internal', 'NCMN'), ('<space>', 'PUNC'), ('Unit', 'NCMN'), ('<space>', 'FIXN'), ('ได้', 'VSTA'), ('<space>', 'PUNC'), ('ว่า', 'JSBR'), ('จะ', 'XVBM'), ('ให้', 'XVAM'), ('เป็น', 'VSTA'), ('กี่', 'DIBQ'), ('<space>', 'PUNC'), ('Microns', 'NCMN'), ('<space>', 'NCMN'), ('หรือ', 'EITT'), ('<space>', 'PUNC'), ('กี่', 'DIBQ'), ('<space>', 'PUNC'), ('Millimeters', 'NCMN'), ('<space>', 'NCMN'), ('หรือ', 'JCRG'), ('กี่', 'DIBQ'), ('<space>', 'PUNC'), ('Centimeters', 'NCMN'), ('<space>', 'NCMN'), ('หรือ', 'JCRG'), ('กี่', 'DIBQ'), ('<space>', 'PUNC'), ('Inched', 'NCMN')]), Tree('S', [('<space>', 'NCMN'), ('หรือ', 'JCRG'), ('<space>', 'FIXN'), ('Lambda', 'NCMN'), ('<space>', 'PUNC'), ('ได้', 'VSTA')])]),\n",
       " Tree('S', [Tree('NP', [('หลัก', 'NCMN'), ('ใน', 'RPRE'), ('การ', 'FIXN')]), Tree('VP', [('อ่าน', 'VACT'), ('ข้อมูล', 'NCMN')])]),\n",
       " Tree('S', [Tree('NP', [('และ', 'NCMN'), ('สำหรับ', 'RPRE'), ('รหัส', 'NCMN'), ('ภาษาไทย', 'NCMN'), ('ที่', 'PREL'), ('ใช้', 'VACT'), ('จะ', 'XVBM'), ('เป็น', 'VSTA'), ('รหัส', 'NCMN'), ('แบบ', 'NCMN')]), Tree('VP', [('มี', 'VSTA'), ('ไบท์', 'NCMN'), ('เดียว', 'VATT'), ('<space>', 'NCMN'), ('หรือ', 'JCRG'), ('สอง', 'NCNM'), ('ไบท์', 'CMTR'), ('ก็ได้', 'ADVN')])]),\n",
       " Tree('S', [Tree('NP', [('ซึ่ง', 'NCMN'), ('งาน', 'NCMN'), ('ของ', 'RPRE'), ('การ', 'FIXN'), ('วิจัย', 'VACT'), ('นี้', 'DDAC')]), Tree('VP', [('เพิ่ง', 'XVBM'), ('เริ่มต้น', 'VSTA'), ('และ', 'JCRG'), ('ยัง', 'XVBM'), ('ไม่', 'NEG'), ('มี', 'VSTA'), ('ผลคืบหน้า', 'NCMN'), ('ที่', 'PREL'), ('เห็น', 'VSTA'), ('เด่นชัด', 'VATT'), ('มาก', 'ADVN'), ('นัก', 'ADVN')])]),\n",
       " Tree('S', [Tree('NP', [('รูป', 'NCMN')]), Tree('VP', [('ที่', 'JSBR'), ('6', 'NCNM'), ('<space>', 'PUNC'), ('หลักการ', 'NCMN'), ('<space>', 'PUNC'), ('traversing', 'NCMN'), ('<space>', 'PUNC'), ('แบบ', 'NCMN'), ('<space>', 'PUNC'), ('depth-first', 'NCMN')])]),\n",
       " Tree('S', [Tree('PP', [('ใน', 'RPRE'), ('ปัจจุบัน', 'NCMN')]), Tree('S', [('คลัง', 'NCMN'), ('คำ', 'NCMN'), ('นี้', 'DDAC'), ('มี', 'VSTA'), ('คำ', 'NCMN'), ('จำนวน', 'NCMN'), ('<space>', 'PUNC'), ('14,665', 'DCNM'), ('<space>', 'PUNC'), ('คำ', 'CNIT')])]),\n",
       " Tree('S', [Tree('NP', [('2', 'NCNM')]), Tree('VP', [('<full_stop>', 'VACT'), ('<space>', 'NCMN'), ('ยืน', 'NPRP'), ('<space>', 'PUNC'), ('ภู่วรรณ', 'NPRP'), ('<space>', 'PUNC'), ('สมนึก', 'NPRP'), ('<space>', 'PUNC'), ('คีรีโต', 'NPRP'), ('<space>', 'NCMN'), ('<quotation>', 'PUNC'), ('อัลกอริทึม', 'NCMN'), ('คำไทย', 'NCMN'), ('และ', 'JCRG'), ('การ', 'FIXN'), ('สังเคราะห์', 'VACT'), ('เสียงพูด', 'NCMN'), ('ภาษาไทย', 'NPRP'), ('<quotation>', 'PUNC'), ('<space>', 'NCMN'), ('รายงานวิจัย', 'NCMN'), ('เสนอ', 'VACT'), ('ต่อ', 'RPRE'), ('สภาวิจัยแห่งชาติ', 'NPRP'), ('<space>', 'PUNC'), ('ใน', 'RPRE'), ('งาน', 'NCMN'), ('คิดค้น', 'VACT'), ('สิ่งประดิษฐ์', 'NCMN'), ('ที่', 'PREL'), ('เป็น', 'VSTA'), ('ประโยชน์', 'NCMN'), ('ต่อ', 'RPRE'), ('ประเทศชาติ', 'NCMN'), ('<space>', 'PUNC'), ('ประจำปี', 'NCMN'), ('<space>', 'PUNC'), ('พ.ศ.', 'NCMN'), ('<space>', 'PUNC'), ('2527', 'NCNM')])]),\n",
       " Tree('S', [Tree('PP', [('เมื่อ', 'RPRE'), ('เทคโนโลยี', 'NCMN')]), Tree('S', [('คอมพิวเตอร์', 'NCMN'), ('ก้าวหน้า', 'VSTA'), ('ขึ้น', 'XVAE')])]),\n",
       " Tree('S', [Tree('NP', [('ฐานข้อมูล', 'NCMN')]), Tree('VP', [('อาจ', 'XVMM'), ('หมายถึง', 'VSTA'), ('<space>', 'PUNC'), ('เอกสาร', 'NCMN'), ('<space>', 'PUNC'), ('สิ่งพิมพ์', 'NCMN'), ('<space>', 'PUNC'), ('หนังสือ', 'NCMN'), ('และ', 'JCRG'), ('วารสาร', 'NCMN'), ('ทั้งหมด', 'ADVN'), ('ที่', 'PREL'), ('มี', 'VACT'), ('ใน', 'RPRE'), ('ห้องสมุด', 'NCMN'), ('<space>', 'PUNC'), ('บัตรรายการ', 'NCMN'), ('ตลอดจน', 'JCRG'), ('ดรรชนี', 'NCMN'), ('วารสาร', 'NCMN'), ('ได้', 'XVAE')])]),\n",
       " Tree('S', [Tree('NP', [('Human', 'NCMN'), ('Manager', 'NCMN')]), ('<space>', 'PUNC'), Tree('VP', [('ซึ่ง', 'JSBR'), ('เรียก', 'VACT'), ('ว่า', 'RPRE'), ('<space>', 'PUNC'), ('System', 'NCMN'), ('administrator', 'NCMN')])]),\n",
       " Tree('S', [Tree('NP', [('พิจารณา', 'VACT'), ('ตาม', 'VACT')]), Tree('VP', [('ระดับ', 'VATT'), ('ความ', 'FIXV'), ('ลึก', 'VATT'), ('ของ', 'RPRE'), ('ความหมาย', 'NCMN'), ('อีกด้วย', 'ADVN')])]),\n",
       " Tree('S', [Tree('NP', [('โครงสร้างระบบ', 'NCMN'), ('ส่วน', 'NCMN'), ('นี้', 'DDAC')]), Tree('VP', [('ได้', 'XVAM'), ('เตรียม', 'VACT'), ('ไว้', 'XVAE'), ('สำหรับ', 'JSBR'), ('การ', 'FIXN'), ('จัด', 'VACT'), ('ข้อมูล', 'NCMN'), ('เข้า', 'VACT'), ('ใช้', 'VACT'), ('กับ', 'RPRE'), ('เครื่อง', 'NCMN'), ('<space>', 'PUNC'), ('Workstation', 'NCMN'), ('<space>', 'PUNC'), ('ใน', 'RPRE'), ('เรื่อง', 'NCMN'), ('การ', 'FIXN'), ('สนับสนุน', 'VACT'), ('ระบบ', 'NCMN'), ('งานแปล', 'NCMN'), ('ที่', 'PREL'), ('ผู้รับผิดชอบ', 'NCMN'), ('อยู่', 'XVAE')])]),\n",
       " Tree('S', [Tree('NP', [('5', 'NCNM'), ('<right_parenthesis>', 'PUNC'), ('<space>', 'NCMN')]), ('เพื่อ', 'JSBR'), Tree('VP', [('กระตุ้น', 'VACT'), ('ให้', 'JSBR'), ('เกิด', 'VSTA'), ('การ', 'FIXN'), ('ตื่นตัว', 'VACT'), ('ทาง', 'RPRE'), ('ด้าน', 'NCMN'), ('เทคโนโลยี', 'NCMN'), ('วงจรรวม', 'NCMN'), ('<space>', 'PUNC'), ('และ', 'RPRE'), ('ขยาย', 'VACT'), ('เข้าสู่', 'RPRE'), ('อุตสาหกรรม', 'NCMN'), ('ได้', 'XVAE'), ('ใน', 'RPRE'), ('อนาคต', 'NCMN'), ('อัน', 'PREL'), ('ใกล้', 'VATT')])]),\n",
       " Tree('S', [Tree('NP', [('ทางซ้าย', 'NCMN'), ('ของ', 'RPRE'), ('หน่วย', 'NCMN'), ('ที่', 'PREL'), ('มี', 'VSTA'), ('คุณสมบัติ', 'NCMN')]), Tree('VP', [('เป็น', 'VSTA'), ('กริยา', 'NCMN'), ('สำคัญ', 'VATT')])]),\n",
       " Tree('S', [Tree('PP', [('ดัง', 'RPRE'), ('ปรากฏ', 'VSTA'), ('เป็น', 'VSTA'), ('ผลงาน', 'NCMN'), ('ที่', 'PREL'), ('บรรดา', 'NCMN'), ('นักวิจัย', 'NCMN'), ('<space>', 'PUNC'), ('และ', 'RPRE'), ('ผู้ประกอบการ', 'NCMN')]), Tree('S', [('ภาค', 'NCMN'), ('เอกชน', 'NCMN'), ('ได้', 'XVAM'), ('นำ', 'VACT'), ('มา', 'XVAE'), ('เสนอ', 'VACT'), ('ใน', 'RPRE'), ('การ', 'FIXN'), ('ประชุม', 'VACT'), ('ทาง', 'RPRE'), ('วิชาการ', 'NCMN'), ('ครั้ง', 'CFQC'), ('นี้', 'DDAC')])]),\n",
       " Tree('S', [Tree('NP', [('ซึ่ง', 'NCMN')]), Tree('VP', [('ประกอบ', 'VSTA'), ('ด้วย', 'RPRE'), ('<space>', 'PUNC'), ('55', 'NCNM'), ('<space>', 'PUNC'), ('โครงการ', 'NCMN'), ('ย่อย', 'VATT')])]),\n",
       " Tree('S', [Tree('NP', [('3', 'NCNM'), ('<right_parenthesis>', 'PUNC'), ('<space>', 'NCMN')]), Tree('VP', [('กำหนดค่า', 'VACT'), ('<space>', 'NCMN'), ('TCAT', 'NCMN'), ('<space>', 'PUNC'), ('ให้กับ', 'RPRE'), ('<space>', 'PUNC'), ('CP', 'NCMN'), ('<space>', 'PUNC'), ('แต่ละ', 'DIBQ'), ('ตัว', 'CNIT')])]),\n",
       " Tree('S', [('สำหรับ', 'JSBR'), Tree('NP', [('ใน', 'RPRE'), ('บทความ', 'NCMN'), ('นี้', 'DDAC')]), ('<space>', 'PUNC'), Tree('VP', [('จะ', 'XVBM'), ('อธิบาย', 'VACT'), ('ผลงาน', 'NCMN'), ('ใน', 'RPRE'), ('ปีงบประมาณ', 'NCMN'), ('<space>', 'PUNC'), ('2532', 'NCNM'), ('<space>', 'PUNC'), ('เป็น', 'RPRE'), ('สำคัญ', 'VATT')])]),\n",
       " Tree('S', [Tree('PP', [('คือ', 'RPRE'), ('<space>', 'PUNC'), ('เทคนิค', 'NCMN')]), Tree('S', [('การ', 'FIXN'), ('ลด', 'VACT'), ('ความ', 'FIXN'), ('ถี่', 'VATT'), ('โดย', 'JSBR'), ('ใช้', 'VACT'), ('มิกเซอร์', 'NCMN'), ('ร่วม', 'VACT'), ('กับ', 'RPRE'), ('พรีเสกลเลอร์', 'NCMN')])]),\n",
       " Tree('S', [('ทำให้', 'JSBR'), Tree('NP', [('<space>', 'FIXN'), ('CPU', 'NCMN')]), ('<space>', 'PUNC'), Tree('VP', [('สามารถ', 'XVAM'), ('ทำงาน', 'VACT'), ('ได้', 'XVAE'), ('แบบ', 'NCMN'), ('<space>', 'NCMN'), ('16', 'DCNM'), ('<space>', 'PUNC'), ('บิท', 'CMTR'), ('ได้', 'XVAE'), ('ทันที', 'ADVN')])]),\n",
       " Tree('S', [Tree('NP', [('และ', 'NCMN')]), Tree('VP', [('รายงาน', 'VACT'), ('ผล', 'NCMN'), ('การ', 'FIXN'), ('ปฏิบัติงาน', 'VACT')])]),\n",
       " Tree('S', [Tree('PP', [('ซึ่ง', 'PREL'), ('ประกอบ', 'VSTA'), ('ไป', 'XVAE'), ('ด้วย', 'RPRE'), ('โปรแกรม', 'NCMN')]), Tree('S', [('ชุด', 'NCMN'), ('ที่', 'PREL'), ('ใช้', 'VACT'), ('ใน', 'RPRE'), ('การ', 'FIXN'), ('ออกแบบ', 'VACT'), ('วงจรพิมพ์', 'NCMN'), ('<space>', 'PUNC'), ('<left_parenthesis>', 'PUNC'), ('Printed', 'NCMN'), ('Circuit', 'NCMN'), ('Board', 'NCMN'), ('<right_parenthesis>', 'PUNC'), ('<space>', 'PUNC'), ('โปรแกรม', 'VACT'), ('ใน', 'RPRE'), ('การ', 'FIXN'), ('ออกแบบ', 'VACT'), ('วงจรรวม', 'NCMN'), ('ขนาด', 'NCMN'), ('ใหญ่', 'VATT'), ('ใน', 'RPRE'), ('ระดับ', 'NCMN'), ('ต่างๆ', 'DIAC'), ('<space>', 'PUNC'), ('โปรแกรม', 'NCMN'), ('ทดสอบ', 'VACT'), ('วงจร', 'NCMN'), ('ต้นแบบ', 'NCMN'), ('<space>', 'PUNC'), ('เป็นต้น', 'PDMN')])]),\n",
       " Tree('S', [Tree('NP', [('เครื่อง', 'NCMN')]), Tree('VP', [('สามารถ', 'XVAM'), ('ทำงาน', 'VACT'), ('ได้', 'XVAE'), ('ตาม', 'RPRE'), ('ข้อกำหนด', 'NCMN')])]),\n",
       " Tree('S', [('ในขณะที่', 'JSBR'), Tree('NP', [('ค่า', 'NCMN'), ('ทรานคอนดัตแตนซ์', 'NCMN'), ('มีค่า', 'VSTA'), ('อยู่', 'XVAE'), ('ระหว่าง', 'ADVN'), ('<space>', 'PUNC'), ('18', 'NCMN'), ('<minus>', 'PUNC'), ('75', 'NCNM')]), ('<space>', 'PUNC'), Tree('VP', [('ตาม', 'VACT'), ('ขนาด', 'NCMN'), ('ของ', 'RPRE'), ('โครงสร้าง', 'NCMN')])]),\n",
       " Tree('S', [Tree('NP', [('แผนผัง', 'NCMN'), ('โครงสร้าง', 'NCMN'), ('ภายใน', 'VATT'), ('ของ', 'RPRE'), ('ไอซี', 'NCMN'), ('<space>', 'PUNC'), ('PWM', 'NCMN')]), ('<space>', 'PUNC'), Tree('VP', [('แสดง', 'VACT'), ('ดัง', 'RPRE'), ('รูป', 'NCMN'), ('ที่', 'DONM'), ('3', 'DONM')])]),\n",
       " Tree('S', [Tree('NP', [('ระบบ', 'NCMN'), ('การ', 'FIXN')]), Tree('VP', [('จัด', 'VACT'), ('งบประมาณ', 'NCMN')])]),\n",
       " Tree('S', [Tree('NP', [('กฎ', 'NCMN'), ('ใน', 'RPRE'), ('ระบบ', 'NCMN'), ('ที่', 'PREL'), ('ได้', 'VSTA')]), Tree('VP', [('ออกแบบ', 'VACT'), ('ขึ้น', 'XVAE'), ('รวมทั้ง', 'RPRE'), ('ระบบ', 'NCMN'), ('ของ', 'RPRE'), ('<space>', 'PUNC'), ('CICC', 'NPRP'), ('<space>', 'NCMN'), ('ด้วย', 'ADVN')])]),\n",
       " Tree('S', [Tree('NP', [('1', 'NCNM')]), Tree('VP', [('<full_stop>', 'VACT'), ('<space>', 'NCMN'), ('ลักษณะ', 'NCMN'), ('มาลา', 'NCMN'), ('ใน', 'RPRE'), ('ภาษาไทย', 'NPRP'), ('<space>', 'PUNC'), ('โดย', 'RPRE'), ('<space>', 'PUNC'), ('พรทิพย์', 'NPRP'), ('<space>', 'PUNC'), ('กัทรนาวิก', 'NPRP'), ('<space>', 'PUNC'), ('พ.ศ.', 'NCMN'), ('<space>', 'PUNC'), ('2514', 'NCNM')])]),\n",
       " Tree('S', [Tree('PP', [('เพื่อ', 'RPRE'), ('เป็น', 'VSTA'), ('อุปกรณ์', 'NCMN')]), Tree('S', [('ที่', 'NCMN'), ('มี', 'VSTA'), ('ราคา', 'NCMN'), ('ถูก', 'VATT')])]),\n",
       " Tree('S', [Tree('NP', [('เป็น', 'FIXN'), ('ที่', 'PREL'), ('ยอมรับ', 'VACT'), ('และ', 'JCRG'), ('นำ', 'VACT')]), Tree('VP', [('ไป', 'XVAE'), ('ประยุกต์ใช้', 'VACT'), ('ผลงาน', 'NCMN'), ('ดังกล่าว', 'DDAC'), ('ได้แก่', 'VSTA'), ('<space>', 'PUNC'), ('โปรแกรมเวิร์ดโปรเซสเซอร์', 'NCMN'), ('ภาษาไทย', 'NPRP'), ('<space>', 'PUNC'), ('1', 'NCNM'), ('<comma>', 'PUNC'), ('<space>', 'NCMN'), ('อัลกอริทึม', 'NCMN'), ('คำไทย', 'NCMN'), ('และ', 'JCRG'), ('การ', 'FIXN'), ('ประมวลผล', 'VACT'), ('ภาษาไทย', 'NPRP'), ('<space>', 'PUNC'), ('2', 'NCNM'), ('<comma>', 'PUNC'), ('<space>', 'NCMN'), ('ระบบ', 'NCMN'), ('การ', 'FIXN'), ('แปล', 'VACT'), ('ภาษาอังกฤษ', 'NPRP'), ('เป็น', 'VSTA'), ('ไทย', 'NPRP'), ('โดย', 'JSBR'), ('ใช้', 'VACT'), ('เทคนิค', 'NCMN'), ('<space>', 'PUNC'), ('semantic', 'NCMN'), ('preference', 'NCMN'), ('<space>', 'PUNC'), ('3', 'NCNM'), ('<comma>', 'PUNC'), ('<space>', 'NCMN'), ('การ', 'FIXN'), ('แบ่งแยก', 'VACT'), ('คำไทย', 'NCMN'), ('ใน', 'RPRE'), ('ระบบ', 'NCMN'), ('ประมวลผล', 'VACT'), ('ภาษาธรรมชาติ', 'NCMN'), ('<space>', 'PUNC'), ('4', 'NCNM'), ('<comma>', 'PUNC'), ('การ', 'FIXN'), ('แทน', 'VSTA'), ('ฐานความรอบรู้', 'NCMN'), ('สำหรับ', 'RPRE'), ('การ', 'FIXN'), ('ประมวลผล', 'VACT'), ('ด้วย', 'RPRE'), ('คอมพิวเตอร์', 'NCMN'), ('<space>', 'PUNC'), ('5', 'NCNM'), ('<comma>', 'PUNC'), ('<space>', 'FIXN'), ('อิเล็กทรอดิกชันนารี', 'NCMN'), ('และ', 'JCRG'), ('การ', 'FIXN'), ('จัด', 'VACT'), ('โครงสร้าง', 'NCMN'), ('ข้อมูล', 'NCMN'), ('ดิกชันนารี', 'NCMN'), ('<space>', 'PUNC'), ('6', 'NCNM'), ('<comma>', 'PUNC'), ('<space>', 'NCMN'), ('ข้อมูล', 'NCMN'), ('สถิติ', 'NCMN'), ('ที่', 'PREL'), ('สำคัญ', 'VATT'), ('ของ', 'RPRE'), ('การ', 'FIXN'), ('ใช้', 'VACT'), ('ตัวอักษร', 'NCMN'), ('<space>', 'PUNC'), ('และ', 'RPRE'), ('คำไทย', 'NCMN'), ('<space>', 'PUNC'), ('7', 'NCNM'), ('<comma>', 'PUNC'), ('<space>', 'NCMN'), ('และ', 'JCRG'), ('อื่นๆ', 'PDMN')])]),\n",
       " Tree('S', [Tree('NP', [('1', 'NCNM')]), Tree('VP', [('<full_stop>', 'VACT'), ('<space>', 'FIXN'), ('บทนำ', 'NCMN')])]),\n",
       " Tree('S', [Tree('NP', [('การ', 'FIXN'), ('คำนวณ', 'VACT'), ('<space>', 'PUNC'), ('loading', 'NCMN'), ('<space>', 'PUNC'), ('capacitance', 'NCMN')]), ('<space>', 'PUNC'), Tree('VP', [('ทำ', 'VACT'), ('ได้', 'XVAE'), ('จาก', 'RPRE'), ('ผลรวม', 'NCMN'), ('ของ', 'NCMN'), ('<space>', 'PUNC'), ('input', 'NCMN'), ('<space>', 'PUNC'), ('capacitance', 'NCMN'), ('<space>', 'PUNC'), ('และ', 'JCRG'), ('<space>', 'PUNC'), ('stray', 'NCMN'), ('<space>', 'PUNC'), ('capacitance', 'NCMN'), ('<space>', 'PUNC'), ('ซึ่ง', 'JSBR'), ('มี', 'VSTA'), ('อยู่', 'XVAE'), ('ใน', 'RPRE'), ('การ', 'FIXN'), ('เดินสาย', 'VACT'), ('วงจร', 'NCMN'), ('ภายใน', 'VATT')])]),\n",
       " Tree('S', [Tree('NP', [('และ', 'NCMN')]), Tree('VP', [('ได้', 'XVAM'), ('สนับสนุน', 'VACT'), ('และ', 'JCRG'), ('ติดตาม', 'VACT'), ('การ', 'FIXN'), ('ดำเนินงาน', 'VACT'), ('ของ', 'RPRE'), ('ศูนย์เทคโนโลยีอิเล็กทรอนิกส์และคอมพิวเตอร์แห่งชาติ', 'NPRP'), ('<space>', 'PUNC'), ('มา', 'VACT'), ('โดย', 'FIXV'), ('ตลอด', 'ADVN')])]),\n",
       " Tree('S', [('พร้อมทั้ง', 'JSBR'), Tree('NP', [('ทำ', 'NCMN'), ('การ', 'FIXN'), ('<space>', 'PUNC'), ('initialize', 'NCMN'), ('<space>', 'PUNC'), ('อุปกรณ์', 'NCMN'), ('ต่างๆ', 'DIAC')]), ('<space>', 'PUNC'), Tree('VP', [('ให้', 'XVAM'), ('พร้อม', 'VSTA'), ('ที่', 'PREL'), ('จะ', 'XVBM'), ('ทำงาน', 'VACT'), ('เสียก่อน', 'ADVN')])]),\n",
       " Tree('S', [Tree('NP', [('และ', 'NCMN')]), Tree('VP', [('มี', 'VSTA'), ('จำนวน', 'NCMN'), ('มาก', 'VATT'), ('กว่า', 'DIBQ'), ('ชุด', 'CLTV'), ('การก', 'NCMN'), ('ระดับ', 'NCMN'), ('ผิว', 'NCMN')])]),\n",
       " Tree('S', [Tree('NP', [('9', 'NCNM'), ('<full_stop>', 'NCMN'), ('<space>', 'PUNC'), ('ไนโตรเจนเหลว', 'NCMN'), ('<space>', 'PUNC'), ('เพื่อ', 'JSBR'), ('ใช้', 'VACT'), ('ใน', 'RPRE'), ('การ', 'FIXN')]), Tree('VP', [('ทำ', 'VACT'), ('ความ', 'FIXN'), ('เย็น', 'VATT'), ('ให้กับ', 'RPRE'), ('ชิ้น', 'NCMN'), ('สารตัวนำยิ่งยวด', 'NCMN')])]),\n",
       " Tree('S', [Tree('NP', [('การ', 'FIXN'), ('คำนวณ', 'VACT')]), Tree('VP', [('ค่า', 'VSTA'), ('ความ', 'FIXN'), ('ต้านทาน', 'VACT'), ('และ', 'JCRG'), ('รีแอคแตนช์', 'NCMN'), ('ของ', 'RPRE'), ('มอเตอร์', 'NCMN')])]),\n",
       " Tree('S', [Tree('NP', [('ทรัพยากร', 'NCMN'), ('สารนิเทศ', 'NCMN'), ('ที่', 'PREL'), ('ได้', 'XVAM'), ('บันทึก', 'VACT'), ('รายการ', 'NCMN'), ('ไว้', 'XVAE'), ('ด้วย', 'RPRE'), ('คอมพิวเตอร์', 'NCMN'), ('ส่วนใหญ่', 'PDMN')]), Tree('VP', [('เป็น', 'VSTA'), ('ประเภท', 'NCMN'), ('สิ่งพิมพ์', 'NCMN'), ('<space>', 'PUNC'), ('ได้แก่', 'RPRE'), ('<space>', 'PUNC'), ('หนังสือ', 'NCMN'), ('<space>', 'PUNC'), ('จำนวน', 'NCMN'), ('มาก', 'VATT'), ('ที่สุด', 'ADVN'), ('<space>', 'PUNC'), ('คือ', 'RPRE'), ('ร้อยละ', 'NCMN'), ('<space>', 'PUNC'), ('36.4', 'NCNM')])]),\n",
       " Tree('S', [Tree('NP', [('ก็', 'NCMN')]), Tree('VP', [('ต้อง', 'XVMM'), ('ทำ', 'VACT'), ('การ', 'FIXN'), ('วิเคราะห์', 'VACT'), ('ภาษา', 'NCMN'), ('รัสเซีย', 'NPRP'), ('คู่', 'NCMN'), ('กับ', 'RPRE'), ('ฝรั่งเศส', 'NPRP'), ('อีกครั้ง', 'ADVN'), ('หนึ่ง', 'DIAC')])]),\n",
       " Tree('S', [Tree('NP', [('และ', 'NCMN')]), Tree('VP', [('ยัง', 'XVBM'), ('มี', 'VSTA'), ('อุปกรณ์เสริม', 'NCMN'), ('อีก', 'DDBQ'), ('ชนิด', 'CNIT'), ('หนึ่ง', 'DCNM'), ('ก็', 'JSBR'), ('คือ', 'VSTA'), ('<space>', 'PUNC'), ('Floppy', 'NCMN'), ('Disk', 'NCMN'), ('Controllor', 'NCMN')])]),\n",
       " Tree('S', [Tree('NP', [('DACK0,', 'NCMN'), ('DACK5-7', 'NCMN')]), ('<space>', 'PUNC'), Tree('VP', [('เป็น', 'VSTA'), ('สัญญาณ', 'NCMN'), ('ตอบรับ', 'VATT'), ('<space>', 'PUNC'), ('การ', 'FIXN'), ('ขอ', 'VACT'), ('<space>', 'PUNC'), ('DMA', 'NCMN'), ('<space>', 'PUNC'), ('จาก', 'RPRE'), ('<space>', 'PUNC'), ('IO', 'NCMN'), ('card', 'NCMN')])]),\n",
       " Tree('S', [Tree('PP', [('พร้อมกับ', 'RPRE'), ('กำหนด', 'VACT'), ('ตำแหน่ง', 'NCMN'), ('ของ', 'RPRE'), ('กริยา', 'NCMN')]), Tree('S', [('หลัก', 'NCMN'), ('<space>', 'PUNC'), ('<left_parenthesis>', 'PUNC'), ('Main', 'NCMN'), ('Predicate', 'NCMN'), ('<right_parenthesis>', 'PUNC'), ('<space>', 'PUNC'), ('หรือ', 'JCRG'), ('<space>', 'FIXN'), ('entry', 'NCMN'), ('node', 'NCMN'), ('<space>', 'PUNC'), ('บน', 'VACT'), ('โครงสร้าง', 'NCMN'), ('<space>', 'PUNC'), ('dependency', 'NCMN'), ('tree', 'NCMN')])]),\n",
       " Tree('S', [Tree('NP', [('และ', 'NCMN'), ('โครงการฯ', 'NCMN'), ('<space>', 'PUNC'), ('นี้', 'DDAC')]), Tree('VP', [('เป็น', 'VSTA'), ('หนึ่ง', 'NCNM'), ('ใน', 'RPRE'), ('หลายๆ', 'DIBQ'), ('<space>', 'PUNC'), ('โครงการ', 'NCMN'), ('ของ', 'RPRE'), ('<space>', 'PUNC'), ('NECTEC', 'NPRP')])]),\n",
       " Tree('S', [Tree('PP', [('เพื่อ', 'RPRE'), ('สรุป', 'NCMN')]), Tree('S', [('กฎ', 'NCMN'), ('ใน', 'RPRE'), ('ระบบ', 'NCMN'), ('ที่', 'PREL'), ('ได้', 'VSTA'), ('ออกแบบ', 'VACT'), ('ขึ้น', 'XVAE'), ('รวมทั้ง', 'RPRE'), ('ระบบ', 'NCMN'), ('ของ', 'RPRE'), ('<space>', 'PUNC'), ('CICC', 'NPRP'), ('<space>', 'NCMN'), ('ด้วย', 'ADVN')])]),\n",
       " Tree('S', [Tree('NP', [('ผล', 'NCMN'), ('ของ', 'RPRE'), ('การ', 'FIXN'), ('สร้าง', 'VACT'), ('ภาพตัดขวาง', 'NCMN'), ('ตาม', 'RPRE'), ('<space>', 'PUNC'), ('Slice', 'NCMN'), ('<space>', 'PUNC'), ('ต่างๆ', 'NCMN')]), ('<space>', 'PUNC'), Tree('VP', [('จะ', 'XVBM'), ('เป็น', 'VSTA'), ('ไป', 'XVAE'), ('ตาม', 'RPRE'), ('รูป', 'NCMN'), ('ที่', 'DONM'), ('14', 'DONM')])]),\n",
       " Tree('S', [Tree('NP', [('แนว', 'NCMN')]), Tree('VP', [('ปฏิบัติ', 'VACT'), ('ตาม', 'RPRE'), ('แผน', 'NCMN'), ('ที่', 'PREL'), ('กำหนด', 'VACT'), ('รวมกัน', 'ADVN')])]),\n",
       " Tree('S', [Tree('NP', [('logic', 'NCMN'), ('State', 'NCMN')]), ('<space>', 'PUNC'), Tree('VP', [('จะ', 'XVBM'), ('ไม่ได้', 'NEG'), ('กำหนด', 'VSTA'), ('ที่', 'RPRE'), ('<space>', 'PUNC'), ('t', 'NCMN'), ('<space>', 'NCMN'), ('<equal>', 'PUNC'), ('<space>', 'NCMN'), ('0', 'NCNM')])]),\n",
       " Tree('S', [Tree('PP', [('ใน', 'RPRE'), ('ขณะนี้', 'NCMN')]), Tree('S', [('กำลัง', 'NCMN'), ('อยู่', 'VSTA'), ('ใน', 'RPRE'), ('ระยะ', 'NCMN'), ('ของ', 'RPRE'), ('การ', 'FIXN'), ('พัฒนา', 'VACT'), ('ซอฟท์แวร์', 'NCMN'), ('ตาม', 'RPRE'), ('โครงการ', 'NCMN'), ('ระยะ', 'NCMN'), ('ที่', 'DONM'), ('2', 'DONM')])]),\n",
       " Tree('S', [Tree('NP', [('สัญญาณ', 'NCMN'), ('ที่', 'PREL'), ('วัด', 'VACT'), ('ได้', 'XVAE'), ('มา', 'XVAE'), ('ผ่าน', 'VSTA'), ('วงจร', 'NCMN')]), Tree('VP', [('แปลง', 'VACT'), ('สัญญาณ', 'NCMN'), ('อนาล็อก', 'NCMN'), ('เป็น', 'VSTA'), ('ดิจิตอล', 'NCMN'), ('<space>', 'NCMN'), ('<left_parenthesis>', 'PUNC'), ('Analog', 'NCMN'), ('<space>', 'PUNC'), ('to', 'NCMN'), ('<space>', 'PUNC'), ('Digital', 'NCMN'), ('<space>', 'PUNC'), ('Converter', 'NCMN'), ('<right_parenthesis>', 'PUNC'), ('<space>', 'FIXN'), ('บันทึก', 'VACT'), ('ลง', 'XVAE'), ('ใน', 'RPRE'), ('หน่วยความจำ', 'NCMN'), ('<space>', 'PUNC'), ('<left_parenthesis>', 'PUNC'), ('Memory', 'NCMN'), ('<right_parenthesis>', 'PUNC'), ('<space>', 'PUNC'), ('โดย', 'RPRE'), ('การ', 'FIXN'), ('แซมปลิ้ง', 'VACT'), ('สัญญาณ', 'NCMN'), ('บาง', 'DIBQ'), ('ส่วน', 'CNIT')])]),\n",
       " Tree('S', [Tree('NP', [('ตัวกรองสัญญาณรบกวน', 'NCMN')]), Tree('VP', [('ออก', 'VACT')])]),\n",
       " Tree('S', [Tree('NP', [('วงจร', 'NCMN'), ('ต้นแบบ', 'NCMN'), ('ดังกล่าว', 'DDAC')]), Tree('VP', [('ได้', 'XVAM'), ('สร้าง', 'VACT'), ('ขึ้น', 'VACT'), ('และ', 'JCRG'), ('ทดลอง', 'VACT'), ('ใช้งาน', 'VACT'), ('ได้', 'XVAE'), ('ดี', 'ADVN'), ('พอสมควร', 'ADVN'), ('แล้ว', 'ADVN')])]),\n",
       " Tree('S', [Tree('NP', [('Am', 'NCMN'), ('<space>', 'NCMN'), ('<equal>', 'PUNC'), ('<space>', 'NCMN'), ('พื้นที่หน้าตัด', 'NCMN'), ('ทั้งหมด', 'DDAN'), ('ของ', 'RPRE'), ('ขดลวดตัวนำ', 'NCMN')]), Tree('VP', [('หลัก', 'VSTA')])]),\n",
       " Tree('S', [Tree('NP', [('คำกริยา', 'NCMN'), ('แต่ละ', 'DIBQ'), ('ตัว', 'CNIT')]), Tree('VP', [('อาจจะ', 'XVMM'), ('เกิด', 'VSTA'), ('ได้', 'XVAE'), ('ใน', 'RPRE'), ('หลาย', 'DIBQ'), ('<space>', 'PUNC'), ('VP', 'NCMN')])]),\n",
       " Tree('S', [Tree('NP', [('เมื่อ', 'RPRE'), ('อาหารสำเร็จรูป', 'NCMN')]), Tree('VP', [('ผ่าน', 'VSTA'), ('การ', 'FIXN'), ('บรรจุ', 'VACT'), ('ถุง', 'NCMN'), ('<space>', 'NCMN'), ('หรือ', 'JCRG'), ('กระสอบ', 'NCMN'), ('เรียบร้อยแล้ว', 'ADVN')])]),\n",
       " Tree('S', [Tree('NP', [('และ', 'NCMN')]), Tree('VP', [('จะ', 'XVBM'), ('นำ', 'VACT'), ('ค่า', 'NCMN'), ('สภาวะ', 'NCMN'), ('ของ', 'RPRE'), ('เอาท์พุท', 'NCMN'), ('<space>', 'PUNC'), ('ที่', 'JSBR'), ('เก็บ', 'VACT'), ('ไว้', 'XVAE'), ('ใน', 'RPRE'), ('หน่วยความจำข้อมูล', 'NCMN'), ('ใน', 'RPRE'), ('ส่วน', 'NCMN'), ('พื้นที่', 'NCMN'), ('ของ', 'RPRE'), ('เอาท์พุท', 'NCMN'), ('ออก', 'XVAE'), ('ไปยัง', 'RPRE'), ('อุปกรณ์', 'NCMN'), ('เอาท์พุท', 'NCMN')])]),\n",
       " Tree('S', [Tree('NP', [('ใน', 'RPRE'), ('ระยะ', 'NCMN'), ('ที่', 'DONM'), ('2', 'DONM')]), ('<space>', 'PUNC'), Tree('VP', [('เป็น', 'VSTA'), ('การ', 'FIXN'), ('พัฒนา', 'VACT'), ('ซอฟท์แวร์', 'NCMN'), ('ตาม', 'RPRE'), ('รูปแบบ', 'NCMN'), ('ที่', 'PREL'), ('ได้', 'XVAM'), ('วาง', 'VACT'), ('ไว้', 'XVAE'), ('ใน', 'RPRE'), ('ระยะ', 'NCMN'), ('แรก', 'DONM')])]),\n",
       " Tree('S', [Tree('NP', [('เรา', 'PPRS')]), Tree('VP', [('จึง', 'XVBM'), ('ได้', 'VSTA'), ('สมการ', 'NCMN'), ('ใหม่', 'VATT'), ('เป็น', 'VSTA')])]),\n",
       " Tree('S', [Tree('NP', [('ส่วน', 'NCMN'), ('พอร์ท', 'NCMN'), ('<space>', 'PUNC'), ('P2', 'NCMN'), ('<space>', 'PUNC'), ('และ', 'NCMN'), ('บางส่วน', 'NCMN'), ('ของ', 'RPRE'), ('พอร์ท', 'NCMN'), ('P1', 'NCMN')]), ('<space>', 'PUNC'), Tree('VP', [('ใช้', 'VACT'), ('ใน', 'RPRE'), ('การ', 'FIXN'), ('ควบคุม', 'VACT'), ('การ', 'FIXN'), ('ทำงาน', 'VACT'), ('ของ', 'RPRE'), ('วงจร', 'NCMN'), ('ต่างๆ', 'DIAC'), ('<space>', 'PUNC'), ('โดย', 'JSBR'), ('ตรง', 'VSTA')])]),\n",
       " Tree('S', [Tree('NP', [('อุปกรณ์', 'NCMN'), ('ที่', 'PREL'), ('ใช้', 'VACT'), ('ใน', 'RPRE'), ('การ', 'FIXN'), ('ควบคุม', 'VACT')]), Tree('VP', [('คือ', 'VSTA'), ('<space>', 'PUNC'), ('รีเลย์', 'NCMN'), ('แม่เหล็กไฟฟ้า', 'NCMN'), ('<space>', 'PUNC'), ('ตัวตั้งเวลา', 'NCMN'), ('<space>', 'PUNC'), ('ตัวนับ', 'NCMN'), ('และ', 'JCRG'), ('คอนเทคเตอร์', 'NCMN')])]),\n",
       " Tree('S', [('ถึงแม้ว่า', 'JSBR'), Tree('NP', [('วงจร', 'NCMN'), ('ด้าน', 'NCMN'), ('<space>', 'PUNC'), ('A', 'NCMN')]), ('<space>', 'PUNC'), Tree('VP', [('จะ', 'XVBM'), ('มี', 'VSTA'), ('ขนาด', 'NCMN'), ('ข้อมูล', 'NCMN'), ('เพียง', 'ADVN'), ('<space>', 'PUNC'), ('6', 'DCNM'), ('<space>', 'PUNC'), ('บิท', 'CMTR'), ('ก็ตาม', 'ADVN')])]),\n",
       " Tree('S', [Tree('NP', [('ชนิด', 'NCMN'), ('อื่นๆ', 'DIAC'), ('<space>', 'PUNC'), ('ใน', 'RPRE'), ('เครื่อง', 'NCMN')]), Tree('VP', [('ผสม', 'VACT'), ('อาหาร', 'NCMN')])]),\n",
       " Tree('S', [Tree('NP', [('วงจร', 'NCMN'), ('ภายใน', 'VATT')]), Tree('VP', [('ประกอบ', 'VSTA'), ('ด้วย', 'RPRE'), ('<space>', 'PUNC'), ('Multipilexer', 'NCMN'), ('<comma>', 'PUNC'), ('<space>', 'PUNC'), ('instrument', 'NCMN'), ('amplifiet', 'NCMN'), ('<comma>', 'PUNC'), ('<space>', 'PUNC'), ('Sample', 'NCMN'), ('<space>', 'PUNC'), ('และ', 'RPRE'), ('<space>', 'PUNC'), ('A', 'NCMN')])]),\n",
       " Tree('S', [Tree('NP', [('รูปร่าง', 'NCMN'), ('ตัวอักษร', 'NCMN'), ('ทั้ง', 'JCRG'), ('ภาษาไทย', 'NCMN'), ('และ', 'JCRG'), ('ภาษาอังกฤษ', 'NPRP'), ('<space>', 'PUNC'), ('ที่', 'JSBR'), ('ใช้', 'VACT'), ('ใน', 'RPRE'), ('การ', 'FIXN'), ('ทดลอง', 'VACT'), ('ตัวอย่าง', 'NCMN'), ('<space>', 'PUNC'), ('ดัง', 'RPRE'), ('ใน', 'RPRE'), ('ตาราง', 'NCMN'), ('ที่', 'DONM'), ('1', 'DONM'), ('<space>', 'PUNC'), ('ถูก', 'XVAM'), ('ป้อน', 'VACT'), ('ผ่าน', 'VSTA'), ('เครื่อง', 'NCMN'), ('<space>', 'PUNC'), ('Image', 'NCMN'), ('Scaner', 'NCMN')]), ('<space>', 'PUNC'), Tree('VP', [('ได้', 'VSTA'), ('ข้อมูล', 'NCMN'), ('ใน', 'RPRE'), ('ลักษณะ', 'NCMN'), ('ดิจิตอล', 'NCMN')])]),\n",
       " Tree('S', [Tree('NP', [('นั้น', 'DDAC')]), Tree('VP', [('ยัง', 'XVBM'), ('ไม่', 'NEG'), ('มี', 'VSTA'), ('เครื่อง', 'NCMN'), ('<space>', 'PUNC'), ('OCR', 'NCMN'), ('<space>', 'PUNC'), ('ภาษาไทย', 'NPRP')])]),\n",
       " Tree('S', [Tree('NP', [('1', 'NCMN'), ('<full_stop>', 'NCMN')]), ('<space>', 'PUNC'), Tree('VP', [('ตกลง', 'VACT'), ('กับ', 'RPRE'), ('โรงงาน', 'NCMN'), ('ให้', 'JSBR'), ('ยอมรับ', 'VACT'), ('รูปแบบ', 'NCMN'), ('ไฟล์วงจร', 'NCMN'), ('ของ', 'RPRE'), ('ซอฟท์แวร์', 'NCMN'), ('ที่', 'PREL'), ('ผลิต', 'VACT'), ('ขึ้น', 'ADVN')])]),\n",
       " Tree('S', [('หาก', 'JSBR'), Tree('NP', [('จะ', 'NCMN'), ('พัฒนา', 'VACT'), ('ระบบ', 'NCMN'), ('ต่อไป', 'DDAC'), ('เป็น', 'VSTA'), ('ระดับ', 'CNIT'), ('<space>', 'PUNC'), ('32', 'NCNM')]), ('<space>', 'PUNC'), Tree('VP', [('บิท', 'VATT'), ('อย่าง', 'FIXV'), ('เต็มรูปแบบ', 'VSTA')])]),\n",
       " Tree('S', [Tree('NP', [('เขา', 'PPRS')]), Tree('VP', [('ชอบ', 'VACT'), ('มะม่วง', 'NCMN'), ('มาก', 'ADVN')])]),\n",
       " Tree('S', [('เนื่องจาก', 'JSBR'), Tree('NP', [('<space>', 'NCMN'), ('hardware', 'NCMN'), ('<space>', 'PUNC'), ('ของ', 'RPRE'), ('ตัว', 'NCMN'), ('<space>', 'PUNC'), ('tester', 'NCMN')]), ('<space>', 'PUNC'), Tree('VP', [('เป็น', 'VSTA'), ('ตัว', 'NCMN'), ('จำกัด', 'VACT'), ('จำนวน', 'NCMN'), ('ของ', 'RPRE'), ('รูปแบบ', 'NCMN'), ('การ', 'FIXN'), ('ทดสอบ', 'VACT'), ('<space>', 'NCMN'), ('<left_parenthesis>', 'PUNC'), ('test', 'NCMN'), ('pattern', 'NCMN'), ('steps', 'NCMN'), ('<right_parenthesis>', 'PUNC'), ('<space>', 'NCMN'), ('ในกรณีที่', 'JSBR'), ('มี', 'VSTA'), ('การ', 'NCMN'), ('<space>', 'PUNC'), ('serially', 'NCMN'), ('<space>', 'PUNC'), ('cascaded', 'NCMN'), ('<space>', 'PUNC'), ('counters', 'NCMN')])]),\n",
       " Tree('S', [Tree('NP', [('ได้', 'VACT'), ('มี', 'VACT'), ('การ', 'FIXN'), ('กล่าว', 'VACT'), ('กัน', 'ADVN'), ('ว่า', 'RPRE'), ('<space>', 'PUNC'), ('งานวิจัย', 'NCMN'), ('ของ', 'RPRE'), ('เอ็มที', 'NPRP'), ('ใน', 'RPRE'), ('ปัจจุบัน', 'NCMN'), ('<space>', 'PUNC'), ('โดย', 'JSBR'), ('ส่วนใหญ่', 'VSTA'), ('แล้ว', 'JSBR'), ('ได้', 'XVAM'), ('มุ่ง', 'VACT'), ('ใช้', 'VACT'), ('การ', 'FIXN'), ('วิเคราะห์', 'VACT'), ('ทาง', 'RPRE'), ('ด้าน', 'NCMN'), ('นี้', 'DDAC')]), Tree('VP', [('เป็น', 'VSTA'), ('หลัก', 'NCMN'), ('ใน', 'RPRE'), ('การ', 'FIXN'), ('ให้', 'VACT'), ('ความ', 'FIXN'), ('รู้', 'VSTA'), ('กับ', 'RPRE'), ('ระบบ', 'NCMN'), ('เอ็มที', 'NPRP')])]),\n",
       " Tree('S', [Tree('PP', [('ดัง', 'RPRE'), ('รูป', 'CNIT'), ('ที่', 'DONM'), ('7', 'DONM'), ('<space>', 'NCMN'), ('แต่', 'JCRG'), ('สำหรับ', 'RPRE'), ('<space>', 'PUNC'), ('3', 'NCNM')]), Tree('S', [('<space>', 'NCMN'), ('<minus>', 'PUNC'), ('<space>', 'FIXN'), ('state', 'NCMN'), ('<space>', 'PUNC'), ('สามารถ', 'XVAM'), ('ต่อ', 'VACT'), ('เข้าด้วยกัน', 'ADVN')])]),\n",
       " Tree('S', [Tree('NP', [('โดย', 'RPRE'), ('จะ', 'NCMN')]), Tree('VP', [('เริ่ม', 'VSTA'), ('จาก', 'RPRE'), ('<space>', 'PUNC'), ('ประมาณ', 'DIBQ'), ('<space>', 'PUNC'), ('4', 'NCMN'), ('<minus>', 'PUNC'), ('5', 'NCNM'), ('<space>', 'PUNC'), ('มหาวิทยาลัย', 'NCMN'), ('<space>', 'PUNC'), ('<left_parenthesis>', 'PUNC'), ('KMITL', 'NCMN'), ('<comma>', 'PUNC'), ('<space>', 'PUNC'), ('KMITT', 'NCMN'), ('<comma>', 'PUNC'), ('<space>', 'PUNC'), ('CU', 'NCMN'), ('<comma>', 'PUNC'), ('<space>', 'PUNC'), ('KU', 'NCMN'), ('<comma>', 'PUNC'), ('<space>', 'PUNC'), ('AIT', 'NCMN'), ('<right_parenthesis>', 'PUNC'), ('<space>', 'PUNC'), ('และ', 'JCRG'), ('กระทรวงวิทยาศาสตร์ฯ', 'NPRP')])]),\n",
       " Tree('S', [Tree('NP', [('ระบบ', 'NCMN')]), Tree('VP', [('จำแนก', 'VACT'), ('แยกแยะ', 'VACT'), ('นี้', 'DDAC'), ('<space>', 'PUNC'), ('ก็', 'JSBR'), ('จำเป็น', 'VSTA'), ('จะต้อง', 'XVMM'), ('ได้ผล', 'VSTA'), ('การ', 'FIXN'), ('ศึกษา', 'VACT'), ('วิเคราะห์', 'VACT'), ('ลักษณะ', 'NCMN'), ('โดย', 'JSBR'), ('รวม', 'VACT'), ('ของ', 'RPRE'), ('ภาษาไทย', 'NPRP'), ('ใน', 'RPRE'), ('<space>', 'PUNC'), ('3.1.3', 'NCNM'), ('<space>', 'NCMN'), ('เสียก่อน', 'ADVN')])]),\n",
       " Tree('S', [Tree('NP', [('มี', 'NCMN'), ('กรอบ', 'NCMN'), ('ของ', 'RPRE'), ('ความหมาย', 'NCMN'), ('รูป', 'NCMN'), ('ลึก', 'VATT'), ('ของ', 'RPRE'), ('คำ', 'NCMN'), ('ซึ่ง', 'PREL'), ('ดึง', 'VACT'), ('ออกมา', 'XVAE'), ('เป็น', 'RPRE'), ('ภาษากลาง', 'NCMN'), ('<space>', 'PUNC'), ('<left_parenthesis>', 'PUNC'), ('Interlingua', 'NCMN'), ('<right_parenthesis>', 'PUNC'), ('<space>', 'PUNC'), ('ซึ่ง', 'JSBR'), ('อาจ', 'XVMM'), ('ใช้', 'VACT'), ('โค้ด', 'NCMN'), ('ใด', 'DIAC')]), Tree('VP', [('เป็น', 'VSTA'), ('ตัวแทน', 'NCMN'), ('ก็ได้', 'ADVN')])]),\n",
       " Tree('S', [('ทั้งนี้', 'JSBR'), Tree('NP', [('<space>', 'FIXN'), ('เนื่องจาก', 'JSBR'), ('เทอร์โบปาสคาล', 'NCMN'), ('ได้', 'XVAM'), ('ให้', 'VACT'), ('คำสั่ง', 'NCMN'), ('หลาย', 'DIBQ'), ('อย่าง', 'CNIT'), ('ที่', 'PREL'), ('อำนวยความสะดวก', 'VACT')]), ('<space>', 'PUNC'), Tree('VP', [('อีกทั้ง', 'JSBR'), ('การ', 'FIXN'), ('ทดสอบ', 'VACT'), ('โปรแกรม', 'NCMN'), ('รวดเร็ว', 'VATT'), ('กว่า', 'RPRE'), ('ภาษา', 'NCMN'), ('ซี', 'NCMN'), ('มาก', 'ADVN')])]),\n",
       " Tree('S', [Tree('PP', [('โดย', 'RPRE'), ('ตรวจ', 'VACT'), ('จาก', 'RPRE'), ('ข้อมูล', 'NCMN')]), Tree('S', [('ที่', 'NCMN'), ('พิมพ์', 'VACT'), ('อยู่', 'XVAE'), ('บน', 'RPRE'), ('แผ่นกระดาษ', 'NCMN')])]),\n",
       " Tree('S', [Tree('NP', [('และ', 'NCMN')]), ('ถ้า', 'JSBR'), Tree('S', [('หน่วยควบคุม', 'NCMN'), ('หลัก', 'VATT'), ('ต้องการ', 'XVMM'), ('ติดต่อ', 'VACT'), ('กับ', 'RPRE'), ('เครื่องเก็บข้อมูล', 'NCMN')])]),\n",
       " Tree('S', [Tree('NP', [('ดัง', 'RPRE'), ('แสดง', 'NCMN'), ('ใน', 'RPRE'), ('รูป', 'NCMN')]), Tree('VP', [('ที่', 'JSBR'), ('5', 'NCNM'), ('<space>', 'PUNC'), ('และ', 'RPRE'), ('<space>', 'PUNC'), ('6', 'NCNM')])]),\n",
       " Tree('S', [Tree('NP', [('บทความ', 'NCMN'), ('ชุด', 'NCMN'), ('นี้', 'DDAC')]), Tree('VP', [('เป็น', 'VSTA'), ('รายงาน', 'NCMN'), ('ความ', 'FIXN'), ('ก้าวหน้า', 'VACT'), ('ของ', 'RPRE'), ('การ', 'FIXN'), ('ทำวิจัย', 'VACT'), ('<space>', 'PUNC'), ('ออกแบบ', 'VACT'), ('เครื่องต้นแบบ', 'NCMN')])]),\n",
       " Tree('S', [Tree('NP', [('และ', 'NCMN')]), Tree('VP', [('ยัง', 'XVBM'), ('ใช้', 'VACT'), ('เพื่อ', 'JSBR'), ('กำหนด', 'VACT'), ('คำศัพท์', 'NCMN'), ('มาตรฐาน', 'NCMN'), ('ของ', 'RPRE'), ('สาขา', 'NCMN'), ('วิชา', 'NCMN'), ('นั้น', 'DDAC'), ('เหมือนกับ', 'VSTA'), ('พจนานุกรม', 'NCMN'), ('ศัพท์', 'NCMN'), ('เทคนิค', 'NCMN'), ('สำหรับ', 'RPRE'), ('มนุษย์', 'NCMN'), ('อีกด้วย', 'ADVN')])]),\n",
       " Tree('S', [Tree('PP', [('โดย', 'RPRE'), ('ไม่', 'NCMN'), ('ต้อง', 'XVMM'), ('เสียเวลา', 'VSTA'), ('ใน', 'RPRE'), ('การ', 'FIXN'), ('เปิด', 'VACT')]), Tree('S', [('ตาราง', 'NCMN'), ('เหมือน', 'VSTA'), ('วิธี', 'NCMN'), ('แรก', 'DONM')])]),\n",
       " Tree('S', [Tree('NP', [('ไวยากรณ์', 'NCMN'), ('แบบ', 'NCMN'), ('ที่', 'PREL'), ('เรียก', 'VSTA'), ('ว่า', 'JSBR'), ('<space>', 'PUNC'), ('Subject-of', 'NCMN'), ('<space>', 'PUNC'), ('นั้น', 'DDAC')]), Tree('VP', [('คือ', 'VSTA'), ('<space>', 'PUNC'), ('ความ', 'FIXN'), ('สัมพันธ์', 'VSTA'), ('ที่', 'PREL'), ('จะ', 'XVBM'), ('เกิดขึ้น', 'VSTA'), ('ได้', 'XVAE'), ('ระหว่าง', 'RPRE'), ('หน่วย', 'NCMN'), ('ที่', 'PREL'), ('มี', 'VSTA'), ('คุณสมบัติ', 'NCMN'), ('เป็น', 'VSTA'), ('นาม', 'NCMN')])]),\n",
       " Tree('S', [Tree('NP', [('การ', 'FIXN'), ('แสดงผล', 'VACT'), ('ของ', 'RPRE'), ('<space>', 'PUNC'), ('VGA', 'NCMN')]), ('<space>', 'PUNC'), Tree('VP', [('สามารถ', 'XVAM'), ('แสดง', 'VACT'), ('ได้', 'XVAE'), ('ทั้ง', 'NCMN'), ('<space>', 'PUNC'), ('Text', 'NCMN'), ('Mode', 'NCMN'), ('<space>', 'PUNC'), ('และ', 'NCMN'), ('<space>', 'PUNC'), ('Graphics', 'NCMN'), ('mode', 'NCMN')])]),\n",
       " Tree('S', [Tree('NP', [('4', 'NCNM')]), Tree('VP', [('<full_stop>', 'VACT'), ('<space>', 'NCMN'), ('รัฐมนตรีช่วยว่าการ', 'NCMN'), ('กระทรวงศึกษาธิการ', 'NPRP')])]),\n",
       " Tree('S', [('สำหรับ', 'JSBR'), Tree('NP', [('ใน', 'NCMN'), ('ประเทศญี่ปุ่น', 'NPRP'), ('การ', 'FIXN'), ('แปล', 'VACT'), ('จาก', 'RPRE'), ('ภาษาอังกฤษ', 'NPRP'), ('<minus>', 'PUNC'), ('ญี่ปุ่น', 'NPRP'), ('<space>', 'PUNC'), ('และ', 'RPRE'), ('ญี่ปุ่น', 'NPRP'), ('<minus>', 'PUNC'), ('อังกฤษ', 'NPRP')]), ('<space>', 'PUNC'), Tree('VP', [('ก็', 'JSBR'), ('ประสบ', 'VSTA'), ('ผลสำเร็จ', 'NCMN'), ('มาก', 'ADVN'), ('แล้ว', 'ADVN')])]),\n",
       " Tree('S', [Tree('PP', [('ใน', 'RPRE'), ('การ', 'FIXN'), ('สร้าง', 'VACT'), ('และ', 'JCRG'), ('จัดการ', 'VACT')]), Tree('S', [('แฟ้มข้อมูล', 'NCMN'), ('ได้', 'XVAM'), ('นำ', 'VACT'), ('<space>', 'FIXN'), ('Btrieve', 'NCMN'), ('<space>', 'PUNC'), ('ซึ่ง', 'JSBR'), ('เป็น', 'VSTA'), ('<space>', 'PUNC'), ('record', 'NCMN'), ('management', 'NCMN'), ('system', 'NCMN'), ('<space>', 'PUNC'), ('มา', 'XVAE'), ('ใช้', 'VACT'), ('ซึ่ง', 'JSBR'), ('ช่วย', 'VACT'), ('ให้', 'JSBR'), ('เขียน', 'VACT'), ('โปรแกรม', 'NCMN'), ('สะดวก', 'VATT'), ('รวดเร็ว', 'ADVN'), ('ขึ้น', 'XVAE')])]),\n",
       " Tree('S', [Tree('S', [('และ', 'NCMN'), ('เมื่อ', 'JSBR'), ('ผสม', 'VACT'), ('อาหาร', 'NCMN'), ('เรียบร้อยแล้ว', 'ADVN'), ('<space>', 'PUNC'), ('จะ', 'XVBM'), ('ทำ', 'VACT'), ('การ', 'FIXN'), ('รายงาน', 'VACT'), ('ผล', 'NCMN'), ('การ', 'FIXN'), ('ผสม', 'VACT'), ('อาหาร', 'NCMN'), ('ทาง', 'RPRE'), ('เครื่องพิมพ์', 'NCMN'), ('ขนาด', 'NCMN'), ('เล็ก', 'VATT'), ('<space>', 'NCMN')]), ('และ', 'JCRG'), Tree('S', [('จอภาพ', 'NCMN'), ('ของ', 'RPRE'), ('ระบบ', 'NCMN'), ('<space>', 'PUNC'), ('อีกทั้ง', 'JSBR'), ('การ', 'FIXN'), ('เก็บ', 'VACT'), ('ข้อมูล', 'NCMN'), ('ที่', 'PREL'), ('ได้', 'VSTA'), ('ลง', 'XVAE'), ('ใน', 'RPRE'), ('แผ่นข้อมูล', 'NCMN')])]),\n",
       " Tree('S', [Tree('NP', [('ความ', 'FIXN'), ('ก้าวหน้า', 'VSTA'), ('ของ', 'RPRE'), ('การ', 'FIXN'), ('สร้าง', 'VACT'), ('ฐานข้อมูล', 'NCMN'), ('ส่วนใหญ่', 'ADVN')]), Tree('VP', [('เป็น', 'VSTA'), ('การ', 'FIXN'), ('รวบรวม', 'VACT'), ('<space>', 'NCMN'), ('และ', 'JCRG'), ('บันทึก', 'VACT'), ('ข้อมูล', 'NCMN')])]),\n",
       " Tree('S', [Tree('NP', [('ชื่อ', 'NCMN'), ('ของ', 'RPRE'), ('แต่ละ', 'DIBQ'), ('<space>', 'PUNC'), ('Layer', 'NCMN')]), ('<space>', 'PUNC'), Tree('VP', [('ได้', 'VSTA')])]),\n",
       " Tree('S', [Tree('PP', [('โดย', 'RPRE'), ('ดัดแปลง', 'VACT'), ('จอ', 'NCMN')]), Tree('S', [('มอนิเตอร์', 'NCMN'), ('ให้', 'JSBR'), ('ทำงาน', 'VACT'), ('แบบ', 'NCMN'), ('ออสซิลโลสโคป', 'NCMN')])]),\n",
       " Tree('S', [Tree('PP', [('ใน', 'RPRE'), ('การ', 'FIXN'), ('เลือก', 'VACT'), ('อัตรา', 'NCMN'), ('การ', 'FIXN'), ('ขยาย', 'VACT'), ('และ', 'JCRG'), ('ขนาด', 'NCMN'), ('ของ', 'RPRE'), ('แรงดัน', 'NCMN')]), Tree('S', [('อินพุท', 'NCMN'), ('นั้น', 'DDAC'), ('<space>', 'PUNC'), ('สามารถ', 'XVAM'), ('ทำ', 'VACT'), ('ได้', 'XVAE'), ('โดย', 'JSBR'), ('การ', 'FIXN'), ('ต่อ', 'VACT'), ('ขา', 'NCMN'), ('ไอซี', 'NCMN'), ('เข้าด้วยกัน', 'ADVN')])]),\n",
       " Tree('S', [('โดย', 'JSBR'), Tree('NP', [('ให้', 'RPRE'), ('การ', 'FIXN'), ('แปล', 'VACT'), ('ขึ้นอยู่', 'VSTA'), ('กับ', 'RPRE'), ('พจนานุกรมสองภาษา', 'NCMN')]), ('<space>', 'PUNC'), Tree('VP', [('คือ', 'VSTA'), ('<space>', 'PUNC'), ('ภาษาต้นฉบับ', 'NCMN'), ('และ', 'JCRG'), ('ภาษาเป้าหมาย', 'NCMN')])]),\n",
       " Tree('S', [Tree('NP', [('VP', 'NCMN'), ('<space>', 'PUNC'), ('และ', 'RPRE'), ('<space>', 'PUNC'), ('MAPS', 'NCMN'), ('<space>', 'PUNC'), ('ของ', 'RPRE'), ('คำ', 'NCMN'), ('กริยา', 'NCMN'), ('แต่ละ', 'DIBQ'), ('ตัว', 'CNIT')]), Tree('VP', [('เป็น', 'VSTA'), ('สิ่ง', 'NCMN'), ('ที่', 'PREL'), ('คู่', 'VATT'), ('กัน', 'ADVN'), ('เสมอ', 'ADVN')])]),\n",
       " Tree('S', [Tree('NP', [('ซึ่ง', 'NCMN')]), Tree('VP', [('จะ', 'XVBM'), ('ต้อง', 'XVMM'), ('มี', 'VSTA'), ('ต้นแบบ', 'NCMN'), ('ลวดลาย', 'NCMN'), ('ของ', 'RPRE'), ('ช่อง', 'NCMN'), ('ต่างๆ', 'DIAC'), ('<space>', 'PUNC'), ('ที่', 'JSBR'), ('ใช้', 'VACT'), ('แพร่', 'VACT'), ('สารเจือ', 'NCMN'), ('ที่', 'PREL'), ('ได้', 'XVAM'), ('ออกแบบ', 'VACT'), ('เอาไว้', 'XVAE')])]),\n",
       " Tree('S', [Tree('NP', [('8', 'NCMN'), ('<full_stop>', 'NCMN'), ('<space>', 'PUNC'), ('วงจรอินพุท', 'NCMN'), ('<space>', 'PUNC'), ('<left_parenthesis>', 'PUNC'), ('Input', 'NCMN'), ('Circuit', 'NCMN'), ('<right_parenthesis>', 'PUNC'), ('<space>', 'PUNC')]), Tree('VP', [('เป็น', 'VSTA'), ('ส่วน', 'NCMN'), ('รับ', 'VACT'), ('สัญญาณ', 'NCMN'), ('จาก', 'RPRE'), ('สวิทช์', 'NCMN'), ('และ', 'JCRG'), ('ตัวเซนเซอร์', 'NCMN'), ('<space>', 'PUNC'), ('<left_parenthesis>', 'PUNC'), ('Sensor', 'NCMN'), ('<right_parenthesis>', 'PUNC'), ('<space>', 'PUNC'), ('ชนิด', 'NCMN'), ('ต่างๆ', 'DIAC')])]),\n",
       " Tree('S', [Tree('NP', [('โครงสร้าง', 'NCMN')]), Tree('VP', [('ที่', 'JSBR'), ('1', 'NCNM')])]),\n",
       " Tree('S', [Tree('NP', [('ซึ่ง', 'NCMN'), ('แน่นอน', 'VATT')]), ('ว่า', 'JSBR'), Tree('S', [('ใน', 'RPRE'), ('กรณี', 'NCMN'), ('หลัง', 'NCMN'), ('นี้', 'DDAC'), ('<space>', 'PUNC'), ('จะ', 'XVBM'), ('สิ้น', 'VSTA'), ('เสีย', 'VSTA'), ('ค่าใช้จ่าย', 'NCMN'), ('ให้กับ', 'RPRE'), ('ผู้ประกอบการเจือสาร', 'NCMN'), ('น้อย', 'VATT'), ('กว่า', 'JCMP'), ('กรณี', 'CNIT'), ('แรก', 'DONM'), ('มาก', 'ADVN')])]),\n",
       " Tree('S', [('ดังนั้น', 'JSBR'), Tree('NP', [('<space>', 'NCMN'), ('ผลงาน', 'NCMN'), ('ของ', 'RPRE'), ('ศูนย์เทคโนโลยีอิเล็กทรอนิกส์', 'NPRP'), ('และคอมพิวเตอร์แห่งชาติ', 'NPRP'), ('ที่', 'PREL'), ('ปรากฏ', 'VSTA'), ('ใน', 'RPRE'), ('การ', 'FIXN'), ('ประชุม', 'VACT'), ('ทาง', 'RPRE'), ('วิชาการ', 'NCMN'), ('ใน', 'RPRE'), ('ครั้ง', 'CFQC'), ('นี้', 'DDAC')]), ('<space>', 'PUNC'), Tree('VP', [('แสดงให้เห็น', 'VSTA'), ('ถึง', 'RPRE'), ('การ', 'FIXN'), ('ขยาย', 'VACT'), ('ความ', 'FIXN'), ('สามารถ', 'XVAM'), ('ด้าน', 'RPRE'), ('งานวิจัยและพัฒนา', 'NCMN')])]),\n",
       " Tree('S', [Tree('NP', [('กด', 'VACT'), ('ไว้', 'VACT')]), Tree('VP', [('สักครู่', 'ADVN'), ('แล้ว', 'ADVN'), ('ปล่อย', 'VACT'), ('มือ', 'NCMN'), ('ออก', 'XVAE')])]),\n",
       " Tree('S', [Tree('NP', [('จำนวน', 'NCMN'), ('มาก', 'VATT'), ('ที่สุด', 'ADVN')]), Tree('VP', [('เท่ากับ', 'VSTA'), ('<space>', 'PUNC'), ('30,192', 'DCNM'), ('<space>', 'PUNC'), ('ระเบียน', 'CNIT')])]),\n",
       " Tree('S', [Tree('NP', [('และ', 'NCMN')]), Tree('VP', [('ใช้เวลา', 'VSTA'), ('ใน', 'NCMN'), ('การ', 'FIXN'), ('สร้าง', 'VACT'), ('ภาพ', 'NCMN'), ('<space>', 'PUNC'), ('20', 'DCNM'), ('<space>', 'PUNC'), ('นาที', 'CMTR'), ('<slash>', 'PUNC'), ('ภาพ', 'NCMN')])]),\n",
       " Tree('S', [Tree('NP', [('แดง', 'NPRP'), ('และ', 'JCRG'), ('น้อย', 'NPRP')]), Tree('VP', [('ชอบ', 'VACT'), ('องุ่น', 'NCMN')])]),\n",
       " Tree('S', [Tree('NP', [('สภาพ', 'NCMN'), ('ของ', 'RPRE'), ('ภาษาไทย', 'NCMN'), ('ที่', 'PREL'), ('สรุป', 'VACT'), ('ได้', 'XVAE'), ('จาก', 'RPRE'), ('งานวิจัย', 'NCMN')]), Tree('VP', [('เรื่อง', 'VSTA'), ('การก', 'NCMN'), ('ใน', 'RPRE'), ('ภาษาไทย', 'NPRP')])]),\n",
       " Tree('S', [Tree('NP', [('ทฤษฎี', 'NCMN'), ('ที่', 'PREL'), ('ใช้', 'VACT'), ('ใน', 'RPRE'), ('การ', 'FIXN'), ('วิเคราะห์', 'VACT'), ('โครงสร้างประโยค', 'NCMN'), ('ภาษาต้นแบบ', 'NCMN')]), Tree('VP', [('คือ', 'VSTA'), ('<space>', 'PUNC'), ('Dependency', 'NCMN'), ('Grammar', 'NCMN'), ('<space>', 'PUNC'), ('และ', 'RPRE'), ('<space>', 'PUNC'), ('Case', 'NCMN'), ('Theory', 'NCMN')])]),\n",
       " Tree('S', [Tree('NP', [('1', 'NCMN'), ('<full_stop>', 'NCMN')]), ('<space>', 'PUNC'), Tree('VP', [('กำหนด', 'VACT'), ('มาตรฐาน', 'NCMN'), ('โครงการสร้างระเบียนข้อมูล', 'NCMN'), ('<space>', 'PUNC'), ('และ', 'RPRE'), ('โปรแกรม', 'NCMN'), ('ที่', 'PREL'), ('ใช้', 'VACT'), ('บันทึก', 'VACT'), ('ข้อมูล', 'NCMN')])]),\n",
       " Tree('S', [Tree('NP', [('6', 'NCNM')]), Tree('VP', [('<full_stop>', 'VACT'), ('<space>', 'FIXN'), ('บทสรุป', 'NCMN')])]),\n",
       " Tree('S', [Tree('PP', [('เพื่อ', 'RPRE'), ('ใช้', 'VACT'), ('สำหรับ', 'RPRE'), ('การ', 'FIXN'), ('พัฒนา', 'VACT')]), Tree('S', [('ระบบ', 'NCMN'), ('ติดต่อ', 'VACT'), ('ระหว่าง', 'RPRE'), ('หน่วยสร้างภาษา', 'NCMN'), ('และ', 'JCRG'), ('พจนานุกรม', 'NCMN')])]),\n",
       " Tree('S', [Tree('NP', [('และ', 'NCMN')]), Tree('VP', [('เป็น', 'VSTA'), ('ระดับ', 'NCMN'), ('ต่ำสุด', 'VATT'), ('ที่', 'PREL'), ('เกี่ยวข้อง', 'VSTA'), ('กับ', 'RPRE'), ('การ', 'FIXN'), ('จัดการ', 'VACT'), ('ภาษาไทย', 'NPRP')])]),\n",
       " Tree('S', [Tree('NP', [('หน้าที่', 'NCMN'), ('ของ', 'NCMN'), ('<space>', 'PUNC'), ('GFUNC', 'NCMN'), ('<space>', 'PUNC'), ('ของ', 'NCMN'), ('<space>', 'PUNC'), ('CP', 'NCMN'), ('<space>', 'PUNC'), ('แต่ละ', 'DIBQ'), ('ตัว', 'CNIT'), ('ที่', 'PREL'), ('เชื่อมต่อ', 'VACT'), ('จาก', 'RPRE'), ('กริยา', 'NCMN')]), Tree('VP', [('หลัก', 'VSTA'), ('ตาม', 'RPRE'), ('หลัก', 'NCMN'), ('ไวยากรณ์', 'NCMN'), ('ไทย', 'NPRP')])]),\n",
       " Tree('S', [('สำหรับ', 'JSBR'), Tree('NP', [('โปรแกรมควบคุม', 'NCMN'), ('การ', 'FIXN'), ('ทำงาน', 'VACT'), ('ของ', 'RPRE'), ('ระบบ', 'NCMN')]), ('<space>', 'PUNC'), Tree('VP', [('ยัง', 'XVBM'), ('อยู่', 'VSTA'), ('ใน', 'RPRE'), ('ระหว่าง', 'RPRE'), ('การ', 'FIXN'), ('พัฒนา', 'VACT')])]),\n",
       " Tree('S', [Tree('PP', [('เพื่อ', 'RPRE'), ('เอาชนะ', 'VACT'), ('ความ', 'FIXN'), ('หลากหลาย', 'VSTA'), ('ของ', 'RPRE'), ('ภาษา', 'NCMN'), ('ต่างๆ', 'DIAC'), ('<space>', 'PUNC'), ('ซึ่ง', 'JSBR'), ('เป็น', 'VSTA')]), Tree('S', [('อุปสรรค', 'NCMN'), ('สำคัญ', 'VSTA'), ('ใน', 'RPRE'), ('การ', 'FIXN'), ('สื่อสาร', 'VACT'), ('ของ', 'RPRE'), ('มนุษย์', 'NCMN')])]),\n",
       " Tree('S', [Tree('NP', [('รูปแบบ', 'NCMN'), ('ต่างๆ', 'DIAC'), ('<space>', 'PUNC'), ('ข้อมูล', 'NCMN'), ('แต่ละ', 'DIBQ'), ('รูปแบบ', 'CNIT')]), ('ก็', 'JSBR'), Tree('VP', [('จะ', 'XVBM'), ('เหมาะสม', 'VSTA'), ('กับ', 'RPRE'), ('การ', 'FIXN'), ('พัฒนา', 'VACT'), ('ระบบ', 'NCMN'), ('ใน', 'RPRE'), ('แต่ละ', 'DIBQ'), ('ส่วน', 'CNIT')])]),\n",
       " Tree('S', [Tree('NP', [('Field', 'NCMN'), ('<space>', 'NCMN'), ('ที่', 'DONM'), ('2', 'DONM'), ('<space>', 'PUNC'), ('สำหรับ', 'JSBR'), ('เก็บ', 'VACT'), ('ชื่อ', 'NCMN'), ('สินค้า', 'NCMN'), ('ที่', 'PREL'), ('มี', 'VSTA'), ('ใน', 'RPRE'), ('คงคลัง', 'NCMN')]), ('<space>', 'PUNC'), Tree('VP', [('เป็น', 'VSTA'), ('ตัวแปร', 'NCMN'), ('ชนิด', 'NCMN'), ('<space>', 'PUNC'), ('string', 'NCMN'), ('<space>', 'PUNC'), ('ขนาด', 'NCMN'), ('<space>', 'PUNC'), ('30', 'DCNM'), ('<space>', 'PUNC'), ('ตัวอักษร', 'CNIT')])]),\n",
       " Tree('S', [Tree('NP', [('ส่วน', 'NCMN'), ('สำคัญ', 'VATT'), ('ของ', 'RPRE'), ('โปรแกรม', 'NCMN')]), Tree('VP', [('อยู่', 'VSTA'), ('ที่', 'RPRE'), ('วิธีการ', 'NCMN'), ('<space>', 'PUNC'), ('และ', 'RPRE'), ('รูปแบบ', 'NCMN'), ('ของ', 'RPRE'), ('การ', 'FIXN'), ('เก็บ', 'VACT'), ('โปรแกรม', 'NCMN'), ('นีมอนิค', 'NCMN'), ('ของ', 'RPRE'), ('วงจร', 'NCMN'), ('ขั้นบันได', 'NCMN'), ('<space>', 'PUNC'), ('<left_parenthesis>', 'PUNC'), ('Ledder', 'NCMN'), ('Diagram', 'NCMN'), ('<right_parenthesis>', 'PUNC'), ('<space>', 'PUNC'), ('ที่', 'PREL'), ('แปลง', 'VACT'), ('แล้ว', 'XVAE'), ('ใน', 'RPRE'), ('หน่วยความจำ', 'NCMN'), ('เพื่อ', 'RPRE'), ('การ', 'FIXN'), ('ประมวลผล', 'VACT')])]),\n",
       " Tree('S', [Tree('PP', [('โดย', 'RPRE'), ('ใช้', 'VACT'), ('วิธี', 'NCMN'), ('การ', 'FIXN'), ('เทียบ', 'VACT'), ('<space>', 'NCMN'), ('<left_parenthesis>', 'PUNC'), ('mapping', 'NCMN'), ('<right_parenthesis>', 'PUNC'), ('<space>', 'NCMN')]), Tree('S', [('Conceptual', 'NCMN'), ('CP', 'NCMN'), ('<space>', 'PUNC'), ('เข้าไป', 'VACT'), ('<space>', 'FIXN'), ('Grammatical', 'NCMN'), ('Node', 'NCMN')])]),\n",
       " Tree('S', [('แต่ถ้าหาก', 'JSBR'), Tree('NP', [('เป็น', 'FIXN'), ('เครื่อง', 'NCMN'), ('ที่', 'PREL'), ('ใช้', 'VACT'), ('ใน', 'RPRE'), ('งาน', 'NCMN'), ('ทาง', 'RPRE'), ('ด้าน', 'NCMN'), ('ธุรกิจ', 'NCMN')]), ('<space>', 'PUNC'), Tree('VP', [('ก็', 'JSBR'), ('อาจจะ', 'XVMM'), ('เป็น', 'VSTA'), ('เครื่อง', 'NCMN'), ('ที่', 'PREL'), ('ทำงาน', 'VACT'), ('ทาง', 'RPRE'), ('ด้าน', 'NCMN'), ('ฐานข้อมูล', 'NCMN'), ('ได้', 'XVAE'), ('เร็ว', 'ADVN')])]),\n",
       " Tree('S', [Tree('NP', [('หน้าที่', 'NCMN'), ('หลัก', 'VATT')]), Tree('VP', [('จะ', 'XVBM'), ('ทำ', 'VACT'), ('การ', 'FIXN'), ('ตรวจ', 'VACT'), ('อุปกรณ์', 'NCMN'), ('<space>', 'PUNC'), ('PERIPHERAL', 'NCMN'), ('<space>', 'PUNC'), ('ที่จะ', 'JSBR'), ('นำมาใช้', 'VACT'), ('กับ', 'RPRE'), ('<space>', 'PUNC'), ('PC', 'NCMN'), ('<space>', 'PUNC'), ('เช่น', 'JSBR'), ('<space>', 'PUNC'), ('ตัวป้อนโปรแกรม', 'NCMN'), ('และ', 'JCRG'), ('ตัวอัดโปรแกรม', 'NCMN'), ('<space>', 'PUNC'), ('เป็นต้น', 'PDMN')])]),\n",
       " Tree('S', [Tree('NP', [('มี', 'NCMN'), ('<space>', 'PUNC'), ('นาย', 'NCMN'), ('ไพรัช', 'NPRP'), ('<space>', 'PUNC'), ('ธัชยพงษ์', 'NPRP'), ('<space>', 'PUNC'), ('ผู้อำนวยการ', 'NCMN'), ('ศูนย์เทคโนโลยีอิเล็กทรอนิกส์และคอมพิวเตอร์แห่งชาติ', 'NPRP')]), Tree('VP', [('เป็น', 'VSTA'), ('ประธาน', 'NCMN'), ('อนุกรรมการ', 'NCMN')])]),\n",
       " Tree('S', [Tree('NP', [('ประเทศที่พัฒนาแล้ว', 'NCMN'), ('<space>', 'PUNC'), ('เช่น', 'RPRE'), ('<space>', 'NCMN'), ('สหรัฐอเมริกา', 'NPRP'), ('<space>', 'PUNC'), ('ญี่ปุ่น', 'NPRP'), ('<space>', 'PUNC'), ('คานาดา', 'NPRP'), ('<space>', 'PUNC'), ('ออสเตรเลีย', 'NPRP'), ('<space>', 'PUNC'), ('และ', 'RPRE'), ('ประเทศในกลุ่มตลาดร่วมยุโรป', 'NCMN')]), ('<space>', 'PUNC'), Tree('VP', [('ได้', 'XVAM'), ('เล็งเห็น', 'VACT'), ('ถึง', 'RPRE'), ('ความ', 'FIXN'), ('สำคัญ', 'VSTA'), ('ยิ่งยวด', 'VATT'), ('ของ', 'RPRE'), ('การ', 'FIXN'), ('พัฒนา', 'VACT'), ('ระบบ', 'NCMN'), ('สารสนเทศ', 'NCMN'), ('ที่', 'PREL'), ('มี', 'VSTA'), ('อยู่', 'XVAE'), ('เดิม', 'ADVN'), ('<space>', 'PUNC'), ('และ', 'NCMN'), ('ที่', 'PREL'), ('กำลังจะ', 'XVBM'), ('จัดทำ', 'VACT'), ('ขึ้น', 'XVAE'), ('ให้', 'XVAM'), ('เป็น', 'VSTA'), ('ระบบเครือข่าย', 'NCMN'), ('ที่', 'PREL'), ('เชื่อมโยง', 'VACT'), ('ฐานข้อมูล', 'NCMN'), ('<space>', 'PUNC'), ('ข้อสนเทศ', 'NCMN'), ('ต่างๆ', 'DIAC'), ('<space>', 'PUNC'), ('ที่', 'JSBR'), ('มี', 'VSTA'), ('อยู่', 'XVAE'), ('บน', 'RPRE'), ('เครื่องคอมพิวเตอร์', 'NCMN'), ('เข้าด้วยกัน', 'ADVN')])]),\n",
       " Tree('S', [Tree('NP', [('รูป', 'NCMN'), ('ที่', 'DONM'), ('12', 'DONM')]), ('<space>', 'PUNC'), Tree('VP', [('แสดง', 'VACT'), ('คุณสมบัติ', 'NCMN'), ('ของ', 'RPRE'), ('ทรานซิสเตอร์', 'NCMN'), ('แบบ', 'NCMN'), ('<space>', 'PUNC'), ('pMOS', 'NCMN')])]),\n",
       " Tree('S', [Tree('PP', [('โดย', 'RPRE'), ('เฉพาะ', 'VATT')]), Tree('S', [('อย่าง', 'NCMN'), ('ยิ่ง', 'VATT'), ('<space>', 'PUNC'), ('อุตสาหกรรม', 'NCMN'), ('ผลิต', 'VACT'), ('มอเตอร์', 'NCMN'), ('ไฟฟ้า', 'NCMN'), ('เป็น', 'VSTA'), ('อุตสาหกรรม', 'NCMN'), ('ที่', 'PREL'), ('ใช้', 'VACT'), ('แรงงาน', 'NCMN'), ('มาก', 'ADVN'), ('<space>', 'PUNC'), ('ซึ่ง', 'JSBR'), ('เหมาะสม', 'VSTA'), ('กับ', 'RPRE'), ('ประเทศไทย', 'NPRP'), ('เป็น', 'VSTA'), ('อย่าง', 'FIXV'), ('ยิ่ง', 'ADVN')])]),\n",
       " Tree('S', [Tree('NP', [('การ', 'NCMN'), ('ที่', 'PREL'), ('ไม่', 'NEG'), ('สามารถ', 'VSTA')]), Tree('VP', [('กำหนด', 'VACT'), ('ให้', 'RPRE'), ('ฐานข้อมูล', 'NCMN'), ('ทั้งหมด', 'FIXN'), ('ใช้', 'VACT'), ('มาตรฐานโครงสร้างระเบียน', 'NCMN'), ('เดียวกัน', 'DDAC'), ('<space>', 'PUNC'), ('มี', 'VSTA'), ('เหตุผล', 'NCMN'), ('สำคัญ', 'VSTA'), ('<space>', 'PUNC'), ('2', 'DCNM'), ('<space>', 'PUNC'), ('ประการ', 'CNIT')])]),\n",
       " Tree('S', [Tree('NP', [('<space>', 'NCMN'), ('ต่างๆ', 'DIAC')]), ('<space>', 'PUNC'), Tree('VP', [('ซึ่ง', 'JSBR'), ('ไม่ได้', 'NEG'), ('ขึ้นกับ', 'VSTA'), ('ภาษา', 'NCMN'), ('ใด', 'DIAC'), ('ทั้งสิ้น', 'ADVN')])]),\n",
       " Tree('S', [Tree('NP', [('เม็ดสาร', 'NCMN')]), Tree('VP', [('ลง', 'VACT'), ('บน', 'RPRE'), ('แผ่น', 'NCMN'), ('ทองแดง', 'NCMN'), ('ที่', 'PREL'), ('แช่', 'VACT'), ('อยู่', 'XVAE'), ('ใน', 'RPRE'), ('ไนโตรเจนเหลว', 'NCMN')])]),\n",
       " Tree('S', [Tree('NP', [('ตาราง', 'NCMN')]), Tree('VP', [('ที่', 'JSBR'), ('4', 'NCNM'), ('<space>', 'PUNC'), ('จำนวน', 'NCMN'), ('นักวิจัย', 'NCMN')])]),\n",
       " Tree('S', [Tree('NP', [('รูป', 'NCMN')]), Tree('VP', [('ที่', 'JSBR'), ('4', 'NCNM')])]),\n",
       " Tree('S', [Tree('PP', [('ใน', 'RPRE'), ('การ', 'FIXN'), ('ควบคุม', 'VACT')]), Tree('S', [('นี้', 'DDAC'), ('ได้', 'XVAM'), ('ใช้', 'VACT'), ('ฮาร์ดแวร์', 'NCMN'), ('ช่วย', 'VACT'), ('ใน', 'RPRE'), ('การ', 'FIXN'), ('สแกน', 'VACT'), ('คีย์บอร์ด', 'NCMN'), ('<space>', 'PUNC'), ('และ', 'RPRE'), ('หน่วยแสดงผล', 'NCMN'), ('แทน', 'VSTA'), ('การ', 'FIXN'), ('สแกน', 'VACT'), ('ด้วย', 'RPRE'), ('ซอฟท์แวร์', 'NCMN')])]),\n",
       " Tree('S', [Tree('NP', [('โดย', 'RPRE'), ('มุ่ง', 'VACT'), ('ไป', 'VACT')]), Tree('VP', [('ที่', 'JSBR'), ('ไดโอดเปล่งแสง', 'NCMN'), ('คุณภาพสูง', 'VATT'), ('<space>', 'PUNC'), ('โครงสร้าง', 'NCMN'), ('ที่', 'DONM'), ('3', 'DONM'), ('<space>', 'PUNC'), ('ของ', 'RPRE'), ('ไดโอดเปล่งแสงด้านข้าง', 'NCMN')])]),\n",
       " Tree('S', [Tree('NP', [('ลด', 'NCMN'), ('ขนาด', 'NCMN'), ('ขั้วโลหะ', 'NCMN'), ('ลง', 'XVAE'), ('น้อย', 'ADVN')]), Tree('VP', [('กว่า', 'VSTA'), ('<space>', 'PUNC'), ('50', 'DCNM'), ('<space>', 'PUNC'), ('ไมครอน', 'CMTR')])]),\n",
       " Tree('S', [Tree('NP', [('1', 'NCMN'), ('<full_stop>', 'NCMN'), ('<space>', 'PUNC'), ('เขา', 'PPRS'), ('เป็น', 'VSTA'), ('<space>', 'PUNC'), ('แบบ', 'NCMN')]), ('<space>', 'PUNC'), Tree('VP', [('ให้', 'VACT'), ('ช่างปั้น', 'NCMN'), ('ปั้น', 'VACT'), ('รูป', 'NCMN'), ('เขา', 'PPRS')])]),\n",
       " Tree('S', [Tree('S', [('ALE', 'NCMN'), ('<space>', 'PUNC'), ('จะ', 'XVBM'), ('ถูก', 'XVAM'), ('ส่งออก', 'VACT'), ('มา', 'XVAE'), ('จาก', 'RPRE'), ('ระบบ', 'NCMN')]), ('ในขณะที่', 'JSBR'), Tree('S', [('<space>', 'FIXN'), ('address', 'NCMN'), ('<space>', 'PUNC'), ('มี', 'VSTA'), ('ค่า', 'NCMN'), ('คงที่', 'VATT'), ('แล้ว', 'ADVN')])]),\n",
       " Tree('S', [Tree('NP', [('แต่ละ', 'DIBQ'), ('ชุด', 'NCMN')]), Tree('VP', [('จะ', 'XVBM'), ('ทำหน้าที่', 'VACT'), ('ต่างกัน', 'ADVN')])]),\n",
       " Tree('S', [('ทำให้', 'JSBR'), Tree('NP', [('ราคา', 'NCMN'), ('ของ', 'RPRE'), ('ไมโครคอมพิวเตอร์', 'NCMN'), ('มี', 'VSTA'), ('ราคา', 'NCMN'), ('ถูก', 'ADVN'), ('ลง', 'XVAE')]), ('<space>', 'PUNC'), Tree('VP', [('มี', 'VSTA'), ('ขนาด', 'NCMN'), ('เล็ก', 'VATT'), ('ลง', 'ADVN')])]),\n",
       " Tree('S', [Tree('PP', [('เพื่อ', 'RPRE'), ('แสดงให้เห็น', 'VSTA'), ('ว่า', 'JSBR')]), Tree('S', [('รอยต่อ', 'NCMN'), ('<space>', 'PUNC'), ('พี', 'NCMN'), ('<minus>', 'PUNC'), ('เอ็น', 'NCMN'), ('<space>', 'PUNC'), ('ทุก', 'DIBQ'), ('รอยต่อ', 'NCMN'), ('ใน', 'RPRE'), ('ชิพ', 'NCMN'), ('ของ', 'RPRE'), ('วงจรรวม', 'NCMN'), ('ที่', 'PREL'), ('สร้าง', 'VACT'), ('ขึ้น', 'ADVN'), ('เป็น', 'VSTA'), ('รอยต่อ', 'NCMN'), ('ที่', 'PREL'), ('สมบูรณ์', 'VATT')])]),\n",
       " Tree('S', [Tree('NP', [('รูป', 'NCMN'), ('ที่', 'DONM'), ('3', 'DONM'), ('<space>', 'PUNC'), ('การ', 'FIXN'), ('ออกแบบ', 'VACT'), ('วงจรรวม', 'NCMN'), ('ก่อน', 'ADVN')]), Tree('VP', [('ส่งไป', 'VACT'), ('เจือสาร', 'NCMN')])]),\n",
       " Tree('S', [Tree('NP', [('และ', 'NCMN'), ('ใน', 'RPRE'), ('ทศวรรษ', 'NCMN'), ('นี้', 'DDAC'), ('<space>', 'NCMN'), ('<left_parenthesis>', 'PUNC'), ('1940', 'NCNM'), ('<right_parenthesis>', 'PUNC'), ('<space>', 'FIXN'), ('ได้', 'XVAM'), ('มี', 'VSTA'), ('บุคคล', 'NCMN'), ('กลุ่ม', 'NCMN'), ('ต่างๆ', 'DIAC')]), ('<space>', 'PUNC'), Tree('VP', [('พยายาม', 'VACT'), ('ทำ', 'VACT'), ('วิจัย', 'NCMN'), ('ด้าน', 'NCMN'), ('<space>', 'PUNC'), ('MT', 'NCMN'), ('<space>', 'PUNC'), ('ขึ้น', 'NCMN')])]),\n",
       " Tree('S', [Tree('NP', [('ข้อมูล', 'NCMN'), ('ที่', 'PREL'), ('ได้', 'XVAM'), ('เป็น', 'VSTA'), ('ข้อความ', 'NCMN'), ('ที่', 'PREL'), ('เลือก', 'VACT')]), Tree('VP', [('เก็บ', 'VACT'), ('จาก', 'RPRE'), ('หนังสือพิมพ์', 'NCMN'), ('และ', 'JCRG'), ('วารสาร', 'NCMN'), ('ต่างๆ', 'DIAC'), ('<space>', 'PUNC'), ('จำนวน', 'NCMN'), ('ทั้งสิ้น', 'DDAN'), ('<space>', 'NCMN'), ('95', 'DCNM'), ('<space>', 'PUNC'), ('รายการ', 'CNIT')])]),\n",
       " Tree('S', [Tree('NP', [('ส่วน', 'NCMN'), ('ใน', 'RPRE'), ('<space>', 'PUNC'), ('mode', 'NCMN'), ('graphic', 'NCMN')]), ('<space>', 'PUNC'), Tree('VP', [('สามารถ', 'XVAM'), ('แสดง', 'VACT'), ('รายละเอียด', 'NCMN'), ('ได้', 'XVAE'), ('สูงสุด', 'ADVN'), ('คือ', 'VSTA'), ('<space>', 'PUNC'), ('640x480', 'DCNM'), ('<space>', 'PUNC'), ('จุด', 'CNIT')])]),\n",
       " Tree('S', [Tree('NP', [('ภาพกราฟิก', 'NCMN')]), Tree('VP', [('ซ้อน', 'VSTA'), ('ลง', 'XVAE'), ('บน', 'RPRE'), ('ภาพ', 'NCMN'), ('สีเทา', 'NCMN'), ('อีกที', 'ADVN')])]),\n",
       " Tree('S', [Tree('NP', [('จะ', 'NCMN'), ('ถูก', 'XVAM'), ('ส่ง', 'VACT'), ('เข้า', 'RPRE'), ('เครื่อง', 'NCMN')]), Tree('VP', [('ผสม', 'VACT'), ('ไขมัน', 'NCMN'), ('หรือ', 'JCRG'), ('กากน้ำตาล', 'NCMN')])]),\n",
       " Tree('S', [Tree('S', [('ระบบควบคุมการผสมอาหารสัตว์', 'NCMN'), ('<space>', 'PUNC'), ('<left_parenthesis>', 'PUNC'), ('Feed', 'NCMN'), ('Mix', 'NCMN'), ('control', 'NCMN'), ('System', 'NCMN'), ('<right_parenthesis>', 'PUNC'), ('<space>', 'PUNC'), ('ที่', 'PREL'), ('ทาง', 'NCMN'), ('บริษัท', 'NCMN'), ('พัฒนา', 'VACT'), ('ขึ้น', 'NCMN'), ('นี้', 'DDAC'), ('เป็น', 'VSTA'), ('ระบบ', 'NCMN'), ('<space>', 'PUNC'), ('Stand', 'NCMN'), ('Alone', 'NCMN'), ('<space>', 'PUNC'), ('คือ', 'VSTA'), ('<space>', 'PUNC'), ('การ', 'FIXN'), ('ทำงาน', 'VACT')]), ('โดย', 'JSBR'), Tree('S', [('ตัวเอง', 'PPRS'), ('<space>', 'PUNC'), ('ตั้งแต่', 'RPRE'), ('การ', 'FIXN'), ('ป้อน', 'VACT'), ('สูตร', 'NCMN'), ('อาหาร', 'NCMN'), ('<space>', 'PUNC'), ('การ', 'FIXN'), ('แก้ไข', 'VACT'), ('สูตร', 'NCMN'), ('และ', 'JCRG'), ('กระบวนการ', 'NCMN'), ('อื่นๆ', 'DIAC'), ('<space>', 'PUNC'), ('เกี่ยวกับ', 'RPRE'), ('สูตร', 'NCMN'), ('อาหารสัตว์', 'NCMN'), ('<space>', 'PUNC'), ('การ', 'FIXN'), ('ทดสอบ', 'VACT'), ('การ', 'FIXN'), ('ทำงาน', 'VACT'), ('<space>', 'PUNC'), ('ตลอดจน', 'NCMN'), ('การ', 'FIXN'), ('<space>', 'FIXN'), ('Setup', 'VACT'), ('<space>', 'PUNC'), ('ค่า', 'NCMN'), ('ต่างๆ', 'DIAC'), ('<space>', 'PUNC'), ('ของ', 'RPRE'), ('อุปกรณ์', 'NCMN'), ('<space>', 'PUNC'), ('รวมถึง', 'VSTA'), ('การ', 'FIXN'), ('ชั่ง', 'VACT'), ('อาหาร', 'NCMN'), ('ตาม', 'RPRE'), ('สูตร', 'NCMN'), ('ที่', 'PREL'), ('จัดการ', 'VACT'), ('ไว้', 'XVAE'), ('นั้น', 'DDAC')])]),\n",
       " Tree('S', [('โดย', 'JSBR'), Tree('NP', [('รหัส', 'NCMN'), ('<space>', 'PUNC'), ('P', 'NCMN')]), ('<space>', 'PUNC'), Tree('VP', [('เป็น', 'VSTA'), ('การ', 'FIXN'), ('พิจารณา', 'VACT'), ('โครงสร้าง', 'NCMN'), ('ของ', 'RPRE'), ('เนื้อ', 'NCMN'), ('ตัวอักษร', 'NCMN')])]),\n",
       " Tree('S', [Tree('NP', [('8', 'NCNM'), ('<right_parenthesis>', 'PUNC'), ('<space>', 'NCMN'), ('หัวต่อ', 'NCMN'), ('เพื่อ', 'RPRE'), ('การ', 'FIXN'), ('เชื่อมโยง', 'NCMN'), ('<space>', 'PUNC'), ('<left_parenthesis>', 'PUNC'), ('Interfacing', 'NCMN'), ('Connector', 'NCMN'), ('<right_parenthesis>', 'PUNC'), ('<space>', 'PUNC')]), Tree('VP', [('เป็น', 'VSTA'), ('หัวต่อ', 'NCMN'), ('ที่', 'PREL'), ('ใช้', 'VACT'), ('สำหรับ', 'JSBR'), ('ต่อพ่วง', 'VACT'), ('ระบบ', 'NCMN'), ('เพิ่มเติม', 'ADVN')])]),\n",
       " Tree('S', [Tree('NP', [('เครื่อง', 'NCMN')]), Tree('VP', [('จะ', 'XVBM'), ('บันทึก', 'VACT'), ('ข้อมูล', 'NCMN'), ('ท่าน', 'PPRS'), ('ได้', 'XVAE'), ('ใน', 'RPRE'), ('หน่วยความจำ', 'NCMN')])]),\n",
       " Tree('S', [Tree('PP', [('ดัง', 'RPRE'), ('ใน', 'NCMN')]), Tree('S', [('รูป', 'NCMN'), ('ที่', 'JSBR'), ('4', 'NCNM')])]),\n",
       " Tree('S', [Tree('NP', [('ซึ่ง', 'NCMN'), ('อุปกรณ์ควบคุม', 'NCMN'), ('เดิม', 'VATT')]), Tree('VP', [('ควบคุม', 'VACT'), ('ได้', 'XVAE'), ('เพียง', 'ADVN'), ('<space>', 'NCMN'), ('10', 'DCNM'), ('<space>', 'PUNC'), ('ชนิด', 'CNIT'), ('ของ', 'RPRE'), ('วัตถุดิบ', 'NCMN')])]),\n",
       " Tree('S', [Tree('NP', [('ภาพ', 'NCMN')]), Tree('VP', [('บน', 'VACT'), ('จอมอนิเตอร์', 'NCMN'), ('โทรทัศน์', 'NCMN')])]),\n",
       " Tree('S', [Tree('NP', [('2', 'NCNM'), ('<space>', 'PUNC'), ('โครงการ', 'NCMN')]), Tree('VP', [('พัฒนา', 'VACT'), ('พจนานุกรม', 'NCMN'), ('เพื่อ', 'RPRE'), ('การ', 'FIXN'), ('แปล', 'VACT'), ('ภาษา', 'NCMN'), ('ด้วย', 'RPRE'), ('คอมพิวเตอร์', 'NCMN')])]),\n",
       " Tree('S', [Tree('NP', [('เริ่ม', 'VACT'), ('จาก', 'VACT'), ('การ', 'FIXN')]), Tree('VP', [('ตัด', 'VACT'), ('คำ', 'NCMN'), ('ใน', 'RPRE'), ('ประโยค', 'NCMN')])]),\n",
       " Tree('S', [Tree('NP', [('และ', 'NCMN')]), Tree('VP', [('เนื่องจาก', 'JSBR'), ('อุปกรณ์', 'NCMN'), ('มี', 'NCMN'), ('เพียง', 'ADVN'), ('<space>', 'PUNC'), ('1', 'DCNM'), ('<space>', 'PUNC'), ('ชุด', 'CNIT'), ('เท่านั้น', 'ADVN')])]),\n",
       " Tree('S', [Tree('NP', [('ทั้ง', 'NCMN'), ('ใน', 'RPRE'), ('ภาคอุตสาหกรรม', 'NCMN')]), Tree('VP', [('บริการ', 'VACT'), ('และอื่นๆ', 'PDMN')])]),\n",
       " Tree('S', [Tree('NP', [('จะ', 'NCMN')]), Tree('VP', [('นำ', 'VACT'), ('รายการอาหาร', 'NCMN'), ('ที่', 'PREL'), ('สั่ง', 'VACT'), ('ป้อน', 'VACT'), ('เข้า', 'RPRE'), ('คอมพิวเตอร์', 'NCMN')])]),\n",
       " Tree('S', [('นอกจากนี้', 'JSBR'), Tree('NP', [('<space>', 'NCMN'), ('การ', 'FIXN'), ('ติดต่อสื่อสาร', 'VACT'), ('และ', 'JCRG'), ('แลกเปลี่ยน', 'VACT'), ('ข้อมูล', 'NCMN'), ('ระหว่าง', 'RPRE'), ('กัน', 'PPRS')]), ('<space>', 'PUNC'), Tree('VP', [('ยัง', 'XVBM'), ('มิได้', 'NEG'), ('ใช้', 'VACT'), ('เทคโนโลยี', 'NCMN'), ('สื่อสาร', 'VACT'), ('ข้อมูล', 'NCMN'), ('ที่', 'PREL'), ('ทันสมัย', 'VATT'), ('และ', 'JCRG'), ('มี', 'VSTA'), ('ประสิทธิภาพ', 'NCMN'), ('สูง', 'VATT')])]),\n",
       " Tree('S', [Tree('NP', [('เพื่อ', 'RPRE'), ('จะ', 'NCMN')]), Tree('VP', [('นำ', 'VACT'), ('ไป', 'XVAE'), ('เจือสาร', 'NCMN')])]),\n",
       " Tree('S', [Tree('NP', [('<space>', 'NCMN')]), Tree('VP', [('สนับสนุน', 'VACT'), ('การ', 'FIXN'), ('วิจัย', 'VACT'), ('และ', 'JCRG'), ('พัฒนา', 'VACT'), ('เทคโนโลยี', 'NCMN'), ('อิเล็กทรอนิกส์', 'NCMN'), ('และ', 'JCRG'), ('คอมพิวเตอร์', 'NCMN')])]),\n",
       " Tree('S', [('สำหรับ', 'JSBR'), Tree('NP', [('ภารกิจ', 'NCMN'), ('ที่', 'PREL'), ('ได้รับ', 'VSTA'), ('มอบหมาย', 'VACT'), ('<space>', 'FIXN'), ('จะ', 'XVBM'), ('ดำเนินงาน', 'VACT'), ('ภายใต้', 'RPRE'), ('สำนักงานปลัดกระทรวงฯ', 'NCMN'), ('<space>', 'PUNC'), ('มี', 'VSTA'), ('เจ้าหน้าที่', 'NCMN'), ('ของ', 'RPRE'), ('ศูนย์ฯ', 'NCMN')]), ('<space>', 'PUNC'), Tree('VP', [('ทำงาน', 'VACT'), ('ประจำ', 'ADVN')])]),\n",
       " Tree('S', [Tree('NP', [('หลอดรังสีเอ็กซ์', 'NCMN')]), Tree('VP', [('จะ', 'XVBM'), ('เคลื่อนที่', 'VACT'), ('พร้อมกับ', 'RPRE'), ('ตัวรับรังสี', 'NCMN'), ('ใน', 'RPRE'), ('แนว', 'NCMN'), ('ตรง', 'VATT'), ('แล้ว', 'JSBR'), ('หมุน', 'VACT')])]),\n",
       " Tree('S', [Tree('NP', [('2', 'NCNM')]), Tree('VP', [('<full_stop>', 'VACT'), ('<space>', 'NCMN'), ('หลักภาษาไทย', 'NPRP'), ('<space>', 'PUNC'), ('โดย', 'RPRE'), ('<space>', 'PUNC'), ('กำชัย', 'NPRP'), ('<space>', 'PUNC'), ('ทองหล่อ', 'NPRP'), ('<space>', 'PUNC'), ('พ.ศ.', 'NCMN'), ('<space>', 'PUNC'), ('2495', 'NCNM')])]),\n",
       " Tree('S', [Tree('PP', [('โดย', 'RPRE'), ('เป็น', 'VSTA'), ('แผ่น', 'NCMN')]), Tree('S', [('วงจร', 'NCMN'), ('สำหรับ', 'JSBR'), ('เสียบ', 'VACT'), ('บน', 'RPRE'), ('เครื่องคอมพิวเตอร์ส่วนบุคคล', 'NCMN'), ('<space>', 'PUNC'), ('IBM', 'NCMN'), ('PC', 'NCMN'), ('Compatible', 'NCMN'), ('<space>', 'PUNC'), ('ทั่วไป', 'VSTA'), ('และ', 'JCRG'), ('ใช้', 'VACT'), ('งาน', 'NCMN'), ('ได้', 'XVAE'), ('ทันที', 'ADVN')])]),\n",
       " Tree('S', [Tree('NP', [('เจนเนอเรเตอร์', 'NCMN'), ('<space>', 'PUNC'), ('<left_parenthesis>', 'PUNC'), ('Character', 'NCMN'), ('Generator', 'NCMN'), ('<right_parenthesis>', 'PUNC'), ('<space>', 'PUNC'), ('ตัวหนังสือ', 'NCMN'), ('แต่ละ', 'DIBQ'), ('ตัว', 'CNIT')]), Tree('VP', [('จะ', 'XVBM'), ('ประกอบ', 'VSTA'), ('ด้วย', 'RPRE'), ('ข้อมูล', 'NCMN'), ('<space>', 'NCMN'), ('16', 'NCNM'), ('<space>', 'PUNC'), ('x', 'NCMN'), ('<space>', 'PUNC'), ('32', 'DCNM'), ('<space>', 'PUNC'), ('จุด', 'CNIT'), ('<space>', 'NCMN'), ('หรือ', 'JCRG'), ('<space>', 'NCMN'), ('64', 'DCNM'), ('<space>', 'PUNC'), ('ไบท์', 'CMTR')])]),\n",
       " Tree('S', [Tree('NP', [('4.2', 'NCNM'), ('<space>', 'PUNC'), ('วิธี', 'NCMN'), ('การ', 'FIXN'), ('อ่าน', 'VACT'), ('ข้อมูล', 'NCMN')]), Tree('VP', [('เข้า', 'VACT'), ('ระบบคอมพิวเตอร์', 'NCMN')])]),\n",
       " Tree('S', [Tree('PP', [('เพื่อ', 'RPRE'), ('กำหนด', 'VACT'), ('รูปแบบ', 'NCMN'), ('ของ', 'RPRE'), ('ซอฟท์แวร์', 'NCMN')]), Tree('S', [('ที่', 'NCMN'), ('จะ', 'XVBM'), ('พัฒนา', 'VACT'), ('ขึ้น', 'XVAE'), ('ใหม่', 'ADVN')])]),\n",
       " Tree('S', [Tree('S', [('ส่วน', 'NCMN'), ('ผล', 'NCMN'), ('การ', 'FIXN'), ('ทดลอง', 'VACT'), ('สร้าง', 'VACT'), ('วงจรรวม', 'NCMN'), ('อินเวอร์เตอร์', 'NCMN'), ('ง่ายๆ', 'VATT'), ('<space>', 'PUNC'), ('แบบ', 'NCMN'), ('<space>', 'PUNC'), ('CMOS', 'NCMN'), ('<space>', 'PUNC'), ('ปรากฏ', 'VSTA')]), ('ว่า', 'JSBR'), Tree('S', [('อินเวอร์เตอร์', 'NCMN'), ('<space>', 'PUNC'), ('ที่', 'PREL'), ('สร้าง', 'VACT'), ('ได้', 'XVAE'), ('แสดง', 'VACT'), ('คุณสมบัติ', 'NCMN'), ('ของ', 'RPRE'), ('อินเวอร์เตอร์', 'NCMN'), ('ได้', 'XVAE'), ('ดี', 'ADVN'), ('<space>', 'PUNC'), ('มี', 'VSTA'), ('ช่วง', 'NCMN'), ('ของ', 'RPRE'), ('การ', 'FIXN'), ('ทรานซิสเตอร์', 'NCMN'), ('ระหว่าง', 'RPRE'), ('<space>', 'PUNC'), ('2.0', 'NCNM'), ('<space>', 'NCMN'), ('<minus>', 'PUNC'), ('<space>', 'NCMN'), ('4.0', 'DCNM'), ('<space>', 'PUNC'), ('โวลต์', 'CMTR'), ('<space>', 'PUNC'), ('ในกรณีที่', 'JSBR'), ('ค่า', 'VSTA'), ('<space>', 'PUNC'), ('r', 'NCMN'), ('<space>', 'PUNC'), ('<equal>', 'PUNC'), ('<space>', 'NCMN'), ('2', 'PUNC'), ('<space>', 'PUNC'), ('และ', 'RPRE'), ('<space>', 'PUNC'), ('VDD', 'NCMN'), ('<space>', 'NCMN'), ('<equal>', 'PUNC'), ('<space>', 'NCMN'), ('6.0', 'DCNM'), ('<space>', 'PUNC'), ('โวล์ต', 'CMTR')])]),\n",
       " Tree('S', [Tree('NP', [('ก็', 'NCMN')]), Tree('VP', [('สามารถ', 'XVAM'), ('แก้ไข', 'VACT'), ('ได้', 'XVAE'), ('โดย', 'FIXV'), ('ง่าย', 'ADVN')])]),\n",
       " Tree('S', [Tree('NP', [('และ', 'NCMN')]), ('ให้', 'JSBR'), Tree('VP', [('มี', 'VSTA'), ('การ', 'FIXN'), ('ใช้', 'VACT'), ('ทรัพยากร', 'NCMN'), ('สารนิเทศ', 'NCMN'), ('ภายใน', 'RPRE'), ('ประเทศ', 'NCMN'), ('ได้', 'XVAE'), ('อย่าง', 'FIXV'), ('คุ้มค่า', 'VATT')])]),\n",
       " Tree('S', [Tree('PP', [('เพื่อ', 'RPRE'), ('ตอบสนอง', 'VACT')]), Tree('S', [('การ', 'FIXN'), ('ค้นหา', 'VACT'), ('แลกเปลี่ยน', 'VACT'), ('สื่อสาร', 'VACT'), ('ข้อมูล', 'NCMN'), ('<space>', 'PUNC'), ('ข้อสนเทศ', 'NCMN'), ('ต่างๆ', 'DIAC'), ('<space>', 'PUNC'), ('ด้วย', 'RPRE'), ('ระบบ', 'NCMN'), ('<space>', 'PUNC'), ('Computer', 'NCMN'), ('on', 'NCMN'), ('line', 'NCMN'), ('<space>', 'PUNC'), ('ที่', 'JSBR'), ('ทันสมัย', 'VATT'), ('สะดวก', 'ADVN'), ('รวดเร็ว', 'ADVN'), ('และ', 'JCRG'), ('ครอบคลุม', 'VSTA'), ('พื้นที่', 'NCMN'), ('ได้', 'XVAE'), ('อย่าง', 'FIXV'), ('กว้างขวาง', 'VATT'), ('ทั่ว', 'RPRE'), ('ทุก', 'DIBQ'), ('มุมโลก', 'NCMN')])]),\n",
       " Tree('S', [Tree('NP', [('ซึ่ง', 'NCMN')]), Tree('VP', [('ได้', 'XVAM'), ('เน้น', 'VSTA'), ('ที่', 'NCMN'), ('การ', 'FIXN'), ('ออกแบบ', 'VACT'), ('วงจรรวม', 'NCMN'), ('<space>', 'PUNC'), ('Full', 'NCMN'), ('custom', 'NCMN'), ('<comma>', 'PUNC'), ('<space>', 'NCMN'), ('Gate', 'NCMN'), ('array', 'NCMN'), ('<space>', 'PUNC'), ('และ', 'NCMN'), ('<space>', 'PUNC'), ('Standard', 'NCMN'), ('cell', 'NCMN')])]),\n",
       " Tree('S', [('เพราะ', 'JSBR'), Tree('NP', [('จะ', 'NCMN'), ('พบ', 'VACT'), ('ปัญหา', 'NCMN'), ('ต่างๆ', 'DIAC')]), ('<space>', 'PUNC'), Tree('VP', [('ตามมา', 'VACT'), ('เป็น', 'VSTA'), ('ระยะๆ', 'NCMN')])]),\n",
       " Tree('S', [Tree('NP', [('ค', 'NCMN'), ('<full_stop>', 'NCMN'), ('<space>', 'PUNC'), ('การ', 'FIXN')]), Tree('VP', [('จัดสร้าง', 'VACT'), ('คลัง', 'NCMN'), ('ข้อมูล', 'NCMN'), ('ประโยค', 'NCMN'), ('ไทย', 'NPRP')])]),\n",
       " Tree('S', [Tree('NP', [('รูป', 'NCMN')]), Tree('VP', [('ที่', 'JSBR'), ('9', 'NCNM'), ('<space>', 'PUNC'), ('ลักษณะ', 'NCMN'), ('สมบัติ', 'NCMN'), ('กำลัง', 'NCMN'), ('แสง', 'NCMN'), ('<minus>', 'PUNC'), ('กระแส', 'NCMN'), ('ของ', 'RPRE'), ('ไดโอดเปล่งแสง', 'NCMN')])]),\n",
       " Tree('S', [Tree('NP', [('ความ', 'FIXN'), ('ถี่', 'VATT')]), ('ที่', 'JSBR'), Tree('VP', [('ตั้ง', 'VACT')])]),\n",
       " Tree('S', [Tree('NP', [('ปัจจุบัน', 'NCMN'), ('การ', 'FIXN'), ('แปล', 'VACT'), ('ภาษา', 'NCMN')]), Tree('VP', [('มี', 'VSTA'), ('บทบาท', 'NCMN'), ('สำคัญ', 'VATT'), ('มาก', 'ADVN'), ('<space>', 'PUNC'), ('ทั้ง', 'NCMN'), ('ด้าน', 'RPRE'), ('งาน', 'NCMN'), ('บริหารธุรกิจ', 'NCMN'), ('และ', 'JCRG'), ('ระบบ', 'NCMN'), ('งาน', 'NCMN'), ('ราชการ', 'NCMN'), ('โดย', 'JSBR'), ('เฉพาะ', 'RPRE'), ('การ', 'FIXN'), ('แปล', 'VACT'), ('เอกสาร', 'NCMN'), ('ต่างๆ', 'DIAC'), ('<space>', 'PUNC'), ('จาก', 'RPRE'), ('ภาษา', 'NCMN'), ('หนึ่ง', 'DCNM'), ('ไปสู่', 'RPRE'), ('อีก', 'DDBQ'), ('ภาษา', 'CNIT'), ('หนึ่ง', 'DCNM')])]),\n",
       " Tree('S', [('คือ', 'JSBR'), Tree('NP', [('<space>', 'FIXN'), ('นับ', 'VACT'), ('<space>', 'PUNC'), ('1', 'NCNM')]), ('<space>', 'PUNC'), Tree('VP', [('ถึง', 'VSTA'), ('<space>', 'PUNC'), ('6', 'NCNM'), ('<space>', 'PUNC'), ('สำหรับ', 'RPRE'), ('ลูกเต๋า', 'NCMN')])]),\n",
       " Tree('S', [('นอกจากนี้', 'JSBR'), Tree('NP', [('<space>', 'NCMN'), ('Local', 'NCMN'), ('<space>', 'PUNC'), ('address', 'NCMN'), ('<space>', 'PUNC'), ('bus', 'NCMN')]), ('<space>', 'PUNC'), Tree('VP', [('ยัง', 'XVBM'), ('ต่อ', 'VACT'), ('เข้ากับ', 'RPRE'), ('<space>', 'PUNC'), ('bi-direction', 'NCMN'), ('<space>', 'PUNC'), ('buffer', 'NCMN')])]),\n",
       " Tree('S', [Tree('NP', [('วงจรรวม', 'NCMN')]), Tree('VP', [('ทำ', 'VACT'), ('ได้', 'XVAE'), ('เฉพาะ', 'ADVN'), ('ใน', 'RPRE'), ('บริษัทผู้ผลิต', 'NCMN'), ('วงจรรวม', 'NCMN'), ('เท่านั้น', 'ADVN')])]),\n",
       " Tree('S', [Tree('NP', [('1', 'NCNM'), ('<right_parenthesis>', 'PUNC'), ('<space>', 'NCMN'), ('วงจรกำเนิดสัญญาณนาฬิกา', 'NCMN'), ('<space>', 'PUNC'), ('<left_parenthesis>', 'PUNC'), ('Clock', 'NCMN'), ('Generation', 'NCMN'), ('<right_parenthesis>', 'PUNC'), ('<space>', 'PUNC')]), Tree('VP', [('ทำหน้าที่', 'VACT'), ('กำเนิด', 'VSTA'), ('สัญญาณ', 'NCMN'), ('นาฬิกา', 'NCMN'), ('ให้กับ', 'RPRE'), ('ระบบ', 'NCMN')])]),\n",
       " Tree('S', [('เนื่องจาก', 'JSBR'), Tree('NP', [('ใช้', 'NCMN'), ('เทคโนโลยี', 'NCMN'), ('IC', 'NCMN'), ('<space>', 'PUNC'), ('และ', 'RPRE'), ('ไมโครโปรเซสเซอร์', 'NCMN')]), ('<space>', 'PUNC'), Tree('VP', [('เข้ามา', 'VACT'), ('ผนวก', 'VACT'), ('ด้วย', 'ADVN')])]),\n",
       " Tree('S', [Tree('NP', [('C->S', 'NCMN'), ('<space>', 'PUNC'), ('Pt.:', 'NCMN')]), ('<space>', 'PUNC'), Tree('VP', [('เป็น', 'VSTA'), ('<space>', 'PUNC'), ('Pointer', 'NCMN'), ('<space>', 'PUNC'), ('ที่', 'PREL'), ('ชี้', 'VACT'), ('กลับ', 'VACT'), ('ไปยัง', 'RPRE'), ('<space>', 'PUNC'), ('S-Block', 'NCMN')])]),\n",
       " Tree('S', [Tree('NP', [('ช้อน', 'NCMN'), ('<space>', 'PUNC'), ('กิน', 'NCMN'), ('<space>', 'PUNC'), ('ซุป', 'NCMN')]), ('<space>', 'PUNC'), Tree('VP', [('ได้', 'XVAM'), ('ง่าย', 'VATT'), ('กว่า', 'ADVN')])]),\n",
       " Tree('S', [Tree('NP', [('ผลการวิจัย', 'NCMN'), ('จะ', 'XVBM'), ('ได้', 'XVAM'), ('นำ', 'VACT'), ('มา', 'XVAE')]), Tree('VP', [('แถลง', 'VACT'), ('ใน', 'RPRE'), ('การ', 'FIXN'), ('ประชุม', 'VACT'), ('วิชาการ', 'NCMN'), ('ครั้ง', 'CFQC'), ('ต่อไป', 'DDAC')])]),\n",
       " Tree('S', [Tree('NP', [('ตาม', 'RPRE'), ('แผนงาน', 'NCMN'), ('ซึ่ง', 'PREL'), ('ได้', 'XVAM'), ('กำหนด', 'VACT'), ('ไว้', 'XVAE'), ('ใน', 'RPRE'), ('โครงการ', 'NCMN'), ('นั้น', 'DDAC'), ('<space>', 'PUNC'), ('คำศัพท์', 'NCMN'), ('ที่', 'PREL'), ('โค้ด', 'VACT'), ('เสร็จ', 'ADVN'), ('แล้ว', 'ADVN'), ('เหล่านี้', 'DDAC'), ('จะ', 'XVBM'), ('ได้', 'XVAM'), ('นำ', 'VACT'), ('ไป', 'XVAE')]), Tree('VP', [('ทดลอง', 'VACT'), ('ใช้', 'VACT'), ('ใน', 'RPRE'), ('การ', 'FIXN'), ('เขียน', 'VACT'), ('กฎ', 'NCMN'), ('การ', 'FIXN'), ('สังเคราะห์', 'VACT'), ('ภาษาไทย', 'NPRP')])]),\n",
       " Tree('S', [Tree('NP', [('3.2', 'NCNM'), ('<space>', 'PUNC'), ('การ', 'FIXN'), ('ออกแบบ', 'VACT'), ('มอสทรานซิสเตอร์', 'NCMN')]), ('<space>', 'PUNC'), Tree('VP', [('ทั้ง', 'VACT'), ('ชนิด', 'CLTV'), ('เอ็นแซนแนล', 'NCMN'), ('และ', 'JCRG'), ('พีแซนแนล', 'NCMN'), ('ที่', 'PREL'), ('มี', 'VSTA'), ('โครงสร้าง', 'NCMN'), ('แบบ', 'NCMN'), ('วงจรรวม', 'NCMN'), ('<space>', 'PUNC'), ('และ', 'NCMN'), ('การ', 'FIXN'), ('ออกแบบ', 'VACT'), ('วงจร', 'NCMN'), ('อินเวอร์เตอร์', 'NCMN'), ('แบบ', 'NCMN'), ('<space>', 'PUNC'), ('CMOS', 'NCMN')])]),\n",
       " Tree('S', [Tree('NP', [('ROM-BIOS', 'NCMN')]), ('<space>', 'PUNC'), Tree('VP', [('อยู่', 'VSTA'), ('แทน', 'VSTA'), ('<space>', 'PUNC'), ('Xaddress', 'NCMN')])]),\n",
       " Tree('S', [Tree('NP', [('7', 'NCMN'), ('<full_stop>', 'NCMN')]), ('<space>', 'PUNC'), Tree('VP', [('ประเมินผล', 'VACT'), ('การ', 'FIXN'), ('ดำเนินการ', 'VACT'), ('โครงการฯ', 'NCMN')])]),\n",
       " Tree('S', [Tree('NP', [('ตลอดจน', 'NCMN'), ('วิเคราะห์', 'VACT'), ('ความ', 'FIXN'), ('เหมาะสม', 'VSTA'), ('ว่า', 'JSBR')]), ('<space>', 'PUNC'), Tree('VP', [('ควรจะ', 'XVMM'), ('ใช้', 'VACT'), ('ระบบ', 'NCMN'), ('ออกแบบ', 'VACT'), ('วงจรรวม', 'NCMN'), ('ขนาด', 'NCMN'), ('ใหญ่', 'VATT'), ('มาก', 'ADVN'), ('ระบบ', 'NCMN'), ('ใด', 'DIAC')])]),\n",
       " Tree('S', [Tree('NP', [('ตาราง', 'NCMN'), ('ที่', 'DONM'), ('1', 'DONM')]), ('<space>', 'PUNC'), Tree('VP', [('แสดง', 'VACT'), ('การ', 'FIXN'), ('พัฒนา', 'VACT'), ('ของ', 'RPRE'), ('สิ่งประดิษฐ์', 'NCMN'), ('ทาง', 'RPRE'), ('อิเล็กทรอนิกส์', 'NCMN'), ('ขนาด', 'NCMN'), ('จิ๋ว', 'VATT')])]),\n",
       " Tree('S', [Tree('NP', [('ความ', 'FIXN'), ('ต้องการ', 'VACT'), ('ทาง', 'RPRE'), ('ด้าน', 'NCMN'), ('การ', 'FIXN'), ('แปล', 'VACT'), ('ภาษา', 'NCMN')]), Tree('VP', [('มี', 'VSTA'), ('แนวโน้ม', 'NCMN'), ('ที่', 'PREL'), ('สูงขึ้น', 'VATT')])]),\n",
       " Tree('S', [Tree('NP', [('โดย', 'RPRE'), ('การ', 'FIXN'), ('ดึง', 'VACT'), ('<space>', 'PUNC'), ('entries', 'NCMN'), ('<space>', 'PUNC'), ('ใน', 'RPRE'), ('พจนานุกรม', 'NCMN')]), Tree('VP', [('ออกมา', 'VACT')])]),\n",
       " Tree('S', [Tree('NP', [('และ', 'NCMN')]), Tree('VP', [('ใช้', 'VACT'), ('<space>', 'NCMN'), ('RAM', 'NCMN'), ('<space>', 'PUNC'), ('ขนาด', 'NCMN'), ('<space>', 'PUNC'), ('48', 'DCNM'), ('<space>', 'PUNC'), ('ไบท์', 'CMTR')])]),\n",
       " Tree('S', [Tree('PP', [('ให้', 'RPRE'), ('ใช้', 'VACT'), ('ขา', 'NCMN'), ('ปกติ', 'VATT')]), Tree('S', [('ของ', 'NCMN'), ('<space>', 'PUNC'), ('Input', 'NCMN'), ('<space>', 'PUNC'), ('และ', 'NCMN'), ('<space>', 'PUNC'), ('Out', 'NCMN'), ('Put', 'NCMN'), ('<space>', 'PUNC'), ('มา', 'XVAE'), ('แบ่ง', 'VACT'), ('การ', 'FIXN'), ('ทำงาน', 'VACT'), ('สำหรับ', 'RPRE'), ('การ', 'FIXN'), ('ทดสอบ', 'VACT'), ('ได้', 'XVAE')])]),\n",
       " Tree('S', [Tree('NP', [('ฟิล์ม', 'NCMN')]), Tree('VP', [('บาง', 'VSTA'), ('ของ', 'RPRE'), ('สารตัวนำยิ่งยวด', 'NCMN'), ('ต่อไป', 'DDAC')])]),\n",
       " Tree('S', [('เพื่อให้', 'JSBR'), Tree('NP', [('เข้าใจ', 'NCMN'), ('โครงสร้าง', 'NCMN'), ('และ', 'JCRG'), ('การ', 'FIXN'), ('ดำเนินงาน', 'VACT'), ('ของ', 'RPRE'), ('ศูนย์ฯ', 'NCMN')]), ('<space>', 'PUNC'), Tree('VP', [('โดย', 'JSBR'), ('สรุป', 'VACT'), ('อัน', 'JSBR'), ('ได้', 'XVAM'), ('จัด', 'VACT'), ('ภาคผนวก', 'NCMN'), ('และ', 'JCRG'), ('แสดง', 'VACT'), ('แผนผัง', 'NCMN'), ('และ', 'JCRG'), ('ข้อมูล', 'NCMN'), ('ที่', 'PREL'), ('สำคัญ', 'VATT'), ('ของ', 'RPRE'), ('ศูนย์ฯ', 'NCMN')])]),\n",
       " Tree('S', [Tree('NP', [('บทความ', 'NCMN'), ('นี้', 'DDAC')]), ('<space>', 'PUNC'), Tree('VP', [('นำเสนอ', 'VACT'), ('ความ', 'FIXN'), ('ก้าวหน้า', 'VSTA'), ('ผลงานวิจัย', 'NCMN'), ('เรื่อง', 'RPRE'), ('การ', 'FIXN'), ('พัฒนา', 'VACT'), ('ซอฟท์แวร์', 'NCMN'), ('ช่วยออกแบบวงจรรวม', 'NCMN'), ('<space>', 'NCMN'), ('<quotation>', 'PUNC'), ('NECTEC', 'NCMN'), ('<space>', 'PUNC'), ('I', 'NCMN'), ('<quotation>', 'PUNC'), ('<space>', 'NCMN'), ('และ', 'JCRG'), ('ผล', 'NCMN'), ('การ', 'FIXN'), ('ศึกษา', 'VACT'), ('ซอฟท์แวร์ช่วยออกแบบวงจรรวม', 'NCMN'), ('บน', 'RPRE'), ('ไมโครคอมพิวเตอร์', 'NCMN'), ('<space>', 'PUNC'), ('ที่', 'JSBR'), ('มี', 'VSTA'), ('การ', 'FIXN'), ('ผลิต', 'VACT'), ('ขาย', 'VACT'), ('อยู่', 'XVAE'), ('ใน', 'RPRE'), ('ต่างประเทศ', 'NCMN')])]),\n",
       " Tree('S', [Tree('NP', [('เลย', 'NCMN'), ('ทำให้', 'VACT'), ('เครื่อง', 'NCMN'), ('<space>', 'PUNC'), ('OCR', 'NCMN')]), ('<space>', 'PUNC'), Tree('VP', [('มี', 'VSTA'), ('ราคา', 'NCMN'), ('แพง', 'VATT')])]),\n",
       " Tree('S', [Tree('NP', [('11', 'NCNM')]), Tree('VP', [('<full_stop>', 'VACT'), ('<space>', 'NCMN'), ('ประธานสภามนตรีสภา', 'NCMN'), ('สมาคมวิทยาศาสตร์และเทคโนโลยีแห่งประเทศไทย', 'NPRP')])]),\n",
       " Tree('S', [Tree('PP', [('ใน', 'RPRE'), ('ทุก', 'DIBQ'), ('ลักษณะ', 'NCMN'), ('ของ', 'RPRE'), ('การ', 'FIXN'), ('ออกแบบ', 'VACT')]), Tree('S', [('นั้น', 'DDAC'), ('<space>', 'PUNC'), ('สามารถ', 'XVAM'), ('สร้าง', 'VACT'), ('เป็น', 'VSTA'), ('แผนผัง', 'NCMN'), ('ของ', 'RPRE'), ('การ', 'FIXN'), ('ใช้', 'VACT'), ('ซอฟท์แวร์ช่วยออกแบบวงจรรวม', 'NCMN'), ('ได้', 'XVAE')])]),\n",
       " Tree('S', [Tree('NP', [('ปริมาณ', 'NCMN'), ('ข้อมูล', 'NCMN'), ('ที่', 'PREL'), ('แตกต่าง', 'VATT')]), Tree('VP', [('มิได้', 'NEG'), ('หมายความ', 'VSTA')])]),\n",
       " Tree('S', [('ซึ่ง', 'JSBR'), Tree('NP', [('ใน', 'RPRE'), ('โรงงานอุตสาหกรรม', 'NCMN'), ('นั้น', 'DDAC')]), ('<space>', 'PUNC'), Tree('VP', [('มี', 'VSTA'), ('สัญญาณรบกวน', 'NCMN'), ('มากมาย', 'VATT'), ('<space>', 'PUNC'), ('ทั้ง', 'NCMN'), ('ใน', 'RPRE'), ('สายไฟฟ้า', 'NCMN'), ('และ', 'JCRG'), ('กระจาย', 'VACT'), ('อยู่', 'XVAE'), ('ใน', 'RPRE'), ('อากาศ', 'NCMN')])]),\n",
       " Tree('S', [Tree('NP', [('รูป', 'NCMN'), ('ที่', 'DONM'), ('5', 'DONM'), ('<space>', 'PUNC'), ('สัญญาณ', 'NCMN')]), Tree('VP', [('จาก', 'VACT'), ('วงจรกำเนิดความถี่อ้างอิง', 'NCMN')])]),\n",
       " Tree('S', [('ซึ่ง', 'JSBR'), Tree('NP', [('ผล', 'NCMN'), ('ที่', 'PREL'), ('ได้', 'VSTA'), ('ใน', 'RPRE'), ('ระยะ', 'NCMN'), ('ที่', 'DONM'), ('1', 'DONM'), ('<space>', 'PUNC'), ('นี้', 'DDAC'), ('อาจ', 'XVMM'), ('กล่าว', 'VACT'), ('ได้', 'XVAM'), ('ว่า', 'JSBR'), ('ดี', 'VATT'), ('พอสมควร', 'ADVN')]), ('<space>', 'PUNC'), Tree('VP', [('เป็นไป', 'VSTA'), ('ตาม', 'RPRE'), ('วัตถุประสงค์', 'NCMN')])]),\n",
       " Tree('S', [Tree('NP', [('วงจรรวม', 'NCMN'), ('นี้', 'DDAC')]), Tree('VP', [('ต้องการ', 'VACT'), ('ให้', 'JSBR'), ('ทำหน้าที่', 'VACT'), ('อะไร', 'NCMN')])]),\n",
       " Tree('S', [Tree('NP', [('9', 'NCMN'), ('<full_stop>', 'NCMN'), ('<space>', 'PUNC'), ('คำ', 'NCMN'), ('กริยา', 'NCMN')]), Tree('VP', [('บ่งบอก', 'VACT'), ('ลักษณะ', 'NCMN'), ('ใน', 'RPRE'), ('ภาษาไทย', 'NCMN'), ('กรุงเทพ', 'NPRP'), ('<space>', 'PUNC'), ('โดย', 'RPRE'), ('<space>', 'PUNC'), ('สุรพล', 'NPRP'), ('<space>', 'PUNC'), ('ชัยทองวงศ์วัฒนา', 'NPRP'), ('<space>', 'PUNC'), ('พ.ศ.', 'NCMN'), ('<space>', 'PUNC'), ('2532', 'NCNM')])]),\n",
       " Tree('S', [Tree('NP', [('ตัวอย่าง', 'NCMN'), ('ของ', 'RPRE'), ('การ', 'FIXN'), ('เรียง', 'VACT'), ('คำ', 'NCMN'), ('ใน', 'RPRE'), ('ภาษาอังกฤษ', 'NPRP'), ('<space>', 'PUNC'), ('เช่น', 'RPRE'), ('<space>', 'PUNC'), ('ตำแหน่ง', 'NCMN'), ('ของ', 'RPRE'), ('<space>', 'PUNC'), ('SUB', 'NCMN'), ('<space>', 'FIXN'), ('ต้อง', 'XVMM'), ('มาก่อน', 'VSTA'), ('<space>', 'PUNC'), ('VERB', 'NCMN'), ('<space>', 'PUNC'), ('และ', 'NCMN'), ('<space>', 'PUNC'), ('DOB', 'NCMN')]), ('<space>', 'PUNC'), Tree('VP', [('ต้อง', 'XVMM'), ('อยู่', 'VSTA'), ('หลัง', 'RPRE'), ('<space>', 'PUNC'), ('VERB', 'NCMN')])]),\n",
       " Tree('S', [Tree('NP', [('ซึ่ง', 'NCMN')]), Tree('VP', [('เป็น', 'VSTA'), ('เครื่อง', 'NCMN'), ('แสดง', 'VACT'), ('คลื่นไฟฟ้า', 'NCMN'), ('หัวใจ', 'NCMN'), ('จาก', 'RPRE'), ('สัญญาณ', 'NCMN'), ('ไฟฟ้า', 'NCMN'), ('หัวใจ', 'NCMN'), ('ที่', 'PREL'), ('ระบบ', 'NCMN'), ('มอนิเตอร์', 'NCMN'), ('ข้าง', 'RPRE'), ('เตียง', 'NCMN'), ('มา', 'XVAE'), ('แสดง', 'VACT'), ('บน', 'RPRE'), ('จอมอนิเตอร์', 'NCMN'), ('ที่', 'PREL'), ('สถานีกลาง', 'NCMN'), ('พร้อมกัน', 'ADVN'), ('ทั้ง', 'NCMN'), ('<space>', 'PUNC'), ('4', 'DCNM'), ('<space>', 'PUNC'), ('เตียง', 'CNIT')])]),\n",
       " Tree('S', [Tree('NP', [('แบบฟอร์ม', 'NCMN'), ('ของ', 'RPRE'), ('คำสั่ง', 'NCMN')]), Tree('VP', [('ถูกต้อง', 'VSTA'), ('แล้ว', 'XVAE'), ('เท่านั้น', 'ADVN')])]),\n",
       " Tree('S', [Tree('NP', [('เทคโนโลยี', 'NCMN'), ('เอพิแทกซี', 'NCMN'), ('<space>', 'PUNC'), ('<left_parenthesis>', 'PUNC'), ('Epitaxy', 'NCMN'), ('Technology', 'NCMN'), ('<right_parenthesis>', 'PUNC'), ('<space>', 'PUNC')]), Tree('VP', [('มี', 'VSTA'), ('หลาย', 'DIBQ'), ('ชนิด', 'NCMN'), ('เช่น', 'RPRE'), ('<space>', 'NCMN'), ('Vapour', 'NCMN'), ('Phase', 'NCMN'), ('Epitaxy', 'NCMN'), ('<space>', 'PUNC'), ('<left_parenthesis>', 'PUNC'), ('VPE', 'NCMN'), ('<right_parenthesis>', 'PUNC'), ('<comma>', 'PUNC'), ('<space>', 'PUNC'), ('Liquid', 'NCMN'), ('Phase', 'NCMN'), ('Epitaxy', 'NCMN'), ('<space>', 'PUNC'), ('<left_parenthesis>', 'PUNC'), ('LPE', 'NCMN'), ('<right_parenthesis>', 'PUNC'), ('<comma>', 'PUNC'), ('<space>', 'PUNC'), ('Molecular', 'NCMN'), ('Beam', 'NCMN'), ('Epitaxy', 'NCMN'), ('<space>', 'PUNC'), ('<left_parenthesis>', 'PUNC'), ('MBE', 'NCMN'), ('<right_parenthesis>', 'PUNC'), ('<space>', 'PUNC'), ('ฯลฯ', 'PDMN')])]),\n",
       " Tree('S', [Tree('NP', [('8', 'NCMN'), ('<full_stop>', 'NCMN'), ('<space>', 'PUNC'), ('โครงการ', 'NCMN'), ('<space>', 'PUNC'), ('การ', 'FIXN')]), Tree('VP', [('พัฒนา', 'VACT'), ('คอมพิวเตอร์', 'NCMN'), ('ซอฟต์แวร์', 'NCMN')])]),\n",
       " Tree('S', [('นอกจากนี้', 'JSBR'), Tree('NP', [('สำหรับ', 'RPRE'), ('หนึ่ง', 'NCMN'), ('<space>', 'PUNC'), ('morpheme', 'NCMN')]), ('<space>', 'PUNC'), Tree('VP', [('อาจ', 'XVMM'), ('มี', 'VSTA'), ('จำนวน', 'NCMN'), ('<space>', 'PUNC'), ('syntactic', 'NCMN'), ('blocks', 'NCMN'), ('<space>', 'NCMN'), ('ได้', 'XVAE'), ('มาก', 'ADVN'), ('กว่า', 'ADVN'), ('หนึ่ง', 'DIAC')])]),\n",
       " Tree('S', [Tree('NP', [('และ', 'NCMN')]), Tree('VP', [('ได้', 'XVAM'), ('พบ', 'VACT'), ('ว่า', 'RPRE'), ('ระบบ', 'NCMN'), ('การ', 'FIXN'), ('ใช้จ่าย', 'VACT'), ('เงิน', 'NCMN'), ('งบประมาณแผ่นดิน', 'NCMN'), ('ที่', 'PREL'), ('ดี', 'VATT'), ('นั้น', 'DDAC'), ('<space>', 'PUNC'), ('ควรจะ', 'XVMM'), ('สามารถ', 'XVAM'), ('ทำ', 'VACT'), ('ได้', 'XVAE'), ('ด้วย', 'RPRE'), ('วิธี', 'NCMN'), ('ที่', 'PREL'), ('ไม่', 'NEG'), ('ตรงไปตรงมา', 'VATT')])]),\n",
       " Tree('S', [Tree('PP', [('เพื่อ', 'RPRE'), ('พัฒนา', 'VACT'), ('เทคโนโลยี', 'NCMN')]), Tree('S', [('อิเล็กทรอนิกส์', 'NCMN'), ('ใน', 'RPRE'), ('ประเทศ', 'NCMN'), ('<space>', 'PUNC'), ('และ', 'RPRE'), ('เทคโนโลยี', 'NCMN'), ('ด้าน', 'VSTA'), ('คอมพิวเตอร์', 'NCMN'), ('ทั้ง', 'DDBQ'), ('ซอฟต์แวร์', 'NCMN'), ('และ', 'JCRG'), ('ฮาร์ดแวร์', 'NCMN')])]),\n",
       " Tree('S', [Tree('PP', [('เพื่อ', 'RPRE'), ('จะ', 'XVBM'), ('นำไปสู่', 'VACT')]), Tree('S', [('การ', 'FIXN'), ('ผลิต', 'VACT'), ('เป็น', 'VSTA'), ('สำคัญ', 'VATT')])]),\n",
       " Tree('S', [Tree('NP', [('รูป', 'NCMN'), ('ที่', 'DONM'), ('5', 'DONM')]), ('<space>', 'PUNC'), Tree('VP', [('แสดง', 'VACT'), ('ขั้นตอน', 'NCMN'), ('ของ', 'RPRE'), ('การ', 'FIXN'), ('ออกแบบ', 'VACT'), ('<comma>', 'PUNC'), ('<space>', 'NCMN'), ('การ', 'FIXN'), ('เตรียม', 'VACT'), ('และ', 'JCRG'), ('ลักษณะ', 'NCMN'), ('ของ', 'RPRE'), ('กระจก', 'NCMN'), ('ต้นแบบ', 'NCMN'), ('ที่', 'PREL'), ('สร้าง', 'VACT'), ('ได้', 'XVAE')])]),\n",
       " Tree('S', [Tree('NP', [('และ', 'NCMN')]), Tree('VP', [('เปลี่ยน', 'VACT'), ('เป็น', 'VSTA'), ('ข้อมูล', 'NCMN'), ('แบบ', 'NCMN'), ('<space>', 'PUNC'), ('parallel', 'NCMN'), ('<space>', 'PUNC'), ('ก่อนที่จะ', 'JSBR'), ('ส่ง', 'VACT'), ('ให้แก่', 'RPRE'), ('<space>', 'PUNC'), ('80386SX', 'NCMN'), ('<space>', 'PUNC'), ('ต่อไป', 'DDAC')])]),\n",
       " Tree('S', [Tree('NP', [('แบบ', 'NCMN'), ('โครงสร้าง', 'NCMN'), ('นี้', 'DDAC')]), Tree('VP', [('จะ', 'XVBM'), ('แสดง', 'VACT')])]),\n",
       " Tree('S', [Tree('NP', [('ใช้', 'NCMN'), ('<space>', 'PUNC'), ('80386', 'NCMN'), ('SX', 'NCMN')]), ('<space>', 'PUNC'), Tree('VP', [('เป็น', 'VSTA'), ('<space>', 'PUNC'), ('CPU', 'NCMN'), ('<space>', 'FIXN'), ('ทำงาน', 'VACT'), ('ที่', 'RPRE'), ('ความ', 'FIXN'), ('เร็ว', 'VATT'), ('<space>', 'PUNC'), ('16', 'DCNM'), ('<space>', 'PUNC'), ('Mhz.', 'CMTR')])]),\n",
       " Tree('S', [Tree('PP', [('เมื่อ', 'RPRE'), ('ป้อน', 'VACT'), ('ข้อมูล', 'NCMN'), ('สูตร', 'NCMN')]), Tree('S', [('อาหารสัตว์', 'NCMN'), ('จน', 'JSBR'), ('ครบ', 'VSTA'), ('<space>', 'NCMN'), ('และ', 'JCRG'), ('ไม่', 'NEG'), ('ต้องการ', 'VSTA'), ('แก้ไข', 'VACT'), ('แล้ว', 'ADVN')])]),\n",
       " Tree('S', [Tree('NP', [('EX.', 'NCMN'), ('<space>', 'PUNC'), ('มดแดง', 'NCMN')]), Tree('VP', [('กรู', 'VACT'), ('จาก', 'RPRE'), ('รัง', 'NCMN')])]),\n",
       " Tree('S', [Tree('NP', [('6', 'NCNM'), ('<right_parenthesis>', 'PUNC'), ('<space>', 'NCMN'), ('อุปกรณ์', 'NCMN'), ('<space>', 'FIXN'), ('รับ', 'VACT')]), ('<slash>', 'PUNC'), Tree('VP', [('ส่ง', 'VACT'), ('<space>', 'NCMN'), ('ข้อมูล', 'NCMN'), ('แบบ', 'NCMN'), ('อนุกรม', 'NCMN'), ('<space>', 'PUNC'), ('<left_parenthesis>', 'PUNC'), ('Serial', 'NCMN'), ('interface', 'NCMN'), ('<right_parenthesis>', 'PUNC'), ('<space>', 'PUNC'), ('ทำหน้าที่', 'VACT'), ('แปลง', 'VACT'), ('รหัส', 'NCMN'), ('ข้อมูล', 'NCMN'), ('ที่', 'PREL'), ('อยู่', 'VSTA'), ('ใน', 'RPRE'), ('รูปแบบ', 'NCMN'), ('ขนาน', 'VATT'), ('ให้', 'JSBR'), ('เป็น', 'VSTA'), ('แบบ', 'NCMN'), ('อนุกรม', 'NCMN')])]),\n",
       " Tree('S', [Tree('NP', [('รัฐบาล', 'NCMN')]), Tree('VP', [('แถลง', 'VACT'), ('นโยบาย', 'NCMN'), ('วันนี้', 'NCMN')])]),\n",
       " Tree('S', [Tree('NP', [('เครื่อง', 'NCMN'), ('จะ', 'XVBM'), ('ทำ', 'VACT'), ('การ', 'FIXN'), ('ลด', 'VACT'), ('จำนวน', 'NCMN'), ('<space>', 'PUNC'), ('Balance', 'NCMN'), ('Batch', 'NCMN')]), ('<space>', 'PUNC'), Tree('VP', [('ลง', 'VACT'), ('โดย', 'FIXV'), ('อัตโนมัติ', 'VATT')])]),\n",
       " Tree('S', [('เพราะ', 'JSBR'), Tree('NP', [('อุปกรณ์สนับสนุน', 'NCMN'), ('ที่', 'PREL'), ('สามารถ', 'XVAM'), ('ทำงาน', 'VACT'), ('ได้', 'XVAE'), ('เช่นเดียวกัน', 'ADVN'), ('<space>', 'PUNC'), ('ของ', 'RPRE'), ('ตระกูล', 'NCMN'), ('ของ', 'RPRE'), ('<space>', 'PUNC'), ('MC68000', 'NCMN')]), ('<space>', 'PUNC'), Tree('VP', [('คือ', 'VSTA'), ('ไอซี', 'NCMN'), ('เบอร์', 'NCMN'), ('<space>', 'PUNC'), ('MC68681', 'NCMN'), ('<space>', 'PUNC'), ('ซึ่ง', 'JSBR'), ('จะ', 'XVBM'), ('มี', 'VSTA'), ('ราคา', 'NCMN'), ('สูง', 'VATT'), ('มาก', 'ADVN'), ('<space>', 'PUNC'), ('และ', 'RPRE'), ('หา', 'VACT'), ('ซื้อ', 'VACT'), ('ได้', 'XVAE'), ('ยาก', 'ADVN'), ('ใน', 'RPRE'), ('ตลาด', 'NCMN'), ('ภายใน', 'RPRE'), ('ประเทศ', 'NCMN')])]),\n",
       " Tree('S', [Tree('NP', [('และ', 'NCMN')]), Tree('VP', [('ได้', 'VSTA'), ('ผล', 'NCMN'), ('การ', 'FIXN'), ('ทดลอง', 'VACT'), ('ดังนี้', 'ADVN')])]),\n",
       " Tree('S', [Tree('NP', [('ลักษณะ', 'NCMN'), ('สมบัติ', 'NCMN'), ('แรงบิด', 'NCMN'), ('กับ', 'RPRE'), ('ความ', 'FIXN'), ('เร็ว', 'VATT'), ('ของ', 'RPRE'), ('มอเตอร์เหนี่ยวนำ', 'NCMN')]), ('<space>', 'PUNC'), Tree('VP', [('จะ', 'XVBM'), ('ถูก', 'XVAM'), ('ควบคุม', 'VACT'), ('ให้', 'JSBR'), ('ทำงาน', 'VACT'), ('ในช่วง', 'RPRE'), ('ความ', 'FIXN'), ('ถี่', 'VSTA'), ('กว้างๆ', 'VATT'), ('<space>', 'PUNC'), ('ได้', 'VSTA'), ('เช่นเดียวกับ', 'RPRE'), ('มอเตอร์', 'NCMN'), ('กระแสตรง', 'NCMN')])]),\n",
       " Tree('S', [Tree('NP', [('ขณะนี้', 'NCMN'), ('ไม่', 'NEG'), ('เหมาะสม', 'VATT')]), ('ที่จะ', 'JSBR'), Tree('VP', [('ใช้', 'VACT'), ('กับ', 'RPRE'), ('กรณี', 'NCMN'), ('ของ', 'RPRE'), ('วงจรรวม', 'NCMN')])]),\n",
       " Tree('S', [Tree('NP', [('และ', 'NCMN')]), ('ถ้า', 'JSBR'), Tree('VP', [('เป็นไปได้', 'VSTA'), ('คณะวิจัย', 'NCMN'), ('อยาก', 'XVAM'), ('ที่จะ', 'JSBR'), ('พัฒนา', 'VACT'), ('ใน', 'RPRE'), ('ส่วน', 'NCMN'), ('ของ', 'RPRE'), ('<space>', 'PUNC'), ('Design', 'NCMN'), ('Rule', 'NCMN'), ('Check', 'NCMN')])]),\n",
       " Tree('S', [Tree('NP', [('3', 'NCMN'), ('<full_stop>', 'NCMN'), ('<space>', 'PUNC'), ('การ', 'FIXN'), ('พิจารณา', 'VACT'), ('<space>', 'PUNC'), ('part', 'NCMN'), ('of', 'NCMN'), ('speech', 'NCMN'), ('<space>', 'PUNC'), ('จาก', 'RPRE'), ('<space>', 'PUNC'), ('ลักษณะ', 'NCMN'), ('ของ', 'RPRE'), ('<space>', 'PUNC'), ('morphological', 'NCMN')]), ('<space>', 'PUNC'), Tree('VP', [('เช่น', 'VSTA'), ('<space>', 'PUNC'), ('กริยา', 'NCMN'), ('<space>', 'PUNC'), ('คุณศัพท์', 'NCMN')])]),\n",
       " Tree('S', [Tree('NP', [('7', 'NCNM')]), Tree('VP', [('<full_stop>', 'VACT'), ('<space>', 'NCMN'), ('Serial', 'NCMN'), ('Verb', 'NCMN'), ('Constructions', 'NCMN'), ('in', 'NCMN'), ('Thai', 'NCMN'), ('<space>', 'PUNC'), ('โดย', 'RPRE'), ('<space>', 'PUNC'), ('Kingkarn', 'NPRP'), ('Thepkanjana', 'NPRP'), ('<space>', 'PUNC'), ('พ.ศ.', 'NCMN'), ('<space>', 'PUNC'), ('2529', 'NCNM')])]),\n",
       " Tree('S', [('โดย', 'JSBR'), Tree('NP', [('บน', 'NCMN'), ('<space>', 'PUNC'), ('mainboard', 'NCMN'), ('<space>', 'FIXN'), ('จะ', 'XVBM'), ('มี', 'VSTA'), ('<space>', 'PUNC'), ('logic', 'NCMN'), ('<space>', 'PUNC'), ('เพื่อ', 'JSBR'), ('เปลี่ยน', 'VACT'), ('การ', 'FIXN'), ('อ่าน', 'VACT')]), ('<slash>', 'PUNC'), Tree('VP', [('เขียน', 'VACT'), ('<space>', 'NCMN'), ('จาก', 'RPRE'), ('แบบ', 'NCMN'), ('<space>', 'PUNC'), ('16', 'DCNM'), ('<space>', 'PUNC'), ('บิท', 'CMTR'), ('<space>', 'PUNC'), ('ให้', 'JSBR'), ('เป็น', 'VSTA'), ('<space>', 'PUNC'), ('2', 'NCNM'), ('<space>', 'PUNC'), ('cycle', 'NCMN')])]),\n",
       " Tree('S', [Tree('NP', [('และ', 'NCMN')]), Tree('VP', [('สามารถ', 'XVAM'), ('ทำ', 'VACT'), ('การ', 'FIXN'), ('แก้ไข', 'VACT'), ('โปรแกรม', 'NCMN'), ('ตาม', 'RPRE'), ('ต้องการ', 'VSTA'), ('<space>', 'PUNC'), ('เช่น', 'JSBR'), ('<space>', 'PUNC'), ('การ', 'FIXN'), ('แก้ไข', 'VACT'), ('คำสั่ง', 'NCMN'), ('หรือ', 'JCRG'), ('เบอร์', 'NCMN'), ('<space>', 'PUNC'), ('โอเปอแรนด์', 'NCMN'), ('<space>', 'PUNC'), ('<left_parenthesis>', 'PUNC'), ('Operand', 'NCMN'), ('<right_parenthesis>', 'PUNC'), ('<space>', 'PUNC'), ('ใน', 'RPRE'), ('แต่ละ', 'DIBQ'), ('ขั้นโปรแกรม', 'NCMN'), ('<space>', 'PUNC'), ('<left_parenthesis>', 'PUNC'), ('Step', 'NCMN'), ('<right_parenthesis>', 'PUNC'), ('<space>', 'PUNC'), ('การ', 'FIXN'), ('ทำงาน', 'VACT'), ('<space>', 'PUNC'), ('การ', 'FIXN'), ('ลบ', 'VACT'), ('คำสั่ง', 'NCMN'), ('และ', 'JCRG'), ('การ', 'FIXN'), ('สอดแทรก', 'VACT'), ('คำสั่ง', 'NCMN'), ('<space>', 'PUNC'), ('เป็นต้น', 'PDMN')])]),\n",
       " Tree('S', [('โดย', 'JSBR'), Tree('NP', [('ไอซี', 'NCMN'), ('ตระกูล', 'NCMN'), ('<space>', 'PUNC'), ('80xxx', 'NCMN')]), ('<space>', 'PUNC'), Tree('VP', [('ถูก', 'XVAM'), ('เลือก', 'VACT'), ('ใช้', 'VACT'), ('เป็น', 'VSTA'), ('ตัวควบคุม', 'NCMN'), ('การ', 'FIXN'), ('ทำงาน', 'VACT'), ('ของ', 'RPRE'), ('ระบบ', 'NCMN'), ('ไมโครคอมพิวเตอร์', 'NCMN'), ('<space>', 'PUNC'), ('ของ', 'RPRE'), ('บริษัท', 'NPRP'), ('IBM', 'NPRP')])]),\n",
       " Tree('S', [Tree('PP', [('โดย', 'RPRE'), ('หมุน', 'VACT')]), Tree('S', [('ครั้ง', 'NCMN'), ('ละ', 'VACT'), ('<space>', 'NCMN'), ('1', 'DCNM'), ('<space>', 'PUNC'), ('องศา', 'CMTR'), ('<space>', 'PUNC'), ('ดัง', 'RPRE'), ('รูป', 'NCMN'), ('ที่', 'DONM'), ('1', 'DONM')])]),\n",
       " Tree('S', [Tree('NP', [('ส่วน', 'NCMN'), ('ทาง', 'RPRE'), ('ซอฟท์แวร์', 'NCMN'), ('<space>', 'PUNC'), ('ซีพียู', 'NCMN')]), Tree('VP', [('จะ', 'XVBM'), ('ทำ', 'VACT'), ('การ', 'FIXN'), ('ตรวจสอบ', 'VACT'), ('แบบฟอร์ม', 'NCMN'), ('ของ', 'RPRE'), ('คำสั่ง', 'NCMN'), ('ใน', 'RPRE'), ('โปรแกรมขั้นบันได', 'NCMN'), ('ของ', 'RPRE'), ('ผู้ใช้', 'NCMN'), ('<space>', 'PUNC'), ('ที่', 'JSBR'), ('เก็บ', 'VACT'), ('ไว้', 'XVAE'), ('ใน', 'RPRE'), ('หน่วยความจำ', 'NCMN')])]),\n",
       " Tree('S', [Tree('NP', [('วิธี', 'NCMN'), ('นี้', 'DDAC')]), Tree('VP', [('จะ', 'XVBM'), ('ให้', 'VACT'), ('ความ', 'FIXN'), ('เร็ว', 'VATT'), ('ใน', 'RPRE'), ('การ', 'FIXN'), ('ประมวลผล', 'VACT'), ('ดี', 'ADVN'), ('ที่สุด', 'ADVN')])]),\n",
       " Tree('S', [Tree('NP', [('3', 'NCNM')]), Tree('VP', [('<full_stop>', 'VACT'), ('<space>', 'PUNC'), ('หลัก', 'ADVN'), ('การ', 'FIXN'), ('ทำงาน', 'VACT'), ('และ', 'JCRG'), ('โครงสร้าง', 'NCMN'), ('ภายใน', 'VATT'), ('ของ', 'RPRE'), ('<space>', 'PUNC'), ('Data', 'NCMN'), ('Logger', 'NCMN')])]),\n",
       " Tree('S', [Tree('NP', [('ทาง', 'NCMN'), ('ด้าน', 'NCMN')]), Tree('VP', [('รับ', 'VACT'), ('รังสีเอ็กซ์', 'NCMN')])]),\n",
       " Tree('S', [Tree('NP', [('วรรณยุกต์', 'NCMN'), ('<space>', 'PUNC'), ('พยัญชนะ', 'NCMN'), ('และ', 'JCRG'), ('สระ', 'NCMN'), ('ล่าง', 'VATT'), ('พร้อมกัน', 'ADVN')]), Tree('VP', [('ใน', 'VATT'), ('ทีเดียว', 'ADVN')])]),\n",
       " Tree('S', [Tree('S', [('<minus>', 'DCNM'), ('<space>', 'PUNC'), ('ขั้นตอน', 'CNIT'), ('ที่', 'PREL'), ('1', 'NCNM'), ('<space>', 'PUNC'), ('เป็น', 'VSTA'), ('การ', 'FIXN'), ('ออกแบบ', 'VACT'), ('หน้าที่', 'NCMN'), ('รวม', 'VATT'), ('ทั้งหมด', 'ADVN')]), ('ว่า', 'JSBR'), Tree('S', [('วงจรรวม', 'NCMN'), ('นี้', 'DDAC'), ('ต้องการ', 'VACT'), ('ให้', 'JSBR'), ('ทำหน้าที่', 'VACT'), ('อะไร', 'NCMN')])]),\n",
       " Tree('S', [Tree('NP', [('ความ', 'FIXN'), ('สัมพันธ์', 'VSTA'), ('นั้น', 'DDAC')]), Tree('VP', [('อาจ', 'XVMM'), ('เป็น', 'VSTA'), ('ความ', 'FIXN'), ('สัมพันธ์', 'VSTA'), ('แบบ', 'NCMN'), ('<space>', 'PUNC'), ('case', 'NCMN'), ('<space>', 'NCMN'), ('หรือ', 'JCRG'), ('การก', 'NCMN'), ('<space>', 'PUNC'), ('เช่น', 'JSBR'), ('<space>', 'PUNC'), ('agent', 'NCMN'), ('<space>', 'NCMN'), ('หรือ', 'JCRG'), ('ผู้กระทำ', 'NCMN'), ('<space>', 'PUNC'), ('object', 'NCMN'), ('<space>', 'NCMN'), ('หรือ', 'JCRG'), ('ผู้ถูกกระทำ', 'NCMN'), ('<space>', 'PUNC'), ('เป็นต้น', 'PDMN')])]),\n",
       " Tree('S', [('แล้ว', 'JSBR'), Tree('NP', [('จะ', 'NCMN'), ('แสดงผล', 'VACT'), ('แบบ', 'NCMN'), ('ดอทแมทริกซ์', 'NCMN'), ('<space>', 'PUNC'), ('<left_parenthesis>', 'PUNC'), ('dot', 'NCMN'), ('matrix', 'NCMN'), ('display', 'NCMN'), ('<right_parenthesis>', 'PUNC'), ('<space>', 'PUNC'), ('ขนาด', 'NCMN'), ('<space>', 'PUNC'), ('5', 'NCNM'), ('x', 'PUNC'), ('6', 'NCNM')]), ('<space>', 'PUNC'), Tree('VP', [('จุด', 'VACT'), ('<space>', 'NCMN'), ('จำนวน', 'NCMN'), ('<space>', 'PUNC'), ('1', 'DCNM'), ('<space>', 'PUNC'), ('บรรทัด', 'CMTR'), ('<space>', 'PUNC'), ('จำนวน', 'NCMN'), ('อักษร', 'NCMN'), ('<space>', 'PUNC'), ('20', 'DCNM'), ('<space>', 'PUNC'), ('ตัวอักษร', 'CNIT')])]),\n",
       " Tree('S', [Tree('NP', [('จะ', 'NCMN')]), Tree('VP', [('มี', 'VSTA'), ('ทั้ง', 'DDBQ'), ('ส่วน', 'CNIT'), ('เอ็น', 'DCNM'), ('ที่', 'PREL'), ('ใช้', 'VACT'), ('เป็น', 'VSTA'), ('ส่วน', 'NCMN'), ('เครน', 'NCMN'), ('จริงๆ', 'VATT'), ('<space>', 'PUNC'), ('หนา', 'NCMN'), ('ประมาณ', 'DIBQ'), ('<space>', 'PUNC'), ('10', 'NCMN'), ('<minus>', 'PUNC'), ('30', 'DCNM'), ('<space>', 'PUNC'), ('ไมครอน', 'CMTR'), ('<space>', 'PUNC'), ('และ', 'NCMN'), ('ส่วน', 'NCMN'), ('เอ็น', 'NCMN'), ('ที่', 'PREL'), ('มี', 'VSTA'), ('ความ', 'FIXN'), ('เข้มข้น', 'VSTA'), ('สารเจือ', 'NCMN'), ('สูงๆ', 'VATT'), ('<space>', 'NCMN'), ('<left_parenthesis>', 'PUNC'), ('จะ', 'JSBR'), ('เรียก', 'VACT'), ('เป็น', 'VSTA'), ('ส่วน', 'NCMN'), ('<space>', 'PUNC'), ('n+', 'NCMN'), ('<right_parenthesis>', 'PUNC'), ('<space>', 'FIXN'), ('หนา', 'VATT'), ('ประมาณ', 'ADVN'), ('<space>', 'PUNC'), ('300', 'NCNM'), ('<minus>', 'PUNC'), ('400', 'DCNM'), ('<space>', 'PUNC'), ('ไมครอน', 'CMTR')])]),\n",
       " Tree('S', [Tree('PP', [('จาก', 'RPRE'), ('หนึ่ง', 'NCMN')]), Tree('S', [('โนด', 'NCMN'), ('<space>', 'PUNC'), ('CP', 'NCMN'), ('<space>', 'PUNC'), ('สามารถ', 'XVAM'), ('แตก', 'VACT'), ('ไป', 'XVAE'), ('ได้', 'VSTA'), ('หลาย', 'DIBQ'), ('กิ่ง', 'NCMN'), ('ตาม', 'RPRE'), ('โครงสร้าง', 'NCMN'), ('ของ', 'RPRE'), ('ประโยค', 'NCMN')])]),\n",
       " Tree('S', [Tree('NP', [('5', 'NCNM'), ('<full_stop>', 'PUNC'), ('<space>', 'FIXN'), ('สรุป', 'VACT')]), Tree('VP', [('วิจารณ์', 'VACT'), ('และ', 'JCRG'), ('ข้อเสนอแนะ', 'NCMN')])]),\n",
       " Tree('S', [Tree('PP', [('โดย', 'RPRE'), ('ดึง', 'VACT')]), Tree('S', [('บิทแอตคริบิ้ว', 'NCMN'), ('ใน', 'RPRE'), ('ส่วน', 'NCMN'), ('ของ', 'RPRE'), ('ฮาร์ดแวร์', 'NCMN'), ('มา', 'XVAE'), ('ถอดรหัส', 'VACT'), ('ร่วมกัน', 'ADVN')])]),\n",
       " Tree('S', [Tree('NP', [('NCNM', 'NCMN')]), ('<space>', 'PUNC'), Tree('VP', [('คือ', 'VSTA'), ('<space>', 'PUNC'), ('คำนาม', 'NCMN'), ('บอก', 'VACT'), ('ตัวเลข', 'NCMN'), ('<space>', 'PUNC'), ('เช่น', 'RPRE'), ('<space>', 'PUNC'), ('หนึ่ง', 'NCMN'), ('<space>', 'NCMN'), ('สอง', 'DONM'), ('<space>', 'PUNC'), ('ร้อย', 'NCMN'), ('<space>', 'PUNC'), ('ครึ่ง', 'NCMN')])]),\n",
       " Tree('S', [Tree('PP', [('เพื่อ', 'RPRE'), ('แยก', 'VACT'), ('เอา', 'XVAE'), ('เฉพาะ', 'RPRE'), ('ระดับ', 'NCMN')]), Tree('S', [('สัญญาณซิงก์', 'NCMN'), ('ออกมา', 'VACT')])]),\n",
       " Tree('S', [Tree('NP', [('การ', 'FIXN'), ('เก็บ', 'VACT'), ('คำสั่ง', 'NCMN'), ('<space>', 'PUNC'), ('และ', 'RPRE'), ('<space>', 'PUNC'), ('OPERAND', 'NCMN'), ('<space>', 'PUNC'), ('ด้วย', 'RPRE'), ('วิธี', 'NCMN'), ('นี้', 'DDAC')]), ('<space>', 'PUNC'), Tree('VP', [('จะ', 'XVBM'), ('เก็บ', 'VSTA'), ('<space>', 'PUNC'), ('ACTION', 'NCMN'), ('ROUTINE', 'NCMN'), ('<space>', 'PUNC'), ('ของ', 'RPRE'), ('แต่ละ', 'DIBQ'), ('ขั้นโปรแกรม', 'CNIT'), ('ใน', 'RPRE'), ('โปรแกรมผู้ใช้', 'NCMN')])]),\n",
       " Tree('S', [Tree('NP', [('นักวิจัย', 'NCMN')]), Tree('VP', [('ต้อง', 'XVMM'), ('ดัดแปลง', 'VACT'), ('และ', 'JCRG'), ('ปรับปรุง', 'VACT'), ('ข้อมูล', 'NCMN'), ('การ', 'FIXN'), ('วิเคราะห์', 'VACT'), ('ภาษาไทย', 'NCMN'), ('ที่', 'PREL'), ('มี', 'VSTA'), ('อยู่', 'XVAE'), ('ให้', 'RPRE'), ('สอดคล้อง', 'VSTA')])]),\n",
       " Tree('S', [Tree('NP', [('รูป', 'NCMN'), ('ที่', 'DONM'), ('9', 'DONM'), ('<space>', 'PUNC'), ('หลอดน้ำ', 'NCMN'), ('และ', 'JCRG'), ('กระดูกหมู', 'NCMN'), ('ที่', 'PREL'), ('นำ', 'VACT')]), Tree('VP', [('มา', 'XVAE'), ('ทดลอง', 'VACT')])]),\n",
       " Tree('S', [Tree('NP', [('รูป', 'NCMN'), ('ที่', 'DONM'), ('4.6', 'DONM')]), ('<space>', 'PUNC'), Tree('VP', [('แสดง', 'VACT'), ('การ', 'FIXN'), ('แปล', 'VACT'), ('คำสั่ง', 'NCMN'), ('ด้วย', 'RPRE'), ('วิธี', 'NCMN'), ('<space>', 'PUNC'), ('CALL', 'NCMN')])]),\n",
       " Tree('S', [Tree('NP', [('เรา', 'PPRS')]), Tree('VP', [('สามารถ', 'XVAM'), ('ใช้', 'VACT'), ('เทคโนโลยี', 'NCMN'), ('<space>', 'PUNC'), ('LSI', 'NCMN'), ('<space>', 'PUNC'), ('<left_parenthesis>', 'PUNC'), ('Large', 'NCMN'), ('Scale', 'NCMN'), ('Integration', 'NCMN'), ('<right_parenthesis>', 'PUNC'), ('<space>', 'PUNC'), ('ใน', 'RPRE'), ('การ', 'FIXN'), ('รวม', 'VACT'), ('วงจรอิเล็กทรอนิกส์', 'NCMN'), ('ขนาด', 'NCMN'), ('ใหญ่', 'VATT'), ('เข้าด้วยกัน', 'ADVN'), ('เป็น', 'RPRE'), ('<space>', 'PUNC'), ('application', 'NCMN'), ('specific', 'NCMN'), ('integrated', 'NCMN'), ('circuit', 'NCMN'), ('<space>', 'PUNC'), ('ตัว', 'CNIT'), ('เดียว', 'DONM'), ('<space>', 'PUNC'), ('ซึ่ง', 'JSBR'), ('ตรง', 'VSTA'), ('กับ', 'RPRE'), ('ความ', 'FIXN'), ('ต้องการ', 'VACT'), ('ข้างต้น', 'ADVN'), ('<space>', 'PUNC'), ('1', 'NCNM')])]),\n",
       " Tree('S', [Tree('NP', [('บิท', 'NCMN'), ('ที่', 'PREL'), ('เป็น', 'VSTA'), ('<space>', 'PUNC'), ('0', 'NCNM')]), ('<space>', 'PUNC'), Tree('VP', [('จะ', 'XVBM'), ('ให้', 'VACT'), ('สัญญาณ', 'NCMN'), ('มืด', 'VATT')])]),\n",
       " Tree('S', [Tree('PP', [('จาก', 'RPRE'), ('ลักษณะ', 'NCMN')]), Tree('S', [('คุณสมบัติ', 'NCMN'), ('ความ', 'FIXN'), ('สัมพันธ์', 'VSTA'), ('ของ', 'RPRE'), ('กระแส', 'NCMN'), ('เครน', 'NCMN'), ('<space>', 'PUNC'), ('และ', 'RPRE'), ('แรงดัน', 'NCMN'), ('เครน', 'NCMN'), ('ของ', 'RPRE'), ('ดีมอส', 'NCMN'), ('ที่', 'PREL'), ('แรงดัน', 'NCMN'), ('เกท', 'NCMN'), ('ค่า', 'NCMN'), ('ต่างๆ', 'DIAC'), ('<space>', 'PUNC'), ('ดัง', 'JSBR'), ('แสดง', 'VACT'), ('ในรูป', 'NCMN'), ('ที่', 'DONM'), ('4', 'DONM')])]),\n",
       " Tree('S', [Tree('NP', [('09.30', 'NCNM'), ('<minus>', 'PUNC'), ('10.00', 'NCNM'), ('<space>', 'PUNC'), ('ผู้อำนวยการ', 'NCMN'), ('ศูนย์ฯ', 'NCMN'), ('<space>', 'PUNC'), ('ประธาน', 'NCMN'), ('และ', 'JCRG'), ('รองประธาน', 'NCMN'), ('โครงการ', 'NCMN'), ('หลัก', 'VATT'), ('<space>', 'PUNC'), ('พบ', 'VACT'), ('และ', 'JCRG'), ('แถลงข่าว', 'VACT')]), Tree('VP', [('ร่วมกับ', 'VACT'), ('นักข่าว', 'NCMN')])]),\n",
       " Tree('S', [('จาก', 'JSBR'), Tree('NP', [('ความ', 'FIXN'), ('สัมพันธ์', 'VSTA'), ('ตาม', 'RPRE'), ('สมการ', 'NCMN'), ('ที่', 'DONM'), ('1', 'DONM'), ('<space>', 'PUNC'), ('และ', 'RPRE'), ('<space>', 'PUNC'), ('2', 'NCNM')]), ('<space>', 'PUNC'), Tree('VP', [('จะ', 'XVBM'), ('ทำให้', 'VACT'), ('สามารถ', 'XVAM'), ('หา', 'VACT'), ('ความ', 'FIXN'), ('ถี่', 'VATT'), ('ของ', 'RPRE'), ('ตัวโน๊ต', 'NCMN'), ('แต่ละ', 'DIBQ'), ('ตัว', 'CNIT'), ('ใน', 'RPRE'), ('แต่ละ', 'DIBQ'), ('ช่วงเสียง', 'CNIT'), ('ที่', 'PREL'), ('ต้องการ', 'VSTA'), ('ได้', 'XVAE')])]),\n",
       " Tree('S', [Tree('NP', [('4', 'NCNM'), ('<right_parenthesis>', 'PUNC'), ('<space>', 'NCMN'), ('การ', 'FIXN'), ('ติดต่อ', 'VACT'), ('กับ', 'RPRE'), ('อุปกรณ์', 'NCMN'), ('<space>', 'PUNC'), ('I', 'NCMN')]), ('<space>', 'PUNC'), Tree('VP', [('จะ', 'XVBM'), ('อาศัย', 'VSTA'), ('หลัก', 'NCMN'), ('การ', 'FIXN'), ('ติดต่อ', 'VACT'), ('แบบ', 'NCMN'), ('ใช้', 'VACT'), ('ตำแหน่ง', 'NCMN'), ('ร่วม', 'ADVN'), ('กับ', 'RPRE'), ('ตำแหน่ง', 'NCMN'), ('ของ', 'RPRE'), ('หน่วยความจำ', 'NCMN')])]),\n",
       " Tree('S', [Tree('NP', [('4', 'NCMN'), ('<full_stop>', 'NCMN')]), ('<space>', 'PUNC'), Tree('VP', [('ผล', 'VACT'), ('การ', 'FIXN'), ('ทดลอง', 'VACT')])]),\n",
       " Tree('S', [Tree('NP', [('งานวิจัย', 'NCMN'), ('ทาง', 'RPRE'), ('ด้าน', 'NCMN'), ('นี้', 'DDAC')]), Tree('VP', [('เชื่อ', 'VSTA'), ('ว่า', 'RPRE'), ('<space>', 'PUNC'), ('ความ', 'FIXN'), ('รู้', 'VSTA'), ('ความ', 'FIXN'), ('เข้าใจ', 'VSTA'), ('ภาษา', 'NCMN'), ('แต่ละ', 'DIBQ'), ('ภาษา', 'NCMN'), ('จะ', 'XVBM'), ('เกิดขึ้น', 'VSTA'), ('ได้', 'XVAM'), ('ถ้า', 'JSBR'), ('เข้าใจ', 'VSTA'), ('การ', 'FIXN'), ('แสดงออก', 'VACT'), ('<space>', 'NCMN'), ('<left_parenthesis>', 'PUNC'), ('language', 'NCMN'), ('behavior', 'NCMN'), ('<right_parenthesis>', 'PUNC'), ('<space>', 'NCMN'), ('ของ', 'RPRE'), ('คำศัพท์', 'NCMN'), ('ใน', 'RPRE'), ('ภาษา', 'NCMN'), ('นั้น', 'DDAC')])]),\n",
       " Tree('S', [Tree('NP', [('ขั้นตอน', 'NCMN'), ('การ', 'FIXN'), ('แปล', 'VACT'), ('โดย', 'FIXV'), ('ตรง', 'VATT'), ('อย่าง', 'FIXV'), ('น้อย', 'ADVN')]), Tree('VP', [('ต้อง', 'XVMM'), ('ประกอบ', 'VSTA'), ('ด้วย', 'ADVN')])]),\n",
       " Tree('S', [Tree('NP', [('ไม่', 'NCMN')]), Tree('VP', [('ทำงาน', 'VACT')])]),\n",
       " Tree('S', [Tree('NP', [('โครงการวิจัย', 'NCMN'), ('ร่วม', 'VACT'), ('ระหว่าง', 'RPRE'), ('<space>', 'PUNC'), ('NECTEC', 'NPRP'), ('<space>', 'PUNC'), ('กับ', 'JSBR'), ('<space>', 'PUNC'), ('CICC', 'NPRP'), ('<space>', 'PUNC'), ('นี้', 'PDMN')]), Tree('VP', [('เป็น', 'VSTA'), ('การ', 'FIXN'), ('วิจัย', 'VACT'), ('และ', 'JCRG'), ('พัฒนา', 'VACT'), ('ที่', 'PREL'), ('ได้รับ', 'VSTA'), ('การ', 'FIXN'), ('เฝ้ามอง', 'VACT'), ('จาก', 'RPRE'), ('นักวิจัย', 'NCMN'), ('หลาย', 'DIBQ'), ('ฝ่าย', 'CLTV')])]),\n",
       " Tree('S', [Tree('NP', [('สัญญาณ', 'NCMN'), ('ทาง', 'NCMN'), ('เวลา', 'NCMN'), ('ทั้งหมด', 'FIXN'), ('กำเนิด', 'VSTA'), ('มา', 'XVAE'), ('จาก', 'RPRE'), ('วงจรออสซิลเลเตอร์', 'NCMN'), ('<space>', 'PUNC'), ('24', 'DCNM'), ('<space>', 'PUNC'), ('MHZ', 'CMTR'), ('<space>', 'PUNC'), ('ซึ่ง', 'JSBR'), ('ถูก', 'XVAM'), ('นำ', 'VACT'), ('มา', 'XVAE'), ('หาร', 'VACT'), ('ความ', 'FIXN'), ('ถี่', 'VATT')]), Tree('VP', [('ลง', 'VACT'), ('ตาม', 'RPRE'), ('ต้องการ', 'VSTA')])]),\n",
       " Tree('S', [Tree('PP', [('ใน', 'RPRE'), ('แต่ละ', 'DIBQ'), ('ด้าน', 'CNIT'), ('ที่', 'PREL'), ('นำไปใช้', 'VACT'), ('นั้น', 'DDAC'), ('<space>', 'PUNC'), ('เครื่องคอมพิวเตอร์', 'NCMN'), ('จะ', 'XVBM'), ('มี', 'VSTA'), ('ความ', 'FIXN'), ('แตกต่าง', 'VSTA'), ('ทาง', 'NCMN')]), Tree('S', [('ด้าน', 'NCMN'), ('ความ', 'FIXN'), ('สามารถ', 'XVAM'), ('<space>', 'PUNC'), ('เพื่อให้', 'JSBR'), ('เหมาะสม', 'VSTA'), ('แก่', 'RPRE'), ('งาน', 'NCMN'), ('นั้นๆ', 'DDAC'), ('<space>', 'PUNC'), ('เช่น', 'RPRE'), ('<space>', 'PUNC'), ('เครื่อง', 'NCMN'), ('ที่', 'PREL'), ('ใช้', 'VACT'), ('ใน', 'RPRE'), ('งานวิจัย', 'NCMN'), ('จำเป็นจะต้อง', 'XVMM'), ('ทำงาน', 'VACT'), ('ด้วย', 'RPRE'), ('ความ', 'FIXN'), ('เร็ว', 'VATT'), ('สูง', 'ADVN'), ('<space>', 'PUNC'), ('มี', 'VSTA'), ('ความ', 'FIXN'), ('สามารถ', 'XVAM'), ('แสดง', 'VACT'), ('ผล', 'NCMN'), ('ทาง', 'RPRE'), ('จอภาพ', 'NCMN'), ('ใน', 'RPRE'), ('แบบ', 'NCMN'), ('กราฟฟิก', 'NCMN'), ('ได้', 'XVAE'), ('ดี', 'ADVN')])]),\n",
       " Tree('S', [Tree('NP', [('เป็น', 'FIXN'), ('การ', 'NCMN')]), Tree('VP', [('เพิ่ม', 'VACT'), ('ขนาด', 'NCMN'), ('ของ', 'RPRE'), ('ฐานข้อมูล', 'NCMN')])]),\n",
       " Tree('S', [Tree('NP', [('ใช้', 'NCMN')]), ('สำหรับ', 'JSBR'), Tree('VP', [('ช่วย', 'VACT'), ('การ', 'FIXN'), ('เรียนรู้', 'VACT'), ('ถึง', 'RPRE'), ('การ', 'FIXN'), ('ออกแบบ', 'VACT'), ('วงจรรวม', 'NCMN')])]),\n",
       " Tree('S', [Tree('NP', [('ไมโครคอมพิวเตอร์', 'NCMN'), ('ชิพ', 'NCMN'), ('เดียว', 'DCNM'), ('เบอร์', 'CNIT'), ('<space>', 'PUNC'), ('8749', 'NCNM'), ('<space>', 'PUNC'), ('ของ', 'RPRE'), ('บริษัท', 'NPRP'), ('Intel', 'NPRP'), ('<space>', 'PUNC'), ('เป็น', 'RPRE'), ('ไมโครคอมพิวเตอร์', 'NCMN'), ('ชิพ', 'NCMN'), ('เดียว', 'DCNM'), ('<space>', 'PUNC'), ('ขนาด', 'CMTR'), ('<space>', 'PUNC'), ('8', 'DCNM'), ('<space>', 'PUNC'), ('บิท', 'CMTR'), ('<space>', 'PUNC'), ('รุ่น', 'NCMN')]), Tree('VP', [('บุกเบิก', 'VACT'), ('ของ', 'RPRE'), ('ตระกูล', 'NCMN'), ('เดียวกัน', 'DDAC')])]),\n",
       " Tree('S', [Tree('S', [('แนว', 'NCMN'), ('ทฤษฎี', 'NCMN'), ('ทาง', 'RPRE'), ('ภาษาศาสตร์', 'NCMN'), ('ที่', 'PREL'), ('ใช้', 'VACT'), ('ใน', 'RPRE'), ('การ', 'FIXN'), ('ออกแบบ', 'VACT'), ('ระบบ', 'NCMN'), ('<space>', 'PUNC'), ('คือ', 'VSTA'), ('<space>', 'PUNC'), ('ทฤษฎีพึ่งพิง', 'NCMN'), ('<space>', 'PUNC'), ('<left_parenthesis>', 'PUNC'), ('dependency', 'NCMN'), ('grammar', 'NCMN'), ('<right_parenthesis>', 'PUNC'), ('<space>', 'PUNC'), ('ซึ่ง', 'PREL'), ('จำแนก', 'VACT'), ('หน่วย', 'NCMN'), ('ภาษา', 'NCMN'), ('ที่', 'PREL'), ('รวม', 'VATT'), ('เข้าด้วยกัน', 'ADVN'), ('เป็น', 'VSTA'), ('โครงสร้าง', 'NCMN'), ('ระดับ', 'NCMN'), ('ต่างๆ', 'DIAC'), ('<space>', 'PUNC'), ('ใน', 'RPRE'), ('ภาษา', 'NCMN'), ('เป็น', 'VSTA'), ('<space>', 'PUNC'), ('4', 'DCNM'), ('<space>', 'PUNC'), ('ประเภท', 'CNIT'), ('<space>', 'PUNC'), ('คือ', 'VSTA'), ('<space>', 'PUNC'), ('หน่วยหลัก', 'NCMN'), ('<space>', 'PUNC'), ('<left_parenthesis>', 'PUNC'), ('Head', 'NCMN'), ('<right_parenthesis>', 'PUNC'), ('<space>', 'PUNC')]), ('และ', 'JCRG'), Tree('S', [('หน่วยพึ่งพิง', 'NCMN'), ('<space>', 'PUNC'), ('<left_parenthesis>', 'PUNC'), ('Depender', 'NCMN'), ('<right_parenthesis>', 'PUNC'), ('<space>', 'PUNC'), ('หน่วย', 'NCMN'), ('แสดง', 'VACT'), ('ประเภท', 'NCMN'), ('ความ', 'FIXN'), ('สัมพันธ์', 'NCMN'), ('<space>', 'PUNC'), ('<left_parenthesis>', 'PUNC'), ('Relators', 'NCMN'), ('<right_parenthesis>', 'PUNC'), ('<space>', 'PUNC'), ('และ', 'JCRG'), ('หน่วย', 'NCMN'), ('ขยายความ', 'VACT'), ('<space>', 'NCMN'), ('<left_parenthesis>', 'PUNC'), ('Attributes', 'NCMN'), ('<right_parenthesis>', 'PUNC'), ('<space>', 'NCMN'), ('ซึ่ง', 'JSBR'), ('เป็น', 'VSTA'), ('แนว', 'NCMN'), ('ทฤษฎี', 'NCMN'), ('ที่', 'PREL'), ('นิยม', 'VSTA'), ('ใช้', 'VACT'), ('กัน', 'ADVN'), ('มาก', 'ADVN'), ('ใน', 'RPRE'), ('การ', 'FIXN'), ('พัฒนา', 'VACT'), ('ระบบ', 'NCMN'), ('การ', 'FIXN'), ('แปล', 'VACT'), ('แบบ', 'NCMN'), ('อันตรภาษา', 'NCMN')])]),\n",
       " Tree('S', [Tree('NP', [('เรา', 'PPRS')]), Tree('VP', [('สามารถ', 'XVAM'), ('แสดง', 'VACT'), ('ตัวหนังสือ', 'NCMN'), ('ได้', 'VSTA'), ('ตาม', 'RPRE'), ('รูปแบบ', 'NCMN'), ('ใน', 'RPRE'), ('รูป', 'CNIT'), ('<space>', 'PUNC'), ('7', 'NCNM')])]),\n",
       " Tree('S', [Tree('NP', [('ระบบ', 'NCMN'), ('ใหม่', 'VATT')]), Tree('VP', [('จะ', 'XVBM'), ('มี', 'VSTA'), ('ลักษณะ', 'NCMN'), ('เป็น', 'FIXV'), ('ดังนี้', 'ADVN')])]),\n",
       " Tree('S', [Tree('NP', [('การ', 'FIXN'), ('ทำ', 'VACT'), ('รายงาน', 'NCMN'), ('ที่', 'PREL'), ('จำเป็น', 'VATT'), ('และ', 'JCRG'), ('การ', 'FIXN'), ('ตรวจสอบ', 'VACT'), ('ล่าช้า', 'ADVN'), ('<space>', 'PUNC'), ('จึง', 'JSBR'), ('ทำให้', 'VACT'), ('ระบบ', 'NCMN'), ('เป็นไป', 'VSTA'), ('อย่าง', 'FIXV'), ('เชื่องช้า', 'VATT')]), ('<space>', 'PUNC'), Tree('VP', [('มี', 'VSTA'), ('การ', 'FIXN'), ('ดำเนินการ', 'VACT'), ('ที่', 'PREL'), ('ซ้ำซ้อน', 'VATT')])]),\n",
       " Tree('S', [Tree('NP', [('2', 'NCMN'), ('<full_stop>', 'NCMN'), ('<space>', 'PUNC'), ('คณะ', 'NCMN'), ('กรรมการบริหาร', 'NCMN')]), ('<space>', 'PUNC'), Tree('VP', [('ประกอบ', 'VSTA'), ('ด้วย', 'RPRE'), ('กรรมการ', 'NCMN'), ('<space>', 'PUNC'), ('15', 'NCMN'), ('<space>', 'PUNC'), ('ท่าน', 'PPRS')])]),\n",
       " Tree('S', [Tree('NP', [('ซ้ายมือ', 'NCMN'), ('ของ', 'RPRE'), ('จอภาพ', 'NCMN')]), Tree('VP', [('ประกอบ', 'VSTA'), ('ไป', 'XVAE'), ('ด้วย', 'ADVN')])]),\n",
       " Tree('S', [Tree('NP', [('ทำ', 'NCMN'), ('การ', 'FIXN'), ('ลบ', 'VACT'), ('ข้อมูล', 'NCMN'), ('หรือ', 'JCRG'), ('ตั้ง', 'VACT'), ('ค่า', 'NCMN'), ('ข้อมูล', 'NCMN'), ('ใน', 'RPRE'), ('หน่วยความจำ', 'NCMN'), ('แบบ', 'NCMN'), ('ชั่วคราว', 'ADVN'), ('<space>', 'PUNC'), ('ก่อนที่จะ', 'JSBR'), ('เริ่ม', 'VSTA')]), Tree('VP', [('ทำงาน', 'VACT'), ('ตาม', 'RPRE'), ('โปรแกรม', 'NCMN'), ('ใน', 'RPRE'), ('ส่วน', 'NCMN'), ('อื่นๆ', 'DIAC')])]),\n",
       " Tree('S', [Tree('NP', [('1', 'NCNM'), ('<space>', 'PUNC'), ('สาขาวิชา', 'NCMN'), ('ของ', 'RPRE'), ('ยูเนสโก', 'NPRP'), ('<space>', 'PUNC'), ('จาก', 'RPRE'), ('<space>', 'PUNC'), ('รายงานการศึกษา', 'NCMN'), ('สถาบันอุดมศึกษา', 'NCMN'), ('ใน', 'VATT')]), Tree('VP', [('สังกัด', 'VSTA'), ('ทบวงมหาวิทยาลัย', 'NPRP')])]),\n",
       " Tree('S', [Tree('PP', [('ตัวอย่างเช่น', 'RPRE'), ('<space>', 'PUNC'), ('คำเชื่อม', 'NCMN'), ('<space>', 'PUNC'), ('โดย', 'RPRE'), ('<space>', 'FIXN'), ('แสดง', 'VACT')]), Tree('S', [('ลักษณะ', 'NCMN'), ('หรือ', 'JCRG'), ('วิถีทาง', 'NCMN'), ('ที่', 'PREL'), ('การ', 'FIXN'), ('กระทำ', 'VACT'), ('เกิดขึ้น', 'VSTA')])]),\n",
       " Tree('S', [Tree('NP', [('สิ่ง', 'NCMN'), ('ที่', 'PREL'), ('ได้', 'VSTA'), ('จาก', 'RPRE'), ('การ', 'FIXN'), ('ออกแบบ', 'VACT'), ('นี้', 'DDAC'), ('โรงงานเจือสาร', 'NCMN'), ('จะ', 'XVBM'), ('นำ', 'VACT'), ('ไป', 'XVAE'), ('แปลง', 'VACT'), ('เป็น', 'VSTA'), ('ตัว', 'NCMN'), ('กำเนิด', 'VSTA'), ('<space>', 'PUNC'), ('Mask', 'NCMN'), ('<space>', 'PUNC'), ('แล้ว', 'JSBR'), ('สร้าง', 'VSTA'), ('<space>', 'PUNC'), ('Mask', 'NCMN')]), ('<space>', 'PUNC'), Tree('VP', [('ออกมา', 'VACT'), ('เพื่อ', 'JSBR'), ('ผลิต', 'VACT'), ('วงจรรวม', 'NCMN')])]),\n",
       " Tree('S', [Tree('NP', [('ที่', 'NCMN')]), Tree('VP', [('ตามหลัง', 'VSTA'), ('กริยา', 'NCMN'), ('ไม่ใช่', 'NEG'), ('กรรมตรง', 'NCMN'), ('ของ', 'RPRE'), ('กริยา', 'NCMN')])]),\n",
       " Tree('S', [Tree('NP', [('6', 'NCNM')]), Tree('VP', [('<full_stop>', 'VACT'), ('<space>', 'FIXN'), ('Print', 'NCMN'), ('<space>', 'PUNC'), ('เกี่ยวกับ', 'RPRE'), ('การ', 'FIXN'), ('พิมพ์', 'VACT')])]),\n",
       " Tree('S', [Tree('NP', [('ได้', 'VACT'), ('ทำ', 'VACT')]), Tree('VP', [('วิเคราะห์', 'VACT'), ('การ', 'FIXN'), ('ใช้งาน', 'VACT'), ('ซอฟต์แวร์', 'NCMN'), ('ที่', 'PREL'), ('เกี่ยวข้อง', 'VSTA'), ('กับ', 'RPRE'), ('ทาง', 'NCMN'), ('ด้าน', 'RPRE'), ('กราฟิก', 'NCMN')])]),\n",
       " Tree('S', [Tree('NP', [('7', 'NCNM')]), Tree('VP', [('<full_stop>', 'VACT'), ('<space>', 'FIXN'), ('กิตติกรรมประกาศ', 'NCMN')])]),\n",
       " Tree('S', [Tree('NP', [('แม่', 'NCMN')]), Tree('VP', [('ชอบ', 'VACT'), ('ผลไม้', 'NCMN')])]),\n",
       " Tree('S', [Tree('NP', [('SD0-SD7', 'NCMN')]), ('<space>', 'PUNC'), Tree('VP', [('จะ', 'XVBM'), ('เข้าสู่', 'VACT'), ('สถานะ', 'NCMN'), ('<space>', 'PUNC'), ('high', 'NCMN'), ('impedance', 'NCMN'), ('<space>', 'NCMN'), ('ถ้าหาก', 'JSBR'), ('ภายใน', 'RPRE'), ('<space>', 'PUNC'), ('cycle', 'NCMN'), ('<space>', 'PUNC'), ('นั้น', 'DDAC'), ('เป็น', 'RPRE'), ('การ', 'FIXN'), ('ทำ', 'VACT'), ('<space>', 'PUNC'), ('DMA', 'NCMN'), ('<space>', 'PUNC'), ('จาก', 'RPRE'), ('<space>', 'PUNC'), ('CPU', 'NCMN')])]),\n",
       " Tree('S', [Tree('NP', [('ภาษาอังกฤษ', 'NPRP')]), ('<space>', 'PUNC'), Tree('VP', [('เป็น', 'VSTA'), ('ภาษาไทย', 'NPRP')])]),\n",
       " Tree('S', [Tree('NP', [('13', 'NCNM'), ('<space>', 'PUNC'), ('case', 'NCMN'), ('frames', 'NCMN'), ('verb', 'for'), ('<comma>', 'PUNC'), ('<space>', 'PUNC'), ('modifier-modified', 'NCMN'), ('<space>', 'PUNC'), ('<minus>', 'PUNC'), ('<space>', 'PUNC'), ('ความ', 'FIXN'), ('สัมพันธ์', 'VSTA'), ('ของ', 'RPRE'), ('คำกริยา', 'NCMN'), ('กับ', 'RPRE'), ('คำ', 'NCMN'), ('อื่นๆ', 'DIAC'), ('<space>', 'PUNC'), ('ใน', 'RPRE'), ('ประโยค', 'NCMN'), ('หรือ', 'JCRG'), ('ความ', 'FIXN'), ('สัมพันธ์', 'VSTA'), ('ระหว่าง', 'RPRE'), ('ตัว', 'NCMN'), ('ขยาย', 'VACT'), ('และ', 'JCRG'), ('ตัว', 'NCMN')]), Tree('VP', [('ถูก', 'XVAM'), ('ขยาย', 'VACT')])]),\n",
       " Tree('S', [Tree('NP', [('ผม', 'PPRS')]), Tree('VP', [('จึง', 'XVBM'), ('มี', 'VSTA'), ('ความ', 'FIXN'), ('ยินดี', 'VSTA'), ('ต่อ', 'RPRE'), ('ความ', 'FIXN'), ('สำเร็จ', 'VSTA'), ('ใน', 'RPRE'), ('การ', 'FIXN'), ('ดำเนินงาน', 'VACT'), ('ของ', 'RPRE'), ('ศูนย์ฯ', 'NCMN'), ('<space>', 'PUNC'), ('และ', 'RPRE'), ('ผู้เกี่ยวข้อง', 'NCMN'), ('ทุก', 'DIBQ'), ('ท่าน', 'CNIT'), ('ที่', 'PREL'), ('ได้', 'XVAM'), ('มีส่วนร่วม', 'VSTA'), ('ใน', 'RPRE'), ('ความ', 'FIXN'), ('สำเร็จ', 'VSTA'), ('ครั้ง', 'CFQC'), ('นี้', 'DDAC')])]),\n",
       " Tree('S', [Tree('NP', [('ดร.', 'NCMN')]), Tree('VP', [('เจริญ', 'VSTA'), ('<space>', 'PUNC'), ('วัชระรังษี', 'NPRP')])]),\n",
       " Tree('S', [Tree('NP', [('ผลงานวิจัย', 'NCMN'), ('<space>', 'NCMN'), ('7', 'DCNM'), ('<space>', 'PUNC'), ('<quotation>', 'CMTR')]), Tree('VP', [('ระบบควบคุม', 'VACT'), ('การ', 'FIXN'), ('ผสม', 'VACT'), ('อาหารสัตว์', 'NCMN'), ('<space>', 'PUNC'), ('<left_parenthesis>', 'PUNC'), ('Feed', 'NCMN'), ('Mix', 'NCMN'), ('Control', 'NCMN'), ('System', 'NCMN'), ('<right_parenthesis>', 'PUNC'), ('<quotation>', 'PUNC')])]),\n",
       " Tree('S', [Tree('NP', [('และ', 'NCMN'), ('เพื่อ', 'RPRE'), ('ประสิทธิภาพ', 'NCMN'), ('ใน', 'RPRE'), ('การ', 'FIXN'), ('ดำเนินงาน', 'VACT'), ('ของ', 'RPRE'), ('โครงการฯ', 'NCMN'), ('<space>', 'PUNC'), ('ทาง', 'RPRE'), ('<space>', 'PUNC'), ('NECTEC', 'NPRP')]), ('<space>', 'PUNC'), Tree('VP', [('จึง', 'XVBM'), ('ได้', 'XVAM'), ('ขอ', 'VACT'), ('ความ', 'FIXN'), ('ร่วมมือ', 'VACT'), ('จาก', 'RPRE'), ('สถาบันการศึกษา', 'NCMN'), ('และ', 'JCRG'), ('หน่วยงานเอกชน', 'NCMN')])]),\n",
       " Tree('S', [Tree('NP', [('ผล', 'NCMN'), ('ความ', 'FIXN'), ('ก้าวหน้า', 'VSTA'), ('ของ', 'RPRE'), ('ฐานข้อมูล', 'NCMN'), ('ของ', 'RPRE'), ('สถาบัน', 'NCMN'), ('ดังกล่าว', 'DDAC')]), ('<space>', 'PUNC'), Tree('VP', [('ได้แก่', 'VSTA'), ('<space>', 'PUNC'), ('ปริมาณ', 'NCMN'), ('ข้อมูล', 'NCMN'), ('ที่', 'PREL'), ('เพิ่ม', 'VATT'), ('<space>', 'PUNC'), ('และ', 'RPRE'), ('การ', 'FIXN'), ('พัฒนา', 'VACT'), ('ฐานข้อมูล', 'NCMN'), ('ใหม่', 'ADVN')])]),\n",
       " Tree('S', [Tree('NP', [('ตัว', 'NCMN'), ('เดียว', 'DIAC'), ('หรือ', 'JCRG'), ('สอง', 'NCNM')]), Tree('VP', [('ตัว', 'VACT')])]),\n",
       " Tree('S', [Tree('NP', [('3', 'NCNM')]), Tree('VP', [('<full_stop>', 'VACT'), ('<space>', 'NCMN'), ('A', 'NCMN'), ('Comparative', 'NCMN'), ('Study', 'NCMN'), ('of', 'NCMN'), ('English', 'NCMN'), ('and', 'NCMN'), ('Thai', 'NCMN'), ('Syntax', 'NCMN'), ('<space>', 'PUNC'), ('โดย', 'RPRE'), ('<space>', 'PUNC'), ('Chalao', 'NPRP'), ('<space>', 'PUNC'), ('Chaiyaratana', 'NPRP'), ('<space>', 'PUNC'), ('พ.ศ.', 'NCMN'), ('<space>', 'PUNC'), ('2504', 'NCNM')])]),\n",
       " Tree('S', [Tree('NP', [('การ', 'FIXN')]), Tree('VP', [('สนับสนุน', 'VACT'), ('จาก', 'RPRE'), ('ประเทศออสเตรเลีย', 'NPRP')])]),\n",
       " Tree('S', [Tree('NP', [('ความ', 'FIXN'), ('มั่นใจ', 'VSTA'), ('จาก', 'RPRE'), ('ภาคเอกชน', 'NCMN'), ('ที่', 'PREL'), ('มี', 'VSTA'), ('ต่อ', 'RPRE'), ('<space>', 'PUNC'), ('NECTEC', 'NPRP')]), ('<space>', 'PUNC'), Tree('VP', [('จะ', 'XVBM'), ('เห็น', 'VSTA'), ('ได้', 'XVAE'), ('จาก', 'RPRE'), ('<space>', 'PUNC'), ('จำนวน', 'NCMN'), ('เอกชน', 'NCMN'), ('ที่', 'PREL'), ('เพิ่ม', 'VACT'), ('มากขึ้น', 'ADVN'), ('ตามลำดับ', 'ADVN')])]),\n",
       " Tree('S', [Tree('PP', [('เพื่อ', 'RPRE'), ('ใช้', 'VACT'), ('ใน', 'RPRE'), ('ประโยชน์', 'NCMN')]), Tree('S', [('ใน', 'RPRE'), ('โครงการ', 'NCMN'), ('ได้', 'VSTA')])]),\n",
       " Tree('S', [Tree('NP', [('และ', 'NCMN')]), Tree('VP', [('สามารถ', 'XVAM'), ('กำหนด', 'VACT'), ('หนทางปฎิบัติ', 'NCMN'), ('ได้', 'VSTA'), ('แน่นอน', 'VATT')])]),\n",
       " Tree('S', [Tree('PP', [('โดย', 'RPRE'), ('กำหนด', 'VACT'), ('ลำ', 'NCMN'), ('รังสีเอ็กซ์', 'NCMN'), ('เล็กๆ', 'VATT'), ('<space>', 'NCMN'), ('<left_parenthesis>', 'PUNC'), ('pencil', 'NCMN'), ('beam', 'NCMN'), ('<right_parenthesis>', 'PUNC'), ('<space>', 'NCMN'), ('และ', 'JCRG'), ('มี', 'VSTA'), ('ตัวรับ', 'NCMN'), ('รังสี', 'NCMN')]), Tree('S', [('ตัว', 'NCMN'), ('เดียว', 'DIAC'), ('หรือ', 'JCRG'), ('สอง', 'NCNM'), ('ตัว', 'VACT')])]),\n",
       " Tree('S', [Tree('NP', [('ดีมอส', 'NCMN')]), Tree('VP', [('สร้าง', 'VACT'), ('อยู่', 'XVAE'), ('บน', 'RPRE'), ('แผ่น', 'NCMN'), ('ผลึก', 'NCMN'), ('ซิลิกอน', 'NCMN'), ('แบบ', 'NCMN'), ('อิพิทาซี', 'NCMN'), ('ชนิด', 'NCMN'), ('เอ็น', 'NCMN'), ('<space>', 'PUNC'), ('ระนาบ', 'NCMN'), ('<space>', 'PUNC'), ('100', 'NCNM'), ('<space>', 'PUNC'), ('ความ', 'FIXN'), ('หนา', 'VATT'), ('<space>', 'PUNC'), ('400', 'DCNM'), ('<space>', 'PUNC'), ('ไมครอน', 'CMTR')])]),\n",
       " Tree('S', [('เพื่อให้', 'JSBR'), Tree('NP', [('เกิด', 'VACT'), ('ประโยชน์', 'VACT'), ('สูงสุด', 'DIBQ'), ('ของ', 'RPRE'), ('การ', 'FIXN'), ('ค้นหา', 'VACT')]), ('<space>', 'PUNC'), Tree('VP', [('สื่อสาร', 'VACT'), ('<space>', 'FIXN'), ('แลกเปลี่ยน', 'VACT'), ('และ', 'JCRG'), ('จัดการ', 'VACT'), ('ข้อสนเทศ', 'NCMN'), ('สำหรับ', 'RPRE'), ('ภาระกิจ', 'NCMN'), ('ต่างๆ', 'DIAC'), ('<space>', 'PUNC'), ('ที่', 'JSBR'), ('ต้องการ', 'VSTA'), ('ได้', 'XVAE'), ('อย่าง', 'FIXV'), ('สะดวก', 'VATT'), ('และ', 'JCRG'), ('รวดเร็ว', 'VATT'), ('ประหยัด', 'ADVN')])]),\n",
       " Tree('S', [Tree('NP', [('ผู้', 'PPRS')]), Tree('VP', [('ร่วม', 'VACT'), ('วิจัย', 'VACT')])]),\n",
       " Tree('S', [Tree('NP', [('เรา', 'PPRS')]), Tree('VP', [('ได้', 'XVAM'), ('อ่าน', 'VACT'), ('ข้อมูล', 'NCMN'), ('<space>', 'PUNC'), ('โดย', 'RPRE'), ('การ', 'FIXN'), ('กำหนด', 'VACT'), ('สภาพ', 'NCMN'), ('ให้', 'JSBR'), ('ครบ', 'VSTA'), ('ทุก', 'DIBQ'), ('ประเภท', 'CLTV'), ('ที่', 'PREL'), ('เป็นไปได้', 'VSTA')])]),\n",
       " Tree('S', [Tree('NP', [('และ', 'NCMN'), ('มี', 'NCMN'), ('แผนการ', 'NCMN'), ('จะ', 'XVBM'), ('จัดตั้ง', 'VACT'), ('อาคาร', 'NCMN'), ('<space>', 'PUNC'), ('3', 'NCNM'), ('<space>', 'PUNC'), ('ศูนย์', 'NCMN')]), ('<space>', 'PUNC'), Tree('VP', [('ใกล้กับ', 'VSTA'), ('อาคารสำนักปลัดกระทรวงฯ', 'NPRP')])]),\n",
       " Tree('S', [('เนื่องจาก', 'JSBR'), Tree('NP', [('<space>', 'FIXN'), ('ROM-BIOS', 'NCMN')]), ('<space>', 'PUNC'), Tree('VP', [('จะ', 'XVBM'), ('กำหนด', 'VACT'), ('จุด', 'NCMN'), ('เข้าสู่', 'VACT'), ('ระบบ', 'NCMN'), ('ไว้', 'XVAE'), ('เป็น', 'FIXV'), ('มาตรฐาน', 'VATT'), ('ให้', 'JSBR'), ('เหมือน', 'VATT'), ('กัน', 'ADVN')])]),\n",
       " Tree('S', [Tree('NP', [('และ', 'NCMN')]), Tree('VP', [('แปลง', 'VACT'), ('กลับ', 'XVAE'), ('จาก', 'RPRE'), ('อนุกรม', 'NCMN'), ('ให้', 'JSBR'), ('เป็น', 'VSTA'), ('แบบ', 'NCMN'), ('ขนาน', 'NCMN'), ('<space>', 'PUNC'), ('สำหรับ', 'JSBR'), ('ติดต่อสื่อสาร', 'VACT'), ('กับ', 'RPRE'), ('เครื่อง', 'NCMN'), ('ไมโครคอมพิวเตอร์', 'NCMN')])]),\n",
       " Tree('S', [Tree('NP', [('และ', 'NCMN'), ('ตัว', 'NCMN'), ('อุปกรณ์', 'NCMN'), ('<space>', 'PUNC'), ('IC', 'NCMN'), ('<space>', 'PUNC'), ('บาง', 'DIBQ'), ('ตัว', 'CNIT'), ('ใน', 'RPRE'), ('ท้องตลาด', 'NCMN')]), Tree('VP', [('ไม่', 'NEG'), ('มี', 'VSTA')])]),\n",
       " Tree('S', [Tree('NP', [('โครงการ', 'NCMN'), ('<space>', 'PUNC'), ('การ', 'FIXN')]), Tree('VP', [('พัฒนา', 'VACT'), ('อุปกรณ์', 'NCMN'), ('โทรคมนาคม', 'NCMN')])]),\n",
       " Tree('S', [Tree('NP', [('และ', 'NCMN')]), Tree('VP', [('ยัง', 'XVBM'), ('เป็น', 'VSTA'), ('การ', 'FIXN'), ('สร้าง', 'VACT'), ('เทคโนโลยี', 'NCMN'), ('ของ', 'RPRE'), ('ไทย', 'NPRP'), ('ให้', 'JSBR'), ('มี', 'VSTA'), ('ความ', 'FIXN'), ('เป็นเอกภาพ', 'VSTA'), ('มากขึ้น', 'ADVN')])]),\n",
       " Tree('S', [Tree('NP', [('แต่ละ', 'DIBQ'), ('วงจร', 'NCMN')]), ('<space>', 'PUNC'), Tree('VP', [('ปรากฎ', 'VSTA'), ('ว่า', 'JSBR'), ('ทำงาน', 'VACT'), ('ได้', 'XVAE'), ('ตามที่', 'JSBR'), ('ออกแบบ', 'VACT'), ('ไว้', 'VACT')])]),\n",
       " Tree('S', [Tree('NP', [('อธิบาย', 'VACT'), ('ได้', 'VACT')]), Tree('VP', [('ว่า', 'JSBR'), ('<space>', 'NCMN')])]),\n",
       " Tree('S', [Tree('NP', [('ซึ่ง', 'NCMN')]), Tree('VP', [('ได้', 'XVAM'), ('ทำ', 'VACT'), ('การ', 'FIXN'), ('เปลี่ยนแปลง', 'VACT'), ('ทุก', 'DIBQ'), ('ส่วน', 'CNIT'), ('ของ', 'RPRE'), ('อุปกรณ์', 'NCMN'), ('ทั้ง', 'DDBQ'), ('แกนทรี', 'NCMN'), ('<space>', 'PUNC'), ('<left_parenthesis>', 'PUNC'), ('Gantry', 'NCMN'), ('<right_parenthesis>', 'PUNC'), ('<space>', 'PUNC'), ('และ', 'JCRG'), ('หลอดรังสี', 'NCMN'), ('กับ', 'RPRE'), ('ตัวรับรังสีเอ็กซ์', 'NCMN')])]),\n",
       " Tree('S', [Tree('NP', [('การก', 'NCMN'), ('หนึ่ง', 'DIAC')]), ('<space>', 'PUNC'), Tree('VP', [('อาจ', 'XVMM'), ('ตรง', 'VSTA'), ('กับ', 'RPRE'), ('การก', 'NCMN'), ('ระดับ', 'NCMN'), ('ผิว', 'NCMN'), ('มาก', 'VATT'), ('กว่า', 'ADVN'), ('<space>', 'PUNC'), ('1', 'DCNM'), ('<space>', 'PUNC'), ('การก', 'CNIT'), ('ได้', 'VSTA')])]),\n",
       " Tree('S', [Tree('NP', [('ภาพตัดขวาง', 'NCMN'), ('ของ', 'RPRE'), ('สิ่งมีชีวิต', 'NCMN')]), ('<space>', 'PUNC'), Tree('VP', [('คือ', 'VSTA'), ('<space>', 'PUNC'), ('หนู', 'NCMN')])]),\n",
       " Tree('S', [Tree('NP', [('ข้อมูล', 'NCMN'), ('ที่', 'PREL'), ('ใช้', 'VACT'), ('ใน', 'RPRE'), ('การ', 'FIXN'), ('ทดลอง', 'VACT')]), Tree('VP', [('เป็น', 'VSTA'), ('ตัวอักษร', 'NCMN'), ('คอมพิวเตอร์', 'NCMN'), ('<space>', 'PUNC'), ('ซึ่ง', 'JSBR'), ('มี', 'VSTA'), ('ความ', 'FIXN'), ('ละเอียด', 'VSTA'), ('<space>', 'PUNC'), ('ความ', 'FIXN'), ('ชัดเจน', 'VATT'), ('<space>', 'PUNC'), ('และ', 'RPRE'), ('เนื้อ', 'NCMN'), ('กระดาษ', 'NCMN'), ('มี', 'VSTA'), ('สิ่งรบกวน', 'NCMN'), ('น้อยลง', 'ADVN'), ('มาก', 'ADVN')])]),\n",
       " Tree('S', [Tree('S', [('2', 'NCNM'), ('<space>', 'PUNC'), ('ข้อมูล', 'NCMN'), ('ใน', 'RPRE'), ('<space>', 'PUNC'), ('ED', 'NCMN'), ('<space>', 'PUNC'), ('จะ', 'XVBM'), ('มุ่งเฉพาะ', 'VACT'), ('ให้', 'JSBR'), ('เครื่อง', 'NCMN'), ('เข้าใจ', 'VSTA'), ('ภาษา', 'NCMN'), ('เพื่อ', 'RPRE'), ('การ', 'FIXN'), ('ประมวลผล', 'VACT')]), ('โดยที่', 'JSBR'), Tree('S', [('ตัวเครื่อง', 'NCMN'), ('เอง', 'PDMN'), ('มี', 'VSTA'), ('ความ', 'FIXN'), ('สามารถ', 'XVAM'), ('ใน', 'RPRE'), ('การ', 'FIXN'), ('คิด', 'VACT'), ('จำกัด', 'ADVN')])]),\n",
       " Tree('S', [Tree('NP', [('วงจรการทำงาน', 'NCMN'), ('ของ', 'RPRE'), ('ทั้ง', 'NCMN'), ('<space>', 'PUNC'), ('6', 'DCNM'), ('<space>', 'PUNC'), ('ภาค', 'CNIT')]), ('<space>', 'PUNC'), Tree('VP', [('สามารถ', 'XVAM'), ('แสดง', 'VACT'), ('รายละเอียด', 'NCMN'), ('ได้', 'VSTA'), ('ดัง', 'RPRE'), ('บล็อกไดอาแกรม', 'NCMN'), ('<space>', 'PUNC'), ('รูป', 'NCMN'), ('ที่', 'DONM'), ('2', 'DONM')])]),\n",
       " Tree('S', [Tree('NP', [('80386SX', 'NCMN')]), ('<space>', 'PUNC'), Tree('VP', [('เพียงแต่', 'XVMM'), ('ส่ง', 'VACT'), ('คำสั่ง', 'NCMN'), ('มา', 'VACT'), ('ให้', 'VACT'), ('<space>', 'PUNC'), ('8042', 'NCNM'), ('<space>', 'PUNC'), ('เท่านั้น', 'PDMN')])]),\n",
       " Tree('S', [Tree('NP', [('รูป', 'NCMN'), ('ที่', 'DONM'), ('6', 'DONM'), ('<space>', 'PUNC'), ('สัญญาณ', 'NCMN')]), Tree('VP', [('เข้า', 'VACT'), ('วงจรหาร', 'NCMN'), ('<space>', 'PUNC'), ('N', 'NCMN')])]),\n",
       " Tree('S', [Tree('NP', [('แผนภาพ', 'NCMN'), ('การ', 'FIXN'), ('ทำงาน', 'VACT'), ('ของ', 'RPRE'), ('โปรแกรม', 'NCMN')]), Tree('VP', [('เป็น', 'VSTA'), ('ดัง', 'RPRE'), ('รูป', 'NCMN'), ('ที่', 'DONM'), ('7', 'DONM')])]),\n",
       " Tree('S', [Tree('NP', [('จะ', 'NCMN')]), Tree('VP', [('มี', 'VSTA'), ('สัญญาณ', 'NCMN'), ('นาฬิกา', 'NCMN'), ('ความ', 'FIXN'), ('ถี่', 'VATT'), ('<space>', 'PUNC'), ('7.16', 'DCNM'), ('<space>', 'PUNC'), ('MHZ', 'CMTR'), ('<space>', 'PUNC'), ('สำหรับ', 'JSBR'), ('จ่าย', 'VACT'), ('ให้กับ', 'RPRE'), ('ไมโครโปรเซสเซอร์', 'NCMN'), ('เบอร์', 'NCMN'), ('<space>', 'PUNC'), ('MC68000', 'NCMN')])]),\n",
       " Tree('S', [Tree('NP', [('ซึ่ง', 'NCMN'), ('ใน', 'RPRE'), ('ขั้นตอน', 'NCMN'), ('นี้', 'DDAN'), ('มนุษย์', 'NCMN')]), Tree('VP', [('เป็น', 'VSTA'), ('ผู้', 'PPRS'), ('ออกแบบ', 'VACT'), ('ระดับ', 'NCMN'), ('<space>', 'PUNC'), ('Layout', 'NCMN'), ('<space>', 'PUNC'), ('เอง', 'PDMN')])]),\n",
       " Tree('S', [Tree('S', [('ประโยชน์', 'NCMN'), ('ใช้สอย', 'VACT')]), ('หรือ', 'JCRG'), Tree('S', [('การ', 'FIXN'), ('ประยุกต์ใช้', 'VACT'), ('ที่', 'PREL'), ('คาดว่า', 'VACT'), ('จะ', 'XVBM'), ('เกิดขึ้น', 'VSTA'), ('ได้', 'XVAE'), ('<space>', 'PUNC'), ('เมื่อ', 'RPRE'), ('ระบบ', 'NCMN'), ('ได้รับ', 'VSTA'), ('การ', 'FIXN'), ('พัฒนา', 'VACT'), ('สมบูรณ์', 'ADVN'), ('แล้ว', 'ADVN')])]),\n",
       " Tree('S', [Tree('NP', [('Word', 'NCMN'), ('entry', 'NCMN')]), ('<space>', 'PUNC'), Tree('VP', [('ประกอบ', 'VSTA'), ('ด้วย', 'RPRE'), ('ข้อมูล', 'NCMN'), ('ต่อไปนี้', 'DDAC')])]),\n",
       " Tree('S', [Tree('NP', [('ไม่', 'NCMN')]), Tree('VP', [('ค่อย', 'XVAM'), ('จะ', 'XVBM'), ('มีประสิทธิภาพ', 'VSTA')])]),\n",
       " Tree('S', [Tree('NP', [('CHECKING', 'NCMN')]), ('<space>', 'PUNC'), Tree('VP', [('เป็น', 'VSTA'), ('โปรแกรม', 'NCMN'), ('ที่', 'PREL'), ('ใช้', 'VACT'), ('ใน', 'RPRE'), ('การ', 'FIXN'), ('ตรวจเช็ค', 'VACT'), ('ฮาร์ดแวร์', 'NCMN'), ('<space>', 'PUNC'), ('และ', 'RPRE'), ('ซอฟท์แวร์', 'NCMN')])]),\n",
       " Tree('S', [Tree('NP', [('ใน', 'RPRE'), ('ขั้นตอน', 'NCMN'), ('ที่สอง', 'DONM')]), Tree('VP', [('จะ', 'XVBM'), ('เป็น', 'VSTA'), ('การ', 'FIXN'), ('เตรียม', 'VACT'), ('ฟิล์ม', 'NCMN'), ('บาง', 'VATT'), ('ของ', 'RPRE'), ('สารตัวนำยิ่งยวด', 'NCMN'), ('ด้วย', 'RPRE'), ('วิธี', 'NCMN'), ('<space>', 'PUNC'), ('D.C.', 'NCMN'), ('magnetron', 'NCMN'), ('sputtering', 'NCMN')])]),\n",
       " Tree('S', [Tree('NP', [('ต่อ', 'VACT'), ('ออกไป', 'VACT')]), Tree('VP', [('ควบคุม', 'VACT'), ('หน่วย', 'NCMN'), ('อื่นๆ', 'DIAC'), ('<space>', 'PUNC'), ('ให้', 'JSBR'), ('ทำงาน', 'VACT'), ('สอดคล้อง', 'VSTA'), ('กับ', 'RPRE'), ('การ', 'FIXN'), ('ส่ง', 'VACT'), ('สัญญาณ', 'NCMN'), ('ของ', 'RPRE'), ('ไมโครโปรเซสเซอร์', 'NCMN')])]),\n",
       " Tree('S', [Tree('NP', [('ราคา', 'NCMN')]), Tree('VP', [('ประมาณ', 'VSTA'), ('<space>', 'PUNC'), ('20', 'DCNM'), ('ล้าน', 'DCNM'), ('บาท', 'CMTR')])]),\n",
       " Tree('S', [Tree('NP', [('โครงการ', 'NCMN'), ('ดังกล่าว', 'DDAC')]), Tree('VP', [('สามารถ', 'XVAM'), ('บรรลุ', 'VSTA'), ('วัตถุประสงค์', 'NCMN'), ('ที่', 'PREL'), ('ตั้ง', 'VSTA'), ('ไว้', 'XVAE'), ('ทุก', 'DIBQ'), ('ประการ', 'CNIT')])]),\n",
       " Tree('S', [Tree('NP', [('ซอฟท์แวร์', 'NCMN'), ('<space>', 'PUNC'), ('ORCAD', 'NCMN'), ('<space>', 'PUNC'), ('ที่', 'RPRE'), ('ใช้', 'VACT'), ('ช่วย', 'VACT')]), Tree('VP', [('วาด', 'VACT'), ('<space>', 'NCMN'), ('และ', 'JCRG'), ('ออกแบบ', 'VACT'), ('วงจร', 'NCMN'), ('อิเล็กทรอนิกส์', 'NCMN'), ('พร้อมกับ', 'JCRG'), ('หา', 'VACT'), ('ข้อมูล', 'NCMN'), ('ของ', 'RPRE'), ('การ', 'FIXN'), ('ส่ง', 'VACT'), ('แบบวงจรรวม', 'NCMN'), ('ไป', 'XVAE'), ('เจือสาร', 'NCMN'), ('<space>', 'PUNC'), ('เพื่อ', 'JSBR'), ('ผลิต', 'VACT'), ('วงจรรวม', 'NCMN')])]),\n",
       " Tree('S', [Tree('NP', [('ปัจจุบัน', 'NCMN'), ('เป็น', 'VSTA'), ('เครื่อง', 'NCMN'), ('รุ่น', 'CNIT'), ('ที่', 'DONM'), ('3', 'DONM')]), ('<space>', 'PUNC'), Tree('VP', [('ติดตั้ง', 'VACT'), ('ที่', 'RPRE'), ('โรงพยาบาลธนบุรี', 'NCMN'), ('ของ', 'RPRE'), ('บริษัท', 'NCMN'), ('โตชิบา', 'NCMN')])]),\n",
       " Tree('S', [Tree('NP', [('5', 'NCMN'), ('<full_stop>', 'NCMN'), ('<space>', 'PUNC'), ('Jump', 'NCMN')]), ('<space>', 'PUNC'), Tree('VP', [('เลื่อน', 'VACT'), ('ไปยัง', 'RPRE'), ('ตำแหน่ง', 'NCMN'), ('ต่างๆ', 'DIAC')])]),\n",
       " Tree('S', [Tree('NP', [('ที่', 'NCMN')]), Tree('VP', [('มี', 'VSTA'), ('ไวยากรณ์', 'NCMN'), ('<space>', 'PUNC'), ('<left_parenthesis>', 'PUNC'), ('Syntactic', 'NCMN'), ('<right_parenthesis>', 'PUNC'), ('<space>', 'PUNC'), ('และ', 'JCRG'), ('ความหมาย', 'NCMN'), ('<space>', 'PUNC'), ('<left_parenthesis>', 'PUNC'), ('Semantic', 'NCMN'), ('<right_parenthesis>', 'PUNC'), ('<space>', 'PUNC'), ('ของ', 'RPRE'), ('ภาษา', 'NCMN')])]),\n",
       " Tree('S', [Tree('PP', [('โดย', 'RPRE'), ('แพร่', 'VACT')]), Tree('S', [('ซอส', 'NCMN'), ('ลง', 'VACT'), ('บน', 'RPRE'), ('สารเจือโบรอน', 'NCMN')])]),\n",
       " Tree('S', [Tree('NP', [('การ', 'FIXN')]), Tree('VP', [('ทดสอบ', 'VACT'), ('ผล', 'NCMN'), ('ต่างๆ', 'DIAC'), ('<space>', 'NCMN'), ('แล้ว', 'ADVN')])]),\n",
       " Tree('S', [('โดย', 'JSBR'), Tree('NP', [('สัญญาณ', 'NCMN'), ('หัวใจ', 'NCMN'), ('นั้น', 'DDAC')]), ('<space>', 'PUNC'), Tree('VP', [('จะ', 'XVBM'), ('ต้อง', 'XVMM'), ('ผ่าน', 'VACT'), ('การ', 'FIXN'), ('ขยาย', 'VACT'), ('มา', 'XVAE'), ('ก่อน', 'ADVN'), ('<space>', 'PUNC'), ('จน', 'JSBR'), ('มี', 'VSTA'), ('ขนาด', 'NCMN'), ('ประมาณ', 'VSTA'), ('<space>', 'PUNC'), ('1', 'DCNM'), ('<space>', 'PUNC'), ('โวลท์', 'CMTR')])]),\n",
       " Tree('S', [Tree('NP', [('จะ', 'NCMN')]), Tree('VP', [('มี', 'VSTA'), ('ลักษณะ', 'NCMN'), ('ดัง', 'RPRE'), ('รูป', 'CNIT'), ('<space>', 'PUNC'), ('1', 'NCNM')])]),\n",
       " Tree('S', [Tree('NP', [('ตลอดจน', 'NCMN')]), Tree('VP', [('สนับสนุน', 'VACT'), ('ให้', 'JSBR'), ('เกิด', 'VACT'), ('หน่วยวิจัยและพัฒนา', 'NCMN'), ('เฉพาะ', 'RPRE'), ('สาขา', 'NCMN'), ('<space>', 'PUNC'), ('<left_parenthesis>', 'PUNC'), ('Center', 'NCMN'), ('of', 'NCMN'), ('Excellence', 'NCMN'), ('<right_parenthesis>', 'PUNC'), ('<space>', 'PUNC'), ('ตาม', 'RPRE'), ('มหาวิทยาลัย', 'NCMN'), ('ด้วย', 'ADVN')])]),\n",
       " Tree('S', [Tree('NP', [('เพื่อ', 'RPRE'), ('ส่ง', 'VACT'), ('เข้า', 'VACT')]), Tree('VP', [('สู่', 'VACT'), ('ขบวนการผลิต', 'NCMN'), ('ต่อไป', 'ADVN')])]),\n",
       " Tree('S', [Tree('NP', [('8', 'NCNM'), ('<full_stop>', 'NCMN'), ('<space>', 'FIXN'), ('สามารถ', 'XVAM'), ('ตรวจสอบ', 'VACT'), ('<space>', 'PUNC'), ('Design', 'NCMN'), ('Rule', 'NCMN'), ('<space>', 'PUNC'), ('ของ', 'RPRE'), ('วงจร', 'NCMN'), ('ที่', 'PREL'), ('ออกแบบ', 'VACT'), ('ไว้', 'XVAE'), ('ตาม', 'RPRE'), ('<space>', 'PUNC'), ('Design', 'NCMN'), ('<space>', 'PUNC'), ('Rule', 'NCMN'), ('<space>', 'PUNC'), ('ที่', 'JSBR'), ('เซต', 'VACT')]), Tree('VP', [('ไว้', 'XVAE'), ('ได้', 'VSTA')])]),\n",
       " Tree('S', [Tree('NP', [('โดย', 'RPRE'), ('แปลง', 'NCMN')]), Tree('VP', [('จาก', 'VACT'), ('สัญญาณไฟบ้าน', 'NCMN'), ('<space>', 'NCMN'), ('50', 'DCNM'), ('<space>', 'PUNC'), ('Hz', 'CMTR')])]),\n",
       " Tree('S', [Tree('NP', [('และ', 'NCMN'), ('สามารถ', 'VSTA'), ('<space>', 'FIXN'), ('รับ', 'VACT')]), ('<slash>', 'PUNC'), Tree('VP', [('ส่ง', 'VACT'), ('<space>', 'NCMN'), ('ข้อมูล', 'NCMN'), ('ได้', 'XVAE'), ('อย่าง', 'FIXV'), ('รวดเร็ว', 'VATT')])]),\n",
       " Tree('S', [('หลังจากนั้น', 'JSBR'), Tree('NP', [('ผู้ประกอบการเจือสาร', 'NCMN'), ('ก็', 'JSBR'), ('จะ', 'XVBM'), ('ไป', 'XVAE'), ('ทำ', 'VACT'), ('การ', 'FIXN'), ('ออกแบบ', 'VACT'), ('ระดับ', 'NCMN'), ('<space>', 'PUNC'), ('Layout', 'NCMN')]), ('<space>', 'PUNC'), Tree('VP', [('ให้', 'VACT'), ('<space>', 'PUNC'), ('แล้ว', 'ADVN')])]),\n",
       " Tree('S', [Tree('NP', [('วิธี', 'NCMN'), ('นี้', 'DDAC'), ('ใน', 'RPRE'), ('สมัยก่อน', 'NCMN')]), Tree('VP', [('ใช้', 'VACT'), ('กัน', 'ADVN'), ('มาก', 'ADVN')])]),\n",
       " Tree('S', [('โดย', 'JSBR'), Tree('NP', [('มี', 'NCMN'), ('การ', 'FIXN'), ('จัด', 'VACT'), ('กลุ่ม', 'NCMN'), ('คำ', 'NCMN'), ('เหล่านั้น', 'DDAC'), ('ไว้', 'XVAE'), ('ใน', 'RPRE'), ('<space>', 'PUNC'), ('concept', 'NCMN')]), ('<space>', 'PUNC'), Tree('VP', [('เดียวกัน', 'VSTA')])]),\n",
       " Tree('S', [Tree('NP', [('การ', 'FIXN'), ('ศึกษาวิจัย', 'VACT'), ('ทาง', 'RPRE'), ('ด้าน', 'NCMN'), ('การ', 'FIXN'), ('เคลือบ', 'VACT'), ('ฟิล์ม', 'NCMN'), ('บาง', 'VATT'), ('ของ', 'RPRE'), ('สารตัวนำยิ่งยวด', 'NCMN'), ('นั้น', 'DDAC'), ('<space>', 'PUNC'), ('มี', 'VSTA'), ('สิ่งจูงใจ', 'NCMN'), ('จาก', 'RPRE'), ('สาเหตุ', 'NCMN')]), Tree('VP', [('สำคัญ', 'VSTA'), ('<space>', 'PUNC'), ('2', 'DCNM'), ('<space>', 'PUNC'), ('ประการ', 'CNIT')])]),\n",
       " Tree('S', [Tree('NP', [('รายงาน', 'NCMN'), ('ผลงาน', 'NCMN'), ('โครงการ', 'NCMN'), ('<space>', 'PUNC'), ('การ', 'FIXN'), ('พัฒนา', 'VACT'), ('ระบบ', 'NCMN')]), Tree('VP', [('รวม', 'VACT'), ('เพื่อ', 'RPRE'), ('การ', 'FIXN'), ('แปล', 'VACT'), ('ภาษา', 'NCMN'), ('ด้วย', 'RPRE'), ('คอมพิวเตอร์', 'NCMN'), ('ปี', 'CNIT'), ('<space>', 'PUNC'), ('2531', 'NCNM')])]),\n",
       " Tree('S', [Tree('NP', [('ส่วน', 'NCMN'), ('<space>', 'PUNC'), ('data', 'NCMN'), ('MD0-MD15', 'NCMN')]), ('<space>', 'PUNC'), Tree('VP', [('ผ่าน', 'VSTA'), ('<space>', 'PUNC'), ('buffer', 'NCMN'), ('<space>', 'PUNC'), ('ก่อน', 'RPRE'), ('จะ', 'XVBM'), ('เข้า', 'VACT'), ('สู่', 'RPRE'), ('<space>', 'PUNC'), ('CPU', 'NCMN'), ('local', 'NCMN'), ('data', 'NCMN'), ('bus', 'NCMN')])]),\n",
       " Tree('S', [Tree('NP', [('ในรูป', 'NCMN'), ('ที่', 'DONM'), ('6', 'DONM'), ('<space>', 'PUNC'), ('ระบบ', 'NCMN'), ('ไมโครคอมพิวเตอร์', 'NCMN'), ('ชุด', 'NCMN'), ('แรก', 'DONM')]), ('<space>', 'PUNC'), Tree('VP', [('ทำหน้าที่', 'VACT'), ('ใน', 'RPRE'), ('การ', 'FIXN'), ('อ่าน', 'VACT'), ('ข้อมูล', 'NCMN'), ('เข้า', 'RPRE'), ('ไมโครคอมพิวเตอร์', 'NCMN')])]),\n",
       " Tree('S', [Tree('NP', [('โปรแกรมคอมพิวเตอร์', 'NCMN')]), ('ก็', 'JSBR'), Tree('VP', [('จะ', 'XVBM'), ('สลับซับซ้อน', 'VATT'), ('มาก', 'ADVN'), ('ยิ่งขึ้น', 'ADVN')])]),\n",
       " Tree('S', [Tree('NP', [('Field', 'NCMN'), ('<space>', 'NCMN'), ('ที่', 'DONM'), ('4', 'DONM'), ('<space>', 'PUNC'), ('สำหรับ', 'JSBR'), ('เก็บ', 'VACT'), ('จำนวน', 'NCMN'), ('วัน', 'NCMN'), ('ที่', 'PREL'), ('ขาดงาน', 'VSTA'), ('ของ', 'RPRE'), ('พนักงาน', 'NCMN')]), ('<space>', 'PUNC'), Tree('VP', [('เป็น', 'VSTA'), ('ตัวแปร', 'NCMN'), ('ชนิด', 'NCMN'), ('<space>', 'PUNC'), ('integer', 'NCMN')])]),\n",
       " Tree('S', [Tree('NP', [('การ', 'FIXN'), ('ดำเนินการ', 'VACT'), ('ส่วนใหญ่', 'PDMN'), ('จะ', 'XVBM'), ('เป็น', 'VSTA'), ('การ', 'FIXN'), ('กำหนด', 'VACT')]), ('<space>', 'PUNC'), Tree('VP', [('เป็น', 'VSTA'), ('วิธีการ', 'NCMN'), ('ที่', 'PREL'), ('ตรงไปตรงมา', 'VATT')])]),\n",
       " Tree('S', [Tree('NP', [('7', 'NCNM')]), Tree('VP', [('<full_stop>', 'VACT'), ('<space>', 'NCMN'), ('เลขาธิการ', 'NCMN'), ('คณะ', 'NCMN'), ('กรรมการพัฒนาการเศรษฐกิจและสังคมแห่งชาติ', 'NCMN')])]),\n",
       " Tree('S', [Tree('NP', [('การ', 'FIXN'), ('หา', 'VACT'), ('ความ', 'FIXN'), ('ถี่', 'VATT'), ('ของ', 'RPRE'), ('ตัวโน๊ต', 'NCMN'), ('ของ', 'RPRE'), ('ช่วงเสียง', 'NCMN'), ('ถัดไป', 'DIAC'), ('นั้น', 'DDAC'), ('<space>', 'PUNC'), ('เรา', 'PPRS')]), Tree('VP', [('สามารถ', 'XVAM'), ('หา', 'VACT'), ('ได้', 'XVAE'), ('จาก', 'RPRE'), ('ความ', 'FIXN'), ('สัมพันธ์', 'VSTA'), ('ดัง', 'RPRE'), ('สมการ', 'NCMN')])]),\n",
       " Tree('S', [Tree('NP', [('Gma', 'NCMN'), ('controller', 'NCMN')]), ('<space>', 'PUNC'), Tree('VP', [('จะ', 'XVBM'), ('ทำงาน', 'VACT'), ('ได้', 'XVAE'), ('เฉพาะ', 'ADVN'), ('ใน', 'RPRE'), ('แบบ', 'NCMN'), ('การ', 'FIXN'), ('ถ่ายเท', 'VACT'), ('ข้อมูล', 'NCMN'), ('จาก', 'RPRE'), ('<space>', 'PUNC'), ('memory', 'NCMN'), ('<space>', 'PUNC'), ('ไป', 'NCMN'), ('<space>', 'PUNC'), ('IO', 'NCMN'), ('<space>', 'NCMN'), ('หรือ', 'JCRG'), ('จาก', 'RPRE'), ('<space>', 'PUNC'), ('IO', 'NCMN'), ('<space>', 'FIXN'), ('ไป', 'VACT'), ('<space>', 'PUNC'), ('memory', 'NCMN'), ('<space>', 'PUNC'), ('เท่านั้น', 'PDMN')])]),\n",
       " Tree('S', [Tree('NP', [('รูป', 'NCMN'), ('ที่', 'DONM'), ('3.1', 'DONM')]), ('<space>', 'PUNC'), Tree('VP', [('แสดง', 'VACT'), ('บล็อคไดอะแกรม', 'NCMN'), ('ของ', 'RPRE'), ('ตัวควบคุม', 'NCMN'), ('แบบ', 'NCMN'), ('ลำดับ', 'NCMN')])]),\n",
       " Tree('S', [Tree('NP', [('2', 'NCMN'), ('<full_stop>', 'NCMN'), ('<space>', 'PUNC'), ('POWER', 'NCMN'), ('DIVIDER', 'NCMN')]), ('<space>', 'PUNC'), Tree('VP', [('คือ', 'VSTA'), ('<space>', 'PUNC'), ('ตัวแบ่งกำลังสัญญาณ', 'NCMN')])]),\n",
       " Tree('S', [Tree('NP', [('โปรแกรม', 'NCMN')]), Tree('VP', [('ทำ', 'VACT'), ('ได้', 'XVAE'), ('ง่าย', 'ADVN')])]),\n",
       " Tree('S', [Tree('NP', [('การ', 'FIXN'), ('จ่าย', 'VACT'), ('ค่า', 'NCMN'), ('วัสดุ', 'NCMN'), ('<space>', 'PUNC'), ('ค่า', 'NCMN'), ('ใช้สอย', 'VACT'), ('<space>', 'PUNC'), ('ค่า', 'NCMN'), ('สาธารณูปโภค', 'NCMN'), ('<space>', 'PUNC'), ('ค่า', 'NCMN'), ('ครุภัณฑ์', 'NCMN'), ('<space>', 'PUNC'), ('และ', 'NCMN')]), Tree('VP', [('ค่า', 'VSTA'), ('ที่ดิน', 'NCMN'), ('สิ่งก่อสร้าง', 'NCMN')])]),\n",
       " Tree('S', [('จึง', 'JSBR'), Tree('NP', [('มี', 'NCMN'), ('กระแส', 'NCMN'), ('ไหล', 'VACT'), ('จาก', 'RPRE'), ('ส่วน', 'NCMN'), ('เดรน', 'NCMN'), ('ไป', 'XVAE'), ('ยัง', 'RPRE'), ('ส่วน', 'NCMN'), ('ซอส', 'NCMN')]), ('<space>', 'PUNC'), Tree('VP', [('ทั้ง', 'VACT'), ('ใน', 'RPRE'), ('แนวดิ่ง', 'NCMN'), ('และ', 'JCRG'), ('แนวนอน', 'NCMN')])]),\n",
       " Tree('S', [Tree('NP', [('ขอบเขต', 'NCMN'), ('และ', 'JCRG'), ('วิธี', 'NCMN'), ('การ', 'FIXN')]), Tree('VP', [('ดำเนินการ', 'VACT')])]),\n",
       " Tree('S', [Tree('NP', [('6', 'NCNM'), ('<full_stop>', 'NCMN')]), ('<space>', 'PUNC'), Tree('VP', [('ศึกษา', 'VACT'), ('โครงสร้าง', 'NCMN'), ('ของ', 'RPRE'), ('พจนานุกรม', 'NCMN')])]),\n",
       " Tree('S', [Tree('NP', [('4', 'NCMN'), ('<full_stop>', 'NCMN')]), ('<space>', 'PUNC'), Tree('VP', [('สรุป', 'VACT')])]),\n",
       " Tree('S', [Tree('NP', [('ซึ่ง', 'NCMN'), ('เป็น', 'VSTA'), ('การ', 'FIXN'), ('เสียเวลา', 'VSTA'), ('และ', 'JCRG'), ('สิ้นเปลือง', 'VSTA'), ('กว่า', 'ADVN')]), Tree('VP', [('ใช้', 'VACT'), ('มนุษย์', 'NCMN'), ('แปล', 'VACT'), ('ตั้งแต่', 'RPRE'), ('ต้น', 'NCMN')])]),\n",
       " Tree('S', [Tree('NP', [('การ', 'FIXN'), ('ใช้', 'VACT'), ('ภาษากลาง', 'NCMN'), ('ช่วย', 'VACT'), ('ใน', 'RPRE'), ('การ', 'FIXN'), ('แปล', 'VACT'), ('นี้', 'DDAC')]), Tree('VP', [('จะ', 'XVBM'), ('อาศัย', 'VSTA'), ('พจนานุกรม', 'NCMN'), ('เพียง', 'DDBQ'), ('ชุด', 'CNIT'), ('เดียว', 'DCNM'), ('ต่อ', 'RPRE'), ('หนึ่ง', 'DCNM'), ('ภาษา', 'CNIT')])]),\n",
       " Tree('S', [Tree('NP', [('งานวิจัย', 'NCMN'), ('นี้', 'DDAC')]), Tree('VP', [('เป็น', 'VSTA'), ('การ', 'FIXN'), ('ออกแบบ', 'VACT'), ('วงจร', 'NCMN'), ('ตู้ชุมสายโทรศัพท์', 'NCMN'), ('ขนาด', 'NCMN'), ('เล็ก', 'VATT')])]),\n",
       " Tree('S', [Tree('NP', [('ลักษณะ', 'NCMN'), ('สมบัติ', 'NCMN'), ('กระแส', 'NCMN'), ('<minus>', 'PUNC'), ('แรงดัน', 'NCMN')]), Tree('VP', [('แสดง', 'VACT'), ('ตาม', 'RPRE'), ('รูป', 'NCMN'), ('ที่', 'DONM'), ('8', 'DONM')])]),\n",
       " Tree('S', [Tree('NP', [('ซึ่ง', 'NCMN'), ('ศูนย์เทคโนโลยีอิเล็กทรอนิกส์และคอมพิวเตอร์แห่งชาติ', 'NPRP'), ('<space>', 'NCMN'), ('<left_parenthesis>', 'PUNC'), ('NECTEC', 'NPRP'), ('<right_parenthesis>', 'PUNC'), ('<space>', 'NCMN'), ('กระทรวงวิทยาศาสตร์เทคโนโลยีและการพลังงาน', 'NPRP')]), ('<space>', 'PUNC'), Tree('VP', [('ขอ', 'XVBB'), ('ขอบคุณ', 'VACT'), ('อย่าง', 'FIXV'), ('สูง', 'VATT'), ('<space>', 'FIXN'), ('มา', 'VACT'), ('<space>', 'PUNC'), ('ณ', 'RPRE'), ('<space>', 'PUNC'), ('โอกาส', 'NCMN'), ('นี้', 'DDAC')])]),\n",
       " Tree('S', [Tree('NP', [('การ', 'FIXN'), ('คำนวณ', 'VACT'), ('ฟังก์ชั่น', 'NCMN'), ('ที่', 'PREL'), ('ซับซ้อน', 'VATT'), ('มากๆ', 'ADVN'), ('<space>', 'PUNC'), ('เช่น', 'RPRE'), ('<space>', 'PUNC'), ('เลขทศนิยม', 'NCMN'), ('<space>', 'NCMN'), ('หรือ', 'JCRG'), ('การ', 'FIXN'), ('หาร', 'VACT'), ('ของ', 'RPRE'), ('ฟังก์ชั่น', 'NCMN'), ('<space>', 'PUNC'), ('ตรีโกณมิติ', 'NCMN'), ('<space>', 'PUNC'), ('จำเป็นจะต้อง', 'XVMM'), ('เขียน', 'VACT')]), Tree('VP', [('เป็น', 'VSTA'), ('โปรแกรม', 'NCMN'), ('พิเศษ', 'VATT'), ('เพื่อ', 'JSBR'), ('จำลอง', 'VACT'), ('การ', 'FIXN'), ('ทำงาน', 'VACT'), ('เหล่านี้', 'DDAC')])]),\n",
       " Tree('S', [Tree('NP', [('ยัง', 'VACT'), ('ก่อให้เกิด', 'VACT')]), Tree('VP', [('ประโยชน์', 'VACT'), ('อื่นๆ', 'PDMN'), ('<space>', 'NCMN'), ('อีก', 'DDBQ'), ('<space>', 'NCMN'), ('ดังนี้', 'ADVN')])]),\n",
       " Tree('S', [Tree('NP', [('<space>', 'NCMN'), ('นั้น', 'DDAC')]), ('<space>', 'PUNC'), Tree('VP', [('ได้', 'XVAM'), ('แสดง', 'VACT'), ('ความ', 'FIXN'), ('ถี่', 'VATT'), ('ของ', 'RPRE'), ('ตัวโน๊ต', 'NCMN'), ('ใน', 'NCMN'), ('<space>', 'PUNC'), ('1', 'DCNM'), ('<space>', 'PUNC'), ('ช่วงเสียง', 'CNIT'), ('เท่านั้น', 'ADVN')])]),\n",
       " Tree('S', [Tree('NP', [('และ', 'NCMN')]), ('เพื่อ', 'JSBR'), Tree('VP', [('มี', 'VSTA'), ('การ', 'FIXN'), ('ทำ', 'VACT'), ('<space>', 'PUNC'), ('similation', 'NCMN'), ('<space>', 'PUNC'), ('และ', 'NCMN'), ('<space>', 'PUNC'), ('autorouting', 'NCMN'), ('<space>', 'PUNC'), ('จะ', 'NCMN'), ('ได้', 'VSTA'), ('ค่า', 'NCMN'), ('ที่', 'PREL'), ('แน่นอน', 'VATT'), ('ของ', 'RPRE'), ('<space>', 'PUNC'), ('delay', 'NCMN'), ('time', 'NCMN'), ('<space>', 'PUNC'), ('ใน', 'RPRE'), ('<space>', 'PUNC'), ('gate', 'NCMN'), ('array', 'NCMN')])]),\n",
       " Tree('S', [Tree('S', [('เครื่อง', 'NCMN'), ('ตรวจ', 'VACT'), ('แสดง', 'VACT'), ('คลื่นไฟฟ้า', 'NCMN'), ('ของ', 'RPRE'), ('หัวใจ', 'NCMN'), ('<space>', 'PUNC'), ('เป็น', 'VSTA'), ('เครื่องมือ', 'NCMN'), ('ไฟฟ้า', 'NCMN'), ('ทาง', 'RPRE'), ('การแพทย์', 'NCMN'), ('ที่', 'PREL'), ('สำคัญ', 'VATT'), ('ใน', 'RPRE'), ('การ', 'FIXN'), ('ตรวจ', 'VACT'), ('วินิจฉัย', 'VACT'), ('อาการ', 'NCMN'), ('ผิดปกติ', 'VATT'), ('ของ', 'RPRE'), ('หัวใจ', 'NCMN'), ('ใน', 'RPRE'), ('ผู้ป่วย', 'NCMN'), ('โรคหัวใจ', 'NCMN'), ('<space>', 'NCMN'), ('หรือ', 'JCRG'), ('ผู้ป่วยหนัก', 'NCMN')]), ('ที่', 'JSBR'), Tree('S', [('การ', 'FIXN'), ('รู้', 'VSTA'), ('ลักษณะ', 'NCMN'), ('การ', 'FIXN'), ('ทำงาน', 'VACT'), ('ของ', 'RPRE'), ('หัวใจ', 'NCMN'), ('ตลอดเวลา', 'ADVN'), ('<space>', 'PUNC'), ('จะ', 'XVBM'), ('ทำให้', 'VACT'), ('การ', 'FIXN'), ('ช่วยชีวิต', 'VACT'), ('เป็นไปได้', 'VSTA'), ('ทันท่วงที', 'ADVN')])]),\n",
       " Tree('S', [Tree('NP', [('วัน', 'NCMN')]), Tree('VP', [('ที่', 'JSBR'), ('15', 'NCMN'), ('<space>', 'NCMN'), ('<minus>', 'PUNC'), ('<space>', 'NCMN'), ('16', 'DONM'), ('<space>', 'PUNC'), ('สิงหาคม', 'NPRP'), ('<space>', 'PUNC'), ('2532', 'NCNM')])]),\n",
       " Tree('S', [Tree('NP', [('รูป', 'NCMN')]), Tree('VP', [('ที่', 'JSBR'), ('1', 'NCNM')])]),\n",
       " Tree('S', [Tree('NP', [('<minus>', 'DCNM'), ('<space>', 'PUNC'), ('ขั้นตอน', 'CNIT'), ('ที่', 'PREL'), ('1', 'NCNM')]), ('<space>', 'PUNC'), Tree('VP', [('เป็น', 'VSTA'), ('การ', 'FIXN'), ('ออกแบบ', 'VACT'), ('หน้าที่', 'NCMN'), ('รวม', 'VATT'), ('ทั้งหมด', 'ADVN')])]),\n",
       " Tree('S', [Tree('NP', [('7', 'NCMN'), ('<full_stop>', 'NCMN'), ('<space>', 'PUNC'), ('ระบบ', 'NCMN'), ('FMCS', 'NCMN'), ('<space>', 'PUNC'), ('มี', 'NCMN'), ('<space>', 'PUNC'), ('Feature', 'NCMN'), ('<space>', 'PUNC'), ('ของ', 'RPRE'), ('<space>', 'PUNC'), ('Standalone', 'NCMN'), ('System', 'NCMN')]), ('<space>', 'PUNC'), Tree('VP', [('คือ', 'VSTA'), ('เป็น', 'VSTA'), ('<space>', 'PUNC'), ('Remote', 'NCMN'), ('Terminal', 'NCMN'), ('Unit', 'NCMN'), ('<space>', 'NCMN'), ('หรือ', 'JCRG'), ('<space>', 'FIXN'), ('RTU', 'NCMN'), ('<space>', 'PUNC'), ('ใน', 'RPRE'), ('ระบบ', 'NCMN'), ('SCADA', 'NCMN')])]),\n",
       " Tree('S', [Tree('NP', [('หัวต่อ', 'NCMN'), ('ที่', 'PREL'), ('มี', 'VSTA'), ('สัญญาณ', 'NCMN'), ('ต่างๆ', 'DIAC')]), ('<space>', 'PUNC'), Tree('VP', [('ครบ', 'VSTA'), ('ทุก', 'DIBQ'), ('สัญญาณ', 'NCMN'), ('ของ', 'RPRE'), ('ไมโครโปรเซสเซอร์', 'NCMN')])]),\n",
       " Tree('S', [('นอกจาก', 'JSBR'), Tree('NP', [('โครงการ', 'NCMN'), ('<space>', 'PUNC'), ('ARIANE', 'NCMN'), ('<space>', 'PUNC'), ('นี้', 'DDAC'), ('แล้ว', 'JSBR'), ('<space>', 'FIXN'), ('มี', 'VSTA'), ('การ', 'FIXN'), ('ทำ', 'VACT'), ('วิจัย', 'VACT'), ('เกี่ยวกับ', 'RPRE'), ('<space>', 'PUNC'), ('MT', 'NCMN'), ('<space>', 'PUNC'), ('อยู่', 'VSTA'), ('หลาย', 'DIBQ'), ('แห่ง', 'CNIT'), ('<space>', 'PUNC'), ('เช่น', 'RPRE'), ('<space>', 'PUNC'), ('มหาวิทยาลัยมหิดล', 'NPRP')]), ('<space>', 'PUNC'), Tree('VP', [('ได้', 'XVAM'), ('มี', 'VSTA'), ('การ', 'FIXN'), ('แปล', 'VACT'), ('พระไตรปิฎก', 'NCMN'), ('ออกมา', 'XVAE'), ('เป็น', 'VSTA'), ('ภาษาไทย', 'NPRP'), ('โดย', 'RPRE'), ('การ', 'FIXN'), ('ใช้', 'VACT'), ('คอมพิวเตอร์', 'NCMN')])]),\n",
       " Tree('S', [Tree('NP', [('3', 'NCNM'), ('<right_parenthesis>', 'PUNC'), ('<space>', 'FIXN'), ('MC68000', 'NCMN')]), ('<space>', 'PUNC'), Tree('VP', [('เป็น', 'VSTA'), ('ไมโครโปรเซสเซอร์', 'NCMN'), ('<space>', 'PUNC'), ('ที่', 'PREL'), ('สามารถ', 'XVAM'), ('อ้างถึง', 'VACT'), ('ตำแหน่ง', 'NCMN'), ('ของ', 'RPRE'), ('หน่วยความจำ', 'NCMN'), ('ได้', 'XVAE'), ('โดย', 'FIXV'), ('ตรง', 'VATT')])]),\n",
       " Tree('S', [Tree('NP', [('ได้', 'VACT'), ('ทำ', 'VACT'), ('การ', 'FIXN'), ('ศึกษา', 'VACT'), ('ทาง', 'RPRE'), ('โครงสร้าง', 'NCMN'), ('ของ', 'RPRE'), ('สารตัวนำยิ่งยวด', 'NCMN'), ('อุณหภูมิ', 'NCMN'), ('สูง', 'VATT'), ('ใน', 'RPRE'), ('ระบบ', 'NCMN'), ('Y', 'NCMN'), ('-', 'NCMN'), ('Ba', 'NCMN'), ('-', 'NCMN'), ('Cu', 'NCMN'), ('-', 'NCMN'), ('O', 'NCMN'), ('<space>', 'PUNC'), ('ที่', 'RPRE'), ('อุณหภูมิห้อง', 'NCMN')]), Tree('VP', [('โดย', 'JSBR'), ('วิธี', 'NCMN'), ('การ', 'FIXN'), ('เลี้ยวเบน', 'VACT'), ('รังสีเอ็กซ์', 'NCMN')])]),\n",
       " Tree('S', [Tree('PP', [('ด้วย', 'RPRE'), ('เหตุ', 'NCMN'), ('ดังกล่าว', 'DDAN'), ('นี้', 'DDAC')]), Tree('S', [('<space>', 'FIXN'), ('ทำให้', 'VACT'), ('การ', 'FIXN'), ('กระบวนการพัฒนา', 'NCMN'), ('แทบ', 'ADVN'), ('ทั้งหมด', 'ADVN'), ('<space>', 'PUNC'), ('ขึ้นอยู่', 'VSTA'), ('กับ', 'RPRE'), ('กระบวนการ', 'NCMN'), ('ทำ', 'VACT'), ('ผิวสัมผัส', 'NCMN')])]),\n",
       " Tree('S', [Tree('NP', [('ระบบ', 'NCMN')]), Tree('VP', [('จะ', 'XVBM'), ('ต้อง', 'XVMM'), ('ค้นหา', 'VACT'), ('คำ', 'NCMN'), ('ใน', 'RPRE'), ('ภาษาไทย', 'NCMN'), ('ที่', 'PREL'), ('ทำหน้าที่', 'VACT'), ('และ', 'JCRG'), ('มี', 'VSTA'), ('ความหมาย', 'NCMN'), ('ตรง', 'VSTA'), ('กับ', 'NCMN'), ('<space>', 'PUNC'), ('CP', 'NCMN'), ('<space>', 'PUNC'), ('และ', 'NCMN'), ('<space>', 'PUNC'), ('Case', 'NCMN'), ('<space>', 'PUNC'), ('ใน', 'RPRE'), ('ภาษากลาง', 'NCMN')])]),\n",
       " Tree('S', [Tree('NP', [('กำลัง', 'NCMN')]), Tree('VP', [('ซื้อ', 'VACT'), ('ให้กับ', 'RPRE'), ('ประชาชน', 'NCMN')])]),\n",
       " Tree('S', [Tree('NP', [('และ', 'NCMN'), ('ใช้', 'VACT'), ('งาน', 'NCMN'), ('ค่อนข้าง', 'ADVN')]), Tree('VP', [('เป็นเอกเทศ', 'VSTA')])]),\n",
       " Tree('S', [Tree('NP', [('การ', 'FIXN'), ('ดำเนินงาน', 'VACT'), ('ใน', 'RPRE'), ('<space>', 'PUNC'), ('Interlingua', 'NCMN'), ('MT', 'NCMN'), ('<space>', 'PUNC'), ('อาจ', 'XVMM'), ('แสดง', 'VACT')]), Tree('VP', [('ได้', 'VSTA'), ('<space>', 'PUNC'), ('ดัง', 'RPRE'), ('แผนภูมิ', 'NCMN'), ('ต่อไปนี้', 'DDAC')])]),\n",
       " Tree('S', [Tree('NP', [('Knowlwdge', 'NCMN'), ('Base', 'NCMN'), ('<space>', 'NCMN'), ('หรือ', 'JCRG'), ('<space>', 'FIXN'), ('Dictionary', 'NCMN'), ('<space>', 'PUNC'), ('<colon>', 'NCMN'), ('<space>', 'PUNC'), ('ส่วน', 'NCMN'), ('ฐานความรู้', 'NCMN')]), ('ซึ่ง', 'JSBR'), Tree('VP', [('เป็น', 'VSTA'), ('ข้อมูล', 'NCMN'), ('ใน', 'RPRE'), ('การ', 'FIXN'), ('ทำงาน', 'VACT'), ('ทุก', 'DIBQ'), ('ระดับ', 'NCMN')])])]"
      ]
     },
     "execution_count": 43,
     "metadata": {},
     "output_type": "execute_result"
    }
   ],
   "source": [
    "test_sents"
   ]
  },
  {
   "cell_type": "code",
   "execution_count": 54,
   "metadata": {},
   "outputs": [],
   "source": [
    "#a1=[[(word,pos_tag) for word, pos_tag, chunk_tag in sent]  for sent in test_sents]"
   ]
  },
  {
   "cell_type": "code",
   "execution_count": 55,
   "metadata": {},
   "outputs": [],
   "source": [
    "#print(trigram_chunker.parse(a1[0]))"
   ]
  },
  {
   "cell_type": "code",
   "execution_count": null,
   "metadata": {},
   "outputs": [],
   "source": []
  },
  {
   "cell_type": "code",
   "execution_count": 56,
   "metadata": {},
   "outputs": [
    {
     "name": "stdout",
     "output_type": "stream",
     "text": [
      "ChunkParse score:\n",
      "    IOB Accuracy:  53.8%%\n",
      "    Precision:     38.1%%\n",
      "    Recall:        28.0%%\n",
      "    F-Measure:     32.3%%\n"
     ]
    }
   ],
   "source": [
    "print(trigram_chunker.evaluate(test_sents))"
   ]
  },
  {
   "cell_type": "code",
   "execution_count": 57,
   "metadata": {},
   "outputs": [
    {
     "name": "stderr",
     "output_type": "stream",
     "text": [
      "<ipython-input-57-b8c68ec5a004>:2: DeprecationWarning: Using or importing the ABCs from 'collections' instead of from 'collections.abc' is deprecated since Python 3.3, and in 3.9 it will stop working\n",
      "  from collections import Iterable\n"
     ]
    }
   ],
   "source": [
    "import pickle\n",
    "from collections import Iterable\n",
    "from nltk import ChunkParserI, ClassifierBasedTagger"
   ]
  },
  {
   "cell_type": "code",
   "execution_count": 58,
   "metadata": {},
   "outputs": [],
   "source": [
    "from pythainlp.corpus import thai_stopwords\n",
    "ts = list(thai_stopwords())"
   ]
  },
  {
   "cell_type": "code",
   "execution_count": 59,
   "metadata": {},
   "outputs": [],
   "source": [
    "def features(tokens, index, history):\n",
    "    \"\"\"\n",
    "    `tokens`  = a POS-tagged sentence [(w1, t1), ...]\n",
    "    `index`   = the index of the token we want to extract features for\n",
    "    `history` = the previous predicted IOB tags\n",
    "    \"\"\"\n",
    " \n",
    "    # init the stemmer\n",
    " \n",
    "    # Pad the sequence with placeholders\n",
    "    tokens = [('__START2__', '__START2__'), ('__START1__', '__START1__')] + list(tokens) + [('__END1__', '__END1__'), ('__END2__', '__END2__')]\n",
    "    history = ['__START2__', '__START1__'] + list(history)\n",
    " \n",
    "    # shift the index with 2, to accommodate the padding\n",
    "    index += 2\n",
    " \n",
    "    word, pos = tokens[index]\n",
    "    prevword, prevpos = tokens[index - 1]\n",
    "    prevprevword, prevprevpos = tokens[index - 2]\n",
    "    nextword, nextpos = tokens[index + 1]\n",
    "    nextnextword, nextnextpos = tokens[index + 2]\n",
    " \n",
    "    return {\n",
    "        'word': word,\n",
    "        'word_is_stopword': word in ts,\n",
    "        'pos': pos,\n",
    " \n",
    "        'next-word': nextword,\n",
    "        'next-word_is_stopword': nextword in ts,\n",
    "        'next-pos': nextpos,\n",
    " \n",
    "        'next-next-word': nextnextword,\n",
    "        'nextnextpos': nextnextpos,\n",
    " \n",
    "        'prev-word': prevword,\n",
    "        'prev-pos': prevpos,\n",
    " \n",
    "        'prev-prev-word': prevprevword,\n",
    "        'prev-word_is_stopword': prevprevword in ts,\n",
    "        'prev-prev-pos': prevprevpos,\n",
    "    }\n",
    " "
   ]
  },
  {
   "cell_type": "code",
   "execution_count": 60,
   "metadata": {},
   "outputs": [],
   "source": [
    "class ClassifierChunkParser(ChunkParserI):\n",
    "    def __init__(self, chunked_sents, **kwargs):\n",
    "        assert isinstance(chunked_sents, Iterable)\n",
    " \n",
    "        # Transform the trees in IOB annotated sentences [(word, pos, chunk), ...]\n",
    "        chunked_sents = [tree2conlltags(sent) for sent in chunked_sents]\n",
    " \n",
    "        # Transform the triplets in pairs, make it compatible with the tagger interface [((word, pos), chunk), ...]\n",
    "        def triplets2tagged_pairs(iob_sent):\n",
    "            return [((word, pos), chunk) for word, pos, chunk in iob_sent]\n",
    "        chunked_sents = [triplets2tagged_pairs(sent) for sent in chunked_sents]\n",
    " \n",
    "        self.feature_detector = features\n",
    "        self.tagger = ClassifierBasedTagger(\n",
    "            train=chunked_sents,\n",
    "            feature_detector=features,\n",
    "            **kwargs)\n",
    " \n",
    "    def parse(self, tagged_sent):\n",
    "        chunks = self.tagger.tag(tagged_sent)\n",
    " \n",
    "        # Transform the result from [((w1, t1), iob1), ...] \n",
    "        # to the preferred list of triplets format [(w1, t1, iob1), ...]\n",
    "        iob_triplets = [(w, t, c) for ((w, t), c) in chunks]\n",
    " \n",
    "        # Transform the list of triplets to nltk.Tree format\n",
    "        return conlltags2tree(iob_triplets)"
   ]
  },
  {
   "cell_type": "code",
   "execution_count": 61,
   "metadata": {},
   "outputs": [],
   "source": [
    "classifier_chunker = ClassifierChunkParser(train_sents)"
   ]
  },
  {
   "cell_type": "code",
   "execution_count": 62,
   "metadata": {},
   "outputs": [
    {
     "name": "stdout",
     "output_type": "stream",
     "text": [
      "ChunkParse score:\n",
      "    IOB Accuracy:  51.9%%\n",
      "    Precision:     13.6%%\n",
      "    Recall:        37.5%%\n",
      "    F-Measure:     20.0%%\n"
     ]
    }
   ],
   "source": [
    "print(classifier_chunker.evaluate(test_sents))"
   ]
  },
  {
   "cell_type": "code",
   "execution_count": 63,
   "metadata": {},
   "outputs": [],
   "source": [
    "from sklearn.metrics import make_scorer\n",
    "from sklearn.model_selection import cross_validate,train_test_split\n",
    "import pycrfsuite"
   ]
  },
  {
   "cell_type": "code",
   "execution_count": 64,
   "metadata": {},
   "outputs": [],
   "source": [
    "model_name = \"crf\" "
   ]
  },
  {
   "cell_type": "code",
   "execution_count": 65,
   "metadata": {},
   "outputs": [],
   "source": [
    "def features2(tokens, index):\n",
    "    \"\"\"\n",
    "    `tokens`  = a POS-tagged sentence [(w1, t1), ...]\n",
    "    `index`   = the index of the token we want to extract features for\n",
    "    \"\"\"\n",
    " \n",
    "    # init the stemmer\n",
    " \n",
    "    # Pad the sequence with placeholders\n",
    "    #tokens = [('__START2__', '__START2__'), ('__START1__', '__START1__')] + list(tokens) + [('__END1__', '__END1__'), ('__END2__', '__END2__')]\n",
    " \n",
    "    # shift the index with 2, to accommodate the padding\n",
    "   \n",
    " \n",
    "    word, pos,_ = tokens[index]\n",
    "    f =  {\n",
    "        'word': word,\n",
    "        'word_is_stopword': word in ts,\n",
    "        'pos': pos,\n",
    "    }\n",
    "    if index > 0 and index>1:\n",
    "        prevprevword, prevprevpos,_ = tokens[index - 2]\n",
    "        f['prev-prev-word']= prevprevword\n",
    "        f['prev-prevz-word_is_stopword']= prevprevword in ts\n",
    "        f['prev-prevz-pos']= prevprevpos\n",
    "    if index > 0:\n",
    "        prevword, prevpos,_ = tokens[index-1]\n",
    "        f['prev-word']= prevword\n",
    "        f['prev-word_is_stopword']= prevword in ts\n",
    "        f['prev-pos']= prevpos\n",
    "    else:\n",
    "        f['BOS'] = True\n",
    "    if index< len(tokens)-2:\n",
    "        nextnextword, nextnextpos,_ = tokens[index + 2]\n",
    "        f['nextnext-word']= nextnextword\n",
    "        f['nextnext-word_is_stopword']= nextnextword in ts\n",
    "        f['nextnext-pos']= nextnextpos\n",
    "    if index< len(tokens)-1:\n",
    "        nextword, nextpos,_ = tokens[index+1]\n",
    "        f['next-word']= nextword\n",
    "        f['next-word_is_stopword']= nextword in ts\n",
    "        f['next-pos']= nextpos\n",
    "    else:\n",
    "        f['EOS'] = True\n",
    " \n",
    " \n",
    "    return f"
   ]
  },
  {
   "cell_type": "code",
   "execution_count": 66,
   "metadata": {},
   "outputs": [],
   "source": [
    "#tagger = pycrfsuite.Tagger()"
   ]
  },
  {
   "cell_type": "code",
   "execution_count": 67,
   "metadata": {},
   "outputs": [],
   "source": [
    "def thtb2conll2(t):\n",
    "    tt = Tree.fromstring(t.replace(\"[\",\"(\").replace(\"]\",\")\"))\n",
    "    tt = shallow_tree(tt) #flatten_deeptree(tt)\n",
    "    return tree2conlltags(tt)"
   ]
  },
  {
   "cell_type": "code",
   "execution_count": 68,
   "metadata": {},
   "outputs": [],
   "source": [
    "def extract_features(doc):\n",
    "    return [features2(doc, i) for i in range(0,len(doc))]\n",
    "\n",
    "def get_labels(doc):\n",
    "    return [tag for (token,postag,tag) in doc]"
   ]
  },
  {
   "cell_type": "code",
   "execution_count": 69,
   "metadata": {},
   "outputs": [],
   "source": [
    "from tqdm import tqdm"
   ]
  },
  {
   "cell_type": "code",
   "execution_count": 70,
   "metadata": {},
   "outputs": [],
   "source": [
    "train_sents2 = [tree2conlltags(i) for i in train_sents]"
   ]
  },
  {
   "cell_type": "code",
   "execution_count": 71,
   "metadata": {},
   "outputs": [
    {
     "name": "stderr",
     "output_type": "stream",
     "text": [
      "100%|███████████████████████████████████████████████████████████████████████████████████████████████████████████████████| 5341/5341 [00:05<00:00, 895.83it/s]\n",
      "100%|████████████████████████████████████████████████████████████████████████████████████████████████████████████████| 5341/5341 [00:00<00:00, 340856.60it/s]\n"
     ]
    }
   ],
   "source": [
    "X_data = [extract_features(doc) for doc in tqdm(train_sents2)]\n",
    "y_data = [get_labels(doc) for doc in tqdm(train_sents2)]"
   ]
  },
  {
   "cell_type": "code",
   "execution_count": 72,
   "metadata": {},
   "outputs": [
    {
     "name": "stdout",
     "output_type": "stream",
     "text": [
      "Wall time: 1.25 s\n"
     ]
    }
   ],
   "source": [
    "%%time\n",
    "trainer = pycrfsuite.Trainer(verbose=False)\n",
    "i=0\n",
    "for xseq, yseq in zip(X_data, y_data):\n",
    "    try:\n",
    "      trainer.append(xseq, yseq)\n",
    "      i+=1\n",
    "    except:\n",
    "      pass"
   ]
  },
  {
   "cell_type": "code",
   "execution_count": 73,
   "metadata": {},
   "outputs": [],
   "source": [
    "trainer.set_params({\n",
    "    'c1': 0.1,   # coefficient for L1 penalty\n",
    "    'c2': 0.1,  # coefficient for L2 penalty\n",
    "    'max_iterations': 500,  # stop earlier\n",
    "\n",
    "    # include transitions that are possible, but not observed\n",
    "    'feature.possible_transitions': True\n",
    "})"
   ]
  },
  {
   "cell_type": "code",
   "execution_count": 74,
   "metadata": {},
   "outputs": [
    {
     "name": "stdout",
     "output_type": "stream",
     "text": [
      "Wall time: 49.1 s\n"
     ]
    }
   ],
   "source": [
    "%%time\n",
    "trainer.train(model_name+'.model')"
   ]
  },
  {
   "cell_type": "code",
   "execution_count": 75,
   "metadata": {},
   "outputs": [],
   "source": [
    "test_sents2 = [tree2conlltags(i) for i in test_sents]"
   ]
  },
  {
   "cell_type": "code",
   "execution_count": 76,
   "metadata": {},
   "outputs": [
    {
     "name": "stderr",
     "output_type": "stream",
     "text": [
      "100%|█████████████████████████████████████████████████████████████████████████████████████████████████████████████████████| 593/593 [00:00<00:00, 960.30it/s]\n",
      "100%|██████████████████████████████████████████████████████████████████████████████████████████████████████████████████████████████| 593/593 [00:00<?, ?it/s]\n"
     ]
    }
   ],
   "source": [
    "X_val = [extract_features(doc) for doc in tqdm(test_sents2)]\n",
    "y_val = [get_labels(doc) for doc in tqdm(test_sents2)]"
   ]
  },
  {
   "cell_type": "code",
   "execution_count": 77,
   "metadata": {},
   "outputs": [],
   "source": [
    "from sklearn.preprocessing import LabelBinarizer\n",
    "from itertools import chain\n",
    "from sklearn.metrics import classification_report\n",
    "def bio_classification_report(y_true, y_pred):\n",
    "    \"\"\"\n",
    "    Classification report for a list of BIO-encoded sequences.\n",
    "    It computes token-level metrics and discards \"O\" labels.\n",
    "    \n",
    "    Note that it requires scikit-learn 0.15+ (or a version from github master)\n",
    "    to calculate averages properly!\n",
    "    \"\"\"\n",
    "    lb = LabelBinarizer()\n",
    "    y_true_combined = lb.fit_transform(list(chain.from_iterable(y_true)))\n",
    "    y_pred_combined = lb.transform(list(chain.from_iterable(y_pred)))\n",
    "        \n",
    "    tagset = set(lb.classes_) #- {'O'}\n",
    "    tagset = sorted(tagset, key=lambda tag: tag.split('-', 1)[::-1])\n",
    "    class_indices = {cls: idx for idx, cls in enumerate(lb.classes_)}\n",
    "    \n",
    "    return classification_report(\n",
    "        y_true_combined,\n",
    "        y_pred_combined,\n",
    "        labels = [class_indices[cls] for cls in tagset],\n",
    "        target_names = tagset,\n",
    "    )"
   ]
  },
  {
   "cell_type": "code",
   "execution_count": 78,
   "metadata": {},
   "outputs": [
    {
     "data": {
      "text/plain": [
       "<contextlib.closing at 0x19bb5785550>"
      ]
     },
     "execution_count": 78,
     "metadata": {},
     "output_type": "execute_result"
    }
   ],
   "source": [
    "tagger = pycrfsuite.Tagger()\n",
    "tagger.open(model_name+'.model')"
   ]
  },
  {
   "cell_type": "code",
   "execution_count": 79,
   "metadata": {},
   "outputs": [
    {
     "name": "stdout",
     "output_type": "stream",
     "text": [
      "Wall time: 195 ms\n"
     ]
    }
   ],
   "source": [
    "%%time\n",
    "y_pred = [tagger.tag(xseq) for xseq in X_val]"
   ]
  },
  {
   "cell_type": "code",
   "execution_count": 80,
   "metadata": {},
   "outputs": [],
   "source": [
    "labels = list(tagger.info().labels.keys())"
   ]
  },
  {
   "cell_type": "code",
   "execution_count": 81,
   "metadata": {},
   "outputs": [],
   "source": [
    "from sklearn.metrics import f1_score"
   ]
  },
  {
   "cell_type": "code",
   "execution_count": 82,
   "metadata": {},
   "outputs": [
    {
     "name": "stdout",
     "output_type": "stream",
     "text": [
      "              precision    recall  f1-score   support\n",
      "\n",
      "        B-NP       0.95      0.98      0.96       518\n",
      "        I-NP       0.86      0.91      0.88      2128\n",
      "           O       0.87      0.91      0.89       280\n",
      "        B-PP       0.91      0.77      0.83        65\n",
      "        I-PP       0.66      0.52      0.59       252\n",
      "         B-S       0.65      0.49      0.56        90\n",
      "         I-S       0.67      0.49      0.56      1082\n",
      "        B-VP       0.86      0.89      0.88       515\n",
      "        I-VP       0.90      0.94      0.92      4565\n",
      "\n",
      "   micro avg       0.86      0.86      0.86      9495\n",
      "   macro avg       0.81      0.77      0.79      9495\n",
      "weighted avg       0.86      0.86      0.86      9495\n",
      " samples avg       0.86      0.86      0.86      9495\n",
      "\n"
     ]
    }
   ],
   "source": [
    "print(bio_classification_report(y_val, y_pred))"
   ]
  },
  {
   "cell_type": "code",
   "execution_count": 83,
   "metadata": {},
   "outputs": [],
   "source": [
    "from pythainlp.tokenize import word_tokenize\n",
    "from pythainlp.tag import pos_tag\n",
    "def test(txt):\n",
    "    m = [(w,t,None) for w,t in pos_tag(word_tokenize(txt), engine= 'perceptron',corpus = 'orchid')]\n",
    "    x = extract_features(m)\n",
    "    tag = tagger.tag(x)\n",
    "    p = [(w,t,tag[i]) for i,(w,t,_) in enumerate(m)]\n",
    "    return p"
   ]
  },
  {
   "cell_type": "code",
   "execution_count": 84,
   "metadata": {},
   "outputs": [
    {
     "data": {
      "text/plain": [
       "[('ได้', 'XVAM', 'B-NP'),\n",
       " ('เวลานอน', 'ADVN', 'I-NP'),\n",
       " ('แล้ว', 'XVAE', 'B-VP')]"
      ]
     },
     "execution_count": 84,
     "metadata": {},
     "output_type": "execute_result"
    }
   ],
   "source": [
    "test(\"ได้เวลานอนแล้ว\")"
   ]
  },
  {
   "cell_type": "code",
   "execution_count": 85,
   "metadata": {},
   "outputs": [
    {
     "data": {
      "text/plain": [
       "[('ตา', 'NCMN', 'B-NP'),\n",
       " ('และ', 'JCRG', 'I-NP'),\n",
       " ('ยาย', 'VACT', 'I-NP'),\n",
       " ('ไป', 'XVAE', 'B-VP'),\n",
       " ('โรงเรียน', 'NCMN', 'I-VP')]"
      ]
     },
     "execution_count": 85,
     "metadata": {},
     "output_type": "execute_result"
    }
   ],
   "source": [
    "test(\"ตาและยายไปโรงเรียน\")"
   ]
  },
  {
   "cell_type": "code",
   "execution_count": 86,
   "metadata": {},
   "outputs": [],
   "source": [
    "u=conlltags2tree(test(\"ตาและยายไปโรงเรียน\"))"
   ]
  },
  {
   "cell_type": "code",
   "execution_count": 87,
   "metadata": {},
   "outputs": [
    {
     "name": "stdout",
     "output_type": "stream",
     "text": [
      "(S (NP ตา/NCMN และ/JCRG ยาย/VACT) (VP ไป/XVAE โรงเรียน/NCMN))\n"
     ]
    }
   ],
   "source": [
    "print(u)"
   ]
  },
  {
   "cell_type": "code",
   "execution_count": 88,
   "metadata": {},
   "outputs": [],
   "source": [
    "u=conlltags2tree(test(\"การประชุมอบรมครั้งที่ 1\"))"
   ]
  },
  {
   "cell_type": "code",
   "execution_count": 89,
   "metadata": {},
   "outputs": [
    {
     "name": "stdout",
     "output_type": "stream",
     "text": [
      "(S\n",
      "  (NP การประชุม/NCMN)\n",
      "  (VP อบรม/VACT ครั้ง/CFQC ที่/PREL  /PUNC 1/DCNM))\n"
     ]
    }
   ],
   "source": [
    "print(u)"
   ]
  },
  {
   "cell_type": "code",
   "execution_count": 90,
   "metadata": {},
   "outputs": [],
   "source": [
    "u=conlltags2tree(test(\"แมวกินปลาทู\"))"
   ]
  },
  {
   "cell_type": "code",
   "execution_count": 91,
   "metadata": {},
   "outputs": [
    {
     "name": "stdout",
     "output_type": "stream",
     "text": [
      "(S (NP แมว/NCMN) (VP กิน/VACT ปลาทู/NCMN))\n"
     ]
    }
   ],
   "source": [
    "print(u)"
   ]
  },
  {
   "cell_type": "code",
   "execution_count": 92,
   "metadata": {},
   "outputs": [
    {
     "name": "stdout",
     "output_type": "stream",
     "text": [
      "(S (NP แมว/NCMN เขียว/NCMN) (VP กิน/VACT ปลาแดง/NCMN))\n"
     ]
    }
   ],
   "source": [
    "u=conlltags2tree(test(\"แมวเขียวกินปลาแดง\"))\n",
    "print(u)"
   ]
  },
  {
   "cell_type": "code",
   "execution_count": 93,
   "metadata": {},
   "outputs": [],
   "source": [
    "import dill"
   ]
  },
  {
   "cell_type": "code",
   "execution_count": 97,
   "metadata": {},
   "outputs": [],
   "source": [
    "with open(\"test_sents.data\", \"wb\") as dill_file:\n",
    "    dill.dump(test_sents2, dill_file)"
   ]
  },
  {
   "cell_type": "code",
   "execution_count": 98,
   "metadata": {},
   "outputs": [],
   "source": [
    "with open(\"train_sents.data\", \"wb\") as dill_file:\n",
    "    dill.dump(train_sents2, dill_file)"
   ]
  },
  {
   "cell_type": "code",
   "execution_count": 99,
   "metadata": {},
   "outputs": [],
   "source": [
    "with open(\"test_sents.data\", 'rb') as in_strm:\n",
    "    test_sents = dill.load(in_strm)"
   ]
  },
  {
   "cell_type": "code",
   "execution_count": 100,
   "metadata": {},
   "outputs": [],
   "source": [
    "with open(\"train_sents.data\", 'rb') as in_strm:\n",
    "    train_sents = dill.load(in_strm)"
   ]
  },
  {
   "cell_type": "code",
   "execution_count": 101,
   "metadata": {},
   "outputs": [],
   "source": [
    "import nltk\n",
    "\n",
    "class UnigramChunker(nltk.ChunkParserI):\n",
    "    def __init__(self, train_sents):\n",
    "        train_data = [[(t,c) for w,t,c in nltk.chunk.tree2conlltags(sent)] for sent in train_sents]\n",
    "        self.tagger = nltk.UnigramTagger(train_data)\n",
    "\n",
    "    def parse(self, sentence):\n",
    "        pos_tags = [pos for (word, pos) in sentence]\n",
    "        tagged_pos_tags = self.tagger.tag(pos_tags)\n",
    "        chunktags = [chunktag for (pos, chunktag) in tagged_pos_tags]\n",
    "        conlltags = [(word, pos, chunktag) for ((word, pos), chunktag) in zip(sentence, chunktags)]\n",
    "        return nltk.chunk.util.conlltags2tree(conlltags)\n",
    "\n",
    "def npchunk_features(sentence, i, history):\n",
    "    word, pos = sentence[i]\n",
    "    if i == 0:\n",
    "       prevword, prevpos = \"<START>\", \"<START>\"\n",
    "    else:\n",
    "       prevword, prevpos = sentence[i-1]\n",
    "    return {\"pos\": pos, \"prevpos\": prevpos}\n",
    "\n",
    "class ConsecutiveNPChunkTagger(nltk.TaggerI):\n",
    "\n",
    "    def __init__(self, train_sents):\n",
    "        train_set = []\n",
    "        for tagged_sent in train_sents:\n",
    "            untagged_sent = nltk.tag.untag(tagged_sent)\n",
    "            history = []\n",
    "            for i, (word, tag) in enumerate(tagged_sent):\n",
    "                featureset = npchunk_features(untagged_sent, i, history)\n",
    "                train_set.append( (featureset, tag) )\n",
    "                history.append(tag)\n",
    "        self.classifier = nltk.MaxentClassifier.train(\n",
    "            train_set, algorithm='IIS', trace=0)\n",
    "\n",
    "    def tag(self, sentence):\n",
    "        history = []\n",
    "        for i, word in enumerate(sentence):\n",
    "            featureset = npchunk_features(sentence, i, history)\n",
    "            tag = self.classifier.classify(featureset)\n",
    "            history.append(tag)\n",
    "        return zip(sentence, history)\n",
    "\n",
    "class ConsecutiveNPChunker(nltk.ChunkParserI):\n",
    "    def __init__(self, train_sents):\n",
    "        tagged_sents = [[((w,t),c) for (w,t,c) in\n",
    "                         nltk.chunk.tree2conlltags(sent)]\n",
    "                        for sent in train_sents]\n",
    "        self.tagger = ConsecutiveNPChunkTagger(tagged_sents)\n",
    "\n",
    "    def parse(self, sentence):\n",
    "        tagged_sents = self.tagger.tag(sentence)\n",
    "        conlltags = [(w,t,c) for ((w,t),c) in tagged_sents]\n",
    "        return nltk.chunk.conlltags2tree(conlltags)"
   ]
  },
  {
   "cell_type": "code",
   "execution_count": 102,
   "metadata": {},
   "outputs": [],
   "source": [
    "chunker = ConsecutiveNPChunker(train_sents)"
   ]
  },
  {
   "cell_type": "code",
   "execution_count": 103,
   "metadata": {},
   "outputs": [],
   "source": [
    "p=[(i,j) for i, j,_ in test_sents[0]]"
   ]
  },
  {
   "cell_type": "code",
   "execution_count": 104,
   "metadata": {},
   "outputs": [
    {
     "name": "stderr",
     "output_type": "stream",
     "text": [
      "The Ghostscript executable isn't found.\n",
      "See http://web.mit.edu/ghostscript/www/Install.htm\n",
      "If you're using a Mac, you can try installing\n",
      "https://docs.brew.sh/Installation then `brew install ghostscript`\n"
     ]
    },
    {
     "ename": "LookupError",
     "evalue": "",
     "output_type": "error",
     "traceback": [
      "\u001b[1;31m---------------------------------------------------------------------------\u001b[0m",
      "\u001b[1;31mLookupError\u001b[0m                               Traceback (most recent call last)",
      "\u001b[1;32mc:\\python\\python38\\lib\\site-packages\\nltk\\tree.py\u001b[0m in \u001b[0;36m_repr_png_\u001b[1;34m(self)\u001b[0m\n\u001b[0;32m    797\u001b[0m                     [\n\u001b[1;32m--> 798\u001b[1;33m                         find_binary(\n\u001b[0m\u001b[0;32m    799\u001b[0m                             \u001b[1;34m\"gs\"\u001b[0m\u001b[1;33m,\u001b[0m\u001b[1;33m\u001b[0m\u001b[1;33m\u001b[0m\u001b[0m\n",
      "\u001b[1;32mc:\\python\\python38\\lib\\site-packages\\nltk\\internals.py\u001b[0m in \u001b[0;36mfind_binary\u001b[1;34m(name, path_to_bin, env_vars, searchpath, binary_names, url, verbose)\u001b[0m\n\u001b[0;32m    687\u001b[0m ):\n\u001b[1;32m--> 688\u001b[1;33m     return next(\n\u001b[0m\u001b[0;32m    689\u001b[0m         find_binary_iter(\n",
      "\u001b[1;32mc:\\python\\python38\\lib\\site-packages\\nltk\\internals.py\u001b[0m in \u001b[0;36mfind_binary_iter\u001b[1;34m(name, path_to_bin, env_vars, searchpath, binary_names, url, verbose)\u001b[0m\n\u001b[0;32m    672\u001b[0m     \"\"\"\n\u001b[1;32m--> 673\u001b[1;33m     for file in find_file_iter(\n\u001b[0m\u001b[0;32m    674\u001b[0m         \u001b[0mpath_to_bin\u001b[0m \u001b[1;32mor\u001b[0m \u001b[0mname\u001b[0m\u001b[1;33m,\u001b[0m \u001b[0menv_vars\u001b[0m\u001b[1;33m,\u001b[0m \u001b[0msearchpath\u001b[0m\u001b[1;33m,\u001b[0m \u001b[0mbinary_names\u001b[0m\u001b[1;33m,\u001b[0m \u001b[0murl\u001b[0m\u001b[1;33m,\u001b[0m \u001b[0mverbose\u001b[0m\u001b[1;33m\u001b[0m\u001b[1;33m\u001b[0m\u001b[0m\n",
      "\u001b[1;32mc:\\python\\python38\\lib\\site-packages\\nltk\\internals.py\u001b[0m in \u001b[0;36mfind_file_iter\u001b[1;34m(filename, env_vars, searchpath, file_names, url, verbose, finding_dir)\u001b[0m\n\u001b[0;32m    631\u001b[0m         \u001b[0mdiv\u001b[0m \u001b[1;33m=\u001b[0m \u001b[1;34m\"=\"\u001b[0m \u001b[1;33m*\u001b[0m \u001b[1;36m75\u001b[0m\u001b[1;33m\u001b[0m\u001b[1;33m\u001b[0m\u001b[0m\n\u001b[1;32m--> 632\u001b[1;33m         \u001b[1;32mraise\u001b[0m \u001b[0mLookupError\u001b[0m\u001b[1;33m(\u001b[0m\u001b[1;34m\"\\n\\n%s\\n%s\\n%s\"\u001b[0m \u001b[1;33m%\u001b[0m \u001b[1;33m(\u001b[0m\u001b[0mdiv\u001b[0m\u001b[1;33m,\u001b[0m \u001b[0mmsg\u001b[0m\u001b[1;33m,\u001b[0m \u001b[0mdiv\u001b[0m\u001b[1;33m)\u001b[0m\u001b[1;33m)\u001b[0m\u001b[1;33m\u001b[0m\u001b[1;33m\u001b[0m\u001b[0m\n\u001b[0m\u001b[0;32m    633\u001b[0m \u001b[1;33m\u001b[0m\u001b[0m\n",
      "\u001b[1;31mLookupError\u001b[0m: \n\n===========================================================================\nNLTK was unable to find the gs file!\nUse software specific configuration paramaters or set the PATH environment variable.\n===========================================================================",
      "\nDuring handling of the above exception, another exception occurred:\n",
      "\u001b[1;31mLookupError\u001b[0m                               Traceback (most recent call last)",
      "\u001b[1;32mc:\\python\\python38\\lib\\site-packages\\IPython\\core\\formatters.py\u001b[0m in \u001b[0;36m__call__\u001b[1;34m(self, obj)\u001b[0m\n\u001b[0;32m    343\u001b[0m             \u001b[0mmethod\u001b[0m \u001b[1;33m=\u001b[0m \u001b[0mget_real_method\u001b[0m\u001b[1;33m(\u001b[0m\u001b[0mobj\u001b[0m\u001b[1;33m,\u001b[0m \u001b[0mself\u001b[0m\u001b[1;33m.\u001b[0m\u001b[0mprint_method\u001b[0m\u001b[1;33m)\u001b[0m\u001b[1;33m\u001b[0m\u001b[1;33m\u001b[0m\u001b[0m\n\u001b[0;32m    344\u001b[0m             \u001b[1;32mif\u001b[0m \u001b[0mmethod\u001b[0m \u001b[1;32mis\u001b[0m \u001b[1;32mnot\u001b[0m \u001b[1;32mNone\u001b[0m\u001b[1;33m:\u001b[0m\u001b[1;33m\u001b[0m\u001b[1;33m\u001b[0m\u001b[0m\n\u001b[1;32m--> 345\u001b[1;33m                 \u001b[1;32mreturn\u001b[0m \u001b[0mmethod\u001b[0m\u001b[1;33m(\u001b[0m\u001b[1;33m)\u001b[0m\u001b[1;33m\u001b[0m\u001b[1;33m\u001b[0m\u001b[0m\n\u001b[0m\u001b[0;32m    346\u001b[0m             \u001b[1;32mreturn\u001b[0m \u001b[1;32mNone\u001b[0m\u001b[1;33m\u001b[0m\u001b[1;33m\u001b[0m\u001b[0m\n\u001b[0;32m    347\u001b[0m         \u001b[1;32melse\u001b[0m\u001b[1;33m:\u001b[0m\u001b[1;33m\u001b[0m\u001b[1;33m\u001b[0m\u001b[0m\n",
      "\u001b[1;32mc:\\python\\python38\\lib\\site-packages\\nltk\\tree.py\u001b[0m in \u001b[0;36m_repr_png_\u001b[1;34m(self)\u001b[0m\n\u001b[0;32m    815\u001b[0m                 )\n\u001b[0;32m    816\u001b[0m                 \u001b[0mprint\u001b[0m\u001b[1;33m(\u001b[0m\u001b[0mpre_error_message\u001b[0m\u001b[1;33m,\u001b[0m \u001b[0mfile\u001b[0m\u001b[1;33m=\u001b[0m\u001b[0msys\u001b[0m\u001b[1;33m.\u001b[0m\u001b[0mstderr\u001b[0m\u001b[1;33m)\u001b[0m\u001b[1;33m\u001b[0m\u001b[1;33m\u001b[0m\u001b[0m\n\u001b[1;32m--> 817\u001b[1;33m                 \u001b[1;32mraise\u001b[0m \u001b[0mLookupError\u001b[0m\u001b[1;33m\u001b[0m\u001b[1;33m\u001b[0m\u001b[0m\n\u001b[0m\u001b[0;32m    818\u001b[0m \u001b[1;33m\u001b[0m\u001b[0m\n\u001b[0;32m    819\u001b[0m             \u001b[1;32mwith\u001b[0m \u001b[0mopen\u001b[0m\u001b[1;33m(\u001b[0m\u001b[0mout_path\u001b[0m\u001b[1;33m,\u001b[0m \u001b[1;34m\"rb\"\u001b[0m\u001b[1;33m)\u001b[0m \u001b[1;32mas\u001b[0m \u001b[0msr\u001b[0m\u001b[1;33m:\u001b[0m\u001b[1;33m\u001b[0m\u001b[1;33m\u001b[0m\u001b[0m\n",
      "\u001b[1;31mLookupError\u001b[0m: "
     ]
    },
    {
     "data": {
      "text/plain": [
       "Tree('S', [('4', 'NCMN'), ('<full_stop>', 'NCMN'), ('<space>', 'PUNC'), ('ลด', 'VACT'), ('ขั้นตอน', 'NCMN'), ('การ', 'FIXN'), ('ผลิต', 'VACT'), ('<space>', 'PUNC'), ('gate', 'NCMN'), ('array', 'NCMN')])"
      ]
     },
     "execution_count": 104,
     "metadata": {},
     "output_type": "execute_result"
    }
   ],
   "source": [
    "chunker.parse(p)"
   ]
  },
  {
   "cell_type": "code",
   "execution_count": 105,
   "metadata": {},
   "outputs": [
    {
     "data": {
      "text/plain": [
       "[('4', 'NCMN', 'B-NP'),\n",
       " ('<full_stop>', 'NCMN', 'I-NP'),\n",
       " ('<space>', 'PUNC', 'O'),\n",
       " ('ลด', 'VACT', 'B-VP'),\n",
       " ('ขั้นตอน', 'NCMN', 'I-VP'),\n",
       " ('การ', 'FIXN', 'I-VP'),\n",
       " ('ผลิต', 'VACT', 'I-VP'),\n",
       " ('<space>', 'PUNC', 'I-VP'),\n",
       " ('gate', 'NCMN', 'I-VP'),\n",
       " ('array', 'NCMN', 'I-VP')]"
      ]
     },
     "execution_count": 105,
     "metadata": {},
     "output_type": "execute_result"
    }
   ],
   "source": [
    "test_sents[0]"
   ]
  },
  {
   "cell_type": "code",
   "execution_count": null,
   "metadata": {},
   "outputs": [],
   "source": []
  },
  {
   "cell_type": "code",
   "execution_count": 108,
   "metadata": {},
   "outputs": [
    {
     "ename": "AttributeError",
     "evalue": "'list' object has no attribute 'leaves'",
     "output_type": "error",
     "traceback": [
      "\u001b[1;31m---------------------------------------------------------------------------\u001b[0m",
      "\u001b[1;31mAttributeError\u001b[0m                            Traceback (most recent call last)",
      "\u001b[1;32m<ipython-input-108-ab119bd1dc0f>\u001b[0m in \u001b[0;36m<module>\u001b[1;34m\u001b[0m\n\u001b[1;32m----> 1\u001b[1;33m \u001b[0mprint\u001b[0m\u001b[1;33m(\u001b[0m\u001b[0mchunker\u001b[0m\u001b[1;33m.\u001b[0m\u001b[0mevaluate\u001b[0m\u001b[1;33m(\u001b[0m\u001b[0mtest_sents\u001b[0m\u001b[1;33m)\u001b[0m\u001b[1;33m)\u001b[0m\u001b[1;33m\u001b[0m\u001b[1;33m\u001b[0m\u001b[0m\n\u001b[0m",
      "\u001b[1;32mc:\\python\\python38\\lib\\site-packages\\nltk\\chunk\\api.py\u001b[0m in \u001b[0;36mevaluate\u001b[1;34m(self, gold)\u001b[0m\n\u001b[0;32m     49\u001b[0m         \u001b[0mchunkscore\u001b[0m \u001b[1;33m=\u001b[0m \u001b[0mChunkScore\u001b[0m\u001b[1;33m(\u001b[0m\u001b[1;33m)\u001b[0m\u001b[1;33m\u001b[0m\u001b[1;33m\u001b[0m\u001b[0m\n\u001b[0;32m     50\u001b[0m         \u001b[1;32mfor\u001b[0m \u001b[0mcorrect\u001b[0m \u001b[1;32min\u001b[0m \u001b[0mgold\u001b[0m\u001b[1;33m:\u001b[0m\u001b[1;33m\u001b[0m\u001b[1;33m\u001b[0m\u001b[0m\n\u001b[1;32m---> 51\u001b[1;33m             \u001b[0mchunkscore\u001b[0m\u001b[1;33m.\u001b[0m\u001b[0mscore\u001b[0m\u001b[1;33m(\u001b[0m\u001b[0mcorrect\u001b[0m\u001b[1;33m,\u001b[0m \u001b[0mself\u001b[0m\u001b[1;33m.\u001b[0m\u001b[0mparse\u001b[0m\u001b[1;33m(\u001b[0m\u001b[0mcorrect\u001b[0m\u001b[1;33m.\u001b[0m\u001b[0mleaves\u001b[0m\u001b[1;33m(\u001b[0m\u001b[1;33m)\u001b[0m\u001b[1;33m)\u001b[0m\u001b[1;33m)\u001b[0m\u001b[1;33m\u001b[0m\u001b[1;33m\u001b[0m\u001b[0m\n\u001b[0m\u001b[0;32m     52\u001b[0m         \u001b[1;32mreturn\u001b[0m \u001b[0mchunkscore\u001b[0m\u001b[1;33m\u001b[0m\u001b[1;33m\u001b[0m\u001b[0m\n",
      "\u001b[1;31mAttributeError\u001b[0m: 'list' object has no attribute 'leaves'"
     ]
    }
   ],
   "source": [
    "print(chunker.evaluate(test_sents))"
   ]
  },
  {
   "cell_type": "code",
   "execution_count": null,
   "metadata": {},
   "outputs": [],
   "source": []
  }
 ],
 "metadata": {
  "kernelspec": {
   "display_name": "Python 3",
   "language": "python",
   "name": "python3"
  },
  "language_info": {
   "codemirror_mode": {
    "name": "ipython",
    "version": 3
   },
   "file_extension": ".py",
   "mimetype": "text/x-python",
   "name": "python",
   "nbconvert_exporter": "python",
   "pygments_lexer": "ipython3",
   "version": "3.8.5"
  }
 },
 "nbformat": 4,
 "nbformat_minor": 4
}
