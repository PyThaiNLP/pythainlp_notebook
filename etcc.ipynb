{
  "nbformat": 4,
  "nbformat_minor": 0,
  "metadata": {
    "colab": {
      "name": "etcc-lab.ipynb",
      "provenance": [],
      "collapsed_sections": [],
      "toc_visible": true
    },
    "kernelspec": {
      "name": "python3",
      "display_name": "Python 3"
    }
  },
  "cells": [
    {
      "cell_type": "code",
      "metadata": {
        "id": "dtRPpZn6JS9C",
        "colab": {
          "base_uri": "https://localhost:8080/",
          "height": 732
        },
        "outputId": "5b4900e7-8a67-49a8-a885-de7ed7f7ef41"
      },
      "source": [
        "!pip install sre-yield pythainlp"
      ],
      "execution_count": null,
      "outputs": [
        {
          "output_type": "stream",
          "text": [
            "Collecting sre-yield\n",
            "  Downloading https://files.pythonhosted.org/packages/19/f2/dd65830662f61afc67df940446407766cc4d529de78b1e3ecc4c3c862a44/sre_yield-1.2-py3-none-any.whl\n",
            "Collecting pythainlp\n",
            "\u001b[?25l  Downloading https://files.pythonhosted.org/packages/cb/14/b80930a2cc09ed6b5f8a22da9be6ece56939839ae66d921d9c7123034ba0/pythainlp-2.1.4-py3-none-any.whl (11.1MB)\n",
            "\u001b[K     |████████████████████████████████| 11.1MB 8.1MB/s \n",
            "\u001b[?25hCollecting tinydb>=3.0\n",
            "  Downloading https://files.pythonhosted.org/packages/22/11/c3adfc1b367d1955461f82a4a0a8ffffd37b193e98f2fe89338cdd4a8a6a/tinydb-3.15.2-py2.py3-none-any.whl\n",
            "Collecting nltk>=3.3\n",
            "\u001b[?25l  Downloading https://files.pythonhosted.org/packages/f6/1d/d925cfb4f324ede997f6d47bea4d9babba51b49e87a767c170b77005889d/nltk-3.4.5.zip (1.5MB)\n",
            "\u001b[K     |████████████████████████████████| 1.5MB 36.0MB/s \n",
            "\u001b[?25hRequirement already satisfied: dill>=0.3.0 in /usr/local/lib/python3.6/dist-packages (from pythainlp) (0.3.1.1)\n",
            "Collecting requests>=2.22.0\n",
            "\u001b[?25l  Downloading https://files.pythonhosted.org/packages/51/bd/23c926cd341ea6b7dd0b2a00aba99ae0f828be89d72b2190f27c11d4b7fb/requests-2.22.0-py2.py3-none-any.whl (57kB)\n",
            "\u001b[K     |████████████████████████████████| 61kB 7.9MB/s \n",
            "\u001b[?25hRequirement already satisfied: tqdm>=4.1 in /usr/local/lib/python3.6/dist-packages (from pythainlp) (4.28.1)\n",
            "Requirement already satisfied: six in /usr/local/lib/python3.6/dist-packages (from nltk>=3.3->pythainlp) (1.12.0)\n",
            "Requirement already satisfied: idna<2.9,>=2.5 in /usr/local/lib/python3.6/dist-packages (from requests>=2.22.0->pythainlp) (2.8)\n",
            "Requirement already satisfied: certifi>=2017.4.17 in /usr/local/lib/python3.6/dist-packages (from requests>=2.22.0->pythainlp) (2019.11.28)\n",
            "Requirement already satisfied: urllib3!=1.25.0,!=1.25.1,<1.26,>=1.21.1 in /usr/local/lib/python3.6/dist-packages (from requests>=2.22.0->pythainlp) (1.24.3)\n",
            "Requirement already satisfied: chardet<3.1.0,>=3.0.2 in /usr/local/lib/python3.6/dist-packages (from requests>=2.22.0->pythainlp) (3.0.4)\n",
            "Building wheels for collected packages: nltk\n",
            "  Building wheel for nltk (setup.py) ... \u001b[?25l\u001b[?25hdone\n",
            "  Created wheel for nltk: filename=nltk-3.4.5-cp36-none-any.whl size=1449905 sha256=1da972553c17424333c73ffd46f9856adc1fe3248ad654f6a9d1a88d2ae07ed4\n",
            "  Stored in directory: /root/.cache/pip/wheels/96/86/f6/68ab24c23f207c0077381a5e3904b2815136b879538a24b483\n",
            "Successfully built nltk\n",
            "\u001b[31mERROR: google-colab 1.0.0 has requirement requests~=2.21.0, but you'll have requests 2.22.0 which is incompatible.\u001b[0m\n",
            "\u001b[31mERROR: datascience 0.10.6 has requirement folium==0.2.1, but you'll have folium 0.8.3 which is incompatible.\u001b[0m\n",
            "Installing collected packages: sre-yield, tinydb, nltk, requests, pythainlp\n",
            "  Found existing installation: nltk 3.2.5\n",
            "    Uninstalling nltk-3.2.5:\n",
            "      Successfully uninstalled nltk-3.2.5\n",
            "  Found existing installation: requests 2.21.0\n",
            "    Uninstalling requests-2.21.0:\n",
            "      Successfully uninstalled requests-2.21.0\n",
            "Successfully installed nltk-3.4.5 pythainlp-2.1.4 requests-2.22.0 sre-yield-1.2 tinydb-3.15.2\n"
          ],
          "name": "stdout"
        },
        {
          "output_type": "display_data",
          "data": {
            "application/vnd.colab-display-data+json": {
              "pip_warning": {
                "packages": [
                  "requests"
                ]
              }
            }
          },
          "metadata": {
            "tags": []
          }
        }
      ]
    },
    {
      "cell_type": "code",
      "metadata": {
        "id": "eywp8-vDKZHg"
      },
      "source": [
        "RE_TCC = (\n",
        "    \"\"\"\\\n",
        "เc็c\n",
        "เcctาะ\n",
        "เccีtยะ\n",
        "เccีtย(?=[เ-ไก-ฮ]|$)\n",
        "เcc็c\n",
        "เcิc์c\n",
        "เcิtc\n",
        "เcีtยะ?\n",
        "เcืtอะ?\n",
        "เc[ิีุู]tย(?=[เ-ไก-ฮ]|$)\n",
        "เctา?ะ?\n",
        "cัtวะ\n",
        "c[ัื]tc[ุิะ]?\n",
        "c[ิุู]์\n",
        "c[ะ-ู]t\n",
        "c็\n",
        "ct[ะาำ]?\n",
        "แc็c\n",
        "แcc์\n",
        "แctะ\n",
        "แcc็c\n",
        "แccc์\n",
        "โctะ\n",
        "[เ-ไ]ct\n",
        "\"\"\".replace(\n",
        "        \"c\", \"[ก-ฮ]\"\n",
        "    )\n",
        "    .replace(\"t\", \"[่-๋]?\")\n",
        "    .split()\n",
        ")"
      ],
      "execution_count": null,
      "outputs": []
    },
    {
      "cell_type": "code",
      "metadata": {
        "id": "9ydAUmErKe9R"
      },
      "source": [
        "PAT_TCC = \"|\".join(RE_TCC)"
      ],
      "execution_count": null,
      "outputs": []
    },
    {
      "cell_type": "code",
      "metadata": {
        "id": "w7KQjHMeKksb"
      },
      "source": [
        "import sre_yield"
      ],
      "execution_count": null,
      "outputs": []
    },
    {
      "cell_type": "code",
      "metadata": {
        "id": "vjspbb9CKoCg"
      },
      "source": [
        "#th=list(sre_yield.AllStrings(PAT_TCC))"
      ],
      "execution_count": null,
      "outputs": []
    },
    {
      "cell_type": "code",
      "metadata": {
        "id": "7gE4gNvyKzdR"
      },
      "source": [
        "#len(th)"
      ],
      "execution_count": null,
      "outputs": []
    },
    {
      "cell_type": "code",
      "metadata": {
        "id": "v-Zn1yY3Te7M"
      },
      "source": [
        "from pythainlp import thai_characters,thai_letters"
      ],
      "execution_count": null,
      "outputs": []
    },
    {
      "cell_type": "code",
      "metadata": {
        "id": "5gqtaib8PbbZ"
      },
      "source": [
        "a=\"[ก-ฮ]\"#\"[ขคฆดจฉชซฌฎฏฑฒตทธศษสปพฟภญณรลฬ]\""
      ],
      "execution_count": null,
      "outputs": []
    },
    {
      "cell_type": "code",
      "metadata": {
        "id": "YtEmDKxkRWMR"
      },
      "source": [
        "RE_ETCC = (\n",
        "    \"\"\"\\\n",
        "FV+C+UV1+([UV2]?)+RC\n",
        "FV+C+([C]?)+RV1+RV2\n",
        "C+UV1+([UV2]?)+RC\n",
        "FV+C+UV+RC\n",
        "C+((C+((UV1)?)+((LV)?)+UV2)?)\n",
        "\"\"\".replace(\"RC\",a)\n",
        "    .replace(\"C\",\"[ก-ฮ]\")\n",
        "    .replace(\"RV1\",\"า\")\n",
        "    .replace(\"RV2\",\"ะ\")\n",
        "    .replace(\"UV1\",\"ิ\")\n",
        "    .replace(\"UV2\",\"์\")\n",
        "    .replace(\"UV\",\"[ิีื๊็์่้๊๋]\")\n",
        "    .replace(\"FV\",\"[เแโไใ]\")\n",
        "    .replace(\"LV\",\"[ุู]\")\n",
        "    .replace(\"RV\",\"[ะาๆฯๅำ]\")\n",
        "    .replace(\"+\",\"\")\n",
        "    .split()\n",
        ")"
      ],
      "execution_count": null,
      "outputs": []
    },
    {
      "cell_type": "code",
      "metadata": {
        "id": "DLJEKEyPLA5Y"
      },
      "source": [
        ""
      ],
      "execution_count": null,
      "outputs": []
    },
    {
      "cell_type": "code",
      "metadata": {
        "id": "3qCRV-E0SOWl"
      },
      "source": [
        "PAT_ETCC = \"|\".join(RE_ETCC)"
      ],
      "execution_count": null,
      "outputs": []
    },
    {
      "cell_type": "code",
      "metadata": {
        "id": "LV3frwx2SRwr",
        "colab": {
          "base_uri": "https://localhost:8080/",
          "height": 34
        },
        "outputId": "7a7f9476-de23-42f6-b7af-a7bb290e7f42"
      },
      "source": [
        "PAT_ETCC"
      ],
      "execution_count": null,
      "outputs": [
        {
          "output_type": "execute_result",
          "data": {
            "text/plain": [
              "'[เแโไใ][ก-ฮ]ิ([์]?)[ก-ฮ]|[เแโไใ][ก-ฮ]([[ก-ฮ]]?)าะ|[ก-ฮ]ิ([์]?)[ก-ฮ]|[เแโไใ][ก-ฮ][ิีื๊็์่้๊๋][ก-ฮ]|[ก-ฮ](([ก-ฮ]((ิ)?)(([ุู])?)์)?)'"
            ]
          },
          "metadata": {
            "tags": []
          },
          "execution_count": 91
        }
      ]
    },
    {
      "cell_type": "code",
      "metadata": {
        "id": "LRBNfblnSZAb"
      },
      "source": [
        "th2=list(set(list(sre_yield.AllStrings(PAT_ETCC))))"
      ],
      "execution_count": null,
      "outputs": []
    },
    {
      "cell_type": "code",
      "metadata": {
        "id": "4nbbH5dmSbiK",
        "colab": {
          "base_uri": "https://localhost:8080/",
          "height": 34
        },
        "outputId": "5b4eaeb3-3cf5-46b5-9796-24049ef05b98"
      },
      "source": [
        "len(th2)"
      ],
      "execution_count": null,
      "outputs": [
        {
          "output_type": "execute_result",
          "data": {
            "text/plain": [
              "144394"
            ]
          },
          "metadata": {
            "tags": []
          },
          "execution_count": 93
        }
      ]
    },
    {
      "cell_type": "code",
      "metadata": {
        "id": "0rp4-WEmOkGp"
      },
      "source": [
        "with open(\"etcc.dict\",\"w\",encoding=\"utf-8\") as f:\n",
        "  f.write(\"\\n\".join(th2))"
      ],
      "execution_count": null,
      "outputs": []
    },
    {
      "cell_type": "code",
      "metadata": {
        "id": "-QLQXV4TWCq4",
        "colab": {
          "base_uri": "https://localhost:8080/",
          "height": 34
        },
        "outputId": "f86db36a-dbba-4aa2-b5dd-040f84ea0786"
      },
      "source": [
        "th2[100]"
      ],
      "execution_count": null,
      "outputs": [
        {
          "output_type": "execute_result",
          "data": {
            "text/plain": [
              "'ไค์ฃ'"
            ]
          },
          "metadata": {
            "tags": []
          },
          "execution_count": 95
        }
      ]
    },
    {
      "cell_type": "code",
      "metadata": {
        "id": "AOpr_SLHMzsu",
        "colab": {
          "base_uri": "https://localhost:8080/",
          "height": 34
        },
        "outputId": "711409f6-e091-42db-a94f-efeebcb6fe6a"
      },
      "source": [
        "\"แร\" in th2"
      ],
      "execution_count": null,
      "outputs": [
        {
          "output_type": "execute_result",
          "data": {
            "text/plain": [
              "False"
            ]
          },
          "metadata": {
            "tags": []
          },
          "execution_count": 96
        }
      ]
    },
    {
      "cell_type": "code",
      "metadata": {
        "id": "7xzWEhHWVgBV"
      },
      "source": [
        "from pythainlp.tokenize import Tokenizer,Trie"
      ],
      "execution_count": null,
      "outputs": []
    },
    {
      "cell_type": "code",
      "metadata": {
        "id": "D0WuBhT_zMqd"
      },
      "source": [
        "trie = Trie(th2)"
      ],
      "execution_count": null,
      "outputs": []
    },
    {
      "cell_type": "code",
      "metadata": {
        "id": "ffgVk9tqVq6I"
      },
      "source": [
        "cut=Tokenizer(trie, engine='longest')"
      ],
      "execution_count": null,
      "outputs": []
    },
    {
      "cell_type": "code",
      "metadata": {
        "id": "rb4TivBoVzdi",
        "colab": {
          "base_uri": "https://localhost:8080/",
          "height": 34
        },
        "outputId": "f6be7363-25c5-4bd4-989f-a35fcd30268c"
      },
      "source": [
        "cut.word_tokenize(\"เด็กแข็งแรง\")"
      ],
      "execution_count": null,
      "outputs": [
        {
          "output_type": "execute_result",
          "data": {
            "text/plain": [
              "['เด็ก', 'แข็ง', 'แร', 'ง']"
            ]
          },
          "metadata": {
            "tags": []
          },
          "execution_count": 100
        }
      ]
    },
    {
      "cell_type": "code",
      "metadata": {
        "id": "AlsepO7zLCnW"
      },
      "source": [
        "import re\n",
        "def cut_subword(listword):\n",
        "  j = len(listword)\n",
        "  i = 0\n",
        "  while True:\n",
        "    if i == j:\n",
        "      break\n",
        "    if re.search(\"[ะาๆฯๅำ]\", listword[i]) and i>0 and len(listword[i])==1:\n",
        "      listword[i-1]+=listword[i]\n",
        "      del listword[i]\n",
        "      j-=1\n",
        "    i+=1\n",
        "  return listword"
      ],
      "execution_count": null,
      "outputs": []
    },
    {
      "cell_type": "code",
      "metadata": {
        "id": "MiW0TfTiWYJD",
        "colab": {
          "base_uri": "https://localhost:8080/",
          "height": 34
        },
        "outputId": "8b37d4f7-4512-470b-c0b0-16477ad21648"
      },
      "source": [
        "cut_subword(cut.word_tokenize(\"หาเงินเพื่อเรียน\"))"
      ],
      "execution_count": null,
      "outputs": [
        {
          "output_type": "execute_result",
          "data": {
            "text/plain": [
              "['หา', 'เงิน', 'เพื่', 'อ', 'เรีย', 'น']"
            ]
          },
          "metadata": {
            "tags": []
          },
          "execution_count": 102
        }
      ]
    },
    {
      "cell_type": "code",
      "metadata": {
        "id": "b5pJZAuuWel8",
        "colab": {
          "base_uri": "https://localhost:8080/",
          "height": 34
        },
        "outputId": "d36e433f-643a-4186-f045-adceb9a45412"
      },
      "source": [
        "cut.word_tokenize(\"หนังสือ\")"
      ],
      "execution_count": null,
      "outputs": [
        {
          "output_type": "execute_result",
          "data": {
            "text/plain": [
              "['ห', 'นัง', 'สือ']"
            ]
          },
          "metadata": {
            "tags": []
          },
          "execution_count": 103
        }
      ]
    },
    {
      "cell_type": "code",
      "metadata": {
        "id": "cnzhp4XYF7zY",
        "colab": {
          "base_uri": "https://localhost:8080/",
          "height": 34
        },
        "outputId": "8ddb1d46-e53b-4b04-c19d-adc32ee854d8"
      },
      "source": [
        "cut.word_tokenize(\"เพราะเกาะ\")"
      ],
      "execution_count": null,
      "outputs": [
        {
          "output_type": "execute_result",
          "data": {
            "text/plain": [
              "['เพราะ', 'เกาะ']"
            ]
          },
          "metadata": {
            "tags": []
          },
          "execution_count": 104
        }
      ]
    },
    {
      "cell_type": "code",
      "metadata": {
        "id": "aKlCHi8AT4NP",
        "colab": {
          "base_uri": "https://localhost:8080/",
          "height": 34
        },
        "outputId": "590bb934-faa1-4a7b-d213-182e2fe0a698"
      },
      "source": [
        "cut.word_tokenize(\"แพทย์เพาะพันธุ์ยีนส์\")"
      ],
      "execution_count": null,
      "outputs": [
        {
          "output_type": "execute_result",
          "data": {
            "text/plain": [
              "['แพ', 'ท', 'ย์เพาะ', 'พันธุ์', 'ยี', 'นส์']"
            ]
          },
          "metadata": {
            "tags": []
          },
          "execution_count": 105
        }
      ]
    },
    {
      "cell_type": "code",
      "metadata": {
        "id": "lLxyqnj2hmOm",
        "colab": {
          "base_uri": "https://localhost:8080/",
          "height": 34
        },
        "outputId": "67aefa35-6913-4af0-8f65-a5b88382748c"
      },
      "source": [
        "cut_subword(cut.word_tokenize(\"ตากลม\"))"
      ],
      "execution_count": null,
      "outputs": [
        {
          "output_type": "execute_result",
          "data": {
            "text/plain": [
              "['ตา', 'ก', 'ล', 'ม']"
            ]
          },
          "metadata": {
            "tags": []
          },
          "execution_count": 106
        }
      ]
    },
    {
      "cell_type": "markdown",
      "metadata": {
        "id": "05KXHrVNjpfU"
      },
      "source": [
        "## Test"
      ]
    },
    {
      "cell_type": "code",
      "metadata": {
        "id": "L9oCGdQIi_lT"
      },
      "source": [
        ""
      ],
      "execution_count": null,
      "outputs": []
    },
    {
      "cell_type": "code",
      "metadata": {
        "id": "LGvo0C0kiZ0u",
        "colab": {
          "base_uri": "https://localhost:8080/",
          "height": 34
        },
        "outputId": "1c18eec0-d947-45eb-e722-764b250b04d5"
      },
      "source": [
        "'/'.join(cut.word_tokenize(\"หอมรดกไทย\")) # ห/อ/ม/ร/ด/ก/ไท/ย"
      ],
      "execution_count": null,
      "outputs": [
        {
          "output_type": "execute_result",
          "data": {
            "text/plain": [
              "'ห/อ/ม/ร/ด/ก/ไท/ย'"
            ]
          },
          "metadata": {
            "tags": []
          },
          "execution_count": 107
        }
      ]
    },
    {
      "cell_type": "code",
      "metadata": {
        "id": "h4aZpTzBihTv",
        "colab": {
          "base_uri": "https://localhost:8080/",
          "height": 34
        },
        "outputId": "8d73af90-67cb-497d-f191-f85f2a275878"
      },
      "source": [
        "'/'.join(cut.word_tokenize(\"เรือน้อยลอยอยู่\")) # เรือ/น้/อ/ย/ล/อ/ย/อ/ยู่"
      ],
      "execution_count": null,
      "outputs": [
        {
          "output_type": "execute_result",
          "data": {
            "text/plain": [
              "'เรือ/น้/อ/ย/ล/อ/ย/อ/ยู่'"
            ]
          },
          "metadata": {
            "tags": []
          },
          "execution_count": 108
        }
      ]
    },
    {
      "cell_type": "code",
      "metadata": {
        "id": "JVN5zzeMjBaf",
        "colab": {
          "base_uri": "https://localhost:8080/",
          "height": 34
        },
        "outputId": "6545e2a3-e3e7-43bd-f12d-dc0d8335bb52"
      },
      "source": [
        "'/'.join(cut_subword(cut.word_tokenize(\"ประสานงานกับลูกค้า\"))) # ป/ระ/สา/น/งา/น/กับ/ลู/ก/ค้า"
      ],
      "execution_count": null,
      "outputs": [
        {
          "output_type": "execute_result",
          "data": {
            "text/plain": [
              "'ป/ระ/สา/น/งา/น/กับ/ลู/ก/ค้า'"
            ]
          },
          "metadata": {
            "tags": []
          },
          "execution_count": 109
        }
      ]
    },
    {
      "cell_type": "code",
      "metadata": {
        "id": "H1R8p1sSjNj9",
        "colab": {
          "base_uri": "https://localhost:8080/",
          "height": 34
        },
        "outputId": "0d041faf-f88a-4869-d17c-6a0ba8f5b4b6"
      },
      "source": [
        "'/'.join(cut_subword(cut.word_tokenize(\"ตากลม\"))) # ตา/ก/ล/ม"
      ],
      "execution_count": null,
      "outputs": [
        {
          "output_type": "execute_result",
          "data": {
            "text/plain": [
              "'ตา/ก/ล/ม'"
            ]
          },
          "metadata": {
            "tags": []
          },
          "execution_count": 110
        }
      ]
    },
    {
      "cell_type": "code",
      "metadata": {
        "id": "oGoqP1ktjdUW",
        "colab": {
          "base_uri": "https://localhost:8080/",
          "height": 34
        },
        "outputId": "531c16ee-0e2f-40eb-8377-503c44c7d988"
      },
      "source": [
        "'/'.join(cut_subword(cut.word_tokenize(\"หาเงินเพื่อเรียน\"))) # หา/เงิน/เพื่/อ/เรีย/น"
      ],
      "execution_count": null,
      "outputs": [
        {
          "output_type": "execute_result",
          "data": {
            "text/plain": [
              "'หา/เงิน/เพื่/อ/เรีย/น'"
            ]
          },
          "metadata": {
            "tags": []
          },
          "execution_count": 111
        }
      ]
    }
  ]
}